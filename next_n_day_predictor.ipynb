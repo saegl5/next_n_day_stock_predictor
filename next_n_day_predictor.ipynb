{
 "cells": [
  {
   "cell_type": "code",
   "execution_count": 1,
   "metadata": {
    "scrolled": true
   },
   "outputs": [],
   "source": [
    "from src import attributes as a\n",
    "%load_ext autoreload\n",
    "%autoreload 2"
   ]
  },
  {
   "cell_type": "code",
   "execution_count": 2,
   "metadata": {},
   "outputs": [],
   "source": [
    "# Global Variables\n",
    "stock_name = 'msft' # ticker symbol\n",
    "train = 0 # 1 for train, 0 for pass\n",
    "days_ahead = 1 # for predicting 1, 3, or 5 days ahead\n",
    "days_back = -1 # -1 for current data point, -2 for two days ago, etc...\n",
    "cv = 5 # number of cross validation folds\n",
    "model_name = 'Random Forest Classifier' # for display on charts, not a tuning parameter"
   ]
  },
  {
   "cell_type": "code",
   "execution_count": 3,
   "metadata": {},
   "outputs": [],
   "source": [
    "# Extract, Transform, Load, and Train Test Split\n",
    "# Dictionary of IPO Dates\n",
    "start_dates = {'a': '11/15/1999' # Updated 1/17/21 1D, 3D, 5D ahead\n",
    "               , 'aapl':'12/12/1980' # Updated 1/17/21 1D, 3D, 5D ahead\n",
    "               , 'acy': '01/18/1998' # Updated 1/17/21 1D, 3D, 5D ahead\n",
    "               , 'adbe': '08/11/1986' # Updated 1/17/21 1D, 3D, 5D ahead\n",
    "               , 'alb': '02/21/1994' # Updated 1/17/21 1D, 3D, 5D ahead\n",
    "               , 'amat': '03/16/1980' # Updated 1/17/21 1D, 3D, 5D ahead\n",
    "               , 'amd': '03/17/1980' # Updated 1/17/21 1D, 3D, 5D ahead\n",
    "               , 'amzn': '05/12/1997' # Updated 1/17/21 1D, 3D, 5D ahead\n",
    "               , 'baba': '09/15/2014' # Updated 1/17/21 1D, 3D, 5D ahead\n",
    "               , 'bac': '02/19/1973' # Updated 1/17/21 1D, 3D, 5D ahead\n",
    "               , 'bpmc': '04/27/2015' # Updated 1/17/21 1D, 3D, 5D ahead\n",
    "               , 'crm': '06/23/2004' # Updated 1/17/21 1D, 3D, 5D ahead\n",
    "               , 'crsp': '10/16/2016' # Updated 1/17/21 1D, 3D, 5D ahead\n",
    "               , 'dq': '10/04/2010' # Updated 1/17/21 1D, 3D, 5D ahead\n",
    "               , 'esgv': '09/16/2018' # Updated 1/17/21 1D, 3D, 5D ahead\n",
    "               , 'fslr': '11/12/2006' # Updated 1/17/21 1D, 3D, 5D ahead\n",
    "               , 'goog': '08/16/2004' # Updated 1/17/21 1D, 3D, 5D ahead\n",
    "               , 'ibm': '01/02/1962' # Updated 1/17/21 1D, 3D, 5D ahead\n",
    "               , 'idex': '05/23/2007' # Updated 1/17/21 1D, 3D, 5D ahead\n",
    "               , 'intc': '03/16/1980' # Updated 1/17/21 1D, 3D, 5D ahead\n",
    "               , 'iyw': '05/15/2000' # Updated 1/17/21 1D, 3D, 5D ahead\n",
    "               , 'lng': '04/04/1994' # Updated 1/17/21 1D, 3D, 5D ahead\n",
    "               , 'ma': '05/21/2006' # Updated 1/17/21 1D, 3D, 5D ahead\n",
    "               , 'mdb': '10/15/2017' # Updated 1/17/21 1D, 3D, 5D ahead\n",
    "               , 'msft': '03/10/1986' # Updated 1/17/21 1D, 3D, 5D ahead\n",
    "               , 'mu': '05/28/1984' # Updated 1/17/21 1D, 3D, 5D ahead\n",
    "               , 'nee': '02/19/1973' # Updated 1/17/21 1D, 3D, 5D ahead\n",
    "               , 'nga': '10/08/2020' # Updated 1/17/21 1D, 3D, 5D ahead\n",
    "               , 'nio': '09/10/2018' # Updated 1/17/21 1D, 3D, 5D ahead\n",
    "               , 'nvda': '01/22/1999' # Updated 1/17/21 1D, 3D, 5D ahead\n",
    "               , 'pacb': '10/25/2010' # Updated 1/17/21 1D, 3D, 5D ahead\n",
    "               , 'pypl': '07/05/2015' # Updated 1/17/21 1D, 3D, 5D ahead\n",
    "               , 'qgen': '06/24/1996' # Updated 1/17/21 1D, 3D, 5D ahead\n",
    "               , 'run': '08/02/2015' # Updated 1/17/21 1D, 3D, 5D ahead\n",
    "               , 'orcl': '03/10/1986' # Updated 1/17/21 1D, 3D, 5D ahead\n",
    "               , 'qqq': '03/08/1999' # Updated 1/17/21 1D, 3D, 5D ahead\n",
    "               , 'srpt': '06/02/1997' # Updated 1/17/21 1D, 3D, 5D ahead\n",
    "               , 'tpic': '07/17/2016' # Updated 1/17/21 1D, 3D, 5D ahead\n",
    "               , 'tsla': '06/29/2010' # Updated 1/17/21 1D, 3D, 5D ahead\n",
    "               , 'v': '03/16/2008' # Updated 1/17/21 1D, 3D, 5D ahead\n",
    "               , 'vbiv': '09/04/2002' # Updated 1/17/21 1D, 3D, 5D ahead\n",
    "               , 'vbr': '01/26/2004' # Updated 1/17/21 1D, 3D, 5D ahead\n",
    "               , 'viov': '09/06/2010' # Updated 1/17/21 1D, 3D, 5D ahead\n",
    "               , 'vgt': '01/26/2004' # Updated 1/17/21 1D, 3D, 5D ahead\n",
    "               , 'xlk': '12/21/1998' # Updated 1/17/21 1D, 3D, 5D ahead\n",
    "              }"
   ]
  },
  {
   "cell_type": "code",
   "execution_count": null,
   "metadata": {},
   "outputs": [],
   "source": []
  },
  {
   "cell_type": "code",
   "execution_count": null,
   "metadata": {},
   "outputs": [],
   "source": []
  },
  {
   "cell_type": "code",
   "execution_count": null,
   "metadata": {},
   "outputs": [],
   "source": []
  },
  {
   "cell_type": "code",
   "execution_count": 4,
   "metadata": {},
   "outputs": [],
   "source": [
    "# X_train, X_test, y_train, y_test, stock_df = a.data(stock_name, start_dates[stock_name], days_ahead)\n",
    "# stock_df.tail(10)"
   ]
  },
  {
   "cell_type": "code",
   "execution_count": 5,
   "metadata": {
    "scrolled": false
   },
   "outputs": [],
   "source": [
    "# GridSerach to find best hyperparameters to prevent overfitting, can be commented out once trained\n",
    "# if train == 1:\n",
    "#     a.rfc_GridSearch(X_train, y_train, stock_name, days_ahead, cv)\n",
    "# elif train == 0:\n",
    "#     pass"
   ]
  },
  {
   "cell_type": "code",
   "execution_count": 6,
   "metadata": {},
   "outputs": [],
   "source": [
    "# Load RandomForextClassifier Model\n",
    "# rfc_model, y_pred, y_probs = a.rfc(X_train, X_test, y_train, stock_name, days_ahead)"
   ]
  },
  {
   "cell_type": "code",
   "execution_count": 7,
   "metadata": {
    "scrolled": false
   },
   "outputs": [],
   "source": [
    "# ROC Curve\n",
    "# a.roc_plot(y_test, y_probs, stock_name, model_name)"
   ]
  },
  {
   "cell_type": "code",
   "execution_count": 8,
   "metadata": {
    "scrolled": false
   },
   "outputs": [],
   "source": [
    "# Precision Recall Curve\n",
    "# a.prec_recall(y_test, y_probs, stock_name, model_name)"
   ]
  },
  {
   "cell_type": "code",
   "execution_count": 9,
   "metadata": {
    "scrolled": false
   },
   "outputs": [],
   "source": [
    "# Confusion Matrix\n",
    "# a.confusion_matrix(rfc_model, X_test, y_test, stock_name)"
   ]
  },
  {
   "cell_type": "code",
   "execution_count": 10,
   "metadata": {},
   "outputs": [],
   "source": [
    "# Cross Validation\n",
    "# a.cross_validation(rfc_model\n",
    "#                    , stock_df[['oc', 'hl', '5stdev_adj', '5sma_adj']]\n",
    "#                    , stock_df['direction']\n",
    "#                    , cv = 5\n",
    "#                   )"
   ]
  },
  {
   "cell_type": "markdown",
   "metadata": {},
   "source": [
    "### Prediction..."
   ]
  },
  {
   "cell_type": "code",
   "execution_count": 11,
   "metadata": {
    "scrolled": true
   },
   "outputs": [],
   "source": [
    "# Prediction, use last day of data\n",
    "# stock_df.iloc[-1]"
   ]
  },
  {
   "cell_type": "code",
   "execution_count": 12,
   "metadata": {},
   "outputs": [],
   "source": [
    "# import numpy as np\n",
    "# last = stock_df[['oc', 'hl', '5stdev_adj', '5sma_adj']].iloc[-days_back]\n",
    "# last"
   ]
  },
  {
   "cell_type": "code",
   "execution_count": 13,
   "metadata": {},
   "outputs": [],
   "source": [
    "# stock_df['adj'].describe()"
   ]
  },
  {
   "cell_type": "code",
   "execution_count": 14,
   "metadata": {
    "scrolled": true
   },
   "outputs": [],
   "source": [
    "# if rfc_model.predict(np.array(last).reshape(1, -1))[0] == 1:\n",
    "#     print(f'Buy {stock_name} {days_ahead} day(s) ahead')\n",
    "# else:\n",
    "#     print(f'Sell or hold {stock_name} {days_ahead} day(s) ahead')"
   ]
  },
  {
   "cell_type": "markdown",
   "metadata": {},
   "source": [
    "### Strategy Returns..."
   ]
  },
  {
   "cell_type": "code",
   "execution_count": 15,
   "metadata": {},
   "outputs": [],
   "source": [
    "# returns on strategy column\n",
    "# stock_df['prediction'] = rfc_model.predict(stock_df[['oc', 'hl', '5stdev_adj', '5sma_adj']])\n",
    "# stock_df['returns'] = stock_df['adj'].shift(-1, fill_value = stock_df['adj'].median()) * stock_df['prediction']"
   ]
  },
  {
   "cell_type": "code",
   "execution_count": 16,
   "metadata": {},
   "outputs": [],
   "source": [
    "# stock_df.tail(5)"
   ]
  },
  {
   "cell_type": "code",
   "execution_count": 17,
   "metadata": {},
   "outputs": [],
   "source": [
    "# Don't trade every day!\n",
    "# import matplotlib.pyplot as plt\n",
    "# test_length = len(y_test)\n",
    "# (stock_df['returns'][-test_length:] + 1).cumprod().plot()\n",
    "# plt.title(f'{stock_name} Expected Returns %');"
   ]
  },
  {
   "cell_type": "code",
   "execution_count": 18,
   "metadata": {},
   "outputs": [],
   "source": [
    "# Model returns if bought on predictions of 1\n",
    "# returns_on_ones = []\n",
    "# for idx in range(-test_length, 0):\n",
    "#     if stock_df['prediction'][idx] == 1:\n",
    "#         returns_on_ones.append(1 + stock_df['returns'][idx])\n",
    "\n",
    "# returns = 1\n",
    "# for x in returns_on_ones:\n",
    "#     returns *= x\n",
    "# returns"
   ]
  },
  {
   "cell_type": "code",
   "execution_count": 19,
   "metadata": {},
   "outputs": [],
   "source": [
    "# multiple times original investment, not bad but..."
   ]
  },
  {
   "cell_type": "code",
   "execution_count": 20,
   "metadata": {},
   "outputs": [],
   "source": [
    "# If purchased in 2012 and left it until now\n",
    "# test_idx = int(len(stock_df)*0.75)\n",
    "# (stock_df['Close'][-1] - stock_df['Close'][-test_idx]) / stock_df['Close'][-test_idx]"
   ]
  },
  {
   "cell_type": "code",
   "execution_count": 21,
   "metadata": {},
   "outputs": [],
   "source": [
    "# Buy and hold strategy beats RandomForestClassifier in this study\n",
    "\n",
    "# Special thanks to Shagufta Tahsildar at https://blog.quantinsti.com/random-forest-algorithm-in-python/"
   ]
  },
  {
   "cell_type": "code",
   "execution_count": null,
   "metadata": {},
   "outputs": [],
   "source": []
  },
  {
   "cell_type": "code",
   "execution_count": null,
   "metadata": {},
   "outputs": [],
   "source": []
  },
  {
   "cell_type": "code",
   "execution_count": null,
   "metadata": {},
   "outputs": [],
   "source": []
  },
  {
   "cell_type": "markdown",
   "metadata": {},
   "source": [
    "### Training"
   ]
  },
  {
   "cell_type": "markdown",
   "metadata": {},
   "source": [
    "Training is done once a week on Saturday and Sunday"
   ]
  },
  {
   "cell_type": "code",
   "execution_count": 22,
   "metadata": {},
   "outputs": [
    {
     "data": {
      "text/plain": [
       "45"
      ]
     },
     "execution_count": 22,
     "metadata": {},
     "output_type": "execute_result"
    }
   ],
   "source": [
    "len(start_dates)"
   ]
  },
  {
   "cell_type": "code",
   "execution_count": 23,
   "metadata": {},
   "outputs": [
    {
     "data": {
      "text/plain": [
       "{'a': '11/15/1999',\n",
       " 'aapl': '12/12/1980',\n",
       " 'acy': '01/18/1998',\n",
       " 'adbe': '08/11/1986',\n",
       " 'alb': '02/21/1994',\n",
       " 'amat': '03/16/1980',\n",
       " 'amd': '03/17/1980',\n",
       " 'amzn': '05/12/1997',\n",
       " 'baba': '09/15/2014',\n",
       " 'bac': '02/19/1973',\n",
       " 'bpmc': '04/27/2015',\n",
       " 'crm': '06/23/2004',\n",
       " 'crsp': '10/16/2016',\n",
       " 'dq': '10/04/2010',\n",
       " 'esgv': '09/16/2018'}"
      ]
     },
     "execution_count": 23,
     "metadata": {},
     "output_type": "execute_result"
    }
   ],
   "source": [
    "import itertools as itr\n",
    "start_dates1 = dict(itr.islice(start_dates.items(), 0, 15))\n",
    "start_dates1"
   ]
  },
  {
   "cell_type": "code",
   "execution_count": 24,
   "metadata": {},
   "outputs": [
    {
     "data": {
      "text/plain": [
       "{'fslr': '11/12/2006',\n",
       " 'goog': '08/16/2004',\n",
       " 'ibm': '01/02/1962',\n",
       " 'idex': '05/23/2007',\n",
       " 'intc': '03/16/1980',\n",
       " 'iyw': '05/15/2000',\n",
       " 'lng': '04/04/1994',\n",
       " 'ma': '05/21/2006',\n",
       " 'mdb': '10/15/2017',\n",
       " 'msft': '03/10/1986',\n",
       " 'mu': '05/28/1984',\n",
       " 'nee': '02/19/1973',\n",
       " 'nga': '10/08/2020',\n",
       " 'nio': '09/10/2018',\n",
       " 'nvda': '01/22/1999'}"
      ]
     },
     "execution_count": 24,
     "metadata": {},
     "output_type": "execute_result"
    }
   ],
   "source": [
    "start_dates2 = dict(itr.islice(start_dates.items(), 15, 30))\n",
    "start_dates2"
   ]
  },
  {
   "cell_type": "code",
   "execution_count": 25,
   "metadata": {},
   "outputs": [
    {
     "data": {
      "text/plain": [
       "{'pacb': '10/25/2010',\n",
       " 'pypl': '07/05/2015',\n",
       " 'qgen': '06/24/1996',\n",
       " 'run': '08/02/2015',\n",
       " 'orcl': '03/10/1986',\n",
       " 'qqq': '03/08/1999',\n",
       " 'srpt': '06/02/1997',\n",
       " 'tpic': '07/17/2016',\n",
       " 'tsla': '06/29/2010',\n",
       " 'v': '03/16/2008',\n",
       " 'vbiv': '09/04/2002',\n",
       " 'vbr': '01/26/2004',\n",
       " 'viov': '09/06/2010',\n",
       " 'vgt': '01/26/2004',\n",
       " 'xlk': '12/21/1998'}"
      ]
     },
     "execution_count": 25,
     "metadata": {},
     "output_type": "execute_result"
    }
   ],
   "source": [
    "start_dates3 = dict(itr.islice(start_dates.items(), 30, 45+1))\n",
    "start_dates3"
   ]
  },
  {
   "cell_type": "code",
   "execution_count": 26,
   "metadata": {},
   "outputs": [],
   "source": [
    "#Train 15 at a time!\n",
    "# stocks = [x for x in start_dates1]\n",
    "# days_ahead = [1, 3, 5]\n",
    "# cv = 5\n",
    "# for stock in stocks:\n",
    "#     for days in days_ahead:\n",
    "#         X_train, X_test, y_train, y_test, stock_df = a.data(stock, start_dates[stock], days)\n",
    "#         a.rfc_GridSearch(X_train, y_train, stock, days, cv)\n",
    "# len(stocks)\n",
    "\n",
    "# stocks = [x for x in start_dates2]\n",
    "# days_ahead = [1, 3, 5]\n",
    "# cv = 5\n",
    "# for stock in stocks:\n",
    "#     for days in days_ahead:\n",
    "#         X_train, X_test, y_train, y_test, stock_df = a.data(stock, start_dates[stock], days)\n",
    "#         a.rfc_GridSearch(X_train, y_train, stock, days, cv)\n",
    "# len(stocks)\n",
    "\n",
    "# stocks = [x for x in start_dates3]\n",
    "# days_ahead = [1, 3, 5]\n",
    "# cv = 5\n",
    "# for stock in stocks:\n",
    "#     for days in days_ahead:\n",
    "#         X_train, X_test, y_train, y_test, stock_df = a.data(stock, start_dates[stock], days)\n",
    "#         a.rfc_GridSearch(X_train, y_train, stock, days, cv)\n",
    "# len(stocks)\n",
    "\n",
    "# Train all, takes 15+ hours\n",
    "# stocks = [x for x in start_dates]\n",
    "# days_ahead = [1, 3, 5]\n",
    "# cv = 5\n",
    "# for stock in stocks:\n",
    "#     for days in days_ahead:\n",
    "#         X_train, X_test, y_train, y_test, stock_df = a.data(stock, start_dates[stock], days)\n",
    "#         a.rfc_GridSearch(X_train, y_train, stock, days, cv)\n",
    "# len(stocks)\n",
    "\n",
    "# Train desired stocks...takes less time\n",
    "# stocks = ['nga']\n",
    "# days_ahead = [1, 3, 5]\n",
    "# cv = 5\n",
    "# for stock in stocks:\n",
    "#     for days in days_ahead:\n",
    "#         X_train, X_test, y_train, y_test, stock_df = a.data(stock, start_dates[stock], days)\n",
    "#         a.rfc_GridSearch(X_train, y_train, stock, days, cv)"
   ]
  },
  {
   "cell_type": "code",
   "execution_count": null,
   "metadata": {},
   "outputs": [],
   "source": []
  },
  {
   "cell_type": "code",
   "execution_count": null,
   "metadata": {},
   "outputs": [],
   "source": []
  },
  {
   "cell_type": "code",
   "execution_count": null,
   "metadata": {},
   "outputs": [],
   "source": []
  },
  {
   "cell_type": "markdown",
   "metadata": {},
   "source": [
    "### Display All Results"
   ]
  },
  {
   "cell_type": "code",
   "execution_count": 27,
   "metadata": {
    "scrolled": false
   },
   "outputs": [
    {
     "name": "stdout",
     "output_type": "stream",
     "text": [
      "Sell or hold vbiv 5 day(s) ahead\n",
      "Model Returns (x 100 for %): 1.1108\n",
      "Stock Returns (x 100 for %): -0.8324\n"
     ]
    },
    {
     "data": {
      "image/png": "[encoded data removed]",
      "text/plain": [
       "<Figure size 432x288 with 1 Axes>"
      ]
     },
     "metadata": {},
     "output_type": "display_data"
    },
    {
     "data": {
      "image/png": "[encoded data removed]",
      "text/plain": [
       "<Figure size 648x504 with 1 Axes>"
      ]
     },
     "metadata": {},
     "output_type": "display_data"
    },
    {
     "data": {
      "image/png": "[encoded data removed]",
      "text/plain": [
       "<Figure size 648x504 with 1 Axes>"
      ]
     },
     "metadata": {},
     "output_type": "display_data"
    },
    {
     "data": {
      "image/png": "[encoded data removed]",
      "text/plain": [
       "<Figure size 684x612 with 2 Axes>"
      ]
     },
     "metadata": {},
     "output_type": "display_data"
    }
   ],
   "source": [
    "stock_name = 'vbiv'\n",
    "a.all_func(stock_name\n",
    "           , start_dates[stock_name]\n",
    "           , days_ahead = 5\n",
    "           , model_name = model_name\n",
    "           , days_back = 1\n",
    "          )"
   ]
  },
  {
   "cell_type": "code",
   "execution_count": null,
   "metadata": {},
   "outputs": [],
   "source": []
  },
  {
   "cell_type": "code",
   "execution_count": null,
   "metadata": {},
   "outputs": [],
   "source": []
  },
  {
   "cell_type": "code",
   "execution_count": null,
   "metadata": {},
   "outputs": [],
   "source": []
  },
  {
   "cell_type": "markdown",
   "metadata": {},
   "source": [
    "### Data Frame of Predictions 1 3 5 Days"
   ]
  },
  {
   "cell_type": "code",
   "execution_count": 28,
   "metadata": {},
   "outputs": [
    {
     "name": "stdout",
     "output_type": "stream",
     "text": [
      "Today's date: 2021-01-25\n"
     ]
    }
   ],
   "source": [
    "from datetime import date\n",
    "\n",
    "today = date.today()\n",
    "print(\"Today's date:\", today)"
   ]
  },
  {
   "cell_type": "code",
   "execution_count": 29,
   "metadata": {
    "scrolled": false
   },
   "outputs": [
    {
     "data": {
      "text/html": [
       "<div>\n",
       "<style scoped>\n",
       "    .dataframe tbody tr th:only-of-type {\n",
       "        vertical-align: middle;\n",
       "    }\n",
       "\n",
       "    .dataframe tbody tr th {\n",
       "        vertical-align: top;\n",
       "    }\n",
       "\n",
       "    .dataframe thead th {\n",
       "        text-align: right;\n",
       "    }\n",
       "</style>\n",
       "<table border=\"1\" class=\"dataframe\">\n",
       "  <thead>\n",
       "    <tr style=\"text-align: right;\">\n",
       "      <th></th>\n",
       "      <th>stock</th>\n",
       "      <th>1_Day_Pred</th>\n",
       "      <th>1_Day_Model_Return</th>\n",
       "      <th>3_Day_Pred</th>\n",
       "      <th>3_Day_Model_Return</th>\n",
       "      <th>5_Day_Pred</th>\n",
       "      <th>5_Day_Model_Return</th>\n",
       "      <th>Actual_Returns</th>\n",
       "    </tr>\n",
       "  </thead>\n",
       "  <tbody>\n",
       "    <tr>\n",
       "      <th>0</th>\n",
       "      <td>a</td>\n",
       "      <td>Buy</td>\n",
       "      <td>3.7973</td>\n",
       "      <td>Buy</td>\n",
       "      <td>3.5932</td>\n",
       "      <td>Buy</td>\n",
       "      <td>3.7684</td>\n",
       "      <td>6.7644</td>\n",
       "    </tr>\n",
       "    <tr>\n",
       "      <th>1</th>\n",
       "      <td>aapl</td>\n",
       "      <td>Buy</td>\n",
       "      <td>3.4720</td>\n",
       "      <td>Buy</td>\n",
       "      <td>3.4134</td>\n",
       "      <td>Hold or Sell</td>\n",
       "      <td>4.2991</td>\n",
       "      <td>361.7022</td>\n",
       "    </tr>\n",
       "    <tr>\n",
       "      <th>2</th>\n",
       "      <td>acy</td>\n",
       "      <td>Buy</td>\n",
       "      <td>0.4496</td>\n",
       "      <td>Buy</td>\n",
       "      <td>0.6380</td>\n",
       "      <td>Buy</td>\n",
       "      <td>0.7078</td>\n",
       "      <td>1.3229</td>\n",
       "    </tr>\n",
       "    <tr>\n",
       "      <th>3</th>\n",
       "      <td>adbe</td>\n",
       "      <td>Buy</td>\n",
       "      <td>9.1065</td>\n",
       "      <td>Buy</td>\n",
       "      <td>6.1030</td>\n",
       "      <td>Buy</td>\n",
       "      <td>6.9265</td>\n",
       "      <td>103.9089</td>\n",
       "    </tr>\n",
       "    <tr>\n",
       "      <th>4</th>\n",
       "      <td>alb</td>\n",
       "      <td>Hold or Sell</td>\n",
       "      <td>2.1817</td>\n",
       "      <td>Hold or Sell</td>\n",
       "      <td>2.2199</td>\n",
       "      <td>Hold or Sell</td>\n",
       "      <td>2.1318</td>\n",
       "      <td>15.3981</td>\n",
       "    </tr>\n",
       "    <tr>\n",
       "      <th>5</th>\n",
       "      <td>amat</td>\n",
       "      <td>Hold or Sell</td>\n",
       "      <td>6.9249</td>\n",
       "      <td>Hold or Sell</td>\n",
       "      <td>7.8675</td>\n",
       "      <td>Hold or Sell</td>\n",
       "      <td>9.1921</td>\n",
       "      <td>184.1448</td>\n",
       "    </tr>\n",
       "    <tr>\n",
       "      <th>6</th>\n",
       "      <td>amd</td>\n",
       "      <td>Hold or Sell</td>\n",
       "      <td>6.9570</td>\n",
       "      <td>Hold or Sell</td>\n",
       "      <td>11.8268</td>\n",
       "      <td>Hold or Sell</td>\n",
       "      <td>9.4096</td>\n",
       "      <td>16.8971</td>\n",
       "    </tr>\n",
       "    <tr>\n",
       "      <th>7</th>\n",
       "      <td>amzn</td>\n",
       "      <td>Buy</td>\n",
       "      <td>3.1775</td>\n",
       "      <td>Buy</td>\n",
       "      <td>4.6386</td>\n",
       "      <td>Buy</td>\n",
       "      <td>4.1466</td>\n",
       "      <td>112.1872</td>\n",
       "    </tr>\n",
       "    <tr>\n",
       "      <th>8</th>\n",
       "      <td>baba</td>\n",
       "      <td>Buy</td>\n",
       "      <td>1.3867</td>\n",
       "      <td>Hold or Sell</td>\n",
       "      <td>1.0898</td>\n",
       "      <td>Buy</td>\n",
       "      <td>1.0233</td>\n",
       "      <td>2.4165</td>\n",
       "    </tr>\n",
       "    <tr>\n",
       "      <th>9</th>\n",
       "      <td>bac</td>\n",
       "      <td>Buy</td>\n",
       "      <td>2.6496</td>\n",
       "      <td>Buy</td>\n",
       "      <td>2.0365</td>\n",
       "      <td>Buy</td>\n",
       "      <td>4.4858</td>\n",
       "      <td>5.9198</td>\n",
       "    </tr>\n",
       "    <tr>\n",
       "      <th>10</th>\n",
       "      <td>bpmc</td>\n",
       "      <td>Hold or Sell</td>\n",
       "      <td>2.1104</td>\n",
       "      <td>Hold or Sell</td>\n",
       "      <td>1.3234</td>\n",
       "      <td>Hold or Sell</td>\n",
       "      <td>1.5468</td>\n",
       "      <td>2.5849</td>\n",
       "    </tr>\n",
       "    <tr>\n",
       "      <th>11</th>\n",
       "      <td>crm</td>\n",
       "      <td>Buy</td>\n",
       "      <td>2.5400</td>\n",
       "      <td>Buy</td>\n",
       "      <td>2.4156</td>\n",
       "      <td>Buy</td>\n",
       "      <td>2.3646</td>\n",
       "      <td>12.7982</td>\n",
       "    </tr>\n",
       "    <tr>\n",
       "      <th>12</th>\n",
       "      <td>crsp</td>\n",
       "      <td>Buy</td>\n",
       "      <td>1.2507</td>\n",
       "      <td>Buy</td>\n",
       "      <td>0.6396</td>\n",
       "      <td>Buy</td>\n",
       "      <td>0.9348</td>\n",
       "      <td>8.8176</td>\n",
       "    </tr>\n",
       "    <tr>\n",
       "      <th>13</th>\n",
       "      <td>dq</td>\n",
       "      <td>Buy</td>\n",
       "      <td>5.5187</td>\n",
       "      <td>Buy</td>\n",
       "      <td>9.2250</td>\n",
       "      <td>Buy</td>\n",
       "      <td>10.6643</td>\n",
       "      <td>78.5294</td>\n",
       "    </tr>\n",
       "    <tr>\n",
       "      <th>14</th>\n",
       "      <td>esgv</td>\n",
       "      <td>Buy</td>\n",
       "      <td>1.1727</td>\n",
       "      <td>Buy</td>\n",
       "      <td>1.1354</td>\n",
       "      <td>Buy</td>\n",
       "      <td>1.1572</td>\n",
       "      <td>0.4233</td>\n",
       "    </tr>\n",
       "    <tr>\n",
       "      <th>15</th>\n",
       "      <td>fslr</td>\n",
       "      <td>Buy</td>\n",
       "      <td>2.6429</td>\n",
       "      <td>Buy</td>\n",
       "      <td>2.6950</td>\n",
       "      <td>Buy</td>\n",
       "      <td>2.1974</td>\n",
       "      <td>-0.0303</td>\n",
       "    </tr>\n",
       "    <tr>\n",
       "      <th>16</th>\n",
       "      <td>goog</td>\n",
       "      <td>Buy</td>\n",
       "      <td>2.3564</td>\n",
       "      <td>Buy</td>\n",
       "      <td>2.0879</td>\n",
       "      <td>Buy</td>\n",
       "      <td>2.7037</td>\n",
       "      <td>8.6884</td>\n",
       "    </tr>\n",
       "    <tr>\n",
       "      <th>17</th>\n",
       "      <td>ibm</td>\n",
       "      <td>Buy</td>\n",
       "      <td>2.5846</td>\n",
       "      <td>Buy</td>\n",
       "      <td>3.7096</td>\n",
       "      <td>Buy</td>\n",
       "      <td>3.1736</td>\n",
       "      <td>6.1447</td>\n",
       "    </tr>\n",
       "    <tr>\n",
       "      <th>18</th>\n",
       "      <td>idex</td>\n",
       "      <td>Hold or Sell</td>\n",
       "      <td>0.2995</td>\n",
       "      <td>Buy</td>\n",
       "      <td>0.1900</td>\n",
       "      <td>Buy</td>\n",
       "      <td>0.1263</td>\n",
       "      <td>0.0160</td>\n",
       "    </tr>\n",
       "    <tr>\n",
       "      <th>19</th>\n",
       "      <td>intc</td>\n",
       "      <td>Buy</td>\n",
       "      <td>5.3531</td>\n",
       "      <td>Buy</td>\n",
       "      <td>5.8276</td>\n",
       "      <td>Buy</td>\n",
       "      <td>6.2017</td>\n",
       "      <td>35.6756</td>\n",
       "    </tr>\n",
       "    <tr>\n",
       "      <th>20</th>\n",
       "      <td>iyw</td>\n",
       "      <td>Hold or Sell</td>\n",
       "      <td>3.1300</td>\n",
       "      <td>Buy</td>\n",
       "      <td>3.7414</td>\n",
       "      <td>Buy</td>\n",
       "      <td>3.3100</td>\n",
       "      <td>6.3105</td>\n",
       "    </tr>\n",
       "    <tr>\n",
       "      <th>21</th>\n",
       "      <td>lng</td>\n",
       "      <td>Buy</td>\n",
       "      <td>1.1356</td>\n",
       "      <td>Buy</td>\n",
       "      <td>0.8518</td>\n",
       "      <td>Buy</td>\n",
       "      <td>0.9482</td>\n",
       "      <td>45.1007</td>\n",
       "    </tr>\n",
       "    <tr>\n",
       "      <th>22</th>\n",
       "      <td>ma</td>\n",
       "      <td>Hold or Sell</td>\n",
       "      <td>2.6095</td>\n",
       "      <td>Hold or Sell</td>\n",
       "      <td>2.4823</td>\n",
       "      <td>Hold or Sell</td>\n",
       "      <td>2.5183</td>\n",
       "      <td>11.9315</td>\n",
       "    </tr>\n",
       "    <tr>\n",
       "      <th>23</th>\n",
       "      <td>mdb</td>\n",
       "      <td>Buy</td>\n",
       "      <td>0.9793</td>\n",
       "      <td>Buy</td>\n",
       "      <td>1.0802</td>\n",
       "      <td>Buy</td>\n",
       "      <td>1.0488</td>\n",
       "      <td>4.6625</td>\n",
       "    </tr>\n",
       "    <tr>\n",
       "      <th>24</th>\n",
       "      <td>msft</td>\n",
       "      <td>Buy</td>\n",
       "      <td>6.9435</td>\n",
       "      <td>Buy</td>\n",
       "      <td>7.4878</td>\n",
       "      <td>Buy</td>\n",
       "      <td>7.7609</td>\n",
       "      <td>58.2438</td>\n",
       "    </tr>\n",
       "    <tr>\n",
       "      <th>25</th>\n",
       "      <td>mu</td>\n",
       "      <td>Buy</td>\n",
       "      <td>2.7674</td>\n",
       "      <td>Buy</td>\n",
       "      <td>2.9843</td>\n",
       "      <td>Buy</td>\n",
       "      <td>2.2166</td>\n",
       "      <td>16.7137</td>\n",
       "    </tr>\n",
       "    <tr>\n",
       "      <th>26</th>\n",
       "      <td>nee</td>\n",
       "      <td>Hold or Sell</td>\n",
       "      <td>5.1585</td>\n",
       "      <td>Hold or Sell</td>\n",
       "      <td>4.8251</td>\n",
       "      <td>Hold or Sell</td>\n",
       "      <td>5.5621</td>\n",
       "      <td>30.5691</td>\n",
       "    </tr>\n",
       "    <tr>\n",
       "      <th>27</th>\n",
       "      <td>nga</td>\n",
       "      <td>Hold or Sell</td>\n",
       "      <td>1.4613</td>\n",
       "      <td>Buy</td>\n",
       "      <td>1.0600</td>\n",
       "      <td>Buy</td>\n",
       "      <td>1.2285</td>\n",
       "      <td>1.6949</td>\n",
       "    </tr>\n",
       "    <tr>\n",
       "      <th>28</th>\n",
       "      <td>nio</td>\n",
       "      <td>Buy</td>\n",
       "      <td>2.0508</td>\n",
       "      <td>Buy</td>\n",
       "      <td>1.7747</td>\n",
       "      <td>Buy</td>\n",
       "      <td>2.5912</td>\n",
       "      <td>10.9120</td>\n",
       "    </tr>\n",
       "    <tr>\n",
       "      <th>29</th>\n",
       "      <td>nvda</td>\n",
       "      <td>Buy</td>\n",
       "      <td>10.9243</td>\n",
       "      <td>Buy</td>\n",
       "      <td>7.8739</td>\n",
       "      <td>Buy</td>\n",
       "      <td>16.7076</td>\n",
       "      <td>108.7412</td>\n",
       "    </tr>\n",
       "    <tr>\n",
       "      <th>30</th>\n",
       "      <td>pacb</td>\n",
       "      <td>Buy</td>\n",
       "      <td>2.0766</td>\n",
       "      <td>Buy</td>\n",
       "      <td>1.9072</td>\n",
       "      <td>Buy</td>\n",
       "      <td>3.8761</td>\n",
       "      <td>12.6617</td>\n",
       "    </tr>\n",
       "    <tr>\n",
       "      <th>31</th>\n",
       "      <td>pypl</td>\n",
       "      <td>Buy</td>\n",
       "      <td>2.3467</td>\n",
       "      <td>Buy</td>\n",
       "      <td>2.5620</td>\n",
       "      <td>Buy</td>\n",
       "      <td>2.2201</td>\n",
       "      <td>5.1532</td>\n",
       "    </tr>\n",
       "    <tr>\n",
       "      <th>32</th>\n",
       "      <td>qgen</td>\n",
       "      <td>Buy</td>\n",
       "      <td>1.8703</td>\n",
       "      <td>Hold or Sell</td>\n",
       "      <td>1.9844</td>\n",
       "      <td>Buy</td>\n",
       "      <td>2.4612</td>\n",
       "      <td>7.2942</td>\n",
       "    </tr>\n",
       "    <tr>\n",
       "      <th>33</th>\n",
       "      <td>run</td>\n",
       "      <td>Buy</td>\n",
       "      <td>1.5069</td>\n",
       "      <td>Buy</td>\n",
       "      <td>1.0392</td>\n",
       "      <td>Buy</td>\n",
       "      <td>1.4138</td>\n",
       "      <td>13.1591</td>\n",
       "    </tr>\n",
       "    <tr>\n",
       "      <th>34</th>\n",
       "      <td>orcl</td>\n",
       "      <td>Hold or Sell</td>\n",
       "      <td>2.6947</td>\n",
       "      <td>Hold or Sell</td>\n",
       "      <td>3.0355</td>\n",
       "      <td>Hold or Sell</td>\n",
       "      <td>2.5887</td>\n",
       "      <td>30.4939</td>\n",
       "    </tr>\n",
       "    <tr>\n",
       "      <th>35</th>\n",
       "      <td>qqq</td>\n",
       "      <td>Buy</td>\n",
       "      <td>2.6215</td>\n",
       "      <td>Buy</td>\n",
       "      <td>3.3317</td>\n",
       "      <td>Buy</td>\n",
       "      <td>2.6195</td>\n",
       "      <td>8.4787</td>\n",
       "    </tr>\n",
       "    <tr>\n",
       "      <th>36</th>\n",
       "      <td>srpt</td>\n",
       "      <td>Buy</td>\n",
       "      <td>1.8873</td>\n",
       "      <td>Buy</td>\n",
       "      <td>2.0088</td>\n",
       "      <td>Buy</td>\n",
       "      <td>2.4267</td>\n",
       "      <td>1.6287</td>\n",
       "    </tr>\n",
       "    <tr>\n",
       "      <th>37</th>\n",
       "      <td>tpic</td>\n",
       "      <td>Buy</td>\n",
       "      <td>1.3988</td>\n",
       "      <td>Buy</td>\n",
       "      <td>2.0202</td>\n",
       "      <td>Buy</td>\n",
       "      <td>1.6051</td>\n",
       "      <td>2.3463</td>\n",
       "    </tr>\n",
       "    <tr>\n",
       "      <th>38</th>\n",
       "      <td>tsla</td>\n",
       "      <td>Hold or Sell</td>\n",
       "      <td>4.3169</td>\n",
       "      <td>Hold or Sell</td>\n",
       "      <td>2.2340</td>\n",
       "      <td>Hold or Sell</td>\n",
       "      <td>3.4367</td>\n",
       "      <td>122.5662</td>\n",
       "    </tr>\n",
       "    <tr>\n",
       "      <th>39</th>\n",
       "      <td>v</td>\n",
       "      <td>Hold or Sell</td>\n",
       "      <td>2.7839</td>\n",
       "      <td>Hold or Sell</td>\n",
       "      <td>2.4167</td>\n",
       "      <td>Buy</td>\n",
       "      <td>2.5769</td>\n",
       "      <td>9.4943</td>\n",
       "    </tr>\n",
       "    <tr>\n",
       "      <th>40</th>\n",
       "      <td>vbiv</td>\n",
       "      <td>Hold or Sell</td>\n",
       "      <td>0.6080</td>\n",
       "      <td>Hold or Sell</td>\n",
       "      <td>1.9556</td>\n",
       "      <td>Hold or Sell</td>\n",
       "      <td>1.5307</td>\n",
       "      <td>-0.8330</td>\n",
       "    </tr>\n",
       "    <tr>\n",
       "      <th>41</th>\n",
       "      <td>vbr</td>\n",
       "      <td>Buy</td>\n",
       "      <td>1.3676</td>\n",
       "      <td>Buy</td>\n",
       "      <td>1.2004</td>\n",
       "      <td>Buy</td>\n",
       "      <td>1.5863</td>\n",
       "      <td>1.3426</td>\n",
       "    </tr>\n",
       "    <tr>\n",
       "      <th>42</th>\n",
       "      <td>viov</td>\n",
       "      <td>Buy</td>\n",
       "      <td>1.2670</td>\n",
       "      <td>Buy</td>\n",
       "      <td>1.0147</td>\n",
       "      <td>Buy</td>\n",
       "      <td>1.1765</td>\n",
       "      <td>1.0599</td>\n",
       "    </tr>\n",
       "    <tr>\n",
       "      <th>43</th>\n",
       "      <td>vgt</td>\n",
       "      <td>Buy</td>\n",
       "      <td>3.0801</td>\n",
       "      <td>Buy</td>\n",
       "      <td>4.0703</td>\n",
       "      <td>Buy</td>\n",
       "      <td>3.3012</td>\n",
       "      <td>5.3932</td>\n",
       "    </tr>\n",
       "    <tr>\n",
       "      <th>44</th>\n",
       "      <td>xlk</td>\n",
       "      <td>Buy</td>\n",
       "      <td>3.5439</td>\n",
       "      <td>Hold or Sell</td>\n",
       "      <td>4.3837</td>\n",
       "      <td>Buy</td>\n",
       "      <td>4.2718</td>\n",
       "      <td>5.8360</td>\n",
       "    </tr>\n",
       "  </tbody>\n",
       "</table>\n",
       "</div>"
      ],
      "text/plain": [
       "   stock    1_Day_Pred  1_Day_Model_Return    3_Day_Pred  3_Day_Model_Return  \\\n",
       "0      a           Buy              3.7973           Buy              3.5932   \n",
       "1   aapl           Buy              3.4720           Buy              3.4134   \n",
       "2    acy           Buy              0.4496           Buy              0.6380   \n",
       "3   adbe           Buy              9.1065           Buy              6.1030   \n",
       "4    alb  Hold or Sell              2.1817  Hold or Sell              2.2199   \n",
       "5   amat  Hold or Sell              6.9249  Hold or Sell              7.8675   \n",
       "6    amd  Hold or Sell              6.9570  Hold or Sell             11.8268   \n",
       "7   amzn           Buy              3.1775           Buy              4.6386   \n",
       "8   baba           Buy              1.3867  Hold or Sell              1.0898   \n",
       "9    bac           Buy              2.6496           Buy              2.0365   \n",
       "10  bpmc  Hold or Sell              2.1104  Hold or Sell              1.3234   \n",
       "11   crm           Buy              2.5400           Buy              2.4156   \n",
       "12  crsp           Buy              1.2507           Buy              0.6396   \n",
       "13    dq           Buy              5.5187           Buy              9.2250   \n",
       "14  esgv           Buy              1.1727           Buy              1.1354   \n",
       "15  fslr           Buy              2.6429           Buy              2.6950   \n",
       "16  goog           Buy              2.3564           Buy              2.0879   \n",
       "17   ibm           Buy              2.5846           Buy              3.7096   \n",
       "18  idex  Hold or Sell              0.2995           Buy              0.1900   \n",
       "19  intc           Buy              5.3531           Buy              5.8276   \n",
       "20   iyw  Hold or Sell              3.1300           Buy              3.7414   \n",
       "21   lng           Buy              1.1356           Buy              0.8518   \n",
       "22    ma  Hold or Sell              2.6095  Hold or Sell              2.4823   \n",
       "23   mdb           Buy              0.9793           Buy              1.0802   \n",
       "24  msft           Buy              6.9435           Buy              7.4878   \n",
       "25    mu           Buy              2.7674           Buy              2.9843   \n",
       "26   nee  Hold or Sell              5.1585  Hold or Sell              4.8251   \n",
       "27   nga  Hold or Sell              1.4613           Buy              1.0600   \n",
       "28   nio           Buy              2.0508           Buy              1.7747   \n",
       "29  nvda           Buy             10.9243           Buy              7.8739   \n",
       "30  pacb           Buy              2.0766           Buy              1.9072   \n",
       "31  pypl           Buy              2.3467           Buy              2.5620   \n",
       "32  qgen           Buy              1.8703  Hold or Sell              1.9844   \n",
       "33   run           Buy              1.5069           Buy              1.0392   \n",
       "34  orcl  Hold or Sell              2.6947  Hold or Sell              3.0355   \n",
       "35   qqq           Buy              2.6215           Buy              3.3317   \n",
       "36  srpt           Buy              1.8873           Buy              2.0088   \n",
       "37  tpic           Buy              1.3988           Buy              2.0202   \n",
       "38  tsla  Hold or Sell              4.3169  Hold or Sell              2.2340   \n",
       "39     v  Hold or Sell              2.7839  Hold or Sell              2.4167   \n",
       "40  vbiv  Hold or Sell              0.6080  Hold or Sell              1.9556   \n",
       "41   vbr           Buy              1.3676           Buy              1.2004   \n",
       "42  viov           Buy              1.2670           Buy              1.0147   \n",
       "43   vgt           Buy              3.0801           Buy              4.0703   \n",
       "44   xlk           Buy              3.5439  Hold or Sell              4.3837   \n",
       "\n",
       "      5_Day_Pred  5_Day_Model_Return  Actual_Returns  \n",
       "0            Buy              3.7684          6.7644  \n",
       "1   Hold or Sell              4.2991        361.7022  \n",
       "2            Buy              0.7078          1.3229  \n",
       "3            Buy              6.9265        103.9089  \n",
       "4   Hold or Sell              2.1318         15.3981  \n",
       "5   Hold or Sell              9.1921        184.1448  \n",
       "6   Hold or Sell              9.4096         16.8971  \n",
       "7            Buy              4.1466        112.1872  \n",
       "8            Buy              1.0233          2.4165  \n",
       "9            Buy              4.4858          5.9198  \n",
       "10  Hold or Sell              1.5468          2.5849  \n",
       "11           Buy              2.3646         12.7982  \n",
       "12           Buy              0.9348          8.8176  \n",
       "13           Buy             10.6643         78.5294  \n",
       "14           Buy              1.1572          0.4233  \n",
       "15           Buy              2.1974         -0.0303  \n",
       "16           Buy              2.7037          8.6884  \n",
       "17           Buy              3.1736          6.1447  \n",
       "18           Buy              0.1263          0.0160  \n",
       "19           Buy              6.2017         35.6756  \n",
       "20           Buy              3.3100          6.3105  \n",
       "21           Buy              0.9482         45.1007  \n",
       "22  Hold or Sell              2.5183         11.9315  \n",
       "23           Buy              1.0488          4.6625  \n",
       "24           Buy              7.7609         58.2438  \n",
       "25           Buy              2.2166         16.7137  \n",
       "26  Hold or Sell              5.5621         30.5691  \n",
       "27           Buy              1.2285          1.6949  \n",
       "28           Buy              2.5912         10.9120  \n",
       "29           Buy             16.7076        108.7412  \n",
       "30           Buy              3.8761         12.6617  \n",
       "31           Buy              2.2201          5.1532  \n",
       "32           Buy              2.4612          7.2942  \n",
       "33           Buy              1.4138         13.1591  \n",
       "34  Hold or Sell              2.5887         30.4939  \n",
       "35           Buy              2.6195          8.4787  \n",
       "36           Buy              2.4267          1.6287  \n",
       "37           Buy              1.6051          2.3463  \n",
       "38  Hold or Sell              3.4367        122.5662  \n",
       "39           Buy              2.5769          9.4943  \n",
       "40  Hold or Sell              1.5307         -0.8330  \n",
       "41           Buy              1.5863          1.3426  \n",
       "42           Buy              1.1765          1.0599  \n",
       "43           Buy              3.3012          5.3932  \n",
       "44           Buy              4.2718          5.8360  "
      ]
     },
     "execution_count": 29,
     "metadata": {},
     "output_type": "execute_result"
    }
   ],
   "source": [
    "summary_df = a.pred_summary_df(start_dates, stocks = [x for x in start_dates], days_back = 1)\n",
    "summary_df"
   ]
  },
  {
   "cell_type": "code",
   "execution_count": 30,
   "metadata": {},
   "outputs": [
    {
     "data": {
      "text/plain": [
       "(2.5846, 2.4156, 2.5769, 8.6884)"
      ]
     },
     "execution_count": 30,
     "metadata": {},
     "output_type": "execute_result"
    }
   ],
   "source": [
    "summary_df['1_Day_Model_Return'].median(), summary_df['3_Day_Model_Return'].median(), summary_df['5_Day_Model_Return'].median(), summary_df['Actual_Returns'].median()"
   ]
  },
  {
   "cell_type": "code",
   "execution_count": null,
   "metadata": {},
   "outputs": [],
   "source": []
  },
  {
   "cell_type": "code",
   "execution_count": null,
   "metadata": {},
   "outputs": [],
   "source": []
  },
  {
   "cell_type": "code",
   "execution_count": null,
   "metadata": {},
   "outputs": [],
   "source": []
  },
  {
   "cell_type": "code",
   "execution_count": null,
   "metadata": {},
   "outputs": [],
   "source": []
  }
 ],
 "metadata": {
  "kernelspec": {
   "display_name": "Python 3",
   "language": "python",
   "name": "python3"
  },
  "language_info": {
   "codemirror_mode": {
    "name": "ipython",
    "version": 3
   },
   "file_extension": ".py",
   "mimetype": "text/x-python",
   "name": "python",
   "nbconvert_exporter": "python",
   "pygments_lexer": "ipython3",
   "version": "3.8.5"
  }
 },
 "nbformat": 4,
 "nbformat_minor": 4
}
