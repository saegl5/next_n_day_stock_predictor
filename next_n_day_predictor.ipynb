{
 "cells": [
  {
   "cell_type": "code",
   "execution_count": 1,
   "metadata": {
    "scrolled": true
   },
   "outputs": [],
   "source": [
    "from src import attributes as a\n",
    "%load_ext autoreload\n",
    "%autoreload 2"
   ]
  },
  {
   "cell_type": "code",
   "execution_count": 2,
   "metadata": {},
   "outputs": [],
   "source": [
    "# Global Variables\n",
    "stock_name = 'msft' # ticker symbol\n",
    "train = 0 # 1 for train, 0 for pass\n",
    "days_ahead = 1 # for predicting 1, 3, or 5 days ahead\n",
    "days_back = -1 # -1 for current data point, -2 for two days ago, etc...\n",
    "cv = 5 # number of cross validation folds\n",
    "model_name = 'Random Forest Classifier' # for display on charts, not a tuning parameter"
   ]
  },
  {
   "cell_type": "code",
   "execution_count": 3,
   "metadata": {},
   "outputs": [],
   "source": [
    "# Extract, Transform, Load, and Train Test Split\n",
    "# Dictionary of IPO Dates\n",
    "start_dates = {'a': '11/15/1999' # Updated 1/17/21 1D, 3D, 5D ahead\n",
    "               , 'aapl':'12/12/1980' # Updated 1/17/21 1D, 3D, 5D ahead\n",
    "               , 'acy': '01/18/1998' # Updated 1/17/21 1D, 3D, 5D ahead\n",
    "               , 'adbe': '08/11/1986' # Updated 1/17/21 1D, 3D, 5D ahead\n",
    "               , 'alb': '02/21/1994' # Updated 1/17/21 1D, 3D, 5D ahead\n",
    "               , 'amat': '03/16/1980' # Updated 1/17/21 1D, 3D, 5D ahead\n",
    "               , 'amd': '03/17/1980' # Updated 1/17/21 1D, 3D, 5D ahead\n",
    "               , 'amzn': '05/12/1997' # Updated 1/17/21 1D, 3D, 5D ahead\n",
    "               , 'baba': '09/15/2014' # Updated 1/17/21 1D, 3D, 5D ahead\n",
    "               , 'bac': '02/19/1973' # Updated 1/17/21 1D, 3D, 5D ahead\n",
    "               , 'bpmc': '04/27/2015' # Updated 1/17/21 1D, 3D, 5D ahead\n",
    "               , 'crm': '06/23/2004' # Updated 1/17/21 1D, 3D, 5D ahead\n",
    "               , 'crsp': '10/16/2016' # Updated 1/17/21 1D, 3D, 5D ahead\n",
    "               , 'dq': '10/04/2010' # Updated 1/17/21 1D, 3D, 5D ahead\n",
    "               , 'esgv': '09/16/2018' # Updated 1/17/21 1D, 3D, 5D ahead\n",
    "               , 'fslr': '11/12/2006' # Updated 1/17/21 1D, 3D, 5D ahead\n",
    "               , 'goog': '08/16/2004' # Updated 1/17/21 1D, 3D, 5D ahead\n",
    "               , 'ibm': '01/02/1962' # Updated 1/17/21 1D, 3D, 5D ahead\n",
    "               , 'idex': '05/23/2007' # Updated 1/17/21 1D, 3D, 5D ahead\n",
    "               , 'intc': '03/16/1980' # Updated 1/17/21 1D, 3D, 5D ahead\n",
    "               , 'iyw': '05/15/2000' # Updated 1/17/21 1D, 3D, 5D ahead\n",
    "               , 'lng': '04/04/1994' # Updated 1/17/21 1D, 3D, 5D ahead\n",
    "               , 'ma': '05/21/2006' # Updated 1/17/21 1D, 3D, 5D ahead\n",
    "               , 'mdb': '10/15/2017' # Updated 1/17/21 1D, 3D, 5D ahead\n",
    "               , 'msft': '03/10/1986' # Updated 1/17/21 1D, 3D, 5D ahead\n",
    "               , 'mu': '05/28/1984' # Updated 1/17/21 1D, 3D, 5D ahead\n",
    "               , 'nee': '02/19/1973' # Updated 1/17/21 1D, 3D, 5D ahead\n",
    "               , 'nga': '10/08/2020' # Updated 1/17/21 1D, 3D, 5D ahead\n",
    "               , 'nio': '09/10/2018' # Updated 1/17/21 1D, 3D, 5D ahead\n",
    "               , 'nvda': '01/22/1999' # Updated 1/17/21 1D, 3D, 5D ahead\n",
    "               , 'pacb': '10/25/2010' # Updated 1/17/21 1D, 3D, 5D ahead\n",
    "               , 'pypl': '07/05/2015' # Updated 1/17/21 1D, 3D, 5D ahead\n",
    "               , 'qgen': '06/24/1996' # Updated 1/17/21 1D, 3D, 5D ahead\n",
    "               , 'run': '08/02/2015' # Updated 1/17/21 1D, 3D, 5D ahead\n",
    "               , 'orcl': '03/10/1986' # Updated 1/17/21 1D, 3D, 5D ahead\n",
    "               , 'qqq': '03/08/1999' # Updated 1/17/21 1D, 3D, 5D ahead\n",
    "               , 'srpt': '06/02/1997' # Updated 1/17/21 1D, 3D, 5D ahead\n",
    "               , 'tpic': '07/17/2016' # Updated 1/17/21 1D, 3D, 5D ahead\n",
    "               , 'tsla': '06/29/2010' # Updated 1/17/21 1D, 3D, 5D ahead\n",
    "               , 'v': '03/16/2008' # Updated 1/17/21 1D, 3D, 5D ahead\n",
    "               , 'vbiv': '09/04/2002' # Updated 1/17/21 1D, 3D, 5D ahead\n",
    "               , 'vbr': '01/26/2004' # Updated 1/17/21 1D, 3D, 5D ahead\n",
    "               , 'viov': '09/06/2010' # Updated 1/17/21 1D, 3D, 5D ahead\n",
    "               , 'vgt': '01/26/2004' # Updated 1/17/21 1D, 3D, 5D ahead\n",
    "               , 'xlk': '12/21/1998' # Updated 1/17/21 1D, 3D, 5D ahead\n",
    "              }"
   ]
  },
  {
   "cell_type": "code",
   "execution_count": null,
   "metadata": {},
   "outputs": [],
   "source": []
  },
  {
   "cell_type": "code",
   "execution_count": null,
   "metadata": {},
   "outputs": [],
   "source": []
  },
  {
   "cell_type": "code",
   "execution_count": null,
   "metadata": {},
   "outputs": [],
   "source": []
  },
  {
   "cell_type": "code",
   "execution_count": 4,
   "metadata": {},
   "outputs": [],
   "source": [
    "# X_train, X_test, y_train, y_test, stock_df = a.data(stock_name, start_dates[stock_name], days_ahead)\n",
    "# stock_df.tail(10)"
   ]
  },
  {
   "cell_type": "code",
   "execution_count": 5,
   "metadata": {
    "scrolled": false
   },
   "outputs": [],
   "source": [
    "# GridSerach to find best hyperparameters to prevent overfitting, can be commented out once trained\n",
    "# if train == 1:\n",
    "#     a.rfc_GridSearch(X_train, y_train, stock_name, days_ahead, cv)\n",
    "# elif train == 0:\n",
    "#     pass"
   ]
  },
  {
   "cell_type": "code",
   "execution_count": 6,
   "metadata": {},
   "outputs": [],
   "source": [
    "# Load RandomForextClassifier Model\n",
    "# rfc_model, y_pred, y_probs = a.rfc(X_train, X_test, y_train, stock_name, days_ahead)"
   ]
  },
  {
   "cell_type": "code",
   "execution_count": 7,
   "metadata": {
    "scrolled": false
   },
   "outputs": [],
   "source": [
    "# ROC Curve\n",
    "# a.roc_plot(y_test, y_probs, stock_name, model_name)"
   ]
  },
  {
   "cell_type": "code",
   "execution_count": 8,
   "metadata": {
    "scrolled": false
   },
   "outputs": [],
   "source": [
    "# Precision Recall Curve\n",
    "# a.prec_recall(y_test, y_probs, stock_name, model_name)"
   ]
  },
  {
   "cell_type": "code",
   "execution_count": 9,
   "metadata": {
    "scrolled": false
   },
   "outputs": [],
   "source": [
    "# Confusion Matrix\n",
    "# a.confusion_matrix(rfc_model, X_test, y_test, stock_name)"
   ]
  },
  {
   "cell_type": "code",
   "execution_count": 10,
   "metadata": {},
   "outputs": [],
   "source": [
    "# Cross Validation\n",
    "# a.cross_validation(rfc_model\n",
    "#                    , stock_df[['oc', 'hl', '5stdev_adj', '5sma_adj']]\n",
    "#                    , stock_df['direction']\n",
    "#                    , cv = 5\n",
    "#                   )"
   ]
  },
  {
   "cell_type": "markdown",
   "metadata": {},
   "source": [
    "### Prediction..."
   ]
  },
  {
   "cell_type": "code",
   "execution_count": 11,
   "metadata": {
    "scrolled": true
   },
   "outputs": [],
   "source": [
    "# Prediction, use last day of data\n",
    "# stock_df.iloc[-1]"
   ]
  },
  {
   "cell_type": "code",
   "execution_count": 12,
   "metadata": {},
   "outputs": [],
   "source": [
    "# import numpy as np\n",
    "# last = stock_df[['oc', 'hl', '5stdev_adj', '5sma_adj']].iloc[-days_back]\n",
    "# last"
   ]
  },
  {
   "cell_type": "code",
   "execution_count": 13,
   "metadata": {},
   "outputs": [],
   "source": [
    "# stock_df['adj'].describe()"
   ]
  },
  {
   "cell_type": "code",
   "execution_count": 14,
   "metadata": {
    "scrolled": true
   },
   "outputs": [],
   "source": [
    "# if rfc_model.predict(np.array(last).reshape(1, -1))[0] == 1:\n",
    "#     print(f'Buy {stock_name} {days_ahead} day(s) ahead')\n",
    "# else:\n",
    "#     print(f'Sell or hold {stock_name} {days_ahead} day(s) ahead')"
   ]
  },
  {
   "cell_type": "markdown",
   "metadata": {},
   "source": [
    "### Strategy Returns..."
   ]
  },
  {
   "cell_type": "code",
   "execution_count": 15,
   "metadata": {},
   "outputs": [],
   "source": [
    "# returns on strategy column\n",
    "# stock_df['prediction'] = rfc_model.predict(stock_df[['oc', 'hl', '5stdev_adj', '5sma_adj']])\n",
    "# stock_df['returns'] = stock_df['adj'].shift(-1, fill_value = stock_df['adj'].median()) * stock_df['prediction']"
   ]
  },
  {
   "cell_type": "code",
   "execution_count": 16,
   "metadata": {},
   "outputs": [],
   "source": [
    "# stock_df.tail(5)"
   ]
  },
  {
   "cell_type": "code",
   "execution_count": 17,
   "metadata": {},
   "outputs": [],
   "source": [
    "# Don't trade every day!\n",
    "# import matplotlib.pyplot as plt\n",
    "# test_length = len(y_test)\n",
    "# (stock_df['returns'][-test_length:] + 1).cumprod().plot()\n",
    "# plt.title(f'{stock_name} Expected Returns %');"
   ]
  },
  {
   "cell_type": "code",
   "execution_count": 18,
   "metadata": {},
   "outputs": [],
   "source": [
    "# Model returns if bought on predictions of 1\n",
    "# returns_on_ones = []\n",
    "# for idx in range(-test_length, 0):\n",
    "#     if stock_df['prediction'][idx] == 1:\n",
    "#         returns_on_ones.append(1 + stock_df['returns'][idx])\n",
    "\n",
    "# returns = 1\n",
    "# for x in returns_on_ones:\n",
    "#     returns *= x\n",
    "# returns"
   ]
  },
  {
   "cell_type": "code",
   "execution_count": 19,
   "metadata": {},
   "outputs": [],
   "source": [
    "# multiple times original investment, not bad but..."
   ]
  },
  {
   "cell_type": "code",
   "execution_count": 20,
   "metadata": {},
   "outputs": [],
   "source": [
    "# If purchased in 2012 and left it until now\n",
    "# test_idx = int(len(stock_df)*0.75)\n",
    "# (stock_df['Close'][-1] - stock_df['Close'][-test_idx]) / stock_df['Close'][-test_idx]"
   ]
  },
  {
   "cell_type": "code",
   "execution_count": 21,
   "metadata": {},
   "outputs": [],
   "source": [
    "# Buy and hold strategy beats RandomForestClassifier in this study\n",
    "\n",
    "# Special thanks to Shagufta Tahsildar at https://blog.quantinsti.com/random-forest-algorithm-in-python/"
   ]
  },
  {
   "cell_type": "code",
   "execution_count": null,
   "metadata": {},
   "outputs": [],
   "source": []
  },
  {
   "cell_type": "code",
   "execution_count": null,
   "metadata": {},
   "outputs": [],
   "source": []
  },
  {
   "cell_type": "code",
   "execution_count": null,
   "metadata": {},
   "outputs": [],
   "source": []
  },
  {
   "cell_type": "markdown",
   "metadata": {},
   "source": [
    "### Training"
   ]
  },
  {
   "cell_type": "markdown",
   "metadata": {},
   "source": [
    "Training is done once a week on Saturday and Sunday"
   ]
  },
  {
   "cell_type": "code",
   "execution_count": 22,
   "metadata": {},
   "outputs": [
    {
     "data": {
      "text/plain": [
       "45"
      ]
     },
     "execution_count": 22,
     "metadata": {},
     "output_type": "execute_result"
    }
   ],
   "source": [
    "len(start_dates)"
   ]
  },
  {
   "cell_type": "code",
   "execution_count": 23,
   "metadata": {},
   "outputs": [
    {
     "data": {
      "text/plain": [
       "{'a': '11/15/1999',\n",
       " 'aapl': '12/12/1980',\n",
       " 'acy': '01/18/1998',\n",
       " 'adbe': '08/11/1986',\n",
       " 'alb': '02/21/1994',\n",
       " 'amat': '03/16/1980',\n",
       " 'amd': '03/17/1980',\n",
       " 'amzn': '05/12/1997',\n",
       " 'baba': '09/15/2014',\n",
       " 'bac': '02/19/1973',\n",
       " 'bpmc': '04/27/2015',\n",
       " 'crm': '06/23/2004',\n",
       " 'crsp': '10/16/2016',\n",
       " 'dq': '10/04/2010',\n",
       " 'esgv': '09/16/2018'}"
      ]
     },
     "execution_count": 23,
     "metadata": {},
     "output_type": "execute_result"
    }
   ],
   "source": [
    "import itertools as itr\n",
    "start_dates1 = dict(itr.islice(start_dates.items(), 0, 15))\n",
    "start_dates1"
   ]
  },
  {
   "cell_type": "code",
   "execution_count": 24,
   "metadata": {},
   "outputs": [
    {
     "data": {
      "text/plain": [
       "{'fslr': '11/12/2006',\n",
       " 'goog': '08/16/2004',\n",
       " 'ibm': '01/02/1962',\n",
       " 'idex': '05/23/2007',\n",
       " 'intc': '03/16/1980',\n",
       " 'iyw': '05/15/2000',\n",
       " 'lng': '04/04/1994',\n",
       " 'ma': '05/21/2006',\n",
       " 'mdb': '10/15/2017',\n",
       " 'msft': '03/10/1986',\n",
       " 'mu': '05/28/1984',\n",
       " 'nee': '02/19/1973',\n",
       " 'nga': '10/08/2020',\n",
       " 'nio': '09/10/2018',\n",
       " 'nvda': '01/22/1999'}"
      ]
     },
     "execution_count": 24,
     "metadata": {},
     "output_type": "execute_result"
    }
   ],
   "source": [
    "start_dates2 = dict(itr.islice(start_dates.items(), 15, 30))\n",
    "start_dates2"
   ]
  },
  {
   "cell_type": "code",
   "execution_count": 25,
   "metadata": {},
   "outputs": [
    {
     "data": {
      "text/plain": [
       "{'pacb': '10/25/2010',\n",
       " 'pypl': '07/05/2015',\n",
       " 'qgen': '06/24/1996',\n",
       " 'run': '08/02/2015',\n",
       " 'orcl': '03/10/1986',\n",
       " 'qqq': '03/08/1999',\n",
       " 'srpt': '06/02/1997',\n",
       " 'tpic': '07/17/2016',\n",
       " 'tsla': '06/29/2010',\n",
       " 'v': '03/16/2008',\n",
       " 'vbiv': '09/04/2002',\n",
       " 'vbr': '01/26/2004',\n",
       " 'viov': '09/06/2010',\n",
       " 'vgt': '01/26/2004',\n",
       " 'xlk': '12/21/1998'}"
      ]
     },
     "execution_count": 25,
     "metadata": {},
     "output_type": "execute_result"
    }
   ],
   "source": [
    "start_dates3 = dict(itr.islice(start_dates.items(), 30, 45+1))\n",
    "start_dates3"
   ]
  },
  {
   "cell_type": "code",
   "execution_count": 26,
   "metadata": {},
   "outputs": [],
   "source": [
    "#Train 15 at a time!\n",
    "# stocks = [x for x in start_dates1]\n",
    "# days_ahead = [1, 3, 5]\n",
    "# cv = 5\n",
    "# for stock in stocks:\n",
    "#     for days in days_ahead:\n",
    "#         X_train, X_test, y_train, y_test, stock_df = a.data(stock, start_dates[stock], days)\n",
    "#         a.rfc_GridSearch(X_train, y_train, stock, days, cv)\n",
    "# len(stocks)\n",
    "\n",
    "# stocks = [x for x in start_dates2]\n",
    "# days_ahead = [1, 3, 5]\n",
    "# cv = 5\n",
    "# for stock in stocks:\n",
    "#     for days in days_ahead:\n",
    "#         X_train, X_test, y_train, y_test, stock_df = a.data(stock, start_dates[stock], days)\n",
    "#         a.rfc_GridSearch(X_train, y_train, stock, days, cv)\n",
    "# len(stocks)\n",
    "\n",
    "# stocks = [x for x in start_dates3]\n",
    "# days_ahead = [1, 3, 5]\n",
    "# cv = 5\n",
    "# for stock in stocks:\n",
    "#     for days in days_ahead:\n",
    "#         X_train, X_test, y_train, y_test, stock_df = a.data(stock, start_dates[stock], days)\n",
    "#         a.rfc_GridSearch(X_train, y_train, stock, days, cv)\n",
    "# len(stocks)\n",
    "\n",
    "# Train all, takes 15+ hours\n",
    "# stocks = [x for x in start_dates]\n",
    "# days_ahead = [1, 3, 5]\n",
    "# cv = 5\n",
    "# for stock in stocks:\n",
    "#     for days in days_ahead:\n",
    "#         X_train, X_test, y_train, y_test, stock_df = a.data(stock, start_dates[stock], days)\n",
    "#         a.rfc_GridSearch(X_train, y_train, stock, days, cv)\n",
    "# len(stocks)\n",
    "\n",
    "# Train desired stocks...takes less time\n",
    "# stocks = ['nga']\n",
    "# days_ahead = [1, 3, 5]\n",
    "# cv = 5\n",
    "# for stock in stocks:\n",
    "#     for days in days_ahead:\n",
    "#         X_train, X_test, y_train, y_test, stock_df = a.data(stock, start_dates[stock], days)\n",
    "#         a.rfc_GridSearch(X_train, y_train, stock, days, cv)"
   ]
  },
  {
   "cell_type": "code",
   "execution_count": null,
   "metadata": {},
   "outputs": [],
   "source": []
  },
  {
   "cell_type": "code",
   "execution_count": null,
   "metadata": {},
   "outputs": [],
   "source": []
  },
  {
   "cell_type": "code",
   "execution_count": null,
   "metadata": {},
   "outputs": [],
   "source": []
  },
  {
   "cell_type": "markdown",
   "metadata": {},
   "source": [
    "### Display All Results"
   ]
  },
  {
   "cell_type": "code",
   "execution_count": 27,
   "metadata": {
    "scrolled": false
   },
   "outputs": [
    {
     "name": "stdout",
     "output_type": "stream",
     "text": [
      "Sell or hold vbiv 5 day(s) ahead\n",
      "Model Returns (x 100 for %): 1.2685\n",
      "Stock Returns (x 100 for %): -0.8362\n"
     ]
    },
    {
     "data": {
      "image/png": "[encoded data removed]",
      "text/plain": [
       "<Figure size 432x288 with 1 Axes>"
      ]
     },
     "metadata": {},
     "output_type": "display_data"
    },
    {
     "data": {
      "image/png": "[encoded data removed]",
      "text/plain": [
       "<Figure size 648x504 with 1 Axes>"
      ]
     },
     "metadata": {},
     "output_type": "display_data"
    },
    {
     "data": {
      "image/png": "[encoded data removed]",
      "text/plain": [
       "<Figure size 648x504 with 1 Axes>"
      ]
     },
     "metadata": {},
     "output_type": "display_data"
    },
    {
     "data": {
      "image/png": "[encoded data removed]",
      "text/plain": [
       "<Figure size 684x612 with 2 Axes>"
      ]
     },
     "metadata": {},
     "output_type": "display_data"
    }
   ],
   "source": [
    "stock_name = 'vbiv'\n",
    "a.all_func(stock_name\n",
    "           , start_dates[stock_name]\n",
    "           , days_ahead = 5\n",
    "           , model_name = model_name\n",
    "           , days_back = 1\n",
    "          )"
   ]
  },
  {
   "cell_type": "code",
   "execution_count": null,
   "metadata": {},
   "outputs": [],
   "source": []
  },
  {
   "cell_type": "code",
   "execution_count": null,
   "metadata": {},
   "outputs": [],
   "source": []
  },
  {
   "cell_type": "code",
   "execution_count": null,
   "metadata": {},
   "outputs": [],
   "source": []
  },
  {
   "cell_type": "markdown",
   "metadata": {},
   "source": [
    "### Data Frame of Predictions 1 3 5 Days"
   ]
  },
  {
   "cell_type": "code",
   "execution_count": 28,
   "metadata": {},
   "outputs": [
    {
     "name": "stdout",
     "output_type": "stream",
     "text": [
      "Today's date: 2021-01-24\n"
     ]
    }
   ],
   "source": [
    "from datetime import date\n",
    "\n",
    "today = date.today()\n",
    "print(\"Today's date:\", today)"
   ]
  },
  {
   "cell_type": "code",
   "execution_count": 29,
   "metadata": {
    "scrolled": false
   },
   "outputs": [
    {
     "data": {
      "text/html": [
       "<div>\n",
       "<style scoped>\n",
       "    .dataframe tbody tr th:only-of-type {\n",
       "        vertical-align: middle;\n",
       "    }\n",
       "\n",
       "    .dataframe tbody tr th {\n",
       "        vertical-align: top;\n",
       "    }\n",
       "\n",
       "    .dataframe thead th {\n",
       "        text-align: right;\n",
       "    }\n",
       "</style>\n",
       "<table border=\"1\" class=\"dataframe\">\n",
       "  <thead>\n",
       "    <tr style=\"text-align: right;\">\n",
       "      <th></th>\n",
       "      <th>stock</th>\n",
       "      <th>1_Day_Pred</th>\n",
       "      <th>1_Day_Model_Return</th>\n",
       "      <th>3_Day_Pred</th>\n",
       "      <th>3_Day_Model_Return</th>\n",
       "      <th>5_Day_Pred</th>\n",
       "      <th>5_Day_Model_Return</th>\n",
       "      <th>Actual_Returns</th>\n",
       "    </tr>\n",
       "  </thead>\n",
       "  <tbody>\n",
       "    <tr>\n",
       "      <th>0</th>\n",
       "      <td>a</td>\n",
       "      <td>Buy</td>\n",
       "      <td>3.2227</td>\n",
       "      <td>Buy</td>\n",
       "      <td>3.6860</td>\n",
       "      <td>Buy</td>\n",
       "      <td>4.3249</td>\n",
       "      <td>6.8389</td>\n",
       "    </tr>\n",
       "    <tr>\n",
       "      <th>1</th>\n",
       "      <td>aapl</td>\n",
       "      <td>Hold or Sell</td>\n",
       "      <td>3.4284</td>\n",
       "      <td>Hold or Sell</td>\n",
       "      <td>3.8377</td>\n",
       "      <td>Hold or Sell</td>\n",
       "      <td>4.4685</td>\n",
       "      <td>370.9603</td>\n",
       "    </tr>\n",
       "    <tr>\n",
       "      <th>2</th>\n",
       "      <td>acy</td>\n",
       "      <td>Hold or Sell</td>\n",
       "      <td>0.5236</td>\n",
       "      <td>Hold or Sell</td>\n",
       "      <td>0.6633</td>\n",
       "      <td>Buy</td>\n",
       "      <td>0.6132</td>\n",
       "      <td>1.3457</td>\n",
       "    </tr>\n",
       "    <tr>\n",
       "      <th>3</th>\n",
       "      <td>adbe</td>\n",
       "      <td>Hold or Sell</td>\n",
       "      <td>8.3949</td>\n",
       "      <td>Hold or Sell</td>\n",
       "      <td>6.2412</td>\n",
       "      <td>Hold or Sell</td>\n",
       "      <td>6.9265</td>\n",
       "      <td>103.9867</td>\n",
       "    </tr>\n",
       "    <tr>\n",
       "      <th>4</th>\n",
       "      <td>alb</td>\n",
       "      <td>Hold or Sell</td>\n",
       "      <td>1.8531</td>\n",
       "      <td>Buy</td>\n",
       "      <td>1.8409</td>\n",
       "      <td>Hold or Sell</td>\n",
       "      <td>2.1847</td>\n",
       "      <td>15.1591</td>\n",
       "    </tr>\n",
       "    <tr>\n",
       "      <th>5</th>\n",
       "      <td>amat</td>\n",
       "      <td>Buy</td>\n",
       "      <td>6.4008</td>\n",
       "      <td>Buy</td>\n",
       "      <td>6.8126</td>\n",
       "      <td>Buy</td>\n",
       "      <td>9.0676</td>\n",
       "      <td>181.6879</td>\n",
       "    </tr>\n",
       "    <tr>\n",
       "      <th>6</th>\n",
       "      <td>amd</td>\n",
       "      <td>Buy</td>\n",
       "      <td>6.7682</td>\n",
       "      <td>Buy</td>\n",
       "      <td>5.2367</td>\n",
       "      <td>Buy</td>\n",
       "      <td>8.3543</td>\n",
       "      <td>16.6743</td>\n",
       "    </tr>\n",
       "    <tr>\n",
       "      <th>7</th>\n",
       "      <td>amzn</td>\n",
       "      <td>Buy</td>\n",
       "      <td>2.9097</td>\n",
       "      <td>Buy</td>\n",
       "      <td>2.9434</td>\n",
       "      <td>Buy</td>\n",
       "      <td>4.3489</td>\n",
       "      <td>112.0962</td>\n",
       "    </tr>\n",
       "    <tr>\n",
       "      <th>8</th>\n",
       "      <td>baba</td>\n",
       "      <td>Hold or Sell</td>\n",
       "      <td>1.4245</td>\n",
       "      <td>Hold or Sell</td>\n",
       "      <td>1.1687</td>\n",
       "      <td>Hold or Sell</td>\n",
       "      <td>0.9024</td>\n",
       "      <td>2.3306</td>\n",
       "    </tr>\n",
       "    <tr>\n",
       "      <th>9</th>\n",
       "      <td>bac</td>\n",
       "      <td>Buy</td>\n",
       "      <td>2.9847</td>\n",
       "      <td>Buy</td>\n",
       "      <td>3.2992</td>\n",
       "      <td>Buy</td>\n",
       "      <td>3.8354</td>\n",
       "      <td>6.0111</td>\n",
       "    </tr>\n",
       "    <tr>\n",
       "      <th>10</th>\n",
       "      <td>bpmc</td>\n",
       "      <td>Hold or Sell</td>\n",
       "      <td>2.9612</td>\n",
       "      <td>Hold or Sell</td>\n",
       "      <td>1.5481</td>\n",
       "      <td>Hold or Sell</td>\n",
       "      <td>1.5447</td>\n",
       "      <td>2.5490</td>\n",
       "    </tr>\n",
       "    <tr>\n",
       "      <th>11</th>\n",
       "      <td>crm</td>\n",
       "      <td>Hold or Sell</td>\n",
       "      <td>2.4588</td>\n",
       "      <td>Hold or Sell</td>\n",
       "      <td>2.4243</td>\n",
       "      <td>Hold or Sell</td>\n",
       "      <td>2.3284</td>\n",
       "      <td>12.8297</td>\n",
       "    </tr>\n",
       "    <tr>\n",
       "      <th>12</th>\n",
       "      <td>crsp</td>\n",
       "      <td>Hold or Sell</td>\n",
       "      <td>1.2500</td>\n",
       "      <td>Hold or Sell</td>\n",
       "      <td>0.7610</td>\n",
       "      <td>Hold or Sell</td>\n",
       "      <td>1.0387</td>\n",
       "      <td>9.2329</td>\n",
       "    </tr>\n",
       "    <tr>\n",
       "      <th>13</th>\n",
       "      <td>dq</td>\n",
       "      <td>Hold or Sell</td>\n",
       "      <td>8.4491</td>\n",
       "      <td>Hold or Sell</td>\n",
       "      <td>6.8874</td>\n",
       "      <td>Hold or Sell</td>\n",
       "      <td>8.1061</td>\n",
       "      <td>80.3193</td>\n",
       "    </tr>\n",
       "    <tr>\n",
       "      <th>14</th>\n",
       "      <td>esgv</td>\n",
       "      <td>Hold or Sell</td>\n",
       "      <td>1.1711</td>\n",
       "      <td>Hold or Sell</td>\n",
       "      <td>1.1338</td>\n",
       "      <td>Hold or Sell</td>\n",
       "      <td>1.1816</td>\n",
       "      <td>0.4121</td>\n",
       "    </tr>\n",
       "    <tr>\n",
       "      <th>15</th>\n",
       "      <td>fslr</td>\n",
       "      <td>Hold or Sell</td>\n",
       "      <td>2.0714</td>\n",
       "      <td>Hold or Sell</td>\n",
       "      <td>2.6352</td>\n",
       "      <td>Hold or Sell</td>\n",
       "      <td>2.1961</td>\n",
       "      <td>-0.0080</td>\n",
       "    </tr>\n",
       "    <tr>\n",
       "      <th>16</th>\n",
       "      <td>goog</td>\n",
       "      <td>Hold or Sell</td>\n",
       "      <td>2.3313</td>\n",
       "      <td>Hold or Sell</td>\n",
       "      <td>1.9663</td>\n",
       "      <td>Hold or Sell</td>\n",
       "      <td>2.9239</td>\n",
       "      <td>8.7732</td>\n",
       "    </tr>\n",
       "    <tr>\n",
       "      <th>17</th>\n",
       "      <td>ibm</td>\n",
       "      <td>Buy</td>\n",
       "      <td>2.6203</td>\n",
       "      <td>Buy</td>\n",
       "      <td>3.8947</td>\n",
       "      <td>Buy</td>\n",
       "      <td>3.6542</td>\n",
       "      <td>6.1749</td>\n",
       "    </tr>\n",
       "    <tr>\n",
       "      <th>18</th>\n",
       "      <td>idex</td>\n",
       "      <td>Hold or Sell</td>\n",
       "      <td>0.3060</td>\n",
       "      <td>Hold or Sell</td>\n",
       "      <td>0.1767</td>\n",
       "      <td>Hold or Sell</td>\n",
       "      <td>0.1060</td>\n",
       "      <td>-0.0747</td>\n",
       "    </tr>\n",
       "    <tr>\n",
       "      <th>19</th>\n",
       "      <td>intc</td>\n",
       "      <td>Buy</td>\n",
       "      <td>5.6270</td>\n",
       "      <td>Buy</td>\n",
       "      <td>5.1950</td>\n",
       "      <td>Buy</td>\n",
       "      <td>5.3035</td>\n",
       "      <td>36.5776</td>\n",
       "    </tr>\n",
       "    <tr>\n",
       "      <th>20</th>\n",
       "      <td>iyw</td>\n",
       "      <td>Hold or Sell</td>\n",
       "      <td>3.1056</td>\n",
       "      <td>Hold or Sell</td>\n",
       "      <td>4.6185</td>\n",
       "      <td>Hold or Sell</td>\n",
       "      <td>3.4933</td>\n",
       "      <td>6.2842</td>\n",
       "    </tr>\n",
       "    <tr>\n",
       "      <th>21</th>\n",
       "      <td>lng</td>\n",
       "      <td>Buy</td>\n",
       "      <td>1.7697</td>\n",
       "      <td>Buy</td>\n",
       "      <td>0.8546</td>\n",
       "      <td>Buy</td>\n",
       "      <td>0.9864</td>\n",
       "      <td>46.4820</td>\n",
       "    </tr>\n",
       "    <tr>\n",
       "      <th>22</th>\n",
       "      <td>ma</td>\n",
       "      <td>Buy</td>\n",
       "      <td>2.6234</td>\n",
       "      <td>Buy</td>\n",
       "      <td>2.5259</td>\n",
       "      <td>Buy</td>\n",
       "      <td>2.2092</td>\n",
       "      <td>11.9820</td>\n",
       "    </tr>\n",
       "    <tr>\n",
       "      <th>23</th>\n",
       "      <td>mdb</td>\n",
       "      <td>Hold or Sell</td>\n",
       "      <td>0.9927</td>\n",
       "      <td>Hold or Sell</td>\n",
       "      <td>1.1183</td>\n",
       "      <td>Hold or Sell</td>\n",
       "      <td>1.0553</td>\n",
       "      <td>4.9095</td>\n",
       "    </tr>\n",
       "    <tr>\n",
       "      <th>24</th>\n",
       "      <td>msft</td>\n",
       "      <td>Buy</td>\n",
       "      <td>6.8809</td>\n",
       "      <td>Buy</td>\n",
       "      <td>9.1332</td>\n",
       "      <td>Buy</td>\n",
       "      <td>7.6900</td>\n",
       "      <td>57.7837</td>\n",
       "    </tr>\n",
       "    <tr>\n",
       "      <th>25</th>\n",
       "      <td>mu</td>\n",
       "      <td>Buy</td>\n",
       "      <td>3.0938</td>\n",
       "      <td>Buy</td>\n",
       "      <td>3.6072</td>\n",
       "      <td>Buy</td>\n",
       "      <td>3.0024</td>\n",
       "      <td>17.5420</td>\n",
       "    </tr>\n",
       "    <tr>\n",
       "      <th>26</th>\n",
       "      <td>nee</td>\n",
       "      <td>Hold or Sell</td>\n",
       "      <td>4.7804</td>\n",
       "      <td>Hold or Sell</td>\n",
       "      <td>4.7981</td>\n",
       "      <td>Hold or Sell</td>\n",
       "      <td>4.6510</td>\n",
       "      <td>29.6218</td>\n",
       "    </tr>\n",
       "    <tr>\n",
       "      <th>27</th>\n",
       "      <td>nga</td>\n",
       "      <td>Buy</td>\n",
       "      <td>1.4776</td>\n",
       "      <td>Hold or Sell</td>\n",
       "      <td>1.0586</td>\n",
       "      <td>Hold or Sell</td>\n",
       "      <td>1.0299</td>\n",
       "      <td>1.7204</td>\n",
       "    </tr>\n",
       "    <tr>\n",
       "      <th>28</th>\n",
       "      <td>nio</td>\n",
       "      <td>Hold or Sell</td>\n",
       "      <td>1.8409</td>\n",
       "      <td>Hold or Sell</td>\n",
       "      <td>1.4771</td>\n",
       "      <td>Hold or Sell</td>\n",
       "      <td>2.2916</td>\n",
       "      <td>11.3900</td>\n",
       "    </tr>\n",
       "    <tr>\n",
       "      <th>29</th>\n",
       "      <td>nvda</td>\n",
       "      <td>Hold or Sell</td>\n",
       "      <td>13.6984</td>\n",
       "      <td>Hold or Sell</td>\n",
       "      <td>8.1303</td>\n",
       "      <td>Hold or Sell</td>\n",
       "      <td>13.8844</td>\n",
       "      <td>104.3457</td>\n",
       "    </tr>\n",
       "    <tr>\n",
       "      <th>30</th>\n",
       "      <td>pacb</td>\n",
       "      <td>Hold or Sell</td>\n",
       "      <td>2.3202</td>\n",
       "      <td>Hold or Sell</td>\n",
       "      <td>1.6754</td>\n",
       "      <td>Hold or Sell</td>\n",
       "      <td>1.4040</td>\n",
       "      <td>13.4479</td>\n",
       "    </tr>\n",
       "    <tr>\n",
       "      <th>31</th>\n",
       "      <td>pypl</td>\n",
       "      <td>Hold or Sell</td>\n",
       "      <td>3.2979</td>\n",
       "      <td>Hold or Sell</td>\n",
       "      <td>2.4271</td>\n",
       "      <td>Hold or Sell</td>\n",
       "      <td>2.7769</td>\n",
       "      <td>5.3063</td>\n",
       "    </tr>\n",
       "    <tr>\n",
       "      <th>32</th>\n",
       "      <td>qgen</td>\n",
       "      <td>Hold or Sell</td>\n",
       "      <td>2.2584</td>\n",
       "      <td>Hold or Sell</td>\n",
       "      <td>2.0071</td>\n",
       "      <td>Hold or Sell</td>\n",
       "      <td>2.4526</td>\n",
       "      <td>7.3759</td>\n",
       "    </tr>\n",
       "    <tr>\n",
       "      <th>33</th>\n",
       "      <td>run</td>\n",
       "      <td>Hold or Sell</td>\n",
       "      <td>1.5026</td>\n",
       "      <td>Hold or Sell</td>\n",
       "      <td>1.0362</td>\n",
       "      <td>Hold or Sell</td>\n",
       "      <td>1.4305</td>\n",
       "      <td>14.5658</td>\n",
       "    </tr>\n",
       "    <tr>\n",
       "      <th>34</th>\n",
       "      <td>orcl</td>\n",
       "      <td>Buy</td>\n",
       "      <td>3.0591</td>\n",
       "      <td>Buy</td>\n",
       "      <td>3.0540</td>\n",
       "      <td>Buy</td>\n",
       "      <td>2.9352</td>\n",
       "      <td>29.7494</td>\n",
       "    </tr>\n",
       "    <tr>\n",
       "      <th>35</th>\n",
       "      <td>qqq</td>\n",
       "      <td>Hold or Sell</td>\n",
       "      <td>2.6185</td>\n",
       "      <td>Hold or Sell</td>\n",
       "      <td>3.2395</td>\n",
       "      <td>Hold or Sell</td>\n",
       "      <td>2.2992</td>\n",
       "      <td>8.5319</td>\n",
       "    </tr>\n",
       "    <tr>\n",
       "      <th>36</th>\n",
       "      <td>srpt</td>\n",
       "      <td>Hold or Sell</td>\n",
       "      <td>2.0964</td>\n",
       "      <td>Hold or Sell</td>\n",
       "      <td>1.8195</td>\n",
       "      <td>Hold or Sell</td>\n",
       "      <td>2.5823</td>\n",
       "      <td>1.9608</td>\n",
       "    </tr>\n",
       "    <tr>\n",
       "      <th>37</th>\n",
       "      <td>tpic</td>\n",
       "      <td>Hold or Sell</td>\n",
       "      <td>1.2626</td>\n",
       "      <td>Hold or Sell</td>\n",
       "      <td>1.6005</td>\n",
       "      <td>Hold or Sell</td>\n",
       "      <td>1.5638</td>\n",
       "      <td>2.4243</td>\n",
       "    </tr>\n",
       "    <tr>\n",
       "      <th>38</th>\n",
       "      <td>tsla</td>\n",
       "      <td>Hold or Sell</td>\n",
       "      <td>4.3169</td>\n",
       "      <td>Hold or Sell</td>\n",
       "      <td>2.1533</td>\n",
       "      <td>Hold or Sell</td>\n",
       "      <td>2.3987</td>\n",
       "      <td>121.9509</td>\n",
       "    </tr>\n",
       "    <tr>\n",
       "      <th>39</th>\n",
       "      <td>v</td>\n",
       "      <td>Buy</td>\n",
       "      <td>2.8166</td>\n",
       "      <td>Buy</td>\n",
       "      <td>2.4378</td>\n",
       "      <td>Buy</td>\n",
       "      <td>2.7965</td>\n",
       "      <td>9.5728</td>\n",
       "    </tr>\n",
       "    <tr>\n",
       "      <th>40</th>\n",
       "      <td>vbiv</td>\n",
       "      <td>Hold or Sell</td>\n",
       "      <td>0.5255</td>\n",
       "      <td>Hold or Sell</td>\n",
       "      <td>1.6651</td>\n",
       "      <td>Hold or Sell</td>\n",
       "      <td>1.0779</td>\n",
       "      <td>-0.8362</td>\n",
       "    </tr>\n",
       "    <tr>\n",
       "      <th>41</th>\n",
       "      <td>vbr</td>\n",
       "      <td>Hold or Sell</td>\n",
       "      <td>1.3536</td>\n",
       "      <td>Hold or Sell</td>\n",
       "      <td>1.1747</td>\n",
       "      <td>Hold or Sell</td>\n",
       "      <td>1.5340</td>\n",
       "      <td>1.3574</td>\n",
       "    </tr>\n",
       "    <tr>\n",
       "      <th>42</th>\n",
       "      <td>viov</td>\n",
       "      <td>Hold or Sell</td>\n",
       "      <td>1.1822</td>\n",
       "      <td>Hold or Sell</td>\n",
       "      <td>1.0172</td>\n",
       "      <td>Hold or Sell</td>\n",
       "      <td>1.1863</td>\n",
       "      <td>1.0697</td>\n",
       "    </tr>\n",
       "    <tr>\n",
       "      <th>43</th>\n",
       "      <td>vgt</td>\n",
       "      <td>Hold or Sell</td>\n",
       "      <td>3.1113</td>\n",
       "      <td>Hold or Sell</td>\n",
       "      <td>3.4875</td>\n",
       "      <td>Hold or Sell</td>\n",
       "      <td>2.9523</td>\n",
       "      <td>5.3823</td>\n",
       "    </tr>\n",
       "    <tr>\n",
       "      <th>44</th>\n",
       "      <td>xlk</td>\n",
       "      <td>Hold or Sell</td>\n",
       "      <td>4.0661</td>\n",
       "      <td>Hold or Sell</td>\n",
       "      <td>4.5187</td>\n",
       "      <td>Hold or Sell</td>\n",
       "      <td>4.8909</td>\n",
       "      <td>5.7770</td>\n",
       "    </tr>\n",
       "  </tbody>\n",
       "</table>\n",
       "</div>"
      ],
      "text/plain": [
       "   stock    1_Day_Pred  1_Day_Model_Return    3_Day_Pred  3_Day_Model_Return  \\\n",
       "0      a           Buy              3.2227           Buy              3.6860   \n",
       "1   aapl  Hold or Sell              3.4284  Hold or Sell              3.8377   \n",
       "2    acy  Hold or Sell              0.5236  Hold or Sell              0.6633   \n",
       "3   adbe  Hold or Sell              8.3949  Hold or Sell              6.2412   \n",
       "4    alb  Hold or Sell              1.8531           Buy              1.8409   \n",
       "5   amat           Buy              6.4008           Buy              6.8126   \n",
       "6    amd           Buy              6.7682           Buy              5.2367   \n",
       "7   amzn           Buy              2.9097           Buy              2.9434   \n",
       "8   baba  Hold or Sell              1.4245  Hold or Sell              1.1687   \n",
       "9    bac           Buy              2.9847           Buy              3.2992   \n",
       "10  bpmc  Hold or Sell              2.9612  Hold or Sell              1.5481   \n",
       "11   crm  Hold or Sell              2.4588  Hold or Sell              2.4243   \n",
       "12  crsp  Hold or Sell              1.2500  Hold or Sell              0.7610   \n",
       "13    dq  Hold or Sell              8.4491  Hold or Sell              6.8874   \n",
       "14  esgv  Hold or Sell              1.1711  Hold or Sell              1.1338   \n",
       "15  fslr  Hold or Sell              2.0714  Hold or Sell              2.6352   \n",
       "16  goog  Hold or Sell              2.3313  Hold or Sell              1.9663   \n",
       "17   ibm           Buy              2.6203           Buy              3.8947   \n",
       "18  idex  Hold or Sell              0.3060  Hold or Sell              0.1767   \n",
       "19  intc           Buy              5.6270           Buy              5.1950   \n",
       "20   iyw  Hold or Sell              3.1056  Hold or Sell              4.6185   \n",
       "21   lng           Buy              1.7697           Buy              0.8546   \n",
       "22    ma           Buy              2.6234           Buy              2.5259   \n",
       "23   mdb  Hold or Sell              0.9927  Hold or Sell              1.1183   \n",
       "24  msft           Buy              6.8809           Buy              9.1332   \n",
       "25    mu           Buy              3.0938           Buy              3.6072   \n",
       "26   nee  Hold or Sell              4.7804  Hold or Sell              4.7981   \n",
       "27   nga           Buy              1.4776  Hold or Sell              1.0586   \n",
       "28   nio  Hold or Sell              1.8409  Hold or Sell              1.4771   \n",
       "29  nvda  Hold or Sell             13.6984  Hold or Sell              8.1303   \n",
       "30  pacb  Hold or Sell              2.3202  Hold or Sell              1.6754   \n",
       "31  pypl  Hold or Sell              3.2979  Hold or Sell              2.4271   \n",
       "32  qgen  Hold or Sell              2.2584  Hold or Sell              2.0071   \n",
       "33   run  Hold or Sell              1.5026  Hold or Sell              1.0362   \n",
       "34  orcl           Buy              3.0591           Buy              3.0540   \n",
       "35   qqq  Hold or Sell              2.6185  Hold or Sell              3.2395   \n",
       "36  srpt  Hold or Sell              2.0964  Hold or Sell              1.8195   \n",
       "37  tpic  Hold or Sell              1.2626  Hold or Sell              1.6005   \n",
       "38  tsla  Hold or Sell              4.3169  Hold or Sell              2.1533   \n",
       "39     v           Buy              2.8166           Buy              2.4378   \n",
       "40  vbiv  Hold or Sell              0.5255  Hold or Sell              1.6651   \n",
       "41   vbr  Hold or Sell              1.3536  Hold or Sell              1.1747   \n",
       "42  viov  Hold or Sell              1.1822  Hold or Sell              1.0172   \n",
       "43   vgt  Hold or Sell              3.1113  Hold or Sell              3.4875   \n",
       "44   xlk  Hold or Sell              4.0661  Hold or Sell              4.5187   \n",
       "\n",
       "      5_Day_Pred  5_Day_Model_Return  Actual_Returns  \n",
       "0            Buy              4.3249          6.8389  \n",
       "1   Hold or Sell              4.4685        370.9603  \n",
       "2            Buy              0.6132          1.3457  \n",
       "3   Hold or Sell              6.9265        103.9867  \n",
       "4   Hold or Sell              2.1847         15.1591  \n",
       "5            Buy              9.0676        181.6879  \n",
       "6            Buy              8.3543         16.6743  \n",
       "7            Buy              4.3489        112.0962  \n",
       "8   Hold or Sell              0.9024          2.3306  \n",
       "9            Buy              3.8354          6.0111  \n",
       "10  Hold or Sell              1.5447          2.5490  \n",
       "11  Hold or Sell              2.3284         12.8297  \n",
       "12  Hold or Sell              1.0387          9.2329  \n",
       "13  Hold or Sell              8.1061         80.3193  \n",
       "14  Hold or Sell              1.1816          0.4121  \n",
       "15  Hold or Sell              2.1961         -0.0080  \n",
       "16  Hold or Sell              2.9239          8.7732  \n",
       "17           Buy              3.6542          6.1749  \n",
       "18  Hold or Sell              0.1060         -0.0747  \n",
       "19           Buy              5.3035         36.5776  \n",
       "20  Hold or Sell              3.4933          6.2842  \n",
       "21           Buy              0.9864         46.4820  \n",
       "22           Buy              2.2092         11.9820  \n",
       "23  Hold or Sell              1.0553          4.9095  \n",
       "24           Buy              7.6900         57.7837  \n",
       "25           Buy              3.0024         17.5420  \n",
       "26  Hold or Sell              4.6510         29.6218  \n",
       "27  Hold or Sell              1.0299          1.7204  \n",
       "28  Hold or Sell              2.2916         11.3900  \n",
       "29  Hold or Sell             13.8844        104.3457  \n",
       "30  Hold or Sell              1.4040         13.4479  \n",
       "31  Hold or Sell              2.7769          5.3063  \n",
       "32  Hold or Sell              2.4526          7.3759  \n",
       "33  Hold or Sell              1.4305         14.5658  \n",
       "34           Buy              2.9352         29.7494  \n",
       "35  Hold or Sell              2.2992          8.5319  \n",
       "36  Hold or Sell              2.5823          1.9608  \n",
       "37  Hold or Sell              1.5638          2.4243  \n",
       "38  Hold or Sell              2.3987        121.9509  \n",
       "39           Buy              2.7965          9.5728  \n",
       "40  Hold or Sell              1.0779         -0.8362  \n",
       "41  Hold or Sell              1.5340          1.3574  \n",
       "42  Hold or Sell              1.1863          1.0697  \n",
       "43  Hold or Sell              2.9523          5.3823  \n",
       "44  Hold or Sell              4.8909          5.7770  "
      ]
     },
     "execution_count": 29,
     "metadata": {},
     "output_type": "execute_result"
    }
   ],
   "source": [
    "summary_df = a.pred_summary_df(start_dates, stocks = [x for x in start_dates], days_back = 1)\n",
    "summary_df"
   ]
  },
  {
   "cell_type": "code",
   "execution_count": 30,
   "metadata": {},
   "outputs": [
    {
     "data": {
      "text/plain": [
       "(2.6203, 2.4271, 2.4526, 8.7732)"
      ]
     },
     "execution_count": 30,
     "metadata": {},
     "output_type": "execute_result"
    }
   ],
   "source": [
    "summary_df['1_Day_Model_Return'].median(), summary_df['3_Day_Model_Return'].median(), summary_df['5_Day_Model_Return'].median(), summary_df['Actual_Returns'].median()"
   ]
  },
  {
   "cell_type": "code",
   "execution_count": null,
   "metadata": {},
   "outputs": [],
   "source": []
  },
  {
   "cell_type": "code",
   "execution_count": null,
   "metadata": {},
   "outputs": [],
   "source": []
  },
  {
   "cell_type": "code",
   "execution_count": null,
   "metadata": {},
   "outputs": [],
   "source": []
  },
  {
   "cell_type": "code",
   "execution_count": null,
   "metadata": {},
   "outputs": [],
   "source": []
  }
 ],
 "metadata": {
  "kernelspec": {
   "display_name": "Python 3",
   "language": "python",
   "name": "python3"
  },
  "language_info": {
   "codemirror_mode": {
    "name": "ipython",
    "version": 3
   },
   "file_extension": ".py",
   "mimetype": "text/x-python",
   "name": "python",
   "nbconvert_exporter": "python",
   "pygments_lexer": "ipython3",
   "version": "3.8.5"
  }
 },
 "nbformat": 4,
 "nbformat_minor": 4
}
