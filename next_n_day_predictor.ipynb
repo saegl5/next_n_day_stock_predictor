{
 "cells": [
  {
   "cell_type": "code",
   "execution_count": 1,
   "metadata": {
    "scrolled": true
   },
   "outputs": [],
   "source": [
    "from src import attributes as a\n",
    "%load_ext autoreload\n",
    "%autoreload 2"
   ]
  },
  {
   "cell_type": "code",
   "execution_count": 2,
   "metadata": {},
   "outputs": [],
   "source": [
    "# Global Variables\n",
    "stock_name = 'tsla' # ticker symbol\n",
    "train = 0 # 1 for train, 0 for pass\n",
    "days_ahead = 1 # for predicting 1, 3, or 5 days ahead\n",
    "days_back = -1 # -1 for current data point, -2 for two days ago, etc...\n",
    "cv = 5 # number of cross validation folds\n",
    "model_name = 'Random Forest Classifier' # for display on charts, not a tuning parameter"
   ]
  },
  {
   "cell_type": "code",
   "execution_count": 3,
   "metadata": {},
   "outputs": [],
   "source": [
    "# Extract, Transform, Load, and Train Test Split\n",
    "# Dictionary of IPO Dates\n",
    "start_dates = {'a': '11/15/1999' # Updated 4/26/21 1D, 3D, 5D ahead\n",
    "               , 'aapl': '12/12/1980' # Updated 11/8/21 1D, 3D, 5D ahead\n",
    "               #, 'acy': '01/18/1998' # Updated 4/26/21 1D, 3D, 5D ahead\n",
    "               , 'adbe': '08/11/1986' # Updated 11/8/21 1D, 3D, 5D ahead\n",
    "               #, 'alb': '02/21/1994' # Updated 4/26/21 1D, 3D, 5D ahead\n",
    "               , 'amat': '03/16/1980' # Updated 4/26/21 1D, 3D, 5D ahead\n",
    "               , 'amd': '03/17/1980' # Updated 11/23/21 1D, 3D, 5D ahead\n",
    "               , 'amgn': '06/13/1983' # Updated 4/26/21 1D, 3D, 5D ahead\n",
    "               , 'amzn': '05/12/1997' # Updated 11/07/21 1D, 3D, 5D ahead\n",
    "               , 'baba': '09/15/2014' # Updated 11/13/21 1D, 3D, 5D ahead\n",
    "               , 'bac': '02/19/1973' # Updated 4/26/21 1D, 3D, 5D ahead\n",
    "               , 'bby': '04/15/1985' # Updated 11/19/21 1D, 3D, 5D ahead\n",
    "               #, 'bpmc': '04/27/2015' # Updated 4/26/21 1D, 3D, 5D ahead\n",
    "               , 'crm': '06/23/2004' # Updated 11/13/21 1D, 3D, 5D ahead\n",
    "               , 'crsp': '10/16/2016' # Updated 4/26/21 1D, 3D, 5D ahead\n",
    "               , 'cost': '07/07/1986' # Updated 11/23/21 1D, 3D, 5D ahead\n",
    "               , 'dis': '10/27/2014' # Updatd 11/5/21 1D, 3D, 5D ahead\n",
    "               #, 'dq': '10/04/2010' # Updated 4/26/21 1D, 3D, 5D ahead\n",
    "               , 'esgv': '09/16/2018' # Updated 4/26/21 1D, 3D, 5D ahead\n",
    "               , 'fslr': '11/12/2006' # Updated 4/26/21 1D, 3D, 5D ahead\n",
    "               , 'goog': '08/16/2004' # Updated 11/8/21 1D, 3D, 5D ahead\n",
    "               , 'ibm': '01/02/1962' # Updated 4/26/21 1D, 3D, 5D ahead\n",
    "               , 'intc': '03/16/1980' # Updated 11/13/21 1D, 3D, 5D ahead\n",
    "               , 'iyw': '05/15/2000' # Updated 11/21/21 1D, 3D, 5D ahead\n",
    "               , 'll': '11/05/2007' # Updated 11/22/21 1D, 3D, 5D ahead\n",
    "               , 'lng': '04/04/1994' # Updated 4/26/21 1D, 3D, 5D ahead\n",
    "               , 'ma': '05/21/2006' # Updated 4/26/21 1D, 3D, 5D ahead\n",
    "               , 'mdb': '10/15/2017' # Updated 11/21/21 1D, 3D, 5D ahead\n",
    "               , 'msft': '03/10/1986' # Updated 11/8/21 1D, 3D, 5D ahead\n",
    "               , 'mu': '05/28/1984' # Updated 11/20/21 1D, 3D, 5D ahead\n",
    "               #, 'nee': '02/19/1973' # Updated 4/26/21 1D, 3D, 5D ahead\n",
    "               , 'nio': '09/10/2018' # Updated 4/26/21 1D, 3D, 5D ahead\n",
    "               , 'nvda': '01/22/1999' # Updated 11/17/21 1D, 3D, 5D ahead\n",
    "               #, 'pacb': '10/25/2010' # Updated 4/26/21 1D, 3D, 5D ahead\n",
    "               , 'pypl': '07/05/2015' # Updated 4/26/21 1D, 3D, 5D ahead\n",
    "               , 'qgen': '06/24/1996' # Updated 4/26/21 1D, 3D, 5D ahead\n",
    "               #, 'run': '08/02/2015' # Updated 4/26/21 1D, 3D, 5D ahead\n",
    "               , 'okta': '04/03/2017' # Updated 4/26/21 1D, 3D, 5D ahead\n",
    "               , 'orcl': '03/10/1986' # Updated 4/26/21 1D, 3D, 5D ahead\n",
    "               , 'qcom': '12/09/1991' # Updated 11/20/21 1D, 3D, 5D ahead\n",
    "               , 'qqq': '03/08/1999' # Updated 4/26/21 1D, 3D, 5D ahead\n",
    "               , 'srpt': '06/02/1997' # Updated 4/26/21 1D, 3D, 5D ahead\n",
    "               , 'tgt': '02/19/1973' # Updated 11/22/21 1D, 3D, 5D ahead\n",
    "               #, 'tpic': '07/17/2016' # Updated 4/26/21 1D, 3D, 5D ahead\n",
    "               , 'tsla': '06/29/2010' # Updated 11/07/21 1D, 3D, 5D ahead\n",
    "               , 'tsm': '10/06/1997' # Updated 11/20/21 1D, 3D, 5D ahead\n",
    "               , 'v': '03/16/2008' # Updated 11/22/21 1D, 3D, 5D ahead\n",
    "               , 'vbiv': '09/04/2002' # Updated 4/26/21 1D, 3D, 5D ahead\n",
    "               , 'vbr': '01/26/2004' # Updated 11/20/21 1D, 3D, 5D ahead\n",
    "               , 'viov': '09/06/2010' # Updated 4/26/21 1D, 3D, 5D ahead\n",
    "               , 'vgt': '01/26/2004' # Updated 11/07/21 1D, 3D, 5D ahead\n",
    "               , 'wmt': '11/10/2014' # Updated 11/16/21 1D, 3D, 5D ahead\n",
    "               , 'xlk': '12/21/1998' # Updated 11/21/21 1D, 3D, 5D ahead\n",
    "              }"
   ]
  },
  {
   "cell_type": "markdown",
   "metadata": {},
   "source": [
    "### Get Data..."
   ]
  },
  {
   "cell_type": "code",
   "execution_count": 4,
   "metadata": {
    "scrolled": true
   },
   "outputs": [
    {
     "name": "stdout",
     "output_type": "stream",
     "text": [
      "Today's date: 2021-12-14\n",
      "Table Updates Complete\n",
      "Current Time:  14:06:04\n"
     ]
    }
   ],
   "source": [
    "from datetime import date, datetime\n",
    "today = date.today()\n",
    "print(\"Today's date:\", today)\n",
    "a.get_tables(start_dates)\n",
    "print('Table Updates Complete')\n",
    "now = datetime.now()\n",
    "current_time = now.strftime(\"%H:%M:%S\")\n",
    "print(\"Current Time: \", current_time)"
   ]
  },
  {
   "cell_type": "code",
   "execution_count": 5,
   "metadata": {},
   "outputs": [],
   "source": [
    "# Load RandomForextClassifier Model\n",
    "# rfc_model, y_pred, y_probs = a.rfc(X_train, X_test, y_train, stock_name, days_ahead)"
   ]
  },
  {
   "cell_type": "code",
   "execution_count": 6,
   "metadata": {
    "scrolled": false
   },
   "outputs": [],
   "source": [
    "# ROC Curve\n",
    "# a.roc_plot(y_test, y_probs, stock_name, model_name)"
   ]
  },
  {
   "cell_type": "code",
   "execution_count": 7,
   "metadata": {
    "scrolled": false
   },
   "outputs": [],
   "source": [
    "# Precision Recall Curve\n",
    "# a.prec_recall(y_test, y_probs, stock_name, model_name)"
   ]
  },
  {
   "cell_type": "code",
   "execution_count": 8,
   "metadata": {
    "scrolled": false
   },
   "outputs": [],
   "source": [
    "# Confusion Matrix\n",
    "# a.confusion_matrix(rfc_model, X_test, y_test, stock_name)"
   ]
  },
  {
   "cell_type": "code",
   "execution_count": 9,
   "metadata": {},
   "outputs": [],
   "source": [
    "# Cross Validation\n",
    "# a.cross_validation(rfc_model\n",
    "#                    , stock_df[['oc', 'hl', '5stdev_adj', '5sma_adj']]\n",
    "#                    , stock_df['direction']\n",
    "#                    , cv = 5\n",
    "#                   )"
   ]
  },
  {
   "cell_type": "markdown",
   "metadata": {},
   "source": [
    "### Prediction..."
   ]
  },
  {
   "cell_type": "code",
   "execution_count": 10,
   "metadata": {
    "scrolled": true
   },
   "outputs": [],
   "source": [
    "# Prediction, use last day of data\n",
    "# stock_df.iloc[-1]"
   ]
  },
  {
   "cell_type": "code",
   "execution_count": 11,
   "metadata": {},
   "outputs": [],
   "source": [
    "# import numpy as np\n",
    "# last = stock_df[['oc', 'hl', '5stdev_adj', '5sma_adj']].iloc[-days_back]\n",
    "# last"
   ]
  },
  {
   "cell_type": "code",
   "execution_count": 12,
   "metadata": {},
   "outputs": [],
   "source": [
    "# stock_df['adj'].describe()"
   ]
  },
  {
   "cell_type": "code",
   "execution_count": 13,
   "metadata": {
    "scrolled": true
   },
   "outputs": [],
   "source": [
    "# if rfc_model.predict(np.array(last).reshape(1, -1))[0] == 1:\n",
    "#     print(f'Buy {stock_name} {days_ahead} day(s) ahead')\n",
    "# else:\n",
    "#     print(f'Sell or hold {stock_name} {days_ahead} day(s) ahead')"
   ]
  },
  {
   "cell_type": "markdown",
   "metadata": {},
   "source": [
    "### Strategy Returns..."
   ]
  },
  {
   "cell_type": "code",
   "execution_count": 14,
   "metadata": {},
   "outputs": [],
   "source": [
    "# returns on strategy column\n",
    "# stock_df['prediction'] = rfc_model.predict(stock_df[['oc', 'hl', '5stdev_adj', '5sma_adj']])\n",
    "# stock_df['returns'] = stock_df['adj'].shift(-1, fill_value = stock_df['adj'].median()) * stock_df['prediction']"
   ]
  },
  {
   "cell_type": "code",
   "execution_count": 15,
   "metadata": {},
   "outputs": [],
   "source": [
    "# stock_df.tail(5)"
   ]
  },
  {
   "cell_type": "code",
   "execution_count": 16,
   "metadata": {},
   "outputs": [],
   "source": [
    "# Don't trade every day!\n",
    "# import matplotlib.pyplot as plt\n",
    "# test_length = len(y_test)\n",
    "# (stock_df['returns'][-test_length:] + 1).cumprod().plot()\n",
    "# plt.title(f'{stock_name} Expected Returns %');"
   ]
  },
  {
   "cell_type": "code",
   "execution_count": 17,
   "metadata": {},
   "outputs": [],
   "source": [
    "# Model returns if bought on predictions of 1\n",
    "# returns_on_ones = []\n",
    "# for idx in range(-test_length, 0):\n",
    "#     if stock_df['prediction'][idx] == 1:\n",
    "#         returns_on_ones.append(1 + stock_df['returns'][idx])\n",
    "\n",
    "# returns = 1\n",
    "# for x in returns_on_ones:\n",
    "#     returns *= x\n",
    "# returns"
   ]
  },
  {
   "cell_type": "code",
   "execution_count": 18,
   "metadata": {},
   "outputs": [],
   "source": [
    "# multiple times original investment, not bad but..."
   ]
  },
  {
   "cell_type": "code",
   "execution_count": 19,
   "metadata": {},
   "outputs": [],
   "source": [
    "# If purchased in 2012 and left it until now\n",
    "# test_idx = int(len(stock_df)*0.75)\n",
    "# (stock_df['Close'][-1] - stock_df['Close'][-test_idx]) / stock_df['Close'][-test_idx]"
   ]
  },
  {
   "cell_type": "code",
   "execution_count": 20,
   "metadata": {},
   "outputs": [],
   "source": [
    "# Buy and hold strategy beats RandomForestClassifier in this study\n",
    "\n",
    "# Special thanks to Shagufta Tahsildar at https://blog.quantinsti.com/random-forest-algorithm-in-python/"
   ]
  },
  {
   "cell_type": "code",
   "execution_count": null,
   "metadata": {},
   "outputs": [],
   "source": []
  },
  {
   "cell_type": "code",
   "execution_count": null,
   "metadata": {},
   "outputs": [],
   "source": []
  },
  {
   "cell_type": "code",
   "execution_count": null,
   "metadata": {},
   "outputs": [],
   "source": []
  },
  {
   "cell_type": "markdown",
   "metadata": {},
   "source": [
    "### Training"
   ]
  },
  {
   "cell_type": "markdown",
   "metadata": {},
   "source": [
    "Training is done once a week on Saturday and Sunday"
   ]
  },
  {
   "cell_type": "code",
   "execution_count": 21,
   "metadata": {},
   "outputs": [
    {
     "data": {
      "text/plain": [
       "45"
      ]
     },
     "execution_count": 21,
     "metadata": {},
     "output_type": "execute_result"
    }
   ],
   "source": [
    "len(start_dates)"
   ]
  },
  {
   "cell_type": "code",
   "execution_count": 22,
   "metadata": {},
   "outputs": [
    {
     "data": {
      "text/plain": [
       "{'a': '11/15/1999',\n",
       " 'aapl': '12/12/1980',\n",
       " 'adbe': '08/11/1986',\n",
       " 'amat': '03/16/1980',\n",
       " 'amd': '03/17/1980',\n",
       " 'amgn': '06/13/1983',\n",
       " 'amzn': '05/12/1997',\n",
       " 'baba': '09/15/2014',\n",
       " 'bac': '02/19/1973',\n",
       " 'bby': '04/15/1985',\n",
       " 'crm': '06/23/2004',\n",
       " 'crsp': '10/16/2016',\n",
       " 'cost': '07/07/1986',\n",
       " 'dis': '10/27/2014',\n",
       " 'esgv': '09/16/2018'}"
      ]
     },
     "execution_count": 22,
     "metadata": {},
     "output_type": "execute_result"
    }
   ],
   "source": [
    "import itertools as itr\n",
    "start_dates1 = dict(itr.islice(start_dates.items(), 0, 15))\n",
    "start_dates1"
   ]
  },
  {
   "cell_type": "code",
   "execution_count": 23,
   "metadata": {},
   "outputs": [
    {
     "data": {
      "text/plain": [
       "{'fslr': '11/12/2006',\n",
       " 'goog': '08/16/2004',\n",
       " 'ibm': '01/02/1962',\n",
       " 'intc': '03/16/1980',\n",
       " 'iyw': '05/15/2000',\n",
       " 'll': '11/05/2007',\n",
       " 'lng': '04/04/1994',\n",
       " 'ma': '05/21/2006',\n",
       " 'mdb': '10/15/2017',\n",
       " 'msft': '03/10/1986',\n",
       " 'mu': '05/28/1984',\n",
       " 'nio': '09/10/2018',\n",
       " 'nvda': '01/22/1999',\n",
       " 'pypl': '07/05/2015',\n",
       " 'qgen': '06/24/1996'}"
      ]
     },
     "execution_count": 23,
     "metadata": {},
     "output_type": "execute_result"
    }
   ],
   "source": [
    "start_dates2 = dict(itr.islice(start_dates.items(), 15, 30))\n",
    "start_dates2"
   ]
  },
  {
   "cell_type": "code",
   "execution_count": 24,
   "metadata": {},
   "outputs": [
    {
     "data": {
      "text/plain": [
       "{'okta': '04/03/2017',\n",
       " 'orcl': '03/10/1986',\n",
       " 'qcom': '12/09/1991',\n",
       " 'qqq': '03/08/1999',\n",
       " 'srpt': '06/02/1997',\n",
       " 'tgt': '02/19/1973',\n",
       " 'tsla': '06/29/2010',\n",
       " 'tsm': '10/06/1997',\n",
       " 'v': '03/16/2008',\n",
       " 'vbiv': '09/04/2002',\n",
       " 'vbr': '01/26/2004',\n",
       " 'viov': '09/06/2010',\n",
       " 'vgt': '01/26/2004',\n",
       " 'wmt': '11/10/2014',\n",
       " 'xlk': '12/21/1998'}"
      ]
     },
     "execution_count": 24,
     "metadata": {},
     "output_type": "execute_result"
    }
   ],
   "source": [
    "start_dates3 = dict(itr.islice(start_dates.items(), 30, 45+1))\n",
    "start_dates3"
   ]
  },
  {
   "cell_type": "code",
   "execution_count": 25,
   "metadata": {
    "scrolled": false
   },
   "outputs": [],
   "source": [
    "# from datetime import datetime\n",
    "\n",
    "# now = datetime.now()\n",
    "\n",
    "# current_time = now.strftime(\"%H:%M:%S\")\n",
    "# print(\"Gridsearch Start Date: \", today)\n",
    "# print(\"Current Time: \", current_time)\n",
    "\n",
    "#Train 15 at a time!\n",
    "# stocks = [x for x in start_dates1]\n",
    "# days_ahead = [1, 3, 5]\n",
    "# cv = 5\n",
    "# for stock in stocks:\n",
    "#     for days in days_ahead:\n",
    "#         X_train, X_test, y_train, y_test, stock_df = a.data(stock, start_dates[stock], days)\n",
    "#         a.rfc_GridSearch(X_train, y_train, stock, days, cv)\n",
    "# len(stocks)\n",
    "\n",
    "# Next on training for Saturday 4/17/2021\n",
    "# stocks = [x for x in start_dates2]\n",
    "# days_ahead = [1, 3, 5]\n",
    "# cv = 5\n",
    "# for stock in stocks:\n",
    "#     for days in days_ahead:\n",
    "#         X_train, X_test, y_train, y_test, stock_df = a.data(stock, start_dates[stock], days)\n",
    "#         a.rfc_GridSearch(X_train, y_train, stock, days, cv)\n",
    "# len(stocks)\n",
    "\n",
    "# Next on training for Saturday 4/17/2021\n",
    "# stocks = [x for x in start_dates3]\n",
    "# days_ahead = [1, 3, 5]\n",
    "# cv = 5\n",
    "# for stock in stocks:\n",
    "#     for days in days_ahead:\n",
    "#         X_train, X_test, y_train, y_test, stock_df = a.data(stock, start_dates[stock], days)\n",
    "#         a.rfc_GridSearch(X_train, y_train, stock, days, cv)\n",
    "# len(stocks)\n",
    "\n",
    "# # Train all, takes 15+ hours\n",
    "# stocks = [x for x in start_dates]\n",
    "# days_ahead = [1, 3, 5]\n",
    "# cv = 5\n",
    "# for stock in stocks:\n",
    "#     for days in days_ahead:\n",
    "#         X_train, X_test, y_train, y_test, stock_df = a.data(stock, start_dates[stock], days)\n",
    "#         a.rfc_GridSearch(X_train, y_train, stock, days, cv)\n",
    "# len(stocks)\n",
    "\n",
    "# Train desired stocks...takes less time (4 will take 15.5 hours, each stock is roughly 2.5-4 hours to train)\n",
    "# 3 will take 7.5 hours, roughly 2.5 hours per stock trained\n",
    "# to train: ['cost']\n",
    "\n",
    "# import timeit \n",
    "# stocks = ['amd'] # ['tsm', 'vbr'] # tbt as of 2021-11-20, started 01:15 PST\n",
    "# days_ahead = [1, 3, 5] \n",
    "# cv = 3 # was 5 \n",
    "# for stock in stocks:\n",
    "#     for days in days_ahead:\n",
    "#         X_train, X_test, y_train, y_test, stock_df = a.data(stock, start_dates[stock], days)\n",
    "#         %timeit a.rfc_GridSearch(X_train, y_train, stock, days, cv)\n",
    "\n",
    "# now = datetime.now()\n",
    "\n",
    "# current_time = now.strftime(\"%H:%M:%S\")\n",
    "# print(\"Gridsearch End Date: \", today)\n",
    "# print(\"Current Time: \", current_time)"
   ]
  },
  {
   "cell_type": "code",
   "execution_count": null,
   "metadata": {},
   "outputs": [],
   "source": []
  },
  {
   "cell_type": "code",
   "execution_count": null,
   "metadata": {},
   "outputs": [],
   "source": []
  },
  {
   "cell_type": "code",
   "execution_count": null,
   "metadata": {},
   "outputs": [],
   "source": []
  },
  {
   "cell_type": "markdown",
   "metadata": {},
   "source": [
    "### Display All Results"
   ]
  },
  {
   "cell_type": "markdown",
   "metadata": {},
   "source": [
    "**NOTE:** Returns include buying ups and selling downs"
   ]
  },
  {
   "cell_type": "code",
   "execution_count": 26,
   "metadata": {},
   "outputs": [
    {
     "name": "stdout",
     "output_type": "stream",
     "text": [
      "Today's date: 2021-12-14\n",
      "Current Time:  14:06:05\n"
     ]
    }
   ],
   "source": [
    "from datetime import date, datetime\n",
    "today = date.today()\n",
    "print(\"Today's date:\", today)\n",
    "now = datetime.now()\n",
    "current_time = now.strftime(\"%H:%M:%S\")\n",
    "print(\"Current Time: \", current_time)"
   ]
  },
  {
   "cell_type": "code",
   "execution_count": 37,
   "metadata": {
    "scrolled": false
   },
   "outputs": [
    {
     "name": "stdout",
     "output_type": "stream",
     "text": [
      "Buy vgt 5 day(s) ahead\n",
      "Model Returns (x 100 for %): 2.1997\n",
      "Stock Returns (x 100 for %): 8.9385\n"
     ]
    },
    {
     "data": {
      "image/png": "[encoded data removed]",
      "text/plain": [
       "<Figure size 684x612 with 1 Axes>"
      ]
     },
     "metadata": {},
     "output_type": "display_data"
    },
    {
     "data": {
      "image/png": "[encoded data removed]",
      "text/plain": [
       "<Figure size 648x504 with 1 Axes>"
      ]
     },
     "metadata": {},
     "output_type": "display_data"
    },
    {
     "data": {
      "image/png": "[encoded data removed]",
      "text/plain": [
       "<Figure size 648x504 with 1 Axes>"
      ]
     },
     "metadata": {},
     "output_type": "display_data"
    },
    {
     "data": {
      "image/png": "[encoded data removed]",
      "text/plain": [
       "<Figure size 684x612 with 2 Axes>"
      ]
     },
     "metadata": {},
     "output_type": "display_data"
    }
   ],
   "source": [
    "stock_name = 'vgt'\n",
    "a.all_func(stock_name\n",
    "           , start_dates[stock_name]\n",
    "           , days_ahead = 5\n",
    "           , model_name = model_name\n",
    "           , days_back = 1\n",
    "          )"
   ]
  },
  {
   "cell_type": "code",
   "execution_count": null,
   "metadata": {},
   "outputs": [],
   "source": []
  },
  {
   "cell_type": "code",
   "execution_count": null,
   "metadata": {},
   "outputs": [],
   "source": []
  },
  {
   "cell_type": "code",
   "execution_count": null,
   "metadata": {},
   "outputs": [],
   "source": []
  },
  {
   "cell_type": "markdown",
   "metadata": {},
   "source": [
    "### Data Frame of Predictions 1 3 5 Days"
   ]
  },
  {
   "cell_type": "markdown",
   "metadata": {},
   "source": [
    "**NOTE:** Returns are for buys only."
   ]
  },
  {
   "cell_type": "code",
   "execution_count": 28,
   "metadata": {},
   "outputs": [
    {
     "name": "stdout",
     "output_type": "stream",
     "text": [
      "Today's date: 2021-12-14\n",
      "Current Time = 14:06:05\n"
     ]
    }
   ],
   "source": [
    "print(\"Today's date:\", today)\n",
    "print(\"Current Time =\", current_time)"
   ]
  },
  {
   "cell_type": "code",
   "execution_count": 29,
   "metadata": {
    "scrolled": false
   },
   "outputs": [
    {
     "data": {
      "text/html": [
       "<div>\n",
       "<style scoped>\n",
       "    .dataframe tbody tr th:only-of-type {\n",
       "        vertical-align: middle;\n",
       "    }\n",
       "\n",
       "    .dataframe tbody tr th {\n",
       "        vertical-align: top;\n",
       "    }\n",
       "\n",
       "    .dataframe thead th {\n",
       "        text-align: right;\n",
       "    }\n",
       "</style>\n",
       "<table border=\"1\" class=\"dataframe\">\n",
       "  <thead>\n",
       "    <tr style=\"text-align: right;\">\n",
       "      <th></th>\n",
       "      <th>stock</th>\n",
       "      <th>1_Day_Pred</th>\n",
       "      <th>1_Day_Model_Return</th>\n",
       "      <th>3_Day_Pred</th>\n",
       "      <th>3_Day_Model_Return</th>\n",
       "      <th>5_Day_Pred</th>\n",
       "      <th>5_Day_Model_Return</th>\n",
       "      <th>Actual_Returns</th>\n",
       "    </tr>\n",
       "  </thead>\n",
       "  <tbody>\n",
       "    <tr>\n",
       "      <th>0</th>\n",
       "      <td>a</td>\n",
       "      <td>Buy</td>\n",
       "      <td>2.3356</td>\n",
       "      <td>Buy</td>\n",
       "      <td>2.1400</td>\n",
       "      <td>Buy</td>\n",
       "      <td>2.1476</td>\n",
       "      <td>16.6251</td>\n",
       "    </tr>\n",
       "    <tr>\n",
       "      <th>1</th>\n",
       "      <td>aapl</td>\n",
       "      <td>Buy</td>\n",
       "      <td>4.7199</td>\n",
       "      <td>Buy</td>\n",
       "      <td>3.7914</td>\n",
       "      <td>Buy</td>\n",
       "      <td>5.1538</td>\n",
       "      <td>711.7648</td>\n",
       "    </tr>\n",
       "    <tr>\n",
       "      <th>2</th>\n",
       "      <td>adbe</td>\n",
       "      <td>Buy</td>\n",
       "      <td>4.2351</td>\n",
       "      <td>Buy</td>\n",
       "      <td>5.6199</td>\n",
       "      <td>Buy</td>\n",
       "      <td>4.5748</td>\n",
       "      <td>187.5064</td>\n",
       "    </tr>\n",
       "    <tr>\n",
       "      <th>3</th>\n",
       "      <td>amat</td>\n",
       "      <td>Hold or Sell</td>\n",
       "      <td>10.8120</td>\n",
       "      <td>Hold or Sell</td>\n",
       "      <td>11.5672</td>\n",
       "      <td>Hold or Sell</td>\n",
       "      <td>10.8404</td>\n",
       "      <td>1143.3716</td>\n",
       "    </tr>\n",
       "    <tr>\n",
       "      <th>4</th>\n",
       "      <td>amd</td>\n",
       "      <td>Hold or Sell</td>\n",
       "      <td>27.5700</td>\n",
       "      <td>Hold or Sell</td>\n",
       "      <td>49.4293</td>\n",
       "      <td>Hold or Sell</td>\n",
       "      <td>51.5996</td>\n",
       "      <td>15.9500</td>\n",
       "    </tr>\n",
       "    <tr>\n",
       "      <th>5</th>\n",
       "      <td>amgn</td>\n",
       "      <td>Hold or Sell</td>\n",
       "      <td>2.2034</td>\n",
       "      <td>Hold or Sell</td>\n",
       "      <td>2.1385</td>\n",
       "      <td>Hold or Sell</td>\n",
       "      <td>2.0426</td>\n",
       "      <td>341.3873</td>\n",
       "    </tr>\n",
       "    <tr>\n",
       "      <th>6</th>\n",
       "      <td>amzn</td>\n",
       "      <td>Hold or Sell</td>\n",
       "      <td>1.3762</td>\n",
       "      <td>Hold or Sell</td>\n",
       "      <td>1.3007</td>\n",
       "      <td>Hold or Sell</td>\n",
       "      <td>1.3344</td>\n",
       "      <td>232.2297</td>\n",
       "    </tr>\n",
       "    <tr>\n",
       "      <th>7</th>\n",
       "      <td>baba</td>\n",
       "      <td>Buy</td>\n",
       "      <td>0.6081</td>\n",
       "      <td>Hold or Sell</td>\n",
       "      <td>0.7745</td>\n",
       "      <td>Hold or Sell</td>\n",
       "      <td>0.6940</td>\n",
       "      <td>0.6166</td>\n",
       "    </tr>\n",
       "    <tr>\n",
       "      <th>8</th>\n",
       "      <td>bac</td>\n",
       "      <td>Hold or Sell</td>\n",
       "      <td>2.3586</td>\n",
       "      <td>Hold or Sell</td>\n",
       "      <td>2.0300</td>\n",
       "      <td>Hold or Sell</td>\n",
       "      <td>2.1810</td>\n",
       "      <td>60.6247</td>\n",
       "    </tr>\n",
       "    <tr>\n",
       "      <th>9</th>\n",
       "      <td>bby</td>\n",
       "      <td>Hold or Sell</td>\n",
       "      <td>1.6533</td>\n",
       "      <td>Hold or Sell</td>\n",
       "      <td>1.6641</td>\n",
       "      <td>Hold or Sell</td>\n",
       "      <td>1.2602</td>\n",
       "      <td>841.6045</td>\n",
       "    </tr>\n",
       "    <tr>\n",
       "      <th>10</th>\n",
       "      <td>crm</td>\n",
       "      <td>Buy</td>\n",
       "      <td>1.1701</td>\n",
       "      <td>Buy</td>\n",
       "      <td>1.3476</td>\n",
       "      <td>Buy</td>\n",
       "      <td>1.5620</td>\n",
       "      <td>22.6932</td>\n",
       "    </tr>\n",
       "    <tr>\n",
       "      <th>11</th>\n",
       "      <td>crsp</td>\n",
       "      <td>Hold or Sell</td>\n",
       "      <td>0.8371</td>\n",
       "      <td>Hold or Sell</td>\n",
       "      <td>0.7522</td>\n",
       "      <td>Hold or Sell</td>\n",
       "      <td>0.7751</td>\n",
       "      <td>2.8548</td>\n",
       "    </tr>\n",
       "    <tr>\n",
       "      <th>12</th>\n",
       "      <td>cost</td>\n",
       "      <td>Buy</td>\n",
       "      <td>2.2063</td>\n",
       "      <td>Buy</td>\n",
       "      <td>1.9663</td>\n",
       "      <td>Buy</td>\n",
       "      <td>2.1697</td>\n",
       "      <td>55.3431</td>\n",
       "    </tr>\n",
       "    <tr>\n",
       "      <th>13</th>\n",
       "      <td>dis</td>\n",
       "      <td>Buy</td>\n",
       "      <td>3.0918</td>\n",
       "      <td>Hold or Sell</td>\n",
       "      <td>3.6006</td>\n",
       "      <td>Buy</td>\n",
       "      <td>3.1721</td>\n",
       "      <td>229.4028</td>\n",
       "    </tr>\n",
       "    <tr>\n",
       "      <th>14</th>\n",
       "      <td>esgv</td>\n",
       "      <td>Buy</td>\n",
       "      <td>1.0075</td>\n",
       "      <td>Buy</td>\n",
       "      <td>1.0517</td>\n",
       "      <td>Buy</td>\n",
       "      <td>1.0078</td>\n",
       "      <td>0.7462</td>\n",
       "    </tr>\n",
       "  </tbody>\n",
       "</table>\n",
       "</div>"
      ],
      "text/plain": [
       "   stock    1_Day_Pred  1_Day_Model_Return    3_Day_Pred  3_Day_Model_Return  \\\n",
       "0      a           Buy              2.3356           Buy              2.1400   \n",
       "1   aapl           Buy              4.7199           Buy              3.7914   \n",
       "2   adbe           Buy              4.2351           Buy              5.6199   \n",
       "3   amat  Hold or Sell             10.8120  Hold or Sell             11.5672   \n",
       "4    amd  Hold or Sell             27.5700  Hold or Sell             49.4293   \n",
       "5   amgn  Hold or Sell              2.2034  Hold or Sell              2.1385   \n",
       "6   amzn  Hold or Sell              1.3762  Hold or Sell              1.3007   \n",
       "7   baba           Buy              0.6081  Hold or Sell              0.7745   \n",
       "8    bac  Hold or Sell              2.3586  Hold or Sell              2.0300   \n",
       "9    bby  Hold or Sell              1.6533  Hold or Sell              1.6641   \n",
       "10   crm           Buy              1.1701           Buy              1.3476   \n",
       "11  crsp  Hold or Sell              0.8371  Hold or Sell              0.7522   \n",
       "12  cost           Buy              2.2063           Buy              1.9663   \n",
       "13   dis           Buy              3.0918  Hold or Sell              3.6006   \n",
       "14  esgv           Buy              1.0075           Buy              1.0517   \n",
       "\n",
       "      5_Day_Pred  5_Day_Model_Return  Actual_Returns  \n",
       "0            Buy              2.1476         16.6251  \n",
       "1            Buy              5.1538        711.7648  \n",
       "2            Buy              4.5748        187.5064  \n",
       "3   Hold or Sell             10.8404       1143.3716  \n",
       "4   Hold or Sell             51.5996         15.9500  \n",
       "5   Hold or Sell              2.0426        341.3873  \n",
       "6   Hold or Sell              1.3344        232.2297  \n",
       "7   Hold or Sell              0.6940          0.6166  \n",
       "8   Hold or Sell              2.1810         60.6247  \n",
       "9   Hold or Sell              1.2602        841.6045  \n",
       "10           Buy              1.5620         22.6932  \n",
       "11  Hold or Sell              0.7751          2.8548  \n",
       "12           Buy              2.1697         55.3431  \n",
       "13           Buy              3.1721        229.4028  \n",
       "14           Buy              1.0078          0.7462  "
      ]
     },
     "execution_count": 29,
     "metadata": {},
     "output_type": "execute_result"
    }
   ],
   "source": [
    "summary_df = a.pred_summary_df(start_dates1, stocks = [x for x in start_dates1], days_back = 1)\n",
    "summary_df"
   ]
  },
  {
   "cell_type": "code",
   "execution_count": 30,
   "metadata": {},
   "outputs": [
    {
     "data": {
      "text/plain": [
       "(2.2063, 2.03, 2.1476, 60.6247)"
      ]
     },
     "execution_count": 30,
     "metadata": {},
     "output_type": "execute_result"
    }
   ],
   "source": [
    "summary_df['1_Day_Model_Return'].median(), summary_df['3_Day_Model_Return'].median(), summary_df['5_Day_Model_Return'].median(), summary_df['Actual_Returns'].median()"
   ]
  },
  {
   "cell_type": "code",
   "execution_count": null,
   "metadata": {},
   "outputs": [],
   "source": []
  },
  {
   "cell_type": "code",
   "execution_count": 31,
   "metadata": {
    "scrolled": false
   },
   "outputs": [
    {
     "data": {
      "text/html": [
       "<div>\n",
       "<style scoped>\n",
       "    .dataframe tbody tr th:only-of-type {\n",
       "        vertical-align: middle;\n",
       "    }\n",
       "\n",
       "    .dataframe tbody tr th {\n",
       "        vertical-align: top;\n",
       "    }\n",
       "\n",
       "    .dataframe thead th {\n",
       "        text-align: right;\n",
       "    }\n",
       "</style>\n",
       "<table border=\"1\" class=\"dataframe\">\n",
       "  <thead>\n",
       "    <tr style=\"text-align: right;\">\n",
       "      <th></th>\n",
       "      <th>stock</th>\n",
       "      <th>1_Day_Pred</th>\n",
       "      <th>1_Day_Model_Return</th>\n",
       "      <th>3_Day_Pred</th>\n",
       "      <th>3_Day_Model_Return</th>\n",
       "      <th>5_Day_Pred</th>\n",
       "      <th>5_Day_Model_Return</th>\n",
       "      <th>Actual_Returns</th>\n",
       "    </tr>\n",
       "  </thead>\n",
       "  <tbody>\n",
       "    <tr>\n",
       "      <th>0</th>\n",
       "      <td>fslr</td>\n",
       "      <td>Hold or Sell</td>\n",
       "      <td>1.9698</td>\n",
       "      <td>Hold or Sell</td>\n",
       "      <td>2.4554</td>\n",
       "      <td>Hold or Sell</td>\n",
       "      <td>2.2981</td>\n",
       "      <td>-0.2725</td>\n",
       "    </tr>\n",
       "    <tr>\n",
       "      <th>1</th>\n",
       "      <td>goog</td>\n",
       "      <td>Hold or Sell</td>\n",
       "      <td>2.8439</td>\n",
       "      <td>Hold or Sell</td>\n",
       "      <td>2.8021</td>\n",
       "      <td>Hold or Sell</td>\n",
       "      <td>3.2816</td>\n",
       "      <td>11.1889</td>\n",
       "    </tr>\n",
       "    <tr>\n",
       "      <th>2</th>\n",
       "      <td>ibm</td>\n",
       "      <td>Hold or Sell</td>\n",
       "      <td>1.5347</td>\n",
       "      <td>Hold or Sell</td>\n",
       "      <td>1.7567</td>\n",
       "      <td>Hold or Sell</td>\n",
       "      <td>1.1563</td>\n",
       "      <td>30.3284</td>\n",
       "    </tr>\n",
       "    <tr>\n",
       "      <th>3</th>\n",
       "      <td>intc</td>\n",
       "      <td>Buy</td>\n",
       "      <td>3.8334</td>\n",
       "      <td>Buy</td>\n",
       "      <td>3.8752</td>\n",
       "      <td>Buy</td>\n",
       "      <td>3.6808</td>\n",
       "      <td>205.1425</td>\n",
       "    </tr>\n",
       "    <tr>\n",
       "      <th>4</th>\n",
       "      <td>iyw</td>\n",
       "      <td>Buy</td>\n",
       "      <td>2.7599</td>\n",
       "      <td>Buy</td>\n",
       "      <td>2.8264</td>\n",
       "      <td>Buy</td>\n",
       "      <td>2.0876</td>\n",
       "      <td>10.3010</td>\n",
       "    </tr>\n",
       "    <tr>\n",
       "      <th>5</th>\n",
       "      <td>ll</td>\n",
       "      <td>Buy</td>\n",
       "      <td>0.8616</td>\n",
       "      <td>Buy</td>\n",
       "      <td>0.7843</td>\n",
       "      <td>Buy</td>\n",
       "      <td>0.9087</td>\n",
       "      <td>-0.3275</td>\n",
       "    </tr>\n",
       "    <tr>\n",
       "      <th>6</th>\n",
       "      <td>lng</td>\n",
       "      <td>Buy</td>\n",
       "      <td>1.8553</td>\n",
       "      <td>Hold or Sell</td>\n",
       "      <td>1.9851</td>\n",
       "      <td>Buy</td>\n",
       "      <td>1.4927</td>\n",
       "      <td>24.6002</td>\n",
       "    </tr>\n",
       "    <tr>\n",
       "      <th>7</th>\n",
       "      <td>ma</td>\n",
       "      <td>Buy</td>\n",
       "      <td>1.3882</td>\n",
       "      <td>Buy</td>\n",
       "      <td>1.3631</td>\n",
       "      <td>Buy</td>\n",
       "      <td>1.1719</td>\n",
       "      <td>23.2382</td>\n",
       "    </tr>\n",
       "    <tr>\n",
       "      <th>8</th>\n",
       "      <td>mdb</td>\n",
       "      <td>Buy</td>\n",
       "      <td>1.2260</td>\n",
       "      <td>Buy</td>\n",
       "      <td>1.3217</td>\n",
       "      <td>Buy</td>\n",
       "      <td>1.3608</td>\n",
       "      <td>8.5653</td>\n",
       "    </tr>\n",
       "    <tr>\n",
       "      <th>9</th>\n",
       "      <td>msft</td>\n",
       "      <td>Buy</td>\n",
       "      <td>7.8409</td>\n",
       "      <td>Buy</td>\n",
       "      <td>7.9719</td>\n",
       "      <td>Buy</td>\n",
       "      <td>7.3266</td>\n",
       "      <td>301.5940</td>\n",
       "    </tr>\n",
       "    <tr>\n",
       "      <th>10</th>\n",
       "      <td>mu</td>\n",
       "      <td>Hold or Sell</td>\n",
       "      <td>3.3490</td>\n",
       "      <td>Buy</td>\n",
       "      <td>4.9435</td>\n",
       "      <td>Hold or Sell</td>\n",
       "      <td>4.0876</td>\n",
       "      <td>94.8322</td>\n",
       "    </tr>\n",
       "    <tr>\n",
       "      <th>11</th>\n",
       "      <td>nio</td>\n",
       "      <td>Hold or Sell</td>\n",
       "      <td>0.9285</td>\n",
       "      <td>Hold or Sell</td>\n",
       "      <td>1.1384</td>\n",
       "      <td>Hold or Sell</td>\n",
       "      <td>1.2093</td>\n",
       "      <td>5.0261</td>\n",
       "    </tr>\n",
       "    <tr>\n",
       "      <th>12</th>\n",
       "      <td>nvda</td>\n",
       "      <td>Hold or Sell</td>\n",
       "      <td>5.2383</td>\n",
       "      <td>Hold or Sell</td>\n",
       "      <td>6.4721</td>\n",
       "      <td>Hold or Sell</td>\n",
       "      <td>6.4186</td>\n",
       "      <td>227.2194</td>\n",
       "    </tr>\n",
       "    <tr>\n",
       "      <th>13</th>\n",
       "      <td>pypl</td>\n",
       "      <td>Hold or Sell</td>\n",
       "      <td>0.9285</td>\n",
       "      <td>Hold or Sell</td>\n",
       "      <td>0.7966</td>\n",
       "      <td>Hold or Sell</td>\n",
       "      <td>0.9904</td>\n",
       "      <td>3.7447</td>\n",
       "    </tr>\n",
       "    <tr>\n",
       "      <th>14</th>\n",
       "      <td>qgen</td>\n",
       "      <td>Buy</td>\n",
       "      <td>1.3089</td>\n",
       "      <td>Buy</td>\n",
       "      <td>1.7404</td>\n",
       "      <td>Hold or Sell</td>\n",
       "      <td>1.6453</td>\n",
       "      <td>0.4815</td>\n",
       "    </tr>\n",
       "  </tbody>\n",
       "</table>\n",
       "</div>"
      ],
      "text/plain": [
       "   stock    1_Day_Pred  1_Day_Model_Return    3_Day_Pred  3_Day_Model_Return  \\\n",
       "0   fslr  Hold or Sell              1.9698  Hold or Sell              2.4554   \n",
       "1   goog  Hold or Sell              2.8439  Hold or Sell              2.8021   \n",
       "2    ibm  Hold or Sell              1.5347  Hold or Sell              1.7567   \n",
       "3   intc           Buy              3.8334           Buy              3.8752   \n",
       "4    iyw           Buy              2.7599           Buy              2.8264   \n",
       "5     ll           Buy              0.8616           Buy              0.7843   \n",
       "6    lng           Buy              1.8553  Hold or Sell              1.9851   \n",
       "7     ma           Buy              1.3882           Buy              1.3631   \n",
       "8    mdb           Buy              1.2260           Buy              1.3217   \n",
       "9   msft           Buy              7.8409           Buy              7.9719   \n",
       "10    mu  Hold or Sell              3.3490           Buy              4.9435   \n",
       "11   nio  Hold or Sell              0.9285  Hold or Sell              1.1384   \n",
       "12  nvda  Hold or Sell              5.2383  Hold or Sell              6.4721   \n",
       "13  pypl  Hold or Sell              0.9285  Hold or Sell              0.7966   \n",
       "14  qgen           Buy              1.3089           Buy              1.7404   \n",
       "\n",
       "      5_Day_Pred  5_Day_Model_Return  Actual_Returns  \n",
       "0   Hold or Sell              2.2981         -0.2725  \n",
       "1   Hold or Sell              3.2816         11.1889  \n",
       "2   Hold or Sell              1.1563         30.3284  \n",
       "3            Buy              3.6808        205.1425  \n",
       "4            Buy              2.0876         10.3010  \n",
       "5            Buy              0.9087         -0.3275  \n",
       "6            Buy              1.4927         24.6002  \n",
       "7            Buy              1.1719         23.2382  \n",
       "8            Buy              1.3608          8.5653  \n",
       "9            Buy              7.3266        301.5940  \n",
       "10  Hold or Sell              4.0876         94.8322  \n",
       "11  Hold or Sell              1.2093          5.0261  \n",
       "12  Hold or Sell              6.4186        227.2194  \n",
       "13  Hold or Sell              0.9904          3.7447  \n",
       "14  Hold or Sell              1.6453          0.4815  "
      ]
     },
     "execution_count": 31,
     "metadata": {},
     "output_type": "execute_result"
    }
   ],
   "source": [
    "summary_df = a.pred_summary_df(start_dates2, stocks = [x for x in start_dates2], days_back = 1)\n",
    "summary_df"
   ]
  },
  {
   "cell_type": "code",
   "execution_count": 32,
   "metadata": {},
   "outputs": [
    {
     "data": {
      "text/plain": [
       "(1.8553, 1.9851, 1.6453, 11.1889)"
      ]
     },
     "execution_count": 32,
     "metadata": {},
     "output_type": "execute_result"
    }
   ],
   "source": [
    "summary_df['1_Day_Model_Return'].median(), summary_df['3_Day_Model_Return'].median(), summary_df['5_Day_Model_Return'].median(), summary_df['Actual_Returns'].median()"
   ]
  },
  {
   "cell_type": "code",
   "execution_count": null,
   "metadata": {},
   "outputs": [],
   "source": []
  },
  {
   "cell_type": "code",
   "execution_count": 33,
   "metadata": {
    "scrolled": false
   },
   "outputs": [
    {
     "data": {
      "text/html": [
       "<div>\n",
       "<style scoped>\n",
       "    .dataframe tbody tr th:only-of-type {\n",
       "        vertical-align: middle;\n",
       "    }\n",
       "\n",
       "    .dataframe tbody tr th {\n",
       "        vertical-align: top;\n",
       "    }\n",
       "\n",
       "    .dataframe thead th {\n",
       "        text-align: right;\n",
       "    }\n",
       "</style>\n",
       "<table border=\"1\" class=\"dataframe\">\n",
       "  <thead>\n",
       "    <tr style=\"text-align: right;\">\n",
       "      <th></th>\n",
       "      <th>stock</th>\n",
       "      <th>1_Day_Pred</th>\n",
       "      <th>1_Day_Model_Return</th>\n",
       "      <th>3_Day_Pred</th>\n",
       "      <th>3_Day_Model_Return</th>\n",
       "      <th>5_Day_Pred</th>\n",
       "      <th>5_Day_Model_Return</th>\n",
       "      <th>Actual_Returns</th>\n",
       "    </tr>\n",
       "  </thead>\n",
       "  <tbody>\n",
       "    <tr>\n",
       "      <th>0</th>\n",
       "      <td>okta</td>\n",
       "      <td>Buy</td>\n",
       "      <td>0.7899</td>\n",
       "      <td>Buy</td>\n",
       "      <td>0.8658</td>\n",
       "      <td>Hold or Sell</td>\n",
       "      <td>0.8784</td>\n",
       "      <td>7.1165</td>\n",
       "    </tr>\n",
       "    <tr>\n",
       "      <th>1</th>\n",
       "      <td>orcl</td>\n",
       "      <td>Hold or Sell</td>\n",
       "      <td>2.7187</td>\n",
       "      <td>Buy</td>\n",
       "      <td>2.3827</td>\n",
       "      <td>Buy</td>\n",
       "      <td>2.7693</td>\n",
       "      <td>471.0627</td>\n",
       "    </tr>\n",
       "    <tr>\n",
       "      <th>2</th>\n",
       "      <td>qcom</td>\n",
       "      <td>Hold or Sell</td>\n",
       "      <td>3.0829</td>\n",
       "      <td>Hold or Sell</td>\n",
       "      <td>2.3500</td>\n",
       "      <td>Hold or Sell</td>\n",
       "      <td>3.1488</td>\n",
       "      <td>87.3340</td>\n",
       "    </tr>\n",
       "    <tr>\n",
       "      <th>3</th>\n",
       "      <td>qqq</td>\n",
       "      <td>Hold or Sell</td>\n",
       "      <td>2.1559</td>\n",
       "      <td>Hold or Sell</td>\n",
       "      <td>2.1061</td>\n",
       "      <td>Hold or Sell</td>\n",
       "      <td>2.3314</td>\n",
       "      <td>18.5885</td>\n",
       "    </tr>\n",
       "    <tr>\n",
       "      <th>4</th>\n",
       "      <td>srpt</td>\n",
       "      <td>Hold or Sell</td>\n",
       "      <td>0.6504</td>\n",
       "      <td>Hold or Sell</td>\n",
       "      <td>1.7310</td>\n",
       "      <td>Hold or Sell</td>\n",
       "      <td>2.0986</td>\n",
       "      <td>1.5939</td>\n",
       "    </tr>\n",
       "    <tr>\n",
       "      <th>5</th>\n",
       "      <td>tgt</td>\n",
       "      <td>Hold or Sell</td>\n",
       "      <td>1.5818</td>\n",
       "      <td>Hold or Sell</td>\n",
       "      <td>2.7147</td>\n",
       "      <td>Hold or Sell</td>\n",
       "      <td>1.8766</td>\n",
       "      <td>506.4098</td>\n",
       "    </tr>\n",
       "    <tr>\n",
       "      <th>6</th>\n",
       "      <td>tsla</td>\n",
       "      <td>Hold or Sell</td>\n",
       "      <td>4.5624</td>\n",
       "      <td>Hold or Sell</td>\n",
       "      <td>3.8974</td>\n",
       "      <td>Hold or Sell</td>\n",
       "      <td>4.0723</td>\n",
       "      <td>142.3179</td>\n",
       "    </tr>\n",
       "    <tr>\n",
       "      <th>7</th>\n",
       "      <td>tsm</td>\n",
       "      <td>Hold or Sell</td>\n",
       "      <td>4.6699</td>\n",
       "      <td>Hold or Sell</td>\n",
       "      <td>5.1626</td>\n",
       "      <td>Hold or Sell</td>\n",
       "      <td>4.1080</td>\n",
       "      <td>22.4918</td>\n",
       "    </tr>\n",
       "    <tr>\n",
       "      <th>8</th>\n",
       "      <td>v</td>\n",
       "      <td>Buy</td>\n",
       "      <td>1.4785</td>\n",
       "      <td>Buy</td>\n",
       "      <td>1.4762</td>\n",
       "      <td>Buy</td>\n",
       "      <td>1.7936</td>\n",
       "      <td>10.0074</td>\n",
       "    </tr>\n",
       "    <tr>\n",
       "      <th>9</th>\n",
       "      <td>vbiv</td>\n",
       "      <td>Buy</td>\n",
       "      <td>2.9152</td>\n",
       "      <td>Buy</td>\n",
       "      <td>2.9210</td>\n",
       "      <td>Buy</td>\n",
       "      <td>2.0111</td>\n",
       "      <td>-0.9404</td>\n",
       "    </tr>\n",
       "    <tr>\n",
       "      <th>10</th>\n",
       "      <td>vbr</td>\n",
       "      <td>Hold or Sell</td>\n",
       "      <td>1.5087</td>\n",
       "      <td>Buy</td>\n",
       "      <td>1.4479</td>\n",
       "      <td>Buy</td>\n",
       "      <td>1.4612</td>\n",
       "      <td>2.4409</td>\n",
       "    </tr>\n",
       "    <tr>\n",
       "      <th>11</th>\n",
       "      <td>viov</td>\n",
       "      <td>Hold or Sell</td>\n",
       "      <td>1.6561</td>\n",
       "      <td>Hold or Sell</td>\n",
       "      <td>1.6438</td>\n",
       "      <td>Hold or Sell</td>\n",
       "      <td>1.7427</td>\n",
       "      <td>2.3247</td>\n",
       "    </tr>\n",
       "    <tr>\n",
       "      <th>12</th>\n",
       "      <td>vgt</td>\n",
       "      <td>Buy</td>\n",
       "      <td>2.2737</td>\n",
       "      <td>Buy</td>\n",
       "      <td>2.3067</td>\n",
       "      <td>Buy</td>\n",
       "      <td>2.0306</td>\n",
       "      <td>8.9385</td>\n",
       "    </tr>\n",
       "    <tr>\n",
       "      <th>13</th>\n",
       "      <td>wmt</td>\n",
       "      <td>Hold or Sell</td>\n",
       "      <td>1.3835</td>\n",
       "      <td>Hold or Sell</td>\n",
       "      <td>1.4374</td>\n",
       "      <td>Hold or Sell</td>\n",
       "      <td>1.8016</td>\n",
       "      <td>1826.0480</td>\n",
       "    </tr>\n",
       "    <tr>\n",
       "      <th>14</th>\n",
       "      <td>xlk</td>\n",
       "      <td>Buy</td>\n",
       "      <td>2.4198</td>\n",
       "      <td>Buy</td>\n",
       "      <td>2.7574</td>\n",
       "      <td>Buy</td>\n",
       "      <td>2.4230</td>\n",
       "      <td>12.6970</td>\n",
       "    </tr>\n",
       "  </tbody>\n",
       "</table>\n",
       "</div>"
      ],
      "text/plain": [
       "   stock    1_Day_Pred  1_Day_Model_Return    3_Day_Pred  3_Day_Model_Return  \\\n",
       "0   okta           Buy              0.7899           Buy              0.8658   \n",
       "1   orcl  Hold or Sell              2.7187           Buy              2.3827   \n",
       "2   qcom  Hold or Sell              3.0829  Hold or Sell              2.3500   \n",
       "3    qqq  Hold or Sell              2.1559  Hold or Sell              2.1061   \n",
       "4   srpt  Hold or Sell              0.6504  Hold or Sell              1.7310   \n",
       "5    tgt  Hold or Sell              1.5818  Hold or Sell              2.7147   \n",
       "6   tsla  Hold or Sell              4.5624  Hold or Sell              3.8974   \n",
       "7    tsm  Hold or Sell              4.6699  Hold or Sell              5.1626   \n",
       "8      v           Buy              1.4785           Buy              1.4762   \n",
       "9   vbiv           Buy              2.9152           Buy              2.9210   \n",
       "10   vbr  Hold or Sell              1.5087           Buy              1.4479   \n",
       "11  viov  Hold or Sell              1.6561  Hold or Sell              1.6438   \n",
       "12   vgt           Buy              2.2737           Buy              2.3067   \n",
       "13   wmt  Hold or Sell              1.3835  Hold or Sell              1.4374   \n",
       "14   xlk           Buy              2.4198           Buy              2.7574   \n",
       "\n",
       "      5_Day_Pred  5_Day_Model_Return  Actual_Returns  \n",
       "0   Hold or Sell              0.8784          7.1165  \n",
       "1            Buy              2.7693        471.0627  \n",
       "2   Hold or Sell              3.1488         87.3340  \n",
       "3   Hold or Sell              2.3314         18.5885  \n",
       "4   Hold or Sell              2.0986          1.5939  \n",
       "5   Hold or Sell              1.8766        506.4098  \n",
       "6   Hold or Sell              4.0723        142.3179  \n",
       "7   Hold or Sell              4.1080         22.4918  \n",
       "8            Buy              1.7936         10.0074  \n",
       "9            Buy              2.0111         -0.9404  \n",
       "10           Buy              1.4612          2.4409  \n",
       "11  Hold or Sell              1.7427          2.3247  \n",
       "12           Buy              2.0306          8.9385  \n",
       "13  Hold or Sell              1.8016       1826.0480  \n",
       "14           Buy              2.4230         12.6970  "
      ]
     },
     "execution_count": 33,
     "metadata": {},
     "output_type": "execute_result"
    }
   ],
   "source": [
    "summary_df = a.pred_summary_df(start_dates3, stocks = [x for x in start_dates3], days_back = 1)\n",
    "summary_df"
   ]
  },
  {
   "cell_type": "code",
   "execution_count": 34,
   "metadata": {},
   "outputs": [
    {
     "data": {
      "text/plain": [
       "(2.1559, 2.3067, 2.0306, 12.697)"
      ]
     },
     "execution_count": 34,
     "metadata": {},
     "output_type": "execute_result"
    }
   ],
   "source": [
    "summary_df['1_Day_Model_Return'].median(), summary_df['3_Day_Model_Return'].median(), summary_df['5_Day_Model_Return'].median(), summary_df['Actual_Returns'].median()"
   ]
  },
  {
   "cell_type": "code",
   "execution_count": null,
   "metadata": {},
   "outputs": [],
   "source": []
  },
  {
   "cell_type": "code",
   "execution_count": null,
   "metadata": {},
   "outputs": [],
   "source": []
  },
  {
   "cell_type": "code",
   "execution_count": null,
   "metadata": {},
   "outputs": [],
   "source": [
    "    "
   ]
  },
  {
   "cell_type": "code",
   "execution_count": null,
   "metadata": {},
   "outputs": [],
   "source": []
  },
  {
   "cell_type": "code",
   "execution_count": null,
   "metadata": {},
   "outputs": [],
   "source": []
  }
 ],
 "metadata": {
  "kernelspec": {
   "display_name": "Python 3",
   "language": "python",
   "name": "python3"
  },
  "language_info": {
   "codemirror_mode": {
    "name": "ipython",
    "version": 3
   },
   "file_extension": ".py",
   "mimetype": "text/x-python",
   "name": "python",
   "nbconvert_exporter": "python",
   "pygments_lexer": "ipython3",
   "version": "3.8.10"
  }
 },
 "nbformat": 4,
 "nbformat_minor": 4
}
