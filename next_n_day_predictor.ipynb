{
 "cells": [
  {
   "cell_type": "code",
   "execution_count": 1,
   "metadata": {
    "scrolled": true
   },
   "outputs": [],
   "source": [
    "from src import attributes as a\n",
    "%load_ext autoreload\n",
    "%autoreload 2"
   ]
  },
  {
   "cell_type": "code",
   "execution_count": 2,
   "metadata": {},
   "outputs": [],
   "source": [
    "# Global Variables\n",
    "stock_name = 'msft' # ticker symbol\n",
    "train = 0 # 1 for train, 0 for pass\n",
    "days_ahead = 1 # for predicting 1, 3, or 5 days ahead\n",
    "days_back = -1 # -1 for current data point, -2 for two days ago, etc...\n",
    "cv = 5 # number of cross validation folds\n",
    "model_name = 'Random Forest Classifier' # for display on charts, not a tuning parameter"
   ]
  },
  {
   "cell_type": "code",
   "execution_count": 3,
   "metadata": {},
   "outputs": [],
   "source": [
    "# Extract, Transform, Load, and Train Test Split\n",
    "# Dictionary of IPO Dates\n",
    "start_dates = {'a': '11/15/1999' # Updated 3/18/21 1D, 3D, 5D ahead\n",
    "               , 'aapl':'12/12/1980' # Updated 3/18/21 1D, 3D, 5D ahead\n",
    "               , 'acy': '01/18/1998' # Updated 3/18/21 1D, 3D, 5D ahead\n",
    "               , 'adbe': '08/11/1986' # Updated 3/18/21 1D, 3D, 5D ahead\n",
    "               , 'alb': '02/21/1994' # Updated 3/18/21 1D, 3D, 5D ahead\n",
    "               , 'amat': '03/16/1980' # Updated 3/18/21 1D, 3D, 5D ahead\n",
    "               , 'amd': '03/17/1980' # Updated 3/18/21 1D, 3D, 5D ahead\n",
    "               , 'amgn': '06/13/1983' # Updated 3/18/21 1D, 3D, 5D ahead\n",
    "               , 'amzn': '05/12/1997' # Updated 3/18/21 1D, 3D, 5D ahead\n",
    "               , 'baba': '09/15/2014' # Updated 3/18/21 1D, 3D, 5D ahead\n",
    "               , 'bac': '02/19/1973' # Updated 3/18/21 1D, 3D, 5D ahead\n",
    "               , 'bpmc': '04/27/2015' # Updated 3/18/21 1D, 3D, 5D ahead\n",
    "               , 'crm': '06/23/2004' # Updated 3/18/21 1D, 3D, 5D ahead\n",
    "               , 'crsp': '10/16/2016' # Updated 3/18/21 1D, 3D, 5D ahead\n",
    "               , 'dq': '10/04/2010' # Updated 3/18/21 1D, 3D, 5D ahead\n",
    "               , 'esgv': '09/16/2018' # Updated 3/18/21 1D, 3D, 5D ahead\n",
    "               , 'fslr': '11/12/2006' # Updated 3/18/21 1D, 3D, 5D ahead\n",
    "               , 'goog': '08/16/2004' # Updated 3/18/21 1D, 3D, 5D ahead\n",
    "               , 'ibm': '01/02/1962' # Updated 3/18/21 1D, 3D, 5D ahead\n",
    "               , 'intc': '03/16/1980' # Updated 3/18/21 1D, 3D, 5D ahead\n",
    "               , 'iyw': '05/15/2000' # Updated 3/18/21 1D, 3D, 5D ahead\n",
    "               , 'lng': '04/04/1994' # Updated 3/18/21 1D, 3D, 5D ahead\n",
    "               , 'ma': '05/21/2006' # Updated 3/18/21 1D, 3D, 5D ahead\n",
    "               , 'mdb': '10/15/2017' # Updated 3/18/21 1D, 3D, 5D ahead\n",
    "               , 'msft': '03/10/1986' # Updated 3/18/21 1D, 3D, 5D ahead\n",
    "               , 'mu': '05/28/1984' # Updated 3/18/21 1D, 3D, 5D ahead\n",
    "               , 'nee': '02/19/1973' # Updated 3/18/21 1D, 3D, 5D ahead\n",
    "               , 'nio': '09/10/2018' # Updated 3/18/21 1D, 3D, 5D ahead\n",
    "               , 'nvda': '01/22/1999' # Updated 3/18/21 1D, 3D, 5D ahead\n",
    "               , 'pacb': '10/25/2010' # Updated 3/18/21 1D, 3D, 5D ahead\n",
    "               , 'pypl': '07/05/2015' # Updated 3/18/21 1D, 3D, 5D ahead\n",
    "               , 'qgen': '06/24/1996' # Updated 3/18/21 1D, 3D, 5D ahead\n",
    "               , 'run': '08/02/2015' # Updated 3/18/21 1D, 3D, 5D ahead\n",
    "               , 'okta': '04/03/2017' # Updated 3/18/21 1D, 3D, 5D ahead\n",
    "               , 'orcl': '03/10/1986' # Updated 3/18/21 1D, 3D, 5D ahead\n",
    "               , 'qqq': '03/08/1999' # Updated 3/18/21 1D, 3D, 5D ahead\n",
    "               , 'srpt': '06/02/1997' # Updated 3/18/21 1D, 3D, 5D ahead\n",
    "               , 'tpic': '07/17/2016' # Updated 3/18/21 1D, 3D, 5D ahead\n",
    "               , 'tsla': '06/29/2010' # Updated 3/18/21 1D, 3D, 5D ahead\n",
    "               , 'v': '03/16/2008' # Updated 3/18/21 1D, 3D, 5D ahead\n",
    "               , 'vbiv': '09/04/2002' # Updated 3/818/21 1D, 3D, 5D ahead\n",
    "               , 'vbr': '01/26/2004' # Updated 3/18/21 1D, 3D, 5D ahead\n",
    "               , 'viov': '09/06/2010' # Updated 3/18/21 1D, 3D, 5D ahead\n",
    "               , 'vgt': '01/26/2004' # Updated 3/18/21 1D, 3D, 5D ahead\n",
    "               , 'xlk': '12/21/1998' # Updated 3/18/21 1D, 3D, 5D ahead\n",
    "              }"
   ]
  },
  {
   "cell_type": "code",
   "execution_count": null,
   "metadata": {},
   "outputs": [],
   "source": []
  },
  {
   "cell_type": "code",
   "execution_count": 4,
   "metadata": {},
   "outputs": [],
   "source": [
    "# X_train, X_test, y_train, y_test, stock_df = a.data(stock_name, start_dates[stock_name], days_ahead)\n",
    "# stock_df.tail(10)"
   ]
  },
  {
   "cell_type": "code",
   "execution_count": 5,
   "metadata": {
    "scrolled": false
   },
   "outputs": [],
   "source": [
    "# GridSerach to find best hyperparameters to prevent overfitting, can be commented out once trained\n",
    "# if train == 1:\n",
    "#     a.rfc_GridSearch(X_train, y_train, stock_name, days_ahead, cv)\n",
    "# elif train == 0:\n",
    "#     pass"
   ]
  },
  {
   "cell_type": "code",
   "execution_count": 6,
   "metadata": {},
   "outputs": [],
   "source": [
    "# Load RandomForextClassifier Model\n",
    "# rfc_model, y_pred, y_probs = a.rfc(X_train, X_test, y_train, stock_name, days_ahead)"
   ]
  },
  {
   "cell_type": "code",
   "execution_count": 7,
   "metadata": {
    "scrolled": false
   },
   "outputs": [],
   "source": [
    "# ROC Curve\n",
    "# a.roc_plot(y_test, y_probs, stock_name, model_name)"
   ]
  },
  {
   "cell_type": "code",
   "execution_count": 8,
   "metadata": {
    "scrolled": false
   },
   "outputs": [],
   "source": [
    "# Precision Recall Curve\n",
    "# a.prec_recall(y_test, y_probs, stock_name, model_name)"
   ]
  },
  {
   "cell_type": "code",
   "execution_count": 9,
   "metadata": {
    "scrolled": false
   },
   "outputs": [],
   "source": [
    "# Confusion Matrix\n",
    "# a.confusion_matrix(rfc_model, X_test, y_test, stock_name)"
   ]
  },
  {
   "cell_type": "code",
   "execution_count": 10,
   "metadata": {},
   "outputs": [],
   "source": [
    "# Cross Validation\n",
    "# a.cross_validation(rfc_model\n",
    "#                    , stock_df[['oc', 'hl', '5stdev_adj', '5sma_adj']]\n",
    "#                    , stock_df['direction']\n",
    "#                    , cv = 5\n",
    "#                   )"
   ]
  },
  {
   "cell_type": "markdown",
   "metadata": {},
   "source": [
    "### Prediction..."
   ]
  },
  {
   "cell_type": "code",
   "execution_count": 11,
   "metadata": {
    "scrolled": true
   },
   "outputs": [],
   "source": [
    "# Prediction, use last day of data\n",
    "# stock_df.iloc[-1]"
   ]
  },
  {
   "cell_type": "code",
   "execution_count": 12,
   "metadata": {},
   "outputs": [],
   "source": [
    "# import numpy as np\n",
    "# last = stock_df[['oc', 'hl', '5stdev_adj', '5sma_adj']].iloc[-days_back]\n",
    "# last"
   ]
  },
  {
   "cell_type": "code",
   "execution_count": 13,
   "metadata": {},
   "outputs": [],
   "source": [
    "# stock_df['adj'].describe()"
   ]
  },
  {
   "cell_type": "code",
   "execution_count": 14,
   "metadata": {
    "scrolled": true
   },
   "outputs": [],
   "source": [
    "# if rfc_model.predict(np.array(last).reshape(1, -1))[0] == 1:\n",
    "#     print(f'Buy {stock_name} {days_ahead} day(s) ahead')\n",
    "# else:\n",
    "#     print(f'Sell or hold {stock_name} {days_ahead} day(s) ahead')"
   ]
  },
  {
   "cell_type": "markdown",
   "metadata": {},
   "source": [
    "### Strategy Returns..."
   ]
  },
  {
   "cell_type": "code",
   "execution_count": 15,
   "metadata": {},
   "outputs": [],
   "source": [
    "# returns on strategy column\n",
    "# stock_df['prediction'] = rfc_model.predict(stock_df[['oc', 'hl', '5stdev_adj', '5sma_adj']])\n",
    "# stock_df['returns'] = stock_df['adj'].shift(-1, fill_value = stock_df['adj'].median()) * stock_df['prediction']"
   ]
  },
  {
   "cell_type": "code",
   "execution_count": 16,
   "metadata": {},
   "outputs": [],
   "source": [
    "# stock_df.tail(5)"
   ]
  },
  {
   "cell_type": "code",
   "execution_count": 17,
   "metadata": {},
   "outputs": [],
   "source": [
    "# Don't trade every day!\n",
    "# import matplotlib.pyplot as plt\n",
    "# test_length = len(y_test)\n",
    "# (stock_df['returns'][-test_length:] + 1).cumprod().plot()\n",
    "# plt.title(f'{stock_name} Expected Returns %');"
   ]
  },
  {
   "cell_type": "code",
   "execution_count": 18,
   "metadata": {},
   "outputs": [],
   "source": [
    "# Model returns if bought on predictions of 1\n",
    "# returns_on_ones = []\n",
    "# for idx in range(-test_length, 0):\n",
    "#     if stock_df['prediction'][idx] == 1:\n",
    "#         returns_on_ones.append(1 + stock_df['returns'][idx])\n",
    "\n",
    "# returns = 1\n",
    "# for x in returns_on_ones:\n",
    "#     returns *= x\n",
    "# returns"
   ]
  },
  {
   "cell_type": "code",
   "execution_count": 19,
   "metadata": {},
   "outputs": [],
   "source": [
    "# multiple times original investment, not bad but..."
   ]
  },
  {
   "cell_type": "code",
   "execution_count": 20,
   "metadata": {},
   "outputs": [],
   "source": [
    "# If purchased in 2012 and left it until now\n",
    "# test_idx = int(len(stock_df)*0.75)\n",
    "# (stock_df['Close'][-1] - stock_df['Close'][-test_idx]) / stock_df['Close'][-test_idx]"
   ]
  },
  {
   "cell_type": "code",
   "execution_count": 21,
   "metadata": {},
   "outputs": [],
   "source": [
    "# Buy and hold strategy beats RandomForestClassifier in this study\n",
    "\n",
    "# Special thanks to Shagufta Tahsildar at https://blog.quantinsti.com/random-forest-algorithm-in-python/"
   ]
  },
  {
   "cell_type": "code",
   "execution_count": null,
   "metadata": {},
   "outputs": [],
   "source": []
  },
  {
   "cell_type": "code",
   "execution_count": null,
   "metadata": {},
   "outputs": [],
   "source": []
  },
  {
   "cell_type": "code",
   "execution_count": null,
   "metadata": {},
   "outputs": [],
   "source": []
  },
  {
   "cell_type": "markdown",
   "metadata": {},
   "source": [
    "### Training"
   ]
  },
  {
   "cell_type": "markdown",
   "metadata": {},
   "source": [
    "Training is done once a week on Saturday and Sunday"
   ]
  },
  {
   "cell_type": "code",
   "execution_count": 22,
   "metadata": {},
   "outputs": [
    {
     "data": {
      "text/plain": [
       "45"
      ]
     },
     "execution_count": 22,
     "metadata": {},
     "output_type": "execute_result"
    }
   ],
   "source": [
    "len(start_dates)"
   ]
  },
  {
   "cell_type": "code",
   "execution_count": 23,
   "metadata": {},
   "outputs": [
    {
     "data": {
      "text/plain": [
       "{'a': '11/15/1999',\n",
       " 'aapl': '12/12/1980',\n",
       " 'acy': '01/18/1998',\n",
       " 'adbe': '08/11/1986',\n",
       " 'alb': '02/21/1994',\n",
       " 'amat': '03/16/1980',\n",
       " 'amd': '03/17/1980',\n",
       " 'amgn': '06/13/1983',\n",
       " 'amzn': '05/12/1997',\n",
       " 'baba': '09/15/2014',\n",
       " 'bac': '02/19/1973',\n",
       " 'bpmc': '04/27/2015',\n",
       " 'crm': '06/23/2004',\n",
       " 'crsp': '10/16/2016',\n",
       " 'dq': '10/04/2010'}"
      ]
     },
     "execution_count": 23,
     "metadata": {},
     "output_type": "execute_result"
    }
   ],
   "source": [
    "import itertools as itr\n",
    "start_dates1 = dict(itr.islice(start_dates.items(), 0, 15))\n",
    "start_dates1"
   ]
  },
  {
   "cell_type": "code",
   "execution_count": 24,
   "metadata": {},
   "outputs": [
    {
     "data": {
      "text/plain": [
       "{'esgv': '09/16/2018',\n",
       " 'fslr': '11/12/2006',\n",
       " 'goog': '08/16/2004',\n",
       " 'ibm': '01/02/1962',\n",
       " 'intc': '03/16/1980',\n",
       " 'iyw': '05/15/2000',\n",
       " 'lng': '04/04/1994',\n",
       " 'ma': '05/21/2006',\n",
       " 'mdb': '10/15/2017',\n",
       " 'msft': '03/10/1986',\n",
       " 'mu': '05/28/1984',\n",
       " 'nee': '02/19/1973',\n",
       " 'nio': '09/10/2018',\n",
       " 'nvda': '01/22/1999',\n",
       " 'pacb': '10/25/2010'}"
      ]
     },
     "execution_count": 24,
     "metadata": {},
     "output_type": "execute_result"
    }
   ],
   "source": [
    "start_dates2 = dict(itr.islice(start_dates.items(), 15, 30))\n",
    "start_dates2"
   ]
  },
  {
   "cell_type": "code",
   "execution_count": 25,
   "metadata": {},
   "outputs": [
    {
     "data": {
      "text/plain": [
       "{'pypl': '07/05/2015',\n",
       " 'qgen': '06/24/1996',\n",
       " 'run': '08/02/2015',\n",
       " 'okta': '04/03/2017',\n",
       " 'orcl': '03/10/1986',\n",
       " 'qqq': '03/08/1999',\n",
       " 'srpt': '06/02/1997',\n",
       " 'tpic': '07/17/2016',\n",
       " 'tsla': '06/29/2010',\n",
       " 'v': '03/16/2008',\n",
       " 'vbiv': '09/04/2002',\n",
       " 'vbr': '01/26/2004',\n",
       " 'viov': '09/06/2010',\n",
       " 'vgt': '01/26/2004',\n",
       " 'xlk': '12/21/1998'}"
      ]
     },
     "execution_count": 25,
     "metadata": {},
     "output_type": "execute_result"
    }
   ],
   "source": [
    "start_dates3 = dict(itr.islice(start_dates.items(), 30, 45+1))\n",
    "start_dates3"
   ]
  },
  {
   "cell_type": "code",
   "execution_count": 26,
   "metadata": {},
   "outputs": [],
   "source": [
    "#Train 15 at a time!\n",
    "# stocks = [x for x in start_dates1]\n",
    "# days_ahead = [1, 3, 5]\n",
    "# cv = 5\n",
    "# for stock in stocks:\n",
    "#     for days in days_ahead:\n",
    "#         X_train, X_test, y_train, y_test, stock_df = a.data(stock, start_dates[stock], days)\n",
    "#         a.rfc_GridSearch(X_train, y_train, stock, days, cv)\n",
    "# len(stocks)\n",
    "\n",
    "# stocks = [x for x in start_dates2]\n",
    "# days_ahead = [1, 3, 5]\n",
    "# cv = 5\n",
    "# for stock in stocks:\n",
    "#     for days in days_ahead:\n",
    "#         X_train, X_test, y_train, y_test, stock_df = a.data(stock, start_dates[stock], days)\n",
    "#         a.rfc_GridSearch(X_train, y_train, stock, days, cv)\n",
    "# len(stocks)\n",
    "\n",
    "# stocks = [x for x in start_dates3]\n",
    "# days_ahead = [1, 3, 5]\n",
    "# cv = 5\n",
    "# for stock in stocks:\n",
    "#     for days in days_ahead:\n",
    "#         X_train, X_test, y_train, y_test, stock_df = a.data(stock, start_dates[stock], days)\n",
    "#         a.rfc_GridSearch(X_train, y_train, stock, days, cv)\n",
    "# len(stocks)\n",
    "\n",
    "# # Train all, takes 15+ hours\n",
    "# stocks = [x for x in start_dates]\n",
    "# days_ahead = [1, 3, 5]\n",
    "# cv = 5\n",
    "# for stock in stocks:\n",
    "#     for days in days_ahead:\n",
    "#         X_train, X_test, y_train, y_test, stock_df = a.data(stock, start_dates[stock], days)\n",
    "#         a.rfc_GridSearch(X_train, y_train, stock, days, cv)\n",
    "# len(stocks)\n",
    "\n",
    "# Train desired stocks...takes less time\n",
    "# stocks = ['aapl']\n",
    "# days_ahead = [1, 3, 5]\n",
    "# cv = 5\n",
    "# for stock in stocks:\n",
    "#     for days in days_ahead:\n",
    "#         X_train, X_test, y_train, y_test, stock_df = a.data(stock, start_dates[stock], days)\n",
    "#         a.rfc_GridSearch(X_train, y_train, stock, days, cv)"
   ]
  },
  {
   "cell_type": "code",
   "execution_count": null,
   "metadata": {},
   "outputs": [],
   "source": []
  },
  {
   "cell_type": "code",
   "execution_count": null,
   "metadata": {},
   "outputs": [],
   "source": []
  },
  {
   "cell_type": "code",
   "execution_count": null,
   "metadata": {},
   "outputs": [],
   "source": []
  },
  {
   "cell_type": "markdown",
   "metadata": {},
   "source": [
    "### Display All Results"
   ]
  },
  {
   "cell_type": "code",
   "execution_count": 27,
   "metadata": {
    "scrolled": false
   },
   "outputs": [
    {
     "name": "stdout",
     "output_type": "stream",
     "text": [
      "Sell or hold tsla 5 day(s) ahead\n",
      "Model Returns (x 100 for %): 2.1981\n",
      "Stock Returns (x 100 for %): 98.8075\n"
     ]
    },
    {
     "data": {
      "image/png": "[encoded data removed]",
      "text/plain": [
       "<Figure size 432x288 with 1 Axes>"
      ]
     },
     "metadata": {},
     "output_type": "display_data"
    },
    {
     "data": {
      "image/png": "[encoded data removed]",
      "text/plain": [
       "<Figure size 648x504 with 1 Axes>"
      ]
     },
     "metadata": {},
     "output_type": "display_data"
    },
    {
     "data": {
      "image/png": "[encoded data removed]",
      "text/plain": [
       "<Figure size 648x504 with 1 Axes>"
      ]
     },
     "metadata": {},
     "output_type": "display_data"
    },
    {
     "data": {
      "image/png": "[encoded data removed]",
      "text/plain": [
       "<Figure size 684x612 with 2 Axes>"
      ]
     },
     "metadata": {},
     "output_type": "display_data"
    }
   ],
   "source": [
    "stock_name = 'tsla'\n",
    "a.all_func(stock_name\n",
    "           , start_dates[stock_name]\n",
    "           , days_ahead = 5\n",
    "           , model_name = model_name\n",
    "           , days_back = 1\n",
    "          )"
   ]
  },
  {
   "cell_type": "code",
   "execution_count": null,
   "metadata": {},
   "outputs": [],
   "source": []
  },
  {
   "cell_type": "code",
   "execution_count": null,
   "metadata": {},
   "outputs": [],
   "source": []
  },
  {
   "cell_type": "code",
   "execution_count": null,
   "metadata": {},
   "outputs": [],
   "source": []
  },
  {
   "cell_type": "markdown",
   "metadata": {},
   "source": [
    "### Data Frame of Predictions 1 3 5 Days"
   ]
  },
  {
   "cell_type": "code",
   "execution_count": 28,
   "metadata": {},
   "outputs": [
    {
     "name": "stdout",
     "output_type": "stream",
     "text": [
      "Today's date: 2021-04-12\n"
     ]
    }
   ],
   "source": [
    "from datetime import date\n",
    "\n",
    "today = date.today()\n",
    "print(\"Today's date:\", today)"
   ]
  },
  {
   "cell_type": "code",
   "execution_count": 29,
   "metadata": {
    "scrolled": false
   },
   "outputs": [
    {
     "data": {
      "text/html": [
       "<div>\n",
       "<style scoped>\n",
       "    .dataframe tbody tr th:only-of-type {\n",
       "        vertical-align: middle;\n",
       "    }\n",
       "\n",
       "    .dataframe tbody tr th {\n",
       "        vertical-align: top;\n",
       "    }\n",
       "\n",
       "    .dataframe thead th {\n",
       "        text-align: right;\n",
       "    }\n",
       "</style>\n",
       "<table border=\"1\" class=\"dataframe\">\n",
       "  <thead>\n",
       "    <tr style=\"text-align: right;\">\n",
       "      <th></th>\n",
       "      <th>stock</th>\n",
       "      <th>1_Day_Pred</th>\n",
       "      <th>1_Day_Model_Return</th>\n",
       "      <th>3_Day_Pred</th>\n",
       "      <th>3_Day_Model_Return</th>\n",
       "      <th>5_Day_Pred</th>\n",
       "      <th>5_Day_Model_Return</th>\n",
       "      <th>Actual_Returns</th>\n",
       "    </tr>\n",
       "  </thead>\n",
       "  <tbody>\n",
       "    <tr>\n",
       "      <th>0</th>\n",
       "      <td>a</td>\n",
       "      <td>Buy</td>\n",
       "      <td>3.8271</td>\n",
       "      <td>Buy</td>\n",
       "      <td>3.9927</td>\n",
       "      <td>Buy</td>\n",
       "      <td>3.6476</td>\n",
       "      <td>7.4558</td>\n",
       "    </tr>\n",
       "    <tr>\n",
       "      <th>1</th>\n",
       "      <td>aapl</td>\n",
       "      <td>Buy</td>\n",
       "      <td>3.3154</td>\n",
       "      <td>Buy</td>\n",
       "      <td>3.5299</td>\n",
       "      <td>Buy</td>\n",
       "      <td>4.0167</td>\n",
       "      <td>311.1335</td>\n",
       "    </tr>\n",
       "    <tr>\n",
       "      <th>2</th>\n",
       "      <td>acy</td>\n",
       "      <td>Hold or Sell</td>\n",
       "      <td>0.7256</td>\n",
       "      <td>Hold or Sell</td>\n",
       "      <td>0.6514</td>\n",
       "      <td>Hold or Sell</td>\n",
       "      <td>0.5313</td>\n",
       "      <td>2.2931</td>\n",
       "    </tr>\n",
       "    <tr>\n",
       "      <th>3</th>\n",
       "      <td>adbe</td>\n",
       "      <td>Hold or Sell</td>\n",
       "      <td>8.9153</td>\n",
       "      <td>Hold or Sell</td>\n",
       "      <td>8.2163</td>\n",
       "      <td>Hold or Sell</td>\n",
       "      <td>7.0137</td>\n",
       "      <td>82.8234</td>\n",
       "    </tr>\n",
       "    <tr>\n",
       "      <th>4</th>\n",
       "      <td>alb</td>\n",
       "      <td>Hold or Sell</td>\n",
       "      <td>1.8704</td>\n",
       "      <td>Hold or Sell</td>\n",
       "      <td>1.4822</td>\n",
       "      <td>Buy</td>\n",
       "      <td>2.1045</td>\n",
       "      <td>11.8278</td>\n",
       "    </tr>\n",
       "    <tr>\n",
       "      <th>5</th>\n",
       "      <td>amat</td>\n",
       "      <td>Buy</td>\n",
       "      <td>9.2325</td>\n",
       "      <td>Buy</td>\n",
       "      <td>9.8063</td>\n",
       "      <td>Buy</td>\n",
       "      <td>7.5932</td>\n",
       "      <td>234.2761</td>\n",
       "    </tr>\n",
       "    <tr>\n",
       "      <th>6</th>\n",
       "      <td>amd</td>\n",
       "      <td>Buy</td>\n",
       "      <td>9.7080</td>\n",
       "      <td>Buy</td>\n",
       "      <td>4.6747</td>\n",
       "      <td>Buy</td>\n",
       "      <td>6.3534</td>\n",
       "      <td>15.9362</td>\n",
       "    </tr>\n",
       "    <tr>\n",
       "      <th>7</th>\n",
       "      <td>amgn</td>\n",
       "      <td>Hold or Sell</td>\n",
       "      <td>4.8350</td>\n",
       "      <td>Hold or Sell</td>\n",
       "      <td>5.1804</td>\n",
       "      <td>Hold or Sell</td>\n",
       "      <td>4.7242</td>\n",
       "      <td>24.6608</td>\n",
       "    </tr>\n",
       "    <tr>\n",
       "      <th>8</th>\n",
       "      <td>amzn</td>\n",
       "      <td>Hold or Sell</td>\n",
       "      <td>3.6237</td>\n",
       "      <td>Hold or Sell</td>\n",
       "      <td>3.9614</td>\n",
       "      <td>Hold or Sell</td>\n",
       "      <td>3.8186</td>\n",
       "      <td>102.5159</td>\n",
       "    </tr>\n",
       "    <tr>\n",
       "      <th>9</th>\n",
       "      <td>baba</td>\n",
       "      <td>Hold or Sell</td>\n",
       "      <td>1.5863</td>\n",
       "      <td>Hold or Sell</td>\n",
       "      <td>1.5288</td>\n",
       "      <td>Hold or Sell</td>\n",
       "      <td>1.3403</td>\n",
       "      <td>2.0665</td>\n",
       "    </tr>\n",
       "    <tr>\n",
       "      <th>10</th>\n",
       "      <td>bac</td>\n",
       "      <td>Hold or Sell</td>\n",
       "      <td>5.8393</td>\n",
       "      <td>Hold or Sell</td>\n",
       "      <td>3.4015</td>\n",
       "      <td>Hold or Sell</td>\n",
       "      <td>5.0821</td>\n",
       "      <td>7.9243</td>\n",
       "    </tr>\n",
       "    <tr>\n",
       "      <th>11</th>\n",
       "      <td>bpmc</td>\n",
       "      <td>Buy</td>\n",
       "      <td>2.2868</td>\n",
       "      <td>Buy</td>\n",
       "      <td>2.2080</td>\n",
       "      <td>Buy</td>\n",
       "      <td>1.9243</td>\n",
       "      <td>2.0308</td>\n",
       "    </tr>\n",
       "    <tr>\n",
       "      <th>12</th>\n",
       "      <td>crm</td>\n",
       "      <td>Buy</td>\n",
       "      <td>2.1854</td>\n",
       "      <td>Hold or Sell</td>\n",
       "      <td>1.8514</td>\n",
       "      <td>Buy</td>\n",
       "      <td>2.1869</td>\n",
       "      <td>15.3209</td>\n",
       "    </tr>\n",
       "    <tr>\n",
       "      <th>13</th>\n",
       "      <td>crsp</td>\n",
       "      <td>Buy</td>\n",
       "      <td>1.0177</td>\n",
       "      <td>Buy</td>\n",
       "      <td>0.7120</td>\n",
       "      <td>Buy</td>\n",
       "      <td>0.8590</td>\n",
       "      <td>4.9556</td>\n",
       "    </tr>\n",
       "    <tr>\n",
       "      <th>14</th>\n",
       "      <td>dq</td>\n",
       "      <td>Hold or Sell</td>\n",
       "      <td>6.5590</td>\n",
       "      <td>Hold or Sell</td>\n",
       "      <td>6.6607</td>\n",
       "      <td>Hold or Sell</td>\n",
       "      <td>8.5506</td>\n",
       "      <td>45.8210</td>\n",
       "    </tr>\n",
       "  </tbody>\n",
       "</table>\n",
       "</div>"
      ],
      "text/plain": [
       "   stock    1_Day_Pred  1_Day_Model_Return    3_Day_Pred  3_Day_Model_Return  \\\n",
       "0      a           Buy              3.8271           Buy              3.9927   \n",
       "1   aapl           Buy              3.3154           Buy              3.5299   \n",
       "2    acy  Hold or Sell              0.7256  Hold or Sell              0.6514   \n",
       "3   adbe  Hold or Sell              8.9153  Hold or Sell              8.2163   \n",
       "4    alb  Hold or Sell              1.8704  Hold or Sell              1.4822   \n",
       "5   amat           Buy              9.2325           Buy              9.8063   \n",
       "6    amd           Buy              9.7080           Buy              4.6747   \n",
       "7   amgn  Hold or Sell              4.8350  Hold or Sell              5.1804   \n",
       "8   amzn  Hold or Sell              3.6237  Hold or Sell              3.9614   \n",
       "9   baba  Hold or Sell              1.5863  Hold or Sell              1.5288   \n",
       "10   bac  Hold or Sell              5.8393  Hold or Sell              3.4015   \n",
       "11  bpmc           Buy              2.2868           Buy              2.2080   \n",
       "12   crm           Buy              2.1854  Hold or Sell              1.8514   \n",
       "13  crsp           Buy              1.0177           Buy              0.7120   \n",
       "14    dq  Hold or Sell              6.5590  Hold or Sell              6.6607   \n",
       "\n",
       "      5_Day_Pred  5_Day_Model_Return  Actual_Returns  \n",
       "0            Buy              3.6476          7.4558  \n",
       "1            Buy              4.0167        311.1335  \n",
       "2   Hold or Sell              0.5313          2.2931  \n",
       "3   Hold or Sell              7.0137         82.8234  \n",
       "4            Buy              2.1045         11.8278  \n",
       "5            Buy              7.5932        234.2761  \n",
       "6            Buy              6.3534         15.9362  \n",
       "7   Hold or Sell              4.7242         24.6608  \n",
       "8   Hold or Sell              3.8186        102.5159  \n",
       "9   Hold or Sell              1.3403          2.0665  \n",
       "10  Hold or Sell              5.0821          7.9243  \n",
       "11           Buy              1.9243          2.0308  \n",
       "12           Buy              2.1869         15.3209  \n",
       "13           Buy              0.8590          4.9556  \n",
       "14  Hold or Sell              8.5506         45.8210  "
      ]
     },
     "execution_count": 29,
     "metadata": {},
     "output_type": "execute_result"
    }
   ],
   "source": [
    "summary_df = a.pred_summary_df(start_dates1, stocks = [x for x in start_dates1], days_back = 1)\n",
    "summary_df"
   ]
  },
  {
   "cell_type": "code",
   "execution_count": 30,
   "metadata": {},
   "outputs": [
    {
     "data": {
      "text/plain": [
       "(3.6237, 3.5299, 3.8186, 15.3209)"
      ]
     },
     "execution_count": 30,
     "metadata": {},
     "output_type": "execute_result"
    }
   ],
   "source": [
    "summary_df['1_Day_Model_Return'].median(), summary_df['3_Day_Model_Return'].median(), summary_df['5_Day_Model_Return'].median(), summary_df['Actual_Returns'].median()"
   ]
  },
  {
   "cell_type": "code",
   "execution_count": 31,
   "metadata": {},
   "outputs": [
    {
     "data": {
      "text/html": [
       "<div>\n",
       "<style scoped>\n",
       "    .dataframe tbody tr th:only-of-type {\n",
       "        vertical-align: middle;\n",
       "    }\n",
       "\n",
       "    .dataframe tbody tr th {\n",
       "        vertical-align: top;\n",
       "    }\n",
       "\n",
       "    .dataframe thead th {\n",
       "        text-align: right;\n",
       "    }\n",
       "</style>\n",
       "<table border=\"1\" class=\"dataframe\">\n",
       "  <thead>\n",
       "    <tr style=\"text-align: right;\">\n",
       "      <th></th>\n",
       "      <th>stock</th>\n",
       "      <th>1_Day_Pred</th>\n",
       "      <th>1_Day_Model_Return</th>\n",
       "      <th>3_Day_Pred</th>\n",
       "      <th>3_Day_Model_Return</th>\n",
       "      <th>5_Day_Pred</th>\n",
       "      <th>5_Day_Model_Return</th>\n",
       "      <th>Actual_Returns</th>\n",
       "    </tr>\n",
       "  </thead>\n",
       "  <tbody>\n",
       "    <tr>\n",
       "      <th>0</th>\n",
       "      <td>esgv</td>\n",
       "      <td>Hold or Sell</td>\n",
       "      <td>1.1082</td>\n",
       "      <td>Hold or Sell</td>\n",
       "      <td>1.1323</td>\n",
       "      <td>Hold or Sell</td>\n",
       "      <td>1.1105</td>\n",
       "      <td>0.5536</td>\n",
       "    </tr>\n",
       "    <tr>\n",
       "      <th>1</th>\n",
       "      <td>fslr</td>\n",
       "      <td>Buy</td>\n",
       "      <td>2.2759</td>\n",
       "      <td>Buy</td>\n",
       "      <td>1.7775</td>\n",
       "      <td>Hold or Sell</td>\n",
       "      <td>1.7245</td>\n",
       "      <td>-0.3461</td>\n",
       "    </tr>\n",
       "    <tr>\n",
       "      <th>2</th>\n",
       "      <td>goog</td>\n",
       "      <td>Buy</td>\n",
       "      <td>2.9197</td>\n",
       "      <td>Buy</td>\n",
       "      <td>2.2118</td>\n",
       "      <td>Buy</td>\n",
       "      <td>3.5301</td>\n",
       "      <td>11.6676</td>\n",
       "    </tr>\n",
       "    <tr>\n",
       "      <th>3</th>\n",
       "      <td>ibm</td>\n",
       "      <td>Buy</td>\n",
       "      <td>2.8079</td>\n",
       "      <td>Buy</td>\n",
       "      <td>4.6130</td>\n",
       "      <td>Buy</td>\n",
       "      <td>3.9795</td>\n",
       "      <td>6.9786</td>\n",
       "    </tr>\n",
       "    <tr>\n",
       "      <th>4</th>\n",
       "      <td>intc</td>\n",
       "      <td>Buy</td>\n",
       "      <td>6.1372</td>\n",
       "      <td>Buy</td>\n",
       "      <td>6.3364</td>\n",
       "      <td>Buy</td>\n",
       "      <td>5.6505</td>\n",
       "      <td>43.5174</td>\n",
       "    </tr>\n",
       "    <tr>\n",
       "      <th>5</th>\n",
       "      <td>iyw</td>\n",
       "      <td>Hold or Sell</td>\n",
       "      <td>3.6676</td>\n",
       "      <td>Buy</td>\n",
       "      <td>4.5272</td>\n",
       "      <td>Buy</td>\n",
       "      <td>3.7797</td>\n",
       "      <td>6.8144</td>\n",
       "    </tr>\n",
       "    <tr>\n",
       "      <th>6</th>\n",
       "      <td>lng</td>\n",
       "      <td>Buy</td>\n",
       "      <td>1.2071</td>\n",
       "      <td>Buy</td>\n",
       "      <td>0.9635</td>\n",
       "      <td>Buy</td>\n",
       "      <td>1.3563</td>\n",
       "      <td>59.1411</td>\n",
       "    </tr>\n",
       "    <tr>\n",
       "      <th>7</th>\n",
       "      <td>ma</td>\n",
       "      <td>Hold or Sell</td>\n",
       "      <td>2.6561</td>\n",
       "      <td>Hold or Sell</td>\n",
       "      <td>2.5316</td>\n",
       "      <td>Hold or Sell</td>\n",
       "      <td>2.1234</td>\n",
       "      <td>16.0804</td>\n",
       "    </tr>\n",
       "    <tr>\n",
       "      <th>8</th>\n",
       "      <td>mdb</td>\n",
       "      <td>Hold or Sell</td>\n",
       "      <td>0.6928</td>\n",
       "      <td>Hold or Sell</td>\n",
       "      <td>0.7248</td>\n",
       "      <td>Hold or Sell</td>\n",
       "      <td>0.8367</td>\n",
       "      <td>2.6447</td>\n",
       "    </tr>\n",
       "    <tr>\n",
       "      <th>9</th>\n",
       "      <td>msft</td>\n",
       "      <td>Hold or Sell</td>\n",
       "      <td>8.4981</td>\n",
       "      <td>Hold or Sell</td>\n",
       "      <td>8.6459</td>\n",
       "      <td>Hold or Sell</td>\n",
       "      <td>6.9396</td>\n",
       "      <td>63.8474</td>\n",
       "    </tr>\n",
       "    <tr>\n",
       "      <th>10</th>\n",
       "      <td>mu</td>\n",
       "      <td>Hold or Sell</td>\n",
       "      <td>2.0179</td>\n",
       "      <td>Hold or Sell</td>\n",
       "      <td>2.4758</td>\n",
       "      <td>Hold or Sell</td>\n",
       "      <td>3.2983</td>\n",
       "      <td>17.8504</td>\n",
       "    </tr>\n",
       "    <tr>\n",
       "      <th>11</th>\n",
       "      <td>nee</td>\n",
       "      <td>Buy</td>\n",
       "      <td>3.8834</td>\n",
       "      <td>Buy</td>\n",
       "      <td>3.8335</td>\n",
       "      <td>Buy</td>\n",
       "      <td>4.4274</td>\n",
       "      <td>28.3271</td>\n",
       "    </tr>\n",
       "    <tr>\n",
       "      <th>12</th>\n",
       "      <td>nio</td>\n",
       "      <td>Buy</td>\n",
       "      <td>1.5834</td>\n",
       "      <td>Buy</td>\n",
       "      <td>1.5055</td>\n",
       "      <td>Buy</td>\n",
       "      <td>1.8094</td>\n",
       "      <td>7.5785</td>\n",
       "    </tr>\n",
       "    <tr>\n",
       "      <th>13</th>\n",
       "      <td>nvda</td>\n",
       "      <td>Hold or Sell</td>\n",
       "      <td>9.4279</td>\n",
       "      <td>Hold or Sell</td>\n",
       "      <td>10.6449</td>\n",
       "      <td>Hold or Sell</td>\n",
       "      <td>17.2887</td>\n",
       "      <td>147.7686</td>\n",
       "    </tr>\n",
       "    <tr>\n",
       "      <th>14</th>\n",
       "      <td>pacb</td>\n",
       "      <td>Buy</td>\n",
       "      <td>1.5905</td>\n",
       "      <td>Buy</td>\n",
       "      <td>1.9024</td>\n",
       "      <td>Buy</td>\n",
       "      <td>1.6558</td>\n",
       "      <td>9.6955</td>\n",
       "    </tr>\n",
       "  </tbody>\n",
       "</table>\n",
       "</div>"
      ],
      "text/plain": [
       "   stock    1_Day_Pred  1_Day_Model_Return    3_Day_Pred  3_Day_Model_Return  \\\n",
       "0   esgv  Hold or Sell              1.1082  Hold or Sell              1.1323   \n",
       "1   fslr           Buy              2.2759           Buy              1.7775   \n",
       "2   goog           Buy              2.9197           Buy              2.2118   \n",
       "3    ibm           Buy              2.8079           Buy              4.6130   \n",
       "4   intc           Buy              6.1372           Buy              6.3364   \n",
       "5    iyw  Hold or Sell              3.6676           Buy              4.5272   \n",
       "6    lng           Buy              1.2071           Buy              0.9635   \n",
       "7     ma  Hold or Sell              2.6561  Hold or Sell              2.5316   \n",
       "8    mdb  Hold or Sell              0.6928  Hold or Sell              0.7248   \n",
       "9   msft  Hold or Sell              8.4981  Hold or Sell              8.6459   \n",
       "10    mu  Hold or Sell              2.0179  Hold or Sell              2.4758   \n",
       "11   nee           Buy              3.8834           Buy              3.8335   \n",
       "12   nio           Buy              1.5834           Buy              1.5055   \n",
       "13  nvda  Hold or Sell              9.4279  Hold or Sell             10.6449   \n",
       "14  pacb           Buy              1.5905           Buy              1.9024   \n",
       "\n",
       "      5_Day_Pred  5_Day_Model_Return  Actual_Returns  \n",
       "0   Hold or Sell              1.1105          0.5536  \n",
       "1   Hold or Sell              1.7245         -0.3461  \n",
       "2            Buy              3.5301         11.6676  \n",
       "3            Buy              3.9795          6.9786  \n",
       "4            Buy              5.6505         43.5174  \n",
       "5            Buy              3.7797          6.8144  \n",
       "6            Buy              1.3563         59.1411  \n",
       "7   Hold or Sell              2.1234         16.0804  \n",
       "8   Hold or Sell              0.8367          2.6447  \n",
       "9   Hold or Sell              6.9396         63.8474  \n",
       "10  Hold or Sell              3.2983         17.8504  \n",
       "11           Buy              4.4274         28.3271  \n",
       "12           Buy              1.8094          7.5785  \n",
       "13  Hold or Sell             17.2887        147.7686  \n",
       "14           Buy              1.6558          9.6955  "
      ]
     },
     "execution_count": 31,
     "metadata": {},
     "output_type": "execute_result"
    }
   ],
   "source": [
    "summary_df = a.pred_summary_df(start_dates2, stocks = [x for x in start_dates2], days_back = 1)\n",
    "summary_df"
   ]
  },
  {
   "cell_type": "code",
   "execution_count": 32,
   "metadata": {},
   "outputs": [
    {
     "data": {
      "text/plain": [
       "(2.6561, 2.4758, 3.2983, 11.6676)"
      ]
     },
     "execution_count": 32,
     "metadata": {},
     "output_type": "execute_result"
    }
   ],
   "source": [
    "summary_df['1_Day_Model_Return'].median(), summary_df['3_Day_Model_Return'].median(), summary_df['5_Day_Model_Return'].median(), summary_df['Actual_Returns'].median()"
   ]
  },
  {
   "cell_type": "code",
   "execution_count": 33,
   "metadata": {},
   "outputs": [
    {
     "data": {
      "text/html": [
       "<div>\n",
       "<style scoped>\n",
       "    .dataframe tbody tr th:only-of-type {\n",
       "        vertical-align: middle;\n",
       "    }\n",
       "\n",
       "    .dataframe tbody tr th {\n",
       "        vertical-align: top;\n",
       "    }\n",
       "\n",
       "    .dataframe thead th {\n",
       "        text-align: right;\n",
       "    }\n",
       "</style>\n",
       "<table border=\"1\" class=\"dataframe\">\n",
       "  <thead>\n",
       "    <tr style=\"text-align: right;\">\n",
       "      <th></th>\n",
       "      <th>stock</th>\n",
       "      <th>1_Day_Pred</th>\n",
       "      <th>1_Day_Model_Return</th>\n",
       "      <th>3_Day_Pred</th>\n",
       "      <th>3_Day_Model_Return</th>\n",
       "      <th>5_Day_Pred</th>\n",
       "      <th>5_Day_Model_Return</th>\n",
       "      <th>Actual_Returns</th>\n",
       "    </tr>\n",
       "  </thead>\n",
       "  <tbody>\n",
       "    <tr>\n",
       "      <th>0</th>\n",
       "      <td>pypl</td>\n",
       "      <td>Hold or Sell</td>\n",
       "      <td>2.3381</td>\n",
       "      <td>Hold or Sell</td>\n",
       "      <td>2.1698</td>\n",
       "      <td>Hold or Sell</td>\n",
       "      <td>2.4200</td>\n",
       "      <td>5.8184</td>\n",
       "    </tr>\n",
       "    <tr>\n",
       "      <th>1</th>\n",
       "      <td>qgen</td>\n",
       "      <td>Hold or Sell</td>\n",
       "      <td>2.1367</td>\n",
       "      <td>Hold or Sell</td>\n",
       "      <td>2.0976</td>\n",
       "      <td>Hold or Sell</td>\n",
       "      <td>2.5861</td>\n",
       "      <td>8.9317</td>\n",
       "    </tr>\n",
       "    <tr>\n",
       "      <th>2</th>\n",
       "      <td>run</td>\n",
       "      <td>Buy</td>\n",
       "      <td>0.9627</td>\n",
       "      <td>Buy</td>\n",
       "      <td>0.7271</td>\n",
       "      <td>Buy</td>\n",
       "      <td>0.8989</td>\n",
       "      <td>6.9062</td>\n",
       "    </tr>\n",
       "    <tr>\n",
       "      <th>3</th>\n",
       "      <td>okta</td>\n",
       "      <td>Hold or Sell</td>\n",
       "      <td>1.1556</td>\n",
       "      <td>Hold or Sell</td>\n",
       "      <td>0.9487</td>\n",
       "      <td>Hold or Sell</td>\n",
       "      <td>0.9801</td>\n",
       "      <td>5.1096</td>\n",
       "    </tr>\n",
       "    <tr>\n",
       "      <th>4</th>\n",
       "      <td>orcl</td>\n",
       "      <td>Hold or Sell</td>\n",
       "      <td>2.8105</td>\n",
       "      <td>Hold or Sell</td>\n",
       "      <td>3.1669</td>\n",
       "      <td>Hold or Sell</td>\n",
       "      <td>3.3238</td>\n",
       "      <td>37.6540</td>\n",
       "    </tr>\n",
       "    <tr>\n",
       "      <th>5</th>\n",
       "      <td>qqq</td>\n",
       "      <td>Hold or Sell</td>\n",
       "      <td>3.3990</td>\n",
       "      <td>Hold or Sell</td>\n",
       "      <td>3.7585</td>\n",
       "      <td>Hold or Sell</td>\n",
       "      <td>2.4732</td>\n",
       "      <td>8.6744</td>\n",
       "    </tr>\n",
       "    <tr>\n",
       "      <th>6</th>\n",
       "      <td>srpt</td>\n",
       "      <td>Buy</td>\n",
       "      <td>2.0927</td>\n",
       "      <td>Buy</td>\n",
       "      <td>1.9265</td>\n",
       "      <td>Buy</td>\n",
       "      <td>1.4990</td>\n",
       "      <td>1.1287</td>\n",
       "    </tr>\n",
       "    <tr>\n",
       "      <th>7</th>\n",
       "      <td>tpic</td>\n",
       "      <td>Hold or Sell</td>\n",
       "      <td>0.9641</td>\n",
       "      <td>Hold or Sell</td>\n",
       "      <td>1.4203</td>\n",
       "      <td>Hold or Sell</td>\n",
       "      <td>1.5018</td>\n",
       "      <td>1.3947</td>\n",
       "    </tr>\n",
       "    <tr>\n",
       "      <th>8</th>\n",
       "      <td>tsla</td>\n",
       "      <td>Hold or Sell</td>\n",
       "      <td>4.3590</td>\n",
       "      <td>Hold or Sell</td>\n",
       "      <td>2.0999</td>\n",
       "      <td>Hold or Sell</td>\n",
       "      <td>2.2022</td>\n",
       "      <td>98.9899</td>\n",
       "    </tr>\n",
       "    <tr>\n",
       "      <th>9</th>\n",
       "      <td>v</td>\n",
       "      <td>Hold or Sell</td>\n",
       "      <td>2.3936</td>\n",
       "      <td>Hold or Sell</td>\n",
       "      <td>2.4316</td>\n",
       "      <td>Hold or Sell</td>\n",
       "      <td>2.5279</td>\n",
       "      <td>10.7736</td>\n",
       "    </tr>\n",
       "    <tr>\n",
       "      <th>10</th>\n",
       "      <td>vbiv</td>\n",
       "      <td>Buy</td>\n",
       "      <td>1.1719</td>\n",
       "      <td>Buy</td>\n",
       "      <td>1.2361</td>\n",
       "      <td>Buy</td>\n",
       "      <td>1.3871</td>\n",
       "      <td>-0.8612</td>\n",
       "    </tr>\n",
       "    <tr>\n",
       "      <th>11</th>\n",
       "      <td>vbr</td>\n",
       "      <td>Hold or Sell</td>\n",
       "      <td>1.4753</td>\n",
       "      <td>Hold or Sell</td>\n",
       "      <td>1.3150</td>\n",
       "      <td>Hold or Sell</td>\n",
       "      <td>1.7160</td>\n",
       "      <td>1.6307</td>\n",
       "    </tr>\n",
       "    <tr>\n",
       "      <th>12</th>\n",
       "      <td>viov</td>\n",
       "      <td>Hold or Sell</td>\n",
       "      <td>1.1295</td>\n",
       "      <td>Hold or Sell</td>\n",
       "      <td>1.1896</td>\n",
       "      <td>Hold or Sell</td>\n",
       "      <td>1.3888</td>\n",
       "      <td>1.2219</td>\n",
       "    </tr>\n",
       "    <tr>\n",
       "      <th>13</th>\n",
       "      <td>vgt</td>\n",
       "      <td>Hold or Sell</td>\n",
       "      <td>2.8473</td>\n",
       "      <td>Hold or Sell</td>\n",
       "      <td>3.0445</td>\n",
       "      <td>Hold or Sell</td>\n",
       "      <td>3.4477</td>\n",
       "      <td>5.8238</td>\n",
       "    </tr>\n",
       "    <tr>\n",
       "      <th>14</th>\n",
       "      <td>xlk</td>\n",
       "      <td>Hold or Sell</td>\n",
       "      <td>4.3354</td>\n",
       "      <td>Hold or Sell</td>\n",
       "      <td>4.7349</td>\n",
       "      <td>Hold or Sell</td>\n",
       "      <td>3.7561</td>\n",
       "      <td>6.2703</td>\n",
       "    </tr>\n",
       "  </tbody>\n",
       "</table>\n",
       "</div>"
      ],
      "text/plain": [
       "   stock    1_Day_Pred  1_Day_Model_Return    3_Day_Pred  3_Day_Model_Return  \\\n",
       "0   pypl  Hold or Sell              2.3381  Hold or Sell              2.1698   \n",
       "1   qgen  Hold or Sell              2.1367  Hold or Sell              2.0976   \n",
       "2    run           Buy              0.9627           Buy              0.7271   \n",
       "3   okta  Hold or Sell              1.1556  Hold or Sell              0.9487   \n",
       "4   orcl  Hold or Sell              2.8105  Hold or Sell              3.1669   \n",
       "5    qqq  Hold or Sell              3.3990  Hold or Sell              3.7585   \n",
       "6   srpt           Buy              2.0927           Buy              1.9265   \n",
       "7   tpic  Hold or Sell              0.9641  Hold or Sell              1.4203   \n",
       "8   tsla  Hold or Sell              4.3590  Hold or Sell              2.0999   \n",
       "9      v  Hold or Sell              2.3936  Hold or Sell              2.4316   \n",
       "10  vbiv           Buy              1.1719           Buy              1.2361   \n",
       "11   vbr  Hold or Sell              1.4753  Hold or Sell              1.3150   \n",
       "12  viov  Hold or Sell              1.1295  Hold or Sell              1.1896   \n",
       "13   vgt  Hold or Sell              2.8473  Hold or Sell              3.0445   \n",
       "14   xlk  Hold or Sell              4.3354  Hold or Sell              4.7349   \n",
       "\n",
       "      5_Day_Pred  5_Day_Model_Return  Actual_Returns  \n",
       "0   Hold or Sell              2.4200          5.8184  \n",
       "1   Hold or Sell              2.5861          8.9317  \n",
       "2            Buy              0.8989          6.9062  \n",
       "3   Hold or Sell              0.9801          5.1096  \n",
       "4   Hold or Sell              3.3238         37.6540  \n",
       "5   Hold or Sell              2.4732          8.6744  \n",
       "6            Buy              1.4990          1.1287  \n",
       "7   Hold or Sell              1.5018          1.3947  \n",
       "8   Hold or Sell              2.2022         98.9899  \n",
       "9   Hold or Sell              2.5279         10.7736  \n",
       "10           Buy              1.3871         -0.8612  \n",
       "11  Hold or Sell              1.7160          1.6307  \n",
       "12  Hold or Sell              1.3888          1.2219  \n",
       "13  Hold or Sell              3.4477          5.8238  \n",
       "14  Hold or Sell              3.7561          6.2703  "
      ]
     },
     "execution_count": 33,
     "metadata": {},
     "output_type": "execute_result"
    }
   ],
   "source": [
    "summary_df = a.pred_summary_df(start_dates3, stocks = [x for x in start_dates3], days_back = 1)\n",
    "summary_df"
   ]
  },
  {
   "cell_type": "code",
   "execution_count": 34,
   "metadata": {},
   "outputs": [
    {
     "data": {
      "text/plain": [
       "(2.1367, 2.0976, 2.2022, 5.8238)"
      ]
     },
     "execution_count": 34,
     "metadata": {},
     "output_type": "execute_result"
    }
   ],
   "source": [
    "summary_df['1_Day_Model_Return'].median(), summary_df['3_Day_Model_Return'].median(), summary_df['5_Day_Model_Return'].median(), summary_df['Actual_Returns'].median()"
   ]
  },
  {
   "cell_type": "code",
   "execution_count": null,
   "metadata": {},
   "outputs": [],
   "source": []
  }
 ],
 "metadata": {
  "kernelspec": {
   "display_name": "Python 3",
   "language": "python",
   "name": "python3"
  },
  "language_info": {
   "codemirror_mode": {
    "name": "ipython",
    "version": 3
   },
   "file_extension": ".py",
   "mimetype": "text/x-python",
   "name": "python",
   "nbconvert_exporter": "python",
   "pygments_lexer": "ipython3",
   "version": "3.8.5"
  }
 },
 "nbformat": 4,
 "nbformat_minor": 4
}
