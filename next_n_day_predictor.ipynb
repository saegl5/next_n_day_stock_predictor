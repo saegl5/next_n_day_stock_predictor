{
 "cells": [
  {
   "cell_type": "code",
   "execution_count": 1,
   "metadata": {
    "scrolled": true
   },
   "outputs": [],
   "source": [
    "from src import attributes as a\n",
    "%load_ext autoreload\n",
    "%autoreload 2"
   ]
  },
  {
   "cell_type": "code",
   "execution_count": 2,
   "metadata": {},
   "outputs": [],
   "source": [
    "# Global Variables\n",
    "stock_name = 'tsla' # ticker symbol\n",
    "train = 0 # 1 for train, 0 for pass\n",
    "days_ahead = 1 # for predicting 1, 3, or 5 days ahead\n",
    "days_back = -1 # -1 for current data point, -2 for two days ago, etc...\n",
    "cv = 5 # number of cross validation folds\n",
    "model_name = 'Random Forest Classifier' # for display on charts, not a tuning parameter"
   ]
  },
  {
   "cell_type": "code",
   "execution_count": 3,
   "metadata": {},
   "outputs": [],
   "source": [
    "# Extract, Transform, Load, and Train Test Split\n",
    "# Dictionary of IPO Dates\n",
    "start_dates = {'a': '11/15/1999' # Updated 4/18/21 1D, 3D, 5D ahead\n",
    "               , 'aapl':'12/12/1980' # Updated 4/18/21 1D, 3D, 5D ahead\n",
    "               , 'acy': '01/18/1998' # Updated 4/18/21 1D, 3D, 5D ahead\n",
    "               , 'adbe': '08/11/1986' # Updated 4/18/21 1D, 3D, 5D ahead\n",
    "               , 'alb': '02/21/1994' # Updated 4/18/21 1D, 3D, 5D ahead\n",
    "               , 'amat': '03/16/1980' # Updated 4/18/21 1D, 3D, 5D ahead\n",
    "               , 'amd': '03/17/1980' # Updated 4/18/21 1D, 3D, 5D ahead\n",
    "               , 'amgn': '06/13/1983' # Updated 4/18/21 1D, 3D, 5D ahead\n",
    "               , 'amzn': '05/12/1997' # Updated 4/18/21 1D, 3D, 5D ahead\n",
    "               , 'baba': '09/15/2014' # Updated 4/18/21 1D, 3D, 5D ahead\n",
    "               , 'bac': '02/19/1973' # Updated 4/18/21 1D, 3D, 5D ahead\n",
    "               , 'bpmc': '04/27/2015' # Updated 4/18/21 1D, 3D, 5D ahead\n",
    "               , 'crm': '06/23/2004' # Updated 4/18/21 1D, 3D, 5D ahead\n",
    "               , 'crsp': '10/16/2016' # Updated 4/18/21 1D, 3D, 5D ahead\n",
    "               , 'dq': '10/04/2010' # Updated 4/18/21 1D, 3D, 5D ahead\n",
    "               , 'esgv': '09/16/2018' # Updated 4/18/21 1D, 3D, 5D ahead\n",
    "               , 'fslr': '11/12/2006' # Updated 4/18/21 1D, 3D, 5D ahead\n",
    "               , 'goog': '08/16/2004' # Updated 4/18/21 1D, 3D, 5D ahead\n",
    "               , 'ibm': '01/02/1962' # Updated 4/18/21 1D, 3D, 5D ahead\n",
    "               , 'intc': '03/16/1980' # Updated 4/18/21 1D, 3D, 5D ahead\n",
    "               , 'iyw': '05/15/2000' # Updated 4/18/21 1D, 3D, 5D ahead\n",
    "               , 'lng': '04/04/1994' # Updated 4/18/21 1D, 3D, 5D ahead\n",
    "               , 'ma': '05/21/2006' # Updated 4/18/21 1D, 3D, 5D ahead\n",
    "               , 'mdb': '10/15/2017' # Updated 4/18/21 1D, 3D, 5D ahead\n",
    "               , 'msft': '03/10/1986' # Updated 4/18/21 1D, 3D, 5D ahead\n",
    "               , 'mu': '05/28/1984' # Updated 4/18/21 1D, 3D, 5D ahead\n",
    "               , 'nee': '02/19/1973' # Updated 4/18/21 1D, 3D, 5D ahead\n",
    "               , 'nio': '09/10/2018' # Updated 4/18/21 1D, 3D, 5D ahead\n",
    "               , 'nvda': '01/22/1999' # Updated 4/18/21 1D, 3D, 5D ahead\n",
    "               , 'pacb': '10/25/2010' # Updated 4/18/21 1D, 3D, 5D ahead\n",
    "               , 'pypl': '07/05/2015' # Updated 4/18/21 1D, 3D, 5D ahead\n",
    "               , 'qgen': '06/24/1996' # Updated 4/18/21 1D, 3D, 5D ahead\n",
    "               , 'run': '08/02/2015' # Updated 4/18/21 1D, 3D, 5D ahead\n",
    "               , 'okta': '04/03/2017' # Updated 4/18/21 1D, 3D, 5D ahead\n",
    "               , 'orcl': '03/10/1986' # Updated 4/18/21 1D, 3D, 5D ahead\n",
    "               , 'qqq': '03/08/1999' # Updated 4/18/21 1D, 3D, 5D ahead\n",
    "               , 'srpt': '06/02/1997' # Updated 4/18/21 1D, 3D, 5D ahead\n",
    "               , 'tpic': '07/17/2016' # Updated 4/18/21 1D, 3D, 5D ahead\n",
    "               , 'tsla': '06/29/2010' # Updated 4/18/21 1D, 3D, 5D ahead\n",
    "               , 'v': '03/16/2008' # Updated 4/18/21 1D, 3D, 5D ahead\n",
    "               , 'vbiv': '09/04/2002' # Updated 4/818/21 1D, 3D, 5D ahead\n",
    "               , 'vbr': '01/26/2004' # Updated 4/18/21 1D, 3D, 5D ahead\n",
    "               , 'viov': '09/06/2010' # Updated 4/18/21 1D, 3D, 5D ahead\n",
    "               , 'vgt': '01/26/2004' # Updated 4/18/21 1D, 3D, 5D ahead\n",
    "               , 'xlk': '12/21/1998' # Updated 4/18/21 1D, 3D, 5D ahead\n",
    "              }"
   ]
  },
  {
   "cell_type": "code",
   "execution_count": null,
   "metadata": {},
   "outputs": [],
   "source": []
  },
  {
   "cell_type": "code",
   "execution_count": 4,
   "metadata": {},
   "outputs": [],
   "source": [
    "# X_train, X_test, y_train, y_test, stock_df = a.data(stock_name, start_dates[stock_name], days_ahead)\n",
    "# stock_df.tail(10)"
   ]
  },
  {
   "cell_type": "code",
   "execution_count": 5,
   "metadata": {
    "scrolled": false
   },
   "outputs": [],
   "source": [
    "# GridSerach to find best hyperparameters to prevent overfitting, can be commented out once trained\n",
    "# if train == 1:\n",
    "#     a.rfc_GridSearch(X_train, y_train, stock_name, days_ahead, cv)\n",
    "# elif train == 0:\n",
    "#     pass"
   ]
  },
  {
   "cell_type": "code",
   "execution_count": 6,
   "metadata": {},
   "outputs": [],
   "source": [
    "# Load RandomForextClassifier Model\n",
    "# rfc_model, y_pred, y_probs = a.rfc(X_train, X_test, y_train, stock_name, days_ahead)"
   ]
  },
  {
   "cell_type": "code",
   "execution_count": 7,
   "metadata": {
    "scrolled": false
   },
   "outputs": [],
   "source": [
    "# ROC Curve\n",
    "# a.roc_plot(y_test, y_probs, stock_name, model_name)"
   ]
  },
  {
   "cell_type": "code",
   "execution_count": 8,
   "metadata": {
    "scrolled": false
   },
   "outputs": [],
   "source": [
    "# Precision Recall Curve\n",
    "# a.prec_recall(y_test, y_probs, stock_name, model_name)"
   ]
  },
  {
   "cell_type": "code",
   "execution_count": 9,
   "metadata": {
    "scrolled": false
   },
   "outputs": [],
   "source": [
    "# Confusion Matrix\n",
    "# a.confusion_matrix(rfc_model, X_test, y_test, stock_name)"
   ]
  },
  {
   "cell_type": "code",
   "execution_count": 10,
   "metadata": {},
   "outputs": [],
   "source": [
    "# Cross Validation\n",
    "# a.cross_validation(rfc_model\n",
    "#                    , stock_df[['oc', 'hl', '5stdev_adj', '5sma_adj']]\n",
    "#                    , stock_df['direction']\n",
    "#                    , cv = 5\n",
    "#                   )"
   ]
  },
  {
   "cell_type": "markdown",
   "metadata": {},
   "source": [
    "### Prediction..."
   ]
  },
  {
   "cell_type": "code",
   "execution_count": 11,
   "metadata": {
    "scrolled": true
   },
   "outputs": [],
   "source": [
    "# Prediction, use last day of data\n",
    "# stock_df.iloc[-1]"
   ]
  },
  {
   "cell_type": "code",
   "execution_count": 12,
   "metadata": {},
   "outputs": [],
   "source": [
    "# import numpy as np\n",
    "# last = stock_df[['oc', 'hl', '5stdev_adj', '5sma_adj']].iloc[-days_back]\n",
    "# last"
   ]
  },
  {
   "cell_type": "code",
   "execution_count": 13,
   "metadata": {},
   "outputs": [],
   "source": [
    "# stock_df['adj'].describe()"
   ]
  },
  {
   "cell_type": "code",
   "execution_count": 14,
   "metadata": {
    "scrolled": true
   },
   "outputs": [],
   "source": [
    "# if rfc_model.predict(np.array(last).reshape(1, -1))[0] == 1:\n",
    "#     print(f'Buy {stock_name} {days_ahead} day(s) ahead')\n",
    "# else:\n",
    "#     print(f'Sell or hold {stock_name} {days_ahead} day(s) ahead')"
   ]
  },
  {
   "cell_type": "markdown",
   "metadata": {},
   "source": [
    "### Strategy Returns..."
   ]
  },
  {
   "cell_type": "code",
   "execution_count": 15,
   "metadata": {},
   "outputs": [],
   "source": [
    "# returns on strategy column\n",
    "# stock_df['prediction'] = rfc_model.predict(stock_df[['oc', 'hl', '5stdev_adj', '5sma_adj']])\n",
    "# stock_df['returns'] = stock_df['adj'].shift(-1, fill_value = stock_df['adj'].median()) * stock_df['prediction']"
   ]
  },
  {
   "cell_type": "code",
   "execution_count": 16,
   "metadata": {},
   "outputs": [],
   "source": [
    "# stock_df.tail(5)"
   ]
  },
  {
   "cell_type": "code",
   "execution_count": 17,
   "metadata": {},
   "outputs": [],
   "source": [
    "# Don't trade every day!\n",
    "# import matplotlib.pyplot as plt\n",
    "# test_length = len(y_test)\n",
    "# (stock_df['returns'][-test_length:] + 1).cumprod().plot()\n",
    "# plt.title(f'{stock_name} Expected Returns %');"
   ]
  },
  {
   "cell_type": "code",
   "execution_count": 18,
   "metadata": {},
   "outputs": [],
   "source": [
    "# Model returns if bought on predictions of 1\n",
    "# returns_on_ones = []\n",
    "# for idx in range(-test_length, 0):\n",
    "#     if stock_df['prediction'][idx] == 1:\n",
    "#         returns_on_ones.append(1 + stock_df['returns'][idx])\n",
    "\n",
    "# returns = 1\n",
    "# for x in returns_on_ones:\n",
    "#     returns *= x\n",
    "# returns"
   ]
  },
  {
   "cell_type": "code",
   "execution_count": 19,
   "metadata": {},
   "outputs": [],
   "source": [
    "# multiple times original investment, not bad but..."
   ]
  },
  {
   "cell_type": "code",
   "execution_count": 20,
   "metadata": {},
   "outputs": [],
   "source": [
    "# If purchased in 2012 and left it until now\n",
    "# test_idx = int(len(stock_df)*0.75)\n",
    "# (stock_df['Close'][-1] - stock_df['Close'][-test_idx]) / stock_df['Close'][-test_idx]"
   ]
  },
  {
   "cell_type": "code",
   "execution_count": 21,
   "metadata": {},
   "outputs": [],
   "source": [
    "# Buy and hold strategy beats RandomForestClassifier in this study\n",
    "\n",
    "# Special thanks to Shagufta Tahsildar at https://blog.quantinsti.com/random-forest-algorithm-in-python/"
   ]
  },
  {
   "cell_type": "code",
   "execution_count": null,
   "metadata": {},
   "outputs": [],
   "source": []
  },
  {
   "cell_type": "code",
   "execution_count": null,
   "metadata": {},
   "outputs": [],
   "source": []
  },
  {
   "cell_type": "code",
   "execution_count": null,
   "metadata": {},
   "outputs": [],
   "source": []
  },
  {
   "cell_type": "markdown",
   "metadata": {},
   "source": [
    "### Training"
   ]
  },
  {
   "cell_type": "markdown",
   "metadata": {},
   "source": [
    "Training is done once a week on Saturday and Sunday"
   ]
  },
  {
   "cell_type": "code",
   "execution_count": 22,
   "metadata": {},
   "outputs": [
    {
     "data": {
      "text/plain": [
       "45"
      ]
     },
     "execution_count": 22,
     "metadata": {},
     "output_type": "execute_result"
    }
   ],
   "source": [
    "len(start_dates)"
   ]
  },
  {
   "cell_type": "code",
   "execution_count": 23,
   "metadata": {},
   "outputs": [
    {
     "data": {
      "text/plain": [
       "{'a': '11/15/1999',\n",
       " 'aapl': '12/12/1980',\n",
       " 'acy': '01/18/1998',\n",
       " 'adbe': '08/11/1986',\n",
       " 'alb': '02/21/1994',\n",
       " 'amat': '03/16/1980',\n",
       " 'amd': '03/17/1980',\n",
       " 'amgn': '06/13/1983',\n",
       " 'amzn': '05/12/1997',\n",
       " 'baba': '09/15/2014',\n",
       " 'bac': '02/19/1973',\n",
       " 'bpmc': '04/27/2015',\n",
       " 'crm': '06/23/2004',\n",
       " 'crsp': '10/16/2016',\n",
       " 'dq': '10/04/2010'}"
      ]
     },
     "execution_count": 23,
     "metadata": {},
     "output_type": "execute_result"
    }
   ],
   "source": [
    "import itertools as itr\n",
    "start_dates1 = dict(itr.islice(start_dates.items(), 0, 15))\n",
    "start_dates1"
   ]
  },
  {
   "cell_type": "code",
   "execution_count": 24,
   "metadata": {},
   "outputs": [
    {
     "data": {
      "text/plain": [
       "{'esgv': '09/16/2018',\n",
       " 'fslr': '11/12/2006',\n",
       " 'goog': '08/16/2004',\n",
       " 'ibm': '01/02/1962',\n",
       " 'intc': '03/16/1980',\n",
       " 'iyw': '05/15/2000',\n",
       " 'lng': '04/04/1994',\n",
       " 'ma': '05/21/2006',\n",
       " 'mdb': '10/15/2017',\n",
       " 'msft': '03/10/1986',\n",
       " 'mu': '05/28/1984',\n",
       " 'nee': '02/19/1973',\n",
       " 'nio': '09/10/2018',\n",
       " 'nvda': '01/22/1999',\n",
       " 'pacb': '10/25/2010'}"
      ]
     },
     "execution_count": 24,
     "metadata": {},
     "output_type": "execute_result"
    }
   ],
   "source": [
    "start_dates2 = dict(itr.islice(start_dates.items(), 15, 30))\n",
    "start_dates2"
   ]
  },
  {
   "cell_type": "code",
   "execution_count": 25,
   "metadata": {},
   "outputs": [
    {
     "data": {
      "text/plain": [
       "{'pypl': '07/05/2015',\n",
       " 'qgen': '06/24/1996',\n",
       " 'run': '08/02/2015',\n",
       " 'okta': '04/03/2017',\n",
       " 'orcl': '03/10/1986',\n",
       " 'qqq': '03/08/1999',\n",
       " 'srpt': '06/02/1997',\n",
       " 'tpic': '07/17/2016',\n",
       " 'tsla': '06/29/2010',\n",
       " 'v': '03/16/2008',\n",
       " 'vbiv': '09/04/2002',\n",
       " 'vbr': '01/26/2004',\n",
       " 'viov': '09/06/2010',\n",
       " 'vgt': '01/26/2004',\n",
       " 'xlk': '12/21/1998'}"
      ]
     },
     "execution_count": 25,
     "metadata": {},
     "output_type": "execute_result"
    }
   ],
   "source": [
    "start_dates3 = dict(itr.islice(start_dates.items(), 30, 45+1))\n",
    "start_dates3"
   ]
  },
  {
   "cell_type": "code",
   "execution_count": 26,
   "metadata": {
    "scrolled": false
   },
   "outputs": [],
   "source": [
    "#Train 15 at a time!\n",
    "# stocks = [x for x in start_dates1]\n",
    "# days_ahead = [1, 3, 5]\n",
    "# cv = 5\n",
    "# for stock in stocks:\n",
    "#     for days in days_ahead:\n",
    "#         X_train, X_test, y_train, y_test, stock_df = a.data(stock, start_dates[stock], days)\n",
    "#         a.rfc_GridSearch(X_train, y_train, stock, days, cv)\n",
    "# len(stocks)\n",
    "\n",
    "# Next on training for Saturday 4/17/2021\n",
    "# stocks = [x for x in start_dates2]\n",
    "# days_ahead = [1, 3, 5]\n",
    "# cv = 5\n",
    "# for stock in stocks:\n",
    "#     for days in days_ahead:\n",
    "#         X_train, X_test, y_train, y_test, stock_df = a.data(stock, start_dates[stock], days)\n",
    "#         a.rfc_GridSearch(X_train, y_train, stock, days, cv)\n",
    "# len(stocks)\n",
    "\n",
    "# Next on training for Saturday 4/17/2021\n",
    "# stocks = [x for x in start_dates3]\n",
    "# days_ahead = [1, 3, 5]\n",
    "# cv = 5\n",
    "# for stock in stocks:\n",
    "#     for days in days_ahead:\n",
    "#         X_train, X_test, y_train, y_test, stock_df = a.data(stock, start_dates[stock], days)\n",
    "#         a.rfc_GridSearch(X_train, y_train, stock, days, cv)\n",
    "# len(stocks)\n",
    "\n",
    "# # Train all, takes 15+ hours\n",
    "# stocks = [x for x in start_dates]\n",
    "# days_ahead = [1, 3, 5]\n",
    "# cv = 5\n",
    "# for stock in stocks:\n",
    "#     for days in days_ahead:\n",
    "#         X_train, X_test, y_train, y_test, stock_df = a.data(stock, start_dates[stock], days)\n",
    "#         a.rfc_GridSearch(X_train, y_train, stock, days, cv)\n",
    "# len(stocks)\n",
    "\n",
    "# Train desired stocks...takes less time\n",
    "# stocks = ['aapl', 'pacb', 'tsla', 'vgt']\n",
    "# days_ahead = [1, 3, 5]\n",
    "# cv = 5\n",
    "# for stock in stocks:\n",
    "#     for days in days_ahead:\n",
    "#         X_train, X_test, y_train, y_test, stock_df = a.data(stock, start_dates[stock], days)\n",
    "#         a.rfc_GridSearch(X_train, y_train, stock, days, cv)"
   ]
  },
  {
   "cell_type": "code",
   "execution_count": null,
   "metadata": {},
   "outputs": [],
   "source": []
  },
  {
   "cell_type": "code",
   "execution_count": null,
   "metadata": {},
   "outputs": [],
   "source": []
  },
  {
   "cell_type": "code",
   "execution_count": null,
   "metadata": {},
   "outputs": [],
   "source": []
  },
  {
   "cell_type": "markdown",
   "metadata": {},
   "source": [
    "### Display All Results"
   ]
  },
  {
   "cell_type": "code",
   "execution_count": 27,
   "metadata": {
    "scrolled": false
   },
   "outputs": [
    {
     "name": "stdout",
     "output_type": "stream",
     "text": [
      "Sell or hold aapl 5 day(s) ahead\n",
      "Model Returns (x 100 for %): 4.1012\n",
      "Stock Returns (x 100 for %): 322.0389\n"
     ]
    },
    {
     "data": {
      "image/png": "[encoded data removed]",
      "text/plain": [
       "<Figure size 432x288 with 1 Axes>"
      ]
     },
     "metadata": {},
     "output_type": "display_data"
    },
    {
     "data": {
      "image/png": "[encoded data removed]",
      "text/plain": [
       "<Figure size 648x504 with 1 Axes>"
      ]
     },
     "metadata": {},
     "output_type": "display_data"
    },
    {
     "data": {
      "image/png": "[encoded data removed]",
      "text/plain": [
       "<Figure size 648x504 with 1 Axes>"
      ]
     },
     "metadata": {},
     "output_type": "display_data"
    },
    {
     "data": {
      "image/png": "[encoded data removed]",
      "text/plain": [
       "<Figure size 684x612 with 2 Axes>"
      ]
     },
     "metadata": {},
     "output_type": "display_data"
    }
   ],
   "source": [
    "stock_name = 'aapl'\n",
    "a.all_func(stock_name\n",
    "           , start_dates[stock_name]\n",
    "           , days_ahead = 5\n",
    "           , model_name = model_name\n",
    "           , days_back = 1\n",
    "          )"
   ]
  },
  {
   "cell_type": "code",
   "execution_count": null,
   "metadata": {},
   "outputs": [],
   "source": []
  },
  {
   "cell_type": "code",
   "execution_count": null,
   "metadata": {},
   "outputs": [],
   "source": []
  },
  {
   "cell_type": "code",
   "execution_count": null,
   "metadata": {},
   "outputs": [],
   "source": []
  },
  {
   "cell_type": "markdown",
   "metadata": {},
   "source": [
    "### Data Frame of Predictions 1 3 5 Days"
   ]
  },
  {
   "cell_type": "code",
   "execution_count": 28,
   "metadata": {},
   "outputs": [
    {
     "name": "stdout",
     "output_type": "stream",
     "text": [
      "Today's date: 2021-04-20\n"
     ]
    }
   ],
   "source": [
    "from datetime import date\n",
    "\n",
    "today = date.today()\n",
    "print(\"Today's date:\", today)"
   ]
  },
  {
   "cell_type": "code",
   "execution_count": 29,
   "metadata": {
    "scrolled": false
   },
   "outputs": [
    {
     "data": {
      "text/html": [
       "<div>\n",
       "<style scoped>\n",
       "    .dataframe tbody tr th:only-of-type {\n",
       "        vertical-align: middle;\n",
       "    }\n",
       "\n",
       "    .dataframe tbody tr th {\n",
       "        vertical-align: top;\n",
       "    }\n",
       "\n",
       "    .dataframe thead th {\n",
       "        text-align: right;\n",
       "    }\n",
       "</style>\n",
       "<table border=\"1\" class=\"dataframe\">\n",
       "  <thead>\n",
       "    <tr style=\"text-align: right;\">\n",
       "      <th></th>\n",
       "      <th>stock</th>\n",
       "      <th>1_Day_Pred</th>\n",
       "      <th>1_Day_Model_Return</th>\n",
       "      <th>3_Day_Pred</th>\n",
       "      <th>3_Day_Model_Return</th>\n",
       "      <th>5_Day_Pred</th>\n",
       "      <th>5_Day_Model_Return</th>\n",
       "      <th>Actual_Returns</th>\n",
       "    </tr>\n",
       "  </thead>\n",
       "  <tbody>\n",
       "    <tr>\n",
       "      <th>0</th>\n",
       "      <td>a</td>\n",
       "      <td>Buy</td>\n",
       "      <td>3.9550</td>\n",
       "      <td>Buy</td>\n",
       "      <td>3.8417</td>\n",
       "      <td>Buy</td>\n",
       "      <td>3.6352</td>\n",
       "      <td>7.7334</td>\n",
       "    </tr>\n",
       "    <tr>\n",
       "      <th>1</th>\n",
       "      <td>aapl</td>\n",
       "      <td>Hold or Sell</td>\n",
       "      <td>3.8539</td>\n",
       "      <td>Hold or Sell</td>\n",
       "      <td>3.2904</td>\n",
       "      <td>Hold or Sell</td>\n",
       "      <td>4.2884</td>\n",
       "      <td>322.0389</td>\n",
       "    </tr>\n",
       "    <tr>\n",
       "      <th>2</th>\n",
       "      <td>acy</td>\n",
       "      <td>Hold or Sell</td>\n",
       "      <td>0.4946</td>\n",
       "      <td>Buy</td>\n",
       "      <td>1.2830</td>\n",
       "      <td>Buy</td>\n",
       "      <td>0.6681</td>\n",
       "      <td>2.7931</td>\n",
       "    </tr>\n",
       "    <tr>\n",
       "      <th>3</th>\n",
       "      <td>adbe</td>\n",
       "      <td>Buy</td>\n",
       "      <td>10.8636</td>\n",
       "      <td>Buy</td>\n",
       "      <td>6.5164</td>\n",
       "      <td>Buy</td>\n",
       "      <td>7.5354</td>\n",
       "      <td>76.0044</td>\n",
       "    </tr>\n",
       "    <tr>\n",
       "      <th>4</th>\n",
       "      <td>alb</td>\n",
       "      <td>Hold or Sell</td>\n",
       "      <td>2.0688</td>\n",
       "      <td>Hold or Sell</td>\n",
       "      <td>1.8264</td>\n",
       "      <td>Hold or Sell</td>\n",
       "      <td>1.7505</td>\n",
       "      <td>12.8843</td>\n",
       "    </tr>\n",
       "    <tr>\n",
       "      <th>5</th>\n",
       "      <td>amat</td>\n",
       "      <td>Buy</td>\n",
       "      <td>8.5785</td>\n",
       "      <td>Buy</td>\n",
       "      <td>9.9257</td>\n",
       "      <td>Buy</td>\n",
       "      <td>11.0536</td>\n",
       "      <td>225.4043</td>\n",
       "    </tr>\n",
       "    <tr>\n",
       "      <th>6</th>\n",
       "      <td>amd</td>\n",
       "      <td>Buy</td>\n",
       "      <td>11.9329</td>\n",
       "      <td>Buy</td>\n",
       "      <td>12.5885</td>\n",
       "      <td>Buy</td>\n",
       "      <td>8.0708</td>\n",
       "      <td>17.0244</td>\n",
       "    </tr>\n",
       "    <tr>\n",
       "      <th>7</th>\n",
       "      <td>amgn</td>\n",
       "      <td>Hold or Sell</td>\n",
       "      <td>6.2182</td>\n",
       "      <td>Hold or Sell</td>\n",
       "      <td>3.9668</td>\n",
       "      <td>Hold or Sell</td>\n",
       "      <td>5.6271</td>\n",
       "      <td>25.6809</td>\n",
       "    </tr>\n",
       "    <tr>\n",
       "      <th>8</th>\n",
       "      <td>amzn</td>\n",
       "      <td>Buy</td>\n",
       "      <td>3.0427</td>\n",
       "      <td>Buy</td>\n",
       "      <td>3.7760</td>\n",
       "      <td>Buy</td>\n",
       "      <td>3.5371</td>\n",
       "      <td>106.1159</td>\n",
       "    </tr>\n",
       "    <tr>\n",
       "      <th>9</th>\n",
       "      <td>baba</td>\n",
       "      <td>Buy</td>\n",
       "      <td>1.1262</td>\n",
       "      <td>Buy</td>\n",
       "      <td>1.2837</td>\n",
       "      <td>Buy</td>\n",
       "      <td>1.4375</td>\n",
       "      <td>1.9798</td>\n",
       "    </tr>\n",
       "    <tr>\n",
       "      <th>10</th>\n",
       "      <td>bac</td>\n",
       "      <td>Buy</td>\n",
       "      <td>3.5372</td>\n",
       "      <td>Buy</td>\n",
       "      <td>3.3389</td>\n",
       "      <td>Buy</td>\n",
       "      <td>2.3028</td>\n",
       "      <td>8.0176</td>\n",
       "    </tr>\n",
       "    <tr>\n",
       "      <th>11</th>\n",
       "      <td>bpmc</td>\n",
       "      <td>Buy</td>\n",
       "      <td>2.2344</td>\n",
       "      <td>Buy</td>\n",
       "      <td>1.6410</td>\n",
       "      <td>Buy</td>\n",
       "      <td>2.1114</td>\n",
       "      <td>2.1396</td>\n",
       "    </tr>\n",
       "    <tr>\n",
       "      <th>12</th>\n",
       "      <td>crm</td>\n",
       "      <td>Buy</td>\n",
       "      <td>2.1536</td>\n",
       "      <td>Buy</td>\n",
       "      <td>2.2989</td>\n",
       "      <td>Buy</td>\n",
       "      <td>1.6168</td>\n",
       "      <td>15.1189</td>\n",
       "    </tr>\n",
       "    <tr>\n",
       "      <th>13</th>\n",
       "      <td>crsp</td>\n",
       "      <td>Buy</td>\n",
       "      <td>1.0787</td>\n",
       "      <td>Buy</td>\n",
       "      <td>0.8064</td>\n",
       "      <td>Buy</td>\n",
       "      <td>1.5157</td>\n",
       "      <td>5.2488</td>\n",
       "    </tr>\n",
       "    <tr>\n",
       "      <th>14</th>\n",
       "      <td>dq</td>\n",
       "      <td>Buy</td>\n",
       "      <td>8.0434</td>\n",
       "      <td>Buy</td>\n",
       "      <td>6.1301</td>\n",
       "      <td>Buy</td>\n",
       "      <td>5.0359</td>\n",
       "      <td>46.8827</td>\n",
       "    </tr>\n",
       "  </tbody>\n",
       "</table>\n",
       "</div>"
      ],
      "text/plain": [
       "   stock    1_Day_Pred  1_Day_Model_Return    3_Day_Pred  3_Day_Model_Return  \\\n",
       "0      a           Buy              3.9550           Buy              3.8417   \n",
       "1   aapl  Hold or Sell              3.8539  Hold or Sell              3.2904   \n",
       "2    acy  Hold or Sell              0.4946           Buy              1.2830   \n",
       "3   adbe           Buy             10.8636           Buy              6.5164   \n",
       "4    alb  Hold or Sell              2.0688  Hold or Sell              1.8264   \n",
       "5   amat           Buy              8.5785           Buy              9.9257   \n",
       "6    amd           Buy             11.9329           Buy             12.5885   \n",
       "7   amgn  Hold or Sell              6.2182  Hold or Sell              3.9668   \n",
       "8   amzn           Buy              3.0427           Buy              3.7760   \n",
       "9   baba           Buy              1.1262           Buy              1.2837   \n",
       "10   bac           Buy              3.5372           Buy              3.3389   \n",
       "11  bpmc           Buy              2.2344           Buy              1.6410   \n",
       "12   crm           Buy              2.1536           Buy              2.2989   \n",
       "13  crsp           Buy              1.0787           Buy              0.8064   \n",
       "14    dq           Buy              8.0434           Buy              6.1301   \n",
       "\n",
       "      5_Day_Pred  5_Day_Model_Return  Actual_Returns  \n",
       "0            Buy              3.6352          7.7334  \n",
       "1   Hold or Sell              4.2884        322.0389  \n",
       "2            Buy              0.6681          2.7931  \n",
       "3            Buy              7.5354         76.0044  \n",
       "4   Hold or Sell              1.7505         12.8843  \n",
       "5            Buy             11.0536        225.4043  \n",
       "6            Buy              8.0708         17.0244  \n",
       "7   Hold or Sell              5.6271         25.6809  \n",
       "8            Buy              3.5371        106.1159  \n",
       "9            Buy              1.4375          1.9798  \n",
       "10           Buy              2.3028          8.0176  \n",
       "11           Buy              2.1114          2.1396  \n",
       "12           Buy              1.6168         15.1189  \n",
       "13           Buy              1.5157          5.2488  \n",
       "14           Buy              5.0359         46.8827  "
      ]
     },
     "execution_count": 29,
     "metadata": {},
     "output_type": "execute_result"
    }
   ],
   "source": [
    "summary_df = a.pred_summary_df(start_dates1, stocks = [x for x in start_dates1], days_back = 1)\n",
    "summary_df"
   ]
  },
  {
   "cell_type": "code",
   "execution_count": 30,
   "metadata": {},
   "outputs": [
    {
     "data": {
      "text/plain": [
       "(3.5372, 3.3389, 3.5371, 15.1189)"
      ]
     },
     "execution_count": 30,
     "metadata": {},
     "output_type": "execute_result"
    }
   ],
   "source": [
    "summary_df['1_Day_Model_Return'].median(), summary_df['3_Day_Model_Return'].median(), summary_df['5_Day_Model_Return'].median(), summary_df['Actual_Returns'].median()"
   ]
  },
  {
   "cell_type": "code",
   "execution_count": 31,
   "metadata": {},
   "outputs": [
    {
     "data": {
      "text/html": [
       "<div>\n",
       "<style scoped>\n",
       "    .dataframe tbody tr th:only-of-type {\n",
       "        vertical-align: middle;\n",
       "    }\n",
       "\n",
       "    .dataframe tbody tr th {\n",
       "        vertical-align: top;\n",
       "    }\n",
       "\n",
       "    .dataframe thead th {\n",
       "        text-align: right;\n",
       "    }\n",
       "</style>\n",
       "<table border=\"1\" class=\"dataframe\">\n",
       "  <thead>\n",
       "    <tr style=\"text-align: right;\">\n",
       "      <th></th>\n",
       "      <th>stock</th>\n",
       "      <th>1_Day_Pred</th>\n",
       "      <th>1_Day_Model_Return</th>\n",
       "      <th>3_Day_Pred</th>\n",
       "      <th>3_Day_Model_Return</th>\n",
       "      <th>5_Day_Pred</th>\n",
       "      <th>5_Day_Model_Return</th>\n",
       "      <th>Actual_Returns</th>\n",
       "    </tr>\n",
       "  </thead>\n",
       "  <tbody>\n",
       "    <tr>\n",
       "      <th>0</th>\n",
       "      <td>esgv</td>\n",
       "      <td>Buy</td>\n",
       "      <td>1.0957</td>\n",
       "      <td>Buy</td>\n",
       "      <td>1.2091</td>\n",
       "      <td>Buy</td>\n",
       "      <td>1.1161</td>\n",
       "      <td>0.5802</td>\n",
       "    </tr>\n",
       "    <tr>\n",
       "      <th>1</th>\n",
       "      <td>fslr</td>\n",
       "      <td>Buy</td>\n",
       "      <td>1.9148</td>\n",
       "      <td>Buy</td>\n",
       "      <td>2.0416</td>\n",
       "      <td>Buy</td>\n",
       "      <td>1.8532</td>\n",
       "      <td>-0.3757</td>\n",
       "    </tr>\n",
       "    <tr>\n",
       "      <th>2</th>\n",
       "      <td>goog</td>\n",
       "      <td>Hold or Sell</td>\n",
       "      <td>3.0232</td>\n",
       "      <td>Hold or Sell</td>\n",
       "      <td>2.7018</td>\n",
       "      <td>Hold or Sell</td>\n",
       "      <td>2.7412</td>\n",
       "      <td>12.6227</td>\n",
       "    </tr>\n",
       "    <tr>\n",
       "      <th>3</th>\n",
       "      <td>ibm</td>\n",
       "      <td>Buy</td>\n",
       "      <td>4.0434</td>\n",
       "      <td>Buy</td>\n",
       "      <td>3.4334</td>\n",
       "      <td>Buy</td>\n",
       "      <td>3.1736</td>\n",
       "      <td>6.8019</td>\n",
       "    </tr>\n",
       "    <tr>\n",
       "      <th>4</th>\n",
       "      <td>intc</td>\n",
       "      <td>Buy</td>\n",
       "      <td>5.8676</td>\n",
       "      <td>Buy</td>\n",
       "      <td>6.6122</td>\n",
       "      <td>Buy</td>\n",
       "      <td>5.1230</td>\n",
       "      <td>43.2643</td>\n",
       "    </tr>\n",
       "    <tr>\n",
       "      <th>5</th>\n",
       "      <td>iyw</td>\n",
       "      <td>Buy</td>\n",
       "      <td>3.5903</td>\n",
       "      <td>Buy</td>\n",
       "      <td>4.5427</td>\n",
       "      <td>Buy</td>\n",
       "      <td>3.1902</td>\n",
       "      <td>6.8129</td>\n",
       "    </tr>\n",
       "    <tr>\n",
       "      <th>6</th>\n",
       "      <td>lng</td>\n",
       "      <td>Hold or Sell</td>\n",
       "      <td>0.9626</td>\n",
       "      <td>Hold or Sell</td>\n",
       "      <td>0.9346</td>\n",
       "      <td>Hold or Sell</td>\n",
       "      <td>0.9989</td>\n",
       "      <td>61.7311</td>\n",
       "    </tr>\n",
       "    <tr>\n",
       "      <th>7</th>\n",
       "      <td>ma</td>\n",
       "      <td>Buy</td>\n",
       "      <td>3.1581</td>\n",
       "      <td>Buy</td>\n",
       "      <td>3.1552</td>\n",
       "      <td>Buy</td>\n",
       "      <td>3.1253</td>\n",
       "      <td>16.2338</td>\n",
       "    </tr>\n",
       "    <tr>\n",
       "      <th>8</th>\n",
       "      <td>mdb</td>\n",
       "      <td>Buy</td>\n",
       "      <td>0.8386</td>\n",
       "      <td>Buy</td>\n",
       "      <td>0.9234</td>\n",
       "      <td>Buy</td>\n",
       "      <td>0.7887</td>\n",
       "      <td>2.6724</td>\n",
       "    </tr>\n",
       "    <tr>\n",
       "      <th>9</th>\n",
       "      <td>msft</td>\n",
       "      <td>Buy</td>\n",
       "      <td>8.1476</td>\n",
       "      <td>Buy</td>\n",
       "      <td>9.4845</td>\n",
       "      <td>Buy</td>\n",
       "      <td>7.3000</td>\n",
       "      <td>64.3229</td>\n",
       "    </tr>\n",
       "    <tr>\n",
       "      <th>10</th>\n",
       "      <td>mu</td>\n",
       "      <td>Buy</td>\n",
       "      <td>2.0674</td>\n",
       "      <td>Buy</td>\n",
       "      <td>4.6268</td>\n",
       "      <td>Buy</td>\n",
       "      <td>2.9124</td>\n",
       "      <td>15.5252</td>\n",
       "    </tr>\n",
       "    <tr>\n",
       "      <th>11</th>\n",
       "      <td>nee</td>\n",
       "      <td>Buy</td>\n",
       "      <td>4.0592</td>\n",
       "      <td>Buy</td>\n",
       "      <td>4.5814</td>\n",
       "      <td>Buy</td>\n",
       "      <td>6.0908</td>\n",
       "      <td>29.3962</td>\n",
       "    </tr>\n",
       "    <tr>\n",
       "      <th>12</th>\n",
       "      <td>nio</td>\n",
       "      <td>Buy</td>\n",
       "      <td>1.8758</td>\n",
       "      <td>Hold or Sell</td>\n",
       "      <td>1.5756</td>\n",
       "      <td>Hold or Sell</td>\n",
       "      <td>1.6906</td>\n",
       "      <td>6.8927</td>\n",
       "    </tr>\n",
       "    <tr>\n",
       "      <th>13</th>\n",
       "      <td>nvda</td>\n",
       "      <td>Buy</td>\n",
       "      <td>11.0234</td>\n",
       "      <td>Buy</td>\n",
       "      <td>11.1001</td>\n",
       "      <td>Buy</td>\n",
       "      <td>8.6312</td>\n",
       "      <td>144.4941</td>\n",
       "    </tr>\n",
       "    <tr>\n",
       "      <th>14</th>\n",
       "      <td>pacb</td>\n",
       "      <td>Buy</td>\n",
       "      <td>1.7555</td>\n",
       "      <td>Buy</td>\n",
       "      <td>1.7543</td>\n",
       "      <td>Buy</td>\n",
       "      <td>1.9737</td>\n",
       "      <td>10.1736</td>\n",
       "    </tr>\n",
       "  </tbody>\n",
       "</table>\n",
       "</div>"
      ],
      "text/plain": [
       "   stock    1_Day_Pred  1_Day_Model_Return    3_Day_Pred  3_Day_Model_Return  \\\n",
       "0   esgv           Buy              1.0957           Buy              1.2091   \n",
       "1   fslr           Buy              1.9148           Buy              2.0416   \n",
       "2   goog  Hold or Sell              3.0232  Hold or Sell              2.7018   \n",
       "3    ibm           Buy              4.0434           Buy              3.4334   \n",
       "4   intc           Buy              5.8676           Buy              6.6122   \n",
       "5    iyw           Buy              3.5903           Buy              4.5427   \n",
       "6    lng  Hold or Sell              0.9626  Hold or Sell              0.9346   \n",
       "7     ma           Buy              3.1581           Buy              3.1552   \n",
       "8    mdb           Buy              0.8386           Buy              0.9234   \n",
       "9   msft           Buy              8.1476           Buy              9.4845   \n",
       "10    mu           Buy              2.0674           Buy              4.6268   \n",
       "11   nee           Buy              4.0592           Buy              4.5814   \n",
       "12   nio           Buy              1.8758  Hold or Sell              1.5756   \n",
       "13  nvda           Buy             11.0234           Buy             11.1001   \n",
       "14  pacb           Buy              1.7555           Buy              1.7543   \n",
       "\n",
       "      5_Day_Pred  5_Day_Model_Return  Actual_Returns  \n",
       "0            Buy              1.1161          0.5802  \n",
       "1            Buy              1.8532         -0.3757  \n",
       "2   Hold or Sell              2.7412         12.6227  \n",
       "3            Buy              3.1736          6.8019  \n",
       "4            Buy              5.1230         43.2643  \n",
       "5            Buy              3.1902          6.8129  \n",
       "6   Hold or Sell              0.9989         61.7311  \n",
       "7            Buy              3.1253         16.2338  \n",
       "8            Buy              0.7887          2.6724  \n",
       "9            Buy              7.3000         64.3229  \n",
       "10           Buy              2.9124         15.5252  \n",
       "11           Buy              6.0908         29.3962  \n",
       "12  Hold or Sell              1.6906          6.8927  \n",
       "13           Buy              8.6312        144.4941  \n",
       "14           Buy              1.9737         10.1736  "
      ]
     },
     "execution_count": 31,
     "metadata": {},
     "output_type": "execute_result"
    }
   ],
   "source": [
    "summary_df = a.pred_summary_df(start_dates2, stocks = [x for x in start_dates2], days_back = 1)\n",
    "summary_df"
   ]
  },
  {
   "cell_type": "code",
   "execution_count": 32,
   "metadata": {},
   "outputs": [
    {
     "data": {
      "text/plain": [
       "(3.0232, 3.1552, 2.9124, 12.6227)"
      ]
     },
     "execution_count": 32,
     "metadata": {},
     "output_type": "execute_result"
    }
   ],
   "source": [
    "summary_df['1_Day_Model_Return'].median(), summary_df['3_Day_Model_Return'].median(), summary_df['5_Day_Model_Return'].median(), summary_df['Actual_Returns'].median()"
   ]
  },
  {
   "cell_type": "code",
   "execution_count": 34,
   "metadata": {
    "scrolled": false
   },
   "outputs": [
    {
     "data": {
      "text/html": [
       "<div>\n",
       "<style scoped>\n",
       "    .dataframe tbody tr th:only-of-type {\n",
       "        vertical-align: middle;\n",
       "    }\n",
       "\n",
       "    .dataframe tbody tr th {\n",
       "        vertical-align: top;\n",
       "    }\n",
       "\n",
       "    .dataframe thead th {\n",
       "        text-align: right;\n",
       "    }\n",
       "</style>\n",
       "<table border=\"1\" class=\"dataframe\">\n",
       "  <thead>\n",
       "    <tr style=\"text-align: right;\">\n",
       "      <th></th>\n",
       "      <th>stock</th>\n",
       "      <th>1_Day_Pred</th>\n",
       "      <th>1_Day_Model_Return</th>\n",
       "      <th>3_Day_Pred</th>\n",
       "      <th>3_Day_Model_Return</th>\n",
       "      <th>5_Day_Pred</th>\n",
       "      <th>5_Day_Model_Return</th>\n",
       "      <th>Actual_Returns</th>\n",
       "    </tr>\n",
       "  </thead>\n",
       "  <tbody>\n",
       "    <tr>\n",
       "      <th>0</th>\n",
       "      <td>pypl</td>\n",
       "      <td>Hold or Sell</td>\n",
       "      <td>1.9709</td>\n",
       "      <td>Buy</td>\n",
       "      <td>2.2879</td>\n",
       "      <td>Hold or Sell</td>\n",
       "      <td>2.1851</td>\n",
       "      <td>5.7416</td>\n",
       "    </tr>\n",
       "    <tr>\n",
       "      <th>1</th>\n",
       "      <td>qgen</td>\n",
       "      <td>Hold or Sell</td>\n",
       "      <td>2.5638</td>\n",
       "      <td>Hold or Sell</td>\n",
       "      <td>2.0950</td>\n",
       "      <td>Hold or Sell</td>\n",
       "      <td>2.5552</td>\n",
       "      <td>9.0094</td>\n",
       "    </tr>\n",
       "    <tr>\n",
       "      <th>2</th>\n",
       "      <td>run</td>\n",
       "      <td>Buy</td>\n",
       "      <td>0.8950</td>\n",
       "      <td>Buy</td>\n",
       "      <td>1.0379</td>\n",
       "      <td>Buy</td>\n",
       "      <td>1.2643</td>\n",
       "      <td>6.8799</td>\n",
       "    </tr>\n",
       "    <tr>\n",
       "      <th>3</th>\n",
       "      <td>okta</td>\n",
       "      <td>Buy</td>\n",
       "      <td>1.0902</td>\n",
       "      <td>Buy</td>\n",
       "      <td>1.2088</td>\n",
       "      <td>Hold or Sell</td>\n",
       "      <td>0.9767</td>\n",
       "      <td>5.4754</td>\n",
       "    </tr>\n",
       "    <tr>\n",
       "      <th>4</th>\n",
       "      <td>orcl</td>\n",
       "      <td>Buy</td>\n",
       "      <td>3.6010</td>\n",
       "      <td>Buy</td>\n",
       "      <td>3.9268</td>\n",
       "      <td>Buy</td>\n",
       "      <td>4.3714</td>\n",
       "      <td>40.4205</td>\n",
       "    </tr>\n",
       "    <tr>\n",
       "      <th>5</th>\n",
       "      <td>qqq</td>\n",
       "      <td>Buy</td>\n",
       "      <td>3.0356</td>\n",
       "      <td>Buy</td>\n",
       "      <td>4.2594</td>\n",
       "      <td>Buy</td>\n",
       "      <td>3.6782</td>\n",
       "      <td>8.6602</td>\n",
       "    </tr>\n",
       "    <tr>\n",
       "      <th>6</th>\n",
       "      <td>srpt</td>\n",
       "      <td>Buy</td>\n",
       "      <td>1.5136</td>\n",
       "      <td>Buy</td>\n",
       "      <td>1.9834</td>\n",
       "      <td>Buy</td>\n",
       "      <td>0.7502</td>\n",
       "      <td>1.1079</td>\n",
       "    </tr>\n",
       "    <tr>\n",
       "      <th>7</th>\n",
       "      <td>tpic</td>\n",
       "      <td>Hold or Sell</td>\n",
       "      <td>0.9927</td>\n",
       "      <td>Buy</td>\n",
       "      <td>1.4869</td>\n",
       "      <td>Buy</td>\n",
       "      <td>1.3108</td>\n",
       "      <td>1.1174</td>\n",
       "    </tr>\n",
       "    <tr>\n",
       "      <th>8</th>\n",
       "      <td>tsla</td>\n",
       "      <td>Buy</td>\n",
       "      <td>3.0641</td>\n",
       "      <td>Buy</td>\n",
       "      <td>2.8749</td>\n",
       "      <td>Buy</td>\n",
       "      <td>2.5691</td>\n",
       "      <td>98.2266</td>\n",
       "    </tr>\n",
       "    <tr>\n",
       "      <th>9</th>\n",
       "      <td>v</td>\n",
       "      <td>Buy</td>\n",
       "      <td>2.5331</td>\n",
       "      <td>Hold or Sell</td>\n",
       "      <td>2.4741</td>\n",
       "      <td>Buy</td>\n",
       "      <td>2.6958</td>\n",
       "      <td>9.2667</td>\n",
       "    </tr>\n",
       "    <tr>\n",
       "      <th>10</th>\n",
       "      <td>vbiv</td>\n",
       "      <td>Buy</td>\n",
       "      <td>3.2519</td>\n",
       "      <td>Buy</td>\n",
       "      <td>3.0724</td>\n",
       "      <td>Buy</td>\n",
       "      <td>3.2520</td>\n",
       "      <td>-0.7966</td>\n",
       "    </tr>\n",
       "    <tr>\n",
       "      <th>11</th>\n",
       "      <td>vbr</td>\n",
       "      <td>Buy</td>\n",
       "      <td>1.7028</td>\n",
       "      <td>Buy</td>\n",
       "      <td>1.5252</td>\n",
       "      <td>Buy</td>\n",
       "      <td>1.4036</td>\n",
       "      <td>1.5897</td>\n",
       "    </tr>\n",
       "    <tr>\n",
       "      <th>12</th>\n",
       "      <td>viov</td>\n",
       "      <td>Buy</td>\n",
       "      <td>1.3115</td>\n",
       "      <td>Buy</td>\n",
       "      <td>1.0276</td>\n",
       "      <td>Buy</td>\n",
       "      <td>1.2248</td>\n",
       "      <td>1.1881</td>\n",
       "    </tr>\n",
       "    <tr>\n",
       "      <th>13</th>\n",
       "      <td>vgt</td>\n",
       "      <td>Buy</td>\n",
       "      <td>2.7262</td>\n",
       "      <td>Buy</td>\n",
       "      <td>2.6204</td>\n",
       "      <td>Buy</td>\n",
       "      <td>2.5340</td>\n",
       "      <td>5.6373</td>\n",
       "    </tr>\n",
       "    <tr>\n",
       "      <th>14</th>\n",
       "      <td>xlk</td>\n",
       "      <td>Buy</td>\n",
       "      <td>3.6055</td>\n",
       "      <td>Buy</td>\n",
       "      <td>3.5935</td>\n",
       "      <td>Buy</td>\n",
       "      <td>3.8524</td>\n",
       "      <td>6.4016</td>\n",
       "    </tr>\n",
       "  </tbody>\n",
       "</table>\n",
       "</div>"
      ],
      "text/plain": [
       "   stock    1_Day_Pred  1_Day_Model_Return    3_Day_Pred  3_Day_Model_Return  \\\n",
       "0   pypl  Hold or Sell              1.9709           Buy              2.2879   \n",
       "1   qgen  Hold or Sell              2.5638  Hold or Sell              2.0950   \n",
       "2    run           Buy              0.8950           Buy              1.0379   \n",
       "3   okta           Buy              1.0902           Buy              1.2088   \n",
       "4   orcl           Buy              3.6010           Buy              3.9268   \n",
       "5    qqq           Buy              3.0356           Buy              4.2594   \n",
       "6   srpt           Buy              1.5136           Buy              1.9834   \n",
       "7   tpic  Hold or Sell              0.9927           Buy              1.4869   \n",
       "8   tsla           Buy              3.0641           Buy              2.8749   \n",
       "9      v           Buy              2.5331  Hold or Sell              2.4741   \n",
       "10  vbiv           Buy              3.2519           Buy              3.0724   \n",
       "11   vbr           Buy              1.7028           Buy              1.5252   \n",
       "12  viov           Buy              1.3115           Buy              1.0276   \n",
       "13   vgt           Buy              2.7262           Buy              2.6204   \n",
       "14   xlk           Buy              3.6055           Buy              3.5935   \n",
       "\n",
       "      5_Day_Pred  5_Day_Model_Return  Actual_Returns  \n",
       "0   Hold or Sell              2.1851          5.7416  \n",
       "1   Hold or Sell              2.5552          9.0094  \n",
       "2            Buy              1.2643          6.8799  \n",
       "3   Hold or Sell              0.9767          5.4754  \n",
       "4            Buy              4.3714         40.4205  \n",
       "5            Buy              3.6782          8.6602  \n",
       "6            Buy              0.7502          1.1079  \n",
       "7            Buy              1.3108          1.1174  \n",
       "8            Buy              2.5691         98.2266  \n",
       "9            Buy              2.6958          9.2667  \n",
       "10           Buy              3.2520         -0.7966  \n",
       "11           Buy              1.4036          1.5897  \n",
       "12           Buy              1.2248          1.1881  \n",
       "13           Buy              2.5340          5.6373  \n",
       "14           Buy              3.8524          6.4016  "
      ]
     },
     "execution_count": 34,
     "metadata": {},
     "output_type": "execute_result"
    }
   ],
   "source": [
    "summary_df = a.pred_summary_df(start_dates3, stocks = [x for x in start_dates3], days_back = 1)\n",
    "summary_df"
   ]
  },
  {
   "cell_type": "code",
   "execution_count": 35,
   "metadata": {},
   "outputs": [
    {
     "data": {
      "text/plain": [
       "(2.5331, 2.2879, 2.534, 5.7416)"
      ]
     },
     "execution_count": 35,
     "metadata": {},
     "output_type": "execute_result"
    }
   ],
   "source": [
    "summary_df['1_Day_Model_Return'].median(), summary_df['3_Day_Model_Return'].median(), summary_df['5_Day_Model_Return'].median(), summary_df['Actual_Returns'].median()"
   ]
  },
  {
   "cell_type": "code",
   "execution_count": null,
   "metadata": {},
   "outputs": [],
   "source": []
  }
 ],
 "metadata": {
  "kernelspec": {
   "display_name": "Python 3",
   "language": "python",
   "name": "python3"
  },
  "language_info": {
   "codemirror_mode": {
    "name": "ipython",
    "version": 3
   },
   "file_extension": ".py",
   "mimetype": "text/x-python",
   "name": "python",
   "nbconvert_exporter": "python",
   "pygments_lexer": "ipython3",
   "version": "3.8.5"
  }
 },
 "nbformat": 4,
 "nbformat_minor": 4
}
