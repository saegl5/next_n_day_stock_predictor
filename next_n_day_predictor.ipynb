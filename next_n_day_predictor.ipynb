{
 "cells": [
  {
   "cell_type": "code",
   "execution_count": null,
   "metadata": {
    "scrolled": true
   },
   "outputs": [],
   "source": [
    "from src import attributes as a\n",
    "%load_ext autoreload\n",
    "%autoreload 2"
   ]
  },
  {
   "cell_type": "code",
   "execution_count": null,
   "metadata": {},
   "outputs": [],
   "source": [
    "# Global Variables\n",
    "stock_name = 'vbiv' # ticker symbol\n",
    "train = 1 # 1 for train, 0 for pass\n",
    "days_ahead = 1 # for predicting 1 day ahead\n",
    "cv = 5 # number of cross validation folds\n",
    "model_name = 'Random Forest Classifier' # for display on charts, not a tuning parameter"
   ]
  },
  {
   "cell_type": "code",
   "execution_count": null,
   "metadata": {},
   "outputs": [],
   "source": [
    "# Extract, Transform, Load, and Train Test Split\n",
    "# aapl start date: 12/12/1980, trained 12/23/20\n",
    "# tsla start date: 06/29/2010, trained 12/23/20\n",
    "# vbiv start date: 09/04/2002, trained 12/23/20\n",
    "# vgt start date: 01/26/2004, trained 12/23/20\n",
    "# idex start date: 05/23/2007, trained 12/23/20\n",
    "# iyw start date: 05/15/2000, trained 12/23/20\n",
    "# \n",
    "start_dates = {'aapl':'12/12/1980'\n",
    "               , 'acy': '01/18/1998'\n",
    "               , 'amd': '03/17/1980'\n",
    "               , 'baba': '09/15/2014'\n",
    "               , 'crm': '06/23/2004'\n",
    "               , 'esgv': '09/16/2018'\n",
    "               , 'goog': '08/16/2004'\n",
    "               , 'ibm': '01/02/1962'\n",
    "               , 'idex': '05/23/2007'\n",
    "               , 'intc': '03/16/1980'\n",
    "               , 'iyw': '05/15/2000'\n",
    "               , 'msft': '03/10/1986'\n",
    "               , 'nvda': '01/22/1999'\n",
    "               , 'pypl': '07/05/2015'\n",
    "               , 'tsla': '06/29/2010'\n",
    "               , 'vbiv': '09/04/2002'\n",
    "               , 'vgt': '01/26/2004'\n",
    "              }\n",
    "X_train, X_test, y_train, y_test, stock_df = a.data(stock_name, start_dates[stock_name], days_ahead)"
   ]
  },
  {
   "cell_type": "code",
   "execution_count": null,
   "metadata": {},
   "outputs": [],
   "source": [
    "stock_df.tail(10)"
   ]
  },
  {
   "cell_type": "code",
   "execution_count": null,
   "metadata": {
    "scrolled": false
   },
   "outputs": [],
   "source": [
    "# GridSerach to find best hyperparameters to prevent overfitting, can be commented out once trained\n",
    "if train == 1:\n",
    "    a.rfc_GridSearch(X_train, y_train, stock_name, days_ahead, cv)\n",
    "elif train == 0:\n",
    "    pass"
   ]
  },
  {
   "cell_type": "code",
   "execution_count": null,
   "metadata": {},
   "outputs": [],
   "source": [
    "# Load RandomForextClassifier Model\n",
    "rfc_model, y_pred, y_probs = a.rfc(X_train, X_test, y_train, stock_name, days_ahead)"
   ]
  },
  {
   "cell_type": "code",
   "execution_count": null,
   "metadata": {
    "scrolled": false
   },
   "outputs": [],
   "source": [
    "# ROC Curve\n",
    "a.roc_plot(y_test, y_probs, stock_name, model_name)"
   ]
  },
  {
   "cell_type": "code",
   "execution_count": null,
   "metadata": {
    "scrolled": false
   },
   "outputs": [],
   "source": [
    "# Precision Recall Curve\n",
    "a.prec_recall(y_test, y_probs, stock_name, model_name)"
   ]
  },
  {
   "cell_type": "code",
   "execution_count": null,
   "metadata": {
    "scrolled": false
   },
   "outputs": [],
   "source": [
    "# Confusion Matrix\n",
    "a.confusion_matrix(rfc_model, X_test, y_test, stock_name)"
   ]
  },
  {
   "cell_type": "code",
   "execution_count": null,
   "metadata": {},
   "outputs": [],
   "source": [
    "# Cross Validation\n",
    "a.cross_validation(rfc_model\n",
    "                   , stock_df[['oc', 'hl', '5stdev_adj', '5sma_adj']]\n",
    "                   , stock_df['direction']\n",
    "                   , cv = 5\n",
    "                  )"
   ]
  },
  {
   "cell_type": "code",
   "execution_count": null,
   "metadata": {
    "scrolled": false
   },
   "outputs": [],
   "source": [
    "# Prediction, use last day of data\n",
    "stock_df.iloc[-1]"
   ]
  },
  {
   "cell_type": "code",
   "execution_count": null,
   "metadata": {},
   "outputs": [],
   "source": [
    "import numpy as np\n",
    "last = stock_df[['oc', 'hl', '5stdev_adj', '5sma_adj']].iloc[-1]\n",
    "last"
   ]
  },
  {
   "cell_type": "markdown",
   "metadata": {},
   "source": [
    "### Prediction..."
   ]
  },
  {
   "cell_type": "code",
   "execution_count": null,
   "metadata": {
    "scrolled": true
   },
   "outputs": [],
   "source": [
    "if rfc_model.predict(np.array(last).reshape(1, -1))[0] == 1:\n",
    "    print(f'Buy {stock_name}')\n",
    "else:\n",
    "    print(f'Sell or hold {stock_name}')"
   ]
  },
  {
   "cell_type": "code",
   "execution_count": null,
   "metadata": {},
   "outputs": [],
   "source": [
    "# returns on strategy column\n",
    "stock_df['prediction'] = rfc_model.predict(stock_df[['oc', 'hl', '5stdev_adj', '5sma_adj']])\n",
    "stock_df['returns'] = stock_df['adj'].shift(-1, fill_value = stock_df['adj'].median()) * stock_df['prediction']"
   ]
  },
  {
   "cell_type": "code",
   "execution_count": null,
   "metadata": {},
   "outputs": [],
   "source": [
    "stock_df.tail(5)"
   ]
  },
  {
   "cell_type": "code",
   "execution_count": null,
   "metadata": {},
   "outputs": [],
   "source": [
    "# Don't trade every day!\n",
    "import matplotlib.pyplot as plt\n",
    "test_length = len(y_test)\n",
    "(stock_df['returns'][-test_length:] + 1).cumprod().plot()\n",
    "plt.title(f'{stock_name} Expected Returns %');"
   ]
  },
  {
   "cell_type": "code",
   "execution_count": null,
   "metadata": {},
   "outputs": [],
   "source": [
    "# Model returns if bought on predictions of 1\n",
    "returns_on_ones = []\n",
    "for idx in range(-test_length, 0):\n",
    "    if stock_df['prediction'][idx] == 1:\n",
    "        returns_on_ones.append(1 + stock_df['returns'][idx])\n",
    "\n",
    "returns = 1\n",
    "for x in returns_on_ones:\n",
    "    returns *= x\n",
    "returns"
   ]
  },
  {
   "cell_type": "code",
   "execution_count": null,
   "metadata": {},
   "outputs": [],
   "source": [
    "# multiple times original investment, not bad but..."
   ]
  },
  {
   "cell_type": "code",
   "execution_count": null,
   "metadata": {},
   "outputs": [],
   "source": [
    "# If purchased in 2012 and left it until now\n",
    "test_idx = int(len(stock_df)*0.75)\n",
    "(stock_df['Close'][-1] - stock_df['Close'][-test_idx]) /stock_df['Close'][-test_idx]"
   ]
  },
  {
   "cell_type": "code",
   "execution_count": null,
   "metadata": {},
   "outputs": [],
   "source": [
    "# Buy and hold strategy beats RandomForestClassifier in this study\n",
    "\n",
    "# Special thanks to Shagufta Tahsildar at https://blog.quantinsti.com/random-forest-algorithm-in-python/"
   ]
  },
  {
   "cell_type": "code",
   "execution_count": null,
   "metadata": {},
   "outputs": [],
   "source": []
  }
 ],
 "metadata": {
  "kernelspec": {
   "display_name": "Python 3",
   "language": "python",
   "name": "python3"
  },
  "language_info": {
   "codemirror_mode": {
    "name": "ipython",
    "version": 3
   },
   "file_extension": ".py",
   "mimetype": "text/x-python",
   "name": "python",
   "nbconvert_exporter": "python",
   "pygments_lexer": "ipython3",
   "version": "3.8.5"
  }
 },
 "nbformat": 4,
 "nbformat_minor": 4
}
