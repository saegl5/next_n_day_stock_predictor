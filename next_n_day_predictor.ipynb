{
 "cells": [
  {
   "cell_type": "code",
   "execution_count": 1,
   "metadata": {
    "scrolled": true
   },
   "outputs": [],
   "source": [
    "from src import attributes as a\n",
    "%load_ext autoreload\n",
    "%autoreload 2"
   ]
  },
  {
   "cell_type": "code",
   "execution_count": 2,
   "metadata": {},
   "outputs": [],
   "source": [
    "# Global Variables\n",
    "stock_name = 'tsla' # ticker symbol\n",
    "train = 0 # 1 for train, 0 for pass\n",
    "days_ahead = 1 # for predicting 1, 3, or 5 days ahead\n",
    "days_back = -1 # -1 for current data point, -2 for two days ago, etc...\n",
    "cv = 5 # number of cross validation folds\n",
    "model_name = 'Random Forest Classifier' # for display on charts, not a tuning parameter"
   ]
  },
  {
   "cell_type": "code",
   "execution_count": 3,
   "metadata": {},
   "outputs": [],
   "source": [
    "# Extract, Transform, Load, and Train Test Split\n",
    "# Dictionary of IPO Dates\n",
    "start_dates = {'a': '11/15/1999' # Updated 4/26/21 1D, 3D, 5D ahead\n",
    "               , 'aapl': '12/12/1980' # Updated 4/26/21 1D, 3D, 5D ahead\n",
    "               #, 'acy': '01/18/1998' # Updated 4/26/21 1D, 3D, 5D ahead\n",
    "               , 'adbe': '08/11/1986' # Updated 4/26/21 1D, 3D, 5D ahead\n",
    "               , 'alb': '02/21/1994' # Updated 4/26/21 1D, 3D, 5D ahead\n",
    "               , 'amat': '03/16/1980' # Updated 4/26/21 1D, 3D, 5D ahead\n",
    "               , 'amd': '03/17/1980' # Updated 4/26/21 1D, 3D, 5D ahead\n",
    "               , 'amgn': '06/13/1983' # Updated 4/26/21 1D, 3D, 5D ahead\n",
    "               , 'amzn': '05/12/1997' # Updated 4/26/21 1D, 3D, 5D ahead\n",
    "               , 'baba': '09/15/2014' # Updated 4/26/21 1D, 3D, 5D ahead\n",
    "               , 'bac': '02/19/1973' # Updated 4/26/21 1D, 3D, 5D ahead\n",
    "               #, 'bpmc': '04/27/2015' # Updated 4/26/21 1D, 3D, 5D ahead\n",
    "               , 'crm': '06/23/2004' # Updated 4/26/21 1D, 3D, 5D ahead\n",
    "               #, 'crsp': '10/16/2016' # Updated 4/26/21 1D, 3D, 5D ahead\n",
    "               , 'cost': '07/07/1986' # Updated 11/4/21 1D, 3D, 5D ahead\n",
    "               , 'dq': '10/04/2010' # Updated 4/26/21 1D, 3D, 5D ahead\n",
    "               , 'esgv': '09/16/2018' # Updated 4/26/21 1D, 3D, 5D ahead\n",
    "               , 'fslr': '11/12/2006' # Updated 4/26/21 1D, 3D, 5D ahead\n",
    "               , 'goog': '08/16/2004' # Updated 4/26/21 1D, 3D, 5D ahead\n",
    "               , 'ibm': '01/02/1962' # Updated 4/26/21 1D, 3D, 5D ahead\n",
    "               , 'intc': '03/16/1980' # Updated 4/26/21 1D, 3D, 5D ahead\n",
    "               , 'iyw': '05/15/2000' # Updated 4/26/21 1D, 3D, 5D ahead\n",
    "               , 'll': '11/05/2007' # Updated 9/13/21 1D, 3D, 5D ahead\n",
    "               , 'lng': '04/04/1994' # Updated 4/26/21 1D, 3D, 5D ahead\n",
    "               , 'ma': '05/21/2006' # Updated 4/26/21 1D, 3D, 5D ahead\n",
    "               , 'mdb': '10/15/2017' # Updated 4/26/21 1D, 3D, 5D ahead\n",
    "               , 'msft': '03/10/1986' # Updated 4/26/21 1D, 3D, 5D ahead\n",
    "               , 'mu': '05/28/1984' # Updated 4/26/21 1D, 3D, 5D ahead\n",
    "               , 'nee': '02/19/1973' # Updated 4/26/21 1D, 3D, 5D ahead\n",
    "               , 'nio': '09/10/2018' # Updated 4/26/21 1D, 3D, 5D ahead\n",
    "               , 'nvda': '01/22/1999' # Updated 4/26/21 1D, 3D, 5D ahead\n",
    "               , 'pacb': '10/25/2010' # Updated 4/26/21 1D, 3D, 5D ahead\n",
    "               , 'pypl': '07/05/2015' # Updated 4/26/21 1D, 3D, 5D ahead\n",
    "               , 'qgen': '06/24/1996' # Updated 4/26/21 1D, 3D, 5D ahead\n",
    "               , 'run': '08/02/2015' # Updated 4/26/21 1D, 3D, 5D ahead\n",
    "               , 'okta': '04/03/2017' # Updated 4/26/21 1D, 3D, 5D ahead\n",
    "               , 'orcl': '03/10/1986' # Updated 4/26/21 1D, 3D, 5D ahead\n",
    "               , 'qcom': '12/09/1991' # Updated 10/31/21 1D, 3D, 5D ahead\n",
    "               , 'qqq': '03/08/1999' # Updated 4/26/21 1D, 3D, 5D ahead\n",
    "               , 'srpt': '06/02/1997' # Updated 4/26/21 1D, 3D, 5D ahead\n",
    "               #, 'tpic': '07/17/2016' # Updated 4/26/21 1D, 3D, 5D ahead\n",
    "               , 'tsla': '06/29/2010' # Updated 4/26/21 1D, 3D, 5D ahead\n",
    "               , 'tsm': '10/06/1997' # Updated 10/24/21 1D, 3D, 5D ahead\n",
    "               , 'v': '03/16/2008' # Updated 4/26/21 1D, 3D, 5D ahead\n",
    "               , 'vbiv': '09/04/2002' # Updated 4/26/21 1D, 3D, 5D ahead\n",
    "               , 'vbr': '01/26/2004' # Updated 4/26/21 1D, 3D, 5D ahead\n",
    "               , 'viov': '09/06/2010' # Updated 4/26/21 1D, 3D, 5D ahead\n",
    "               , 'vgt': '01/26/2004' # Updated 4/26/21 1D, 3D, 5D ahead\n",
    "               , 'xlk': '12/21/1998' # Updated 4/26/21 1D, 3D, 5D ahead\n",
    "              }"
   ]
  },
  {
   "cell_type": "markdown",
   "metadata": {},
   "source": [
    "### Get Data..."
   ]
  },
  {
   "cell_type": "code",
   "execution_count": 4,
   "metadata": {
    "scrolled": true
   },
   "outputs": [
    {
     "name": "stdout",
     "output_type": "stream",
     "text": [
      "Today's date: 2021-11-03\n",
      "Table Updates Complete\n"
     ]
    }
   ],
   "source": [
    "from datetime import date\n",
    "today = date.today()\n",
    "print(\"Today's date:\", today)\n",
    "a.get_tables(start_dates)\n",
    "print('Table Updates Complete')"
   ]
  },
  {
   "cell_type": "code",
   "execution_count": 5,
   "metadata": {},
   "outputs": [],
   "source": [
    "# Load RandomForextClassifier Model\n",
    "# rfc_model, y_pred, y_probs = a.rfc(X_train, X_test, y_train, stock_name, days_ahead)"
   ]
  },
  {
   "cell_type": "code",
   "execution_count": 6,
   "metadata": {
    "scrolled": false
   },
   "outputs": [],
   "source": [
    "# ROC Curve\n",
    "# a.roc_plot(y_test, y_probs, stock_name, model_name)"
   ]
  },
  {
   "cell_type": "code",
   "execution_count": 7,
   "metadata": {
    "scrolled": false
   },
   "outputs": [],
   "source": [
    "# Precision Recall Curve\n",
    "# a.prec_recall(y_test, y_probs, stock_name, model_name)"
   ]
  },
  {
   "cell_type": "code",
   "execution_count": 8,
   "metadata": {
    "scrolled": false
   },
   "outputs": [],
   "source": [
    "# Confusion Matrix\n",
    "# a.confusion_matrix(rfc_model, X_test, y_test, stock_name)"
   ]
  },
  {
   "cell_type": "code",
   "execution_count": 9,
   "metadata": {},
   "outputs": [],
   "source": [
    "# Cross Validation\n",
    "# a.cross_validation(rfc_model\n",
    "#                    , stock_df[['oc', 'hl', '5stdev_adj', '5sma_adj']]\n",
    "#                    , stock_df['direction']\n",
    "#                    , cv = 5\n",
    "#                   )"
   ]
  },
  {
   "cell_type": "markdown",
   "metadata": {},
   "source": [
    "### Prediction..."
   ]
  },
  {
   "cell_type": "code",
   "execution_count": 10,
   "metadata": {
    "scrolled": true
   },
   "outputs": [],
   "source": [
    "# Prediction, use last day of data\n",
    "# stock_df.iloc[-1]"
   ]
  },
  {
   "cell_type": "code",
   "execution_count": 11,
   "metadata": {},
   "outputs": [],
   "source": [
    "# import numpy as np\n",
    "# last = stock_df[['oc', 'hl', '5stdev_adj', '5sma_adj']].iloc[-days_back]\n",
    "# last"
   ]
  },
  {
   "cell_type": "code",
   "execution_count": 12,
   "metadata": {},
   "outputs": [],
   "source": [
    "# stock_df['adj'].describe()"
   ]
  },
  {
   "cell_type": "code",
   "execution_count": 13,
   "metadata": {
    "scrolled": true
   },
   "outputs": [],
   "source": [
    "# if rfc_model.predict(np.array(last).reshape(1, -1))[0] == 1:\n",
    "#     print(f'Buy {stock_name} {days_ahead} day(s) ahead')\n",
    "# else:\n",
    "#     print(f'Sell or hold {stock_name} {days_ahead} day(s) ahead')"
   ]
  },
  {
   "cell_type": "markdown",
   "metadata": {},
   "source": [
    "### Strategy Returns..."
   ]
  },
  {
   "cell_type": "code",
   "execution_count": 14,
   "metadata": {},
   "outputs": [],
   "source": [
    "# returns on strategy column\n",
    "# stock_df['prediction'] = rfc_model.predict(stock_df[['oc', 'hl', '5stdev_adj', '5sma_adj']])\n",
    "# stock_df['returns'] = stock_df['adj'].shift(-1, fill_value = stock_df['adj'].median()) * stock_df['prediction']"
   ]
  },
  {
   "cell_type": "code",
   "execution_count": 15,
   "metadata": {},
   "outputs": [],
   "source": [
    "# stock_df.tail(5)"
   ]
  },
  {
   "cell_type": "code",
   "execution_count": 16,
   "metadata": {},
   "outputs": [],
   "source": [
    "# Don't trade every day!\n",
    "# import matplotlib.pyplot as plt\n",
    "# test_length = len(y_test)\n",
    "# (stock_df['returns'][-test_length:] + 1).cumprod().plot()\n",
    "# plt.title(f'{stock_name} Expected Returns %');"
   ]
  },
  {
   "cell_type": "code",
   "execution_count": 17,
   "metadata": {},
   "outputs": [],
   "source": [
    "# Model returns if bought on predictions of 1\n",
    "# returns_on_ones = []\n",
    "# for idx in range(-test_length, 0):\n",
    "#     if stock_df['prediction'][idx] == 1:\n",
    "#         returns_on_ones.append(1 + stock_df['returns'][idx])\n",
    "\n",
    "# returns = 1\n",
    "# for x in returns_on_ones:\n",
    "#     returns *= x\n",
    "# returns"
   ]
  },
  {
   "cell_type": "code",
   "execution_count": 18,
   "metadata": {},
   "outputs": [],
   "source": [
    "# multiple times original investment, not bad but..."
   ]
  },
  {
   "cell_type": "code",
   "execution_count": 19,
   "metadata": {},
   "outputs": [],
   "source": [
    "# If purchased in 2012 and left it until now\n",
    "# test_idx = int(len(stock_df)*0.75)\n",
    "# (stock_df['Close'][-1] - stock_df['Close'][-test_idx]) / stock_df['Close'][-test_idx]"
   ]
  },
  {
   "cell_type": "code",
   "execution_count": 20,
   "metadata": {},
   "outputs": [],
   "source": [
    "# Buy and hold strategy beats RandomForestClassifier in this study\n",
    "\n",
    "# Special thanks to Shagufta Tahsildar at https://blog.quantinsti.com/random-forest-algorithm-in-python/"
   ]
  },
  {
   "cell_type": "code",
   "execution_count": null,
   "metadata": {},
   "outputs": [],
   "source": []
  },
  {
   "cell_type": "code",
   "execution_count": null,
   "metadata": {},
   "outputs": [],
   "source": []
  },
  {
   "cell_type": "code",
   "execution_count": null,
   "metadata": {},
   "outputs": [],
   "source": []
  },
  {
   "cell_type": "markdown",
   "metadata": {},
   "source": [
    "### Training"
   ]
  },
  {
   "cell_type": "markdown",
   "metadata": {},
   "source": [
    "Training is done once a week on Saturday and Sunday"
   ]
  },
  {
   "cell_type": "code",
   "execution_count": 21,
   "metadata": {},
   "outputs": [
    {
     "data": {
      "text/plain": [
       "45"
      ]
     },
     "execution_count": 21,
     "metadata": {},
     "output_type": "execute_result"
    }
   ],
   "source": [
    "len(start_dates)"
   ]
  },
  {
   "cell_type": "code",
   "execution_count": 22,
   "metadata": {},
   "outputs": [
    {
     "data": {
      "text/plain": [
       "{'a': '11/15/1999',\n",
       " 'aapl': '12/12/1980',\n",
       " 'adbe': '08/11/1986',\n",
       " 'alb': '02/21/1994',\n",
       " 'amat': '03/16/1980',\n",
       " 'amd': '03/17/1980',\n",
       " 'amgn': '06/13/1983',\n",
       " 'amzn': '05/12/1997',\n",
       " 'baba': '09/15/2014',\n",
       " 'bac': '02/19/1973',\n",
       " 'crm': '06/23/2004',\n",
       " 'cost': '07/07/1986',\n",
       " 'dq': '10/04/2010',\n",
       " 'esgv': '09/16/2018',\n",
       " 'fslr': '11/12/2006'}"
      ]
     },
     "execution_count": 22,
     "metadata": {},
     "output_type": "execute_result"
    }
   ],
   "source": [
    "import itertools as itr\n",
    "start_dates1 = dict(itr.islice(start_dates.items(), 0, 15))\n",
    "start_dates1"
   ]
  },
  {
   "cell_type": "code",
   "execution_count": 23,
   "metadata": {},
   "outputs": [
    {
     "data": {
      "text/plain": [
       "{'goog': '08/16/2004',\n",
       " 'ibm': '01/02/1962',\n",
       " 'intc': '03/16/1980',\n",
       " 'iyw': '05/15/2000',\n",
       " 'll': '11/05/2007',\n",
       " 'lng': '04/04/1994',\n",
       " 'ma': '05/21/2006',\n",
       " 'mdb': '10/15/2017',\n",
       " 'msft': '03/10/1986',\n",
       " 'mu': '05/28/1984',\n",
       " 'nee': '02/19/1973',\n",
       " 'nio': '09/10/2018',\n",
       " 'nvda': '01/22/1999',\n",
       " 'pacb': '10/25/2010',\n",
       " 'pypl': '07/05/2015'}"
      ]
     },
     "execution_count": 23,
     "metadata": {},
     "output_type": "execute_result"
    }
   ],
   "source": [
    "start_dates2 = dict(itr.islice(start_dates.items(), 15, 30))\n",
    "start_dates2"
   ]
  },
  {
   "cell_type": "code",
   "execution_count": 24,
   "metadata": {},
   "outputs": [
    {
     "data": {
      "text/plain": [
       "{'qgen': '06/24/1996',\n",
       " 'run': '08/02/2015',\n",
       " 'okta': '04/03/2017',\n",
       " 'orcl': '03/10/1986',\n",
       " 'qcom': '12/09/1991',\n",
       " 'qqq': '03/08/1999',\n",
       " 'srpt': '06/02/1997',\n",
       " 'tsla': '06/29/2010',\n",
       " 'tsm': '10/06/1997',\n",
       " 'v': '03/16/2008',\n",
       " 'vbiv': '09/04/2002',\n",
       " 'vbr': '01/26/2004',\n",
       " 'viov': '09/06/2010',\n",
       " 'vgt': '01/26/2004',\n",
       " 'xlk': '12/21/1998'}"
      ]
     },
     "execution_count": 24,
     "metadata": {},
     "output_type": "execute_result"
    }
   ],
   "source": [
    "start_dates3 = dict(itr.islice(start_dates.items(), 30, 45+1))\n",
    "start_dates3"
   ]
  },
  {
   "cell_type": "code",
   "execution_count": 25,
   "metadata": {
    "scrolled": false
   },
   "outputs": [
    {
     "name": "stdout",
     "output_type": "stream",
     "text": [
      "Current Time = 22:21:07\n"
     ]
    },
    {
     "name": "stderr",
     "output_type": "stream",
     "text": [
      "/home/oem/.local/lib/python3.8/site-packages/sklearn/model_selection/_search.py:918: UserWarning: One or more of the test scores are non-finite: [       nan        nan        nan ... 0.71112274 0.71112274 0.71112274]\n",
      "  warnings.warn(\n",
      "/home/oem/.local/lib/python3.8/site-packages/sklearn/model_selection/_search.py:918: UserWarning: One or more of the test scores are non-finite: [       nan        nan        nan ... 0.71112274 0.71112274 0.71112274]\n",
      "  warnings.warn(\n",
      "/home/oem/.local/lib/python3.8/site-packages/sklearn/model_selection/_search.py:918: UserWarning: One or more of the test scores are non-finite: [       nan        nan        nan ... 0.71112274 0.71112274 0.71112274]\n",
      "  warnings.warn(\n",
      "/home/oem/.local/lib/python3.8/site-packages/sklearn/model_selection/_search.py:918: UserWarning: One or more of the test scores are non-finite: [       nan        nan        nan ... 0.71112274 0.71112274 0.71112274]\n",
      "  warnings.warn(\n",
      "/home/oem/.local/lib/python3.8/site-packages/sklearn/model_selection/_search.py:918: UserWarning: One or more of the test scores are non-finite: [       nan        nan        nan ... 0.71112274 0.71112274 0.71112274]\n",
      "  warnings.warn(\n",
      "/home/oem/.local/lib/python3.8/site-packages/sklearn/model_selection/_search.py:918: UserWarning: One or more of the test scores are non-finite: [       nan        nan        nan ... 0.71112274 0.71112274 0.71112274]\n",
      "  warnings.warn(\n",
      "/home/oem/.local/lib/python3.8/site-packages/sklearn/model_selection/_search.py:918: UserWarning: One or more of the test scores are non-finite: [       nan        nan        nan ... 0.71112274 0.71112274 0.71112274]\n",
      "  warnings.warn(\n",
      "/home/oem/.local/lib/python3.8/site-packages/sklearn/model_selection/_search.py:918: UserWarning: One or more of the test scores are non-finite: [       nan        nan        nan ... 0.71112274 0.71112274 0.71112274]\n",
      "  warnings.warn(\n"
     ]
    },
    {
     "name": "stdout",
     "output_type": "stream",
     "text": [
      "11min 25s ± 1min 37s per loop (mean ± std. dev. of 7 runs, 1 loop each)\n"
     ]
    },
    {
     "name": "stderr",
     "output_type": "stream",
     "text": [
      "/home/oem/.local/lib/python3.8/site-packages/sklearn/model_selection/_search.py:918: UserWarning: One or more of the test scores are non-finite: [       nan        nan        nan ... 0.72171693 0.72171693 0.72171693]\n",
      "  warnings.warn(\n",
      "/home/oem/.local/lib/python3.8/site-packages/sklearn/model_selection/_search.py:918: UserWarning: One or more of the test scores are non-finite: [       nan        nan        nan ... 0.72171693 0.72171693 0.72171693]\n",
      "  warnings.warn(\n",
      "/home/oem/.local/lib/python3.8/site-packages/sklearn/model_selection/_search.py:918: UserWarning: One or more of the test scores are non-finite: [       nan        nan        nan ... 0.72171693 0.72171693 0.72171693]\n",
      "  warnings.warn(\n",
      "/home/oem/.local/lib/python3.8/site-packages/sklearn/model_selection/_search.py:918: UserWarning: One or more of the test scores are non-finite: [       nan        nan        nan ... 0.72171693 0.72171693 0.72171693]\n",
      "  warnings.warn(\n",
      "/home/oem/.local/lib/python3.8/site-packages/sklearn/model_selection/_search.py:918: UserWarning: One or more of the test scores are non-finite: [       nan        nan        nan ... 0.72171693 0.72171693 0.72171693]\n",
      "  warnings.warn(\n",
      "/home/oem/.local/lib/python3.8/site-packages/sklearn/model_selection/_search.py:918: UserWarning: One or more of the test scores are non-finite: [       nan        nan        nan ... 0.72171693 0.72171693 0.72171693]\n",
      "  warnings.warn(\n",
      "/home/oem/.local/lib/python3.8/site-packages/sklearn/model_selection/_search.py:918: UserWarning: One or more of the test scores are non-finite: [       nan        nan        nan ... 0.72171693 0.72171693 0.72171693]\n",
      "  warnings.warn(\n",
      "/home/oem/.local/lib/python3.8/site-packages/sklearn/model_selection/_search.py:918: UserWarning: One or more of the test scores are non-finite: [       nan        nan        nan ... 0.72171693 0.72171693 0.72171693]\n",
      "  warnings.warn(\n"
     ]
    },
    {
     "name": "stdout",
     "output_type": "stream",
     "text": [
      "11min 10s ± 1min 25s per loop (mean ± std. dev. of 7 runs, 1 loop each)\n"
     ]
    },
    {
     "name": "stderr",
     "output_type": "stream",
     "text": [
      "/home/oem/.local/lib/python3.8/site-packages/sklearn/model_selection/_search.py:918: UserWarning: One or more of the test scores are non-finite: [       nan        nan        nan ... 0.70957225 0.70957225 0.70957225]\n",
      "  warnings.warn(\n",
      "/home/oem/.local/lib/python3.8/site-packages/sklearn/model_selection/_search.py:918: UserWarning: One or more of the test scores are non-finite: [       nan        nan        nan ... 0.70957225 0.70957225 0.70957225]\n",
      "  warnings.warn(\n",
      "/home/oem/.local/lib/python3.8/site-packages/sklearn/model_selection/_search.py:918: UserWarning: One or more of the test scores are non-finite: [       nan        nan        nan ... 0.70957225 0.70957225 0.70957225]\n",
      "  warnings.warn(\n",
      "/home/oem/.local/lib/python3.8/site-packages/sklearn/model_selection/_search.py:918: UserWarning: One or more of the test scores are non-finite: [       nan        nan        nan ... 0.70957225 0.70957225 0.70957225]\n",
      "  warnings.warn(\n",
      "/home/oem/.local/lib/python3.8/site-packages/sklearn/model_selection/_search.py:918: UserWarning: One or more of the test scores are non-finite: [       nan        nan        nan ... 0.70957225 0.70957225 0.70957225]\n",
      "  warnings.warn(\n",
      "/home/oem/.local/lib/python3.8/site-packages/sklearn/model_selection/_search.py:918: UserWarning: One or more of the test scores are non-finite: [       nan        nan        nan ... 0.70957225 0.70957225 0.70957225]\n",
      "  warnings.warn(\n",
      "/home/oem/.local/lib/python3.8/site-packages/sklearn/model_selection/_search.py:918: UserWarning: One or more of the test scores are non-finite: [       nan        nan        nan ... 0.70957225 0.70957225 0.70957225]\n",
      "  warnings.warn(\n"
     ]
    },
    {
     "name": "stdout",
     "output_type": "stream",
     "text": [
      "8min 32s ± 655 ms per loop (mean ± std. dev. of 7 runs, 1 loop each)\n",
      "Current Time = 02:28:22\n"
     ]
    },
    {
     "name": "stderr",
     "output_type": "stream",
     "text": [
      "/home/oem/.local/lib/python3.8/site-packages/sklearn/model_selection/_search.py:918: UserWarning: One or more of the test scores are non-finite: [       nan        nan        nan ... 0.70957225 0.70957225 0.70957225]\n",
      "  warnings.warn(\n"
     ]
    }
   ],
   "source": [
    "from datetime import datetime\n",
    "\n",
    "now = datetime.now()\n",
    "\n",
    "current_time = now.strftime(\"%H:%M:%S\")\n",
    "print(\"Current Time =\", current_time)\n",
    "\n",
    "#Train 15 at a time!\n",
    "# stocks = [x for x in start_dates1]\n",
    "# days_ahead = [1, 3, 5]\n",
    "# cv = 5\n",
    "# for stock in stocks:\n",
    "#     for days in days_ahead:\n",
    "#         X_train, X_test, y_train, y_test, stock_df = a.data(stock, start_dates[stock], days)\n",
    "#         a.rfc_GridSearch(X_train, y_train, stock, days, cv)\n",
    "# len(stocks)\n",
    "\n",
    "# Next on training for Saturday 4/17/2021\n",
    "# stocks = [x for x in start_dates2]\n",
    "# days_ahead = [1, 3, 5]\n",
    "# cv = 5\n",
    "# for stock in stocks:\n",
    "#     for days in days_ahead:\n",
    "#         X_train, X_test, y_train, y_test, stock_df = a.data(stock, start_dates[stock], days)\n",
    "#         a.rfc_GridSearch(X_train, y_train, stock, days, cv)\n",
    "# len(stocks)\n",
    "\n",
    "# Next on training for Saturday 4/17/2021\n",
    "# stocks = [x for x in start_dates3]\n",
    "# days_ahead = [1, 3, 5]\n",
    "# cv = 5\n",
    "# for stock in stocks:\n",
    "#     for days in days_ahead:\n",
    "#         X_train, X_test, y_train, y_test, stock_df = a.data(stock, start_dates[stock], days)\n",
    "#         a.rfc_GridSearch(X_train, y_train, stock, days, cv)\n",
    "# len(stocks)\n",
    "\n",
    "# # Train all, takes 15+ hours\n",
    "# stocks = [x for x in start_dates]\n",
    "# days_ahead = [1, 3, 5]\n",
    "# cv = 5\n",
    "# for stock in stocks:\n",
    "#     for days in days_ahead:\n",
    "#         X_train, X_test, y_train, y_test, stock_df = a.data(stock, start_dates[stock], days)\n",
    "#         a.rfc_GridSearch(X_train, y_train, stock, days, cv)\n",
    "# len(stocks)\n",
    "\n",
    "# Train desired stocks...takes less time (3 will take 7.5 hours, each stock is 2.5 hours to train)\n",
    "import timeit \n",
    "stocks = ['cost'] # as of 2021-11-04, started 22:20 PST\n",
    "days_ahead = [1, 3, 5] \n",
    "cv = 3 # was 5 \n",
    "for stock in stocks:\n",
    "    for days in days_ahead:\n",
    "        X_train, X_test, y_train, y_test, stock_df = a.data(stock, start_dates[stock], days)\n",
    "        %timeit a.rfc_GridSearch(X_train, y_train, stock, days, cv)\n",
    "\n",
    "now = datetime.now()\n",
    "\n",
    "current_time = now.strftime(\"%H:%M:%S\")\n",
    "print(\"Current Time =\", current_time)"
   ]
  },
  {
   "cell_type": "code",
   "execution_count": null,
   "metadata": {},
   "outputs": [],
   "source": []
  },
  {
   "cell_type": "code",
   "execution_count": null,
   "metadata": {},
   "outputs": [],
   "source": []
  },
  {
   "cell_type": "code",
   "execution_count": null,
   "metadata": {},
   "outputs": [],
   "source": []
  },
  {
   "cell_type": "markdown",
   "metadata": {},
   "source": [
    "### Display All Results"
   ]
  },
  {
   "cell_type": "code",
   "execution_count": 35,
   "metadata": {},
   "outputs": [
    {
     "name": "stdout",
     "output_type": "stream",
     "text": [
      "Today's date: 2021-11-03\n"
     ]
    }
   ],
   "source": [
    "print(\"Today's date:\", today)"
   ]
  },
  {
   "cell_type": "code",
   "execution_count": 36,
   "metadata": {
    "scrolled": false
   },
   "outputs": [
    {
     "name": "stdout",
     "output_type": "stream",
     "text": [
      "Buy orcl 1 day(s) ahead\n",
      "Model Returns (x 100 for %): 2.4342\n",
      "Stock Returns (x 100 for %): 496.3711\n"
     ]
    },
    {
     "data": {
      "image/png": "[encoded data removed]",
      "text/plain": [
       "<Figure size 684x612 with 1 Axes>"
      ]
     },
     "metadata": {},
     "output_type": "display_data"
    },
    {
     "data": {
      "image/png": "[encoded data removed]",
      "text/plain": [
       "<Figure size 648x504 with 1 Axes>"
      ]
     },
     "metadata": {},
     "output_type": "display_data"
    },
    {
     "data": {
      "image/png": "[encoded data removed]",
      "text/plain": [
       "<Figure size 648x504 with 1 Axes>"
      ]
     },
     "metadata": {},
     "output_type": "display_data"
    },
    {
     "data": {
      "image/png": "[encoded data removed]",
      "text/plain": [
       "<Figure size 684x612 with 2 Axes>"
      ]
     },
     "metadata": {},
     "output_type": "display_data"
    }
   ],
   "source": [
    "stock_name = 'orcl'\n",
    "a.all_func(stock_name\n",
    "           , start_dates[stock_name]\n",
    "           , days_ahead = 1\n",
    "           , model_name = model_name\n",
    "           , days_back = 1\n",
    "          )"
   ]
  },
  {
   "cell_type": "code",
   "execution_count": null,
   "metadata": {},
   "outputs": [],
   "source": []
  },
  {
   "cell_type": "code",
   "execution_count": null,
   "metadata": {},
   "outputs": [],
   "source": []
  },
  {
   "cell_type": "code",
   "execution_count": null,
   "metadata": {},
   "outputs": [],
   "source": []
  },
  {
   "cell_type": "markdown",
   "metadata": {},
   "source": [
    "### Data Frame of Predictions 1 3 5 Days"
   ]
  },
  {
   "cell_type": "code",
   "execution_count": 37,
   "metadata": {},
   "outputs": [
    {
     "name": "stdout",
     "output_type": "stream",
     "text": [
      "Today's date: 2021-11-03\n"
     ]
    }
   ],
   "source": [
    "print(\"Today's date:\", today)"
   ]
  },
  {
   "cell_type": "code",
   "execution_count": 38,
   "metadata": {
    "scrolled": false
   },
   "outputs": [
    {
     "data": {
      "text/html": [
       "<div>\n",
       "<style scoped>\n",
       "    .dataframe tbody tr th:only-of-type {\n",
       "        vertical-align: middle;\n",
       "    }\n",
       "\n",
       "    .dataframe tbody tr th {\n",
       "        vertical-align: top;\n",
       "    }\n",
       "\n",
       "    .dataframe thead th {\n",
       "        text-align: right;\n",
       "    }\n",
       "</style>\n",
       "<table border=\"1\" class=\"dataframe\">\n",
       "  <thead>\n",
       "    <tr style=\"text-align: right;\">\n",
       "      <th></th>\n",
       "      <th>stock</th>\n",
       "      <th>1_Day_Pred</th>\n",
       "      <th>1_Day_Model_Return</th>\n",
       "      <th>3_Day_Pred</th>\n",
       "      <th>3_Day_Model_Return</th>\n",
       "      <th>5_Day_Pred</th>\n",
       "      <th>5_Day_Model_Return</th>\n",
       "      <th>Actual_Returns</th>\n",
       "    </tr>\n",
       "  </thead>\n",
       "  <tbody>\n",
       "    <tr>\n",
       "      <th>0</th>\n",
       "      <td>a</td>\n",
       "      <td>Hold or Sell</td>\n",
       "      <td>1.9945</td>\n",
       "      <td>Buy</td>\n",
       "      <td>2.1842</td>\n",
       "      <td>Buy</td>\n",
       "      <td>2.4307</td>\n",
       "      <td>16.9856</td>\n",
       "    </tr>\n",
       "    <tr>\n",
       "      <th>1</th>\n",
       "      <td>aapl</td>\n",
       "      <td>Hold or Sell</td>\n",
       "      <td>3.8571</td>\n",
       "      <td>Hold or Sell</td>\n",
       "      <td>4.5782</td>\n",
       "      <td>Hold or Sell</td>\n",
       "      <td>3.9488</td>\n",
       "      <td>684.8380</td>\n",
       "    </tr>\n",
       "    <tr>\n",
       "      <th>2</th>\n",
       "      <td>adbe</td>\n",
       "      <td>Hold or Sell</td>\n",
       "      <td>3.5319</td>\n",
       "      <td>Hold or Sell</td>\n",
       "      <td>5.3934</td>\n",
       "      <td>Hold or Sell</td>\n",
       "      <td>4.5616</td>\n",
       "      <td>205.4997</td>\n",
       "    </tr>\n",
       "    <tr>\n",
       "      <th>3</th>\n",
       "      <td>alb</td>\n",
       "      <td>Hold or Sell</td>\n",
       "      <td>1.7517</td>\n",
       "      <td>Hold or Sell</td>\n",
       "      <td>2.2122</td>\n",
       "      <td>Hold or Sell</td>\n",
       "      <td>1.8086</td>\n",
       "      <td>30.5854</td>\n",
       "    </tr>\n",
       "    <tr>\n",
       "      <th>4</th>\n",
       "      <td>amat</td>\n",
       "      <td>Hold or Sell</td>\n",
       "      <td>10.2338</td>\n",
       "      <td>Hold or Sell</td>\n",
       "      <td>8.6399</td>\n",
       "      <td>Hold or Sell</td>\n",
       "      <td>9.1725</td>\n",
       "      <td>1032.5423</td>\n",
       "    </tr>\n",
       "    <tr>\n",
       "      <th>5</th>\n",
       "      <td>amd</td>\n",
       "      <td>Hold or Sell</td>\n",
       "      <td>32.4885</td>\n",
       "      <td>Hold or Sell</td>\n",
       "      <td>38.1730</td>\n",
       "      <td>Hold or Sell</td>\n",
       "      <td>45.5789</td>\n",
       "      <td>13.3047</td>\n",
       "    </tr>\n",
       "    <tr>\n",
       "      <th>6</th>\n",
       "      <td>amgn</td>\n",
       "      <td>Hold or Sell</td>\n",
       "      <td>2.0577</td>\n",
       "      <td>Hold or Sell</td>\n",
       "      <td>1.8053</td>\n",
       "      <td>Hold or Sell</td>\n",
       "      <td>1.9933</td>\n",
       "      <td>336.7932</td>\n",
       "    </tr>\n",
       "    <tr>\n",
       "      <th>7</th>\n",
       "      <td>amzn</td>\n",
       "      <td>Hold or Sell</td>\n",
       "      <td>1.3401</td>\n",
       "      <td>Hold or Sell</td>\n",
       "      <td>1.3435</td>\n",
       "      <td>Hold or Sell</td>\n",
       "      <td>1.3004</td>\n",
       "      <td>234.4087</td>\n",
       "    </tr>\n",
       "    <tr>\n",
       "      <th>8</th>\n",
       "      <td>baba</td>\n",
       "      <td>Hold or Sell</td>\n",
       "      <td>0.8477</td>\n",
       "      <td>Hold or Sell</td>\n",
       "      <td>1.0924</td>\n",
       "      <td>Hold or Sell</td>\n",
       "      <td>0.9169</td>\n",
       "      <td>1.0415</td>\n",
       "    </tr>\n",
       "    <tr>\n",
       "      <th>9</th>\n",
       "      <td>bac</td>\n",
       "      <td>Hold or Sell</td>\n",
       "      <td>2.2790</td>\n",
       "      <td>Hold or Sell</td>\n",
       "      <td>1.6157</td>\n",
       "      <td>Hold or Sell</td>\n",
       "      <td>2.4121</td>\n",
       "      <td>68.4081</td>\n",
       "    </tr>\n",
       "    <tr>\n",
       "      <th>10</th>\n",
       "      <td>crm</td>\n",
       "      <td>Buy</td>\n",
       "      <td>1.3868</td>\n",
       "      <td>Buy</td>\n",
       "      <td>1.3360</td>\n",
       "      <td>Buy</td>\n",
       "      <td>1.6104</td>\n",
       "      <td>25.9236</td>\n",
       "    </tr>\n",
       "    <tr>\n",
       "      <th>11</th>\n",
       "      <td>cost</td>\n",
       "      <td>Hold or Sell</td>\n",
       "      <td>1.7337</td>\n",
       "      <td>Buy</td>\n",
       "      <td>1.8368</td>\n",
       "      <td>Hold or Sell</td>\n",
       "      <td>1.7286</td>\n",
       "      <td>46.2007</td>\n",
       "    </tr>\n",
       "    <tr>\n",
       "      <th>12</th>\n",
       "      <td>dq</td>\n",
       "      <td>Hold or Sell</td>\n",
       "      <td>2.4022</td>\n",
       "      <td>Hold or Sell</td>\n",
       "      <td>5.3105</td>\n",
       "      <td>Hold or Sell</td>\n",
       "      <td>2.4300</td>\n",
       "      <td>83.8049</td>\n",
       "    </tr>\n",
       "    <tr>\n",
       "      <th>13</th>\n",
       "      <td>esgv</td>\n",
       "      <td>Hold or Sell</td>\n",
       "      <td>1.0330</td>\n",
       "      <td>Hold or Sell</td>\n",
       "      <td>1.0736</td>\n",
       "      <td>Hold or Sell</td>\n",
       "      <td>1.0437</td>\n",
       "      <td>0.7872</td>\n",
       "    </tr>\n",
       "    <tr>\n",
       "      <th>14</th>\n",
       "      <td>fslr</td>\n",
       "      <td>Hold or Sell</td>\n",
       "      <td>1.7989</td>\n",
       "      <td>Hold or Sell</td>\n",
       "      <td>2.3982</td>\n",
       "      <td>Hold or Sell</td>\n",
       "      <td>1.9665</td>\n",
       "      <td>0.0075</td>\n",
       "    </tr>\n",
       "  </tbody>\n",
       "</table>\n",
       "</div>"
      ],
      "text/plain": [
       "   stock    1_Day_Pred  1_Day_Model_Return    3_Day_Pred  3_Day_Model_Return  \\\n",
       "0      a  Hold or Sell              1.9945           Buy              2.1842   \n",
       "1   aapl  Hold or Sell              3.8571  Hold or Sell              4.5782   \n",
       "2   adbe  Hold or Sell              3.5319  Hold or Sell              5.3934   \n",
       "3    alb  Hold or Sell              1.7517  Hold or Sell              2.2122   \n",
       "4   amat  Hold or Sell             10.2338  Hold or Sell              8.6399   \n",
       "5    amd  Hold or Sell             32.4885  Hold or Sell             38.1730   \n",
       "6   amgn  Hold or Sell              2.0577  Hold or Sell              1.8053   \n",
       "7   amzn  Hold or Sell              1.3401  Hold or Sell              1.3435   \n",
       "8   baba  Hold or Sell              0.8477  Hold or Sell              1.0924   \n",
       "9    bac  Hold or Sell              2.2790  Hold or Sell              1.6157   \n",
       "10   crm           Buy              1.3868           Buy              1.3360   \n",
       "11  cost  Hold or Sell              1.7337           Buy              1.8368   \n",
       "12    dq  Hold or Sell              2.4022  Hold or Sell              5.3105   \n",
       "13  esgv  Hold or Sell              1.0330  Hold or Sell              1.0736   \n",
       "14  fslr  Hold or Sell              1.7989  Hold or Sell              2.3982   \n",
       "\n",
       "      5_Day_Pred  5_Day_Model_Return  Actual_Returns  \n",
       "0            Buy              2.4307         16.9856  \n",
       "1   Hold or Sell              3.9488        684.8380  \n",
       "2   Hold or Sell              4.5616        205.4997  \n",
       "3   Hold or Sell              1.8086         30.5854  \n",
       "4   Hold or Sell              9.1725       1032.5423  \n",
       "5   Hold or Sell             45.5789         13.3047  \n",
       "6   Hold or Sell              1.9933        336.7932  \n",
       "7   Hold or Sell              1.3004        234.4087  \n",
       "8   Hold or Sell              0.9169          1.0415  \n",
       "9   Hold or Sell              2.4121         68.4081  \n",
       "10           Buy              1.6104         25.9236  \n",
       "11  Hold or Sell              1.7286         46.2007  \n",
       "12  Hold or Sell              2.4300         83.8049  \n",
       "13  Hold or Sell              1.0437          0.7872  \n",
       "14  Hold or Sell              1.9665          0.0075  "
      ]
     },
     "execution_count": 38,
     "metadata": {},
     "output_type": "execute_result"
    }
   ],
   "source": [
    "summary_df = a.pred_summary_df(start_dates1, stocks = [x for x in start_dates1], days_back = 1)\n",
    "summary_df"
   ]
  },
  {
   "cell_type": "code",
   "execution_count": 39,
   "metadata": {},
   "outputs": [
    {
     "data": {
      "text/plain": [
       "(1.9945, 2.1842, 1.9933, 46.2007)"
      ]
     },
     "execution_count": 39,
     "metadata": {},
     "output_type": "execute_result"
    }
   ],
   "source": [
    "summary_df['1_Day_Model_Return'].median(), summary_df['3_Day_Model_Return'].median(), summary_df['5_Day_Model_Return'].median(), summary_df['Actual_Returns'].median()"
   ]
  },
  {
   "cell_type": "code",
   "execution_count": null,
   "metadata": {},
   "outputs": [],
   "source": []
  },
  {
   "cell_type": "code",
   "execution_count": 40,
   "metadata": {
    "scrolled": false
   },
   "outputs": [
    {
     "data": {
      "text/html": [
       "<div>\n",
       "<style scoped>\n",
       "    .dataframe tbody tr th:only-of-type {\n",
       "        vertical-align: middle;\n",
       "    }\n",
       "\n",
       "    .dataframe tbody tr th {\n",
       "        vertical-align: top;\n",
       "    }\n",
       "\n",
       "    .dataframe thead th {\n",
       "        text-align: right;\n",
       "    }\n",
       "</style>\n",
       "<table border=\"1\" class=\"dataframe\">\n",
       "  <thead>\n",
       "    <tr style=\"text-align: right;\">\n",
       "      <th></th>\n",
       "      <th>stock</th>\n",
       "      <th>1_Day_Pred</th>\n",
       "      <th>1_Day_Model_Return</th>\n",
       "      <th>3_Day_Pred</th>\n",
       "      <th>3_Day_Model_Return</th>\n",
       "      <th>5_Day_Pred</th>\n",
       "      <th>5_Day_Model_Return</th>\n",
       "      <th>Actual_Returns</th>\n",
       "    </tr>\n",
       "  </thead>\n",
       "  <tbody>\n",
       "    <tr>\n",
       "      <th>0</th>\n",
       "      <td>goog</td>\n",
       "      <td>Hold or Sell</td>\n",
       "      <td>3.1904</td>\n",
       "      <td>Hold or Sell</td>\n",
       "      <td>3.2977</td>\n",
       "      <td>Hold or Sell</td>\n",
       "      <td>3.5208</td>\n",
       "      <td>11.4653</td>\n",
       "    </tr>\n",
       "    <tr>\n",
       "      <th>1</th>\n",
       "      <td>ibm</td>\n",
       "      <td>Hold or Sell</td>\n",
       "      <td>1.3269</td>\n",
       "      <td>Hold or Sell</td>\n",
       "      <td>1.6261</td>\n",
       "      <td>Hold or Sell</td>\n",
       "      <td>1.2619</td>\n",
       "      <td>29.6565</td>\n",
       "    </tr>\n",
       "    <tr>\n",
       "      <th>2</th>\n",
       "      <td>intc</td>\n",
       "      <td>Hold or Sell</td>\n",
       "      <td>4.1185</td>\n",
       "      <td>Hold or Sell</td>\n",
       "      <td>4.4169</td>\n",
       "      <td>Hold or Sell</td>\n",
       "      <td>3.6816</td>\n",
       "      <td>184.8396</td>\n",
       "    </tr>\n",
       "    <tr>\n",
       "      <th>3</th>\n",
       "      <td>iyw</td>\n",
       "      <td>Hold or Sell</td>\n",
       "      <td>2.4257</td>\n",
       "      <td>Hold or Sell</td>\n",
       "      <td>2.5977</td>\n",
       "      <td>Hold or Sell</td>\n",
       "      <td>1.9640</td>\n",
       "      <td>10.2251</td>\n",
       "    </tr>\n",
       "    <tr>\n",
       "      <th>4</th>\n",
       "      <td>ll</td>\n",
       "      <td>Hold or Sell</td>\n",
       "      <td>0.4463</td>\n",
       "      <td>Hold or Sell</td>\n",
       "      <td>0.9307</td>\n",
       "      <td>Hold or Sell</td>\n",
       "      <td>0.9591</td>\n",
       "      <td>-0.2695</td>\n",
       "    </tr>\n",
       "    <tr>\n",
       "      <th>5</th>\n",
       "      <td>lng</td>\n",
       "      <td>Hold or Sell</td>\n",
       "      <td>1.8736</td>\n",
       "      <td>Hold or Sell</td>\n",
       "      <td>1.8875</td>\n",
       "      <td>Hold or Sell</td>\n",
       "      <td>1.4750</td>\n",
       "      <td>27.1840</td>\n",
       "    </tr>\n",
       "    <tr>\n",
       "      <th>6</th>\n",
       "      <td>ma</td>\n",
       "      <td>Hold or Sell</td>\n",
       "      <td>1.2364</td>\n",
       "      <td>Hold or Sell</td>\n",
       "      <td>1.2967</td>\n",
       "      <td>Hold or Sell</td>\n",
       "      <td>1.2572</td>\n",
       "      <td>21.8711</td>\n",
       "    </tr>\n",
       "    <tr>\n",
       "      <th>7</th>\n",
       "      <td>mdb</td>\n",
       "      <td>Hold or Sell</td>\n",
       "      <td>1.1751</td>\n",
       "      <td>Hold or Sell</td>\n",
       "      <td>1.1346</td>\n",
       "      <td>Hold or Sell</td>\n",
       "      <td>1.2069</td>\n",
       "      <td>9.1165</td>\n",
       "    </tr>\n",
       "    <tr>\n",
       "      <th>8</th>\n",
       "      <td>msft</td>\n",
       "      <td>Buy</td>\n",
       "      <td>7.7536</td>\n",
       "      <td>Buy</td>\n",
       "      <td>9.0941</td>\n",
       "      <td>Buy</td>\n",
       "      <td>8.5630</td>\n",
       "      <td>332.5260</td>\n",
       "    </tr>\n",
       "    <tr>\n",
       "      <th>9</th>\n",
       "      <td>mu</td>\n",
       "      <td>Hold or Sell</td>\n",
       "      <td>3.3511</td>\n",
       "      <td>Hold or Sell</td>\n",
       "      <td>5.2201</td>\n",
       "      <td>Hold or Sell</td>\n",
       "      <td>2.8308</td>\n",
       "      <td>79.8405</td>\n",
       "    </tr>\n",
       "    <tr>\n",
       "      <th>10</th>\n",
       "      <td>nee</td>\n",
       "      <td>Buy</td>\n",
       "      <td>2.1227</td>\n",
       "      <td>Buy</td>\n",
       "      <td>2.0962</td>\n",
       "      <td>Buy</td>\n",
       "      <td>2.3522</td>\n",
       "      <td>286.4222</td>\n",
       "    </tr>\n",
       "    <tr>\n",
       "      <th>11</th>\n",
       "      <td>nio</td>\n",
       "      <td>Hold or Sell</td>\n",
       "      <td>1.0356</td>\n",
       "      <td>Buy</td>\n",
       "      <td>1.2653</td>\n",
       "      <td>Buy</td>\n",
       "      <td>1.2259</td>\n",
       "      <td>6.9655</td>\n",
       "    </tr>\n",
       "    <tr>\n",
       "      <th>12</th>\n",
       "      <td>nvda</td>\n",
       "      <td>Buy</td>\n",
       "      <td>4.4614</td>\n",
       "      <td>Buy</td>\n",
       "      <td>4.4688</td>\n",
       "      <td>Buy</td>\n",
       "      <td>3.8694</td>\n",
       "      <td>203.1203</td>\n",
       "    </tr>\n",
       "    <tr>\n",
       "      <th>13</th>\n",
       "      <td>pacb</td>\n",
       "      <td>Hold or Sell</td>\n",
       "      <td>3.2935</td>\n",
       "      <td>Hold or Sell</td>\n",
       "      <td>2.9118</td>\n",
       "      <td>Hold or Sell</td>\n",
       "      <td>2.6261</td>\n",
       "      <td>13.7500</td>\n",
       "    </tr>\n",
       "    <tr>\n",
       "      <th>14</th>\n",
       "      <td>pypl</td>\n",
       "      <td>Hold or Sell</td>\n",
       "      <td>1.0239</td>\n",
       "      <td>Hold or Sell</td>\n",
       "      <td>0.8785</td>\n",
       "      <td>Hold or Sell</td>\n",
       "      <td>1.0107</td>\n",
       "      <td>4.8651</td>\n",
       "    </tr>\n",
       "  </tbody>\n",
       "</table>\n",
       "</div>"
      ],
      "text/plain": [
       "   stock    1_Day_Pred  1_Day_Model_Return    3_Day_Pred  3_Day_Model_Return  \\\n",
       "0   goog  Hold or Sell              3.1904  Hold or Sell              3.2977   \n",
       "1    ibm  Hold or Sell              1.3269  Hold or Sell              1.6261   \n",
       "2   intc  Hold or Sell              4.1185  Hold or Sell              4.4169   \n",
       "3    iyw  Hold or Sell              2.4257  Hold or Sell              2.5977   \n",
       "4     ll  Hold or Sell              0.4463  Hold or Sell              0.9307   \n",
       "5    lng  Hold or Sell              1.8736  Hold or Sell              1.8875   \n",
       "6     ma  Hold or Sell              1.2364  Hold or Sell              1.2967   \n",
       "7    mdb  Hold or Sell              1.1751  Hold or Sell              1.1346   \n",
       "8   msft           Buy              7.7536           Buy              9.0941   \n",
       "9     mu  Hold or Sell              3.3511  Hold or Sell              5.2201   \n",
       "10   nee           Buy              2.1227           Buy              2.0962   \n",
       "11   nio  Hold or Sell              1.0356           Buy              1.2653   \n",
       "12  nvda           Buy              4.4614           Buy              4.4688   \n",
       "13  pacb  Hold or Sell              3.2935  Hold or Sell              2.9118   \n",
       "14  pypl  Hold or Sell              1.0239  Hold or Sell              0.8785   \n",
       "\n",
       "      5_Day_Pred  5_Day_Model_Return  Actual_Returns  \n",
       "0   Hold or Sell              3.5208         11.4653  \n",
       "1   Hold or Sell              1.2619         29.6565  \n",
       "2   Hold or Sell              3.6816        184.8396  \n",
       "3   Hold or Sell              1.9640         10.2251  \n",
       "4   Hold or Sell              0.9591         -0.2695  \n",
       "5   Hold or Sell              1.4750         27.1840  \n",
       "6   Hold or Sell              1.2572         21.8711  \n",
       "7   Hold or Sell              1.2069          9.1165  \n",
       "8            Buy              8.5630        332.5260  \n",
       "9   Hold or Sell              2.8308         79.8405  \n",
       "10           Buy              2.3522        286.4222  \n",
       "11           Buy              1.2259          6.9655  \n",
       "12           Buy              3.8694        203.1203  \n",
       "13  Hold or Sell              2.6261         13.7500  \n",
       "14  Hold or Sell              1.0107          4.8651  "
      ]
     },
     "execution_count": 40,
     "metadata": {},
     "output_type": "execute_result"
    }
   ],
   "source": [
    "summary_df = a.pred_summary_df(start_dates2, stocks = [x for x in start_dates2], days_back = 1)\n",
    "summary_df"
   ]
  },
  {
   "cell_type": "code",
   "execution_count": 41,
   "metadata": {},
   "outputs": [
    {
     "data": {
      "text/plain": [
       "(2.1227, 2.0962, 1.964, 21.8711)"
      ]
     },
     "execution_count": 41,
     "metadata": {},
     "output_type": "execute_result"
    }
   ],
   "source": [
    "summary_df['1_Day_Model_Return'].median(), summary_df['3_Day_Model_Return'].median(), summary_df['5_Day_Model_Return'].median(), summary_df['Actual_Returns'].median()"
   ]
  },
  {
   "cell_type": "code",
   "execution_count": null,
   "metadata": {},
   "outputs": [],
   "source": []
  },
  {
   "cell_type": "code",
   "execution_count": 42,
   "metadata": {
    "scrolled": false
   },
   "outputs": [
    {
     "data": {
      "text/html": [
       "<div>\n",
       "<style scoped>\n",
       "    .dataframe tbody tr th:only-of-type {\n",
       "        vertical-align: middle;\n",
       "    }\n",
       "\n",
       "    .dataframe tbody tr th {\n",
       "        vertical-align: top;\n",
       "    }\n",
       "\n",
       "    .dataframe thead th {\n",
       "        text-align: right;\n",
       "    }\n",
       "</style>\n",
       "<table border=\"1\" class=\"dataframe\">\n",
       "  <thead>\n",
       "    <tr style=\"text-align: right;\">\n",
       "      <th></th>\n",
       "      <th>stock</th>\n",
       "      <th>1_Day_Pred</th>\n",
       "      <th>1_Day_Model_Return</th>\n",
       "      <th>3_Day_Pred</th>\n",
       "      <th>3_Day_Model_Return</th>\n",
       "      <th>5_Day_Pred</th>\n",
       "      <th>5_Day_Model_Return</th>\n",
       "      <th>Actual_Returns</th>\n",
       "    </tr>\n",
       "  </thead>\n",
       "  <tbody>\n",
       "    <tr>\n",
       "      <th>0</th>\n",
       "      <td>qgen</td>\n",
       "      <td>Buy</td>\n",
       "      <td>1.3733</td>\n",
       "      <td>Buy</td>\n",
       "      <td>1.5905</td>\n",
       "      <td>Buy</td>\n",
       "      <td>1.6177</td>\n",
       "      <td>0.5816</td>\n",
       "    </tr>\n",
       "    <tr>\n",
       "      <th>1</th>\n",
       "      <td>run</td>\n",
       "      <td>Hold or Sell</td>\n",
       "      <td>1.0312</td>\n",
       "      <td>Hold or Sell</td>\n",
       "      <td>1.0800</td>\n",
       "      <td>Hold or Sell</td>\n",
       "      <td>1.0412</td>\n",
       "      <td>9.6018</td>\n",
       "    </tr>\n",
       "    <tr>\n",
       "      <th>2</th>\n",
       "      <td>okta</td>\n",
       "      <td>Buy</td>\n",
       "      <td>1.0930</td>\n",
       "      <td>Hold or Sell</td>\n",
       "      <td>1.1311</td>\n",
       "      <td>Hold or Sell</td>\n",
       "      <td>1.0612</td>\n",
       "      <td>8.5907</td>\n",
       "    </tr>\n",
       "    <tr>\n",
       "      <th>3</th>\n",
       "      <td>orcl</td>\n",
       "      <td>Buy</td>\n",
       "      <td>2.3497</td>\n",
       "      <td>Buy</td>\n",
       "      <td>2.2393</td>\n",
       "      <td>Buy</td>\n",
       "      <td>2.7174</td>\n",
       "      <td>496.3711</td>\n",
       "    </tr>\n",
       "    <tr>\n",
       "      <th>4</th>\n",
       "      <td>qcom</td>\n",
       "      <td>Hold or Sell</td>\n",
       "      <td>2.8006</td>\n",
       "      <td>Hold or Sell</td>\n",
       "      <td>2.2848</td>\n",
       "      <td>Hold or Sell</td>\n",
       "      <td>3.3747</td>\n",
       "      <td>61.7114</td>\n",
       "    </tr>\n",
       "    <tr>\n",
       "      <th>5</th>\n",
       "      <td>qqq</td>\n",
       "      <td>Hold or Sell</td>\n",
       "      <td>2.2177</td>\n",
       "      <td>Hold or Sell</td>\n",
       "      <td>2.1848</td>\n",
       "      <td>Hold or Sell</td>\n",
       "      <td>2.2982</td>\n",
       "      <td>18.2993</td>\n",
       "    </tr>\n",
       "    <tr>\n",
       "      <th>6</th>\n",
       "      <td>srpt</td>\n",
       "      <td>Hold or Sell</td>\n",
       "      <td>0.3971</td>\n",
       "      <td>Hold or Sell</td>\n",
       "      <td>1.4695</td>\n",
       "      <td>Hold or Sell</td>\n",
       "      <td>1.8833</td>\n",
       "      <td>1.4162</td>\n",
       "    </tr>\n",
       "    <tr>\n",
       "      <th>7</th>\n",
       "      <td>tsla</td>\n",
       "      <td>Hold or Sell</td>\n",
       "      <td>4.2583</td>\n",
       "      <td>Hold or Sell</td>\n",
       "      <td>2.3155</td>\n",
       "      <td>Hold or Sell</td>\n",
       "      <td>3.1447</td>\n",
       "      <td>175.0238</td>\n",
       "    </tr>\n",
       "    <tr>\n",
       "      <th>8</th>\n",
       "      <td>tsm</td>\n",
       "      <td>Hold or Sell</td>\n",
       "      <td>4.0874</td>\n",
       "      <td>Hold or Sell</td>\n",
       "      <td>4.3062</td>\n",
       "      <td>Hold or Sell</td>\n",
       "      <td>4.2232</td>\n",
       "      <td>20.0697</td>\n",
       "    </tr>\n",
       "    <tr>\n",
       "      <th>9</th>\n",
       "      <td>v</td>\n",
       "      <td>Buy</td>\n",
       "      <td>1.3518</td>\n",
       "      <td>Buy</td>\n",
       "      <td>1.4378</td>\n",
       "      <td>Buy</td>\n",
       "      <td>1.6881</td>\n",
       "      <td>9.0074</td>\n",
       "    </tr>\n",
       "    <tr>\n",
       "      <th>10</th>\n",
       "      <td>vbiv</td>\n",
       "      <td>Hold or Sell</td>\n",
       "      <td>1.6909</td>\n",
       "      <td>Hold or Sell</td>\n",
       "      <td>3.4016</td>\n",
       "      <td>Hold or Sell</td>\n",
       "      <td>3.7898</td>\n",
       "      <td>-0.9167</td>\n",
       "    </tr>\n",
       "    <tr>\n",
       "      <th>11</th>\n",
       "      <td>vbr</td>\n",
       "      <td>Hold or Sell</td>\n",
       "      <td>1.5640</td>\n",
       "      <td>Hold or Sell</td>\n",
       "      <td>1.5160</td>\n",
       "      <td>Hold or Sell</td>\n",
       "      <td>1.7390</td>\n",
       "      <td>2.6619</td>\n",
       "    </tr>\n",
       "    <tr>\n",
       "      <th>12</th>\n",
       "      <td>viov</td>\n",
       "      <td>Hold or Sell</td>\n",
       "      <td>2.0479</td>\n",
       "      <td>Hold or Sell</td>\n",
       "      <td>1.9093</td>\n",
       "      <td>Hold or Sell</td>\n",
       "      <td>2.2627</td>\n",
       "      <td>2.5113</td>\n",
       "    </tr>\n",
       "    <tr>\n",
       "      <th>13</th>\n",
       "      <td>vgt</td>\n",
       "      <td>Hold or Sell</td>\n",
       "      <td>1.9413</td>\n",
       "      <td>Hold or Sell</td>\n",
       "      <td>1.8714</td>\n",
       "      <td>Hold or Sell</td>\n",
       "      <td>2.1415</td>\n",
       "      <td>8.8737</td>\n",
       "    </tr>\n",
       "    <tr>\n",
       "      <th>14</th>\n",
       "      <td>xlk</td>\n",
       "      <td>Hold or Sell</td>\n",
       "      <td>2.4139</td>\n",
       "      <td>Hold or Sell</td>\n",
       "      <td>2.5157</td>\n",
       "      <td>Hold or Sell</td>\n",
       "      <td>2.4075</td>\n",
       "      <td>12.4297</td>\n",
       "    </tr>\n",
       "  </tbody>\n",
       "</table>\n",
       "</div>"
      ],
      "text/plain": [
       "   stock    1_Day_Pred  1_Day_Model_Return    3_Day_Pred  3_Day_Model_Return  \\\n",
       "0   qgen           Buy              1.3733           Buy              1.5905   \n",
       "1    run  Hold or Sell              1.0312  Hold or Sell              1.0800   \n",
       "2   okta           Buy              1.0930  Hold or Sell              1.1311   \n",
       "3   orcl           Buy              2.3497           Buy              2.2393   \n",
       "4   qcom  Hold or Sell              2.8006  Hold or Sell              2.2848   \n",
       "5    qqq  Hold or Sell              2.2177  Hold or Sell              2.1848   \n",
       "6   srpt  Hold or Sell              0.3971  Hold or Sell              1.4695   \n",
       "7   tsla  Hold or Sell              4.2583  Hold or Sell              2.3155   \n",
       "8    tsm  Hold or Sell              4.0874  Hold or Sell              4.3062   \n",
       "9      v           Buy              1.3518           Buy              1.4378   \n",
       "10  vbiv  Hold or Sell              1.6909  Hold or Sell              3.4016   \n",
       "11   vbr  Hold or Sell              1.5640  Hold or Sell              1.5160   \n",
       "12  viov  Hold or Sell              2.0479  Hold or Sell              1.9093   \n",
       "13   vgt  Hold or Sell              1.9413  Hold or Sell              1.8714   \n",
       "14   xlk  Hold or Sell              2.4139  Hold or Sell              2.5157   \n",
       "\n",
       "      5_Day_Pred  5_Day_Model_Return  Actual_Returns  \n",
       "0            Buy              1.6177          0.5816  \n",
       "1   Hold or Sell              1.0412          9.6018  \n",
       "2   Hold or Sell              1.0612          8.5907  \n",
       "3            Buy              2.7174        496.3711  \n",
       "4   Hold or Sell              3.3747         61.7114  \n",
       "5   Hold or Sell              2.2982         18.2993  \n",
       "6   Hold or Sell              1.8833          1.4162  \n",
       "7   Hold or Sell              3.1447        175.0238  \n",
       "8   Hold or Sell              4.2232         20.0697  \n",
       "9            Buy              1.6881          9.0074  \n",
       "10  Hold or Sell              3.7898         -0.9167  \n",
       "11  Hold or Sell              1.7390          2.6619  \n",
       "12  Hold or Sell              2.2627          2.5113  \n",
       "13  Hold or Sell              2.1415          8.8737  \n",
       "14  Hold or Sell              2.4075         12.4297  "
      ]
     },
     "execution_count": 42,
     "metadata": {},
     "output_type": "execute_result"
    }
   ],
   "source": [
    "summary_df = a.pred_summary_df(start_dates3, stocks = [x for x in start_dates3], days_back = 1)\n",
    "summary_df"
   ]
  },
  {
   "cell_type": "code",
   "execution_count": null,
   "metadata": {},
   "outputs": [],
   "source": []
  },
  {
   "cell_type": "code",
   "execution_count": 43,
   "metadata": {},
   "outputs": [
    {
     "data": {
      "text/plain": [
       "(1.9413, 1.9093, 2.2627, 9.0074)"
      ]
     },
     "execution_count": 43,
     "metadata": {},
     "output_type": "execute_result"
    }
   ],
   "source": [
    "summary_df['1_Day_Model_Return'].median(), summary_df['3_Day_Model_Return'].median(), summary_df['5_Day_Model_Return'].median(), summary_df['Actual_Returns'].median()"
   ]
  },
  {
   "cell_type": "code",
   "execution_count": null,
   "metadata": {},
   "outputs": [],
   "source": []
  },
  {
   "cell_type": "code",
   "execution_count": null,
   "metadata": {},
   "outputs": [],
   "source": []
  },
  {
   "cell_type": "code",
   "execution_count": null,
   "metadata": {},
   "outputs": [],
   "source": [
    "    "
   ]
  },
  {
   "cell_type": "code",
   "execution_count": null,
   "metadata": {},
   "outputs": [],
   "source": []
  }
 ],
 "metadata": {
  "kernelspec": {
   "display_name": "Python 3",
   "language": "python",
   "name": "python3"
  },
  "language_info": {
   "codemirror_mode": {
    "name": "ipython",
    "version": 3
   },
   "file_extension": ".py",
   "mimetype": "text/x-python",
   "name": "python",
   "nbconvert_exporter": "python",
   "pygments_lexer": "ipython3",
   "version": "3.8.10"
  }
 },
 "nbformat": 4,
 "nbformat_minor": 4
}
