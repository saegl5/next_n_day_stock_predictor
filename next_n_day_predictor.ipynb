{
 "cells": [
  {
   "cell_type": "code",
   "execution_count": 1,
   "metadata": {
    "scrolled": true
   },
   "outputs": [],
   "source": [
    "from src import attributes as a\n",
    "%load_ext autoreload\n",
    "%autoreload 2"
   ]
  },
  {
   "cell_type": "code",
   "execution_count": 2,
   "metadata": {},
   "outputs": [],
   "source": [
    "# Global Variables\n",
    "stock_name = 'msft' # ticker symbol\n",
    "train = 0 # 1 for train, 0 for pass\n",
    "days_ahead = 1 # for predicting 1, 3, or 5 days ahead\n",
    "days_back = -1 # -1 for current data point, -2 for two days ago, etc...\n",
    "cv = 5 # number of cross validation folds\n",
    "model_name = 'Random Forest Classifier' # for display on charts, not a tuning parameter"
   ]
  },
  {
   "cell_type": "code",
   "execution_count": 3,
   "metadata": {},
   "outputs": [],
   "source": [
    "# Extract, Transform, Load, and Train Test Split\n",
    "# Dictionary of IPO Dates\n",
    "start_dates = {'a': '11/15/1999' # Updated 2/14/21 1D, 3D, 5D ahead\n",
    "               , 'aapl':'12/12/1980' # Updated 2/14/21 1D, 3D, 5D ahead\n",
    "               , 'acy': '01/18/1998' # Updated 2/14/21 1D, 3D, 5D ahead\n",
    "               , 'adbe': '08/11/1986' # Updated 2/14/21 1D, 3D, 5D ahead\n",
    "               , 'alb': '02/21/1994' # Updated 2/14/21 1D, 3D, 5D ahead\n",
    "               , 'amat': '03/16/1980' # Updated 2/14/21 1D, 3D, 5D ahead\n",
    "               , 'amd': '03/17/1980' # Updated 2/14/21 1D, 3D, 5D ahead\n",
    "               , 'amgn': '06/13/1983' # Updated 2/14/21 1D, 3D, 5D ahead\n",
    "               , 'amzn': '05/12/1997' # Updated 2/14/21 1D, 3D, 5D ahead\n",
    "               , 'baba': '09/15/2014' # Updated 2/14/21 1D, 3D, 5D ahead\n",
    "               , 'bac': '02/19/1973' # Updated 2/14/21 1D, 3D, 5D ahead\n",
    "               , 'bpmc': '04/27/2015' # Updated 2/14/21 1D, 3D, 5D ahead\n",
    "               , 'crm': '06/23/2004' # Updated 2/14/21 1D, 3D, 5D ahead\n",
    "               , 'crsp': '10/16/2016' # Updated 2/14/21 1D, 3D, 5D ahead\n",
    "               , 'dq': '10/04/2010' # Updated 2/14/21 1D, 3D, 5D ahead\n",
    "               , 'esgv': '09/16/2018' # Updated 2/15/21 1D, 3D, 5D ahead\n",
    "               , 'fslr': '11/12/2006' # Updated 2/15/21 1D, 3D, 5D ahead\n",
    "               , 'goog': '08/16/2004' # Updated 2/15/21 1D, 3D, 5D ahead\n",
    "               , 'ibm': '01/02/1962' # Updated 2/15/21 1D, 3D, 5D ahead\n",
    "               , 'intc': '03/16/1980' # Updated 2/15/21 1D, 3D, 5D ahead\n",
    "               , 'iyw': '05/15/2000' # Updated 2/15/21 1D, 3D, 5D ahead\n",
    "               , 'lng': '04/04/1994' # Updated 2/15/21 1D, 3D, 5D ahead\n",
    "               , 'ma': '05/21/2006' # Updated 2/15/21 1D, 3D, 5D ahead\n",
    "               , 'mdb': '10/15/2017' # Updated 2/15/21 1D, 3D, 5D ahead\n",
    "               , 'msft': '03/10/1986' # Updated 2/15/21 1D, 3D, 5D ahead\n",
    "               , 'mu': '05/28/1984' # Updated 2/15/21 1D, 3D, 5D ahead\n",
    "               , 'nee': '02/19/1973' # Updated 2/15/21 1D, 3D, 5D ahead\n",
    "               , 'nio': '09/10/2018' # Updated 2/15/21 1D, 3D, 5D ahead\n",
    "               , 'nvda': '01/22/1999' # Updated 2/15/21 1D, 3D, 5D ahead\n",
    "               , 'pacb': '10/25/2010' # Updated 2/15/21 1D, 3D, 5D ahead\n",
    "               , 'pypl': '07/05/2015' # Updated 2/7/21 1D, 3D, 5D ahead\n",
    "               , 'qgen': '06/24/1996' # Updated 2/7/21 1D, 3D, 5D ahead\n",
    "               , 'run': '08/02/2015' # Updated 2/7/21 1D, 3D, 5D ahead\n",
    "               , 'okta': '04/03/2017' # Updated 2/7/21 1D, 3D, 5D ahead\n",
    "               , 'orcl': '03/10/1986' # Updated 2/7/21 1D, 3D, 5D ahead\n",
    "               , 'qqq': '03/08/1999' # Updated 2/7/21 1D, 3D, 5D ahead\n",
    "               , 'srpt': '06/02/1997' # Updated 2/7/21 1D, 3D, 5D ahead\n",
    "               , 'tpic': '07/17/2016' # Updated 2/7/21 1D, 3D, 5D ahead\n",
    "               , 'tsla': '06/29/2010' # Updated 2/7/21 1D, 3D, 5D ahead\n",
    "               , 'v': '03/16/2008' # Updated 2/7/21 1D, 3D, 5D ahead\n",
    "               , 'vbiv': '09/04/2002' # Updated 2/7/21 1D, 3D, 5D ahead\n",
    "               , 'vbr': '01/26/2004' # Updated 2/7/21 1D, 3D, 5D ahead\n",
    "               , 'viov': '09/06/2010' # Updated 2/7/21 1D, 3D, 5D ahead\n",
    "               , 'vgt': '01/26/2004' # Updated 2/7/21 1D, 3D, 5D ahead\n",
    "               , 'xlk': '12/21/1998' # Updated 2/7/21 1D, 3D, 5D ahead\n",
    "              }"
   ]
  },
  {
   "cell_type": "code",
   "execution_count": null,
   "metadata": {},
   "outputs": [],
   "source": []
  },
  {
   "cell_type": "code",
   "execution_count": null,
   "metadata": {},
   "outputs": [],
   "source": []
  },
  {
   "cell_type": "code",
   "execution_count": null,
   "metadata": {},
   "outputs": [],
   "source": []
  },
  {
   "cell_type": "code",
   "execution_count": 4,
   "metadata": {},
   "outputs": [],
   "source": [
    "# X_train, X_test, y_train, y_test, stock_df = a.data(stock_name, start_dates[stock_name], days_ahead)\n",
    "# stock_df.tail(10)"
   ]
  },
  {
   "cell_type": "code",
   "execution_count": 5,
   "metadata": {
    "scrolled": false
   },
   "outputs": [],
   "source": [
    "# GridSerach to find best hyperparameters to prevent overfitting, can be commented out once trained\n",
    "# if train == 1:\n",
    "#     a.rfc_GridSearch(X_train, y_train, stock_name, days_ahead, cv)\n",
    "# elif train == 0:\n",
    "#     pass"
   ]
  },
  {
   "cell_type": "code",
   "execution_count": 6,
   "metadata": {},
   "outputs": [],
   "source": [
    "# Load RandomForextClassifier Model\n",
    "# rfc_model, y_pred, y_probs = a.rfc(X_train, X_test, y_train, stock_name, days_ahead)"
   ]
  },
  {
   "cell_type": "code",
   "execution_count": 7,
   "metadata": {
    "scrolled": false
   },
   "outputs": [],
   "source": [
    "# ROC Curve\n",
    "# a.roc_plot(y_test, y_probs, stock_name, model_name)"
   ]
  },
  {
   "cell_type": "code",
   "execution_count": 8,
   "metadata": {
    "scrolled": false
   },
   "outputs": [],
   "source": [
    "# Precision Recall Curve\n",
    "# a.prec_recall(y_test, y_probs, stock_name, model_name)"
   ]
  },
  {
   "cell_type": "code",
   "execution_count": 9,
   "metadata": {
    "scrolled": false
   },
   "outputs": [],
   "source": [
    "# Confusion Matrix\n",
    "# a.confusion_matrix(rfc_model, X_test, y_test, stock_name)"
   ]
  },
  {
   "cell_type": "code",
   "execution_count": 10,
   "metadata": {},
   "outputs": [],
   "source": [
    "# Cross Validation\n",
    "# a.cross_validation(rfc_model\n",
    "#                    , stock_df[['oc', 'hl', '5stdev_adj', '5sma_adj']]\n",
    "#                    , stock_df['direction']\n",
    "#                    , cv = 5\n",
    "#                   )"
   ]
  },
  {
   "cell_type": "markdown",
   "metadata": {},
   "source": [
    "### Prediction..."
   ]
  },
  {
   "cell_type": "code",
   "execution_count": 11,
   "metadata": {
    "scrolled": true
   },
   "outputs": [],
   "source": [
    "# Prediction, use last day of data\n",
    "# stock_df.iloc[-1]"
   ]
  },
  {
   "cell_type": "code",
   "execution_count": 12,
   "metadata": {},
   "outputs": [],
   "source": [
    "# import numpy as np\n",
    "# last = stock_df[['oc', 'hl', '5stdev_adj', '5sma_adj']].iloc[-days_back]\n",
    "# last"
   ]
  },
  {
   "cell_type": "code",
   "execution_count": 13,
   "metadata": {},
   "outputs": [],
   "source": [
    "# stock_df['adj'].describe()"
   ]
  },
  {
   "cell_type": "code",
   "execution_count": 14,
   "metadata": {
    "scrolled": true
   },
   "outputs": [],
   "source": [
    "# if rfc_model.predict(np.array(last).reshape(1, -1))[0] == 1:\n",
    "#     print(f'Buy {stock_name} {days_ahead} day(s) ahead')\n",
    "# else:\n",
    "#     print(f'Sell or hold {stock_name} {days_ahead} day(s) ahead')"
   ]
  },
  {
   "cell_type": "markdown",
   "metadata": {},
   "source": [
    "### Strategy Returns..."
   ]
  },
  {
   "cell_type": "code",
   "execution_count": 15,
   "metadata": {},
   "outputs": [],
   "source": [
    "# returns on strategy column\n",
    "# stock_df['prediction'] = rfc_model.predict(stock_df[['oc', 'hl', '5stdev_adj', '5sma_adj']])\n",
    "# stock_df['returns'] = stock_df['adj'].shift(-1, fill_value = stock_df['adj'].median()) * stock_df['prediction']"
   ]
  },
  {
   "cell_type": "code",
   "execution_count": 16,
   "metadata": {},
   "outputs": [],
   "source": [
    "# stock_df.tail(5)"
   ]
  },
  {
   "cell_type": "code",
   "execution_count": 17,
   "metadata": {},
   "outputs": [],
   "source": [
    "# Don't trade every day!\n",
    "# import matplotlib.pyplot as plt\n",
    "# test_length = len(y_test)\n",
    "# (stock_df['returns'][-test_length:] + 1).cumprod().plot()\n",
    "# plt.title(f'{stock_name} Expected Returns %');"
   ]
  },
  {
   "cell_type": "code",
   "execution_count": 18,
   "metadata": {},
   "outputs": [],
   "source": [
    "# Model returns if bought on predictions of 1\n",
    "# returns_on_ones = []\n",
    "# for idx in range(-test_length, 0):\n",
    "#     if stock_df['prediction'][idx] == 1:\n",
    "#         returns_on_ones.append(1 + stock_df['returns'][idx])\n",
    "\n",
    "# returns = 1\n",
    "# for x in returns_on_ones:\n",
    "#     returns *= x\n",
    "# returns"
   ]
  },
  {
   "cell_type": "code",
   "execution_count": 19,
   "metadata": {},
   "outputs": [],
   "source": [
    "# multiple times original investment, not bad but..."
   ]
  },
  {
   "cell_type": "code",
   "execution_count": 20,
   "metadata": {},
   "outputs": [],
   "source": [
    "# If purchased in 2012 and left it until now\n",
    "# test_idx = int(len(stock_df)*0.75)\n",
    "# (stock_df['Close'][-1] - stock_df['Close'][-test_idx]) / stock_df['Close'][-test_idx]"
   ]
  },
  {
   "cell_type": "code",
   "execution_count": 21,
   "metadata": {},
   "outputs": [],
   "source": [
    "# Buy and hold strategy beats RandomForestClassifier in this study\n",
    "\n",
    "# Special thanks to Shagufta Tahsildar at https://blog.quantinsti.com/random-forest-algorithm-in-python/"
   ]
  },
  {
   "cell_type": "code",
   "execution_count": null,
   "metadata": {},
   "outputs": [],
   "source": []
  },
  {
   "cell_type": "code",
   "execution_count": null,
   "metadata": {},
   "outputs": [],
   "source": []
  },
  {
   "cell_type": "code",
   "execution_count": null,
   "metadata": {},
   "outputs": [],
   "source": []
  },
  {
   "cell_type": "markdown",
   "metadata": {},
   "source": [
    "### Training"
   ]
  },
  {
   "cell_type": "markdown",
   "metadata": {},
   "source": [
    "Training is done once a week on Saturday and Sunday"
   ]
  },
  {
   "cell_type": "code",
   "execution_count": 22,
   "metadata": {},
   "outputs": [
    {
     "data": {
      "text/plain": [
       "45"
      ]
     },
     "execution_count": 22,
     "metadata": {},
     "output_type": "execute_result"
    }
   ],
   "source": [
    "len(start_dates)"
   ]
  },
  {
   "cell_type": "code",
   "execution_count": 23,
   "metadata": {},
   "outputs": [
    {
     "data": {
      "text/plain": [
       "{'a': '11/15/1999',\n",
       " 'aapl': '12/12/1980',\n",
       " 'acy': '01/18/1998',\n",
       " 'adbe': '08/11/1986',\n",
       " 'alb': '02/21/1994',\n",
       " 'amat': '03/16/1980',\n",
       " 'amd': '03/17/1980',\n",
       " 'amgn': '06/13/1983',\n",
       " 'amzn': '05/12/1997',\n",
       " 'baba': '09/15/2014',\n",
       " 'bac': '02/19/1973',\n",
       " 'bpmc': '04/27/2015',\n",
       " 'crm': '06/23/2004',\n",
       " 'crsp': '10/16/2016',\n",
       " 'dq': '10/04/2010'}"
      ]
     },
     "execution_count": 23,
     "metadata": {},
     "output_type": "execute_result"
    }
   ],
   "source": [
    "import itertools as itr\n",
    "start_dates1 = dict(itr.islice(start_dates.items(), 0, 15))\n",
    "start_dates1"
   ]
  },
  {
   "cell_type": "code",
   "execution_count": 24,
   "metadata": {},
   "outputs": [
    {
     "data": {
      "text/plain": [
       "{'esgv': '09/16/2018',\n",
       " 'fslr': '11/12/2006',\n",
       " 'goog': '08/16/2004',\n",
       " 'ibm': '01/02/1962',\n",
       " 'intc': '03/16/1980',\n",
       " 'iyw': '05/15/2000',\n",
       " 'lng': '04/04/1994',\n",
       " 'ma': '05/21/2006',\n",
       " 'mdb': '10/15/2017',\n",
       " 'msft': '03/10/1986',\n",
       " 'mu': '05/28/1984',\n",
       " 'nee': '02/19/1973',\n",
       " 'nio': '09/10/2018',\n",
       " 'nvda': '01/22/1999',\n",
       " 'pacb': '10/25/2010'}"
      ]
     },
     "execution_count": 24,
     "metadata": {},
     "output_type": "execute_result"
    }
   ],
   "source": [
    "start_dates2 = dict(itr.islice(start_dates.items(), 15, 30))\n",
    "start_dates2"
   ]
  },
  {
   "cell_type": "code",
   "execution_count": 25,
   "metadata": {},
   "outputs": [
    {
     "data": {
      "text/plain": [
       "{'pypl': '07/05/2015',\n",
       " 'qgen': '06/24/1996',\n",
       " 'run': '08/02/2015',\n",
       " 'okta': '04/03/2017',\n",
       " 'orcl': '03/10/1986',\n",
       " 'qqq': '03/08/1999',\n",
       " 'srpt': '06/02/1997',\n",
       " 'tpic': '07/17/2016',\n",
       " 'tsla': '06/29/2010',\n",
       " 'v': '03/16/2008',\n",
       " 'vbiv': '09/04/2002',\n",
       " 'vbr': '01/26/2004',\n",
       " 'viov': '09/06/2010',\n",
       " 'vgt': '01/26/2004',\n",
       " 'xlk': '12/21/1998'}"
      ]
     },
     "execution_count": 25,
     "metadata": {},
     "output_type": "execute_result"
    }
   ],
   "source": [
    "start_dates3 = dict(itr.islice(start_dates.items(), 30, 45+1))\n",
    "start_dates3"
   ]
  },
  {
   "cell_type": "code",
   "execution_count": 26,
   "metadata": {},
   "outputs": [],
   "source": [
    "#Train 15 at a time!\n",
    "# stocks = [x for x in start_dates1]\n",
    "# days_ahead = [1, 3, 5]\n",
    "# cv = 5\n",
    "# for stock in stocks:\n",
    "#     for days in days_ahead:\n",
    "#         X_train, X_test, y_train, y_test, stock_df = a.data(stock, start_dates[stock], days)\n",
    "#         a.rfc_GridSearch(X_train, y_train, stock, days, cv)\n",
    "# len(stocks)\n",
    "\n",
    "# stocks = [x for x in start_dates2]\n",
    "# days_ahead = [1, 3, 5]\n",
    "# cv = 5\n",
    "# for stock in stocks:\n",
    "#     for days in days_ahead:\n",
    "#         X_train, X_test, y_train, y_test, stock_df = a.data(stock, start_dates[stock], days)\n",
    "#         a.rfc_GridSearch(X_train, y_train, stock, days, cv)\n",
    "# len(stocks)\n",
    "\n",
    "# stocks = [x for x in start_dates3]\n",
    "# days_ahead = [1, 3, 5]\n",
    "# cv = 5\n",
    "# for stock in stocks:\n",
    "#     for days in days_ahead:\n",
    "#         X_train, X_test, y_train, y_test, stock_df = a.data(stock, start_dates[stock], days)\n",
    "#         a.rfc_GridSearch(X_train, y_train, stock, days, cv)\n",
    "# len(stocks)\n",
    "\n",
    "# Train all, takes 15+ hours\n",
    "# stocks = [x for x in start_dates]\n",
    "# days_ahead = [1, 3, 5]\n",
    "# cv = 5\n",
    "# for stock in stocks:\n",
    "#     for days in days_ahead:\n",
    "#         X_train, X_test, y_train, y_test, stock_df = a.data(stock, start_dates[stock], days)\n",
    "#         a.rfc_GridSearch(X_train, y_train, stock, days, cv)\n",
    "# len(stocks)\n",
    "\n",
    "# Train desired stocks...takes less time\n",
    "# stocks = ['aapl']\n",
    "# days_ahead = [1, 3, 5]\n",
    "# cv = 5\n",
    "# for stock in stocks:\n",
    "#     for days in days_ahead:\n",
    "#         X_train, X_test, y_train, y_test, stock_df = a.data(stock, start_dates[stock], days)\n",
    "#         a.rfc_GridSearch(X_train, y_train, stock, days, cv)"
   ]
  },
  {
   "cell_type": "code",
   "execution_count": null,
   "metadata": {},
   "outputs": [],
   "source": []
  },
  {
   "cell_type": "code",
   "execution_count": null,
   "metadata": {},
   "outputs": [],
   "source": []
  },
  {
   "cell_type": "code",
   "execution_count": null,
   "metadata": {},
   "outputs": [],
   "source": []
  },
  {
   "cell_type": "markdown",
   "metadata": {},
   "source": [
    "### Display All Results"
   ]
  },
  {
   "cell_type": "code",
   "execution_count": 27,
   "metadata": {
    "scrolled": false
   },
   "outputs": [
    {
     "name": "stdout",
     "output_type": "stream",
     "text": [
      "Buy tsla 1 day(s) ahead\n",
      "Model Returns (x 100 for %): 2.8092\n",
      "Stock Returns (x 100 for %): 112.6748\n"
     ]
    },
    {
     "data": {
      "image/png": "[encoded data removed]",
      "text/plain": [
       "<Figure size 432x288 with 1 Axes>"
      ]
     },
     "metadata": {},
     "output_type": "display_data"
    },
    {
     "data": {
      "image/png": "[encoded data removed]",
      "text/plain": [
       "<Figure size 648x504 with 1 Axes>"
      ]
     },
     "metadata": {},
     "output_type": "display_data"
    },
    {
     "data": {
      "image/png": "[encoded data removed]",
      "text/plain": [
       "<Figure size 648x504 with 1 Axes>"
      ]
     },
     "metadata": {},
     "output_type": "display_data"
    },
    {
     "data": {
      "image/png": "[encoded data removed]",
      "text/plain": [
       "<Figure size 684x612 with 2 Axes>"
      ]
     },
     "metadata": {},
     "output_type": "display_data"
    }
   ],
   "source": [
    "stock_name = 'tsla'\n",
    "a.all_func(stock_name\n",
    "           , start_dates[stock_name]\n",
    "           , days_ahead = 1\n",
    "           , model_name = model_name\n",
    "           , days_back = 1\n",
    "          )"
   ]
  },
  {
   "cell_type": "code",
   "execution_count": null,
   "metadata": {},
   "outputs": [],
   "source": []
  },
  {
   "cell_type": "code",
   "execution_count": null,
   "metadata": {},
   "outputs": [],
   "source": []
  },
  {
   "cell_type": "code",
   "execution_count": null,
   "metadata": {},
   "outputs": [],
   "source": []
  },
  {
   "cell_type": "markdown",
   "metadata": {},
   "source": [
    "### Data Frame of Predictions 1 3 5 Days"
   ]
  },
  {
   "cell_type": "code",
   "execution_count": 28,
   "metadata": {},
   "outputs": [
    {
     "name": "stdout",
     "output_type": "stream",
     "text": [
      "Today's date: 2021-02-16\n"
     ]
    }
   ],
   "source": [
    "from datetime import date\n",
    "\n",
    "today = date.today()\n",
    "print(\"Today's date:\", today)"
   ]
  },
  {
   "cell_type": "code",
   "execution_count": 29,
   "metadata": {
    "scrolled": false
   },
   "outputs": [
    {
     "data": {
      "text/html": [
       "<div>\n",
       "<style scoped>\n",
       "    .dataframe tbody tr th:only-of-type {\n",
       "        vertical-align: middle;\n",
       "    }\n",
       "\n",
       "    .dataframe tbody tr th {\n",
       "        vertical-align: top;\n",
       "    }\n",
       "\n",
       "    .dataframe thead th {\n",
       "        text-align: right;\n",
       "    }\n",
       "</style>\n",
       "<table border=\"1\" class=\"dataframe\">\n",
       "  <thead>\n",
       "    <tr style=\"text-align: right;\">\n",
       "      <th></th>\n",
       "      <th>stock</th>\n",
       "      <th>1_Day_Pred</th>\n",
       "      <th>1_Day_Model_Return</th>\n",
       "      <th>3_Day_Pred</th>\n",
       "      <th>3_Day_Model_Return</th>\n",
       "      <th>5_Day_Pred</th>\n",
       "      <th>5_Day_Model_Return</th>\n",
       "      <th>Actual_Returns</th>\n",
       "    </tr>\n",
       "  </thead>\n",
       "  <tbody>\n",
       "    <tr>\n",
       "      <th>0</th>\n",
       "      <td>a</td>\n",
       "      <td>Hold or Sell</td>\n",
       "      <td>3.2421</td>\n",
       "      <td>Hold or Sell</td>\n",
       "      <td>4.2463</td>\n",
       "      <td>Hold or Sell</td>\n",
       "      <td>3.9821</td>\n",
       "      <td>7.0351</td>\n",
       "    </tr>\n",
       "    <tr>\n",
       "      <th>1</th>\n",
       "      <td>aapl</td>\n",
       "      <td>Hold or Sell</td>\n",
       "      <td>2.9908</td>\n",
       "      <td>Buy</td>\n",
       "      <td>3.1235</td>\n",
       "      <td>Buy</td>\n",
       "      <td>4.4500</td>\n",
       "      <td>344.6499</td>\n",
       "    </tr>\n",
       "    <tr>\n",
       "      <th>2</th>\n",
       "      <td>acy</td>\n",
       "      <td>Hold or Sell</td>\n",
       "      <td>0.4207</td>\n",
       "      <td>Hold or Sell</td>\n",
       "      <td>0.8162</td>\n",
       "      <td>Hold or Sell</td>\n",
       "      <td>0.4529</td>\n",
       "      <td>2.1706</td>\n",
       "    </tr>\n",
       "    <tr>\n",
       "      <th>3</th>\n",
       "      <td>adbe</td>\n",
       "      <td>Hold or Sell</td>\n",
       "      <td>10.5463</td>\n",
       "      <td>Hold or Sell</td>\n",
       "      <td>6.1177</td>\n",
       "      <td>Hold or Sell</td>\n",
       "      <td>6.9230</td>\n",
       "      <td>84.5602</td>\n",
       "    </tr>\n",
       "    <tr>\n",
       "      <th>4</th>\n",
       "      <td>alb</td>\n",
       "      <td>Buy</td>\n",
       "      <td>2.1719</td>\n",
       "      <td>Buy</td>\n",
       "      <td>2.1776</td>\n",
       "      <td>Buy</td>\n",
       "      <td>1.6565</td>\n",
       "      <td>14.2966</td>\n",
       "    </tr>\n",
       "    <tr>\n",
       "      <th>5</th>\n",
       "      <td>amat</td>\n",
       "      <td>Hold or Sell</td>\n",
       "      <td>7.1428</td>\n",
       "      <td>Hold or Sell</td>\n",
       "      <td>8.9393</td>\n",
       "      <td>Hold or Sell</td>\n",
       "      <td>8.4995</td>\n",
       "      <td>219.1234</td>\n",
       "    </tr>\n",
       "    <tr>\n",
       "      <th>6</th>\n",
       "      <td>amd</td>\n",
       "      <td>Buy</td>\n",
       "      <td>9.7506</td>\n",
       "      <td>Buy</td>\n",
       "      <td>5.4691</td>\n",
       "      <td>Buy</td>\n",
       "      <td>13.2229</td>\n",
       "      <td>17.1034</td>\n",
       "    </tr>\n",
       "    <tr>\n",
       "      <th>7</th>\n",
       "      <td>amgn</td>\n",
       "      <td>Buy</td>\n",
       "      <td>4.1033</td>\n",
       "      <td>Buy</td>\n",
       "      <td>4.0829</td>\n",
       "      <td>Buy</td>\n",
       "      <td>4.4394</td>\n",
       "      <td>24.8508</td>\n",
       "    </tr>\n",
       "    <tr>\n",
       "      <th>8</th>\n",
       "      <td>amzn</td>\n",
       "      <td>Hold or Sell</td>\n",
       "      <td>3.7278</td>\n",
       "      <td>Hold or Sell</td>\n",
       "      <td>3.0408</td>\n",
       "      <td>Hold or Sell</td>\n",
       "      <td>3.6896</td>\n",
       "      <td>110.7503</td>\n",
       "    </tr>\n",
       "    <tr>\n",
       "      <th>9</th>\n",
       "      <td>baba</td>\n",
       "      <td>Hold or Sell</td>\n",
       "      <td>1.4470</td>\n",
       "      <td>Hold or Sell</td>\n",
       "      <td>1.2108</td>\n",
       "      <td>Hold or Sell</td>\n",
       "      <td>1.2790</td>\n",
       "      <td>2.5999</td>\n",
       "    </tr>\n",
       "    <tr>\n",
       "      <th>10</th>\n",
       "      <td>bac</td>\n",
       "      <td>Hold or Sell</td>\n",
       "      <td>4.3065</td>\n",
       "      <td>Hold or Sell</td>\n",
       "      <td>3.8424</td>\n",
       "      <td>Hold or Sell</td>\n",
       "      <td>6.1235</td>\n",
       "      <td>6.2821</td>\n",
       "    </tr>\n",
       "    <tr>\n",
       "      <th>11</th>\n",
       "      <td>bpmc</td>\n",
       "      <td>Buy</td>\n",
       "      <td>2.3008</td>\n",
       "      <td>Buy</td>\n",
       "      <td>1.4030</td>\n",
       "      <td>Buy</td>\n",
       "      <td>1.3782</td>\n",
       "      <td>2.2232</td>\n",
       "    </tr>\n",
       "    <tr>\n",
       "      <th>12</th>\n",
       "      <td>crm</td>\n",
       "      <td>Hold or Sell</td>\n",
       "      <td>2.3184</td>\n",
       "      <td>Hold or Sell</td>\n",
       "      <td>2.4040</td>\n",
       "      <td>Hold or Sell</td>\n",
       "      <td>2.5168</td>\n",
       "      <td>16.5983</td>\n",
       "    </tr>\n",
       "    <tr>\n",
       "      <th>13</th>\n",
       "      <td>crsp</td>\n",
       "      <td>Buy</td>\n",
       "      <td>1.0656</td>\n",
       "      <td>Buy</td>\n",
       "      <td>0.6184</td>\n",
       "      <td>Buy</td>\n",
       "      <td>0.8200</td>\n",
       "      <td>6.9006</td>\n",
       "    </tr>\n",
       "    <tr>\n",
       "      <th>14</th>\n",
       "      <td>dq</td>\n",
       "      <td>Hold or Sell</td>\n",
       "      <td>10.5774</td>\n",
       "      <td>Hold or Sell</td>\n",
       "      <td>9.2053</td>\n",
       "      <td>Hold or Sell</td>\n",
       "      <td>7.4446</td>\n",
       "      <td>79.3050</td>\n",
       "    </tr>\n",
       "    <tr>\n",
       "      <th>15</th>\n",
       "      <td>esgv</td>\n",
       "      <td>Hold or Sell</td>\n",
       "      <td>1.1200</td>\n",
       "      <td>Buy</td>\n",
       "      <td>1.1405</td>\n",
       "      <td>Buy</td>\n",
       "      <td>1.1235</td>\n",
       "      <td>0.4597</td>\n",
       "    </tr>\n",
       "    <tr>\n",
       "      <th>16</th>\n",
       "      <td>fslr</td>\n",
       "      <td>Buy</td>\n",
       "      <td>2.5284</td>\n",
       "      <td>Buy</td>\n",
       "      <td>2.0853</td>\n",
       "      <td>Buy</td>\n",
       "      <td>2.1595</td>\n",
       "      <td>-0.1841</td>\n",
       "    </tr>\n",
       "    <tr>\n",
       "      <th>17</th>\n",
       "      <td>goog</td>\n",
       "      <td>Hold or Sell</td>\n",
       "      <td>2.4101</td>\n",
       "      <td>Hold or Sell</td>\n",
       "      <td>2.3799</td>\n",
       "      <td>Hold or Sell</td>\n",
       "      <td>3.1924</td>\n",
       "      <td>11.7462</td>\n",
       "    </tr>\n",
       "    <tr>\n",
       "      <th>18</th>\n",
       "      <td>ibm</td>\n",
       "      <td>Buy</td>\n",
       "      <td>2.0649</td>\n",
       "      <td>Buy</td>\n",
       "      <td>4.2413</td>\n",
       "      <td>Buy</td>\n",
       "      <td>4.0680</td>\n",
       "      <td>6.1727</td>\n",
       "    </tr>\n",
       "    <tr>\n",
       "      <th>19</th>\n",
       "      <td>intc</td>\n",
       "      <td>Hold or Sell</td>\n",
       "      <td>6.2797</td>\n",
       "      <td>Hold or Sell</td>\n",
       "      <td>5.9157</td>\n",
       "      <td>Hold or Sell</td>\n",
       "      <td>5.2497</td>\n",
       "      <td>40.9183</td>\n",
       "    </tr>\n",
       "    <tr>\n",
       "      <th>20</th>\n",
       "      <td>iyw</td>\n",
       "      <td>Hold or Sell</td>\n",
       "      <td>2.9491</td>\n",
       "      <td>Hold or Sell</td>\n",
       "      <td>4.0952</td>\n",
       "      <td>Hold or Sell</td>\n",
       "      <td>2.8026</td>\n",
       "      <td>6.6625</td>\n",
       "    </tr>\n",
       "    <tr>\n",
       "      <th>21</th>\n",
       "      <td>lng</td>\n",
       "      <td>Hold or Sell</td>\n",
       "      <td>1.3920</td>\n",
       "      <td>Hold or Sell</td>\n",
       "      <td>0.7650</td>\n",
       "      <td>Hold or Sell</td>\n",
       "      <td>0.9298</td>\n",
       "      <td>54.6068</td>\n",
       "    </tr>\n",
       "    <tr>\n",
       "      <th>22</th>\n",
       "      <td>ma</td>\n",
       "      <td>Buy</td>\n",
       "      <td>2.3331</td>\n",
       "      <td>Buy</td>\n",
       "      <td>2.7571</td>\n",
       "      <td>Buy</td>\n",
       "      <td>2.2656</td>\n",
       "      <td>14.4068</td>\n",
       "    </tr>\n",
       "    <tr>\n",
       "      <th>23</th>\n",
       "      <td>mdb</td>\n",
       "      <td>Buy</td>\n",
       "      <td>0.9369</td>\n",
       "      <td>Buy</td>\n",
       "      <td>0.9130</td>\n",
       "      <td>Buy</td>\n",
       "      <td>0.9085</td>\n",
       "      <td>4.9201</td>\n",
       "    </tr>\n",
       "    <tr>\n",
       "      <th>24</th>\n",
       "      <td>msft</td>\n",
       "      <td>Buy</td>\n",
       "      <td>8.0547</td>\n",
       "      <td>Buy</td>\n",
       "      <td>8.8101</td>\n",
       "      <td>Buy</td>\n",
       "      <td>9.1379</td>\n",
       "      <td>61.1983</td>\n",
       "    </tr>\n",
       "    <tr>\n",
       "      <th>25</th>\n",
       "      <td>mu</td>\n",
       "      <td>Buy</td>\n",
       "      <td>2.3762</td>\n",
       "      <td>Buy</td>\n",
       "      <td>3.0106</td>\n",
       "      <td>Buy</td>\n",
       "      <td>3.0395</td>\n",
       "      <td>18.4402</td>\n",
       "    </tr>\n",
       "    <tr>\n",
       "      <th>26</th>\n",
       "      <td>nee</td>\n",
       "      <td>Buy</td>\n",
       "      <td>4.3228</td>\n",
       "      <td>Buy</td>\n",
       "      <td>4.5212</td>\n",
       "      <td>Buy</td>\n",
       "      <td>4.2701</td>\n",
       "      <td>28.3327</td>\n",
       "    </tr>\n",
       "    <tr>\n",
       "      <th>27</th>\n",
       "      <td>nio</td>\n",
       "      <td>Hold or Sell</td>\n",
       "      <td>2.0391</td>\n",
       "      <td>Hold or Sell</td>\n",
       "      <td>2.1239</td>\n",
       "      <td>Hold or Sell</td>\n",
       "      <td>1.6644</td>\n",
       "      <td>11.7000</td>\n",
       "    </tr>\n",
       "    <tr>\n",
       "      <th>28</th>\n",
       "      <td>nvda</td>\n",
       "      <td>Hold or Sell</td>\n",
       "      <td>14.0503</td>\n",
       "      <td>Hold or Sell</td>\n",
       "      <td>10.5169</td>\n",
       "      <td>Hold or Sell</td>\n",
       "      <td>12.9680</td>\n",
       "      <td>192.9406</td>\n",
       "    </tr>\n",
       "    <tr>\n",
       "      <th>29</th>\n",
       "      <td>pacb</td>\n",
       "      <td>Buy</td>\n",
       "      <td>2.0512</td>\n",
       "      <td>Buy</td>\n",
       "      <td>4.0393</td>\n",
       "      <td>Buy</td>\n",
       "      <td>1.7350</td>\n",
       "      <td>17.2643</td>\n",
       "    </tr>\n",
       "    <tr>\n",
       "      <th>30</th>\n",
       "      <td>pypl</td>\n",
       "      <td>Hold or Sell</td>\n",
       "      <td>3.2124</td>\n",
       "      <td>Hold or Sell</td>\n",
       "      <td>2.6169</td>\n",
       "      <td>Hold or Sell</td>\n",
       "      <td>3.4825</td>\n",
       "      <td>6.9272</td>\n",
       "    </tr>\n",
       "    <tr>\n",
       "      <th>31</th>\n",
       "      <td>qgen</td>\n",
       "      <td>Buy</td>\n",
       "      <td>2.1071</td>\n",
       "      <td>Buy</td>\n",
       "      <td>1.9934</td>\n",
       "      <td>Hold or Sell</td>\n",
       "      <td>2.6485</td>\n",
       "      <td>8.2395</td>\n",
       "    </tr>\n",
       "    <tr>\n",
       "      <th>32</th>\n",
       "      <td>run</td>\n",
       "      <td>Buy</td>\n",
       "      <td>1.2984</td>\n",
       "      <td>Hold or Sell</td>\n",
       "      <td>1.3096</td>\n",
       "      <td>Buy</td>\n",
       "      <td>1.2595</td>\n",
       "      <td>13.9572</td>\n",
       "    </tr>\n",
       "    <tr>\n",
       "      <th>33</th>\n",
       "      <td>okta</td>\n",
       "      <td>Buy</td>\n",
       "      <td>0.9029</td>\n",
       "      <td>Buy</td>\n",
       "      <td>0.9900</td>\n",
       "      <td>Buy</td>\n",
       "      <td>1.0464</td>\n",
       "      <td>6.3934</td>\n",
       "    </tr>\n",
       "    <tr>\n",
       "      <th>34</th>\n",
       "      <td>orcl</td>\n",
       "      <td>Buy</td>\n",
       "      <td>3.4876</td>\n",
       "      <td>Buy</td>\n",
       "      <td>3.7420</td>\n",
       "      <td>Buy</td>\n",
       "      <td>3.0926</td>\n",
       "      <td>28.6826</td>\n",
       "    </tr>\n",
       "    <tr>\n",
       "      <th>35</th>\n",
       "      <td>qqq</td>\n",
       "      <td>Hold or Sell</td>\n",
       "      <td>3.4020</td>\n",
       "      <td>Hold or Sell</td>\n",
       "      <td>3.7985</td>\n",
       "      <td>Hold or Sell</td>\n",
       "      <td>2.9073</td>\n",
       "      <td>8.6270</td>\n",
       "    </tr>\n",
       "    <tr>\n",
       "      <th>36</th>\n",
       "      <td>srpt</td>\n",
       "      <td>Buy</td>\n",
       "      <td>1.1494</td>\n",
       "      <td>Buy</td>\n",
       "      <td>2.2459</td>\n",
       "      <td>Buy</td>\n",
       "      <td>1.6894</td>\n",
       "      <td>1.5408</td>\n",
       "    </tr>\n",
       "    <tr>\n",
       "      <th>37</th>\n",
       "      <td>tpic</td>\n",
       "      <td>Hold or Sell</td>\n",
       "      <td>1.2501</td>\n",
       "      <td>Buy</td>\n",
       "      <td>1.9581</td>\n",
       "      <td>Buy</td>\n",
       "      <td>1.4388</td>\n",
       "      <td>2.7982</td>\n",
       "    </tr>\n",
       "    <tr>\n",
       "      <th>38</th>\n",
       "      <td>tsla</td>\n",
       "      <td>Buy</td>\n",
       "      <td>2.8802</td>\n",
       "      <td>Buy</td>\n",
       "      <td>1.9041</td>\n",
       "      <td>Buy</td>\n",
       "      <td>3.4180</td>\n",
       "      <td>112.6411</td>\n",
       "    </tr>\n",
       "    <tr>\n",
       "      <th>39</th>\n",
       "      <td>v</td>\n",
       "      <td>Buy</td>\n",
       "      <td>2.9461</td>\n",
       "      <td>Buy</td>\n",
       "      <td>2.5354</td>\n",
       "      <td>Buy</td>\n",
       "      <td>2.7952</td>\n",
       "      <td>10.1774</td>\n",
       "    </tr>\n",
       "    <tr>\n",
       "      <th>40</th>\n",
       "      <td>vbiv</td>\n",
       "      <td>Buy</td>\n",
       "      <td>3.5659</td>\n",
       "      <td>Buy</td>\n",
       "      <td>1.4878</td>\n",
       "      <td>Buy</td>\n",
       "      <td>1.0874</td>\n",
       "      <td>-0.8083</td>\n",
       "    </tr>\n",
       "    <tr>\n",
       "      <th>41</th>\n",
       "      <td>vbr</td>\n",
       "      <td>Hold or Sell</td>\n",
       "      <td>1.4886</td>\n",
       "      <td>Hold or Sell</td>\n",
       "      <td>1.0297</td>\n",
       "      <td>Buy</td>\n",
       "      <td>1.7000</td>\n",
       "      <td>1.4605</td>\n",
       "    </tr>\n",
       "    <tr>\n",
       "      <th>42</th>\n",
       "      <td>viov</td>\n",
       "      <td>Hold or Sell</td>\n",
       "      <td>1.1579</td>\n",
       "      <td>Hold or Sell</td>\n",
       "      <td>1.3405</td>\n",
       "      <td>Hold or Sell</td>\n",
       "      <td>1.3124</td>\n",
       "      <td>1.1425</td>\n",
       "    </tr>\n",
       "    <tr>\n",
       "      <th>43</th>\n",
       "      <td>vgt</td>\n",
       "      <td>Hold or Sell</td>\n",
       "      <td>2.9780</td>\n",
       "      <td>Hold or Sell</td>\n",
       "      <td>3.8454</td>\n",
       "      <td>Buy</td>\n",
       "      <td>3.7134</td>\n",
       "      <td>5.7566</td>\n",
       "    </tr>\n",
       "    <tr>\n",
       "      <th>44</th>\n",
       "      <td>xlk</td>\n",
       "      <td>Hold or Sell</td>\n",
       "      <td>3.7248</td>\n",
       "      <td>Hold or Sell</td>\n",
       "      <td>4.2973</td>\n",
       "      <td>Hold or Sell</td>\n",
       "      <td>4.5701</td>\n",
       "      <td>6.3598</td>\n",
       "    </tr>\n",
       "  </tbody>\n",
       "</table>\n",
       "</div>"
      ],
      "text/plain": [
       "   stock    1_Day_Pred  1_Day_Model_Return    3_Day_Pred  3_Day_Model_Return  \\\n",
       "0      a  Hold or Sell              3.2421  Hold or Sell              4.2463   \n",
       "1   aapl  Hold or Sell              2.9908           Buy              3.1235   \n",
       "2    acy  Hold or Sell              0.4207  Hold or Sell              0.8162   \n",
       "3   adbe  Hold or Sell             10.5463  Hold or Sell              6.1177   \n",
       "4    alb           Buy              2.1719           Buy              2.1776   \n",
       "5   amat  Hold or Sell              7.1428  Hold or Sell              8.9393   \n",
       "6    amd           Buy              9.7506           Buy              5.4691   \n",
       "7   amgn           Buy              4.1033           Buy              4.0829   \n",
       "8   amzn  Hold or Sell              3.7278  Hold or Sell              3.0408   \n",
       "9   baba  Hold or Sell              1.4470  Hold or Sell              1.2108   \n",
       "10   bac  Hold or Sell              4.3065  Hold or Sell              3.8424   \n",
       "11  bpmc           Buy              2.3008           Buy              1.4030   \n",
       "12   crm  Hold or Sell              2.3184  Hold or Sell              2.4040   \n",
       "13  crsp           Buy              1.0656           Buy              0.6184   \n",
       "14    dq  Hold or Sell             10.5774  Hold or Sell              9.2053   \n",
       "15  esgv  Hold or Sell              1.1200           Buy              1.1405   \n",
       "16  fslr           Buy              2.5284           Buy              2.0853   \n",
       "17  goog  Hold or Sell              2.4101  Hold or Sell              2.3799   \n",
       "18   ibm           Buy              2.0649           Buy              4.2413   \n",
       "19  intc  Hold or Sell              6.2797  Hold or Sell              5.9157   \n",
       "20   iyw  Hold or Sell              2.9491  Hold or Sell              4.0952   \n",
       "21   lng  Hold or Sell              1.3920  Hold or Sell              0.7650   \n",
       "22    ma           Buy              2.3331           Buy              2.7571   \n",
       "23   mdb           Buy              0.9369           Buy              0.9130   \n",
       "24  msft           Buy              8.0547           Buy              8.8101   \n",
       "25    mu           Buy              2.3762           Buy              3.0106   \n",
       "26   nee           Buy              4.3228           Buy              4.5212   \n",
       "27   nio  Hold or Sell              2.0391  Hold or Sell              2.1239   \n",
       "28  nvda  Hold or Sell             14.0503  Hold or Sell             10.5169   \n",
       "29  pacb           Buy              2.0512           Buy              4.0393   \n",
       "30  pypl  Hold or Sell              3.2124  Hold or Sell              2.6169   \n",
       "31  qgen           Buy              2.1071           Buy              1.9934   \n",
       "32   run           Buy              1.2984  Hold or Sell              1.3096   \n",
       "33  okta           Buy              0.9029           Buy              0.9900   \n",
       "34  orcl           Buy              3.4876           Buy              3.7420   \n",
       "35   qqq  Hold or Sell              3.4020  Hold or Sell              3.7985   \n",
       "36  srpt           Buy              1.1494           Buy              2.2459   \n",
       "37  tpic  Hold or Sell              1.2501           Buy              1.9581   \n",
       "38  tsla           Buy              2.8802           Buy              1.9041   \n",
       "39     v           Buy              2.9461           Buy              2.5354   \n",
       "40  vbiv           Buy              3.5659           Buy              1.4878   \n",
       "41   vbr  Hold or Sell              1.4886  Hold or Sell              1.0297   \n",
       "42  viov  Hold or Sell              1.1579  Hold or Sell              1.3405   \n",
       "43   vgt  Hold or Sell              2.9780  Hold or Sell              3.8454   \n",
       "44   xlk  Hold or Sell              3.7248  Hold or Sell              4.2973   \n",
       "\n",
       "      5_Day_Pred  5_Day_Model_Return  Actual_Returns  \n",
       "0   Hold or Sell              3.9821          7.0351  \n",
       "1            Buy              4.4500        344.6499  \n",
       "2   Hold or Sell              0.4529          2.1706  \n",
       "3   Hold or Sell              6.9230         84.5602  \n",
       "4            Buy              1.6565         14.2966  \n",
       "5   Hold or Sell              8.4995        219.1234  \n",
       "6            Buy             13.2229         17.1034  \n",
       "7            Buy              4.4394         24.8508  \n",
       "8   Hold or Sell              3.6896        110.7503  \n",
       "9   Hold or Sell              1.2790          2.5999  \n",
       "10  Hold or Sell              6.1235          6.2821  \n",
       "11           Buy              1.3782          2.2232  \n",
       "12  Hold or Sell              2.5168         16.5983  \n",
       "13           Buy              0.8200          6.9006  \n",
       "14  Hold or Sell              7.4446         79.3050  \n",
       "15           Buy              1.1235          0.4597  \n",
       "16           Buy              2.1595         -0.1841  \n",
       "17  Hold or Sell              3.1924         11.7462  \n",
       "18           Buy              4.0680          6.1727  \n",
       "19  Hold or Sell              5.2497         40.9183  \n",
       "20  Hold or Sell              2.8026          6.6625  \n",
       "21  Hold or Sell              0.9298         54.6068  \n",
       "22           Buy              2.2656         14.4068  \n",
       "23           Buy              0.9085          4.9201  \n",
       "24           Buy              9.1379         61.1983  \n",
       "25           Buy              3.0395         18.4402  \n",
       "26           Buy              4.2701         28.3327  \n",
       "27  Hold or Sell              1.6644         11.7000  \n",
       "28  Hold or Sell             12.9680        192.9406  \n",
       "29           Buy              1.7350         17.2643  \n",
       "30  Hold or Sell              3.4825          6.9272  \n",
       "31  Hold or Sell              2.6485          8.2395  \n",
       "32           Buy              1.2595         13.9572  \n",
       "33           Buy              1.0464          6.3934  \n",
       "34           Buy              3.0926         28.6826  \n",
       "35  Hold or Sell              2.9073          8.6270  \n",
       "36           Buy              1.6894          1.5408  \n",
       "37           Buy              1.4388          2.7982  \n",
       "38           Buy              3.4180        112.6411  \n",
       "39           Buy              2.7952         10.1774  \n",
       "40           Buy              1.0874         -0.8083  \n",
       "41           Buy              1.7000          1.4605  \n",
       "42  Hold or Sell              1.3124          1.1425  \n",
       "43           Buy              3.7134          5.7566  \n",
       "44  Hold or Sell              4.5701          6.3598  "
      ]
     },
     "execution_count": 29,
     "metadata": {},
     "output_type": "execute_result"
    }
   ],
   "source": [
    "summary_df = a.pred_summary_df(start_dates, stocks = [x for x in start_dates], days_back = 1)\n",
    "summary_df"
   ]
  },
  {
   "cell_type": "code",
   "execution_count": 30,
   "metadata": {},
   "outputs": [
    {
     "data": {
      "text/plain": [
       "(2.5284, 2.6169, 2.8026, 10.1774)"
      ]
     },
     "execution_count": 30,
     "metadata": {},
     "output_type": "execute_result"
    }
   ],
   "source": [
    "summary_df['1_Day_Model_Return'].median(), summary_df['3_Day_Model_Return'].median(), summary_df['5_Day_Model_Return'].median(), summary_df['Actual_Returns'].median()"
   ]
  },
  {
   "cell_type": "code",
   "execution_count": null,
   "metadata": {},
   "outputs": [],
   "source": []
  },
  {
   "cell_type": "code",
   "execution_count": null,
   "metadata": {},
   "outputs": [],
   "source": []
  },
  {
   "cell_type": "code",
   "execution_count": null,
   "metadata": {},
   "outputs": [],
   "source": []
  },
  {
   "cell_type": "code",
   "execution_count": null,
   "metadata": {},
   "outputs": [],
   "source": []
  }
 ],
 "metadata": {
  "kernelspec": {
   "display_name": "Python 3",
   "language": "python",
   "name": "python3"
  },
  "language_info": {
   "codemirror_mode": {
    "name": "ipython",
    "version": 3
   },
   "file_extension": ".py",
   "mimetype": "text/x-python",
   "name": "python",
   "nbconvert_exporter": "python",
   "pygments_lexer": "ipython3",
   "version": "3.8.5"
  }
 },
 "nbformat": 4,
 "nbformat_minor": 4
}
