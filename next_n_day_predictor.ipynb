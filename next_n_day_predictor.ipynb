{
 "cells": [
  {
   "cell_type": "code",
   "execution_count": 1,
   "metadata": {
    "scrolled": true
   },
   "outputs": [],
   "source": [
    "from src import attributes as a\n",
    "%load_ext autoreload\n",
    "%autoreload 2"
   ]
  },
  {
   "cell_type": "code",
   "execution_count": 2,
   "metadata": {},
   "outputs": [],
   "source": [
    "# Global Variables\n",
    "stock_name = 'tsla' # ticker symbol\n",
    "train = 0 # 1 for train, 0 for pass\n",
    "days_ahead = 1 # for predicting 1, 3, or 5 days ahead\n",
    "days_back = -1 # -1 for current data point, -2 for two days ago, etc...\n",
    "cv = 5 # number of cross validation folds\n",
    "model_name = 'Random Forest Classifier' # for display on charts, not a tuning parameter"
   ]
  },
  {
   "cell_type": "code",
   "execution_count": 3,
   "metadata": {},
   "outputs": [],
   "source": [
    "# Extract, Transform, Load, and Train Test Split\n",
    "# Dictionary of IPO Dates\n",
    "start_dates = {'a': '11/15/1999' # Updated 4/26/21 1D, 3D, 5D ahead\n",
    "               , 'aapl': '12/12/1980' # Updated 4/26/21 1D, 3D, 5D ahead\n",
    "               , 'acy': '01/18/1998' # Updated 4/26/21 1D, 3D, 5D ahead\n",
    "               , 'adbe': '08/11/1986' # Updated 4/26/21 1D, 3D, 5D ahead\n",
    "               , 'alb': '02/21/1994' # Updated 4/26/21 1D, 3D, 5D ahead\n",
    "               , 'amat': '03/16/1980' # Updated 4/26/21 1D, 3D, 5D ahead\n",
    "               , 'amd': '03/17/1980' # Updated 4/26/21 1D, 3D, 5D ahead\n",
    "               , 'amgn': '06/13/1983' # Updated 4/26/21 1D, 3D, 5D ahead\n",
    "               , 'amzn': '05/12/1997' # Updated 4/26/21 1D, 3D, 5D ahead\n",
    "               , 'baba': '09/15/2014' # Updated 4/26/21 1D, 3D, 5D ahead\n",
    "               , 'bac': '02/19/1973' # Updated 4/26/21 1D, 3D, 5D ahead\n",
    "               , 'bpmc': '04/27/2015' # Updated 4/26/21 1D, 3D, 5D ahead\n",
    "               , 'crm': '06/23/2004' # Updated 4/26/21 1D, 3D, 5D ahead\n",
    "               #, 'crsp': '10/16/2016' # Updated 4/26/21 1D, 3D, 5D ahead\n",
    "               , 'dq': '10/04/2010' # Updated 4/26/21 1D, 3D, 5D ahead\n",
    "               , 'esgv': '09/16/2018' # Updated 4/26/21 1D, 3D, 5D ahead\n",
    "               , 'fslr': '11/12/2006' # Updated 4/26/21 1D, 3D, 5D ahead\n",
    "               , 'goog': '08/16/2004' # Updated 4/26/21 1D, 3D, 5D ahead\n",
    "               , 'ibm': '01/02/1962' # Updated 4/26/21 1D, 3D, 5D ahead\n",
    "               , 'intc': '03/16/1980' # Updated 4/26/21 1D, 3D, 5D ahead\n",
    "               , 'iyw': '05/15/2000' # Updated 4/26/21 1D, 3D, 5D ahead\n",
    "               , 'll': '11/05/2007' # Updated 9/13/21 1D, 3D, 5D ahead\n",
    "               , 'lng': '04/04/1994' # Updated 4/26/21 1D, 3D, 5D ahead\n",
    "               , 'ma': '05/21/2006' # Updated 4/26/21 1D, 3D, 5D ahead\n",
    "               , 'mdb': '10/15/2017' # Updated 4/26/21 1D, 3D, 5D ahead\n",
    "               , 'msft': '03/10/1986' # Updated 4/26/21 1D, 3D, 5D ahead\n",
    "               , 'mu': '05/28/1984' # Updated 4/26/21 1D, 3D, 5D ahead\n",
    "               , 'nee': '02/19/1973' # Updated 4/26/21 1D, 3D, 5D ahead\n",
    "               , 'nio': '09/10/2018' # Updated 4/26/21 1D, 3D, 5D ahead\n",
    "               , 'nvda': '01/22/1999' # Updated 4/26/21 1D, 3D, 5D ahead\n",
    "               , 'pacb': '10/25/2010' # Updated 4/26/21 1D, 3D, 5D ahead\n",
    "               , 'pypl': '07/05/2015' # Updated 4/26/21 1D, 3D, 5D ahead\n",
    "               , 'qgen': '06/24/1996' # Updated 4/26/21 1D, 3D, 5D ahead\n",
    "               , 'run': '08/02/2015' # Updated 4/26/21 1D, 3D, 5D ahead\n",
    "               , 'okta': '04/03/2017' # Updated 4/26/21 1D, 3D, 5D ahead\n",
    "               , 'orcl': '03/10/1986' # Updated 4/26/21 1D, 3D, 5D ahead\n",
    "               , 'qqq': '03/08/1999' # Updated 4/26/21 1D, 3D, 5D ahead\n",
    "               , 'srpt': '06/02/1997' # Updated 4/26/21 1D, 3D, 5D ahead\n",
    "               #, 'tpic': '07/17/2016' # Updated 4/26/21 1D, 3D, 5D ahead\n",
    "               , 'tsla': '06/29/2010' # Updated 4/26/21 1D, 3D, 5D ahead\n",
    "               , 'tsm': '10/06/1997' # Updated 10/24/21 1D, 3D, 5D ahead\n",
    "               , 'v': '03/16/2008' # Updated 4/26/21 1D, 3D, 5D ahead\n",
    "               , 'vbiv': '09/04/2002' # Updated 4/26/21 1D, 3D, 5D ahead\n",
    "               , 'vbr': '01/26/2004' # Updated 4/26/21 1D, 3D, 5D ahead\n",
    "               , 'viov': '09/06/2010' # Updated 4/26/21 1D, 3D, 5D ahead\n",
    "               , 'vgt': '01/26/2004' # Updated 4/26/21 1D, 3D, 5D ahead\n",
    "               , 'xlk': '12/21/1998' # Updated 4/26/21 1D, 3D, 5D ahead\n",
    "              }"
   ]
  },
  {
   "cell_type": "markdown",
   "metadata": {},
   "source": [
    "### Get Data..."
   ]
  },
  {
   "cell_type": "code",
   "execution_count": 4,
   "metadata": {
    "scrolled": true
   },
   "outputs": [
    {
     "name": "stdout",
     "output_type": "stream",
     "text": [
      "Today's date: 2021-10-27\n",
      "Table Updates Complete\n"
     ]
    }
   ],
   "source": [
    "from datetime import date\n",
    "today = date.today()\n",
    "print(\"Today's date:\", today)\n",
    "a.get_tables(start_dates)\n",
    "print('Table Updates Complete')"
   ]
  },
  {
   "cell_type": "code",
   "execution_count": 5,
   "metadata": {},
   "outputs": [],
   "source": [
    "# Load RandomForextClassifier Model\n",
    "# rfc_model, y_pred, y_probs = a.rfc(X_train, X_test, y_train, stock_name, days_ahead)"
   ]
  },
  {
   "cell_type": "code",
   "execution_count": 6,
   "metadata": {
    "scrolled": false
   },
   "outputs": [],
   "source": [
    "# ROC Curve\n",
    "# a.roc_plot(y_test, y_probs, stock_name, model_name)"
   ]
  },
  {
   "cell_type": "code",
   "execution_count": 7,
   "metadata": {
    "scrolled": false
   },
   "outputs": [],
   "source": [
    "# Precision Recall Curve\n",
    "# a.prec_recall(y_test, y_probs, stock_name, model_name)"
   ]
  },
  {
   "cell_type": "code",
   "execution_count": 8,
   "metadata": {
    "scrolled": false
   },
   "outputs": [],
   "source": [
    "# Confusion Matrix\n",
    "# a.confusion_matrix(rfc_model, X_test, y_test, stock_name)"
   ]
  },
  {
   "cell_type": "code",
   "execution_count": 9,
   "metadata": {},
   "outputs": [],
   "source": [
    "# Cross Validation\n",
    "# a.cross_validation(rfc_model\n",
    "#                    , stock_df[['oc', 'hl', '5stdev_adj', '5sma_adj']]\n",
    "#                    , stock_df['direction']\n",
    "#                    , cv = 5\n",
    "#                   )"
   ]
  },
  {
   "cell_type": "markdown",
   "metadata": {},
   "source": [
    "### Prediction..."
   ]
  },
  {
   "cell_type": "code",
   "execution_count": 10,
   "metadata": {
    "scrolled": true
   },
   "outputs": [],
   "source": [
    "# Prediction, use last day of data\n",
    "# stock_df.iloc[-1]"
   ]
  },
  {
   "cell_type": "code",
   "execution_count": 11,
   "metadata": {},
   "outputs": [],
   "source": [
    "# import numpy as np\n",
    "# last = stock_df[['oc', 'hl', '5stdev_adj', '5sma_adj']].iloc[-days_back]\n",
    "# last"
   ]
  },
  {
   "cell_type": "code",
   "execution_count": 12,
   "metadata": {},
   "outputs": [],
   "source": [
    "# stock_df['adj'].describe()"
   ]
  },
  {
   "cell_type": "code",
   "execution_count": 13,
   "metadata": {
    "scrolled": true
   },
   "outputs": [],
   "source": [
    "# if rfc_model.predict(np.array(last).reshape(1, -1))[0] == 1:\n",
    "#     print(f'Buy {stock_name} {days_ahead} day(s) ahead')\n",
    "# else:\n",
    "#     print(f'Sell or hold {stock_name} {days_ahead} day(s) ahead')"
   ]
  },
  {
   "cell_type": "markdown",
   "metadata": {},
   "source": [
    "### Strategy Returns..."
   ]
  },
  {
   "cell_type": "code",
   "execution_count": 14,
   "metadata": {},
   "outputs": [],
   "source": [
    "# returns on strategy column\n",
    "# stock_df['prediction'] = rfc_model.predict(stock_df[['oc', 'hl', '5stdev_adj', '5sma_adj']])\n",
    "# stock_df['returns'] = stock_df['adj'].shift(-1, fill_value = stock_df['adj'].median()) * stock_df['prediction']"
   ]
  },
  {
   "cell_type": "code",
   "execution_count": 15,
   "metadata": {},
   "outputs": [],
   "source": [
    "# stock_df.tail(5)"
   ]
  },
  {
   "cell_type": "code",
   "execution_count": 16,
   "metadata": {},
   "outputs": [],
   "source": [
    "# Don't trade every day!\n",
    "# import matplotlib.pyplot as plt\n",
    "# test_length = len(y_test)\n",
    "# (stock_df['returns'][-test_length:] + 1).cumprod().plot()\n",
    "# plt.title(f'{stock_name} Expected Returns %');"
   ]
  },
  {
   "cell_type": "code",
   "execution_count": 17,
   "metadata": {},
   "outputs": [],
   "source": [
    "# Model returns if bought on predictions of 1\n",
    "# returns_on_ones = []\n",
    "# for idx in range(-test_length, 0):\n",
    "#     if stock_df['prediction'][idx] == 1:\n",
    "#         returns_on_ones.append(1 + stock_df['returns'][idx])\n",
    "\n",
    "# returns = 1\n",
    "# for x in returns_on_ones:\n",
    "#     returns *= x\n",
    "# returns"
   ]
  },
  {
   "cell_type": "code",
   "execution_count": 18,
   "metadata": {},
   "outputs": [],
   "source": [
    "# multiple times original investment, not bad but..."
   ]
  },
  {
   "cell_type": "code",
   "execution_count": 19,
   "metadata": {},
   "outputs": [],
   "source": [
    "# If purchased in 2012 and left it until now\n",
    "# test_idx = int(len(stock_df)*0.75)\n",
    "# (stock_df['Close'][-1] - stock_df['Close'][-test_idx]) / stock_df['Close'][-test_idx]"
   ]
  },
  {
   "cell_type": "code",
   "execution_count": 20,
   "metadata": {},
   "outputs": [],
   "source": [
    "# Buy and hold strategy beats RandomForestClassifier in this study\n",
    "\n",
    "# Special thanks to Shagufta Tahsildar at https://blog.quantinsti.com/random-forest-algorithm-in-python/"
   ]
  },
  {
   "cell_type": "code",
   "execution_count": null,
   "metadata": {},
   "outputs": [],
   "source": []
  },
  {
   "cell_type": "code",
   "execution_count": null,
   "metadata": {},
   "outputs": [],
   "source": []
  },
  {
   "cell_type": "code",
   "execution_count": null,
   "metadata": {},
   "outputs": [],
   "source": []
  },
  {
   "cell_type": "markdown",
   "metadata": {},
   "source": [
    "### Training"
   ]
  },
  {
   "cell_type": "markdown",
   "metadata": {},
   "source": [
    "Training is done once a week on Saturday and Sunday"
   ]
  },
  {
   "cell_type": "code",
   "execution_count": 21,
   "metadata": {},
   "outputs": [
    {
     "data": {
      "text/plain": [
       "45"
      ]
     },
     "execution_count": 21,
     "metadata": {},
     "output_type": "execute_result"
    }
   ],
   "source": [
    "len(start_dates)"
   ]
  },
  {
   "cell_type": "code",
   "execution_count": 22,
   "metadata": {},
   "outputs": [
    {
     "data": {
      "text/plain": [
       "{'a': '11/15/1999',\n",
       " 'aapl': '12/12/1980',\n",
       " 'acy': '01/18/1998',\n",
       " 'adbe': '08/11/1986',\n",
       " 'alb': '02/21/1994',\n",
       " 'amat': '03/16/1980',\n",
       " 'amd': '03/17/1980',\n",
       " 'amgn': '06/13/1983',\n",
       " 'amzn': '05/12/1997',\n",
       " 'baba': '09/15/2014',\n",
       " 'bac': '02/19/1973',\n",
       " 'bpmc': '04/27/2015',\n",
       " 'crm': '06/23/2004',\n",
       " 'dq': '10/04/2010',\n",
       " 'esgv': '09/16/2018'}"
      ]
     },
     "execution_count": 22,
     "metadata": {},
     "output_type": "execute_result"
    }
   ],
   "source": [
    "import itertools as itr\n",
    "start_dates1 = dict(itr.islice(start_dates.items(), 0, 15))\n",
    "start_dates1"
   ]
  },
  {
   "cell_type": "code",
   "execution_count": 23,
   "metadata": {},
   "outputs": [
    {
     "data": {
      "text/plain": [
       "{'fslr': '11/12/2006',\n",
       " 'goog': '08/16/2004',\n",
       " 'ibm': '01/02/1962',\n",
       " 'intc': '03/16/1980',\n",
       " 'iyw': '05/15/2000',\n",
       " 'll': '11/05/2007',\n",
       " 'lng': '04/04/1994',\n",
       " 'ma': '05/21/2006',\n",
       " 'mdb': '10/15/2017',\n",
       " 'msft': '03/10/1986',\n",
       " 'mu': '05/28/1984',\n",
       " 'nee': '02/19/1973',\n",
       " 'nio': '09/10/2018',\n",
       " 'nvda': '01/22/1999',\n",
       " 'pacb': '10/25/2010'}"
      ]
     },
     "execution_count": 23,
     "metadata": {},
     "output_type": "execute_result"
    }
   ],
   "source": [
    "start_dates2 = dict(itr.islice(start_dates.items(), 15, 30))\n",
    "start_dates2"
   ]
  },
  {
   "cell_type": "code",
   "execution_count": 24,
   "metadata": {},
   "outputs": [
    {
     "data": {
      "text/plain": [
       "{'pypl': '07/05/2015',\n",
       " 'qgen': '06/24/1996',\n",
       " 'run': '08/02/2015',\n",
       " 'okta': '04/03/2017',\n",
       " 'orcl': '03/10/1986',\n",
       " 'qqq': '03/08/1999',\n",
       " 'srpt': '06/02/1997',\n",
       " 'tsla': '06/29/2010',\n",
       " 'tsm': '10/06/1997',\n",
       " 'v': '03/16/2008',\n",
       " 'vbiv': '09/04/2002',\n",
       " 'vbr': '01/26/2004',\n",
       " 'viov': '09/06/2010',\n",
       " 'vgt': '01/26/2004',\n",
       " 'xlk': '12/21/1998'}"
      ]
     },
     "execution_count": 24,
     "metadata": {},
     "output_type": "execute_result"
    }
   ],
   "source": [
    "start_dates3 = dict(itr.islice(start_dates.items(), 30, 45+1))\n",
    "start_dates3"
   ]
  },
  {
   "cell_type": "code",
   "execution_count": 25,
   "metadata": {
    "scrolled": false
   },
   "outputs": [],
   "source": [
    "#Train 15 at a time!\n",
    "# stocks = [x for x in start_dates1]\n",
    "# days_ahead = [1, 3, 5]\n",
    "# cv = 5\n",
    "# for stock in stocks:\n",
    "#     for days in days_ahead:\n",
    "#         X_train, X_test, y_train, y_test, stock_df = a.data(stock, start_dates[stock], days)\n",
    "#         a.rfc_GridSearch(X_train, y_train, stock, days, cv)\n",
    "# len(stocks)\n",
    "\n",
    "# Next on training for Saturday 4/17/2021\n",
    "# stocks = [x for x in start_dates2]\n",
    "# days_ahead = [1, 3, 5]\n",
    "# cv = 5\n",
    "# for stock in stocks:\n",
    "#     for days in days_ahead:\n",
    "#         X_train, X_test, y_train, y_test, stock_df = a.data(stock, start_dates[stock], days)\n",
    "#         a.rfc_GridSearch(X_train, y_train, stock, days, cv)\n",
    "# len(stocks)\n",
    "\n",
    "# Next on training for Saturday 4/17/2021\n",
    "# stocks = [x for x in start_dates3]\n",
    "# days_ahead = [1, 3, 5]\n",
    "# cv = 5\n",
    "# for stock in stocks:\n",
    "#     for days in days_ahead:\n",
    "#         X_train, X_test, y_train, y_test, stock_df = a.data(stock, start_dates[stock], days)\n",
    "#         a.rfc_GridSearch(X_train, y_train, stock, days, cv)\n",
    "# len(stocks)\n",
    "\n",
    "# # Train all, takes 15+ hours\n",
    "# stocks = [x for x in start_dates]\n",
    "# days_ahead = [1, 3, 5]\n",
    "# cv = 5\n",
    "# for stock in stocks:\n",
    "#     for days in days_ahead:\n",
    "#         X_train, X_test, y_train, y_test, stock_df = a.data(stock, start_dates[stock], days)\n",
    "#         a.rfc_GridSearch(X_train, y_train, stock, days, cv)\n",
    "# len(stocks)\n",
    "\n",
    "# Train desired stocks...takes less time (4 will take 24 hours, each stock is 6 hours to train)\n",
    "# import timeit \n",
    "# stocks = ['tsm',] # as of 2021-10-24, started 12:18pm PST\n",
    "# days_ahead = [5] # left out 1 and 3, one of these take 1 hour per security with cv = 3\n",
    "# cv = 3 # was 5 \n",
    "# for stock in stocks:\n",
    "#     for days in days_ahead:\n",
    "#         X_train, X_test, y_train, y_test, stock_df = a.data(stock, start_dates[stock], days)\n",
    "#         %timeit a.rfc_GridSearch(X_train, y_train, stock, days, cv)"
   ]
  },
  {
   "cell_type": "code",
   "execution_count": null,
   "metadata": {},
   "outputs": [],
   "source": []
  },
  {
   "cell_type": "code",
   "execution_count": null,
   "metadata": {},
   "outputs": [],
   "source": []
  },
  {
   "cell_type": "code",
   "execution_count": null,
   "metadata": {},
   "outputs": [],
   "source": []
  },
  {
   "cell_type": "markdown",
   "metadata": {},
   "source": [
    "### Display All Results"
   ]
  },
  {
   "cell_type": "code",
   "execution_count": 26,
   "metadata": {},
   "outputs": [
    {
     "name": "stdout",
     "output_type": "stream",
     "text": [
      "Today's date: 2021-10-27\n"
     ]
    }
   ],
   "source": [
    "print(\"Today's date:\", today)"
   ]
  },
  {
   "cell_type": "code",
   "execution_count": 27,
   "metadata": {
    "scrolled": false
   },
   "outputs": [
    {
     "name": "stdout",
     "output_type": "stream",
     "text": [
      "Sell or hold amzn 1 day(s) ahead\n",
      "Model Returns (x 100 for %): 1.369\n",
      "Stock Returns (x 100 for %): 234.9993\n"
     ]
    },
    {
     "data": {
      "image/png": "[encoded data removed]",
      "text/plain": [
       "<Figure size 432x288 with 1 Axes>"
      ]
     },
     "metadata": {},
     "output_type": "display_data"
    },
    {
     "data": {
      "image/png": "[encoded data removed]",
      "text/plain": [
       "<Figure size 648x504 with 1 Axes>"
      ]
     },
     "metadata": {},
     "output_type": "display_data"
    },
    {
     "data": {
      "image/png": "[encoded data removed]",
      "text/plain": [
       "<Figure size 648x504 with 1 Axes>"
      ]
     },
     "metadata": {},
     "output_type": "display_data"
    },
    {
     "data": {
      "image/png": "[encoded data removed]",
      "text/plain": [
       "<Figure size 684x612 with 2 Axes>"
      ]
     },
     "metadata": {},
     "output_type": "display_data"
    }
   ],
   "source": [
    "stock_name = 'amzn'\n",
    "a.all_func(stock_name\n",
    "           , start_dates[stock_name]\n",
    "           , days_ahead = 1\n",
    "           , model_name = model_name\n",
    "           , days_back = 1\n",
    "          )"
   ]
  },
  {
   "cell_type": "code",
   "execution_count": null,
   "metadata": {},
   "outputs": [],
   "source": []
  },
  {
   "cell_type": "code",
   "execution_count": null,
   "metadata": {},
   "outputs": [],
   "source": []
  },
  {
   "cell_type": "code",
   "execution_count": null,
   "metadata": {},
   "outputs": [],
   "source": []
  },
  {
   "cell_type": "markdown",
   "metadata": {},
   "source": [
    "### Data Frame of Predictions 1 3 5 Days"
   ]
  },
  {
   "cell_type": "code",
   "execution_count": 28,
   "metadata": {},
   "outputs": [
    {
     "name": "stdout",
     "output_type": "stream",
     "text": [
      "Today's date: 2021-10-27\n"
     ]
    }
   ],
   "source": [
    "print(\"Today's date:\", today)"
   ]
  },
  {
   "cell_type": "code",
   "execution_count": 29,
   "metadata": {
    "scrolled": false
   },
   "outputs": [
    {
     "data": {
      "text/html": [
       "<div>\n",
       "<style scoped>\n",
       "    .dataframe tbody tr th:only-of-type {\n",
       "        vertical-align: middle;\n",
       "    }\n",
       "\n",
       "    .dataframe tbody tr th {\n",
       "        vertical-align: top;\n",
       "    }\n",
       "\n",
       "    .dataframe thead th {\n",
       "        text-align: right;\n",
       "    }\n",
       "</style>\n",
       "<table border=\"1\" class=\"dataframe\">\n",
       "  <thead>\n",
       "    <tr style=\"text-align: right;\">\n",
       "      <th></th>\n",
       "      <th>stock</th>\n",
       "      <th>1_Day_Pred</th>\n",
       "      <th>1_Day_Model_Return</th>\n",
       "      <th>3_Day_Pred</th>\n",
       "      <th>3_Day_Model_Return</th>\n",
       "      <th>5_Day_Pred</th>\n",
       "      <th>5_Day_Model_Return</th>\n",
       "      <th>Actual_Returns</th>\n",
       "    </tr>\n",
       "  </thead>\n",
       "  <tbody>\n",
       "    <tr>\n",
       "      <th>0</th>\n",
       "      <td>a</td>\n",
       "      <td>Buy</td>\n",
       "      <td>1.7896</td>\n",
       "      <td>Buy</td>\n",
       "      <td>2.1242</td>\n",
       "      <td>Buy</td>\n",
       "      <td>2.3162</td>\n",
       "      <td>16.5531</td>\n",
       "    </tr>\n",
       "    <tr>\n",
       "      <th>1</th>\n",
       "      <td>aapl</td>\n",
       "      <td>Buy</td>\n",
       "      <td>4.8736</td>\n",
       "      <td>Buy</td>\n",
       "      <td>4.3641</td>\n",
       "      <td>Buy</td>\n",
       "      <td>3.8901</td>\n",
       "      <td>693.5137</td>\n",
       "    </tr>\n",
       "    <tr>\n",
       "      <th>2</th>\n",
       "      <td>acy</td>\n",
       "      <td>Hold or Sell</td>\n",
       "      <td>0.9544</td>\n",
       "      <td>Hold or Sell</td>\n",
       "      <td>0.5428</td>\n",
       "      <td>Hold or Sell</td>\n",
       "      <td>1.1413</td>\n",
       "      <td>6.6339</td>\n",
       "    </tr>\n",
       "    <tr>\n",
       "      <th>3</th>\n",
       "      <td>adbe</td>\n",
       "      <td>Buy</td>\n",
       "      <td>4.7293</td>\n",
       "      <td>Buy</td>\n",
       "      <td>5.2656</td>\n",
       "      <td>Buy</td>\n",
       "      <td>4.8226</td>\n",
       "      <td>200.7405</td>\n",
       "    </tr>\n",
       "    <tr>\n",
       "      <th>4</th>\n",
       "      <td>alb</td>\n",
       "      <td>Buy</td>\n",
       "      <td>1.7872</td>\n",
       "      <td>Buy</td>\n",
       "      <td>1.7990</td>\n",
       "      <td>Buy</td>\n",
       "      <td>2.3925</td>\n",
       "      <td>27.0139</td>\n",
       "    </tr>\n",
       "    <tr>\n",
       "      <th>5</th>\n",
       "      <td>amat</td>\n",
       "      <td>Buy</td>\n",
       "      <td>9.9442</td>\n",
       "      <td>Buy</td>\n",
       "      <td>10.5686</td>\n",
       "      <td>Buy</td>\n",
       "      <td>8.9129</td>\n",
       "      <td>955.8685</td>\n",
       "    </tr>\n",
       "    <tr>\n",
       "      <th>6</th>\n",
       "      <td>amd</td>\n",
       "      <td>Hold or Sell</td>\n",
       "      <td>33.4554</td>\n",
       "      <td>Hold or Sell</td>\n",
       "      <td>30.1792</td>\n",
       "      <td>Hold or Sell</td>\n",
       "      <td>46.8978</td>\n",
       "      <td>12.4005</td>\n",
       "    </tr>\n",
       "    <tr>\n",
       "      <th>7</th>\n",
       "      <td>amgn</td>\n",
       "      <td>Buy</td>\n",
       "      <td>2.0597</td>\n",
       "      <td>Buy</td>\n",
       "      <td>1.8072</td>\n",
       "      <td>Buy</td>\n",
       "      <td>1.9749</td>\n",
       "      <td>317.9043</td>\n",
       "    </tr>\n",
       "    <tr>\n",
       "      <th>8</th>\n",
       "      <td>amzn</td>\n",
       "      <td>Hold or Sell</td>\n",
       "      <td>1.4016</td>\n",
       "      <td>Hold or Sell</td>\n",
       "      <td>1.5201</td>\n",
       "      <td>Buy</td>\n",
       "      <td>1.2619</td>\n",
       "      <td>234.9993</td>\n",
       "    </tr>\n",
       "    <tr>\n",
       "      <th>9</th>\n",
       "      <td>baba</td>\n",
       "      <td>Hold or Sell</td>\n",
       "      <td>0.7927</td>\n",
       "      <td>Hold or Sell</td>\n",
       "      <td>0.9969</td>\n",
       "      <td>Hold or Sell</td>\n",
       "      <td>0.8814</td>\n",
       "      <td>1.0795</td>\n",
       "    </tr>\n",
       "    <tr>\n",
       "      <th>10</th>\n",
       "      <td>bac</td>\n",
       "      <td>Buy</td>\n",
       "      <td>2.0869</td>\n",
       "      <td>Buy</td>\n",
       "      <td>1.9922</td>\n",
       "      <td>Buy</td>\n",
       "      <td>3.1196</td>\n",
       "      <td>69.3598</td>\n",
       "    </tr>\n",
       "    <tr>\n",
       "      <th>11</th>\n",
       "      <td>bpmc</td>\n",
       "      <td>Buy</td>\n",
       "      <td>0.8096</td>\n",
       "      <td>Hold or Sell</td>\n",
       "      <td>0.7733</td>\n",
       "      <td>Hold or Sell</td>\n",
       "      <td>0.8977</td>\n",
       "      <td>5.3350</td>\n",
       "    </tr>\n",
       "    <tr>\n",
       "      <th>12</th>\n",
       "      <td>crm</td>\n",
       "      <td>Buy</td>\n",
       "      <td>1.3573</td>\n",
       "      <td>Buy</td>\n",
       "      <td>1.4636</td>\n",
       "      <td>Buy</td>\n",
       "      <td>1.7897</td>\n",
       "      <td>25.2356</td>\n",
       "    </tr>\n",
       "    <tr>\n",
       "      <th>13</th>\n",
       "      <td>dq</td>\n",
       "      <td>Hold or Sell</td>\n",
       "      <td>4.4389</td>\n",
       "      <td>Hold or Sell</td>\n",
       "      <td>6.8646</td>\n",
       "      <td>Hold or Sell</td>\n",
       "      <td>4.5325</td>\n",
       "      <td>88.6706</td>\n",
       "    </tr>\n",
       "    <tr>\n",
       "      <th>14</th>\n",
       "      <td>esgv</td>\n",
       "      <td>Buy</td>\n",
       "      <td>1.0122</td>\n",
       "      <td>Buy</td>\n",
       "      <td>1.0440</td>\n",
       "      <td>Buy</td>\n",
       "      <td>1.0339</td>\n",
       "      <td>0.7363</td>\n",
       "    </tr>\n",
       "  </tbody>\n",
       "</table>\n",
       "</div>"
      ],
      "text/plain": [
       "   stock    1_Day_Pred  1_Day_Model_Return    3_Day_Pred  3_Day_Model_Return  \\\n",
       "0      a           Buy              1.7896           Buy              2.1242   \n",
       "1   aapl           Buy              4.8736           Buy              4.3641   \n",
       "2    acy  Hold or Sell              0.9544  Hold or Sell              0.5428   \n",
       "3   adbe           Buy              4.7293           Buy              5.2656   \n",
       "4    alb           Buy              1.7872           Buy              1.7990   \n",
       "5   amat           Buy              9.9442           Buy             10.5686   \n",
       "6    amd  Hold or Sell             33.4554  Hold or Sell             30.1792   \n",
       "7   amgn           Buy              2.0597           Buy              1.8072   \n",
       "8   amzn  Hold or Sell              1.4016  Hold or Sell              1.5201   \n",
       "9   baba  Hold or Sell              0.7927  Hold or Sell              0.9969   \n",
       "10   bac           Buy              2.0869           Buy              1.9922   \n",
       "11  bpmc           Buy              0.8096  Hold or Sell              0.7733   \n",
       "12   crm           Buy              1.3573           Buy              1.4636   \n",
       "13    dq  Hold or Sell              4.4389  Hold or Sell              6.8646   \n",
       "14  esgv           Buy              1.0122           Buy              1.0440   \n",
       "\n",
       "      5_Day_Pred  5_Day_Model_Return  Actual_Returns  \n",
       "0            Buy              2.3162         16.5531  \n",
       "1            Buy              3.8901        693.5137  \n",
       "2   Hold or Sell              1.1413          6.6339  \n",
       "3            Buy              4.8226        200.7405  \n",
       "4            Buy              2.3925         27.0139  \n",
       "5            Buy              8.9129        955.8685  \n",
       "6   Hold or Sell             46.8978         12.4005  \n",
       "7            Buy              1.9749        317.9043  \n",
       "8            Buy              1.2619        234.9993  \n",
       "9   Hold or Sell              0.8814          1.0795  \n",
       "10           Buy              3.1196         69.3598  \n",
       "11  Hold or Sell              0.8977          5.3350  \n",
       "12           Buy              1.7897         25.2356  \n",
       "13  Hold or Sell              4.5325         88.6706  \n",
       "14           Buy              1.0339          0.7363  "
      ]
     },
     "execution_count": 29,
     "metadata": {},
     "output_type": "execute_result"
    }
   ],
   "source": [
    "summary_df = a.pred_summary_df(start_dates1, stocks = [x for x in start_dates1], days_back = 1)\n",
    "summary_df"
   ]
  },
  {
   "cell_type": "code",
   "execution_count": 30,
   "metadata": {},
   "outputs": [
    {
     "data": {
      "text/plain": [
       "(1.7896, 1.8072, 2.3162, 27.0139)"
      ]
     },
     "execution_count": 30,
     "metadata": {},
     "output_type": "execute_result"
    }
   ],
   "source": [
    "summary_df['1_Day_Model_Return'].median(), summary_df['3_Day_Model_Return'].median(), summary_df['5_Day_Model_Return'].median(), summary_df['Actual_Returns'].median()"
   ]
  },
  {
   "cell_type": "code",
   "execution_count": null,
   "metadata": {},
   "outputs": [],
   "source": []
  },
  {
   "cell_type": "code",
   "execution_count": 31,
   "metadata": {
    "scrolled": false
   },
   "outputs": [
    {
     "data": {
      "text/html": [
       "<div>\n",
       "<style scoped>\n",
       "    .dataframe tbody tr th:only-of-type {\n",
       "        vertical-align: middle;\n",
       "    }\n",
       "\n",
       "    .dataframe tbody tr th {\n",
       "        vertical-align: top;\n",
       "    }\n",
       "\n",
       "    .dataframe thead th {\n",
       "        text-align: right;\n",
       "    }\n",
       "</style>\n",
       "<table border=\"1\" class=\"dataframe\">\n",
       "  <thead>\n",
       "    <tr style=\"text-align: right;\">\n",
       "      <th></th>\n",
       "      <th>stock</th>\n",
       "      <th>1_Day_Pred</th>\n",
       "      <th>1_Day_Model_Return</th>\n",
       "      <th>3_Day_Pred</th>\n",
       "      <th>3_Day_Model_Return</th>\n",
       "      <th>5_Day_Pred</th>\n",
       "      <th>5_Day_Model_Return</th>\n",
       "      <th>Actual_Returns</th>\n",
       "    </tr>\n",
       "  </thead>\n",
       "  <tbody>\n",
       "    <tr>\n",
       "      <th>0</th>\n",
       "      <td>fslr</td>\n",
       "      <td>Buy</td>\n",
       "      <td>1.7075</td>\n",
       "      <td>Buy</td>\n",
       "      <td>2.4207</td>\n",
       "      <td>Buy</td>\n",
       "      <td>1.8424</td>\n",
       "      <td>-0.1172</td>\n",
       "    </tr>\n",
       "    <tr>\n",
       "      <th>1</th>\n",
       "      <td>goog</td>\n",
       "      <td>Hold or Sell</td>\n",
       "      <td>2.9722</td>\n",
       "      <td>Hold or Sell</td>\n",
       "      <td>3.1844</td>\n",
       "      <td>Hold or Sell</td>\n",
       "      <td>3.3124</td>\n",
       "      <td>11.4345</td>\n",
       "    </tr>\n",
       "    <tr>\n",
       "      <th>2</th>\n",
       "      <td>ibm</td>\n",
       "      <td>Buy</td>\n",
       "      <td>0.9895</td>\n",
       "      <td>Buy</td>\n",
       "      <td>1.7919</td>\n",
       "      <td>Buy</td>\n",
       "      <td>1.1646</td>\n",
       "      <td>28.8046</td>\n",
       "    </tr>\n",
       "    <tr>\n",
       "      <th>3</th>\n",
       "      <td>intc</td>\n",
       "      <td>Buy</td>\n",
       "      <td>3.6158</td>\n",
       "      <td>Buy</td>\n",
       "      <td>3.4566</td>\n",
       "      <td>Buy</td>\n",
       "      <td>3.6673</td>\n",
       "      <td>175.6195</td>\n",
       "    </tr>\n",
       "    <tr>\n",
       "      <th>4</th>\n",
       "      <td>iyw</td>\n",
       "      <td>Hold or Sell</td>\n",
       "      <td>2.2110</td>\n",
       "      <td>Hold or Sell</td>\n",
       "      <td>2.9745</td>\n",
       "      <td>Hold or Sell</td>\n",
       "      <td>2.1071</td>\n",
       "      <td>9.8907</td>\n",
       "    </tr>\n",
       "    <tr>\n",
       "      <th>5</th>\n",
       "      <td>ll</td>\n",
       "      <td>Buy</td>\n",
       "      <td>0.5461</td>\n",
       "      <td>Buy</td>\n",
       "      <td>0.6981</td>\n",
       "      <td>Hold or Sell</td>\n",
       "      <td>0.9288</td>\n",
       "      <td>-0.2882</td>\n",
       "    </tr>\n",
       "    <tr>\n",
       "      <th>6</th>\n",
       "      <td>lng</td>\n",
       "      <td>Buy</td>\n",
       "      <td>1.9568</td>\n",
       "      <td>Buy</td>\n",
       "      <td>1.8968</td>\n",
       "      <td>Buy</td>\n",
       "      <td>1.5294</td>\n",
       "      <td>27.1543</td>\n",
       "    </tr>\n",
       "    <tr>\n",
       "      <th>7</th>\n",
       "      <td>ma</td>\n",
       "      <td>Buy</td>\n",
       "      <td>1.4379</td>\n",
       "      <td>Buy</td>\n",
       "      <td>1.3053</td>\n",
       "      <td>Buy</td>\n",
       "      <td>1.3147</td>\n",
       "      <td>19.5601</td>\n",
       "    </tr>\n",
       "    <tr>\n",
       "      <th>8</th>\n",
       "      <td>mdb</td>\n",
       "      <td>Buy</td>\n",
       "      <td>1.2664</td>\n",
       "      <td>Buy</td>\n",
       "      <td>1.1848</td>\n",
       "      <td>Buy</td>\n",
       "      <td>1.2044</td>\n",
       "      <td>8.3164</td>\n",
       "    </tr>\n",
       "    <tr>\n",
       "      <th>9</th>\n",
       "      <td>msft</td>\n",
       "      <td>Hold or Sell</td>\n",
       "      <td>7.3709</td>\n",
       "      <td>Hold or Sell</td>\n",
       "      <td>7.9097</td>\n",
       "      <td>Hold or Sell</td>\n",
       "      <td>8.2794</td>\n",
       "      <td>328.2090</td>\n",
       "    </tr>\n",
       "    <tr>\n",
       "      <th>10</th>\n",
       "      <td>mu</td>\n",
       "      <td>Buy</td>\n",
       "      <td>3.8584</td>\n",
       "      <td>Buy</td>\n",
       "      <td>4.1671</td>\n",
       "      <td>Hold or Sell</td>\n",
       "      <td>3.1371</td>\n",
       "      <td>82.2034</td>\n",
       "    </tr>\n",
       "    <tr>\n",
       "      <th>11</th>\n",
       "      <td>nee</td>\n",
       "      <td>Buy</td>\n",
       "      <td>2.2143</td>\n",
       "      <td>Buy</td>\n",
       "      <td>2.2664</td>\n",
       "      <td>Buy</td>\n",
       "      <td>2.4260</td>\n",
       "      <td>284.3375</td>\n",
       "    </tr>\n",
       "    <tr>\n",
       "      <th>12</th>\n",
       "      <td>nio</td>\n",
       "      <td>Buy</td>\n",
       "      <td>0.9888</td>\n",
       "      <td>Buy</td>\n",
       "      <td>1.1759</td>\n",
       "      <td>Hold or Sell</td>\n",
       "      <td>1.0827</td>\n",
       "      <td>6.5451</td>\n",
       "    </tr>\n",
       "    <tr>\n",
       "      <th>13</th>\n",
       "      <td>nvda</td>\n",
       "      <td>Buy</td>\n",
       "      <td>4.4541</td>\n",
       "      <td>Hold or Sell</td>\n",
       "      <td>4.1136</td>\n",
       "      <td>Buy</td>\n",
       "      <td>4.0976</td>\n",
       "      <td>198.6060</td>\n",
       "    </tr>\n",
       "    <tr>\n",
       "      <th>14</th>\n",
       "      <td>pacb</td>\n",
       "      <td>Buy</td>\n",
       "      <td>2.2533</td>\n",
       "      <td>Buy</td>\n",
       "      <td>2.1129</td>\n",
       "      <td>Buy</td>\n",
       "      <td>1.9056</td>\n",
       "      <td>11.6287</td>\n",
       "    </tr>\n",
       "  </tbody>\n",
       "</table>\n",
       "</div>"
      ],
      "text/plain": [
       "   stock    1_Day_Pred  1_Day_Model_Return    3_Day_Pred  3_Day_Model_Return  \\\n",
       "0   fslr           Buy              1.7075           Buy              2.4207   \n",
       "1   goog  Hold or Sell              2.9722  Hold or Sell              3.1844   \n",
       "2    ibm           Buy              0.9895           Buy              1.7919   \n",
       "3   intc           Buy              3.6158           Buy              3.4566   \n",
       "4    iyw  Hold or Sell              2.2110  Hold or Sell              2.9745   \n",
       "5     ll           Buy              0.5461           Buy              0.6981   \n",
       "6    lng           Buy              1.9568           Buy              1.8968   \n",
       "7     ma           Buy              1.4379           Buy              1.3053   \n",
       "8    mdb           Buy              1.2664           Buy              1.1848   \n",
       "9   msft  Hold or Sell              7.3709  Hold or Sell              7.9097   \n",
       "10    mu           Buy              3.8584           Buy              4.1671   \n",
       "11   nee           Buy              2.2143           Buy              2.2664   \n",
       "12   nio           Buy              0.9888           Buy              1.1759   \n",
       "13  nvda           Buy              4.4541  Hold or Sell              4.1136   \n",
       "14  pacb           Buy              2.2533           Buy              2.1129   \n",
       "\n",
       "      5_Day_Pred  5_Day_Model_Return  Actual_Returns  \n",
       "0            Buy              1.8424         -0.1172  \n",
       "1   Hold or Sell              3.3124         11.4345  \n",
       "2            Buy              1.1646         28.8046  \n",
       "3            Buy              3.6673        175.6195  \n",
       "4   Hold or Sell              2.1071          9.8907  \n",
       "5   Hold or Sell              0.9288         -0.2882  \n",
       "6            Buy              1.5294         27.1543  \n",
       "7            Buy              1.3147         19.5601  \n",
       "8            Buy              1.2044          8.3164  \n",
       "9   Hold or Sell              8.2794        328.2090  \n",
       "10  Hold or Sell              3.1371         82.2034  \n",
       "11           Buy              2.4260        284.3375  \n",
       "12  Hold or Sell              1.0827          6.5451  \n",
       "13           Buy              4.0976        198.6060  \n",
       "14           Buy              1.9056         11.6287  "
      ]
     },
     "execution_count": 31,
     "metadata": {},
     "output_type": "execute_result"
    }
   ],
   "source": [
    "summary_df = a.pred_summary_df(start_dates2, stocks = [x for x in start_dates2], days_back = 1)\n",
    "summary_df"
   ]
  },
  {
   "cell_type": "code",
   "execution_count": 32,
   "metadata": {},
   "outputs": [
    {
     "data": {
      "text/plain": [
       "(2.211, 2.2664, 1.9056, 19.5601)"
      ]
     },
     "execution_count": 32,
     "metadata": {},
     "output_type": "execute_result"
    }
   ],
   "source": [
    "summary_df['1_Day_Model_Return'].median(), summary_df['3_Day_Model_Return'].median(), summary_df['5_Day_Model_Return'].median(), summary_df['Actual_Returns'].median()"
   ]
  },
  {
   "cell_type": "code",
   "execution_count": null,
   "metadata": {},
   "outputs": [],
   "source": []
  },
  {
   "cell_type": "code",
   "execution_count": 33,
   "metadata": {
    "scrolled": false
   },
   "outputs": [
    {
     "data": {
      "text/html": [
       "<div>\n",
       "<style scoped>\n",
       "    .dataframe tbody tr th:only-of-type {\n",
       "        vertical-align: middle;\n",
       "    }\n",
       "\n",
       "    .dataframe tbody tr th {\n",
       "        vertical-align: top;\n",
       "    }\n",
       "\n",
       "    .dataframe thead th {\n",
       "        text-align: right;\n",
       "    }\n",
       "</style>\n",
       "<table border=\"1\" class=\"dataframe\">\n",
       "  <thead>\n",
       "    <tr style=\"text-align: right;\">\n",
       "      <th></th>\n",
       "      <th>stock</th>\n",
       "      <th>1_Day_Pred</th>\n",
       "      <th>1_Day_Model_Return</th>\n",
       "      <th>3_Day_Pred</th>\n",
       "      <th>3_Day_Model_Return</th>\n",
       "      <th>5_Day_Pred</th>\n",
       "      <th>5_Day_Model_Return</th>\n",
       "      <th>Actual_Returns</th>\n",
       "    </tr>\n",
       "  </thead>\n",
       "  <tbody>\n",
       "    <tr>\n",
       "      <th>0</th>\n",
       "      <td>pypl</td>\n",
       "      <td>Buy</td>\n",
       "      <td>1.0166</td>\n",
       "      <td>Buy</td>\n",
       "      <td>0.9639</td>\n",
       "      <td>Buy</td>\n",
       "      <td>1.0466</td>\n",
       "      <td>5.0567</td>\n",
       "    </tr>\n",
       "    <tr>\n",
       "      <th>1</th>\n",
       "      <td>qgen</td>\n",
       "      <td>Buy</td>\n",
       "      <td>1.3577</td>\n",
       "      <td>Buy</td>\n",
       "      <td>1.6105</td>\n",
       "      <td>Buy</td>\n",
       "      <td>1.6233</td>\n",
       "      <td>0.5905</td>\n",
       "    </tr>\n",
       "    <tr>\n",
       "      <th>2</th>\n",
       "      <td>run</td>\n",
       "      <td>Buy</td>\n",
       "      <td>1.0524</td>\n",
       "      <td>Buy</td>\n",
       "      <td>1.0461</td>\n",
       "      <td>Buy</td>\n",
       "      <td>0.9684</td>\n",
       "      <td>8.7482</td>\n",
       "    </tr>\n",
       "    <tr>\n",
       "      <th>3</th>\n",
       "      <td>okta</td>\n",
       "      <td>Buy</td>\n",
       "      <td>1.0695</td>\n",
       "      <td>Buy</td>\n",
       "      <td>0.9436</td>\n",
       "      <td>Buy</td>\n",
       "      <td>0.9725</td>\n",
       "      <td>8.4308</td>\n",
       "    </tr>\n",
       "    <tr>\n",
       "      <th>4</th>\n",
       "      <td>orcl</td>\n",
       "      <td>Buy</td>\n",
       "      <td>2.2121</td>\n",
       "      <td>Buy</td>\n",
       "      <td>2.5299</td>\n",
       "      <td>Buy</td>\n",
       "      <td>2.4592</td>\n",
       "      <td>495.7502</td>\n",
       "    </tr>\n",
       "    <tr>\n",
       "      <th>5</th>\n",
       "      <td>qqq</td>\n",
       "      <td>Hold or Sell</td>\n",
       "      <td>2.0527</td>\n",
       "      <td>Buy</td>\n",
       "      <td>2.1597</td>\n",
       "      <td>Hold or Sell</td>\n",
       "      <td>2.2732</td>\n",
       "      <td>17.4171</td>\n",
       "    </tr>\n",
       "    <tr>\n",
       "      <th>6</th>\n",
       "      <td>srpt</td>\n",
       "      <td>Buy</td>\n",
       "      <td>0.6156</td>\n",
       "      <td>Buy</td>\n",
       "      <td>1.8832</td>\n",
       "      <td>Buy</td>\n",
       "      <td>2.4678</td>\n",
       "      <td>1.1579</td>\n",
       "    </tr>\n",
       "    <tr>\n",
       "      <th>7</th>\n",
       "      <td>tsla</td>\n",
       "      <td>Buy</td>\n",
       "      <td>2.8321</td>\n",
       "      <td>Hold or Sell</td>\n",
       "      <td>3.2154</td>\n",
       "      <td>Hold or Sell</td>\n",
       "      <td>3.3338</td>\n",
       "      <td>147.2657</td>\n",
       "    </tr>\n",
       "    <tr>\n",
       "      <th>8</th>\n",
       "      <td>tsm</td>\n",
       "      <td>Hold or Sell</td>\n",
       "      <td>4.1119</td>\n",
       "      <td>Buy</td>\n",
       "      <td>4.8510</td>\n",
       "      <td>Hold or Sell</td>\n",
       "      <td>3.6030</td>\n",
       "      <td>19.6172</td>\n",
       "    </tr>\n",
       "    <tr>\n",
       "      <th>9</th>\n",
       "      <td>v</td>\n",
       "      <td>Buy</td>\n",
       "      <td>1.4712</td>\n",
       "      <td>Buy</td>\n",
       "      <td>1.4950</td>\n",
       "      <td>Buy</td>\n",
       "      <td>1.6163</td>\n",
       "      <td>9.3768</td>\n",
       "    </tr>\n",
       "    <tr>\n",
       "      <th>10</th>\n",
       "      <td>vbiv</td>\n",
       "      <td>Buy</td>\n",
       "      <td>2.0207</td>\n",
       "      <td>Buy</td>\n",
       "      <td>3.2482</td>\n",
       "      <td>Buy</td>\n",
       "      <td>3.3287</td>\n",
       "      <td>-0.9265</td>\n",
       "    </tr>\n",
       "    <tr>\n",
       "      <th>11</th>\n",
       "      <td>vbr</td>\n",
       "      <td>Buy</td>\n",
       "      <td>1.5230</td>\n",
       "      <td>Buy</td>\n",
       "      <td>1.4357</td>\n",
       "      <td>Buy</td>\n",
       "      <td>1.7045</td>\n",
       "      <td>2.4834</td>\n",
       "    </tr>\n",
       "    <tr>\n",
       "      <th>12</th>\n",
       "      <td>viov</td>\n",
       "      <td>Buy</td>\n",
       "      <td>1.7641</td>\n",
       "      <td>Buy</td>\n",
       "      <td>1.9761</td>\n",
       "      <td>Buy</td>\n",
       "      <td>1.7983</td>\n",
       "      <td>2.3952</td>\n",
       "    </tr>\n",
       "    <tr>\n",
       "      <th>13</th>\n",
       "      <td>vgt</td>\n",
       "      <td>Buy</td>\n",
       "      <td>1.8051</td>\n",
       "      <td>Buy</td>\n",
       "      <td>2.0874</td>\n",
       "      <td>Buy</td>\n",
       "      <td>2.0614</td>\n",
       "      <td>8.5941</td>\n",
       "    </tr>\n",
       "    <tr>\n",
       "      <th>14</th>\n",
       "      <td>xlk</td>\n",
       "      <td>Buy</td>\n",
       "      <td>2.4247</td>\n",
       "      <td>Buy</td>\n",
       "      <td>2.4233</td>\n",
       "      <td>Buy</td>\n",
       "      <td>1.9228</td>\n",
       "      <td>12.0505</td>\n",
       "    </tr>\n",
       "  </tbody>\n",
       "</table>\n",
       "</div>"
      ],
      "text/plain": [
       "   stock    1_Day_Pred  1_Day_Model_Return    3_Day_Pred  3_Day_Model_Return  \\\n",
       "0   pypl           Buy              1.0166           Buy              0.9639   \n",
       "1   qgen           Buy              1.3577           Buy              1.6105   \n",
       "2    run           Buy              1.0524           Buy              1.0461   \n",
       "3   okta           Buy              1.0695           Buy              0.9436   \n",
       "4   orcl           Buy              2.2121           Buy              2.5299   \n",
       "5    qqq  Hold or Sell              2.0527           Buy              2.1597   \n",
       "6   srpt           Buy              0.6156           Buy              1.8832   \n",
       "7   tsla           Buy              2.8321  Hold or Sell              3.2154   \n",
       "8    tsm  Hold or Sell              4.1119           Buy              4.8510   \n",
       "9      v           Buy              1.4712           Buy              1.4950   \n",
       "10  vbiv           Buy              2.0207           Buy              3.2482   \n",
       "11   vbr           Buy              1.5230           Buy              1.4357   \n",
       "12  viov           Buy              1.7641           Buy              1.9761   \n",
       "13   vgt           Buy              1.8051           Buy              2.0874   \n",
       "14   xlk           Buy              2.4247           Buy              2.4233   \n",
       "\n",
       "      5_Day_Pred  5_Day_Model_Return  Actual_Returns  \n",
       "0            Buy              1.0466          5.0567  \n",
       "1            Buy              1.6233          0.5905  \n",
       "2            Buy              0.9684          8.7482  \n",
       "3            Buy              0.9725          8.4308  \n",
       "4            Buy              2.4592        495.7502  \n",
       "5   Hold or Sell              2.2732         17.4171  \n",
       "6            Buy              2.4678          1.1579  \n",
       "7   Hold or Sell              3.3338        147.2657  \n",
       "8   Hold or Sell              3.6030         19.6172  \n",
       "9            Buy              1.6163          9.3768  \n",
       "10           Buy              3.3287         -0.9265  \n",
       "11           Buy              1.7045          2.4834  \n",
       "12           Buy              1.7983          2.3952  \n",
       "13           Buy              2.0614          8.5941  \n",
       "14           Buy              1.9228         12.0505  "
      ]
     },
     "execution_count": 33,
     "metadata": {},
     "output_type": "execute_result"
    }
   ],
   "source": [
    "summary_df = a.pred_summary_df(start_dates3, stocks = [x for x in start_dates3], days_back = 1)\n",
    "summary_df"
   ]
  },
  {
   "cell_type": "code",
   "execution_count": null,
   "metadata": {},
   "outputs": [],
   "source": []
  },
  {
   "cell_type": "code",
   "execution_count": 34,
   "metadata": {},
   "outputs": [
    {
     "data": {
      "text/plain": [
       "(1.7641, 1.9761, 1.9228, 8.5941)"
      ]
     },
     "execution_count": 34,
     "metadata": {},
     "output_type": "execute_result"
    }
   ],
   "source": [
    "summary_df['1_Day_Model_Return'].median(), summary_df['3_Day_Model_Return'].median(), summary_df['5_Day_Model_Return'].median(), summary_df['Actual_Returns'].median()"
   ]
  },
  {
   "cell_type": "code",
   "execution_count": null,
   "metadata": {},
   "outputs": [],
   "source": []
  },
  {
   "cell_type": "code",
   "execution_count": null,
   "metadata": {},
   "outputs": [],
   "source": []
  },
  {
   "cell_type": "code",
   "execution_count": null,
   "metadata": {},
   "outputs": [],
   "source": [
    "    "
   ]
  },
  {
   "cell_type": "code",
   "execution_count": null,
   "metadata": {},
   "outputs": [],
   "source": []
  }
 ],
 "metadata": {
  "kernelspec": {
   "display_name": "Python 3",
   "language": "python",
   "name": "python3"
  },
  "language_info": {
   "codemirror_mode": {
    "name": "ipython",
    "version": 3
   },
   "file_extension": ".py",
   "mimetype": "text/x-python",
   "name": "python",
   "nbconvert_exporter": "python",
   "pygments_lexer": "ipython3",
   "version": "3.8.10"
  }
 },
 "nbformat": 4,
 "nbformat_minor": 4
}
