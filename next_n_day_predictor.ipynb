{
 "cells": [
  {
   "cell_type": "code",
   "execution_count": 1,
   "metadata": {
    "scrolled": true
   },
   "outputs": [],
   "source": [
    "from src import attributes as a\n",
    "%load_ext autoreload\n",
    "%autoreload 2"
   ]
  },
  {
   "cell_type": "code",
   "execution_count": 2,
   "metadata": {},
   "outputs": [],
   "source": [
    "# Global Variables\n",
    "stock_name = 'msft' # ticker symbol\n",
    "train = 0 # 1 for train, 0 for pass\n",
    "days_ahead = 1 # for predicting 1, 3, or 5 days ahead\n",
    "days_back = -1 # -1 for current data point, -2 for two days ago, etc...\n",
    "cv = 5 # number of cross validation folds\n",
    "model_name = 'Random Forest Classifier' # for display on charts, not a tuning parameter"
   ]
  },
  {
   "cell_type": "code",
   "execution_count": 3,
   "metadata": {},
   "outputs": [],
   "source": [
    "# Extract, Transform, Load, and Train Test Split\n",
    "# Dictionary of IPO Dates\n",
    "start_dates = {'a': '11/15/1999' # Updated 1/10/21 1D, 3D, 5D ahead\n",
    "               , 'aapl':'12/12/1980' # Updated 1/10/21 1D, 3D, 5D ahead\n",
    "               , 'acy': '01/18/1998' # Updated 1/10/21 1D, 3D, 5D ahead\n",
    "               , 'adbe': '08/11/1986' # Updated 1/10/21 1D, 3D, 5D ahead\n",
    "               , 'amat': '03/16/1980' # Updated 1/10/21 1D, 3D, 5D ahead\n",
    "               , 'amd': '03/17/1980' # Updated 1/10/21 1D, 3D, 5D ahead\n",
    "               , 'amzn': '05/12/1997' # Updated 1/10/21 1D, 3D, 5D ahead\n",
    "               , 'baba': '09/15/2014' # Updated 1/10/21 1D, 3D, 5D ahead\n",
    "               , 'bac': '02/19/1973' # Updated 1/10/21 1D, 3D, 5D ahead\n",
    "               , 'crm': '06/23/2004' # Updated 1/10/21 1D, 3D, 5D ahead\n",
    "               , 'esgv': '09/16/2018' # Updated 1/10/21 1D, 3D, 5D ahead\n",
    "               , 'fslr': '11/12/2006' # Updated 1/10/21 1D, 3D, 5D ahead \n",
    "               , 'goog': '08/16/2004' # Updated 1/10/21 1D, 3D, 5D ahead\n",
    "               , 'ibm': '01/02/1962' # Updated 1/10/21 1D, 3D, 5D ahead\n",
    "               , 'idex': '05/23/2007' # Updated 1/10/21 1D, 3D, 5D ahead\n",
    "               , 'intc': '03/16/1980' # Updated 1/10/21 1D, 3D, 5D ahead\n",
    "               , 'iyw': '05/15/2000' # Updated 1/10/21 1D, 3D, 5D ahead\n",
    "               , 'ma': '05/21/2006' # Updated 1/10/21 1D, 3D, 5D ahead\n",
    "               , 'mdb': '10/15/2017' # Updated 1/10/21 1D, 3D, 5D ahead\n",
    "               , 'msft': '03/10/1986' # Updated 1/10/21 1D, 3D, 5D ahead\n",
    "               , 'mu': '05/28/1984' # Updated 1/10/21 1D, 3D, 5D ahead\n",
    "               , 'nio': '09/10/2018' # Updated 1/10/21 1D, 3D, 5D ahead\n",
    "               , 'nvda': '01/22/1999' # Updated 1/10/21 1D, 3D, 5D ahead\n",
    "               , 'pypl': '07/05/2015' # Updated 1/10/21 1D, 3D, 5D ahead\n",
    "               , 'orcl': '03/10/1986' # Updated 1/10/21 1D, 3D, 5D ahead\n",
    "               , 'qqq': '03/08/1999' # Updated 1/10/21 1D, 3D, 5D ahead\n",
    "               , 'tsla': '06/29/2010' # Updated 1/10/21 1D, 3D, 5D ahead\n",
    "               , 'v': '03/16/2008' # Updated 1/10/21 1D, 3D, 5D ahead\n",
    "               , 'vbiv': '09/04/2002' # Updated 1/10/21 1D, 3D, 5D ahead\n",
    "               , 'vbr': '01/26/2004' # Updated 1/10/21 1D, 3D, 5D ahead\n",
    "               , 'viov': '09/06/2010' # Updated 1/10/21 1D, 3D, 5D ahead\n",
    "               , 'vgt': '01/26/2004' # Updated 1/10/21 1D, 3D, 5D ahead\n",
    "               , 'xlk': '12/21/1998' # Updated 1/10/21 1D, 3D, 5D ahead\n",
    "              }"
   ]
  },
  {
   "cell_type": "code",
   "execution_count": null,
   "metadata": {},
   "outputs": [],
   "source": []
  },
  {
   "cell_type": "code",
   "execution_count": null,
   "metadata": {},
   "outputs": [],
   "source": []
  },
  {
   "cell_type": "code",
   "execution_count": null,
   "metadata": {},
   "outputs": [],
   "source": []
  },
  {
   "cell_type": "code",
   "execution_count": 4,
   "metadata": {},
   "outputs": [],
   "source": [
    "# X_train, X_test, y_train, y_test, stock_df = a.data(stock_name, start_dates[stock_name], days_ahead)\n",
    "# stock_df.tail(10)"
   ]
  },
  {
   "cell_type": "code",
   "execution_count": 5,
   "metadata": {
    "scrolled": false
   },
   "outputs": [],
   "source": [
    "# GridSerach to find best hyperparameters to prevent overfitting, can be commented out once trained\n",
    "# if train == 1:\n",
    "#     a.rfc_GridSearch(X_train, y_train, stock_name, days_ahead, cv)\n",
    "# elif train == 0:\n",
    "#     pass"
   ]
  },
  {
   "cell_type": "code",
   "execution_count": 6,
   "metadata": {},
   "outputs": [],
   "source": [
    "# Load RandomForextClassifier Model\n",
    "# rfc_model, y_pred, y_probs = a.rfc(X_train, X_test, y_train, stock_name, days_ahead)"
   ]
  },
  {
   "cell_type": "code",
   "execution_count": 7,
   "metadata": {
    "scrolled": false
   },
   "outputs": [],
   "source": [
    "# ROC Curve\n",
    "# a.roc_plot(y_test, y_probs, stock_name, model_name)"
   ]
  },
  {
   "cell_type": "code",
   "execution_count": 8,
   "metadata": {
    "scrolled": false
   },
   "outputs": [],
   "source": [
    "# Precision Recall Curve\n",
    "# a.prec_recall(y_test, y_probs, stock_name, model_name)"
   ]
  },
  {
   "cell_type": "code",
   "execution_count": 9,
   "metadata": {
    "scrolled": false
   },
   "outputs": [],
   "source": [
    "# Confusion Matrix\n",
    "# a.confusion_matrix(rfc_model, X_test, y_test, stock_name)"
   ]
  },
  {
   "cell_type": "code",
   "execution_count": 10,
   "metadata": {},
   "outputs": [],
   "source": [
    "# Cross Validation\n",
    "# a.cross_validation(rfc_model\n",
    "#                    , stock_df[['oc', 'hl', '5stdev_adj', '5sma_adj']]\n",
    "#                    , stock_df['direction']\n",
    "#                    , cv = 5\n",
    "#                   )"
   ]
  },
  {
   "cell_type": "markdown",
   "metadata": {},
   "source": [
    "### Prediction..."
   ]
  },
  {
   "cell_type": "code",
   "execution_count": 11,
   "metadata": {
    "scrolled": true
   },
   "outputs": [],
   "source": [
    "# Prediction, use last day of data\n",
    "# stock_df.iloc[-1]"
   ]
  },
  {
   "cell_type": "code",
   "execution_count": 12,
   "metadata": {},
   "outputs": [],
   "source": [
    "# import numpy as np\n",
    "# last = stock_df[['oc', 'hl', '5stdev_adj', '5sma_adj']].iloc[-days_back]\n",
    "# last"
   ]
  },
  {
   "cell_type": "code",
   "execution_count": 13,
   "metadata": {},
   "outputs": [],
   "source": [
    "# stock_df['adj'].describe()"
   ]
  },
  {
   "cell_type": "code",
   "execution_count": 14,
   "metadata": {
    "scrolled": true
   },
   "outputs": [],
   "source": [
    "# if rfc_model.predict(np.array(last).reshape(1, -1))[0] == 1:\n",
    "#     print(f'Buy {stock_name} {days_ahead} day(s) ahead')\n",
    "# else:\n",
    "#     print(f'Sell or hold {stock_name} {days_ahead} day(s) ahead')"
   ]
  },
  {
   "cell_type": "markdown",
   "metadata": {},
   "source": [
    "### Strategy Returns..."
   ]
  },
  {
   "cell_type": "code",
   "execution_count": 15,
   "metadata": {},
   "outputs": [],
   "source": [
    "# returns on strategy column\n",
    "# stock_df['prediction'] = rfc_model.predict(stock_df[['oc', 'hl', '5stdev_adj', '5sma_adj']])\n",
    "# stock_df['returns'] = stock_df['adj'].shift(-1, fill_value = stock_df['adj'].median()) * stock_df['prediction']"
   ]
  },
  {
   "cell_type": "code",
   "execution_count": 16,
   "metadata": {},
   "outputs": [],
   "source": [
    "# stock_df.tail(5)"
   ]
  },
  {
   "cell_type": "code",
   "execution_count": 17,
   "metadata": {},
   "outputs": [],
   "source": [
    "# Don't trade every day!\n",
    "# import matplotlib.pyplot as plt\n",
    "# test_length = len(y_test)\n",
    "# (stock_df['returns'][-test_length:] + 1).cumprod().plot()\n",
    "# plt.title(f'{stock_name} Expected Returns %');"
   ]
  },
  {
   "cell_type": "code",
   "execution_count": 18,
   "metadata": {},
   "outputs": [],
   "source": [
    "# Model returns if bought on predictions of 1\n",
    "# returns_on_ones = []\n",
    "# for idx in range(-test_length, 0):\n",
    "#     if stock_df['prediction'][idx] == 1:\n",
    "#         returns_on_ones.append(1 + stock_df['returns'][idx])\n",
    "\n",
    "# returns = 1\n",
    "# for x in returns_on_ones:\n",
    "#     returns *= x\n",
    "# returns"
   ]
  },
  {
   "cell_type": "code",
   "execution_count": 19,
   "metadata": {},
   "outputs": [],
   "source": [
    "# multiple times original investment, not bad but..."
   ]
  },
  {
   "cell_type": "code",
   "execution_count": 20,
   "metadata": {},
   "outputs": [],
   "source": [
    "# If purchased in 2012 and left it until now\n",
    "# test_idx = int(len(stock_df)*0.75)\n",
    "# (stock_df['Close'][-1] - stock_df['Close'][-test_idx]) / stock_df['Close'][-test_idx]"
   ]
  },
  {
   "cell_type": "code",
   "execution_count": 21,
   "metadata": {},
   "outputs": [],
   "source": [
    "# Buy and hold strategy beats RandomForestClassifier in this study\n",
    "\n",
    "# Special thanks to Shagufta Tahsildar at https://blog.quantinsti.com/random-forest-algorithm-in-python/"
   ]
  },
  {
   "cell_type": "code",
   "execution_count": null,
   "metadata": {},
   "outputs": [],
   "source": []
  },
  {
   "cell_type": "code",
   "execution_count": null,
   "metadata": {},
   "outputs": [],
   "source": []
  },
  {
   "cell_type": "code",
   "execution_count": null,
   "metadata": {},
   "outputs": [],
   "source": []
  },
  {
   "cell_type": "markdown",
   "metadata": {},
   "source": [
    "### Training"
   ]
  },
  {
   "cell_type": "code",
   "execution_count": 22,
   "metadata": {},
   "outputs": [],
   "source": [
    "# Train all...this takes a while, 12+ hours!\n",
    "# stocks = [x for x in start_dates]\n",
    "# days_ahead = [1, 3, 5]\n",
    "# cv = 5\n",
    "# for stock in stocks:\n",
    "#     for days in days_ahead:\n",
    "#         X_train, X_test, y_train, y_test, stock_df = a.data(stock, start_dates[stock], days)\n",
    "#         a.rfc_GridSearch(X_train, y_train, stock, days, cv)\n",
    "# len(stocks)\n",
    "#\n",
    "#\n",
    "# Train desired stocks...takes less time\n",
    "# stocks = ['mdb', 'qqq', 'xlk']\n",
    "# days_ahead = [1, 3, 5]\n",
    "# cv = 5\n",
    "# for stock in stocks:\n",
    "#     for days in days_ahead:\n",
    "#         X_train, X_test, y_train, y_test, stock_df = a.data(stock, start_dates[stock], days)\n",
    "#         a.rfc_GridSearch(X_train, y_train, stock, days, cv)"
   ]
  },
  {
   "cell_type": "markdown",
   "metadata": {},
   "source": [
    "### Display All Results"
   ]
  },
  {
   "cell_type": "code",
   "execution_count": 23,
   "metadata": {
    "scrolled": false
   },
   "outputs": [],
   "source": [
    "# stock_name = 'a'\n",
    "# a.all_func(stock_name\n",
    "#            , start_dates[stock_name]\n",
    "#            , days_ahead = 1\n",
    "#            , model_name = model_name\n",
    "#            , days_back = 1\n",
    "#           )"
   ]
  },
  {
   "cell_type": "code",
   "execution_count": null,
   "metadata": {},
   "outputs": [],
   "source": []
  },
  {
   "cell_type": "code",
   "execution_count": null,
   "metadata": {},
   "outputs": [],
   "source": []
  },
  {
   "cell_type": "code",
   "execution_count": null,
   "metadata": {},
   "outputs": [],
   "source": []
  },
  {
   "cell_type": "markdown",
   "metadata": {},
   "source": [
    "### Data Frame of Predictions 1 3 5 Days"
   ]
  },
  {
   "cell_type": "code",
   "execution_count": 24,
   "metadata": {},
   "outputs": [
    {
     "name": "stdout",
     "output_type": "stream",
     "text": [
      "Today's date: 2021-01-12\n"
     ]
    }
   ],
   "source": [
    "from datetime import date\n",
    "\n",
    "today = date.today()\n",
    "print(\"Today's date:\", today)"
   ]
  },
  {
   "cell_type": "code",
   "execution_count": 25,
   "metadata": {
    "scrolled": false
   },
   "outputs": [
    {
     "data": {
      "text/html": [
       "<div>\n",
       "<style scoped>\n",
       "    .dataframe tbody tr th:only-of-type {\n",
       "        vertical-align: middle;\n",
       "    }\n",
       "\n",
       "    .dataframe tbody tr th {\n",
       "        vertical-align: top;\n",
       "    }\n",
       "\n",
       "    .dataframe thead th {\n",
       "        text-align: right;\n",
       "    }\n",
       "</style>\n",
       "<table border=\"1\" class=\"dataframe\">\n",
       "  <thead>\n",
       "    <tr style=\"text-align: right;\">\n",
       "      <th></th>\n",
       "      <th>stock</th>\n",
       "      <th>1_Day_Pred</th>\n",
       "      <th>1_Day_Model_Return</th>\n",
       "      <th>3_Day_Pred</th>\n",
       "      <th>3_Day_Model_Return</th>\n",
       "      <th>5_Day_Pred</th>\n",
       "      <th>5_Day_Model_Return</th>\n",
       "      <th>Actual_Returns</th>\n",
       "    </tr>\n",
       "  </thead>\n",
       "  <tbody>\n",
       "    <tr>\n",
       "      <th>0</th>\n",
       "      <td>a</td>\n",
       "      <td>Hold or Sell</td>\n",
       "      <td>3.4483</td>\n",
       "      <td>Hold or Sell</td>\n",
       "      <td>3.9073</td>\n",
       "      <td>Hold or Sell</td>\n",
       "      <td>3.9377</td>\n",
       "      <td>6.5233</td>\n",
       "    </tr>\n",
       "    <tr>\n",
       "      <th>1</th>\n",
       "      <td>aapl</td>\n",
       "      <td>Buy</td>\n",
       "      <td>4.2584</td>\n",
       "      <td>Hold or Sell</td>\n",
       "      <td>3.3838</td>\n",
       "      <td>Buy</td>\n",
       "      <td>4.8805</td>\n",
       "      <td>339.5464</td>\n",
       "    </tr>\n",
       "    <tr>\n",
       "      <th>2</th>\n",
       "      <td>acy</td>\n",
       "      <td>Buy</td>\n",
       "      <td>0.4545</td>\n",
       "      <td>Buy</td>\n",
       "      <td>0.4479</td>\n",
       "      <td>Buy</td>\n",
       "      <td>0.6112</td>\n",
       "      <td>1.4444</td>\n",
       "    </tr>\n",
       "    <tr>\n",
       "      <th>3</th>\n",
       "      <td>adbe</td>\n",
       "      <td>Buy</td>\n",
       "      <td>7.0482</td>\n",
       "      <td>Buy</td>\n",
       "      <td>5.2480</td>\n",
       "      <td>Buy</td>\n",
       "      <td>7.1261</td>\n",
       "      <td>98.6568</td>\n",
       "    </tr>\n",
       "    <tr>\n",
       "      <th>4</th>\n",
       "      <td>amat</td>\n",
       "      <td>Hold or Sell</td>\n",
       "      <td>5.0701</td>\n",
       "      <td>Hold or Sell</td>\n",
       "      <td>6.6657</td>\n",
       "      <td>Hold or Sell</td>\n",
       "      <td>5.8694</td>\n",
       "      <td>169.2484</td>\n",
       "    </tr>\n",
       "    <tr>\n",
       "      <th>5</th>\n",
       "      <td>amd</td>\n",
       "      <td>Hold or Sell</td>\n",
       "      <td>6.8137</td>\n",
       "      <td>Hold or Sell</td>\n",
       "      <td>6.2464</td>\n",
       "      <td>Hold or Sell</td>\n",
       "      <td>8.3124</td>\n",
       "      <td>16.1945</td>\n",
       "    </tr>\n",
       "    <tr>\n",
       "      <th>6</th>\n",
       "      <td>amzn</td>\n",
       "      <td>Buy</td>\n",
       "      <td>3.9958</td>\n",
       "      <td>Buy</td>\n",
       "      <td>3.9801</td>\n",
       "      <td>Buy</td>\n",
       "      <td>4.1588</td>\n",
       "      <td>123.2848</td>\n",
       "    </tr>\n",
       "    <tr>\n",
       "      <th>7</th>\n",
       "      <td>baba</td>\n",
       "      <td>Buy</td>\n",
       "      <td>1.2804</td>\n",
       "      <td>Buy</td>\n",
       "      <td>1.2093</td>\n",
       "      <td>Buy</td>\n",
       "      <td>1.1510</td>\n",
       "      <td>1.8767</td>\n",
       "    </tr>\n",
       "    <tr>\n",
       "      <th>8</th>\n",
       "      <td>bac</td>\n",
       "      <td>Hold or Sell</td>\n",
       "      <td>2.4786</td>\n",
       "      <td>Hold or Sell</td>\n",
       "      <td>2.7557</td>\n",
       "      <td>Hold or Sell</td>\n",
       "      <td>3.3810</td>\n",
       "      <td>6.4872</td>\n",
       "    </tr>\n",
       "    <tr>\n",
       "      <th>9</th>\n",
       "      <td>crm</td>\n",
       "      <td>Buy</td>\n",
       "      <td>2.2866</td>\n",
       "      <td>Buy</td>\n",
       "      <td>1.9058</td>\n",
       "      <td>Buy</td>\n",
       "      <td>2.1263</td>\n",
       "      <td>12.3830</td>\n",
       "    </tr>\n",
       "    <tr>\n",
       "      <th>10</th>\n",
       "      <td>esgv</td>\n",
       "      <td>Hold or Sell</td>\n",
       "      <td>1.1601</td>\n",
       "      <td>Hold or Sell</td>\n",
       "      <td>1.2672</td>\n",
       "      <td>Hold or Sell</td>\n",
       "      <td>1.1849</td>\n",
       "      <td>0.3919</td>\n",
       "    </tr>\n",
       "    <tr>\n",
       "      <th>11</th>\n",
       "      <td>fslr</td>\n",
       "      <td>Hold or Sell</td>\n",
       "      <td>2.2736</td>\n",
       "      <td>Hold or Sell</td>\n",
       "      <td>2.2395</td>\n",
       "      <td>Hold or Sell</td>\n",
       "      <td>1.7983</td>\n",
       "      <td>-0.0529</td>\n",
       "    </tr>\n",
       "    <tr>\n",
       "      <th>12</th>\n",
       "      <td>goog</td>\n",
       "      <td>Buy</td>\n",
       "      <td>2.0413</td>\n",
       "      <td>Buy</td>\n",
       "      <td>1.8125</td>\n",
       "      <td>Buy</td>\n",
       "      <td>2.6947</td>\n",
       "      <td>7.7434</td>\n",
       "    </tr>\n",
       "    <tr>\n",
       "      <th>13</th>\n",
       "      <td>ibm</td>\n",
       "      <td>Hold or Sell</td>\n",
       "      <td>2.3748</td>\n",
       "      <td>Hold or Sell</td>\n",
       "      <td>4.2009</td>\n",
       "      <td>Hold or Sell</td>\n",
       "      <td>3.7124</td>\n",
       "      <td>6.9480</td>\n",
       "    </tr>\n",
       "    <tr>\n",
       "      <th>14</th>\n",
       "      <td>idex</td>\n",
       "      <td>Buy</td>\n",
       "      <td>0.1031</td>\n",
       "      <td>Buy</td>\n",
       "      <td>0.1022</td>\n",
       "      <td>Buy</td>\n",
       "      <td>0.2392</td>\n",
       "      <td>-0.2295</td>\n",
       "    </tr>\n",
       "    <tr>\n",
       "      <th>15</th>\n",
       "      <td>intc</td>\n",
       "      <td>Hold or Sell</td>\n",
       "      <td>5.4860</td>\n",
       "      <td>Hold or Sell</td>\n",
       "      <td>5.4634</td>\n",
       "      <td>Hold or Sell</td>\n",
       "      <td>4.5385</td>\n",
       "      <td>33.8989</td>\n",
       "    </tr>\n",
       "    <tr>\n",
       "      <th>16</th>\n",
       "      <td>iyw</td>\n",
       "      <td>Hold or Sell</td>\n",
       "      <td>3.5413</td>\n",
       "      <td>Hold or Sell</td>\n",
       "      <td>5.0636</td>\n",
       "      <td>Hold or Sell</td>\n",
       "      <td>3.1405</td>\n",
       "      <td>5.9571</td>\n",
       "    </tr>\n",
       "    <tr>\n",
       "      <th>17</th>\n",
       "      <td>ma</td>\n",
       "      <td>Buy</td>\n",
       "      <td>2.2752</td>\n",
       "      <td>Buy</td>\n",
       "      <td>3.1657</td>\n",
       "      <td>Buy</td>\n",
       "      <td>2.8476</td>\n",
       "      <td>12.7360</td>\n",
       "    </tr>\n",
       "    <tr>\n",
       "      <th>18</th>\n",
       "      <td>mdb</td>\n",
       "      <td>Hold or Sell</td>\n",
       "      <td>0.8636</td>\n",
       "      <td>Buy</td>\n",
       "      <td>1.1075</td>\n",
       "      <td>Hold or Sell</td>\n",
       "      <td>0.9661</td>\n",
       "      <td>4.7542</td>\n",
       "    </tr>\n",
       "    <tr>\n",
       "      <th>19</th>\n",
       "      <td>msft</td>\n",
       "      <td>Buy</td>\n",
       "      <td>6.3716</td>\n",
       "      <td>Buy</td>\n",
       "      <td>7.6773</td>\n",
       "      <td>Buy</td>\n",
       "      <td>7.3196</td>\n",
       "      <td>53.1909</td>\n",
       "    </tr>\n",
       "    <tr>\n",
       "      <th>20</th>\n",
       "      <td>mu</td>\n",
       "      <td>Hold or Sell</td>\n",
       "      <td>2.3668</td>\n",
       "      <td>Hold or Sell</td>\n",
       "      <td>2.8646</td>\n",
       "      <td>Hold or Sell</td>\n",
       "      <td>3.4867</td>\n",
       "      <td>16.5622</td>\n",
       "    </tr>\n",
       "    <tr>\n",
       "      <th>21</th>\n",
       "      <td>nio</td>\n",
       "      <td>Buy</td>\n",
       "      <td>1.8246</td>\n",
       "      <td>Hold or Sell</td>\n",
       "      <td>1.3457</td>\n",
       "      <td>Buy</td>\n",
       "      <td>2.4370</td>\n",
       "      <td>12.2155</td>\n",
       "    </tr>\n",
       "    <tr>\n",
       "      <th>22</th>\n",
       "      <td>nvda</td>\n",
       "      <td>Hold or Sell</td>\n",
       "      <td>10.4586</td>\n",
       "      <td>Hold or Sell</td>\n",
       "      <td>8.7524</td>\n",
       "      <td>Hold or Sell</td>\n",
       "      <td>18.3627</td>\n",
       "      <td>103.5934</td>\n",
       "    </tr>\n",
       "    <tr>\n",
       "      <th>23</th>\n",
       "      <td>pypl</td>\n",
       "      <td>Hold or Sell</td>\n",
       "      <td>2.7586</td>\n",
       "      <td>Buy</td>\n",
       "      <td>2.3892</td>\n",
       "      <td>Hold or Sell</td>\n",
       "      <td>2.3350</td>\n",
       "      <td>4.9438</td>\n",
       "    </tr>\n",
       "    <tr>\n",
       "      <th>24</th>\n",
       "      <td>orcl</td>\n",
       "      <td>Hold or Sell</td>\n",
       "      <td>3.1478</td>\n",
       "      <td>Buy</td>\n",
       "      <td>2.9926</td>\n",
       "      <td>Buy</td>\n",
       "      <td>2.4917</td>\n",
       "      <td>29.0589</td>\n",
       "    </tr>\n",
       "    <tr>\n",
       "      <th>25</th>\n",
       "      <td>qqq</td>\n",
       "      <td>Buy</td>\n",
       "      <td>2.6711</td>\n",
       "      <td>Buy</td>\n",
       "      <td>2.9653</td>\n",
       "      <td>Buy</td>\n",
       "      <td>2.7587</td>\n",
       "      <td>8.0283</td>\n",
       "    </tr>\n",
       "    <tr>\n",
       "      <th>26</th>\n",
       "      <td>tsla</td>\n",
       "      <td>Buy</td>\n",
       "      <td>2.4657</td>\n",
       "      <td>Buy</td>\n",
       "      <td>2.7235</td>\n",
       "      <td>Buy</td>\n",
       "      <td>1.7101</td>\n",
       "      <td>123.8466</td>\n",
       "    </tr>\n",
       "    <tr>\n",
       "      <th>27</th>\n",
       "      <td>v</td>\n",
       "      <td>Buy</td>\n",
       "      <td>2.8973</td>\n",
       "      <td>Buy</td>\n",
       "      <td>2.6032</td>\n",
       "      <td>Buy</td>\n",
       "      <td>2.4158</td>\n",
       "      <td>9.4841</td>\n",
       "    </tr>\n",
       "    <tr>\n",
       "      <th>28</th>\n",
       "      <td>vbiv</td>\n",
       "      <td>Buy</td>\n",
       "      <td>0.8461</td>\n",
       "      <td>Hold or Sell</td>\n",
       "      <td>1.4263</td>\n",
       "      <td>Hold or Sell</td>\n",
       "      <td>1.3707</td>\n",
       "      <td>-0.8488</td>\n",
       "    </tr>\n",
       "    <tr>\n",
       "      <th>29</th>\n",
       "      <td>vbr</td>\n",
       "      <td>Hold or Sell</td>\n",
       "      <td>1.3548</td>\n",
       "      <td>Hold or Sell</td>\n",
       "      <td>1.1269</td>\n",
       "      <td>Hold or Sell</td>\n",
       "      <td>1.4224</td>\n",
       "      <td>1.3582</td>\n",
       "    </tr>\n",
       "    <tr>\n",
       "      <th>30</th>\n",
       "      <td>viov</td>\n",
       "      <td>Hold or Sell</td>\n",
       "      <td>1.2516</td>\n",
       "      <td>Hold or Sell</td>\n",
       "      <td>1.0750</td>\n",
       "      <td>Hold or Sell</td>\n",
       "      <td>1.1842</td>\n",
       "      <td>1.0857</td>\n",
       "    </tr>\n",
       "    <tr>\n",
       "      <th>31</th>\n",
       "      <td>vgt</td>\n",
       "      <td>Buy</td>\n",
       "      <td>2.8997</td>\n",
       "      <td>Buy</td>\n",
       "      <td>3.7806</td>\n",
       "      <td>Buy</td>\n",
       "      <td>3.1860</td>\n",
       "      <td>5.2976</td>\n",
       "    </tr>\n",
       "    <tr>\n",
       "      <th>32</th>\n",
       "      <td>xlk</td>\n",
       "      <td>Hold or Sell</td>\n",
       "      <td>3.7463</td>\n",
       "      <td>Hold or Sell</td>\n",
       "      <td>4.1631</td>\n",
       "      <td>Hold or Sell</td>\n",
       "      <td>4.9467</td>\n",
       "      <td>5.5746</td>\n",
       "    </tr>\n",
       "  </tbody>\n",
       "</table>\n",
       "</div>"
      ],
      "text/plain": [
       "   stock    1_Day_Pred  1_Day_Model_Return    3_Day_Pred  3_Day_Model_Return  \\\n",
       "0      a  Hold or Sell              3.4483  Hold or Sell              3.9073   \n",
       "1   aapl           Buy              4.2584  Hold or Sell              3.3838   \n",
       "2    acy           Buy              0.4545           Buy              0.4479   \n",
       "3   adbe           Buy              7.0482           Buy              5.2480   \n",
       "4   amat  Hold or Sell              5.0701  Hold or Sell              6.6657   \n",
       "5    amd  Hold or Sell              6.8137  Hold or Sell              6.2464   \n",
       "6   amzn           Buy              3.9958           Buy              3.9801   \n",
       "7   baba           Buy              1.2804           Buy              1.2093   \n",
       "8    bac  Hold or Sell              2.4786  Hold or Sell              2.7557   \n",
       "9    crm           Buy              2.2866           Buy              1.9058   \n",
       "10  esgv  Hold or Sell              1.1601  Hold or Sell              1.2672   \n",
       "11  fslr  Hold or Sell              2.2736  Hold or Sell              2.2395   \n",
       "12  goog           Buy              2.0413           Buy              1.8125   \n",
       "13   ibm  Hold or Sell              2.3748  Hold or Sell              4.2009   \n",
       "14  idex           Buy              0.1031           Buy              0.1022   \n",
       "15  intc  Hold or Sell              5.4860  Hold or Sell              5.4634   \n",
       "16   iyw  Hold or Sell              3.5413  Hold or Sell              5.0636   \n",
       "17    ma           Buy              2.2752           Buy              3.1657   \n",
       "18   mdb  Hold or Sell              0.8636           Buy              1.1075   \n",
       "19  msft           Buy              6.3716           Buy              7.6773   \n",
       "20    mu  Hold or Sell              2.3668  Hold or Sell              2.8646   \n",
       "21   nio           Buy              1.8246  Hold or Sell              1.3457   \n",
       "22  nvda  Hold or Sell             10.4586  Hold or Sell              8.7524   \n",
       "23  pypl  Hold or Sell              2.7586           Buy              2.3892   \n",
       "24  orcl  Hold or Sell              3.1478           Buy              2.9926   \n",
       "25   qqq           Buy              2.6711           Buy              2.9653   \n",
       "26  tsla           Buy              2.4657           Buy              2.7235   \n",
       "27     v           Buy              2.8973           Buy              2.6032   \n",
       "28  vbiv           Buy              0.8461  Hold or Sell              1.4263   \n",
       "29   vbr  Hold or Sell              1.3548  Hold or Sell              1.1269   \n",
       "30  viov  Hold or Sell              1.2516  Hold or Sell              1.0750   \n",
       "31   vgt           Buy              2.8997           Buy              3.7806   \n",
       "32   xlk  Hold or Sell              3.7463  Hold or Sell              4.1631   \n",
       "\n",
       "      5_Day_Pred  5_Day_Model_Return  Actual_Returns  \n",
       "0   Hold or Sell              3.9377          6.5233  \n",
       "1            Buy              4.8805        339.5464  \n",
       "2            Buy              0.6112          1.4444  \n",
       "3            Buy              7.1261         98.6568  \n",
       "4   Hold or Sell              5.8694        169.2484  \n",
       "5   Hold or Sell              8.3124         16.1945  \n",
       "6            Buy              4.1588        123.2848  \n",
       "7            Buy              1.1510          1.8767  \n",
       "8   Hold or Sell              3.3810          6.4872  \n",
       "9            Buy              2.1263         12.3830  \n",
       "10  Hold or Sell              1.1849          0.3919  \n",
       "11  Hold or Sell              1.7983         -0.0529  \n",
       "12           Buy              2.6947          7.7434  \n",
       "13  Hold or Sell              3.7124          6.9480  \n",
       "14           Buy              0.2392         -0.2295  \n",
       "15  Hold or Sell              4.5385         33.8989  \n",
       "16  Hold or Sell              3.1405          5.9571  \n",
       "17           Buy              2.8476         12.7360  \n",
       "18  Hold or Sell              0.9661          4.7542  \n",
       "19           Buy              7.3196         53.1909  \n",
       "20  Hold or Sell              3.4867         16.5622  \n",
       "21           Buy              2.4370         12.2155  \n",
       "22  Hold or Sell             18.3627        103.5934  \n",
       "23  Hold or Sell              2.3350          4.9438  \n",
       "24           Buy              2.4917         29.0589  \n",
       "25           Buy              2.7587          8.0283  \n",
       "26           Buy              1.7101        123.8466  \n",
       "27           Buy              2.4158          9.4841  \n",
       "28  Hold or Sell              1.3707         -0.8488  \n",
       "29  Hold or Sell              1.4224          1.3582  \n",
       "30  Hold or Sell              1.1842          1.0857  \n",
       "31           Buy              3.1860          5.2976  \n",
       "32  Hold or Sell              4.9467          5.5746  "
      ]
     },
     "execution_count": 25,
     "metadata": {},
     "output_type": "execute_result"
    }
   ],
   "source": [
    "summary_df = a.pred_summary_df(start_dates, stocks = [x for x in start_dates], days_back = 2)\n",
    "summary_df"
   ]
  },
  {
   "cell_type": "code",
   "execution_count": 26,
   "metadata": {},
   "outputs": [
    {
     "data": {
      "text/plain": [
       "(2.4786, 2.8646, 2.7587, 7.7434)"
      ]
     },
     "execution_count": 26,
     "metadata": {},
     "output_type": "execute_result"
    }
   ],
   "source": [
    "summary_df['1_Day_Model_Return'].median(), summary_df['3_Day_Model_Return'].median(), summary_df['5_Day_Model_Return'].median(), summary_df['Actual_Returns'].median()"
   ]
  },
  {
   "cell_type": "code",
   "execution_count": null,
   "metadata": {},
   "outputs": [],
   "source": []
  },
  {
   "cell_type": "code",
   "execution_count": null,
   "metadata": {},
   "outputs": [],
   "source": []
  },
  {
   "cell_type": "code",
   "execution_count": null,
   "metadata": {},
   "outputs": [],
   "source": []
  }
 ],
 "metadata": {
  "kernelspec": {
   "display_name": "Python 3",
   "language": "python",
   "name": "python3"
  },
  "language_info": {
   "codemirror_mode": {
    "name": "ipython",
    "version": 3
   },
   "file_extension": ".py",
   "mimetype": "text/x-python",
   "name": "python",
   "nbconvert_exporter": "python",
   "pygments_lexer": "ipython3",
   "version": "3.8.5"
  }
 },
 "nbformat": 4,
 "nbformat_minor": 4
}
