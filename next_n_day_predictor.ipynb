{
 "cells": [
  {
   "cell_type": "code",
   "execution_count": 1,
   "metadata": {
    "scrolled": true
   },
   "outputs": [],
   "source": [
    "from src import attributes as a\n",
    "%load_ext autoreload\n",
    "%autoreload 2"
   ]
  },
  {
   "cell_type": "code",
   "execution_count": 2,
   "metadata": {},
   "outputs": [],
   "source": [
    "# Global Variables\n",
    "stock_name = 'nio' # ticker symbol\n",
    "train = 1 # 1 for train, 0 for pass\n",
    "days_ahead = 5 # for predicting 1 day ahead\n",
    "cv = 5 # number of cross validation folds\n",
    "model_name = 'Random Forest Classifier' # for display on charts, not a tuning parameter"
   ]
  },
  {
   "cell_type": "code",
   "execution_count": 3,
   "metadata": {},
   "outputs": [],
   "source": [
    "# Extract, Transform, Load, and Train Test Split\n",
    "# Dictionary of IPO Dates\n",
    "start_dates = {'aapl':'12/12/1980' # Updated 1/2/21 1D, 5D ahead\n",
    "               , 'acy': '01/18/1998' # Updated 1/2/21 1D, 5D ahead\n",
    "               , 'amd': '03/17/1980' # Updated 1/2/21 1D, 5D ahead\n",
    "               , 'baba': '09/15/2014' # Updated 1/2/21 1D, 5D ahead\n",
    "               , 'bac': '02/19/1973' # Updated 1/2/21 1D, 5D ahead\n",
    "               , 'crm': '06/23/2004' # Updated 1/2/21 1D, 5D ahead\n",
    "               , 'esgv': '09/16/2018' # Updated 1/2/21 1D, 5D ahead\n",
    "               , 'goog': '08/16/2004' # Updated 1/2/21 1D, 5D ahead\n",
    "               , 'ibm': '01/02/1962' # Updated 1/2/21 1D, 5D ahead\n",
    "               , 'idex': '05/23/2007' # Updated 1/2/21 1D, 5D ahead\n",
    "               , 'intc': '03/16/1980' # Updated 1/2/21 1D, 5D ahead\n",
    "               , 'iyw': '05/15/2000' # Updated 1/2/21 1D, 5D ahead\n",
    "               , 'ma': '05/21/2006' # Updated 1/2/21 1D, 5D ahead\n",
    "               , 'msft': '03/10/1986' # Updated 1/2/21 1D, 5D ahead\n",
    "               , 'nio': '09/10/2018' # Updated 1/2/21 1D, 5D ahead\n",
    "               , 'nvda': '01/22/1999' # Updated 1/1/21\n",
    "               , 'pypl': '07/05/2015' # Updated 1/1/21\n",
    "               , 'tsla': '06/29/2010' # Updated 1/1/21\n",
    "               , 'v': '03/16/2008' # Updated 1/1/21\n",
    "               , 'vbiv': '09/04/2002' # Updated 1/1/21\n",
    "               , 'vgt': '01/26/2004' # Updated 1/1/21\n",
    "              }\n",
    "X_train, X_test, y_train, y_test, stock_df = a.data(stock_name, start_dates[stock_name], days_ahead)"
   ]
  },
  {
   "cell_type": "code",
   "execution_count": 4,
   "metadata": {},
   "outputs": [
    {
     "data": {
      "text/html": [
       "<div>\n",
       "<style scoped>\n",
       "    .dataframe tbody tr th:only-of-type {\n",
       "        vertical-align: middle;\n",
       "    }\n",
       "\n",
       "    .dataframe tbody tr th {\n",
       "        vertical-align: top;\n",
       "    }\n",
       "\n",
       "    .dataframe thead th {\n",
       "        text-align: right;\n",
       "    }\n",
       "</style>\n",
       "<table border=\"1\" class=\"dataframe\">\n",
       "  <thead>\n",
       "    <tr style=\"text-align: right;\">\n",
       "      <th></th>\n",
       "      <th>High</th>\n",
       "      <th>Low</th>\n",
       "      <th>Open</th>\n",
       "      <th>Close</th>\n",
       "      <th>Volume</th>\n",
       "      <th>Adj Close</th>\n",
       "      <th>oc</th>\n",
       "      <th>hl</th>\n",
       "      <th>adj</th>\n",
       "      <th>5stdev_adj</th>\n",
       "      <th>5sma_adj</th>\n",
       "      <th>direction</th>\n",
       "    </tr>\n",
       "    <tr>\n",
       "      <th>Date</th>\n",
       "      <th></th>\n",
       "      <th></th>\n",
       "      <th></th>\n",
       "      <th></th>\n",
       "      <th></th>\n",
       "      <th></th>\n",
       "      <th></th>\n",
       "      <th></th>\n",
       "      <th></th>\n",
       "      <th></th>\n",
       "      <th></th>\n",
       "      <th></th>\n",
       "    </tr>\n",
       "  </thead>\n",
       "  <tbody>\n",
       "    <tr>\n",
       "      <th>2020-12-17</th>\n",
       "      <td>46.049999</td>\n",
       "      <td>43.900002</td>\n",
       "      <td>45.169998</td>\n",
       "      <td>46.000000</td>\n",
       "      <td>130003700</td>\n",
       "      <td>46.000000</td>\n",
       "      <td>-0.018375</td>\n",
       "      <td>0.048975</td>\n",
       "      <td>0.029774</td>\n",
       "      <td>0.052415</td>\n",
       "      <td>0.004539</td>\n",
       "      <td>-1</td>\n",
       "    </tr>\n",
       "    <tr>\n",
       "      <th>2020-12-18</th>\n",
       "      <td>48.000000</td>\n",
       "      <td>45.520000</td>\n",
       "      <td>45.889999</td>\n",
       "      <td>46.720001</td>\n",
       "      <td>126251100</td>\n",
       "      <td>46.720001</td>\n",
       "      <td>-0.018087</td>\n",
       "      <td>0.054482</td>\n",
       "      <td>0.015652</td>\n",
       "      <td>0.030757</td>\n",
       "      <td>0.021999</td>\n",
       "      <td>-1</td>\n",
       "    </tr>\n",
       "    <tr>\n",
       "      <th>2020-12-21</th>\n",
       "      <td>49.490002</td>\n",
       "      <td>45.020000</td>\n",
       "      <td>45.630001</td>\n",
       "      <td>48.950001</td>\n",
       "      <td>132558100</td>\n",
       "      <td>48.950001</td>\n",
       "      <td>-0.072759</td>\n",
       "      <td>0.099289</td>\n",
       "      <td>0.047731</td>\n",
       "      <td>0.018185</td>\n",
       "      <td>0.036309</td>\n",
       "      <td>-1</td>\n",
       "    </tr>\n",
       "    <tr>\n",
       "      <th>2020-12-22</th>\n",
       "      <td>49.840000</td>\n",
       "      <td>46.529999</td>\n",
       "      <td>49.610001</td>\n",
       "      <td>47.580002</td>\n",
       "      <td>117118300</td>\n",
       "      <td>47.580002</td>\n",
       "      <td>0.040919</td>\n",
       "      <td>0.071137</td>\n",
       "      <td>-0.027988</td>\n",
       "      <td>0.028378</td>\n",
       "      <td>0.018413</td>\n",
       "      <td>1</td>\n",
       "    </tr>\n",
       "    <tr>\n",
       "      <th>2020-12-23</th>\n",
       "      <td>48.360001</td>\n",
       "      <td>45.810001</td>\n",
       "      <td>47.480000</td>\n",
       "      <td>47.009998</td>\n",
       "      <td>81247900</td>\n",
       "      <td>47.009998</td>\n",
       "      <td>0.009899</td>\n",
       "      <td>0.055665</td>\n",
       "      <td>-0.011980</td>\n",
       "      <td>0.030703</td>\n",
       "      <td>0.010638</td>\n",
       "      <td>1</td>\n",
       "    </tr>\n",
       "    <tr>\n",
       "      <th>2020-12-24</th>\n",
       "      <td>47.130001</td>\n",
       "      <td>45.349998</td>\n",
       "      <td>46.880001</td>\n",
       "      <td>45.770000</td>\n",
       "      <td>60582500</td>\n",
       "      <td>45.770000</td>\n",
       "      <td>0.023677</td>\n",
       "      <td>0.039250</td>\n",
       "      <td>-0.026377</td>\n",
       "      <td>0.032187</td>\n",
       "      <td>-0.000592</td>\n",
       "      <td>-1</td>\n",
       "    </tr>\n",
       "    <tr>\n",
       "      <th>2020-12-28</th>\n",
       "      <td>46.849998</td>\n",
       "      <td>43.669998</td>\n",
       "      <td>46.669998</td>\n",
       "      <td>44.060001</td>\n",
       "      <td>105078000</td>\n",
       "      <td>44.060001</td>\n",
       "      <td>0.055925</td>\n",
       "      <td>0.072819</td>\n",
       "      <td>-0.037361</td>\n",
       "      <td>0.034169</td>\n",
       "      <td>-0.011195</td>\n",
       "      <td>-1</td>\n",
       "    </tr>\n",
       "    <tr>\n",
       "      <th>2020-12-29</th>\n",
       "      <td>46.279999</td>\n",
       "      <td>42.230000</td>\n",
       "      <td>43.700001</td>\n",
       "      <td>46.139999</td>\n",
       "      <td>120689900</td>\n",
       "      <td>46.139999</td>\n",
       "      <td>-0.055835</td>\n",
       "      <td>0.095903</td>\n",
       "      <td>0.047208</td>\n",
       "      <td>0.033944</td>\n",
       "      <td>-0.011299</td>\n",
       "      <td>-1</td>\n",
       "    </tr>\n",
       "    <tr>\n",
       "      <th>2020-12-30</th>\n",
       "      <td>48.380001</td>\n",
       "      <td>45.720001</td>\n",
       "      <td>46.500000</td>\n",
       "      <td>48.380001</td>\n",
       "      <td>116691700</td>\n",
       "      <td>48.380001</td>\n",
       "      <td>-0.040430</td>\n",
       "      <td>0.058180</td>\n",
       "      <td>0.048548</td>\n",
       "      <td>0.041050</td>\n",
       "      <td>0.004008</td>\n",
       "      <td>-1</td>\n",
       "    </tr>\n",
       "    <tr>\n",
       "      <th>2020-12-31</th>\n",
       "      <td>50.500000</td>\n",
       "      <td>47.770000</td>\n",
       "      <td>48.459999</td>\n",
       "      <td>48.740002</td>\n",
       "      <td>129124600</td>\n",
       "      <td>48.740002</td>\n",
       "      <td>-0.005778</td>\n",
       "      <td>0.057149</td>\n",
       "      <td>0.007441</td>\n",
       "      <td>0.040066</td>\n",
       "      <td>0.007892</td>\n",
       "      <td>-1</td>\n",
       "    </tr>\n",
       "  </tbody>\n",
       "</table>\n",
       "</div>"
      ],
      "text/plain": [
       "                 High        Low       Open      Close     Volume  Adj Close  \\\n",
       "Date                                                                           \n",
       "2020-12-17  46.049999  43.900002  45.169998  46.000000  130003700  46.000000   \n",
       "2020-12-18  48.000000  45.520000  45.889999  46.720001  126251100  46.720001   \n",
       "2020-12-21  49.490002  45.020000  45.630001  48.950001  132558100  48.950001   \n",
       "2020-12-22  49.840000  46.529999  49.610001  47.580002  117118300  47.580002   \n",
       "2020-12-23  48.360001  45.810001  47.480000  47.009998   81247900  47.009998   \n",
       "2020-12-24  47.130001  45.349998  46.880001  45.770000   60582500  45.770000   \n",
       "2020-12-28  46.849998  43.669998  46.669998  44.060001  105078000  44.060001   \n",
       "2020-12-29  46.279999  42.230000  43.700001  46.139999  120689900  46.139999   \n",
       "2020-12-30  48.380001  45.720001  46.500000  48.380001  116691700  48.380001   \n",
       "2020-12-31  50.500000  47.770000  48.459999  48.740002  129124600  48.740002   \n",
       "\n",
       "                  oc        hl       adj  5stdev_adj  5sma_adj  direction  \n",
       "Date                                                                       \n",
       "2020-12-17 -0.018375  0.048975  0.029774    0.052415  0.004539         -1  \n",
       "2020-12-18 -0.018087  0.054482  0.015652    0.030757  0.021999         -1  \n",
       "2020-12-21 -0.072759  0.099289  0.047731    0.018185  0.036309         -1  \n",
       "2020-12-22  0.040919  0.071137 -0.027988    0.028378  0.018413          1  \n",
       "2020-12-23  0.009899  0.055665 -0.011980    0.030703  0.010638          1  \n",
       "2020-12-24  0.023677  0.039250 -0.026377    0.032187 -0.000592         -1  \n",
       "2020-12-28  0.055925  0.072819 -0.037361    0.034169 -0.011195         -1  \n",
       "2020-12-29 -0.055835  0.095903  0.047208    0.033944 -0.011299         -1  \n",
       "2020-12-30 -0.040430  0.058180  0.048548    0.041050  0.004008         -1  \n",
       "2020-12-31 -0.005778  0.057149  0.007441    0.040066  0.007892         -1  "
      ]
     },
     "execution_count": 4,
     "metadata": {},
     "output_type": "execute_result"
    }
   ],
   "source": [
    "stock_df.tail(10)"
   ]
  },
  {
   "cell_type": "code",
   "execution_count": null,
   "metadata": {
    "scrolled": false
   },
   "outputs": [],
   "source": [
    "# GridSerach to find best hyperparameters to prevent overfitting, can be commented out once trained\n",
    "if train == 1:\n",
    "    a.rfc_GridSearch(X_train, y_train, stock_name, days_ahead, cv)\n",
    "elif train == 0:\n",
    "    pass"
   ]
  },
  {
   "cell_type": "code",
   "execution_count": null,
   "metadata": {},
   "outputs": [],
   "source": [
    "# Load RandomForextClassifier Model\n",
    "rfc_model, y_pred, y_probs = a.rfc(X_train, X_test, y_train, stock_name, days_ahead)"
   ]
  },
  {
   "cell_type": "code",
   "execution_count": null,
   "metadata": {
    "scrolled": false
   },
   "outputs": [],
   "source": [
    "# ROC Curve\n",
    "a.roc_plot(y_test, y_probs, stock_name, model_name)"
   ]
  },
  {
   "cell_type": "code",
   "execution_count": null,
   "metadata": {
    "scrolled": false
   },
   "outputs": [],
   "source": [
    "# Precision Recall Curve\n",
    "a.prec_recall(y_test, y_probs, stock_name, model_name)"
   ]
  },
  {
   "cell_type": "code",
   "execution_count": null,
   "metadata": {
    "scrolled": false
   },
   "outputs": [],
   "source": [
    "# Confusion Matrix\n",
    "a.confusion_matrix(rfc_model, X_test, y_test, stock_name)"
   ]
  },
  {
   "cell_type": "code",
   "execution_count": null,
   "metadata": {},
   "outputs": [],
   "source": [
    "# Cross Validation\n",
    "a.cross_validation(rfc_model\n",
    "                   , stock_df[['oc', 'hl', '5stdev_adj', '5sma_adj']]\n",
    "                   , stock_df['direction']\n",
    "                   , cv = 5\n",
    "                  )"
   ]
  },
  {
   "cell_type": "markdown",
   "metadata": {},
   "source": [
    "### Prediction..."
   ]
  },
  {
   "cell_type": "code",
   "execution_count": null,
   "metadata": {
    "scrolled": true
   },
   "outputs": [],
   "source": [
    "# Prediction, use last day of data\n",
    "stock_df.iloc[-1]"
   ]
  },
  {
   "cell_type": "code",
   "execution_count": null,
   "metadata": {},
   "outputs": [],
   "source": [
    "import numpy as np\n",
    "last = stock_df[['oc', 'hl', '5stdev_adj', '5sma_adj']].iloc[-1]\n",
    "last"
   ]
  },
  {
   "cell_type": "code",
   "execution_count": null,
   "metadata": {},
   "outputs": [],
   "source": [
    "stock_df['adj'].describe()"
   ]
  },
  {
   "cell_type": "code",
   "execution_count": null,
   "metadata": {
    "scrolled": true
   },
   "outputs": [],
   "source": [
    "if rfc_model.predict(np.array(last).reshape(1, -1))[0] == 1:\n",
    "    print(f'Buy {stock_name}')\n",
    "else:\n",
    "    print(f'Sell or hold {stock_name}')"
   ]
  },
  {
   "cell_type": "markdown",
   "metadata": {},
   "source": [
    "### Strategy Returns..."
   ]
  },
  {
   "cell_type": "code",
   "execution_count": null,
   "metadata": {},
   "outputs": [],
   "source": [
    "# returns on strategy column\n",
    "stock_df['prediction'] = rfc_model.predict(stock_df[['oc', 'hl', '5stdev_adj', '5sma_adj']])\n",
    "stock_df['returns'] = stock_df['adj'].shift(-1, fill_value = stock_df['adj'].median()) * stock_df['prediction']"
   ]
  },
  {
   "cell_type": "code",
   "execution_count": null,
   "metadata": {},
   "outputs": [],
   "source": [
    "stock_df.tail(5)"
   ]
  },
  {
   "cell_type": "code",
   "execution_count": null,
   "metadata": {},
   "outputs": [],
   "source": [
    "# Don't trade every day!\n",
    "import matplotlib.pyplot as plt\n",
    "test_length = len(y_test)\n",
    "(stock_df['returns'][-test_length:] + 1).cumprod().plot()\n",
    "plt.title(f'{stock_name} Expected Returns %');"
   ]
  },
  {
   "cell_type": "code",
   "execution_count": null,
   "metadata": {},
   "outputs": [],
   "source": [
    "# Model returns if bought on predictions of 1\n",
    "returns_on_ones = []\n",
    "for idx in range(-test_length, 0):\n",
    "    if stock_df['prediction'][idx] == 1:\n",
    "        returns_on_ones.append(1 + stock_df['returns'][idx])\n",
    "\n",
    "returns = 1\n",
    "for x in returns_on_ones:\n",
    "    returns *= x\n",
    "returns"
   ]
  },
  {
   "cell_type": "code",
   "execution_count": null,
   "metadata": {},
   "outputs": [],
   "source": [
    "# multiple times original investment, not bad but..."
   ]
  },
  {
   "cell_type": "code",
   "execution_count": null,
   "metadata": {},
   "outputs": [],
   "source": [
    "# If purchased in 2012 and left it until now\n",
    "test_idx = int(len(stock_df)*0.75)\n",
    "(stock_df['Close'][-1] - stock_df['Close'][-test_idx]) / stock_df['Close'][-test_idx]"
   ]
  },
  {
   "cell_type": "code",
   "execution_count": null,
   "metadata": {},
   "outputs": [],
   "source": [
    "# Buy and hold strategy beats RandomForestClassifier in this study\n",
    "\n",
    "# Special thanks to Shagufta Tahsildar at https://blog.quantinsti.com/random-forest-algorithm-in-python/"
   ]
  },
  {
   "cell_type": "code",
   "execution_count": null,
   "metadata": {},
   "outputs": [],
   "source": []
  }
 ],
 "metadata": {
  "kernelspec": {
   "display_name": "Python 3",
   "language": "python",
   "name": "python3"
  },
  "language_info": {
   "codemirror_mode": {
    "name": "ipython",
    "version": 3
   },
   "file_extension": ".py",
   "mimetype": "text/x-python",
   "name": "python",
   "nbconvert_exporter": "python",
   "pygments_lexer": "ipython3",
   "version": "3.8.5"
  }
 },
 "nbformat": 4,
 "nbformat_minor": 4
}
