{
 "cells": [
  {
   "cell_type": "code",
   "execution_count": 1,
   "metadata": {
    "scrolled": true
   },
   "outputs": [],
   "source": [
    "from src import attributes as a\n",
    "%load_ext autoreload\n",
    "%autoreload 2"
   ]
  },
  {
   "cell_type": "code",
   "execution_count": 2,
   "metadata": {},
   "outputs": [],
   "source": [
    "# Global Variables\n",
    "stock_name = 'msft' # ticker symbol\n",
    "train = 0 # 1 for train, 0 for pass\n",
    "days_ahead = 1 # for predicting 1, 3, or 5 days ahead\n",
    "days_back = -1 # -1 for current data point, -2 for two days ago, etc...\n",
    "cv = 5 # number of cross validation folds\n",
    "model_name = 'Random Forest Classifier' # for display on charts, not a tuning parameter"
   ]
  },
  {
   "cell_type": "code",
   "execution_count": 3,
   "metadata": {},
   "outputs": [],
   "source": [
    "# Extract, Transform, Load, and Train Test Split\n",
    "# Dictionary of IPO Dates\n",
    "start_dates = {'a': '11/15/1999' # Updated 1/17/21 1D, 3D, 5D ahead\n",
    "               , 'aapl':'12/12/1980' # Updated 1/17/21 1D, 3D, 5D ahead\n",
    "               , 'acy': '01/18/1998' # Updated 1/17/21 1D, 3D, 5D ahead\n",
    "               , 'adbe': '08/11/1986' # Updated 1/17/21 1D, 3D, 5D ahead\n",
    "               , 'alb': '02/21/1994' # Updated 1/17/21 1D, 3D, 5D ahead\n",
    "               , 'amat': '03/16/1980' # Updated 1/17/21 1D, 3D, 5D ahead\n",
    "               , 'amd': '03/17/1980' # Updated 1/17/21 1D, 3D, 5D ahead\n",
    "               , 'amzn': '05/12/1997' # Updated 1/17/21 1D, 3D, 5D ahead\n",
    "               , 'baba': '09/15/2014' # Updated 1/17/21 1D, 3D, 5D ahead\n",
    "               , 'bac': '02/19/1973' # Updated 1/17/21 1D, 3D, 5D ahead\n",
    "               , 'bpmc': '04/27/2015' # Updated 1/17/21 1D, 3D, 5D ahead\n",
    "               , 'crm': '06/23/2004' # Updated 1/17/21 1D, 3D, 5D ahead\n",
    "               , 'crsp': '10/16/2016' # Updated 1/17/21 1D, 3D, 5D ahead\n",
    "               , 'dq': '10/04/2010' # Updated 1/17/21 1D, 3D, 5D ahead\n",
    "               , 'esgv': '09/16/2018' # Updated 1/17/21 1D, 3D, 5D ahead\n",
    "               , 'fslr': '11/12/2006' # Updated 1/17/21 1D, 3D, 5D ahead\n",
    "               , 'goog': '08/16/2004' # Updated 1/17/21 1D, 3D, 5D ahead\n",
    "               , 'ibm': '01/02/1962' # Updated 1/17/21 1D, 3D, 5D ahead\n",
    "               , 'idex': '05/23/2007' # Updated 1/17/21 1D, 3D, 5D ahead\n",
    "               , 'intc': '03/16/1980' # Updated 1/17/21 1D, 3D, 5D ahead\n",
    "               , 'iyw': '05/15/2000' # Updated 1/17/21 1D, 3D, 5D ahead\n",
    "               , 'lng': '04/04/1994' # Updated 1/17/21 1D, 3D, 5D ahead\n",
    "               , 'ma': '05/21/2006' # Updated 1/17/21 1D, 3D, 5D ahead\n",
    "               , 'mdb': '10/15/2017' # Updated 1/17/21 1D, 3D, 5D ahead\n",
    "               , 'msft': '03/10/1986' # Updated 1/17/21 1D, 3D, 5D ahead\n",
    "               , 'mu': '05/28/1984' # Updated 1/17/21 1D, 3D, 5D ahead\n",
    "               , 'nee': '02/19/1973' # Updated 1/17/21 1D, 3D, 5D ahead\n",
    "               , 'nga': '10/08/2020' # Updated 1/17/21 1D, 3D, 5D ahead\n",
    "               , 'nio': '09/10/2018' # Updated 1/17/21 1D, 3D, 5D ahead\n",
    "               , 'nvda': '01/22/1999' # Updated 1/17/21 1D, 3D, 5D ahead\n",
    "               , 'pacb': '10/25/2010' # Updated 1/17/21 1D, 3D, 5D ahead\n",
    "               , 'pypl': '07/05/2015' # Updated 1/17/21 1D, 3D, 5D ahead\n",
    "               , 'qgen': '06/24/1996' # Updated 1/17/21 1D, 3D, 5D ahead\n",
    "               , 'run': '08/02/2015' # Updated 1/17/21 1D, 3D, 5D ahead\n",
    "               , 'orcl': '03/10/1986' # Updated 1/17/21 1D, 3D, 5D ahead\n",
    "               , 'qqq': '03/08/1999' # Updated 1/17/21 1D, 3D, 5D ahead\n",
    "               , 'srpt': '06/02/1997' # Updated 1/17/21 1D, 3D, 5D ahead\n",
    "               , 'tpic': '07/17/2016' # Updated 1/17/21 1D, 3D, 5D ahead\n",
    "               , 'tsla': '06/29/2010' # Updated 1/17/21 1D, 3D, 5D ahead\n",
    "               , 'v': '03/16/2008' # Updated 1/17/21 1D, 3D, 5D ahead\n",
    "               , 'vbiv': '09/04/2002' # Updated 1/17/21 1D, 3D, 5D ahead\n",
    "               , 'vbr': '01/26/2004' # Updated 1/17/21 1D, 3D, 5D ahead\n",
    "               , 'viov': '09/06/2010' # Updated 1/17/21 1D, 3D, 5D ahead\n",
    "               , 'vgt': '01/26/2004' # Updated 1/17/21 1D, 3D, 5D ahead\n",
    "               , 'xlk': '12/21/1998' # Updated 1/17/21 1D, 3D, 5D ahead\n",
    "              }"
   ]
  },
  {
   "cell_type": "code",
   "execution_count": null,
   "metadata": {},
   "outputs": [],
   "source": []
  },
  {
   "cell_type": "code",
   "execution_count": null,
   "metadata": {},
   "outputs": [],
   "source": []
  },
  {
   "cell_type": "code",
   "execution_count": null,
   "metadata": {},
   "outputs": [],
   "source": []
  },
  {
   "cell_type": "code",
   "execution_count": 4,
   "metadata": {},
   "outputs": [],
   "source": [
    "# X_train, X_test, y_train, y_test, stock_df = a.data(stock_name, start_dates[stock_name], days_ahead)\n",
    "# stock_df.tail(10)"
   ]
  },
  {
   "cell_type": "code",
   "execution_count": 5,
   "metadata": {
    "scrolled": false
   },
   "outputs": [],
   "source": [
    "# GridSerach to find best hyperparameters to prevent overfitting, can be commented out once trained\n",
    "# if train == 1:\n",
    "#     a.rfc_GridSearch(X_train, y_train, stock_name, days_ahead, cv)\n",
    "# elif train == 0:\n",
    "#     pass"
   ]
  },
  {
   "cell_type": "code",
   "execution_count": 6,
   "metadata": {},
   "outputs": [],
   "source": [
    "# Load RandomForextClassifier Model\n",
    "# rfc_model, y_pred, y_probs = a.rfc(X_train, X_test, y_train, stock_name, days_ahead)"
   ]
  },
  {
   "cell_type": "code",
   "execution_count": 7,
   "metadata": {
    "scrolled": false
   },
   "outputs": [],
   "source": [
    "# ROC Curve\n",
    "# a.roc_plot(y_test, y_probs, stock_name, model_name)"
   ]
  },
  {
   "cell_type": "code",
   "execution_count": 8,
   "metadata": {
    "scrolled": false
   },
   "outputs": [],
   "source": [
    "# Precision Recall Curve\n",
    "# a.prec_recall(y_test, y_probs, stock_name, model_name)"
   ]
  },
  {
   "cell_type": "code",
   "execution_count": 9,
   "metadata": {
    "scrolled": false
   },
   "outputs": [],
   "source": [
    "# Confusion Matrix\n",
    "# a.confusion_matrix(rfc_model, X_test, y_test, stock_name)"
   ]
  },
  {
   "cell_type": "code",
   "execution_count": 10,
   "metadata": {},
   "outputs": [],
   "source": [
    "# Cross Validation\n",
    "# a.cross_validation(rfc_model\n",
    "#                    , stock_df[['oc', 'hl', '5stdev_adj', '5sma_adj']]\n",
    "#                    , stock_df['direction']\n",
    "#                    , cv = 5\n",
    "#                   )"
   ]
  },
  {
   "cell_type": "markdown",
   "metadata": {},
   "source": [
    "### Prediction..."
   ]
  },
  {
   "cell_type": "code",
   "execution_count": 11,
   "metadata": {
    "scrolled": true
   },
   "outputs": [],
   "source": [
    "# Prediction, use last day of data\n",
    "# stock_df.iloc[-1]"
   ]
  },
  {
   "cell_type": "code",
   "execution_count": 12,
   "metadata": {},
   "outputs": [],
   "source": [
    "# import numpy as np\n",
    "# last = stock_df[['oc', 'hl', '5stdev_adj', '5sma_adj']].iloc[-days_back]\n",
    "# last"
   ]
  },
  {
   "cell_type": "code",
   "execution_count": 13,
   "metadata": {},
   "outputs": [],
   "source": [
    "# stock_df['adj'].describe()"
   ]
  },
  {
   "cell_type": "code",
   "execution_count": 14,
   "metadata": {
    "scrolled": true
   },
   "outputs": [],
   "source": [
    "# if rfc_model.predict(np.array(last).reshape(1, -1))[0] == 1:\n",
    "#     print(f'Buy {stock_name} {days_ahead} day(s) ahead')\n",
    "# else:\n",
    "#     print(f'Sell or hold {stock_name} {days_ahead} day(s) ahead')"
   ]
  },
  {
   "cell_type": "markdown",
   "metadata": {},
   "source": [
    "### Strategy Returns..."
   ]
  },
  {
   "cell_type": "code",
   "execution_count": 15,
   "metadata": {},
   "outputs": [],
   "source": [
    "# returns on strategy column\n",
    "# stock_df['prediction'] = rfc_model.predict(stock_df[['oc', 'hl', '5stdev_adj', '5sma_adj']])\n",
    "# stock_df['returns'] = stock_df['adj'].shift(-1, fill_value = stock_df['adj'].median()) * stock_df['prediction']"
   ]
  },
  {
   "cell_type": "code",
   "execution_count": 16,
   "metadata": {},
   "outputs": [],
   "source": [
    "# stock_df.tail(5)"
   ]
  },
  {
   "cell_type": "code",
   "execution_count": 17,
   "metadata": {},
   "outputs": [],
   "source": [
    "# Don't trade every day!\n",
    "# import matplotlib.pyplot as plt\n",
    "# test_length = len(y_test)\n",
    "# (stock_df['returns'][-test_length:] + 1).cumprod().plot()\n",
    "# plt.title(f'{stock_name} Expected Returns %');"
   ]
  },
  {
   "cell_type": "code",
   "execution_count": 18,
   "metadata": {},
   "outputs": [],
   "source": [
    "# Model returns if bought on predictions of 1\n",
    "# returns_on_ones = []\n",
    "# for idx in range(-test_length, 0):\n",
    "#     if stock_df['prediction'][idx] == 1:\n",
    "#         returns_on_ones.append(1 + stock_df['returns'][idx])\n",
    "\n",
    "# returns = 1\n",
    "# for x in returns_on_ones:\n",
    "#     returns *= x\n",
    "# returns"
   ]
  },
  {
   "cell_type": "code",
   "execution_count": 19,
   "metadata": {},
   "outputs": [],
   "source": [
    "# multiple times original investment, not bad but..."
   ]
  },
  {
   "cell_type": "code",
   "execution_count": 20,
   "metadata": {},
   "outputs": [],
   "source": [
    "# If purchased in 2012 and left it until now\n",
    "# test_idx = int(len(stock_df)*0.75)\n",
    "# (stock_df['Close'][-1] - stock_df['Close'][-test_idx]) / stock_df['Close'][-test_idx]"
   ]
  },
  {
   "cell_type": "code",
   "execution_count": 21,
   "metadata": {},
   "outputs": [],
   "source": [
    "# Buy and hold strategy beats RandomForestClassifier in this study\n",
    "\n",
    "# Special thanks to Shagufta Tahsildar at https://blog.quantinsti.com/random-forest-algorithm-in-python/"
   ]
  },
  {
   "cell_type": "code",
   "execution_count": null,
   "metadata": {},
   "outputs": [],
   "source": []
  },
  {
   "cell_type": "code",
   "execution_count": null,
   "metadata": {},
   "outputs": [],
   "source": []
  },
  {
   "cell_type": "code",
   "execution_count": null,
   "metadata": {},
   "outputs": [],
   "source": []
  },
  {
   "cell_type": "markdown",
   "metadata": {},
   "source": [
    "### Training"
   ]
  },
  {
   "cell_type": "markdown",
   "metadata": {},
   "source": [
    "Training is done once a week on Saturday and Sunday"
   ]
  },
  {
   "cell_type": "code",
   "execution_count": 22,
   "metadata": {},
   "outputs": [
    {
     "data": {
      "text/plain": [
       "45"
      ]
     },
     "execution_count": 22,
     "metadata": {},
     "output_type": "execute_result"
    }
   ],
   "source": [
    "len(start_dates)"
   ]
  },
  {
   "cell_type": "code",
   "execution_count": 23,
   "metadata": {},
   "outputs": [
    {
     "data": {
      "text/plain": [
       "{'a': '11/15/1999',\n",
       " 'aapl': '12/12/1980',\n",
       " 'acy': '01/18/1998',\n",
       " 'adbe': '08/11/1986',\n",
       " 'alb': '02/21/1994',\n",
       " 'amat': '03/16/1980',\n",
       " 'amd': '03/17/1980',\n",
       " 'amzn': '05/12/1997',\n",
       " 'baba': '09/15/2014',\n",
       " 'bac': '02/19/1973',\n",
       " 'bpmc': '04/27/2015',\n",
       " 'crm': '06/23/2004',\n",
       " 'crsp': '10/16/2016',\n",
       " 'dq': '10/04/2010',\n",
       " 'esgv': '09/16/2018'}"
      ]
     },
     "execution_count": 23,
     "metadata": {},
     "output_type": "execute_result"
    }
   ],
   "source": [
    "import itertools as itr\n",
    "start_dates1 = dict(itr.islice(start_dates.items(), 0, 15))\n",
    "start_dates1"
   ]
  },
  {
   "cell_type": "code",
   "execution_count": 24,
   "metadata": {},
   "outputs": [
    {
     "data": {
      "text/plain": [
       "{'fslr': '11/12/2006',\n",
       " 'goog': '08/16/2004',\n",
       " 'ibm': '01/02/1962',\n",
       " 'idex': '05/23/2007',\n",
       " 'intc': '03/16/1980',\n",
       " 'iyw': '05/15/2000',\n",
       " 'lng': '04/04/1994',\n",
       " 'ma': '05/21/2006',\n",
       " 'mdb': '10/15/2017',\n",
       " 'msft': '03/10/1986',\n",
       " 'mu': '05/28/1984',\n",
       " 'nee': '02/19/1973',\n",
       " 'nga': '10/08/2020',\n",
       " 'nio': '09/10/2018',\n",
       " 'nvda': '01/22/1999'}"
      ]
     },
     "execution_count": 24,
     "metadata": {},
     "output_type": "execute_result"
    }
   ],
   "source": [
    "start_dates2 = dict(itr.islice(start_dates.items(), 15, 30))\n",
    "start_dates2"
   ]
  },
  {
   "cell_type": "code",
   "execution_count": 25,
   "metadata": {},
   "outputs": [
    {
     "data": {
      "text/plain": [
       "{'pacb': '10/25/2010',\n",
       " 'pypl': '07/05/2015',\n",
       " 'qgen': '06/24/1996',\n",
       " 'run': '08/02/2015',\n",
       " 'orcl': '03/10/1986',\n",
       " 'qqq': '03/08/1999',\n",
       " 'srpt': '06/02/1997',\n",
       " 'tpic': '07/17/2016',\n",
       " 'tsla': '06/29/2010',\n",
       " 'v': '03/16/2008',\n",
       " 'vbiv': '09/04/2002',\n",
       " 'vbr': '01/26/2004',\n",
       " 'viov': '09/06/2010',\n",
       " 'vgt': '01/26/2004',\n",
       " 'xlk': '12/21/1998'}"
      ]
     },
     "execution_count": 25,
     "metadata": {},
     "output_type": "execute_result"
    }
   ],
   "source": [
    "start_dates3 = dict(itr.islice(start_dates.items(), 30, 45+1))\n",
    "start_dates3"
   ]
  },
  {
   "cell_type": "code",
   "execution_count": 26,
   "metadata": {},
   "outputs": [],
   "source": [
    "#Train 15 at a time!\n",
    "# stocks = [x for x in start_dates1]\n",
    "# days_ahead = [1, 3, 5]\n",
    "# cv = 5\n",
    "# for stock in stocks:\n",
    "#     for days in days_ahead:\n",
    "#         X_train, X_test, y_train, y_test, stock_df = a.data(stock, start_dates[stock], days)\n",
    "#         a.rfc_GridSearch(X_train, y_train, stock, days, cv)\n",
    "# len(stocks)\n",
    "\n",
    "# stocks = [x for x in start_dates2]\n",
    "# days_ahead = [1, 3, 5]\n",
    "# cv = 5\n",
    "# for stock in stocks:\n",
    "#     for days in days_ahead:\n",
    "#         X_train, X_test, y_train, y_test, stock_df = a.data(stock, start_dates[stock], days)\n",
    "#         a.rfc_GridSearch(X_train, y_train, stock, days, cv)\n",
    "# len(stocks)\n",
    "\n",
    "# stocks = [x for x in start_dates3]\n",
    "# days_ahead = [1, 3, 5]\n",
    "# cv = 5\n",
    "# for stock in stocks:\n",
    "#     for days in days_ahead:\n",
    "#         X_train, X_test, y_train, y_test, stock_df = a.data(stock, start_dates[stock], days)\n",
    "#         a.rfc_GridSearch(X_train, y_train, stock, days, cv)\n",
    "# len(stocks)\n",
    "\n",
    "# Train all, takes 15+ hours\n",
    "# stocks = [x for x in start_dates]\n",
    "# days_ahead = [1, 3, 5]\n",
    "# cv = 5\n",
    "# for stock in stocks:\n",
    "#     for days in days_ahead:\n",
    "#         X_train, X_test, y_train, y_test, stock_df = a.data(stock, start_dates[stock], days)\n",
    "#         a.rfc_GridSearch(X_train, y_train, stock, days, cv)\n",
    "# len(stocks)\n",
    "\n",
    "# Train desired stocks...takes less time\n",
    "# stocks = ['nga']\n",
    "# days_ahead = [1, 3, 5]\n",
    "# cv = 5\n",
    "# for stock in stocks:\n",
    "#     for days in days_ahead:\n",
    "#         X_train, X_test, y_train, y_test, stock_df = a.data(stock, start_dates[stock], days)\n",
    "#         a.rfc_GridSearch(X_train, y_train, stock, days, cv)"
   ]
  },
  {
   "cell_type": "code",
   "execution_count": null,
   "metadata": {},
   "outputs": [],
   "source": []
  },
  {
   "cell_type": "code",
   "execution_count": null,
   "metadata": {},
   "outputs": [],
   "source": []
  },
  {
   "cell_type": "code",
   "execution_count": null,
   "metadata": {},
   "outputs": [],
   "source": []
  },
  {
   "cell_type": "markdown",
   "metadata": {},
   "source": [
    "### Display All Results"
   ]
  },
  {
   "cell_type": "code",
   "execution_count": 27,
   "metadata": {
    "scrolled": false
   },
   "outputs": [
    {
     "name": "stdout",
     "output_type": "stream",
     "text": [
      "Buy vbiv 5 day(s) ahead\n",
      "Model Returns (x 100 for %): 0.969\n",
      "Stock Returns (x 100 for %): -0.8324\n"
     ]
    },
    {
     "data": {
      "image/png": "[encoded data removed]",
      "text/plain": [
       "<Figure size 432x288 with 1 Axes>"
      ]
     },
     "metadata": {},
     "output_type": "display_data"
    },
    {
     "data": {
      "image/png": "[encoded data removed]",
      "text/plain": [
       "<Figure size 648x504 with 1 Axes>"
      ]
     },
     "metadata": {},
     "output_type": "display_data"
    },
    {
     "data": {
      "image/png": "[encoded data removed]",
      "text/plain": [
       "<Figure size 648x504 with 1 Axes>"
      ]
     },
     "metadata": {},
     "output_type": "display_data"
    },
    {
     "data": {
      "image/png": "[encoded data removed]",
      "text/plain": [
       "<Figure size 684x612 with 2 Axes>"
      ]
     },
     "metadata": {},
     "output_type": "display_data"
    }
   ],
   "source": [
    "stock_name = 'vbiv'\n",
    "a.all_func(stock_name\n",
    "           , start_dates[stock_name]\n",
    "           , days_ahead = 5\n",
    "           , model_name = model_name\n",
    "           , days_back = 1\n",
    "          )"
   ]
  },
  {
   "cell_type": "code",
   "execution_count": null,
   "metadata": {},
   "outputs": [],
   "source": []
  },
  {
   "cell_type": "code",
   "execution_count": null,
   "metadata": {},
   "outputs": [],
   "source": []
  },
  {
   "cell_type": "code",
   "execution_count": null,
   "metadata": {},
   "outputs": [],
   "source": []
  },
  {
   "cell_type": "markdown",
   "metadata": {},
   "source": [
    "### Data Frame of Predictions 1 3 5 Days"
   ]
  },
  {
   "cell_type": "code",
   "execution_count": 28,
   "metadata": {},
   "outputs": [
    {
     "name": "stdout",
     "output_type": "stream",
     "text": [
      "Today's date: 2021-01-27\n"
     ]
    }
   ],
   "source": [
    "from datetime import date\n",
    "\n",
    "today = date.today()\n",
    "print(\"Today's date:\", today)"
   ]
  },
  {
   "cell_type": "code",
   "execution_count": 29,
   "metadata": {
    "scrolled": false
   },
   "outputs": [
    {
     "data": {
      "text/html": [
       "<div>\n",
       "<style scoped>\n",
       "    .dataframe tbody tr th:only-of-type {\n",
       "        vertical-align: middle;\n",
       "    }\n",
       "\n",
       "    .dataframe tbody tr th {\n",
       "        vertical-align: top;\n",
       "    }\n",
       "\n",
       "    .dataframe thead th {\n",
       "        text-align: right;\n",
       "    }\n",
       "</style>\n",
       "<table border=\"1\" class=\"dataframe\">\n",
       "  <thead>\n",
       "    <tr style=\"text-align: right;\">\n",
       "      <th></th>\n",
       "      <th>stock</th>\n",
       "      <th>1_Day_Pred</th>\n",
       "      <th>1_Day_Model_Return</th>\n",
       "      <th>3_Day_Pred</th>\n",
       "      <th>3_Day_Model_Return</th>\n",
       "      <th>5_Day_Pred</th>\n",
       "      <th>5_Day_Model_Return</th>\n",
       "      <th>Actual_Returns</th>\n",
       "    </tr>\n",
       "  </thead>\n",
       "  <tbody>\n",
       "    <tr>\n",
       "      <th>0</th>\n",
       "      <td>a</td>\n",
       "      <td>Buy</td>\n",
       "      <td>3.4782</td>\n",
       "      <td>Buy</td>\n",
       "      <td>3.4243</td>\n",
       "      <td>Buy</td>\n",
       "      <td>4.1330</td>\n",
       "      <td>6.3293</td>\n",
       "    </tr>\n",
       "    <tr>\n",
       "      <th>1</th>\n",
       "      <td>aapl</td>\n",
       "      <td>Buy</td>\n",
       "      <td>3.5124</td>\n",
       "      <td>Buy</td>\n",
       "      <td>4.6036</td>\n",
       "      <td>Buy</td>\n",
       "      <td>4.3247</td>\n",
       "      <td>360.6074</td>\n",
       "    </tr>\n",
       "    <tr>\n",
       "      <th>2</th>\n",
       "      <td>acy</td>\n",
       "      <td>Hold or Sell</td>\n",
       "      <td>1.0310</td>\n",
       "      <td>Hold or Sell</td>\n",
       "      <td>0.6737</td>\n",
       "      <td>Hold or Sell</td>\n",
       "      <td>0.7913</td>\n",
       "      <td>1.7857</td>\n",
       "    </tr>\n",
       "    <tr>\n",
       "      <th>3</th>\n",
       "      <td>adbe</td>\n",
       "      <td>Buy</td>\n",
       "      <td>7.7268</td>\n",
       "      <td>Buy</td>\n",
       "      <td>6.6614</td>\n",
       "      <td>Buy</td>\n",
       "      <td>7.4025</td>\n",
       "      <td>101.2222</td>\n",
       "    </tr>\n",
       "    <tr>\n",
       "      <th>4</th>\n",
       "      <td>alb</td>\n",
       "      <td>Buy</td>\n",
       "      <td>2.1386</td>\n",
       "      <td>Buy</td>\n",
       "      <td>2.2163</td>\n",
       "      <td>Buy</td>\n",
       "      <td>2.2124</td>\n",
       "      <td>14.7070</td>\n",
       "    </tr>\n",
       "    <tr>\n",
       "      <th>5</th>\n",
       "      <td>amat</td>\n",
       "      <td>Buy</td>\n",
       "      <td>7.0119</td>\n",
       "      <td>Buy</td>\n",
       "      <td>5.9108</td>\n",
       "      <td>Buy</td>\n",
       "      <td>8.6130</td>\n",
       "      <td>168.3724</td>\n",
       "    </tr>\n",
       "    <tr>\n",
       "      <th>6</th>\n",
       "      <td>amd</td>\n",
       "      <td>Buy</td>\n",
       "      <td>6.9952</td>\n",
       "      <td>Buy</td>\n",
       "      <td>3.6911</td>\n",
       "      <td>Buy</td>\n",
       "      <td>11.0522</td>\n",
       "      <td>15.9219</td>\n",
       "    </tr>\n",
       "    <tr>\n",
       "      <th>7</th>\n",
       "      <td>amzn</td>\n",
       "      <td>Buy</td>\n",
       "      <td>3.8131</td>\n",
       "      <td>Buy</td>\n",
       "      <td>3.8910</td>\n",
       "      <td>Buy</td>\n",
       "      <td>4.1455</td>\n",
       "      <td>110.0471</td>\n",
       "    </tr>\n",
       "    <tr>\n",
       "      <th>8</th>\n",
       "      <td>baba</td>\n",
       "      <td>Buy</td>\n",
       "      <td>1.3571</td>\n",
       "      <td>Buy</td>\n",
       "      <td>1.1875</td>\n",
       "      <td>Buy</td>\n",
       "      <td>0.9988</td>\n",
       "      <td>2.4064</td>\n",
       "    </tr>\n",
       "    <tr>\n",
       "      <th>9</th>\n",
       "      <td>bac</td>\n",
       "      <td>Buy</td>\n",
       "      <td>3.0235</td>\n",
       "      <td>Buy</td>\n",
       "      <td>3.3787</td>\n",
       "      <td>Buy</td>\n",
       "      <td>3.8881</td>\n",
       "      <td>5.6289</td>\n",
       "    </tr>\n",
       "    <tr>\n",
       "      <th>10</th>\n",
       "      <td>bpmc</td>\n",
       "      <td>Buy</td>\n",
       "      <td>2.1104</td>\n",
       "      <td>Buy</td>\n",
       "      <td>1.2172</td>\n",
       "      <td>Buy</td>\n",
       "      <td>1.4734</td>\n",
       "      <td>2.2548</td>\n",
       "    </tr>\n",
       "    <tr>\n",
       "      <th>11</th>\n",
       "      <td>crm</td>\n",
       "      <td>Hold or Sell</td>\n",
       "      <td>2.5345</td>\n",
       "      <td>Hold or Sell</td>\n",
       "      <td>2.7092</td>\n",
       "      <td>Hold or Sell</td>\n",
       "      <td>2.3806</td>\n",
       "      <td>15.8849</td>\n",
       "    </tr>\n",
       "    <tr>\n",
       "      <th>12</th>\n",
       "      <td>crsp</td>\n",
       "      <td>Hold or Sell</td>\n",
       "      <td>1.0077</td>\n",
       "      <td>Buy</td>\n",
       "      <td>0.9898</td>\n",
       "      <td>Buy</td>\n",
       "      <td>0.8804</td>\n",
       "      <td>7.8193</td>\n",
       "    </tr>\n",
       "    <tr>\n",
       "      <th>13</th>\n",
       "      <td>dq</td>\n",
       "      <td>Hold or Sell</td>\n",
       "      <td>7.2447</td>\n",
       "      <td>Hold or Sell</td>\n",
       "      <td>6.9005</td>\n",
       "      <td>Hold or Sell</td>\n",
       "      <td>10.0598</td>\n",
       "      <td>92.9241</td>\n",
       "    </tr>\n",
       "    <tr>\n",
       "      <th>14</th>\n",
       "      <td>esgv</td>\n",
       "      <td>Buy</td>\n",
       "      <td>1.1075</td>\n",
       "      <td>Buy</td>\n",
       "      <td>1.0640</td>\n",
       "      <td>Buy</td>\n",
       "      <td>1.1526</td>\n",
       "      <td>0.3871</td>\n",
       "    </tr>\n",
       "    <tr>\n",
       "      <th>15</th>\n",
       "      <td>fslr</td>\n",
       "      <td>Hold or Sell</td>\n",
       "      <td>2.8491</td>\n",
       "      <td>Hold or Sell</td>\n",
       "      <td>2.5846</td>\n",
       "      <td>Hold or Sell</td>\n",
       "      <td>2.1516</td>\n",
       "      <td>-0.1233</td>\n",
       "    </tr>\n",
       "    <tr>\n",
       "      <th>16</th>\n",
       "      <td>goog</td>\n",
       "      <td>Buy</td>\n",
       "      <td>2.4298</td>\n",
       "      <td>Buy</td>\n",
       "      <td>1.8631</td>\n",
       "      <td>Buy</td>\n",
       "      <td>2.7890</td>\n",
       "      <td>8.4991</td>\n",
       "    </tr>\n",
       "    <tr>\n",
       "      <th>17</th>\n",
       "      <td>ibm</td>\n",
       "      <td>Hold or Sell</td>\n",
       "      <td>2.7064</td>\n",
       "      <td>Hold or Sell</td>\n",
       "      <td>4.1038</td>\n",
       "      <td>Hold or Sell</td>\n",
       "      <td>3.7612</td>\n",
       "      <td>6.4791</td>\n",
       "    </tr>\n",
       "    <tr>\n",
       "      <th>18</th>\n",
       "      <td>idex</td>\n",
       "      <td>Hold or Sell</td>\n",
       "      <td>0.1548</td>\n",
       "      <td>Hold or Sell</td>\n",
       "      <td>0.1720</td>\n",
       "      <td>Hold or Sell</td>\n",
       "      <td>0.1144</td>\n",
       "      <td>0.0960</td>\n",
       "    </tr>\n",
       "    <tr>\n",
       "      <th>19</th>\n",
       "      <td>intc</td>\n",
       "      <td>Buy</td>\n",
       "      <td>5.2667</td>\n",
       "      <td>Buy</td>\n",
       "      <td>4.9259</td>\n",
       "      <td>Buy</td>\n",
       "      <td>7.1373</td>\n",
       "      <td>34.5415</td>\n",
       "    </tr>\n",
       "    <tr>\n",
       "      <th>20</th>\n",
       "      <td>iyw</td>\n",
       "      <td>Buy</td>\n",
       "      <td>2.7134</td>\n",
       "      <td>Buy</td>\n",
       "      <td>4.0391</td>\n",
       "      <td>Buy</td>\n",
       "      <td>3.2765</td>\n",
       "      <td>6.1806</td>\n",
       "    </tr>\n",
       "    <tr>\n",
       "      <th>21</th>\n",
       "      <td>lng</td>\n",
       "      <td>Buy</td>\n",
       "      <td>1.0824</td>\n",
       "      <td>Buy</td>\n",
       "      <td>0.7800</td>\n",
       "      <td>Buy</td>\n",
       "      <td>0.8704</td>\n",
       "      <td>41.8129</td>\n",
       "    </tr>\n",
       "    <tr>\n",
       "      <th>22</th>\n",
       "      <td>ma</td>\n",
       "      <td>Buy</td>\n",
       "      <td>2.5267</td>\n",
       "      <td>Buy</td>\n",
       "      <td>2.9897</td>\n",
       "      <td>Buy</td>\n",
       "      <td>1.9307</td>\n",
       "      <td>11.4917</td>\n",
       "    </tr>\n",
       "    <tr>\n",
       "      <th>23</th>\n",
       "      <td>mdb</td>\n",
       "      <td>Buy</td>\n",
       "      <td>0.7809</td>\n",
       "      <td>Buy</td>\n",
       "      <td>1.0299</td>\n",
       "      <td>Buy</td>\n",
       "      <td>0.8903</td>\n",
       "      <td>4.2864</td>\n",
       "    </tr>\n",
       "    <tr>\n",
       "      <th>24</th>\n",
       "      <td>msft</td>\n",
       "      <td>Hold or Sell</td>\n",
       "      <td>7.1724</td>\n",
       "      <td>Buy</td>\n",
       "      <td>8.2228</td>\n",
       "      <td>Buy</td>\n",
       "      <td>7.8824</td>\n",
       "      <td>58.8618</td>\n",
       "    </tr>\n",
       "    <tr>\n",
       "      <th>25</th>\n",
       "      <td>mu</td>\n",
       "      <td>Buy</td>\n",
       "      <td>2.6357</td>\n",
       "      <td>Buy</td>\n",
       "      <td>2.6158</td>\n",
       "      <td>Buy</td>\n",
       "      <td>3.9371</td>\n",
       "      <td>15.4131</td>\n",
       "    </tr>\n",
       "    <tr>\n",
       "      <th>26</th>\n",
       "      <td>nee</td>\n",
       "      <td>Buy</td>\n",
       "      <td>4.3528</td>\n",
       "      <td>Buy</td>\n",
       "      <td>4.3538</td>\n",
       "      <td>Buy</td>\n",
       "      <td>5.9014</td>\n",
       "      <td>28.3266</td>\n",
       "    </tr>\n",
       "    <tr>\n",
       "      <th>27</th>\n",
       "      <td>nga</td>\n",
       "      <td>Hold or Sell</td>\n",
       "      <td>1.4708</td>\n",
       "      <td>Buy</td>\n",
       "      <td>0.9367</td>\n",
       "      <td>Buy</td>\n",
       "      <td>0.9140</td>\n",
       "      <td>1.4639</td>\n",
       "    </tr>\n",
       "    <tr>\n",
       "      <th>28</th>\n",
       "      <td>nio</td>\n",
       "      <td>Buy</td>\n",
       "      <td>1.9977</td>\n",
       "      <td>Buy</td>\n",
       "      <td>1.7105</td>\n",
       "      <td>Buy</td>\n",
       "      <td>2.5272</td>\n",
       "      <td>10.6633</td>\n",
       "    </tr>\n",
       "    <tr>\n",
       "      <th>29</th>\n",
       "      <td>nvda</td>\n",
       "      <td>Buy</td>\n",
       "      <td>10.0685</td>\n",
       "      <td>Buy</td>\n",
       "      <td>9.4893</td>\n",
       "      <td>Buy</td>\n",
       "      <td>13.4966</td>\n",
       "      <td>103.6678</td>\n",
       "    </tr>\n",
       "    <tr>\n",
       "      <th>30</th>\n",
       "      <td>pacb</td>\n",
       "      <td>Hold or Sell</td>\n",
       "      <td>1.8513</td>\n",
       "      <td>Hold or Sell</td>\n",
       "      <td>1.6371</td>\n",
       "      <td>Hold or Sell</td>\n",
       "      <td>1.3559</td>\n",
       "      <td>10.8099</td>\n",
       "    </tr>\n",
       "    <tr>\n",
       "      <th>31</th>\n",
       "      <td>pypl</td>\n",
       "      <td>Buy</td>\n",
       "      <td>3.1056</td>\n",
       "      <td>Buy</td>\n",
       "      <td>2.7595</td>\n",
       "      <td>Buy</td>\n",
       "      <td>2.4076</td>\n",
       "      <td>4.7644</td>\n",
       "    </tr>\n",
       "    <tr>\n",
       "      <th>32</th>\n",
       "      <td>qgen</td>\n",
       "      <td>Hold or Sell</td>\n",
       "      <td>2.1320</td>\n",
       "      <td>Hold or Sell</td>\n",
       "      <td>2.1137</td>\n",
       "      <td>Buy</td>\n",
       "      <td>2.6331</td>\n",
       "      <td>7.0064</td>\n",
       "    </tr>\n",
       "    <tr>\n",
       "      <th>33</th>\n",
       "      <td>run</td>\n",
       "      <td>Buy</td>\n",
       "      <td>1.2469</td>\n",
       "      <td>Buy</td>\n",
       "      <td>0.9666</td>\n",
       "      <td>Buy</td>\n",
       "      <td>1.1634</td>\n",
       "      <td>11.6257</td>\n",
       "    </tr>\n",
       "    <tr>\n",
       "      <th>34</th>\n",
       "      <td>orcl</td>\n",
       "      <td>Hold or Sell</td>\n",
       "      <td>1.9553</td>\n",
       "      <td>Hold or Sell</td>\n",
       "      <td>3.2321</td>\n",
       "      <td>Hold or Sell</td>\n",
       "      <td>2.7398</td>\n",
       "      <td>31.4779</td>\n",
       "    </tr>\n",
       "    <tr>\n",
       "      <th>35</th>\n",
       "      <td>qqq</td>\n",
       "      <td>Buy</td>\n",
       "      <td>2.5522</td>\n",
       "      <td>Buy</td>\n",
       "      <td>3.1583</td>\n",
       "      <td>Buy</td>\n",
       "      <td>2.3236</td>\n",
       "      <td>8.2777</td>\n",
       "    </tr>\n",
       "    <tr>\n",
       "      <th>36</th>\n",
       "      <td>srpt</td>\n",
       "      <td>Buy</td>\n",
       "      <td>1.6753</td>\n",
       "      <td>Hold or Sell</td>\n",
       "      <td>2.4112</td>\n",
       "      <td>Hold or Sell</td>\n",
       "      <td>2.5888</td>\n",
       "      <td>1.5094</td>\n",
       "    </tr>\n",
       "    <tr>\n",
       "      <th>37</th>\n",
       "      <td>tpic</td>\n",
       "      <td>Buy</td>\n",
       "      <td>1.1774</td>\n",
       "      <td>Buy</td>\n",
       "      <td>1.4438</td>\n",
       "      <td>Buy</td>\n",
       "      <td>1.4215</td>\n",
       "      <td>2.0175</td>\n",
       "    </tr>\n",
       "    <tr>\n",
       "      <th>38</th>\n",
       "      <td>tsla</td>\n",
       "      <td>Buy</td>\n",
       "      <td>3.8541</td>\n",
       "      <td>Buy</td>\n",
       "      <td>2.1080</td>\n",
       "      <td>Buy</td>\n",
       "      <td>1.9595</td>\n",
       "      <td>122.0997</td>\n",
       "    </tr>\n",
       "    <tr>\n",
       "      <th>39</th>\n",
       "      <td>v</td>\n",
       "      <td>Buy</td>\n",
       "      <td>2.7844</td>\n",
       "      <td>Buy</td>\n",
       "      <td>2.4221</td>\n",
       "      <td>Buy</td>\n",
       "      <td>2.8245</td>\n",
       "      <td>9.4416</td>\n",
       "    </tr>\n",
       "    <tr>\n",
       "      <th>40</th>\n",
       "      <td>vbiv</td>\n",
       "      <td>Hold or Sell</td>\n",
       "      <td>0.4979</td>\n",
       "      <td>Hold or Sell</td>\n",
       "      <td>1.4245</td>\n",
       "      <td>Hold or Sell</td>\n",
       "      <td>1.5049</td>\n",
       "      <td>-0.8324</td>\n",
       "    </tr>\n",
       "    <tr>\n",
       "      <th>41</th>\n",
       "      <td>vbr</td>\n",
       "      <td>Buy</td>\n",
       "      <td>1.3307</td>\n",
       "      <td>Buy</td>\n",
       "      <td>1.1344</td>\n",
       "      <td>Buy</td>\n",
       "      <td>1.6527</td>\n",
       "      <td>1.3172</td>\n",
       "    </tr>\n",
       "    <tr>\n",
       "      <th>42</th>\n",
       "      <td>viov</td>\n",
       "      <td>Buy</td>\n",
       "      <td>1.3680</td>\n",
       "      <td>Hold or Sell</td>\n",
       "      <td>1.0268</td>\n",
       "      <td>Buy</td>\n",
       "      <td>1.0963</td>\n",
       "      <td>1.0438</td>\n",
       "    </tr>\n",
       "    <tr>\n",
       "      <th>43</th>\n",
       "      <td>vgt</td>\n",
       "      <td>Buy</td>\n",
       "      <td>2.6709</td>\n",
       "      <td>Buy</td>\n",
       "      <td>3.4792</td>\n",
       "      <td>Buy</td>\n",
       "      <td>3.1551</td>\n",
       "      <td>5.4238</td>\n",
       "    </tr>\n",
       "    <tr>\n",
       "      <th>44</th>\n",
       "      <td>xlk</td>\n",
       "      <td>Buy</td>\n",
       "      <td>3.6186</td>\n",
       "      <td>Buy</td>\n",
       "      <td>4.5544</td>\n",
       "      <td>Buy</td>\n",
       "      <td>3.1307</td>\n",
       "      <td>5.7401</td>\n",
       "    </tr>\n",
       "  </tbody>\n",
       "</table>\n",
       "</div>"
      ],
      "text/plain": [
       "   stock    1_Day_Pred  1_Day_Model_Return    3_Day_Pred  3_Day_Model_Return  \\\n",
       "0      a           Buy              3.4782           Buy              3.4243   \n",
       "1   aapl           Buy              3.5124           Buy              4.6036   \n",
       "2    acy  Hold or Sell              1.0310  Hold or Sell              0.6737   \n",
       "3   adbe           Buy              7.7268           Buy              6.6614   \n",
       "4    alb           Buy              2.1386           Buy              2.2163   \n",
       "5   amat           Buy              7.0119           Buy              5.9108   \n",
       "6    amd           Buy              6.9952           Buy              3.6911   \n",
       "7   amzn           Buy              3.8131           Buy              3.8910   \n",
       "8   baba           Buy              1.3571           Buy              1.1875   \n",
       "9    bac           Buy              3.0235           Buy              3.3787   \n",
       "10  bpmc           Buy              2.1104           Buy              1.2172   \n",
       "11   crm  Hold or Sell              2.5345  Hold or Sell              2.7092   \n",
       "12  crsp  Hold or Sell              1.0077           Buy              0.9898   \n",
       "13    dq  Hold or Sell              7.2447  Hold or Sell              6.9005   \n",
       "14  esgv           Buy              1.1075           Buy              1.0640   \n",
       "15  fslr  Hold or Sell              2.8491  Hold or Sell              2.5846   \n",
       "16  goog           Buy              2.4298           Buy              1.8631   \n",
       "17   ibm  Hold or Sell              2.7064  Hold or Sell              4.1038   \n",
       "18  idex  Hold or Sell              0.1548  Hold or Sell              0.1720   \n",
       "19  intc           Buy              5.2667           Buy              4.9259   \n",
       "20   iyw           Buy              2.7134           Buy              4.0391   \n",
       "21   lng           Buy              1.0824           Buy              0.7800   \n",
       "22    ma           Buy              2.5267           Buy              2.9897   \n",
       "23   mdb           Buy              0.7809           Buy              1.0299   \n",
       "24  msft  Hold or Sell              7.1724           Buy              8.2228   \n",
       "25    mu           Buy              2.6357           Buy              2.6158   \n",
       "26   nee           Buy              4.3528           Buy              4.3538   \n",
       "27   nga  Hold or Sell              1.4708           Buy              0.9367   \n",
       "28   nio           Buy              1.9977           Buy              1.7105   \n",
       "29  nvda           Buy             10.0685           Buy              9.4893   \n",
       "30  pacb  Hold or Sell              1.8513  Hold or Sell              1.6371   \n",
       "31  pypl           Buy              3.1056           Buy              2.7595   \n",
       "32  qgen  Hold or Sell              2.1320  Hold or Sell              2.1137   \n",
       "33   run           Buy              1.2469           Buy              0.9666   \n",
       "34  orcl  Hold or Sell              1.9553  Hold or Sell              3.2321   \n",
       "35   qqq           Buy              2.5522           Buy              3.1583   \n",
       "36  srpt           Buy              1.6753  Hold or Sell              2.4112   \n",
       "37  tpic           Buy              1.1774           Buy              1.4438   \n",
       "38  tsla           Buy              3.8541           Buy              2.1080   \n",
       "39     v           Buy              2.7844           Buy              2.4221   \n",
       "40  vbiv  Hold or Sell              0.4979  Hold or Sell              1.4245   \n",
       "41   vbr           Buy              1.3307           Buy              1.1344   \n",
       "42  viov           Buy              1.3680  Hold or Sell              1.0268   \n",
       "43   vgt           Buy              2.6709           Buy              3.4792   \n",
       "44   xlk           Buy              3.6186           Buy              4.5544   \n",
       "\n",
       "      5_Day_Pred  5_Day_Model_Return  Actual_Returns  \n",
       "0            Buy              4.1330          6.3293  \n",
       "1            Buy              4.3247        360.6074  \n",
       "2   Hold or Sell              0.7913          1.7857  \n",
       "3            Buy              7.4025        101.2222  \n",
       "4            Buy              2.2124         14.7070  \n",
       "5            Buy              8.6130        168.3724  \n",
       "6            Buy             11.0522         15.9219  \n",
       "7            Buy              4.1455        110.0471  \n",
       "8            Buy              0.9988          2.4064  \n",
       "9            Buy              3.8881          5.6289  \n",
       "10           Buy              1.4734          2.2548  \n",
       "11  Hold or Sell              2.3806         15.8849  \n",
       "12           Buy              0.8804          7.8193  \n",
       "13  Hold or Sell             10.0598         92.9241  \n",
       "14           Buy              1.1526          0.3871  \n",
       "15  Hold or Sell              2.1516         -0.1233  \n",
       "16           Buy              2.7890          8.4991  \n",
       "17  Hold or Sell              3.7612          6.4791  \n",
       "18  Hold or Sell              0.1144          0.0960  \n",
       "19           Buy              7.1373         34.5415  \n",
       "20           Buy              3.2765          6.1806  \n",
       "21           Buy              0.8704         41.8129  \n",
       "22           Buy              1.9307         11.4917  \n",
       "23           Buy              0.8903          4.2864  \n",
       "24           Buy              7.8824         58.8618  \n",
       "25           Buy              3.9371         15.4131  \n",
       "26           Buy              5.9014         28.3266  \n",
       "27           Buy              0.9140          1.4639  \n",
       "28           Buy              2.5272         10.6633  \n",
       "29           Buy             13.4966        103.6678  \n",
       "30  Hold or Sell              1.3559         10.8099  \n",
       "31           Buy              2.4076          4.7644  \n",
       "32           Buy              2.6331          7.0064  \n",
       "33           Buy              1.1634         11.6257  \n",
       "34  Hold or Sell              2.7398         31.4779  \n",
       "35           Buy              2.3236          8.2777  \n",
       "36  Hold or Sell              2.5888          1.5094  \n",
       "37           Buy              1.4215          2.0175  \n",
       "38           Buy              1.9595        122.0997  \n",
       "39           Buy              2.8245          9.4416  \n",
       "40  Hold or Sell              1.5049         -0.8324  \n",
       "41           Buy              1.6527          1.3172  \n",
       "42           Buy              1.0963          1.0438  \n",
       "43           Buy              3.1551          5.4238  \n",
       "44           Buy              3.1307          5.7401  "
      ]
     },
     "execution_count": 29,
     "metadata": {},
     "output_type": "execute_result"
    }
   ],
   "source": [
    "summary_df = a.pred_summary_df(start_dates, stocks = [x for x in start_dates], days_back = 1)\n",
    "summary_df"
   ]
  },
  {
   "cell_type": "code",
   "execution_count": 30,
   "metadata": {},
   "outputs": [
    {
     "data": {
      "text/plain": [
       "(2.5345, 2.5846, 2.5272, 8.2777)"
      ]
     },
     "execution_count": 30,
     "metadata": {},
     "output_type": "execute_result"
    }
   ],
   "source": [
    "summary_df['1_Day_Model_Return'].median(), summary_df['3_Day_Model_Return'].median(), summary_df['5_Day_Model_Return'].median(), summary_df['Actual_Returns'].median()"
   ]
  },
  {
   "cell_type": "code",
   "execution_count": null,
   "metadata": {},
   "outputs": [],
   "source": []
  },
  {
   "cell_type": "code",
   "execution_count": null,
   "metadata": {},
   "outputs": [],
   "source": []
  },
  {
   "cell_type": "code",
   "execution_count": null,
   "metadata": {},
   "outputs": [],
   "source": []
  },
  {
   "cell_type": "code",
   "execution_count": null,
   "metadata": {},
   "outputs": [],
   "source": []
  }
 ],
 "metadata": {
  "kernelspec": {
   "display_name": "Python 3",
   "language": "python",
   "name": "python3"
  },
  "language_info": {
   "codemirror_mode": {
    "name": "ipython",
    "version": 3
   },
   "file_extension": ".py",
   "mimetype": "text/x-python",
   "name": "python",
   "nbconvert_exporter": "python",
   "pygments_lexer": "ipython3",
   "version": "3.8.5"
  }
 },
 "nbformat": 4,
 "nbformat_minor": 4
}
