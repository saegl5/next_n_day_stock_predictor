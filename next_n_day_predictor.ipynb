{
 "cells": [
  {
   "cell_type": "code",
   "execution_count": 1,
   "metadata": {
    "scrolled": true
   },
   "outputs": [],
   "source": [
    "from src import attributes as a\n",
    "%load_ext autoreload\n",
    "%autoreload 2"
   ]
  },
  {
   "cell_type": "code",
   "execution_count": 2,
   "metadata": {},
   "outputs": [],
   "source": [
    "# Global Variables\n",
    "stock_name = 'msft' # ticker symbol\n",
    "train = 0 # 1 for train, 0 for pass\n",
    "days_ahead = 1 # for predicting 1, 3, or 5 days ahead\n",
    "days_back = -1 # -1 for current data point, -2 for two days ago, etc...\n",
    "cv = 5 # number of cross validation folds\n",
    "model_name = 'Random Forest Classifier' # for display on charts, not a tuning parameter"
   ]
  },
  {
   "cell_type": "code",
   "execution_count": 3,
   "metadata": {},
   "outputs": [],
   "source": [
    "# Extract, Transform, Load, and Train Test Split\n",
    "# Dictionary of IPO Dates\n",
    "start_dates = {'a': '11/15/1999' # Updated 3/18/21 1D, 3D, 5D ahead\n",
    "               , 'aapl':'12/12/1980' # Updated 3/18/21 1D, 3D, 5D ahead\n",
    "               , 'acy': '01/18/1998' # Updated 3/18/21 1D, 3D, 5D ahead\n",
    "               , 'adbe': '08/11/1986' # Updated 3/18/21 1D, 3D, 5D ahead\n",
    "               , 'alb': '02/21/1994' # Updated 3/18/21 1D, 3D, 5D ahead\n",
    "               , 'amat': '03/16/1980' # Updated 3/18/21 1D, 3D, 5D ahead\n",
    "               , 'amd': '03/17/1980' # Updated 3/18/21 1D, 3D, 5D ahead\n",
    "               , 'amgn': '06/13/1983' # Updated 3/18/21 1D, 3D, 5D ahead\n",
    "               , 'amzn': '05/12/1997' # Updated 3/18/21 1D, 3D, 5D ahead\n",
    "               , 'baba': '09/15/2014' # Updated 3/18/21 1D, 3D, 5D ahead\n",
    "               , 'bac': '02/19/1973' # Updated 3/18/21 1D, 3D, 5D ahead\n",
    "               , 'bpmc': '04/27/2015' # Updated 3/18/21 1D, 3D, 5D ahead\n",
    "               , 'crm': '06/23/2004' # Updated 3/18/21 1D, 3D, 5D ahead\n",
    "               , 'crsp': '10/16/2016' # Updated 3/18/21 1D, 3D, 5D ahead\n",
    "               , 'dq': '10/04/2010' # Updated 3/18/21 1D, 3D, 5D ahead\n",
    "               , 'esgv': '09/16/2018' # Updated 3/18/21 1D, 3D, 5D ahead\n",
    "               , 'fslr': '11/12/2006' # Updated 3/18/21 1D, 3D, 5D ahead\n",
    "               , 'goog': '08/16/2004' # Updated 3/18/21 1D, 3D, 5D ahead\n",
    "               , 'ibm': '01/02/1962' # Updated 3/18/21 1D, 3D, 5D ahead\n",
    "               , 'intc': '03/16/1980' # Updated 3/18/21 1D, 3D, 5D ahead\n",
    "               , 'iyw': '05/15/2000' # Updated 3/18/21 1D, 3D, 5D ahead\n",
    "               , 'lng': '04/04/1994' # Updated 3/18/21 1D, 3D, 5D ahead\n",
    "               , 'ma': '05/21/2006' # Updated 3/18/21 1D, 3D, 5D ahead\n",
    "               , 'mdb': '10/15/2017' # Updated 3/18/21 1D, 3D, 5D ahead\n",
    "               , 'msft': '03/10/1986' # Updated 3/18/21 1D, 3D, 5D ahead\n",
    "               , 'mu': '05/28/1984' # Updated 3/18/21 1D, 3D, 5D ahead\n",
    "               , 'nee': '02/19/1973' # Updated 3/18/21 1D, 3D, 5D ahead\n",
    "               , 'nio': '09/10/2018' # Updated 3/18/21 1D, 3D, 5D ahead\n",
    "               , 'nvda': '01/22/1999' # Updated 3/18/21 1D, 3D, 5D ahead\n",
    "               , 'pacb': '10/25/2010' # Updated 3/18/21 1D, 3D, 5D ahead\n",
    "               , 'pypl': '07/05/2015' # Updated 3/18/21 1D, 3D, 5D ahead\n",
    "               , 'qgen': '06/24/1996' # Updated 3/18/21 1D, 3D, 5D ahead\n",
    "               , 'run': '08/02/2015' # Updated 3/18/21 1D, 3D, 5D ahead\n",
    "               , 'okta': '04/03/2017' # Updated 3/18/21 1D, 3D, 5D ahead\n",
    "               , 'orcl': '03/10/1986' # Updated 3/18/21 1D, 3D, 5D ahead\n",
    "               , 'qqq': '03/08/1999' # Updated 3/18/21 1D, 3D, 5D ahead\n",
    "               , 'srpt': '06/02/1997' # Updated 3/18/21 1D, 3D, 5D ahead\n",
    "               , 'tpic': '07/17/2016' # Updated 3/18/21 1D, 3D, 5D ahead\n",
    "               , 'tsla': '06/29/2010' # Updated 3/18/21 1D, 3D, 5D ahead\n",
    "               , 'v': '03/16/2008' # Updated 3/18/21 1D, 3D, 5D ahead\n",
    "               , 'vbiv': '09/04/2002' # Updated 3/818/21 1D, 3D, 5D ahead\n",
    "               , 'vbr': '01/26/2004' # Updated 3/18/21 1D, 3D, 5D ahead\n",
    "               , 'viov': '09/06/2010' # Updated 3/18/21 1D, 3D, 5D ahead\n",
    "               , 'vgt': '01/26/2004' # Updated 3/18/21 1D, 3D, 5D ahead\n",
    "               , 'xlk': '12/21/1998' # Updated 3/18/21 1D, 3D, 5D ahead\n",
    "              }"
   ]
  },
  {
   "cell_type": "code",
   "execution_count": null,
   "metadata": {},
   "outputs": [],
   "source": []
  },
  {
   "cell_type": "code",
   "execution_count": null,
   "metadata": {},
   "outputs": [],
   "source": []
  },
  {
   "cell_type": "code",
   "execution_count": null,
   "metadata": {},
   "outputs": [],
   "source": []
  },
  {
   "cell_type": "code",
   "execution_count": 4,
   "metadata": {},
   "outputs": [],
   "source": [
    "# X_train, X_test, y_train, y_test, stock_df = a.data(stock_name, start_dates[stock_name], days_ahead)\n",
    "# stock_df.tail(10)"
   ]
  },
  {
   "cell_type": "code",
   "execution_count": 5,
   "metadata": {
    "scrolled": false
   },
   "outputs": [],
   "source": [
    "# GridSerach to find best hyperparameters to prevent overfitting, can be commented out once trained\n",
    "# if train == 1:\n",
    "#     a.rfc_GridSearch(X_train, y_train, stock_name, days_ahead, cv)\n",
    "# elif train == 0:\n",
    "#     pass"
   ]
  },
  {
   "cell_type": "code",
   "execution_count": 6,
   "metadata": {},
   "outputs": [],
   "source": [
    "# Load RandomForextClassifier Model\n",
    "# rfc_model, y_pred, y_probs = a.rfc(X_train, X_test, y_train, stock_name, days_ahead)"
   ]
  },
  {
   "cell_type": "code",
   "execution_count": 7,
   "metadata": {
    "scrolled": false
   },
   "outputs": [],
   "source": [
    "# ROC Curve\n",
    "# a.roc_plot(y_test, y_probs, stock_name, model_name)"
   ]
  },
  {
   "cell_type": "code",
   "execution_count": 8,
   "metadata": {
    "scrolled": false
   },
   "outputs": [],
   "source": [
    "# Precision Recall Curve\n",
    "# a.prec_recall(y_test, y_probs, stock_name, model_name)"
   ]
  },
  {
   "cell_type": "code",
   "execution_count": 9,
   "metadata": {
    "scrolled": false
   },
   "outputs": [],
   "source": [
    "# Confusion Matrix\n",
    "# a.confusion_matrix(rfc_model, X_test, y_test, stock_name)"
   ]
  },
  {
   "cell_type": "code",
   "execution_count": 10,
   "metadata": {},
   "outputs": [],
   "source": [
    "# Cross Validation\n",
    "# a.cross_validation(rfc_model\n",
    "#                    , stock_df[['oc', 'hl', '5stdev_adj', '5sma_adj']]\n",
    "#                    , stock_df['direction']\n",
    "#                    , cv = 5\n",
    "#                   )"
   ]
  },
  {
   "cell_type": "markdown",
   "metadata": {},
   "source": [
    "### Prediction..."
   ]
  },
  {
   "cell_type": "code",
   "execution_count": 11,
   "metadata": {
    "scrolled": true
   },
   "outputs": [],
   "source": [
    "# Prediction, use last day of data\n",
    "# stock_df.iloc[-1]"
   ]
  },
  {
   "cell_type": "code",
   "execution_count": 12,
   "metadata": {},
   "outputs": [],
   "source": [
    "# import numpy as np\n",
    "# last = stock_df[['oc', 'hl', '5stdev_adj', '5sma_adj']].iloc[-days_back]\n",
    "# last"
   ]
  },
  {
   "cell_type": "code",
   "execution_count": 13,
   "metadata": {},
   "outputs": [],
   "source": [
    "# stock_df['adj'].describe()"
   ]
  },
  {
   "cell_type": "code",
   "execution_count": 14,
   "metadata": {
    "scrolled": true
   },
   "outputs": [],
   "source": [
    "# if rfc_model.predict(np.array(last).reshape(1, -1))[0] == 1:\n",
    "#     print(f'Buy {stock_name} {days_ahead} day(s) ahead')\n",
    "# else:\n",
    "#     print(f'Sell or hold {stock_name} {days_ahead} day(s) ahead')"
   ]
  },
  {
   "cell_type": "markdown",
   "metadata": {},
   "source": [
    "### Strategy Returns..."
   ]
  },
  {
   "cell_type": "code",
   "execution_count": 15,
   "metadata": {},
   "outputs": [],
   "source": [
    "# returns on strategy column\n",
    "# stock_df['prediction'] = rfc_model.predict(stock_df[['oc', 'hl', '5stdev_adj', '5sma_adj']])\n",
    "# stock_df['returns'] = stock_df['adj'].shift(-1, fill_value = stock_df['adj'].median()) * stock_df['prediction']"
   ]
  },
  {
   "cell_type": "code",
   "execution_count": 16,
   "metadata": {},
   "outputs": [],
   "source": [
    "# stock_df.tail(5)"
   ]
  },
  {
   "cell_type": "code",
   "execution_count": 17,
   "metadata": {},
   "outputs": [],
   "source": [
    "# Don't trade every day!\n",
    "# import matplotlib.pyplot as plt\n",
    "# test_length = len(y_test)\n",
    "# (stock_df['returns'][-test_length:] + 1).cumprod().plot()\n",
    "# plt.title(f'{stock_name} Expected Returns %');"
   ]
  },
  {
   "cell_type": "code",
   "execution_count": 18,
   "metadata": {},
   "outputs": [],
   "source": [
    "# Model returns if bought on predictions of 1\n",
    "# returns_on_ones = []\n",
    "# for idx in range(-test_length, 0):\n",
    "#     if stock_df['prediction'][idx] == 1:\n",
    "#         returns_on_ones.append(1 + stock_df['returns'][idx])\n",
    "\n",
    "# returns = 1\n",
    "# for x in returns_on_ones:\n",
    "#     returns *= x\n",
    "# returns"
   ]
  },
  {
   "cell_type": "code",
   "execution_count": 19,
   "metadata": {},
   "outputs": [],
   "source": [
    "# multiple times original investment, not bad but..."
   ]
  },
  {
   "cell_type": "code",
   "execution_count": 20,
   "metadata": {},
   "outputs": [],
   "source": [
    "# If purchased in 2012 and left it until now\n",
    "# test_idx = int(len(stock_df)*0.75)\n",
    "# (stock_df['Close'][-1] - stock_df['Close'][-test_idx]) / stock_df['Close'][-test_idx]"
   ]
  },
  {
   "cell_type": "code",
   "execution_count": 21,
   "metadata": {},
   "outputs": [],
   "source": [
    "# Buy and hold strategy beats RandomForestClassifier in this study\n",
    "\n",
    "# Special thanks to Shagufta Tahsildar at https://blog.quantinsti.com/random-forest-algorithm-in-python/"
   ]
  },
  {
   "cell_type": "code",
   "execution_count": null,
   "metadata": {},
   "outputs": [],
   "source": []
  },
  {
   "cell_type": "code",
   "execution_count": null,
   "metadata": {},
   "outputs": [],
   "source": []
  },
  {
   "cell_type": "code",
   "execution_count": null,
   "metadata": {},
   "outputs": [],
   "source": []
  },
  {
   "cell_type": "markdown",
   "metadata": {},
   "source": [
    "### Training"
   ]
  },
  {
   "cell_type": "markdown",
   "metadata": {},
   "source": [
    "Training is done once a week on Saturday and Sunday"
   ]
  },
  {
   "cell_type": "code",
   "execution_count": 22,
   "metadata": {},
   "outputs": [
    {
     "data": {
      "text/plain": [
       "45"
      ]
     },
     "execution_count": 22,
     "metadata": {},
     "output_type": "execute_result"
    }
   ],
   "source": [
    "len(start_dates)"
   ]
  },
  {
   "cell_type": "code",
   "execution_count": 23,
   "metadata": {},
   "outputs": [
    {
     "data": {
      "text/plain": [
       "{'a': '11/15/1999',\n",
       " 'aapl': '12/12/1980',\n",
       " 'acy': '01/18/1998',\n",
       " 'adbe': '08/11/1986',\n",
       " 'alb': '02/21/1994',\n",
       " 'amat': '03/16/1980',\n",
       " 'amd': '03/17/1980',\n",
       " 'amgn': '06/13/1983',\n",
       " 'amzn': '05/12/1997',\n",
       " 'baba': '09/15/2014',\n",
       " 'bac': '02/19/1973',\n",
       " 'bpmc': '04/27/2015',\n",
       " 'crm': '06/23/2004',\n",
       " 'crsp': '10/16/2016',\n",
       " 'dq': '10/04/2010'}"
      ]
     },
     "execution_count": 23,
     "metadata": {},
     "output_type": "execute_result"
    }
   ],
   "source": [
    "import itertools as itr\n",
    "start_dates1 = dict(itr.islice(start_dates.items(), 0, 15))\n",
    "start_dates1"
   ]
  },
  {
   "cell_type": "code",
   "execution_count": 24,
   "metadata": {},
   "outputs": [
    {
     "data": {
      "text/plain": [
       "{'esgv': '09/16/2018',\n",
       " 'fslr': '11/12/2006',\n",
       " 'goog': '08/16/2004',\n",
       " 'ibm': '01/02/1962',\n",
       " 'intc': '03/16/1980',\n",
       " 'iyw': '05/15/2000',\n",
       " 'lng': '04/04/1994',\n",
       " 'ma': '05/21/2006',\n",
       " 'mdb': '10/15/2017',\n",
       " 'msft': '03/10/1986',\n",
       " 'mu': '05/28/1984',\n",
       " 'nee': '02/19/1973',\n",
       " 'nio': '09/10/2018',\n",
       " 'nvda': '01/22/1999',\n",
       " 'pacb': '10/25/2010'}"
      ]
     },
     "execution_count": 24,
     "metadata": {},
     "output_type": "execute_result"
    }
   ],
   "source": [
    "start_dates2 = dict(itr.islice(start_dates.items(), 15, 30))\n",
    "start_dates2"
   ]
  },
  {
   "cell_type": "code",
   "execution_count": 25,
   "metadata": {},
   "outputs": [
    {
     "data": {
      "text/plain": [
       "{'pypl': '07/05/2015',\n",
       " 'qgen': '06/24/1996',\n",
       " 'run': '08/02/2015',\n",
       " 'okta': '04/03/2017',\n",
       " 'orcl': '03/10/1986',\n",
       " 'qqq': '03/08/1999',\n",
       " 'srpt': '06/02/1997',\n",
       " 'tpic': '07/17/2016',\n",
       " 'tsla': '06/29/2010',\n",
       " 'v': '03/16/2008',\n",
       " 'vbiv': '09/04/2002',\n",
       " 'vbr': '01/26/2004',\n",
       " 'viov': '09/06/2010',\n",
       " 'vgt': '01/26/2004',\n",
       " 'xlk': '12/21/1998'}"
      ]
     },
     "execution_count": 25,
     "metadata": {},
     "output_type": "execute_result"
    }
   ],
   "source": [
    "start_dates3 = dict(itr.islice(start_dates.items(), 30, 45+1))\n",
    "start_dates3"
   ]
  },
  {
   "cell_type": "code",
   "execution_count": 26,
   "metadata": {},
   "outputs": [],
   "source": [
    "#Train 15 at a time!\n",
    "# stocks = [x for x in start_dates1]\n",
    "# days_ahead = [1, 3, 5]\n",
    "# cv = 5\n",
    "# for stock in stocks:\n",
    "#     for days in days_ahead:\n",
    "#         X_train, X_test, y_train, y_test, stock_df = a.data(stock, start_dates[stock], days)\n",
    "#         a.rfc_GridSearch(X_train, y_train, stock, days, cv)\n",
    "# len(stocks)\n",
    "\n",
    "# stocks = [x for x in start_dates2]\n",
    "# days_ahead = [1, 3, 5]\n",
    "# cv = 5\n",
    "# for stock in stocks:\n",
    "#     for days in days_ahead:\n",
    "#         X_train, X_test, y_train, y_test, stock_df = a.data(stock, start_dates[stock], days)\n",
    "#         a.rfc_GridSearch(X_train, y_train, stock, days, cv)\n",
    "# len(stocks)\n",
    "\n",
    "# stocks = [x for x in start_dates3]\n",
    "# days_ahead = [1, 3, 5]\n",
    "# cv = 5\n",
    "# for stock in stocks:\n",
    "#     for days in days_ahead:\n",
    "#         X_train, X_test, y_train, y_test, stock_df = a.data(stock, start_dates[stock], days)\n",
    "#         a.rfc_GridSearch(X_train, y_train, stock, days, cv)\n",
    "# len(stocks)\n",
    "\n",
    "# # Train all, takes 15+ hours\n",
    "# stocks = [x for x in start_dates]\n",
    "# days_ahead = [1, 3, 5]\n",
    "# cv = 5\n",
    "# for stock in stocks:\n",
    "#     for days in days_ahead:\n",
    "#         X_train, X_test, y_train, y_test, stock_df = a.data(stock, start_dates[stock], days)\n",
    "#         a.rfc_GridSearch(X_train, y_train, stock, days, cv)\n",
    "# len(stocks)\n",
    "\n",
    "# Train desired stocks...takes less time\n",
    "# stocks = ['aapl']\n",
    "# days_ahead = [1, 3, 5]\n",
    "# cv = 5\n",
    "# for stock in stocks:\n",
    "#     for days in days_ahead:\n",
    "#         X_train, X_test, y_train, y_test, stock_df = a.data(stock, start_dates[stock], days)\n",
    "#         a.rfc_GridSearch(X_train, y_train, stock, days, cv)"
   ]
  },
  {
   "cell_type": "code",
   "execution_count": null,
   "metadata": {},
   "outputs": [],
   "source": []
  },
  {
   "cell_type": "code",
   "execution_count": null,
   "metadata": {},
   "outputs": [],
   "source": []
  },
  {
   "cell_type": "code",
   "execution_count": null,
   "metadata": {},
   "outputs": [],
   "source": []
  },
  {
   "cell_type": "markdown",
   "metadata": {},
   "source": [
    "### Display All Results"
   ]
  },
  {
   "cell_type": "code",
   "execution_count": 27,
   "metadata": {
    "scrolled": false
   },
   "outputs": [
    {
     "name": "stdout",
     "output_type": "stream",
     "text": [
      "Sell or hold tsla 5 day(s) ahead\n",
      "Model Returns (x 100 for %): 2.7269\n",
      "Stock Returns (x 100 for %): 81.1434\n"
     ]
    },
    {
     "data": {
      "image/png": "[encoded data removed]",
      "text/plain": [
       "<Figure size 432x288 with 1 Axes>"
      ]
     },
     "metadata": {},
     "output_type": "display_data"
    },
    {
     "data": {
      "image/png": "[encoded data removed]",
      "text/plain": [
       "<Figure size 648x504 with 1 Axes>"
      ]
     },
     "metadata": {},
     "output_type": "display_data"
    },
    {
     "data": {
      "image/png": "[encoded data removed]",
      "text/plain": [
       "<Figure size 648x504 with 1 Axes>"
      ]
     },
     "metadata": {},
     "output_type": "display_data"
    },
    {
     "data": {
      "image/png": "[encoded data removed]",
      "text/plain": [
       "<Figure size 684x612 with 2 Axes>"
      ]
     },
     "metadata": {},
     "output_type": "display_data"
    }
   ],
   "source": [
    "stock_name = 'tsla'\n",
    "a.all_func(stock_name\n",
    "           , start_dates[stock_name]\n",
    "           , days_ahead = 5\n",
    "           , model_name = model_name\n",
    "           , days_back = 1\n",
    "          )"
   ]
  },
  {
   "cell_type": "code",
   "execution_count": null,
   "metadata": {},
   "outputs": [],
   "source": []
  },
  {
   "cell_type": "code",
   "execution_count": null,
   "metadata": {},
   "outputs": [],
   "source": []
  },
  {
   "cell_type": "code",
   "execution_count": null,
   "metadata": {},
   "outputs": [],
   "source": []
  },
  {
   "cell_type": "markdown",
   "metadata": {},
   "source": [
    "### Data Frame of Predictions 1 3 5 Days"
   ]
  },
  {
   "cell_type": "code",
   "execution_count": 28,
   "metadata": {},
   "outputs": [
    {
     "name": "stdout",
     "output_type": "stream",
     "text": [
      "Today's date: 2021-03-26\n"
     ]
    }
   ],
   "source": [
    "from datetime import date\n",
    "\n",
    "today = date.today()\n",
    "print(\"Today's date:\", today)"
   ]
  },
  {
   "cell_type": "code",
   "execution_count": 29,
   "metadata": {
    "scrolled": false
   },
   "outputs": [
    {
     "data": {
      "text/html": [
       "<div>\n",
       "<style scoped>\n",
       "    .dataframe tbody tr th:only-of-type {\n",
       "        vertical-align: middle;\n",
       "    }\n",
       "\n",
       "    .dataframe tbody tr th {\n",
       "        vertical-align: top;\n",
       "    }\n",
       "\n",
       "    .dataframe thead th {\n",
       "        text-align: right;\n",
       "    }\n",
       "</style>\n",
       "<table border=\"1\" class=\"dataframe\">\n",
       "  <thead>\n",
       "    <tr style=\"text-align: right;\">\n",
       "      <th></th>\n",
       "      <th>stock</th>\n",
       "      <th>1_Day_Pred</th>\n",
       "      <th>1_Day_Model_Return</th>\n",
       "      <th>3_Day_Pred</th>\n",
       "      <th>3_Day_Model_Return</th>\n",
       "      <th>5_Day_Pred</th>\n",
       "      <th>5_Day_Model_Return</th>\n",
       "      <th>Actual_Returns</th>\n",
       "    </tr>\n",
       "  </thead>\n",
       "  <tbody>\n",
       "    <tr>\n",
       "      <th>0</th>\n",
       "      <td>a</td>\n",
       "      <td>Hold or Sell</td>\n",
       "      <td>3.3318</td>\n",
       "      <td>Hold or Sell</td>\n",
       "      <td>4.0492</td>\n",
       "      <td>Hold or Sell</td>\n",
       "      <td>4.0016</td>\n",
       "      <td>6.7216</td>\n",
       "    </tr>\n",
       "    <tr>\n",
       "      <th>1</th>\n",
       "      <td>aapl</td>\n",
       "      <td>Hold or Sell</td>\n",
       "      <td>3.5372</td>\n",
       "      <td>Hold or Sell</td>\n",
       "      <td>3.6541</td>\n",
       "      <td>Hold or Sell</td>\n",
       "      <td>3.9125</td>\n",
       "      <td>311.2791</td>\n",
       "    </tr>\n",
       "    <tr>\n",
       "      <th>2</th>\n",
       "      <td>acy</td>\n",
       "      <td>Hold or Sell</td>\n",
       "      <td>0.4495</td>\n",
       "      <td>Hold or Sell</td>\n",
       "      <td>0.6029</td>\n",
       "      <td>Hold or Sell</td>\n",
       "      <td>0.6046</td>\n",
       "      <td>1.3535</td>\n",
       "    </tr>\n",
       "    <tr>\n",
       "      <th>3</th>\n",
       "      <td>adbe</td>\n",
       "      <td>Hold or Sell</td>\n",
       "      <td>11.3028</td>\n",
       "      <td>Hold or Sell</td>\n",
       "      <td>6.5685</td>\n",
       "      <td>Hold or Sell</td>\n",
       "      <td>5.7174</td>\n",
       "      <td>73.7755</td>\n",
       "    </tr>\n",
       "    <tr>\n",
       "      <th>4</th>\n",
       "      <td>alb</td>\n",
       "      <td>Hold or Sell</td>\n",
       "      <td>1.7387</td>\n",
       "      <td>Hold or Sell</td>\n",
       "      <td>2.5430</td>\n",
       "      <td>Hold or Sell</td>\n",
       "      <td>1.8855</td>\n",
       "      <td>12.8138</td>\n",
       "    </tr>\n",
       "    <tr>\n",
       "      <th>5</th>\n",
       "      <td>amat</td>\n",
       "      <td>Hold or Sell</td>\n",
       "      <td>9.3802</td>\n",
       "      <td>Hold or Sell</td>\n",
       "      <td>10.4862</td>\n",
       "      <td>Hold or Sell</td>\n",
       "      <td>9.6873</td>\n",
       "      <td>204.6935</td>\n",
       "    </tr>\n",
       "    <tr>\n",
       "      <th>6</th>\n",
       "      <td>amd</td>\n",
       "      <td>Hold or Sell</td>\n",
       "      <td>6.6127</td>\n",
       "      <td>Buy</td>\n",
       "      <td>6.0041</td>\n",
       "      <td>Hold or Sell</td>\n",
       "      <td>8.8827</td>\n",
       "      <td>15.2603</td>\n",
       "    </tr>\n",
       "    <tr>\n",
       "      <th>7</th>\n",
       "      <td>amgn</td>\n",
       "      <td>Buy</td>\n",
       "      <td>5.0381</td>\n",
       "      <td>Buy</td>\n",
       "      <td>4.9228</td>\n",
       "      <td>Buy</td>\n",
       "      <td>5.1937</td>\n",
       "      <td>25.4430</td>\n",
       "    </tr>\n",
       "    <tr>\n",
       "      <th>8</th>\n",
       "      <td>amzn</td>\n",
       "      <td>Buy</td>\n",
       "      <td>3.5315</td>\n",
       "      <td>Buy</td>\n",
       "      <td>3.2528</td>\n",
       "      <td>Buy</td>\n",
       "      <td>4.4523</td>\n",
       "      <td>95.0965</td>\n",
       "    </tr>\n",
       "    <tr>\n",
       "      <th>9</th>\n",
       "      <td>baba</td>\n",
       "      <td>Buy</td>\n",
       "      <td>1.3415</td>\n",
       "      <td>Buy</td>\n",
       "      <td>1.4817</td>\n",
       "      <td>Buy</td>\n",
       "      <td>1.3342</td>\n",
       "      <td>1.8135</td>\n",
       "    </tr>\n",
       "    <tr>\n",
       "      <th>10</th>\n",
       "      <td>bac</td>\n",
       "      <td>Hold or Sell</td>\n",
       "      <td>11.1763</td>\n",
       "      <td>Hold or Sell</td>\n",
       "      <td>3.5923</td>\n",
       "      <td>Hold or Sell</td>\n",
       "      <td>6.7605</td>\n",
       "      <td>7.4274</td>\n",
       "    </tr>\n",
       "    <tr>\n",
       "      <th>11</th>\n",
       "      <td>bpmc</td>\n",
       "      <td>Hold or Sell</td>\n",
       "      <td>2.1503</td>\n",
       "      <td>Hold or Sell</td>\n",
       "      <td>1.8887</td>\n",
       "      <td>Hold or Sell</td>\n",
       "      <td>2.3187</td>\n",
       "      <td>1.9471</td>\n",
       "    </tr>\n",
       "    <tr>\n",
       "      <th>12</th>\n",
       "      <td>crm</td>\n",
       "      <td>Buy</td>\n",
       "      <td>1.8718</td>\n",
       "      <td>Buy</td>\n",
       "      <td>1.7246</td>\n",
       "      <td>Buy</td>\n",
       "      <td>2.1324</td>\n",
       "      <td>14.0920</td>\n",
       "    </tr>\n",
       "    <tr>\n",
       "      <th>13</th>\n",
       "      <td>crsp</td>\n",
       "      <td>Hold or Sell</td>\n",
       "      <td>1.1965</td>\n",
       "      <td>Hold or Sell</td>\n",
       "      <td>0.6000</td>\n",
       "      <td>Hold or Sell</td>\n",
       "      <td>0.9067</td>\n",
       "      <td>5.2760</td>\n",
       "    </tr>\n",
       "    <tr>\n",
       "      <th>14</th>\n",
       "      <td>dq</td>\n",
       "      <td>Hold or Sell</td>\n",
       "      <td>5.7200</td>\n",
       "      <td>Hold or Sell</td>\n",
       "      <td>8.6054</td>\n",
       "      <td>Hold or Sell</td>\n",
       "      <td>3.7023</td>\n",
       "      <td>40.8842</td>\n",
       "    </tr>\n",
       "  </tbody>\n",
       "</table>\n",
       "</div>"
      ],
      "text/plain": [
       "   stock    1_Day_Pred  1_Day_Model_Return    3_Day_Pred  3_Day_Model_Return  \\\n",
       "0      a  Hold or Sell              3.3318  Hold or Sell              4.0492   \n",
       "1   aapl  Hold or Sell              3.5372  Hold or Sell              3.6541   \n",
       "2    acy  Hold or Sell              0.4495  Hold or Sell              0.6029   \n",
       "3   adbe  Hold or Sell             11.3028  Hold or Sell              6.5685   \n",
       "4    alb  Hold or Sell              1.7387  Hold or Sell              2.5430   \n",
       "5   amat  Hold or Sell              9.3802  Hold or Sell             10.4862   \n",
       "6    amd  Hold or Sell              6.6127           Buy              6.0041   \n",
       "7   amgn           Buy              5.0381           Buy              4.9228   \n",
       "8   amzn           Buy              3.5315           Buy              3.2528   \n",
       "9   baba           Buy              1.3415           Buy              1.4817   \n",
       "10   bac  Hold or Sell             11.1763  Hold or Sell              3.5923   \n",
       "11  bpmc  Hold or Sell              2.1503  Hold or Sell              1.8887   \n",
       "12   crm           Buy              1.8718           Buy              1.7246   \n",
       "13  crsp  Hold or Sell              1.1965  Hold or Sell              0.6000   \n",
       "14    dq  Hold or Sell              5.7200  Hold or Sell              8.6054   \n",
       "\n",
       "      5_Day_Pred  5_Day_Model_Return  Actual_Returns  \n",
       "0   Hold or Sell              4.0016          6.7216  \n",
       "1   Hold or Sell              3.9125        311.2791  \n",
       "2   Hold or Sell              0.6046          1.3535  \n",
       "3   Hold or Sell              5.7174         73.7755  \n",
       "4   Hold or Sell              1.8855         12.8138  \n",
       "5   Hold or Sell              9.6873        204.6935  \n",
       "6   Hold or Sell              8.8827         15.2603  \n",
       "7            Buy              5.1937         25.4430  \n",
       "8            Buy              4.4523         95.0965  \n",
       "9            Buy              1.3342          1.8135  \n",
       "10  Hold or Sell              6.7605          7.4274  \n",
       "11  Hold or Sell              2.3187          1.9471  \n",
       "12           Buy              2.1324         14.0920  \n",
       "13  Hold or Sell              0.9067          5.2760  \n",
       "14  Hold or Sell              3.7023         40.8842  "
      ]
     },
     "execution_count": 29,
     "metadata": {},
     "output_type": "execute_result"
    }
   ],
   "source": [
    "summary_df = a.pred_summary_df(start_dates1, stocks = [x for x in start_dates1], days_back = 1)\n",
    "summary_df"
   ]
  },
  {
   "cell_type": "code",
   "execution_count": 30,
   "metadata": {},
   "outputs": [
    {
     "data": {
      "text/plain": [
       "(3.5315, 3.5923, 3.9125, 14.092)"
      ]
     },
     "execution_count": 30,
     "metadata": {},
     "output_type": "execute_result"
    }
   ],
   "source": [
    "summary_df['1_Day_Model_Return'].median(), summary_df['3_Day_Model_Return'].median(), summary_df['5_Day_Model_Return'].median(), summary_df['Actual_Returns'].median()"
   ]
  },
  {
   "cell_type": "code",
   "execution_count": 31,
   "metadata": {},
   "outputs": [
    {
     "data": {
      "text/html": [
       "<div>\n",
       "<style scoped>\n",
       "    .dataframe tbody tr th:only-of-type {\n",
       "        vertical-align: middle;\n",
       "    }\n",
       "\n",
       "    .dataframe tbody tr th {\n",
       "        vertical-align: top;\n",
       "    }\n",
       "\n",
       "    .dataframe thead th {\n",
       "        text-align: right;\n",
       "    }\n",
       "</style>\n",
       "<table border=\"1\" class=\"dataframe\">\n",
       "  <thead>\n",
       "    <tr style=\"text-align: right;\">\n",
       "      <th></th>\n",
       "      <th>stock</th>\n",
       "      <th>1_Day_Pred</th>\n",
       "      <th>1_Day_Model_Return</th>\n",
       "      <th>3_Day_Pred</th>\n",
       "      <th>3_Day_Model_Return</th>\n",
       "      <th>5_Day_Pred</th>\n",
       "      <th>5_Day_Model_Return</th>\n",
       "      <th>Actual_Returns</th>\n",
       "    </tr>\n",
       "  </thead>\n",
       "  <tbody>\n",
       "    <tr>\n",
       "      <th>0</th>\n",
       "      <td>esgv</td>\n",
       "      <td>Hold or Sell</td>\n",
       "      <td>1.1457</td>\n",
       "      <td>Buy</td>\n",
       "      <td>1.1826</td>\n",
       "      <td>Hold or Sell</td>\n",
       "      <td>1.1377</td>\n",
       "      <td>0.4590</td>\n",
       "    </tr>\n",
       "    <tr>\n",
       "      <th>1</th>\n",
       "      <td>fslr</td>\n",
       "      <td>Hold or Sell</td>\n",
       "      <td>2.1597</td>\n",
       "      <td>Hold or Sell</td>\n",
       "      <td>1.5824</td>\n",
       "      <td>Hold or Sell</td>\n",
       "      <td>1.7267</td>\n",
       "      <td>-0.2944</td>\n",
       "    </tr>\n",
       "    <tr>\n",
       "      <th>2</th>\n",
       "      <td>goog</td>\n",
       "      <td>Buy</td>\n",
       "      <td>2.7068</td>\n",
       "      <td>Buy</td>\n",
       "      <td>2.3041</td>\n",
       "      <td>Buy</td>\n",
       "      <td>3.4526</td>\n",
       "      <td>10.0164</td>\n",
       "    </tr>\n",
       "    <tr>\n",
       "      <th>3</th>\n",
       "      <td>ibm</td>\n",
       "      <td>Hold or Sell</td>\n",
       "      <td>2.6216</td>\n",
       "      <td>Hold or Sell</td>\n",
       "      <td>4.6116</td>\n",
       "      <td>Hold or Sell</td>\n",
       "      <td>3.7142</td>\n",
       "      <td>6.8457</td>\n",
       "    </tr>\n",
       "    <tr>\n",
       "      <th>4</th>\n",
       "      <td>intc</td>\n",
       "      <td>Hold or Sell</td>\n",
       "      <td>5.5813</td>\n",
       "      <td>Hold or Sell</td>\n",
       "      <td>6.2061</td>\n",
       "      <td>Hold or Sell</td>\n",
       "      <td>4.7057</td>\n",
       "      <td>40.3467</td>\n",
       "    </tr>\n",
       "    <tr>\n",
       "      <th>5</th>\n",
       "      <td>iyw</td>\n",
       "      <td>Buy</td>\n",
       "      <td>3.8783</td>\n",
       "      <td>Hold or Sell</td>\n",
       "      <td>4.3056</td>\n",
       "      <td>Hold or Sell</td>\n",
       "      <td>3.8840</td>\n",
       "      <td>6.0548</td>\n",
       "    </tr>\n",
       "    <tr>\n",
       "      <th>6</th>\n",
       "      <td>lng</td>\n",
       "      <td>Hold or Sell</td>\n",
       "      <td>1.8608</td>\n",
       "      <td>Hold or Sell</td>\n",
       "      <td>0.8067</td>\n",
       "      <td>Hold or Sell</td>\n",
       "      <td>0.8541</td>\n",
       "      <td>69.3592</td>\n",
       "    </tr>\n",
       "    <tr>\n",
       "      <th>7</th>\n",
       "      <td>ma</td>\n",
       "      <td>Hold or Sell</td>\n",
       "      <td>2.7358</td>\n",
       "      <td>Buy</td>\n",
       "      <td>2.3774</td>\n",
       "      <td>Hold or Sell</td>\n",
       "      <td>2.5776</td>\n",
       "      <td>14.9392</td>\n",
       "    </tr>\n",
       "    <tr>\n",
       "      <th>8</th>\n",
       "      <td>mdb</td>\n",
       "      <td>Buy</td>\n",
       "      <td>0.7480</td>\n",
       "      <td>Buy</td>\n",
       "      <td>0.7774</td>\n",
       "      <td>Buy</td>\n",
       "      <td>0.7566</td>\n",
       "      <td>2.7828</td>\n",
       "    </tr>\n",
       "    <tr>\n",
       "      <th>9</th>\n",
       "      <td>msft</td>\n",
       "      <td>Buy</td>\n",
       "      <td>8.7013</td>\n",
       "      <td>Buy</td>\n",
       "      <td>9.1976</td>\n",
       "      <td>Buy</td>\n",
       "      <td>9.6306</td>\n",
       "      <td>57.8901</td>\n",
       "    </tr>\n",
       "    <tr>\n",
       "      <th>10</th>\n",
       "      <td>mu</td>\n",
       "      <td>Hold or Sell</td>\n",
       "      <td>2.3232</td>\n",
       "      <td>Hold or Sell</td>\n",
       "      <td>2.2899</td>\n",
       "      <td>Hold or Sell</td>\n",
       "      <td>3.1851</td>\n",
       "      <td>15.9025</td>\n",
       "    </tr>\n",
       "    <tr>\n",
       "      <th>11</th>\n",
       "      <td>nee</td>\n",
       "      <td>Hold or Sell</td>\n",
       "      <td>3.8746</td>\n",
       "      <td>Hold or Sell</td>\n",
       "      <td>4.6469</td>\n",
       "      <td>Hold or Sell</td>\n",
       "      <td>5.4031</td>\n",
       "      <td>26.6518</td>\n",
       "    </tr>\n",
       "    <tr>\n",
       "      <th>12</th>\n",
       "      <td>nio</td>\n",
       "      <td>Hold or Sell</td>\n",
       "      <td>1.9931</td>\n",
       "      <td>Hold or Sell</td>\n",
       "      <td>1.4315</td>\n",
       "      <td>Hold or Sell</td>\n",
       "      <td>1.7241</td>\n",
       "      <td>7.2478</td>\n",
       "    </tr>\n",
       "    <tr>\n",
       "      <th>13</th>\n",
       "      <td>nvda</td>\n",
       "      <td>Buy</td>\n",
       "      <td>13.2456</td>\n",
       "      <td>Hold or Sell</td>\n",
       "      <td>10.8529</td>\n",
       "      <td>Hold or Sell</td>\n",
       "      <td>12.2289</td>\n",
       "      <td>136.1221</td>\n",
       "    </tr>\n",
       "    <tr>\n",
       "      <th>14</th>\n",
       "      <td>pacb</td>\n",
       "      <td>Hold or Sell</td>\n",
       "      <td>1.8442</td>\n",
       "      <td>Hold or Sell</td>\n",
       "      <td>1.9404</td>\n",
       "      <td>Hold or Sell</td>\n",
       "      <td>1.5253</td>\n",
       "      <td>10.3955</td>\n",
       "    </tr>\n",
       "  </tbody>\n",
       "</table>\n",
       "</div>"
      ],
      "text/plain": [
       "   stock    1_Day_Pred  1_Day_Model_Return    3_Day_Pred  3_Day_Model_Return  \\\n",
       "0   esgv  Hold or Sell              1.1457           Buy              1.1826   \n",
       "1   fslr  Hold or Sell              2.1597  Hold or Sell              1.5824   \n",
       "2   goog           Buy              2.7068           Buy              2.3041   \n",
       "3    ibm  Hold or Sell              2.6216  Hold or Sell              4.6116   \n",
       "4   intc  Hold or Sell              5.5813  Hold or Sell              6.2061   \n",
       "5    iyw           Buy              3.8783  Hold or Sell              4.3056   \n",
       "6    lng  Hold or Sell              1.8608  Hold or Sell              0.8067   \n",
       "7     ma  Hold or Sell              2.7358           Buy              2.3774   \n",
       "8    mdb           Buy              0.7480           Buy              0.7774   \n",
       "9   msft           Buy              8.7013           Buy              9.1976   \n",
       "10    mu  Hold or Sell              2.3232  Hold or Sell              2.2899   \n",
       "11   nee  Hold or Sell              3.8746  Hold or Sell              4.6469   \n",
       "12   nio  Hold or Sell              1.9931  Hold or Sell              1.4315   \n",
       "13  nvda           Buy             13.2456  Hold or Sell             10.8529   \n",
       "14  pacb  Hold or Sell              1.8442  Hold or Sell              1.9404   \n",
       "\n",
       "      5_Day_Pred  5_Day_Model_Return  Actual_Returns  \n",
       "0   Hold or Sell              1.1377          0.4590  \n",
       "1   Hold or Sell              1.7267         -0.2944  \n",
       "2            Buy              3.4526         10.0164  \n",
       "3   Hold or Sell              3.7142          6.8457  \n",
       "4   Hold or Sell              4.7057         40.3467  \n",
       "5   Hold or Sell              3.8840          6.0548  \n",
       "6   Hold or Sell              0.8541         69.3592  \n",
       "7   Hold or Sell              2.5776         14.9392  \n",
       "8            Buy              0.7566          2.7828  \n",
       "9            Buy              9.6306         57.8901  \n",
       "10  Hold or Sell              3.1851         15.9025  \n",
       "11  Hold or Sell              5.4031         26.6518  \n",
       "12  Hold or Sell              1.7241          7.2478  \n",
       "13  Hold or Sell             12.2289        136.1221  \n",
       "14  Hold or Sell              1.5253         10.3955  "
      ]
     },
     "execution_count": 31,
     "metadata": {},
     "output_type": "execute_result"
    }
   ],
   "source": [
    "summary_df = a.pred_summary_df(start_dates2, stocks = [x for x in start_dates2], days_back = 1)\n",
    "summary_df"
   ]
  },
  {
   "cell_type": "code",
   "execution_count": 32,
   "metadata": {},
   "outputs": [
    {
     "data": {
      "text/plain": [
       "(2.6216, 2.3041, 3.1851, 10.3955)"
      ]
     },
     "execution_count": 32,
     "metadata": {},
     "output_type": "execute_result"
    }
   ],
   "source": [
    "summary_df['1_Day_Model_Return'].median(), summary_df['3_Day_Model_Return'].median(), summary_df['5_Day_Model_Return'].median(), summary_df['Actual_Returns'].median()"
   ]
  },
  {
   "cell_type": "code",
   "execution_count": 33,
   "metadata": {},
   "outputs": [
    {
     "data": {
      "text/html": [
       "<div>\n",
       "<style scoped>\n",
       "    .dataframe tbody tr th:only-of-type {\n",
       "        vertical-align: middle;\n",
       "    }\n",
       "\n",
       "    .dataframe tbody tr th {\n",
       "        vertical-align: top;\n",
       "    }\n",
       "\n",
       "    .dataframe thead th {\n",
       "        text-align: right;\n",
       "    }\n",
       "</style>\n",
       "<table border=\"1\" class=\"dataframe\">\n",
       "  <thead>\n",
       "    <tr style=\"text-align: right;\">\n",
       "      <th></th>\n",
       "      <th>stock</th>\n",
       "      <th>1_Day_Pred</th>\n",
       "      <th>1_Day_Model_Return</th>\n",
       "      <th>3_Day_Pred</th>\n",
       "      <th>3_Day_Model_Return</th>\n",
       "      <th>5_Day_Pred</th>\n",
       "      <th>5_Day_Model_Return</th>\n",
       "      <th>Actual_Returns</th>\n",
       "    </tr>\n",
       "  </thead>\n",
       "  <tbody>\n",
       "    <tr>\n",
       "      <th>0</th>\n",
       "      <td>pypl</td>\n",
       "      <td>Hold or Sell</td>\n",
       "      <td>3.0412</td>\n",
       "      <td>Hold or Sell</td>\n",
       "      <td>2.4396</td>\n",
       "      <td>Hold or Sell</td>\n",
       "      <td>2.7545</td>\n",
       "      <td>4.9407</td>\n",
       "    </tr>\n",
       "    <tr>\n",
       "      <th>1</th>\n",
       "      <td>qgen</td>\n",
       "      <td>Hold or Sell</td>\n",
       "      <td>1.9497</td>\n",
       "      <td>Hold or Sell</td>\n",
       "      <td>2.1166</td>\n",
       "      <td>Hold or Sell</td>\n",
       "      <td>2.5456</td>\n",
       "      <td>7.9897</td>\n",
       "    </tr>\n",
       "    <tr>\n",
       "      <th>2</th>\n",
       "      <td>run</td>\n",
       "      <td>Hold or Sell</td>\n",
       "      <td>1.2786</td>\n",
       "      <td>Buy</td>\n",
       "      <td>0.8021</td>\n",
       "      <td>Hold or Sell</td>\n",
       "      <td>0.9343</td>\n",
       "      <td>8.1379</td>\n",
       "    </tr>\n",
       "    <tr>\n",
       "      <th>3</th>\n",
       "      <td>okta</td>\n",
       "      <td>Hold or Sell</td>\n",
       "      <td>0.9451</td>\n",
       "      <td>Hold or Sell</td>\n",
       "      <td>0.8124</td>\n",
       "      <td>Hold or Sell</td>\n",
       "      <td>0.7767</td>\n",
       "      <td>4.3401</td>\n",
       "    </tr>\n",
       "    <tr>\n",
       "      <th>4</th>\n",
       "      <td>orcl</td>\n",
       "      <td>Hold or Sell</td>\n",
       "      <td>2.9387</td>\n",
       "      <td>Hold or Sell</td>\n",
       "      <td>3.3842</td>\n",
       "      <td>Hold or Sell</td>\n",
       "      <td>3.5991</td>\n",
       "      <td>35.5726</td>\n",
       "    </tr>\n",
       "    <tr>\n",
       "      <th>5</th>\n",
       "      <td>qqq</td>\n",
       "      <td>Hold or Sell</td>\n",
       "      <td>3.1698</td>\n",
       "      <td>Hold or Sell</td>\n",
       "      <td>3.6896</td>\n",
       "      <td>Hold or Sell</td>\n",
       "      <td>2.5511</td>\n",
       "      <td>7.7526</td>\n",
       "    </tr>\n",
       "    <tr>\n",
       "      <th>6</th>\n",
       "      <td>srpt</td>\n",
       "      <td>Hold or Sell</td>\n",
       "      <td>2.2774</td>\n",
       "      <td>Hold or Sell</td>\n",
       "      <td>2.5872</td>\n",
       "      <td>Buy</td>\n",
       "      <td>1.7380</td>\n",
       "      <td>0.9949</td>\n",
       "    </tr>\n",
       "    <tr>\n",
       "      <th>7</th>\n",
       "      <td>tpic</td>\n",
       "      <td>Hold or Sell</td>\n",
       "      <td>0.9412</td>\n",
       "      <td>Hold or Sell</td>\n",
       "      <td>1.5075</td>\n",
       "      <td>Hold or Sell</td>\n",
       "      <td>1.1850</td>\n",
       "      <td>1.1786</td>\n",
       "    </tr>\n",
       "    <tr>\n",
       "      <th>8</th>\n",
       "      <td>tsla</td>\n",
       "      <td>Hold or Sell</td>\n",
       "      <td>3.9621</td>\n",
       "      <td>Hold or Sell</td>\n",
       "      <td>1.7406</td>\n",
       "      <td>Hold or Sell</td>\n",
       "      <td>2.5659</td>\n",
       "      <td>81.1434</td>\n",
       "    </tr>\n",
       "    <tr>\n",
       "      <th>9</th>\n",
       "      <td>v</td>\n",
       "      <td>Buy</td>\n",
       "      <td>2.2937</td>\n",
       "      <td>Hold or Sell</td>\n",
       "      <td>2.4184</td>\n",
       "      <td>Buy</td>\n",
       "      <td>2.4245</td>\n",
       "      <td>10.3381</td>\n",
       "    </tr>\n",
       "    <tr>\n",
       "      <th>10</th>\n",
       "      <td>vbiv</td>\n",
       "      <td>Hold or Sell</td>\n",
       "      <td>5.2731</td>\n",
       "      <td>Hold or Sell</td>\n",
       "      <td>2.4305</td>\n",
       "      <td>Hold or Sell</td>\n",
       "      <td>1.8014</td>\n",
       "      <td>-0.7327</td>\n",
       "    </tr>\n",
       "    <tr>\n",
       "      <th>11</th>\n",
       "      <td>vbr</td>\n",
       "      <td>Hold or Sell</td>\n",
       "      <td>1.4321</td>\n",
       "      <td>Hold or Sell</td>\n",
       "      <td>1.2737</td>\n",
       "      <td>Hold or Sell</td>\n",
       "      <td>1.6478</td>\n",
       "      <td>1.5322</td>\n",
       "    </tr>\n",
       "    <tr>\n",
       "      <th>12</th>\n",
       "      <td>viov</td>\n",
       "      <td>Hold or Sell</td>\n",
       "      <td>1.2493</td>\n",
       "      <td>Hold or Sell</td>\n",
       "      <td>1.2403</td>\n",
       "      <td>Hold or Sell</td>\n",
       "      <td>1.2605</td>\n",
       "      <td>1.1897</td>\n",
       "    </tr>\n",
       "    <tr>\n",
       "      <th>13</th>\n",
       "      <td>vgt</td>\n",
       "      <td>Hold or Sell</td>\n",
       "      <td>3.0433</td>\n",
       "      <td>Hold or Sell</td>\n",
       "      <td>2.7987</td>\n",
       "      <td>Hold or Sell</td>\n",
       "      <td>3.0228</td>\n",
       "      <td>5.2570</td>\n",
       "    </tr>\n",
       "    <tr>\n",
       "      <th>14</th>\n",
       "      <td>xlk</td>\n",
       "      <td>Hold or Sell</td>\n",
       "      <td>4.1510</td>\n",
       "      <td>Hold or Sell</td>\n",
       "      <td>4.4269</td>\n",
       "      <td>Hold or Sell</td>\n",
       "      <td>3.7563</td>\n",
       "      <td>5.7597</td>\n",
       "    </tr>\n",
       "  </tbody>\n",
       "</table>\n",
       "</div>"
      ],
      "text/plain": [
       "   stock    1_Day_Pred  1_Day_Model_Return    3_Day_Pred  3_Day_Model_Return  \\\n",
       "0   pypl  Hold or Sell              3.0412  Hold or Sell              2.4396   \n",
       "1   qgen  Hold or Sell              1.9497  Hold or Sell              2.1166   \n",
       "2    run  Hold or Sell              1.2786           Buy              0.8021   \n",
       "3   okta  Hold or Sell              0.9451  Hold or Sell              0.8124   \n",
       "4   orcl  Hold or Sell              2.9387  Hold or Sell              3.3842   \n",
       "5    qqq  Hold or Sell              3.1698  Hold or Sell              3.6896   \n",
       "6   srpt  Hold or Sell              2.2774  Hold or Sell              2.5872   \n",
       "7   tpic  Hold or Sell              0.9412  Hold or Sell              1.5075   \n",
       "8   tsla  Hold or Sell              3.9621  Hold or Sell              1.7406   \n",
       "9      v           Buy              2.2937  Hold or Sell              2.4184   \n",
       "10  vbiv  Hold or Sell              5.2731  Hold or Sell              2.4305   \n",
       "11   vbr  Hold or Sell              1.4321  Hold or Sell              1.2737   \n",
       "12  viov  Hold or Sell              1.2493  Hold or Sell              1.2403   \n",
       "13   vgt  Hold or Sell              3.0433  Hold or Sell              2.7987   \n",
       "14   xlk  Hold or Sell              4.1510  Hold or Sell              4.4269   \n",
       "\n",
       "      5_Day_Pred  5_Day_Model_Return  Actual_Returns  \n",
       "0   Hold or Sell              2.7545          4.9407  \n",
       "1   Hold or Sell              2.5456          7.9897  \n",
       "2   Hold or Sell              0.9343          8.1379  \n",
       "3   Hold or Sell              0.7767          4.3401  \n",
       "4   Hold or Sell              3.5991         35.5726  \n",
       "5   Hold or Sell              2.5511          7.7526  \n",
       "6            Buy              1.7380          0.9949  \n",
       "7   Hold or Sell              1.1850          1.1786  \n",
       "8   Hold or Sell              2.5659         81.1434  \n",
       "9            Buy              2.4245         10.3381  \n",
       "10  Hold or Sell              1.8014         -0.7327  \n",
       "11  Hold or Sell              1.6478          1.5322  \n",
       "12  Hold or Sell              1.2605          1.1897  \n",
       "13  Hold or Sell              3.0228          5.2570  \n",
       "14  Hold or Sell              3.7563          5.7597  "
      ]
     },
     "execution_count": 33,
     "metadata": {},
     "output_type": "execute_result"
    }
   ],
   "source": [
    "summary_df = a.pred_summary_df(start_dates3, stocks = [x for x in start_dates3], days_back = 1)\n",
    "summary_df"
   ]
  },
  {
   "cell_type": "code",
   "execution_count": 34,
   "metadata": {},
   "outputs": [
    {
     "data": {
      "text/plain": [
       "(2.2937, 2.4184, 2.4245, 5.257)"
      ]
     },
     "execution_count": 34,
     "metadata": {},
     "output_type": "execute_result"
    }
   ],
   "source": [
    "summary_df['1_Day_Model_Return'].median(), summary_df['3_Day_Model_Return'].median(), summary_df['5_Day_Model_Return'].median(), summary_df['Actual_Returns'].median()"
   ]
  },
  {
   "cell_type": "code",
   "execution_count": null,
   "metadata": {},
   "outputs": [],
   "source": []
  }
 ],
 "metadata": {
  "kernelspec": {
   "display_name": "Python 3",
   "language": "python",
   "name": "python3"
  },
  "language_info": {
   "codemirror_mode": {
    "name": "ipython",
    "version": 3
   },
   "file_extension": ".py",
   "mimetype": "text/x-python",
   "name": "python",
   "nbconvert_exporter": "python",
   "pygments_lexer": "ipython3",
   "version": "3.8.5"
  }
 },
 "nbformat": 4,
 "nbformat_minor": 4
}
