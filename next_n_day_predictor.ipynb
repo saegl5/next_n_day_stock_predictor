{
 "cells": [
  {
   "cell_type": "code",
   "execution_count": 1,
   "metadata": {
    "scrolled": true
   },
   "outputs": [],
   "source": [
    "from src import attributes as a\n",
    "%load_ext autoreload\n",
    "%autoreload 2\n",
    "\n",
    "import warnings\n",
    "warnings.filterwarnings('ignore')"
   ]
  },
  {
   "cell_type": "code",
   "execution_count": 2,
   "metadata": {},
   "outputs": [],
   "source": [
    "# Global Variables\n",
    "stock_name = 'tsla' # ticker symbol\n",
    "train = 0 # 1 for train, 0 for pass\n",
    "days_ahead = 1 # for predicting 1, 3, or 5 days ahead\n",
    "days_back = -1 # -1 for current data point, -2 for two days ago, etc...\n",
    "cv = 5 # number of cross validation folds\n",
    "model_name = 'Random Forest Classifier' # for display on charts, not a tuning parameter"
   ]
  },
  {
   "cell_type": "code",
   "execution_count": 3,
   "metadata": {},
   "outputs": [],
   "source": [
    "# Extract, Transform, Load, and Train Test Split\n",
    "# Dictionary of IPO Dates\n",
    "start_dates = {'a': '11/15/1999' # Updated 4/26/21 1D, 3D, 5D ahead\n",
    "               , 'aapl': '12/12/1980' # Updated 11/8/21 1D, 3D, 5D ahead\n",
    "               #, 'acy': '01/18/1998' # Updated 4/26/21 1D, 3D, 5D ahead\n",
    "               , 'adbe': '08/11/1986' # Updated 11/8/21 1D, 3D, 5D ahead\n",
    "               #, 'alb': '02/21/1994' # Updated 4/26/21 1D, 3D, 5D ahead\n",
    "               , 'amat': '03/16/1980' # Updated 4/26/21 1D, 3D, 5D ahead\n",
    "               , 'amd': '03/17/1980' # Updated 11/23/21 1D, 3D, 5D ahead\n",
    "               , 'amgn': '06/13/1983' # Updated 4/26/21 1D, 3D, 5D ahead\n",
    "               , 'amzn': '05/12/1997' # Updated 11/07/21 1D, 3D, 5D ahead\n",
    "               , 'baba': '09/15/2014' # Updated 11/13/21 1D, 3D, 5D ahead\n",
    "               , 'bac': '02/19/1973' # Updated 4/26/21 1D, 3D, 5D ahead\n",
    "               , 'bby': '04/15/1985' # Updated 11/19/21 1D, 3D, 5D ahead\n",
    "               #, 'bpmc': '04/27/2015' # Updated 4/26/21 1D, 3D, 5D ahead\n",
    "               , 'crm': '06/23/2004' # Updated 11/13/21 1D, 3D, 5D ahead\n",
    "               , 'crsp': '10/16/2016' # Updated 4/26/21 1D, 3D, 5D ahead\n",
    "               , 'cost': '07/07/1986' # Updated 11/23/21 1D, 3D, 5D ahead\n",
    "               , 'dis': '10/27/2014' # Updatd 11/5/21 1D, 3D, 5D ahead\n",
    "               #, 'dq': '10/04/2010' # Updated 4/26/21 1D, 3D, 5D ahead\n",
    "               , 'esgv': '09/16/2018' # Updated 4/26/21 1D, 3D, 5D ahead\n",
    "               , 'fslr': '11/12/2006' # Updated 4/26/21 1D, 3D, 5D ahead\n",
    "               , 'goog': '08/16/2004' # Updated 11/8/21 1D, 3D, 5D ahead\n",
    "               , 'ibm': '01/02/1962' # Updated 4/26/21 1D, 3D, 5D ahead\n",
    "               , 'intc': '03/16/1980' # Updated 11/13/21 1D, 3D, 5D ahead\n",
    "               , 'iyw': '05/15/2000' # Updated 11/21/21 1D, 3D, 5D ahead\n",
    "               , 'll': '11/05/2007' # Updated 11/22/21 1D, 3D, 5D ahead\n",
    "               , 'lng': '04/04/1994' # Updated 4/26/21 1D, 3D, 5D ahead\n",
    "               , 'ma': '05/21/2006' # Updated 4/26/21 1D, 3D, 5D ahead\n",
    "               , 'mdb': '10/15/2017' # Updated 11/21/21 1D, 3D, 5D ahead\n",
    "               , 'msft': '03/10/1986' # Updated 11/8/21 1D, 3D, 5D ahead\n",
    "               , 'mu': '05/28/1984' # Updated 11/20/21 1D, 3D, 5D ahead\n",
    "               #, 'nee': '02/19/1973' # Updated 4/26/21 1D, 3D, 5D ahead\n",
    "               , 'nio': '09/10/2018' # Updated 4/26/21 1D, 3D, 5D ahead\n",
    "               , 'nvda': '01/22/1999' # Updated 11/17/21 1D, 3D, 5D ahead\n",
    "               #, 'pacb': '10/25/2010' # Updated 4/26/21 1D, 3D, 5D ahead\n",
    "               , 'pypl': '07/05/2015' # Updated 4/26/21 1D, 3D, 5D ahead\n",
    "               , 'qgen': '06/24/1996' # Updated 4/26/21 1D, 3D, 5D ahead\n",
    "               #, 'run': '08/02/2015' # Updated 4/26/21 1D, 3D, 5D ahead\n",
    "               , 'okta': '04/03/2017' # Updated 4/26/21 1D, 3D, 5D ahead\n",
    "               , 'orcl': '03/10/1986' # Updated 4/26/21 1D, 3D, 5D ahead\n",
    "               , 'qcom': '12/09/1991' # Updated 11/20/21 1D, 3D, 5D ahead\n",
    "               , 'qqq': '03/08/1999' # Updated 4/26/21 1D, 3D, 5D ahead\n",
    "               , 'srpt': '06/02/1997' # Updated 4/26/21 1D, 3D, 5D ahead\n",
    "               , 'tgt': '02/19/1973' # Updated 11/22/21 1D, 3D, 5D ahead\n",
    "               #, 'tpic': '07/17/2016' # Updated 4/26/21 1D, 3D, 5D ahead\n",
    "               , 'tsla': '06/29/2010' # Updated 11/07/21 1D, 3D, 5D ahead\n",
    "               , 'tsm': '10/06/1997' # Updated 11/20/21 1D, 3D, 5D ahead\n",
    "               , 'v': '03/16/2008' # Updated 11/22/21 1D, 3D, 5D ahead\n",
    "               , 'vbiv': '09/04/2002' # Updated 4/26/21 1D, 3D, 5D ahead\n",
    "               , 'vbr': '01/26/2004' # Updated 11/20/21 1D, 3D, 5D ahead\n",
    "               , 'viov': '09/06/2010' # Updated 4/26/21 1D, 3D, 5D ahead\n",
    "               , 'vgt': '01/26/2004' # Updated 11/07/21 1D, 3D, 5D ahead\n",
    "               , 'wmt': '11/10/2014' # Updated 11/16/21 1D, 3D, 5D ahead\n",
    "               , 'xlk': '12/21/1998' # Updated 11/21/21 1D, 3D, 5D ahead\n",
    "              }"
   ]
  },
  {
   "cell_type": "markdown",
   "metadata": {},
   "source": [
    "### Get Data..."
   ]
  },
  {
   "cell_type": "code",
   "execution_count": 4,
   "metadata": {
    "scrolled": true
   },
   "outputs": [
    {
     "name": "stdout",
     "output_type": "stream",
     "text": [
      "Today's date: 2022-03-22\n",
      "Table Updates Complete\n",
      "Current Time:  00:01:56\n"
     ]
    }
   ],
   "source": [
    "from datetime import date, datetime\n",
    "today = date.today()\n",
    "print(\"Today's date:\", today)\n",
    "a.get_tables(start_dates) # commented out for 2021-12-19, data already downloaded for weekend\n",
    "print('Table Updates Complete')\n",
    "now = datetime.now()\n",
    "current_time = now.strftime(\"%H:%M:%S\")\n",
    "print(\"Current Time: \", current_time)"
   ]
  },
  {
   "cell_type": "code",
   "execution_count": 5,
   "metadata": {},
   "outputs": [],
   "source": [
    "# Load RandomForextClassifier Model\n",
    "# rfc_model, y_pred, y_probs = a.rfc(X_train, X_test, y_train, stock_name, days_ahead)"
   ]
  },
  {
   "cell_type": "code",
   "execution_count": 6,
   "metadata": {
    "scrolled": false
   },
   "outputs": [],
   "source": [
    "# ROC Curve\n",
    "# a.roc_plot(y_test, y_probs, stock_name, model_name)"
   ]
  },
  {
   "cell_type": "code",
   "execution_count": 7,
   "metadata": {
    "scrolled": false
   },
   "outputs": [],
   "source": [
    "# Precision Recall Curve\n",
    "# a.prec_recall(y_test, y_probs, stock_name, model_name)"
   ]
  },
  {
   "cell_type": "code",
   "execution_count": 8,
   "metadata": {
    "scrolled": false
   },
   "outputs": [],
   "source": [
    "# Confusion Matrix\n",
    "# a.confusion_matrix(rfc_model, X_test, y_test, stock_name)"
   ]
  },
  {
   "cell_type": "code",
   "execution_count": 9,
   "metadata": {},
   "outputs": [],
   "source": [
    "# Cross Validation\n",
    "# a.cross_validation(rfc_model\n",
    "#                    , stock_df[['oc', 'hl', '5stdev_adj', '5sma_adj']]\n",
    "#                    , stock_df['direction']\n",
    "#                    , cv = 5\n",
    "#                   )"
   ]
  },
  {
   "cell_type": "markdown",
   "metadata": {},
   "source": [
    "### Prediction..."
   ]
  },
  {
   "cell_type": "code",
   "execution_count": 10,
   "metadata": {
    "scrolled": true
   },
   "outputs": [],
   "source": [
    "# Prediction, use last day of data\n",
    "# stock_df.iloc[-1]"
   ]
  },
  {
   "cell_type": "code",
   "execution_count": 11,
   "metadata": {},
   "outputs": [],
   "source": [
    "# import numpy as np\n",
    "# last = stock_df[['oc', 'hl', '5stdev_adj', '5sma_adj']].iloc[-days_back]\n",
    "# last"
   ]
  },
  {
   "cell_type": "code",
   "execution_count": 12,
   "metadata": {},
   "outputs": [],
   "source": [
    "# stock_df['adj'].describe()"
   ]
  },
  {
   "cell_type": "code",
   "execution_count": 13,
   "metadata": {
    "scrolled": true
   },
   "outputs": [],
   "source": [
    "# if rfc_model.predict(np.array(last).reshape(1, -1))[0] == 1:\n",
    "#     print(f'Buy {stock_name} {days_ahead} day(s) ahead')\n",
    "# else:\n",
    "#     print(f'Sell or hold {stock_name} {days_ahead} day(s) ahead')"
   ]
  },
  {
   "cell_type": "markdown",
   "metadata": {},
   "source": [
    "### Strategy Returns..."
   ]
  },
  {
   "cell_type": "code",
   "execution_count": 14,
   "metadata": {},
   "outputs": [],
   "source": [
    "# returns on strategy column\n",
    "# stock_df['prediction'] = rfc_model.predict(stock_df[['oc', 'hl', '5stdev_adj', '5sma_adj']])\n",
    "# stock_df['returns'] = stock_df['adj'].shift(-1, fill_value = stock_df['adj'].median()) * stock_df['prediction']"
   ]
  },
  {
   "cell_type": "code",
   "execution_count": 15,
   "metadata": {},
   "outputs": [],
   "source": [
    "# stock_df.tail(5)"
   ]
  },
  {
   "cell_type": "code",
   "execution_count": 16,
   "metadata": {},
   "outputs": [],
   "source": [
    "# Don't trade every day!\n",
    "# import matplotlib.pyplot as plt\n",
    "# test_length = len(y_test)\n",
    "# (stock_df['returns'][-test_length:] + 1).cumprod().plot()\n",
    "# plt.title(f'{stock_name} Expected Returns %');"
   ]
  },
  {
   "cell_type": "code",
   "execution_count": 17,
   "metadata": {},
   "outputs": [],
   "source": [
    "# Model returns if bought on predictions of 1\n",
    "# returns_on_ones = []\n",
    "# for idx in range(-test_length, 0):\n",
    "#     if stock_df['prediction'][idx] == 1:\n",
    "#         returns_on_ones.append(1 + stock_df['returns'][idx])\n",
    "\n",
    "# returns = 1\n",
    "# for x in returns_on_ones:\n",
    "#     returns *= x\n",
    "# returns"
   ]
  },
  {
   "cell_type": "code",
   "execution_count": 18,
   "metadata": {},
   "outputs": [],
   "source": [
    "# multiple times original investment, not bad but..."
   ]
  },
  {
   "cell_type": "code",
   "execution_count": 19,
   "metadata": {},
   "outputs": [],
   "source": [
    "# If purchased in 2012 and left it until now\n",
    "# test_idx = int(len(stock_df)*0.75)\n",
    "# (stock_df['Close'][-1] - stock_df['Close'][-test_idx]) / stock_df['Close'][-test_idx]"
   ]
  },
  {
   "cell_type": "code",
   "execution_count": 20,
   "metadata": {},
   "outputs": [],
   "source": [
    "# Buy and hold strategy beats RandomForestClassifier in this study\n",
    "\n",
    "# Special thanks to Shagufta Tahsildar at https://blog.quantinsti.com/random-forest-algorithm-in-python/"
   ]
  },
  {
   "cell_type": "code",
   "execution_count": null,
   "metadata": {},
   "outputs": [],
   "source": []
  },
  {
   "cell_type": "code",
   "execution_count": null,
   "metadata": {},
   "outputs": [],
   "source": []
  },
  {
   "cell_type": "code",
   "execution_count": null,
   "metadata": {},
   "outputs": [],
   "source": []
  },
  {
   "cell_type": "markdown",
   "metadata": {},
   "source": [
    "### Training"
   ]
  },
  {
   "cell_type": "markdown",
   "metadata": {},
   "source": [
    "Training is done once a week on Saturday and Sunday"
   ]
  },
  {
   "cell_type": "code",
   "execution_count": 21,
   "metadata": {},
   "outputs": [
    {
     "data": {
      "text/plain": [
       "45"
      ]
     },
     "execution_count": 21,
     "metadata": {},
     "output_type": "execute_result"
    }
   ],
   "source": [
    "len(start_dates)"
   ]
  },
  {
   "cell_type": "code",
   "execution_count": 22,
   "metadata": {},
   "outputs": [
    {
     "data": {
      "text/plain": [
       "{'a': '11/15/1999',\n",
       " 'aapl': '12/12/1980',\n",
       " 'adbe': '08/11/1986',\n",
       " 'amat': '03/16/1980',\n",
       " 'amd': '03/17/1980',\n",
       " 'amgn': '06/13/1983',\n",
       " 'amzn': '05/12/1997',\n",
       " 'baba': '09/15/2014',\n",
       " 'bac': '02/19/1973',\n",
       " 'bby': '04/15/1985',\n",
       " 'crm': '06/23/2004',\n",
       " 'crsp': '10/16/2016',\n",
       " 'cost': '07/07/1986',\n",
       " 'dis': '10/27/2014',\n",
       " 'esgv': '09/16/2018'}"
      ]
     },
     "execution_count": 22,
     "metadata": {},
     "output_type": "execute_result"
    }
   ],
   "source": [
    "import itertools as itr\n",
    "start_dates1 = dict(itr.islice(start_dates.items(), 0, 15))\n",
    "start_dates1"
   ]
  },
  {
   "cell_type": "code",
   "execution_count": 23,
   "metadata": {},
   "outputs": [
    {
     "data": {
      "text/plain": [
       "{'fslr': '11/12/2006',\n",
       " 'goog': '08/16/2004',\n",
       " 'ibm': '01/02/1962',\n",
       " 'intc': '03/16/1980',\n",
       " 'iyw': '05/15/2000',\n",
       " 'll': '11/05/2007',\n",
       " 'lng': '04/04/1994',\n",
       " 'ma': '05/21/2006',\n",
       " 'mdb': '10/15/2017',\n",
       " 'msft': '03/10/1986',\n",
       " 'mu': '05/28/1984',\n",
       " 'nio': '09/10/2018',\n",
       " 'nvda': '01/22/1999',\n",
       " 'pypl': '07/05/2015',\n",
       " 'qgen': '06/24/1996'}"
      ]
     },
     "execution_count": 23,
     "metadata": {},
     "output_type": "execute_result"
    }
   ],
   "source": [
    "start_dates2 = dict(itr.islice(start_dates.items(), 15, 30))\n",
    "start_dates2"
   ]
  },
  {
   "cell_type": "code",
   "execution_count": 24,
   "metadata": {},
   "outputs": [
    {
     "data": {
      "text/plain": [
       "{'okta': '04/03/2017',\n",
       " 'orcl': '03/10/1986',\n",
       " 'qcom': '12/09/1991',\n",
       " 'qqq': '03/08/1999',\n",
       " 'srpt': '06/02/1997',\n",
       " 'tgt': '02/19/1973',\n",
       " 'tsla': '06/29/2010',\n",
       " 'tsm': '10/06/1997',\n",
       " 'v': '03/16/2008',\n",
       " 'vbiv': '09/04/2002',\n",
       " 'vbr': '01/26/2004',\n",
       " 'viov': '09/06/2010',\n",
       " 'vgt': '01/26/2004',\n",
       " 'wmt': '11/10/2014',\n",
       " 'xlk': '12/21/1998'}"
      ]
     },
     "execution_count": 24,
     "metadata": {},
     "output_type": "execute_result"
    }
   ],
   "source": [
    "start_dates3 = dict(itr.islice(start_dates.items(), 30, 45+1))\n",
    "start_dates3"
   ]
  },
  {
   "cell_type": "code",
   "execution_count": 25,
   "metadata": {
    "scrolled": false
   },
   "outputs": [],
   "source": [
    "# from datetime import datetime\n",
    "\n",
    "# now = datetime.now()\n",
    "\n",
    "# current_time = now.strftime(\"%H:%M:%S\")\n",
    "# print(\"Gridsearch Start Date: \", today)\n",
    "# print(\"Current Time: \", current_time)\n",
    "\n",
    "#Train 15 at a time!\n",
    "# stocks = [x for x in start_dates1]\n",
    "# days_ahead = [1, 3, 5]\n",
    "# cv = 5\n",
    "# for stock in stocks:\n",
    "#     for days in days_ahead:\n",
    "#         X_train, X_test, y_train, y_test, stock_df = a.data(stock, start_dates[stock], days)\n",
    "#         a.rfc_GridSearch(X_train, y_train, stock, days, cv)\n",
    "# len(stocks)\n",
    "\n",
    "# Next on training for Saturday 4/17/2021\n",
    "# stocks = [x for x in start_dates2]\n",
    "# days_ahead = [1, 3, 5]\n",
    "# cv = 5\n",
    "# for stock in stocks:\n",
    "#     for days in days_ahead:\n",
    "#         X_train, X_test, y_train, y_test, stock_df = a.data(stock, start_dates[stock], days)\n",
    "#         a.rfc_GridSearch(X_train, y_train, stock, days, cv)\n",
    "# len(stocks)\n",
    "\n",
    "# Next on training for Saturday 4/17/2021\n",
    "# stocks = [x for x in start_dates3]\n",
    "# days_ahead = [1, 3, 5]\n",
    "# cv = 5\n",
    "# for stock in stocks:\n",
    "#     for days in days_ahead:\n",
    "#         X_train, X_test, y_train, y_test, stock_df = a.data(stock, start_dates[stock], days)\n",
    "#         a.rfc_GridSearch(X_train, y_train, stock, days, cv)\n",
    "# len(stocks)\n",
    "\n",
    "# # Train all, takes 15+ hours\n",
    "# stocks = [x for x in start_dates]\n",
    "# days_ahead = [1, 3, 5]\n",
    "# cv = 5\n",
    "# for stock in stocks:\n",
    "#     for days in days_ahead:\n",
    "#         X_train, X_test, y_train, y_test, stock_df = a.data(stock, start_dates[stock], days)\n",
    "#         a.rfc_GridSearch(X_train, y_train, stock, days, cv)\n",
    "# len(stocks)\n",
    "\n",
    "# Train desired stocks...takes less time (4 will take 15.5 hours, each stock is roughly 2.5-4 hours to train)\n",
    "# 3 will take 7.5 hours, roughly 2.5 hours per stock trained\n",
    "# to train: ['cost']\n",
    "\n",
    "# import timeit \n",
    "# stocks = ['amd'] # ['tsm', 'vbr'] # tbt as of 2021-11-20, started 01:15 PST\n",
    "# days_ahead = [1, 3, 5] \n",
    "# cv = 3 # was 5 \n",
    "# for stock in stocks:\n",
    "#     for days in days_ahead:\n",
    "#         X_train, X_test, y_train, y_test, stock_df = a.data(stock, start_dates[stock], days)\n",
    "#         %timeit a.rfc_GridSearch(X_train, y_train, stock, days, cv)\n",
    "\n",
    "# now = datetime.now()\n",
    "\n",
    "# current_time = now.strftime(\"%H:%M:%S\")\n",
    "# print(\"Gridsearch End Date: \", today)\n",
    "# print(\"Current Time: \", current_time)"
   ]
  },
  {
   "cell_type": "code",
   "execution_count": null,
   "metadata": {},
   "outputs": [],
   "source": []
  },
  {
   "cell_type": "code",
   "execution_count": null,
   "metadata": {},
   "outputs": [],
   "source": []
  },
  {
   "cell_type": "code",
   "execution_count": null,
   "metadata": {},
   "outputs": [],
   "source": []
  },
  {
   "cell_type": "markdown",
   "metadata": {},
   "source": [
    "### Display All Results"
   ]
  },
  {
   "cell_type": "markdown",
   "metadata": {},
   "source": [
    "**NOTE:** Returns include buying ups and selling downs"
   ]
  },
  {
   "cell_type": "code",
   "execution_count": 26,
   "metadata": {},
   "outputs": [
    {
     "name": "stdout",
     "output_type": "stream",
     "text": [
      "Today's date: 2022-03-22\n",
      "Current Time:  00:01:57\n"
     ]
    }
   ],
   "source": [
    "from datetime import date, datetime\n",
    "today = date.today()\n",
    "print(\"Today's date:\", today)\n",
    "now = datetime.now()\n",
    "current_time = now.strftime(\"%H:%M:%S\")\n",
    "print(\"Current Time: \", current_time)"
   ]
  },
  {
   "cell_type": "code",
   "execution_count": 27,
   "metadata": {
    "scrolled": false
   },
   "outputs": [
    {
     "name": "stdout",
     "output_type": "stream",
     "text": [
      "Sell or hold amzn 1 day(s) ahead\n",
      "Model Returns (x 100 for %): 1.2494\n",
      "Stock Returns (x 100 for %): 321.983\n"
     ]
    },
    {
     "data": {
      "image/png": "[encoded data removed]",
      "text/plain": [
       "<Figure size 432x288 with 1 Axes>"
      ]
     },
     "metadata": {},
     "output_type": "display_data"
    },
    {
     "data": {
      "image/png": "[encoded data removed]",
      "text/plain": [
       "<Figure size 648x504 with 1 Axes>"
      ]
     },
     "metadata": {},
     "output_type": "display_data"
    },
    {
     "data": {
      "image/png": "[encoded data removed]",
      "text/plain": [
       "<Figure size 648x504 with 1 Axes>"
      ]
     },
     "metadata": {},
     "output_type": "display_data"
    },
    {
     "data": {
      "image/png": "[encoded data removed]",
      "text/plain": [
       "<Figure size 684x612 with 2 Axes>"
      ]
     },
     "metadata": {},
     "output_type": "display_data"
    }
   ],
   "source": [
    "stock_name = 'amzn'\n",
    "a.all_func(stock_name\n",
    "           , start_dates[stock_name]\n",
    "           , days_ahead = 1\n",
    "           , model_name = model_name\n",
    "           , days_back = 1\n",
    "          )"
   ]
  },
  {
   "cell_type": "code",
   "execution_count": null,
   "metadata": {},
   "outputs": [],
   "source": []
  },
  {
   "cell_type": "code",
   "execution_count": null,
   "metadata": {},
   "outputs": [],
   "source": []
  },
  {
   "cell_type": "code",
   "execution_count": null,
   "metadata": {},
   "outputs": [],
   "source": []
  },
  {
   "cell_type": "markdown",
   "metadata": {},
   "source": [
    "### Data Frame of Predictions 1 3 5 Days"
   ]
  },
  {
   "cell_type": "markdown",
   "metadata": {},
   "source": [
    "**NOTE:** Returns are for buys only."
   ]
  },
  {
   "cell_type": "code",
   "execution_count": 28,
   "metadata": {},
   "outputs": [
    {
     "name": "stdout",
     "output_type": "stream",
     "text": [
      "Today's date: 2022-03-22\n",
      "Current Time = 00:01:57\n"
     ]
    }
   ],
   "source": [
    "print(\"Today's date:\", today)\n",
    "print(\"Current Time =\", current_time)"
   ]
  },
  {
   "cell_type": "code",
   "execution_count": 29,
   "metadata": {
    "scrolled": false
   },
   "outputs": [
    {
     "data": {
      "text/html": [
       "<div>\n",
       "<style scoped>\n",
       "    .dataframe tbody tr th:only-of-type {\n",
       "        vertical-align: middle;\n",
       "    }\n",
       "\n",
       "    .dataframe tbody tr th {\n",
       "        vertical-align: top;\n",
       "    }\n",
       "\n",
       "    .dataframe thead th {\n",
       "        text-align: right;\n",
       "    }\n",
       "</style>\n",
       "<table border=\"1\" class=\"dataframe\">\n",
       "  <thead>\n",
       "    <tr style=\"text-align: right;\">\n",
       "      <th></th>\n",
       "      <th>stock</th>\n",
       "      <th>1_Day_Pred</th>\n",
       "      <th>1_Day_Model_Return</th>\n",
       "      <th>3_Day_Pred</th>\n",
       "      <th>3_Day_Model_Return</th>\n",
       "      <th>5_Day_Pred</th>\n",
       "      <th>5_Day_Model_Return</th>\n",
       "      <th>Actual_Returns</th>\n",
       "    </tr>\n",
       "  </thead>\n",
       "  <tbody>\n",
       "    <tr>\n",
       "      <th>0</th>\n",
       "      <td>a</td>\n",
       "      <td>Hold or Sell</td>\n",
       "      <td>1.7199</td>\n",
       "      <td>Hold or Sell</td>\n",
       "      <td>2.0661</td>\n",
       "      <td>Hold or Sell</td>\n",
       "      <td>1.9952</td>\n",
       "      <td>13.1795</td>\n",
       "    </tr>\n",
       "    <tr>\n",
       "      <th>1</th>\n",
       "      <td>aapl</td>\n",
       "      <td>Hold or Sell</td>\n",
       "      <td>4.6045</td>\n",
       "      <td>Hold or Sell</td>\n",
       "      <td>3.9923</td>\n",
       "      <td>Hold or Sell</td>\n",
       "      <td>4.5428</td>\n",
       "      <td>745.3551</td>\n",
       "    </tr>\n",
       "    <tr>\n",
       "      <th>2</th>\n",
       "      <td>adbe</td>\n",
       "      <td>Hold or Sell</td>\n",
       "      <td>3.6115</td>\n",
       "      <td>Hold or Sell</td>\n",
       "      <td>3.5216</td>\n",
       "      <td>Hold or Sell</td>\n",
       "      <td>3.2167</td>\n",
       "      <td>116.4669</td>\n",
       "    </tr>\n",
       "    <tr>\n",
       "      <th>3</th>\n",
       "      <td>amat</td>\n",
       "      <td>Hold or Sell</td>\n",
       "      <td>10.9630</td>\n",
       "      <td>Hold or Sell</td>\n",
       "      <td>11.2667</td>\n",
       "      <td>Hold or Sell</td>\n",
       "      <td>9.7697</td>\n",
       "      <td>1208.2607</td>\n",
       "    </tr>\n",
       "    <tr>\n",
       "      <th>4</th>\n",
       "      <td>amd</td>\n",
       "      <td>Hold or Sell</td>\n",
       "      <td>18.5854</td>\n",
       "      <td>Hold or Sell</td>\n",
       "      <td>42.0382</td>\n",
       "      <td>Hold or Sell</td>\n",
       "      <td>53.2796</td>\n",
       "      <td>14.7223</td>\n",
       "    </tr>\n",
       "    <tr>\n",
       "      <th>5</th>\n",
       "      <td>amgn</td>\n",
       "      <td>Buy</td>\n",
       "      <td>1.8266</td>\n",
       "      <td>Buy</td>\n",
       "      <td>1.8245</td>\n",
       "      <td>Buy</td>\n",
       "      <td>1.6679</td>\n",
       "      <td>367.7200</td>\n",
       "    </tr>\n",
       "    <tr>\n",
       "      <th>6</th>\n",
       "      <td>amzn</td>\n",
       "      <td>Hold or Sell</td>\n",
       "      <td>1.2736</td>\n",
       "      <td>Hold or Sell</td>\n",
       "      <td>1.1902</td>\n",
       "      <td>Buy</td>\n",
       "      <td>1.0753</td>\n",
       "      <td>321.9830</td>\n",
       "    </tr>\n",
       "    <tr>\n",
       "      <th>7</th>\n",
       "      <td>baba</td>\n",
       "      <td>Hold or Sell</td>\n",
       "      <td>0.5693</td>\n",
       "      <td>Hold or Sell</td>\n",
       "      <td>0.7034</td>\n",
       "      <td>Hold or Sell</td>\n",
       "      <td>0.5287</td>\n",
       "      <td>0.2332</td>\n",
       "    </tr>\n",
       "    <tr>\n",
       "      <th>8</th>\n",
       "      <td>bac</td>\n",
       "      <td>Buy</td>\n",
       "      <td>2.0495</td>\n",
       "      <td>Buy</td>\n",
       "      <td>2.0328</td>\n",
       "      <td>Buy</td>\n",
       "      <td>2.6983</td>\n",
       "      <td>62.1850</td>\n",
       "    </tr>\n",
       "    <tr>\n",
       "      <th>9</th>\n",
       "      <td>bby</td>\n",
       "      <td>Buy</td>\n",
       "      <td>1.3845</td>\n",
       "      <td>Buy</td>\n",
       "      <td>1.2554</td>\n",
       "      <td>Buy</td>\n",
       "      <td>1.1588</td>\n",
       "      <td>645.0341</td>\n",
       "    </tr>\n",
       "    <tr>\n",
       "      <th>10</th>\n",
       "      <td>crm</td>\n",
       "      <td>Buy</td>\n",
       "      <td>1.0337</td>\n",
       "      <td>Buy</td>\n",
       "      <td>1.0855</td>\n",
       "      <td>Buy</td>\n",
       "      <td>1.2937</td>\n",
       "      <td>18.8256</td>\n",
       "    </tr>\n",
       "    <tr>\n",
       "      <th>11</th>\n",
       "      <td>crsp</td>\n",
       "      <td>Buy</td>\n",
       "      <td>0.7599</td>\n",
       "      <td>Buy</td>\n",
       "      <td>0.8379</td>\n",
       "      <td>Buy</td>\n",
       "      <td>0.8891</td>\n",
       "      <td>2.5037</td>\n",
       "    </tr>\n",
       "    <tr>\n",
       "      <th>12</th>\n",
       "      <td>cost</td>\n",
       "      <td>Buy</td>\n",
       "      <td>2.1131</td>\n",
       "      <td>Buy</td>\n",
       "      <td>1.9994</td>\n",
       "      <td>Buy</td>\n",
       "      <td>1.9982</td>\n",
       "      <td>58.0870</td>\n",
       "    </tr>\n",
       "    <tr>\n",
       "      <th>13</th>\n",
       "      <td>dis</td>\n",
       "      <td>Buy</td>\n",
       "      <td>2.6944</td>\n",
       "      <td>Hold or Sell</td>\n",
       "      <td>2.8824</td>\n",
       "      <td>Buy</td>\n",
       "      <td>2.7643</td>\n",
       "      <td>202.1670</td>\n",
       "    </tr>\n",
       "    <tr>\n",
       "      <th>14</th>\n",
       "      <td>esgv</td>\n",
       "      <td>Buy</td>\n",
       "      <td>0.9335</td>\n",
       "      <td>Buy</td>\n",
       "      <td>0.9207</td>\n",
       "      <td>Buy</td>\n",
       "      <td>0.9787</td>\n",
       "      <td>0.6161</td>\n",
       "    </tr>\n",
       "  </tbody>\n",
       "</table>\n",
       "</div>"
      ],
      "text/plain": [
       "   stock    1_Day_Pred  1_Day_Model_Return    3_Day_Pred  3_Day_Model_Return  \\\n",
       "0      a  Hold or Sell              1.7199  Hold or Sell              2.0661   \n",
       "1   aapl  Hold or Sell              4.6045  Hold or Sell              3.9923   \n",
       "2   adbe  Hold or Sell              3.6115  Hold or Sell              3.5216   \n",
       "3   amat  Hold or Sell             10.9630  Hold or Sell             11.2667   \n",
       "4    amd  Hold or Sell             18.5854  Hold or Sell             42.0382   \n",
       "5   amgn           Buy              1.8266           Buy              1.8245   \n",
       "6   amzn  Hold or Sell              1.2736  Hold or Sell              1.1902   \n",
       "7   baba  Hold or Sell              0.5693  Hold or Sell              0.7034   \n",
       "8    bac           Buy              2.0495           Buy              2.0328   \n",
       "9    bby           Buy              1.3845           Buy              1.2554   \n",
       "10   crm           Buy              1.0337           Buy              1.0855   \n",
       "11  crsp           Buy              0.7599           Buy              0.8379   \n",
       "12  cost           Buy              2.1131           Buy              1.9994   \n",
       "13   dis           Buy              2.6944  Hold or Sell              2.8824   \n",
       "14  esgv           Buy              0.9335           Buy              0.9207   \n",
       "\n",
       "      5_Day_Pred  5_Day_Model_Return  Actual_Returns  \n",
       "0   Hold or Sell              1.9952         13.1795  \n",
       "1   Hold or Sell              4.5428        745.3551  \n",
       "2   Hold or Sell              3.2167        116.4669  \n",
       "3   Hold or Sell              9.7697       1208.2607  \n",
       "4   Hold or Sell             53.2796         14.7223  \n",
       "5            Buy              1.6679        367.7200  \n",
       "6            Buy              1.0753        321.9830  \n",
       "7   Hold or Sell              0.5287          0.2332  \n",
       "8            Buy              2.6983         62.1850  \n",
       "9            Buy              1.1588        645.0341  \n",
       "10           Buy              1.2937         18.8256  \n",
       "11           Buy              0.8891          2.5037  \n",
       "12           Buy              1.9982         58.0870  \n",
       "13           Buy              2.7643        202.1670  \n",
       "14           Buy              0.9787          0.6161  "
      ]
     },
     "execution_count": 29,
     "metadata": {},
     "output_type": "execute_result"
    }
   ],
   "source": [
    "summary_df = a.pred_summary_df(start_dates1, stocks = [x for x in start_dates1], days_back = 1)\n",
    "summary_df"
   ]
  },
  {
   "cell_type": "code",
   "execution_count": 30,
   "metadata": {},
   "outputs": [
    {
     "data": {
      "text/plain": [
       "(1.8266, 1.9994, 1.9952, 62.185)"
      ]
     },
     "execution_count": 30,
     "metadata": {},
     "output_type": "execute_result"
    }
   ],
   "source": [
    "summary_df['1_Day_Model_Return'].median(), summary_df['3_Day_Model_Return'].median(), summary_df['5_Day_Model_Return'].median(), summary_df['Actual_Returns'].median()"
   ]
  },
  {
   "cell_type": "code",
   "execution_count": null,
   "metadata": {},
   "outputs": [],
   "source": []
  },
  {
   "cell_type": "code",
   "execution_count": 31,
   "metadata": {
    "scrolled": false
   },
   "outputs": [
    {
     "data": {
      "text/html": [
       "<div>\n",
       "<style scoped>\n",
       "    .dataframe tbody tr th:only-of-type {\n",
       "        vertical-align: middle;\n",
       "    }\n",
       "\n",
       "    .dataframe tbody tr th {\n",
       "        vertical-align: top;\n",
       "    }\n",
       "\n",
       "    .dataframe thead th {\n",
       "        text-align: right;\n",
       "    }\n",
       "</style>\n",
       "<table border=\"1\" class=\"dataframe\">\n",
       "  <thead>\n",
       "    <tr style=\"text-align: right;\">\n",
       "      <th></th>\n",
       "      <th>stock</th>\n",
       "      <th>1_Day_Pred</th>\n",
       "      <th>1_Day_Model_Return</th>\n",
       "      <th>3_Day_Pred</th>\n",
       "      <th>3_Day_Model_Return</th>\n",
       "      <th>5_Day_Pred</th>\n",
       "      <th>5_Day_Model_Return</th>\n",
       "      <th>Actual_Returns</th>\n",
       "    </tr>\n",
       "  </thead>\n",
       "  <tbody>\n",
       "    <tr>\n",
       "      <th>0</th>\n",
       "      <td>fslr</td>\n",
       "      <td>Buy</td>\n",
       "      <td>1.5980</td>\n",
       "      <td>Buy</td>\n",
       "      <td>2.2935</td>\n",
       "      <td>Hold or Sell</td>\n",
       "      <td>2.0057</td>\n",
       "      <td>-0.4399</td>\n",
       "    </tr>\n",
       "    <tr>\n",
       "      <th>1</th>\n",
       "      <td>goog</td>\n",
       "      <td>Buy</td>\n",
       "      <td>2.3710</td>\n",
       "      <td>Buy</td>\n",
       "      <td>2.2168</td>\n",
       "      <td>Buy</td>\n",
       "      <td>2.8231</td>\n",
       "      <td>10.7384</td>\n",
       "    </tr>\n",
       "    <tr>\n",
       "      <th>2</th>\n",
       "      <td>ibm</td>\n",
       "      <td>Buy</td>\n",
       "      <td>1.4151</td>\n",
       "      <td>Buy</td>\n",
       "      <td>1.3747</td>\n",
       "      <td>Buy</td>\n",
       "      <td>1.1376</td>\n",
       "      <td>30.6968</td>\n",
       "    </tr>\n",
       "    <tr>\n",
       "      <th>3</th>\n",
       "      <td>intc</td>\n",
       "      <td>Buy</td>\n",
       "      <td>3.7761</td>\n",
       "      <td>Buy</td>\n",
       "      <td>3.3934</td>\n",
       "      <td>Buy</td>\n",
       "      <td>3.6602</td>\n",
       "      <td>199.4257</td>\n",
       "    </tr>\n",
       "    <tr>\n",
       "      <th>4</th>\n",
       "      <td>iyw</td>\n",
       "      <td>Hold or Sell</td>\n",
       "      <td>2.5688</td>\n",
       "      <td>Hold or Sell</td>\n",
       "      <td>2.6853</td>\n",
       "      <td>Buy</td>\n",
       "      <td>1.9674</td>\n",
       "      <td>9.6774</td>\n",
       "    </tr>\n",
       "    <tr>\n",
       "      <th>5</th>\n",
       "      <td>ll</td>\n",
       "      <td>Buy</td>\n",
       "      <td>0.7570</td>\n",
       "      <td>Buy</td>\n",
       "      <td>0.8991</td>\n",
       "      <td>Buy</td>\n",
       "      <td>0.9583</td>\n",
       "      <td>-0.3680</td>\n",
       "    </tr>\n",
       "    <tr>\n",
       "      <th>6</th>\n",
       "      <td>lng</td>\n",
       "      <td>Hold or Sell</td>\n",
       "      <td>1.9958</td>\n",
       "      <td>Hold or Sell</td>\n",
       "      <td>1.8324</td>\n",
       "      <td>Hold or Sell</td>\n",
       "      <td>1.5525</td>\n",
       "      <td>42.7882</td>\n",
       "    </tr>\n",
       "    <tr>\n",
       "      <th>7</th>\n",
       "      <td>ma</td>\n",
       "      <td>Buy</td>\n",
       "      <td>1.1070</td>\n",
       "      <td>Buy</td>\n",
       "      <td>1.2758</td>\n",
       "      <td>Buy</td>\n",
       "      <td>1.0269</td>\n",
       "      <td>20.6685</td>\n",
       "    </tr>\n",
       "    <tr>\n",
       "      <th>8</th>\n",
       "      <td>mdb</td>\n",
       "      <td>Hold or Sell</td>\n",
       "      <td>0.6389</td>\n",
       "      <td>Buy</td>\n",
       "      <td>0.7526</td>\n",
       "      <td>Hold or Sell</td>\n",
       "      <td>0.6965</td>\n",
       "      <td>5.7654</td>\n",
       "    </tr>\n",
       "    <tr>\n",
       "      <th>9</th>\n",
       "      <td>msft</td>\n",
       "      <td>Buy</td>\n",
       "      <td>7.0562</td>\n",
       "      <td>Buy</td>\n",
       "      <td>7.0758</td>\n",
       "      <td>Hold or Sell</td>\n",
       "      <td>6.8160</td>\n",
       "      <td>267.1399</td>\n",
       "    </tr>\n",
       "    <tr>\n",
       "      <th>10</th>\n",
       "      <td>mu</td>\n",
       "      <td>Buy</td>\n",
       "      <td>2.9274</td>\n",
       "      <td>Buy</td>\n",
       "      <td>4.4009</td>\n",
       "      <td>Buy</td>\n",
       "      <td>2.8497</td>\n",
       "      <td>69.4105</td>\n",
       "    </tr>\n",
       "    <tr>\n",
       "      <th>11</th>\n",
       "      <td>nio</td>\n",
       "      <td>Buy</td>\n",
       "      <td>0.8310</td>\n",
       "      <td>Buy</td>\n",
       "      <td>0.6076</td>\n",
       "      <td>Buy</td>\n",
       "      <td>0.6284</td>\n",
       "      <td>3.1946</td>\n",
       "    </tr>\n",
       "    <tr>\n",
       "      <th>12</th>\n",
       "      <td>nvda</td>\n",
       "      <td>Hold or Sell</td>\n",
       "      <td>4.4011</td>\n",
       "      <td>Hold or Sell</td>\n",
       "      <td>3.5865</td>\n",
       "      <td>Hold or Sell</td>\n",
       "      <td>2.9892</td>\n",
       "      <td>386.6443</td>\n",
       "    </tr>\n",
       "    <tr>\n",
       "      <th>13</th>\n",
       "      <td>pypl</td>\n",
       "      <td>Hold or Sell</td>\n",
       "      <td>0.7424</td>\n",
       "      <td>Hold or Sell</td>\n",
       "      <td>0.5480</td>\n",
       "      <td>Hold or Sell</td>\n",
       "      <td>0.7332</td>\n",
       "      <td>2.1377</td>\n",
       "    </tr>\n",
       "    <tr>\n",
       "      <th>14</th>\n",
       "      <td>qgen</td>\n",
       "      <td>Buy</td>\n",
       "      <td>1.2755</td>\n",
       "      <td>Buy</td>\n",
       "      <td>1.2792</td>\n",
       "      <td>Buy</td>\n",
       "      <td>1.4202</td>\n",
       "      <td>0.2455</td>\n",
       "    </tr>\n",
       "  </tbody>\n",
       "</table>\n",
       "</div>"
      ],
      "text/plain": [
       "   stock    1_Day_Pred  1_Day_Model_Return    3_Day_Pred  3_Day_Model_Return  \\\n",
       "0   fslr           Buy              1.5980           Buy              2.2935   \n",
       "1   goog           Buy              2.3710           Buy              2.2168   \n",
       "2    ibm           Buy              1.4151           Buy              1.3747   \n",
       "3   intc           Buy              3.7761           Buy              3.3934   \n",
       "4    iyw  Hold or Sell              2.5688  Hold or Sell              2.6853   \n",
       "5     ll           Buy              0.7570           Buy              0.8991   \n",
       "6    lng  Hold or Sell              1.9958  Hold or Sell              1.8324   \n",
       "7     ma           Buy              1.1070           Buy              1.2758   \n",
       "8    mdb  Hold or Sell              0.6389           Buy              0.7526   \n",
       "9   msft           Buy              7.0562           Buy              7.0758   \n",
       "10    mu           Buy              2.9274           Buy              4.4009   \n",
       "11   nio           Buy              0.8310           Buy              0.6076   \n",
       "12  nvda  Hold or Sell              4.4011  Hold or Sell              3.5865   \n",
       "13  pypl  Hold or Sell              0.7424  Hold or Sell              0.5480   \n",
       "14  qgen           Buy              1.2755           Buy              1.2792   \n",
       "\n",
       "      5_Day_Pred  5_Day_Model_Return  Actual_Returns  \n",
       "0   Hold or Sell              2.0057         -0.4399  \n",
       "1            Buy              2.8231         10.7384  \n",
       "2            Buy              1.1376         30.6968  \n",
       "3            Buy              3.6602        199.4257  \n",
       "4            Buy              1.9674          9.6774  \n",
       "5            Buy              0.9583         -0.3680  \n",
       "6   Hold or Sell              1.5525         42.7882  \n",
       "7            Buy              1.0269         20.6685  \n",
       "8   Hold or Sell              0.6965          5.7654  \n",
       "9   Hold or Sell              6.8160        267.1399  \n",
       "10           Buy              2.8497         69.4105  \n",
       "11           Buy              0.6284          3.1946  \n",
       "12  Hold or Sell              2.9892        386.6443  \n",
       "13  Hold or Sell              0.7332          2.1377  \n",
       "14           Buy              1.4202          0.2455  "
      ]
     },
     "execution_count": 31,
     "metadata": {},
     "output_type": "execute_result"
    }
   ],
   "source": [
    "summary_df = a.pred_summary_df(start_dates2, stocks = [x for x in start_dates2], days_back = 1)\n",
    "summary_df"
   ]
  },
  {
   "cell_type": "code",
   "execution_count": 32,
   "metadata": {},
   "outputs": [
    {
     "data": {
      "text/plain": [
       "(1.598, 1.8324, 1.5525, 10.7384)"
      ]
     },
     "execution_count": 32,
     "metadata": {},
     "output_type": "execute_result"
    }
   ],
   "source": [
    "summary_df['1_Day_Model_Return'].median(), summary_df['3_Day_Model_Return'].median(), summary_df['5_Day_Model_Return'].median(), summary_df['Actual_Returns'].median()"
   ]
  },
  {
   "cell_type": "code",
   "execution_count": null,
   "metadata": {},
   "outputs": [],
   "source": []
  },
  {
   "cell_type": "code",
   "execution_count": 33,
   "metadata": {
    "scrolled": false
   },
   "outputs": [
    {
     "data": {
      "text/html": [
       "<div>\n",
       "<style scoped>\n",
       "    .dataframe tbody tr th:only-of-type {\n",
       "        vertical-align: middle;\n",
       "    }\n",
       "\n",
       "    .dataframe tbody tr th {\n",
       "        vertical-align: top;\n",
       "    }\n",
       "\n",
       "    .dataframe thead th {\n",
       "        text-align: right;\n",
       "    }\n",
       "</style>\n",
       "<table border=\"1\" class=\"dataframe\">\n",
       "  <thead>\n",
       "    <tr style=\"text-align: right;\">\n",
       "      <th></th>\n",
       "      <th>stock</th>\n",
       "      <th>1_Day_Pred</th>\n",
       "      <th>1_Day_Model_Return</th>\n",
       "      <th>3_Day_Pred</th>\n",
       "      <th>3_Day_Model_Return</th>\n",
       "      <th>5_Day_Pred</th>\n",
       "      <th>5_Day_Model_Return</th>\n",
       "      <th>Actual_Returns</th>\n",
       "    </tr>\n",
       "  </thead>\n",
       "  <tbody>\n",
       "    <tr>\n",
       "      <th>0</th>\n",
       "      <td>okta</td>\n",
       "      <td>Buy</td>\n",
       "      <td>0.6025</td>\n",
       "      <td>Hold or Sell</td>\n",
       "      <td>0.7082</td>\n",
       "      <td>Buy</td>\n",
       "      <td>0.6227</td>\n",
       "      <td>4.6735</td>\n",
       "    </tr>\n",
       "    <tr>\n",
       "      <th>1</th>\n",
       "      <td>orcl</td>\n",
       "      <td>Buy</td>\n",
       "      <td>2.2883</td>\n",
       "      <td>Buy</td>\n",
       "      <td>1.9988</td>\n",
       "      <td>Buy</td>\n",
       "      <td>2.3359</td>\n",
       "      <td>383.0242</td>\n",
       "    </tr>\n",
       "    <tr>\n",
       "      <th>2</th>\n",
       "      <td>qcom</td>\n",
       "      <td>Hold or Sell</td>\n",
       "      <td>2.4882</td>\n",
       "      <td>Hold or Sell</td>\n",
       "      <td>2.1547</td>\n",
       "      <td>Hold or Sell</td>\n",
       "      <td>3.8181</td>\n",
       "      <td>97.7602</td>\n",
       "    </tr>\n",
       "    <tr>\n",
       "      <th>3</th>\n",
       "      <td>qqq</td>\n",
       "      <td>Buy</td>\n",
       "      <td>2.0450</td>\n",
       "      <td>Hold or Sell</td>\n",
       "      <td>1.8957</td>\n",
       "      <td>Buy</td>\n",
       "      <td>2.1267</td>\n",
       "      <td>17.6738</td>\n",
       "    </tr>\n",
       "    <tr>\n",
       "      <th>4</th>\n",
       "      <td>srpt</td>\n",
       "      <td>Buy</td>\n",
       "      <td>0.9102</td>\n",
       "      <td>Buy</td>\n",
       "      <td>1.4097</td>\n",
       "      <td>Buy</td>\n",
       "      <td>1.2282</td>\n",
       "      <td>2.4273</td>\n",
       "    </tr>\n",
       "    <tr>\n",
       "      <th>5</th>\n",
       "      <td>tgt</td>\n",
       "      <td>Buy</td>\n",
       "      <td>1.4564</td>\n",
       "      <td>Buy</td>\n",
       "      <td>2.7165</td>\n",
       "      <td>Buy</td>\n",
       "      <td>1.7892</td>\n",
       "      <td>464.3575</td>\n",
       "    </tr>\n",
       "    <tr>\n",
       "      <th>6</th>\n",
       "      <td>tsla</td>\n",
       "      <td>Hold or Sell</td>\n",
       "      <td>2.9740</td>\n",
       "      <td>Hold or Sell</td>\n",
       "      <td>2.6702</td>\n",
       "      <td>Hold or Sell</td>\n",
       "      <td>2.9760</td>\n",
       "      <td>136.5276</td>\n",
       "    </tr>\n",
       "    <tr>\n",
       "      <th>7</th>\n",
       "      <td>tsm</td>\n",
       "      <td>Hold or Sell</td>\n",
       "      <td>3.6526</td>\n",
       "      <td>Hold or Sell</td>\n",
       "      <td>4.6990</td>\n",
       "      <td>Hold or Sell</td>\n",
       "      <td>4.0418</td>\n",
       "      <td>18.7783</td>\n",
       "    </tr>\n",
       "    <tr>\n",
       "      <th>8</th>\n",
       "      <td>v</td>\n",
       "      <td>Hold or Sell</td>\n",
       "      <td>1.2805</td>\n",
       "      <td>Buy</td>\n",
       "      <td>1.3507</td>\n",
       "      <td>Hold or Sell</td>\n",
       "      <td>1.3431</td>\n",
       "      <td>11.7163</td>\n",
       "    </tr>\n",
       "    <tr>\n",
       "      <th>9</th>\n",
       "      <td>vbiv</td>\n",
       "      <td>Buy</td>\n",
       "      <td>0.8892</td>\n",
       "      <td>Buy</td>\n",
       "      <td>1.1550</td>\n",
       "      <td>Buy</td>\n",
       "      <td>1.3054</td>\n",
       "      <td>-0.9613</td>\n",
       "    </tr>\n",
       "    <tr>\n",
       "      <th>10</th>\n",
       "      <td>vbr</td>\n",
       "      <td>Buy</td>\n",
       "      <td>1.4525</td>\n",
       "      <td>Buy</td>\n",
       "      <td>1.5571</td>\n",
       "      <td>Buy</td>\n",
       "      <td>1.4752</td>\n",
       "      <td>2.4582</td>\n",
       "    </tr>\n",
       "    <tr>\n",
       "      <th>11</th>\n",
       "      <td>viov</td>\n",
       "      <td>Buy</td>\n",
       "      <td>1.6848</td>\n",
       "      <td>Buy</td>\n",
       "      <td>1.8564</td>\n",
       "      <td>Buy</td>\n",
       "      <td>1.8179</td>\n",
       "      <td>2.3557</td>\n",
       "    </tr>\n",
       "    <tr>\n",
       "      <th>12</th>\n",
       "      <td>vgt</td>\n",
       "      <td>Buy</td>\n",
       "      <td>1.9007</td>\n",
       "      <td>Hold or Sell</td>\n",
       "      <td>1.9107</td>\n",
       "      <td>Hold or Sell</td>\n",
       "      <td>1.7629</td>\n",
       "      <td>7.7139</td>\n",
       "    </tr>\n",
       "    <tr>\n",
       "      <th>13</th>\n",
       "      <td>wmt</td>\n",
       "      <td>Buy</td>\n",
       "      <td>1.3938</td>\n",
       "      <td>Buy</td>\n",
       "      <td>1.4665</td>\n",
       "      <td>Buy</td>\n",
       "      <td>1.5876</td>\n",
       "      <td>1933.5035</td>\n",
       "    </tr>\n",
       "    <tr>\n",
       "      <th>14</th>\n",
       "      <td>xlk</td>\n",
       "      <td>Hold or Sell</td>\n",
       "      <td>2.2872</td>\n",
       "      <td>Hold or Sell</td>\n",
       "      <td>2.2778</td>\n",
       "      <td>Hold or Sell</td>\n",
       "      <td>2.0057</td>\n",
       "      <td>12.5650</td>\n",
       "    </tr>\n",
       "  </tbody>\n",
       "</table>\n",
       "</div>"
      ],
      "text/plain": [
       "   stock    1_Day_Pred  1_Day_Model_Return    3_Day_Pred  3_Day_Model_Return  \\\n",
       "0   okta           Buy              0.6025  Hold or Sell              0.7082   \n",
       "1   orcl           Buy              2.2883           Buy              1.9988   \n",
       "2   qcom  Hold or Sell              2.4882  Hold or Sell              2.1547   \n",
       "3    qqq           Buy              2.0450  Hold or Sell              1.8957   \n",
       "4   srpt           Buy              0.9102           Buy              1.4097   \n",
       "5    tgt           Buy              1.4564           Buy              2.7165   \n",
       "6   tsla  Hold or Sell              2.9740  Hold or Sell              2.6702   \n",
       "7    tsm  Hold or Sell              3.6526  Hold or Sell              4.6990   \n",
       "8      v  Hold or Sell              1.2805           Buy              1.3507   \n",
       "9   vbiv           Buy              0.8892           Buy              1.1550   \n",
       "10   vbr           Buy              1.4525           Buy              1.5571   \n",
       "11  viov           Buy              1.6848           Buy              1.8564   \n",
       "12   vgt           Buy              1.9007  Hold or Sell              1.9107   \n",
       "13   wmt           Buy              1.3938           Buy              1.4665   \n",
       "14   xlk  Hold or Sell              2.2872  Hold or Sell              2.2778   \n",
       "\n",
       "      5_Day_Pred  5_Day_Model_Return  Actual_Returns  \n",
       "0            Buy              0.6227          4.6735  \n",
       "1            Buy              2.3359        383.0242  \n",
       "2   Hold or Sell              3.8181         97.7602  \n",
       "3            Buy              2.1267         17.6738  \n",
       "4            Buy              1.2282          2.4273  \n",
       "5            Buy              1.7892        464.3575  \n",
       "6   Hold or Sell              2.9760        136.5276  \n",
       "7   Hold or Sell              4.0418         18.7783  \n",
       "8   Hold or Sell              1.3431         11.7163  \n",
       "9            Buy              1.3054         -0.9613  \n",
       "10           Buy              1.4752          2.4582  \n",
       "11           Buy              1.8179          2.3557  \n",
       "12  Hold or Sell              1.7629          7.7139  \n",
       "13           Buy              1.5876       1933.5035  \n",
       "14  Hold or Sell              2.0057         12.5650  "
      ]
     },
     "execution_count": 33,
     "metadata": {},
     "output_type": "execute_result"
    }
   ],
   "source": [
    "summary_df = a.pred_summary_df(start_dates3, stocks = [x for x in start_dates3], days_back = 1)\n",
    "summary_df"
   ]
  },
  {
   "cell_type": "code",
   "execution_count": 34,
   "metadata": {},
   "outputs": [
    {
     "data": {
      "text/plain": [
       "(1.6848, 1.8957, 1.7892, 12.565)"
      ]
     },
     "execution_count": 34,
     "metadata": {},
     "output_type": "execute_result"
    }
   ],
   "source": [
    "summary_df['1_Day_Model_Return'].median(), summary_df['3_Day_Model_Return'].median(), summary_df['5_Day_Model_Return'].median(), summary_df['Actual_Returns'].median()"
   ]
  },
  {
   "cell_type": "code",
   "execution_count": null,
   "metadata": {},
   "outputs": [],
   "source": []
  },
  {
   "cell_type": "code",
   "execution_count": null,
   "metadata": {},
   "outputs": [],
   "source": []
  },
  {
   "cell_type": "code",
   "execution_count": null,
   "metadata": {},
   "outputs": [],
   "source": [
    "    "
   ]
  },
  {
   "cell_type": "code",
   "execution_count": null,
   "metadata": {},
   "outputs": [],
   "source": []
  },
  {
   "cell_type": "code",
   "execution_count": null,
   "metadata": {},
   "outputs": [],
   "source": []
  },
  {
   "cell_type": "code",
   "execution_count": null,
   "metadata": {},
   "outputs": [],
   "source": []
  },
  {
   "cell_type": "code",
   "execution_count": null,
   "metadata": {},
   "outputs": [],
   "source": []
  }
 ],
 "metadata": {
  "kernelspec": {
   "display_name": "Python 3",
   "language": "python",
   "name": "python3"
  },
  "language_info": {
   "codemirror_mode": {
    "name": "ipython",
    "version": 3
   },
   "file_extension": ".py",
   "mimetype": "text/x-python",
   "name": "python",
   "nbconvert_exporter": "python",
   "pygments_lexer": "ipython3",
   "version": "3.8.10"
  }
 },
 "nbformat": 4,
 "nbformat_minor": 4
}
