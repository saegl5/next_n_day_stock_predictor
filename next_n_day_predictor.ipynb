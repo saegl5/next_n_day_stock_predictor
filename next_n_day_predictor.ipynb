{
 "cells": [
  {
   "cell_type": "code",
   "execution_count": 1,
   "metadata": {
    "scrolled": true
   },
   "outputs": [],
   "source": [
    "from src import attributes as a\n",
    "%load_ext autoreload\n",
    "%autoreload 2"
   ]
  },
  {
   "cell_type": "code",
   "execution_count": 2,
   "metadata": {},
   "outputs": [],
   "source": [
    "# Global Variables\n",
    "stock_name = 'vbiv' # ticker symbol\n",
    "train = 1 # 1 for train, 0 for pass\n",
    "days_ahead = 5 # for predicting 1 day ahead\n",
    "cv = 5 # number of cross validation folds\n",
    "model_name = 'Random Forest Classifier' # for display on charts, not a tuning parameter"
   ]
  },
  {
   "cell_type": "code",
   "execution_count": 3,
   "metadata": {},
   "outputs": [],
   "source": [
    "# Extract, Transform, Load, and Train Test Split\n",
    "# Dictionary of IPO Dates\n",
    "start_dates = {'aapl':'12/12/1980' # Updated 1/2/21 1D, 5D ahead\n",
    "               , 'acy': '01/18/1998' # Updated 1/2/21 1D, 5D ahead\n",
    "               , 'amd': '03/17/1980' # Updated 1/2/21 1D, 5D ahead\n",
    "               , 'baba': '09/15/2014' # Updated 1/2/21 1D, 5D ahead\n",
    "               , 'bac': '02/19/1973' # Updated 1/2/21 1D, 5D ahead\n",
    "               , 'crm': '06/23/2004' # Updated 1/2/21 1D, 5D ahead\n",
    "               , 'esgv': '09/16/2018' # Updated 1/2/21 1D, 5D ahead\n",
    "               , 'goog': '08/16/2004' # Updated 1/2/21 1D, 5D ahead\n",
    "               , 'ibm': '01/02/1962' # Updated 1/2/21 1D, 5D ahead\n",
    "               , 'idex': '05/23/2007' # Updated 1/2/21 1D, 5D ahead\n",
    "               , 'intc': '03/16/1980' # Updated 1/2/21 1D, 5D ahead\n",
    "               , 'iyw': '05/15/2000' # Updated 1/2/21 1D, 5D ahead\n",
    "               , 'ma': '05/21/2006' # Updated 1/2/21 1D, 5D ahead\n",
    "               , 'msft': '03/10/1986' # Updated 1/2/21 1D, 5D ahead\n",
    "               , 'nio': '09/10/2018' # Updated 1/2/21 1D, 5D ahead\n",
    "               , 'nvda': '01/22/1999' # Updated 1/2/21 1D, 5D ahead\n",
    "               , 'pypl': '07/05/2015' # Updated 1/2/21 1D, 5D ahead\n",
    "               , 'tsla': '06/29/2010' # Updated 1/2/21 1D, 5D ahead\n",
    "               , 'v': '03/16/2008' # Updated 1/2/21 1D, 5D ahead\n",
    "               , 'vbiv': '09/04/2002' # Updated 1/2/21 1D, 5D ahead\n",
    "               , 'vgt': '01/26/2004' # Updated 1/1/21\n",
    "              }\n",
    "X_train, X_test, y_train, y_test, stock_df = a.data(stock_name, start_dates[stock_name], days_ahead)"
   ]
  },
  {
   "cell_type": "code",
   "execution_count": 4,
   "metadata": {},
   "outputs": [
    {
     "data": {
      "text/html": [
       "<div>\n",
       "<style scoped>\n",
       "    .dataframe tbody tr th:only-of-type {\n",
       "        vertical-align: middle;\n",
       "    }\n",
       "\n",
       "    .dataframe tbody tr th {\n",
       "        vertical-align: top;\n",
       "    }\n",
       "\n",
       "    .dataframe thead th {\n",
       "        text-align: right;\n",
       "    }\n",
       "</style>\n",
       "<table border=\"1\" class=\"dataframe\">\n",
       "  <thead>\n",
       "    <tr style=\"text-align: right;\">\n",
       "      <th></th>\n",
       "      <th>High</th>\n",
       "      <th>Low</th>\n",
       "      <th>Open</th>\n",
       "      <th>Close</th>\n",
       "      <th>Volume</th>\n",
       "      <th>Adj Close</th>\n",
       "      <th>oc</th>\n",
       "      <th>hl</th>\n",
       "      <th>adj</th>\n",
       "      <th>5stdev_adj</th>\n",
       "      <th>5sma_adj</th>\n",
       "      <th>direction</th>\n",
       "    </tr>\n",
       "    <tr>\n",
       "      <th>Date</th>\n",
       "      <th></th>\n",
       "      <th></th>\n",
       "      <th></th>\n",
       "      <th></th>\n",
       "      <th></th>\n",
       "      <th></th>\n",
       "      <th></th>\n",
       "      <th></th>\n",
       "      <th></th>\n",
       "      <th></th>\n",
       "      <th></th>\n",
       "      <th></th>\n",
       "    </tr>\n",
       "  </thead>\n",
       "  <tbody>\n",
       "    <tr>\n",
       "      <th>2020-12-17</th>\n",
       "      <td>3.3800</td>\n",
       "      <td>3.1209</td>\n",
       "      <td>3.2400</td>\n",
       "      <td>3.350</td>\n",
       "      <td>5801022.0</td>\n",
       "      <td>3.350</td>\n",
       "      <td>-0.033951</td>\n",
       "      <td>0.083021</td>\n",
       "      <td>0.050157</td>\n",
       "      <td>0.042807</td>\n",
       "      <td>0.012784</td>\n",
       "      <td>-1</td>\n",
       "    </tr>\n",
       "    <tr>\n",
       "      <th>2020-12-18</th>\n",
       "      <td>3.4200</td>\n",
       "      <td>3.2300</td>\n",
       "      <td>3.4000</td>\n",
       "      <td>3.235</td>\n",
       "      <td>10865689.0</td>\n",
       "      <td>3.235</td>\n",
       "      <td>0.048529</td>\n",
       "      <td>0.058824</td>\n",
       "      <td>-0.034328</td>\n",
       "      <td>0.047384</td>\n",
       "      <td>0.007503</td>\n",
       "      <td>-1</td>\n",
       "    </tr>\n",
       "    <tr>\n",
       "      <th>2020-12-21</th>\n",
       "      <td>3.5300</td>\n",
       "      <td>3.1400</td>\n",
       "      <td>3.2000</td>\n",
       "      <td>3.480</td>\n",
       "      <td>9817215.0</td>\n",
       "      <td>3.480</td>\n",
       "      <td>-0.087500</td>\n",
       "      <td>0.124204</td>\n",
       "      <td>0.075734</td>\n",
       "      <td>0.050176</td>\n",
       "      <td>0.009231</td>\n",
       "      <td>-1</td>\n",
       "    </tr>\n",
       "    <tr>\n",
       "      <th>2020-12-22</th>\n",
       "      <td>3.6300</td>\n",
       "      <td>3.3300</td>\n",
       "      <td>3.5000</td>\n",
       "      <td>3.500</td>\n",
       "      <td>8316824.0</td>\n",
       "      <td>3.500</td>\n",
       "      <td>0.000000</td>\n",
       "      <td>0.090090</td>\n",
       "      <td>0.005747</td>\n",
       "      <td>0.046261</td>\n",
       "      <td>0.015770</td>\n",
       "      <td>1</td>\n",
       "    </tr>\n",
       "    <tr>\n",
       "      <th>2020-12-23</th>\n",
       "      <td>3.5000</td>\n",
       "      <td>3.2701</td>\n",
       "      <td>3.4900</td>\n",
       "      <td>3.330</td>\n",
       "      <td>6691541.0</td>\n",
       "      <td>3.330</td>\n",
       "      <td>0.045845</td>\n",
       "      <td>0.070304</td>\n",
       "      <td>-0.048571</td>\n",
       "      <td>0.053261</td>\n",
       "      <td>0.009748</td>\n",
       "      <td>-1</td>\n",
       "    </tr>\n",
       "    <tr>\n",
       "      <th>2020-12-24</th>\n",
       "      <td>3.3599</td>\n",
       "      <td>3.1200</td>\n",
       "      <td>3.3135</td>\n",
       "      <td>3.120</td>\n",
       "      <td>3790964.0</td>\n",
       "      <td>3.120</td>\n",
       "      <td>0.058397</td>\n",
       "      <td>0.076891</td>\n",
       "      <td>-0.063063</td>\n",
       "      <td>0.055794</td>\n",
       "      <td>-0.012896</td>\n",
       "      <td>-1</td>\n",
       "    </tr>\n",
       "    <tr>\n",
       "      <th>2020-12-28</th>\n",
       "      <td>3.1200</td>\n",
       "      <td>2.8400</td>\n",
       "      <td>3.0971</td>\n",
       "      <td>2.850</td>\n",
       "      <td>9325828.0</td>\n",
       "      <td>2.850</td>\n",
       "      <td>0.079784</td>\n",
       "      <td>0.098592</td>\n",
       "      <td>-0.086538</td>\n",
       "      <td>0.064943</td>\n",
       "      <td>-0.023338</td>\n",
       "      <td>-1</td>\n",
       "    </tr>\n",
       "    <tr>\n",
       "      <th>2020-12-29</th>\n",
       "      <td>2.9500</td>\n",
       "      <td>2.7400</td>\n",
       "      <td>2.8900</td>\n",
       "      <td>2.810</td>\n",
       "      <td>6173210.0</td>\n",
       "      <td>2.810</td>\n",
       "      <td>0.027682</td>\n",
       "      <td>0.076642</td>\n",
       "      <td>-0.014035</td>\n",
       "      <td>0.037181</td>\n",
       "      <td>-0.041292</td>\n",
       "      <td>-1</td>\n",
       "    </tr>\n",
       "    <tr>\n",
       "      <th>2020-12-30</th>\n",
       "      <td>3.0386</td>\n",
       "      <td>2.8200</td>\n",
       "      <td>2.8200</td>\n",
       "      <td>3.020</td>\n",
       "      <td>6003404.0</td>\n",
       "      <td>3.020</td>\n",
       "      <td>-0.070922</td>\n",
       "      <td>0.077518</td>\n",
       "      <td>0.074733</td>\n",
       "      <td>0.062903</td>\n",
       "      <td>-0.027495</td>\n",
       "      <td>-1</td>\n",
       "    </tr>\n",
       "    <tr>\n",
       "      <th>2020-12-31</th>\n",
       "      <td>3.0100</td>\n",
       "      <td>2.7500</td>\n",
       "      <td>2.9900</td>\n",
       "      <td>2.750</td>\n",
       "      <td>6996831.0</td>\n",
       "      <td>2.750</td>\n",
       "      <td>0.080268</td>\n",
       "      <td>0.094545</td>\n",
       "      <td>-0.089404</td>\n",
       "      <td>0.068706</td>\n",
       "      <td>-0.035661</td>\n",
       "      <td>-1</td>\n",
       "    </tr>\n",
       "  </tbody>\n",
       "</table>\n",
       "</div>"
      ],
      "text/plain": [
       "              High     Low    Open  Close      Volume  Adj Close        oc  \\\n",
       "Date                                                                         \n",
       "2020-12-17  3.3800  3.1209  3.2400  3.350   5801022.0      3.350 -0.033951   \n",
       "2020-12-18  3.4200  3.2300  3.4000  3.235  10865689.0      3.235  0.048529   \n",
       "2020-12-21  3.5300  3.1400  3.2000  3.480   9817215.0      3.480 -0.087500   \n",
       "2020-12-22  3.6300  3.3300  3.5000  3.500   8316824.0      3.500  0.000000   \n",
       "2020-12-23  3.5000  3.2701  3.4900  3.330   6691541.0      3.330  0.045845   \n",
       "2020-12-24  3.3599  3.1200  3.3135  3.120   3790964.0      3.120  0.058397   \n",
       "2020-12-28  3.1200  2.8400  3.0971  2.850   9325828.0      2.850  0.079784   \n",
       "2020-12-29  2.9500  2.7400  2.8900  2.810   6173210.0      2.810  0.027682   \n",
       "2020-12-30  3.0386  2.8200  2.8200  3.020   6003404.0      3.020 -0.070922   \n",
       "2020-12-31  3.0100  2.7500  2.9900  2.750   6996831.0      2.750  0.080268   \n",
       "\n",
       "                  hl       adj  5stdev_adj  5sma_adj  direction  \n",
       "Date                                                             \n",
       "2020-12-17  0.083021  0.050157    0.042807  0.012784         -1  \n",
       "2020-12-18  0.058824 -0.034328    0.047384  0.007503         -1  \n",
       "2020-12-21  0.124204  0.075734    0.050176  0.009231         -1  \n",
       "2020-12-22  0.090090  0.005747    0.046261  0.015770          1  \n",
       "2020-12-23  0.070304 -0.048571    0.053261  0.009748         -1  \n",
       "2020-12-24  0.076891 -0.063063    0.055794 -0.012896         -1  \n",
       "2020-12-28  0.098592 -0.086538    0.064943 -0.023338         -1  \n",
       "2020-12-29  0.076642 -0.014035    0.037181 -0.041292         -1  \n",
       "2020-12-30  0.077518  0.074733    0.062903 -0.027495         -1  \n",
       "2020-12-31  0.094545 -0.089404    0.068706 -0.035661         -1  "
      ]
     },
     "execution_count": 4,
     "metadata": {},
     "output_type": "execute_result"
    }
   ],
   "source": [
    "stock_df.tail(10)"
   ]
  },
  {
   "cell_type": "code",
   "execution_count": null,
   "metadata": {
    "scrolled": false
   },
   "outputs": [],
   "source": [
    "# GridSerach to find best hyperparameters to prevent overfitting, can be commented out once trained\n",
    "if train == 1:\n",
    "    a.rfc_GridSearch(X_train, y_train, stock_name, days_ahead, cv)\n",
    "elif train == 0:\n",
    "    pass"
   ]
  },
  {
   "cell_type": "code",
   "execution_count": null,
   "metadata": {},
   "outputs": [],
   "source": [
    "# Load RandomForextClassifier Model\n",
    "rfc_model, y_pred, y_probs = a.rfc(X_train, X_test, y_train, stock_name, days_ahead)"
   ]
  },
  {
   "cell_type": "code",
   "execution_count": null,
   "metadata": {
    "scrolled": false
   },
   "outputs": [],
   "source": [
    "# ROC Curve\n",
    "a.roc_plot(y_test, y_probs, stock_name, model_name)"
   ]
  },
  {
   "cell_type": "code",
   "execution_count": null,
   "metadata": {
    "scrolled": false
   },
   "outputs": [],
   "source": [
    "# Precision Recall Curve\n",
    "a.prec_recall(y_test, y_probs, stock_name, model_name)"
   ]
  },
  {
   "cell_type": "code",
   "execution_count": null,
   "metadata": {
    "scrolled": false
   },
   "outputs": [],
   "source": [
    "# Confusion Matrix\n",
    "a.confusion_matrix(rfc_model, X_test, y_test, stock_name)"
   ]
  },
  {
   "cell_type": "code",
   "execution_count": null,
   "metadata": {},
   "outputs": [],
   "source": [
    "# Cross Validation\n",
    "a.cross_validation(rfc_model\n",
    "                   , stock_df[['oc', 'hl', '5stdev_adj', '5sma_adj']]\n",
    "                   , stock_df['direction']\n",
    "                   , cv = 5\n",
    "                  )"
   ]
  },
  {
   "cell_type": "markdown",
   "metadata": {},
   "source": [
    "### Prediction..."
   ]
  },
  {
   "cell_type": "code",
   "execution_count": null,
   "metadata": {
    "scrolled": true
   },
   "outputs": [],
   "source": [
    "# Prediction, use last day of data\n",
    "stock_df.iloc[-1]"
   ]
  },
  {
   "cell_type": "code",
   "execution_count": null,
   "metadata": {},
   "outputs": [],
   "source": [
    "import numpy as np\n",
    "last = stock_df[['oc', 'hl', '5stdev_adj', '5sma_adj']].iloc[-1]\n",
    "last"
   ]
  },
  {
   "cell_type": "code",
   "execution_count": null,
   "metadata": {},
   "outputs": [],
   "source": [
    "stock_df['adj'].describe()"
   ]
  },
  {
   "cell_type": "code",
   "execution_count": null,
   "metadata": {
    "scrolled": true
   },
   "outputs": [],
   "source": [
    "if rfc_model.predict(np.array(last).reshape(1, -1))[0] == 1:\n",
    "    print(f'Buy {stock_name}')\n",
    "else:\n",
    "    print(f'Sell or hold {stock_name}')"
   ]
  },
  {
   "cell_type": "markdown",
   "metadata": {},
   "source": [
    "### Strategy Returns..."
   ]
  },
  {
   "cell_type": "code",
   "execution_count": null,
   "metadata": {},
   "outputs": [],
   "source": [
    "# returns on strategy column\n",
    "stock_df['prediction'] = rfc_model.predict(stock_df[['oc', 'hl', '5stdev_adj', '5sma_adj']])\n",
    "stock_df['returns'] = stock_df['adj'].shift(-1, fill_value = stock_df['adj'].median()) * stock_df['prediction']"
   ]
  },
  {
   "cell_type": "code",
   "execution_count": null,
   "metadata": {},
   "outputs": [],
   "source": [
    "stock_df.tail(5)"
   ]
  },
  {
   "cell_type": "code",
   "execution_count": null,
   "metadata": {},
   "outputs": [],
   "source": [
    "# Don't trade every day!\n",
    "import matplotlib.pyplot as plt\n",
    "test_length = len(y_test)\n",
    "(stock_df['returns'][-test_length:] + 1).cumprod().plot()\n",
    "plt.title(f'{stock_name} Expected Returns %');"
   ]
  },
  {
   "cell_type": "code",
   "execution_count": null,
   "metadata": {},
   "outputs": [],
   "source": [
    "# Model returns if bought on predictions of 1\n",
    "returns_on_ones = []\n",
    "for idx in range(-test_length, 0):\n",
    "    if stock_df['prediction'][idx] == 1:\n",
    "        returns_on_ones.append(1 + stock_df['returns'][idx])\n",
    "\n",
    "returns = 1\n",
    "for x in returns_on_ones:\n",
    "    returns *= x\n",
    "returns"
   ]
  },
  {
   "cell_type": "code",
   "execution_count": null,
   "metadata": {},
   "outputs": [],
   "source": [
    "# multiple times original investment, not bad but..."
   ]
  },
  {
   "cell_type": "code",
   "execution_count": null,
   "metadata": {},
   "outputs": [],
   "source": [
    "# If purchased in 2012 and left it until now\n",
    "test_idx = int(len(stock_df)*0.75)\n",
    "(stock_df['Close'][-1] - stock_df['Close'][-test_idx]) / stock_df['Close'][-test_idx]"
   ]
  },
  {
   "cell_type": "code",
   "execution_count": null,
   "metadata": {},
   "outputs": [],
   "source": [
    "# Buy and hold strategy beats RandomForestClassifier in this study\n",
    "\n",
    "# Special thanks to Shagufta Tahsildar at https://blog.quantinsti.com/random-forest-algorithm-in-python/"
   ]
  },
  {
   "cell_type": "code",
   "execution_count": null,
   "metadata": {},
   "outputs": [],
   "source": []
  }
 ],
 "metadata": {
  "kernelspec": {
   "display_name": "Python 3",
   "language": "python",
   "name": "python3"
  },
  "language_info": {
   "codemirror_mode": {
    "name": "ipython",
    "version": 3
   },
   "file_extension": ".py",
   "mimetype": "text/x-python",
   "name": "python",
   "nbconvert_exporter": "python",
   "pygments_lexer": "ipython3",
   "version": "3.8.5"
  }
 },
 "nbformat": 4,
 "nbformat_minor": 4
}
