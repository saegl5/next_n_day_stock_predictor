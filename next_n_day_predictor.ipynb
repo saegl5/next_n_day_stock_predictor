{
 "cells": [
  {
   "cell_type": "code",
   "execution_count": 1,
   "metadata": {
    "scrolled": true
   },
   "outputs": [],
   "source": [
    "from src import attributes as a\n",
    "%load_ext autoreload\n",
    "%autoreload 2"
   ]
  },
  {
   "cell_type": "code",
   "execution_count": 2,
   "metadata": {},
   "outputs": [],
   "source": [
    "# Global Variables\n",
    "stock_name = 'msft' # ticker symbol\n",
    "train = 0 # 1 for train, 0 for pass\n",
    "days_ahead = 1 # for predicting 1, 3, or 5 days ahead\n",
    "days_back = -1 # -1 for current data point, -2 for two days ago, etc...\n",
    "cv = 5 # number of cross validation folds\n",
    "model_name = 'Random Forest Classifier' # for display on charts, not a tuning parameter"
   ]
  },
  {
   "cell_type": "code",
   "execution_count": 26,
   "metadata": {},
   "outputs": [],
   "source": [
    "# Extract, Transform, Load, and Train Test Split\n",
    "# Dictionary of IPO Dates\n",
    "start_dates = {'a': '11/15/1999' # Updated 4/18/21 1D, 3D, 5D ahead\n",
    "               , 'aapl':'12/12/1980' # Updated 4/18/21 1D, 3D, 5D ahead\n",
    "               , 'acy': '01/18/1998' # Updated 4/18/21 1D, 3D, 5D ahead\n",
    "               , 'adbe': '08/11/1986' # Updated 4/18/21 1D, 3D, 5D ahead\n",
    "               , 'alb': '02/21/1994' # Updated 4/18/21 1D, 3D, 5D ahead\n",
    "               , 'amat': '03/16/1980' # Updated 4/18/21 1D, 3D, 5D ahead\n",
    "               , 'amd': '03/17/1980' # Updated 4/18/21 1D, 3D, 5D ahead\n",
    "               , 'amgn': '06/13/1983' # Updated 4/18/21 1D, 3D, 5D ahead\n",
    "               , 'amzn': '05/12/1997' # Updated 4/18/21 1D, 3D, 5D ahead\n",
    "               , 'baba': '09/15/2014' # Updated 4/18/21 1D, 3D, 5D ahead\n",
    "               , 'bac': '02/19/1973' # Updated 4/18/21 1D, 3D, 5D ahead\n",
    "               , 'bpmc': '04/27/2015' # Updated 4/18/21 1D, 3D, 5D ahead\n",
    "               , 'crm': '06/23/2004' # Updated 4/18/21 1D, 3D, 5D ahead\n",
    "               , 'crsp': '10/16/2016' # Updated 4/18/21 1D, 3D, 5D ahead\n",
    "               , 'dq': '10/04/2010' # Updated 4/18/21 1D, 3D, 5D ahead\n",
    "               , 'esgv': '09/16/2018' # Updated 4/18/21 1D, 3D, 5D ahead\n",
    "               , 'fslr': '11/12/2006' # Updated 4/18/21 1D, 3D, 5D ahead\n",
    "               , 'goog': '08/16/2004' # Updated 4/18/21 1D, 3D, 5D ahead\n",
    "               , 'ibm': '01/02/1962' # Updated 4/18/21 1D, 3D, 5D ahead\n",
    "               , 'intc': '03/16/1980' # Updated 4/18/21 1D, 3D, 5D ahead\n",
    "               , 'iyw': '05/15/2000' # Updated 4/18/21 1D, 3D, 5D ahead\n",
    "               , 'lng': '04/04/1994' # Updated 4/18/21 1D, 3D, 5D ahead\n",
    "               , 'ma': '05/21/2006' # Updated 4/18/21 1D, 3D, 5D ahead\n",
    "               , 'mdb': '10/15/2017' # Updated 4/18/21 1D, 3D, 5D ahead\n",
    "               , 'msft': '03/10/1986' # Updated 4/18/21 1D, 3D, 5D ahead\n",
    "               , 'mu': '05/28/1984' # Updated 4/18/21 1D, 3D, 5D ahead\n",
    "               , 'nee': '02/19/1973' # Updated 4/18/21 1D, 3D, 5D ahead\n",
    "               , 'nio': '09/10/2018' # Updated 4/18/21 1D, 3D, 5D ahead\n",
    "               , 'nvda': '01/22/1999' # Updated 4/18/21 1D, 3D, 5D ahead\n",
    "               , 'pacb': '10/25/2010' # Updated 4/18/21 1D, 3D, 5D ahead\n",
    "               , 'pypl': '07/05/2015' # Updated 4/18/21 1D, 3D, 5D ahead\n",
    "               , 'qgen': '06/24/1996' # Updated 4/18/21 1D, 3D, 5D ahead\n",
    "               , 'run': '08/02/2015' # Updated 4/18/21 1D, 3D, 5D ahead\n",
    "               , 'okta': '04/03/2017' # Updated 4/18/21 1D, 3D, 5D ahead\n",
    "               , 'orcl': '03/10/1986' # Updated 4/18/21 1D, 3D, 5D ahead\n",
    "               , 'qqq': '03/08/1999' # Updated 4/18/21 1D, 3D, 5D ahead\n",
    "               , 'srpt': '06/02/1997' # Updated 4/18/21 1D, 3D, 5D ahead\n",
    "               , 'tpic': '07/17/2016' # Updated 4/18/21 1D, 3D, 5D ahead\n",
    "               , 'tsla': '06/29/2010' # Updated 4/18/21 1D, 3D, 5D ahead\n",
    "               , 'v': '03/16/2008' # Updated 4/18/21 1D, 3D, 5D ahead\n",
    "               , 'vbiv': '09/04/2002' # Updated 4/818/21 1D, 3D, 5D ahead\n",
    "               , 'vbr': '01/26/2004' # Updated 4/18/21 1D, 3D, 5D ahead\n",
    "               , 'viov': '09/06/2010' # Updated 4/18/21 1D, 3D, 5D ahead\n",
    "               , 'vgt': '01/26/2004' # Updated 4/18/21 1D, 3D, 5D ahead\n",
    "               , 'xlk': '12/21/1998' # Updated 4/18/21 1D, 3D, 5D ahead\n",
    "              }"
   ]
  },
  {
   "cell_type": "code",
   "execution_count": null,
   "metadata": {},
   "outputs": [],
   "source": []
  },
  {
   "cell_type": "code",
   "execution_count": 4,
   "metadata": {},
   "outputs": [],
   "source": [
    "# X_train, X_test, y_train, y_test, stock_df = a.data(stock_name, start_dates[stock_name], days_ahead)\n",
    "# stock_df.tail(10)"
   ]
  },
  {
   "cell_type": "code",
   "execution_count": 5,
   "metadata": {
    "scrolled": false
   },
   "outputs": [],
   "source": [
    "# GridSerach to find best hyperparameters to prevent overfitting, can be commented out once trained\n",
    "# if train == 1:\n",
    "#     a.rfc_GridSearch(X_train, y_train, stock_name, days_ahead, cv)\n",
    "# elif train == 0:\n",
    "#     pass"
   ]
  },
  {
   "cell_type": "code",
   "execution_count": 6,
   "metadata": {},
   "outputs": [],
   "source": [
    "# Load RandomForextClassifier Model\n",
    "# rfc_model, y_pred, y_probs = a.rfc(X_train, X_test, y_train, stock_name, days_ahead)"
   ]
  },
  {
   "cell_type": "code",
   "execution_count": 7,
   "metadata": {
    "scrolled": false
   },
   "outputs": [],
   "source": [
    "# ROC Curve\n",
    "# a.roc_plot(y_test, y_probs, stock_name, model_name)"
   ]
  },
  {
   "cell_type": "code",
   "execution_count": 8,
   "metadata": {
    "scrolled": false
   },
   "outputs": [],
   "source": [
    "# Precision Recall Curve\n",
    "# a.prec_recall(y_test, y_probs, stock_name, model_name)"
   ]
  },
  {
   "cell_type": "code",
   "execution_count": 9,
   "metadata": {
    "scrolled": false
   },
   "outputs": [],
   "source": [
    "# Confusion Matrix\n",
    "# a.confusion_matrix(rfc_model, X_test, y_test, stock_name)"
   ]
  },
  {
   "cell_type": "code",
   "execution_count": 10,
   "metadata": {},
   "outputs": [],
   "source": [
    "# Cross Validation\n",
    "# a.cross_validation(rfc_model\n",
    "#                    , stock_df[['oc', 'hl', '5stdev_adj', '5sma_adj']]\n",
    "#                    , stock_df['direction']\n",
    "#                    , cv = 5\n",
    "#                   )"
   ]
  },
  {
   "cell_type": "markdown",
   "metadata": {},
   "source": [
    "### Prediction..."
   ]
  },
  {
   "cell_type": "code",
   "execution_count": 11,
   "metadata": {
    "scrolled": true
   },
   "outputs": [],
   "source": [
    "# Prediction, use last day of data\n",
    "# stock_df.iloc[-1]"
   ]
  },
  {
   "cell_type": "code",
   "execution_count": 12,
   "metadata": {},
   "outputs": [],
   "source": [
    "# import numpy as np\n",
    "# last = stock_df[['oc', 'hl', '5stdev_adj', '5sma_adj']].iloc[-days_back]\n",
    "# last"
   ]
  },
  {
   "cell_type": "code",
   "execution_count": 13,
   "metadata": {},
   "outputs": [],
   "source": [
    "# stock_df['adj'].describe()"
   ]
  },
  {
   "cell_type": "code",
   "execution_count": 14,
   "metadata": {
    "scrolled": true
   },
   "outputs": [],
   "source": [
    "# if rfc_model.predict(np.array(last).reshape(1, -1))[0] == 1:\n",
    "#     print(f'Buy {stock_name} {days_ahead} day(s) ahead')\n",
    "# else:\n",
    "#     print(f'Sell or hold {stock_name} {days_ahead} day(s) ahead')"
   ]
  },
  {
   "cell_type": "markdown",
   "metadata": {},
   "source": [
    "### Strategy Returns..."
   ]
  },
  {
   "cell_type": "code",
   "execution_count": 15,
   "metadata": {},
   "outputs": [],
   "source": [
    "# returns on strategy column\n",
    "# stock_df['prediction'] = rfc_model.predict(stock_df[['oc', 'hl', '5stdev_adj', '5sma_adj']])\n",
    "# stock_df['returns'] = stock_df['adj'].shift(-1, fill_value = stock_df['adj'].median()) * stock_df['prediction']"
   ]
  },
  {
   "cell_type": "code",
   "execution_count": 16,
   "metadata": {},
   "outputs": [],
   "source": [
    "# stock_df.tail(5)"
   ]
  },
  {
   "cell_type": "code",
   "execution_count": 17,
   "metadata": {},
   "outputs": [],
   "source": [
    "# Don't trade every day!\n",
    "# import matplotlib.pyplot as plt\n",
    "# test_length = len(y_test)\n",
    "# (stock_df['returns'][-test_length:] + 1).cumprod().plot()\n",
    "# plt.title(f'{stock_name} Expected Returns %');"
   ]
  },
  {
   "cell_type": "code",
   "execution_count": 18,
   "metadata": {},
   "outputs": [],
   "source": [
    "# Model returns if bought on predictions of 1\n",
    "# returns_on_ones = []\n",
    "# for idx in range(-test_length, 0):\n",
    "#     if stock_df['prediction'][idx] == 1:\n",
    "#         returns_on_ones.append(1 + stock_df['returns'][idx])\n",
    "\n",
    "# returns = 1\n",
    "# for x in returns_on_ones:\n",
    "#     returns *= x\n",
    "# returns"
   ]
  },
  {
   "cell_type": "code",
   "execution_count": 19,
   "metadata": {},
   "outputs": [],
   "source": [
    "# multiple times original investment, not bad but..."
   ]
  },
  {
   "cell_type": "code",
   "execution_count": 20,
   "metadata": {},
   "outputs": [],
   "source": [
    "# If purchased in 2012 and left it until now\n",
    "# test_idx = int(len(stock_df)*0.75)\n",
    "# (stock_df['Close'][-1] - stock_df['Close'][-test_idx]) / stock_df['Close'][-test_idx]"
   ]
  },
  {
   "cell_type": "code",
   "execution_count": 21,
   "metadata": {},
   "outputs": [],
   "source": [
    "# Buy and hold strategy beats RandomForestClassifier in this study\n",
    "\n",
    "# Special thanks to Shagufta Tahsildar at https://blog.quantinsti.com/random-forest-algorithm-in-python/"
   ]
  },
  {
   "cell_type": "code",
   "execution_count": null,
   "metadata": {},
   "outputs": [],
   "source": []
  },
  {
   "cell_type": "code",
   "execution_count": null,
   "metadata": {},
   "outputs": [],
   "source": []
  },
  {
   "cell_type": "code",
   "execution_count": null,
   "metadata": {},
   "outputs": [],
   "source": []
  },
  {
   "cell_type": "markdown",
   "metadata": {},
   "source": [
    "### Training"
   ]
  },
  {
   "cell_type": "markdown",
   "metadata": {},
   "source": [
    "Training is done once a week on Saturday and Sunday"
   ]
  },
  {
   "cell_type": "code",
   "execution_count": 4,
   "metadata": {},
   "outputs": [
    {
     "data": {
      "text/plain": [
       "45"
      ]
     },
     "execution_count": 4,
     "metadata": {},
     "output_type": "execute_result"
    }
   ],
   "source": [
    "len(start_dates)"
   ]
  },
  {
   "cell_type": "code",
   "execution_count": 5,
   "metadata": {},
   "outputs": [
    {
     "data": {
      "text/plain": [
       "{'a': '11/15/1999',\n",
       " 'aapl': '12/12/1980',\n",
       " 'acy': '01/18/1998',\n",
       " 'adbe': '08/11/1986',\n",
       " 'alb': '02/21/1994',\n",
       " 'amat': '03/16/1980',\n",
       " 'amd': '03/17/1980',\n",
       " 'amgn': '06/13/1983',\n",
       " 'amzn': '05/12/1997',\n",
       " 'baba': '09/15/2014',\n",
       " 'bac': '02/19/1973',\n",
       " 'bpmc': '04/27/2015',\n",
       " 'crm': '06/23/2004',\n",
       " 'crsp': '10/16/2016',\n",
       " 'dq': '10/04/2010'}"
      ]
     },
     "execution_count": 5,
     "metadata": {},
     "output_type": "execute_result"
    }
   ],
   "source": [
    "import itertools as itr\n",
    "start_dates1 = dict(itr.islice(start_dates.items(), 0, 15))\n",
    "start_dates1"
   ]
  },
  {
   "cell_type": "code",
   "execution_count": 6,
   "metadata": {},
   "outputs": [
    {
     "data": {
      "text/plain": [
       "{'esgv': '09/16/2018',\n",
       " 'fslr': '11/12/2006',\n",
       " 'goog': '08/16/2004',\n",
       " 'ibm': '01/02/1962',\n",
       " 'intc': '03/16/1980',\n",
       " 'iyw': '05/15/2000',\n",
       " 'lng': '04/04/1994',\n",
       " 'ma': '05/21/2006',\n",
       " 'mdb': '10/15/2017',\n",
       " 'msft': '03/10/1986',\n",
       " 'mu': '05/28/1984',\n",
       " 'nee': '02/19/1973',\n",
       " 'nio': '09/10/2018',\n",
       " 'nvda': '01/22/1999',\n",
       " 'pacb': '10/25/2010'}"
      ]
     },
     "execution_count": 6,
     "metadata": {},
     "output_type": "execute_result"
    }
   ],
   "source": [
    "start_dates2 = dict(itr.islice(start_dates.items(), 15, 30))\n",
    "start_dates2"
   ]
  },
  {
   "cell_type": "code",
   "execution_count": 7,
   "metadata": {},
   "outputs": [
    {
     "data": {
      "text/plain": [
       "{'pypl': '07/05/2015',\n",
       " 'qgen': '06/24/1996',\n",
       " 'run': '08/02/2015',\n",
       " 'okta': '04/03/2017',\n",
       " 'orcl': '03/10/1986',\n",
       " 'qqq': '03/08/1999',\n",
       " 'srpt': '06/02/1997',\n",
       " 'tpic': '07/17/2016',\n",
       " 'tsla': '06/29/2010',\n",
       " 'v': '03/16/2008',\n",
       " 'vbiv': '09/04/2002',\n",
       " 'vbr': '01/26/2004',\n",
       " 'viov': '09/06/2010',\n",
       " 'vgt': '01/26/2004',\n",
       " 'xlk': '12/21/1998'}"
      ]
     },
     "execution_count": 7,
     "metadata": {},
     "output_type": "execute_result"
    }
   ],
   "source": [
    "start_dates3 = dict(itr.islice(start_dates.items(), 30, 45+1))\n",
    "start_dates3"
   ]
  },
  {
   "cell_type": "code",
   "execution_count": 16,
   "metadata": {
    "scrolled": false
   },
   "outputs": [],
   "source": [
    "#Train 15 at a time!\n",
    "# stocks = [x for x in start_dates1]\n",
    "# days_ahead = [1, 3, 5]\n",
    "# cv = 5\n",
    "# for stock in stocks:\n",
    "#     for days in days_ahead:\n",
    "#         X_train, X_test, y_train, y_test, stock_df = a.data(stock, start_dates[stock], days)\n",
    "#         a.rfc_GridSearch(X_train, y_train, stock, days, cv)\n",
    "# len(stocks)\n",
    "\n",
    "# Next on training for Saturday 4/17/2021\n",
    "# stocks = [x for x in start_dates2]\n",
    "# days_ahead = [1, 3, 5]\n",
    "# cv = 5\n",
    "# for stock in stocks:\n",
    "#     for days in days_ahead:\n",
    "#         X_train, X_test, y_train, y_test, stock_df = a.data(stock, start_dates[stock], days)\n",
    "#         a.rfc_GridSearch(X_train, y_train, stock, days, cv)\n",
    "# len(stocks)\n",
    "\n",
    "# Next on training for Saturday 4/17/2021\n",
    "# stocks = [x for x in start_dates3]\n",
    "# days_ahead = [1, 3, 5]\n",
    "# cv = 5\n",
    "# for stock in stocks:\n",
    "#     for days in days_ahead:\n",
    "#         X_train, X_test, y_train, y_test, stock_df = a.data(stock, start_dates[stock], days)\n",
    "#         a.rfc_GridSearch(X_train, y_train, stock, days, cv)\n",
    "# len(stocks)\n",
    "\n",
    "# # Train all, takes 15+ hours\n",
    "# stocks = [x for x in start_dates]\n",
    "# days_ahead = [1, 3, 5]\n",
    "# cv = 5\n",
    "# for stock in stocks:\n",
    "#     for days in days_ahead:\n",
    "#         X_train, X_test, y_train, y_test, stock_df = a.data(stock, start_dates[stock], days)\n",
    "#         a.rfc_GridSearch(X_train, y_train, stock, days, cv)\n",
    "# len(stocks)\n",
    "\n",
    "# Train desired stocks...takes less time\n",
    "# stocks = ['aapl', 'pacb', 'tsla', 'vgt']\n",
    "# days_ahead = [1, 3, 5]\n",
    "# cv = 5\n",
    "# for stock in stocks:\n",
    "#     for days in days_ahead:\n",
    "#         X_train, X_test, y_train, y_test, stock_df = a.data(stock, start_dates[stock], days)\n",
    "#         a.rfc_GridSearch(X_train, y_train, stock, days, cv)"
   ]
  },
  {
   "cell_type": "code",
   "execution_count": null,
   "metadata": {},
   "outputs": [],
   "source": []
  },
  {
   "cell_type": "code",
   "execution_count": null,
   "metadata": {},
   "outputs": [],
   "source": []
  },
  {
   "cell_type": "code",
   "execution_count": null,
   "metadata": {},
   "outputs": [],
   "source": []
  },
  {
   "cell_type": "markdown",
   "metadata": {},
   "source": [
    "### Display All Results"
   ]
  },
  {
   "cell_type": "code",
   "execution_count": 18,
   "metadata": {
    "scrolled": false
   },
   "outputs": [
    {
     "name": "stdout",
     "output_type": "stream",
     "text": [
      "Buy aapl 5 day(s) ahead\n",
      "Model Returns (x 100 for %): 4.3484\n",
      "Stock Returns (x 100 for %): 323.8851\n"
     ]
    },
    {
     "data": {
      "image/png": "[encoded data removed]",
      "text/plain": [
       "<Figure size 432x288 with 1 Axes>"
      ]
     },
     "metadata": {},
     "output_type": "display_data"
    },
    {
     "data": {
      "image/png": "[encoded data removed]",
      "text/plain": [
       "<Figure size 648x504 with 1 Axes>"
      ]
     },
     "metadata": {},
     "output_type": "display_data"
    },
    {
     "data": {
      "image/png": "[encoded data removed]",
      "text/plain": [
       "<Figure size 648x504 with 1 Axes>"
      ]
     },
     "metadata": {},
     "output_type": "display_data"
    },
    {
     "data": {
      "image/png": "[encoded data removed]",
      "text/plain": [
       "<Figure size 684x612 with 2 Axes>"
      ]
     },
     "metadata": {},
     "output_type": "display_data"
    }
   ],
   "source": [
    "stock_name = 'aapl'\n",
    "a.all_func(stock_name\n",
    "           , start_dates[stock_name]\n",
    "           , days_ahead = 5\n",
    "           , model_name = model_name\n",
    "           , days_back = 1\n",
    "          )"
   ]
  },
  {
   "cell_type": "code",
   "execution_count": null,
   "metadata": {},
   "outputs": [],
   "source": []
  },
  {
   "cell_type": "code",
   "execution_count": null,
   "metadata": {},
   "outputs": [],
   "source": []
  },
  {
   "cell_type": "code",
   "execution_count": null,
   "metadata": {},
   "outputs": [],
   "source": []
  },
  {
   "cell_type": "markdown",
   "metadata": {},
   "source": [
    "### Data Frame of Predictions 1 3 5 Days"
   ]
  },
  {
   "cell_type": "code",
   "execution_count": 19,
   "metadata": {},
   "outputs": [
    {
     "name": "stdout",
     "output_type": "stream",
     "text": [
      "Today's date: 2021-04-18\n"
     ]
    }
   ],
   "source": [
    "from datetime import date\n",
    "\n",
    "today = date.today()\n",
    "print(\"Today's date:\", today)"
   ]
  },
  {
   "cell_type": "code",
   "execution_count": 20,
   "metadata": {
    "scrolled": false
   },
   "outputs": [
    {
     "data": {
      "text/html": [
       "<div>\n",
       "<style scoped>\n",
       "    .dataframe tbody tr th:only-of-type {\n",
       "        vertical-align: middle;\n",
       "    }\n",
       "\n",
       "    .dataframe tbody tr th {\n",
       "        vertical-align: top;\n",
       "    }\n",
       "\n",
       "    .dataframe thead th {\n",
       "        text-align: right;\n",
       "    }\n",
       "</style>\n",
       "<table border=\"1\" class=\"dataframe\">\n",
       "  <thead>\n",
       "    <tr style=\"text-align: right;\">\n",
       "      <th></th>\n",
       "      <th>stock</th>\n",
       "      <th>1_Day_Pred</th>\n",
       "      <th>1_Day_Model_Return</th>\n",
       "      <th>3_Day_Pred</th>\n",
       "      <th>3_Day_Model_Return</th>\n",
       "      <th>5_Day_Pred</th>\n",
       "      <th>5_Day_Model_Return</th>\n",
       "      <th>Actual_Returns</th>\n",
       "    </tr>\n",
       "  </thead>\n",
       "  <tbody>\n",
       "    <tr>\n",
       "      <th>0</th>\n",
       "      <td>a</td>\n",
       "      <td>Hold or Sell</td>\n",
       "      <td>4.3522</td>\n",
       "      <td>Hold or Sell</td>\n",
       "      <td>3.8448</td>\n",
       "      <td>Hold or Sell</td>\n",
       "      <td>3.9982</td>\n",
       "      <td>7.8041</td>\n",
       "    </tr>\n",
       "    <tr>\n",
       "      <th>1</th>\n",
       "      <td>aapl</td>\n",
       "      <td>Hold or Sell</td>\n",
       "      <td>3.5501</td>\n",
       "      <td>Hold or Sell</td>\n",
       "      <td>3.6023</td>\n",
       "      <td>Buy</td>\n",
       "      <td>4.6533</td>\n",
       "      <td>323.8851</td>\n",
       "    </tr>\n",
       "    <tr>\n",
       "      <th>2</th>\n",
       "      <td>acy</td>\n",
       "      <td>Buy</td>\n",
       "      <td>0.7158</td>\n",
       "      <td>Buy</td>\n",
       "      <td>0.8247</td>\n",
       "      <td>Buy</td>\n",
       "      <td>0.5100</td>\n",
       "      <td>2.7552</td>\n",
       "    </tr>\n",
       "    <tr>\n",
       "      <th>3</th>\n",
       "      <td>adbe</td>\n",
       "      <td>Hold or Sell</td>\n",
       "      <td>11.7909</td>\n",
       "      <td>Hold or Sell</td>\n",
       "      <td>6.3758</td>\n",
       "      <td>Hold or Sell</td>\n",
       "      <td>6.9262</td>\n",
       "      <td>77.3336</td>\n",
       "    </tr>\n",
       "    <tr>\n",
       "      <th>4</th>\n",
       "      <td>alb</td>\n",
       "      <td>Hold or Sell</td>\n",
       "      <td>2.0600</td>\n",
       "      <td>Hold or Sell</td>\n",
       "      <td>1.8939</td>\n",
       "      <td>Hold or Sell</td>\n",
       "      <td>1.8849</td>\n",
       "      <td>12.4021</td>\n",
       "    </tr>\n",
       "    <tr>\n",
       "      <th>5</th>\n",
       "      <td>amat</td>\n",
       "      <td>Hold or Sell</td>\n",
       "      <td>8.9013</td>\n",
       "      <td>Hold or Sell</td>\n",
       "      <td>9.0365</td>\n",
       "      <td>Hold or Sell</td>\n",
       "      <td>10.5191</td>\n",
       "      <td>230.3167</td>\n",
       "    </tr>\n",
       "    <tr>\n",
       "      <th>6</th>\n",
       "      <td>amd</td>\n",
       "      <td>Buy</td>\n",
       "      <td>12.6291</td>\n",
       "      <td>Buy</td>\n",
       "      <td>12.7249</td>\n",
       "      <td>Buy</td>\n",
       "      <td>8.8353</td>\n",
       "      <td>17.2556</td>\n",
       "    </tr>\n",
       "    <tr>\n",
       "      <th>7</th>\n",
       "      <td>amgn</td>\n",
       "      <td>Buy</td>\n",
       "      <td>4.8170</td>\n",
       "      <td>Buy</td>\n",
       "      <td>4.5721</td>\n",
       "      <td>Buy</td>\n",
       "      <td>4.3590</td>\n",
       "      <td>25.6538</td>\n",
       "    </tr>\n",
       "    <tr>\n",
       "      <th>8</th>\n",
       "      <td>amzn</td>\n",
       "      <td>Hold or Sell</td>\n",
       "      <td>3.0319</td>\n",
       "      <td>Hold or Sell</td>\n",
       "      <td>3.1916</td>\n",
       "      <td>Buy</td>\n",
       "      <td>4.1757</td>\n",
       "      <td>106.9873</td>\n",
       "    </tr>\n",
       "    <tr>\n",
       "      <th>9</th>\n",
       "      <td>baba</td>\n",
       "      <td>Buy</td>\n",
       "      <td>1.8372</td>\n",
       "      <td>Buy</td>\n",
       "      <td>1.4294</td>\n",
       "      <td>Buy</td>\n",
       "      <td>1.5126</td>\n",
       "      <td>2.0476</td>\n",
       "    </tr>\n",
       "    <tr>\n",
       "      <th>10</th>\n",
       "      <td>bac</td>\n",
       "      <td>Buy</td>\n",
       "      <td>3.5354</td>\n",
       "      <td>Buy</td>\n",
       "      <td>4.2228</td>\n",
       "      <td>Buy</td>\n",
       "      <td>3.1501</td>\n",
       "      <td>8.0129</td>\n",
       "    </tr>\n",
       "    <tr>\n",
       "      <th>11</th>\n",
       "      <td>bpmc</td>\n",
       "      <td>Buy</td>\n",
       "      <td>2.6007</td>\n",
       "      <td>Buy</td>\n",
       "      <td>1.6913</td>\n",
       "      <td>Buy</td>\n",
       "      <td>2.2370</td>\n",
       "      <td>2.1861</td>\n",
       "    </tr>\n",
       "    <tr>\n",
       "      <th>12</th>\n",
       "      <td>crm</td>\n",
       "      <td>Buy</td>\n",
       "      <td>2.3463</td>\n",
       "      <td>Buy</td>\n",
       "      <td>2.2348</td>\n",
       "      <td>Buy</td>\n",
       "      <td>2.0103</td>\n",
       "      <td>15.2175</td>\n",
       "    </tr>\n",
       "    <tr>\n",
       "      <th>13</th>\n",
       "      <td>crsp</td>\n",
       "      <td>Buy</td>\n",
       "      <td>0.9036</td>\n",
       "      <td>Buy</td>\n",
       "      <td>0.7573</td>\n",
       "      <td>Buy</td>\n",
       "      <td>1.3606</td>\n",
       "      <td>5.4400</td>\n",
       "    </tr>\n",
       "    <tr>\n",
       "      <th>14</th>\n",
       "      <td>dq</td>\n",
       "      <td>Hold or Sell</td>\n",
       "      <td>7.3880</td>\n",
       "      <td>Hold or Sell</td>\n",
       "      <td>2.7627</td>\n",
       "      <td>Hold or Sell</td>\n",
       "      <td>5.8624</td>\n",
       "      <td>49.2575</td>\n",
       "    </tr>\n",
       "  </tbody>\n",
       "</table>\n",
       "</div>"
      ],
      "text/plain": [
       "   stock    1_Day_Pred  1_Day_Model_Return    3_Day_Pred  3_Day_Model_Return  \\\n",
       "0      a  Hold or Sell              4.3522  Hold or Sell              3.8448   \n",
       "1   aapl  Hold or Sell              3.5501  Hold or Sell              3.6023   \n",
       "2    acy           Buy              0.7158           Buy              0.8247   \n",
       "3   adbe  Hold or Sell             11.7909  Hold or Sell              6.3758   \n",
       "4    alb  Hold or Sell              2.0600  Hold or Sell              1.8939   \n",
       "5   amat  Hold or Sell              8.9013  Hold or Sell              9.0365   \n",
       "6    amd           Buy             12.6291           Buy             12.7249   \n",
       "7   amgn           Buy              4.8170           Buy              4.5721   \n",
       "8   amzn  Hold or Sell              3.0319  Hold or Sell              3.1916   \n",
       "9   baba           Buy              1.8372           Buy              1.4294   \n",
       "10   bac           Buy              3.5354           Buy              4.2228   \n",
       "11  bpmc           Buy              2.6007           Buy              1.6913   \n",
       "12   crm           Buy              2.3463           Buy              2.2348   \n",
       "13  crsp           Buy              0.9036           Buy              0.7573   \n",
       "14    dq  Hold or Sell              7.3880  Hold or Sell              2.7627   \n",
       "\n",
       "      5_Day_Pred  5_Day_Model_Return  Actual_Returns  \n",
       "0   Hold or Sell              3.9982          7.8041  \n",
       "1            Buy              4.6533        323.8851  \n",
       "2            Buy              0.5100          2.7552  \n",
       "3   Hold or Sell              6.9262         77.3336  \n",
       "4   Hold or Sell              1.8849         12.4021  \n",
       "5   Hold or Sell             10.5191        230.3167  \n",
       "6            Buy              8.8353         17.2556  \n",
       "7            Buy              4.3590         25.6538  \n",
       "8            Buy              4.1757        106.9873  \n",
       "9            Buy              1.5126          2.0476  \n",
       "10           Buy              3.1501          8.0129  \n",
       "11           Buy              2.2370          2.1861  \n",
       "12           Buy              2.0103         15.2175  \n",
       "13           Buy              1.3606          5.4400  \n",
       "14  Hold or Sell              5.8624         49.2575  "
      ]
     },
     "execution_count": 20,
     "metadata": {},
     "output_type": "execute_result"
    }
   ],
   "source": [
    "summary_df = a.pred_summary_df(start_dates1, stocks = [x for x in start_dates1], days_back = 1)\n",
    "summary_df"
   ]
  },
  {
   "cell_type": "code",
   "execution_count": 21,
   "metadata": {},
   "outputs": [
    {
     "data": {
      "text/plain": [
       "(3.5354, 3.1916, 3.9982, 15.2175)"
      ]
     },
     "execution_count": 21,
     "metadata": {},
     "output_type": "execute_result"
    }
   ],
   "source": [
    "summary_df['1_Day_Model_Return'].median(), summary_df['3_Day_Model_Return'].median(), summary_df['5_Day_Model_Return'].median(), summary_df['Actual_Returns'].median()"
   ]
  },
  {
   "cell_type": "code",
   "execution_count": 22,
   "metadata": {},
   "outputs": [
    {
     "data": {
      "text/html": [
       "<div>\n",
       "<style scoped>\n",
       "    .dataframe tbody tr th:only-of-type {\n",
       "        vertical-align: middle;\n",
       "    }\n",
       "\n",
       "    .dataframe tbody tr th {\n",
       "        vertical-align: top;\n",
       "    }\n",
       "\n",
       "    .dataframe thead th {\n",
       "        text-align: right;\n",
       "    }\n",
       "</style>\n",
       "<table border=\"1\" class=\"dataframe\">\n",
       "  <thead>\n",
       "    <tr style=\"text-align: right;\">\n",
       "      <th></th>\n",
       "      <th>stock</th>\n",
       "      <th>1_Day_Pred</th>\n",
       "      <th>1_Day_Model_Return</th>\n",
       "      <th>3_Day_Pred</th>\n",
       "      <th>3_Day_Model_Return</th>\n",
       "      <th>5_Day_Pred</th>\n",
       "      <th>5_Day_Model_Return</th>\n",
       "      <th>Actual_Returns</th>\n",
       "    </tr>\n",
       "  </thead>\n",
       "  <tbody>\n",
       "    <tr>\n",
       "      <th>0</th>\n",
       "      <td>esgv</td>\n",
       "      <td>Hold or Sell</td>\n",
       "      <td>1.0870</td>\n",
       "      <td>Hold or Sell</td>\n",
       "      <td>1.0892</td>\n",
       "      <td>Hold or Sell</td>\n",
       "      <td>1.1146</td>\n",
       "      <td>0.5682</td>\n",
       "    </tr>\n",
       "    <tr>\n",
       "      <th>1</th>\n",
       "      <td>fslr</td>\n",
       "      <td>Hold or Sell</td>\n",
       "      <td>2.2927</td>\n",
       "      <td>Hold or Sell</td>\n",
       "      <td>2.0537</td>\n",
       "      <td>Hold or Sell</td>\n",
       "      <td>1.7004</td>\n",
       "      <td>-0.3762</td>\n",
       "    </tr>\n",
       "    <tr>\n",
       "      <th>2</th>\n",
       "      <td>goog</td>\n",
       "      <td>Hold or Sell</td>\n",
       "      <td>2.9889</td>\n",
       "      <td>Buy</td>\n",
       "      <td>2.9670</td>\n",
       "      <td>Hold or Sell</td>\n",
       "      <td>3.1391</td>\n",
       "      <td>12.5953</td>\n",
       "    </tr>\n",
       "    <tr>\n",
       "      <th>3</th>\n",
       "      <td>ibm</td>\n",
       "      <td>Hold or Sell</td>\n",
       "      <td>4.1313</td>\n",
       "      <td>Hold or Sell</td>\n",
       "      <td>3.2403</td>\n",
       "      <td>Buy</td>\n",
       "      <td>3.5434</td>\n",
       "      <td>6.8295</td>\n",
       "    </tr>\n",
       "    <tr>\n",
       "      <th>4</th>\n",
       "      <td>intc</td>\n",
       "      <td>Buy</td>\n",
       "      <td>5.0301</td>\n",
       "      <td>Buy</td>\n",
       "      <td>6.5184</td>\n",
       "      <td>Buy</td>\n",
       "      <td>5.3243</td>\n",
       "      <td>44.0435</td>\n",
       "    </tr>\n",
       "    <tr>\n",
       "      <th>5</th>\n",
       "      <td>iyw</td>\n",
       "      <td>Buy</td>\n",
       "      <td>3.6712</td>\n",
       "      <td>Buy</td>\n",
       "      <td>4.8399</td>\n",
       "      <td>Buy</td>\n",
       "      <td>3.2896</td>\n",
       "      <td>6.8910</td>\n",
       "    </tr>\n",
       "    <tr>\n",
       "      <th>6</th>\n",
       "      <td>lng</td>\n",
       "      <td>Buy</td>\n",
       "      <td>0.9941</td>\n",
       "      <td>Buy</td>\n",
       "      <td>0.8565</td>\n",
       "      <td>Buy</td>\n",
       "      <td>0.9863</td>\n",
       "      <td>61.1597</td>\n",
       "    </tr>\n",
       "    <tr>\n",
       "      <th>7</th>\n",
       "      <td>ma</td>\n",
       "      <td>Buy</td>\n",
       "      <td>3.1581</td>\n",
       "      <td>Buy</td>\n",
       "      <td>3.4062</td>\n",
       "      <td>Buy</td>\n",
       "      <td>2.0205</td>\n",
       "      <td>16.4147</td>\n",
       "    </tr>\n",
       "    <tr>\n",
       "      <th>8</th>\n",
       "      <td>mdb</td>\n",
       "      <td>Buy</td>\n",
       "      <td>0.8684</td>\n",
       "      <td>Buy</td>\n",
       "      <td>1.0053</td>\n",
       "      <td>Buy</td>\n",
       "      <td>0.9321</td>\n",
       "      <td>2.8546</td>\n",
       "    </tr>\n",
       "    <tr>\n",
       "      <th>9</th>\n",
       "      <td>msft</td>\n",
       "      <td>Hold or Sell</td>\n",
       "      <td>8.3942</td>\n",
       "      <td>Hold or Sell</td>\n",
       "      <td>9.4810</td>\n",
       "      <td>Hold or Sell</td>\n",
       "      <td>7.2974</td>\n",
       "      <td>64.8278</td>\n",
       "    </tr>\n",
       "    <tr>\n",
       "      <th>10</th>\n",
       "      <td>mu</td>\n",
       "      <td>Hold or Sell</td>\n",
       "      <td>2.3099</td>\n",
       "      <td>Hold or Sell</td>\n",
       "      <td>3.6774</td>\n",
       "      <td>Buy</td>\n",
       "      <td>2.8135</td>\n",
       "      <td>15.7501</td>\n",
       "    </tr>\n",
       "    <tr>\n",
       "      <th>11</th>\n",
       "      <td>nee</td>\n",
       "      <td>Hold or Sell</td>\n",
       "      <td>4.4239</td>\n",
       "      <td>Hold or Sell</td>\n",
       "      <td>4.2059</td>\n",
       "      <td>Hold or Sell</td>\n",
       "      <td>5.0935</td>\n",
       "      <td>29.8343</td>\n",
       "    </tr>\n",
       "    <tr>\n",
       "      <th>12</th>\n",
       "      <td>nio</td>\n",
       "      <td>Hold or Sell</td>\n",
       "      <td>1.8896</td>\n",
       "      <td>Hold or Sell</td>\n",
       "      <td>1.5756</td>\n",
       "      <td>Hold or Sell</td>\n",
       "      <td>1.7025</td>\n",
       "      <td>6.7446</td>\n",
       "    </tr>\n",
       "    <tr>\n",
       "      <th>13</th>\n",
       "      <td>nvda</td>\n",
       "      <td>Buy</td>\n",
       "      <td>10.2878</td>\n",
       "      <td>Buy</td>\n",
       "      <td>12.1152</td>\n",
       "      <td>Buy</td>\n",
       "      <td>8.9407</td>\n",
       "      <td>156.1605</td>\n",
       "    </tr>\n",
       "    <tr>\n",
       "      <th>14</th>\n",
       "      <td>pacb</td>\n",
       "      <td>Buy</td>\n",
       "      <td>1.8832</td>\n",
       "      <td>Buy</td>\n",
       "      <td>1.8681</td>\n",
       "      <td>Buy</td>\n",
       "      <td>2.2879</td>\n",
       "      <td>10.3011</td>\n",
       "    </tr>\n",
       "  </tbody>\n",
       "</table>\n",
       "</div>"
      ],
      "text/plain": [
       "   stock    1_Day_Pred  1_Day_Model_Return    3_Day_Pred  3_Day_Model_Return  \\\n",
       "0   esgv  Hold or Sell              1.0870  Hold or Sell              1.0892   \n",
       "1   fslr  Hold or Sell              2.2927  Hold or Sell              2.0537   \n",
       "2   goog  Hold or Sell              2.9889           Buy              2.9670   \n",
       "3    ibm  Hold or Sell              4.1313  Hold or Sell              3.2403   \n",
       "4   intc           Buy              5.0301           Buy              6.5184   \n",
       "5    iyw           Buy              3.6712           Buy              4.8399   \n",
       "6    lng           Buy              0.9941           Buy              0.8565   \n",
       "7     ma           Buy              3.1581           Buy              3.4062   \n",
       "8    mdb           Buy              0.8684           Buy              1.0053   \n",
       "9   msft  Hold or Sell              8.3942  Hold or Sell              9.4810   \n",
       "10    mu  Hold or Sell              2.3099  Hold or Sell              3.6774   \n",
       "11   nee  Hold or Sell              4.4239  Hold or Sell              4.2059   \n",
       "12   nio  Hold or Sell              1.8896  Hold or Sell              1.5756   \n",
       "13  nvda           Buy             10.2878           Buy             12.1152   \n",
       "14  pacb           Buy              1.8832           Buy              1.8681   \n",
       "\n",
       "      5_Day_Pred  5_Day_Model_Return  Actual_Returns  \n",
       "0   Hold or Sell              1.1146          0.5682  \n",
       "1   Hold or Sell              1.7004         -0.3762  \n",
       "2   Hold or Sell              3.1391         12.5953  \n",
       "3            Buy              3.5434          6.8295  \n",
       "4            Buy              5.3243         44.0435  \n",
       "5            Buy              3.2896          6.8910  \n",
       "6            Buy              0.9863         61.1597  \n",
       "7            Buy              2.0205         16.4147  \n",
       "8            Buy              0.9321          2.8546  \n",
       "9   Hold or Sell              7.2974         64.8278  \n",
       "10           Buy              2.8135         15.7501  \n",
       "11  Hold or Sell              5.0935         29.8343  \n",
       "12  Hold or Sell              1.7025          6.7446  \n",
       "13           Buy              8.9407        156.1605  \n",
       "14           Buy              2.2879         10.3011  "
      ]
     },
     "execution_count": 22,
     "metadata": {},
     "output_type": "execute_result"
    }
   ],
   "source": [
    "summary_df = a.pred_summary_df(start_dates2, stocks = [x for x in start_dates2], days_back = 1)\n",
    "summary_df"
   ]
  },
  {
   "cell_type": "code",
   "execution_count": 23,
   "metadata": {},
   "outputs": [
    {
     "data": {
      "text/plain": [
       "(2.9889, 3.2403, 2.8135, 12.5953)"
      ]
     },
     "execution_count": 23,
     "metadata": {},
     "output_type": "execute_result"
    }
   ],
   "source": [
    "summary_df['1_Day_Model_Return'].median(), summary_df['3_Day_Model_Return'].median(), summary_df['5_Day_Model_Return'].median(), summary_df['Actual_Returns'].median()"
   ]
  },
  {
   "cell_type": "code",
   "execution_count": 24,
   "metadata": {
    "scrolled": true
   },
   "outputs": [
    {
     "data": {
      "text/html": [
       "<div>\n",
       "<style scoped>\n",
       "    .dataframe tbody tr th:only-of-type {\n",
       "        vertical-align: middle;\n",
       "    }\n",
       "\n",
       "    .dataframe tbody tr th {\n",
       "        vertical-align: top;\n",
       "    }\n",
       "\n",
       "    .dataframe thead th {\n",
       "        text-align: right;\n",
       "    }\n",
       "</style>\n",
       "<table border=\"1\" class=\"dataframe\">\n",
       "  <thead>\n",
       "    <tr style=\"text-align: right;\">\n",
       "      <th></th>\n",
       "      <th>stock</th>\n",
       "      <th>1_Day_Pred</th>\n",
       "      <th>1_Day_Model_Return</th>\n",
       "      <th>3_Day_Pred</th>\n",
       "      <th>3_Day_Model_Return</th>\n",
       "      <th>5_Day_Pred</th>\n",
       "      <th>5_Day_Model_Return</th>\n",
       "      <th>Actual_Returns</th>\n",
       "    </tr>\n",
       "  </thead>\n",
       "  <tbody>\n",
       "    <tr>\n",
       "      <th>0</th>\n",
       "      <td>pypl</td>\n",
       "      <td>Buy</td>\n",
       "      <td>1.9286</td>\n",
       "      <td>Buy</td>\n",
       "      <td>2.8166</td>\n",
       "      <td>Buy</td>\n",
       "      <td>2.7055</td>\n",
       "      <td>5.7909</td>\n",
       "    </tr>\n",
       "    <tr>\n",
       "      <th>1</th>\n",
       "      <td>qgen</td>\n",
       "      <td>Hold or Sell</td>\n",
       "      <td>2.0925</td>\n",
       "      <td>Hold or Sell</td>\n",
       "      <td>2.2573</td>\n",
       "      <td>Hold or Sell</td>\n",
       "      <td>2.4517</td>\n",
       "      <td>9.0686</td>\n",
       "    </tr>\n",
       "    <tr>\n",
       "      <th>2</th>\n",
       "      <td>run</td>\n",
       "      <td>Hold or Sell</td>\n",
       "      <td>0.8925</td>\n",
       "      <td>Hold or Sell</td>\n",
       "      <td>1.2109</td>\n",
       "      <td>Hold or Sell</td>\n",
       "      <td>1.2608</td>\n",
       "      <td>7.3456</td>\n",
       "    </tr>\n",
       "    <tr>\n",
       "      <th>3</th>\n",
       "      <td>okta</td>\n",
       "      <td>Buy</td>\n",
       "      <td>1.1461</td>\n",
       "      <td>Buy</td>\n",
       "      <td>1.2287</td>\n",
       "      <td>Buy</td>\n",
       "      <td>0.9275</td>\n",
       "      <td>5.5721</td>\n",
       "    </tr>\n",
       "    <tr>\n",
       "      <th>4</th>\n",
       "      <td>orcl</td>\n",
       "      <td>Hold or Sell</td>\n",
       "      <td>3.5258</td>\n",
       "      <td>Hold or Sell</td>\n",
       "      <td>3.1364</td>\n",
       "      <td>Hold or Sell</td>\n",
       "      <td>4.2286</td>\n",
       "      <td>39.1567</td>\n",
       "    </tr>\n",
       "    <tr>\n",
       "      <th>5</th>\n",
       "      <td>qqq</td>\n",
       "      <td>Hold or Sell</td>\n",
       "      <td>3.1350</td>\n",
       "      <td>Buy</td>\n",
       "      <td>4.1626</td>\n",
       "      <td>Buy</td>\n",
       "      <td>3.7122</td>\n",
       "      <td>8.8933</td>\n",
       "    </tr>\n",
       "    <tr>\n",
       "      <th>6</th>\n",
       "      <td>srpt</td>\n",
       "      <td>Buy</td>\n",
       "      <td>1.5454</td>\n",
       "      <td>Buy</td>\n",
       "      <td>2.0252</td>\n",
       "      <td>Buy</td>\n",
       "      <td>0.7660</td>\n",
       "      <td>1.1523</td>\n",
       "    </tr>\n",
       "    <tr>\n",
       "      <th>7</th>\n",
       "      <td>tpic</td>\n",
       "      <td>Buy</td>\n",
       "      <td>0.9569</td>\n",
       "      <td>Buy</td>\n",
       "      <td>1.1709</td>\n",
       "      <td>Buy</td>\n",
       "      <td>1.2069</td>\n",
       "      <td>1.1604</td>\n",
       "    </tr>\n",
       "    <tr>\n",
       "      <th>8</th>\n",
       "      <td>tsla</td>\n",
       "      <td>Hold or Sell</td>\n",
       "      <td>2.8844</td>\n",
       "      <td>Hold or Sell</td>\n",
       "      <td>2.8715</td>\n",
       "      <td>Hold or Sell</td>\n",
       "      <td>2.1768</td>\n",
       "      <td>101.8901</td>\n",
       "    </tr>\n",
       "    <tr>\n",
       "      <th>9</th>\n",
       "      <td>v</td>\n",
       "      <td>Buy</td>\n",
       "      <td>2.5401</td>\n",
       "      <td>Buy</td>\n",
       "      <td>2.2862</td>\n",
       "      <td>Buy</td>\n",
       "      <td>2.5458</td>\n",
       "      <td>9.2949</td>\n",
       "    </tr>\n",
       "    <tr>\n",
       "      <th>10</th>\n",
       "      <td>vbiv</td>\n",
       "      <td>Buy</td>\n",
       "      <td>2.5510</td>\n",
       "      <td>Buy</td>\n",
       "      <td>3.1539</td>\n",
       "      <td>Buy</td>\n",
       "      <td>2.8122</td>\n",
       "      <td>-0.7913</td>\n",
       "    </tr>\n",
       "    <tr>\n",
       "      <th>11</th>\n",
       "      <td>vbr</td>\n",
       "      <td>Hold or Sell</td>\n",
       "      <td>1.5590</td>\n",
       "      <td>Hold or Sell</td>\n",
       "      <td>1.5262</td>\n",
       "      <td>Hold or Sell</td>\n",
       "      <td>1.4750</td>\n",
       "      <td>1.6042</td>\n",
       "    </tr>\n",
       "    <tr>\n",
       "      <th>12</th>\n",
       "      <td>viov</td>\n",
       "      <td>Buy</td>\n",
       "      <td>1.4088</td>\n",
       "      <td>Buy</td>\n",
       "      <td>1.2510</td>\n",
       "      <td>Hold or Sell</td>\n",
       "      <td>1.2334</td>\n",
       "      <td>1.2067</td>\n",
       "    </tr>\n",
       "    <tr>\n",
       "      <th>13</th>\n",
       "      <td>vgt</td>\n",
       "      <td>Buy</td>\n",
       "      <td>2.6769</td>\n",
       "      <td>Buy</td>\n",
       "      <td>2.6469</td>\n",
       "      <td>Buy</td>\n",
       "      <td>2.5596</td>\n",
       "      <td>5.7006</td>\n",
       "    </tr>\n",
       "    <tr>\n",
       "      <th>14</th>\n",
       "      <td>xlk</td>\n",
       "      <td>Hold or Sell</td>\n",
       "      <td>3.6019</td>\n",
       "      <td>Hold or Sell</td>\n",
       "      <td>3.5898</td>\n",
       "      <td>Hold or Sell</td>\n",
       "      <td>3.9205</td>\n",
       "      <td>6.4752</td>\n",
       "    </tr>\n",
       "  </tbody>\n",
       "</table>\n",
       "</div>"
      ],
      "text/plain": [
       "   stock    1_Day_Pred  1_Day_Model_Return    3_Day_Pred  3_Day_Model_Return  \\\n",
       "0   pypl           Buy              1.9286           Buy              2.8166   \n",
       "1   qgen  Hold or Sell              2.0925  Hold or Sell              2.2573   \n",
       "2    run  Hold or Sell              0.8925  Hold or Sell              1.2109   \n",
       "3   okta           Buy              1.1461           Buy              1.2287   \n",
       "4   orcl  Hold or Sell              3.5258  Hold or Sell              3.1364   \n",
       "5    qqq  Hold or Sell              3.1350           Buy              4.1626   \n",
       "6   srpt           Buy              1.5454           Buy              2.0252   \n",
       "7   tpic           Buy              0.9569           Buy              1.1709   \n",
       "8   tsla  Hold or Sell              2.8844  Hold or Sell              2.8715   \n",
       "9      v           Buy              2.5401           Buy              2.2862   \n",
       "10  vbiv           Buy              2.5510           Buy              3.1539   \n",
       "11   vbr  Hold or Sell              1.5590  Hold or Sell              1.5262   \n",
       "12  viov           Buy              1.4088           Buy              1.2510   \n",
       "13   vgt           Buy              2.6769           Buy              2.6469   \n",
       "14   xlk  Hold or Sell              3.6019  Hold or Sell              3.5898   \n",
       "\n",
       "      5_Day_Pred  5_Day_Model_Return  Actual_Returns  \n",
       "0            Buy              2.7055          5.7909  \n",
       "1   Hold or Sell              2.4517          9.0686  \n",
       "2   Hold or Sell              1.2608          7.3456  \n",
       "3            Buy              0.9275          5.5721  \n",
       "4   Hold or Sell              4.2286         39.1567  \n",
       "5            Buy              3.7122          8.8933  \n",
       "6            Buy              0.7660          1.1523  \n",
       "7            Buy              1.2069          1.1604  \n",
       "8   Hold or Sell              2.1768        101.8901  \n",
       "9            Buy              2.5458          9.2949  \n",
       "10           Buy              2.8122         -0.7913  \n",
       "11  Hold or Sell              1.4750          1.6042  \n",
       "12  Hold or Sell              1.2334          1.2067  \n",
       "13           Buy              2.5596          5.7006  \n",
       "14  Hold or Sell              3.9205          6.4752  "
      ]
     },
     "execution_count": 24,
     "metadata": {},
     "output_type": "execute_result"
    }
   ],
   "source": [
    "summary_df = a.pred_summary_df(start_dates3, stocks = [x for x in start_dates3], days_back = 1)\n",
    "summary_df"
   ]
  },
  {
   "cell_type": "code",
   "execution_count": 25,
   "metadata": {},
   "outputs": [
    {
     "data": {
      "text/plain": [
       "(2.0925, 2.2862, 2.4517, 5.7909)"
      ]
     },
     "execution_count": 25,
     "metadata": {},
     "output_type": "execute_result"
    }
   ],
   "source": [
    "summary_df['1_Day_Model_Return'].median(), summary_df['3_Day_Model_Return'].median(), summary_df['5_Day_Model_Return'].median(), summary_df['Actual_Returns'].median()"
   ]
  },
  {
   "cell_type": "code",
   "execution_count": null,
   "metadata": {},
   "outputs": [],
   "source": []
  }
 ],
 "metadata": {
  "kernelspec": {
   "display_name": "Python 3",
   "language": "python",
   "name": "python3"
  },
  "language_info": {
   "codemirror_mode": {
    "name": "ipython",
    "version": 3
   },
   "file_extension": ".py",
   "mimetype": "text/x-python",
   "name": "python",
   "nbconvert_exporter": "python",
   "pygments_lexer": "ipython3",
   "version": "3.8.5"
  }
 },
 "nbformat": 4,
 "nbformat_minor": 4
}
