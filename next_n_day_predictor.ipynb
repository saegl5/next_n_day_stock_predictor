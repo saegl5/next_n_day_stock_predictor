{
 "cells": [
  {
   "cell_type": "code",
   "execution_count": 1,
   "metadata": {
    "scrolled": true
   },
   "outputs": [],
   "source": [
    "from src import attributes as a\n",
    "%load_ext autoreload\n",
    "%autoreload 2"
   ]
  },
  {
   "cell_type": "code",
   "execution_count": 2,
   "metadata": {},
   "outputs": [],
   "source": [
    "# Global Variables\n",
    "stock_name = 'msft' # ticker symbol\n",
    "train = 0 # 1 for train, 0 for pass\n",
    "days_ahead = 1 # for predicting 1, 3, or 5 days ahead\n",
    "days_back = -1 # -1 for current data point, -2 for two days ago, etc...\n",
    "cv = 5 # number of cross validation folds\n",
    "model_name = 'Random Forest Classifier' # for display on charts, not a tuning parameter"
   ]
  },
  {
   "cell_type": "code",
   "execution_count": 3,
   "metadata": {},
   "outputs": [],
   "source": [
    "# Extract, Transform, Load, and Train Test Split\n",
    "# Dictionary of IPO Dates\n",
    "start_dates = {'a': '11/15/1999' # Updated 1/17/21 1D, 3D, 5D ahead\n",
    "               , 'aapl':'12/12/1980' # Updated 1/17/21 1D, 3D, 5D ahead\n",
    "               , 'acy': '01/18/1998' # Updated 1/17/21 1D, 3D, 5D ahead\n",
    "               , 'adbe': '08/11/1986' # Updated 1/17/21 1D, 3D, 5D ahead\n",
    "               , 'alb': '02/21/1994' # Updated 1/17/21 1D, 3D, 5D ahead\n",
    "               , 'amat': '03/16/1980' # Updated 1/17/21 1D, 3D, 5D ahead\n",
    "               , 'amd': '03/17/1980' # Updated 1/17/21 1D, 3D, 5D ahead\n",
    "               , 'amgn': '06/13/1983' # Updated 2/5/21 1D, 3D, 5D ahead\n",
    "               , 'amzn': '05/12/1997' # Updated 1/17/21 1D, 3D, 5D ahead\n",
    "               , 'baba': '09/15/2014' # Updated 1/17/21 1D, 3D, 5D ahead\n",
    "               , 'bac': '02/19/1973' # Updated 1/17/21 1D, 3D, 5D ahead\n",
    "               , 'bpmc': '04/27/2015' # Updated 1/17/21 1D, 3D, 5D ahead\n",
    "               , 'crm': '06/23/2004' # Updated 1/17/21 1D, 3D, 5D ahead\n",
    "               , 'crsp': '10/16/2016' # Updated 1/17/21 1D, 3D, 5D ahead\n",
    "               , 'dq': '10/04/2010' # Updated 1/17/21 1D, 3D, 5D ahead\n",
    "               , 'esgv': '09/16/2018' # Updated 1/17/21 1D, 3D, 5D ahead\n",
    "               , 'fslr': '11/12/2006' # Updated 1/17/21 1D, 3D, 5D ahead\n",
    "               , 'goog': '08/16/2004' # Updated 1/17/21 1D, 3D, 5D ahead\n",
    "               , 'ibm': '01/02/1962' # Updated 1/17/21 1D, 3D, 5D ahead\n",
    "               , 'intc': '03/16/1980' # Updated 1/17/21 1D, 3D, 5D ahead\n",
    "               , 'iyw': '05/15/2000' # Updated 1/17/21 1D, 3D, 5D ahead\n",
    "               , 'lng': '04/04/1994' # Updated 1/17/21 1D, 3D, 5D ahead\n",
    "               , 'ma': '05/21/2006' # Updated 1/17/21 1D, 3D, 5D ahead\n",
    "               , 'mdb': '10/15/2017' # Updated 1/17/21 1D, 3D, 5D ahead\n",
    "               , 'msft': '03/10/1986' # Updated 1/17/21 1D, 3D, 5D ahead\n",
    "               , 'mu': '05/28/1984' # Updated 1/17/21 1D, 3D, 5D ahead\n",
    "               , 'nee': '02/19/1973' # Updated 1/17/21 1D, 3D, 5D ahead\n",
    "               , 'nga': '10/08/2020' # Updated 1/17/21 1D, 3D, 5D ahead\n",
    "               , 'nio': '09/10/2018' # Updated 1/17/21 1D, 3D, 5D ahead\n",
    "               , 'nvda': '01/22/1999' # Updated 1/17/21 1D, 3D, 5D ahead\n",
    "               , 'pacb': '10/25/2010' # Updated 1/17/21 1D, 3D, 5D ahead\n",
    "               , 'pypl': '07/05/2015' # Updated 1/17/21 1D, 3D, 5D ahead\n",
    "               , 'qgen': '06/24/1996' # Updated 1/17/21 1D, 3D, 5D ahead\n",
    "               , 'run': '08/02/2015' # Updated 1/17/21 1D, 3D, 5D ahead\n",
    "               , 'orcl': '03/10/1986' # Updated 1/17/21 1D, 3D, 5D ahead\n",
    "               , 'qqq': '03/08/1999' # Updated 1/17/21 1D, 3D, 5D ahead\n",
    "               , 'srpt': '06/02/1997' # Updated 1/17/21 1D, 3D, 5D ahead\n",
    "               , 'tpic': '07/17/2016' # Updated 1/17/21 1D, 3D, 5D ahead\n",
    "               , 'tsla': '06/29/2010' # Updated 1/17/21 1D, 3D, 5D ahead\n",
    "               , 'v': '03/16/2008' # Updated 1/17/21 1D, 3D, 5D ahead\n",
    "               , 'vbiv': '09/04/2002' # Updated 1/17/21 1D, 3D, 5D ahead\n",
    "               , 'vbr': '01/26/2004' # Updated 1/17/21 1D, 3D, 5D ahead\n",
    "               , 'viov': '09/06/2010' # Updated 1/17/21 1D, 3D, 5D ahead\n",
    "               , 'vgt': '01/26/2004' # Updated 1/17/21 1D, 3D, 5D ahead\n",
    "               , 'xlk': '12/21/1998' # Updated 1/17/21 1D, 3D, 5D ahead\n",
    "              }"
   ]
  },
  {
   "cell_type": "code",
   "execution_count": null,
   "metadata": {},
   "outputs": [],
   "source": []
  },
  {
   "cell_type": "code",
   "execution_count": null,
   "metadata": {},
   "outputs": [],
   "source": []
  },
  {
   "cell_type": "code",
   "execution_count": null,
   "metadata": {},
   "outputs": [],
   "source": []
  },
  {
   "cell_type": "code",
   "execution_count": 4,
   "metadata": {},
   "outputs": [],
   "source": [
    "# X_train, X_test, y_train, y_test, stock_df = a.data(stock_name, start_dates[stock_name], days_ahead)\n",
    "# stock_df.tail(10)"
   ]
  },
  {
   "cell_type": "code",
   "execution_count": 5,
   "metadata": {
    "scrolled": false
   },
   "outputs": [],
   "source": [
    "# GridSerach to find best hyperparameters to prevent overfitting, can be commented out once trained\n",
    "# if train == 1:\n",
    "#     a.rfc_GridSearch(X_train, y_train, stock_name, days_ahead, cv)\n",
    "# elif train == 0:\n",
    "#     pass"
   ]
  },
  {
   "cell_type": "code",
   "execution_count": 6,
   "metadata": {},
   "outputs": [],
   "source": [
    "# Load RandomForextClassifier Model\n",
    "# rfc_model, y_pred, y_probs = a.rfc(X_train, X_test, y_train, stock_name, days_ahead)"
   ]
  },
  {
   "cell_type": "code",
   "execution_count": 7,
   "metadata": {
    "scrolled": false
   },
   "outputs": [],
   "source": [
    "# ROC Curve\n",
    "# a.roc_plot(y_test, y_probs, stock_name, model_name)"
   ]
  },
  {
   "cell_type": "code",
   "execution_count": 8,
   "metadata": {
    "scrolled": false
   },
   "outputs": [],
   "source": [
    "# Precision Recall Curve\n",
    "# a.prec_recall(y_test, y_probs, stock_name, model_name)"
   ]
  },
  {
   "cell_type": "code",
   "execution_count": 9,
   "metadata": {
    "scrolled": false
   },
   "outputs": [],
   "source": [
    "# Confusion Matrix\n",
    "# a.confusion_matrix(rfc_model, X_test, y_test, stock_name)"
   ]
  },
  {
   "cell_type": "code",
   "execution_count": 10,
   "metadata": {},
   "outputs": [],
   "source": [
    "# Cross Validation\n",
    "# a.cross_validation(rfc_model\n",
    "#                    , stock_df[['oc', 'hl', '5stdev_adj', '5sma_adj']]\n",
    "#                    , stock_df['direction']\n",
    "#                    , cv = 5\n",
    "#                   )"
   ]
  },
  {
   "cell_type": "markdown",
   "metadata": {},
   "source": [
    "### Prediction..."
   ]
  },
  {
   "cell_type": "code",
   "execution_count": 11,
   "metadata": {
    "scrolled": true
   },
   "outputs": [],
   "source": [
    "# Prediction, use last day of data\n",
    "# stock_df.iloc[-1]"
   ]
  },
  {
   "cell_type": "code",
   "execution_count": 12,
   "metadata": {},
   "outputs": [],
   "source": [
    "# import numpy as np\n",
    "# last = stock_df[['oc', 'hl', '5stdev_adj', '5sma_adj']].iloc[-days_back]\n",
    "# last"
   ]
  },
  {
   "cell_type": "code",
   "execution_count": 13,
   "metadata": {},
   "outputs": [],
   "source": [
    "# stock_df['adj'].describe()"
   ]
  },
  {
   "cell_type": "code",
   "execution_count": 14,
   "metadata": {
    "scrolled": true
   },
   "outputs": [],
   "source": [
    "# if rfc_model.predict(np.array(last).reshape(1, -1))[0] == 1:\n",
    "#     print(f'Buy {stock_name} {days_ahead} day(s) ahead')\n",
    "# else:\n",
    "#     print(f'Sell or hold {stock_name} {days_ahead} day(s) ahead')"
   ]
  },
  {
   "cell_type": "markdown",
   "metadata": {},
   "source": [
    "### Strategy Returns..."
   ]
  },
  {
   "cell_type": "code",
   "execution_count": 15,
   "metadata": {},
   "outputs": [],
   "source": [
    "# returns on strategy column\n",
    "# stock_df['prediction'] = rfc_model.predict(stock_df[['oc', 'hl', '5stdev_adj', '5sma_adj']])\n",
    "# stock_df['returns'] = stock_df['adj'].shift(-1, fill_value = stock_df['adj'].median()) * stock_df['prediction']"
   ]
  },
  {
   "cell_type": "code",
   "execution_count": 16,
   "metadata": {},
   "outputs": [],
   "source": [
    "# stock_df.tail(5)"
   ]
  },
  {
   "cell_type": "code",
   "execution_count": 17,
   "metadata": {},
   "outputs": [],
   "source": [
    "# Don't trade every day!\n",
    "# import matplotlib.pyplot as plt\n",
    "# test_length = len(y_test)\n",
    "# (stock_df['returns'][-test_length:] + 1).cumprod().plot()\n",
    "# plt.title(f'{stock_name} Expected Returns %');"
   ]
  },
  {
   "cell_type": "code",
   "execution_count": 18,
   "metadata": {},
   "outputs": [],
   "source": [
    "# Model returns if bought on predictions of 1\n",
    "# returns_on_ones = []\n",
    "# for idx in range(-test_length, 0):\n",
    "#     if stock_df['prediction'][idx] == 1:\n",
    "#         returns_on_ones.append(1 + stock_df['returns'][idx])\n",
    "\n",
    "# returns = 1\n",
    "# for x in returns_on_ones:\n",
    "#     returns *= x\n",
    "# returns"
   ]
  },
  {
   "cell_type": "code",
   "execution_count": 19,
   "metadata": {},
   "outputs": [],
   "source": [
    "# multiple times original investment, not bad but..."
   ]
  },
  {
   "cell_type": "code",
   "execution_count": 20,
   "metadata": {},
   "outputs": [],
   "source": [
    "# If purchased in 2012 and left it until now\n",
    "# test_idx = int(len(stock_df)*0.75)\n",
    "# (stock_df['Close'][-1] - stock_df['Close'][-test_idx]) / stock_df['Close'][-test_idx]"
   ]
  },
  {
   "cell_type": "code",
   "execution_count": 21,
   "metadata": {},
   "outputs": [],
   "source": [
    "# Buy and hold strategy beats RandomForestClassifier in this study\n",
    "\n",
    "# Special thanks to Shagufta Tahsildar at https://blog.quantinsti.com/random-forest-algorithm-in-python/"
   ]
  },
  {
   "cell_type": "code",
   "execution_count": null,
   "metadata": {},
   "outputs": [],
   "source": []
  },
  {
   "cell_type": "code",
   "execution_count": null,
   "metadata": {},
   "outputs": [],
   "source": []
  },
  {
   "cell_type": "code",
   "execution_count": null,
   "metadata": {},
   "outputs": [],
   "source": []
  },
  {
   "cell_type": "markdown",
   "metadata": {},
   "source": [
    "### Training"
   ]
  },
  {
   "cell_type": "markdown",
   "metadata": {},
   "source": [
    "Training is done once a week on Saturday and Sunday"
   ]
  },
  {
   "cell_type": "code",
   "execution_count": 22,
   "metadata": {},
   "outputs": [
    {
     "data": {
      "text/plain": [
       "45"
      ]
     },
     "execution_count": 22,
     "metadata": {},
     "output_type": "execute_result"
    }
   ],
   "source": [
    "len(start_dates)"
   ]
  },
  {
   "cell_type": "code",
   "execution_count": 23,
   "metadata": {},
   "outputs": [
    {
     "data": {
      "text/plain": [
       "{'a': '11/15/1999',\n",
       " 'aapl': '12/12/1980',\n",
       " 'acy': '01/18/1998',\n",
       " 'adbe': '08/11/1986',\n",
       " 'alb': '02/21/1994',\n",
       " 'amat': '03/16/1980',\n",
       " 'amd': '03/17/1980',\n",
       " 'amgn': '06/13/1983',\n",
       " 'amzn': '05/12/1997',\n",
       " 'baba': '09/15/2014',\n",
       " 'bac': '02/19/1973',\n",
       " 'bpmc': '04/27/2015',\n",
       " 'crm': '06/23/2004',\n",
       " 'crsp': '10/16/2016',\n",
       " 'dq': '10/04/2010'}"
      ]
     },
     "execution_count": 23,
     "metadata": {},
     "output_type": "execute_result"
    }
   ],
   "source": [
    "import itertools as itr\n",
    "start_dates1 = dict(itr.islice(start_dates.items(), 0, 15))\n",
    "start_dates1"
   ]
  },
  {
   "cell_type": "code",
   "execution_count": 24,
   "metadata": {},
   "outputs": [
    {
     "data": {
      "text/plain": [
       "{'esgv': '09/16/2018',\n",
       " 'fslr': '11/12/2006',\n",
       " 'goog': '08/16/2004',\n",
       " 'ibm': '01/02/1962',\n",
       " 'intc': '03/16/1980',\n",
       " 'iyw': '05/15/2000',\n",
       " 'lng': '04/04/1994',\n",
       " 'ma': '05/21/2006',\n",
       " 'mdb': '10/15/2017',\n",
       " 'msft': '03/10/1986',\n",
       " 'mu': '05/28/1984',\n",
       " 'nee': '02/19/1973',\n",
       " 'nga': '10/08/2020',\n",
       " 'nio': '09/10/2018',\n",
       " 'nvda': '01/22/1999'}"
      ]
     },
     "execution_count": 24,
     "metadata": {},
     "output_type": "execute_result"
    }
   ],
   "source": [
    "start_dates2 = dict(itr.islice(start_dates.items(), 15, 30))\n",
    "start_dates2"
   ]
  },
  {
   "cell_type": "code",
   "execution_count": 25,
   "metadata": {},
   "outputs": [
    {
     "data": {
      "text/plain": [
       "{'pacb': '10/25/2010',\n",
       " 'pypl': '07/05/2015',\n",
       " 'qgen': '06/24/1996',\n",
       " 'run': '08/02/2015',\n",
       " 'orcl': '03/10/1986',\n",
       " 'qqq': '03/08/1999',\n",
       " 'srpt': '06/02/1997',\n",
       " 'tpic': '07/17/2016',\n",
       " 'tsla': '06/29/2010',\n",
       " 'v': '03/16/2008',\n",
       " 'vbiv': '09/04/2002',\n",
       " 'vbr': '01/26/2004',\n",
       " 'viov': '09/06/2010',\n",
       " 'vgt': '01/26/2004',\n",
       " 'xlk': '12/21/1998'}"
      ]
     },
     "execution_count": 25,
     "metadata": {},
     "output_type": "execute_result"
    }
   ],
   "source": [
    "start_dates3 = dict(itr.islice(start_dates.items(), 30, 45+1))\n",
    "start_dates3"
   ]
  },
  {
   "cell_type": "code",
   "execution_count": 26,
   "metadata": {},
   "outputs": [],
   "source": [
    "#Train 15 at a time!\n",
    "# stocks = [x for x in start_dates1]\n",
    "# days_ahead = [1, 3, 5]\n",
    "# cv = 5\n",
    "# for stock in stocks:\n",
    "#     for days in days_ahead:\n",
    "#         X_train, X_test, y_train, y_test, stock_df = a.data(stock, start_dates[stock], days)\n",
    "#         a.rfc_GridSearch(X_train, y_train, stock, days, cv)\n",
    "# len(stocks)\n",
    "\n",
    "# stocks = [x for x in start_dates2]\n",
    "# days_ahead = [1, 3, 5]\n",
    "# cv = 5\n",
    "# for stock in stocks:\n",
    "#     for days in days_ahead:\n",
    "#         X_train, X_test, y_train, y_test, stock_df = a.data(stock, start_dates[stock], days)\n",
    "#         a.rfc_GridSearch(X_train, y_train, stock, days, cv)\n",
    "# len(stocks)\n",
    "\n",
    "# stocks = [x for x in start_dates3]\n",
    "# days_ahead = [1, 3, 5]\n",
    "# cv = 5\n",
    "# for stock in stocks:\n",
    "#     for days in days_ahead:\n",
    "#         X_train, X_test, y_train, y_test, stock_df = a.data(stock, start_dates[stock], days)\n",
    "#         a.rfc_GridSearch(X_train, y_train, stock, days, cv)\n",
    "# len(stocks)\n",
    "\n",
    "# Train all, takes 15+ hours\n",
    "# stocks = [x for x in start_dates]\n",
    "# days_ahead = [1, 3, 5]\n",
    "# cv = 5\n",
    "# for stock in stocks:\n",
    "#     for days in days_ahead:\n",
    "#         X_train, X_test, y_train, y_test, stock_df = a.data(stock, start_dates[stock], days)\n",
    "#         a.rfc_GridSearch(X_train, y_train, stock, days, cv)\n",
    "# len(stocks)\n",
    "\n",
    "# Train desired stocks...takes less time\n",
    "# stocks = ['nga']\n",
    "# days_ahead = [1, 3, 5]\n",
    "# cv = 5\n",
    "# for stock in stocks:\n",
    "#     for days in days_ahead:\n",
    "#         X_train, X_test, y_train, y_test, stock_df = a.data(stock, start_dates[stock], days)\n",
    "#         a.rfc_GridSearch(X_train, y_train, stock, days, cv)"
   ]
  },
  {
   "cell_type": "code",
   "execution_count": null,
   "metadata": {},
   "outputs": [],
   "source": []
  },
  {
   "cell_type": "code",
   "execution_count": null,
   "metadata": {},
   "outputs": [],
   "source": []
  },
  {
   "cell_type": "code",
   "execution_count": null,
   "metadata": {},
   "outputs": [],
   "source": []
  },
  {
   "cell_type": "markdown",
   "metadata": {},
   "source": [
    "### Display All Results"
   ]
  },
  {
   "cell_type": "code",
   "execution_count": 27,
   "metadata": {
    "scrolled": false
   },
   "outputs": [
    {
     "name": "stdout",
     "output_type": "stream",
     "text": [
      "Buy crm 1 day(s) ahead\n",
      "Model Returns (x 100 for %): 1.7971\n",
      "Stock Returns (x 100 for %): 15.7486\n"
     ]
    },
    {
     "data": {
      "image/png": "[encoded data removed]",
      "text/plain": [
       "<Figure size 432x288 with 1 Axes>"
      ]
     },
     "metadata": {},
     "output_type": "display_data"
    },
    {
     "data": {
      "image/png": "[encoded data removed]",
      "text/plain": [
       "<Figure size 648x504 with 1 Axes>"
      ]
     },
     "metadata": {},
     "output_type": "display_data"
    },
    {
     "data": {
      "image/png": "[encoded data removed]",
      "text/plain": [
       "<Figure size 648x504 with 1 Axes>"
      ]
     },
     "metadata": {},
     "output_type": "display_data"
    },
    {
     "data": {
      "image/png": "[encoded data removed]",
      "text/plain": [
       "<Figure size 684x612 with 2 Axes>"
      ]
     },
     "metadata": {},
     "output_type": "display_data"
    }
   ],
   "source": [
    "stock_name = 'crm'\n",
    "a.all_func(stock_name\n",
    "           , start_dates[stock_name]\n",
    "           , days_ahead = 1\n",
    "           , model_name = model_name\n",
    "           , days_back = 1\n",
    "          )"
   ]
  },
  {
   "cell_type": "code",
   "execution_count": null,
   "metadata": {},
   "outputs": [],
   "source": []
  },
  {
   "cell_type": "code",
   "execution_count": null,
   "metadata": {},
   "outputs": [],
   "source": []
  },
  {
   "cell_type": "code",
   "execution_count": null,
   "metadata": {},
   "outputs": [],
   "source": []
  },
  {
   "cell_type": "markdown",
   "metadata": {},
   "source": [
    "### Data Frame of Predictions 1 3 5 Days"
   ]
  },
  {
   "cell_type": "code",
   "execution_count": 28,
   "metadata": {},
   "outputs": [
    {
     "name": "stdout",
     "output_type": "stream",
     "text": [
      "Today's date: 2021-02-10\n"
     ]
    }
   ],
   "source": [
    "from datetime import date\n",
    "\n",
    "today = date.today()\n",
    "print(\"Today's date:\", today)"
   ]
  },
  {
   "cell_type": "code",
   "execution_count": 29,
   "metadata": {
    "scrolled": false
   },
   "outputs": [
    {
     "data": {
      "text/html": [
       "<div>\n",
       "<style scoped>\n",
       "    .dataframe tbody tr th:only-of-type {\n",
       "        vertical-align: middle;\n",
       "    }\n",
       "\n",
       "    .dataframe tbody tr th {\n",
       "        vertical-align: top;\n",
       "    }\n",
       "\n",
       "    .dataframe thead th {\n",
       "        text-align: right;\n",
       "    }\n",
       "</style>\n",
       "<table border=\"1\" class=\"dataframe\">\n",
       "  <thead>\n",
       "    <tr style=\"text-align: right;\">\n",
       "      <th></th>\n",
       "      <th>stock</th>\n",
       "      <th>1_Day_Pred</th>\n",
       "      <th>1_Day_Model_Return</th>\n",
       "      <th>3_Day_Pred</th>\n",
       "      <th>3_Day_Model_Return</th>\n",
       "      <th>5_Day_Pred</th>\n",
       "      <th>5_Day_Model_Return</th>\n",
       "      <th>Actual_Returns</th>\n",
       "    </tr>\n",
       "  </thead>\n",
       "  <tbody>\n",
       "    <tr>\n",
       "      <th>0</th>\n",
       "      <td>a</td>\n",
       "      <td>Buy</td>\n",
       "      <td>3.3180</td>\n",
       "      <td>Buy</td>\n",
       "      <td>3.5817</td>\n",
       "      <td>Buy</td>\n",
       "      <td>3.7032</td>\n",
       "      <td>6.6302</td>\n",
       "    </tr>\n",
       "    <tr>\n",
       "      <th>1</th>\n",
       "      <td>aapl</td>\n",
       "      <td>Buy</td>\n",
       "      <td>3.3483</td>\n",
       "      <td>Buy</td>\n",
       "      <td>3.3488</td>\n",
       "      <td>Buy</td>\n",
       "      <td>3.5347</td>\n",
       "      <td>345.2074</td>\n",
       "    </tr>\n",
       "    <tr>\n",
       "      <th>2</th>\n",
       "      <td>acy</td>\n",
       "      <td>Hold or Sell</td>\n",
       "      <td>0.7444</td>\n",
       "      <td>Hold or Sell</td>\n",
       "      <td>1.0201</td>\n",
       "      <td>Hold or Sell</td>\n",
       "      <td>0.8987</td>\n",
       "      <td>2.2412</td>\n",
       "    </tr>\n",
       "    <tr>\n",
       "      <th>3</th>\n",
       "      <td>adbe</td>\n",
       "      <td>Hold or Sell</td>\n",
       "      <td>7.8353</td>\n",
       "      <td>Hold or Sell</td>\n",
       "      <td>7.3100</td>\n",
       "      <td>Hold or Sell</td>\n",
       "      <td>8.0066</td>\n",
       "      <td>77.9731</td>\n",
       "    </tr>\n",
       "    <tr>\n",
       "      <th>4</th>\n",
       "      <td>alb</td>\n",
       "      <td>Buy</td>\n",
       "      <td>1.8886</td>\n",
       "      <td>Buy</td>\n",
       "      <td>1.8159</td>\n",
       "      <td>Buy</td>\n",
       "      <td>1.7579</td>\n",
       "      <td>13.8917</td>\n",
       "    </tr>\n",
       "    <tr>\n",
       "      <th>5</th>\n",
       "      <td>amat</td>\n",
       "      <td>Buy</td>\n",
       "      <td>7.3718</td>\n",
       "      <td>Buy</td>\n",
       "      <td>6.0077</td>\n",
       "      <td>Buy</td>\n",
       "      <td>8.0260</td>\n",
       "      <td>191.6949</td>\n",
       "    </tr>\n",
       "    <tr>\n",
       "      <th>6</th>\n",
       "      <td>amd</td>\n",
       "      <td>Hold or Sell</td>\n",
       "      <td>8.4726</td>\n",
       "      <td>Buy</td>\n",
       "      <td>6.0861</td>\n",
       "      <td>Buy</td>\n",
       "      <td>7.6525</td>\n",
       "      <td>16.9575</td>\n",
       "    </tr>\n",
       "    <tr>\n",
       "      <th>7</th>\n",
       "      <td>amgn</td>\n",
       "      <td>Buy</td>\n",
       "      <td>3.9036</td>\n",
       "      <td>Buy</td>\n",
       "      <td>4.1829</td>\n",
       "      <td>Buy</td>\n",
       "      <td>4.6230</td>\n",
       "      <td>25.7590</td>\n",
       "    </tr>\n",
       "    <tr>\n",
       "      <th>8</th>\n",
       "      <td>amzn</td>\n",
       "      <td>Buy</td>\n",
       "      <td>3.1062</td>\n",
       "      <td>Buy</td>\n",
       "      <td>3.0619</td>\n",
       "      <td>Buy</td>\n",
       "      <td>4.6464</td>\n",
       "      <td>114.3175</td>\n",
       "    </tr>\n",
       "    <tr>\n",
       "      <th>9</th>\n",
       "      <td>baba</td>\n",
       "      <td>Hold or Sell</td>\n",
       "      <td>1.4140</td>\n",
       "      <td>Hold or Sell</td>\n",
       "      <td>1.4463</td>\n",
       "      <td>Hold or Sell</td>\n",
       "      <td>1.2718</td>\n",
       "      <td>2.4785</td>\n",
       "    </tr>\n",
       "    <tr>\n",
       "      <th>10</th>\n",
       "      <td>bac</td>\n",
       "      <td>Hold or Sell</td>\n",
       "      <td>5.3151</td>\n",
       "      <td>Hold or Sell</td>\n",
       "      <td>7.0797</td>\n",
       "      <td>Hold or Sell</td>\n",
       "      <td>7.3449</td>\n",
       "      <td>6.1485</td>\n",
       "    </tr>\n",
       "    <tr>\n",
       "      <th>11</th>\n",
       "      <td>bpmc</td>\n",
       "      <td>Buy</td>\n",
       "      <td>1.9775</td>\n",
       "      <td>Buy</td>\n",
       "      <td>1.7197</td>\n",
       "      <td>Buy</td>\n",
       "      <td>1.6449</td>\n",
       "      <td>2.4000</td>\n",
       "    </tr>\n",
       "    <tr>\n",
       "      <th>12</th>\n",
       "      <td>crm</td>\n",
       "      <td>Buy</td>\n",
       "      <td>2.4172</td>\n",
       "      <td>Buy</td>\n",
       "      <td>1.8651</td>\n",
       "      <td>Buy</td>\n",
       "      <td>2.2813</td>\n",
       "      <td>15.7486</td>\n",
       "    </tr>\n",
       "    <tr>\n",
       "      <th>13</th>\n",
       "      <td>crsp</td>\n",
       "      <td>Buy</td>\n",
       "      <td>0.9595</td>\n",
       "      <td>Hold or Sell</td>\n",
       "      <td>0.5757</td>\n",
       "      <td>Buy</td>\n",
       "      <td>1.0032</td>\n",
       "      <td>7.7768</td>\n",
       "    </tr>\n",
       "    <tr>\n",
       "      <th>14</th>\n",
       "      <td>dq</td>\n",
       "      <td>Hold or Sell</td>\n",
       "      <td>10.8879</td>\n",
       "      <td>Hold or Sell</td>\n",
       "      <td>11.4326</td>\n",
       "      <td>Hold or Sell</td>\n",
       "      <td>8.4276</td>\n",
       "      <td>75.5290</td>\n",
       "    </tr>\n",
       "    <tr>\n",
       "      <th>15</th>\n",
       "      <td>esgv</td>\n",
       "      <td>Hold or Sell</td>\n",
       "      <td>1.1722</td>\n",
       "      <td>Hold or Sell</td>\n",
       "      <td>1.1241</td>\n",
       "      <td>Hold or Sell</td>\n",
       "      <td>1.1612</td>\n",
       "      <td>0.4400</td>\n",
       "    </tr>\n",
       "    <tr>\n",
       "      <th>16</th>\n",
       "      <td>fslr</td>\n",
       "      <td>Hold or Sell</td>\n",
       "      <td>2.5454</td>\n",
       "      <td>Hold or Sell</td>\n",
       "      <td>2.0472</td>\n",
       "      <td>Hold or Sell</td>\n",
       "      <td>2.0218</td>\n",
       "      <td>-0.1750</td>\n",
       "    </tr>\n",
       "    <tr>\n",
       "      <th>17</th>\n",
       "      <td>goog</td>\n",
       "      <td>Hold or Sell</td>\n",
       "      <td>2.5732</td>\n",
       "      <td>Hold or Sell</td>\n",
       "      <td>2.1322</td>\n",
       "      <td>Hold or Sell</td>\n",
       "      <td>2.9015</td>\n",
       "      <td>11.0882</td>\n",
       "    </tr>\n",
       "    <tr>\n",
       "      <th>18</th>\n",
       "      <td>ibm</td>\n",
       "      <td>Hold or Sell</td>\n",
       "      <td>2.8915</td>\n",
       "      <td>Hold or Sell</td>\n",
       "      <td>3.9019</td>\n",
       "      <td>Hold or Sell</td>\n",
       "      <td>3.8552</td>\n",
       "      <td>6.4140</td>\n",
       "    </tr>\n",
       "    <tr>\n",
       "      <th>19</th>\n",
       "      <td>intc</td>\n",
       "      <td>Hold or Sell</td>\n",
       "      <td>6.0637</td>\n",
       "      <td>Hold or Sell</td>\n",
       "      <td>5.7058</td>\n",
       "      <td>Hold or Sell</td>\n",
       "      <td>4.9599</td>\n",
       "      <td>38.9143</td>\n",
       "    </tr>\n",
       "    <tr>\n",
       "      <th>20</th>\n",
       "      <td>iyw</td>\n",
       "      <td>Hold or Sell</td>\n",
       "      <td>2.8487</td>\n",
       "      <td>Hold or Sell</td>\n",
       "      <td>4.6565</td>\n",
       "      <td>Hold or Sell</td>\n",
       "      <td>4.0119</td>\n",
       "      <td>6.4756</td>\n",
       "    </tr>\n",
       "    <tr>\n",
       "      <th>21</th>\n",
       "      <td>lng</td>\n",
       "      <td>Buy</td>\n",
       "      <td>1.0786</td>\n",
       "      <td>Buy</td>\n",
       "      <td>1.0482</td>\n",
       "      <td>Buy</td>\n",
       "      <td>0.8549</td>\n",
       "      <td>51.7984</td>\n",
       "    </tr>\n",
       "    <tr>\n",
       "      <th>22</th>\n",
       "      <td>ma</td>\n",
       "      <td>Buy</td>\n",
       "      <td>2.5042</td>\n",
       "      <td>Buy</td>\n",
       "      <td>2.8879</td>\n",
       "      <td>Buy</td>\n",
       "      <td>2.2895</td>\n",
       "      <td>14.0124</td>\n",
       "    </tr>\n",
       "    <tr>\n",
       "      <th>23</th>\n",
       "      <td>mdb</td>\n",
       "      <td>Buy</td>\n",
       "      <td>0.8278</td>\n",
       "      <td>Buy</td>\n",
       "      <td>1.0323</td>\n",
       "      <td>Buy</td>\n",
       "      <td>1.0669</td>\n",
       "      <td>4.9408</td>\n",
       "    </tr>\n",
       "    <tr>\n",
       "      <th>24</th>\n",
       "      <td>msft</td>\n",
       "      <td>Hold or Sell</td>\n",
       "      <td>7.2699</td>\n",
       "      <td>Hold or Sell</td>\n",
       "      <td>8.8180</td>\n",
       "      <td>Hold or Sell</td>\n",
       "      <td>9.8295</td>\n",
       "      <td>59.8237</td>\n",
       "    </tr>\n",
       "    <tr>\n",
       "      <th>25</th>\n",
       "      <td>mu</td>\n",
       "      <td>Hold or Sell</td>\n",
       "      <td>2.6031</td>\n",
       "      <td>Buy</td>\n",
       "      <td>3.6048</td>\n",
       "      <td>Hold or Sell</td>\n",
       "      <td>3.1471</td>\n",
       "      <td>17.5671</td>\n",
       "    </tr>\n",
       "    <tr>\n",
       "      <th>26</th>\n",
       "      <td>nee</td>\n",
       "      <td>Hold or Sell</td>\n",
       "      <td>4.2999</td>\n",
       "      <td>Hold or Sell</td>\n",
       "      <td>6.3123</td>\n",
       "      <td>Hold or Sell</td>\n",
       "      <td>4.9736</td>\n",
       "      <td>28.9727</td>\n",
       "    </tr>\n",
       "    <tr>\n",
       "      <th>27</th>\n",
       "      <td>nga</td>\n",
       "      <td>Buy</td>\n",
       "      <td>0.8934</td>\n",
       "      <td>Hold or Sell</td>\n",
       "      <td>0.7753</td>\n",
       "      <td>Hold or Sell</td>\n",
       "      <td>0.8244</td>\n",
       "      <td>1.5775</td>\n",
       "    </tr>\n",
       "    <tr>\n",
       "      <th>28</th>\n",
       "      <td>nio</td>\n",
       "      <td>Hold or Sell</td>\n",
       "      <td>2.3868</td>\n",
       "      <td>Hold or Sell</td>\n",
       "      <td>2.5373</td>\n",
       "      <td>Hold or Sell</td>\n",
       "      <td>2.3175</td>\n",
       "      <td>11.6185</td>\n",
       "    </tr>\n",
       "    <tr>\n",
       "      <th>29</th>\n",
       "      <td>nvda</td>\n",
       "      <td>Buy</td>\n",
       "      <td>9.6794</td>\n",
       "      <td>Buy</td>\n",
       "      <td>10.1737</td>\n",
       "      <td>Buy</td>\n",
       "      <td>16.5821</td>\n",
       "      <td>116.5543</td>\n",
       "    </tr>\n",
       "    <tr>\n",
       "      <th>30</th>\n",
       "      <td>pacb</td>\n",
       "      <td>Hold or Sell</td>\n",
       "      <td>1.9216</td>\n",
       "      <td>Hold or Sell</td>\n",
       "      <td>2.1329</td>\n",
       "      <td>Hold or Sell</td>\n",
       "      <td>2.9108</td>\n",
       "      <td>13.9208</td>\n",
       "    </tr>\n",
       "    <tr>\n",
       "      <th>31</th>\n",
       "      <td>pypl</td>\n",
       "      <td>Hold or Sell</td>\n",
       "      <td>2.6652</td>\n",
       "      <td>Hold or Sell</td>\n",
       "      <td>4.0777</td>\n",
       "      <td>Hold or Sell</td>\n",
       "      <td>3.6156</td>\n",
       "      <td>6.4126</td>\n",
       "    </tr>\n",
       "    <tr>\n",
       "      <th>32</th>\n",
       "      <td>qgen</td>\n",
       "      <td>Buy</td>\n",
       "      <td>2.2743</td>\n",
       "      <td>Buy</td>\n",
       "      <td>2.3644</td>\n",
       "      <td>Buy</td>\n",
       "      <td>2.3624</td>\n",
       "      <td>7.7112</td>\n",
       "    </tr>\n",
       "    <tr>\n",
       "      <th>33</th>\n",
       "      <td>run</td>\n",
       "      <td>Hold or Sell</td>\n",
       "      <td>1.2996</td>\n",
       "      <td>Hold or Sell</td>\n",
       "      <td>1.0785</td>\n",
       "      <td>Hold or Sell</td>\n",
       "      <td>1.3915</td>\n",
       "      <td>13.8317</td>\n",
       "    </tr>\n",
       "    <tr>\n",
       "      <th>34</th>\n",
       "      <td>orcl</td>\n",
       "      <td>Hold or Sell</td>\n",
       "      <td>3.0509</td>\n",
       "      <td>Hold or Sell</td>\n",
       "      <td>3.3022</td>\n",
       "      <td>Hold or Sell</td>\n",
       "      <td>3.0522</td>\n",
       "      <td>30.4468</td>\n",
       "    </tr>\n",
       "    <tr>\n",
       "      <th>35</th>\n",
       "      <td>qqq</td>\n",
       "      <td>Hold or Sell</td>\n",
       "      <td>2.8371</td>\n",
       "      <td>Hold or Sell</td>\n",
       "      <td>3.6236</td>\n",
       "      <td>Hold or Sell</td>\n",
       "      <td>2.5948</td>\n",
       "      <td>8.6418</td>\n",
       "    </tr>\n",
       "    <tr>\n",
       "      <th>36</th>\n",
       "      <td>srpt</td>\n",
       "      <td>Buy</td>\n",
       "      <td>1.9918</td>\n",
       "      <td>Buy</td>\n",
       "      <td>2.2738</td>\n",
       "      <td>Buy</td>\n",
       "      <td>2.7607</td>\n",
       "      <td>1.6145</td>\n",
       "    </tr>\n",
       "    <tr>\n",
       "      <th>37</th>\n",
       "      <td>tpic</td>\n",
       "      <td>Hold or Sell</td>\n",
       "      <td>1.3071</td>\n",
       "      <td>Hold or Sell</td>\n",
       "      <td>1.8482</td>\n",
       "      <td>Hold or Sell</td>\n",
       "      <td>1.3454</td>\n",
       "      <td>2.5753</td>\n",
       "    </tr>\n",
       "    <tr>\n",
       "      <th>38</th>\n",
       "      <td>tsla</td>\n",
       "      <td>Buy</td>\n",
       "      <td>2.9130</td>\n",
       "      <td>Buy</td>\n",
       "      <td>1.8637</td>\n",
       "      <td>Buy</td>\n",
       "      <td>3.1017</td>\n",
       "      <td>121.5772</td>\n",
       "    </tr>\n",
       "    <tr>\n",
       "      <th>39</th>\n",
       "      <td>v</td>\n",
       "      <td>Hold or Sell</td>\n",
       "      <td>2.6382</td>\n",
       "      <td>Hold or Sell</td>\n",
       "      <td>2.5145</td>\n",
       "      <td>Hold or Sell</td>\n",
       "      <td>2.9702</td>\n",
       "      <td>9.8795</td>\n",
       "    </tr>\n",
       "    <tr>\n",
       "      <th>40</th>\n",
       "      <td>vbiv</td>\n",
       "      <td>Hold or Sell</td>\n",
       "      <td>3.0853</td>\n",
       "      <td>Hold or Sell</td>\n",
       "      <td>1.5232</td>\n",
       "      <td>Hold or Sell</td>\n",
       "      <td>2.1743</td>\n",
       "      <td>-0.8000</td>\n",
       "    </tr>\n",
       "    <tr>\n",
       "      <th>41</th>\n",
       "      <td>vbr</td>\n",
       "      <td>Hold or Sell</td>\n",
       "      <td>1.3495</td>\n",
       "      <td>Hold or Sell</td>\n",
       "      <td>1.0561</td>\n",
       "      <td>Hold or Sell</td>\n",
       "      <td>1.4907</td>\n",
       "      <td>1.4718</td>\n",
       "    </tr>\n",
       "    <tr>\n",
       "      <th>42</th>\n",
       "      <td>viov</td>\n",
       "      <td>Hold or Sell</td>\n",
       "      <td>1.1466</td>\n",
       "      <td>Hold or Sell</td>\n",
       "      <td>1.2081</td>\n",
       "      <td>Hold or Sell</td>\n",
       "      <td>1.3091</td>\n",
       "      <td>1.1130</td>\n",
       "    </tr>\n",
       "    <tr>\n",
       "      <th>43</th>\n",
       "      <td>vgt</td>\n",
       "      <td>Hold or Sell</td>\n",
       "      <td>2.7666</td>\n",
       "      <td>Hold or Sell</td>\n",
       "      <td>3.3701</td>\n",
       "      <td>Hold or Sell</td>\n",
       "      <td>3.0573</td>\n",
       "      <td>5.7145</td>\n",
       "    </tr>\n",
       "    <tr>\n",
       "      <th>44</th>\n",
       "      <td>xlk</td>\n",
       "      <td>Hold or Sell</td>\n",
       "      <td>3.7296</td>\n",
       "      <td>Hold or Sell</td>\n",
       "      <td>4.7005</td>\n",
       "      <td>Hold or Sell</td>\n",
       "      <td>4.4376</td>\n",
       "      <td>6.1508</td>\n",
       "    </tr>\n",
       "  </tbody>\n",
       "</table>\n",
       "</div>"
      ],
      "text/plain": [
       "   stock    1_Day_Pred  1_Day_Model_Return    3_Day_Pred  3_Day_Model_Return  \\\n",
       "0      a           Buy              3.3180           Buy              3.5817   \n",
       "1   aapl           Buy              3.3483           Buy              3.3488   \n",
       "2    acy  Hold or Sell              0.7444  Hold or Sell              1.0201   \n",
       "3   adbe  Hold or Sell              7.8353  Hold or Sell              7.3100   \n",
       "4    alb           Buy              1.8886           Buy              1.8159   \n",
       "5   amat           Buy              7.3718           Buy              6.0077   \n",
       "6    amd  Hold or Sell              8.4726           Buy              6.0861   \n",
       "7   amgn           Buy              3.9036           Buy              4.1829   \n",
       "8   amzn           Buy              3.1062           Buy              3.0619   \n",
       "9   baba  Hold or Sell              1.4140  Hold or Sell              1.4463   \n",
       "10   bac  Hold or Sell              5.3151  Hold or Sell              7.0797   \n",
       "11  bpmc           Buy              1.9775           Buy              1.7197   \n",
       "12   crm           Buy              2.4172           Buy              1.8651   \n",
       "13  crsp           Buy              0.9595  Hold or Sell              0.5757   \n",
       "14    dq  Hold or Sell             10.8879  Hold or Sell             11.4326   \n",
       "15  esgv  Hold or Sell              1.1722  Hold or Sell              1.1241   \n",
       "16  fslr  Hold or Sell              2.5454  Hold or Sell              2.0472   \n",
       "17  goog  Hold or Sell              2.5732  Hold or Sell              2.1322   \n",
       "18   ibm  Hold or Sell              2.8915  Hold or Sell              3.9019   \n",
       "19  intc  Hold or Sell              6.0637  Hold or Sell              5.7058   \n",
       "20   iyw  Hold or Sell              2.8487  Hold or Sell              4.6565   \n",
       "21   lng           Buy              1.0786           Buy              1.0482   \n",
       "22    ma           Buy              2.5042           Buy              2.8879   \n",
       "23   mdb           Buy              0.8278           Buy              1.0323   \n",
       "24  msft  Hold or Sell              7.2699  Hold or Sell              8.8180   \n",
       "25    mu  Hold or Sell              2.6031           Buy              3.6048   \n",
       "26   nee  Hold or Sell              4.2999  Hold or Sell              6.3123   \n",
       "27   nga           Buy              0.8934  Hold or Sell              0.7753   \n",
       "28   nio  Hold or Sell              2.3868  Hold or Sell              2.5373   \n",
       "29  nvda           Buy              9.6794           Buy             10.1737   \n",
       "30  pacb  Hold or Sell              1.9216  Hold or Sell              2.1329   \n",
       "31  pypl  Hold or Sell              2.6652  Hold or Sell              4.0777   \n",
       "32  qgen           Buy              2.2743           Buy              2.3644   \n",
       "33   run  Hold or Sell              1.2996  Hold or Sell              1.0785   \n",
       "34  orcl  Hold or Sell              3.0509  Hold or Sell              3.3022   \n",
       "35   qqq  Hold or Sell              2.8371  Hold or Sell              3.6236   \n",
       "36  srpt           Buy              1.9918           Buy              2.2738   \n",
       "37  tpic  Hold or Sell              1.3071  Hold or Sell              1.8482   \n",
       "38  tsla           Buy              2.9130           Buy              1.8637   \n",
       "39     v  Hold or Sell              2.6382  Hold or Sell              2.5145   \n",
       "40  vbiv  Hold or Sell              3.0853  Hold or Sell              1.5232   \n",
       "41   vbr  Hold or Sell              1.3495  Hold or Sell              1.0561   \n",
       "42  viov  Hold or Sell              1.1466  Hold or Sell              1.2081   \n",
       "43   vgt  Hold or Sell              2.7666  Hold or Sell              3.3701   \n",
       "44   xlk  Hold or Sell              3.7296  Hold or Sell              4.7005   \n",
       "\n",
       "      5_Day_Pred  5_Day_Model_Return  Actual_Returns  \n",
       "0            Buy              3.7032          6.6302  \n",
       "1            Buy              3.5347        345.2074  \n",
       "2   Hold or Sell              0.8987          2.2412  \n",
       "3   Hold or Sell              8.0066         77.9731  \n",
       "4            Buy              1.7579         13.8917  \n",
       "5            Buy              8.0260        191.6949  \n",
       "6            Buy              7.6525         16.9575  \n",
       "7            Buy              4.6230         25.7590  \n",
       "8            Buy              4.6464        114.3175  \n",
       "9   Hold or Sell              1.2718          2.4785  \n",
       "10  Hold or Sell              7.3449          6.1485  \n",
       "11           Buy              1.6449          2.4000  \n",
       "12           Buy              2.2813         15.7486  \n",
       "13           Buy              1.0032          7.7768  \n",
       "14  Hold or Sell              8.4276         75.5290  \n",
       "15  Hold or Sell              1.1612          0.4400  \n",
       "16  Hold or Sell              2.0218         -0.1750  \n",
       "17  Hold or Sell              2.9015         11.0882  \n",
       "18  Hold or Sell              3.8552          6.4140  \n",
       "19  Hold or Sell              4.9599         38.9143  \n",
       "20  Hold or Sell              4.0119          6.4756  \n",
       "21           Buy              0.8549         51.7984  \n",
       "22           Buy              2.2895         14.0124  \n",
       "23           Buy              1.0669          4.9408  \n",
       "24  Hold or Sell              9.8295         59.8237  \n",
       "25  Hold or Sell              3.1471         17.5671  \n",
       "26  Hold or Sell              4.9736         28.9727  \n",
       "27  Hold or Sell              0.8244          1.5775  \n",
       "28  Hold or Sell              2.3175         11.6185  \n",
       "29           Buy             16.5821        116.5543  \n",
       "30  Hold or Sell              2.9108         13.9208  \n",
       "31  Hold or Sell              3.6156          6.4126  \n",
       "32           Buy              2.3624          7.7112  \n",
       "33  Hold or Sell              1.3915         13.8317  \n",
       "34  Hold or Sell              3.0522         30.4468  \n",
       "35  Hold or Sell              2.5948          8.6418  \n",
       "36           Buy              2.7607          1.6145  \n",
       "37  Hold or Sell              1.3454          2.5753  \n",
       "38           Buy              3.1017        121.5772  \n",
       "39  Hold or Sell              2.9702          9.8795  \n",
       "40  Hold or Sell              2.1743         -0.8000  \n",
       "41  Hold or Sell              1.4907          1.4718  \n",
       "42  Hold or Sell              1.3091          1.1130  \n",
       "43  Hold or Sell              3.0573          5.7145  \n",
       "44  Hold or Sell              4.4376          6.1508  "
      ]
     },
     "execution_count": 29,
     "metadata": {},
     "output_type": "execute_result"
    }
   ],
   "source": [
    "summary_df = a.pred_summary_df(start_dates, stocks = [x for x in start_dates], days_back = 1)\n",
    "summary_df"
   ]
  },
  {
   "cell_type": "code",
   "execution_count": 30,
   "metadata": {},
   "outputs": [
    {
     "data": {
      "text/plain": [
       "(2.6382, 2.5373, 2.9108, 9.8795)"
      ]
     },
     "execution_count": 30,
     "metadata": {},
     "output_type": "execute_result"
    }
   ],
   "source": [
    "summary_df['1_Day_Model_Return'].median(), summary_df['3_Day_Model_Return'].median(), summary_df['5_Day_Model_Return'].median(), summary_df['Actual_Returns'].median()"
   ]
  },
  {
   "cell_type": "code",
   "execution_count": null,
   "metadata": {},
   "outputs": [],
   "source": []
  },
  {
   "cell_type": "code",
   "execution_count": null,
   "metadata": {},
   "outputs": [],
   "source": []
  },
  {
   "cell_type": "code",
   "execution_count": null,
   "metadata": {},
   "outputs": [],
   "source": []
  },
  {
   "cell_type": "code",
   "execution_count": null,
   "metadata": {},
   "outputs": [],
   "source": []
  }
 ],
 "metadata": {
  "kernelspec": {
   "display_name": "Python 3",
   "language": "python",
   "name": "python3"
  },
  "language_info": {
   "codemirror_mode": {
    "name": "ipython",
    "version": 3
   },
   "file_extension": ".py",
   "mimetype": "text/x-python",
   "name": "python",
   "nbconvert_exporter": "python",
   "pygments_lexer": "ipython3",
   "version": "3.8.5"
  }
 },
 "nbformat": 4,
 "nbformat_minor": 4
}
