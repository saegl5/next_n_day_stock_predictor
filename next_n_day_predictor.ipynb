{
 "cells": [
  {
   "cell_type": "code",
   "execution_count": 1,
   "metadata": {
    "scrolled": true
   },
   "outputs": [],
   "source": [
    "from src import attributes as a\n",
    "%load_ext autoreload\n",
    "%autoreload 2"
   ]
  },
  {
   "cell_type": "code",
   "execution_count": 2,
   "metadata": {},
   "outputs": [],
   "source": [
    "# Global Variables\n",
    "stock_name = 'msft' # ticker symbol\n",
    "train = 0 # 1 for train, 0 for pass\n",
    "days_ahead = 1 # for predicting 1, 3, or 5 days ahead\n",
    "days_back = -1 # -1 for current data point, -2 for two days ago, etc...\n",
    "cv = 5 # number of cross validation folds\n",
    "model_name = 'Random Forest Classifier' # for display on charts, not a tuning parameter"
   ]
  },
  {
   "cell_type": "code",
   "execution_count": 3,
   "metadata": {},
   "outputs": [],
   "source": [
    "# Extract, Transform, Load, and Train Test Split\n",
    "# Dictionary of IPO Dates\n",
    "start_dates = {'a': '11/15/1999' # Updated 2/14/21 1D, 3D, 5D ahead\n",
    "               , 'aapl':'12/12/1980' # Updated 2/14/21 1D, 3D, 5D ahead\n",
    "               , 'acy': '01/18/1998' # Updated 2/14/21 1D, 3D, 5D ahead\n",
    "               , 'adbe': '08/11/1986' # Updated 2/14/21 1D, 3D, 5D ahead\n",
    "               , 'alb': '02/21/1994' # Updated 2/14/21 1D, 3D, 5D ahead\n",
    "               , 'amat': '03/16/1980' # Updated 2/14/21 1D, 3D, 5D ahead\n",
    "               , 'amd': '03/17/1980' # Updated 2/14/21 1D, 3D, 5D ahead\n",
    "               , 'amgn': '06/13/1983' # Updated 2/14/21 1D, 3D, 5D ahead\n",
    "               , 'amzn': '05/12/1997' # Updated 2/14/21 1D, 3D, 5D ahead\n",
    "               , 'baba': '09/15/2014' # Updated 2/14/21 1D, 3D, 5D ahead\n",
    "               , 'bac': '02/19/1973' # Updated 2/14/21 1D, 3D, 5D ahead\n",
    "               , 'bpmc': '04/27/2015' # Updated 2/14/21 1D, 3D, 5D ahead\n",
    "               , 'crm': '06/23/2004' # Updated 2/14/21 1D, 3D, 5D ahead\n",
    "               , 'crsp': '10/16/2016' # Updated 2/14/21 1D, 3D, 5D ahead\n",
    "               , 'dq': '10/04/2010' # Updated 2/14/21 1D, 3D, 5D ahead\n",
    "               , 'esgv': '09/16/2018' # Updated 2/15/21 1D, 3D, 5D ahead\n",
    "               , 'fslr': '11/12/2006' # Updated 2/15/21 1D, 3D, 5D ahead\n",
    "               , 'goog': '08/16/2004' # Updated 2/15/21 1D, 3D, 5D ahead\n",
    "               , 'ibm': '01/02/1962' # Updated 2/15/21 1D, 3D, 5D ahead\n",
    "               , 'intc': '03/16/1980' # Updated 2/15/21 1D, 3D, 5D ahead\n",
    "               , 'iyw': '05/15/2000' # Updated 2/15/21 1D, 3D, 5D ahead\n",
    "               , 'lng': '04/04/1994' # Updated 2/15/21 1D, 3D, 5D ahead\n",
    "               , 'ma': '05/21/2006' # Updated 2/15/21 1D, 3D, 5D ahead\n",
    "               , 'mdb': '10/15/2017' # Updated 2/15/21 1D, 3D, 5D ahead\n",
    "               , 'msft': '03/10/1986' # Updated 2/15/21 1D, 3D, 5D ahead\n",
    "               , 'mu': '05/28/1984' # Updated 2/15/21 1D, 3D, 5D ahead\n",
    "               , 'nee': '02/19/1973' # Updated 2/15/21 1D, 3D, 5D ahead\n",
    "               , 'nio': '09/10/2018' # Updated 2/15/21 1D, 3D, 5D ahead\n",
    "               , 'nvda': '01/22/1999' # Updated 2/15/21 1D, 3D, 5D ahead\n",
    "               , 'pacb': '10/25/2010' # Updated 2/15/21 1D, 3D, 5D ahead\n",
    "               , 'pypl': '07/05/2015' # Updated 2/16/21 1D, 3D, 5D ahead\n",
    "               , 'qgen': '06/24/1996' # Updated 2/16/21 1D, 3D, 5D ahead\n",
    "               , 'run': '08/02/2015' # Updated 2/16/21 1D, 3D, 5D ahead\n",
    "               , 'okta': '04/03/2017' # Updated 2/16/21 1D, 3D, 5D ahead\n",
    "               , 'orcl': '03/10/1986' # Updated 2/16/21 1D, 3D, 5D ahead\n",
    "               , 'qqq': '03/08/1999' # Updated 2/16/21 1D, 3D, 5D ahead\n",
    "               , 'srpt': '06/02/1997' # Updated 2/16/21 1D, 3D, 5D ahead\n",
    "               , 'tpic': '07/17/2016' # Updated 2/16/21 1D, 3D, 5D ahead\n",
    "               , 'tsla': '06/29/2010' # Updated 2/16/21 1D, 3D, 5D ahead\n",
    "               , 'v': '03/16/2008' # Updated 2/16/21 1D, 3D, 5D ahead\n",
    "               , 'vbiv': '09/04/2002' # Updated 2/16/21 1D, 3D, 5D ahead\n",
    "               , 'vbr': '01/26/2004' # Updated 2/16/21 1D, 3D, 5D ahead\n",
    "               , 'viov': '09/06/2010' # Updated 2/16/21 1D, 3D, 5D ahead\n",
    "               , 'vgt': '01/26/2004' # Updated 2/16/21 1D, 3D, 5D ahead\n",
    "               , 'xlk': '12/21/1998' # Updated 2/16/21 1D, 3D, 5D ahead\n",
    "              }"
   ]
  },
  {
   "cell_type": "code",
   "execution_count": null,
   "metadata": {},
   "outputs": [],
   "source": []
  },
  {
   "cell_type": "code",
   "execution_count": null,
   "metadata": {},
   "outputs": [],
   "source": []
  },
  {
   "cell_type": "code",
   "execution_count": null,
   "metadata": {},
   "outputs": [],
   "source": []
  },
  {
   "cell_type": "code",
   "execution_count": 4,
   "metadata": {},
   "outputs": [],
   "source": [
    "# X_train, X_test, y_train, y_test, stock_df = a.data(stock_name, start_dates[stock_name], days_ahead)\n",
    "# stock_df.tail(10)"
   ]
  },
  {
   "cell_type": "code",
   "execution_count": 5,
   "metadata": {
    "scrolled": false
   },
   "outputs": [],
   "source": [
    "# GridSerach to find best hyperparameters to prevent overfitting, can be commented out once trained\n",
    "# if train == 1:\n",
    "#     a.rfc_GridSearch(X_train, y_train, stock_name, days_ahead, cv)\n",
    "# elif train == 0:\n",
    "#     pass"
   ]
  },
  {
   "cell_type": "code",
   "execution_count": 6,
   "metadata": {},
   "outputs": [],
   "source": [
    "# Load RandomForextClassifier Model\n",
    "# rfc_model, y_pred, y_probs = a.rfc(X_train, X_test, y_train, stock_name, days_ahead)"
   ]
  },
  {
   "cell_type": "code",
   "execution_count": 7,
   "metadata": {
    "scrolled": false
   },
   "outputs": [],
   "source": [
    "# ROC Curve\n",
    "# a.roc_plot(y_test, y_probs, stock_name, model_name)"
   ]
  },
  {
   "cell_type": "code",
   "execution_count": 8,
   "metadata": {
    "scrolled": false
   },
   "outputs": [],
   "source": [
    "# Precision Recall Curve\n",
    "# a.prec_recall(y_test, y_probs, stock_name, model_name)"
   ]
  },
  {
   "cell_type": "code",
   "execution_count": 9,
   "metadata": {
    "scrolled": false
   },
   "outputs": [],
   "source": [
    "# Confusion Matrix\n",
    "# a.confusion_matrix(rfc_model, X_test, y_test, stock_name)"
   ]
  },
  {
   "cell_type": "code",
   "execution_count": 10,
   "metadata": {},
   "outputs": [],
   "source": [
    "# Cross Validation\n",
    "# a.cross_validation(rfc_model\n",
    "#                    , stock_df[['oc', 'hl', '5stdev_adj', '5sma_adj']]\n",
    "#                    , stock_df['direction']\n",
    "#                    , cv = 5\n",
    "#                   )"
   ]
  },
  {
   "cell_type": "markdown",
   "metadata": {},
   "source": [
    "### Prediction..."
   ]
  },
  {
   "cell_type": "code",
   "execution_count": 11,
   "metadata": {
    "scrolled": true
   },
   "outputs": [],
   "source": [
    "# Prediction, use last day of data\n",
    "# stock_df.iloc[-1]"
   ]
  },
  {
   "cell_type": "code",
   "execution_count": 12,
   "metadata": {},
   "outputs": [],
   "source": [
    "# import numpy as np\n",
    "# last = stock_df[['oc', 'hl', '5stdev_adj', '5sma_adj']].iloc[-days_back]\n",
    "# last"
   ]
  },
  {
   "cell_type": "code",
   "execution_count": 13,
   "metadata": {},
   "outputs": [],
   "source": [
    "# stock_df['adj'].describe()"
   ]
  },
  {
   "cell_type": "code",
   "execution_count": 14,
   "metadata": {
    "scrolled": true
   },
   "outputs": [],
   "source": [
    "# if rfc_model.predict(np.array(last).reshape(1, -1))[0] == 1:\n",
    "#     print(f'Buy {stock_name} {days_ahead} day(s) ahead')\n",
    "# else:\n",
    "#     print(f'Sell or hold {stock_name} {days_ahead} day(s) ahead')"
   ]
  },
  {
   "cell_type": "markdown",
   "metadata": {},
   "source": [
    "### Strategy Returns..."
   ]
  },
  {
   "cell_type": "code",
   "execution_count": 15,
   "metadata": {},
   "outputs": [],
   "source": [
    "# returns on strategy column\n",
    "# stock_df['prediction'] = rfc_model.predict(stock_df[['oc', 'hl', '5stdev_adj', '5sma_adj']])\n",
    "# stock_df['returns'] = stock_df['adj'].shift(-1, fill_value = stock_df['adj'].median()) * stock_df['prediction']"
   ]
  },
  {
   "cell_type": "code",
   "execution_count": 16,
   "metadata": {},
   "outputs": [],
   "source": [
    "# stock_df.tail(5)"
   ]
  },
  {
   "cell_type": "code",
   "execution_count": 17,
   "metadata": {},
   "outputs": [],
   "source": [
    "# Don't trade every day!\n",
    "# import matplotlib.pyplot as plt\n",
    "# test_length = len(y_test)\n",
    "# (stock_df['returns'][-test_length:] + 1).cumprod().plot()\n",
    "# plt.title(f'{stock_name} Expected Returns %');"
   ]
  },
  {
   "cell_type": "code",
   "execution_count": 18,
   "metadata": {},
   "outputs": [],
   "source": [
    "# Model returns if bought on predictions of 1\n",
    "# returns_on_ones = []\n",
    "# for idx in range(-test_length, 0):\n",
    "#     if stock_df['prediction'][idx] == 1:\n",
    "#         returns_on_ones.append(1 + stock_df['returns'][idx])\n",
    "\n",
    "# returns = 1\n",
    "# for x in returns_on_ones:\n",
    "#     returns *= x\n",
    "# returns"
   ]
  },
  {
   "cell_type": "code",
   "execution_count": 19,
   "metadata": {},
   "outputs": [],
   "source": [
    "# multiple times original investment, not bad but..."
   ]
  },
  {
   "cell_type": "code",
   "execution_count": 20,
   "metadata": {},
   "outputs": [],
   "source": [
    "# If purchased in 2012 and left it until now\n",
    "# test_idx = int(len(stock_df)*0.75)\n",
    "# (stock_df['Close'][-1] - stock_df['Close'][-test_idx]) / stock_df['Close'][-test_idx]"
   ]
  },
  {
   "cell_type": "code",
   "execution_count": 21,
   "metadata": {},
   "outputs": [],
   "source": [
    "# Buy and hold strategy beats RandomForestClassifier in this study\n",
    "\n",
    "# Special thanks to Shagufta Tahsildar at https://blog.quantinsti.com/random-forest-algorithm-in-python/"
   ]
  },
  {
   "cell_type": "code",
   "execution_count": null,
   "metadata": {},
   "outputs": [],
   "source": []
  },
  {
   "cell_type": "code",
   "execution_count": null,
   "metadata": {},
   "outputs": [],
   "source": []
  },
  {
   "cell_type": "code",
   "execution_count": null,
   "metadata": {},
   "outputs": [],
   "source": []
  },
  {
   "cell_type": "markdown",
   "metadata": {},
   "source": [
    "### Training"
   ]
  },
  {
   "cell_type": "markdown",
   "metadata": {},
   "source": [
    "Training is done once a week on Saturday and Sunday"
   ]
  },
  {
   "cell_type": "code",
   "execution_count": 22,
   "metadata": {},
   "outputs": [
    {
     "data": {
      "text/plain": [
       "45"
      ]
     },
     "execution_count": 22,
     "metadata": {},
     "output_type": "execute_result"
    }
   ],
   "source": [
    "len(start_dates)"
   ]
  },
  {
   "cell_type": "code",
   "execution_count": 23,
   "metadata": {},
   "outputs": [
    {
     "data": {
      "text/plain": [
       "{'a': '11/15/1999',\n",
       " 'aapl': '12/12/1980',\n",
       " 'acy': '01/18/1998',\n",
       " 'adbe': '08/11/1986',\n",
       " 'alb': '02/21/1994',\n",
       " 'amat': '03/16/1980',\n",
       " 'amd': '03/17/1980',\n",
       " 'amgn': '06/13/1983',\n",
       " 'amzn': '05/12/1997',\n",
       " 'baba': '09/15/2014',\n",
       " 'bac': '02/19/1973',\n",
       " 'bpmc': '04/27/2015',\n",
       " 'crm': '06/23/2004',\n",
       " 'crsp': '10/16/2016',\n",
       " 'dq': '10/04/2010'}"
      ]
     },
     "execution_count": 23,
     "metadata": {},
     "output_type": "execute_result"
    }
   ],
   "source": [
    "import itertools as itr\n",
    "start_dates1 = dict(itr.islice(start_dates.items(), 0, 15))\n",
    "start_dates1"
   ]
  },
  {
   "cell_type": "code",
   "execution_count": 24,
   "metadata": {},
   "outputs": [
    {
     "data": {
      "text/plain": [
       "{'esgv': '09/16/2018',\n",
       " 'fslr': '11/12/2006',\n",
       " 'goog': '08/16/2004',\n",
       " 'ibm': '01/02/1962',\n",
       " 'intc': '03/16/1980',\n",
       " 'iyw': '05/15/2000',\n",
       " 'lng': '04/04/1994',\n",
       " 'ma': '05/21/2006',\n",
       " 'mdb': '10/15/2017',\n",
       " 'msft': '03/10/1986',\n",
       " 'mu': '05/28/1984',\n",
       " 'nee': '02/19/1973',\n",
       " 'nio': '09/10/2018',\n",
       " 'nvda': '01/22/1999',\n",
       " 'pacb': '10/25/2010'}"
      ]
     },
     "execution_count": 24,
     "metadata": {},
     "output_type": "execute_result"
    }
   ],
   "source": [
    "start_dates2 = dict(itr.islice(start_dates.items(), 15, 30))\n",
    "start_dates2"
   ]
  },
  {
   "cell_type": "code",
   "execution_count": 25,
   "metadata": {},
   "outputs": [
    {
     "data": {
      "text/plain": [
       "{'pypl': '07/05/2015',\n",
       " 'qgen': '06/24/1996',\n",
       " 'run': '08/02/2015',\n",
       " 'okta': '04/03/2017',\n",
       " 'orcl': '03/10/1986',\n",
       " 'qqq': '03/08/1999',\n",
       " 'srpt': '06/02/1997',\n",
       " 'tpic': '07/17/2016',\n",
       " 'tsla': '06/29/2010',\n",
       " 'v': '03/16/2008',\n",
       " 'vbiv': '09/04/2002',\n",
       " 'vbr': '01/26/2004',\n",
       " 'viov': '09/06/2010',\n",
       " 'vgt': '01/26/2004',\n",
       " 'xlk': '12/21/1998'}"
      ]
     },
     "execution_count": 25,
     "metadata": {},
     "output_type": "execute_result"
    }
   ],
   "source": [
    "start_dates3 = dict(itr.islice(start_dates.items(), 30, 45+1))\n",
    "start_dates3"
   ]
  },
  {
   "cell_type": "code",
   "execution_count": 26,
   "metadata": {},
   "outputs": [],
   "source": [
    "#Train 15 at a time!\n",
    "# stocks = [x for x in start_dates1]\n",
    "# days_ahead = [1, 3, 5]\n",
    "# cv = 5\n",
    "# for stock in stocks:\n",
    "#     for days in days_ahead:\n",
    "#         X_train, X_test, y_train, y_test, stock_df = a.data(stock, start_dates[stock], days)\n",
    "#         a.rfc_GridSearch(X_train, y_train, stock, days, cv)\n",
    "# len(stocks)\n",
    "\n",
    "# stocks = [x for x in start_dates2]\n",
    "# days_ahead = [1, 3, 5]\n",
    "# cv = 5\n",
    "# for stock in stocks:\n",
    "#     for days in days_ahead:\n",
    "#         X_train, X_test, y_train, y_test, stock_df = a.data(stock, start_dates[stock], days)\n",
    "#         a.rfc_GridSearch(X_train, y_train, stock, days, cv)\n",
    "# len(stocks)\n",
    "\n",
    "# stocks = [x for x in start_dates3]\n",
    "# days_ahead = [1, 3, 5]\n",
    "# cv = 5\n",
    "# for stock in stocks:\n",
    "#     for days in days_ahead:\n",
    "#         X_train, X_test, y_train, y_test, stock_df = a.data(stock, start_dates[stock], days)\n",
    "#         a.rfc_GridSearch(X_train, y_train, stock, days, cv)\n",
    "# len(stocks)\n",
    "\n",
    "# Train all, takes 15+ hours\n",
    "# stocks = [x for x in start_dates]\n",
    "# days_ahead = [1, 3, 5]\n",
    "# cv = 5\n",
    "# for stock in stocks:\n",
    "#     for days in days_ahead:\n",
    "#         X_train, X_test, y_train, y_test, stock_df = a.data(stock, start_dates[stock], days)\n",
    "#         a.rfc_GridSearch(X_train, y_train, stock, days, cv)\n",
    "# len(stocks)\n",
    "\n",
    "# Train desired stocks...takes less time\n",
    "# stocks = ['aapl']\n",
    "# days_ahead = [1, 3, 5]\n",
    "# cv = 5\n",
    "# for stock in stocks:\n",
    "#     for days in days_ahead:\n",
    "#         X_train, X_test, y_train, y_test, stock_df = a.data(stock, start_dates[stock], days)\n",
    "#         a.rfc_GridSearch(X_train, y_train, stock, days, cv)"
   ]
  },
  {
   "cell_type": "code",
   "execution_count": null,
   "metadata": {},
   "outputs": [],
   "source": []
  },
  {
   "cell_type": "code",
   "execution_count": null,
   "metadata": {},
   "outputs": [],
   "source": []
  },
  {
   "cell_type": "code",
   "execution_count": null,
   "metadata": {},
   "outputs": [],
   "source": []
  },
  {
   "cell_type": "markdown",
   "metadata": {},
   "source": [
    "### Display All Results"
   ]
  },
  {
   "cell_type": "code",
   "execution_count": 27,
   "metadata": {
    "scrolled": false
   },
   "outputs": [
    {
     "name": "stdout",
     "output_type": "stream",
     "text": [
      "Buy tsla 5 day(s) ahead\n",
      "Model Returns (x 100 for %): 2.1287\n",
      "Stock Returns (x 100 for %): 85.8287\n"
     ]
    },
    {
     "data": {
      "image/png": "[encoded data removed]",
      "text/plain": [
       "<Figure size 432x288 with 1 Axes>"
      ]
     },
     "metadata": {},
     "output_type": "display_data"
    },
    {
     "data": {
      "image/png": "[encoded data removed]",
      "text/plain": [
       "<Figure size 648x504 with 1 Axes>"
      ]
     },
     "metadata": {},
     "output_type": "display_data"
    },
    {
     "data": {
      "image/png": "[encoded data removed]",
      "text/plain": [
       "<Figure size 648x504 with 1 Axes>"
      ]
     },
     "metadata": {},
     "output_type": "display_data"
    },
    {
     "data": {
      "image/png": "[encoded data removed]",
      "text/plain": [
       "<Figure size 684x612 with 2 Axes>"
      ]
     },
     "metadata": {},
     "output_type": "display_data"
    }
   ],
   "source": [
    "stock_name = 'tsla'\n",
    "a.all_func(stock_name\n",
    "           , start_dates[stock_name]\n",
    "           , days_ahead = 5\n",
    "           , model_name = model_name\n",
    "           , days_back = 1\n",
    "          )"
   ]
  },
  {
   "cell_type": "code",
   "execution_count": null,
   "metadata": {},
   "outputs": [],
   "source": []
  },
  {
   "cell_type": "code",
   "execution_count": null,
   "metadata": {},
   "outputs": [],
   "source": []
  },
  {
   "cell_type": "code",
   "execution_count": null,
   "metadata": {},
   "outputs": [],
   "source": []
  },
  {
   "cell_type": "markdown",
   "metadata": {},
   "source": [
    "### Data Frame of Predictions 1 3 5 Days"
   ]
  },
  {
   "cell_type": "code",
   "execution_count": 28,
   "metadata": {},
   "outputs": [
    {
     "name": "stdout",
     "output_type": "stream",
     "text": [
      "Today's date: 2021-03-10\n"
     ]
    }
   ],
   "source": [
    "from datetime import date\n",
    "\n",
    "today = date.today()\n",
    "print(\"Today's date:\", today)"
   ]
  },
  {
   "cell_type": "code",
   "execution_count": 29,
   "metadata": {
    "scrolled": false
   },
   "outputs": [
    {
     "data": {
      "text/html": [
       "<div>\n",
       "<style scoped>\n",
       "    .dataframe tbody tr th:only-of-type {\n",
       "        vertical-align: middle;\n",
       "    }\n",
       "\n",
       "    .dataframe tbody tr th {\n",
       "        vertical-align: top;\n",
       "    }\n",
       "\n",
       "    .dataframe thead th {\n",
       "        text-align: right;\n",
       "    }\n",
       "</style>\n",
       "<table border=\"1\" class=\"dataframe\">\n",
       "  <thead>\n",
       "    <tr style=\"text-align: right;\">\n",
       "      <th></th>\n",
       "      <th>stock</th>\n",
       "      <th>1_Day_Pred</th>\n",
       "      <th>1_Day_Model_Return</th>\n",
       "      <th>3_Day_Pred</th>\n",
       "      <th>3_Day_Model_Return</th>\n",
       "      <th>5_Day_Pred</th>\n",
       "      <th>5_Day_Model_Return</th>\n",
       "      <th>Actual_Returns</th>\n",
       "    </tr>\n",
       "  </thead>\n",
       "  <tbody>\n",
       "    <tr>\n",
       "      <th>0</th>\n",
       "      <td>a</td>\n",
       "      <td>Buy</td>\n",
       "      <td>3.2553</td>\n",
       "      <td>Buy</td>\n",
       "      <td>4.2519</td>\n",
       "      <td>Buy</td>\n",
       "      <td>3.6589</td>\n",
       "      <td>6.4620</td>\n",
       "    </tr>\n",
       "    <tr>\n",
       "      <th>1</th>\n",
       "      <td>aapl</td>\n",
       "      <td>Buy</td>\n",
       "      <td>2.8280</td>\n",
       "      <td>Buy</td>\n",
       "      <td>4.1037</td>\n",
       "      <td>Buy</td>\n",
       "      <td>3.6756</td>\n",
       "      <td>307.9139</td>\n",
       "    </tr>\n",
       "    <tr>\n",
       "      <th>2</th>\n",
       "      <td>acy</td>\n",
       "      <td>Hold or Sell</td>\n",
       "      <td>0.4612</td>\n",
       "      <td>Hold or Sell</td>\n",
       "      <td>0.4981</td>\n",
       "      <td>Buy</td>\n",
       "      <td>0.3464</td>\n",
       "      <td>1.5676</td>\n",
       "    </tr>\n",
       "    <tr>\n",
       "      <th>3</th>\n",
       "      <td>adbe</td>\n",
       "      <td>Buy</td>\n",
       "      <td>8.2276</td>\n",
       "      <td>Buy</td>\n",
       "      <td>6.9410</td>\n",
       "      <td>Buy</td>\n",
       "      <td>6.9970</td>\n",
       "      <td>69.6279</td>\n",
       "    </tr>\n",
       "    <tr>\n",
       "      <th>4</th>\n",
       "      <td>alb</td>\n",
       "      <td>Hold or Sell</td>\n",
       "      <td>2.2052</td>\n",
       "      <td>Hold or Sell</td>\n",
       "      <td>2.2674</td>\n",
       "      <td>Hold or Sell</td>\n",
       "      <td>1.9208</td>\n",
       "      <td>12.7672</td>\n",
       "    </tr>\n",
       "    <tr>\n",
       "      <th>5</th>\n",
       "      <td>amat</td>\n",
       "      <td>Buy</td>\n",
       "      <td>6.9912</td>\n",
       "      <td>Buy</td>\n",
       "      <td>9.3018</td>\n",
       "      <td>Buy</td>\n",
       "      <td>10.0145</td>\n",
       "      <td>194.5666</td>\n",
       "    </tr>\n",
       "    <tr>\n",
       "      <th>6</th>\n",
       "      <td>amd</td>\n",
       "      <td>Buy</td>\n",
       "      <td>6.6281</td>\n",
       "      <td>Buy</td>\n",
       "      <td>7.1533</td>\n",
       "      <td>Buy</td>\n",
       "      <td>6.4306</td>\n",
       "      <td>14.7003</td>\n",
       "    </tr>\n",
       "    <tr>\n",
       "      <th>7</th>\n",
       "      <td>amgn</td>\n",
       "      <td>Buy</td>\n",
       "      <td>4.8971</td>\n",
       "      <td>Buy</td>\n",
       "      <td>4.2680</td>\n",
       "      <td>Buy</td>\n",
       "      <td>4.8312</td>\n",
       "      <td>24.2877</td>\n",
       "    </tr>\n",
       "    <tr>\n",
       "      <th>8</th>\n",
       "      <td>amzn</td>\n",
       "      <td>Buy</td>\n",
       "      <td>3.5911</td>\n",
       "      <td>Buy</td>\n",
       "      <td>3.3919</td>\n",
       "      <td>Buy</td>\n",
       "      <td>4.2895</td>\n",
       "      <td>99.4151</td>\n",
       "    </tr>\n",
       "    <tr>\n",
       "      <th>9</th>\n",
       "      <td>baba</td>\n",
       "      <td>Buy</td>\n",
       "      <td>1.2363</td>\n",
       "      <td>Buy</td>\n",
       "      <td>1.2906</td>\n",
       "      <td>Buy</td>\n",
       "      <td>1.2521</td>\n",
       "      <td>1.9505</td>\n",
       "    </tr>\n",
       "    <tr>\n",
       "      <th>10</th>\n",
       "      <td>bac</td>\n",
       "      <td>Hold or Sell</td>\n",
       "      <td>6.9208</td>\n",
       "      <td>Hold or Sell</td>\n",
       "      <td>5.6398</td>\n",
       "      <td>Hold or Sell</td>\n",
       "      <td>7.3547</td>\n",
       "      <td>7.1350</td>\n",
       "    </tr>\n",
       "    <tr>\n",
       "      <th>11</th>\n",
       "      <td>bpmc</td>\n",
       "      <td>Buy</td>\n",
       "      <td>2.5364</td>\n",
       "      <td>Buy</td>\n",
       "      <td>1.7145</td>\n",
       "      <td>Buy</td>\n",
       "      <td>1.9175</td>\n",
       "      <td>2.0521</td>\n",
       "    </tr>\n",
       "    <tr>\n",
       "      <th>12</th>\n",
       "      <td>crm</td>\n",
       "      <td>Buy</td>\n",
       "      <td>1.9386</td>\n",
       "      <td>Buy</td>\n",
       "      <td>2.0258</td>\n",
       "      <td>Buy</td>\n",
       "      <td>1.9403</td>\n",
       "      <td>14.3733</td>\n",
       "    </tr>\n",
       "    <tr>\n",
       "      <th>13</th>\n",
       "      <td>crsp</td>\n",
       "      <td>Buy</td>\n",
       "      <td>1.2242</td>\n",
       "      <td>Buy</td>\n",
       "      <td>0.6937</td>\n",
       "      <td>Buy</td>\n",
       "      <td>0.7887</td>\n",
       "      <td>5.6533</td>\n",
       "    </tr>\n",
       "    <tr>\n",
       "      <th>14</th>\n",
       "      <td>dq</td>\n",
       "      <td>Buy</td>\n",
       "      <td>5.1417</td>\n",
       "      <td>Buy</td>\n",
       "      <td>5.7875</td>\n",
       "      <td>Buy</td>\n",
       "      <td>5.4821</td>\n",
       "      <td>50.5658</td>\n",
       "    </tr>\n",
       "    <tr>\n",
       "      <th>15</th>\n",
       "      <td>esgv</td>\n",
       "      <td>Buy</td>\n",
       "      <td>1.1211</td>\n",
       "      <td>Buy</td>\n",
       "      <td>1.1173</td>\n",
       "      <td>Buy</td>\n",
       "      <td>1.1154</td>\n",
       "      <td>0.4452</td>\n",
       "    </tr>\n",
       "    <tr>\n",
       "      <th>16</th>\n",
       "      <td>fslr</td>\n",
       "      <td>Buy</td>\n",
       "      <td>2.2664</td>\n",
       "      <td>Buy</td>\n",
       "      <td>1.4679</td>\n",
       "      <td>Buy</td>\n",
       "      <td>1.6150</td>\n",
       "      <td>-0.3522</td>\n",
       "    </tr>\n",
       "    <tr>\n",
       "      <th>17</th>\n",
       "      <td>goog</td>\n",
       "      <td>Buy</td>\n",
       "      <td>2.4278</td>\n",
       "      <td>Buy</td>\n",
       "      <td>2.1134</td>\n",
       "      <td>Buy</td>\n",
       "      <td>3.4165</td>\n",
       "      <td>10.3740</td>\n",
       "    </tr>\n",
       "    <tr>\n",
       "      <th>18</th>\n",
       "      <td>ibm</td>\n",
       "      <td>Hold or Sell</td>\n",
       "      <td>2.5679</td>\n",
       "      <td>Hold or Sell</td>\n",
       "      <td>4.5665</td>\n",
       "      <td>Hold or Sell</td>\n",
       "      <td>4.4983</td>\n",
       "      <td>6.5951</td>\n",
       "    </tr>\n",
       "    <tr>\n",
       "      <th>19</th>\n",
       "      <td>intc</td>\n",
       "      <td>Buy</td>\n",
       "      <td>5.9611</td>\n",
       "      <td>Buy</td>\n",
       "      <td>6.0774</td>\n",
       "      <td>Buy</td>\n",
       "      <td>5.3291</td>\n",
       "      <td>40.6083</td>\n",
       "    </tr>\n",
       "    <tr>\n",
       "      <th>20</th>\n",
       "      <td>iyw</td>\n",
       "      <td>Buy</td>\n",
       "      <td>3.0197</td>\n",
       "      <td>Buy</td>\n",
       "      <td>4.1487</td>\n",
       "      <td>Buy</td>\n",
       "      <td>3.1261</td>\n",
       "      <td>6.0582</td>\n",
       "    </tr>\n",
       "    <tr>\n",
       "      <th>21</th>\n",
       "      <td>lng</td>\n",
       "      <td>Hold or Sell</td>\n",
       "      <td>1.2600</td>\n",
       "      <td>Hold or Sell</td>\n",
       "      <td>0.8404</td>\n",
       "      <td>Hold or Sell</td>\n",
       "      <td>0.9655</td>\n",
       "      <td>71.9064</td>\n",
       "    </tr>\n",
       "    <tr>\n",
       "      <th>22</th>\n",
       "      <td>ma</td>\n",
       "      <td>Hold or Sell</td>\n",
       "      <td>2.4934</td>\n",
       "      <td>Hold or Sell</td>\n",
       "      <td>3.1780</td>\n",
       "      <td>Hold or Sell</td>\n",
       "      <td>2.6267</td>\n",
       "      <td>15.6681</td>\n",
       "    </tr>\n",
       "    <tr>\n",
       "      <th>23</th>\n",
       "      <td>mdb</td>\n",
       "      <td>Buy</td>\n",
       "      <td>0.7276</td>\n",
       "      <td>Buy</td>\n",
       "      <td>0.9903</td>\n",
       "      <td>Buy</td>\n",
       "      <td>0.7590</td>\n",
       "      <td>3.1950</td>\n",
       "    </tr>\n",
       "    <tr>\n",
       "      <th>24</th>\n",
       "      <td>msft</td>\n",
       "      <td>Buy</td>\n",
       "      <td>9.3503</td>\n",
       "      <td>Buy</td>\n",
       "      <td>10.1504</td>\n",
       "      <td>Buy</td>\n",
       "      <td>8.3701</td>\n",
       "      <td>57.6780</td>\n",
       "    </tr>\n",
       "    <tr>\n",
       "      <th>25</th>\n",
       "      <td>mu</td>\n",
       "      <td>Buy</td>\n",
       "      <td>2.7113</td>\n",
       "      <td>Buy</td>\n",
       "      <td>2.4533</td>\n",
       "      <td>Buy</td>\n",
       "      <td>2.7489</td>\n",
       "      <td>16.3421</td>\n",
       "    </tr>\n",
       "    <tr>\n",
       "      <th>26</th>\n",
       "      <td>nee</td>\n",
       "      <td>Hold or Sell</td>\n",
       "      <td>4.6769</td>\n",
       "      <td>Hold or Sell</td>\n",
       "      <td>4.4897</td>\n",
       "      <td>Hold or Sell</td>\n",
       "      <td>3.8184</td>\n",
       "      <td>25.6226</td>\n",
       "    </tr>\n",
       "    <tr>\n",
       "      <th>27</th>\n",
       "      <td>nio</td>\n",
       "      <td>Buy</td>\n",
       "      <td>1.8803</td>\n",
       "      <td>Buy</td>\n",
       "      <td>1.6289</td>\n",
       "      <td>Buy</td>\n",
       "      <td>1.6947</td>\n",
       "      <td>7.4672</td>\n",
       "    </tr>\n",
       "    <tr>\n",
       "      <th>28</th>\n",
       "      <td>nvda</td>\n",
       "      <td>Buy</td>\n",
       "      <td>12.8022</td>\n",
       "      <td>Buy</td>\n",
       "      <td>11.3630</td>\n",
       "      <td>Buy</td>\n",
       "      <td>13.2819</td>\n",
       "      <td>147.4316</td>\n",
       "    </tr>\n",
       "    <tr>\n",
       "      <th>29</th>\n",
       "      <td>pacb</td>\n",
       "      <td>Hold or Sell</td>\n",
       "      <td>1.3137</td>\n",
       "      <td>Buy</td>\n",
       "      <td>3.4280</td>\n",
       "      <td>Buy</td>\n",
       "      <td>1.6744</td>\n",
       "      <td>10.7941</td>\n",
       "    </tr>\n",
       "    <tr>\n",
       "      <th>30</th>\n",
       "      <td>pypl</td>\n",
       "      <td>Buy</td>\n",
       "      <td>2.5800</td>\n",
       "      <td>Buy</td>\n",
       "      <td>1.9500</td>\n",
       "      <td>Buy</td>\n",
       "      <td>2.6195</td>\n",
       "      <td>5.1113</td>\n",
       "    </tr>\n",
       "    <tr>\n",
       "      <th>31</th>\n",
       "      <td>qgen</td>\n",
       "      <td>Buy</td>\n",
       "      <td>2.0159</td>\n",
       "      <td>Buy</td>\n",
       "      <td>2.0828</td>\n",
       "      <td>Buy</td>\n",
       "      <td>2.5757</td>\n",
       "      <td>7.1988</td>\n",
       "    </tr>\n",
       "    <tr>\n",
       "      <th>32</th>\n",
       "      <td>run</td>\n",
       "      <td>Buy</td>\n",
       "      <td>0.9117</td>\n",
       "      <td>Buy</td>\n",
       "      <td>0.8878</td>\n",
       "      <td>Buy</td>\n",
       "      <td>0.8987</td>\n",
       "      <td>8.9463</td>\n",
       "    </tr>\n",
       "    <tr>\n",
       "      <th>33</th>\n",
       "      <td>okta</td>\n",
       "      <td>Buy</td>\n",
       "      <td>1.0293</td>\n",
       "      <td>Buy</td>\n",
       "      <td>1.1192</td>\n",
       "      <td>Buy</td>\n",
       "      <td>0.8697</td>\n",
       "      <td>4.8254</td>\n",
       "    </tr>\n",
       "    <tr>\n",
       "      <th>34</th>\n",
       "      <td>orcl</td>\n",
       "      <td>Buy</td>\n",
       "      <td>3.2614</td>\n",
       "      <td>Buy</td>\n",
       "      <td>3.6179</td>\n",
       "      <td>Buy</td>\n",
       "      <td>4.3440</td>\n",
       "      <td>34.7292</td>\n",
       "    </tr>\n",
       "    <tr>\n",
       "      <th>35</th>\n",
       "      <td>qqq</td>\n",
       "      <td>Buy</td>\n",
       "      <td>3.0590</td>\n",
       "      <td>Buy</td>\n",
       "      <td>3.5119</td>\n",
       "      <td>Buy</td>\n",
       "      <td>3.1122</td>\n",
       "      <td>7.8018</td>\n",
       "    </tr>\n",
       "    <tr>\n",
       "      <th>36</th>\n",
       "      <td>srpt</td>\n",
       "      <td>Buy</td>\n",
       "      <td>1.6041</td>\n",
       "      <td>Buy</td>\n",
       "      <td>1.6500</td>\n",
       "      <td>Buy</td>\n",
       "      <td>1.6303</td>\n",
       "      <td>1.3554</td>\n",
       "    </tr>\n",
       "    <tr>\n",
       "      <th>37</th>\n",
       "      <td>tpic</td>\n",
       "      <td>Buy</td>\n",
       "      <td>0.8919</td>\n",
       "      <td>Buy</td>\n",
       "      <td>1.2742</td>\n",
       "      <td>Buy</td>\n",
       "      <td>0.8911</td>\n",
       "      <td>1.3237</td>\n",
       "    </tr>\n",
       "    <tr>\n",
       "      <th>38</th>\n",
       "      <td>tsla</td>\n",
       "      <td>Buy</td>\n",
       "      <td>3.4629</td>\n",
       "      <td>Buy</td>\n",
       "      <td>1.5309</td>\n",
       "      <td>Buy</td>\n",
       "      <td>2.1287</td>\n",
       "      <td>85.8287</td>\n",
       "    </tr>\n",
       "    <tr>\n",
       "      <th>39</th>\n",
       "      <td>v</td>\n",
       "      <td>Hold or Sell</td>\n",
       "      <td>2.6768</td>\n",
       "      <td>Hold or Sell</td>\n",
       "      <td>2.5817</td>\n",
       "      <td>Hold or Sell</td>\n",
       "      <td>2.9752</td>\n",
       "      <td>10.9040</td>\n",
       "    </tr>\n",
       "    <tr>\n",
       "      <th>40</th>\n",
       "      <td>vbiv</td>\n",
       "      <td>Buy</td>\n",
       "      <td>0.5950</td>\n",
       "      <td>Buy</td>\n",
       "      <td>1.5556</td>\n",
       "      <td>Buy</td>\n",
       "      <td>1.2714</td>\n",
       "      <td>-0.8486</td>\n",
       "    </tr>\n",
       "    <tr>\n",
       "      <th>41</th>\n",
       "      <td>vbr</td>\n",
       "      <td>Hold or Sell</td>\n",
       "      <td>1.3237</td>\n",
       "      <td>Hold or Sell</td>\n",
       "      <td>1.3756</td>\n",
       "      <td>Hold or Sell</td>\n",
       "      <td>1.4740</td>\n",
       "      <td>1.5547</td>\n",
       "    </tr>\n",
       "    <tr>\n",
       "      <th>42</th>\n",
       "      <td>viov</td>\n",
       "      <td>Hold or Sell</td>\n",
       "      <td>1.3606</td>\n",
       "      <td>Hold or Sell</td>\n",
       "      <td>1.3591</td>\n",
       "      <td>Hold or Sell</td>\n",
       "      <td>1.3415</td>\n",
       "      <td>1.3815</td>\n",
       "    </tr>\n",
       "    <tr>\n",
       "      <th>43</th>\n",
       "      <td>vgt</td>\n",
       "      <td>Buy</td>\n",
       "      <td>2.8837</td>\n",
       "      <td>Buy</td>\n",
       "      <td>2.8321</td>\n",
       "      <td>Buy</td>\n",
       "      <td>3.1550</td>\n",
       "      <td>5.0500</td>\n",
       "    </tr>\n",
       "    <tr>\n",
       "      <th>44</th>\n",
       "      <td>xlk</td>\n",
       "      <td>Buy</td>\n",
       "      <td>4.8924</td>\n",
       "      <td>Buy</td>\n",
       "      <td>5.3046</td>\n",
       "      <td>Buy</td>\n",
       "      <td>4.7061</td>\n",
       "      <td>5.7565</td>\n",
       "    </tr>\n",
       "  </tbody>\n",
       "</table>\n",
       "</div>"
      ],
      "text/plain": [
       "   stock    1_Day_Pred  1_Day_Model_Return    3_Day_Pred  3_Day_Model_Return  \\\n",
       "0      a           Buy              3.2553           Buy              4.2519   \n",
       "1   aapl           Buy              2.8280           Buy              4.1037   \n",
       "2    acy  Hold or Sell              0.4612  Hold or Sell              0.4981   \n",
       "3   adbe           Buy              8.2276           Buy              6.9410   \n",
       "4    alb  Hold or Sell              2.2052  Hold or Sell              2.2674   \n",
       "5   amat           Buy              6.9912           Buy              9.3018   \n",
       "6    amd           Buy              6.6281           Buy              7.1533   \n",
       "7   amgn           Buy              4.8971           Buy              4.2680   \n",
       "8   amzn           Buy              3.5911           Buy              3.3919   \n",
       "9   baba           Buy              1.2363           Buy              1.2906   \n",
       "10   bac  Hold or Sell              6.9208  Hold or Sell              5.6398   \n",
       "11  bpmc           Buy              2.5364           Buy              1.7145   \n",
       "12   crm           Buy              1.9386           Buy              2.0258   \n",
       "13  crsp           Buy              1.2242           Buy              0.6937   \n",
       "14    dq           Buy              5.1417           Buy              5.7875   \n",
       "15  esgv           Buy              1.1211           Buy              1.1173   \n",
       "16  fslr           Buy              2.2664           Buy              1.4679   \n",
       "17  goog           Buy              2.4278           Buy              2.1134   \n",
       "18   ibm  Hold or Sell              2.5679  Hold or Sell              4.5665   \n",
       "19  intc           Buy              5.9611           Buy              6.0774   \n",
       "20   iyw           Buy              3.0197           Buy              4.1487   \n",
       "21   lng  Hold or Sell              1.2600  Hold or Sell              0.8404   \n",
       "22    ma  Hold or Sell              2.4934  Hold or Sell              3.1780   \n",
       "23   mdb           Buy              0.7276           Buy              0.9903   \n",
       "24  msft           Buy              9.3503           Buy             10.1504   \n",
       "25    mu           Buy              2.7113           Buy              2.4533   \n",
       "26   nee  Hold or Sell              4.6769  Hold or Sell              4.4897   \n",
       "27   nio           Buy              1.8803           Buy              1.6289   \n",
       "28  nvda           Buy             12.8022           Buy             11.3630   \n",
       "29  pacb  Hold or Sell              1.3137           Buy              3.4280   \n",
       "30  pypl           Buy              2.5800           Buy              1.9500   \n",
       "31  qgen           Buy              2.0159           Buy              2.0828   \n",
       "32   run           Buy              0.9117           Buy              0.8878   \n",
       "33  okta           Buy              1.0293           Buy              1.1192   \n",
       "34  orcl           Buy              3.2614           Buy              3.6179   \n",
       "35   qqq           Buy              3.0590           Buy              3.5119   \n",
       "36  srpt           Buy              1.6041           Buy              1.6500   \n",
       "37  tpic           Buy              0.8919           Buy              1.2742   \n",
       "38  tsla           Buy              3.4629           Buy              1.5309   \n",
       "39     v  Hold or Sell              2.6768  Hold or Sell              2.5817   \n",
       "40  vbiv           Buy              0.5950           Buy              1.5556   \n",
       "41   vbr  Hold or Sell              1.3237  Hold or Sell              1.3756   \n",
       "42  viov  Hold or Sell              1.3606  Hold or Sell              1.3591   \n",
       "43   vgt           Buy              2.8837           Buy              2.8321   \n",
       "44   xlk           Buy              4.8924           Buy              5.3046   \n",
       "\n",
       "      5_Day_Pred  5_Day_Model_Return  Actual_Returns  \n",
       "0            Buy              3.6589          6.4620  \n",
       "1            Buy              3.6756        307.9139  \n",
       "2            Buy              0.3464          1.5676  \n",
       "3            Buy              6.9970         69.6279  \n",
       "4   Hold or Sell              1.9208         12.7672  \n",
       "5            Buy             10.0145        194.5666  \n",
       "6            Buy              6.4306         14.7003  \n",
       "7            Buy              4.8312         24.2877  \n",
       "8            Buy              4.2895         99.4151  \n",
       "9            Buy              1.2521          1.9505  \n",
       "10  Hold or Sell              7.3547          7.1350  \n",
       "11           Buy              1.9175          2.0521  \n",
       "12           Buy              1.9403         14.3733  \n",
       "13           Buy              0.7887          5.6533  \n",
       "14           Buy              5.4821         50.5658  \n",
       "15           Buy              1.1154          0.4452  \n",
       "16           Buy              1.6150         -0.3522  \n",
       "17           Buy              3.4165         10.3740  \n",
       "18  Hold or Sell              4.4983          6.5951  \n",
       "19           Buy              5.3291         40.6083  \n",
       "20           Buy              3.1261          6.0582  \n",
       "21  Hold or Sell              0.9655         71.9064  \n",
       "22  Hold or Sell              2.6267         15.6681  \n",
       "23           Buy              0.7590          3.1950  \n",
       "24           Buy              8.3701         57.6780  \n",
       "25           Buy              2.7489         16.3421  \n",
       "26  Hold or Sell              3.8184         25.6226  \n",
       "27           Buy              1.6947          7.4672  \n",
       "28           Buy             13.2819        147.4316  \n",
       "29           Buy              1.6744         10.7941  \n",
       "30           Buy              2.6195          5.1113  \n",
       "31           Buy              2.5757          7.1988  \n",
       "32           Buy              0.8987          8.9463  \n",
       "33           Buy              0.8697          4.8254  \n",
       "34           Buy              4.3440         34.7292  \n",
       "35           Buy              3.1122          7.8018  \n",
       "36           Buy              1.6303          1.3554  \n",
       "37           Buy              0.8911          1.3237  \n",
       "38           Buy              2.1287         85.8287  \n",
       "39  Hold or Sell              2.9752         10.9040  \n",
       "40           Buy              1.2714         -0.8486  \n",
       "41  Hold or Sell              1.4740          1.5547  \n",
       "42  Hold or Sell              1.3415          1.3815  \n",
       "43           Buy              3.1550          5.0500  \n",
       "44           Buy              4.7061          5.7565  "
      ]
     },
     "execution_count": 29,
     "metadata": {},
     "output_type": "execute_result"
    }
   ],
   "source": [
    "summary_df = a.pred_summary_df(start_dates, stocks = [x for x in start_dates], days_back = 1)\n",
    "summary_df"
   ]
  },
  {
   "cell_type": "code",
   "execution_count": 30,
   "metadata": {},
   "outputs": [
    {
     "data": {
      "text/plain": [
       "(2.5679, 2.4533, 2.6267, 7.8018)"
      ]
     },
     "execution_count": 30,
     "metadata": {},
     "output_type": "execute_result"
    }
   ],
   "source": [
    "summary_df['1_Day_Model_Return'].median(), summary_df['3_Day_Model_Return'].median(), summary_df['5_Day_Model_Return'].median(), summary_df['Actual_Returns'].median()"
   ]
  },
  {
   "cell_type": "code",
   "execution_count": null,
   "metadata": {},
   "outputs": [],
   "source": []
  },
  {
   "cell_type": "code",
   "execution_count": null,
   "metadata": {},
   "outputs": [],
   "source": []
  },
  {
   "cell_type": "code",
   "execution_count": null,
   "metadata": {},
   "outputs": [],
   "source": []
  },
  {
   "cell_type": "code",
   "execution_count": null,
   "metadata": {},
   "outputs": [],
   "source": []
  }
 ],
 "metadata": {
  "kernelspec": {
   "display_name": "Python 3",
   "language": "python",
   "name": "python3"
  },
  "language_info": {
   "codemirror_mode": {
    "name": "ipython",
    "version": 3
   },
   "file_extension": ".py",
   "mimetype": "text/x-python",
   "name": "python",
   "nbconvert_exporter": "python",
   "pygments_lexer": "ipython3",
   "version": "3.8.5"
  }
 },
 "nbformat": 4,
 "nbformat_minor": 4
}
