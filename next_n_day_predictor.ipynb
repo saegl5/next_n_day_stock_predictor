{
 "cells": [
  {
   "cell_type": "code",
   "execution_count": 1,
   "metadata": {
    "scrolled": true
   },
   "outputs": [],
   "source": [
    "from src import attributes as a\n",
    "%load_ext autoreload\n",
    "%autoreload 2"
   ]
  },
  {
   "cell_type": "code",
   "execution_count": 2,
   "metadata": {},
   "outputs": [],
   "source": [
    "# Global Variables\n",
    "stock_name = 'msft' # ticker symbol\n",
    "train = 0 # 1 for train, 0 for pass\n",
    "days_ahead = 1 # for predicting 1, 3, or 5 days ahead\n",
    "days_back = -1 # -1 for current data point, -2 for two days ago, etc...\n",
    "cv = 5 # number of cross validation folds\n",
    "model_name = 'Random Forest Classifier' # for display on charts, not a tuning parameter"
   ]
  },
  {
   "cell_type": "code",
   "execution_count": 3,
   "metadata": {},
   "outputs": [],
   "source": [
    "# Extract, Transform, Load, and Train Test Split\n",
    "# Dictionary of IPO Dates\n",
    "start_dates = {'a': '11/15/1999' # Updated 1/17/21 1D, 3D, 5D ahead\n",
    "               , 'aapl':'12/12/1980' # Updated 1/17/21 1D, 3D, 5D ahead\n",
    "               , 'acy': '01/18/1998' # Updated 1/17/21 1D, 3D, 5D ahead\n",
    "               , 'adbe': '08/11/1986' # Updated 1/17/21 1D, 3D, 5D ahead\n",
    "               , 'alb': '02/21/1994' # Updated 1/17/21 1D, 3D, 5D ahead\n",
    "               , 'amat': '03/16/1980' # Updated 1/17/21 1D, 3D, 5D ahead\n",
    "               , 'amd': '03/17/1980' # Updated 1/17/21 1D, 3D, 5D ahead\n",
    "               , 'amzn': '05/12/1997' # Updated 1/17/21 1D, 3D, 5D ahead\n",
    "               , 'baba': '09/15/2014' # Updated 1/17/21 1D, 3D, 5D ahead\n",
    "               , 'bac': '02/19/1973' # Updated 1/17/21 1D, 3D, 5D ahead\n",
    "               , 'bpmc': '04/27/2015' # Updated 1/17/21 1D, 3D, 5D ahead\n",
    "               , 'crm': '06/23/2004' # Updated 1/17/21 1D, 3D, 5D ahead\n",
    "               , 'crsp': '10/16/2016' # Updated 1/17/21 1D, 3D, 5D ahead\n",
    "               , 'dq': '10/04/2010' # Updated 1/17/21 1D, 3D, 5D ahead\n",
    "               , 'esgv': '09/16/2018' # Updated 1/17/21 1D, 3D, 5D ahead\n",
    "               , 'fslr': '11/12/2006' # Updated 1/17/21 1D, 3D, 5D ahead\n",
    "               , 'goog': '08/16/2004' # Updated 1/17/21 1D, 3D, 5D ahead\n",
    "               , 'ibm': '01/02/1962' # Updated 1/17/21 1D, 3D, 5D ahead\n",
    "               , 'idex': '05/23/2007' # Updated 1/17/21 1D, 3D, 5D ahead\n",
    "               , 'intc': '03/16/1980' # Updated 1/17/21 1D, 3D, 5D ahead\n",
    "               , 'iyw': '05/15/2000' # Updated 1/17/21 1D, 3D, 5D ahead\n",
    "               , 'lng': '04/04/1994' # Updated 1/17/21 1D, 3D, 5D ahead\n",
    "               , 'ma': '05/21/2006' # Updated 1/17/21 1D, 3D, 5D ahead\n",
    "               , 'mdb': '10/15/2017' # Updated 1/17/21 1D, 3D, 5D ahead\n",
    "               , 'msft': '03/10/1986' # Updated 1/17/21 1D, 3D, 5D ahead\n",
    "               , 'mu': '05/28/1984' # Updated 1/17/21 1D, 3D, 5D ahead\n",
    "               , 'nee': '02/19/1973' # Updated 1/17/21 1D, 3D, 5D ahead\n",
    "               , 'nga': '10/08/2020' # Updated 1/17/21 1D, 3D, 5D ahead\n",
    "               , 'nio': '09/10/2018' # Updated 1/17/21 1D, 3D, 5D ahead\n",
    "               , 'nvda': '01/22/1999' # Updated 1/17/21 1D, 3D, 5D ahead\n",
    "               , 'pacb': '10/25/2010' # Updated 1/17/21 1D, 3D, 5D ahead\n",
    "               , 'pypl': '07/05/2015' # Updated 1/17/21 1D, 3D, 5D ahead\n",
    "               , 'qgen': '06/24/1996' # Updated 1/17/21 1D, 3D, 5D ahead\n",
    "               , 'run': '08/02/2015' # Updated 1/17/21 1D, 3D, 5D ahead\n",
    "               , 'orcl': '03/10/1986' # Updated 1/17/21 1D, 3D, 5D ahead\n",
    "               , 'qqq': '03/08/1999' # Updated 1/17/21 1D, 3D, 5D ahead\n",
    "               , 'srpt': '06/02/1997' # Updated 1/17/21 1D, 3D, 5D ahead\n",
    "               , 'tpic': '07/17/2016' # Updated 1/17/21 1D, 3D, 5D ahead\n",
    "               , 'tsla': '06/29/2010' # Updated 1/17/21 1D, 3D, 5D ahead\n",
    "               , 'v': '03/16/2008' # Updated 1/17/21 1D, 3D, 5D ahead\n",
    "               , 'vbiv': '09/04/2002' # Updated 1/17/21 1D, 3D, 5D ahead\n",
    "               , 'vbr': '01/26/2004' # Updated 1/17/21 1D, 3D, 5D ahead\n",
    "               , 'viov': '09/06/2010' # Updated 1/17/21 1D, 3D, 5D ahead\n",
    "               , 'vgt': '01/26/2004' # Updated 1/17/21 1D, 3D, 5D ahead\n",
    "               , 'xlk': '12/21/1998' # Updated 1/17/21 1D, 3D, 5D ahead\n",
    "              }"
   ]
  },
  {
   "cell_type": "code",
   "execution_count": null,
   "metadata": {},
   "outputs": [],
   "source": []
  },
  {
   "cell_type": "code",
   "execution_count": null,
   "metadata": {},
   "outputs": [],
   "source": []
  },
  {
   "cell_type": "code",
   "execution_count": null,
   "metadata": {},
   "outputs": [],
   "source": []
  },
  {
   "cell_type": "code",
   "execution_count": 4,
   "metadata": {},
   "outputs": [],
   "source": [
    "# X_train, X_test, y_train, y_test, stock_df = a.data(stock_name, start_dates[stock_name], days_ahead)\n",
    "# stock_df.tail(10)"
   ]
  },
  {
   "cell_type": "code",
   "execution_count": 5,
   "metadata": {
    "scrolled": false
   },
   "outputs": [],
   "source": [
    "# GridSerach to find best hyperparameters to prevent overfitting, can be commented out once trained\n",
    "# if train == 1:\n",
    "#     a.rfc_GridSearch(X_train, y_train, stock_name, days_ahead, cv)\n",
    "# elif train == 0:\n",
    "#     pass"
   ]
  },
  {
   "cell_type": "code",
   "execution_count": 6,
   "metadata": {},
   "outputs": [],
   "source": [
    "# Load RandomForextClassifier Model\n",
    "# rfc_model, y_pred, y_probs = a.rfc(X_train, X_test, y_train, stock_name, days_ahead)"
   ]
  },
  {
   "cell_type": "code",
   "execution_count": 7,
   "metadata": {
    "scrolled": false
   },
   "outputs": [],
   "source": [
    "# ROC Curve\n",
    "# a.roc_plot(y_test, y_probs, stock_name, model_name)"
   ]
  },
  {
   "cell_type": "code",
   "execution_count": 8,
   "metadata": {
    "scrolled": false
   },
   "outputs": [],
   "source": [
    "# Precision Recall Curve\n",
    "# a.prec_recall(y_test, y_probs, stock_name, model_name)"
   ]
  },
  {
   "cell_type": "code",
   "execution_count": 9,
   "metadata": {
    "scrolled": false
   },
   "outputs": [],
   "source": [
    "# Confusion Matrix\n",
    "# a.confusion_matrix(rfc_model, X_test, y_test, stock_name)"
   ]
  },
  {
   "cell_type": "code",
   "execution_count": 10,
   "metadata": {},
   "outputs": [],
   "source": [
    "# Cross Validation\n",
    "# a.cross_validation(rfc_model\n",
    "#                    , stock_df[['oc', 'hl', '5stdev_adj', '5sma_adj']]\n",
    "#                    , stock_df['direction']\n",
    "#                    , cv = 5\n",
    "#                   )"
   ]
  },
  {
   "cell_type": "markdown",
   "metadata": {},
   "source": [
    "### Prediction..."
   ]
  },
  {
   "cell_type": "code",
   "execution_count": 11,
   "metadata": {
    "scrolled": true
   },
   "outputs": [],
   "source": [
    "# Prediction, use last day of data\n",
    "# stock_df.iloc[-1]"
   ]
  },
  {
   "cell_type": "code",
   "execution_count": 12,
   "metadata": {},
   "outputs": [],
   "source": [
    "# import numpy as np\n",
    "# last = stock_df[['oc', 'hl', '5stdev_adj', '5sma_adj']].iloc[-days_back]\n",
    "# last"
   ]
  },
  {
   "cell_type": "code",
   "execution_count": 13,
   "metadata": {},
   "outputs": [],
   "source": [
    "# stock_df['adj'].describe()"
   ]
  },
  {
   "cell_type": "code",
   "execution_count": 14,
   "metadata": {
    "scrolled": true
   },
   "outputs": [],
   "source": [
    "# if rfc_model.predict(np.array(last).reshape(1, -1))[0] == 1:\n",
    "#     print(f'Buy {stock_name} {days_ahead} day(s) ahead')\n",
    "# else:\n",
    "#     print(f'Sell or hold {stock_name} {days_ahead} day(s) ahead')"
   ]
  },
  {
   "cell_type": "markdown",
   "metadata": {},
   "source": [
    "### Strategy Returns..."
   ]
  },
  {
   "cell_type": "code",
   "execution_count": 15,
   "metadata": {},
   "outputs": [],
   "source": [
    "# returns on strategy column\n",
    "# stock_df['prediction'] = rfc_model.predict(stock_df[['oc', 'hl', '5stdev_adj', '5sma_adj']])\n",
    "# stock_df['returns'] = stock_df['adj'].shift(-1, fill_value = stock_df['adj'].median()) * stock_df['prediction']"
   ]
  },
  {
   "cell_type": "code",
   "execution_count": 16,
   "metadata": {},
   "outputs": [],
   "source": [
    "# stock_df.tail(5)"
   ]
  },
  {
   "cell_type": "code",
   "execution_count": 17,
   "metadata": {},
   "outputs": [],
   "source": [
    "# Don't trade every day!\n",
    "# import matplotlib.pyplot as plt\n",
    "# test_length = len(y_test)\n",
    "# (stock_df['returns'][-test_length:] + 1).cumprod().plot()\n",
    "# plt.title(f'{stock_name} Expected Returns %');"
   ]
  },
  {
   "cell_type": "code",
   "execution_count": 18,
   "metadata": {},
   "outputs": [],
   "source": [
    "# Model returns if bought on predictions of 1\n",
    "# returns_on_ones = []\n",
    "# for idx in range(-test_length, 0):\n",
    "#     if stock_df['prediction'][idx] == 1:\n",
    "#         returns_on_ones.append(1 + stock_df['returns'][idx])\n",
    "\n",
    "# returns = 1\n",
    "# for x in returns_on_ones:\n",
    "#     returns *= x\n",
    "# returns"
   ]
  },
  {
   "cell_type": "code",
   "execution_count": 19,
   "metadata": {},
   "outputs": [],
   "source": [
    "# multiple times original investment, not bad but..."
   ]
  },
  {
   "cell_type": "code",
   "execution_count": 20,
   "metadata": {},
   "outputs": [],
   "source": [
    "# If purchased in 2012 and left it until now\n",
    "# test_idx = int(len(stock_df)*0.75)\n",
    "# (stock_df['Close'][-1] - stock_df['Close'][-test_idx]) / stock_df['Close'][-test_idx]"
   ]
  },
  {
   "cell_type": "code",
   "execution_count": 21,
   "metadata": {},
   "outputs": [],
   "source": [
    "# Buy and hold strategy beats RandomForestClassifier in this study\n",
    "\n",
    "# Special thanks to Shagufta Tahsildar at https://blog.quantinsti.com/random-forest-algorithm-in-python/"
   ]
  },
  {
   "cell_type": "code",
   "execution_count": null,
   "metadata": {},
   "outputs": [],
   "source": []
  },
  {
   "cell_type": "code",
   "execution_count": null,
   "metadata": {},
   "outputs": [],
   "source": []
  },
  {
   "cell_type": "code",
   "execution_count": null,
   "metadata": {},
   "outputs": [],
   "source": []
  },
  {
   "cell_type": "markdown",
   "metadata": {},
   "source": [
    "### Training"
   ]
  },
  {
   "cell_type": "markdown",
   "metadata": {},
   "source": [
    "Training is done once a week on Saturday and Sunday"
   ]
  },
  {
   "cell_type": "code",
   "execution_count": 22,
   "metadata": {},
   "outputs": [
    {
     "data": {
      "text/plain": [
       "45"
      ]
     },
     "execution_count": 22,
     "metadata": {},
     "output_type": "execute_result"
    }
   ],
   "source": [
    "len(start_dates)"
   ]
  },
  {
   "cell_type": "code",
   "execution_count": 23,
   "metadata": {},
   "outputs": [
    {
     "data": {
      "text/plain": [
       "{'a': '11/15/1999',\n",
       " 'aapl': '12/12/1980',\n",
       " 'acy': '01/18/1998',\n",
       " 'adbe': '08/11/1986',\n",
       " 'alb': '02/21/1994',\n",
       " 'amat': '03/16/1980',\n",
       " 'amd': '03/17/1980',\n",
       " 'amzn': '05/12/1997',\n",
       " 'baba': '09/15/2014',\n",
       " 'bac': '02/19/1973',\n",
       " 'bpmc': '04/27/2015',\n",
       " 'crm': '06/23/2004',\n",
       " 'crsp': '10/16/2016',\n",
       " 'dq': '10/04/2010',\n",
       " 'esgv': '09/16/2018'}"
      ]
     },
     "execution_count": 23,
     "metadata": {},
     "output_type": "execute_result"
    }
   ],
   "source": [
    "import itertools as itr\n",
    "start_dates1 = dict(itr.islice(start_dates.items(), 0, 15))\n",
    "start_dates1"
   ]
  },
  {
   "cell_type": "code",
   "execution_count": 24,
   "metadata": {},
   "outputs": [
    {
     "data": {
      "text/plain": [
       "{'fslr': '11/12/2006',\n",
       " 'goog': '08/16/2004',\n",
       " 'ibm': '01/02/1962',\n",
       " 'idex': '05/23/2007',\n",
       " 'intc': '03/16/1980',\n",
       " 'iyw': '05/15/2000',\n",
       " 'lng': '04/04/1994',\n",
       " 'ma': '05/21/2006',\n",
       " 'mdb': '10/15/2017',\n",
       " 'msft': '03/10/1986',\n",
       " 'mu': '05/28/1984',\n",
       " 'nee': '02/19/1973',\n",
       " 'nga': '10/08/2020',\n",
       " 'nio': '09/10/2018',\n",
       " 'nvda': '01/22/1999'}"
      ]
     },
     "execution_count": 24,
     "metadata": {},
     "output_type": "execute_result"
    }
   ],
   "source": [
    "start_dates2 = dict(itr.islice(start_dates.items(), 15, 30))\n",
    "start_dates2"
   ]
  },
  {
   "cell_type": "code",
   "execution_count": 25,
   "metadata": {},
   "outputs": [
    {
     "data": {
      "text/plain": [
       "{'pacb': '10/25/2010',\n",
       " 'pypl': '07/05/2015',\n",
       " 'qgen': '06/24/1996',\n",
       " 'run': '08/02/2015',\n",
       " 'orcl': '03/10/1986',\n",
       " 'qqq': '03/08/1999',\n",
       " 'srpt': '06/02/1997',\n",
       " 'tpic': '07/17/2016',\n",
       " 'tsla': '06/29/2010',\n",
       " 'v': '03/16/2008',\n",
       " 'vbiv': '09/04/2002',\n",
       " 'vbr': '01/26/2004',\n",
       " 'viov': '09/06/2010',\n",
       " 'vgt': '01/26/2004',\n",
       " 'xlk': '12/21/1998'}"
      ]
     },
     "execution_count": 25,
     "metadata": {},
     "output_type": "execute_result"
    }
   ],
   "source": [
    "start_dates3 = dict(itr.islice(start_dates.items(), 30, 45+1))\n",
    "start_dates3"
   ]
  },
  {
   "cell_type": "code",
   "execution_count": 26,
   "metadata": {},
   "outputs": [],
   "source": [
    "#Train 15 at a time!\n",
    "# stocks = [x for x in start_dates1]\n",
    "# days_ahead = [1, 3, 5]\n",
    "# cv = 5\n",
    "# for stock in stocks:\n",
    "#     for days in days_ahead:\n",
    "#         X_train, X_test, y_train, y_test, stock_df = a.data(stock, start_dates[stock], days)\n",
    "#         a.rfc_GridSearch(X_train, y_train, stock, days, cv)\n",
    "# len(stocks)\n",
    "\n",
    "# stocks = [x for x in start_dates2]\n",
    "# days_ahead = [1, 3, 5]\n",
    "# cv = 5\n",
    "# for stock in stocks:\n",
    "#     for days in days_ahead:\n",
    "#         X_train, X_test, y_train, y_test, stock_df = a.data(stock, start_dates[stock], days)\n",
    "#         a.rfc_GridSearch(X_train, y_train, stock, days, cv)\n",
    "# len(stocks)\n",
    "\n",
    "# stocks = [x for x in start_dates3]\n",
    "# days_ahead = [1, 3, 5]\n",
    "# cv = 5\n",
    "# for stock in stocks:\n",
    "#     for days in days_ahead:\n",
    "#         X_train, X_test, y_train, y_test, stock_df = a.data(stock, start_dates[stock], days)\n",
    "#         a.rfc_GridSearch(X_train, y_train, stock, days, cv)\n",
    "# len(stocks)\n",
    "\n",
    "# Train all, takes 15+ hours\n",
    "# stocks = [x for x in start_dates]\n",
    "# days_ahead = [1, 3, 5]\n",
    "# cv = 5\n",
    "# for stock in stocks:\n",
    "#     for days in days_ahead:\n",
    "#         X_train, X_test, y_train, y_test, stock_df = a.data(stock, start_dates[stock], days)\n",
    "#         a.rfc_GridSearch(X_train, y_train, stock, days, cv)\n",
    "# len(stocks)\n",
    "\n",
    "# Train desired stocks...takes less time\n",
    "# stocks = ['nga']\n",
    "# days_ahead = [1, 3, 5]\n",
    "# cv = 5\n",
    "# for stock in stocks:\n",
    "#     for days in days_ahead:\n",
    "#         X_train, X_test, y_train, y_test, stock_df = a.data(stock, start_dates[stock], days)\n",
    "#         a.rfc_GridSearch(X_train, y_train, stock, days, cv)"
   ]
  },
  {
   "cell_type": "code",
   "execution_count": null,
   "metadata": {},
   "outputs": [],
   "source": []
  },
  {
   "cell_type": "code",
   "execution_count": null,
   "metadata": {},
   "outputs": [],
   "source": []
  },
  {
   "cell_type": "code",
   "execution_count": null,
   "metadata": {},
   "outputs": [],
   "source": []
  },
  {
   "cell_type": "markdown",
   "metadata": {},
   "source": [
    "### Display All Results"
   ]
  },
  {
   "cell_type": "code",
   "execution_count": 47,
   "metadata": {
    "scrolled": false
   },
   "outputs": [
    {
     "name": "stdout",
     "output_type": "stream",
     "text": [
      "Buy crsp 1 day(s) ahead\n",
      "Model Returns (x 100 for %): 1.182\n",
      "Stock Returns (x 100 for %): 7.708\n"
     ]
    },
    {
     "data": {
      "image/png": "[encoded data removed]",
      "text/plain": [
       "<Figure size 684x612 with 1 Axes>"
      ]
     },
     "metadata": {},
     "output_type": "display_data"
    },
    {
     "data": {
      "image/png": "[encoded data removed]",
      "text/plain": [
       "<Figure size 648x504 with 1 Axes>"
      ]
     },
     "metadata": {},
     "output_type": "display_data"
    },
    {
     "data": {
      "image/png": "[encoded data removed]",
      "text/plain": [
       "<Figure size 648x504 with 1 Axes>"
      ]
     },
     "metadata": {},
     "output_type": "display_data"
    },
    {
     "data": {
      "image/png": "[encoded data removed]",
      "text/plain": [
       "<Figure size 684x612 with 2 Axes>"
      ]
     },
     "metadata": {},
     "output_type": "display_data"
    }
   ],
   "source": [
    "stock_name = 'crsp'\n",
    "a.all_func(stock_name\n",
    "           , start_dates[stock_name]\n",
    "           , days_ahead = 1\n",
    "           , model_name = model_name\n",
    "           , days_back = 1\n",
    "          )"
   ]
  },
  {
   "cell_type": "code",
   "execution_count": null,
   "metadata": {},
   "outputs": [],
   "source": []
  },
  {
   "cell_type": "code",
   "execution_count": null,
   "metadata": {},
   "outputs": [],
   "source": []
  },
  {
   "cell_type": "code",
   "execution_count": null,
   "metadata": {},
   "outputs": [],
   "source": []
  },
  {
   "cell_type": "markdown",
   "metadata": {},
   "source": [
    "### Data Frame of Predictions 1 3 5 Days"
   ]
  },
  {
   "cell_type": "code",
   "execution_count": 28,
   "metadata": {},
   "outputs": [
    {
     "name": "stdout",
     "output_type": "stream",
     "text": [
      "Today's date: 2021-02-01\n"
     ]
    }
   ],
   "source": [
    "from datetime import date\n",
    "\n",
    "today = date.today()\n",
    "print(\"Today's date:\", today)"
   ]
  },
  {
   "cell_type": "code",
   "execution_count": 29,
   "metadata": {
    "scrolled": false
   },
   "outputs": [
    {
     "data": {
      "text/html": [
       "<div>\n",
       "<style scoped>\n",
       "    .dataframe tbody tr th:only-of-type {\n",
       "        vertical-align: middle;\n",
       "    }\n",
       "\n",
       "    .dataframe tbody tr th {\n",
       "        vertical-align: top;\n",
       "    }\n",
       "\n",
       "    .dataframe thead th {\n",
       "        text-align: right;\n",
       "    }\n",
       "</style>\n",
       "<table border=\"1\" class=\"dataframe\">\n",
       "  <thead>\n",
       "    <tr style=\"text-align: right;\">\n",
       "      <th></th>\n",
       "      <th>stock</th>\n",
       "      <th>1_Day_Pred</th>\n",
       "      <th>1_Day_Model_Return</th>\n",
       "      <th>3_Day_Pred</th>\n",
       "      <th>3_Day_Model_Return</th>\n",
       "      <th>5_Day_Pred</th>\n",
       "      <th>5_Day_Model_Return</th>\n",
       "      <th>Actual_Returns</th>\n",
       "    </tr>\n",
       "  </thead>\n",
       "  <tbody>\n",
       "    <tr>\n",
       "      <th>0</th>\n",
       "      <td>a</td>\n",
       "      <td>Hold or Sell</td>\n",
       "      <td>3.9992</td>\n",
       "      <td>Hold or Sell</td>\n",
       "      <td>3.9689</td>\n",
       "      <td>Buy</td>\n",
       "      <td>4.3038</td>\n",
       "      <td>6.5730</td>\n",
       "    </tr>\n",
       "    <tr>\n",
       "      <th>1</th>\n",
       "      <td>aapl</td>\n",
       "      <td>Hold or Sell</td>\n",
       "      <td>3.1417</td>\n",
       "      <td>Hold or Sell</td>\n",
       "      <td>3.6116</td>\n",
       "      <td>Hold or Sell</td>\n",
       "      <td>4.1928</td>\n",
       "      <td>333.5313</td>\n",
       "    </tr>\n",
       "    <tr>\n",
       "      <th>2</th>\n",
       "      <td>acy</td>\n",
       "      <td>Buy</td>\n",
       "      <td>0.3513</td>\n",
       "      <td>Buy</td>\n",
       "      <td>0.5382</td>\n",
       "      <td>Buy</td>\n",
       "      <td>0.3928</td>\n",
       "      <td>2.1343</td>\n",
       "    </tr>\n",
       "    <tr>\n",
       "      <th>3</th>\n",
       "      <td>adbe</td>\n",
       "      <td>Hold or Sell</td>\n",
       "      <td>8.4074</td>\n",
       "      <td>Hold or Sell</td>\n",
       "      <td>6.9073</td>\n",
       "      <td>Hold or Sell</td>\n",
       "      <td>8.0081</td>\n",
       "      <td>99.6016</td>\n",
       "    </tr>\n",
       "    <tr>\n",
       "      <th>4</th>\n",
       "      <td>alb</td>\n",
       "      <td>Hold or Sell</td>\n",
       "      <td>1.8645</td>\n",
       "      <td>Buy</td>\n",
       "      <td>2.8190</td>\n",
       "      <td>Hold or Sell</td>\n",
       "      <td>2.0762</td>\n",
       "      <td>14.2938</td>\n",
       "    </tr>\n",
       "    <tr>\n",
       "      <th>5</th>\n",
       "      <td>amat</td>\n",
       "      <td>Hold or Sell</td>\n",
       "      <td>6.0581</td>\n",
       "      <td>Hold or Sell</td>\n",
       "      <td>9.0287</td>\n",
       "      <td>Hold or Sell</td>\n",
       "      <td>9.2891</td>\n",
       "      <td>175.9360</td>\n",
       "    </tr>\n",
       "    <tr>\n",
       "      <th>6</th>\n",
       "      <td>amd</td>\n",
       "      <td>Hold or Sell</td>\n",
       "      <td>8.3379</td>\n",
       "      <td>Buy</td>\n",
       "      <td>4.9564</td>\n",
       "      <td>Buy</td>\n",
       "      <td>8.0958</td>\n",
       "      <td>15.5838</td>\n",
       "    </tr>\n",
       "    <tr>\n",
       "      <th>7</th>\n",
       "      <td>amzn</td>\n",
       "      <td>Hold or Sell</td>\n",
       "      <td>4.0859</td>\n",
       "      <td>Hold or Sell</td>\n",
       "      <td>3.4167</td>\n",
       "      <td>Hold or Sell</td>\n",
       "      <td>4.7957</td>\n",
       "      <td>114.0602</td>\n",
       "    </tr>\n",
       "    <tr>\n",
       "      <th>8</th>\n",
       "      <td>baba</td>\n",
       "      <td>Hold or Sell</td>\n",
       "      <td>1.3369</td>\n",
       "      <td>Hold or Sell</td>\n",
       "      <td>1.3207</td>\n",
       "      <td>Hold or Sell</td>\n",
       "      <td>1.2224</td>\n",
       "      <td>2.4161</td>\n",
       "    </tr>\n",
       "    <tr>\n",
       "      <th>9</th>\n",
       "      <td>bac</td>\n",
       "      <td>Buy</td>\n",
       "      <td>2.4361</td>\n",
       "      <td>Buy</td>\n",
       "      <td>3.1349</td>\n",
       "      <td>Buy</td>\n",
       "      <td>3.4258</td>\n",
       "      <td>5.6270</td>\n",
       "    </tr>\n",
       "    <tr>\n",
       "      <th>10</th>\n",
       "      <td>bpmc</td>\n",
       "      <td>Buy</td>\n",
       "      <td>2.0584</td>\n",
       "      <td>Hold or Sell</td>\n",
       "      <td>1.5492</td>\n",
       "      <td>Buy</td>\n",
       "      <td>1.5813</td>\n",
       "      <td>2.4768</td>\n",
       "    </tr>\n",
       "    <tr>\n",
       "      <th>11</th>\n",
       "      <td>crm</td>\n",
       "      <td>Hold or Sell</td>\n",
       "      <td>2.2802</td>\n",
       "      <td>Hold or Sell</td>\n",
       "      <td>2.3803</td>\n",
       "      <td>Hold or Sell</td>\n",
       "      <td>2.1789</td>\n",
       "      <td>15.3659</td>\n",
       "    </tr>\n",
       "    <tr>\n",
       "      <th>12</th>\n",
       "      <td>crsp</td>\n",
       "      <td>Buy</td>\n",
       "      <td>1.1835</td>\n",
       "      <td>Buy</td>\n",
       "      <td>0.9140</td>\n",
       "      <td>Buy</td>\n",
       "      <td>0.8306</td>\n",
       "      <td>7.7190</td>\n",
       "    </tr>\n",
       "    <tr>\n",
       "      <th>13</th>\n",
       "      <td>dq</td>\n",
       "      <td>Hold or Sell</td>\n",
       "      <td>6.8142</td>\n",
       "      <td>Hold or Sell</td>\n",
       "      <td>8.7950</td>\n",
       "      <td>Hold or Sell</td>\n",
       "      <td>7.3908</td>\n",
       "      <td>92.1420</td>\n",
       "    </tr>\n",
       "    <tr>\n",
       "      <th>14</th>\n",
       "      <td>esgv</td>\n",
       "      <td>Hold or Sell</td>\n",
       "      <td>1.1453</td>\n",
       "      <td>Hold or Sell</td>\n",
       "      <td>1.1119</td>\n",
       "      <td>Hold or Sell</td>\n",
       "      <td>1.1357</td>\n",
       "      <td>0.4019</td>\n",
       "    </tr>\n",
       "    <tr>\n",
       "      <th>15</th>\n",
       "      <td>fslr</td>\n",
       "      <td>Buy</td>\n",
       "      <td>2.2242</td>\n",
       "      <td>Buy</td>\n",
       "      <td>2.4214</td>\n",
       "      <td>Buy</td>\n",
       "      <td>2.0591</td>\n",
       "      <td>-0.1744</td>\n",
       "    </tr>\n",
       "    <tr>\n",
       "      <th>16</th>\n",
       "      <td>goog</td>\n",
       "      <td>Hold or Sell</td>\n",
       "      <td>2.5515</td>\n",
       "      <td>Hold or Sell</td>\n",
       "      <td>2.2697</td>\n",
       "      <td>Hold or Sell</td>\n",
       "      <td>3.0567</td>\n",
       "      <td>9.2954</td>\n",
       "    </tr>\n",
       "    <tr>\n",
       "      <th>17</th>\n",
       "      <td>ibm</td>\n",
       "      <td>Hold or Sell</td>\n",
       "      <td>2.3751</td>\n",
       "      <td>Hold or Sell</td>\n",
       "      <td>4.0413</td>\n",
       "      <td>Hold or Sell</td>\n",
       "      <td>3.5680</td>\n",
       "      <td>6.3692</td>\n",
       "    </tr>\n",
       "    <tr>\n",
       "      <th>18</th>\n",
       "      <td>idex</td>\n",
       "      <td>Hold or Sell</td>\n",
       "      <td>0.1474</td>\n",
       "      <td>Hold or Sell</td>\n",
       "      <td>0.2116</td>\n",
       "      <td>Hold or Sell</td>\n",
       "      <td>0.1233</td>\n",
       "      <td>0.1418</td>\n",
       "    </tr>\n",
       "    <tr>\n",
       "      <th>19</th>\n",
       "      <td>intc</td>\n",
       "      <td>Hold or Sell</td>\n",
       "      <td>5.6657</td>\n",
       "      <td>Hold or Sell</td>\n",
       "      <td>5.7569</td>\n",
       "      <td>Hold or Sell</td>\n",
       "      <td>4.3613</td>\n",
       "      <td>37.4505</td>\n",
       "    </tr>\n",
       "    <tr>\n",
       "      <th>20</th>\n",
       "      <td>iyw</td>\n",
       "      <td>Hold or Sell</td>\n",
       "      <td>3.2432</td>\n",
       "      <td>Hold or Sell</td>\n",
       "      <td>3.7229</td>\n",
       "      <td>Hold or Sell</td>\n",
       "      <td>2.9865</td>\n",
       "      <td>6.1747</td>\n",
       "    </tr>\n",
       "    <tr>\n",
       "      <th>21</th>\n",
       "      <td>lng</td>\n",
       "      <td>Hold or Sell</td>\n",
       "      <td>1.4063</td>\n",
       "      <td>Hold or Sell</td>\n",
       "      <td>0.8262</td>\n",
       "      <td>Hold or Sell</td>\n",
       "      <td>0.9071</td>\n",
       "      <td>45.0719</td>\n",
       "    </tr>\n",
       "    <tr>\n",
       "      <th>22</th>\n",
       "      <td>ma</td>\n",
       "      <td>Hold or Sell</td>\n",
       "      <td>2.2929</td>\n",
       "      <td>Buy</td>\n",
       "      <td>2.9029</td>\n",
       "      <td>Hold or Sell</td>\n",
       "      <td>2.2319</td>\n",
       "      <td>11.7362</td>\n",
       "    </tr>\n",
       "    <tr>\n",
       "      <th>23</th>\n",
       "      <td>mdb</td>\n",
       "      <td>Hold or Sell</td>\n",
       "      <td>0.8549</td>\n",
       "      <td>Hold or Sell</td>\n",
       "      <td>1.0107</td>\n",
       "      <td>Hold or Sell</td>\n",
       "      <td>0.9810</td>\n",
       "      <td>4.6745</td>\n",
       "    </tr>\n",
       "    <tr>\n",
       "      <th>24</th>\n",
       "      <td>msft</td>\n",
       "      <td>Hold or Sell</td>\n",
       "      <td>7.5629</td>\n",
       "      <td>Hold or Sell</td>\n",
       "      <td>9.4828</td>\n",
       "      <td>Hold or Sell</td>\n",
       "      <td>8.7775</td>\n",
       "      <td>59.7937</td>\n",
       "    </tr>\n",
       "    <tr>\n",
       "      <th>25</th>\n",
       "      <td>mu</td>\n",
       "      <td>Hold or Sell</td>\n",
       "      <td>3.1861</td>\n",
       "      <td>Hold or Sell</td>\n",
       "      <td>3.5957</td>\n",
       "      <td>Hold or Sell</td>\n",
       "      <td>3.6695</td>\n",
       "      <td>17.0190</td>\n",
       "    </tr>\n",
       "    <tr>\n",
       "      <th>26</th>\n",
       "      <td>nee</td>\n",
       "      <td>Buy</td>\n",
       "      <td>4.6352</td>\n",
       "      <td>Buy</td>\n",
       "      <td>4.9135</td>\n",
       "      <td>Buy</td>\n",
       "      <td>5.2341</td>\n",
       "      <td>28.4184</td>\n",
       "    </tr>\n",
       "    <tr>\n",
       "      <th>27</th>\n",
       "      <td>nga</td>\n",
       "      <td>Buy</td>\n",
       "      <td>0.9702</td>\n",
       "      <td>Hold or Sell</td>\n",
       "      <td>1.0415</td>\n",
       "      <td>Hold or Sell</td>\n",
       "      <td>0.9089</td>\n",
       "      <td>1.6563</td>\n",
       "    </tr>\n",
       "    <tr>\n",
       "      <th>28</th>\n",
       "      <td>nio</td>\n",
       "      <td>Buy</td>\n",
       "      <td>1.9376</td>\n",
       "      <td>Buy</td>\n",
       "      <td>1.6535</td>\n",
       "      <td>Buy</td>\n",
       "      <td>2.4517</td>\n",
       "      <td>10.5755</td>\n",
       "    </tr>\n",
       "    <tr>\n",
       "      <th>29</th>\n",
       "      <td>nvda</td>\n",
       "      <td>Hold or Sell</td>\n",
       "      <td>11.2763</td>\n",
       "      <td>Hold or Sell</td>\n",
       "      <td>9.8385</td>\n",
       "      <td>Hold or Sell</td>\n",
       "      <td>12.9069</td>\n",
       "      <td>104.9810</td>\n",
       "    </tr>\n",
       "    <tr>\n",
       "      <th>30</th>\n",
       "      <td>pacb</td>\n",
       "      <td>Hold or Sell</td>\n",
       "      <td>2.0591</td>\n",
       "      <td>Hold or Sell</td>\n",
       "      <td>2.0643</td>\n",
       "      <td>Hold or Sell</td>\n",
       "      <td>1.8513</td>\n",
       "      <td>11.7546</td>\n",
       "    </tr>\n",
       "    <tr>\n",
       "      <th>31</th>\n",
       "      <td>pypl</td>\n",
       "      <td>Hold or Sell</td>\n",
       "      <td>2.0830</td>\n",
       "      <td>Hold or Sell</td>\n",
       "      <td>2.4925</td>\n",
       "      <td>Hold or Sell</td>\n",
       "      <td>2.6363</td>\n",
       "      <td>5.0807</td>\n",
       "    </tr>\n",
       "    <tr>\n",
       "      <th>32</th>\n",
       "      <td>qgen</td>\n",
       "      <td>Hold or Sell</td>\n",
       "      <td>2.0905</td>\n",
       "      <td>Hold or Sell</td>\n",
       "      <td>1.8862</td>\n",
       "      <td>Hold or Sell</td>\n",
       "      <td>2.3802</td>\n",
       "      <td>7.5881</td>\n",
       "    </tr>\n",
       "    <tr>\n",
       "      <th>33</th>\n",
       "      <td>run</td>\n",
       "      <td>Buy</td>\n",
       "      <td>1.2345</td>\n",
       "      <td>Buy</td>\n",
       "      <td>0.9569</td>\n",
       "      <td>Buy</td>\n",
       "      <td>0.8626</td>\n",
       "      <td>11.7721</td>\n",
       "    </tr>\n",
       "    <tr>\n",
       "      <th>34</th>\n",
       "      <td>orcl</td>\n",
       "      <td>Hold or Sell</td>\n",
       "      <td>3.1146</td>\n",
       "      <td>Hold or Sell</td>\n",
       "      <td>3.3029</td>\n",
       "      <td>Hold or Sell</td>\n",
       "      <td>3.2495</td>\n",
       "      <td>29.6358</td>\n",
       "    </tr>\n",
       "    <tr>\n",
       "      <th>35</th>\n",
       "      <td>qqq</td>\n",
       "      <td>Hold or Sell</td>\n",
       "      <td>2.6330</td>\n",
       "      <td>Hold or Sell</td>\n",
       "      <td>3.5243</td>\n",
       "      <td>Hold or Sell</td>\n",
       "      <td>2.5335</td>\n",
       "      <td>8.4137</td>\n",
       "    </tr>\n",
       "    <tr>\n",
       "      <th>36</th>\n",
       "      <td>srpt</td>\n",
       "      <td>Buy</td>\n",
       "      <td>1.3011</td>\n",
       "      <td>Buy</td>\n",
       "      <td>2.3483</td>\n",
       "      <td>Buy</td>\n",
       "      <td>2.2745</td>\n",
       "      <td>1.4498</td>\n",
       "    </tr>\n",
       "    <tr>\n",
       "      <th>37</th>\n",
       "      <td>tpic</td>\n",
       "      <td>Hold or Sell</td>\n",
       "      <td>1.2275</td>\n",
       "      <td>Hold or Sell</td>\n",
       "      <td>1.5968</td>\n",
       "      <td>Hold or Sell</td>\n",
       "      <td>1.4768</td>\n",
       "      <td>2.0952</td>\n",
       "    </tr>\n",
       "    <tr>\n",
       "      <th>38</th>\n",
       "      <td>tsla</td>\n",
       "      <td>Hold or Sell</td>\n",
       "      <td>3.5083</td>\n",
       "      <td>Hold or Sell</td>\n",
       "      <td>1.8273</td>\n",
       "      <td>Hold or Sell</td>\n",
       "      <td>2.8418</td>\n",
       "      <td>118.7746</td>\n",
       "    </tr>\n",
       "    <tr>\n",
       "      <th>39</th>\n",
       "      <td>v</td>\n",
       "      <td>Hold or Sell</td>\n",
       "      <td>2.8371</td>\n",
       "      <td>Hold or Sell</td>\n",
       "      <td>2.4679</td>\n",
       "      <td>Hold or Sell</td>\n",
       "      <td>2.6466</td>\n",
       "      <td>9.6526</td>\n",
       "    </tr>\n",
       "    <tr>\n",
       "      <th>40</th>\n",
       "      <td>vbiv</td>\n",
       "      <td>Hold or Sell</td>\n",
       "      <td>1.8324</td>\n",
       "      <td>Hold or Sell</td>\n",
       "      <td>1.9556</td>\n",
       "      <td>Hold or Sell</td>\n",
       "      <td>1.3222</td>\n",
       "      <td>-0.8010</td>\n",
       "    </tr>\n",
       "    <tr>\n",
       "      <th>41</th>\n",
       "      <td>vbr</td>\n",
       "      <td>Hold or Sell</td>\n",
       "      <td>1.3251</td>\n",
       "      <td>Hold or Sell</td>\n",
       "      <td>1.1332</td>\n",
       "      <td>Hold or Sell</td>\n",
       "      <td>1.4277</td>\n",
       "      <td>1.3264</td>\n",
       "    </tr>\n",
       "    <tr>\n",
       "      <th>42</th>\n",
       "      <td>viov</td>\n",
       "      <td>Hold or Sell</td>\n",
       "      <td>1.2599</td>\n",
       "      <td>Hold or Sell</td>\n",
       "      <td>1.0204</td>\n",
       "      <td>Buy</td>\n",
       "      <td>1.0799</td>\n",
       "      <td>1.0029</td>\n",
       "    </tr>\n",
       "    <tr>\n",
       "      <th>43</th>\n",
       "      <td>vgt</td>\n",
       "      <td>Hold or Sell</td>\n",
       "      <td>2.9828</td>\n",
       "      <td>Hold or Sell</td>\n",
       "      <td>3.6767</td>\n",
       "      <td>Hold or Sell</td>\n",
       "      <td>3.1856</td>\n",
       "      <td>5.4831</td>\n",
       "    </tr>\n",
       "    <tr>\n",
       "      <th>44</th>\n",
       "      <td>xlk</td>\n",
       "      <td>Hold or Sell</td>\n",
       "      <td>3.6570</td>\n",
       "      <td>Hold or Sell</td>\n",
       "      <td>5.1181</td>\n",
       "      <td>Hold or Sell</td>\n",
       "      <td>4.0446</td>\n",
       "      <td>5.9036</td>\n",
       "    </tr>\n",
       "  </tbody>\n",
       "</table>\n",
       "</div>"
      ],
      "text/plain": [
       "   stock    1_Day_Pred  1_Day_Model_Return    3_Day_Pred  3_Day_Model_Return  \\\n",
       "0      a  Hold or Sell              3.9992  Hold or Sell              3.9689   \n",
       "1   aapl  Hold or Sell              3.1417  Hold or Sell              3.6116   \n",
       "2    acy           Buy              0.3513           Buy              0.5382   \n",
       "3   adbe  Hold or Sell              8.4074  Hold or Sell              6.9073   \n",
       "4    alb  Hold or Sell              1.8645           Buy              2.8190   \n",
       "5   amat  Hold or Sell              6.0581  Hold or Sell              9.0287   \n",
       "6    amd  Hold or Sell              8.3379           Buy              4.9564   \n",
       "7   amzn  Hold or Sell              4.0859  Hold or Sell              3.4167   \n",
       "8   baba  Hold or Sell              1.3369  Hold or Sell              1.3207   \n",
       "9    bac           Buy              2.4361           Buy              3.1349   \n",
       "10  bpmc           Buy              2.0584  Hold or Sell              1.5492   \n",
       "11   crm  Hold or Sell              2.2802  Hold or Sell              2.3803   \n",
       "12  crsp           Buy              1.1835           Buy              0.9140   \n",
       "13    dq  Hold or Sell              6.8142  Hold or Sell              8.7950   \n",
       "14  esgv  Hold or Sell              1.1453  Hold or Sell              1.1119   \n",
       "15  fslr           Buy              2.2242           Buy              2.4214   \n",
       "16  goog  Hold or Sell              2.5515  Hold or Sell              2.2697   \n",
       "17   ibm  Hold or Sell              2.3751  Hold or Sell              4.0413   \n",
       "18  idex  Hold or Sell              0.1474  Hold or Sell              0.2116   \n",
       "19  intc  Hold or Sell              5.6657  Hold or Sell              5.7569   \n",
       "20   iyw  Hold or Sell              3.2432  Hold or Sell              3.7229   \n",
       "21   lng  Hold or Sell              1.4063  Hold or Sell              0.8262   \n",
       "22    ma  Hold or Sell              2.2929           Buy              2.9029   \n",
       "23   mdb  Hold or Sell              0.8549  Hold or Sell              1.0107   \n",
       "24  msft  Hold or Sell              7.5629  Hold or Sell              9.4828   \n",
       "25    mu  Hold or Sell              3.1861  Hold or Sell              3.5957   \n",
       "26   nee           Buy              4.6352           Buy              4.9135   \n",
       "27   nga           Buy              0.9702  Hold or Sell              1.0415   \n",
       "28   nio           Buy              1.9376           Buy              1.6535   \n",
       "29  nvda  Hold or Sell             11.2763  Hold or Sell              9.8385   \n",
       "30  pacb  Hold or Sell              2.0591  Hold or Sell              2.0643   \n",
       "31  pypl  Hold or Sell              2.0830  Hold or Sell              2.4925   \n",
       "32  qgen  Hold or Sell              2.0905  Hold or Sell              1.8862   \n",
       "33   run           Buy              1.2345           Buy              0.9569   \n",
       "34  orcl  Hold or Sell              3.1146  Hold or Sell              3.3029   \n",
       "35   qqq  Hold or Sell              2.6330  Hold or Sell              3.5243   \n",
       "36  srpt           Buy              1.3011           Buy              2.3483   \n",
       "37  tpic  Hold or Sell              1.2275  Hold or Sell              1.5968   \n",
       "38  tsla  Hold or Sell              3.5083  Hold or Sell              1.8273   \n",
       "39     v  Hold or Sell              2.8371  Hold or Sell              2.4679   \n",
       "40  vbiv  Hold or Sell              1.8324  Hold or Sell              1.9556   \n",
       "41   vbr  Hold or Sell              1.3251  Hold or Sell              1.1332   \n",
       "42  viov  Hold or Sell              1.2599  Hold or Sell              1.0204   \n",
       "43   vgt  Hold or Sell              2.9828  Hold or Sell              3.6767   \n",
       "44   xlk  Hold or Sell              3.6570  Hold or Sell              5.1181   \n",
       "\n",
       "      5_Day_Pred  5_Day_Model_Return  Actual_Returns  \n",
       "0            Buy              4.3038          6.5730  \n",
       "1   Hold or Sell              4.1928        333.5313  \n",
       "2            Buy              0.3928          2.1343  \n",
       "3   Hold or Sell              8.0081         99.6016  \n",
       "4   Hold or Sell              2.0762         14.2938  \n",
       "5   Hold or Sell              9.2891        175.9360  \n",
       "6            Buy              8.0958         15.5838  \n",
       "7   Hold or Sell              4.7957        114.0602  \n",
       "8   Hold or Sell              1.2224          2.4161  \n",
       "9            Buy              3.4258          5.6270  \n",
       "10           Buy              1.5813          2.4768  \n",
       "11  Hold or Sell              2.1789         15.3659  \n",
       "12           Buy              0.8306          7.7190  \n",
       "13  Hold or Sell              7.3908         92.1420  \n",
       "14  Hold or Sell              1.1357          0.4019  \n",
       "15           Buy              2.0591         -0.1744  \n",
       "16  Hold or Sell              3.0567          9.2954  \n",
       "17  Hold or Sell              3.5680          6.3692  \n",
       "18  Hold or Sell              0.1233          0.1418  \n",
       "19  Hold or Sell              4.3613         37.4505  \n",
       "20  Hold or Sell              2.9865          6.1747  \n",
       "21  Hold or Sell              0.9071         45.0719  \n",
       "22  Hold or Sell              2.2319         11.7362  \n",
       "23  Hold or Sell              0.9810          4.6745  \n",
       "24  Hold or Sell              8.7775         59.7937  \n",
       "25  Hold or Sell              3.6695         17.0190  \n",
       "26           Buy              5.2341         28.4184  \n",
       "27  Hold or Sell              0.9089          1.6563  \n",
       "28           Buy              2.4517         10.5755  \n",
       "29  Hold or Sell             12.9069        104.9810  \n",
       "30  Hold or Sell              1.8513         11.7546  \n",
       "31  Hold or Sell              2.6363          5.0807  \n",
       "32  Hold or Sell              2.3802          7.5881  \n",
       "33           Buy              0.8626         11.7721  \n",
       "34  Hold or Sell              3.2495         29.6358  \n",
       "35  Hold or Sell              2.5335          8.4137  \n",
       "36           Buy              2.2745          1.4498  \n",
       "37  Hold or Sell              1.4768          2.0952  \n",
       "38  Hold or Sell              2.8418        118.7746  \n",
       "39  Hold or Sell              2.6466          9.6526  \n",
       "40  Hold or Sell              1.3222         -0.8010  \n",
       "41  Hold or Sell              1.4277          1.3264  \n",
       "42           Buy              1.0799          1.0029  \n",
       "43  Hold or Sell              3.1856          5.4831  \n",
       "44  Hold or Sell              4.0446          5.9036  "
      ]
     },
     "execution_count": 29,
     "metadata": {},
     "output_type": "execute_result"
    }
   ],
   "source": [
    "summary_df = a.pred_summary_df(start_dates, stocks = [x for x in start_dates], days_back = 1)\n",
    "summary_df"
   ]
  },
  {
   "cell_type": "code",
   "execution_count": 30,
   "metadata": {},
   "outputs": [
    {
     "data": {
      "text/plain": [
       "(2.2929, 2.4679, 2.5335, 8.4137)"
      ]
     },
     "execution_count": 30,
     "metadata": {},
     "output_type": "execute_result"
    }
   ],
   "source": [
    "summary_df['1_Day_Model_Return'].median(), summary_df['3_Day_Model_Return'].median(), summary_df['5_Day_Model_Return'].median(), summary_df['Actual_Returns'].median()"
   ]
  },
  {
   "cell_type": "code",
   "execution_count": null,
   "metadata": {},
   "outputs": [],
   "source": []
  },
  {
   "cell_type": "code",
   "execution_count": null,
   "metadata": {},
   "outputs": [],
   "source": []
  },
  {
   "cell_type": "code",
   "execution_count": null,
   "metadata": {},
   "outputs": [],
   "source": []
  },
  {
   "cell_type": "code",
   "execution_count": null,
   "metadata": {},
   "outputs": [],
   "source": []
  }
 ],
 "metadata": {
  "kernelspec": {
   "display_name": "Python 3",
   "language": "python",
   "name": "python3"
  },
  "language_info": {
   "codemirror_mode": {
    "name": "ipython",
    "version": 3
   },
   "file_extension": ".py",
   "mimetype": "text/x-python",
   "name": "python",
   "nbconvert_exporter": "python",
   "pygments_lexer": "ipython3",
   "version": "3.8.5"
  }
 },
 "nbformat": 4,
 "nbformat_minor": 4
}
