{
 "cells": [
  {
   "cell_type": "code",
   "execution_count": 1,
   "metadata": {
    "scrolled": true
   },
   "outputs": [],
   "source": [
    "from src import attributes as a\n",
    "%load_ext autoreload\n",
    "%autoreload 2"
   ]
  },
  {
   "cell_type": "code",
   "execution_count": 2,
   "metadata": {},
   "outputs": [],
   "source": [
    "# Global Variables\n",
    "stock_name = 'tsla' # ticker symbol\n",
    "train = 0 # 1 for train, 0 for pass\n",
    "days_ahead = 1 # for predicting 1, 3, or 5 days ahead\n",
    "days_back = -1 # -1 for current data point, -2 for two days ago, etc...\n",
    "cv = 5 # number of cross validation folds\n",
    "model_name = 'Random Forest Classifier' # for display on charts, not a tuning parameter"
   ]
  },
  {
   "cell_type": "code",
   "execution_count": 3,
   "metadata": {},
   "outputs": [],
   "source": [
    "# Extract, Transform, Load, and Train Test Split\n",
    "# Dictionary of IPO Dates\n",
    "start_dates = {'a': '11/15/1999' # Updated 4/26/21 1D, 3D, 5D ahead\n",
    "               , 'aapl': '12/12/1980' # Updated 4/26/21 1D, 3D, 5D ahead\n",
    "               , 'acy': '01/18/1998' # Updated 4/26/21 1D, 3D, 5D ahead\n",
    "               , 'adbe': '08/11/1986' # Updated 4/26/21 1D, 3D, 5D ahead\n",
    "               , 'alb': '02/21/1994' # Updated 4/26/21 1D, 3D, 5D ahead\n",
    "               , 'amat': '03/16/1980' # Updated 4/26/21 1D, 3D, 5D ahead\n",
    "               , 'amd': '03/17/1980' # Updated 4/26/21 1D, 3D, 5D ahead\n",
    "               , 'amgn': '06/13/1983' # Updated 4/26/21 1D, 3D, 5D ahead\n",
    "               , 'amzn': '05/12/1997' # Updated 4/26/21 1D, 3D, 5D ahead\n",
    "               , 'baba': '09/15/2014' # Updated 4/26/21 1D, 3D, 5D ahead\n",
    "               , 'bac': '02/19/1973' # Updated 4/26/21 1D, 3D, 5D ahead\n",
    "               , 'bpmc': '04/27/2015' # Updated 4/26/21 1D, 3D, 5D ahead\n",
    "               , 'crm': '06/23/2004' # Updated 4/26/21 1D, 3D, 5D ahead\n",
    "               , 'crsp': '10/16/2016' # Updated 4/26/21 1D, 3D, 5D ahead\n",
    "               , 'dq': '10/04/2010' # Updated 4/26/21 1D, 3D, 5D ahead\n",
    "               , 'esgv': '09/16/2018' # Updated 4/26/21 1D, 3D, 5D ahead\n",
    "               , 'fslr': '11/12/2006' # Updated 4/26/21 1D, 3D, 5D ahead\n",
    "               , 'goog': '08/16/2004' # Updated 4/26/21 1D, 3D, 5D ahead\n",
    "               , 'ibm': '01/02/1962' # Updated 4/26/21 1D, 3D, 5D ahead\n",
    "               , 'intc': '03/16/1980' # Updated 4/26/21 1D, 3D, 5D ahead\n",
    "               , 'iyw': '05/15/2000' # Updated 4/26/21 1D, 3D, 5D ahead\n",
    "               , 'lng': '04/04/1994' # Updated 4/26/21 1D, 3D, 5D ahead\n",
    "               , 'ma': '05/21/2006' # Updated 4/26/21 1D, 3D, 5D ahead\n",
    "               , 'mdb': '10/15/2017' # Updated 4/26/21 1D, 3D, 5D ahead\n",
    "               , 'msft': '03/10/1986' # Updated 4/26/21 1D, 3D, 5D ahead\n",
    "               , 'mu': '05/28/1984' # Updated 4/26/21 1D, 3D, 5D ahead\n",
    "               , 'nee': '02/19/1973' # Updated 4/26/21 1D, 3D, 5D ahead\n",
    "               , 'nio': '09/10/2018' # Updated 4/26/21 1D, 3D, 5D ahead\n",
    "               , 'nvda': '01/22/1999' # Updated 4/26/21 1D, 3D, 5D ahead\n",
    "               , 'pacb': '10/25/2010' # Updated 4/26/21 1D, 3D, 5D ahead\n",
    "               , 'pypl': '07/05/2015' # Updated 4/26/21 1D, 3D, 5D ahead\n",
    "               , 'qgen': '06/24/1996' # Updated 4/26/21 1D, 3D, 5D ahead\n",
    "               , 'run': '08/02/2015' # Updated 4/26/21 1D, 3D, 5D ahead\n",
    "               , 'okta': '04/03/2017' # Updated 4/26/21 1D, 3D, 5D ahead\n",
    "               , 'orcl': '03/10/1986' # Updated 4/26/21 1D, 3D, 5D ahead\n",
    "               , 'qqq': '03/08/1999' # Updated 4/26/21 1D, 3D, 5D ahead\n",
    "               , 'srpt': '06/02/1997' # Updated 4/26/21 1D, 3D, 5D ahead\n",
    "               , 'tpic': '07/17/2016' # Updated 4/26/21 1D, 3D, 5D ahead\n",
    "               , 'tsla': '06/29/2010' # Updated 4/26/21 1D, 3D, 5D ahead\n",
    "               , 'v': '03/16/2008' # Updated 4/26/21 1D, 3D, 5D ahead\n",
    "               , 'vbiv': '09/04/2002' # Updated 4/26/21 1D, 3D, 5D ahead\n",
    "               , 'vbr': '01/26/2004' # Updated 4/26/21 1D, 3D, 5D ahead\n",
    "               , 'viov': '09/06/2010' # Updated 4/26/21 1D, 3D, 5D ahead\n",
    "               , 'vgt': '01/26/2004' # Updated 4/26/21 1D, 3D, 5D ahead\n",
    "               , 'xlk': '12/21/1998' # Updated 4/26/21 1D, 3D, 5D ahead\n",
    "              }"
   ]
  },
  {
   "cell_type": "markdown",
   "metadata": {},
   "source": [
    "### Get Data..."
   ]
  },
  {
   "cell_type": "code",
   "execution_count": 4,
   "metadata": {
    "scrolled": true
   },
   "outputs": [
    {
     "name": "stdout",
     "output_type": "stream",
     "text": [
      "Today's date: 2021-08-18\n",
      "Table Updates Complete\n"
     ]
    }
   ],
   "source": [
    "from datetime import date\n",
    "today = date.today()\n",
    "print(\"Today's date:\", today)\n",
    "a.get_tables(start_dates)\n",
    "print('Table Updates Complete')"
   ]
  },
  {
   "cell_type": "code",
   "execution_count": 5,
   "metadata": {},
   "outputs": [],
   "source": [
    "# Load RandomForextClassifier Model\n",
    "# rfc_model, y_pred, y_probs = a.rfc(X_train, X_test, y_train, stock_name, days_ahead)"
   ]
  },
  {
   "cell_type": "code",
   "execution_count": 6,
   "metadata": {
    "scrolled": false
   },
   "outputs": [],
   "source": [
    "# ROC Curve\n",
    "# a.roc_plot(y_test, y_probs, stock_name, model_name)"
   ]
  },
  {
   "cell_type": "code",
   "execution_count": 7,
   "metadata": {
    "scrolled": false
   },
   "outputs": [],
   "source": [
    "# Precision Recall Curve\n",
    "# a.prec_recall(y_test, y_probs, stock_name, model_name)"
   ]
  },
  {
   "cell_type": "code",
   "execution_count": 8,
   "metadata": {
    "scrolled": false
   },
   "outputs": [],
   "source": [
    "# Confusion Matrix\n",
    "# a.confusion_matrix(rfc_model, X_test, y_test, stock_name)"
   ]
  },
  {
   "cell_type": "code",
   "execution_count": 9,
   "metadata": {},
   "outputs": [],
   "source": [
    "# Cross Validation\n",
    "# a.cross_validation(rfc_model\n",
    "#                    , stock_df[['oc', 'hl', '5stdev_adj', '5sma_adj']]\n",
    "#                    , stock_df['direction']\n",
    "#                    , cv = 5\n",
    "#                   )"
   ]
  },
  {
   "cell_type": "markdown",
   "metadata": {},
   "source": [
    "### Prediction..."
   ]
  },
  {
   "cell_type": "code",
   "execution_count": 10,
   "metadata": {
    "scrolled": true
   },
   "outputs": [],
   "source": [
    "# Prediction, use last day of data\n",
    "# stock_df.iloc[-1]"
   ]
  },
  {
   "cell_type": "code",
   "execution_count": 11,
   "metadata": {},
   "outputs": [],
   "source": [
    "# import numpy as np\n",
    "# last = stock_df[['oc', 'hl', '5stdev_adj', '5sma_adj']].iloc[-days_back]\n",
    "# last"
   ]
  },
  {
   "cell_type": "code",
   "execution_count": 12,
   "metadata": {},
   "outputs": [],
   "source": [
    "# stock_df['adj'].describe()"
   ]
  },
  {
   "cell_type": "code",
   "execution_count": 13,
   "metadata": {
    "scrolled": true
   },
   "outputs": [],
   "source": [
    "# if rfc_model.predict(np.array(last).reshape(1, -1))[0] == 1:\n",
    "#     print(f'Buy {stock_name} {days_ahead} day(s) ahead')\n",
    "# else:\n",
    "#     print(f'Sell or hold {stock_name} {days_ahead} day(s) ahead')"
   ]
  },
  {
   "cell_type": "markdown",
   "metadata": {},
   "source": [
    "### Strategy Returns..."
   ]
  },
  {
   "cell_type": "code",
   "execution_count": 14,
   "metadata": {},
   "outputs": [],
   "source": [
    "# returns on strategy column\n",
    "# stock_df['prediction'] = rfc_model.predict(stock_df[['oc', 'hl', '5stdev_adj', '5sma_adj']])\n",
    "# stock_df['returns'] = stock_df['adj'].shift(-1, fill_value = stock_df['adj'].median()) * stock_df['prediction']"
   ]
  },
  {
   "cell_type": "code",
   "execution_count": 15,
   "metadata": {},
   "outputs": [],
   "source": [
    "# stock_df.tail(5)"
   ]
  },
  {
   "cell_type": "code",
   "execution_count": 16,
   "metadata": {},
   "outputs": [],
   "source": [
    "# Don't trade every day!\n",
    "# import matplotlib.pyplot as plt\n",
    "# test_length = len(y_test)\n",
    "# (stock_df['returns'][-test_length:] + 1).cumprod().plot()\n",
    "# plt.title(f'{stock_name} Expected Returns %');"
   ]
  },
  {
   "cell_type": "code",
   "execution_count": 17,
   "metadata": {},
   "outputs": [],
   "source": [
    "# Model returns if bought on predictions of 1\n",
    "# returns_on_ones = []\n",
    "# for idx in range(-test_length, 0):\n",
    "#     if stock_df['prediction'][idx] == 1:\n",
    "#         returns_on_ones.append(1 + stock_df['returns'][idx])\n",
    "\n",
    "# returns = 1\n",
    "# for x in returns_on_ones:\n",
    "#     returns *= x\n",
    "# returns"
   ]
  },
  {
   "cell_type": "code",
   "execution_count": 18,
   "metadata": {},
   "outputs": [],
   "source": [
    "# multiple times original investment, not bad but..."
   ]
  },
  {
   "cell_type": "code",
   "execution_count": 19,
   "metadata": {},
   "outputs": [],
   "source": [
    "# If purchased in 2012 and left it until now\n",
    "# test_idx = int(len(stock_df)*0.75)\n",
    "# (stock_df['Close'][-1] - stock_df['Close'][-test_idx]) / stock_df['Close'][-test_idx]"
   ]
  },
  {
   "cell_type": "code",
   "execution_count": 20,
   "metadata": {},
   "outputs": [],
   "source": [
    "# Buy and hold strategy beats RandomForestClassifier in this study\n",
    "\n",
    "# Special thanks to Shagufta Tahsildar at https://blog.quantinsti.com/random-forest-algorithm-in-python/"
   ]
  },
  {
   "cell_type": "code",
   "execution_count": null,
   "metadata": {},
   "outputs": [],
   "source": []
  },
  {
   "cell_type": "code",
   "execution_count": null,
   "metadata": {},
   "outputs": [],
   "source": []
  },
  {
   "cell_type": "code",
   "execution_count": null,
   "metadata": {},
   "outputs": [],
   "source": []
  },
  {
   "cell_type": "markdown",
   "metadata": {},
   "source": [
    "### Training"
   ]
  },
  {
   "cell_type": "markdown",
   "metadata": {},
   "source": [
    "Training is done once a week on Saturday and Sunday"
   ]
  },
  {
   "cell_type": "code",
   "execution_count": 21,
   "metadata": {},
   "outputs": [
    {
     "data": {
      "text/plain": [
       "45"
      ]
     },
     "execution_count": 21,
     "metadata": {},
     "output_type": "execute_result"
    }
   ],
   "source": [
    "len(start_dates)"
   ]
  },
  {
   "cell_type": "code",
   "execution_count": 22,
   "metadata": {},
   "outputs": [
    {
     "data": {
      "text/plain": [
       "{'a': '11/15/1999',\n",
       " 'aapl': '12/12/1980',\n",
       " 'acy': '01/18/1998',\n",
       " 'adbe': '08/11/1986',\n",
       " 'alb': '02/21/1994',\n",
       " 'amat': '03/16/1980',\n",
       " 'amd': '03/17/1980',\n",
       " 'amgn': '06/13/1983',\n",
       " 'amzn': '05/12/1997',\n",
       " 'baba': '09/15/2014',\n",
       " 'bac': '02/19/1973',\n",
       " 'bpmc': '04/27/2015',\n",
       " 'crm': '06/23/2004',\n",
       " 'crsp': '10/16/2016',\n",
       " 'dq': '10/04/2010'}"
      ]
     },
     "execution_count": 22,
     "metadata": {},
     "output_type": "execute_result"
    }
   ],
   "source": [
    "import itertools as itr\n",
    "start_dates1 = dict(itr.islice(start_dates.items(), 0, 15))\n",
    "start_dates1"
   ]
  },
  {
   "cell_type": "code",
   "execution_count": 23,
   "metadata": {},
   "outputs": [
    {
     "data": {
      "text/plain": [
       "{'esgv': '09/16/2018',\n",
       " 'fslr': '11/12/2006',\n",
       " 'goog': '08/16/2004',\n",
       " 'ibm': '01/02/1962',\n",
       " 'intc': '03/16/1980',\n",
       " 'iyw': '05/15/2000',\n",
       " 'lng': '04/04/1994',\n",
       " 'ma': '05/21/2006',\n",
       " 'mdb': '10/15/2017',\n",
       " 'msft': '03/10/1986',\n",
       " 'mu': '05/28/1984',\n",
       " 'nee': '02/19/1973',\n",
       " 'nio': '09/10/2018',\n",
       " 'nvda': '01/22/1999',\n",
       " 'pacb': '10/25/2010'}"
      ]
     },
     "execution_count": 23,
     "metadata": {},
     "output_type": "execute_result"
    }
   ],
   "source": [
    "start_dates2 = dict(itr.islice(start_dates.items(), 15, 30))\n",
    "start_dates2"
   ]
  },
  {
   "cell_type": "code",
   "execution_count": 24,
   "metadata": {},
   "outputs": [
    {
     "data": {
      "text/plain": [
       "{'pypl': '07/05/2015',\n",
       " 'qgen': '06/24/1996',\n",
       " 'run': '08/02/2015',\n",
       " 'okta': '04/03/2017',\n",
       " 'orcl': '03/10/1986',\n",
       " 'qqq': '03/08/1999',\n",
       " 'srpt': '06/02/1997',\n",
       " 'tpic': '07/17/2016',\n",
       " 'tsla': '06/29/2010',\n",
       " 'v': '03/16/2008',\n",
       " 'vbiv': '09/04/2002',\n",
       " 'vbr': '01/26/2004',\n",
       " 'viov': '09/06/2010',\n",
       " 'vgt': '01/26/2004',\n",
       " 'xlk': '12/21/1998'}"
      ]
     },
     "execution_count": 24,
     "metadata": {},
     "output_type": "execute_result"
    }
   ],
   "source": [
    "start_dates3 = dict(itr.islice(start_dates.items(), 30, 45+1))\n",
    "start_dates3"
   ]
  },
  {
   "cell_type": "code",
   "execution_count": 25,
   "metadata": {
    "scrolled": false
   },
   "outputs": [],
   "source": [
    "#Train 15 at a time!\n",
    "# stocks = [x for x in start_dates1]\n",
    "# days_ahead = [1, 3, 5]\n",
    "# cv = 5\n",
    "# for stock in stocks:\n",
    "#     for days in days_ahead:\n",
    "#         X_train, X_test, y_train, y_test, stock_df = a.data(stock, start_dates[stock], days)\n",
    "#         a.rfc_GridSearch(X_train, y_train, stock, days, cv)\n",
    "# len(stocks)\n",
    "\n",
    "# Next on training for Saturday 4/17/2021\n",
    "# stocks = [x for x in start_dates2]\n",
    "# days_ahead = [1, 3, 5]\n",
    "# cv = 5\n",
    "# for stock in stocks:\n",
    "#     for days in days_ahead:\n",
    "#         X_train, X_test, y_train, y_test, stock_df = a.data(stock, start_dates[stock], days)\n",
    "#         a.rfc_GridSearch(X_train, y_train, stock, days, cv)\n",
    "# len(stocks)\n",
    "\n",
    "# Next on training for Saturday 4/17/2021\n",
    "# stocks = [x for x in start_dates3]\n",
    "# days_ahead = [1, 3, 5]\n",
    "# cv = 5\n",
    "# for stock in stocks:\n",
    "#     for days in days_ahead:\n",
    "#         X_train, X_test, y_train, y_test, stock_df = a.data(stock, start_dates[stock], days)\n",
    "#         a.rfc_GridSearch(X_train, y_train, stock, days, cv)\n",
    "# len(stocks)\n",
    "\n",
    "# # Train all, takes 15+ hours\n",
    "# stocks = [x for x in start_dates]\n",
    "# days_ahead = [1, 3, 5]\n",
    "# cv = 5\n",
    "# for stock in stocks:\n",
    "#     for days in days_ahead:\n",
    "#         X_train, X_test, y_train, y_test, stock_df = a.data(stock, start_dates[stock], days)\n",
    "#         a.rfc_GridSearch(X_train, y_train, stock, days, cv)\n",
    "# len(stocks)\n",
    "\n",
    "# Train desired stocks...takes less time (4 will take 24 hours, each stock is 6 hours to train)\n",
    "# import timeit \n",
    "# stocks = ['amd', 'msft', 'nvda', 'v'] # as of 2021-08-14\n",
    "# days_ahead = [1, 3, 5]\n",
    "# cv = 5\n",
    "# for stock in stocks:\n",
    "#     for days in days_ahead:\n",
    "#         X_train, X_test, y_train, y_test, stock_df = a.data(stock, start_dates[stock], days)\n",
    "#         %timeit a.rfc_GridSearch(X_train, y_train, stock, days, cv)"
   ]
  },
  {
   "cell_type": "code",
   "execution_count": null,
   "metadata": {},
   "outputs": [],
   "source": []
  },
  {
   "cell_type": "code",
   "execution_count": null,
   "metadata": {},
   "outputs": [],
   "source": []
  },
  {
   "cell_type": "code",
   "execution_count": null,
   "metadata": {},
   "outputs": [],
   "source": []
  },
  {
   "cell_type": "markdown",
   "metadata": {},
   "source": [
    "### Display All Results"
   ]
  },
  {
   "cell_type": "code",
   "execution_count": 26,
   "metadata": {},
   "outputs": [
    {
     "name": "stdout",
     "output_type": "stream",
     "text": [
      "Today's date: 2021-08-18\n"
     ]
    }
   ],
   "source": [
    "print(\"Today's date:\", today)"
   ]
  },
  {
   "cell_type": "code",
   "execution_count": 27,
   "metadata": {
    "scrolled": false
   },
   "outputs": [
    {
     "name": "stdout",
     "output_type": "stream",
     "text": [
      "Buy v 1 day(s) ahead\n",
      "Model Returns (x 100 for %): 1.5725\n",
      "Stock Returns (x 100 for %): 9.6866\n"
     ]
    },
    {
     "data": {
      "image/png": "[encoded data removed]",
      "text/plain": [
       "<Figure size 432x288 with 1 Axes>"
      ]
     },
     "metadata": {},
     "output_type": "display_data"
    },
    {
     "data": {
      "image/png": "[encoded data removed]",
      "text/plain": [
       "<Figure size 648x504 with 1 Axes>"
      ]
     },
     "metadata": {},
     "output_type": "display_data"
    },
    {
     "data": {
      "image/png": "[encoded data removed]",
      "text/plain": [
       "<Figure size 648x504 with 1 Axes>"
      ]
     },
     "metadata": {},
     "output_type": "display_data"
    },
    {
     "data": {
      "image/png": "[encoded data removed]",
      "text/plain": [
       "<Figure size 684x612 with 2 Axes>"
      ]
     },
     "metadata": {},
     "output_type": "display_data"
    }
   ],
   "source": [
    "stock_name = 'v'\n",
    "a.all_func(stock_name\n",
    "           , start_dates[stock_name]\n",
    "           , days_ahead = 1\n",
    "           , model_name = model_name\n",
    "           , days_back = 1\n",
    "          )"
   ]
  },
  {
   "cell_type": "code",
   "execution_count": null,
   "metadata": {},
   "outputs": [],
   "source": []
  },
  {
   "cell_type": "code",
   "execution_count": null,
   "metadata": {},
   "outputs": [],
   "source": []
  },
  {
   "cell_type": "code",
   "execution_count": null,
   "metadata": {},
   "outputs": [],
   "source": []
  },
  {
   "cell_type": "markdown",
   "metadata": {},
   "source": [
    "### Data Frame of Predictions 1 3 5 Days"
   ]
  },
  {
   "cell_type": "code",
   "execution_count": 28,
   "metadata": {},
   "outputs": [
    {
     "name": "stdout",
     "output_type": "stream",
     "text": [
      "Today's date: 2021-08-18\n"
     ]
    }
   ],
   "source": [
    "print(\"Today's date:\", today)"
   ]
  },
  {
   "cell_type": "code",
   "execution_count": 29,
   "metadata": {
    "scrolled": false
   },
   "outputs": [
    {
     "data": {
      "text/html": [
       "<div>\n",
       "<style scoped>\n",
       "    .dataframe tbody tr th:only-of-type {\n",
       "        vertical-align: middle;\n",
       "    }\n",
       "\n",
       "    .dataframe tbody tr th {\n",
       "        vertical-align: top;\n",
       "    }\n",
       "\n",
       "    .dataframe thead th {\n",
       "        text-align: right;\n",
       "    }\n",
       "</style>\n",
       "<table border=\"1\" class=\"dataframe\">\n",
       "  <thead>\n",
       "    <tr style=\"text-align: right;\">\n",
       "      <th></th>\n",
       "      <th>stock</th>\n",
       "      <th>1_Day_Pred</th>\n",
       "      <th>1_Day_Model_Return</th>\n",
       "      <th>3_Day_Pred</th>\n",
       "      <th>3_Day_Model_Return</th>\n",
       "      <th>5_Day_Pred</th>\n",
       "      <th>5_Day_Model_Return</th>\n",
       "      <th>Actual_Returns</th>\n",
       "    </tr>\n",
       "  </thead>\n",
       "  <tbody>\n",
       "    <tr>\n",
       "      <th>0</th>\n",
       "      <td>a</td>\n",
       "      <td>Buy</td>\n",
       "      <td>2.5488</td>\n",
       "      <td>Buy</td>\n",
       "      <td>2.2815</td>\n",
       "      <td>Buy</td>\n",
       "      <td>2.4925</td>\n",
       "      <td>17.8270</td>\n",
       "    </tr>\n",
       "    <tr>\n",
       "      <th>1</th>\n",
       "      <td>aapl</td>\n",
       "      <td>Buy</td>\n",
       "      <td>4.1577</td>\n",
       "      <td>Buy</td>\n",
       "      <td>3.9366</td>\n",
       "      <td>Buy</td>\n",
       "      <td>3.7074</td>\n",
       "      <td>791.9376</td>\n",
       "    </tr>\n",
       "    <tr>\n",
       "      <th>2</th>\n",
       "      <td>acy</td>\n",
       "      <td>Buy</td>\n",
       "      <td>0.9321</td>\n",
       "      <td>Buy</td>\n",
       "      <td>0.3771</td>\n",
       "      <td>Buy</td>\n",
       "      <td>1.0684</td>\n",
       "      <td>3.9914</td>\n",
       "    </tr>\n",
       "    <tr>\n",
       "      <th>3</th>\n",
       "      <td>adbe</td>\n",
       "      <td>Buy</td>\n",
       "      <td>6.8518</td>\n",
       "      <td>Buy</td>\n",
       "      <td>5.3066</td>\n",
       "      <td>Buy</td>\n",
       "      <td>5.6245</td>\n",
       "      <td>213.5925</td>\n",
       "    </tr>\n",
       "    <tr>\n",
       "      <th>4</th>\n",
       "      <td>alb</td>\n",
       "      <td>Hold or Sell</td>\n",
       "      <td>1.5385</td>\n",
       "      <td>Buy</td>\n",
       "      <td>2.0714</td>\n",
       "      <td>Hold or Sell</td>\n",
       "      <td>1.7614</td>\n",
       "      <td>25.3414</td>\n",
       "    </tr>\n",
       "    <tr>\n",
       "      <th>5</th>\n",
       "      <td>amat</td>\n",
       "      <td>Buy</td>\n",
       "      <td>8.3235</td>\n",
       "      <td>Buy</td>\n",
       "      <td>8.1473</td>\n",
       "      <td>Buy</td>\n",
       "      <td>7.6382</td>\n",
       "      <td>939.5132</td>\n",
       "    </tr>\n",
       "    <tr>\n",
       "      <th>6</th>\n",
       "      <td>amd</td>\n",
       "      <td>Buy</td>\n",
       "      <td>33.2726</td>\n",
       "      <td>Buy</td>\n",
       "      <td>29.8211</td>\n",
       "      <td>Buy</td>\n",
       "      <td>41.0544</td>\n",
       "      <td>8.7931</td>\n",
       "    </tr>\n",
       "    <tr>\n",
       "      <th>7</th>\n",
       "      <td>amgn</td>\n",
       "      <td>Buy</td>\n",
       "      <td>2.4144</td>\n",
       "      <td>Buy</td>\n",
       "      <td>2.2835</td>\n",
       "      <td>Buy</td>\n",
       "      <td>1.9735</td>\n",
       "      <td>339.5716</td>\n",
       "    </tr>\n",
       "    <tr>\n",
       "      <th>8</th>\n",
       "      <td>amzn</td>\n",
       "      <td>Buy</td>\n",
       "      <td>1.4482</td>\n",
       "      <td>Buy</td>\n",
       "      <td>1.3649</td>\n",
       "      <td>Buy</td>\n",
       "      <td>1.2052</td>\n",
       "      <td>158.0668</td>\n",
       "    </tr>\n",
       "    <tr>\n",
       "      <th>9</th>\n",
       "      <td>baba</td>\n",
       "      <td>Buy</td>\n",
       "      <td>1.1254</td>\n",
       "      <td>Buy</td>\n",
       "      <td>1.0641</td>\n",
       "      <td>Buy</td>\n",
       "      <td>0.9946</td>\n",
       "      <td>1.0929</td>\n",
       "    </tr>\n",
       "    <tr>\n",
       "      <th>10</th>\n",
       "      <td>bac</td>\n",
       "      <td>Hold or Sell</td>\n",
       "      <td>2.1720</td>\n",
       "      <td>Hold or Sell</td>\n",
       "      <td>2.1207</td>\n",
       "      <td>Hold or Sell</td>\n",
       "      <td>2.3186</td>\n",
       "      <td>64.1149</td>\n",
       "    </tr>\n",
       "    <tr>\n",
       "      <th>11</th>\n",
       "      <td>bpmc</td>\n",
       "      <td>Buy</td>\n",
       "      <td>0.9996</td>\n",
       "      <td>Buy</td>\n",
       "      <td>0.9526</td>\n",
       "      <td>Buy</td>\n",
       "      <td>1.0129</td>\n",
       "      <td>5.8462</td>\n",
       "    </tr>\n",
       "    <tr>\n",
       "      <th>12</th>\n",
       "      <td>crm</td>\n",
       "      <td>Hold or Sell</td>\n",
       "      <td>1.3555</td>\n",
       "      <td>Hold or Sell</td>\n",
       "      <td>1.4642</td>\n",
       "      <td>Hold or Sell</td>\n",
       "      <td>1.5365</td>\n",
       "      <td>19.1459</td>\n",
       "    </tr>\n",
       "    <tr>\n",
       "      <th>13</th>\n",
       "      <td>crsp</td>\n",
       "      <td>Buy</td>\n",
       "      <td>0.6766</td>\n",
       "      <td>Buy</td>\n",
       "      <td>0.7537</td>\n",
       "      <td>Buy</td>\n",
       "      <td>0.5347</td>\n",
       "      <td>5.3671</td>\n",
       "    </tr>\n",
       "    <tr>\n",
       "      <th>14</th>\n",
       "      <td>dq</td>\n",
       "      <td>Buy</td>\n",
       "      <td>2.6269</td>\n",
       "      <td>Buy</td>\n",
       "      <td>2.8259</td>\n",
       "      <td>Buy</td>\n",
       "      <td>2.5117</td>\n",
       "      <td>46.0098</td>\n",
       "    </tr>\n",
       "  </tbody>\n",
       "</table>\n",
       "</div>"
      ],
      "text/plain": [
       "   stock    1_Day_Pred  1_Day_Model_Return    3_Day_Pred  3_Day_Model_Return  \\\n",
       "0      a           Buy              2.5488           Buy              2.2815   \n",
       "1   aapl           Buy              4.1577           Buy              3.9366   \n",
       "2    acy           Buy              0.9321           Buy              0.3771   \n",
       "3   adbe           Buy              6.8518           Buy              5.3066   \n",
       "4    alb  Hold or Sell              1.5385           Buy              2.0714   \n",
       "5   amat           Buy              8.3235           Buy              8.1473   \n",
       "6    amd           Buy             33.2726           Buy             29.8211   \n",
       "7   amgn           Buy              2.4144           Buy              2.2835   \n",
       "8   amzn           Buy              1.4482           Buy              1.3649   \n",
       "9   baba           Buy              1.1254           Buy              1.0641   \n",
       "10   bac  Hold or Sell              2.1720  Hold or Sell              2.1207   \n",
       "11  bpmc           Buy              0.9996           Buy              0.9526   \n",
       "12   crm  Hold or Sell              1.3555  Hold or Sell              1.4642   \n",
       "13  crsp           Buy              0.6766           Buy              0.7537   \n",
       "14    dq           Buy              2.6269           Buy              2.8259   \n",
       "\n",
       "      5_Day_Pred  5_Day_Model_Return  Actual_Returns  \n",
       "0            Buy              2.4925         17.8270  \n",
       "1            Buy              3.7074        791.9376  \n",
       "2            Buy              1.0684          3.9914  \n",
       "3            Buy              5.6245        213.5925  \n",
       "4   Hold or Sell              1.7614         25.3414  \n",
       "5            Buy              7.6382        939.5132  \n",
       "6            Buy             41.0544          8.7931  \n",
       "7            Buy              1.9735        339.5716  \n",
       "8            Buy              1.2052        158.0668  \n",
       "9            Buy              0.9946          1.0929  \n",
       "10  Hold or Sell              2.3186         64.1149  \n",
       "11           Buy              1.0129          5.8462  \n",
       "12  Hold or Sell              1.5365         19.1459  \n",
       "13           Buy              0.5347          5.3671  \n",
       "14           Buy              2.5117         46.0098  "
      ]
     },
     "execution_count": 29,
     "metadata": {},
     "output_type": "execute_result"
    }
   ],
   "source": [
    "summary_df = a.pred_summary_df(start_dates1, stocks = [x for x in start_dates1], days_back = 1)\n",
    "summary_df"
   ]
  },
  {
   "cell_type": "code",
   "execution_count": 30,
   "metadata": {},
   "outputs": [
    {
     "data": {
      "text/plain": [
       "(2.172, 2.1207, 1.9735, 25.3414)"
      ]
     },
     "execution_count": 30,
     "metadata": {},
     "output_type": "execute_result"
    }
   ],
   "source": [
    "summary_df['1_Day_Model_Return'].median(), summary_df['3_Day_Model_Return'].median(), summary_df['5_Day_Model_Return'].median(), summary_df['Actual_Returns'].median()"
   ]
  },
  {
   "cell_type": "code",
   "execution_count": null,
   "metadata": {},
   "outputs": [],
   "source": []
  },
  {
   "cell_type": "code",
   "execution_count": 31,
   "metadata": {
    "scrolled": false
   },
   "outputs": [
    {
     "data": {
      "text/html": [
       "<div>\n",
       "<style scoped>\n",
       "    .dataframe tbody tr th:only-of-type {\n",
       "        vertical-align: middle;\n",
       "    }\n",
       "\n",
       "    .dataframe tbody tr th {\n",
       "        vertical-align: top;\n",
       "    }\n",
       "\n",
       "    .dataframe thead th {\n",
       "        text-align: right;\n",
       "    }\n",
       "</style>\n",
       "<table border=\"1\" class=\"dataframe\">\n",
       "  <thead>\n",
       "    <tr style=\"text-align: right;\">\n",
       "      <th></th>\n",
       "      <th>stock</th>\n",
       "      <th>1_Day_Pred</th>\n",
       "      <th>1_Day_Model_Return</th>\n",
       "      <th>3_Day_Pred</th>\n",
       "      <th>3_Day_Model_Return</th>\n",
       "      <th>5_Day_Pred</th>\n",
       "      <th>5_Day_Model_Return</th>\n",
       "      <th>Actual_Returns</th>\n",
       "    </tr>\n",
       "  </thead>\n",
       "  <tbody>\n",
       "    <tr>\n",
       "      <th>0</th>\n",
       "      <td>esgv</td>\n",
       "      <td>Buy</td>\n",
       "      <td>1.0877</td>\n",
       "      <td>Buy</td>\n",
       "      <td>1.0362</td>\n",
       "      <td>Buy</td>\n",
       "      <td>1.0479</td>\n",
       "      <td>0.7352</td>\n",
       "    </tr>\n",
       "    <tr>\n",
       "      <th>1</th>\n",
       "      <td>fslr</td>\n",
       "      <td>Buy</td>\n",
       "      <td>1.8684</td>\n",
       "      <td>Hold or Sell</td>\n",
       "      <td>1.8732</td>\n",
       "      <td>Buy</td>\n",
       "      <td>1.6595</td>\n",
       "      <td>-0.1470</td>\n",
       "    </tr>\n",
       "    <tr>\n",
       "      <th>2</th>\n",
       "      <td>goog</td>\n",
       "      <td>Buy</td>\n",
       "      <td>2.7349</td>\n",
       "      <td>Buy</td>\n",
       "      <td>2.7837</td>\n",
       "      <td>Buy</td>\n",
       "      <td>3.1755</td>\n",
       "      <td>10.6413</td>\n",
       "    </tr>\n",
       "    <tr>\n",
       "      <th>3</th>\n",
       "      <td>ibm</td>\n",
       "      <td>Buy</td>\n",
       "      <td>1.2715</td>\n",
       "      <td>Buy</td>\n",
       "      <td>1.5723</td>\n",
       "      <td>Buy</td>\n",
       "      <td>1.4282</td>\n",
       "      <td>32.0873</td>\n",
       "    </tr>\n",
       "    <tr>\n",
       "      <th>4</th>\n",
       "      <td>intc</td>\n",
       "      <td>Buy</td>\n",
       "      <td>4.1066</td>\n",
       "      <td>Buy</td>\n",
       "      <td>3.9501</td>\n",
       "      <td>Buy</td>\n",
       "      <td>3.4393</td>\n",
       "      <td>171.4284</td>\n",
       "    </tr>\n",
       "    <tr>\n",
       "      <th>5</th>\n",
       "      <td>iyw</td>\n",
       "      <td>Buy</td>\n",
       "      <td>2.8104</td>\n",
       "      <td>Buy</td>\n",
       "      <td>2.7732</td>\n",
       "      <td>Buy</td>\n",
       "      <td>1.9176</td>\n",
       "      <td>9.9520</td>\n",
       "    </tr>\n",
       "    <tr>\n",
       "      <th>6</th>\n",
       "      <td>lng</td>\n",
       "      <td>Buy</td>\n",
       "      <td>1.8919</td>\n",
       "      <td>Hold or Sell</td>\n",
       "      <td>1.9388</td>\n",
       "      <td>Buy</td>\n",
       "      <td>1.5008</td>\n",
       "      <td>20.7970</td>\n",
       "    </tr>\n",
       "    <tr>\n",
       "      <th>7</th>\n",
       "      <td>ma</td>\n",
       "      <td>Buy</td>\n",
       "      <td>1.5630</td>\n",
       "      <td>Buy</td>\n",
       "      <td>1.5090</td>\n",
       "      <td>Buy</td>\n",
       "      <td>1.4365</td>\n",
       "      <td>23.0115</td>\n",
       "    </tr>\n",
       "    <tr>\n",
       "      <th>8</th>\n",
       "      <td>mdb</td>\n",
       "      <td>Buy</td>\n",
       "      <td>1.1268</td>\n",
       "      <td>Hold or Sell</td>\n",
       "      <td>1.1944</td>\n",
       "      <td>Hold or Sell</td>\n",
       "      <td>1.0421</td>\n",
       "      <td>5.2539</td>\n",
       "    </tr>\n",
       "    <tr>\n",
       "      <th>9</th>\n",
       "      <td>msft</td>\n",
       "      <td>Buy</td>\n",
       "      <td>7.5918</td>\n",
       "      <td>Buy</td>\n",
       "      <td>8.6299</td>\n",
       "      <td>Buy</td>\n",
       "      <td>9.0734</td>\n",
       "      <td>309.1684</td>\n",
       "    </tr>\n",
       "    <tr>\n",
       "      <th>10</th>\n",
       "      <td>mu</td>\n",
       "      <td>Buy</td>\n",
       "      <td>3.6013</td>\n",
       "      <td>Buy</td>\n",
       "      <td>3.3122</td>\n",
       "      <td>Buy</td>\n",
       "      <td>2.0754</td>\n",
       "      <td>84.9851</td>\n",
       "    </tr>\n",
       "    <tr>\n",
       "      <th>11</th>\n",
       "      <td>nee</td>\n",
       "      <td>Hold or Sell</td>\n",
       "      <td>2.3905</td>\n",
       "      <td>Hold or Sell</td>\n",
       "      <td>2.1265</td>\n",
       "      <td>Hold or Sell</td>\n",
       "      <td>2.7185</td>\n",
       "      <td>277.2553</td>\n",
       "    </tr>\n",
       "    <tr>\n",
       "      <th>12</th>\n",
       "      <td>nio</td>\n",
       "      <td>Hold or Sell</td>\n",
       "      <td>0.9625</td>\n",
       "      <td>Hold or Sell</td>\n",
       "      <td>0.9646</td>\n",
       "      <td>Hold or Sell</td>\n",
       "      <td>0.9623</td>\n",
       "      <td>5.6427</td>\n",
       "    </tr>\n",
       "    <tr>\n",
       "      <th>13</th>\n",
       "      <td>nvda</td>\n",
       "      <td>Buy</td>\n",
       "      <td>4.3715</td>\n",
       "      <td>Buy</td>\n",
       "      <td>5.3539</td>\n",
       "      <td>Buy</td>\n",
       "      <td>4.0965</td>\n",
       "      <td>123.7613</td>\n",
       "    </tr>\n",
       "    <tr>\n",
       "      <th>14</th>\n",
       "      <td>pacb</td>\n",
       "      <td>Buy</td>\n",
       "      <td>1.7405</td>\n",
       "      <td>Buy</td>\n",
       "      <td>1.7324</td>\n",
       "      <td>Buy</td>\n",
       "      <td>1.6718</td>\n",
       "      <td>10.8978</td>\n",
       "    </tr>\n",
       "  </tbody>\n",
       "</table>\n",
       "</div>"
      ],
      "text/plain": [
       "   stock    1_Day_Pred  1_Day_Model_Return    3_Day_Pred  3_Day_Model_Return  \\\n",
       "0   esgv           Buy              1.0877           Buy              1.0362   \n",
       "1   fslr           Buy              1.8684  Hold or Sell              1.8732   \n",
       "2   goog           Buy              2.7349           Buy              2.7837   \n",
       "3    ibm           Buy              1.2715           Buy              1.5723   \n",
       "4   intc           Buy              4.1066           Buy              3.9501   \n",
       "5    iyw           Buy              2.8104           Buy              2.7732   \n",
       "6    lng           Buy              1.8919  Hold or Sell              1.9388   \n",
       "7     ma           Buy              1.5630           Buy              1.5090   \n",
       "8    mdb           Buy              1.1268  Hold or Sell              1.1944   \n",
       "9   msft           Buy              7.5918           Buy              8.6299   \n",
       "10    mu           Buy              3.6013           Buy              3.3122   \n",
       "11   nee  Hold or Sell              2.3905  Hold or Sell              2.1265   \n",
       "12   nio  Hold or Sell              0.9625  Hold or Sell              0.9646   \n",
       "13  nvda           Buy              4.3715           Buy              5.3539   \n",
       "14  pacb           Buy              1.7405           Buy              1.7324   \n",
       "\n",
       "      5_Day_Pred  5_Day_Model_Return  Actual_Returns  \n",
       "0            Buy              1.0479          0.7352  \n",
       "1            Buy              1.6595         -0.1470  \n",
       "2            Buy              3.1755         10.6413  \n",
       "3            Buy              1.4282         32.0873  \n",
       "4            Buy              3.4393        171.4284  \n",
       "5            Buy              1.9176          9.9520  \n",
       "6            Buy              1.5008         20.7970  \n",
       "7            Buy              1.4365         23.0115  \n",
       "8   Hold or Sell              1.0421          5.2539  \n",
       "9            Buy              9.0734        309.1684  \n",
       "10           Buy              2.0754         84.9851  \n",
       "11  Hold or Sell              2.7185        277.2553  \n",
       "12  Hold or Sell              0.9623          5.6427  \n",
       "13           Buy              4.0965        123.7613  \n",
       "14           Buy              1.6718         10.8978  "
      ]
     },
     "execution_count": 31,
     "metadata": {},
     "output_type": "execute_result"
    }
   ],
   "source": [
    "summary_df = a.pred_summary_df(start_dates2, stocks = [x for x in start_dates2], days_back = 1)\n",
    "summary_df"
   ]
  },
  {
   "cell_type": "code",
   "execution_count": 32,
   "metadata": {},
   "outputs": [
    {
     "data": {
      "text/plain": [
       "(1.8919, 1.9388, 1.6718, 20.797)"
      ]
     },
     "execution_count": 32,
     "metadata": {},
     "output_type": "execute_result"
    }
   ],
   "source": [
    "summary_df['1_Day_Model_Return'].median(), summary_df['3_Day_Model_Return'].median(), summary_df['5_Day_Model_Return'].median(), summary_df['Actual_Returns'].median()"
   ]
  },
  {
   "cell_type": "code",
   "execution_count": null,
   "metadata": {},
   "outputs": [],
   "source": []
  },
  {
   "cell_type": "code",
   "execution_count": 33,
   "metadata": {
    "scrolled": false
   },
   "outputs": [
    {
     "data": {
      "text/html": [
       "<div>\n",
       "<style scoped>\n",
       "    .dataframe tbody tr th:only-of-type {\n",
       "        vertical-align: middle;\n",
       "    }\n",
       "\n",
       "    .dataframe tbody tr th {\n",
       "        vertical-align: top;\n",
       "    }\n",
       "\n",
       "    .dataframe thead th {\n",
       "        text-align: right;\n",
       "    }\n",
       "</style>\n",
       "<table border=\"1\" class=\"dataframe\">\n",
       "  <thead>\n",
       "    <tr style=\"text-align: right;\">\n",
       "      <th></th>\n",
       "      <th>stock</th>\n",
       "      <th>1_Day_Pred</th>\n",
       "      <th>1_Day_Model_Return</th>\n",
       "      <th>3_Day_Pred</th>\n",
       "      <th>3_Day_Model_Return</th>\n",
       "      <th>5_Day_Pred</th>\n",
       "      <th>5_Day_Model_Return</th>\n",
       "      <th>Actual_Returns</th>\n",
       "    </tr>\n",
       "  </thead>\n",
       "  <tbody>\n",
       "    <tr>\n",
       "      <th>0</th>\n",
       "      <td>pypl</td>\n",
       "      <td>Buy</td>\n",
       "      <td>1.0955</td>\n",
       "      <td>Buy</td>\n",
       "      <td>1.3493</td>\n",
       "      <td>Buy</td>\n",
       "      <td>1.5872</td>\n",
       "      <td>6.3635</td>\n",
       "    </tr>\n",
       "    <tr>\n",
       "      <th>1</th>\n",
       "      <td>qgen</td>\n",
       "      <td>Hold or Sell</td>\n",
       "      <td>1.5453</td>\n",
       "      <td>Buy</td>\n",
       "      <td>1.8508</td>\n",
       "      <td>Hold or Sell</td>\n",
       "      <td>1.7710</td>\n",
       "      <td>0.4194</td>\n",
       "    </tr>\n",
       "    <tr>\n",
       "      <th>2</th>\n",
       "      <td>run</td>\n",
       "      <td>Buy</td>\n",
       "      <td>1.0129</td>\n",
       "      <td>Buy</td>\n",
       "      <td>0.8369</td>\n",
       "      <td>Buy</td>\n",
       "      <td>0.8822</td>\n",
       "      <td>7.0513</td>\n",
       "    </tr>\n",
       "    <tr>\n",
       "      <th>3</th>\n",
       "      <td>okta</td>\n",
       "      <td>Buy</td>\n",
       "      <td>1.1754</td>\n",
       "      <td>Hold or Sell</td>\n",
       "      <td>1.1725</td>\n",
       "      <td>Buy</td>\n",
       "      <td>1.2545</td>\n",
       "      <td>7.8870</td>\n",
       "    </tr>\n",
       "    <tr>\n",
       "      <th>4</th>\n",
       "      <td>orcl</td>\n",
       "      <td>Buy</td>\n",
       "      <td>2.2038</td>\n",
       "      <td>Buy</td>\n",
       "      <td>2.6856</td>\n",
       "      <td>Buy</td>\n",
       "      <td>2.9138</td>\n",
       "      <td>470.2156</td>\n",
       "    </tr>\n",
       "    <tr>\n",
       "      <th>5</th>\n",
       "      <td>qqq</td>\n",
       "      <td>Buy</td>\n",
       "      <td>2.1764</td>\n",
       "      <td>Buy</td>\n",
       "      <td>2.4104</td>\n",
       "      <td>Buy</td>\n",
       "      <td>2.2808</td>\n",
       "      <td>15.5609</td>\n",
       "    </tr>\n",
       "    <tr>\n",
       "      <th>6</th>\n",
       "      <td>srpt</td>\n",
       "      <td>Buy</td>\n",
       "      <td>0.3810</td>\n",
       "      <td>Buy</td>\n",
       "      <td>1.9063</td>\n",
       "      <td>Buy</td>\n",
       "      <td>2.0587</td>\n",
       "      <td>1.1739</td>\n",
       "    </tr>\n",
       "    <tr>\n",
       "      <th>7</th>\n",
       "      <td>tpic</td>\n",
       "      <td>Buy</td>\n",
       "      <td>0.7955</td>\n",
       "      <td>Buy</td>\n",
       "      <td>0.7102</td>\n",
       "      <td>Buy</td>\n",
       "      <td>0.8995</td>\n",
       "      <td>1.2722</td>\n",
       "    </tr>\n",
       "    <tr>\n",
       "      <th>8</th>\n",
       "      <td>tsla</td>\n",
       "      <td>Hold or Sell</td>\n",
       "      <td>2.4608</td>\n",
       "      <td>Hold or Sell</td>\n",
       "      <td>2.0822</td>\n",
       "      <td>Hold or Sell</td>\n",
       "      <td>2.6998</td>\n",
       "      <td>91.1110</td>\n",
       "    </tr>\n",
       "    <tr>\n",
       "      <th>9</th>\n",
       "      <td>v</td>\n",
       "      <td>Buy</td>\n",
       "      <td>1.5771</td>\n",
       "      <td>Buy</td>\n",
       "      <td>1.6450</td>\n",
       "      <td>Buy</td>\n",
       "      <td>1.9370</td>\n",
       "      <td>9.6866</td>\n",
       "    </tr>\n",
       "    <tr>\n",
       "      <th>10</th>\n",
       "      <td>vbiv</td>\n",
       "      <td>Buy</td>\n",
       "      <td>2.4878</td>\n",
       "      <td>Buy</td>\n",
       "      <td>2.5467</td>\n",
       "      <td>Hold or Sell</td>\n",
       "      <td>4.3832</td>\n",
       "      <td>-0.9306</td>\n",
       "    </tr>\n",
       "    <tr>\n",
       "      <th>11</th>\n",
       "      <td>vbr</td>\n",
       "      <td>Buy</td>\n",
       "      <td>1.4556</td>\n",
       "      <td>Buy</td>\n",
       "      <td>1.5824</td>\n",
       "      <td>Buy</td>\n",
       "      <td>1.5602</td>\n",
       "      <td>2.3784</td>\n",
       "    </tr>\n",
       "    <tr>\n",
       "      <th>12</th>\n",
       "      <td>viov</td>\n",
       "      <td>Buy</td>\n",
       "      <td>1.5823</td>\n",
       "      <td>Buy</td>\n",
       "      <td>1.6606</td>\n",
       "      <td>Buy</td>\n",
       "      <td>1.7701</td>\n",
       "      <td>2.1864</td>\n",
       "    </tr>\n",
       "    <tr>\n",
       "      <th>13</th>\n",
       "      <td>vgt</td>\n",
       "      <td>Buy</td>\n",
       "      <td>2.2816</td>\n",
       "      <td>Buy</td>\n",
       "      <td>2.4200</td>\n",
       "      <td>Buy</td>\n",
       "      <td>2.3103</td>\n",
       "      <td>8.1031</td>\n",
       "    </tr>\n",
       "    <tr>\n",
       "      <th>14</th>\n",
       "      <td>xlk</td>\n",
       "      <td>Buy</td>\n",
       "      <td>2.5109</td>\n",
       "      <td>Buy</td>\n",
       "      <td>2.5826</td>\n",
       "      <td>Buy</td>\n",
       "      <td>2.2766</td>\n",
       "      <td>10.3413</td>\n",
       "    </tr>\n",
       "  </tbody>\n",
       "</table>\n",
       "</div>"
      ],
      "text/plain": [
       "   stock    1_Day_Pred  1_Day_Model_Return    3_Day_Pred  3_Day_Model_Return  \\\n",
       "0   pypl           Buy              1.0955           Buy              1.3493   \n",
       "1   qgen  Hold or Sell              1.5453           Buy              1.8508   \n",
       "2    run           Buy              1.0129           Buy              0.8369   \n",
       "3   okta           Buy              1.1754  Hold or Sell              1.1725   \n",
       "4   orcl           Buy              2.2038           Buy              2.6856   \n",
       "5    qqq           Buy              2.1764           Buy              2.4104   \n",
       "6   srpt           Buy              0.3810           Buy              1.9063   \n",
       "7   tpic           Buy              0.7955           Buy              0.7102   \n",
       "8   tsla  Hold or Sell              2.4608  Hold or Sell              2.0822   \n",
       "9      v           Buy              1.5771           Buy              1.6450   \n",
       "10  vbiv           Buy              2.4878           Buy              2.5467   \n",
       "11   vbr           Buy              1.4556           Buy              1.5824   \n",
       "12  viov           Buy              1.5823           Buy              1.6606   \n",
       "13   vgt           Buy              2.2816           Buy              2.4200   \n",
       "14   xlk           Buy              2.5109           Buy              2.5826   \n",
       "\n",
       "      5_Day_Pred  5_Day_Model_Return  Actual_Returns  \n",
       "0            Buy              1.5872          6.3635  \n",
       "1   Hold or Sell              1.7710          0.4194  \n",
       "2            Buy              0.8822          7.0513  \n",
       "3            Buy              1.2545          7.8870  \n",
       "4            Buy              2.9138        470.2156  \n",
       "5            Buy              2.2808         15.5609  \n",
       "6            Buy              2.0587          1.1739  \n",
       "7            Buy              0.8995          1.2722  \n",
       "8   Hold or Sell              2.6998         91.1110  \n",
       "9            Buy              1.9370          9.6866  \n",
       "10  Hold or Sell              4.3832         -0.9306  \n",
       "11           Buy              1.5602          2.3784  \n",
       "12           Buy              1.7701          2.1864  \n",
       "13           Buy              2.3103          8.1031  \n",
       "14           Buy              2.2766         10.3413  "
      ]
     },
     "execution_count": 33,
     "metadata": {},
     "output_type": "execute_result"
    }
   ],
   "source": [
    "summary_df = a.pred_summary_df(start_dates3, stocks = [x for x in start_dates3], days_back = 1)\n",
    "summary_df"
   ]
  },
  {
   "cell_type": "code",
   "execution_count": 34,
   "metadata": {},
   "outputs": [
    {
     "data": {
      "text/plain": [
       "(1.5771, 1.8508, 1.937, 7.0513)"
      ]
     },
     "execution_count": 34,
     "metadata": {},
     "output_type": "execute_result"
    }
   ],
   "source": [
    "summary_df['1_Day_Model_Return'].median(), summary_df['3_Day_Model_Return'].median(), summary_df['5_Day_Model_Return'].median(), summary_df['Actual_Returns'].median()"
   ]
  },
  {
   "cell_type": "code",
   "execution_count": null,
   "metadata": {},
   "outputs": [],
   "source": []
  },
  {
   "cell_type": "code",
   "execution_count": null,
   "metadata": {},
   "outputs": [],
   "source": []
  },
  {
   "cell_type": "code",
   "execution_count": null,
   "metadata": {},
   "outputs": [],
   "source": [
    "    "
   ]
  },
  {
   "cell_type": "code",
   "execution_count": null,
   "metadata": {},
   "outputs": [],
   "source": []
  }
 ],
 "metadata": {
  "kernelspec": {
   "display_name": "Python 3",
   "language": "python",
   "name": "python3"
  },
  "language_info": {
   "codemirror_mode": {
    "name": "ipython",
    "version": 3
   },
   "file_extension": ".py",
   "mimetype": "text/x-python",
   "name": "python",
   "nbconvert_exporter": "python",
   "pygments_lexer": "ipython3",
   "version": "3.8.10"
  }
 },
 "nbformat": 4,
 "nbformat_minor": 4
}
