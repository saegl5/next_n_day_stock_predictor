{
 "cells": [
  {
   "cell_type": "code",
   "execution_count": 1,
   "metadata": {
    "scrolled": true
   },
   "outputs": [],
   "source": [
    "from src import attributes as a\n",
    "%load_ext autoreload\n",
    "%autoreload 2"
   ]
  },
  {
   "cell_type": "code",
   "execution_count": 2,
   "metadata": {},
   "outputs": [],
   "source": [
    "# Global Variables\n",
    "stock_name = 'msft' # ticker symbol\n",
    "train = 0 # 1 for train, 0 for pass\n",
    "days_ahead = 1 # for predicting 1, 3, or 5 days ahead\n",
    "days_back = -1 # -1 for current data point, -2 for two days ago, etc...\n",
    "cv = 5 # number of cross validation folds\n",
    "model_name = 'Random Forest Classifier' # for display on charts, not a tuning parameter"
   ]
  },
  {
   "cell_type": "code",
   "execution_count": 3,
   "metadata": {},
   "outputs": [],
   "source": [
    "# Extract, Transform, Load, and Train Test Split\n",
    "# Dictionary of IPO Dates\n",
    "start_dates = {'a': '11/15/1999' # Updated 3/18/21 1D, 3D, 5D ahead\n",
    "               , 'aapl':'12/12/1980' # Updated 3/18/21 1D, 3D, 5D ahead\n",
    "               , 'acy': '01/18/1998' # Updated 3/18/21 1D, 3D, 5D ahead\n",
    "               , 'adbe': '08/11/1986' # Updated 3/18/21 1D, 3D, 5D ahead\n",
    "               , 'alb': '02/21/1994' # Updated 3/18/21 1D, 3D, 5D ahead\n",
    "               , 'amat': '03/16/1980' # Updated 3/18/21 1D, 3D, 5D ahead\n",
    "               , 'amd': '03/17/1980' # Updated 3/18/21 1D, 3D, 5D ahead\n",
    "               , 'amgn': '06/13/1983' # Updated 3/18/21 1D, 3D, 5D ahead\n",
    "               , 'amzn': '05/12/1997' # Updated 3/18/21 1D, 3D, 5D ahead\n",
    "               , 'baba': '09/15/2014' # Updated 3/18/21 1D, 3D, 5D ahead\n",
    "               , 'bac': '02/19/1973' # Updated 3/18/21 1D, 3D, 5D ahead\n",
    "               , 'bpmc': '04/27/2015' # Updated 3/18/21 1D, 3D, 5D ahead\n",
    "               , 'crm': '06/23/2004' # Updated 3/18/21 1D, 3D, 5D ahead\n",
    "               , 'crsp': '10/16/2016' # Updated 3/18/21 1D, 3D, 5D ahead\n",
    "               , 'dq': '10/04/2010' # Updated 3/18/21 1D, 3D, 5D ahead\n",
    "               , 'esgv': '09/16/2018' # Updated 3/18/21 1D, 3D, 5D ahead\n",
    "               , 'fslr': '11/12/2006' # Updated 3/18/21 1D, 3D, 5D ahead\n",
    "               , 'goog': '08/16/2004' # Updated 3/18/21 1D, 3D, 5D ahead\n",
    "               , 'ibm': '01/02/1962' # Updated 3/18/21 1D, 3D, 5D ahead\n",
    "               , 'intc': '03/16/1980' # Updated 3/18/21 1D, 3D, 5D ahead\n",
    "               , 'iyw': '05/15/2000' # Updated 3/18/21 1D, 3D, 5D ahead\n",
    "               , 'lng': '04/04/1994' # Updated 3/18/21 1D, 3D, 5D ahead\n",
    "               , 'ma': '05/21/2006' # Updated 3/18/21 1D, 3D, 5D ahead\n",
    "               , 'mdb': '10/15/2017' # Updated 3/18/21 1D, 3D, 5D ahead\n",
    "               , 'msft': '03/10/1986' # Updated 3/18/21 1D, 3D, 5D ahead\n",
    "               , 'mu': '05/28/1984' # Updated 3/18/21 1D, 3D, 5D ahead\n",
    "               , 'nee': '02/19/1973' # Updated 3/18/21 1D, 3D, 5D ahead\n",
    "               , 'nio': '09/10/2018' # Updated 3/18/21 1D, 3D, 5D ahead\n",
    "               , 'nvda': '01/22/1999' # Updated 3/18/21 1D, 3D, 5D ahead\n",
    "               , 'pacb': '10/25/2010' # Updated 3/18/21 1D, 3D, 5D ahead\n",
    "               , 'pypl': '07/05/2015' # Updated 3/18/21 1D, 3D, 5D ahead\n",
    "               , 'qgen': '06/24/1996' # Updated 3/18/21 1D, 3D, 5D ahead\n",
    "               , 'run': '08/02/2015' # Updated 3/18/21 1D, 3D, 5D ahead\n",
    "               , 'okta': '04/03/2017' # Updated 3/18/21 1D, 3D, 5D ahead\n",
    "               , 'orcl': '03/10/1986' # Updated 3/18/21 1D, 3D, 5D ahead\n",
    "               , 'qqq': '03/08/1999' # Updated 3/18/21 1D, 3D, 5D ahead\n",
    "               , 'srpt': '06/02/1997' # Updated 3/18/21 1D, 3D, 5D ahead\n",
    "               , 'tpic': '07/17/2016' # Updated 3/18/21 1D, 3D, 5D ahead\n",
    "               , 'tsla': '06/29/2010' # Updated 3/18/21 1D, 3D, 5D ahead\n",
    "               , 'v': '03/16/2008' # Updated 3/18/21 1D, 3D, 5D ahead\n",
    "               , 'vbiv': '09/04/2002' # Updated 3/818/21 1D, 3D, 5D ahead\n",
    "               , 'vbr': '01/26/2004' # Updated 3/18/21 1D, 3D, 5D ahead\n",
    "               , 'viov': '09/06/2010' # Updated 3/18/21 1D, 3D, 5D ahead\n",
    "               , 'vgt': '01/26/2004' # Updated 3/18/21 1D, 3D, 5D ahead\n",
    "               , 'xlk': '12/21/1998' # Updated 3/18/21 1D, 3D, 5D ahead\n",
    "              }"
   ]
  },
  {
   "cell_type": "code",
   "execution_count": null,
   "metadata": {},
   "outputs": [],
   "source": []
  },
  {
   "cell_type": "code",
   "execution_count": 4,
   "metadata": {},
   "outputs": [],
   "source": [
    "# X_train, X_test, y_train, y_test, stock_df = a.data(stock_name, start_dates[stock_name], days_ahead)\n",
    "# stock_df.tail(10)"
   ]
  },
  {
   "cell_type": "code",
   "execution_count": 5,
   "metadata": {
    "scrolled": false
   },
   "outputs": [],
   "source": [
    "# GridSerach to find best hyperparameters to prevent overfitting, can be commented out once trained\n",
    "# if train == 1:\n",
    "#     a.rfc_GridSearch(X_train, y_train, stock_name, days_ahead, cv)\n",
    "# elif train == 0:\n",
    "#     pass"
   ]
  },
  {
   "cell_type": "code",
   "execution_count": 6,
   "metadata": {},
   "outputs": [],
   "source": [
    "# Load RandomForextClassifier Model\n",
    "# rfc_model, y_pred, y_probs = a.rfc(X_train, X_test, y_train, stock_name, days_ahead)"
   ]
  },
  {
   "cell_type": "code",
   "execution_count": 7,
   "metadata": {
    "scrolled": false
   },
   "outputs": [],
   "source": [
    "# ROC Curve\n",
    "# a.roc_plot(y_test, y_probs, stock_name, model_name)"
   ]
  },
  {
   "cell_type": "code",
   "execution_count": 8,
   "metadata": {
    "scrolled": false
   },
   "outputs": [],
   "source": [
    "# Precision Recall Curve\n",
    "# a.prec_recall(y_test, y_probs, stock_name, model_name)"
   ]
  },
  {
   "cell_type": "code",
   "execution_count": 9,
   "metadata": {
    "scrolled": false
   },
   "outputs": [],
   "source": [
    "# Confusion Matrix\n",
    "# a.confusion_matrix(rfc_model, X_test, y_test, stock_name)"
   ]
  },
  {
   "cell_type": "code",
   "execution_count": 10,
   "metadata": {},
   "outputs": [],
   "source": [
    "# Cross Validation\n",
    "# a.cross_validation(rfc_model\n",
    "#                    , stock_df[['oc', 'hl', '5stdev_adj', '5sma_adj']]\n",
    "#                    , stock_df['direction']\n",
    "#                    , cv = 5\n",
    "#                   )"
   ]
  },
  {
   "cell_type": "markdown",
   "metadata": {},
   "source": [
    "### Prediction..."
   ]
  },
  {
   "cell_type": "code",
   "execution_count": 11,
   "metadata": {
    "scrolled": true
   },
   "outputs": [],
   "source": [
    "# Prediction, use last day of data\n",
    "# stock_df.iloc[-1]"
   ]
  },
  {
   "cell_type": "code",
   "execution_count": 12,
   "metadata": {},
   "outputs": [],
   "source": [
    "# import numpy as np\n",
    "# last = stock_df[['oc', 'hl', '5stdev_adj', '5sma_adj']].iloc[-days_back]\n",
    "# last"
   ]
  },
  {
   "cell_type": "code",
   "execution_count": 13,
   "metadata": {},
   "outputs": [],
   "source": [
    "# stock_df['adj'].describe()"
   ]
  },
  {
   "cell_type": "code",
   "execution_count": 14,
   "metadata": {
    "scrolled": true
   },
   "outputs": [],
   "source": [
    "# if rfc_model.predict(np.array(last).reshape(1, -1))[0] == 1:\n",
    "#     print(f'Buy {stock_name} {days_ahead} day(s) ahead')\n",
    "# else:\n",
    "#     print(f'Sell or hold {stock_name} {days_ahead} day(s) ahead')"
   ]
  },
  {
   "cell_type": "markdown",
   "metadata": {},
   "source": [
    "### Strategy Returns..."
   ]
  },
  {
   "cell_type": "code",
   "execution_count": 15,
   "metadata": {},
   "outputs": [],
   "source": [
    "# returns on strategy column\n",
    "# stock_df['prediction'] = rfc_model.predict(stock_df[['oc', 'hl', '5stdev_adj', '5sma_adj']])\n",
    "# stock_df['returns'] = stock_df['adj'].shift(-1, fill_value = stock_df['adj'].median()) * stock_df['prediction']"
   ]
  },
  {
   "cell_type": "code",
   "execution_count": 16,
   "metadata": {},
   "outputs": [],
   "source": [
    "# stock_df.tail(5)"
   ]
  },
  {
   "cell_type": "code",
   "execution_count": 17,
   "metadata": {},
   "outputs": [],
   "source": [
    "# Don't trade every day!\n",
    "# import matplotlib.pyplot as plt\n",
    "# test_length = len(y_test)\n",
    "# (stock_df['returns'][-test_length:] + 1).cumprod().plot()\n",
    "# plt.title(f'{stock_name} Expected Returns %');"
   ]
  },
  {
   "cell_type": "code",
   "execution_count": 18,
   "metadata": {},
   "outputs": [],
   "source": [
    "# Model returns if bought on predictions of 1\n",
    "# returns_on_ones = []\n",
    "# for idx in range(-test_length, 0):\n",
    "#     if stock_df['prediction'][idx] == 1:\n",
    "#         returns_on_ones.append(1 + stock_df['returns'][idx])\n",
    "\n",
    "# returns = 1\n",
    "# for x in returns_on_ones:\n",
    "#     returns *= x\n",
    "# returns"
   ]
  },
  {
   "cell_type": "code",
   "execution_count": 19,
   "metadata": {},
   "outputs": [],
   "source": [
    "# multiple times original investment, not bad but..."
   ]
  },
  {
   "cell_type": "code",
   "execution_count": 20,
   "metadata": {},
   "outputs": [],
   "source": [
    "# If purchased in 2012 and left it until now\n",
    "# test_idx = int(len(stock_df)*0.75)\n",
    "# (stock_df['Close'][-1] - stock_df['Close'][-test_idx]) / stock_df['Close'][-test_idx]"
   ]
  },
  {
   "cell_type": "code",
   "execution_count": 21,
   "metadata": {},
   "outputs": [],
   "source": [
    "# Buy and hold strategy beats RandomForestClassifier in this study\n",
    "\n",
    "# Special thanks to Shagufta Tahsildar at https://blog.quantinsti.com/random-forest-algorithm-in-python/"
   ]
  },
  {
   "cell_type": "code",
   "execution_count": null,
   "metadata": {},
   "outputs": [],
   "source": []
  },
  {
   "cell_type": "code",
   "execution_count": null,
   "metadata": {},
   "outputs": [],
   "source": []
  },
  {
   "cell_type": "code",
   "execution_count": null,
   "metadata": {},
   "outputs": [],
   "source": []
  },
  {
   "cell_type": "markdown",
   "metadata": {},
   "source": [
    "### Training"
   ]
  },
  {
   "cell_type": "markdown",
   "metadata": {},
   "source": [
    "Training is done once a week on Saturday and Sunday"
   ]
  },
  {
   "cell_type": "code",
   "execution_count": 22,
   "metadata": {},
   "outputs": [
    {
     "data": {
      "text/plain": [
       "45"
      ]
     },
     "execution_count": 22,
     "metadata": {},
     "output_type": "execute_result"
    }
   ],
   "source": [
    "len(start_dates)"
   ]
  },
  {
   "cell_type": "code",
   "execution_count": 23,
   "metadata": {},
   "outputs": [
    {
     "data": {
      "text/plain": [
       "{'a': '11/15/1999',\n",
       " 'aapl': '12/12/1980',\n",
       " 'acy': '01/18/1998',\n",
       " 'adbe': '08/11/1986',\n",
       " 'alb': '02/21/1994',\n",
       " 'amat': '03/16/1980',\n",
       " 'amd': '03/17/1980',\n",
       " 'amgn': '06/13/1983',\n",
       " 'amzn': '05/12/1997',\n",
       " 'baba': '09/15/2014',\n",
       " 'bac': '02/19/1973',\n",
       " 'bpmc': '04/27/2015',\n",
       " 'crm': '06/23/2004',\n",
       " 'crsp': '10/16/2016',\n",
       " 'dq': '10/04/2010'}"
      ]
     },
     "execution_count": 23,
     "metadata": {},
     "output_type": "execute_result"
    }
   ],
   "source": [
    "import itertools as itr\n",
    "start_dates1 = dict(itr.islice(start_dates.items(), 0, 15))\n",
    "start_dates1"
   ]
  },
  {
   "cell_type": "code",
   "execution_count": 24,
   "metadata": {},
   "outputs": [
    {
     "data": {
      "text/plain": [
       "{'esgv': '09/16/2018',\n",
       " 'fslr': '11/12/2006',\n",
       " 'goog': '08/16/2004',\n",
       " 'ibm': '01/02/1962',\n",
       " 'intc': '03/16/1980',\n",
       " 'iyw': '05/15/2000',\n",
       " 'lng': '04/04/1994',\n",
       " 'ma': '05/21/2006',\n",
       " 'mdb': '10/15/2017',\n",
       " 'msft': '03/10/1986',\n",
       " 'mu': '05/28/1984',\n",
       " 'nee': '02/19/1973',\n",
       " 'nio': '09/10/2018',\n",
       " 'nvda': '01/22/1999',\n",
       " 'pacb': '10/25/2010'}"
      ]
     },
     "execution_count": 24,
     "metadata": {},
     "output_type": "execute_result"
    }
   ],
   "source": [
    "start_dates2 = dict(itr.islice(start_dates.items(), 15, 30))\n",
    "start_dates2"
   ]
  },
  {
   "cell_type": "code",
   "execution_count": 25,
   "metadata": {},
   "outputs": [
    {
     "data": {
      "text/plain": [
       "{'pypl': '07/05/2015',\n",
       " 'qgen': '06/24/1996',\n",
       " 'run': '08/02/2015',\n",
       " 'okta': '04/03/2017',\n",
       " 'orcl': '03/10/1986',\n",
       " 'qqq': '03/08/1999',\n",
       " 'srpt': '06/02/1997',\n",
       " 'tpic': '07/17/2016',\n",
       " 'tsla': '06/29/2010',\n",
       " 'v': '03/16/2008',\n",
       " 'vbiv': '09/04/2002',\n",
       " 'vbr': '01/26/2004',\n",
       " 'viov': '09/06/2010',\n",
       " 'vgt': '01/26/2004',\n",
       " 'xlk': '12/21/1998'}"
      ]
     },
     "execution_count": 25,
     "metadata": {},
     "output_type": "execute_result"
    }
   ],
   "source": [
    "start_dates3 = dict(itr.islice(start_dates.items(), 30, 45+1))\n",
    "start_dates3"
   ]
  },
  {
   "cell_type": "code",
   "execution_count": 26,
   "metadata": {},
   "outputs": [],
   "source": [
    "#Train 15 at a time!\n",
    "# stocks = [x for x in start_dates1]\n",
    "# days_ahead = [1, 3, 5]\n",
    "# cv = 5\n",
    "# for stock in stocks:\n",
    "#     for days in days_ahead:\n",
    "#         X_train, X_test, y_train, y_test, stock_df = a.data(stock, start_dates[stock], days)\n",
    "#         a.rfc_GridSearch(X_train, y_train, stock, days, cv)\n",
    "# len(stocks)\n",
    "\n",
    "# stocks = [x for x in start_dates2]\n",
    "# days_ahead = [1, 3, 5]\n",
    "# cv = 5\n",
    "# for stock in stocks:\n",
    "#     for days in days_ahead:\n",
    "#         X_train, X_test, y_train, y_test, stock_df = a.data(stock, start_dates[stock], days)\n",
    "#         a.rfc_GridSearch(X_train, y_train, stock, days, cv)\n",
    "# len(stocks)\n",
    "\n",
    "# stocks = [x for x in start_dates3]\n",
    "# days_ahead = [1, 3, 5]\n",
    "# cv = 5\n",
    "# for stock in stocks:\n",
    "#     for days in days_ahead:\n",
    "#         X_train, X_test, y_train, y_test, stock_df = a.data(stock, start_dates[stock], days)\n",
    "#         a.rfc_GridSearch(X_train, y_train, stock, days, cv)\n",
    "# len(stocks)\n",
    "\n",
    "# # Train all, takes 15+ hours\n",
    "# stocks = [x for x in start_dates]\n",
    "# days_ahead = [1, 3, 5]\n",
    "# cv = 5\n",
    "# for stock in stocks:\n",
    "#     for days in days_ahead:\n",
    "#         X_train, X_test, y_train, y_test, stock_df = a.data(stock, start_dates[stock], days)\n",
    "#         a.rfc_GridSearch(X_train, y_train, stock, days, cv)\n",
    "# len(stocks)\n",
    "\n",
    "# Train desired stocks...takes less time\n",
    "# stocks = ['aapl']\n",
    "# days_ahead = [1, 3, 5]\n",
    "# cv = 5\n",
    "# for stock in stocks:\n",
    "#     for days in days_ahead:\n",
    "#         X_train, X_test, y_train, y_test, stock_df = a.data(stock, start_dates[stock], days)\n",
    "#         a.rfc_GridSearch(X_train, y_train, stock, days, cv)"
   ]
  },
  {
   "cell_type": "code",
   "execution_count": null,
   "metadata": {},
   "outputs": [],
   "source": []
  },
  {
   "cell_type": "code",
   "execution_count": null,
   "metadata": {},
   "outputs": [],
   "source": []
  },
  {
   "cell_type": "code",
   "execution_count": null,
   "metadata": {},
   "outputs": [],
   "source": []
  },
  {
   "cell_type": "markdown",
   "metadata": {},
   "source": [
    "### Display All Results"
   ]
  },
  {
   "cell_type": "code",
   "execution_count": 27,
   "metadata": {
    "scrolled": false
   },
   "outputs": [
    {
     "name": "stdout",
     "output_type": "stream",
     "text": [
      "Sell or hold tsla 5 day(s) ahead\n",
      "Model Returns (x 100 for %): 3.4653\n",
      "Stock Returns (x 100 for %): 107.4381\n"
     ]
    },
    {
     "data": {
      "image/png": "[encoded data removed]",
      "text/plain": [
       "<Figure size 432x288 with 1 Axes>"
      ]
     },
     "metadata": {},
     "output_type": "display_data"
    },
    {
     "data": {
      "image/png": "[encoded data removed]",
      "text/plain": [
       "<Figure size 648x504 with 1 Axes>"
      ]
     },
     "metadata": {},
     "output_type": "display_data"
    },
    {
     "data": {
      "image/png": "[encoded data removed]",
      "text/plain": [
       "<Figure size 648x504 with 1 Axes>"
      ]
     },
     "metadata": {},
     "output_type": "display_data"
    },
    {
     "data": {
      "image/png": "[encoded data removed]",
      "text/plain": [
       "<Figure size 684x612 with 2 Axes>"
      ]
     },
     "metadata": {},
     "output_type": "display_data"
    }
   ],
   "source": [
    "stock_name = 'tsla'\n",
    "a.all_func(stock_name\n",
    "           , start_dates[stock_name]\n",
    "           , days_ahead = 5\n",
    "           , model_name = model_name\n",
    "           , days_back = 1\n",
    "          )"
   ]
  },
  {
   "cell_type": "code",
   "execution_count": null,
   "metadata": {},
   "outputs": [],
   "source": []
  },
  {
   "cell_type": "code",
   "execution_count": null,
   "metadata": {},
   "outputs": [],
   "source": []
  },
  {
   "cell_type": "code",
   "execution_count": null,
   "metadata": {},
   "outputs": [],
   "source": []
  },
  {
   "cell_type": "markdown",
   "metadata": {},
   "source": [
    "### Data Frame of Predictions 1 3 5 Days"
   ]
  },
  {
   "cell_type": "code",
   "execution_count": 28,
   "metadata": {},
   "outputs": [
    {
     "name": "stdout",
     "output_type": "stream",
     "text": [
      "Today's date: 2021-04-13\n"
     ]
    }
   ],
   "source": [
    "from datetime import date\n",
    "\n",
    "today = date.today()\n",
    "print(\"Today's date:\", today)"
   ]
  },
  {
   "cell_type": "code",
   "execution_count": 29,
   "metadata": {
    "scrolled": false
   },
   "outputs": [
    {
     "data": {
      "text/html": [
       "<div>\n",
       "<style scoped>\n",
       "    .dataframe tbody tr th:only-of-type {\n",
       "        vertical-align: middle;\n",
       "    }\n",
       "\n",
       "    .dataframe tbody tr th {\n",
       "        vertical-align: top;\n",
       "    }\n",
       "\n",
       "    .dataframe thead th {\n",
       "        text-align: right;\n",
       "    }\n",
       "</style>\n",
       "<table border=\"1\" class=\"dataframe\">\n",
       "  <thead>\n",
       "    <tr style=\"text-align: right;\">\n",
       "      <th></th>\n",
       "      <th>stock</th>\n",
       "      <th>1_Day_Pred</th>\n",
       "      <th>1_Day_Model_Return</th>\n",
       "      <th>3_Day_Pred</th>\n",
       "      <th>3_Day_Model_Return</th>\n",
       "      <th>5_Day_Pred</th>\n",
       "      <th>5_Day_Model_Return</th>\n",
       "      <th>Actual_Returns</th>\n",
       "    </tr>\n",
       "  </thead>\n",
       "  <tbody>\n",
       "    <tr>\n",
       "      <th>0</th>\n",
       "      <td>a</td>\n",
       "      <td>Hold or Sell</td>\n",
       "      <td>3.8776</td>\n",
       "      <td>Hold or Sell</td>\n",
       "      <td>4.1171</td>\n",
       "      <td>Hold or Sell</td>\n",
       "      <td>3.7078</td>\n",
       "      <td>7.5823</td>\n",
       "    </tr>\n",
       "    <tr>\n",
       "      <th>1</th>\n",
       "      <td>aapl</td>\n",
       "      <td>Hold or Sell</td>\n",
       "      <td>3.2900</td>\n",
       "      <td>Hold or Sell</td>\n",
       "      <td>4.0277</td>\n",
       "      <td>Hold or Sell</td>\n",
       "      <td>3.3447</td>\n",
       "      <td>318.4940</td>\n",
       "    </tr>\n",
       "    <tr>\n",
       "      <th>2</th>\n",
       "      <td>acy</td>\n",
       "      <td>Buy</td>\n",
       "      <td>1.2361</td>\n",
       "      <td>Buy</td>\n",
       "      <td>0.6482</td>\n",
       "      <td>Buy</td>\n",
       "      <td>0.5190</td>\n",
       "      <td>2.3613</td>\n",
       "    </tr>\n",
       "    <tr>\n",
       "      <th>3</th>\n",
       "      <td>adbe</td>\n",
       "      <td>Hold or Sell</td>\n",
       "      <td>8.5450</td>\n",
       "      <td>Hold or Sell</td>\n",
       "      <td>6.4862</td>\n",
       "      <td>Hold or Sell</td>\n",
       "      <td>5.6012</td>\n",
       "      <td>84.3654</td>\n",
       "    </tr>\n",
       "    <tr>\n",
       "      <th>4</th>\n",
       "      <td>alb</td>\n",
       "      <td>Hold or Sell</td>\n",
       "      <td>2.1576</td>\n",
       "      <td>Hold or Sell</td>\n",
       "      <td>1.9063</td>\n",
       "      <td>Hold or Sell</td>\n",
       "      <td>2.0937</td>\n",
       "      <td>11.9200</td>\n",
       "    </tr>\n",
       "    <tr>\n",
       "      <th>5</th>\n",
       "      <td>amat</td>\n",
       "      <td>Buy</td>\n",
       "      <td>7.6218</td>\n",
       "      <td>Buy</td>\n",
       "      <td>8.5576</td>\n",
       "      <td>Buy</td>\n",
       "      <td>10.0765</td>\n",
       "      <td>234.2761</td>\n",
       "    </tr>\n",
       "    <tr>\n",
       "      <th>6</th>\n",
       "      <td>amd</td>\n",
       "      <td>Hold or Sell</td>\n",
       "      <td>10.7318</td>\n",
       "      <td>Hold or Sell</td>\n",
       "      <td>6.1403</td>\n",
       "      <td>Hold or Sell</td>\n",
       "      <td>10.1235</td>\n",
       "      <td>16.3384</td>\n",
       "    </tr>\n",
       "    <tr>\n",
       "      <th>7</th>\n",
       "      <td>amgn</td>\n",
       "      <td>Hold or Sell</td>\n",
       "      <td>4.8350</td>\n",
       "      <td>Hold or Sell</td>\n",
       "      <td>5.1804</td>\n",
       "      <td>Hold or Sell</td>\n",
       "      <td>4.7242</td>\n",
       "      <td>24.9267</td>\n",
       "    </tr>\n",
       "    <tr>\n",
       "      <th>8</th>\n",
       "      <td>amzn</td>\n",
       "      <td>Hold or Sell</td>\n",
       "      <td>3.2551</td>\n",
       "      <td>Hold or Sell</td>\n",
       "      <td>2.9895</td>\n",
       "      <td>Hold or Sell</td>\n",
       "      <td>3.9350</td>\n",
       "      <td>103.1986</td>\n",
       "    </tr>\n",
       "    <tr>\n",
       "      <th>9</th>\n",
       "      <td>baba</td>\n",
       "      <td>Buy</td>\n",
       "      <td>1.7640</td>\n",
       "      <td>Hold or Sell</td>\n",
       "      <td>1.3081</td>\n",
       "      <td>Hold or Sell</td>\n",
       "      <td>1.5674</td>\n",
       "      <td>2.0484</td>\n",
       "    </tr>\n",
       "    <tr>\n",
       "      <th>10</th>\n",
       "      <td>bac</td>\n",
       "      <td>Buy</td>\n",
       "      <td>7.1327</td>\n",
       "      <td>Buy</td>\n",
       "      <td>3.0724</td>\n",
       "      <td>Buy</td>\n",
       "      <td>4.5156</td>\n",
       "      <td>7.7682</td>\n",
       "    </tr>\n",
       "    <tr>\n",
       "      <th>11</th>\n",
       "      <td>bpmc</td>\n",
       "      <td>Buy</td>\n",
       "      <td>2.3356</td>\n",
       "      <td>Buy</td>\n",
       "      <td>2.2793</td>\n",
       "      <td>Buy</td>\n",
       "      <td>1.8255</td>\n",
       "      <td>2.0379</td>\n",
       "    </tr>\n",
       "    <tr>\n",
       "      <th>12</th>\n",
       "      <td>crm</td>\n",
       "      <td>Hold or Sell</td>\n",
       "      <td>2.0119</td>\n",
       "      <td>Hold or Sell</td>\n",
       "      <td>1.8855</td>\n",
       "      <td>Hold or Sell</td>\n",
       "      <td>2.3709</td>\n",
       "      <td>15.5448</td>\n",
       "    </tr>\n",
       "    <tr>\n",
       "      <th>13</th>\n",
       "      <td>crsp</td>\n",
       "      <td>Hold or Sell</td>\n",
       "      <td>1.1442</td>\n",
       "      <td>Hold or Sell</td>\n",
       "      <td>0.7651</td>\n",
       "      <td>Hold or Sell</td>\n",
       "      <td>1.0421</td>\n",
       "      <td>5.3156</td>\n",
       "    </tr>\n",
       "    <tr>\n",
       "      <th>14</th>\n",
       "      <td>dq</td>\n",
       "      <td>Hold or Sell</td>\n",
       "      <td>5.3558</td>\n",
       "      <td>Buy</td>\n",
       "      <td>4.0382</td>\n",
       "      <td>Buy</td>\n",
       "      <td>6.5927</td>\n",
       "      <td>49.9145</td>\n",
       "    </tr>\n",
       "  </tbody>\n",
       "</table>\n",
       "</div>"
      ],
      "text/plain": [
       "   stock    1_Day_Pred  1_Day_Model_Return    3_Day_Pred  3_Day_Model_Return  \\\n",
       "0      a  Hold or Sell              3.8776  Hold or Sell              4.1171   \n",
       "1   aapl  Hold or Sell              3.2900  Hold or Sell              4.0277   \n",
       "2    acy           Buy              1.2361           Buy              0.6482   \n",
       "3   adbe  Hold or Sell              8.5450  Hold or Sell              6.4862   \n",
       "4    alb  Hold or Sell              2.1576  Hold or Sell              1.9063   \n",
       "5   amat           Buy              7.6218           Buy              8.5576   \n",
       "6    amd  Hold or Sell             10.7318  Hold or Sell              6.1403   \n",
       "7   amgn  Hold or Sell              4.8350  Hold or Sell              5.1804   \n",
       "8   amzn  Hold or Sell              3.2551  Hold or Sell              2.9895   \n",
       "9   baba           Buy              1.7640  Hold or Sell              1.3081   \n",
       "10   bac           Buy              7.1327           Buy              3.0724   \n",
       "11  bpmc           Buy              2.3356           Buy              2.2793   \n",
       "12   crm  Hold or Sell              2.0119  Hold or Sell              1.8855   \n",
       "13  crsp  Hold or Sell              1.1442  Hold or Sell              0.7651   \n",
       "14    dq  Hold or Sell              5.3558           Buy              4.0382   \n",
       "\n",
       "      5_Day_Pred  5_Day_Model_Return  Actual_Returns  \n",
       "0   Hold or Sell              3.7078          7.5823  \n",
       "1   Hold or Sell              3.3447        318.4940  \n",
       "2            Buy              0.5190          2.3613  \n",
       "3   Hold or Sell              5.6012         84.3654  \n",
       "4   Hold or Sell              2.0937         11.9200  \n",
       "5            Buy             10.0765        234.2761  \n",
       "6   Hold or Sell             10.1235         16.3384  \n",
       "7   Hold or Sell              4.7242         24.9267  \n",
       "8   Hold or Sell              3.9350        103.1986  \n",
       "9   Hold or Sell              1.5674          2.0484  \n",
       "10           Buy              4.5156          7.7682  \n",
       "11           Buy              1.8255          2.0379  \n",
       "12  Hold or Sell              2.3709         15.5448  \n",
       "13  Hold or Sell              1.0421          5.3156  \n",
       "14           Buy              6.5927         49.9145  "
      ]
     },
     "execution_count": 29,
     "metadata": {},
     "output_type": "execute_result"
    }
   ],
   "source": [
    "summary_df = a.pred_summary_df(start_dates1, stocks = [x for x in start_dates1], days_back = 1)\n",
    "summary_df"
   ]
  },
  {
   "cell_type": "code",
   "execution_count": 30,
   "metadata": {},
   "outputs": [
    {
     "data": {
      "text/plain": [
       "(3.29, 3.0724, 3.7078, 15.5448)"
      ]
     },
     "execution_count": 30,
     "metadata": {},
     "output_type": "execute_result"
    }
   ],
   "source": [
    "summary_df['1_Day_Model_Return'].median(), summary_df['3_Day_Model_Return'].median(), summary_df['5_Day_Model_Return'].median(), summary_df['Actual_Returns'].median()"
   ]
  },
  {
   "cell_type": "code",
   "execution_count": 31,
   "metadata": {},
   "outputs": [
    {
     "data": {
      "text/html": [
       "<div>\n",
       "<style scoped>\n",
       "    .dataframe tbody tr th:only-of-type {\n",
       "        vertical-align: middle;\n",
       "    }\n",
       "\n",
       "    .dataframe tbody tr th {\n",
       "        vertical-align: top;\n",
       "    }\n",
       "\n",
       "    .dataframe thead th {\n",
       "        text-align: right;\n",
       "    }\n",
       "</style>\n",
       "<table border=\"1\" class=\"dataframe\">\n",
       "  <thead>\n",
       "    <tr style=\"text-align: right;\">\n",
       "      <th></th>\n",
       "      <th>stock</th>\n",
       "      <th>1_Day_Pred</th>\n",
       "      <th>1_Day_Model_Return</th>\n",
       "      <th>3_Day_Pred</th>\n",
       "      <th>3_Day_Model_Return</th>\n",
       "      <th>5_Day_Pred</th>\n",
       "      <th>5_Day_Model_Return</th>\n",
       "      <th>Actual_Returns</th>\n",
       "    </tr>\n",
       "  </thead>\n",
       "  <tbody>\n",
       "    <tr>\n",
       "      <th>0</th>\n",
       "      <td>esgv</td>\n",
       "      <td>Hold or Sell</td>\n",
       "      <td>1.1082</td>\n",
       "      <td>Hold or Sell</td>\n",
       "      <td>1.1738</td>\n",
       "      <td>Hold or Sell</td>\n",
       "      <td>1.1214</td>\n",
       "      <td>0.5621</td>\n",
       "    </tr>\n",
       "    <tr>\n",
       "      <th>1</th>\n",
       "      <td>fslr</td>\n",
       "      <td>Buy</td>\n",
       "      <td>2.1467</td>\n",
       "      <td>Hold or Sell</td>\n",
       "      <td>1.6962</td>\n",
       "      <td>Hold or Sell</td>\n",
       "      <td>1.5391</td>\n",
       "      <td>-0.3446</td>\n",
       "    </tr>\n",
       "    <tr>\n",
       "      <th>2</th>\n",
       "      <td>goog</td>\n",
       "      <td>Hold or Sell</td>\n",
       "      <td>2.8322</td>\n",
       "      <td>Hold or Sell</td>\n",
       "      <td>2.4490</td>\n",
       "      <td>Buy</td>\n",
       "      <td>3.6222</td>\n",
       "      <td>11.7971</td>\n",
       "    </tr>\n",
       "    <tr>\n",
       "      <th>3</th>\n",
       "      <td>ibm</td>\n",
       "      <td>Buy</td>\n",
       "      <td>2.7672</td>\n",
       "      <td>Buy</td>\n",
       "      <td>4.5466</td>\n",
       "      <td>Buy</td>\n",
       "      <td>4.8500</td>\n",
       "      <td>6.7881</td>\n",
       "    </tr>\n",
       "    <tr>\n",
       "      <th>4</th>\n",
       "      <td>intc</td>\n",
       "      <td>Buy</td>\n",
       "      <td>6.1770</td>\n",
       "      <td>Buy</td>\n",
       "      <td>6.4602</td>\n",
       "      <td>Buy</td>\n",
       "      <td>6.4410</td>\n",
       "      <td>43.4051</td>\n",
       "    </tr>\n",
       "    <tr>\n",
       "      <th>5</th>\n",
       "      <td>iyw</td>\n",
       "      <td>Hold or Sell</td>\n",
       "      <td>2.7734</td>\n",
       "      <td>Hold or Sell</td>\n",
       "      <td>5.0030</td>\n",
       "      <td>Hold or Sell</td>\n",
       "      <td>2.8089</td>\n",
       "      <td>6.9047</td>\n",
       "    </tr>\n",
       "    <tr>\n",
       "      <th>6</th>\n",
       "      <td>lng</td>\n",
       "      <td>Hold or Sell</td>\n",
       "      <td>1.3746</td>\n",
       "      <td>Hold or Sell</td>\n",
       "      <td>0.9577</td>\n",
       "      <td>Hold or Sell</td>\n",
       "      <td>1.0720</td>\n",
       "      <td>59.1660</td>\n",
       "    </tr>\n",
       "    <tr>\n",
       "      <th>7</th>\n",
       "      <td>ma</td>\n",
       "      <td>Buy</td>\n",
       "      <td>2.6946</td>\n",
       "      <td>Buy</td>\n",
       "      <td>2.4073</td>\n",
       "      <td>Buy</td>\n",
       "      <td>3.1990</td>\n",
       "      <td>15.8627</td>\n",
       "    </tr>\n",
       "    <tr>\n",
       "      <th>8</th>\n",
       "      <td>mdb</td>\n",
       "      <td>Hold or Sell</td>\n",
       "      <td>0.6864</td>\n",
       "      <td>Hold or Sell</td>\n",
       "      <td>0.8667</td>\n",
       "      <td>Hold or Sell</td>\n",
       "      <td>0.9509</td>\n",
       "      <td>2.7911</td>\n",
       "    </tr>\n",
       "    <tr>\n",
       "      <th>9</th>\n",
       "      <td>msft</td>\n",
       "      <td>Hold or Sell</td>\n",
       "      <td>8.3092</td>\n",
       "      <td>Hold or Sell</td>\n",
       "      <td>8.4038</td>\n",
       "      <td>Hold or Sell</td>\n",
       "      <td>10.7266</td>\n",
       "      <td>64.3888</td>\n",
       "    </tr>\n",
       "    <tr>\n",
       "      <th>10</th>\n",
       "      <td>mu</td>\n",
       "      <td>Buy</td>\n",
       "      <td>2.0616</td>\n",
       "      <td>Buy</td>\n",
       "      <td>2.4758</td>\n",
       "      <td>Buy</td>\n",
       "      <td>2.8779</td>\n",
       "      <td>17.2025</td>\n",
       "    </tr>\n",
       "    <tr>\n",
       "      <th>11</th>\n",
       "      <td>nee</td>\n",
       "      <td>Hold or Sell</td>\n",
       "      <td>4.2611</td>\n",
       "      <td>Hold or Sell</td>\n",
       "      <td>5.8924</td>\n",
       "      <td>Hold or Sell</td>\n",
       "      <td>5.0938</td>\n",
       "      <td>28.9323</td>\n",
       "    </tr>\n",
       "    <tr>\n",
       "      <th>12</th>\n",
       "      <td>nio</td>\n",
       "      <td>Hold or Sell</td>\n",
       "      <td>1.6445</td>\n",
       "      <td>Hold or Sell</td>\n",
       "      <td>1.4043</td>\n",
       "      <td>Hold or Sell</td>\n",
       "      <td>1.5297</td>\n",
       "      <td>7.2398</td>\n",
       "    </tr>\n",
       "    <tr>\n",
       "      <th>13</th>\n",
       "      <td>nvda</td>\n",
       "      <td>Hold or Sell</td>\n",
       "      <td>8.4864</td>\n",
       "      <td>Hold or Sell</td>\n",
       "      <td>7.0563</td>\n",
       "      <td>Hold or Sell</td>\n",
       "      <td>12.9488</td>\n",
       "      <td>151.3514</td>\n",
       "    </tr>\n",
       "    <tr>\n",
       "      <th>14</th>\n",
       "      <td>pacb</td>\n",
       "      <td>Hold or Sell</td>\n",
       "      <td>1.9639</td>\n",
       "      <td>Hold or Sell</td>\n",
       "      <td>1.9701</td>\n",
       "      <td>Hold or Sell</td>\n",
       "      <td>1.7855</td>\n",
       "      <td>10.5329</td>\n",
       "    </tr>\n",
       "  </tbody>\n",
       "</table>\n",
       "</div>"
      ],
      "text/plain": [
       "   stock    1_Day_Pred  1_Day_Model_Return    3_Day_Pred  3_Day_Model_Return  \\\n",
       "0   esgv  Hold or Sell              1.1082  Hold or Sell              1.1738   \n",
       "1   fslr           Buy              2.1467  Hold or Sell              1.6962   \n",
       "2   goog  Hold or Sell              2.8322  Hold or Sell              2.4490   \n",
       "3    ibm           Buy              2.7672           Buy              4.5466   \n",
       "4   intc           Buy              6.1770           Buy              6.4602   \n",
       "5    iyw  Hold or Sell              2.7734  Hold or Sell              5.0030   \n",
       "6    lng  Hold or Sell              1.3746  Hold or Sell              0.9577   \n",
       "7     ma           Buy              2.6946           Buy              2.4073   \n",
       "8    mdb  Hold or Sell              0.6864  Hold or Sell              0.8667   \n",
       "9   msft  Hold or Sell              8.3092  Hold or Sell              8.4038   \n",
       "10    mu           Buy              2.0616           Buy              2.4758   \n",
       "11   nee  Hold or Sell              4.2611  Hold or Sell              5.8924   \n",
       "12   nio  Hold or Sell              1.6445  Hold or Sell              1.4043   \n",
       "13  nvda  Hold or Sell              8.4864  Hold or Sell              7.0563   \n",
       "14  pacb  Hold or Sell              1.9639  Hold or Sell              1.9701   \n",
       "\n",
       "      5_Day_Pred  5_Day_Model_Return  Actual_Returns  \n",
       "0   Hold or Sell              1.1214          0.5621  \n",
       "1   Hold or Sell              1.5391         -0.3446  \n",
       "2            Buy              3.6222         11.7971  \n",
       "3            Buy              4.8500          6.7881  \n",
       "4            Buy              6.4410         43.4051  \n",
       "5   Hold or Sell              2.8089          6.9047  \n",
       "6   Hold or Sell              1.0720         59.1660  \n",
       "7            Buy              3.1990         15.8627  \n",
       "8   Hold or Sell              0.9509          2.7911  \n",
       "9   Hold or Sell             10.7266         64.3888  \n",
       "10           Buy              2.8779         17.2025  \n",
       "11  Hold or Sell              5.0938         28.9323  \n",
       "12  Hold or Sell              1.5297          7.2398  \n",
       "13  Hold or Sell             12.9488        151.3514  \n",
       "14  Hold or Sell              1.7855         10.5329  "
      ]
     },
     "execution_count": 31,
     "metadata": {},
     "output_type": "execute_result"
    }
   ],
   "source": [
    "summary_df = a.pred_summary_df(start_dates2, stocks = [x for x in start_dates2], days_back = 1)\n",
    "summary_df"
   ]
  },
  {
   "cell_type": "code",
   "execution_count": 32,
   "metadata": {},
   "outputs": [
    {
     "data": {
      "text/plain": [
       "(2.6946, 2.449, 2.8779, 11.7971)"
      ]
     },
     "execution_count": 32,
     "metadata": {},
     "output_type": "execute_result"
    }
   ],
   "source": [
    "summary_df['1_Day_Model_Return'].median(), summary_df['3_Day_Model_Return'].median(), summary_df['5_Day_Model_Return'].median(), summary_df['Actual_Returns'].median()"
   ]
  },
  {
   "cell_type": "code",
   "execution_count": 33,
   "metadata": {},
   "outputs": [
    {
     "data": {
      "text/html": [
       "<div>\n",
       "<style scoped>\n",
       "    .dataframe tbody tr th:only-of-type {\n",
       "        vertical-align: middle;\n",
       "    }\n",
       "\n",
       "    .dataframe tbody tr th {\n",
       "        vertical-align: top;\n",
       "    }\n",
       "\n",
       "    .dataframe thead th {\n",
       "        text-align: right;\n",
       "    }\n",
       "</style>\n",
       "<table border=\"1\" class=\"dataframe\">\n",
       "  <thead>\n",
       "    <tr style=\"text-align: right;\">\n",
       "      <th></th>\n",
       "      <th>stock</th>\n",
       "      <th>1_Day_Pred</th>\n",
       "      <th>1_Day_Model_Return</th>\n",
       "      <th>3_Day_Pred</th>\n",
       "      <th>3_Day_Model_Return</th>\n",
       "      <th>5_Day_Pred</th>\n",
       "      <th>5_Day_Model_Return</th>\n",
       "      <th>Actual_Returns</th>\n",
       "    </tr>\n",
       "  </thead>\n",
       "  <tbody>\n",
       "    <tr>\n",
       "      <th>0</th>\n",
       "      <td>pypl</td>\n",
       "      <td>Hold or Sell</td>\n",
       "      <td>1.7971</td>\n",
       "      <td>Hold or Sell</td>\n",
       "      <td>2.7052</td>\n",
       "      <td>Hold or Sell</td>\n",
       "      <td>2.6060</td>\n",
       "      <td>6.0048</td>\n",
       "    </tr>\n",
       "    <tr>\n",
       "      <th>1</th>\n",
       "      <td>qgen</td>\n",
       "      <td>Hold or Sell</td>\n",
       "      <td>1.8556</td>\n",
       "      <td>Hold or Sell</td>\n",
       "      <td>2.1613</td>\n",
       "      <td>Hold or Sell</td>\n",
       "      <td>2.5548</td>\n",
       "      <td>9.0106</td>\n",
       "    </tr>\n",
       "    <tr>\n",
       "      <th>2</th>\n",
       "      <td>run</td>\n",
       "      <td>Hold or Sell</td>\n",
       "      <td>1.1970</td>\n",
       "      <td>Buy</td>\n",
       "      <td>0.8933</td>\n",
       "      <td>Hold or Sell</td>\n",
       "      <td>1.3225</td>\n",
       "      <td>7.0078</td>\n",
       "    </tr>\n",
       "    <tr>\n",
       "      <th>3</th>\n",
       "      <td>okta</td>\n",
       "      <td>Hold or Sell</td>\n",
       "      <td>1.1047</td>\n",
       "      <td>Hold or Sell</td>\n",
       "      <td>1.0436</td>\n",
       "      <td>Hold or Sell</td>\n",
       "      <td>0.7767</td>\n",
       "      <td>5.3840</td>\n",
       "    </tr>\n",
       "    <tr>\n",
       "      <th>4</th>\n",
       "      <td>orcl</td>\n",
       "      <td>Hold or Sell</td>\n",
       "      <td>2.8105</td>\n",
       "      <td>Hold or Sell</td>\n",
       "      <td>3.2119</td>\n",
       "      <td>Hold or Sell</td>\n",
       "      <td>3.1619</td>\n",
       "      <td>37.9359</td>\n",
       "    </tr>\n",
       "    <tr>\n",
       "      <th>5</th>\n",
       "      <td>qqq</td>\n",
       "      <td>Hold or Sell</td>\n",
       "      <td>3.3153</td>\n",
       "      <td>Hold or Sell</td>\n",
       "      <td>3.9015</td>\n",
       "      <td>Hold or Sell</td>\n",
       "      <td>2.7162</td>\n",
       "      <td>8.7874</td>\n",
       "    </tr>\n",
       "    <tr>\n",
       "      <th>6</th>\n",
       "      <td>srpt</td>\n",
       "      <td>Hold or Sell</td>\n",
       "      <td>2.1117</td>\n",
       "      <td>Hold or Sell</td>\n",
       "      <td>1.9005</td>\n",
       "      <td>Hold or Sell</td>\n",
       "      <td>1.6705</td>\n",
       "      <td>1.1364</td>\n",
       "    </tr>\n",
       "    <tr>\n",
       "      <th>7</th>\n",
       "      <td>tpic</td>\n",
       "      <td>Buy</td>\n",
       "      <td>1.3275</td>\n",
       "      <td>Buy</td>\n",
       "      <td>1.5128</td>\n",
       "      <td>Buy</td>\n",
       "      <td>1.4983</td>\n",
       "      <td>1.3516</td>\n",
       "    </tr>\n",
       "    <tr>\n",
       "      <th>8</th>\n",
       "      <td>tsla</td>\n",
       "      <td>Hold or Sell</td>\n",
       "      <td>4.6974</td>\n",
       "      <td>Hold or Sell</td>\n",
       "      <td>2.1276</td>\n",
       "      <td>Hold or Sell</td>\n",
       "      <td>2.4424</td>\n",
       "      <td>107.4381</td>\n",
       "    </tr>\n",
       "    <tr>\n",
       "      <th>9</th>\n",
       "      <td>v</td>\n",
       "      <td>Hold or Sell</td>\n",
       "      <td>2.3816</td>\n",
       "      <td>Buy</td>\n",
       "      <td>2.4346</td>\n",
       "      <td>Buy</td>\n",
       "      <td>2.5310</td>\n",
       "      <td>9.2123</td>\n",
       "    </tr>\n",
       "    <tr>\n",
       "      <th>10</th>\n",
       "      <td>vbiv</td>\n",
       "      <td>Hold or Sell</td>\n",
       "      <td>5.8923</td>\n",
       "      <td>Hold or Sell</td>\n",
       "      <td>1.6462</td>\n",
       "      <td>Hold or Sell</td>\n",
       "      <td>2.1245</td>\n",
       "      <td>-0.7675</td>\n",
       "    </tr>\n",
       "    <tr>\n",
       "      <th>11</th>\n",
       "      <td>vbr</td>\n",
       "      <td>Buy</td>\n",
       "      <td>1.4767</td>\n",
       "      <td>Buy</td>\n",
       "      <td>1.3163</td>\n",
       "      <td>Buy</td>\n",
       "      <td>1.7780</td>\n",
       "      <td>1.5847</td>\n",
       "    </tr>\n",
       "    <tr>\n",
       "      <th>12</th>\n",
       "      <td>viov</td>\n",
       "      <td>Buy</td>\n",
       "      <td>1.2610</td>\n",
       "      <td>Buy</td>\n",
       "      <td>1.3003</td>\n",
       "      <td>Buy</td>\n",
       "      <td>1.1381</td>\n",
       "      <td>1.1838</td>\n",
       "    </tr>\n",
       "    <tr>\n",
       "      <th>13</th>\n",
       "      <td>vgt</td>\n",
       "      <td>Hold or Sell</td>\n",
       "      <td>3.1665</td>\n",
       "      <td>Hold or Sell</td>\n",
       "      <td>2.7486</td>\n",
       "      <td>Hold or Sell</td>\n",
       "      <td>3.2748</td>\n",
       "      <td>5.7673</td>\n",
       "    </tr>\n",
       "    <tr>\n",
       "      <th>14</th>\n",
       "      <td>xlk</td>\n",
       "      <td>Hold or Sell</td>\n",
       "      <td>4.1159</td>\n",
       "      <td>Hold or Sell</td>\n",
       "      <td>4.6555</td>\n",
       "      <td>Hold or Sell</td>\n",
       "      <td>3.9158</td>\n",
       "      <td>6.3261</td>\n",
       "    </tr>\n",
       "  </tbody>\n",
       "</table>\n",
       "</div>"
      ],
      "text/plain": [
       "   stock    1_Day_Pred  1_Day_Model_Return    3_Day_Pred  3_Day_Model_Return  \\\n",
       "0   pypl  Hold or Sell              1.7971  Hold or Sell              2.7052   \n",
       "1   qgen  Hold or Sell              1.8556  Hold or Sell              2.1613   \n",
       "2    run  Hold or Sell              1.1970           Buy              0.8933   \n",
       "3   okta  Hold or Sell              1.1047  Hold or Sell              1.0436   \n",
       "4   orcl  Hold or Sell              2.8105  Hold or Sell              3.2119   \n",
       "5    qqq  Hold or Sell              3.3153  Hold or Sell              3.9015   \n",
       "6   srpt  Hold or Sell              2.1117  Hold or Sell              1.9005   \n",
       "7   tpic           Buy              1.3275           Buy              1.5128   \n",
       "8   tsla  Hold or Sell              4.6974  Hold or Sell              2.1276   \n",
       "9      v  Hold or Sell              2.3816           Buy              2.4346   \n",
       "10  vbiv  Hold or Sell              5.8923  Hold or Sell              1.6462   \n",
       "11   vbr           Buy              1.4767           Buy              1.3163   \n",
       "12  viov           Buy              1.2610           Buy              1.3003   \n",
       "13   vgt  Hold or Sell              3.1665  Hold or Sell              2.7486   \n",
       "14   xlk  Hold or Sell              4.1159  Hold or Sell              4.6555   \n",
       "\n",
       "      5_Day_Pred  5_Day_Model_Return  Actual_Returns  \n",
       "0   Hold or Sell              2.6060          6.0048  \n",
       "1   Hold or Sell              2.5548          9.0106  \n",
       "2   Hold or Sell              1.3225          7.0078  \n",
       "3   Hold or Sell              0.7767          5.3840  \n",
       "4   Hold or Sell              3.1619         37.9359  \n",
       "5   Hold or Sell              2.7162          8.7874  \n",
       "6   Hold or Sell              1.6705          1.1364  \n",
       "7            Buy              1.4983          1.3516  \n",
       "8   Hold or Sell              2.4424        107.4381  \n",
       "9            Buy              2.5310          9.2123  \n",
       "10  Hold or Sell              2.1245         -0.7675  \n",
       "11           Buy              1.7780          1.5847  \n",
       "12           Buy              1.1381          1.1838  \n",
       "13  Hold or Sell              3.2748          5.7673  \n",
       "14  Hold or Sell              3.9158          6.3261  "
      ]
     },
     "execution_count": 33,
     "metadata": {},
     "output_type": "execute_result"
    }
   ],
   "source": [
    "summary_df = a.pred_summary_df(start_dates3, stocks = [x for x in start_dates3], days_back = 1)\n",
    "summary_df"
   ]
  },
  {
   "cell_type": "code",
   "execution_count": 34,
   "metadata": {},
   "outputs": [
    {
     "data": {
      "text/plain": [
       "(2.1117, 2.1276, 2.4424, 6.0048)"
      ]
     },
     "execution_count": 34,
     "metadata": {},
     "output_type": "execute_result"
    }
   ],
   "source": [
    "summary_df['1_Day_Model_Return'].median(), summary_df['3_Day_Model_Return'].median(), summary_df['5_Day_Model_Return'].median(), summary_df['Actual_Returns'].median()"
   ]
  },
  {
   "cell_type": "code",
   "execution_count": null,
   "metadata": {},
   "outputs": [],
   "source": []
  }
 ],
 "metadata": {
  "kernelspec": {
   "display_name": "Python 3",
   "language": "python",
   "name": "python3"
  },
  "language_info": {
   "codemirror_mode": {
    "name": "ipython",
    "version": 3
   },
   "file_extension": ".py",
   "mimetype": "text/x-python",
   "name": "python",
   "nbconvert_exporter": "python",
   "pygments_lexer": "ipython3",
   "version": "3.8.5"
  }
 },
 "nbformat": 4,
 "nbformat_minor": 4
}
