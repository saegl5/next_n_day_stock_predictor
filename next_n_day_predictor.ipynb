{
 "cells": [
  {
   "cell_type": "code",
   "execution_count": 1,
   "metadata": {
    "scrolled": true
   },
   "outputs": [],
   "source": [
    "from src import attributes as a\n",
    "%load_ext autoreload\n",
    "%autoreload 2"
   ]
  },
  {
   "cell_type": "code",
   "execution_count": 2,
   "metadata": {},
   "outputs": [],
   "source": [
    "# Global Variables\n",
    "stock_name = 'msft' # ticker symbol\n",
    "train = 0 # 1 for train, 0 for pass\n",
    "days_ahead = 1 # for predicting 1, 3, or 5 days ahead\n",
    "days_back = -1 # -1 for current data point, -2 for two days ago, etc...\n",
    "cv = 5 # number of cross validation folds\n",
    "model_name = 'Random Forest Classifier' # for display on charts, not a tuning parameter"
   ]
  },
  {
   "cell_type": "code",
   "execution_count": 3,
   "metadata": {},
   "outputs": [],
   "source": [
    "# Extract, Transform, Load, and Train Test Split\n",
    "# Dictionary of IPO Dates\n",
    "start_dates = {'a': '11/15/1999' # Updated 2/7/21 1D, 3D, 5D ahead\n",
    "               , 'aapl':'12/12/1980' # Updated 2/7/21 1D, 3D, 5D ahead\n",
    "               , 'acy': '01/18/1998' # Updated 2/7/21 1D, 3D, 5D ahead\n",
    "               , 'adbe': '08/11/1986' # Updated 2/7/21 1D, 3D, 5D ahead\n",
    "               , 'alb': '02/21/1994' # Updated 2/7/21 1D, 3D, 5D ahead\n",
    "               , 'amat': '03/16/1980' # Updated 2/7/21 1D, 3D, 5D ahead\n",
    "               , 'amd': '03/17/1980' # Updated 2/7/21 1D, 3D, 5D ahead\n",
    "               , 'amgn': '06/13/1983' # Updated 2/7/21 1D, 3D, 5D ahead\n",
    "               , 'amzn': '05/12/1997' # Updated 2/7/21 1D, 3D, 5D ahead\n",
    "               , 'baba': '09/15/2014' # Updated 2/7/21 1D, 3D, 5D ahead\n",
    "               , 'bac': '02/19/1973' # Updated 2/7/21 1D, 3D, 5D ahead\n",
    "               , 'bpmc': '04/27/2015' # Updated 2/7/21 1D, 3D, 5D ahead\n",
    "               , 'crm': '06/23/2004' # Updated 2/7/21 1D, 3D, 5D ahead\n",
    "               , 'crsp': '10/16/2016' # Updated 2/7/21 1D, 3D, 5D ahead\n",
    "               , 'dq': '10/04/2010' # Updated 2/7/21 1D, 3D, 5D ahead\n",
    "               , 'esgv': '09/16/2018' # Updated 2/7/21 1D, 3D, 5D ahead\n",
    "               , 'fslr': '11/12/2006' # Updated 2/7/21 1D, 3D, 5D ahead\n",
    "               , 'goog': '08/16/2004' # Updated 2/7/21 1D, 3D, 5D ahead\n",
    "               , 'ibm': '01/02/1962' # Updated 2/7/21 1D, 3D, 5D ahead\n",
    "               , 'intc': '03/16/1980' # Updated 2/7/21 1D, 3D, 5D ahead\n",
    "               , 'iyw': '05/15/2000' # Updated 2/7/21 1D, 3D, 5D ahead\n",
    "               , 'lng': '04/04/1994' # Updated 2/7/21 1D, 3D, 5D ahead\n",
    "               , 'ma': '05/21/2006' # Updated 2/7/21 1D, 3D, 5D ahead\n",
    "               , 'mdb': '10/15/2017' # Updated 2/7/21 1D, 3D, 5D ahead\n",
    "               , 'msft': '03/10/1986' # Updated 2/7/21 1D, 3D, 5D ahead\n",
    "               , 'mu': '05/28/1984' # Updated 2/7/21 1D, 3D, 5D ahead\n",
    "               , 'nee': '02/19/1973' # Updated 2/7/21 1D, 3D, 5D ahead\n",
    "               , 'nio': '09/10/2018' # Updated 2/7/21 1D, 3D, 5D ahead\n",
    "               , 'nvda': '01/22/1999' # Updated 2/7/21 1D, 3D, 5D ahead\n",
    "               , 'pacb': '10/25/2010' # Updated 2/7/21 1D, 3D, 5D ahead\n",
    "               , 'pypl': '07/05/2015' # Updated 2/7/21 1D, 3D, 5D ahead\n",
    "               , 'qgen': '06/24/1996' # Updated 2/7/21 1D, 3D, 5D ahead\n",
    "               , 'run': '08/02/2015' # Updated 2/7/21 1D, 3D, 5D ahead\n",
    "               , 'okta': '04/03/2017' # Updated 2/7/21 1D, 3D, 5D ahead\n",
    "               , 'orcl': '03/10/1986' # Updated 2/7/21 1D, 3D, 5D ahead\n",
    "               , 'qqq': '03/08/1999' # Updated 2/7/21 1D, 3D, 5D ahead\n",
    "               , 'srpt': '06/02/1997' # Updated 2/7/21 1D, 3D, 5D ahead\n",
    "               , 'tpic': '07/17/2016' # Updated 2/7/21 1D, 3D, 5D ahead\n",
    "               , 'tsla': '06/29/2010' # Updated 2/7/21 1D, 3D, 5D ahead\n",
    "               , 'v': '03/16/2008' # Updated 2/7/21 1D, 3D, 5D ahead\n",
    "               , 'vbiv': '09/04/2002' # Updated 2/7/21 1D, 3D, 5D ahead\n",
    "               , 'vbr': '01/26/2004' # Updated 2/7/21 1D, 3D, 5D ahead\n",
    "               , 'viov': '09/06/2010' # Updated 2/7/21 1D, 3D, 5D ahead\n",
    "               , 'vgt': '01/26/2004' # Updated 2/7/21 1D, 3D, 5D ahead\n",
    "               , 'xlk': '12/21/1998' # Updated 2/7/21 1D, 3D, 5D ahead\n",
    "              }"
   ]
  },
  {
   "cell_type": "code",
   "execution_count": null,
   "metadata": {},
   "outputs": [],
   "source": []
  },
  {
   "cell_type": "code",
   "execution_count": null,
   "metadata": {},
   "outputs": [],
   "source": []
  },
  {
   "cell_type": "code",
   "execution_count": null,
   "metadata": {},
   "outputs": [],
   "source": []
  },
  {
   "cell_type": "code",
   "execution_count": 4,
   "metadata": {},
   "outputs": [],
   "source": [
    "# X_train, X_test, y_train, y_test, stock_df = a.data(stock_name, start_dates[stock_name], days_ahead)\n",
    "# stock_df.tail(10)"
   ]
  },
  {
   "cell_type": "code",
   "execution_count": 5,
   "metadata": {
    "scrolled": false
   },
   "outputs": [],
   "source": [
    "# GridSerach to find best hyperparameters to prevent overfitting, can be commented out once trained\n",
    "# if train == 1:\n",
    "#     a.rfc_GridSearch(X_train, y_train, stock_name, days_ahead, cv)\n",
    "# elif train == 0:\n",
    "#     pass"
   ]
  },
  {
   "cell_type": "code",
   "execution_count": 6,
   "metadata": {},
   "outputs": [],
   "source": [
    "# Load RandomForextClassifier Model\n",
    "# rfc_model, y_pred, y_probs = a.rfc(X_train, X_test, y_train, stock_name, days_ahead)"
   ]
  },
  {
   "cell_type": "code",
   "execution_count": 7,
   "metadata": {
    "scrolled": false
   },
   "outputs": [],
   "source": [
    "# ROC Curve\n",
    "# a.roc_plot(y_test, y_probs, stock_name, model_name)"
   ]
  },
  {
   "cell_type": "code",
   "execution_count": 8,
   "metadata": {
    "scrolled": false
   },
   "outputs": [],
   "source": [
    "# Precision Recall Curve\n",
    "# a.prec_recall(y_test, y_probs, stock_name, model_name)"
   ]
  },
  {
   "cell_type": "code",
   "execution_count": 9,
   "metadata": {
    "scrolled": false
   },
   "outputs": [],
   "source": [
    "# Confusion Matrix\n",
    "# a.confusion_matrix(rfc_model, X_test, y_test, stock_name)"
   ]
  },
  {
   "cell_type": "code",
   "execution_count": 10,
   "metadata": {},
   "outputs": [],
   "source": [
    "# Cross Validation\n",
    "# a.cross_validation(rfc_model\n",
    "#                    , stock_df[['oc', 'hl', '5stdev_adj', '5sma_adj']]\n",
    "#                    , stock_df['direction']\n",
    "#                    , cv = 5\n",
    "#                   )"
   ]
  },
  {
   "cell_type": "markdown",
   "metadata": {},
   "source": [
    "### Prediction..."
   ]
  },
  {
   "cell_type": "code",
   "execution_count": 11,
   "metadata": {
    "scrolled": true
   },
   "outputs": [],
   "source": [
    "# Prediction, use last day of data\n",
    "# stock_df.iloc[-1]"
   ]
  },
  {
   "cell_type": "code",
   "execution_count": 12,
   "metadata": {},
   "outputs": [],
   "source": [
    "# import numpy as np\n",
    "# last = stock_df[['oc', 'hl', '5stdev_adj', '5sma_adj']].iloc[-days_back]\n",
    "# last"
   ]
  },
  {
   "cell_type": "code",
   "execution_count": 13,
   "metadata": {},
   "outputs": [],
   "source": [
    "# stock_df['adj'].describe()"
   ]
  },
  {
   "cell_type": "code",
   "execution_count": 14,
   "metadata": {
    "scrolled": true
   },
   "outputs": [],
   "source": [
    "# if rfc_model.predict(np.array(last).reshape(1, -1))[0] == 1:\n",
    "#     print(f'Buy {stock_name} {days_ahead} day(s) ahead')\n",
    "# else:\n",
    "#     print(f'Sell or hold {stock_name} {days_ahead} day(s) ahead')"
   ]
  },
  {
   "cell_type": "markdown",
   "metadata": {},
   "source": [
    "### Strategy Returns..."
   ]
  },
  {
   "cell_type": "code",
   "execution_count": 15,
   "metadata": {},
   "outputs": [],
   "source": [
    "# returns on strategy column\n",
    "# stock_df['prediction'] = rfc_model.predict(stock_df[['oc', 'hl', '5stdev_adj', '5sma_adj']])\n",
    "# stock_df['returns'] = stock_df['adj'].shift(-1, fill_value = stock_df['adj'].median()) * stock_df['prediction']"
   ]
  },
  {
   "cell_type": "code",
   "execution_count": 16,
   "metadata": {},
   "outputs": [],
   "source": [
    "# stock_df.tail(5)"
   ]
  },
  {
   "cell_type": "code",
   "execution_count": 17,
   "metadata": {},
   "outputs": [],
   "source": [
    "# Don't trade every day!\n",
    "# import matplotlib.pyplot as plt\n",
    "# test_length = len(y_test)\n",
    "# (stock_df['returns'][-test_length:] + 1).cumprod().plot()\n",
    "# plt.title(f'{stock_name} Expected Returns %');"
   ]
  },
  {
   "cell_type": "code",
   "execution_count": 18,
   "metadata": {},
   "outputs": [],
   "source": [
    "# Model returns if bought on predictions of 1\n",
    "# returns_on_ones = []\n",
    "# for idx in range(-test_length, 0):\n",
    "#     if stock_df['prediction'][idx] == 1:\n",
    "#         returns_on_ones.append(1 + stock_df['returns'][idx])\n",
    "\n",
    "# returns = 1\n",
    "# for x in returns_on_ones:\n",
    "#     returns *= x\n",
    "# returns"
   ]
  },
  {
   "cell_type": "code",
   "execution_count": 19,
   "metadata": {},
   "outputs": [],
   "source": [
    "# multiple times original investment, not bad but..."
   ]
  },
  {
   "cell_type": "code",
   "execution_count": 20,
   "metadata": {},
   "outputs": [],
   "source": [
    "# If purchased in 2012 and left it until now\n",
    "# test_idx = int(len(stock_df)*0.75)\n",
    "# (stock_df['Close'][-1] - stock_df['Close'][-test_idx]) / stock_df['Close'][-test_idx]"
   ]
  },
  {
   "cell_type": "code",
   "execution_count": 21,
   "metadata": {},
   "outputs": [],
   "source": [
    "# Buy and hold strategy beats RandomForestClassifier in this study\n",
    "\n",
    "# Special thanks to Shagufta Tahsildar at https://blog.quantinsti.com/random-forest-algorithm-in-python/"
   ]
  },
  {
   "cell_type": "code",
   "execution_count": null,
   "metadata": {},
   "outputs": [],
   "source": []
  },
  {
   "cell_type": "code",
   "execution_count": null,
   "metadata": {},
   "outputs": [],
   "source": []
  },
  {
   "cell_type": "code",
   "execution_count": null,
   "metadata": {},
   "outputs": [],
   "source": []
  },
  {
   "cell_type": "markdown",
   "metadata": {},
   "source": [
    "### Training"
   ]
  },
  {
   "cell_type": "markdown",
   "metadata": {},
   "source": [
    "Training is done once a week on Saturday and Sunday"
   ]
  },
  {
   "cell_type": "code",
   "execution_count": 22,
   "metadata": {},
   "outputs": [
    {
     "data": {
      "text/plain": [
       "45"
      ]
     },
     "execution_count": 22,
     "metadata": {},
     "output_type": "execute_result"
    }
   ],
   "source": [
    "len(start_dates)"
   ]
  },
  {
   "cell_type": "code",
   "execution_count": 23,
   "metadata": {},
   "outputs": [
    {
     "data": {
      "text/plain": [
       "{'a': '11/15/1999',\n",
       " 'aapl': '12/12/1980',\n",
       " 'acy': '01/18/1998',\n",
       " 'adbe': '08/11/1986',\n",
       " 'alb': '02/21/1994',\n",
       " 'amat': '03/16/1980',\n",
       " 'amd': '03/17/1980',\n",
       " 'amgn': '06/13/1983',\n",
       " 'amzn': '05/12/1997',\n",
       " 'baba': '09/15/2014',\n",
       " 'bac': '02/19/1973',\n",
       " 'bpmc': '04/27/2015',\n",
       " 'crm': '06/23/2004',\n",
       " 'crsp': '10/16/2016',\n",
       " 'dq': '10/04/2010'}"
      ]
     },
     "execution_count": 23,
     "metadata": {},
     "output_type": "execute_result"
    }
   ],
   "source": [
    "import itertools as itr\n",
    "start_dates1 = dict(itr.islice(start_dates.items(), 0, 15))\n",
    "start_dates1"
   ]
  },
  {
   "cell_type": "code",
   "execution_count": 24,
   "metadata": {},
   "outputs": [
    {
     "data": {
      "text/plain": [
       "{'esgv': '09/16/2018',\n",
       " 'fslr': '11/12/2006',\n",
       " 'goog': '08/16/2004',\n",
       " 'ibm': '01/02/1962',\n",
       " 'intc': '03/16/1980',\n",
       " 'iyw': '05/15/2000',\n",
       " 'lng': '04/04/1994',\n",
       " 'ma': '05/21/2006',\n",
       " 'mdb': '10/15/2017',\n",
       " 'msft': '03/10/1986',\n",
       " 'mu': '05/28/1984',\n",
       " 'nee': '02/19/1973',\n",
       " 'nio': '09/10/2018',\n",
       " 'nvda': '01/22/1999',\n",
       " 'pacb': '10/25/2010'}"
      ]
     },
     "execution_count": 24,
     "metadata": {},
     "output_type": "execute_result"
    }
   ],
   "source": [
    "start_dates2 = dict(itr.islice(start_dates.items(), 15, 30))\n",
    "start_dates2"
   ]
  },
  {
   "cell_type": "code",
   "execution_count": 25,
   "metadata": {},
   "outputs": [
    {
     "data": {
      "text/plain": [
       "{'pypl': '07/05/2015',\n",
       " 'qgen': '06/24/1996',\n",
       " 'run': '08/02/2015',\n",
       " 'okta': '04/03/2017',\n",
       " 'orcl': '03/10/1986',\n",
       " 'qqq': '03/08/1999',\n",
       " 'srpt': '06/02/1997',\n",
       " 'tpic': '07/17/2016',\n",
       " 'tsla': '06/29/2010',\n",
       " 'v': '03/16/2008',\n",
       " 'vbiv': '09/04/2002',\n",
       " 'vbr': '01/26/2004',\n",
       " 'viov': '09/06/2010',\n",
       " 'vgt': '01/26/2004',\n",
       " 'xlk': '12/21/1998'}"
      ]
     },
     "execution_count": 25,
     "metadata": {},
     "output_type": "execute_result"
    }
   ],
   "source": [
    "start_dates3 = dict(itr.islice(start_dates.items(), 30, 45+1))\n",
    "start_dates3"
   ]
  },
  {
   "cell_type": "code",
   "execution_count": 31,
   "metadata": {},
   "outputs": [],
   "source": [
    "#Train 15 at a time!\n",
    "# stocks = [x for x in start_dates1]\n",
    "# days_ahead = [1, 3, 5]\n",
    "# cv = 5\n",
    "# for stock in stocks:\n",
    "#     for days in days_ahead:\n",
    "#         X_train, X_test, y_train, y_test, stock_df = a.data(stock, start_dates[stock], days)\n",
    "#         a.rfc_GridSearch(X_train, y_train, stock, days, cv)\n",
    "# len(stocks)\n",
    "\n",
    "# stocks = [x for x in start_dates2]\n",
    "# days_ahead = [1, 3, 5]\n",
    "# cv = 5\n",
    "# for stock in stocks:\n",
    "#     for days in days_ahead:\n",
    "#         X_train, X_test, y_train, y_test, stock_df = a.data(stock, start_dates[stock], days)\n",
    "#         a.rfc_GridSearch(X_train, y_train, stock, days, cv)\n",
    "# len(stocks)\n",
    "\n",
    "# stocks = [x for x in start_dates3]\n",
    "# days_ahead = [1, 3, 5]\n",
    "# cv = 5\n",
    "# for stock in stocks:\n",
    "#     for days in days_ahead:\n",
    "#         X_train, X_test, y_train, y_test, stock_df = a.data(stock, start_dates[stock], days)\n",
    "#         a.rfc_GridSearch(X_train, y_train, stock, days, cv)\n",
    "# len(stocks)\n",
    "\n",
    "# Train all, takes 15+ hours\n",
    "# stocks = [x for x in start_dates]\n",
    "# days_ahead = [1, 3, 5]\n",
    "# cv = 5\n",
    "# for stock in stocks:\n",
    "#     for days in days_ahead:\n",
    "#         X_train, X_test, y_train, y_test, stock_df = a.data(stock, start_dates[stock], days)\n",
    "#         a.rfc_GridSearch(X_train, y_train, stock, days, cv)\n",
    "# len(stocks)\n",
    "\n",
    "# Train desired stocks...takes less time\n",
    "# stocks = ['aapl']\n",
    "# days_ahead = [1, 3, 5]\n",
    "# cv = 5\n",
    "# for stock in stocks:\n",
    "#     for days in days_ahead:\n",
    "#         X_train, X_test, y_train, y_test, stock_df = a.data(stock, start_dates[stock], days)\n",
    "#         a.rfc_GridSearch(X_train, y_train, stock, days, cv)"
   ]
  },
  {
   "cell_type": "code",
   "execution_count": null,
   "metadata": {},
   "outputs": [],
   "source": []
  },
  {
   "cell_type": "code",
   "execution_count": null,
   "metadata": {},
   "outputs": [],
   "source": []
  },
  {
   "cell_type": "code",
   "execution_count": null,
   "metadata": {},
   "outputs": [],
   "source": []
  },
  {
   "cell_type": "markdown",
   "metadata": {},
   "source": [
    "### Display All Results"
   ]
  },
  {
   "cell_type": "code",
   "execution_count": 27,
   "metadata": {
    "scrolled": false
   },
   "outputs": [
    {
     "name": "stdout",
     "output_type": "stream",
     "text": [
      "Buy crm 1 day(s) ahead\n",
      "Model Returns (x 100 for %): 2.3845\n",
      "Stock Returns (x 100 for %): 15.9993\n"
     ]
    },
    {
     "data": {
      "image/png": "[encoded data removed]",
      "text/plain": [
       "<Figure size 432x288 with 1 Axes>"
      ]
     },
     "metadata": {},
     "output_type": "display_data"
    },
    {
     "data": {
      "image/png": "[encoded data removed]",
      "text/plain": [
       "<Figure size 648x504 with 1 Axes>"
      ]
     },
     "metadata": {},
     "output_type": "display_data"
    },
    {
     "data": {
      "image/png": "[encoded data removed]",
      "text/plain": [
       "<Figure size 648x504 with 1 Axes>"
      ]
     },
     "metadata": {},
     "output_type": "display_data"
    },
    {
     "data": {
      "image/png": "[encoded data removed]",
      "text/plain": [
       "<Figure size 684x612 with 2 Axes>"
      ]
     },
     "metadata": {},
     "output_type": "display_data"
    }
   ],
   "source": [
    "stock_name = 'crm'\n",
    "a.all_func(stock_name\n",
    "           , start_dates[stock_name]\n",
    "           , days_ahead = 1\n",
    "           , model_name = model_name\n",
    "           , days_back = 1\n",
    "          )"
   ]
  },
  {
   "cell_type": "code",
   "execution_count": null,
   "metadata": {},
   "outputs": [],
   "source": []
  },
  {
   "cell_type": "code",
   "execution_count": null,
   "metadata": {},
   "outputs": [],
   "source": []
  },
  {
   "cell_type": "code",
   "execution_count": null,
   "metadata": {},
   "outputs": [],
   "source": []
  },
  {
   "cell_type": "markdown",
   "metadata": {},
   "source": [
    "### Data Frame of Predictions 1 3 5 Days"
   ]
  },
  {
   "cell_type": "code",
   "execution_count": 28,
   "metadata": {},
   "outputs": [
    {
     "name": "stdout",
     "output_type": "stream",
     "text": [
      "Today's date: 2021-02-15\n"
     ]
    }
   ],
   "source": [
    "from datetime import date\n",
    "\n",
    "today = date.today()\n",
    "print(\"Today's date:\", today)"
   ]
  },
  {
   "cell_type": "code",
   "execution_count": 29,
   "metadata": {
    "scrolled": false
   },
   "outputs": [
    {
     "data": {
      "text/html": [
       "<div>\n",
       "<style scoped>\n",
       "    .dataframe tbody tr th:only-of-type {\n",
       "        vertical-align: middle;\n",
       "    }\n",
       "\n",
       "    .dataframe tbody tr th {\n",
       "        vertical-align: top;\n",
       "    }\n",
       "\n",
       "    .dataframe thead th {\n",
       "        text-align: right;\n",
       "    }\n",
       "</style>\n",
       "<table border=\"1\" class=\"dataframe\">\n",
       "  <thead>\n",
       "    <tr style=\"text-align: right;\">\n",
       "      <th></th>\n",
       "      <th>stock</th>\n",
       "      <th>1_Day_Pred</th>\n",
       "      <th>1_Day_Model_Return</th>\n",
       "      <th>3_Day_Pred</th>\n",
       "      <th>3_Day_Model_Return</th>\n",
       "      <th>5_Day_Pred</th>\n",
       "      <th>5_Day_Model_Return</th>\n",
       "      <th>Actual_Returns</th>\n",
       "    </tr>\n",
       "  </thead>\n",
       "  <tbody>\n",
       "    <tr>\n",
       "      <th>0</th>\n",
       "      <td>a</td>\n",
       "      <td>Hold or Sell</td>\n",
       "      <td>3.2615</td>\n",
       "      <td>Hold or Sell</td>\n",
       "      <td>4.0906</td>\n",
       "      <td>Hold or Sell</td>\n",
       "      <td>4.4132</td>\n",
       "      <td>6.9237</td>\n",
       "    </tr>\n",
       "    <tr>\n",
       "      <th>1</th>\n",
       "      <td>aapl</td>\n",
       "      <td>Buy</td>\n",
       "      <td>2.7733</td>\n",
       "      <td>Buy</td>\n",
       "      <td>3.3204</td>\n",
       "      <td>Hold or Sell</td>\n",
       "      <td>4.0880</td>\n",
       "      <td>345.5472</td>\n",
       "    </tr>\n",
       "    <tr>\n",
       "      <th>2</th>\n",
       "      <td>acy</td>\n",
       "      <td>Hold or Sell</td>\n",
       "      <td>0.4271</td>\n",
       "      <td>Hold or Sell</td>\n",
       "      <td>0.7611</td>\n",
       "      <td>Hold or Sell</td>\n",
       "      <td>0.4666</td>\n",
       "      <td>2.0882</td>\n",
       "    </tr>\n",
       "    <tr>\n",
       "      <th>3</th>\n",
       "      <td>adbe</td>\n",
       "      <td>Hold or Sell</td>\n",
       "      <td>8.3251</td>\n",
       "      <td>Hold or Sell</td>\n",
       "      <td>7.0612</td>\n",
       "      <td>Hold or Sell</td>\n",
       "      <td>7.1885</td>\n",
       "      <td>78.4173</td>\n",
       "    </tr>\n",
       "    <tr>\n",
       "      <th>4</th>\n",
       "      <td>alb</td>\n",
       "      <td>Hold or Sell</td>\n",
       "      <td>1.8405</td>\n",
       "      <td>Buy</td>\n",
       "      <td>1.9369</td>\n",
       "      <td>Buy</td>\n",
       "      <td>1.8779</td>\n",
       "      <td>14.4501</td>\n",
       "    </tr>\n",
       "    <tr>\n",
       "      <th>5</th>\n",
       "      <td>amat</td>\n",
       "      <td>Hold or Sell</td>\n",
       "      <td>7.1428</td>\n",
       "      <td>Hold or Sell</td>\n",
       "      <td>7.0511</td>\n",
       "      <td>Hold or Sell</td>\n",
       "      <td>8.4835</td>\n",
       "      <td>212.3943</td>\n",
       "    </tr>\n",
       "    <tr>\n",
       "      <th>6</th>\n",
       "      <td>amd</td>\n",
       "      <td>Hold or Sell</td>\n",
       "      <td>8.5246</td>\n",
       "      <td>Hold or Sell</td>\n",
       "      <td>7.9629</td>\n",
       "      <td>Hold or Sell</td>\n",
       "      <td>12.1408</td>\n",
       "      <td>17.5225</td>\n",
       "    </tr>\n",
       "    <tr>\n",
       "      <th>7</th>\n",
       "      <td>amgn</td>\n",
       "      <td>Hold or Sell</td>\n",
       "      <td>4.4870</td>\n",
       "      <td>Hold or Sell</td>\n",
       "      <td>4.0829</td>\n",
       "      <td>Hold or Sell</td>\n",
       "      <td>4.9189</td>\n",
       "      <td>25.0402</td>\n",
       "    </tr>\n",
       "    <tr>\n",
       "      <th>8</th>\n",
       "      <td>amzn</td>\n",
       "      <td>Hold or Sell</td>\n",
       "      <td>3.7128</td>\n",
       "      <td>Buy</td>\n",
       "      <td>2.9399</td>\n",
       "      <td>Hold or Sell</td>\n",
       "      <td>4.1170</td>\n",
       "      <td>113.3653</td>\n",
       "    </tr>\n",
       "    <tr>\n",
       "      <th>9</th>\n",
       "      <td>baba</td>\n",
       "      <td>Buy</td>\n",
       "      <td>1.4315</td>\n",
       "      <td>Hold or Sell</td>\n",
       "      <td>1.4181</td>\n",
       "      <td>Buy</td>\n",
       "      <td>1.2467</td>\n",
       "      <td>2.5285</td>\n",
       "    </tr>\n",
       "    <tr>\n",
       "      <th>10</th>\n",
       "      <td>bac</td>\n",
       "      <td>Hold or Sell</td>\n",
       "      <td>4.3316</td>\n",
       "      <td>Hold or Sell</td>\n",
       "      <td>3.8735</td>\n",
       "      <td>Hold or Sell</td>\n",
       "      <td>6.0028</td>\n",
       "      <td>6.1189</td>\n",
       "    </tr>\n",
       "    <tr>\n",
       "      <th>11</th>\n",
       "      <td>bpmc</td>\n",
       "      <td>Buy</td>\n",
       "      <td>1.5377</td>\n",
       "      <td>Buy</td>\n",
       "      <td>1.5525</td>\n",
       "      <td>Buy</td>\n",
       "      <td>1.6063</td>\n",
       "      <td>2.2595</td>\n",
       "    </tr>\n",
       "    <tr>\n",
       "      <th>12</th>\n",
       "      <td>crm</td>\n",
       "      <td>Buy</td>\n",
       "      <td>2.1620</td>\n",
       "      <td>Buy</td>\n",
       "      <td>2.1135</td>\n",
       "      <td>Buy</td>\n",
       "      <td>2.4679</td>\n",
       "      <td>15.9993</td>\n",
       "    </tr>\n",
       "    <tr>\n",
       "      <th>13</th>\n",
       "      <td>crsp</td>\n",
       "      <td>Hold or Sell</td>\n",
       "      <td>1.2301</td>\n",
       "      <td>Hold or Sell</td>\n",
       "      <td>0.6534</td>\n",
       "      <td>Hold or Sell</td>\n",
       "      <td>0.8133</td>\n",
       "      <td>7.1297</td>\n",
       "    </tr>\n",
       "    <tr>\n",
       "      <th>14</th>\n",
       "      <td>dq</td>\n",
       "      <td>Hold or Sell</td>\n",
       "      <td>7.5478</td>\n",
       "      <td>Hold or Sell</td>\n",
       "      <td>7.1845</td>\n",
       "      <td>Hold or Sell</td>\n",
       "      <td>7.9009</td>\n",
       "      <td>77.6722</td>\n",
       "    </tr>\n",
       "    <tr>\n",
       "      <th>15</th>\n",
       "      <td>esgv</td>\n",
       "      <td>Hold or Sell</td>\n",
       "      <td>1.1504</td>\n",
       "      <td>Hold or Sell</td>\n",
       "      <td>1.1288</td>\n",
       "      <td>Hold or Sell</td>\n",
       "      <td>1.1570</td>\n",
       "      <td>0.4556</td>\n",
       "    </tr>\n",
       "    <tr>\n",
       "      <th>16</th>\n",
       "      <td>fslr</td>\n",
       "      <td>Hold or Sell</td>\n",
       "      <td>2.3021</td>\n",
       "      <td>Hold or Sell</td>\n",
       "      <td>2.0133</td>\n",
       "      <td>Hold or Sell</td>\n",
       "      <td>2.0394</td>\n",
       "      <td>-0.1854</td>\n",
       "    </tr>\n",
       "    <tr>\n",
       "      <th>17</th>\n",
       "      <td>goog</td>\n",
       "      <td>Hold or Sell</td>\n",
       "      <td>2.5283</td>\n",
       "      <td>Hold or Sell</td>\n",
       "      <td>2.6267</td>\n",
       "      <td>Hold or Sell</td>\n",
       "      <td>3.4153</td>\n",
       "      <td>11.4930</td>\n",
       "    </tr>\n",
       "    <tr>\n",
       "      <th>18</th>\n",
       "      <td>ibm</td>\n",
       "      <td>Buy</td>\n",
       "      <td>3.2022</td>\n",
       "      <td>Buy</td>\n",
       "      <td>3.9227</td>\n",
       "      <td>Buy</td>\n",
       "      <td>3.8794</td>\n",
       "      <td>6.2254</td>\n",
       "    </tr>\n",
       "    <tr>\n",
       "      <th>19</th>\n",
       "      <td>intc</td>\n",
       "      <td>Hold or Sell</td>\n",
       "      <td>6.0864</td>\n",
       "      <td>Hold or Sell</td>\n",
       "      <td>5.8147</td>\n",
       "      <td>Hold or Sell</td>\n",
       "      <td>5.6911</td>\n",
       "      <td>40.9718</td>\n",
       "    </tr>\n",
       "    <tr>\n",
       "      <th>20</th>\n",
       "      <td>iyw</td>\n",
       "      <td>Hold or Sell</td>\n",
       "      <td>2.9359</td>\n",
       "      <td>Hold or Sell</td>\n",
       "      <td>4.7475</td>\n",
       "      <td>Hold or Sell</td>\n",
       "      <td>3.5829</td>\n",
       "      <td>6.5923</td>\n",
       "    </tr>\n",
       "    <tr>\n",
       "      <th>21</th>\n",
       "      <td>lng</td>\n",
       "      <td>Buy</td>\n",
       "      <td>1.0436</td>\n",
       "      <td>Buy</td>\n",
       "      <td>0.8327</td>\n",
       "      <td>Buy</td>\n",
       "      <td>0.8584</td>\n",
       "      <td>52.4545</td>\n",
       "    </tr>\n",
       "    <tr>\n",
       "      <th>22</th>\n",
       "      <td>ma</td>\n",
       "      <td>Buy</td>\n",
       "      <td>2.3076</td>\n",
       "      <td>Hold or Sell</td>\n",
       "      <td>3.0694</td>\n",
       "      <td>Hold or Sell</td>\n",
       "      <td>2.6304</td>\n",
       "      <td>14.4480</td>\n",
       "    </tr>\n",
       "    <tr>\n",
       "      <th>23</th>\n",
       "      <td>mdb</td>\n",
       "      <td>Hold or Sell</td>\n",
       "      <td>0.9855</td>\n",
       "      <td>Buy</td>\n",
       "      <td>1.0916</td>\n",
       "      <td>Hold or Sell</td>\n",
       "      <td>1.1532</td>\n",
       "      <td>5.0209</td>\n",
       "    </tr>\n",
       "    <tr>\n",
       "      <th>24</th>\n",
       "      <td>msft</td>\n",
       "      <td>Hold or Sell</td>\n",
       "      <td>7.0063</td>\n",
       "      <td>Hold or Sell</td>\n",
       "      <td>9.4311</td>\n",
       "      <td>Hold or Sell</td>\n",
       "      <td>9.1503</td>\n",
       "      <td>61.3434</td>\n",
       "    </tr>\n",
       "    <tr>\n",
       "      <th>25</th>\n",
       "      <td>mu</td>\n",
       "      <td>Hold or Sell</td>\n",
       "      <td>2.8063</td>\n",
       "      <td>Hold or Sell</td>\n",
       "      <td>3.3115</td>\n",
       "      <td>Hold or Sell</td>\n",
       "      <td>3.3927</td>\n",
       "      <td>18.3961</td>\n",
       "    </tr>\n",
       "    <tr>\n",
       "      <th>26</th>\n",
       "      <td>nee</td>\n",
       "      <td>Buy</td>\n",
       "      <td>4.3770</td>\n",
       "      <td>Buy</td>\n",
       "      <td>6.7799</td>\n",
       "      <td>Buy</td>\n",
       "      <td>4.9516</td>\n",
       "      <td>28.7225</td>\n",
       "    </tr>\n",
       "    <tr>\n",
       "      <th>27</th>\n",
       "      <td>nio</td>\n",
       "      <td>Hold or Sell</td>\n",
       "      <td>2.1899</td>\n",
       "      <td>Hold or Sell</td>\n",
       "      <td>2.0135</td>\n",
       "      <td>Hold or Sell</td>\n",
       "      <td>1.6279</td>\n",
       "      <td>11.3402</td>\n",
       "    </tr>\n",
       "    <tr>\n",
       "      <th>28</th>\n",
       "      <td>nvda</td>\n",
       "      <td>Buy</td>\n",
       "      <td>11.8245</td>\n",
       "      <td>Buy</td>\n",
       "      <td>10.2845</td>\n",
       "      <td>Buy</td>\n",
       "      <td>16.2527</td>\n",
       "      <td>189.3871</td>\n",
       "    </tr>\n",
       "    <tr>\n",
       "      <th>29</th>\n",
       "      <td>pacb</td>\n",
       "      <td>Hold or Sell</td>\n",
       "      <td>2.0974</td>\n",
       "      <td>Hold or Sell</td>\n",
       "      <td>5.1328</td>\n",
       "      <td>Hold or Sell</td>\n",
       "      <td>3.1136</td>\n",
       "      <td>17.7761</td>\n",
       "    </tr>\n",
       "    <tr>\n",
       "      <th>30</th>\n",
       "      <td>pypl</td>\n",
       "      <td>Hold or Sell</td>\n",
       "      <td>3.2893</td>\n",
       "      <td>Hold or Sell</td>\n",
       "      <td>2.3117</td>\n",
       "      <td>Hold or Sell</td>\n",
       "      <td>3.1351</td>\n",
       "      <td>6.7258</td>\n",
       "    </tr>\n",
       "    <tr>\n",
       "      <th>31</th>\n",
       "      <td>qgen</td>\n",
       "      <td>Hold or Sell</td>\n",
       "      <td>2.2004</td>\n",
       "      <td>Hold or Sell</td>\n",
       "      <td>2.1441</td>\n",
       "      <td>Hold or Sell</td>\n",
       "      <td>2.1916</td>\n",
       "      <td>8.3076</td>\n",
       "    </tr>\n",
       "    <tr>\n",
       "      <th>32</th>\n",
       "      <td>run</td>\n",
       "      <td>Hold or Sell</td>\n",
       "      <td>1.2945</td>\n",
       "      <td>Hold or Sell</td>\n",
       "      <td>1.2523</td>\n",
       "      <td>Hold or Sell</td>\n",
       "      <td>1.3925</td>\n",
       "      <td>13.9162</td>\n",
       "    </tr>\n",
       "    <tr>\n",
       "      <th>33</th>\n",
       "      <td>okta</td>\n",
       "      <td>Hold or Sell</td>\n",
       "      <td>1.1466</td>\n",
       "      <td>Hold or Sell</td>\n",
       "      <td>0.9560</td>\n",
       "      <td>Hold or Sell</td>\n",
       "      <td>0.9976</td>\n",
       "      <td>6.4835</td>\n",
       "    </tr>\n",
       "    <tr>\n",
       "      <th>34</th>\n",
       "      <td>orcl</td>\n",
       "      <td>Hold or Sell</td>\n",
       "      <td>3.0679</td>\n",
       "      <td>Hold or Sell</td>\n",
       "      <td>3.4211</td>\n",
       "      <td>Hold or Sell</td>\n",
       "      <td>3.1062</td>\n",
       "      <td>28.9676</td>\n",
       "    </tr>\n",
       "    <tr>\n",
       "      <th>35</th>\n",
       "      <td>qqq</td>\n",
       "      <td>Hold or Sell</td>\n",
       "      <td>3.1288</td>\n",
       "      <td>Hold or Sell</td>\n",
       "      <td>3.6915</td>\n",
       "      <td>Hold or Sell</td>\n",
       "      <td>2.7353</td>\n",
       "      <td>8.5800</td>\n",
       "    </tr>\n",
       "    <tr>\n",
       "      <th>36</th>\n",
       "      <td>srpt</td>\n",
       "      <td>Buy</td>\n",
       "      <td>1.5291</td>\n",
       "      <td>Buy</td>\n",
       "      <td>2.6202</td>\n",
       "      <td>Buy</td>\n",
       "      <td>1.9348</td>\n",
       "      <td>1.5639</td>\n",
       "    </tr>\n",
       "    <tr>\n",
       "      <th>37</th>\n",
       "      <td>tpic</td>\n",
       "      <td>Hold or Sell</td>\n",
       "      <td>1.3318</td>\n",
       "      <td>Hold or Sell</td>\n",
       "      <td>1.6820</td>\n",
       "      <td>Hold or Sell</td>\n",
       "      <td>1.7449</td>\n",
       "      <td>2.7531</td>\n",
       "    </tr>\n",
       "    <tr>\n",
       "      <th>38</th>\n",
       "      <td>tsla</td>\n",
       "      <td>Hold or Sell</td>\n",
       "      <td>3.0347</td>\n",
       "      <td>Hold or Sell</td>\n",
       "      <td>2.0765</td>\n",
       "      <td>Hold or Sell</td>\n",
       "      <td>3.3529</td>\n",
       "      <td>113.6880</td>\n",
       "    </tr>\n",
       "    <tr>\n",
       "      <th>39</th>\n",
       "      <td>v</td>\n",
       "      <td>Hold or Sell</td>\n",
       "      <td>2.6210</td>\n",
       "      <td>Hold or Sell</td>\n",
       "      <td>2.5323</td>\n",
       "      <td>Hold or Sell</td>\n",
       "      <td>3.1333</td>\n",
       "      <td>10.2218</td>\n",
       "    </tr>\n",
       "    <tr>\n",
       "      <th>40</th>\n",
       "      <td>vbiv</td>\n",
       "      <td>Buy</td>\n",
       "      <td>3.5476</td>\n",
       "      <td>Buy</td>\n",
       "      <td>1.0072</td>\n",
       "      <td>Buy</td>\n",
       "      <td>1.9944</td>\n",
       "      <td>-0.8199</td>\n",
       "    </tr>\n",
       "    <tr>\n",
       "      <th>41</th>\n",
       "      <td>vbr</td>\n",
       "      <td>Hold or Sell</td>\n",
       "      <td>1.3210</td>\n",
       "      <td>Hold or Sell</td>\n",
       "      <td>1.0297</td>\n",
       "      <td>Hold or Sell</td>\n",
       "      <td>1.4537</td>\n",
       "      <td>1.4446</td>\n",
       "    </tr>\n",
       "    <tr>\n",
       "      <th>42</th>\n",
       "      <td>viov</td>\n",
       "      <td>Hold or Sell</td>\n",
       "      <td>1.2347</td>\n",
       "      <td>Hold or Sell</td>\n",
       "      <td>1.0316</td>\n",
       "      <td>Hold or Sell</td>\n",
       "      <td>1.2981</td>\n",
       "      <td>1.1228</td>\n",
       "    </tr>\n",
       "    <tr>\n",
       "      <th>43</th>\n",
       "      <td>vgt</td>\n",
       "      <td>Hold or Sell</td>\n",
       "      <td>2.8445</td>\n",
       "      <td>Hold or Sell</td>\n",
       "      <td>3.7943</td>\n",
       "      <td>Hold or Sell</td>\n",
       "      <td>3.3342</td>\n",
       "      <td>5.7317</td>\n",
       "    </tr>\n",
       "    <tr>\n",
       "      <th>44</th>\n",
       "      <td>xlk</td>\n",
       "      <td>Hold or Sell</td>\n",
       "      <td>4.1526</td>\n",
       "      <td>Hold or Sell</td>\n",
       "      <td>4.4499</td>\n",
       "      <td>Hold or Sell</td>\n",
       "      <td>4.5449</td>\n",
       "      <td>6.3328</td>\n",
       "    </tr>\n",
       "  </tbody>\n",
       "</table>\n",
       "</div>"
      ],
      "text/plain": [
       "   stock    1_Day_Pred  1_Day_Model_Return    3_Day_Pred  3_Day_Model_Return  \\\n",
       "0      a  Hold or Sell              3.2615  Hold or Sell              4.0906   \n",
       "1   aapl           Buy              2.7733           Buy              3.3204   \n",
       "2    acy  Hold or Sell              0.4271  Hold or Sell              0.7611   \n",
       "3   adbe  Hold or Sell              8.3251  Hold or Sell              7.0612   \n",
       "4    alb  Hold or Sell              1.8405           Buy              1.9369   \n",
       "5   amat  Hold or Sell              7.1428  Hold or Sell              7.0511   \n",
       "6    amd  Hold or Sell              8.5246  Hold or Sell              7.9629   \n",
       "7   amgn  Hold or Sell              4.4870  Hold or Sell              4.0829   \n",
       "8   amzn  Hold or Sell              3.7128           Buy              2.9399   \n",
       "9   baba           Buy              1.4315  Hold or Sell              1.4181   \n",
       "10   bac  Hold or Sell              4.3316  Hold or Sell              3.8735   \n",
       "11  bpmc           Buy              1.5377           Buy              1.5525   \n",
       "12   crm           Buy              2.1620           Buy              2.1135   \n",
       "13  crsp  Hold or Sell              1.2301  Hold or Sell              0.6534   \n",
       "14    dq  Hold or Sell              7.5478  Hold or Sell              7.1845   \n",
       "15  esgv  Hold or Sell              1.1504  Hold or Sell              1.1288   \n",
       "16  fslr  Hold or Sell              2.3021  Hold or Sell              2.0133   \n",
       "17  goog  Hold or Sell              2.5283  Hold or Sell              2.6267   \n",
       "18   ibm           Buy              3.2022           Buy              3.9227   \n",
       "19  intc  Hold or Sell              6.0864  Hold or Sell              5.8147   \n",
       "20   iyw  Hold or Sell              2.9359  Hold or Sell              4.7475   \n",
       "21   lng           Buy              1.0436           Buy              0.8327   \n",
       "22    ma           Buy              2.3076  Hold or Sell              3.0694   \n",
       "23   mdb  Hold or Sell              0.9855           Buy              1.0916   \n",
       "24  msft  Hold or Sell              7.0063  Hold or Sell              9.4311   \n",
       "25    mu  Hold or Sell              2.8063  Hold or Sell              3.3115   \n",
       "26   nee           Buy              4.3770           Buy              6.7799   \n",
       "27   nio  Hold or Sell              2.1899  Hold or Sell              2.0135   \n",
       "28  nvda           Buy             11.8245           Buy             10.2845   \n",
       "29  pacb  Hold or Sell              2.0974  Hold or Sell              5.1328   \n",
       "30  pypl  Hold or Sell              3.2893  Hold or Sell              2.3117   \n",
       "31  qgen  Hold or Sell              2.2004  Hold or Sell              2.1441   \n",
       "32   run  Hold or Sell              1.2945  Hold or Sell              1.2523   \n",
       "33  okta  Hold or Sell              1.1466  Hold or Sell              0.9560   \n",
       "34  orcl  Hold or Sell              3.0679  Hold or Sell              3.4211   \n",
       "35   qqq  Hold or Sell              3.1288  Hold or Sell              3.6915   \n",
       "36  srpt           Buy              1.5291           Buy              2.6202   \n",
       "37  tpic  Hold or Sell              1.3318  Hold or Sell              1.6820   \n",
       "38  tsla  Hold or Sell              3.0347  Hold or Sell              2.0765   \n",
       "39     v  Hold or Sell              2.6210  Hold or Sell              2.5323   \n",
       "40  vbiv           Buy              3.5476           Buy              1.0072   \n",
       "41   vbr  Hold or Sell              1.3210  Hold or Sell              1.0297   \n",
       "42  viov  Hold or Sell              1.2347  Hold or Sell              1.0316   \n",
       "43   vgt  Hold or Sell              2.8445  Hold or Sell              3.7943   \n",
       "44   xlk  Hold or Sell              4.1526  Hold or Sell              4.4499   \n",
       "\n",
       "      5_Day_Pred  5_Day_Model_Return  Actual_Returns  \n",
       "0   Hold or Sell              4.4132          6.9237  \n",
       "1   Hold or Sell              4.0880        345.5472  \n",
       "2   Hold or Sell              0.4666          2.0882  \n",
       "3   Hold or Sell              7.1885         78.4173  \n",
       "4            Buy              1.8779         14.4501  \n",
       "5   Hold or Sell              8.4835        212.3943  \n",
       "6   Hold or Sell             12.1408         17.5225  \n",
       "7   Hold or Sell              4.9189         25.0402  \n",
       "8   Hold or Sell              4.1170        113.3653  \n",
       "9            Buy              1.2467          2.5285  \n",
       "10  Hold or Sell              6.0028          6.1189  \n",
       "11           Buy              1.6063          2.2595  \n",
       "12           Buy              2.4679         15.9993  \n",
       "13  Hold or Sell              0.8133          7.1297  \n",
       "14  Hold or Sell              7.9009         77.6722  \n",
       "15  Hold or Sell              1.1570          0.4556  \n",
       "16  Hold or Sell              2.0394         -0.1854  \n",
       "17  Hold or Sell              3.4153         11.4930  \n",
       "18           Buy              3.8794          6.2254  \n",
       "19  Hold or Sell              5.6911         40.9718  \n",
       "20  Hold or Sell              3.5829          6.5923  \n",
       "21           Buy              0.8584         52.4545  \n",
       "22  Hold or Sell              2.6304         14.4480  \n",
       "23  Hold or Sell              1.1532          5.0209  \n",
       "24  Hold or Sell              9.1503         61.3434  \n",
       "25  Hold or Sell              3.3927         18.3961  \n",
       "26           Buy              4.9516         28.7225  \n",
       "27  Hold or Sell              1.6279         11.3402  \n",
       "28           Buy             16.2527        189.3871  \n",
       "29  Hold or Sell              3.1136         17.7761  \n",
       "30  Hold or Sell              3.1351          6.7258  \n",
       "31  Hold or Sell              2.1916          8.3076  \n",
       "32  Hold or Sell              1.3925         13.9162  \n",
       "33  Hold or Sell              0.9976          6.4835  \n",
       "34  Hold or Sell              3.1062         28.9676  \n",
       "35  Hold or Sell              2.7353          8.5800  \n",
       "36           Buy              1.9348          1.5639  \n",
       "37  Hold or Sell              1.7449          2.7531  \n",
       "38  Hold or Sell              3.3529        113.6880  \n",
       "39  Hold or Sell              3.1333         10.2218  \n",
       "40           Buy              1.9944         -0.8199  \n",
       "41  Hold or Sell              1.4537          1.4446  \n",
       "42  Hold or Sell              1.2981          1.1228  \n",
       "43  Hold or Sell              3.3342          5.7317  \n",
       "44  Hold or Sell              4.5449          6.3328  "
      ]
     },
     "execution_count": 29,
     "metadata": {},
     "output_type": "execute_result"
    }
   ],
   "source": [
    "summary_df = a.pred_summary_df(start_dates, stocks = [x for x in start_dates], days_back = 1)\n",
    "summary_df"
   ]
  },
  {
   "cell_type": "code",
   "execution_count": 30,
   "metadata": {},
   "outputs": [
    {
     "data": {
      "text/plain": [
       "(2.7733, 2.6267, 3.1136, 10.2218)"
      ]
     },
     "execution_count": 30,
     "metadata": {},
     "output_type": "execute_result"
    }
   ],
   "source": [
    "summary_df['1_Day_Model_Return'].median(), summary_df['3_Day_Model_Return'].median(), summary_df['5_Day_Model_Return'].median(), summary_df['Actual_Returns'].median()"
   ]
  },
  {
   "cell_type": "code",
   "execution_count": null,
   "metadata": {},
   "outputs": [],
   "source": []
  },
  {
   "cell_type": "code",
   "execution_count": null,
   "metadata": {},
   "outputs": [],
   "source": []
  },
  {
   "cell_type": "code",
   "execution_count": null,
   "metadata": {},
   "outputs": [],
   "source": []
  },
  {
   "cell_type": "code",
   "execution_count": null,
   "metadata": {},
   "outputs": [],
   "source": []
  }
 ],
 "metadata": {
  "kernelspec": {
   "display_name": "Python 3",
   "language": "python",
   "name": "python3"
  },
  "language_info": {
   "codemirror_mode": {
    "name": "ipython",
    "version": 3
   },
   "file_extension": ".py",
   "mimetype": "text/x-python",
   "name": "python",
   "nbconvert_exporter": "python",
   "pygments_lexer": "ipython3",
   "version": "3.8.5"
  }
 },
 "nbformat": 4,
 "nbformat_minor": 4
}
