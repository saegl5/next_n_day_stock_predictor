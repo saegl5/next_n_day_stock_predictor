{
 "cells": [
  {
   "cell_type": "code",
   "execution_count": 1,
   "metadata": {
    "scrolled": true
   },
   "outputs": [],
   "source": [
    "from src import attributes as a\n",
    "%load_ext autoreload\n",
    "%autoreload 2"
   ]
  },
  {
   "cell_type": "code",
   "execution_count": 2,
   "metadata": {},
   "outputs": [],
   "source": [
    "# Global Variables\n",
    "stock_name = 'msft' # ticker symbol\n",
    "train = 0 # 1 for train, 0 for pass\n",
    "days_ahead = 1 # for predicting 1, 3, or 5 days ahead\n",
    "days_back = -1 # -1 for current data point, -2 for two days ago, etc...\n",
    "cv = 5 # number of cross validation folds\n",
    "model_name = 'Random Forest Classifier' # for display on charts, not a tuning parameter"
   ]
  },
  {
   "cell_type": "code",
   "execution_count": 3,
   "metadata": {},
   "outputs": [],
   "source": [
    "# Extract, Transform, Load, and Train Test Split\n",
    "# Dictionary of IPO Dates\n",
    "start_dates = {'a': '11/15/1999' # Updated 1/17/21 1D, 3D, 5D ahead\n",
    "               , 'aapl':'12/12/1980' # Updated 1/17/21 1D, 3D, 5D ahead\n",
    "               , 'acy': '01/18/1998' # Updated 1/17/21 1D, 3D, 5D ahead\n",
    "               , 'adbe': '08/11/1986' # Updated 1/17/21 1D, 3D, 5D ahead\n",
    "               , 'alb': '02/21/1994' # Updated 1/17/21 1D, 3D, 5D ahead\n",
    "               , 'amat': '03/16/1980' # Updated 1/17/21 1D, 3D, 5D ahead\n",
    "               , 'amd': '03/17/1980' # Updated 1/17/21 1D, 3D, 5D ahead\n",
    "               , 'amzn': '05/12/1997' # Updated 1/17/21 1D, 3D, 5D ahead\n",
    "               , 'baba': '09/15/2014' # Updated 1/17/21 1D, 3D, 5D ahead\n",
    "               , 'bac': '02/19/1973' # Updated 1/17/21 1D, 3D, 5D ahead\n",
    "               , 'bpmc': '04/27/2015' # Updated 1/17/21 1D, 3D, 5D ahead\n",
    "               , 'crm': '06/23/2004' # Updated 1/17/21 1D, 3D, 5D ahead\n",
    "               , 'crsp': '10/16/2016' # Updated 1/17/21 1D, 3D, 5D ahead\n",
    "               , 'dq': '10/04/2010' # Updated 1/17/21 1D, 3D, 5D ahead\n",
    "               , 'esgv': '09/16/2018' # Updated 1/17/21 1D, 3D, 5D ahead\n",
    "               , 'fslr': '11/12/2006' # Updated 1/17/21 1D, 3D, 5D ahead\n",
    "               , 'goog': '08/16/2004' # Updated 1/17/21 1D, 3D, 5D ahead\n",
    "               , 'ibm': '01/02/1962' # Updated 1/17/21 1D, 3D, 5D ahead\n",
    "               , 'idex': '05/23/2007' # Updated 1/17/21 1D, 3D, 5D ahead\n",
    "               , 'intc': '03/16/1980' # Updated 1/17/21 1D, 3D, 5D ahead\n",
    "               , 'iyw': '05/15/2000' # Updated 1/17/21 1D, 3D, 5D ahead\n",
    "               , 'lng': '04/04/1994' # Updated 1/17/21 1D, 3D, 5D ahead\n",
    "               , 'ma': '05/21/2006' # Updated 1/17/21 1D, 3D, 5D ahead\n",
    "               , 'mdb': '10/15/2017' # Updated 1/17/21 1D, 3D, 5D ahead\n",
    "               , 'msft': '03/10/1986' # Updated 1/17/21 1D, 3D, 5D ahead\n",
    "               , 'mu': '05/28/1984' # Updated 1/17/21 1D, 3D, 5D ahead\n",
    "               , 'nee': '02/19/1973' # Updated 1/17/21 1D, 3D, 5D ahead\n",
    "               , 'nga': '10/08/2020' # Updated 1/17/21 1D, 3D, 5D ahead\n",
    "               , 'nio': '09/10/2018' # Updated 1/17/21 1D, 3D, 5D ahead\n",
    "               , 'nvda': '01/22/1999' # Updated 1/17/21 1D, 3D, 5D ahead\n",
    "               , 'pacb': '10/25/2010' # Updated 1/17/21 1D, 3D, 5D ahead\n",
    "               , 'pypl': '07/05/2015' # Updated 1/17/21 1D, 3D, 5D ahead\n",
    "               , 'qgen': '06/24/1996' # Updated 1/17/21 1D, 3D, 5D ahead\n",
    "               , 'run': '08/02/2015' # Updated 1/17/21 1D, 3D, 5D ahead\n",
    "               , 'orcl': '03/10/1986' # Updated 1/17/21 1D, 3D, 5D ahead\n",
    "               , 'qqq': '03/08/1999' # Updated 1/17/21 1D, 3D, 5D ahead\n",
    "               , 'srpt': '06/02/1997' # Updated 1/17/21 1D, 3D, 5D ahead\n",
    "               , 'tpic': '07/17/2016' # Updated 1/17/21 1D, 3D, 5D ahead\n",
    "               , 'tsla': '06/29/2010' # Updated 1/17/21 1D, 3D, 5D ahead\n",
    "               , 'v': '03/16/2008' # Updated 1/17/21 1D, 3D, 5D ahead\n",
    "               , 'vbiv': '09/04/2002' # Updated 1/17/21 1D, 3D, 5D ahead\n",
    "               , 'vbr': '01/26/2004' # Updated 1/17/21 1D, 3D, 5D ahead\n",
    "               , 'viov': '09/06/2010' # Updated 1/17/21 1D, 3D, 5D ahead\n",
    "               , 'vgt': '01/26/2004' # Updated 1/17/21 1D, 3D, 5D ahead\n",
    "               , 'xlk': '12/21/1998' # Updated 1/17/21 1D, 3D, 5D ahead\n",
    "              }"
   ]
  },
  {
   "cell_type": "code",
   "execution_count": null,
   "metadata": {},
   "outputs": [],
   "source": []
  },
  {
   "cell_type": "code",
   "execution_count": null,
   "metadata": {},
   "outputs": [],
   "source": []
  },
  {
   "cell_type": "code",
   "execution_count": null,
   "metadata": {},
   "outputs": [],
   "source": []
  },
  {
   "cell_type": "code",
   "execution_count": 4,
   "metadata": {},
   "outputs": [],
   "source": [
    "# X_train, X_test, y_train, y_test, stock_df = a.data(stock_name, start_dates[stock_name], days_ahead)\n",
    "# stock_df.tail(10)"
   ]
  },
  {
   "cell_type": "code",
   "execution_count": 5,
   "metadata": {
    "scrolled": false
   },
   "outputs": [],
   "source": [
    "# GridSerach to find best hyperparameters to prevent overfitting, can be commented out once trained\n",
    "# if train == 1:\n",
    "#     a.rfc_GridSearch(X_train, y_train, stock_name, days_ahead, cv)\n",
    "# elif train == 0:\n",
    "#     pass"
   ]
  },
  {
   "cell_type": "code",
   "execution_count": 6,
   "metadata": {},
   "outputs": [],
   "source": [
    "# Load RandomForextClassifier Model\n",
    "# rfc_model, y_pred, y_probs = a.rfc(X_train, X_test, y_train, stock_name, days_ahead)"
   ]
  },
  {
   "cell_type": "code",
   "execution_count": 7,
   "metadata": {
    "scrolled": false
   },
   "outputs": [],
   "source": [
    "# ROC Curve\n",
    "# a.roc_plot(y_test, y_probs, stock_name, model_name)"
   ]
  },
  {
   "cell_type": "code",
   "execution_count": 8,
   "metadata": {
    "scrolled": false
   },
   "outputs": [],
   "source": [
    "# Precision Recall Curve\n",
    "# a.prec_recall(y_test, y_probs, stock_name, model_name)"
   ]
  },
  {
   "cell_type": "code",
   "execution_count": 9,
   "metadata": {
    "scrolled": false
   },
   "outputs": [],
   "source": [
    "# Confusion Matrix\n",
    "# a.confusion_matrix(rfc_model, X_test, y_test, stock_name)"
   ]
  },
  {
   "cell_type": "code",
   "execution_count": 10,
   "metadata": {},
   "outputs": [],
   "source": [
    "# Cross Validation\n",
    "# a.cross_validation(rfc_model\n",
    "#                    , stock_df[['oc', 'hl', '5stdev_adj', '5sma_adj']]\n",
    "#                    , stock_df['direction']\n",
    "#                    , cv = 5\n",
    "#                   )"
   ]
  },
  {
   "cell_type": "markdown",
   "metadata": {},
   "source": [
    "### Prediction..."
   ]
  },
  {
   "cell_type": "code",
   "execution_count": 11,
   "metadata": {
    "scrolled": true
   },
   "outputs": [],
   "source": [
    "# Prediction, use last day of data\n",
    "# stock_df.iloc[-1]"
   ]
  },
  {
   "cell_type": "code",
   "execution_count": 12,
   "metadata": {},
   "outputs": [],
   "source": [
    "# import numpy as np\n",
    "# last = stock_df[['oc', 'hl', '5stdev_adj', '5sma_adj']].iloc[-days_back]\n",
    "# last"
   ]
  },
  {
   "cell_type": "code",
   "execution_count": 13,
   "metadata": {},
   "outputs": [],
   "source": [
    "# stock_df['adj'].describe()"
   ]
  },
  {
   "cell_type": "code",
   "execution_count": 14,
   "metadata": {
    "scrolled": true
   },
   "outputs": [],
   "source": [
    "# if rfc_model.predict(np.array(last).reshape(1, -1))[0] == 1:\n",
    "#     print(f'Buy {stock_name} {days_ahead} day(s) ahead')\n",
    "# else:\n",
    "#     print(f'Sell or hold {stock_name} {days_ahead} day(s) ahead')"
   ]
  },
  {
   "cell_type": "markdown",
   "metadata": {},
   "source": [
    "### Strategy Returns..."
   ]
  },
  {
   "cell_type": "code",
   "execution_count": 15,
   "metadata": {},
   "outputs": [],
   "source": [
    "# returns on strategy column\n",
    "# stock_df['prediction'] = rfc_model.predict(stock_df[['oc', 'hl', '5stdev_adj', '5sma_adj']])\n",
    "# stock_df['returns'] = stock_df['adj'].shift(-1, fill_value = stock_df['adj'].median()) * stock_df['prediction']"
   ]
  },
  {
   "cell_type": "code",
   "execution_count": 16,
   "metadata": {},
   "outputs": [],
   "source": [
    "# stock_df.tail(5)"
   ]
  },
  {
   "cell_type": "code",
   "execution_count": 17,
   "metadata": {},
   "outputs": [],
   "source": [
    "# Don't trade every day!\n",
    "# import matplotlib.pyplot as plt\n",
    "# test_length = len(y_test)\n",
    "# (stock_df['returns'][-test_length:] + 1).cumprod().plot()\n",
    "# plt.title(f'{stock_name} Expected Returns %');"
   ]
  },
  {
   "cell_type": "code",
   "execution_count": 18,
   "metadata": {},
   "outputs": [],
   "source": [
    "# Model returns if bought on predictions of 1\n",
    "# returns_on_ones = []\n",
    "# for idx in range(-test_length, 0):\n",
    "#     if stock_df['prediction'][idx] == 1:\n",
    "#         returns_on_ones.append(1 + stock_df['returns'][idx])\n",
    "\n",
    "# returns = 1\n",
    "# for x in returns_on_ones:\n",
    "#     returns *= x\n",
    "# returns"
   ]
  },
  {
   "cell_type": "code",
   "execution_count": 19,
   "metadata": {},
   "outputs": [],
   "source": [
    "# multiple times original investment, not bad but..."
   ]
  },
  {
   "cell_type": "code",
   "execution_count": 20,
   "metadata": {},
   "outputs": [],
   "source": [
    "# If purchased in 2012 and left it until now\n",
    "# test_idx = int(len(stock_df)*0.75)\n",
    "# (stock_df['Close'][-1] - stock_df['Close'][-test_idx]) / stock_df['Close'][-test_idx]"
   ]
  },
  {
   "cell_type": "code",
   "execution_count": 21,
   "metadata": {},
   "outputs": [],
   "source": [
    "# Buy and hold strategy beats RandomForestClassifier in this study\n",
    "\n",
    "# Special thanks to Shagufta Tahsildar at https://blog.quantinsti.com/random-forest-algorithm-in-python/"
   ]
  },
  {
   "cell_type": "code",
   "execution_count": null,
   "metadata": {},
   "outputs": [],
   "source": []
  },
  {
   "cell_type": "code",
   "execution_count": null,
   "metadata": {},
   "outputs": [],
   "source": []
  },
  {
   "cell_type": "code",
   "execution_count": null,
   "metadata": {},
   "outputs": [],
   "source": []
  },
  {
   "cell_type": "markdown",
   "metadata": {},
   "source": [
    "### Training"
   ]
  },
  {
   "cell_type": "markdown",
   "metadata": {},
   "source": [
    "Training is done once a week on Saturday and Sunday"
   ]
  },
  {
   "cell_type": "code",
   "execution_count": 22,
   "metadata": {},
   "outputs": [
    {
     "data": {
      "text/plain": [
       "45"
      ]
     },
     "execution_count": 22,
     "metadata": {},
     "output_type": "execute_result"
    }
   ],
   "source": [
    "len(start_dates)"
   ]
  },
  {
   "cell_type": "code",
   "execution_count": 23,
   "metadata": {},
   "outputs": [
    {
     "data": {
      "text/plain": [
       "{'a': '11/15/1999',\n",
       " 'aapl': '12/12/1980',\n",
       " 'acy': '01/18/1998',\n",
       " 'adbe': '08/11/1986',\n",
       " 'alb': '02/21/1994',\n",
       " 'amat': '03/16/1980',\n",
       " 'amd': '03/17/1980',\n",
       " 'amzn': '05/12/1997',\n",
       " 'baba': '09/15/2014',\n",
       " 'bac': '02/19/1973',\n",
       " 'bpmc': '04/27/2015',\n",
       " 'crm': '06/23/2004',\n",
       " 'crsp': '10/16/2016',\n",
       " 'dq': '10/04/2010',\n",
       " 'esgv': '09/16/2018'}"
      ]
     },
     "execution_count": 23,
     "metadata": {},
     "output_type": "execute_result"
    }
   ],
   "source": [
    "import itertools as itr\n",
    "start_dates1 = dict(itr.islice(start_dates.items(), 0, 15))\n",
    "start_dates1"
   ]
  },
  {
   "cell_type": "code",
   "execution_count": 24,
   "metadata": {},
   "outputs": [
    {
     "data": {
      "text/plain": [
       "{'fslr': '11/12/2006',\n",
       " 'goog': '08/16/2004',\n",
       " 'ibm': '01/02/1962',\n",
       " 'idex': '05/23/2007',\n",
       " 'intc': '03/16/1980',\n",
       " 'iyw': '05/15/2000',\n",
       " 'lng': '04/04/1994',\n",
       " 'ma': '05/21/2006',\n",
       " 'mdb': '10/15/2017',\n",
       " 'msft': '03/10/1986',\n",
       " 'mu': '05/28/1984',\n",
       " 'nee': '02/19/1973',\n",
       " 'nga': '10/08/2020',\n",
       " 'nio': '09/10/2018',\n",
       " 'nvda': '01/22/1999'}"
      ]
     },
     "execution_count": 24,
     "metadata": {},
     "output_type": "execute_result"
    }
   ],
   "source": [
    "start_dates2 = dict(itr.islice(start_dates.items(), 15, 30))\n",
    "start_dates2"
   ]
  },
  {
   "cell_type": "code",
   "execution_count": 25,
   "metadata": {},
   "outputs": [
    {
     "data": {
      "text/plain": [
       "{'pacb': '10/25/2010',\n",
       " 'pypl': '07/05/2015',\n",
       " 'qgen': '06/24/1996',\n",
       " 'run': '08/02/2015',\n",
       " 'orcl': '03/10/1986',\n",
       " 'qqq': '03/08/1999',\n",
       " 'srpt': '06/02/1997',\n",
       " 'tpic': '07/17/2016',\n",
       " 'tsla': '06/29/2010',\n",
       " 'v': '03/16/2008',\n",
       " 'vbiv': '09/04/2002',\n",
       " 'vbr': '01/26/2004',\n",
       " 'viov': '09/06/2010',\n",
       " 'vgt': '01/26/2004',\n",
       " 'xlk': '12/21/1998'}"
      ]
     },
     "execution_count": 25,
     "metadata": {},
     "output_type": "execute_result"
    }
   ],
   "source": [
    "start_dates3 = dict(itr.islice(start_dates.items(), 30, 45+1))\n",
    "start_dates3"
   ]
  },
  {
   "cell_type": "code",
   "execution_count": 26,
   "metadata": {},
   "outputs": [],
   "source": [
    "#Train 15 at a time!\n",
    "# stocks = [x for x in start_dates1]\n",
    "# days_ahead = [1, 3, 5]\n",
    "# cv = 5\n",
    "# for stock in stocks:\n",
    "#     for days in days_ahead:\n",
    "#         X_train, X_test, y_train, y_test, stock_df = a.data(stock, start_dates[stock], days)\n",
    "#         a.rfc_GridSearch(X_train, y_train, stock, days, cv)\n",
    "# len(stocks)\n",
    "\n",
    "# stocks = [x for x in start_dates2]\n",
    "# days_ahead = [1, 3, 5]\n",
    "# cv = 5\n",
    "# for stock in stocks:\n",
    "#     for days in days_ahead:\n",
    "#         X_train, X_test, y_train, y_test, stock_df = a.data(stock, start_dates[stock], days)\n",
    "#         a.rfc_GridSearch(X_train, y_train, stock, days, cv)\n",
    "# len(stocks)\n",
    "\n",
    "# stocks = [x for x in start_dates3]\n",
    "# days_ahead = [1, 3, 5]\n",
    "# cv = 5\n",
    "# for stock in stocks:\n",
    "#     for days in days_ahead:\n",
    "#         X_train, X_test, y_train, y_test, stock_df = a.data(stock, start_dates[stock], days)\n",
    "#         a.rfc_GridSearch(X_train, y_train, stock, days, cv)\n",
    "# len(stocks)\n",
    "\n",
    "# Train all, takes 15+ hours\n",
    "# stocks = [x for x in start_dates]\n",
    "# days_ahead = [1, 3, 5]\n",
    "# cv = 5\n",
    "# for stock in stocks:\n",
    "#     for days in days_ahead:\n",
    "#         X_train, X_test, y_train, y_test, stock_df = a.data(stock, start_dates[stock], days)\n",
    "#         a.rfc_GridSearch(X_train, y_train, stock, days, cv)\n",
    "# len(stocks)\n",
    "\n",
    "# Train desired stocks...takes less time\n",
    "# stocks = ['nga']\n",
    "# days_ahead = [1, 3, 5]\n",
    "# cv = 5\n",
    "# for stock in stocks:\n",
    "#     for days in days_ahead:\n",
    "#         X_train, X_test, y_train, y_test, stock_df = a.data(stock, start_dates[stock], days)\n",
    "#         a.rfc_GridSearch(X_train, y_train, stock, days, cv)"
   ]
  },
  {
   "cell_type": "code",
   "execution_count": null,
   "metadata": {},
   "outputs": [],
   "source": []
  },
  {
   "cell_type": "code",
   "execution_count": null,
   "metadata": {},
   "outputs": [],
   "source": []
  },
  {
   "cell_type": "code",
   "execution_count": null,
   "metadata": {},
   "outputs": [],
   "source": []
  },
  {
   "cell_type": "markdown",
   "metadata": {},
   "source": [
    "### Display All Results"
   ]
  },
  {
   "cell_type": "code",
   "execution_count": 27,
   "metadata": {
    "scrolled": false
   },
   "outputs": [
    {
     "name": "stdout",
     "output_type": "stream",
     "text": [
      "Sell or hold vbiv 5 day(s) ahead\n",
      "Model Returns (x 100 for %): 1.1413\n",
      "Stock Returns (x 100 for %): -0.8337\n"
     ]
    },
    {
     "data": {
      "image/png": "[encoded data removed]",
      "text/plain": [
       "<Figure size 432x288 with 1 Axes>"
      ]
     },
     "metadata": {},
     "output_type": "display_data"
    },
    {
     "data": {
      "image/png": "[encoded data removed]",
      "text/plain": [
       "<Figure size 648x504 with 1 Axes>"
      ]
     },
     "metadata": {},
     "output_type": "display_data"
    },
    {
     "data": {
      "image/png": "[encoded data removed]",
      "text/plain": [
       "<Figure size 648x504 with 1 Axes>"
      ]
     },
     "metadata": {},
     "output_type": "display_data"
    },
    {
     "data": {
      "image/png": "[encoded data removed]",
      "text/plain": [
       "<Figure size 684x612 with 2 Axes>"
      ]
     },
     "metadata": {},
     "output_type": "display_data"
    }
   ],
   "source": [
    "stock_name = 'vbiv'\n",
    "a.all_func(stock_name\n",
    "           , start_dates[stock_name]\n",
    "           , days_ahead = 5\n",
    "           , model_name = model_name\n",
    "           , days_back = 1\n",
    "          )"
   ]
  },
  {
   "cell_type": "code",
   "execution_count": null,
   "metadata": {},
   "outputs": [],
   "source": []
  },
  {
   "cell_type": "code",
   "execution_count": null,
   "metadata": {},
   "outputs": [],
   "source": []
  },
  {
   "cell_type": "code",
   "execution_count": null,
   "metadata": {},
   "outputs": [],
   "source": []
  },
  {
   "cell_type": "markdown",
   "metadata": {},
   "source": [
    "### Data Frame of Predictions 1 3 5 Days"
   ]
  },
  {
   "cell_type": "code",
   "execution_count": 28,
   "metadata": {},
   "outputs": [
    {
     "name": "stdout",
     "output_type": "stream",
     "text": [
      "Today's date: 2021-01-28\n"
     ]
    }
   ],
   "source": [
    "from datetime import date\n",
    "\n",
    "today = date.today()\n",
    "print(\"Today's date:\", today)"
   ]
  },
  {
   "cell_type": "code",
   "execution_count": 29,
   "metadata": {
    "scrolled": false
   },
   "outputs": [
    {
     "data": {
      "text/html": [
       "<div>\n",
       "<style scoped>\n",
       "    .dataframe tbody tr th:only-of-type {\n",
       "        vertical-align: middle;\n",
       "    }\n",
       "\n",
       "    .dataframe tbody tr th {\n",
       "        vertical-align: top;\n",
       "    }\n",
       "\n",
       "    .dataframe thead th {\n",
       "        text-align: right;\n",
       "    }\n",
       "</style>\n",
       "<table border=\"1\" class=\"dataframe\">\n",
       "  <thead>\n",
       "    <tr style=\"text-align: right;\">\n",
       "      <th></th>\n",
       "      <th>stock</th>\n",
       "      <th>1_Day_Pred</th>\n",
       "      <th>1_Day_Model_Return</th>\n",
       "      <th>3_Day_Pred</th>\n",
       "      <th>3_Day_Model_Return</th>\n",
       "      <th>5_Day_Pred</th>\n",
       "      <th>5_Day_Model_Return</th>\n",
       "      <th>Actual_Returns</th>\n",
       "    </tr>\n",
       "  </thead>\n",
       "  <tbody>\n",
       "    <tr>\n",
       "      <th>0</th>\n",
       "      <td>a</td>\n",
       "      <td>Hold or Sell</td>\n",
       "      <td>3.8859</td>\n",
       "      <td>Hold or Sell</td>\n",
       "      <td>3.5594</td>\n",
       "      <td>Hold or Sell</td>\n",
       "      <td>3.8584</td>\n",
       "      <td>6.4996</td>\n",
       "    </tr>\n",
       "    <tr>\n",
       "      <th>1</th>\n",
       "      <td>aapl</td>\n",
       "      <td>Buy</td>\n",
       "      <td>3.2374</td>\n",
       "      <td>Buy</td>\n",
       "      <td>3.1853</td>\n",
       "      <td>Buy</td>\n",
       "      <td>4.1941</td>\n",
       "      <td>347.9565</td>\n",
       "    </tr>\n",
       "    <tr>\n",
       "      <th>2</th>\n",
       "      <td>acy</td>\n",
       "      <td>Buy</td>\n",
       "      <td>0.8114</td>\n",
       "      <td>Buy</td>\n",
       "      <td>0.6255</td>\n",
       "      <td>Buy</td>\n",
       "      <td>0.6958</td>\n",
       "      <td>2.6429</td>\n",
       "    </tr>\n",
       "    <tr>\n",
       "      <th>3</th>\n",
       "      <td>adbe</td>\n",
       "      <td>Hold or Sell</td>\n",
       "      <td>8.2814</td>\n",
       "      <td>Hold or Sell</td>\n",
       "      <td>7.0500</td>\n",
       "      <td>Hold or Sell</td>\n",
       "      <td>7.4938</td>\n",
       "      <td>98.3429</td>\n",
       "    </tr>\n",
       "    <tr>\n",
       "      <th>4</th>\n",
       "      <td>alb</td>\n",
       "      <td>Buy</td>\n",
       "      <td>2.0791</td>\n",
       "      <td>Buy</td>\n",
       "      <td>1.9493</td>\n",
       "      <td>Buy</td>\n",
       "      <td>1.8336</td>\n",
       "      <td>14.2984</td>\n",
       "    </tr>\n",
       "    <tr>\n",
       "      <th>5</th>\n",
       "      <td>amat</td>\n",
       "      <td>Hold or Sell</td>\n",
       "      <td>7.6444</td>\n",
       "      <td>Hold or Sell</td>\n",
       "      <td>7.2632</td>\n",
       "      <td>Hold or Sell</td>\n",
       "      <td>8.8375</td>\n",
       "      <td>175.1523</td>\n",
       "    </tr>\n",
       "    <tr>\n",
       "      <th>6</th>\n",
       "      <td>amd</td>\n",
       "      <td>Buy</td>\n",
       "      <td>8.0710</td>\n",
       "      <td>Buy</td>\n",
       "      <td>3.4443</td>\n",
       "      <td>Buy</td>\n",
       "      <td>8.6996</td>\n",
       "      <td>15.6705</td>\n",
       "    </tr>\n",
       "    <tr>\n",
       "      <th>7</th>\n",
       "      <td>amzn</td>\n",
       "      <td>Buy</td>\n",
       "      <td>3.8191</td>\n",
       "      <td>Hold or Sell</td>\n",
       "      <td>2.9979</td>\n",
       "      <td>Buy</td>\n",
       "      <td>4.4530</td>\n",
       "      <td>111.0672</td>\n",
       "    </tr>\n",
       "    <tr>\n",
       "      <th>8</th>\n",
       "      <td>baba</td>\n",
       "      <td>Hold or Sell</td>\n",
       "      <td>1.3436</td>\n",
       "      <td>Hold or Sell</td>\n",
       "      <td>1.2384</td>\n",
       "      <td>Hold or Sell</td>\n",
       "      <td>1.0179</td>\n",
       "      <td>2.4131</td>\n",
       "    </tr>\n",
       "    <tr>\n",
       "      <th>9</th>\n",
       "      <td>bac</td>\n",
       "      <td>Buy</td>\n",
       "      <td>3.3794</td>\n",
       "      <td>Buy</td>\n",
       "      <td>3.9920</td>\n",
       "      <td>Buy</td>\n",
       "      <td>4.4257</td>\n",
       "      <td>5.7378</td>\n",
       "    </tr>\n",
       "    <tr>\n",
       "      <th>10</th>\n",
       "      <td>bpmc</td>\n",
       "      <td>Hold or Sell</td>\n",
       "      <td>2.4585</td>\n",
       "      <td>Hold or Sell</td>\n",
       "      <td>1.3300</td>\n",
       "      <td>Hold or Sell</td>\n",
       "      <td>1.6043</td>\n",
       "      <td>2.4887</td>\n",
       "    </tr>\n",
       "    <tr>\n",
       "      <th>11</th>\n",
       "      <td>crm</td>\n",
       "      <td>Hold or Sell</td>\n",
       "      <td>2.1547</td>\n",
       "      <td>Hold or Sell</td>\n",
       "      <td>2.4417</td>\n",
       "      <td>Hold or Sell</td>\n",
       "      <td>2.3076</td>\n",
       "      <td>16.0141</td>\n",
       "    </tr>\n",
       "    <tr>\n",
       "      <th>12</th>\n",
       "      <td>crsp</td>\n",
       "      <td>Hold or Sell</td>\n",
       "      <td>0.9581</td>\n",
       "      <td>Buy</td>\n",
       "      <td>0.8067</td>\n",
       "      <td>Buy</td>\n",
       "      <td>0.9900</td>\n",
       "      <td>8.0059</td>\n",
       "    </tr>\n",
       "    <tr>\n",
       "      <th>13</th>\n",
       "      <td>dq</td>\n",
       "      <td>Buy</td>\n",
       "      <td>9.6948</td>\n",
       "      <td>Buy</td>\n",
       "      <td>6.9242</td>\n",
       "      <td>Buy</td>\n",
       "      <td>10.2255</td>\n",
       "      <td>87.0109</td>\n",
       "    </tr>\n",
       "    <tr>\n",
       "      <th>14</th>\n",
       "      <td>esgv</td>\n",
       "      <td>Hold or Sell</td>\n",
       "      <td>1.1154</td>\n",
       "      <td>Hold or Sell</td>\n",
       "      <td>1.1306</td>\n",
       "      <td>Hold or Sell</td>\n",
       "      <td>1.0957</td>\n",
       "      <td>0.3989</td>\n",
       "    </tr>\n",
       "    <tr>\n",
       "      <th>15</th>\n",
       "      <td>fslr</td>\n",
       "      <td>Hold or Sell</td>\n",
       "      <td>2.3362</td>\n",
       "      <td>Hold or Sell</td>\n",
       "      <td>2.2690</td>\n",
       "      <td>Hold or Sell</td>\n",
       "      <td>2.0809</td>\n",
       "      <td>-0.1038</td>\n",
       "    </tr>\n",
       "    <tr>\n",
       "      <th>16</th>\n",
       "      <td>goog</td>\n",
       "      <td>Hold or Sell</td>\n",
       "      <td>2.4085</td>\n",
       "      <td>Hold or Sell</td>\n",
       "      <td>2.1837</td>\n",
       "      <td>Hold or Sell</td>\n",
       "      <td>3.0070</td>\n",
       "      <td>8.6668</td>\n",
       "    </tr>\n",
       "    <tr>\n",
       "      <th>17</th>\n",
       "      <td>ibm</td>\n",
       "      <td>Buy</td>\n",
       "      <td>2.5616</td>\n",
       "      <td>Buy</td>\n",
       "      <td>3.8278</td>\n",
       "      <td>Buy</td>\n",
       "      <td>3.3004</td>\n",
       "      <td>6.3331</td>\n",
       "    </tr>\n",
       "    <tr>\n",
       "      <th>18</th>\n",
       "      <td>idex</td>\n",
       "      <td>Buy</td>\n",
       "      <td>0.0936</td>\n",
       "      <td>Buy</td>\n",
       "      <td>0.1947</td>\n",
       "      <td>Buy</td>\n",
       "      <td>0.1200</td>\n",
       "      <td>0.0587</td>\n",
       "    </tr>\n",
       "    <tr>\n",
       "      <th>19</th>\n",
       "      <td>intc</td>\n",
       "      <td>Hold or Sell</td>\n",
       "      <td>5.5099</td>\n",
       "      <td>Hold or Sell</td>\n",
       "      <td>5.5922</td>\n",
       "      <td>Hold or Sell</td>\n",
       "      <td>5.5133</td>\n",
       "      <td>36.7701</td>\n",
       "    </tr>\n",
       "    <tr>\n",
       "      <th>20</th>\n",
       "      <td>iyw</td>\n",
       "      <td>Buy</td>\n",
       "      <td>2.8533</td>\n",
       "      <td>Buy</td>\n",
       "      <td>4.2190</td>\n",
       "      <td>Buy</td>\n",
       "      <td>3.9176</td>\n",
       "      <td>6.1284</td>\n",
       "    </tr>\n",
       "    <tr>\n",
       "      <th>21</th>\n",
       "      <td>lng</td>\n",
       "      <td>Hold or Sell</td>\n",
       "      <td>1.2880</td>\n",
       "      <td>Hold or Sell</td>\n",
       "      <td>0.8274</td>\n",
       "      <td>Hold or Sell</td>\n",
       "      <td>0.9233</td>\n",
       "      <td>44.4173</td>\n",
       "    </tr>\n",
       "    <tr>\n",
       "      <th>22</th>\n",
       "      <td>ma</td>\n",
       "      <td>Buy</td>\n",
       "      <td>2.5972</td>\n",
       "      <td>Buy</td>\n",
       "      <td>3.0257</td>\n",
       "      <td>Buy</td>\n",
       "      <td>2.4400</td>\n",
       "      <td>11.8397</td>\n",
       "    </tr>\n",
       "    <tr>\n",
       "      <th>23</th>\n",
       "      <td>mdb</td>\n",
       "      <td>Hold or Sell</td>\n",
       "      <td>0.9324</td>\n",
       "      <td>Hold or Sell</td>\n",
       "      <td>1.0714</td>\n",
       "      <td>Hold or Sell</td>\n",
       "      <td>0.8819</td>\n",
       "      <td>4.7086</td>\n",
       "    </tr>\n",
       "    <tr>\n",
       "      <th>24</th>\n",
       "      <td>msft</td>\n",
       "      <td>Hold or Sell</td>\n",
       "      <td>7.2496</td>\n",
       "      <td>Hold or Sell</td>\n",
       "      <td>11.0615</td>\n",
       "      <td>Hold or Sell</td>\n",
       "      <td>8.1077</td>\n",
       "      <td>60.4117</td>\n",
       "    </tr>\n",
       "    <tr>\n",
       "      <th>25</th>\n",
       "      <td>mu</td>\n",
       "      <td>Hold or Sell</td>\n",
       "      <td>2.8642</td>\n",
       "      <td>Hold or Sell</td>\n",
       "      <td>3.1930</td>\n",
       "      <td>Hold or Sell</td>\n",
       "      <td>2.8698</td>\n",
       "      <td>16.1344</td>\n",
       "    </tr>\n",
       "    <tr>\n",
       "      <th>26</th>\n",
       "      <td>nee</td>\n",
       "      <td>Hold or Sell</td>\n",
       "      <td>3.8621</td>\n",
       "      <td>Hold or Sell</td>\n",
       "      <td>4.5843</td>\n",
       "      <td>Hold or Sell</td>\n",
       "      <td>4.6936</td>\n",
       "      <td>29.1568</td>\n",
       "    </tr>\n",
       "    <tr>\n",
       "      <th>27</th>\n",
       "      <td>nga</td>\n",
       "      <td>Hold or Sell</td>\n",
       "      <td>1.2563</td>\n",
       "      <td>Buy</td>\n",
       "      <td>0.8852</td>\n",
       "      <td>Buy</td>\n",
       "      <td>0.9038</td>\n",
       "      <td>1.3287</td>\n",
       "    </tr>\n",
       "    <tr>\n",
       "      <th>28</th>\n",
       "      <td>nio</td>\n",
       "      <td>Hold or Sell</td>\n",
       "      <td>2.0403</td>\n",
       "      <td>Hold or Sell</td>\n",
       "      <td>1.7411</td>\n",
       "      <td>Hold or Sell</td>\n",
       "      <td>2.3103</td>\n",
       "      <td>10.9122</td>\n",
       "    </tr>\n",
       "    <tr>\n",
       "      <th>29</th>\n",
       "      <td>nvda</td>\n",
       "      <td>Hold or Sell</td>\n",
       "      <td>11.8630</td>\n",
       "      <td>Buy</td>\n",
       "      <td>7.2475</td>\n",
       "      <td>Hold or Sell</td>\n",
       "      <td>14.9739</td>\n",
       "      <td>104.7475</td>\n",
       "    </tr>\n",
       "    <tr>\n",
       "      <th>30</th>\n",
       "      <td>pacb</td>\n",
       "      <td>Hold or Sell</td>\n",
       "      <td>1.9063</td>\n",
       "      <td>Hold or Sell</td>\n",
       "      <td>1.5435</td>\n",
       "      <td>Hold or Sell</td>\n",
       "      <td>1.2625</td>\n",
       "      <td>12.0342</td>\n",
       "    </tr>\n",
       "    <tr>\n",
       "      <th>31</th>\n",
       "      <td>pypl</td>\n",
       "      <td>Hold or Sell</td>\n",
       "      <td>2.7003</td>\n",
       "      <td>Hold or Sell</td>\n",
       "      <td>2.7273</td>\n",
       "      <td>Buy</td>\n",
       "      <td>2.9520</td>\n",
       "      <td>4.9611</td>\n",
       "    </tr>\n",
       "    <tr>\n",
       "      <th>32</th>\n",
       "      <td>qgen</td>\n",
       "      <td>Hold or Sell</td>\n",
       "      <td>2.0303</td>\n",
       "      <td>Hold or Sell</td>\n",
       "      <td>2.1422</td>\n",
       "      <td>Hold or Sell</td>\n",
       "      <td>2.7048</td>\n",
       "      <td>7.1447</td>\n",
       "    </tr>\n",
       "    <tr>\n",
       "      <th>33</th>\n",
       "      <td>run</td>\n",
       "      <td>Buy</td>\n",
       "      <td>1.2830</td>\n",
       "      <td>Buy</td>\n",
       "      <td>0.9945</td>\n",
       "      <td>Buy</td>\n",
       "      <td>0.9835</td>\n",
       "      <td>11.9910</td>\n",
       "    </tr>\n",
       "    <tr>\n",
       "      <th>34</th>\n",
       "      <td>orcl</td>\n",
       "      <td>Buy</td>\n",
       "      <td>3.5735</td>\n",
       "      <td>Buy</td>\n",
       "      <td>3.0659</td>\n",
       "      <td>Buy</td>\n",
       "      <td>2.9306</td>\n",
       "      <td>30.7873</td>\n",
       "    </tr>\n",
       "    <tr>\n",
       "      <th>35</th>\n",
       "      <td>qqq</td>\n",
       "      <td>Hold or Sell</td>\n",
       "      <td>2.6057</td>\n",
       "      <td>Hold or Sell</td>\n",
       "      <td>3.1487</td>\n",
       "      <td>Buy</td>\n",
       "      <td>2.4524</td>\n",
       "      <td>8.3326</td>\n",
       "    </tr>\n",
       "    <tr>\n",
       "      <th>36</th>\n",
       "      <td>srpt</td>\n",
       "      <td>Buy</td>\n",
       "      <td>1.7522</td>\n",
       "      <td>Buy</td>\n",
       "      <td>2.8343</td>\n",
       "      <td>Buy</td>\n",
       "      <td>2.2125</td>\n",
       "      <td>1.4994</td>\n",
       "    </tr>\n",
       "    <tr>\n",
       "      <th>37</th>\n",
       "      <td>tpic</td>\n",
       "      <td>Buy</td>\n",
       "      <td>1.1853</td>\n",
       "      <td>Hold or Sell</td>\n",
       "      <td>1.6977</td>\n",
       "      <td>Hold or Sell</td>\n",
       "      <td>1.4292</td>\n",
       "      <td>1.9911</td>\n",
       "    </tr>\n",
       "    <tr>\n",
       "      <th>38</th>\n",
       "      <td>tsla</td>\n",
       "      <td>Buy</td>\n",
       "      <td>3.7075</td>\n",
       "      <td>Hold or Sell</td>\n",
       "      <td>1.8195</td>\n",
       "      <td>Hold or Sell</td>\n",
       "      <td>3.2553</td>\n",
       "      <td>118.0071</td>\n",
       "    </tr>\n",
       "    <tr>\n",
       "      <th>39</th>\n",
       "      <td>v</td>\n",
       "      <td>Buy</td>\n",
       "      <td>2.8308</td>\n",
       "      <td>Buy</td>\n",
       "      <td>2.4696</td>\n",
       "      <td>Buy</td>\n",
       "      <td>2.6785</td>\n",
       "      <td>9.6156</td>\n",
       "    </tr>\n",
       "    <tr>\n",
       "      <th>40</th>\n",
       "      <td>vbiv</td>\n",
       "      <td>Hold or Sell</td>\n",
       "      <td>1.8086</td>\n",
       "      <td>Hold or Sell</td>\n",
       "      <td>1.4325</td>\n",
       "      <td>Hold or Sell</td>\n",
       "      <td>1.0468</td>\n",
       "      <td>-0.8337</td>\n",
       "    </tr>\n",
       "    <tr>\n",
       "      <th>41</th>\n",
       "      <td>vbr</td>\n",
       "      <td>Buy</td>\n",
       "      <td>1.3409</td>\n",
       "      <td>Buy</td>\n",
       "      <td>1.1359</td>\n",
       "      <td>Buy</td>\n",
       "      <td>1.6338</td>\n",
       "      <td>1.3288</td>\n",
       "    </tr>\n",
       "    <tr>\n",
       "      <th>42</th>\n",
       "      <td>viov</td>\n",
       "      <td>Buy</td>\n",
       "      <td>1.2450</td>\n",
       "      <td>Buy</td>\n",
       "      <td>1.0207</td>\n",
       "      <td>Buy</td>\n",
       "      <td>1.2754</td>\n",
       "      <td>1.0032</td>\n",
       "    </tr>\n",
       "    <tr>\n",
       "      <th>43</th>\n",
       "      <td>vgt</td>\n",
       "      <td>Buy</td>\n",
       "      <td>2.9944</td>\n",
       "      <td>Buy</td>\n",
       "      <td>3.8073</td>\n",
       "      <td>Buy</td>\n",
       "      <td>2.8258</td>\n",
       "      <td>5.4579</td>\n",
       "    </tr>\n",
       "    <tr>\n",
       "      <th>44</th>\n",
       "      <td>xlk</td>\n",
       "      <td>Buy</td>\n",
       "      <td>3.2449</td>\n",
       "      <td>Buy</td>\n",
       "      <td>4.2237</td>\n",
       "      <td>Buy</td>\n",
       "      <td>3.8766</td>\n",
       "      <td>5.7678</td>\n",
       "    </tr>\n",
       "  </tbody>\n",
       "</table>\n",
       "</div>"
      ],
      "text/plain": [
       "   stock    1_Day_Pred  1_Day_Model_Return    3_Day_Pred  3_Day_Model_Return  \\\n",
       "0      a  Hold or Sell              3.8859  Hold or Sell              3.5594   \n",
       "1   aapl           Buy              3.2374           Buy              3.1853   \n",
       "2    acy           Buy              0.8114           Buy              0.6255   \n",
       "3   adbe  Hold or Sell              8.2814  Hold or Sell              7.0500   \n",
       "4    alb           Buy              2.0791           Buy              1.9493   \n",
       "5   amat  Hold or Sell              7.6444  Hold or Sell              7.2632   \n",
       "6    amd           Buy              8.0710           Buy              3.4443   \n",
       "7   amzn           Buy              3.8191  Hold or Sell              2.9979   \n",
       "8   baba  Hold or Sell              1.3436  Hold or Sell              1.2384   \n",
       "9    bac           Buy              3.3794           Buy              3.9920   \n",
       "10  bpmc  Hold or Sell              2.4585  Hold or Sell              1.3300   \n",
       "11   crm  Hold or Sell              2.1547  Hold or Sell              2.4417   \n",
       "12  crsp  Hold or Sell              0.9581           Buy              0.8067   \n",
       "13    dq           Buy              9.6948           Buy              6.9242   \n",
       "14  esgv  Hold or Sell              1.1154  Hold or Sell              1.1306   \n",
       "15  fslr  Hold or Sell              2.3362  Hold or Sell              2.2690   \n",
       "16  goog  Hold or Sell              2.4085  Hold or Sell              2.1837   \n",
       "17   ibm           Buy              2.5616           Buy              3.8278   \n",
       "18  idex           Buy              0.0936           Buy              0.1947   \n",
       "19  intc  Hold or Sell              5.5099  Hold or Sell              5.5922   \n",
       "20   iyw           Buy              2.8533           Buy              4.2190   \n",
       "21   lng  Hold or Sell              1.2880  Hold or Sell              0.8274   \n",
       "22    ma           Buy              2.5972           Buy              3.0257   \n",
       "23   mdb  Hold or Sell              0.9324  Hold or Sell              1.0714   \n",
       "24  msft  Hold or Sell              7.2496  Hold or Sell             11.0615   \n",
       "25    mu  Hold or Sell              2.8642  Hold or Sell              3.1930   \n",
       "26   nee  Hold or Sell              3.8621  Hold or Sell              4.5843   \n",
       "27   nga  Hold or Sell              1.2563           Buy              0.8852   \n",
       "28   nio  Hold or Sell              2.0403  Hold or Sell              1.7411   \n",
       "29  nvda  Hold or Sell             11.8630           Buy              7.2475   \n",
       "30  pacb  Hold or Sell              1.9063  Hold or Sell              1.5435   \n",
       "31  pypl  Hold or Sell              2.7003  Hold or Sell              2.7273   \n",
       "32  qgen  Hold or Sell              2.0303  Hold or Sell              2.1422   \n",
       "33   run           Buy              1.2830           Buy              0.9945   \n",
       "34  orcl           Buy              3.5735           Buy              3.0659   \n",
       "35   qqq  Hold or Sell              2.6057  Hold or Sell              3.1487   \n",
       "36  srpt           Buy              1.7522           Buy              2.8343   \n",
       "37  tpic           Buy              1.1853  Hold or Sell              1.6977   \n",
       "38  tsla           Buy              3.7075  Hold or Sell              1.8195   \n",
       "39     v           Buy              2.8308           Buy              2.4696   \n",
       "40  vbiv  Hold or Sell              1.8086  Hold or Sell              1.4325   \n",
       "41   vbr           Buy              1.3409           Buy              1.1359   \n",
       "42  viov           Buy              1.2450           Buy              1.0207   \n",
       "43   vgt           Buy              2.9944           Buy              3.8073   \n",
       "44   xlk           Buy              3.2449           Buy              4.2237   \n",
       "\n",
       "      5_Day_Pred  5_Day_Model_Return  Actual_Returns  \n",
       "0   Hold or Sell              3.8584          6.4996  \n",
       "1            Buy              4.1941        347.9565  \n",
       "2            Buy              0.6958          2.6429  \n",
       "3   Hold or Sell              7.4938         98.3429  \n",
       "4            Buy              1.8336         14.2984  \n",
       "5   Hold or Sell              8.8375        175.1523  \n",
       "6            Buy              8.6996         15.6705  \n",
       "7            Buy              4.4530        111.0672  \n",
       "8   Hold or Sell              1.0179          2.4131  \n",
       "9            Buy              4.4257          5.7378  \n",
       "10  Hold or Sell              1.6043          2.4887  \n",
       "11  Hold or Sell              2.3076         16.0141  \n",
       "12           Buy              0.9900          8.0059  \n",
       "13           Buy             10.2255         87.0109  \n",
       "14  Hold or Sell              1.0957          0.3989  \n",
       "15  Hold or Sell              2.0809         -0.1038  \n",
       "16  Hold or Sell              3.0070          8.6668  \n",
       "17           Buy              3.3004          6.3331  \n",
       "18           Buy              0.1200          0.0587  \n",
       "19  Hold or Sell              5.5133         36.7701  \n",
       "20           Buy              3.9176          6.1284  \n",
       "21  Hold or Sell              0.9233         44.4173  \n",
       "22           Buy              2.4400         11.8397  \n",
       "23  Hold or Sell              0.8819          4.7086  \n",
       "24  Hold or Sell              8.1077         60.4117  \n",
       "25  Hold or Sell              2.8698         16.1344  \n",
       "26  Hold or Sell              4.6936         29.1568  \n",
       "27           Buy              0.9038          1.3287  \n",
       "28  Hold or Sell              2.3103         10.9122  \n",
       "29  Hold or Sell             14.9739        104.7475  \n",
       "30  Hold or Sell              1.2625         12.0342  \n",
       "31           Buy              2.9520          4.9611  \n",
       "32  Hold or Sell              2.7048          7.1447  \n",
       "33           Buy              0.9835         11.9910  \n",
       "34           Buy              2.9306         30.7873  \n",
       "35           Buy              2.4524          8.3326  \n",
       "36           Buy              2.2125          1.4994  \n",
       "37  Hold or Sell              1.4292          1.9911  \n",
       "38  Hold or Sell              3.2553        118.0071  \n",
       "39           Buy              2.6785          9.6156  \n",
       "40  Hold or Sell              1.0468         -0.8337  \n",
       "41           Buy              1.6338          1.3288  \n",
       "42           Buy              1.2754          1.0032  \n",
       "43           Buy              2.8258          5.4579  \n",
       "44           Buy              3.8766          5.7678  "
      ]
     },
     "execution_count": 29,
     "metadata": {},
     "output_type": "execute_result"
    }
   ],
   "source": [
    "summary_df = a.pred_summary_df(start_dates, stocks = [x for x in start_dates], days_back = 1)\n",
    "summary_df"
   ]
  },
  {
   "cell_type": "code",
   "execution_count": 30,
   "metadata": {},
   "outputs": [
    {
     "data": {
      "text/plain": [
       "(2.5616, 2.4696, 2.6785, 8.3326)"
      ]
     },
     "execution_count": 30,
     "metadata": {},
     "output_type": "execute_result"
    }
   ],
   "source": [
    "summary_df['1_Day_Model_Return'].median(), summary_df['3_Day_Model_Return'].median(), summary_df['5_Day_Model_Return'].median(), summary_df['Actual_Returns'].median()"
   ]
  },
  {
   "cell_type": "code",
   "execution_count": null,
   "metadata": {},
   "outputs": [],
   "source": []
  },
  {
   "cell_type": "code",
   "execution_count": null,
   "metadata": {},
   "outputs": [],
   "source": []
  },
  {
   "cell_type": "code",
   "execution_count": null,
   "metadata": {},
   "outputs": [],
   "source": []
  },
  {
   "cell_type": "code",
   "execution_count": null,
   "metadata": {},
   "outputs": [],
   "source": []
  }
 ],
 "metadata": {
  "kernelspec": {
   "display_name": "Python 3",
   "language": "python",
   "name": "python3"
  },
  "language_info": {
   "codemirror_mode": {
    "name": "ipython",
    "version": 3
   },
   "file_extension": ".py",
   "mimetype": "text/x-python",
   "name": "python",
   "nbconvert_exporter": "python",
   "pygments_lexer": "ipython3",
   "version": "3.8.5"
  }
 },
 "nbformat": 4,
 "nbformat_minor": 4
}
