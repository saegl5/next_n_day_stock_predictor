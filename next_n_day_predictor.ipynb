{
 "cells": [
  {
   "cell_type": "code",
   "execution_count": 1,
   "metadata": {
    "scrolled": true
   },
   "outputs": [],
   "source": [
    "from src import attributes as a\n",
    "%load_ext autoreload\n",
    "%autoreload 2"
   ]
  },
  {
   "cell_type": "code",
   "execution_count": 2,
   "metadata": {},
   "outputs": [],
   "source": [
    "# Global Variables\n",
    "stock_name = 'msft' # ticker symbol\n",
    "train = 0 # 1 for train, 0 for pass\n",
    "days_ahead = 1 # for predicting 1, 3, or 5 days ahead\n",
    "days_back = -1 # -1 for current data point, -2 for two days ago, etc...\n",
    "cv = 5 # number of cross validation folds\n",
    "model_name = 'Random Forest Classifier' # for display on charts, not a tuning parameter"
   ]
  },
  {
   "cell_type": "code",
   "execution_count": 3,
   "metadata": {},
   "outputs": [],
   "source": [
    "# Extract, Transform, Load, and Train Test Split\n",
    "# Dictionary of IPO Dates\n",
    "start_dates = {'a': '11/15/1999' # Updated 1/17/21 1D, 3D, 5D ahead\n",
    "               , 'aapl':'12/12/1980' # Updated 1/17/21 1D, 3D, 5D ahead\n",
    "               , 'acy': '01/18/1998' # Updated 1/17/21 1D, 3D, 5D ahead\n",
    "               , 'adbe': '08/11/1986' # Updated 1/17/21 1D, 3D, 5D ahead\n",
    "               , 'alb': '02/21/1994' # Updated 1/17/21 1D, 3D, 5D ahead\n",
    "               , 'amat': '03/16/1980' # Updated 1/17/21 1D, 3D, 5D ahead\n",
    "               , 'amd': '03/17/1980' # Updated 1/17/21 1D, 3D, 5D ahead\n",
    "               , 'amzn': '05/12/1997' # Updated 1/17/21 1D, 3D, 5D ahead\n",
    "               , 'baba': '09/15/2014' # Updated 1/17/21 1D, 3D, 5D ahead\n",
    "               , 'bac': '02/19/1973' # Updated 1/17/21 1D, 3D, 5D ahead\n",
    "               , 'bpmc': '04/27/2015' # Updated 1/17/21 1D, 3D, 5D ahead\n",
    "               , 'crm': '06/23/2004' # Updated 1/17/21 1D, 3D, 5D ahead\n",
    "               , 'crsp': '10/16/2016' # Updated 1/17/21 1D, 3D, 5D ahead\n",
    "               , 'dq': '10/04/2010' # Updated 1/17/21 1D, 3D, 5D ahead\n",
    "               , 'esgv': '09/16/2018' # Updated 1/17/21 1D, 3D, 5D ahead\n",
    "               , 'fslr': '11/12/2006' # Updated 1/17/21 1D, 3D, 5D ahead\n",
    "               , 'goog': '08/16/2004' # Updated 1/17/21 1D, 3D, 5D ahead\n",
    "               , 'ibm': '01/02/1962' # Updated 1/17/21 1D, 3D, 5D ahead\n",
    "               , 'idex': '05/23/2007' # Updated 1/17/21 1D, 3D, 5D ahead\n",
    "               , 'intc': '03/16/1980' # Updated 1/17/21 1D, 3D, 5D ahead\n",
    "               , 'iyw': '05/15/2000' # Updated 1/17/21 1D, 3D, 5D ahead\n",
    "               , 'lng': '04/04/1994' # Updated 1/17/21 1D, 3D, 5D ahead\n",
    "               , 'ma': '05/21/2006' # Updated 1/17/21 1D, 3D, 5D ahead\n",
    "               , 'mdb': '10/15/2017' # Updated 1/17/21 1D, 3D, 5D ahead\n",
    "               , 'msft': '03/10/1986' # Updated 1/17/21 1D, 3D, 5D ahead\n",
    "               , 'mu': '05/28/1984' # Updated 1/17/21 1D, 3D, 5D ahead\n",
    "               , 'nee': '02/19/1973' # Updated 1/17/21 1D, 3D, 5D ahead\n",
    "               , 'nga': '10/08/2020' # Updated 1/17/21 1D, 3D, 5D ahead\n",
    "               , 'nio': '09/10/2018' # Updated 1/17/21 1D, 3D, 5D ahead\n",
    "               , 'nvda': '01/22/1999' # Updated 1/17/21 1D, 3D, 5D ahead\n",
    "               , 'pacb': '10/25/2010' # Updated 1/17/21 1D, 3D, 5D ahead\n",
    "               , 'pypl': '07/05/2015' # Updated 1/17/21 1D, 3D, 5D ahead\n",
    "               , 'qgen': '06/24/1996' # Updated 1/17/21 1D, 3D, 5D ahead\n",
    "               , 'run': '08/02/2015' # Updated 1/17/21 1D, 3D, 5D ahead\n",
    "               , 'orcl': '03/10/1986' # Updated 1/17/21 1D, 3D, 5D ahead\n",
    "               , 'qqq': '03/08/1999' # Updated 1/17/21 1D, 3D, 5D ahead\n",
    "               , 'srpt': '06/02/1997' # Updated 1/17/21 1D, 3D, 5D ahead\n",
    "               , 'tpic': '07/17/2016' # Updated 1/17/21 1D, 3D, 5D ahead\n",
    "               , 'tsla': '06/29/2010' # Updated 1/17/21 1D, 3D, 5D ahead\n",
    "               , 'v': '03/16/2008' # Updated 1/17/21 1D, 3D, 5D ahead\n",
    "               , 'vbiv': '09/04/2002' # Updated 1/17/21 1D, 3D, 5D ahead\n",
    "               , 'vbr': '01/26/2004' # Updated 1/17/21 1D, 3D, 5D ahead\n",
    "               , 'viov': '09/06/2010' # Updated 1/17/21 1D, 3D, 5D ahead\n",
    "               , 'vgt': '01/26/2004' # Updated 1/17/21 1D, 3D, 5D ahead\n",
    "               , 'xlk': '12/21/1998' # Updated 1/17/21 1D, 3D, 5D ahead\n",
    "              }"
   ]
  },
  {
   "cell_type": "code",
   "execution_count": null,
   "metadata": {},
   "outputs": [],
   "source": []
  },
  {
   "cell_type": "code",
   "execution_count": null,
   "metadata": {},
   "outputs": [],
   "source": []
  },
  {
   "cell_type": "code",
   "execution_count": null,
   "metadata": {},
   "outputs": [],
   "source": []
  },
  {
   "cell_type": "code",
   "execution_count": 4,
   "metadata": {},
   "outputs": [],
   "source": [
    "# X_train, X_test, y_train, y_test, stock_df = a.data(stock_name, start_dates[stock_name], days_ahead)\n",
    "# stock_df.tail(10)"
   ]
  },
  {
   "cell_type": "code",
   "execution_count": 5,
   "metadata": {
    "scrolled": false
   },
   "outputs": [],
   "source": [
    "# GridSerach to find best hyperparameters to prevent overfitting, can be commented out once trained\n",
    "# if train == 1:\n",
    "#     a.rfc_GridSearch(X_train, y_train, stock_name, days_ahead, cv)\n",
    "# elif train == 0:\n",
    "#     pass"
   ]
  },
  {
   "cell_type": "code",
   "execution_count": 6,
   "metadata": {},
   "outputs": [],
   "source": [
    "# Load RandomForextClassifier Model\n",
    "# rfc_model, y_pred, y_probs = a.rfc(X_train, X_test, y_train, stock_name, days_ahead)"
   ]
  },
  {
   "cell_type": "code",
   "execution_count": 7,
   "metadata": {
    "scrolled": false
   },
   "outputs": [],
   "source": [
    "# ROC Curve\n",
    "# a.roc_plot(y_test, y_probs, stock_name, model_name)"
   ]
  },
  {
   "cell_type": "code",
   "execution_count": 8,
   "metadata": {
    "scrolled": false
   },
   "outputs": [],
   "source": [
    "# Precision Recall Curve\n",
    "# a.prec_recall(y_test, y_probs, stock_name, model_name)"
   ]
  },
  {
   "cell_type": "code",
   "execution_count": 9,
   "metadata": {
    "scrolled": false
   },
   "outputs": [],
   "source": [
    "# Confusion Matrix\n",
    "# a.confusion_matrix(rfc_model, X_test, y_test, stock_name)"
   ]
  },
  {
   "cell_type": "code",
   "execution_count": 10,
   "metadata": {},
   "outputs": [],
   "source": [
    "# Cross Validation\n",
    "# a.cross_validation(rfc_model\n",
    "#                    , stock_df[['oc', 'hl', '5stdev_adj', '5sma_adj']]\n",
    "#                    , stock_df['direction']\n",
    "#                    , cv = 5\n",
    "#                   )"
   ]
  },
  {
   "cell_type": "markdown",
   "metadata": {},
   "source": [
    "### Prediction..."
   ]
  },
  {
   "cell_type": "code",
   "execution_count": 11,
   "metadata": {
    "scrolled": true
   },
   "outputs": [],
   "source": [
    "# Prediction, use last day of data\n",
    "# stock_df.iloc[-1]"
   ]
  },
  {
   "cell_type": "code",
   "execution_count": 12,
   "metadata": {},
   "outputs": [],
   "source": [
    "# import numpy as np\n",
    "# last = stock_df[['oc', 'hl', '5stdev_adj', '5sma_adj']].iloc[-days_back]\n",
    "# last"
   ]
  },
  {
   "cell_type": "code",
   "execution_count": 13,
   "metadata": {},
   "outputs": [],
   "source": [
    "# stock_df['adj'].describe()"
   ]
  },
  {
   "cell_type": "code",
   "execution_count": 14,
   "metadata": {
    "scrolled": true
   },
   "outputs": [],
   "source": [
    "# if rfc_model.predict(np.array(last).reshape(1, -1))[0] == 1:\n",
    "#     print(f'Buy {stock_name} {days_ahead} day(s) ahead')\n",
    "# else:\n",
    "#     print(f'Sell or hold {stock_name} {days_ahead} day(s) ahead')"
   ]
  },
  {
   "cell_type": "markdown",
   "metadata": {},
   "source": [
    "### Strategy Returns..."
   ]
  },
  {
   "cell_type": "code",
   "execution_count": 15,
   "metadata": {},
   "outputs": [],
   "source": [
    "# returns on strategy column\n",
    "# stock_df['prediction'] = rfc_model.predict(stock_df[['oc', 'hl', '5stdev_adj', '5sma_adj']])\n",
    "# stock_df['returns'] = stock_df['adj'].shift(-1, fill_value = stock_df['adj'].median()) * stock_df['prediction']"
   ]
  },
  {
   "cell_type": "code",
   "execution_count": 16,
   "metadata": {},
   "outputs": [],
   "source": [
    "# stock_df.tail(5)"
   ]
  },
  {
   "cell_type": "code",
   "execution_count": 17,
   "metadata": {},
   "outputs": [],
   "source": [
    "# Don't trade every day!\n",
    "# import matplotlib.pyplot as plt\n",
    "# test_length = len(y_test)\n",
    "# (stock_df['returns'][-test_length:] + 1).cumprod().plot()\n",
    "# plt.title(f'{stock_name} Expected Returns %');"
   ]
  },
  {
   "cell_type": "code",
   "execution_count": 18,
   "metadata": {},
   "outputs": [],
   "source": [
    "# Model returns if bought on predictions of 1\n",
    "# returns_on_ones = []\n",
    "# for idx in range(-test_length, 0):\n",
    "#     if stock_df['prediction'][idx] == 1:\n",
    "#         returns_on_ones.append(1 + stock_df['returns'][idx])\n",
    "\n",
    "# returns = 1\n",
    "# for x in returns_on_ones:\n",
    "#     returns *= x\n",
    "# returns"
   ]
  },
  {
   "cell_type": "code",
   "execution_count": 19,
   "metadata": {},
   "outputs": [],
   "source": [
    "# multiple times original investment, not bad but..."
   ]
  },
  {
   "cell_type": "code",
   "execution_count": 20,
   "metadata": {},
   "outputs": [],
   "source": [
    "# If purchased in 2012 and left it until now\n",
    "# test_idx = int(len(stock_df)*0.75)\n",
    "# (stock_df['Close'][-1] - stock_df['Close'][-test_idx]) / stock_df['Close'][-test_idx]"
   ]
  },
  {
   "cell_type": "code",
   "execution_count": 21,
   "metadata": {},
   "outputs": [],
   "source": [
    "# Buy and hold strategy beats RandomForestClassifier in this study\n",
    "\n",
    "# Special thanks to Shagufta Tahsildar at https://blog.quantinsti.com/random-forest-algorithm-in-python/"
   ]
  },
  {
   "cell_type": "code",
   "execution_count": null,
   "metadata": {},
   "outputs": [],
   "source": []
  },
  {
   "cell_type": "code",
   "execution_count": null,
   "metadata": {},
   "outputs": [],
   "source": []
  },
  {
   "cell_type": "code",
   "execution_count": null,
   "metadata": {},
   "outputs": [],
   "source": []
  },
  {
   "cell_type": "markdown",
   "metadata": {},
   "source": [
    "### Training"
   ]
  },
  {
   "cell_type": "markdown",
   "metadata": {},
   "source": [
    "Training is done once a week on Saturday and Sunday"
   ]
  },
  {
   "cell_type": "code",
   "execution_count": 22,
   "metadata": {},
   "outputs": [
    {
     "data": {
      "text/plain": [
       "45"
      ]
     },
     "execution_count": 22,
     "metadata": {},
     "output_type": "execute_result"
    }
   ],
   "source": [
    "len(start_dates)"
   ]
  },
  {
   "cell_type": "code",
   "execution_count": 23,
   "metadata": {},
   "outputs": [
    {
     "data": {
      "text/plain": [
       "{'a': '11/15/1999',\n",
       " 'aapl': '12/12/1980',\n",
       " 'acy': '01/18/1998',\n",
       " 'adbe': '08/11/1986',\n",
       " 'alb': '02/21/1994',\n",
       " 'amat': '03/16/1980',\n",
       " 'amd': '03/17/1980',\n",
       " 'amzn': '05/12/1997',\n",
       " 'baba': '09/15/2014',\n",
       " 'bac': '02/19/1973',\n",
       " 'bpmc': '04/27/2015',\n",
       " 'crm': '06/23/2004',\n",
       " 'crsp': '10/16/2016',\n",
       " 'dq': '10/04/2010',\n",
       " 'esgv': '09/16/2018'}"
      ]
     },
     "execution_count": 23,
     "metadata": {},
     "output_type": "execute_result"
    }
   ],
   "source": [
    "import itertools as itr\n",
    "start_dates1 = dict(itr.islice(start_dates.items(), 0, 15))\n",
    "start_dates1"
   ]
  },
  {
   "cell_type": "code",
   "execution_count": 24,
   "metadata": {},
   "outputs": [
    {
     "data": {
      "text/plain": [
       "{'fslr': '11/12/2006',\n",
       " 'goog': '08/16/2004',\n",
       " 'ibm': '01/02/1962',\n",
       " 'idex': '05/23/2007',\n",
       " 'intc': '03/16/1980',\n",
       " 'iyw': '05/15/2000',\n",
       " 'lng': '04/04/1994',\n",
       " 'ma': '05/21/2006',\n",
       " 'mdb': '10/15/2017',\n",
       " 'msft': '03/10/1986',\n",
       " 'mu': '05/28/1984',\n",
       " 'nee': '02/19/1973',\n",
       " 'nga': '10/08/2020',\n",
       " 'nio': '09/10/2018',\n",
       " 'nvda': '01/22/1999'}"
      ]
     },
     "execution_count": 24,
     "metadata": {},
     "output_type": "execute_result"
    }
   ],
   "source": [
    "start_dates2 = dict(itr.islice(start_dates.items(), 15, 30))\n",
    "start_dates2"
   ]
  },
  {
   "cell_type": "code",
   "execution_count": 25,
   "metadata": {},
   "outputs": [
    {
     "data": {
      "text/plain": [
       "{'pacb': '10/25/2010',\n",
       " 'pypl': '07/05/2015',\n",
       " 'qgen': '06/24/1996',\n",
       " 'run': '08/02/2015',\n",
       " 'orcl': '03/10/1986',\n",
       " 'qqq': '03/08/1999',\n",
       " 'srpt': '06/02/1997',\n",
       " 'tpic': '07/17/2016',\n",
       " 'tsla': '06/29/2010',\n",
       " 'v': '03/16/2008',\n",
       " 'vbiv': '09/04/2002',\n",
       " 'vbr': '01/26/2004',\n",
       " 'viov': '09/06/2010',\n",
       " 'vgt': '01/26/2004',\n",
       " 'xlk': '12/21/1998'}"
      ]
     },
     "execution_count": 25,
     "metadata": {},
     "output_type": "execute_result"
    }
   ],
   "source": [
    "start_dates3 = dict(itr.islice(start_dates.items(), 30, 45+1))\n",
    "start_dates3"
   ]
  },
  {
   "cell_type": "code",
   "execution_count": 26,
   "metadata": {},
   "outputs": [],
   "source": [
    "#Train 15 at a time!\n",
    "# stocks = [x for x in start_dates1]\n",
    "# days_ahead = [1, 3, 5]\n",
    "# cv = 5\n",
    "# for stock in stocks:\n",
    "#     for days in days_ahead:\n",
    "#         X_train, X_test, y_train, y_test, stock_df = a.data(stock, start_dates[stock], days)\n",
    "#         a.rfc_GridSearch(X_train, y_train, stock, days, cv)\n",
    "# len(stocks)\n",
    "\n",
    "# stocks = [x for x in start_dates2]\n",
    "# days_ahead = [1, 3, 5]\n",
    "# cv = 5\n",
    "# for stock in stocks:\n",
    "#     for days in days_ahead:\n",
    "#         X_train, X_test, y_train, y_test, stock_df = a.data(stock, start_dates[stock], days)\n",
    "#         a.rfc_GridSearch(X_train, y_train, stock, days, cv)\n",
    "# len(stocks)\n",
    "\n",
    "# stocks = [x for x in start_dates3]\n",
    "# days_ahead = [1, 3, 5]\n",
    "# cv = 5\n",
    "# for stock in stocks:\n",
    "#     for days in days_ahead:\n",
    "#         X_train, X_test, y_train, y_test, stock_df = a.data(stock, start_dates[stock], days)\n",
    "#         a.rfc_GridSearch(X_train, y_train, stock, days, cv)\n",
    "# len(stocks)\n",
    "\n",
    "# Train all, takes 15+ hours\n",
    "# stocks = [x for x in start_dates]\n",
    "# days_ahead = [1, 3, 5]\n",
    "# cv = 5\n",
    "# for stock in stocks:\n",
    "#     for days in days_ahead:\n",
    "#         X_train, X_test, y_train, y_test, stock_df = a.data(stock, start_dates[stock], days)\n",
    "#         a.rfc_GridSearch(X_train, y_train, stock, days, cv)\n",
    "# len(stocks)\n",
    "\n",
    "# Train desired stocks...takes less time\n",
    "# stocks = ['nga']\n",
    "# days_ahead = [1, 3, 5]\n",
    "# cv = 5\n",
    "# for stock in stocks:\n",
    "#     for days in days_ahead:\n",
    "#         X_train, X_test, y_train, y_test, stock_df = a.data(stock, start_dates[stock], days)\n",
    "#         a.rfc_GridSearch(X_train, y_train, stock, days, cv)"
   ]
  },
  {
   "cell_type": "code",
   "execution_count": null,
   "metadata": {},
   "outputs": [],
   "source": []
  },
  {
   "cell_type": "code",
   "execution_count": null,
   "metadata": {},
   "outputs": [],
   "source": []
  },
  {
   "cell_type": "code",
   "execution_count": null,
   "metadata": {},
   "outputs": [],
   "source": []
  },
  {
   "cell_type": "markdown",
   "metadata": {},
   "source": [
    "### Display All Results"
   ]
  },
  {
   "cell_type": "code",
   "execution_count": 27,
   "metadata": {
    "scrolled": false
   },
   "outputs": [
    {
     "name": "stdout",
     "output_type": "stream",
     "text": [
      "Sell or hold crsp 1 day(s) ahead\n",
      "Model Returns (x 100 for %): 1.0196\n",
      "Stock Returns (x 100 for %): 7.9086\n"
     ]
    },
    {
     "data": {
      "image/png": "[encoded data removed]",
      "text/plain": [
       "<Figure size 432x288 with 1 Axes>"
      ]
     },
     "metadata": {},
     "output_type": "display_data"
    },
    {
     "data": {
      "image/png": "[encoded data removed]",
      "text/plain": [
       "<Figure size 648x504 with 1 Axes>"
      ]
     },
     "metadata": {},
     "output_type": "display_data"
    },
    {
     "data": {
      "image/png": "[encoded data removed]",
      "text/plain": [
       "<Figure size 648x504 with 1 Axes>"
      ]
     },
     "metadata": {},
     "output_type": "display_data"
    },
    {
     "data": {
      "image/png": "[encoded data removed]",
      "text/plain": [
       "<Figure size 684x612 with 2 Axes>"
      ]
     },
     "metadata": {},
     "output_type": "display_data"
    }
   ],
   "source": [
    "stock_name = 'crsp'\n",
    "a.all_func(stock_name\n",
    "           , start_dates[stock_name]\n",
    "           , days_ahead = 1\n",
    "           , model_name = model_name\n",
    "           , days_back = 1\n",
    "          )"
   ]
  },
  {
   "cell_type": "code",
   "execution_count": null,
   "metadata": {},
   "outputs": [],
   "source": []
  },
  {
   "cell_type": "code",
   "execution_count": null,
   "metadata": {},
   "outputs": [],
   "source": []
  },
  {
   "cell_type": "code",
   "execution_count": null,
   "metadata": {},
   "outputs": [],
   "source": []
  },
  {
   "cell_type": "markdown",
   "metadata": {},
   "source": [
    "### Data Frame of Predictions 1 3 5 Days"
   ]
  },
  {
   "cell_type": "code",
   "execution_count": 28,
   "metadata": {},
   "outputs": [
    {
     "name": "stdout",
     "output_type": "stream",
     "text": [
      "Today's date: 2021-02-02\n"
     ]
    }
   ],
   "source": [
    "from datetime import date\n",
    "\n",
    "today = date.today()\n",
    "print(\"Today's date:\", today)"
   ]
  },
  {
   "cell_type": "code",
   "execution_count": 29,
   "metadata": {
    "scrolled": false
   },
   "outputs": [
    {
     "data": {
      "text/html": [
       "<div>\n",
       "<style scoped>\n",
       "    .dataframe tbody tr th:only-of-type {\n",
       "        vertical-align: middle;\n",
       "    }\n",
       "\n",
       "    .dataframe tbody tr th {\n",
       "        vertical-align: top;\n",
       "    }\n",
       "\n",
       "    .dataframe thead th {\n",
       "        text-align: right;\n",
       "    }\n",
       "</style>\n",
       "<table border=\"1\" class=\"dataframe\">\n",
       "  <thead>\n",
       "    <tr style=\"text-align: right;\">\n",
       "      <th></th>\n",
       "      <th>stock</th>\n",
       "      <th>1_Day_Pred</th>\n",
       "      <th>1_Day_Model_Return</th>\n",
       "      <th>3_Day_Pred</th>\n",
       "      <th>3_Day_Model_Return</th>\n",
       "      <th>5_Day_Pred</th>\n",
       "      <th>5_Day_Model_Return</th>\n",
       "      <th>Actual_Returns</th>\n",
       "    </tr>\n",
       "  </thead>\n",
       "  <tbody>\n",
       "    <tr>\n",
       "      <th>0</th>\n",
       "      <td>a</td>\n",
       "      <td>Hold or Sell</td>\n",
       "      <td>3.4621</td>\n",
       "      <td>Hold or Sell</td>\n",
       "      <td>3.6046</td>\n",
       "      <td>Hold or Sell</td>\n",
       "      <td>4.0519</td>\n",
       "      <td>6.7272</td>\n",
       "    </tr>\n",
       "    <tr>\n",
       "      <th>1</th>\n",
       "      <td>aapl</td>\n",
       "      <td>Buy</td>\n",
       "      <td>2.9764</td>\n",
       "      <td>Buy</td>\n",
       "      <td>3.7733</td>\n",
       "      <td>Buy</td>\n",
       "      <td>3.7934</td>\n",
       "      <td>334.4522</td>\n",
       "    </tr>\n",
       "    <tr>\n",
       "      <th>2</th>\n",
       "      <td>acy</td>\n",
       "      <td>Buy</td>\n",
       "      <td>0.6465</td>\n",
       "      <td>Buy</td>\n",
       "      <td>0.4852</td>\n",
       "      <td>Buy</td>\n",
       "      <td>0.6248</td>\n",
       "      <td>1.9088</td>\n",
       "    </tr>\n",
       "    <tr>\n",
       "      <th>3</th>\n",
       "      <td>adbe</td>\n",
       "      <td>Hold or Sell</td>\n",
       "      <td>8.2753</td>\n",
       "      <td>Hold or Sell</td>\n",
       "      <td>6.6214</td>\n",
       "      <td>Hold or Sell</td>\n",
       "      <td>7.9814</td>\n",
       "      <td>102.7131</td>\n",
       "    </tr>\n",
       "    <tr>\n",
       "      <th>4</th>\n",
       "      <td>alb</td>\n",
       "      <td>Buy</td>\n",
       "      <td>2.0374</td>\n",
       "      <td>Hold or Sell</td>\n",
       "      <td>2.6480</td>\n",
       "      <td>Buy</td>\n",
       "      <td>1.4943</td>\n",
       "      <td>14.5434</td>\n",
       "    </tr>\n",
       "    <tr>\n",
       "      <th>5</th>\n",
       "      <td>amat</td>\n",
       "      <td>Hold or Sell</td>\n",
       "      <td>7.6699</td>\n",
       "      <td>Hold or Sell</td>\n",
       "      <td>7.2630</td>\n",
       "      <td>Hold or Sell</td>\n",
       "      <td>9.0935</td>\n",
       "      <td>178.9139</td>\n",
       "    </tr>\n",
       "    <tr>\n",
       "      <th>6</th>\n",
       "      <td>amd</td>\n",
       "      <td>Hold or Sell</td>\n",
       "      <td>6.8330</td>\n",
       "      <td>Buy</td>\n",
       "      <td>7.3179</td>\n",
       "      <td>Buy</td>\n",
       "      <td>6.6572</td>\n",
       "      <td>15.9257</td>\n",
       "    </tr>\n",
       "    <tr>\n",
       "      <th>7</th>\n",
       "      <td>amzn</td>\n",
       "      <td>Hold or Sell</td>\n",
       "      <td>3.7174</td>\n",
       "      <td>Hold or Sell</td>\n",
       "      <td>2.9645</td>\n",
       "      <td>Hold or Sell</td>\n",
       "      <td>4.5232</td>\n",
       "      <td>117.1938</td>\n",
       "    </tr>\n",
       "    <tr>\n",
       "      <th>8</th>\n",
       "      <td>baba</td>\n",
       "      <td>Buy</td>\n",
       "      <td>1.1506</td>\n",
       "      <td>Buy</td>\n",
       "      <td>1.1865</td>\n",
       "      <td>Buy</td>\n",
       "      <td>1.1375</td>\n",
       "      <td>2.3345</td>\n",
       "    </tr>\n",
       "    <tr>\n",
       "      <th>9</th>\n",
       "      <td>bac</td>\n",
       "      <td>Hold or Sell</td>\n",
       "      <td>3.0210</td>\n",
       "      <td>Hold or Sell</td>\n",
       "      <td>3.6506</td>\n",
       "      <td>Hold or Sell</td>\n",
       "      <td>4.6322</td>\n",
       "      <td>5.8927</td>\n",
       "    </tr>\n",
       "    <tr>\n",
       "      <th>10</th>\n",
       "      <td>bpmc</td>\n",
       "      <td>Hold or Sell</td>\n",
       "      <td>2.3121</td>\n",
       "      <td>Hold or Sell</td>\n",
       "      <td>1.5523</td>\n",
       "      <td>Hold or Sell</td>\n",
       "      <td>1.4735</td>\n",
       "      <td>2.6233</td>\n",
       "    </tr>\n",
       "    <tr>\n",
       "      <th>11</th>\n",
       "      <td>crm</td>\n",
       "      <td>Hold or Sell</td>\n",
       "      <td>2.5638</td>\n",
       "      <td>Hold or Sell</td>\n",
       "      <td>2.2407</td>\n",
       "      <td>Hold or Sell</td>\n",
       "      <td>2.5133</td>\n",
       "      <td>15.7711</td>\n",
       "    </tr>\n",
       "    <tr>\n",
       "      <th>12</th>\n",
       "      <td>crsp</td>\n",
       "      <td>Hold or Sell</td>\n",
       "      <td>1.0199</td>\n",
       "      <td>Hold or Sell</td>\n",
       "      <td>0.5971</td>\n",
       "      <td>Buy</td>\n",
       "      <td>1.0581</td>\n",
       "      <td>7.9112</td>\n",
       "    </tr>\n",
       "    <tr>\n",
       "      <th>13</th>\n",
       "      <td>dq</td>\n",
       "      <td>Hold or Sell</td>\n",
       "      <td>8.2656</td>\n",
       "      <td>Hold or Sell</td>\n",
       "      <td>9.5143</td>\n",
       "      <td>Hold or Sell</td>\n",
       "      <td>10.4307</td>\n",
       "      <td>90.3354</td>\n",
       "    </tr>\n",
       "    <tr>\n",
       "      <th>14</th>\n",
       "      <td>esgv</td>\n",
       "      <td>Hold or Sell</td>\n",
       "      <td>1.1435</td>\n",
       "      <td>Hold or Sell</td>\n",
       "      <td>1.1232</td>\n",
       "      <td>Hold or Sell</td>\n",
       "      <td>1.1502</td>\n",
       "      <td>0.4250</td>\n",
       "    </tr>\n",
       "    <tr>\n",
       "      <th>15</th>\n",
       "      <td>fslr</td>\n",
       "      <td>Buy</td>\n",
       "      <td>1.9286</td>\n",
       "      <td>Buy</td>\n",
       "      <td>2.2454</td>\n",
       "      <td>Buy</td>\n",
       "      <td>2.0562</td>\n",
       "      <td>-0.1755</td>\n",
       "    </tr>\n",
       "    <tr>\n",
       "      <th>16</th>\n",
       "      <td>goog</td>\n",
       "      <td>Hold or Sell</td>\n",
       "      <td>2.5117</td>\n",
       "      <td>Hold or Sell</td>\n",
       "      <td>2.3752</td>\n",
       "      <td>Hold or Sell</td>\n",
       "      <td>3.1802</td>\n",
       "      <td>9.4725</td>\n",
       "    </tr>\n",
       "    <tr>\n",
       "      <th>17</th>\n",
       "      <td>ibm</td>\n",
       "      <td>Hold or Sell</td>\n",
       "      <td>2.8817</td>\n",
       "      <td>Hold or Sell</td>\n",
       "      <td>4.0777</td>\n",
       "      <td>Hold or Sell</td>\n",
       "      <td>3.3334</td>\n",
       "      <td>6.2491</td>\n",
       "    </tr>\n",
       "    <tr>\n",
       "      <th>18</th>\n",
       "      <td>idex</td>\n",
       "      <td>Buy</td>\n",
       "      <td>0.1816</td>\n",
       "      <td>Buy</td>\n",
       "      <td>0.1882</td>\n",
       "      <td>Buy</td>\n",
       "      <td>0.1799</td>\n",
       "      <td>0.1622</td>\n",
       "    </tr>\n",
       "    <tr>\n",
       "      <th>19</th>\n",
       "      <td>intc</td>\n",
       "      <td>Hold or Sell</td>\n",
       "      <td>5.6275</td>\n",
       "      <td>Hold or Sell</td>\n",
       "      <td>5.1356</td>\n",
       "      <td>Hold or Sell</td>\n",
       "      <td>5.4796</td>\n",
       "      <td>38.1208</td>\n",
       "    </tr>\n",
       "    <tr>\n",
       "      <th>20</th>\n",
       "      <td>iyw</td>\n",
       "      <td>Hold or Sell</td>\n",
       "      <td>3.1353</td>\n",
       "      <td>Hold or Sell</td>\n",
       "      <td>3.9594</td>\n",
       "      <td>Hold or Sell</td>\n",
       "      <td>3.3429</td>\n",
       "      <td>6.2624</td>\n",
       "    </tr>\n",
       "    <tr>\n",
       "      <th>21</th>\n",
       "      <td>lng</td>\n",
       "      <td>Hold or Sell</td>\n",
       "      <td>1.1227</td>\n",
       "      <td>Hold or Sell</td>\n",
       "      <td>0.6813</td>\n",
       "      <td>Hold or Sell</td>\n",
       "      <td>0.9223</td>\n",
       "      <td>45.5144</td>\n",
       "    </tr>\n",
       "    <tr>\n",
       "      <th>22</th>\n",
       "      <td>ma</td>\n",
       "      <td>Hold or Sell</td>\n",
       "      <td>2.2921</td>\n",
       "      <td>Hold or Sell</td>\n",
       "      <td>3.0604</td>\n",
       "      <td>Hold or Sell</td>\n",
       "      <td>2.7412</td>\n",
       "      <td>12.5633</td>\n",
       "    </tr>\n",
       "    <tr>\n",
       "      <th>23</th>\n",
       "      <td>mdb</td>\n",
       "      <td>Hold or Sell</td>\n",
       "      <td>0.8242</td>\n",
       "      <td>Hold or Sell</td>\n",
       "      <td>1.0394</td>\n",
       "      <td>Hold or Sell</td>\n",
       "      <td>0.9178</td>\n",
       "      <td>4.9305</td>\n",
       "    </tr>\n",
       "    <tr>\n",
       "      <th>24</th>\n",
       "      <td>msft</td>\n",
       "      <td>Buy</td>\n",
       "      <td>7.4659</td>\n",
       "      <td>Buy</td>\n",
       "      <td>9.4299</td>\n",
       "      <td>Hold or Sell</td>\n",
       "      <td>7.5440</td>\n",
       "      <td>59.8454</td>\n",
       "    </tr>\n",
       "    <tr>\n",
       "      <th>25</th>\n",
       "      <td>mu</td>\n",
       "      <td>Hold or Sell</td>\n",
       "      <td>2.9460</td>\n",
       "      <td>Hold or Sell</td>\n",
       "      <td>3.0939</td>\n",
       "      <td>Hold or Sell</td>\n",
       "      <td>3.1522</td>\n",
       "      <td>17.2756</td>\n",
       "    </tr>\n",
       "    <tr>\n",
       "      <th>26</th>\n",
       "      <td>nee</td>\n",
       "      <td>Hold or Sell</td>\n",
       "      <td>4.6089</td>\n",
       "      <td>Hold or Sell</td>\n",
       "      <td>5.3090</td>\n",
       "      <td>Hold or Sell</td>\n",
       "      <td>4.7692</td>\n",
       "      <td>29.0746</td>\n",
       "    </tr>\n",
       "    <tr>\n",
       "      <th>27</th>\n",
       "      <td>nga</td>\n",
       "      <td>Buy</td>\n",
       "      <td>0.9818</td>\n",
       "      <td>Buy</td>\n",
       "      <td>0.8999</td>\n",
       "      <td>Buy</td>\n",
       "      <td>0.8159</td>\n",
       "      <td>1.6869</td>\n",
       "    </tr>\n",
       "    <tr>\n",
       "      <th>28</th>\n",
       "      <td>nio</td>\n",
       "      <td>Buy</td>\n",
       "      <td>1.9102</td>\n",
       "      <td>Buy</td>\n",
       "      <td>1.6301</td>\n",
       "      <td>Buy</td>\n",
       "      <td>2.1899</td>\n",
       "      <td>10.3655</td>\n",
       "    </tr>\n",
       "    <tr>\n",
       "      <th>29</th>\n",
       "      <td>nvda</td>\n",
       "      <td>Hold or Sell</td>\n",
       "      <td>10.4266</td>\n",
       "      <td>Hold or Sell</td>\n",
       "      <td>10.5740</td>\n",
       "      <td>Hold or Sell</td>\n",
       "      <td>13.1538</td>\n",
       "      <td>107.1403</td>\n",
       "    </tr>\n",
       "    <tr>\n",
       "      <th>30</th>\n",
       "      <td>pacb</td>\n",
       "      <td>Hold or Sell</td>\n",
       "      <td>2.0807</td>\n",
       "      <td>Hold or Sell</td>\n",
       "      <td>1.6717</td>\n",
       "      <td>Hold or Sell</td>\n",
       "      <td>1.5189</td>\n",
       "      <td>12.1413</td>\n",
       "    </tr>\n",
       "    <tr>\n",
       "      <th>31</th>\n",
       "      <td>pypl</td>\n",
       "      <td>Hold or Sell</td>\n",
       "      <td>3.6105</td>\n",
       "      <td>Hold or Sell</td>\n",
       "      <td>2.6752</td>\n",
       "      <td>Hold or Sell</td>\n",
       "      <td>2.8675</td>\n",
       "      <td>5.3567</td>\n",
       "    </tr>\n",
       "    <tr>\n",
       "      <th>32</th>\n",
       "      <td>qgen</td>\n",
       "      <td>Hold or Sell</td>\n",
       "      <td>1.9739</td>\n",
       "      <td>Hold or Sell</td>\n",
       "      <td>2.0839</td>\n",
       "      <td>Hold or Sell</td>\n",
       "      <td>2.9411</td>\n",
       "      <td>7.6394</td>\n",
       "    </tr>\n",
       "    <tr>\n",
       "      <th>33</th>\n",
       "      <td>run</td>\n",
       "      <td>Buy</td>\n",
       "      <td>1.2613</td>\n",
       "      <td>Buy</td>\n",
       "      <td>0.9753</td>\n",
       "      <td>Buy</td>\n",
       "      <td>0.9842</td>\n",
       "      <td>12.0178</td>\n",
       "    </tr>\n",
       "    <tr>\n",
       "      <th>34</th>\n",
       "      <td>orcl</td>\n",
       "      <td>Hold or Sell</td>\n",
       "      <td>2.8064</td>\n",
       "      <td>Hold or Sell</td>\n",
       "      <td>3.0609</td>\n",
       "      <td>Hold or Sell</td>\n",
       "      <td>3.1252</td>\n",
       "      <td>30.1452</td>\n",
       "    </tr>\n",
       "    <tr>\n",
       "      <th>35</th>\n",
       "      <td>qqq</td>\n",
       "      <td>Hold or Sell</td>\n",
       "      <td>2.6624</td>\n",
       "      <td>Hold or Sell</td>\n",
       "      <td>3.4494</td>\n",
       "      <td>Hold or Sell</td>\n",
       "      <td>2.8689</td>\n",
       "      <td>8.5822</td>\n",
       "    </tr>\n",
       "    <tr>\n",
       "      <th>36</th>\n",
       "      <td>srpt</td>\n",
       "      <td>Buy</td>\n",
       "      <td>1.8755</td>\n",
       "      <td>Hold or Sell</td>\n",
       "      <td>2.2413</td>\n",
       "      <td>Buy</td>\n",
       "      <td>2.1899</td>\n",
       "      <td>1.4836</td>\n",
       "    </tr>\n",
       "    <tr>\n",
       "      <th>37</th>\n",
       "      <td>tpic</td>\n",
       "      <td>Hold or Sell</td>\n",
       "      <td>1.1585</td>\n",
       "      <td>Hold or Sell</td>\n",
       "      <td>1.4925</td>\n",
       "      <td>Hold or Sell</td>\n",
       "      <td>1.4706</td>\n",
       "      <td>2.3105</td>\n",
       "    </tr>\n",
       "    <tr>\n",
       "      <th>38</th>\n",
       "      <td>tsla</td>\n",
       "      <td>Hold or Sell</td>\n",
       "      <td>3.5312</td>\n",
       "      <td>Hold or Sell</td>\n",
       "      <td>2.5892</td>\n",
       "      <td>Hold or Sell</td>\n",
       "      <td>2.5773</td>\n",
       "      <td>125.1352</td>\n",
       "    </tr>\n",
       "    <tr>\n",
       "      <th>39</th>\n",
       "      <td>v</td>\n",
       "      <td>Hold or Sell</td>\n",
       "      <td>2.8292</td>\n",
       "      <td>Hold or Sell</td>\n",
       "      <td>2.4611</td>\n",
       "      <td>Hold or Sell</td>\n",
       "      <td>2.6752</td>\n",
       "      <td>9.9110</td>\n",
       "    </tr>\n",
       "    <tr>\n",
       "      <th>40</th>\n",
       "      <td>vbiv</td>\n",
       "      <td>Buy</td>\n",
       "      <td>0.7738</td>\n",
       "      <td>Hold or Sell</td>\n",
       "      <td>2.0351</td>\n",
       "      <td>Hold or Sell</td>\n",
       "      <td>2.5375</td>\n",
       "      <td>-0.8043</td>\n",
       "    </tr>\n",
       "    <tr>\n",
       "      <th>41</th>\n",
       "      <td>vbr</td>\n",
       "      <td>Hold or Sell</td>\n",
       "      <td>1.3249</td>\n",
       "      <td>Hold or Sell</td>\n",
       "      <td>1.1331</td>\n",
       "      <td>Buy</td>\n",
       "      <td>1.6875</td>\n",
       "      <td>1.3536</td>\n",
       "    </tr>\n",
       "    <tr>\n",
       "      <th>42</th>\n",
       "      <td>viov</td>\n",
       "      <td>Buy</td>\n",
       "      <td>1.2334</td>\n",
       "      <td>Buy</td>\n",
       "      <td>1.0220</td>\n",
       "      <td>Buy</td>\n",
       "      <td>1.2308</td>\n",
       "      <td>0.9919</td>\n",
       "    </tr>\n",
       "    <tr>\n",
       "      <th>43</th>\n",
       "      <td>vgt</td>\n",
       "      <td>Hold or Sell</td>\n",
       "      <td>2.8018</td>\n",
       "      <td>Hold or Sell</td>\n",
       "      <td>3.5952</td>\n",
       "      <td>Hold or Sell</td>\n",
       "      <td>3.1136</td>\n",
       "      <td>5.5300</td>\n",
       "    </tr>\n",
       "    <tr>\n",
       "      <th>44</th>\n",
       "      <td>xlk</td>\n",
       "      <td>Hold or Sell</td>\n",
       "      <td>3.5242</td>\n",
       "      <td>Hold or Sell</td>\n",
       "      <td>3.9325</td>\n",
       "      <td>Hold or Sell</td>\n",
       "      <td>4.7574</td>\n",
       "      <td>5.9932</td>\n",
       "    </tr>\n",
       "  </tbody>\n",
       "</table>\n",
       "</div>"
      ],
      "text/plain": [
       "   stock    1_Day_Pred  1_Day_Model_Return    3_Day_Pred  3_Day_Model_Return  \\\n",
       "0      a  Hold or Sell              3.4621  Hold or Sell              3.6046   \n",
       "1   aapl           Buy              2.9764           Buy              3.7733   \n",
       "2    acy           Buy              0.6465           Buy              0.4852   \n",
       "3   adbe  Hold or Sell              8.2753  Hold or Sell              6.6214   \n",
       "4    alb           Buy              2.0374  Hold or Sell              2.6480   \n",
       "5   amat  Hold or Sell              7.6699  Hold or Sell              7.2630   \n",
       "6    amd  Hold or Sell              6.8330           Buy              7.3179   \n",
       "7   amzn  Hold or Sell              3.7174  Hold or Sell              2.9645   \n",
       "8   baba           Buy              1.1506           Buy              1.1865   \n",
       "9    bac  Hold or Sell              3.0210  Hold or Sell              3.6506   \n",
       "10  bpmc  Hold or Sell              2.3121  Hold or Sell              1.5523   \n",
       "11   crm  Hold or Sell              2.5638  Hold or Sell              2.2407   \n",
       "12  crsp  Hold or Sell              1.0199  Hold or Sell              0.5971   \n",
       "13    dq  Hold or Sell              8.2656  Hold or Sell              9.5143   \n",
       "14  esgv  Hold or Sell              1.1435  Hold or Sell              1.1232   \n",
       "15  fslr           Buy              1.9286           Buy              2.2454   \n",
       "16  goog  Hold or Sell              2.5117  Hold or Sell              2.3752   \n",
       "17   ibm  Hold or Sell              2.8817  Hold or Sell              4.0777   \n",
       "18  idex           Buy              0.1816           Buy              0.1882   \n",
       "19  intc  Hold or Sell              5.6275  Hold or Sell              5.1356   \n",
       "20   iyw  Hold or Sell              3.1353  Hold or Sell              3.9594   \n",
       "21   lng  Hold or Sell              1.1227  Hold or Sell              0.6813   \n",
       "22    ma  Hold or Sell              2.2921  Hold or Sell              3.0604   \n",
       "23   mdb  Hold or Sell              0.8242  Hold or Sell              1.0394   \n",
       "24  msft           Buy              7.4659           Buy              9.4299   \n",
       "25    mu  Hold or Sell              2.9460  Hold or Sell              3.0939   \n",
       "26   nee  Hold or Sell              4.6089  Hold or Sell              5.3090   \n",
       "27   nga           Buy              0.9818           Buy              0.8999   \n",
       "28   nio           Buy              1.9102           Buy              1.6301   \n",
       "29  nvda  Hold or Sell             10.4266  Hold or Sell             10.5740   \n",
       "30  pacb  Hold or Sell              2.0807  Hold or Sell              1.6717   \n",
       "31  pypl  Hold or Sell              3.6105  Hold or Sell              2.6752   \n",
       "32  qgen  Hold or Sell              1.9739  Hold or Sell              2.0839   \n",
       "33   run           Buy              1.2613           Buy              0.9753   \n",
       "34  orcl  Hold or Sell              2.8064  Hold or Sell              3.0609   \n",
       "35   qqq  Hold or Sell              2.6624  Hold or Sell              3.4494   \n",
       "36  srpt           Buy              1.8755  Hold or Sell              2.2413   \n",
       "37  tpic  Hold or Sell              1.1585  Hold or Sell              1.4925   \n",
       "38  tsla  Hold or Sell              3.5312  Hold or Sell              2.5892   \n",
       "39     v  Hold or Sell              2.8292  Hold or Sell              2.4611   \n",
       "40  vbiv           Buy              0.7738  Hold or Sell              2.0351   \n",
       "41   vbr  Hold or Sell              1.3249  Hold or Sell              1.1331   \n",
       "42  viov           Buy              1.2334           Buy              1.0220   \n",
       "43   vgt  Hold or Sell              2.8018  Hold or Sell              3.5952   \n",
       "44   xlk  Hold or Sell              3.5242  Hold or Sell              3.9325   \n",
       "\n",
       "      5_Day_Pred  5_Day_Model_Return  Actual_Returns  \n",
       "0   Hold or Sell              4.0519          6.7272  \n",
       "1            Buy              3.7934        334.4522  \n",
       "2            Buy              0.6248          1.9088  \n",
       "3   Hold or Sell              7.9814        102.7131  \n",
       "4            Buy              1.4943         14.5434  \n",
       "5   Hold or Sell              9.0935        178.9139  \n",
       "6            Buy              6.6572         15.9257  \n",
       "7   Hold or Sell              4.5232        117.1938  \n",
       "8            Buy              1.1375          2.3345  \n",
       "9   Hold or Sell              4.6322          5.8927  \n",
       "10  Hold or Sell              1.4735          2.6233  \n",
       "11  Hold or Sell              2.5133         15.7711  \n",
       "12           Buy              1.0581          7.9112  \n",
       "13  Hold or Sell             10.4307         90.3354  \n",
       "14  Hold or Sell              1.1502          0.4250  \n",
       "15           Buy              2.0562         -0.1755  \n",
       "16  Hold or Sell              3.1802          9.4725  \n",
       "17  Hold or Sell              3.3334          6.2491  \n",
       "18           Buy              0.1799          0.1622  \n",
       "19  Hold or Sell              5.4796         38.1208  \n",
       "20  Hold or Sell              3.3429          6.2624  \n",
       "21  Hold or Sell              0.9223         45.5144  \n",
       "22  Hold or Sell              2.7412         12.5633  \n",
       "23  Hold or Sell              0.9178          4.9305  \n",
       "24  Hold or Sell              7.5440         59.8454  \n",
       "25  Hold or Sell              3.1522         17.2756  \n",
       "26  Hold or Sell              4.7692         29.0746  \n",
       "27           Buy              0.8159          1.6869  \n",
       "28           Buy              2.1899         10.3655  \n",
       "29  Hold or Sell             13.1538        107.1403  \n",
       "30  Hold or Sell              1.5189         12.1413  \n",
       "31  Hold or Sell              2.8675          5.3567  \n",
       "32  Hold or Sell              2.9411          7.6394  \n",
       "33           Buy              0.9842         12.0178  \n",
       "34  Hold or Sell              3.1252         30.1452  \n",
       "35  Hold or Sell              2.8689          8.5822  \n",
       "36           Buy              2.1899          1.4836  \n",
       "37  Hold or Sell              1.4706          2.3105  \n",
       "38  Hold or Sell              2.5773        125.1352  \n",
       "39  Hold or Sell              2.6752          9.9110  \n",
       "40  Hold or Sell              2.5375         -0.8043  \n",
       "41           Buy              1.6875          1.3536  \n",
       "42           Buy              1.2308          0.9919  \n",
       "43  Hold or Sell              3.1136          5.5300  \n",
       "44  Hold or Sell              4.7574          5.9932  "
      ]
     },
     "execution_count": 29,
     "metadata": {},
     "output_type": "execute_result"
    }
   ],
   "source": [
    "summary_df = a.pred_summary_df(start_dates, stocks = [x for x in start_dates], days_back = 1)\n",
    "summary_df"
   ]
  },
  {
   "cell_type": "code",
   "execution_count": 30,
   "metadata": {},
   "outputs": [
    {
     "data": {
      "text/plain": [
       "(2.5638, 2.5892, 2.7412, 8.5822)"
      ]
     },
     "execution_count": 30,
     "metadata": {},
     "output_type": "execute_result"
    }
   ],
   "source": [
    "summary_df['1_Day_Model_Return'].median(), summary_df['3_Day_Model_Return'].median(), summary_df['5_Day_Model_Return'].median(), summary_df['Actual_Returns'].median()"
   ]
  },
  {
   "cell_type": "code",
   "execution_count": null,
   "metadata": {},
   "outputs": [],
   "source": []
  },
  {
   "cell_type": "code",
   "execution_count": null,
   "metadata": {},
   "outputs": [],
   "source": []
  },
  {
   "cell_type": "code",
   "execution_count": null,
   "metadata": {},
   "outputs": [],
   "source": []
  },
  {
   "cell_type": "code",
   "execution_count": null,
   "metadata": {},
   "outputs": [],
   "source": []
  }
 ],
 "metadata": {
  "kernelspec": {
   "display_name": "Python 3",
   "language": "python",
   "name": "python3"
  },
  "language_info": {
   "codemirror_mode": {
    "name": "ipython",
    "version": 3
   },
   "file_extension": ".py",
   "mimetype": "text/x-python",
   "name": "python",
   "nbconvert_exporter": "python",
   "pygments_lexer": "ipython3",
   "version": "3.8.5"
  }
 },
 "nbformat": 4,
 "nbformat_minor": 4
}
