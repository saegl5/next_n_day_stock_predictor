{
 "cells": [
  {
   "cell_type": "code",
   "execution_count": 1,
   "metadata": {
    "scrolled": true
   },
   "outputs": [],
   "source": [
    "from src import attributes as a\n",
    "%load_ext autoreload\n",
    "%autoreload 2"
   ]
  },
  {
   "cell_type": "code",
   "execution_count": 2,
   "metadata": {},
   "outputs": [],
   "source": [
    "# Global Variables\n",
    "stock_name = 'tsla' # ticker symbol\n",
    "train = 0 # 1 for train, 0 for pass\n",
    "days_ahead = 1 # for predicting 1, 3, or 5 days ahead\n",
    "days_back = -1 # -1 for current data point, -2 for two days ago, etc...\n",
    "cv = 5 # number of cross validation folds\n",
    "model_name = 'Random Forest Classifier' # for display on charts, not a tuning parameter"
   ]
  },
  {
   "cell_type": "code",
   "execution_count": 3,
   "metadata": {},
   "outputs": [],
   "source": [
    "# Extract, Transform, Load, and Train Test Split\n",
    "# Dictionary of IPO Dates\n",
    "start_dates = {'a': '11/15/1999' # Updated 4/26/21 1D, 3D, 5D ahead\n",
    "               , 'aapl': '12/12/1980' # Updated 4/26/21 1D, 3D, 5D ahead\n",
    "               , 'acy': '01/18/1998' # Updated 4/26/21 1D, 3D, 5D ahead\n",
    "               , 'adbe': '08/11/1986' # Updated 4/26/21 1D, 3D, 5D ahead\n",
    "               , 'alb': '02/21/1994' # Updated 4/26/21 1D, 3D, 5D ahead\n",
    "               , 'amat': '03/16/1980' # Updated 4/26/21 1D, 3D, 5D ahead\n",
    "               , 'amd': '03/17/1980' # Updated 4/26/21 1D, 3D, 5D ahead\n",
    "               , 'amgn': '06/13/1983' # Updated 4/26/21 1D, 3D, 5D ahead\n",
    "               , 'amzn': '05/12/1997' # Updated 4/26/21 1D, 3D, 5D ahead\n",
    "               , 'baba': '09/15/2014' # Updated 4/26/21 1D, 3D, 5D ahead\n",
    "               , 'bac': '02/19/1973' # Updated 4/26/21 1D, 3D, 5D ahead\n",
    "               , 'bpmc': '04/27/2015' # Updated 4/26/21 1D, 3D, 5D ahead\n",
    "               , 'crm': '06/23/2004' # Updated 4/26/21 1D, 3D, 5D ahead\n",
    "               , 'crsp': '10/16/2016' # Updated 4/26/21 1D, 3D, 5D ahead\n",
    "               , 'dq': '10/04/2010' # Updated 4/26/21 1D, 3D, 5D ahead\n",
    "               , 'esgv': '09/16/2018' # Updated 4/26/21 1D, 3D, 5D ahead\n",
    "               , 'fslr': '11/12/2006' # Updated 4/26/21 1D, 3D, 5D ahead\n",
    "               , 'goog': '08/16/2004' # Updated 4/26/21 1D, 3D, 5D ahead\n",
    "               , 'ibm': '01/02/1962' # Updated 4/26/21 1D, 3D, 5D ahead\n",
    "               , 'intc': '03/16/1980' # Updated 4/26/21 1D, 3D, 5D ahead\n",
    "               , 'iyw': '05/15/2000' # Updated 4/26/21 1D, 3D, 5D ahead\n",
    "               , 'lng': '04/04/1994' # Updated 4/26/21 1D, 3D, 5D ahead\n",
    "               , 'ma': '05/21/2006' # Updated 4/26/21 1D, 3D, 5D ahead\n",
    "               , 'mdb': '10/15/2017' # Updated 4/26/21 1D, 3D, 5D ahead\n",
    "               , 'msft': '03/10/1986' # Updated 4/26/21 1D, 3D, 5D ahead\n",
    "               , 'mu': '05/28/1984' # Updated 4/26/21 1D, 3D, 5D ahead\n",
    "               , 'nee': '02/19/1973' # Updated 4/26/21 1D, 3D, 5D ahead\n",
    "               , 'nio': '09/10/2018' # Updated 4/26/21 1D, 3D, 5D ahead\n",
    "               , 'nvda': '01/22/1999' # Updated 4/26/21 1D, 3D, 5D ahead\n",
    "               , 'pacb': '10/25/2010' # Updated 4/26/21 1D, 3D, 5D ahead\n",
    "               , 'pypl': '07/05/2015' # Updated 4/26/21 1D, 3D, 5D ahead\n",
    "               , 'qgen': '06/24/1996' # Updated 4/26/21 1D, 3D, 5D ahead\n",
    "               , 'run': '08/02/2015' # Updated 4/26/21 1D, 3D, 5D ahead\n",
    "               , 'okta': '04/03/2017' # Updated 4/26/21 1D, 3D, 5D ahead\n",
    "               , 'orcl': '03/10/1986' # Updated 4/26/21 1D, 3D, 5D ahead\n",
    "               , 'qqq': '03/08/1999' # Updated 4/26/21 1D, 3D, 5D ahead\n",
    "               , 'srpt': '06/02/1997' # Updated 4/26/21 1D, 3D, 5D ahead\n",
    "               , 'tpic': '07/17/2016' # Updated 4/26/21 1D, 3D, 5D ahead\n",
    "               , 'tsla': '06/29/2010' # Updated 4/26/21 1D, 3D, 5D ahead\n",
    "               , 'v': '03/16/2008' # Updated 4/26/21 1D, 3D, 5D ahead\n",
    "               , 'vbiv': '09/04/2002' # Updated 4/26/21 1D, 3D, 5D ahead\n",
    "               , 'vbr': '01/26/2004' # Updated 4/26/21 1D, 3D, 5D ahead\n",
    "               , 'viov': '09/06/2010' # Updated 4/26/21 1D, 3D, 5D ahead\n",
    "               , 'vgt': '01/26/2004' # Updated 4/26/21 1D, 3D, 5D ahead\n",
    "               , 'xlk': '12/21/1998' # Updated 4/26/21 1D, 3D, 5D ahead\n",
    "              }"
   ]
  },
  {
   "cell_type": "markdown",
   "metadata": {},
   "source": [
    "### Get Data..."
   ]
  },
  {
   "cell_type": "code",
   "execution_count": 4,
   "metadata": {
    "scrolled": true
   },
   "outputs": [
    {
     "name": "stdout",
     "output_type": "stream",
     "text": [
      "Today's date: 2021-08-10\n",
      "Table Updates Complete\n"
     ]
    }
   ],
   "source": [
    "from datetime import date\n",
    "today = date.today()\n",
    "print(\"Today's date:\", today)\n",
    "a.get_tables(start_dates)\n",
    "print('Table Updates Complete')"
   ]
  },
  {
   "cell_type": "code",
   "execution_count": 5,
   "metadata": {},
   "outputs": [],
   "source": [
    "# Load RandomForextClassifier Model\n",
    "# rfc_model, y_pred, y_probs = a.rfc(X_train, X_test, y_train, stock_name, days_ahead)"
   ]
  },
  {
   "cell_type": "code",
   "execution_count": 6,
   "metadata": {
    "scrolled": false
   },
   "outputs": [],
   "source": [
    "# ROC Curve\n",
    "# a.roc_plot(y_test, y_probs, stock_name, model_name)"
   ]
  },
  {
   "cell_type": "code",
   "execution_count": 7,
   "metadata": {
    "scrolled": false
   },
   "outputs": [],
   "source": [
    "# Precision Recall Curve\n",
    "# a.prec_recall(y_test, y_probs, stock_name, model_name)"
   ]
  },
  {
   "cell_type": "code",
   "execution_count": 8,
   "metadata": {
    "scrolled": false
   },
   "outputs": [],
   "source": [
    "# Confusion Matrix\n",
    "# a.confusion_matrix(rfc_model, X_test, y_test, stock_name)"
   ]
  },
  {
   "cell_type": "code",
   "execution_count": 9,
   "metadata": {},
   "outputs": [],
   "source": [
    "# Cross Validation\n",
    "# a.cross_validation(rfc_model\n",
    "#                    , stock_df[['oc', 'hl', '5stdev_adj', '5sma_adj']]\n",
    "#                    , stock_df['direction']\n",
    "#                    , cv = 5\n",
    "#                   )"
   ]
  },
  {
   "cell_type": "markdown",
   "metadata": {},
   "source": [
    "### Prediction..."
   ]
  },
  {
   "cell_type": "code",
   "execution_count": 10,
   "metadata": {
    "scrolled": true
   },
   "outputs": [],
   "source": [
    "# Prediction, use last day of data\n",
    "# stock_df.iloc[-1]"
   ]
  },
  {
   "cell_type": "code",
   "execution_count": 11,
   "metadata": {},
   "outputs": [],
   "source": [
    "# import numpy as np\n",
    "# last = stock_df[['oc', 'hl', '5stdev_adj', '5sma_adj']].iloc[-days_back]\n",
    "# last"
   ]
  },
  {
   "cell_type": "code",
   "execution_count": 12,
   "metadata": {},
   "outputs": [],
   "source": [
    "# stock_df['adj'].describe()"
   ]
  },
  {
   "cell_type": "code",
   "execution_count": 13,
   "metadata": {
    "scrolled": true
   },
   "outputs": [],
   "source": [
    "# if rfc_model.predict(np.array(last).reshape(1, -1))[0] == 1:\n",
    "#     print(f'Buy {stock_name} {days_ahead} day(s) ahead')\n",
    "# else:\n",
    "#     print(f'Sell or hold {stock_name} {days_ahead} day(s) ahead')"
   ]
  },
  {
   "cell_type": "markdown",
   "metadata": {},
   "source": [
    "### Strategy Returns..."
   ]
  },
  {
   "cell_type": "code",
   "execution_count": 14,
   "metadata": {},
   "outputs": [],
   "source": [
    "# returns on strategy column\n",
    "# stock_df['prediction'] = rfc_model.predict(stock_df[['oc', 'hl', '5stdev_adj', '5sma_adj']])\n",
    "# stock_df['returns'] = stock_df['adj'].shift(-1, fill_value = stock_df['adj'].median()) * stock_df['prediction']"
   ]
  },
  {
   "cell_type": "code",
   "execution_count": 15,
   "metadata": {},
   "outputs": [],
   "source": [
    "# stock_df.tail(5)"
   ]
  },
  {
   "cell_type": "code",
   "execution_count": 16,
   "metadata": {},
   "outputs": [],
   "source": [
    "# Don't trade every day!\n",
    "# import matplotlib.pyplot as plt\n",
    "# test_length = len(y_test)\n",
    "# (stock_df['returns'][-test_length:] + 1).cumprod().plot()\n",
    "# plt.title(f'{stock_name} Expected Returns %');"
   ]
  },
  {
   "cell_type": "code",
   "execution_count": 17,
   "metadata": {},
   "outputs": [],
   "source": [
    "# Model returns if bought on predictions of 1\n",
    "# returns_on_ones = []\n",
    "# for idx in range(-test_length, 0):\n",
    "#     if stock_df['prediction'][idx] == 1:\n",
    "#         returns_on_ones.append(1 + stock_df['returns'][idx])\n",
    "\n",
    "# returns = 1\n",
    "# for x in returns_on_ones:\n",
    "#     returns *= x\n",
    "# returns"
   ]
  },
  {
   "cell_type": "code",
   "execution_count": 18,
   "metadata": {},
   "outputs": [],
   "source": [
    "# multiple times original investment, not bad but..."
   ]
  },
  {
   "cell_type": "code",
   "execution_count": 19,
   "metadata": {},
   "outputs": [],
   "source": [
    "# If purchased in 2012 and left it until now\n",
    "# test_idx = int(len(stock_df)*0.75)\n",
    "# (stock_df['Close'][-1] - stock_df['Close'][-test_idx]) / stock_df['Close'][-test_idx]"
   ]
  },
  {
   "cell_type": "code",
   "execution_count": 20,
   "metadata": {},
   "outputs": [],
   "source": [
    "# Buy and hold strategy beats RandomForestClassifier in this study\n",
    "\n",
    "# Special thanks to Shagufta Tahsildar at https://blog.quantinsti.com/random-forest-algorithm-in-python/"
   ]
  },
  {
   "cell_type": "code",
   "execution_count": null,
   "metadata": {},
   "outputs": [],
   "source": []
  },
  {
   "cell_type": "code",
   "execution_count": null,
   "metadata": {},
   "outputs": [],
   "source": []
  },
  {
   "cell_type": "code",
   "execution_count": null,
   "metadata": {},
   "outputs": [],
   "source": []
  },
  {
   "cell_type": "markdown",
   "metadata": {},
   "source": [
    "### Training"
   ]
  },
  {
   "cell_type": "markdown",
   "metadata": {},
   "source": [
    "Training is done once a week on Saturday and Sunday"
   ]
  },
  {
   "cell_type": "code",
   "execution_count": 21,
   "metadata": {},
   "outputs": [
    {
     "data": {
      "text/plain": [
       "45"
      ]
     },
     "execution_count": 21,
     "metadata": {},
     "output_type": "execute_result"
    }
   ],
   "source": [
    "len(start_dates)"
   ]
  },
  {
   "cell_type": "code",
   "execution_count": 22,
   "metadata": {},
   "outputs": [
    {
     "data": {
      "text/plain": [
       "{'a': '11/15/1999',\n",
       " 'aapl': '12/12/1980',\n",
       " 'acy': '01/18/1998',\n",
       " 'adbe': '08/11/1986',\n",
       " 'alb': '02/21/1994',\n",
       " 'amat': '03/16/1980',\n",
       " 'amd': '03/17/1980',\n",
       " 'amgn': '06/13/1983',\n",
       " 'amzn': '05/12/1997',\n",
       " 'baba': '09/15/2014',\n",
       " 'bac': '02/19/1973',\n",
       " 'bpmc': '04/27/2015',\n",
       " 'crm': '06/23/2004',\n",
       " 'crsp': '10/16/2016',\n",
       " 'dq': '10/04/2010'}"
      ]
     },
     "execution_count": 22,
     "metadata": {},
     "output_type": "execute_result"
    }
   ],
   "source": [
    "import itertools as itr\n",
    "start_dates1 = dict(itr.islice(start_dates.items(), 0, 15))\n",
    "start_dates1"
   ]
  },
  {
   "cell_type": "code",
   "execution_count": 23,
   "metadata": {},
   "outputs": [
    {
     "data": {
      "text/plain": [
       "{'esgv': '09/16/2018',\n",
       " 'fslr': '11/12/2006',\n",
       " 'goog': '08/16/2004',\n",
       " 'ibm': '01/02/1962',\n",
       " 'intc': '03/16/1980',\n",
       " 'iyw': '05/15/2000',\n",
       " 'lng': '04/04/1994',\n",
       " 'ma': '05/21/2006',\n",
       " 'mdb': '10/15/2017',\n",
       " 'msft': '03/10/1986',\n",
       " 'mu': '05/28/1984',\n",
       " 'nee': '02/19/1973',\n",
       " 'nio': '09/10/2018',\n",
       " 'nvda': '01/22/1999',\n",
       " 'pacb': '10/25/2010'}"
      ]
     },
     "execution_count": 23,
     "metadata": {},
     "output_type": "execute_result"
    }
   ],
   "source": [
    "start_dates2 = dict(itr.islice(start_dates.items(), 15, 30))\n",
    "start_dates2"
   ]
  },
  {
   "cell_type": "code",
   "execution_count": 24,
   "metadata": {},
   "outputs": [
    {
     "data": {
      "text/plain": [
       "{'pypl': '07/05/2015',\n",
       " 'qgen': '06/24/1996',\n",
       " 'run': '08/02/2015',\n",
       " 'okta': '04/03/2017',\n",
       " 'orcl': '03/10/1986',\n",
       " 'qqq': '03/08/1999',\n",
       " 'srpt': '06/02/1997',\n",
       " 'tpic': '07/17/2016',\n",
       " 'tsla': '06/29/2010',\n",
       " 'v': '03/16/2008',\n",
       " 'vbiv': '09/04/2002',\n",
       " 'vbr': '01/26/2004',\n",
       " 'viov': '09/06/2010',\n",
       " 'vgt': '01/26/2004',\n",
       " 'xlk': '12/21/1998'}"
      ]
     },
     "execution_count": 24,
     "metadata": {},
     "output_type": "execute_result"
    }
   ],
   "source": [
    "start_dates3 = dict(itr.islice(start_dates.items(), 30, 45+1))\n",
    "start_dates3"
   ]
  },
  {
   "cell_type": "code",
   "execution_count": 25,
   "metadata": {
    "scrolled": false
   },
   "outputs": [],
   "source": [
    "#Train 15 at a time!\n",
    "# stocks = [x for x in start_dates1]\n",
    "# days_ahead = [1, 3, 5]\n",
    "# cv = 5\n",
    "# for stock in stocks:\n",
    "#     for days in days_ahead:\n",
    "#         X_train, X_test, y_train, y_test, stock_df = a.data(stock, start_dates[stock], days)\n",
    "#         a.rfc_GridSearch(X_train, y_train, stock, days, cv)\n",
    "# len(stocks)\n",
    "\n",
    "# Next on training for Saturday 4/17/2021\n",
    "# stocks = [x for x in start_dates2]\n",
    "# days_ahead = [1, 3, 5]\n",
    "# cv = 5\n",
    "# for stock in stocks:\n",
    "#     for days in days_ahead:\n",
    "#         X_train, X_test, y_train, y_test, stock_df = a.data(stock, start_dates[stock], days)\n",
    "#         a.rfc_GridSearch(X_train, y_train, stock, days, cv)\n",
    "# len(stocks)\n",
    "\n",
    "# Next on training for Saturday 4/17/2021\n",
    "# stocks = [x for x in start_dates3]\n",
    "# days_ahead = [1, 3, 5]\n",
    "# cv = 5\n",
    "# for stock in stocks:\n",
    "#     for days in days_ahead:\n",
    "#         X_train, X_test, y_train, y_test, stock_df = a.data(stock, start_dates[stock], days)\n",
    "#         a.rfc_GridSearch(X_train, y_train, stock, days, cv)\n",
    "# len(stocks)\n",
    "\n",
    "# # Train all, takes 15+ hours\n",
    "# stocks = [x for x in start_dates]\n",
    "# days_ahead = [1, 3, 5]\n",
    "# cv = 5\n",
    "# for stock in stocks:\n",
    "#     for days in days_ahead:\n",
    "#         X_train, X_test, y_train, y_test, stock_df = a.data(stock, start_dates[stock], days)\n",
    "#         a.rfc_GridSearch(X_train, y_train, stock, days, cv)\n",
    "# len(stocks)\n",
    "\n",
    "# Train desired stocks...takes less time (4 stocks will take 12 cycles according to timeit 2.5 hours)\n",
    "# import timeit \n",
    "# stocks = ['amat'\n",
    "#           , 'amd'\n",
    "#           , 'msft'\n",
    "#           , 'tsla'\n",
    "#           , 'vgt']\n",
    "# days_ahead = [1, 3, 5]\n",
    "# cv = 5\n",
    "# for stock in stocks:\n",
    "#     for days in days_ahead:\n",
    "#         X_train, X_test, y_train, y_test, stock_df = a.data(stock, start_dates[stock], days)\n",
    "#         %timeit a.rfc_GridSearch(X_train, y_train, stock, days, cv)"
   ]
  },
  {
   "cell_type": "code",
   "execution_count": null,
   "metadata": {},
   "outputs": [],
   "source": []
  },
  {
   "cell_type": "code",
   "execution_count": null,
   "metadata": {},
   "outputs": [],
   "source": []
  },
  {
   "cell_type": "code",
   "execution_count": null,
   "metadata": {},
   "outputs": [],
   "source": []
  },
  {
   "cell_type": "markdown",
   "metadata": {},
   "source": [
    "### Display All Results"
   ]
  },
  {
   "cell_type": "code",
   "execution_count": 26,
   "metadata": {},
   "outputs": [
    {
     "name": "stdout",
     "output_type": "stream",
     "text": [
      "Today's date: 2021-08-10\n"
     ]
    }
   ],
   "source": [
    "print(\"Today's date:\", today)"
   ]
  },
  {
   "cell_type": "code",
   "execution_count": 27,
   "metadata": {
    "scrolled": false
   },
   "outputs": [
    {
     "name": "stdout",
     "output_type": "stream",
     "text": [
      "Buy msft 1 day(s) ahead\n",
      "Model Returns (x 100 for %): 8.1699\n",
      "Stock Returns (x 100 for %): 327.7426\n"
     ]
    },
    {
     "data": {
      "image/png": "[encoded data removed]",
      "text/plain": [
       "<Figure size 432x288 with 1 Axes>"
      ]
     },
     "metadata": {},
     "output_type": "display_data"
    },
    {
     "data": {
      "image/png": "[encoded data removed]",
      "text/plain": [
       "<Figure size 648x504 with 1 Axes>"
      ]
     },
     "metadata": {},
     "output_type": "display_data"
    },
    {
     "data": {
      "image/png": "[encoded data removed]",
      "text/plain": [
       "<Figure size 648x504 with 1 Axes>"
      ]
     },
     "metadata": {},
     "output_type": "display_data"
    },
    {
     "data": {
      "image/png": "[encoded data removed]",
      "text/plain": [
       "<Figure size 684x612 with 2 Axes>"
      ]
     },
     "metadata": {},
     "output_type": "display_data"
    }
   ],
   "source": [
    "stock_name = 'msft'\n",
    "a.all_func(stock_name\n",
    "           , start_dates[stock_name]\n",
    "           , days_ahead = 1\n",
    "           , model_name = model_name\n",
    "           , days_back = 1\n",
    "          )"
   ]
  },
  {
   "cell_type": "code",
   "execution_count": null,
   "metadata": {},
   "outputs": [],
   "source": []
  },
  {
   "cell_type": "code",
   "execution_count": null,
   "metadata": {},
   "outputs": [],
   "source": []
  },
  {
   "cell_type": "code",
   "execution_count": null,
   "metadata": {},
   "outputs": [],
   "source": []
  },
  {
   "cell_type": "markdown",
   "metadata": {},
   "source": [
    "### Data Frame of Predictions 1 3 5 Days"
   ]
  },
  {
   "cell_type": "code",
   "execution_count": 28,
   "metadata": {},
   "outputs": [
    {
     "name": "stdout",
     "output_type": "stream",
     "text": [
      "Today's date: 2021-08-10\n"
     ]
    }
   ],
   "source": [
    "print(\"Today's date:\", today)"
   ]
  },
  {
   "cell_type": "code",
   "execution_count": 29,
   "metadata": {
    "scrolled": false
   },
   "outputs": [
    {
     "data": {
      "text/html": [
       "<div>\n",
       "<style scoped>\n",
       "    .dataframe tbody tr th:only-of-type {\n",
       "        vertical-align: middle;\n",
       "    }\n",
       "\n",
       "    .dataframe tbody tr th {\n",
       "        vertical-align: top;\n",
       "    }\n",
       "\n",
       "    .dataframe thead th {\n",
       "        text-align: right;\n",
       "    }\n",
       "</style>\n",
       "<table border=\"1\" class=\"dataframe\">\n",
       "  <thead>\n",
       "    <tr style=\"text-align: right;\">\n",
       "      <th></th>\n",
       "      <th>stock</th>\n",
       "      <th>1_Day_Pred</th>\n",
       "      <th>1_Day_Model_Return</th>\n",
       "      <th>3_Day_Pred</th>\n",
       "      <th>3_Day_Model_Return</th>\n",
       "      <th>5_Day_Pred</th>\n",
       "      <th>5_Day_Model_Return</th>\n",
       "      <th>Actual_Returns</th>\n",
       "    </tr>\n",
       "  </thead>\n",
       "  <tbody>\n",
       "    <tr>\n",
       "      <th>0</th>\n",
       "      <td>a</td>\n",
       "      <td>Buy</td>\n",
       "      <td>2.1662</td>\n",
       "      <td>Hold or Sell</td>\n",
       "      <td>2.1592</td>\n",
       "      <td>Hold or Sell</td>\n",
       "      <td>2.2681</td>\n",
       "      <td>16.8726</td>\n",
       "    </tr>\n",
       "    <tr>\n",
       "      <th>1</th>\n",
       "      <td>aapl</td>\n",
       "      <td>Buy</td>\n",
       "      <td>4.5411</td>\n",
       "      <td>Buy</td>\n",
       "      <td>3.6660</td>\n",
       "      <td>Buy</td>\n",
       "      <td>3.9154</td>\n",
       "      <td>789.6932</td>\n",
       "    </tr>\n",
       "    <tr>\n",
       "      <th>2</th>\n",
       "      <td>acy</td>\n",
       "      <td>Buy</td>\n",
       "      <td>0.4900</td>\n",
       "      <td>Buy</td>\n",
       "      <td>0.2244</td>\n",
       "      <td>Buy</td>\n",
       "      <td>0.5699</td>\n",
       "      <td>1.9431</td>\n",
       "    </tr>\n",
       "    <tr>\n",
       "      <th>3</th>\n",
       "      <td>adbe</td>\n",
       "      <td>Buy</td>\n",
       "      <td>5.8982</td>\n",
       "      <td>Buy</td>\n",
       "      <td>5.5929</td>\n",
       "      <td>Buy</td>\n",
       "      <td>5.6092</td>\n",
       "      <td>206.6013</td>\n",
       "    </tr>\n",
       "    <tr>\n",
       "      <th>4</th>\n",
       "      <td>alb</td>\n",
       "      <td>Hold or Sell</td>\n",
       "      <td>1.7971</td>\n",
       "      <td>Hold or Sell</td>\n",
       "      <td>2.2752</td>\n",
       "      <td>Hold or Sell</td>\n",
       "      <td>1.8946</td>\n",
       "      <td>27.9183</td>\n",
       "    </tr>\n",
       "    <tr>\n",
       "      <th>5</th>\n",
       "      <td>amat</td>\n",
       "      <td>Buy</td>\n",
       "      <td>8.8927</td>\n",
       "      <td>Buy</td>\n",
       "      <td>7.2191</td>\n",
       "      <td>Buy</td>\n",
       "      <td>8.2577</td>\n",
       "      <td>1018.4493</td>\n",
       "    </tr>\n",
       "    <tr>\n",
       "      <th>6</th>\n",
       "      <td>amd</td>\n",
       "      <td>Buy</td>\n",
       "      <td>21.1755</td>\n",
       "      <td>Buy</td>\n",
       "      <td>34.1627</td>\n",
       "      <td>Buy</td>\n",
       "      <td>46.5843</td>\n",
       "      <td>9.3883</td>\n",
       "    </tr>\n",
       "    <tr>\n",
       "      <th>7</th>\n",
       "      <td>amgn</td>\n",
       "      <td>Buy</td>\n",
       "      <td>2.4459</td>\n",
       "      <td>Buy</td>\n",
       "      <td>2.3360</td>\n",
       "      <td>Buy</td>\n",
       "      <td>2.0169</td>\n",
       "      <td>329.5603</td>\n",
       "    </tr>\n",
       "    <tr>\n",
       "      <th>8</th>\n",
       "      <td>amzn</td>\n",
       "      <td>Buy</td>\n",
       "      <td>1.3580</td>\n",
       "      <td>Buy</td>\n",
       "      <td>1.3908</td>\n",
       "      <td>Buy</td>\n",
       "      <td>1.3800</td>\n",
       "      <td>169.2913</td>\n",
       "    </tr>\n",
       "    <tr>\n",
       "      <th>9</th>\n",
       "      <td>baba</td>\n",
       "      <td>Buy</td>\n",
       "      <td>1.0091</td>\n",
       "      <td>Buy</td>\n",
       "      <td>1.1482</td>\n",
       "      <td>Buy</td>\n",
       "      <td>1.1402</td>\n",
       "      <td>1.3768</td>\n",
       "    </tr>\n",
       "    <tr>\n",
       "      <th>10</th>\n",
       "      <td>bac</td>\n",
       "      <td>Hold or Sell</td>\n",
       "      <td>2.0955</td>\n",
       "      <td>Hold or Sell</td>\n",
       "      <td>1.5696</td>\n",
       "      <td>Hold or Sell</td>\n",
       "      <td>2.3570</td>\n",
       "      <td>64.5407</td>\n",
       "    </tr>\n",
       "    <tr>\n",
       "      <th>11</th>\n",
       "      <td>bpmc</td>\n",
       "      <td>Buy</td>\n",
       "      <td>0.9458</td>\n",
       "      <td>Buy</td>\n",
       "      <td>0.8874</td>\n",
       "      <td>Buy</td>\n",
       "      <td>0.9647</td>\n",
       "      <td>5.7971</td>\n",
       "    </tr>\n",
       "    <tr>\n",
       "      <th>12</th>\n",
       "      <td>crm</td>\n",
       "      <td>Buy</td>\n",
       "      <td>1.1187</td>\n",
       "      <td>Buy</td>\n",
       "      <td>1.3398</td>\n",
       "      <td>Buy</td>\n",
       "      <td>1.5957</td>\n",
       "      <td>19.0775</td>\n",
       "    </tr>\n",
       "    <tr>\n",
       "      <th>13</th>\n",
       "      <td>crsp</td>\n",
       "      <td>Buy</td>\n",
       "      <td>0.8188</td>\n",
       "      <td>Buy</td>\n",
       "      <td>0.7899</td>\n",
       "      <td>Buy</td>\n",
       "      <td>0.6624</td>\n",
       "      <td>6.3059</td>\n",
       "    </tr>\n",
       "    <tr>\n",
       "      <th>14</th>\n",
       "      <td>dq</td>\n",
       "      <td>Hold or Sell</td>\n",
       "      <td>2.8347</td>\n",
       "      <td>Hold or Sell</td>\n",
       "      <td>2.9370</td>\n",
       "      <td>Hold or Sell</td>\n",
       "      <td>2.0075</td>\n",
       "      <td>59.8400</td>\n",
       "    </tr>\n",
       "  </tbody>\n",
       "</table>\n",
       "</div>"
      ],
      "text/plain": [
       "   stock    1_Day_Pred  1_Day_Model_Return    3_Day_Pred  3_Day_Model_Return  \\\n",
       "0      a           Buy              2.1662  Hold or Sell              2.1592   \n",
       "1   aapl           Buy              4.5411           Buy              3.6660   \n",
       "2    acy           Buy              0.4900           Buy              0.2244   \n",
       "3   adbe           Buy              5.8982           Buy              5.5929   \n",
       "4    alb  Hold or Sell              1.7971  Hold or Sell              2.2752   \n",
       "5   amat           Buy              8.8927           Buy              7.2191   \n",
       "6    amd           Buy             21.1755           Buy             34.1627   \n",
       "7   amgn           Buy              2.4459           Buy              2.3360   \n",
       "8   amzn           Buy              1.3580           Buy              1.3908   \n",
       "9   baba           Buy              1.0091           Buy              1.1482   \n",
       "10   bac  Hold or Sell              2.0955  Hold or Sell              1.5696   \n",
       "11  bpmc           Buy              0.9458           Buy              0.8874   \n",
       "12   crm           Buy              1.1187           Buy              1.3398   \n",
       "13  crsp           Buy              0.8188           Buy              0.7899   \n",
       "14    dq  Hold or Sell              2.8347  Hold or Sell              2.9370   \n",
       "\n",
       "      5_Day_Pred  5_Day_Model_Return  Actual_Returns  \n",
       "0   Hold or Sell              2.2681         16.8726  \n",
       "1            Buy              3.9154        789.6932  \n",
       "2            Buy              0.5699          1.9431  \n",
       "3            Buy              5.6092        206.6013  \n",
       "4   Hold or Sell              1.8946         27.9183  \n",
       "5            Buy              8.2577       1018.4493  \n",
       "6            Buy             46.5843          9.3883  \n",
       "7            Buy              2.0169        329.5603  \n",
       "8            Buy              1.3800        169.2913  \n",
       "9            Buy              1.1402          1.3768  \n",
       "10  Hold or Sell              2.3570         64.5407  \n",
       "11           Buy              0.9647          5.7971  \n",
       "12           Buy              1.5957         19.0775  \n",
       "13           Buy              0.6624          6.3059  \n",
       "14  Hold or Sell              2.0075         59.8400  "
      ]
     },
     "execution_count": 29,
     "metadata": {},
     "output_type": "execute_result"
    }
   ],
   "source": [
    "summary_df = a.pred_summary_df(start_dates1, stocks = [x for x in start_dates1], days_back = 1)\n",
    "summary_df"
   ]
  },
  {
   "cell_type": "code",
   "execution_count": 30,
   "metadata": {},
   "outputs": [
    {
     "data": {
      "text/plain": [
       "(2.0955, 2.1592, 2.0075, 27.9183)"
      ]
     },
     "execution_count": 30,
     "metadata": {},
     "output_type": "execute_result"
    }
   ],
   "source": [
    "summary_df['1_Day_Model_Return'].median(), summary_df['3_Day_Model_Return'].median(), summary_df['5_Day_Model_Return'].median(), summary_df['Actual_Returns'].median()"
   ]
  },
  {
   "cell_type": "code",
   "execution_count": null,
   "metadata": {},
   "outputs": [],
   "source": []
  },
  {
   "cell_type": "code",
   "execution_count": 31,
   "metadata": {
    "scrolled": false
   },
   "outputs": [
    {
     "data": {
      "text/html": [
       "<div>\n",
       "<style scoped>\n",
       "    .dataframe tbody tr th:only-of-type {\n",
       "        vertical-align: middle;\n",
       "    }\n",
       "\n",
       "    .dataframe tbody tr th {\n",
       "        vertical-align: top;\n",
       "    }\n",
       "\n",
       "    .dataframe thead th {\n",
       "        text-align: right;\n",
       "    }\n",
       "</style>\n",
       "<table border=\"1\" class=\"dataframe\">\n",
       "  <thead>\n",
       "    <tr style=\"text-align: right;\">\n",
       "      <th></th>\n",
       "      <th>stock</th>\n",
       "      <th>1_Day_Pred</th>\n",
       "      <th>1_Day_Model_Return</th>\n",
       "      <th>3_Day_Pred</th>\n",
       "      <th>3_Day_Model_Return</th>\n",
       "      <th>5_Day_Pred</th>\n",
       "      <th>5_Day_Model_Return</th>\n",
       "      <th>Actual_Returns</th>\n",
       "    </tr>\n",
       "  </thead>\n",
       "  <tbody>\n",
       "    <tr>\n",
       "      <th>0</th>\n",
       "      <td>esgv</td>\n",
       "      <td>Buy</td>\n",
       "      <td>1.0573</td>\n",
       "      <td>Buy</td>\n",
       "      <td>1.0457</td>\n",
       "      <td>Buy</td>\n",
       "      <td>1.0675</td>\n",
       "      <td>0.7434</td>\n",
       "    </tr>\n",
       "    <tr>\n",
       "      <th>1</th>\n",
       "      <td>fslr</td>\n",
       "      <td>Hold or Sell</td>\n",
       "      <td>1.8243</td>\n",
       "      <td>Hold or Sell</td>\n",
       "      <td>2.0840</td>\n",
       "      <td>Hold or Sell</td>\n",
       "      <td>1.5854</td>\n",
       "      <td>-0.1545</td>\n",
       "    </tr>\n",
       "    <tr>\n",
       "      <th>2</th>\n",
       "      <td>goog</td>\n",
       "      <td>Hold or Sell</td>\n",
       "      <td>2.7766</td>\n",
       "      <td>Buy</td>\n",
       "      <td>2.8690</td>\n",
       "      <td>Hold or Sell</td>\n",
       "      <td>3.1936</td>\n",
       "      <td>10.7320</td>\n",
       "    </tr>\n",
       "    <tr>\n",
       "      <th>3</th>\n",
       "      <td>ibm</td>\n",
       "      <td>Hold or Sell</td>\n",
       "      <td>1.3017</td>\n",
       "      <td>Hold or Sell</td>\n",
       "      <td>1.5731</td>\n",
       "      <td>Buy</td>\n",
       "      <td>1.3587</td>\n",
       "      <td>32.6147</td>\n",
       "    </tr>\n",
       "    <tr>\n",
       "      <th>4</th>\n",
       "      <td>intc</td>\n",
       "      <td>Buy</td>\n",
       "      <td>3.2426</td>\n",
       "      <td>Buy</td>\n",
       "      <td>3.2169</td>\n",
       "      <td>Buy</td>\n",
       "      <td>3.3702</td>\n",
       "      <td>181.0019</td>\n",
       "    </tr>\n",
       "    <tr>\n",
       "      <th>5</th>\n",
       "      <td>iyw</td>\n",
       "      <td>Buy</td>\n",
       "      <td>2.4450</td>\n",
       "      <td>Buy</td>\n",
       "      <td>2.7214</td>\n",
       "      <td>Buy</td>\n",
       "      <td>2.1283</td>\n",
       "      <td>10.1775</td>\n",
       "    </tr>\n",
       "    <tr>\n",
       "      <th>6</th>\n",
       "      <td>lng</td>\n",
       "      <td>Hold or Sell</td>\n",
       "      <td>1.9303</td>\n",
       "      <td>Hold or Sell</td>\n",
       "      <td>1.9546</td>\n",
       "      <td>Hold or Sell</td>\n",
       "      <td>1.5131</td>\n",
       "      <td>21.2513</td>\n",
       "    </tr>\n",
       "    <tr>\n",
       "      <th>7</th>\n",
       "      <td>ma</td>\n",
       "      <td>Buy</td>\n",
       "      <td>1.5832</td>\n",
       "      <td>Buy</td>\n",
       "      <td>1.5587</td>\n",
       "      <td>Buy</td>\n",
       "      <td>1.4132</td>\n",
       "      <td>23.4806</td>\n",
       "    </tr>\n",
       "    <tr>\n",
       "      <th>8</th>\n",
       "      <td>mdb</td>\n",
       "      <td>Buy</td>\n",
       "      <td>1.1014</td>\n",
       "      <td>Buy</td>\n",
       "      <td>1.1538</td>\n",
       "      <td>Buy</td>\n",
       "      <td>0.9539</td>\n",
       "      <td>5.3707</td>\n",
       "    </tr>\n",
       "    <tr>\n",
       "      <th>9</th>\n",
       "      <td>msft</td>\n",
       "      <td>Buy</td>\n",
       "      <td>7.4923</td>\n",
       "      <td>Buy</td>\n",
       "      <td>7.7734</td>\n",
       "      <td>Buy</td>\n",
       "      <td>6.9722</td>\n",
       "      <td>327.7426</td>\n",
       "    </tr>\n",
       "    <tr>\n",
       "      <th>10</th>\n",
       "      <td>mu</td>\n",
       "      <td>Buy</td>\n",
       "      <td>2.6430</td>\n",
       "      <td>Buy</td>\n",
       "      <td>3.8840</td>\n",
       "      <td>Buy</td>\n",
       "      <td>2.6929</td>\n",
       "      <td>91.4261</td>\n",
       "    </tr>\n",
       "    <tr>\n",
       "      <th>11</th>\n",
       "      <td>nee</td>\n",
       "      <td>Buy</td>\n",
       "      <td>2.2917</td>\n",
       "      <td>Buy</td>\n",
       "      <td>1.9732</td>\n",
       "      <td>Buy</td>\n",
       "      <td>2.3443</td>\n",
       "      <td>264.4335</td>\n",
       "    </tr>\n",
       "    <tr>\n",
       "      <th>12</th>\n",
       "      <td>nio</td>\n",
       "      <td>Buy</td>\n",
       "      <td>1.2538</td>\n",
       "      <td>Buy</td>\n",
       "      <td>1.1518</td>\n",
       "      <td>Buy</td>\n",
       "      <td>1.2025</td>\n",
       "      <td>6.4195</td>\n",
       "    </tr>\n",
       "    <tr>\n",
       "      <th>13</th>\n",
       "      <td>nvda</td>\n",
       "      <td>Buy</td>\n",
       "      <td>5.1602</td>\n",
       "      <td>Buy</td>\n",
       "      <td>6.3070</td>\n",
       "      <td>Buy</td>\n",
       "      <td>4.6351</td>\n",
       "      <td>129.6324</td>\n",
       "    </tr>\n",
       "    <tr>\n",
       "      <th>14</th>\n",
       "      <td>pacb</td>\n",
       "      <td>Buy</td>\n",
       "      <td>1.7272</td>\n",
       "      <td>Buy</td>\n",
       "      <td>1.7443</td>\n",
       "      <td>Buy</td>\n",
       "      <td>1.6834</td>\n",
       "      <td>12.6444</td>\n",
       "    </tr>\n",
       "  </tbody>\n",
       "</table>\n",
       "</div>"
      ],
      "text/plain": [
       "   stock    1_Day_Pred  1_Day_Model_Return    3_Day_Pred  3_Day_Model_Return  \\\n",
       "0   esgv           Buy              1.0573           Buy              1.0457   \n",
       "1   fslr  Hold or Sell              1.8243  Hold or Sell              2.0840   \n",
       "2   goog  Hold or Sell              2.7766           Buy              2.8690   \n",
       "3    ibm  Hold or Sell              1.3017  Hold or Sell              1.5731   \n",
       "4   intc           Buy              3.2426           Buy              3.2169   \n",
       "5    iyw           Buy              2.4450           Buy              2.7214   \n",
       "6    lng  Hold or Sell              1.9303  Hold or Sell              1.9546   \n",
       "7     ma           Buy              1.5832           Buy              1.5587   \n",
       "8    mdb           Buy              1.1014           Buy              1.1538   \n",
       "9   msft           Buy              7.4923           Buy              7.7734   \n",
       "10    mu           Buy              2.6430           Buy              3.8840   \n",
       "11   nee           Buy              2.2917           Buy              1.9732   \n",
       "12   nio           Buy              1.2538           Buy              1.1518   \n",
       "13  nvda           Buy              5.1602           Buy              6.3070   \n",
       "14  pacb           Buy              1.7272           Buy              1.7443   \n",
       "\n",
       "      5_Day_Pred  5_Day_Model_Return  Actual_Returns  \n",
       "0            Buy              1.0675          0.7434  \n",
       "1   Hold or Sell              1.5854         -0.1545  \n",
       "2   Hold or Sell              3.1936         10.7320  \n",
       "3            Buy              1.3587         32.6147  \n",
       "4            Buy              3.3702        181.0019  \n",
       "5            Buy              2.1283         10.1775  \n",
       "6   Hold or Sell              1.5131         21.2513  \n",
       "7            Buy              1.4132         23.4806  \n",
       "8            Buy              0.9539          5.3707  \n",
       "9            Buy              6.9722        327.7426  \n",
       "10           Buy              2.6929         91.4261  \n",
       "11           Buy              2.3443        264.4335  \n",
       "12           Buy              1.2025          6.4195  \n",
       "13           Buy              4.6351        129.6324  \n",
       "14           Buy              1.6834         12.6444  "
      ]
     },
     "execution_count": 31,
     "metadata": {},
     "output_type": "execute_result"
    }
   ],
   "source": [
    "summary_df = a.pred_summary_df(start_dates2, stocks = [x for x in start_dates2], days_back = 1)\n",
    "summary_df"
   ]
  },
  {
   "cell_type": "code",
   "execution_count": 32,
   "metadata": {},
   "outputs": [
    {
     "data": {
      "text/plain": [
       "(1.9303, 1.9732, 1.6834, 21.2513)"
      ]
     },
     "execution_count": 32,
     "metadata": {},
     "output_type": "execute_result"
    }
   ],
   "source": [
    "summary_df['1_Day_Model_Return'].median(), summary_df['3_Day_Model_Return'].median(), summary_df['5_Day_Model_Return'].median(), summary_df['Actual_Returns'].median()"
   ]
  },
  {
   "cell_type": "code",
   "execution_count": null,
   "metadata": {},
   "outputs": [],
   "source": []
  },
  {
   "cell_type": "code",
   "execution_count": 33,
   "metadata": {
    "scrolled": false
   },
   "outputs": [
    {
     "data": {
      "text/html": [
       "<div>\n",
       "<style scoped>\n",
       "    .dataframe tbody tr th:only-of-type {\n",
       "        vertical-align: middle;\n",
       "    }\n",
       "\n",
       "    .dataframe tbody tr th {\n",
       "        vertical-align: top;\n",
       "    }\n",
       "\n",
       "    .dataframe thead th {\n",
       "        text-align: right;\n",
       "    }\n",
       "</style>\n",
       "<table border=\"1\" class=\"dataframe\">\n",
       "  <thead>\n",
       "    <tr style=\"text-align: right;\">\n",
       "      <th></th>\n",
       "      <th>stock</th>\n",
       "      <th>1_Day_Pred</th>\n",
       "      <th>1_Day_Model_Return</th>\n",
       "      <th>3_Day_Pred</th>\n",
       "      <th>3_Day_Model_Return</th>\n",
       "      <th>5_Day_Pred</th>\n",
       "      <th>5_Day_Model_Return</th>\n",
       "      <th>Actual_Returns</th>\n",
       "    </tr>\n",
       "  </thead>\n",
       "  <tbody>\n",
       "    <tr>\n",
       "      <th>0</th>\n",
       "      <td>pypl</td>\n",
       "      <td>Buy</td>\n",
       "      <td>1.0014</td>\n",
       "      <td>Buy</td>\n",
       "      <td>1.2008</td>\n",
       "      <td>Buy</td>\n",
       "      <td>1.2622</td>\n",
       "      <td>6.6704</td>\n",
       "    </tr>\n",
       "    <tr>\n",
       "      <th>1</th>\n",
       "      <td>qgen</td>\n",
       "      <td>Buy</td>\n",
       "      <td>1.3933</td>\n",
       "      <td>Buy</td>\n",
       "      <td>1.4922</td>\n",
       "      <td>Buy</td>\n",
       "      <td>1.6572</td>\n",
       "      <td>0.4338</td>\n",
       "    </tr>\n",
       "    <tr>\n",
       "      <th>2</th>\n",
       "      <td>run</td>\n",
       "      <td>Buy</td>\n",
       "      <td>1.0577</td>\n",
       "      <td>Buy</td>\n",
       "      <td>1.0008</td>\n",
       "      <td>Buy</td>\n",
       "      <td>0.9474</td>\n",
       "      <td>8.4106</td>\n",
       "    </tr>\n",
       "    <tr>\n",
       "      <th>3</th>\n",
       "      <td>okta</td>\n",
       "      <td>Buy</td>\n",
       "      <td>0.9341</td>\n",
       "      <td>Buy</td>\n",
       "      <td>1.1182</td>\n",
       "      <td>Buy</td>\n",
       "      <td>1.2408</td>\n",
       "      <td>7.9466</td>\n",
       "    </tr>\n",
       "    <tr>\n",
       "      <th>4</th>\n",
       "      <td>orcl</td>\n",
       "      <td>Hold or Sell</td>\n",
       "      <td>2.4069</td>\n",
       "      <td>Hold or Sell</td>\n",
       "      <td>2.7269</td>\n",
       "      <td>Hold or Sell</td>\n",
       "      <td>2.7552</td>\n",
       "      <td>473.9243</td>\n",
       "    </tr>\n",
       "    <tr>\n",
       "      <th>5</th>\n",
       "      <td>qqq</td>\n",
       "      <td>Buy</td>\n",
       "      <td>2.3501</td>\n",
       "      <td>Buy</td>\n",
       "      <td>2.1487</td>\n",
       "      <td>Buy</td>\n",
       "      <td>2.3542</td>\n",
       "      <td>15.6996</td>\n",
       "    </tr>\n",
       "    <tr>\n",
       "      <th>6</th>\n",
       "      <td>srpt</td>\n",
       "      <td>Hold or Sell</td>\n",
       "      <td>0.5637</td>\n",
       "      <td>Hold or Sell</td>\n",
       "      <td>2.3571</td>\n",
       "      <td>Hold or Sell</td>\n",
       "      <td>0.8762</td>\n",
       "      <td>1.1839</td>\n",
       "    </tr>\n",
       "    <tr>\n",
       "      <th>7</th>\n",
       "      <td>tpic</td>\n",
       "      <td>Buy</td>\n",
       "      <td>0.9081</td>\n",
       "      <td>Buy</td>\n",
       "      <td>0.9081</td>\n",
       "      <td>Buy</td>\n",
       "      <td>1.0633</td>\n",
       "      <td>1.6828</td>\n",
       "    </tr>\n",
       "    <tr>\n",
       "      <th>8</th>\n",
       "      <td>tsla</td>\n",
       "      <td>Buy</td>\n",
       "      <td>4.1199</td>\n",
       "      <td>Buy</td>\n",
       "      <td>2.3982</td>\n",
       "      <td>Buy</td>\n",
       "      <td>3.1662</td>\n",
       "      <td>103.1652</td>\n",
       "    </tr>\n",
       "    <tr>\n",
       "      <th>9</th>\n",
       "      <td>v</td>\n",
       "      <td>Buy</td>\n",
       "      <td>1.7349</td>\n",
       "      <td>Buy</td>\n",
       "      <td>1.7713</td>\n",
       "      <td>Buy</td>\n",
       "      <td>2.0421</td>\n",
       "      <td>10.0783</td>\n",
       "    </tr>\n",
       "    <tr>\n",
       "      <th>10</th>\n",
       "      <td>vbiv</td>\n",
       "      <td>Buy</td>\n",
       "      <td>2.2653</td>\n",
       "      <td>Buy</td>\n",
       "      <td>2.7357</td>\n",
       "      <td>Buy</td>\n",
       "      <td>4.2279</td>\n",
       "      <td>-0.9285</td>\n",
       "    </tr>\n",
       "    <tr>\n",
       "      <th>11</th>\n",
       "      <td>vbr</td>\n",
       "      <td>Hold or Sell</td>\n",
       "      <td>1.6930</td>\n",
       "      <td>Hold or Sell</td>\n",
       "      <td>1.5437</td>\n",
       "      <td>Hold or Sell</td>\n",
       "      <td>1.7570</td>\n",
       "      <td>2.5229</td>\n",
       "    </tr>\n",
       "    <tr>\n",
       "      <th>12</th>\n",
       "      <td>viov</td>\n",
       "      <td>Hold or Sell</td>\n",
       "      <td>1.7430</td>\n",
       "      <td>Hold or Sell</td>\n",
       "      <td>1.5713</td>\n",
       "      <td>Hold or Sell</td>\n",
       "      <td>1.6453</td>\n",
       "      <td>2.3174</td>\n",
       "    </tr>\n",
       "    <tr>\n",
       "      <th>13</th>\n",
       "      <td>vgt</td>\n",
       "      <td>Buy</td>\n",
       "      <td>2.4008</td>\n",
       "      <td>Buy</td>\n",
       "      <td>2.5453</td>\n",
       "      <td>Buy</td>\n",
       "      <td>2.2991</td>\n",
       "      <td>8.3344</td>\n",
       "    </tr>\n",
       "    <tr>\n",
       "      <th>14</th>\n",
       "      <td>xlk</td>\n",
       "      <td>Buy</td>\n",
       "      <td>2.6608</td>\n",
       "      <td>Buy</td>\n",
       "      <td>2.7163</td>\n",
       "      <td>Buy</td>\n",
       "      <td>2.4625</td>\n",
       "      <td>10.4143</td>\n",
       "    </tr>\n",
       "  </tbody>\n",
       "</table>\n",
       "</div>"
      ],
      "text/plain": [
       "   stock    1_Day_Pred  1_Day_Model_Return    3_Day_Pred  3_Day_Model_Return  \\\n",
       "0   pypl           Buy              1.0014           Buy              1.2008   \n",
       "1   qgen           Buy              1.3933           Buy              1.4922   \n",
       "2    run           Buy              1.0577           Buy              1.0008   \n",
       "3   okta           Buy              0.9341           Buy              1.1182   \n",
       "4   orcl  Hold or Sell              2.4069  Hold or Sell              2.7269   \n",
       "5    qqq           Buy              2.3501           Buy              2.1487   \n",
       "6   srpt  Hold or Sell              0.5637  Hold or Sell              2.3571   \n",
       "7   tpic           Buy              0.9081           Buy              0.9081   \n",
       "8   tsla           Buy              4.1199           Buy              2.3982   \n",
       "9      v           Buy              1.7349           Buy              1.7713   \n",
       "10  vbiv           Buy              2.2653           Buy              2.7357   \n",
       "11   vbr  Hold or Sell              1.6930  Hold or Sell              1.5437   \n",
       "12  viov  Hold or Sell              1.7430  Hold or Sell              1.5713   \n",
       "13   vgt           Buy              2.4008           Buy              2.5453   \n",
       "14   xlk           Buy              2.6608           Buy              2.7163   \n",
       "\n",
       "      5_Day_Pred  5_Day_Model_Return  Actual_Returns  \n",
       "0            Buy              1.2622          6.6704  \n",
       "1            Buy              1.6572          0.4338  \n",
       "2            Buy              0.9474          8.4106  \n",
       "3            Buy              1.2408          7.9466  \n",
       "4   Hold or Sell              2.7552        473.9243  \n",
       "5            Buy              2.3542         15.6996  \n",
       "6   Hold or Sell              0.8762          1.1839  \n",
       "7            Buy              1.0633          1.6828  \n",
       "8            Buy              3.1662        103.1652  \n",
       "9            Buy              2.0421         10.0783  \n",
       "10           Buy              4.2279         -0.9285  \n",
       "11  Hold or Sell              1.7570          2.5229  \n",
       "12  Hold or Sell              1.6453          2.3174  \n",
       "13           Buy              2.2991          8.3344  \n",
       "14           Buy              2.4625         10.4143  "
      ]
     },
     "execution_count": 33,
     "metadata": {},
     "output_type": "execute_result"
    }
   ],
   "source": [
    "summary_df = a.pred_summary_df(start_dates3, stocks = [x for x in start_dates3], days_back = 1)\n",
    "summary_df"
   ]
  },
  {
   "cell_type": "code",
   "execution_count": 34,
   "metadata": {},
   "outputs": [
    {
     "data": {
      "text/plain": [
       "(1.7349, 1.7713, 1.757, 7.9466)"
      ]
     },
     "execution_count": 34,
     "metadata": {},
     "output_type": "execute_result"
    }
   ],
   "source": [
    "summary_df['1_Day_Model_Return'].median(), summary_df['3_Day_Model_Return'].median(), summary_df['5_Day_Model_Return'].median(), summary_df['Actual_Returns'].median()"
   ]
  },
  {
   "cell_type": "code",
   "execution_count": null,
   "metadata": {},
   "outputs": [],
   "source": []
  },
  {
   "cell_type": "code",
   "execution_count": null,
   "metadata": {},
   "outputs": [],
   "source": []
  },
  {
   "cell_type": "code",
   "execution_count": null,
   "metadata": {},
   "outputs": [],
   "source": [
    "    "
   ]
  },
  {
   "cell_type": "code",
   "execution_count": null,
   "metadata": {},
   "outputs": [],
   "source": []
  }
 ],
 "metadata": {
  "kernelspec": {
   "display_name": "Python 3",
   "language": "python",
   "name": "python3"
  },
  "language_info": {
   "codemirror_mode": {
    "name": "ipython",
    "version": 3
   },
   "file_extension": ".py",
   "mimetype": "text/x-python",
   "name": "python",
   "nbconvert_exporter": "python",
   "pygments_lexer": "ipython3",
   "version": "3.8.10"
  }
 },
 "nbformat": 4,
 "nbformat_minor": 4
}
