{
 "cells": [
  {
   "cell_type": "code",
   "execution_count": 1,
   "metadata": {
    "scrolled": true
   },
   "outputs": [],
   "source": [
    "from src import attributes as a\n",
    "%load_ext autoreload\n",
    "%autoreload 2"
   ]
  },
  {
   "cell_type": "code",
   "execution_count": 2,
   "metadata": {},
   "outputs": [],
   "source": [
    "# Global Variables\n",
    "stock_name = 'msft' # ticker symbol\n",
    "train = 0 # 1 for train, 0 for pass\n",
    "days_ahead = 1 # for predicting 1, 3, or 5 days ahead\n",
    "days_back = -1 # -1 for current data point, -2 for two days ago, etc...\n",
    "cv = 5 # number of cross validation folds\n",
    "model_name = 'Random Forest Classifier' # for display on charts, not a tuning parameter"
   ]
  },
  {
   "cell_type": "code",
   "execution_count": 3,
   "metadata": {},
   "outputs": [],
   "source": [
    "# Extract, Transform, Load, and Train Test Split\n",
    "# Dictionary of IPO Dates\n",
    "start_dates = {'a': '11/15/1999' # Updated 1/17/21 1D, 3D, 5D ahead\n",
    "               , 'aapl':'12/12/1980' # Updated 1/17/21 1D, 3D, 5D ahead\n",
    "               , 'acy': '01/18/1998' # Updated 1/17/21 1D, 3D, 5D ahead\n",
    "               , 'adbe': '08/11/1986' # Updated 1/17/21 1D, 3D, 5D ahead\n",
    "               , 'alb': '02/21/1994' # Updated 1/17/21 1D, 3D, 5D ahead\n",
    "               , 'amat': '03/16/1980' # Updated 1/17/21 1D, 3D, 5D ahead\n",
    "               , 'amd': '03/17/1980' # Updated 1/17/21 1D, 3D, 5D ahead\n",
    "               , 'amgn': '06/13/1983' # Updated 2/5/21 1D, 3D, 5D ahead\n",
    "               , 'amzn': '05/12/1997' # Updated 1/17/21 1D, 3D, 5D ahead\n",
    "               , 'baba': '09/15/2014' # Updated 1/17/21 1D, 3D, 5D ahead\n",
    "               , 'bac': '02/19/1973' # Updated 1/17/21 1D, 3D, 5D ahead\n",
    "               , 'bpmc': '04/27/2015' # Updated 1/17/21 1D, 3D, 5D ahead\n",
    "               , 'crm': '06/23/2004' # Updated 1/17/21 1D, 3D, 5D ahead\n",
    "               , 'crsp': '10/16/2016' # Updated 1/17/21 1D, 3D, 5D ahead\n",
    "               , 'dq': '10/04/2010' # Updated 1/17/21 1D, 3D, 5D ahead\n",
    "               , 'esgv': '09/16/2018' # Updated 1/17/21 1D, 3D, 5D ahead\n",
    "               , 'fslr': '11/12/2006' # Updated 1/17/21 1D, 3D, 5D ahead\n",
    "               , 'goog': '08/16/2004' # Updated 1/17/21 1D, 3D, 5D ahead\n",
    "               , 'ibm': '01/02/1962' # Updated 1/17/21 1D, 3D, 5D ahead\n",
    "               , 'intc': '03/16/1980' # Updated 1/17/21 1D, 3D, 5D ahead\n",
    "               , 'iyw': '05/15/2000' # Updated 1/17/21 1D, 3D, 5D ahead\n",
    "               , 'lng': '04/04/1994' # Updated 1/17/21 1D, 3D, 5D ahead\n",
    "               , 'ma': '05/21/2006' # Updated 1/17/21 1D, 3D, 5D ahead\n",
    "               , 'mdb': '10/15/2017' # Updated 1/17/21 1D, 3D, 5D ahead\n",
    "               , 'msft': '03/10/1986' # Updated 1/17/21 1D, 3D, 5D ahead\n",
    "               , 'mu': '05/28/1984' # Updated 1/17/21 1D, 3D, 5D ahead\n",
    "               , 'nee': '02/19/1973' # Updated 1/17/21 1D, 3D, 5D ahead\n",
    "               , 'nga': '10/08/2020' # Updated 1/17/21 1D, 3D, 5D ahead\n",
    "               , 'nio': '09/10/2018' # Updated 1/17/21 1D, 3D, 5D ahead\n",
    "               , 'nvda': '01/22/1999' # Updated 1/17/21 1D, 3D, 5D ahead\n",
    "               , 'pacb': '10/25/2010' # Updated 1/17/21 1D, 3D, 5D ahead\n",
    "               , 'pypl': '07/05/2015' # Updated 1/17/21 1D, 3D, 5D ahead\n",
    "               , 'qgen': '06/24/1996' # Updated 1/17/21 1D, 3D, 5D ahead\n",
    "               , 'run': '08/02/2015' # Updated 1/17/21 1D, 3D, 5D ahead\n",
    "               , 'orcl': '03/10/1986' # Updated 1/17/21 1D, 3D, 5D ahead\n",
    "               , 'qqq': '03/08/1999' # Updated 1/17/21 1D, 3D, 5D ahead\n",
    "               , 'srpt': '06/02/1997' # Updated 1/17/21 1D, 3D, 5D ahead\n",
    "               , 'tpic': '07/17/2016' # Updated 1/17/21 1D, 3D, 5D ahead\n",
    "               , 'tsla': '06/29/2010' # Updated 1/17/21 1D, 3D, 5D ahead\n",
    "               , 'v': '03/16/2008' # Updated 1/17/21 1D, 3D, 5D ahead\n",
    "               , 'vbiv': '09/04/2002' # Updated 1/17/21 1D, 3D, 5D ahead\n",
    "               , 'vbr': '01/26/2004' # Updated 1/17/21 1D, 3D, 5D ahead\n",
    "               , 'viov': '09/06/2010' # Updated 1/17/21 1D, 3D, 5D ahead\n",
    "               , 'vgt': '01/26/2004' # Updated 1/17/21 1D, 3D, 5D ahead\n",
    "               , 'xlk': '12/21/1998' # Updated 1/17/21 1D, 3D, 5D ahead\n",
    "              }"
   ]
  },
  {
   "cell_type": "code",
   "execution_count": null,
   "metadata": {},
   "outputs": [],
   "source": []
  },
  {
   "cell_type": "code",
   "execution_count": null,
   "metadata": {},
   "outputs": [],
   "source": []
  },
  {
   "cell_type": "code",
   "execution_count": null,
   "metadata": {},
   "outputs": [],
   "source": []
  },
  {
   "cell_type": "code",
   "execution_count": 4,
   "metadata": {},
   "outputs": [],
   "source": [
    "# X_train, X_test, y_train, y_test, stock_df = a.data(stock_name, start_dates[stock_name], days_ahead)\n",
    "# stock_df.tail(10)"
   ]
  },
  {
   "cell_type": "code",
   "execution_count": 5,
   "metadata": {
    "scrolled": false
   },
   "outputs": [],
   "source": [
    "# GridSerach to find best hyperparameters to prevent overfitting, can be commented out once trained\n",
    "# if train == 1:\n",
    "#     a.rfc_GridSearch(X_train, y_train, stock_name, days_ahead, cv)\n",
    "# elif train == 0:\n",
    "#     pass"
   ]
  },
  {
   "cell_type": "code",
   "execution_count": 6,
   "metadata": {},
   "outputs": [],
   "source": [
    "# Load RandomForextClassifier Model\n",
    "# rfc_model, y_pred, y_probs = a.rfc(X_train, X_test, y_train, stock_name, days_ahead)"
   ]
  },
  {
   "cell_type": "code",
   "execution_count": 7,
   "metadata": {
    "scrolled": false
   },
   "outputs": [],
   "source": [
    "# ROC Curve\n",
    "# a.roc_plot(y_test, y_probs, stock_name, model_name)"
   ]
  },
  {
   "cell_type": "code",
   "execution_count": 8,
   "metadata": {
    "scrolled": false
   },
   "outputs": [],
   "source": [
    "# Precision Recall Curve\n",
    "# a.prec_recall(y_test, y_probs, stock_name, model_name)"
   ]
  },
  {
   "cell_type": "code",
   "execution_count": 9,
   "metadata": {
    "scrolled": false
   },
   "outputs": [],
   "source": [
    "# Confusion Matrix\n",
    "# a.confusion_matrix(rfc_model, X_test, y_test, stock_name)"
   ]
  },
  {
   "cell_type": "code",
   "execution_count": 10,
   "metadata": {},
   "outputs": [],
   "source": [
    "# Cross Validation\n",
    "# a.cross_validation(rfc_model\n",
    "#                    , stock_df[['oc', 'hl', '5stdev_adj', '5sma_adj']]\n",
    "#                    , stock_df['direction']\n",
    "#                    , cv = 5\n",
    "#                   )"
   ]
  },
  {
   "cell_type": "markdown",
   "metadata": {},
   "source": [
    "### Prediction..."
   ]
  },
  {
   "cell_type": "code",
   "execution_count": 11,
   "metadata": {
    "scrolled": true
   },
   "outputs": [],
   "source": [
    "# Prediction, use last day of data\n",
    "# stock_df.iloc[-1]"
   ]
  },
  {
   "cell_type": "code",
   "execution_count": 12,
   "metadata": {},
   "outputs": [],
   "source": [
    "# import numpy as np\n",
    "# last = stock_df[['oc', 'hl', '5stdev_adj', '5sma_adj']].iloc[-days_back]\n",
    "# last"
   ]
  },
  {
   "cell_type": "code",
   "execution_count": 13,
   "metadata": {},
   "outputs": [],
   "source": [
    "# stock_df['adj'].describe()"
   ]
  },
  {
   "cell_type": "code",
   "execution_count": 14,
   "metadata": {
    "scrolled": true
   },
   "outputs": [],
   "source": [
    "# if rfc_model.predict(np.array(last).reshape(1, -1))[0] == 1:\n",
    "#     print(f'Buy {stock_name} {days_ahead} day(s) ahead')\n",
    "# else:\n",
    "#     print(f'Sell or hold {stock_name} {days_ahead} day(s) ahead')"
   ]
  },
  {
   "cell_type": "markdown",
   "metadata": {},
   "source": [
    "### Strategy Returns..."
   ]
  },
  {
   "cell_type": "code",
   "execution_count": 15,
   "metadata": {},
   "outputs": [],
   "source": [
    "# returns on strategy column\n",
    "# stock_df['prediction'] = rfc_model.predict(stock_df[['oc', 'hl', '5stdev_adj', '5sma_adj']])\n",
    "# stock_df['returns'] = stock_df['adj'].shift(-1, fill_value = stock_df['adj'].median()) * stock_df['prediction']"
   ]
  },
  {
   "cell_type": "code",
   "execution_count": 16,
   "metadata": {},
   "outputs": [],
   "source": [
    "# stock_df.tail(5)"
   ]
  },
  {
   "cell_type": "code",
   "execution_count": 17,
   "metadata": {},
   "outputs": [],
   "source": [
    "# Don't trade every day!\n",
    "# import matplotlib.pyplot as plt\n",
    "# test_length = len(y_test)\n",
    "# (stock_df['returns'][-test_length:] + 1).cumprod().plot()\n",
    "# plt.title(f'{stock_name} Expected Returns %');"
   ]
  },
  {
   "cell_type": "code",
   "execution_count": 18,
   "metadata": {},
   "outputs": [],
   "source": [
    "# Model returns if bought on predictions of 1\n",
    "# returns_on_ones = []\n",
    "# for idx in range(-test_length, 0):\n",
    "#     if stock_df['prediction'][idx] == 1:\n",
    "#         returns_on_ones.append(1 + stock_df['returns'][idx])\n",
    "\n",
    "# returns = 1\n",
    "# for x in returns_on_ones:\n",
    "#     returns *= x\n",
    "# returns"
   ]
  },
  {
   "cell_type": "code",
   "execution_count": 19,
   "metadata": {},
   "outputs": [],
   "source": [
    "# multiple times original investment, not bad but..."
   ]
  },
  {
   "cell_type": "code",
   "execution_count": 20,
   "metadata": {},
   "outputs": [],
   "source": [
    "# If purchased in 2012 and left it until now\n",
    "# test_idx = int(len(stock_df)*0.75)\n",
    "# (stock_df['Close'][-1] - stock_df['Close'][-test_idx]) / stock_df['Close'][-test_idx]"
   ]
  },
  {
   "cell_type": "code",
   "execution_count": 21,
   "metadata": {},
   "outputs": [],
   "source": [
    "# Buy and hold strategy beats RandomForestClassifier in this study\n",
    "\n",
    "# Special thanks to Shagufta Tahsildar at https://blog.quantinsti.com/random-forest-algorithm-in-python/"
   ]
  },
  {
   "cell_type": "code",
   "execution_count": null,
   "metadata": {},
   "outputs": [],
   "source": []
  },
  {
   "cell_type": "code",
   "execution_count": null,
   "metadata": {},
   "outputs": [],
   "source": []
  },
  {
   "cell_type": "code",
   "execution_count": null,
   "metadata": {},
   "outputs": [],
   "source": []
  },
  {
   "cell_type": "markdown",
   "metadata": {},
   "source": [
    "### Training"
   ]
  },
  {
   "cell_type": "markdown",
   "metadata": {},
   "source": [
    "Training is done once a week on Saturday and Sunday"
   ]
  },
  {
   "cell_type": "code",
   "execution_count": 22,
   "metadata": {},
   "outputs": [
    {
     "data": {
      "text/plain": [
       "45"
      ]
     },
     "execution_count": 22,
     "metadata": {},
     "output_type": "execute_result"
    }
   ],
   "source": [
    "len(start_dates)"
   ]
  },
  {
   "cell_type": "code",
   "execution_count": 23,
   "metadata": {},
   "outputs": [
    {
     "data": {
      "text/plain": [
       "{'a': '11/15/1999',\n",
       " 'aapl': '12/12/1980',\n",
       " 'acy': '01/18/1998',\n",
       " 'adbe': '08/11/1986',\n",
       " 'alb': '02/21/1994',\n",
       " 'amat': '03/16/1980',\n",
       " 'amd': '03/17/1980',\n",
       " 'amgn': '06/13/1983',\n",
       " 'amzn': '05/12/1997',\n",
       " 'baba': '09/15/2014',\n",
       " 'bac': '02/19/1973',\n",
       " 'bpmc': '04/27/2015',\n",
       " 'crm': '06/23/2004',\n",
       " 'crsp': '10/16/2016',\n",
       " 'dq': '10/04/2010'}"
      ]
     },
     "execution_count": 23,
     "metadata": {},
     "output_type": "execute_result"
    }
   ],
   "source": [
    "import itertools as itr\n",
    "start_dates1 = dict(itr.islice(start_dates.items(), 0, 15))\n",
    "start_dates1"
   ]
  },
  {
   "cell_type": "code",
   "execution_count": 24,
   "metadata": {},
   "outputs": [
    {
     "data": {
      "text/plain": [
       "{'esgv': '09/16/2018',\n",
       " 'fslr': '11/12/2006',\n",
       " 'goog': '08/16/2004',\n",
       " 'ibm': '01/02/1962',\n",
       " 'intc': '03/16/1980',\n",
       " 'iyw': '05/15/2000',\n",
       " 'lng': '04/04/1994',\n",
       " 'ma': '05/21/2006',\n",
       " 'mdb': '10/15/2017',\n",
       " 'msft': '03/10/1986',\n",
       " 'mu': '05/28/1984',\n",
       " 'nee': '02/19/1973',\n",
       " 'nga': '10/08/2020',\n",
       " 'nio': '09/10/2018',\n",
       " 'nvda': '01/22/1999'}"
      ]
     },
     "execution_count": 24,
     "metadata": {},
     "output_type": "execute_result"
    }
   ],
   "source": [
    "start_dates2 = dict(itr.islice(start_dates.items(), 15, 30))\n",
    "start_dates2"
   ]
  },
  {
   "cell_type": "code",
   "execution_count": 25,
   "metadata": {},
   "outputs": [
    {
     "data": {
      "text/plain": [
       "{'pacb': '10/25/2010',\n",
       " 'pypl': '07/05/2015',\n",
       " 'qgen': '06/24/1996',\n",
       " 'run': '08/02/2015',\n",
       " 'orcl': '03/10/1986',\n",
       " 'qqq': '03/08/1999',\n",
       " 'srpt': '06/02/1997',\n",
       " 'tpic': '07/17/2016',\n",
       " 'tsla': '06/29/2010',\n",
       " 'v': '03/16/2008',\n",
       " 'vbiv': '09/04/2002',\n",
       " 'vbr': '01/26/2004',\n",
       " 'viov': '09/06/2010',\n",
       " 'vgt': '01/26/2004',\n",
       " 'xlk': '12/21/1998'}"
      ]
     },
     "execution_count": 25,
     "metadata": {},
     "output_type": "execute_result"
    }
   ],
   "source": [
    "start_dates3 = dict(itr.islice(start_dates.items(), 30, 45+1))\n",
    "start_dates3"
   ]
  },
  {
   "cell_type": "code",
   "execution_count": 26,
   "metadata": {},
   "outputs": [],
   "source": [
    "#Train 15 at a time!\n",
    "# stocks = [x for x in start_dates1]\n",
    "# days_ahead = [1, 3, 5]\n",
    "# cv = 5\n",
    "# for stock in stocks:\n",
    "#     for days in days_ahead:\n",
    "#         X_train, X_test, y_train, y_test, stock_df = a.data(stock, start_dates[stock], days)\n",
    "#         a.rfc_GridSearch(X_train, y_train, stock, days, cv)\n",
    "# len(stocks)\n",
    "\n",
    "# stocks = [x for x in start_dates2]\n",
    "# days_ahead = [1, 3, 5]\n",
    "# cv = 5\n",
    "# for stock in stocks:\n",
    "#     for days in days_ahead:\n",
    "#         X_train, X_test, y_train, y_test, stock_df = a.data(stock, start_dates[stock], days)\n",
    "#         a.rfc_GridSearch(X_train, y_train, stock, days, cv)\n",
    "# len(stocks)\n",
    "\n",
    "# stocks = [x for x in start_dates3]\n",
    "# days_ahead = [1, 3, 5]\n",
    "# cv = 5\n",
    "# for stock in stocks:\n",
    "#     for days in days_ahead:\n",
    "#         X_train, X_test, y_train, y_test, stock_df = a.data(stock, start_dates[stock], days)\n",
    "#         a.rfc_GridSearch(X_train, y_train, stock, days, cv)\n",
    "# len(stocks)\n",
    "\n",
    "# Train all, takes 15+ hours\n",
    "# stocks = [x for x in start_dates]\n",
    "# days_ahead = [1, 3, 5]\n",
    "# cv = 5\n",
    "# for stock in stocks:\n",
    "#     for days in days_ahead:\n",
    "#         X_train, X_test, y_train, y_test, stock_df = a.data(stock, start_dates[stock], days)\n",
    "#         a.rfc_GridSearch(X_train, y_train, stock, days, cv)\n",
    "# len(stocks)\n",
    "\n",
    "# Train desired stocks...takes less time\n",
    "# stocks = ['nga']\n",
    "# days_ahead = [1, 3, 5]\n",
    "# cv = 5\n",
    "# for stock in stocks:\n",
    "#     for days in days_ahead:\n",
    "#         X_train, X_test, y_train, y_test, stock_df = a.data(stock, start_dates[stock], days)\n",
    "#         a.rfc_GridSearch(X_train, y_train, stock, days, cv)"
   ]
  },
  {
   "cell_type": "code",
   "execution_count": null,
   "metadata": {},
   "outputs": [],
   "source": []
  },
  {
   "cell_type": "code",
   "execution_count": null,
   "metadata": {},
   "outputs": [],
   "source": []
  },
  {
   "cell_type": "code",
   "execution_count": null,
   "metadata": {},
   "outputs": [],
   "source": []
  },
  {
   "cell_type": "markdown",
   "metadata": {},
   "source": [
    "### Display All Results"
   ]
  },
  {
   "cell_type": "code",
   "execution_count": 27,
   "metadata": {
    "scrolled": false
   },
   "outputs": [
    {
     "name": "stdout",
     "output_type": "stream",
     "text": [
      "Buy fslr 1 day(s) ahead\n",
      "Model Returns (x 100 for %): 2.0524\n",
      "Stock Returns (x 100 for %): -0.211\n"
     ]
    },
    {
     "data": {
      "image/png": "[encoded data removed]",
      "text/plain": [
       "<Figure size 432x288 with 1 Axes>"
      ]
     },
     "metadata": {},
     "output_type": "display_data"
    },
    {
     "data": {
      "image/png": "[encoded data removed]",
      "text/plain": [
       "<Figure size 648x504 with 1 Axes>"
      ]
     },
     "metadata": {},
     "output_type": "display_data"
    },
    {
     "data": {
      "image/png": "[encoded data removed]",
      "text/plain": [
       "<Figure size 648x504 with 1 Axes>"
      ]
     },
     "metadata": {},
     "output_type": "display_data"
    },
    {
     "data": {
      "image/png": "[encoded data removed]",
      "text/plain": [
       "<Figure size 684x612 with 2 Axes>"
      ]
     },
     "metadata": {},
     "output_type": "display_data"
    }
   ],
   "source": [
    "stock_name = 'fslr'\n",
    "a.all_func(stock_name\n",
    "           , start_dates[stock_name]\n",
    "           , days_ahead = 1\n",
    "           , model_name = model_name\n",
    "           , days_back = 1\n",
    "          )"
   ]
  },
  {
   "cell_type": "code",
   "execution_count": null,
   "metadata": {},
   "outputs": [],
   "source": []
  },
  {
   "cell_type": "code",
   "execution_count": null,
   "metadata": {},
   "outputs": [],
   "source": []
  },
  {
   "cell_type": "code",
   "execution_count": null,
   "metadata": {},
   "outputs": [],
   "source": []
  },
  {
   "cell_type": "markdown",
   "metadata": {},
   "source": [
    "### Data Frame of Predictions 1 3 5 Days"
   ]
  },
  {
   "cell_type": "code",
   "execution_count": 28,
   "metadata": {},
   "outputs": [
    {
     "name": "stdout",
     "output_type": "stream",
     "text": [
      "Today's date: 2021-02-06\n"
     ]
    }
   ],
   "source": [
    "from datetime import date\n",
    "\n",
    "today = date.today()\n",
    "print(\"Today's date:\", today)"
   ]
  },
  {
   "cell_type": "code",
   "execution_count": 29,
   "metadata": {
    "scrolled": false
   },
   "outputs": [
    {
     "data": {
      "text/html": [
       "<div>\n",
       "<style scoped>\n",
       "    .dataframe tbody tr th:only-of-type {\n",
       "        vertical-align: middle;\n",
       "    }\n",
       "\n",
       "    .dataframe tbody tr th {\n",
       "        vertical-align: top;\n",
       "    }\n",
       "\n",
       "    .dataframe thead th {\n",
       "        text-align: right;\n",
       "    }\n",
       "</style>\n",
       "<table border=\"1\" class=\"dataframe\">\n",
       "  <thead>\n",
       "    <tr style=\"text-align: right;\">\n",
       "      <th></th>\n",
       "      <th>stock</th>\n",
       "      <th>1_Day_Pred</th>\n",
       "      <th>1_Day_Model_Return</th>\n",
       "      <th>3_Day_Pred</th>\n",
       "      <th>3_Day_Model_Return</th>\n",
       "      <th>5_Day_Pred</th>\n",
       "      <th>5_Day_Model_Return</th>\n",
       "      <th>Actual_Returns</th>\n",
       "    </tr>\n",
       "  </thead>\n",
       "  <tbody>\n",
       "    <tr>\n",
       "      <th>0</th>\n",
       "      <td>a</td>\n",
       "      <td>Buy</td>\n",
       "      <td>3.5525</td>\n",
       "      <td>Buy</td>\n",
       "      <td>3.5975</td>\n",
       "      <td>Buy</td>\n",
       "      <td>3.9320</td>\n",
       "      <td>6.6265</td>\n",
       "    </tr>\n",
       "    <tr>\n",
       "      <th>1</th>\n",
       "      <td>aapl</td>\n",
       "      <td>Buy</td>\n",
       "      <td>3.3289</td>\n",
       "      <td>Buy</td>\n",
       "      <td>3.2255</td>\n",
       "      <td>Buy</td>\n",
       "      <td>3.6026</td>\n",
       "      <td>347.1165</td>\n",
       "    </tr>\n",
       "    <tr>\n",
       "      <th>2</th>\n",
       "      <td>acy</td>\n",
       "      <td>Hold or Sell</td>\n",
       "      <td>0.8376</td>\n",
       "      <td>Hold or Sell</td>\n",
       "      <td>0.9420</td>\n",
       "      <td>Hold or Sell</td>\n",
       "      <td>0.8775</td>\n",
       "      <td>2.0912</td>\n",
       "    </tr>\n",
       "    <tr>\n",
       "      <th>3</th>\n",
       "      <td>adbe</td>\n",
       "      <td>Hold or Sell</td>\n",
       "      <td>5.8880</td>\n",
       "      <td>Hold or Sell</td>\n",
       "      <td>6.7140</td>\n",
       "      <td>Hold or Sell</td>\n",
       "      <td>7.5686</td>\n",
       "      <td>100.5990</td>\n",
       "    </tr>\n",
       "    <tr>\n",
       "      <th>4</th>\n",
       "      <td>alb</td>\n",
       "      <td>Hold or Sell</td>\n",
       "      <td>1.7064</td>\n",
       "      <td>Hold or Sell</td>\n",
       "      <td>1.8157</td>\n",
       "      <td>Hold or Sell</td>\n",
       "      <td>1.7460</td>\n",
       "      <td>13.2075</td>\n",
       "    </tr>\n",
       "    <tr>\n",
       "      <th>5</th>\n",
       "      <td>amat</td>\n",
       "      <td>Buy</td>\n",
       "      <td>6.7355</td>\n",
       "      <td>Buy</td>\n",
       "      <td>8.8659</td>\n",
       "      <td>Buy</td>\n",
       "      <td>7.7804</td>\n",
       "      <td>176.8053</td>\n",
       "    </tr>\n",
       "    <tr>\n",
       "      <th>6</th>\n",
       "      <td>amd</td>\n",
       "      <td>Hold or Sell</td>\n",
       "      <td>7.0335</td>\n",
       "      <td>Hold or Sell</td>\n",
       "      <td>6.9231</td>\n",
       "      <td>Hold or Sell</td>\n",
       "      <td>8.1616</td>\n",
       "      <td>15.3535</td>\n",
       "    </tr>\n",
       "    <tr>\n",
       "      <th>7</th>\n",
       "      <td>amgn</td>\n",
       "      <td>Buy</td>\n",
       "      <td>4.5303</td>\n",
       "      <td>Buy</td>\n",
       "      <td>4.7052</td>\n",
       "      <td>Buy</td>\n",
       "      <td>5.3908</td>\n",
       "      <td>26.4491</td>\n",
       "    </tr>\n",
       "    <tr>\n",
       "      <th>8</th>\n",
       "      <td>amzn</td>\n",
       "      <td>Hold or Sell</td>\n",
       "      <td>3.2153</td>\n",
       "      <td>Hold or Sell</td>\n",
       "      <td>3.0646</td>\n",
       "      <td>Hold or Sell</td>\n",
       "      <td>5.4325</td>\n",
       "      <td>115.8404</td>\n",
       "    </tr>\n",
       "    <tr>\n",
       "      <th>9</th>\n",
       "      <td>baba</td>\n",
       "      <td>Hold or Sell</td>\n",
       "      <td>1.4063</td>\n",
       "      <td>Hold or Sell</td>\n",
       "      <td>1.2325</td>\n",
       "      <td>Hold or Sell</td>\n",
       "      <td>1.2175</td>\n",
       "      <td>2.4678</td>\n",
       "    </tr>\n",
       "    <tr>\n",
       "      <th>10</th>\n",
       "      <td>bac</td>\n",
       "      <td>Buy</td>\n",
       "      <td>3.5450</td>\n",
       "      <td>Buy</td>\n",
       "      <td>5.7680</td>\n",
       "      <td>Buy</td>\n",
       "      <td>7.0399</td>\n",
       "      <td>6.0226</td>\n",
       "    </tr>\n",
       "    <tr>\n",
       "      <th>11</th>\n",
       "      <td>bpmc</td>\n",
       "      <td>Hold or Sell</td>\n",
       "      <td>1.7661</td>\n",
       "      <td>Hold or Sell</td>\n",
       "      <td>1.5846</td>\n",
       "      <td>Hold or Sell</td>\n",
       "      <td>1.3780</td>\n",
       "      <td>2.3608</td>\n",
       "    </tr>\n",
       "    <tr>\n",
       "      <th>12</th>\n",
       "      <td>crm</td>\n",
       "      <td>Hold or Sell</td>\n",
       "      <td>2.3678</td>\n",
       "      <td>Hold or Sell</td>\n",
       "      <td>1.9824</td>\n",
       "      <td>Hold or Sell</td>\n",
       "      <td>2.4395</td>\n",
       "      <td>15.9036</td>\n",
       "    </tr>\n",
       "    <tr>\n",
       "      <th>13</th>\n",
       "      <td>crsp</td>\n",
       "      <td>Hold or Sell</td>\n",
       "      <td>1.1619</td>\n",
       "      <td>Hold or Sell</td>\n",
       "      <td>0.7114</td>\n",
       "      <td>Hold or Sell</td>\n",
       "      <td>0.9747</td>\n",
       "      <td>7.8428</td>\n",
       "    </tr>\n",
       "    <tr>\n",
       "      <th>14</th>\n",
       "      <td>dq</td>\n",
       "      <td>Buy</td>\n",
       "      <td>7.0996</td>\n",
       "      <td>Buy</td>\n",
       "      <td>6.6765</td>\n",
       "      <td>Hold or Sell</td>\n",
       "      <td>9.1256</td>\n",
       "      <td>83.7748</td>\n",
       "    </tr>\n",
       "    <tr>\n",
       "      <th>15</th>\n",
       "      <td>esgv</td>\n",
       "      <td>Hold or Sell</td>\n",
       "      <td>1.1642</td>\n",
       "      <td>Hold or Sell</td>\n",
       "      <td>1.1221</td>\n",
       "      <td>Hold or Sell</td>\n",
       "      <td>1.1799</td>\n",
       "      <td>0.4293</td>\n",
       "    </tr>\n",
       "    <tr>\n",
       "      <th>16</th>\n",
       "      <td>fslr</td>\n",
       "      <td>Buy</td>\n",
       "      <td>2.3398</td>\n",
       "      <td>Buy</td>\n",
       "      <td>1.8178</td>\n",
       "      <td>Buy</td>\n",
       "      <td>1.9564</td>\n",
       "      <td>-0.2110</td>\n",
       "    </tr>\n",
       "    <tr>\n",
       "      <th>17</th>\n",
       "      <td>goog</td>\n",
       "      <td>Hold or Sell</td>\n",
       "      <td>2.5811</td>\n",
       "      <td>Hold or Sell</td>\n",
       "      <td>2.1273</td>\n",
       "      <td>Hold or Sell</td>\n",
       "      <td>3.2113</td>\n",
       "      <td>11.1723</td>\n",
       "    </tr>\n",
       "    <tr>\n",
       "      <th>18</th>\n",
       "      <td>ibm</td>\n",
       "      <td>Hold or Sell</td>\n",
       "      <td>3.6022</td>\n",
       "      <td>Hold or Sell</td>\n",
       "      <td>4.0104</td>\n",
       "      <td>Hold or Sell</td>\n",
       "      <td>4.0444</td>\n",
       "      <td>6.3742</td>\n",
       "    </tr>\n",
       "    <tr>\n",
       "      <th>19</th>\n",
       "      <td>intc</td>\n",
       "      <td>Buy</td>\n",
       "      <td>6.2749</td>\n",
       "      <td>Buy</td>\n",
       "      <td>5.9057</td>\n",
       "      <td>Buy</td>\n",
       "      <td>5.5936</td>\n",
       "      <td>37.3868</td>\n",
       "    </tr>\n",
       "    <tr>\n",
       "      <th>20</th>\n",
       "      <td>iyw</td>\n",
       "      <td>Hold or Sell</td>\n",
       "      <td>2.9199</td>\n",
       "      <td>Hold or Sell</td>\n",
       "      <td>4.4010</td>\n",
       "      <td>Hold or Sell</td>\n",
       "      <td>3.6853</td>\n",
       "      <td>6.3628</td>\n",
       "    </tr>\n",
       "    <tr>\n",
       "      <th>21</th>\n",
       "      <td>lng</td>\n",
       "      <td>Hold or Sell</td>\n",
       "      <td>1.5038</td>\n",
       "      <td>Hold or Sell</td>\n",
       "      <td>0.7384</td>\n",
       "      <td>Hold or Sell</td>\n",
       "      <td>0.8515</td>\n",
       "      <td>51.4822</td>\n",
       "    </tr>\n",
       "    <tr>\n",
       "      <th>22</th>\n",
       "      <td>ma</td>\n",
       "      <td>Buy</td>\n",
       "      <td>2.6437</td>\n",
       "      <td>Buy</td>\n",
       "      <td>2.9238</td>\n",
       "      <td>Buy</td>\n",
       "      <td>2.8552</td>\n",
       "      <td>12.6824</td>\n",
       "    </tr>\n",
       "    <tr>\n",
       "      <th>23</th>\n",
       "      <td>mdb</td>\n",
       "      <td>Hold or Sell</td>\n",
       "      <td>0.7012</td>\n",
       "      <td>Hold or Sell</td>\n",
       "      <td>1.0550</td>\n",
       "      <td>Hold or Sell</td>\n",
       "      <td>0.8737</td>\n",
       "      <td>5.0463</td>\n",
       "    </tr>\n",
       "    <tr>\n",
       "      <th>24</th>\n",
       "      <td>msft</td>\n",
       "      <td>Hold or Sell</td>\n",
       "      <td>7.9477</td>\n",
       "      <td>Hold or Sell</td>\n",
       "      <td>9.0679</td>\n",
       "      <td>Hold or Sell</td>\n",
       "      <td>8.0804</td>\n",
       "      <td>59.4320</td>\n",
       "    </tr>\n",
       "    <tr>\n",
       "      <th>25</th>\n",
       "      <td>mu</td>\n",
       "      <td>Buy</td>\n",
       "      <td>2.5301</td>\n",
       "      <td>Buy</td>\n",
       "      <td>2.8971</td>\n",
       "      <td>Buy</td>\n",
       "      <td>2.9917</td>\n",
       "      <td>17.0724</td>\n",
       "    </tr>\n",
       "    <tr>\n",
       "      <th>26</th>\n",
       "      <td>nee</td>\n",
       "      <td>Hold or Sell</td>\n",
       "      <td>4.4489</td>\n",
       "      <td>Hold or Sell</td>\n",
       "      <td>6.2799</td>\n",
       "      <td>Hold or Sell</td>\n",
       "      <td>4.8632</td>\n",
       "      <td>28.8905</td>\n",
       "    </tr>\n",
       "    <tr>\n",
       "      <th>27</th>\n",
       "      <td>nga</td>\n",
       "      <td>Buy</td>\n",
       "      <td>0.9514</td>\n",
       "      <td>Buy</td>\n",
       "      <td>0.8971</td>\n",
       "      <td>Buy</td>\n",
       "      <td>1.0619</td>\n",
       "      <td>1.5826</td>\n",
       "    </tr>\n",
       "    <tr>\n",
       "      <th>28</th>\n",
       "      <td>nio</td>\n",
       "      <td>Buy</td>\n",
       "      <td>2.2424</td>\n",
       "      <td>Buy</td>\n",
       "      <td>2.3581</td>\n",
       "      <td>Buy</td>\n",
       "      <td>2.2330</td>\n",
       "      <td>10.5183</td>\n",
       "    </tr>\n",
       "    <tr>\n",
       "      <th>29</th>\n",
       "      <td>nvda</td>\n",
       "      <td>Buy</td>\n",
       "      <td>7.8299</td>\n",
       "      <td>Buy</td>\n",
       "      <td>10.2953</td>\n",
       "      <td>Buy</td>\n",
       "      <td>13.2450</td>\n",
       "      <td>111.0137</td>\n",
       "    </tr>\n",
       "    <tr>\n",
       "      <th>30</th>\n",
       "      <td>pacb</td>\n",
       "      <td>Hold or Sell</td>\n",
       "      <td>1.8630</td>\n",
       "      <td>Hold or Sell</td>\n",
       "      <td>2.3191</td>\n",
       "      <td>Hold or Sell</td>\n",
       "      <td>2.5898</td>\n",
       "      <td>12.6679</td>\n",
       "    </tr>\n",
       "    <tr>\n",
       "      <th>31</th>\n",
       "      <td>pypl</td>\n",
       "      <td>Hold or Sell</td>\n",
       "      <td>2.8454</td>\n",
       "      <td>Hold or Sell</td>\n",
       "      <td>3.0748</td>\n",
       "      <td>Buy</td>\n",
       "      <td>2.6002</td>\n",
       "      <td>5.8595</td>\n",
       "    </tr>\n",
       "    <tr>\n",
       "      <th>32</th>\n",
       "      <td>qgen</td>\n",
       "      <td>Buy</td>\n",
       "      <td>1.9136</td>\n",
       "      <td>Buy</td>\n",
       "      <td>2.2373</td>\n",
       "      <td>Buy</td>\n",
       "      <td>2.6695</td>\n",
       "      <td>7.7063</td>\n",
       "    </tr>\n",
       "    <tr>\n",
       "      <th>33</th>\n",
       "      <td>run</td>\n",
       "      <td>Hold or Sell</td>\n",
       "      <td>1.3191</td>\n",
       "      <td>Hold or Sell</td>\n",
       "      <td>1.0269</td>\n",
       "      <td>Hold or Sell</td>\n",
       "      <td>1.4017</td>\n",
       "      <td>13.3556</td>\n",
       "    </tr>\n",
       "    <tr>\n",
       "      <th>34</th>\n",
       "      <td>orcl</td>\n",
       "      <td>Hold or Sell</td>\n",
       "      <td>2.9968</td>\n",
       "      <td>Hold or Sell</td>\n",
       "      <td>3.2848</td>\n",
       "      <td>Hold or Sell</td>\n",
       "      <td>3.3444</td>\n",
       "      <td>30.4122</td>\n",
       "    </tr>\n",
       "    <tr>\n",
       "      <th>35</th>\n",
       "      <td>qqq</td>\n",
       "      <td>Buy</td>\n",
       "      <td>2.7943</td>\n",
       "      <td>Hold or Sell</td>\n",
       "      <td>3.3968</td>\n",
       "      <td>Hold or Sell</td>\n",
       "      <td>2.3867</td>\n",
       "      <td>8.5796</td>\n",
       "    </tr>\n",
       "    <tr>\n",
       "      <th>36</th>\n",
       "      <td>srpt</td>\n",
       "      <td>Buy</td>\n",
       "      <td>1.5376</td>\n",
       "      <td>Hold or Sell</td>\n",
       "      <td>2.3652</td>\n",
       "      <td>Buy</td>\n",
       "      <td>2.1409</td>\n",
       "      <td>1.6877</td>\n",
       "    </tr>\n",
       "    <tr>\n",
       "      <th>37</th>\n",
       "      <td>tpic</td>\n",
       "      <td>Buy</td>\n",
       "      <td>1.4936</td>\n",
       "      <td>Buy</td>\n",
       "      <td>1.7323</td>\n",
       "      <td>Buy</td>\n",
       "      <td>1.9614</td>\n",
       "      <td>2.3319</td>\n",
       "    </tr>\n",
       "    <tr>\n",
       "      <th>38</th>\n",
       "      <td>tsla</td>\n",
       "      <td>Hold or Sell</td>\n",
       "      <td>4.0513</td>\n",
       "      <td>Hold or Sell</td>\n",
       "      <td>2.2339</td>\n",
       "      <td>Hold or Sell</td>\n",
       "      <td>3.2683</td>\n",
       "      <td>121.9769</td>\n",
       "    </tr>\n",
       "    <tr>\n",
       "      <th>39</th>\n",
       "      <td>v</td>\n",
       "      <td>Buy</td>\n",
       "      <td>2.8005</td>\n",
       "      <td>Buy</td>\n",
       "      <td>2.5451</td>\n",
       "      <td>Buy</td>\n",
       "      <td>2.7738</td>\n",
       "      <td>10.1552</td>\n",
       "    </tr>\n",
       "    <tr>\n",
       "      <th>40</th>\n",
       "      <td>vbiv</td>\n",
       "      <td>Hold or Sell</td>\n",
       "      <td>3.1783</td>\n",
       "      <td>Hold or Sell</td>\n",
       "      <td>1.8643</td>\n",
       "      <td>Hold or Sell</td>\n",
       "      <td>1.3677</td>\n",
       "      <td>-0.8236</td>\n",
       "    </tr>\n",
       "    <tr>\n",
       "      <th>41</th>\n",
       "      <td>vbr</td>\n",
       "      <td>Hold or Sell</td>\n",
       "      <td>1.2909</td>\n",
       "      <td>Hold or Sell</td>\n",
       "      <td>1.0793</td>\n",
       "      <td>Buy</td>\n",
       "      <td>1.6740</td>\n",
       "      <td>1.4205</td>\n",
       "    </tr>\n",
       "    <tr>\n",
       "      <th>42</th>\n",
       "      <td>viov</td>\n",
       "      <td>Hold or Sell</td>\n",
       "      <td>1.2602</td>\n",
       "      <td>Hold or Sell</td>\n",
       "      <td>1.3827</td>\n",
       "      <td>Hold or Sell</td>\n",
       "      <td>1.1955</td>\n",
       "      <td>1.0548</td>\n",
       "    </tr>\n",
       "    <tr>\n",
       "      <th>43</th>\n",
       "      <td>vgt</td>\n",
       "      <td>Buy</td>\n",
       "      <td>3.2045</td>\n",
       "      <td>Buy</td>\n",
       "      <td>3.5335</td>\n",
       "      <td>Hold or Sell</td>\n",
       "      <td>3.7961</td>\n",
       "      <td>5.6067</td>\n",
       "    </tr>\n",
       "    <tr>\n",
       "      <th>44</th>\n",
       "      <td>xlk</td>\n",
       "      <td>Buy</td>\n",
       "      <td>3.6952</td>\n",
       "      <td>Buy</td>\n",
       "      <td>4.7138</td>\n",
       "      <td>Buy</td>\n",
       "      <td>4.2750</td>\n",
       "      <td>6.0848</td>\n",
       "    </tr>\n",
       "  </tbody>\n",
       "</table>\n",
       "</div>"
      ],
      "text/plain": [
       "   stock    1_Day_Pred  1_Day_Model_Return    3_Day_Pred  3_Day_Model_Return  \\\n",
       "0      a           Buy              3.5525           Buy              3.5975   \n",
       "1   aapl           Buy              3.3289           Buy              3.2255   \n",
       "2    acy  Hold or Sell              0.8376  Hold or Sell              0.9420   \n",
       "3   adbe  Hold or Sell              5.8880  Hold or Sell              6.7140   \n",
       "4    alb  Hold or Sell              1.7064  Hold or Sell              1.8157   \n",
       "5   amat           Buy              6.7355           Buy              8.8659   \n",
       "6    amd  Hold or Sell              7.0335  Hold or Sell              6.9231   \n",
       "7   amgn           Buy              4.5303           Buy              4.7052   \n",
       "8   amzn  Hold or Sell              3.2153  Hold or Sell              3.0646   \n",
       "9   baba  Hold or Sell              1.4063  Hold or Sell              1.2325   \n",
       "10   bac           Buy              3.5450           Buy              5.7680   \n",
       "11  bpmc  Hold or Sell              1.7661  Hold or Sell              1.5846   \n",
       "12   crm  Hold or Sell              2.3678  Hold or Sell              1.9824   \n",
       "13  crsp  Hold or Sell              1.1619  Hold or Sell              0.7114   \n",
       "14    dq           Buy              7.0996           Buy              6.6765   \n",
       "15  esgv  Hold or Sell              1.1642  Hold or Sell              1.1221   \n",
       "16  fslr           Buy              2.3398           Buy              1.8178   \n",
       "17  goog  Hold or Sell              2.5811  Hold or Sell              2.1273   \n",
       "18   ibm  Hold or Sell              3.6022  Hold or Sell              4.0104   \n",
       "19  intc           Buy              6.2749           Buy              5.9057   \n",
       "20   iyw  Hold or Sell              2.9199  Hold or Sell              4.4010   \n",
       "21   lng  Hold or Sell              1.5038  Hold or Sell              0.7384   \n",
       "22    ma           Buy              2.6437           Buy              2.9238   \n",
       "23   mdb  Hold or Sell              0.7012  Hold or Sell              1.0550   \n",
       "24  msft  Hold or Sell              7.9477  Hold or Sell              9.0679   \n",
       "25    mu           Buy              2.5301           Buy              2.8971   \n",
       "26   nee  Hold or Sell              4.4489  Hold or Sell              6.2799   \n",
       "27   nga           Buy              0.9514           Buy              0.8971   \n",
       "28   nio           Buy              2.2424           Buy              2.3581   \n",
       "29  nvda           Buy              7.8299           Buy             10.2953   \n",
       "30  pacb  Hold or Sell              1.8630  Hold or Sell              2.3191   \n",
       "31  pypl  Hold or Sell              2.8454  Hold or Sell              3.0748   \n",
       "32  qgen           Buy              1.9136           Buy              2.2373   \n",
       "33   run  Hold or Sell              1.3191  Hold or Sell              1.0269   \n",
       "34  orcl  Hold or Sell              2.9968  Hold or Sell              3.2848   \n",
       "35   qqq           Buy              2.7943  Hold or Sell              3.3968   \n",
       "36  srpt           Buy              1.5376  Hold or Sell              2.3652   \n",
       "37  tpic           Buy              1.4936           Buy              1.7323   \n",
       "38  tsla  Hold or Sell              4.0513  Hold or Sell              2.2339   \n",
       "39     v           Buy              2.8005           Buy              2.5451   \n",
       "40  vbiv  Hold or Sell              3.1783  Hold or Sell              1.8643   \n",
       "41   vbr  Hold or Sell              1.2909  Hold or Sell              1.0793   \n",
       "42  viov  Hold or Sell              1.2602  Hold or Sell              1.3827   \n",
       "43   vgt           Buy              3.2045           Buy              3.5335   \n",
       "44   xlk           Buy              3.6952           Buy              4.7138   \n",
       "\n",
       "      5_Day_Pred  5_Day_Model_Return  Actual_Returns  \n",
       "0            Buy              3.9320          6.6265  \n",
       "1            Buy              3.6026        347.1165  \n",
       "2   Hold or Sell              0.8775          2.0912  \n",
       "3   Hold or Sell              7.5686        100.5990  \n",
       "4   Hold or Sell              1.7460         13.2075  \n",
       "5            Buy              7.7804        176.8053  \n",
       "6   Hold or Sell              8.1616         15.3535  \n",
       "7            Buy              5.3908         26.4491  \n",
       "8   Hold or Sell              5.4325        115.8404  \n",
       "9   Hold or Sell              1.2175          2.4678  \n",
       "10           Buy              7.0399          6.0226  \n",
       "11  Hold or Sell              1.3780          2.3608  \n",
       "12  Hold or Sell              2.4395         15.9036  \n",
       "13  Hold or Sell              0.9747          7.8428  \n",
       "14  Hold or Sell              9.1256         83.7748  \n",
       "15  Hold or Sell              1.1799          0.4293  \n",
       "16           Buy              1.9564         -0.2110  \n",
       "17  Hold or Sell              3.2113         11.1723  \n",
       "18  Hold or Sell              4.0444          6.3742  \n",
       "19           Buy              5.5936         37.3868  \n",
       "20  Hold or Sell              3.6853          6.3628  \n",
       "21  Hold or Sell              0.8515         51.4822  \n",
       "22           Buy              2.8552         12.6824  \n",
       "23  Hold or Sell              0.8737          5.0463  \n",
       "24  Hold or Sell              8.0804         59.4320  \n",
       "25           Buy              2.9917         17.0724  \n",
       "26  Hold or Sell              4.8632         28.8905  \n",
       "27           Buy              1.0619          1.5826  \n",
       "28           Buy              2.2330         10.5183  \n",
       "29           Buy             13.2450        111.0137  \n",
       "30  Hold or Sell              2.5898         12.6679  \n",
       "31           Buy              2.6002          5.8595  \n",
       "32           Buy              2.6695          7.7063  \n",
       "33  Hold or Sell              1.4017         13.3556  \n",
       "34  Hold or Sell              3.3444         30.4122  \n",
       "35  Hold or Sell              2.3867          8.5796  \n",
       "36           Buy              2.1409          1.6877  \n",
       "37           Buy              1.9614          2.3319  \n",
       "38  Hold or Sell              3.2683        121.9769  \n",
       "39           Buy              2.7738         10.1552  \n",
       "40  Hold or Sell              1.3677         -0.8236  \n",
       "41           Buy              1.6740          1.4205  \n",
       "42  Hold or Sell              1.1955          1.0548  \n",
       "43  Hold or Sell              3.7961          5.6067  \n",
       "44           Buy              4.2750          6.0848  "
      ]
     },
     "execution_count": 29,
     "metadata": {},
     "output_type": "execute_result"
    }
   ],
   "source": [
    "summary_df = a.pred_summary_df(start_dates, stocks = [x for x in start_dates], days_back = 1)\n",
    "summary_df"
   ]
  },
  {
   "cell_type": "code",
   "execution_count": 30,
   "metadata": {},
   "outputs": [
    {
     "data": {
      "text/plain": [
       "(2.7943, 2.5451, 2.7738, 10.1552)"
      ]
     },
     "execution_count": 30,
     "metadata": {},
     "output_type": "execute_result"
    }
   ],
   "source": [
    "summary_df['1_Day_Model_Return'].median(), summary_df['3_Day_Model_Return'].median(), summary_df['5_Day_Model_Return'].median(), summary_df['Actual_Returns'].median()"
   ]
  },
  {
   "cell_type": "code",
   "execution_count": null,
   "metadata": {},
   "outputs": [],
   "source": []
  },
  {
   "cell_type": "code",
   "execution_count": null,
   "metadata": {},
   "outputs": [],
   "source": []
  },
  {
   "cell_type": "code",
   "execution_count": null,
   "metadata": {},
   "outputs": [],
   "source": []
  },
  {
   "cell_type": "code",
   "execution_count": null,
   "metadata": {},
   "outputs": [],
   "source": []
  }
 ],
 "metadata": {
  "kernelspec": {
   "display_name": "Python 3",
   "language": "python",
   "name": "python3"
  },
  "language_info": {
   "codemirror_mode": {
    "name": "ipython",
    "version": 3
   },
   "file_extension": ".py",
   "mimetype": "text/x-python",
   "name": "python",
   "nbconvert_exporter": "python",
   "pygments_lexer": "ipython3",
   "version": "3.8.5"
  }
 },
 "nbformat": 4,
 "nbformat_minor": 4
}
