{
 "cells": [
  {
   "cell_type": "code",
   "execution_count": 1,
   "metadata": {
    "scrolled": true
   },
   "outputs": [],
   "source": [
    "from src import attributes as a\n",
    "%load_ext autoreload\n",
    "%autoreload 2"
   ]
  },
  {
   "cell_type": "code",
   "execution_count": 2,
   "metadata": {},
   "outputs": [],
   "source": [
    "# Global Variables\n",
    "stock_name = 'msft' # ticker symbol\n",
    "train = 0 # 1 for train, 0 for pass\n",
    "days_ahead = 1 # for predicting 1, 3, or 5 days ahead\n",
    "days_back = -1 # -1 for current data point, -2 for two days ago, etc...\n",
    "cv = 5 # number of cross validation folds\n",
    "model_name = 'Random Forest Classifier' # for display on charts, not a tuning parameter"
   ]
  },
  {
   "cell_type": "code",
   "execution_count": 3,
   "metadata": {},
   "outputs": [],
   "source": [
    "# Extract, Transform, Load, and Train Test Split\n",
    "# Dictionary of IPO Dates\n",
    "start_dates = {'a': '11/15/1999' # Updated 2/14/21 1D, 3D, 5D ahead\n",
    "               , 'aapl':'12/12/1980' # Updated 2/14/21 1D, 3D, 5D ahead\n",
    "               , 'acy': '01/18/1998' # Updated 2/14/21 1D, 3D, 5D ahead\n",
    "               , 'adbe': '08/11/1986' # Updated 2/14/21 1D, 3D, 5D ahead\n",
    "               , 'alb': '02/21/1994' # Updated 2/14/21 1D, 3D, 5D ahead\n",
    "               , 'amat': '03/16/1980' # Updated 2/14/21 1D, 3D, 5D ahead\n",
    "               , 'amd': '03/17/1980' # Updated 2/14/21 1D, 3D, 5D ahead\n",
    "               , 'amgn': '06/13/1983' # Updated 2/14/21 1D, 3D, 5D ahead\n",
    "               , 'amzn': '05/12/1997' # Updated 2/14/21 1D, 3D, 5D ahead\n",
    "               , 'baba': '09/15/2014' # Updated 2/14/21 1D, 3D, 5D ahead\n",
    "               , 'bac': '02/19/1973' # Updated 2/14/21 1D, 3D, 5D ahead\n",
    "               , 'bpmc': '04/27/2015' # Updated 2/14/21 1D, 3D, 5D ahead\n",
    "               , 'crm': '06/23/2004' # Updated 2/14/21 1D, 3D, 5D ahead\n",
    "               , 'crsp': '10/16/2016' # Updated 2/14/21 1D, 3D, 5D ahead\n",
    "               , 'dq': '10/04/2010' # Updated 2/14/21 1D, 3D, 5D ahead\n",
    "               , 'esgv': '09/16/2018' # Updated 2/15/21 1D, 3D, 5D ahead\n",
    "               , 'fslr': '11/12/2006' # Updated 2/15/21 1D, 3D, 5D ahead\n",
    "               , 'goog': '08/16/2004' # Updated 2/15/21 1D, 3D, 5D ahead\n",
    "               , 'ibm': '01/02/1962' # Updated 2/15/21 1D, 3D, 5D ahead\n",
    "               , 'intc': '03/16/1980' # Updated 2/15/21 1D, 3D, 5D ahead\n",
    "               , 'iyw': '05/15/2000' # Updated 2/15/21 1D, 3D, 5D ahead\n",
    "               , 'lng': '04/04/1994' # Updated 2/15/21 1D, 3D, 5D ahead\n",
    "               , 'ma': '05/21/2006' # Updated 2/15/21 1D, 3D, 5D ahead\n",
    "               , 'mdb': '10/15/2017' # Updated 2/15/21 1D, 3D, 5D ahead\n",
    "               , 'msft': '03/10/1986' # Updated 2/15/21 1D, 3D, 5D ahead\n",
    "               , 'mu': '05/28/1984' # Updated 2/15/21 1D, 3D, 5D ahead\n",
    "               , 'nee': '02/19/1973' # Updated 2/15/21 1D, 3D, 5D ahead\n",
    "               , 'nio': '09/10/2018' # Updated 2/15/21 1D, 3D, 5D ahead\n",
    "               , 'nvda': '01/22/1999' # Updated 2/15/21 1D, 3D, 5D ahead\n",
    "               , 'pacb': '10/25/2010' # Updated 2/15/21 1D, 3D, 5D ahead\n",
    "               , 'pypl': '07/05/2015' # Updated 2/16/21 1D, 3D, 5D ahead\n",
    "               , 'qgen': '06/24/1996' # Updated 2/16/21 1D, 3D, 5D ahead\n",
    "               , 'run': '08/02/2015' # Updated 2/16/21 1D, 3D, 5D ahead\n",
    "               , 'okta': '04/03/2017' # Updated 2/16/21 1D, 3D, 5D ahead\n",
    "               , 'orcl': '03/10/1986' # Updated 2/16/21 1D, 3D, 5D ahead\n",
    "               , 'qqq': '03/08/1999' # Updated 2/16/21 1D, 3D, 5D ahead\n",
    "               , 'srpt': '06/02/1997' # Updated 2/16/21 1D, 3D, 5D ahead\n",
    "               , 'tpic': '07/17/2016' # Updated 2/16/21 1D, 3D, 5D ahead\n",
    "               , 'tsla': '06/29/2010' # Updated 2/16/21 1D, 3D, 5D ahead\n",
    "               , 'v': '03/16/2008' # Updated 2/16/21 1D, 3D, 5D ahead\n",
    "               , 'vbiv': '09/04/2002' # Updated 2/16/21 1D, 3D, 5D ahead\n",
    "               , 'vbr': '01/26/2004' # Updated 2/16/21 1D, 3D, 5D ahead\n",
    "               , 'viov': '09/06/2010' # Updated 2/16/21 1D, 3D, 5D ahead\n",
    "               , 'vgt': '01/26/2004' # Updated 2/16/21 1D, 3D, 5D ahead\n",
    "               , 'xlk': '12/21/1998' # Updated 2/16/21 1D, 3D, 5D ahead\n",
    "              }"
   ]
  },
  {
   "cell_type": "code",
   "execution_count": null,
   "metadata": {},
   "outputs": [],
   "source": []
  },
  {
   "cell_type": "code",
   "execution_count": null,
   "metadata": {},
   "outputs": [],
   "source": []
  },
  {
   "cell_type": "code",
   "execution_count": null,
   "metadata": {},
   "outputs": [],
   "source": []
  },
  {
   "cell_type": "code",
   "execution_count": 4,
   "metadata": {},
   "outputs": [],
   "source": [
    "# X_train, X_test, y_train, y_test, stock_df = a.data(stock_name, start_dates[stock_name], days_ahead)\n",
    "# stock_df.tail(10)"
   ]
  },
  {
   "cell_type": "code",
   "execution_count": 5,
   "metadata": {
    "scrolled": false
   },
   "outputs": [],
   "source": [
    "# GridSerach to find best hyperparameters to prevent overfitting, can be commented out once trained\n",
    "# if train == 1:\n",
    "#     a.rfc_GridSearch(X_train, y_train, stock_name, days_ahead, cv)\n",
    "# elif train == 0:\n",
    "#     pass"
   ]
  },
  {
   "cell_type": "code",
   "execution_count": 6,
   "metadata": {},
   "outputs": [],
   "source": [
    "# Load RandomForextClassifier Model\n",
    "# rfc_model, y_pred, y_probs = a.rfc(X_train, X_test, y_train, stock_name, days_ahead)"
   ]
  },
  {
   "cell_type": "code",
   "execution_count": 7,
   "metadata": {
    "scrolled": false
   },
   "outputs": [],
   "source": [
    "# ROC Curve\n",
    "# a.roc_plot(y_test, y_probs, stock_name, model_name)"
   ]
  },
  {
   "cell_type": "code",
   "execution_count": 8,
   "metadata": {
    "scrolled": false
   },
   "outputs": [],
   "source": [
    "# Precision Recall Curve\n",
    "# a.prec_recall(y_test, y_probs, stock_name, model_name)"
   ]
  },
  {
   "cell_type": "code",
   "execution_count": 9,
   "metadata": {
    "scrolled": false
   },
   "outputs": [],
   "source": [
    "# Confusion Matrix\n",
    "# a.confusion_matrix(rfc_model, X_test, y_test, stock_name)"
   ]
  },
  {
   "cell_type": "code",
   "execution_count": 10,
   "metadata": {},
   "outputs": [],
   "source": [
    "# Cross Validation\n",
    "# a.cross_validation(rfc_model\n",
    "#                    , stock_df[['oc', 'hl', '5stdev_adj', '5sma_adj']]\n",
    "#                    , stock_df['direction']\n",
    "#                    , cv = 5\n",
    "#                   )"
   ]
  },
  {
   "cell_type": "markdown",
   "metadata": {},
   "source": [
    "### Prediction..."
   ]
  },
  {
   "cell_type": "code",
   "execution_count": 11,
   "metadata": {
    "scrolled": true
   },
   "outputs": [],
   "source": [
    "# Prediction, use last day of data\n",
    "# stock_df.iloc[-1]"
   ]
  },
  {
   "cell_type": "code",
   "execution_count": 12,
   "metadata": {},
   "outputs": [],
   "source": [
    "# import numpy as np\n",
    "# last = stock_df[['oc', 'hl', '5stdev_adj', '5sma_adj']].iloc[-days_back]\n",
    "# last"
   ]
  },
  {
   "cell_type": "code",
   "execution_count": 13,
   "metadata": {},
   "outputs": [],
   "source": [
    "# stock_df['adj'].describe()"
   ]
  },
  {
   "cell_type": "code",
   "execution_count": 14,
   "metadata": {
    "scrolled": true
   },
   "outputs": [],
   "source": [
    "# if rfc_model.predict(np.array(last).reshape(1, -1))[0] == 1:\n",
    "#     print(f'Buy {stock_name} {days_ahead} day(s) ahead')\n",
    "# else:\n",
    "#     print(f'Sell or hold {stock_name} {days_ahead} day(s) ahead')"
   ]
  },
  {
   "cell_type": "markdown",
   "metadata": {},
   "source": [
    "### Strategy Returns..."
   ]
  },
  {
   "cell_type": "code",
   "execution_count": 15,
   "metadata": {},
   "outputs": [],
   "source": [
    "# returns on strategy column\n",
    "# stock_df['prediction'] = rfc_model.predict(stock_df[['oc', 'hl', '5stdev_adj', '5sma_adj']])\n",
    "# stock_df['returns'] = stock_df['adj'].shift(-1, fill_value = stock_df['adj'].median()) * stock_df['prediction']"
   ]
  },
  {
   "cell_type": "code",
   "execution_count": 16,
   "metadata": {},
   "outputs": [],
   "source": [
    "# stock_df.tail(5)"
   ]
  },
  {
   "cell_type": "code",
   "execution_count": 17,
   "metadata": {},
   "outputs": [],
   "source": [
    "# Don't trade every day!\n",
    "# import matplotlib.pyplot as plt\n",
    "# test_length = len(y_test)\n",
    "# (stock_df['returns'][-test_length:] + 1).cumprod().plot()\n",
    "# plt.title(f'{stock_name} Expected Returns %');"
   ]
  },
  {
   "cell_type": "code",
   "execution_count": 18,
   "metadata": {},
   "outputs": [],
   "source": [
    "# Model returns if bought on predictions of 1\n",
    "# returns_on_ones = []\n",
    "# for idx in range(-test_length, 0):\n",
    "#     if stock_df['prediction'][idx] == 1:\n",
    "#         returns_on_ones.append(1 + stock_df['returns'][idx])\n",
    "\n",
    "# returns = 1\n",
    "# for x in returns_on_ones:\n",
    "#     returns *= x\n",
    "# returns"
   ]
  },
  {
   "cell_type": "code",
   "execution_count": 19,
   "metadata": {},
   "outputs": [],
   "source": [
    "# multiple times original investment, not bad but..."
   ]
  },
  {
   "cell_type": "code",
   "execution_count": 20,
   "metadata": {},
   "outputs": [],
   "source": [
    "# If purchased in 2012 and left it until now\n",
    "# test_idx = int(len(stock_df)*0.75)\n",
    "# (stock_df['Close'][-1] - stock_df['Close'][-test_idx]) / stock_df['Close'][-test_idx]"
   ]
  },
  {
   "cell_type": "code",
   "execution_count": 21,
   "metadata": {},
   "outputs": [],
   "source": [
    "# Buy and hold strategy beats RandomForestClassifier in this study\n",
    "\n",
    "# Special thanks to Shagufta Tahsildar at https://blog.quantinsti.com/random-forest-algorithm-in-python/"
   ]
  },
  {
   "cell_type": "code",
   "execution_count": null,
   "metadata": {},
   "outputs": [],
   "source": []
  },
  {
   "cell_type": "code",
   "execution_count": null,
   "metadata": {},
   "outputs": [],
   "source": []
  },
  {
   "cell_type": "code",
   "execution_count": null,
   "metadata": {},
   "outputs": [],
   "source": []
  },
  {
   "cell_type": "markdown",
   "metadata": {},
   "source": [
    "### Training"
   ]
  },
  {
   "cell_type": "markdown",
   "metadata": {},
   "source": [
    "Training is done once a week on Saturday and Sunday"
   ]
  },
  {
   "cell_type": "code",
   "execution_count": 22,
   "metadata": {},
   "outputs": [
    {
     "data": {
      "text/plain": [
       "45"
      ]
     },
     "execution_count": 22,
     "metadata": {},
     "output_type": "execute_result"
    }
   ],
   "source": [
    "len(start_dates)"
   ]
  },
  {
   "cell_type": "code",
   "execution_count": 23,
   "metadata": {},
   "outputs": [
    {
     "data": {
      "text/plain": [
       "{'a': '11/15/1999',\n",
       " 'aapl': '12/12/1980',\n",
       " 'acy': '01/18/1998',\n",
       " 'adbe': '08/11/1986',\n",
       " 'alb': '02/21/1994',\n",
       " 'amat': '03/16/1980',\n",
       " 'amd': '03/17/1980',\n",
       " 'amgn': '06/13/1983',\n",
       " 'amzn': '05/12/1997',\n",
       " 'baba': '09/15/2014',\n",
       " 'bac': '02/19/1973',\n",
       " 'bpmc': '04/27/2015',\n",
       " 'crm': '06/23/2004',\n",
       " 'crsp': '10/16/2016',\n",
       " 'dq': '10/04/2010'}"
      ]
     },
     "execution_count": 23,
     "metadata": {},
     "output_type": "execute_result"
    }
   ],
   "source": [
    "import itertools as itr\n",
    "start_dates1 = dict(itr.islice(start_dates.items(), 0, 15))\n",
    "start_dates1"
   ]
  },
  {
   "cell_type": "code",
   "execution_count": 24,
   "metadata": {},
   "outputs": [
    {
     "data": {
      "text/plain": [
       "{'esgv': '09/16/2018',\n",
       " 'fslr': '11/12/2006',\n",
       " 'goog': '08/16/2004',\n",
       " 'ibm': '01/02/1962',\n",
       " 'intc': '03/16/1980',\n",
       " 'iyw': '05/15/2000',\n",
       " 'lng': '04/04/1994',\n",
       " 'ma': '05/21/2006',\n",
       " 'mdb': '10/15/2017',\n",
       " 'msft': '03/10/1986',\n",
       " 'mu': '05/28/1984',\n",
       " 'nee': '02/19/1973',\n",
       " 'nio': '09/10/2018',\n",
       " 'nvda': '01/22/1999',\n",
       " 'pacb': '10/25/2010'}"
      ]
     },
     "execution_count": 24,
     "metadata": {},
     "output_type": "execute_result"
    }
   ],
   "source": [
    "start_dates2 = dict(itr.islice(start_dates.items(), 15, 30))\n",
    "start_dates2"
   ]
  },
  {
   "cell_type": "code",
   "execution_count": 25,
   "metadata": {},
   "outputs": [
    {
     "data": {
      "text/plain": [
       "{'pypl': '07/05/2015',\n",
       " 'qgen': '06/24/1996',\n",
       " 'run': '08/02/2015',\n",
       " 'okta': '04/03/2017',\n",
       " 'orcl': '03/10/1986',\n",
       " 'qqq': '03/08/1999',\n",
       " 'srpt': '06/02/1997',\n",
       " 'tpic': '07/17/2016',\n",
       " 'tsla': '06/29/2010',\n",
       " 'v': '03/16/2008',\n",
       " 'vbiv': '09/04/2002',\n",
       " 'vbr': '01/26/2004',\n",
       " 'viov': '09/06/2010',\n",
       " 'vgt': '01/26/2004',\n",
       " 'xlk': '12/21/1998'}"
      ]
     },
     "execution_count": 25,
     "metadata": {},
     "output_type": "execute_result"
    }
   ],
   "source": [
    "start_dates3 = dict(itr.islice(start_dates.items(), 30, 45+1))\n",
    "start_dates3"
   ]
  },
  {
   "cell_type": "code",
   "execution_count": 26,
   "metadata": {},
   "outputs": [],
   "source": [
    "#Train 15 at a time!\n",
    "# stocks = [x for x in start_dates1]\n",
    "# days_ahead = [1, 3, 5]\n",
    "# cv = 5\n",
    "# for stock in stocks:\n",
    "#     for days in days_ahead:\n",
    "#         X_train, X_test, y_train, y_test, stock_df = a.data(stock, start_dates[stock], days)\n",
    "#         a.rfc_GridSearch(X_train, y_train, stock, days, cv)\n",
    "# len(stocks)\n",
    "\n",
    "# stocks = [x for x in start_dates2]\n",
    "# days_ahead = [1, 3, 5]\n",
    "# cv = 5\n",
    "# for stock in stocks:\n",
    "#     for days in days_ahead:\n",
    "#         X_train, X_test, y_train, y_test, stock_df = a.data(stock, start_dates[stock], days)\n",
    "#         a.rfc_GridSearch(X_train, y_train, stock, days, cv)\n",
    "# len(stocks)\n",
    "\n",
    "# stocks = [x for x in start_dates3]\n",
    "# days_ahead = [1, 3, 5]\n",
    "# cv = 5\n",
    "# for stock in stocks:\n",
    "#     for days in days_ahead:\n",
    "#         X_train, X_test, y_train, y_test, stock_df = a.data(stock, start_dates[stock], days)\n",
    "#         a.rfc_GridSearch(X_train, y_train, stock, days, cv)\n",
    "# len(stocks)\n",
    "\n",
    "# Train all, takes 15+ hours\n",
    "# stocks = [x for x in start_dates]\n",
    "# days_ahead = [1, 3, 5]\n",
    "# cv = 5\n",
    "# for stock in stocks:\n",
    "#     for days in days_ahead:\n",
    "#         X_train, X_test, y_train, y_test, stock_df = a.data(stock, start_dates[stock], days)\n",
    "#         a.rfc_GridSearch(X_train, y_train, stock, days, cv)\n",
    "# len(stocks)\n",
    "\n",
    "# Train desired stocks...takes less time\n",
    "# stocks = ['aapl']\n",
    "# days_ahead = [1, 3, 5]\n",
    "# cv = 5\n",
    "# for stock in stocks:\n",
    "#     for days in days_ahead:\n",
    "#         X_train, X_test, y_train, y_test, stock_df = a.data(stock, start_dates[stock], days)\n",
    "#         a.rfc_GridSearch(X_train, y_train, stock, days, cv)"
   ]
  },
  {
   "cell_type": "code",
   "execution_count": null,
   "metadata": {},
   "outputs": [],
   "source": []
  },
  {
   "cell_type": "code",
   "execution_count": null,
   "metadata": {},
   "outputs": [],
   "source": []
  },
  {
   "cell_type": "code",
   "execution_count": null,
   "metadata": {},
   "outputs": [],
   "source": []
  },
  {
   "cell_type": "markdown",
   "metadata": {},
   "source": [
    "### Display All Results"
   ]
  },
  {
   "cell_type": "code",
   "execution_count": 27,
   "metadata": {
    "scrolled": false
   },
   "outputs": [
    {
     "name": "stdout",
     "output_type": "stream",
     "text": [
      "Sell or hold tsla 5 day(s) ahead\n",
      "Model Returns (x 100 for %): 2.2109\n",
      "Stock Returns (x 100 for %): 87.8312\n"
     ]
    },
    {
     "data": {
      "image/png": "[encoded data removed]",
      "text/plain": [
       "<Figure size 432x288 with 1 Axes>"
      ]
     },
     "metadata": {},
     "output_type": "display_data"
    },
    {
     "data": {
      "image/png": "[encoded data removed]",
      "text/plain": [
       "<Figure size 648x504 with 1 Axes>"
      ]
     },
     "metadata": {},
     "output_type": "display_data"
    },
    {
     "data": {
      "image/png": "[encoded data removed]",
      "text/plain": [
       "<Figure size 648x504 with 1 Axes>"
      ]
     },
     "metadata": {},
     "output_type": "display_data"
    },
    {
     "data": {
      "image/png": "[encoded data removed]",
      "text/plain": [
       "<Figure size 684x612 with 2 Axes>"
      ]
     },
     "metadata": {},
     "output_type": "display_data"
    }
   ],
   "source": [
    "stock_name = 'tsla'\n",
    "a.all_func(stock_name\n",
    "           , start_dates[stock_name]\n",
    "           , days_ahead = 5\n",
    "           , model_name = model_name\n",
    "           , days_back = 1\n",
    "          )"
   ]
  },
  {
   "cell_type": "code",
   "execution_count": null,
   "metadata": {},
   "outputs": [],
   "source": []
  },
  {
   "cell_type": "code",
   "execution_count": null,
   "metadata": {},
   "outputs": [],
   "source": []
  },
  {
   "cell_type": "code",
   "execution_count": null,
   "metadata": {},
   "outputs": [],
   "source": []
  },
  {
   "cell_type": "markdown",
   "metadata": {},
   "source": [
    "### Data Frame of Predictions 1 3 5 Days"
   ]
  },
  {
   "cell_type": "code",
   "execution_count": 28,
   "metadata": {},
   "outputs": [
    {
     "name": "stdout",
     "output_type": "stream",
     "text": [
      "Today's date: 2021-03-11\n"
     ]
    }
   ],
   "source": [
    "from datetime import date\n",
    "\n",
    "today = date.today()\n",
    "print(\"Today's date:\", today)"
   ]
  },
  {
   "cell_type": "code",
   "execution_count": 29,
   "metadata": {
    "scrolled": false
   },
   "outputs": [
    {
     "data": {
      "text/html": [
       "<div>\n",
       "<style scoped>\n",
       "    .dataframe tbody tr th:only-of-type {\n",
       "        vertical-align: middle;\n",
       "    }\n",
       "\n",
       "    .dataframe tbody tr th {\n",
       "        vertical-align: top;\n",
       "    }\n",
       "\n",
       "    .dataframe thead th {\n",
       "        text-align: right;\n",
       "    }\n",
       "</style>\n",
       "<table border=\"1\" class=\"dataframe\">\n",
       "  <thead>\n",
       "    <tr style=\"text-align: right;\">\n",
       "      <th></th>\n",
       "      <th>stock</th>\n",
       "      <th>1_Day_Pred</th>\n",
       "      <th>1_Day_Model_Return</th>\n",
       "      <th>3_Day_Pred</th>\n",
       "      <th>3_Day_Model_Return</th>\n",
       "      <th>5_Day_Pred</th>\n",
       "      <th>5_Day_Model_Return</th>\n",
       "      <th>Actual_Returns</th>\n",
       "    </tr>\n",
       "  </thead>\n",
       "  <tbody>\n",
       "    <tr>\n",
       "      <th>0</th>\n",
       "      <td>a</td>\n",
       "      <td>Hold or Sell</td>\n",
       "      <td>3.3522</td>\n",
       "      <td>Hold or Sell</td>\n",
       "      <td>4.2768</td>\n",
       "      <td>Hold or Sell</td>\n",
       "      <td>3.7151</td>\n",
       "      <td>6.6119</td>\n",
       "    </tr>\n",
       "    <tr>\n",
       "      <th>1</th>\n",
       "      <td>aapl</td>\n",
       "      <td>Buy</td>\n",
       "      <td>2.8725</td>\n",
       "      <td>Buy</td>\n",
       "      <td>2.7282</td>\n",
       "      <td>Buy</td>\n",
       "      <td>4.3636</td>\n",
       "      <td>316.4243</td>\n",
       "    </tr>\n",
       "    <tr>\n",
       "      <th>2</th>\n",
       "      <td>acy</td>\n",
       "      <td>Hold or Sell</td>\n",
       "      <td>0.4612</td>\n",
       "      <td>Hold or Sell</td>\n",
       "      <td>0.6778</td>\n",
       "      <td>Hold or Sell</td>\n",
       "      <td>0.4477</td>\n",
       "      <td>1.5735</td>\n",
       "    </tr>\n",
       "    <tr>\n",
       "      <th>3</th>\n",
       "      <td>adbe</td>\n",
       "      <td>Hold or Sell</td>\n",
       "      <td>8.1054</td>\n",
       "      <td>Hold or Sell</td>\n",
       "      <td>6.3021</td>\n",
       "      <td>Hold or Sell</td>\n",
       "      <td>7.1638</td>\n",
       "      <td>72.1539</td>\n",
       "    </tr>\n",
       "    <tr>\n",
       "      <th>4</th>\n",
       "      <td>alb</td>\n",
       "      <td>Hold or Sell</td>\n",
       "      <td>1.5747</td>\n",
       "      <td>Hold or Sell</td>\n",
       "      <td>1.7329</td>\n",
       "      <td>Hold or Sell</td>\n",
       "      <td>1.6805</td>\n",
       "      <td>13.6233</td>\n",
       "    </tr>\n",
       "    <tr>\n",
       "      <th>5</th>\n",
       "      <td>amat</td>\n",
       "      <td>Hold or Sell</td>\n",
       "      <td>6.8309</td>\n",
       "      <td>Hold or Sell</td>\n",
       "      <td>9.1122</td>\n",
       "      <td>Hold or Sell</td>\n",
       "      <td>11.2514</td>\n",
       "      <td>202.9061</td>\n",
       "    </tr>\n",
       "    <tr>\n",
       "      <th>6</th>\n",
       "      <td>amd</td>\n",
       "      <td>Hold or Sell</td>\n",
       "      <td>6.7093</td>\n",
       "      <td>Hold or Sell</td>\n",
       "      <td>7.6494</td>\n",
       "      <td>Hold or Sell</td>\n",
       "      <td>9.8023</td>\n",
       "      <td>15.5532</td>\n",
       "    </tr>\n",
       "    <tr>\n",
       "      <th>7</th>\n",
       "      <td>amgn</td>\n",
       "      <td>Hold or Sell</td>\n",
       "      <td>4.5135</td>\n",
       "      <td>Hold or Sell</td>\n",
       "      <td>4.3386</td>\n",
       "      <td>Hold or Sell</td>\n",
       "      <td>5.1929</td>\n",
       "      <td>24.5945</td>\n",
       "    </tr>\n",
       "    <tr>\n",
       "      <th>8</th>\n",
       "      <td>amzn</td>\n",
       "      <td>Hold or Sell</td>\n",
       "      <td>3.4900</td>\n",
       "      <td>Hold or Sell</td>\n",
       "      <td>3.0022</td>\n",
       "      <td>Hold or Sell</td>\n",
       "      <td>3.9163</td>\n",
       "      <td>101.3975</td>\n",
       "    </tr>\n",
       "    <tr>\n",
       "      <th>9</th>\n",
       "      <td>baba</td>\n",
       "      <td>Hold or Sell</td>\n",
       "      <td>1.2717</td>\n",
       "      <td>Hold or Sell</td>\n",
       "      <td>1.3390</td>\n",
       "      <td>Hold or Sell</td>\n",
       "      <td>1.2885</td>\n",
       "      <td>2.0250</td>\n",
       "    </tr>\n",
       "    <tr>\n",
       "      <th>10</th>\n",
       "      <td>bac</td>\n",
       "      <td>Hold or Sell</td>\n",
       "      <td>5.9374</td>\n",
       "      <td>Hold or Sell</td>\n",
       "      <td>6.1370</td>\n",
       "      <td>Hold or Sell</td>\n",
       "      <td>7.6529</td>\n",
       "      <td>7.1355</td>\n",
       "    </tr>\n",
       "    <tr>\n",
       "      <th>11</th>\n",
       "      <td>bpmc</td>\n",
       "      <td>Hold or Sell</td>\n",
       "      <td>2.1644</td>\n",
       "      <td>Hold or Sell</td>\n",
       "      <td>1.8868</td>\n",
       "      <td>Hold or Sell</td>\n",
       "      <td>1.7748</td>\n",
       "      <td>2.2950</td>\n",
       "    </tr>\n",
       "    <tr>\n",
       "      <th>12</th>\n",
       "      <td>crm</td>\n",
       "      <td>Hold or Sell</td>\n",
       "      <td>2.6120</td>\n",
       "      <td>Hold or Sell</td>\n",
       "      <td>1.8628</td>\n",
       "      <td>Hold or Sell</td>\n",
       "      <td>2.2809</td>\n",
       "      <td>14.7237</td>\n",
       "    </tr>\n",
       "    <tr>\n",
       "      <th>13</th>\n",
       "      <td>crsp</td>\n",
       "      <td>Hold or Sell</td>\n",
       "      <td>0.9635</td>\n",
       "      <td>Hold or Sell</td>\n",
       "      <td>0.7072</td>\n",
       "      <td>Hold or Sell</td>\n",
       "      <td>0.8775</td>\n",
       "      <td>6.1436</td>\n",
       "    </tr>\n",
       "    <tr>\n",
       "      <th>14</th>\n",
       "      <td>dq</td>\n",
       "      <td>Hold or Sell</td>\n",
       "      <td>6.8718</td>\n",
       "      <td>Hold or Sell</td>\n",
       "      <td>7.2498</td>\n",
       "      <td>Hold or Sell</td>\n",
       "      <td>6.4176</td>\n",
       "      <td>58.1842</td>\n",
       "    </tr>\n",
       "    <tr>\n",
       "      <th>15</th>\n",
       "      <td>esgv</td>\n",
       "      <td>Hold or Sell</td>\n",
       "      <td>1.1392</td>\n",
       "      <td>Hold or Sell</td>\n",
       "      <td>1.1289</td>\n",
       "      <td>Hold or Sell</td>\n",
       "      <td>1.1520</td>\n",
       "      <td>0.5108</td>\n",
       "    </tr>\n",
       "    <tr>\n",
       "      <th>16</th>\n",
       "      <td>fslr</td>\n",
       "      <td>Hold or Sell</td>\n",
       "      <td>2.2030</td>\n",
       "      <td>Hold or Sell</td>\n",
       "      <td>1.9720</td>\n",
       "      <td>Hold or Sell</td>\n",
       "      <td>1.7046</td>\n",
       "      <td>-0.3052</td>\n",
       "    </tr>\n",
       "    <tr>\n",
       "      <th>17</th>\n",
       "      <td>goog</td>\n",
       "      <td>Hold or Sell</td>\n",
       "      <td>2.4626</td>\n",
       "      <td>Hold or Sell</td>\n",
       "      <td>1.9769</td>\n",
       "      <td>Hold or Sell</td>\n",
       "      <td>3.3440</td>\n",
       "      <td>10.7501</td>\n",
       "    </tr>\n",
       "    <tr>\n",
       "      <th>18</th>\n",
       "      <td>ibm</td>\n",
       "      <td>Buy</td>\n",
       "      <td>2.8039</td>\n",
       "      <td>Buy</td>\n",
       "      <td>4.5667</td>\n",
       "      <td>Buy</td>\n",
       "      <td>3.8990</td>\n",
       "      <td>6.5897</td>\n",
       "    </tr>\n",
       "    <tr>\n",
       "      <th>19</th>\n",
       "      <td>intc</td>\n",
       "      <td>Hold or Sell</td>\n",
       "      <td>6.2962</td>\n",
       "      <td>Hold or Sell</td>\n",
       "      <td>5.8502</td>\n",
       "      <td>Hold or Sell</td>\n",
       "      <td>6.5020</td>\n",
       "      <td>41.3770</td>\n",
       "    </tr>\n",
       "    <tr>\n",
       "      <th>20</th>\n",
       "      <td>iyw</td>\n",
       "      <td>Hold or Sell</td>\n",
       "      <td>3.1045</td>\n",
       "      <td>Hold or Sell</td>\n",
       "      <td>4.3700</td>\n",
       "      <td>Hold or Sell</td>\n",
       "      <td>2.9839</td>\n",
       "      <td>6.2696</td>\n",
       "    </tr>\n",
       "    <tr>\n",
       "      <th>21</th>\n",
       "      <td>lng</td>\n",
       "      <td>Hold or Sell</td>\n",
       "      <td>1.2600</td>\n",
       "      <td>Hold or Sell</td>\n",
       "      <td>0.8439</td>\n",
       "      <td>Hold or Sell</td>\n",
       "      <td>0.9655</td>\n",
       "      <td>72.1922</td>\n",
       "    </tr>\n",
       "    <tr>\n",
       "      <th>22</th>\n",
       "      <td>ma</td>\n",
       "      <td>Hold or Sell</td>\n",
       "      <td>2.4946</td>\n",
       "      <td>Hold or Sell</td>\n",
       "      <td>3.4096</td>\n",
       "      <td>Hold or Sell</td>\n",
       "      <td>2.1056</td>\n",
       "      <td>15.9192</td>\n",
       "    </tr>\n",
       "    <tr>\n",
       "      <th>23</th>\n",
       "      <td>mdb</td>\n",
       "      <td>Hold or Sell</td>\n",
       "      <td>0.6894</td>\n",
       "      <td>Hold or Sell</td>\n",
       "      <td>1.0735</td>\n",
       "      <td>Hold or Sell</td>\n",
       "      <td>0.8369</td>\n",
       "      <td>3.5925</td>\n",
       "    </tr>\n",
       "    <tr>\n",
       "      <th>24</th>\n",
       "      <td>msft</td>\n",
       "      <td>Hold or Sell</td>\n",
       "      <td>9.5850</td>\n",
       "      <td>Hold or Sell</td>\n",
       "      <td>11.3468</td>\n",
       "      <td>Hold or Sell</td>\n",
       "      <td>8.0014</td>\n",
       "      <td>59.1726</td>\n",
       "    </tr>\n",
       "    <tr>\n",
       "      <th>25</th>\n",
       "      <td>mu</td>\n",
       "      <td>Hold or Sell</td>\n",
       "      <td>3.0359</td>\n",
       "      <td>Hold or Sell</td>\n",
       "      <td>2.5640</td>\n",
       "      <td>Hold or Sell</td>\n",
       "      <td>2.8780</td>\n",
       "      <td>17.1124</td>\n",
       "    </tr>\n",
       "    <tr>\n",
       "      <th>26</th>\n",
       "      <td>nee</td>\n",
       "      <td>Hold or Sell</td>\n",
       "      <td>4.4969</td>\n",
       "      <td>Hold or Sell</td>\n",
       "      <td>5.7804</td>\n",
       "      <td>Hold or Sell</td>\n",
       "      <td>3.8966</td>\n",
       "      <td>25.9587</td>\n",
       "    </tr>\n",
       "    <tr>\n",
       "      <th>27</th>\n",
       "      <td>nio</td>\n",
       "      <td>Hold or Sell</td>\n",
       "      <td>2.0874</td>\n",
       "      <td>Hold or Sell</td>\n",
       "      <td>1.7573</td>\n",
       "      <td>Hold or Sell</td>\n",
       "      <td>1.6079</td>\n",
       "      <td>8.2982</td>\n",
       "    </tr>\n",
       "    <tr>\n",
       "      <th>28</th>\n",
       "      <td>nvda</td>\n",
       "      <td>Hold or Sell</td>\n",
       "      <td>12.3192</td>\n",
       "      <td>Hold or Sell</td>\n",
       "      <td>8.8787</td>\n",
       "      <td>Hold or Sell</td>\n",
       "      <td>13.8167</td>\n",
       "      <td>147.3686</td>\n",
       "    </tr>\n",
       "    <tr>\n",
       "      <th>29</th>\n",
       "      <td>pacb</td>\n",
       "      <td>Hold or Sell</td>\n",
       "      <td>1.3456</td>\n",
       "      <td>Hold or Sell</td>\n",
       "      <td>1.7500</td>\n",
       "      <td>Hold or Sell</td>\n",
       "      <td>1.8307</td>\n",
       "      <td>11.6169</td>\n",
       "    </tr>\n",
       "    <tr>\n",
       "      <th>30</th>\n",
       "      <td>pypl</td>\n",
       "      <td>Hold or Sell</td>\n",
       "      <td>2.7282</td>\n",
       "      <td>Hold or Sell</td>\n",
       "      <td>2.0341</td>\n",
       "      <td>Hold or Sell</td>\n",
       "      <td>2.7275</td>\n",
       "      <td>5.3805</td>\n",
       "    </tr>\n",
       "    <tr>\n",
       "      <th>31</th>\n",
       "      <td>qgen</td>\n",
       "      <td>Hold or Sell</td>\n",
       "      <td>1.6858</td>\n",
       "      <td>Hold or Sell</td>\n",
       "      <td>2.3821</td>\n",
       "      <td>Hold or Sell</td>\n",
       "      <td>2.4965</td>\n",
       "      <td>7.4991</td>\n",
       "    </tr>\n",
       "    <tr>\n",
       "      <th>32</th>\n",
       "      <td>run</td>\n",
       "      <td>Hold or Sell</td>\n",
       "      <td>1.2323</td>\n",
       "      <td>Hold or Sell</td>\n",
       "      <td>1.2399</td>\n",
       "      <td>Hold or Sell</td>\n",
       "      <td>1.0066</td>\n",
       "      <td>9.7380</td>\n",
       "    </tr>\n",
       "    <tr>\n",
       "      <th>33</th>\n",
       "      <td>okta</td>\n",
       "      <td>Hold or Sell</td>\n",
       "      <td>1.1065</td>\n",
       "      <td>Hold or Sell</td>\n",
       "      <td>0.9946</td>\n",
       "      <td>Hold or Sell</td>\n",
       "      <td>1.0522</td>\n",
       "      <td>5.2781</td>\n",
       "    </tr>\n",
       "    <tr>\n",
       "      <th>34</th>\n",
       "      <td>orcl</td>\n",
       "      <td>Hold or Sell</td>\n",
       "      <td>2.9935</td>\n",
       "      <td>Hold or Sell</td>\n",
       "      <td>3.6158</td>\n",
       "      <td>Hold or Sell</td>\n",
       "      <td>3.1780</td>\n",
       "      <td>33.4632</td>\n",
       "    </tr>\n",
       "    <tr>\n",
       "      <th>35</th>\n",
       "      <td>qqq</td>\n",
       "      <td>Hold or Sell</td>\n",
       "      <td>3.1363</td>\n",
       "      <td>Hold or Sell</td>\n",
       "      <td>3.7258</td>\n",
       "      <td>Hold or Sell</td>\n",
       "      <td>3.1906</td>\n",
       "      <td>8.0068</td>\n",
       "    </tr>\n",
       "    <tr>\n",
       "      <th>36</th>\n",
       "      <td>srpt</td>\n",
       "      <td>Hold or Sell</td>\n",
       "      <td>1.3806</td>\n",
       "      <td>Hold or Sell</td>\n",
       "      <td>0.9323</td>\n",
       "      <td>Hold or Sell</td>\n",
       "      <td>1.8621</td>\n",
       "      <td>1.3592</td>\n",
       "    </tr>\n",
       "    <tr>\n",
       "      <th>37</th>\n",
       "      <td>tpic</td>\n",
       "      <td>Hold or Sell</td>\n",
       "      <td>0.9669</td>\n",
       "      <td>Buy</td>\n",
       "      <td>1.3104</td>\n",
       "      <td>Hold or Sell</td>\n",
       "      <td>1.2646</td>\n",
       "      <td>1.3804</td>\n",
       "    </tr>\n",
       "    <tr>\n",
       "      <th>38</th>\n",
       "      <td>tsla</td>\n",
       "      <td>Buy</td>\n",
       "      <td>4.3334</td>\n",
       "      <td>Buy</td>\n",
       "      <td>1.7068</td>\n",
       "      <td>Hold or Sell</td>\n",
       "      <td>2.2083</td>\n",
       "      <td>87.7340</td>\n",
       "    </tr>\n",
       "    <tr>\n",
       "      <th>39</th>\n",
       "      <td>v</td>\n",
       "      <td>Hold or Sell</td>\n",
       "      <td>2.6483</td>\n",
       "      <td>Hold or Sell</td>\n",
       "      <td>2.5511</td>\n",
       "      <td>Hold or Sell</td>\n",
       "      <td>3.2182</td>\n",
       "      <td>11.1443</td>\n",
       "    </tr>\n",
       "    <tr>\n",
       "      <th>40</th>\n",
       "      <td>vbiv</td>\n",
       "      <td>Hold or Sell</td>\n",
       "      <td>1.8829</td>\n",
       "      <td>Hold or Sell</td>\n",
       "      <td>1.2913</td>\n",
       "      <td>Hold or Sell</td>\n",
       "      <td>1.3766</td>\n",
       "      <td>-0.8435</td>\n",
       "    </tr>\n",
       "    <tr>\n",
       "      <th>41</th>\n",
       "      <td>vbr</td>\n",
       "      <td>Hold or Sell</td>\n",
       "      <td>1.3878</td>\n",
       "      <td>Hold or Sell</td>\n",
       "      <td>1.4198</td>\n",
       "      <td>Hold or Sell</td>\n",
       "      <td>1.4242</td>\n",
       "      <td>1.5853</td>\n",
       "    </tr>\n",
       "    <tr>\n",
       "      <th>42</th>\n",
       "      <td>viov</td>\n",
       "      <td>Hold or Sell</td>\n",
       "      <td>1.5881</td>\n",
       "      <td>Hold or Sell</td>\n",
       "      <td>1.3573</td>\n",
       "      <td>Hold or Sell</td>\n",
       "      <td>1.1264</td>\n",
       "      <td>1.3957</td>\n",
       "    </tr>\n",
       "    <tr>\n",
       "      <th>43</th>\n",
       "      <td>vgt</td>\n",
       "      <td>Hold or Sell</td>\n",
       "      <td>2.7985</td>\n",
       "      <td>Hold or Sell</td>\n",
       "      <td>4.1160</td>\n",
       "      <td>Hold or Sell</td>\n",
       "      <td>3.4046</td>\n",
       "      <td>5.2157</td>\n",
       "    </tr>\n",
       "    <tr>\n",
       "      <th>44</th>\n",
       "      <td>xlk</td>\n",
       "      <td>Hold or Sell</td>\n",
       "      <td>5.0074</td>\n",
       "      <td>Hold or Sell</td>\n",
       "      <td>5.8550</td>\n",
       "      <td>Hold or Sell</td>\n",
       "      <td>4.2208</td>\n",
       "      <td>6.0435</td>\n",
       "    </tr>\n",
       "  </tbody>\n",
       "</table>\n",
       "</div>"
      ],
      "text/plain": [
       "   stock    1_Day_Pred  1_Day_Model_Return    3_Day_Pred  3_Day_Model_Return  \\\n",
       "0      a  Hold or Sell              3.3522  Hold or Sell              4.2768   \n",
       "1   aapl           Buy              2.8725           Buy              2.7282   \n",
       "2    acy  Hold or Sell              0.4612  Hold or Sell              0.6778   \n",
       "3   adbe  Hold or Sell              8.1054  Hold or Sell              6.3021   \n",
       "4    alb  Hold or Sell              1.5747  Hold or Sell              1.7329   \n",
       "5   amat  Hold or Sell              6.8309  Hold or Sell              9.1122   \n",
       "6    amd  Hold or Sell              6.7093  Hold or Sell              7.6494   \n",
       "7   amgn  Hold or Sell              4.5135  Hold or Sell              4.3386   \n",
       "8   amzn  Hold or Sell              3.4900  Hold or Sell              3.0022   \n",
       "9   baba  Hold or Sell              1.2717  Hold or Sell              1.3390   \n",
       "10   bac  Hold or Sell              5.9374  Hold or Sell              6.1370   \n",
       "11  bpmc  Hold or Sell              2.1644  Hold or Sell              1.8868   \n",
       "12   crm  Hold or Sell              2.6120  Hold or Sell              1.8628   \n",
       "13  crsp  Hold or Sell              0.9635  Hold or Sell              0.7072   \n",
       "14    dq  Hold or Sell              6.8718  Hold or Sell              7.2498   \n",
       "15  esgv  Hold or Sell              1.1392  Hold or Sell              1.1289   \n",
       "16  fslr  Hold or Sell              2.2030  Hold or Sell              1.9720   \n",
       "17  goog  Hold or Sell              2.4626  Hold or Sell              1.9769   \n",
       "18   ibm           Buy              2.8039           Buy              4.5667   \n",
       "19  intc  Hold or Sell              6.2962  Hold or Sell              5.8502   \n",
       "20   iyw  Hold or Sell              3.1045  Hold or Sell              4.3700   \n",
       "21   lng  Hold or Sell              1.2600  Hold or Sell              0.8439   \n",
       "22    ma  Hold or Sell              2.4946  Hold or Sell              3.4096   \n",
       "23   mdb  Hold or Sell              0.6894  Hold or Sell              1.0735   \n",
       "24  msft  Hold or Sell              9.5850  Hold or Sell             11.3468   \n",
       "25    mu  Hold or Sell              3.0359  Hold or Sell              2.5640   \n",
       "26   nee  Hold or Sell              4.4969  Hold or Sell              5.7804   \n",
       "27   nio  Hold or Sell              2.0874  Hold or Sell              1.7573   \n",
       "28  nvda  Hold or Sell             12.3192  Hold or Sell              8.8787   \n",
       "29  pacb  Hold or Sell              1.3456  Hold or Sell              1.7500   \n",
       "30  pypl  Hold or Sell              2.7282  Hold or Sell              2.0341   \n",
       "31  qgen  Hold or Sell              1.6858  Hold or Sell              2.3821   \n",
       "32   run  Hold or Sell              1.2323  Hold or Sell              1.2399   \n",
       "33  okta  Hold or Sell              1.1065  Hold or Sell              0.9946   \n",
       "34  orcl  Hold or Sell              2.9935  Hold or Sell              3.6158   \n",
       "35   qqq  Hold or Sell              3.1363  Hold or Sell              3.7258   \n",
       "36  srpt  Hold or Sell              1.3806  Hold or Sell              0.9323   \n",
       "37  tpic  Hold or Sell              0.9669           Buy              1.3104   \n",
       "38  tsla           Buy              4.3334           Buy              1.7068   \n",
       "39     v  Hold or Sell              2.6483  Hold or Sell              2.5511   \n",
       "40  vbiv  Hold or Sell              1.8829  Hold or Sell              1.2913   \n",
       "41   vbr  Hold or Sell              1.3878  Hold or Sell              1.4198   \n",
       "42  viov  Hold or Sell              1.5881  Hold or Sell              1.3573   \n",
       "43   vgt  Hold or Sell              2.7985  Hold or Sell              4.1160   \n",
       "44   xlk  Hold or Sell              5.0074  Hold or Sell              5.8550   \n",
       "\n",
       "      5_Day_Pred  5_Day_Model_Return  Actual_Returns  \n",
       "0   Hold or Sell              3.7151          6.6119  \n",
       "1            Buy              4.3636        316.4243  \n",
       "2   Hold or Sell              0.4477          1.5735  \n",
       "3   Hold or Sell              7.1638         72.1539  \n",
       "4   Hold or Sell              1.6805         13.6233  \n",
       "5   Hold or Sell             11.2514        202.9061  \n",
       "6   Hold or Sell              9.8023         15.5532  \n",
       "7   Hold or Sell              5.1929         24.5945  \n",
       "8   Hold or Sell              3.9163        101.3975  \n",
       "9   Hold or Sell              1.2885          2.0250  \n",
       "10  Hold or Sell              7.6529          7.1355  \n",
       "11  Hold or Sell              1.7748          2.2950  \n",
       "12  Hold or Sell              2.2809         14.7237  \n",
       "13  Hold or Sell              0.8775          6.1436  \n",
       "14  Hold or Sell              6.4176         58.1842  \n",
       "15  Hold or Sell              1.1520          0.5108  \n",
       "16  Hold or Sell              1.7046         -0.3052  \n",
       "17  Hold or Sell              3.3440         10.7501  \n",
       "18           Buy              3.8990          6.5897  \n",
       "19  Hold or Sell              6.5020         41.3770  \n",
       "20  Hold or Sell              2.9839          6.2696  \n",
       "21  Hold or Sell              0.9655         72.1922  \n",
       "22  Hold or Sell              2.1056         15.9192  \n",
       "23  Hold or Sell              0.8369          3.5925  \n",
       "24  Hold or Sell              8.0014         59.1726  \n",
       "25  Hold or Sell              2.8780         17.1124  \n",
       "26  Hold or Sell              3.8966         25.9587  \n",
       "27  Hold or Sell              1.6079          8.2982  \n",
       "28  Hold or Sell             13.8167        147.3686  \n",
       "29  Hold or Sell              1.8307         11.6169  \n",
       "30  Hold or Sell              2.7275          5.3805  \n",
       "31  Hold or Sell              2.4965          7.4991  \n",
       "32  Hold or Sell              1.0066          9.7380  \n",
       "33  Hold or Sell              1.0522          5.2781  \n",
       "34  Hold or Sell              3.1780         33.4632  \n",
       "35  Hold or Sell              3.1906          8.0068  \n",
       "36  Hold or Sell              1.8621          1.3592  \n",
       "37  Hold or Sell              1.2646          1.3804  \n",
       "38  Hold or Sell              2.2083         87.7340  \n",
       "39  Hold or Sell              3.2182         11.1443  \n",
       "40  Hold or Sell              1.3766         -0.8435  \n",
       "41  Hold or Sell              1.4242          1.5853  \n",
       "42  Hold or Sell              1.1264          1.3957  \n",
       "43  Hold or Sell              3.4046          5.2157  \n",
       "44  Hold or Sell              4.2208          6.0435  "
      ]
     },
     "execution_count": 29,
     "metadata": {},
     "output_type": "execute_result"
    }
   ],
   "source": [
    "summary_df = a.pred_summary_df(start_dates, stocks = [x for x in start_dates], days_back = 1)\n",
    "summary_df"
   ]
  },
  {
   "cell_type": "code",
   "execution_count": 30,
   "metadata": {},
   "outputs": [
    {
     "data": {
      "text/plain": [
       "(2.6483, 2.3821, 2.7275, 8.2982)"
      ]
     },
     "execution_count": 30,
     "metadata": {},
     "output_type": "execute_result"
    }
   ],
   "source": [
    "summary_df['1_Day_Model_Return'].median(), summary_df['3_Day_Model_Return'].median(), summary_df['5_Day_Model_Return'].median(), summary_df['Actual_Returns'].median()"
   ]
  },
  {
   "cell_type": "code",
   "execution_count": null,
   "metadata": {},
   "outputs": [],
   "source": []
  },
  {
   "cell_type": "code",
   "execution_count": null,
   "metadata": {},
   "outputs": [],
   "source": []
  },
  {
   "cell_type": "code",
   "execution_count": null,
   "metadata": {},
   "outputs": [],
   "source": []
  },
  {
   "cell_type": "code",
   "execution_count": null,
   "metadata": {},
   "outputs": [],
   "source": []
  }
 ],
 "metadata": {
  "kernelspec": {
   "display_name": "Python 3",
   "language": "python",
   "name": "python3"
  },
  "language_info": {
   "codemirror_mode": {
    "name": "ipython",
    "version": 3
   },
   "file_extension": ".py",
   "mimetype": "text/x-python",
   "name": "python",
   "nbconvert_exporter": "python",
   "pygments_lexer": "ipython3",
   "version": "3.8.5"
  }
 },
 "nbformat": 4,
 "nbformat_minor": 4
}
