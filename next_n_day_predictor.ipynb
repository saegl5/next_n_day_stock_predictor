{
 "cells": [
  {
   "cell_type": "code",
   "execution_count": 1,
   "metadata": {
    "scrolled": true
   },
   "outputs": [],
   "source": [
    "from src import attributes as a\n",
    "%load_ext autoreload\n",
    "%autoreload 2"
   ]
  },
  {
   "cell_type": "code",
   "execution_count": 2,
   "metadata": {},
   "outputs": [],
   "source": [
    "# Global Variables\n",
    "stock_name = 'msft' # ticker symbol\n",
    "train = 0 # 1 for train, 0 for pass\n",
    "days_ahead = 1 # for predicting 1, 3, or 5 days ahead\n",
    "days_back = -1 # -1 for current data point, -2 for two days ago, etc...\n",
    "cv = 5 # number of cross validation folds\n",
    "model_name = 'Random Forest Classifier' # for display on charts, not a tuning parameter"
   ]
  },
  {
   "cell_type": "code",
   "execution_count": 3,
   "metadata": {},
   "outputs": [],
   "source": [
    "# Extract, Transform, Load, and Train Test Split\n",
    "# Dictionary of IPO Dates\n",
    "start_dates = {'a': '11/15/1999' # Updated 2/14/21 1D, 3D, 5D ahead\n",
    "               , 'aapl':'12/12/1980' # Updated 2/14/21 1D, 3D, 5D ahead\n",
    "               , 'acy': '01/18/1998' # Updated 2/14/21 1D, 3D, 5D ahead\n",
    "               , 'adbe': '08/11/1986' # Updated 2/14/21 1D, 3D, 5D ahead\n",
    "               , 'alb': '02/21/1994' # Updated 2/14/21 1D, 3D, 5D ahead\n",
    "               , 'amat': '03/16/1980' # Updated 2/14/21 1D, 3D, 5D ahead\n",
    "               , 'amd': '03/17/1980' # Updated 2/14/21 1D, 3D, 5D ahead\n",
    "               , 'amgn': '06/13/1983' # Updated 2/14/21 1D, 3D, 5D ahead\n",
    "               , 'amzn': '05/12/1997' # Updated 2/14/21 1D, 3D, 5D ahead\n",
    "               , 'baba': '09/15/2014' # Updated 2/14/21 1D, 3D, 5D ahead\n",
    "               , 'bac': '02/19/1973' # Updated 2/14/21 1D, 3D, 5D ahead\n",
    "               , 'bpmc': '04/27/2015' # Updated 2/14/21 1D, 3D, 5D ahead\n",
    "               , 'crm': '06/23/2004' # Updated 2/14/21 1D, 3D, 5D ahead\n",
    "               , 'crsp': '10/16/2016' # Updated 2/14/21 1D, 3D, 5D ahead\n",
    "               , 'dq': '10/04/2010' # Updated 2/14/21 1D, 3D, 5D ahead\n",
    "               , 'esgv': '09/16/2018' # Updated 2/15/21 1D, 3D, 5D ahead\n",
    "               , 'fslr': '11/12/2006' # Updated 2/15/21 1D, 3D, 5D ahead\n",
    "               , 'goog': '08/16/2004' # Updated 2/15/21 1D, 3D, 5D ahead\n",
    "               , 'ibm': '01/02/1962' # Updated 2/15/21 1D, 3D, 5D ahead\n",
    "               , 'intc': '03/16/1980' # Updated 2/15/21 1D, 3D, 5D ahead\n",
    "               , 'iyw': '05/15/2000' # Updated 2/15/21 1D, 3D, 5D ahead\n",
    "               , 'lng': '04/04/1994' # Updated 2/15/21 1D, 3D, 5D ahead\n",
    "               , 'ma': '05/21/2006' # Updated 2/15/21 1D, 3D, 5D ahead\n",
    "               , 'mdb': '10/15/2017' # Updated 2/15/21 1D, 3D, 5D ahead\n",
    "               , 'msft': '03/10/1986' # Updated 2/15/21 1D, 3D, 5D ahead\n",
    "               , 'mu': '05/28/1984' # Updated 2/15/21 1D, 3D, 5D ahead\n",
    "               , 'nee': '02/19/1973' # Updated 2/15/21 1D, 3D, 5D ahead\n",
    "               , 'nio': '09/10/2018' # Updated 2/15/21 1D, 3D, 5D ahead\n",
    "               , 'nvda': '01/22/1999' # Updated 2/15/21 1D, 3D, 5D ahead\n",
    "               , 'pacb': '10/25/2010' # Updated 2/15/21 1D, 3D, 5D ahead\n",
    "               , 'pypl': '07/05/2015' # Updated 2/16/21 1D, 3D, 5D ahead\n",
    "               , 'qgen': '06/24/1996' # Updated 2/16/21 1D, 3D, 5D ahead\n",
    "               , 'run': '08/02/2015' # Updated 2/16/21 1D, 3D, 5D ahead\n",
    "               , 'okta': '04/03/2017' # Updated 2/16/21 1D, 3D, 5D ahead\n",
    "               , 'orcl': '03/10/1986' # Updated 2/16/21 1D, 3D, 5D ahead\n",
    "               , 'qqq': '03/08/1999' # Updated 2/16/21 1D, 3D, 5D ahead\n",
    "               , 'srpt': '06/02/1997' # Updated 2/16/21 1D, 3D, 5D ahead\n",
    "               , 'tpic': '07/17/2016' # Updated 2/16/21 1D, 3D, 5D ahead\n",
    "               , 'tsla': '06/29/2010' # Updated 2/16/21 1D, 3D, 5D ahead\n",
    "               , 'v': '03/16/2008' # Updated 2/16/21 1D, 3D, 5D ahead\n",
    "               , 'vbiv': '09/04/2002' # Updated 2/16/21 1D, 3D, 5D ahead\n",
    "               , 'vbr': '01/26/2004' # Updated 2/16/21 1D, 3D, 5D ahead\n",
    "               , 'viov': '09/06/2010' # Updated 2/16/21 1D, 3D, 5D ahead\n",
    "               , 'vgt': '01/26/2004' # Updated 2/16/21 1D, 3D, 5D ahead\n",
    "               , 'xlk': '12/21/1998' # Updated 2/16/21 1D, 3D, 5D ahead\n",
    "              }"
   ]
  },
  {
   "cell_type": "code",
   "execution_count": null,
   "metadata": {},
   "outputs": [],
   "source": []
  },
  {
   "cell_type": "code",
   "execution_count": null,
   "metadata": {},
   "outputs": [],
   "source": []
  },
  {
   "cell_type": "code",
   "execution_count": null,
   "metadata": {},
   "outputs": [],
   "source": []
  },
  {
   "cell_type": "code",
   "execution_count": 4,
   "metadata": {},
   "outputs": [],
   "source": [
    "# X_train, X_test, y_train, y_test, stock_df = a.data(stock_name, start_dates[stock_name], days_ahead)\n",
    "# stock_df.tail(10)"
   ]
  },
  {
   "cell_type": "code",
   "execution_count": 5,
   "metadata": {
    "scrolled": false
   },
   "outputs": [],
   "source": [
    "# GridSerach to find best hyperparameters to prevent overfitting, can be commented out once trained\n",
    "# if train == 1:\n",
    "#     a.rfc_GridSearch(X_train, y_train, stock_name, days_ahead, cv)\n",
    "# elif train == 0:\n",
    "#     pass"
   ]
  },
  {
   "cell_type": "code",
   "execution_count": 6,
   "metadata": {},
   "outputs": [],
   "source": [
    "# Load RandomForextClassifier Model\n",
    "# rfc_model, y_pred, y_probs = a.rfc(X_train, X_test, y_train, stock_name, days_ahead)"
   ]
  },
  {
   "cell_type": "code",
   "execution_count": 7,
   "metadata": {
    "scrolled": false
   },
   "outputs": [],
   "source": [
    "# ROC Curve\n",
    "# a.roc_plot(y_test, y_probs, stock_name, model_name)"
   ]
  },
  {
   "cell_type": "code",
   "execution_count": 8,
   "metadata": {
    "scrolled": false
   },
   "outputs": [],
   "source": [
    "# Precision Recall Curve\n",
    "# a.prec_recall(y_test, y_probs, stock_name, model_name)"
   ]
  },
  {
   "cell_type": "code",
   "execution_count": 9,
   "metadata": {
    "scrolled": false
   },
   "outputs": [],
   "source": [
    "# Confusion Matrix\n",
    "# a.confusion_matrix(rfc_model, X_test, y_test, stock_name)"
   ]
  },
  {
   "cell_type": "code",
   "execution_count": 10,
   "metadata": {},
   "outputs": [],
   "source": [
    "# Cross Validation\n",
    "# a.cross_validation(rfc_model\n",
    "#                    , stock_df[['oc', 'hl', '5stdev_adj', '5sma_adj']]\n",
    "#                    , stock_df['direction']\n",
    "#                    , cv = 5\n",
    "#                   )"
   ]
  },
  {
   "cell_type": "markdown",
   "metadata": {},
   "source": [
    "### Prediction..."
   ]
  },
  {
   "cell_type": "code",
   "execution_count": 11,
   "metadata": {
    "scrolled": true
   },
   "outputs": [],
   "source": [
    "# Prediction, use last day of data\n",
    "# stock_df.iloc[-1]"
   ]
  },
  {
   "cell_type": "code",
   "execution_count": 12,
   "metadata": {},
   "outputs": [],
   "source": [
    "# import numpy as np\n",
    "# last = stock_df[['oc', 'hl', '5stdev_adj', '5sma_adj']].iloc[-days_back]\n",
    "# last"
   ]
  },
  {
   "cell_type": "code",
   "execution_count": 13,
   "metadata": {},
   "outputs": [],
   "source": [
    "# stock_df['adj'].describe()"
   ]
  },
  {
   "cell_type": "code",
   "execution_count": 14,
   "metadata": {
    "scrolled": true
   },
   "outputs": [],
   "source": [
    "# if rfc_model.predict(np.array(last).reshape(1, -1))[0] == 1:\n",
    "#     print(f'Buy {stock_name} {days_ahead} day(s) ahead')\n",
    "# else:\n",
    "#     print(f'Sell or hold {stock_name} {days_ahead} day(s) ahead')"
   ]
  },
  {
   "cell_type": "markdown",
   "metadata": {},
   "source": [
    "### Strategy Returns..."
   ]
  },
  {
   "cell_type": "code",
   "execution_count": 15,
   "metadata": {},
   "outputs": [],
   "source": [
    "# returns on strategy column\n",
    "# stock_df['prediction'] = rfc_model.predict(stock_df[['oc', 'hl', '5stdev_adj', '5sma_adj']])\n",
    "# stock_df['returns'] = stock_df['adj'].shift(-1, fill_value = stock_df['adj'].median()) * stock_df['prediction']"
   ]
  },
  {
   "cell_type": "code",
   "execution_count": 16,
   "metadata": {},
   "outputs": [],
   "source": [
    "# stock_df.tail(5)"
   ]
  },
  {
   "cell_type": "code",
   "execution_count": 17,
   "metadata": {},
   "outputs": [],
   "source": [
    "# Don't trade every day!\n",
    "# import matplotlib.pyplot as plt\n",
    "# test_length = len(y_test)\n",
    "# (stock_df['returns'][-test_length:] + 1).cumprod().plot()\n",
    "# plt.title(f'{stock_name} Expected Returns %');"
   ]
  },
  {
   "cell_type": "code",
   "execution_count": 18,
   "metadata": {},
   "outputs": [],
   "source": [
    "# Model returns if bought on predictions of 1\n",
    "# returns_on_ones = []\n",
    "# for idx in range(-test_length, 0):\n",
    "#     if stock_df['prediction'][idx] == 1:\n",
    "#         returns_on_ones.append(1 + stock_df['returns'][idx])\n",
    "\n",
    "# returns = 1\n",
    "# for x in returns_on_ones:\n",
    "#     returns *= x\n",
    "# returns"
   ]
  },
  {
   "cell_type": "code",
   "execution_count": 19,
   "metadata": {},
   "outputs": [],
   "source": [
    "# multiple times original investment, not bad but..."
   ]
  },
  {
   "cell_type": "code",
   "execution_count": 20,
   "metadata": {},
   "outputs": [],
   "source": [
    "# If purchased in 2012 and left it until now\n",
    "# test_idx = int(len(stock_df)*0.75)\n",
    "# (stock_df['Close'][-1] - stock_df['Close'][-test_idx]) / stock_df['Close'][-test_idx]"
   ]
  },
  {
   "cell_type": "code",
   "execution_count": 21,
   "metadata": {},
   "outputs": [],
   "source": [
    "# Buy and hold strategy beats RandomForestClassifier in this study\n",
    "\n",
    "# Special thanks to Shagufta Tahsildar at https://blog.quantinsti.com/random-forest-algorithm-in-python/"
   ]
  },
  {
   "cell_type": "code",
   "execution_count": null,
   "metadata": {},
   "outputs": [],
   "source": []
  },
  {
   "cell_type": "code",
   "execution_count": null,
   "metadata": {},
   "outputs": [],
   "source": []
  },
  {
   "cell_type": "code",
   "execution_count": null,
   "metadata": {},
   "outputs": [],
   "source": []
  },
  {
   "cell_type": "markdown",
   "metadata": {},
   "source": [
    "### Training"
   ]
  },
  {
   "cell_type": "markdown",
   "metadata": {},
   "source": [
    "Training is done once a week on Saturday and Sunday"
   ]
  },
  {
   "cell_type": "code",
   "execution_count": 22,
   "metadata": {},
   "outputs": [
    {
     "data": {
      "text/plain": [
       "45"
      ]
     },
     "execution_count": 22,
     "metadata": {},
     "output_type": "execute_result"
    }
   ],
   "source": [
    "len(start_dates)"
   ]
  },
  {
   "cell_type": "code",
   "execution_count": 23,
   "metadata": {},
   "outputs": [
    {
     "data": {
      "text/plain": [
       "{'a': '11/15/1999',\n",
       " 'aapl': '12/12/1980',\n",
       " 'acy': '01/18/1998',\n",
       " 'adbe': '08/11/1986',\n",
       " 'alb': '02/21/1994',\n",
       " 'amat': '03/16/1980',\n",
       " 'amd': '03/17/1980',\n",
       " 'amgn': '06/13/1983',\n",
       " 'amzn': '05/12/1997',\n",
       " 'baba': '09/15/2014',\n",
       " 'bac': '02/19/1973',\n",
       " 'bpmc': '04/27/2015',\n",
       " 'crm': '06/23/2004',\n",
       " 'crsp': '10/16/2016',\n",
       " 'dq': '10/04/2010'}"
      ]
     },
     "execution_count": 23,
     "metadata": {},
     "output_type": "execute_result"
    }
   ],
   "source": [
    "import itertools as itr\n",
    "start_dates1 = dict(itr.islice(start_dates.items(), 0, 15))\n",
    "start_dates1"
   ]
  },
  {
   "cell_type": "code",
   "execution_count": 24,
   "metadata": {},
   "outputs": [
    {
     "data": {
      "text/plain": [
       "{'esgv': '09/16/2018',\n",
       " 'fslr': '11/12/2006',\n",
       " 'goog': '08/16/2004',\n",
       " 'ibm': '01/02/1962',\n",
       " 'intc': '03/16/1980',\n",
       " 'iyw': '05/15/2000',\n",
       " 'lng': '04/04/1994',\n",
       " 'ma': '05/21/2006',\n",
       " 'mdb': '10/15/2017',\n",
       " 'msft': '03/10/1986',\n",
       " 'mu': '05/28/1984',\n",
       " 'nee': '02/19/1973',\n",
       " 'nio': '09/10/2018',\n",
       " 'nvda': '01/22/1999',\n",
       " 'pacb': '10/25/2010'}"
      ]
     },
     "execution_count": 24,
     "metadata": {},
     "output_type": "execute_result"
    }
   ],
   "source": [
    "start_dates2 = dict(itr.islice(start_dates.items(), 15, 30))\n",
    "start_dates2"
   ]
  },
  {
   "cell_type": "code",
   "execution_count": 25,
   "metadata": {},
   "outputs": [
    {
     "data": {
      "text/plain": [
       "{'pypl': '07/05/2015',\n",
       " 'qgen': '06/24/1996',\n",
       " 'run': '08/02/2015',\n",
       " 'okta': '04/03/2017',\n",
       " 'orcl': '03/10/1986',\n",
       " 'qqq': '03/08/1999',\n",
       " 'srpt': '06/02/1997',\n",
       " 'tpic': '07/17/2016',\n",
       " 'tsla': '06/29/2010',\n",
       " 'v': '03/16/2008',\n",
       " 'vbiv': '09/04/2002',\n",
       " 'vbr': '01/26/2004',\n",
       " 'viov': '09/06/2010',\n",
       " 'vgt': '01/26/2004',\n",
       " 'xlk': '12/21/1998'}"
      ]
     },
     "execution_count": 25,
     "metadata": {},
     "output_type": "execute_result"
    }
   ],
   "source": [
    "start_dates3 = dict(itr.islice(start_dates.items(), 30, 45+1))\n",
    "start_dates3"
   ]
  },
  {
   "cell_type": "code",
   "execution_count": 26,
   "metadata": {},
   "outputs": [],
   "source": [
    "#Train 15 at a time!\n",
    "# stocks = [x for x in start_dates1]\n",
    "# days_ahead = [1, 3, 5]\n",
    "# cv = 5\n",
    "# for stock in stocks:\n",
    "#     for days in days_ahead:\n",
    "#         X_train, X_test, y_train, y_test, stock_df = a.data(stock, start_dates[stock], days)\n",
    "#         a.rfc_GridSearch(X_train, y_train, stock, days, cv)\n",
    "# len(stocks)\n",
    "\n",
    "# stocks = [x for x in start_dates2]\n",
    "# days_ahead = [1, 3, 5]\n",
    "# cv = 5\n",
    "# for stock in stocks:\n",
    "#     for days in days_ahead:\n",
    "#         X_train, X_test, y_train, y_test, stock_df = a.data(stock, start_dates[stock], days)\n",
    "#         a.rfc_GridSearch(X_train, y_train, stock, days, cv)\n",
    "# len(stocks)\n",
    "\n",
    "# stocks = [x for x in start_dates3]\n",
    "# days_ahead = [1, 3, 5]\n",
    "# cv = 5\n",
    "# for stock in stocks:\n",
    "#     for days in days_ahead:\n",
    "#         X_train, X_test, y_train, y_test, stock_df = a.data(stock, start_dates[stock], days)\n",
    "#         a.rfc_GridSearch(X_train, y_train, stock, days, cv)\n",
    "# len(stocks)\n",
    "\n",
    "# Train all, takes 15+ hours\n",
    "# stocks = [x for x in start_dates]\n",
    "# days_ahead = [1, 3, 5]\n",
    "# cv = 5\n",
    "# for stock in stocks:\n",
    "#     for days in days_ahead:\n",
    "#         X_train, X_test, y_train, y_test, stock_df = a.data(stock, start_dates[stock], days)\n",
    "#         a.rfc_GridSearch(X_train, y_train, stock, days, cv)\n",
    "# len(stocks)\n",
    "\n",
    "# Train desired stocks...takes less time\n",
    "# stocks = ['aapl']\n",
    "# days_ahead = [1, 3, 5]\n",
    "# cv = 5\n",
    "# for stock in stocks:\n",
    "#     for days in days_ahead:\n",
    "#         X_train, X_test, y_train, y_test, stock_df = a.data(stock, start_dates[stock], days)\n",
    "#         a.rfc_GridSearch(X_train, y_train, stock, days, cv)"
   ]
  },
  {
   "cell_type": "code",
   "execution_count": null,
   "metadata": {},
   "outputs": [],
   "source": []
  },
  {
   "cell_type": "code",
   "execution_count": null,
   "metadata": {},
   "outputs": [],
   "source": []
  },
  {
   "cell_type": "code",
   "execution_count": null,
   "metadata": {},
   "outputs": [],
   "source": []
  },
  {
   "cell_type": "markdown",
   "metadata": {},
   "source": [
    "### Display All Results"
   ]
  },
  {
   "cell_type": "code",
   "execution_count": 27,
   "metadata": {
    "scrolled": false
   },
   "outputs": [
    {
     "name": "stdout",
     "output_type": "stream",
     "text": [
      "Sell or hold tsla 5 day(s) ahead\n",
      "Model Returns (x 100 for %): 1.9501\n",
      "Stock Returns (x 100 for %): 91.7089\n"
     ]
    },
    {
     "data": {
      "image/png": "[encoded data removed]",
      "text/plain": [
       "<Figure size 432x288 with 1 Axes>"
      ]
     },
     "metadata": {},
     "output_type": "display_data"
    },
    {
     "data": {
      "image/png": "[encoded data removed]",
      "text/plain": [
       "<Figure size 648x504 with 1 Axes>"
      ]
     },
     "metadata": {},
     "output_type": "display_data"
    },
    {
     "data": {
      "image/png": "[encoded data removed]",
      "text/plain": [
       "<Figure size 648x504 with 1 Axes>"
      ]
     },
     "metadata": {},
     "output_type": "display_data"
    },
    {
     "data": {
      "image/png": "[encoded data removed]",
      "text/plain": [
       "<Figure size 684x612 with 2 Axes>"
      ]
     },
     "metadata": {},
     "output_type": "display_data"
    }
   ],
   "source": [
    "stock_name = 'tsla'\n",
    "a.all_func(stock_name\n",
    "           , start_dates[stock_name]\n",
    "           , days_ahead = 5\n",
    "           , model_name = model_name\n",
    "           , days_back = 1\n",
    "          )"
   ]
  },
  {
   "cell_type": "code",
   "execution_count": null,
   "metadata": {},
   "outputs": [],
   "source": []
  },
  {
   "cell_type": "code",
   "execution_count": null,
   "metadata": {},
   "outputs": [],
   "source": []
  },
  {
   "cell_type": "code",
   "execution_count": null,
   "metadata": {},
   "outputs": [],
   "source": []
  },
  {
   "cell_type": "markdown",
   "metadata": {},
   "source": [
    "### Data Frame of Predictions 1 3 5 Days"
   ]
  },
  {
   "cell_type": "code",
   "execution_count": 28,
   "metadata": {},
   "outputs": [
    {
     "name": "stdout",
     "output_type": "stream",
     "text": [
      "Today's date: 2021-02-23\n"
     ]
    }
   ],
   "source": [
    "from datetime import date\n",
    "\n",
    "today = date.today()\n",
    "print(\"Today's date:\", today)"
   ]
  },
  {
   "cell_type": "code",
   "execution_count": 29,
   "metadata": {
    "scrolled": false
   },
   "outputs": [
    {
     "data": {
      "text/html": [
       "<div>\n",
       "<style scoped>\n",
       "    .dataframe tbody tr th:only-of-type {\n",
       "        vertical-align: middle;\n",
       "    }\n",
       "\n",
       "    .dataframe tbody tr th {\n",
       "        vertical-align: top;\n",
       "    }\n",
       "\n",
       "    .dataframe thead th {\n",
       "        text-align: right;\n",
       "    }\n",
       "</style>\n",
       "<table border=\"1\" class=\"dataframe\">\n",
       "  <thead>\n",
       "    <tr style=\"text-align: right;\">\n",
       "      <th></th>\n",
       "      <th>stock</th>\n",
       "      <th>1_Day_Pred</th>\n",
       "      <th>1_Day_Model_Return</th>\n",
       "      <th>3_Day_Pred</th>\n",
       "      <th>3_Day_Model_Return</th>\n",
       "      <th>5_Day_Pred</th>\n",
       "      <th>5_Day_Model_Return</th>\n",
       "      <th>Actual_Returns</th>\n",
       "    </tr>\n",
       "  </thead>\n",
       "  <tbody>\n",
       "    <tr>\n",
       "      <th>0</th>\n",
       "      <td>a</td>\n",
       "      <td>Buy</td>\n",
       "      <td>3.1098</td>\n",
       "      <td>Buy</td>\n",
       "      <td>3.9780</td>\n",
       "      <td>Buy</td>\n",
       "      <td>4.0053</td>\n",
       "      <td>6.5962</td>\n",
       "    </tr>\n",
       "    <tr>\n",
       "      <th>1</th>\n",
       "      <td>aapl</td>\n",
       "      <td>Hold or Sell</td>\n",
       "      <td>2.8164</td>\n",
       "      <td>Buy</td>\n",
       "      <td>3.1428</td>\n",
       "      <td>Hold or Sell</td>\n",
       "      <td>3.4627</td>\n",
       "      <td>326.8210</td>\n",
       "    </tr>\n",
       "    <tr>\n",
       "      <th>2</th>\n",
       "      <td>acy</td>\n",
       "      <td>Buy</td>\n",
       "      <td>0.4484</td>\n",
       "      <td>Buy</td>\n",
       "      <td>0.7398</td>\n",
       "      <td>Buy</td>\n",
       "      <td>0.5751</td>\n",
       "      <td>2.2353</td>\n",
       "    </tr>\n",
       "    <tr>\n",
       "      <th>3</th>\n",
       "      <td>adbe</td>\n",
       "      <td>Hold or Sell</td>\n",
       "      <td>7.3805</td>\n",
       "      <td>Hold or Sell</td>\n",
       "      <td>6.1013</td>\n",
       "      <td>Hold or Sell</td>\n",
       "      <td>6.7376</td>\n",
       "      <td>73.4756</td>\n",
       "    </tr>\n",
       "    <tr>\n",
       "      <th>4</th>\n",
       "      <td>alb</td>\n",
       "      <td>Hold or Sell</td>\n",
       "      <td>1.7204</td>\n",
       "      <td>Hold or Sell</td>\n",
       "      <td>1.8852</td>\n",
       "      <td>Hold or Sell</td>\n",
       "      <td>2.0963</td>\n",
       "      <td>13.2179</td>\n",
       "    </tr>\n",
       "    <tr>\n",
       "      <th>5</th>\n",
       "      <td>amat</td>\n",
       "      <td>Hold or Sell</td>\n",
       "      <td>6.7334</td>\n",
       "      <td>Hold or Sell</td>\n",
       "      <td>8.3124</td>\n",
       "      <td>Hold or Sell</td>\n",
       "      <td>9.1476</td>\n",
       "      <td>209.8642</td>\n",
       "    </tr>\n",
       "    <tr>\n",
       "      <th>6</th>\n",
       "      <td>amd</td>\n",
       "      <td>Buy</td>\n",
       "      <td>8.5808</td>\n",
       "      <td>Hold or Sell</td>\n",
       "      <td>6.4711</td>\n",
       "      <td>Hold or Sell</td>\n",
       "      <td>9.7029</td>\n",
       "      <td>16.3826</td>\n",
       "    </tr>\n",
       "    <tr>\n",
       "      <th>7</th>\n",
       "      <td>amgn</td>\n",
       "      <td>Buy</td>\n",
       "      <td>4.0797</td>\n",
       "      <td>Hold or Sell</td>\n",
       "      <td>4.1127</td>\n",
       "      <td>Hold or Sell</td>\n",
       "      <td>5.3535</td>\n",
       "      <td>24.6066</td>\n",
       "    </tr>\n",
       "    <tr>\n",
       "      <th>8</th>\n",
       "      <td>amzn</td>\n",
       "      <td>Hold or Sell</td>\n",
       "      <td>3.5089</td>\n",
       "      <td>Hold or Sell</td>\n",
       "      <td>3.9632</td>\n",
       "      <td>Hold or Sell</td>\n",
       "      <td>4.3933</td>\n",
       "      <td>105.6255</td>\n",
       "    </tr>\n",
       "    <tr>\n",
       "      <th>9</th>\n",
       "      <td>baba</td>\n",
       "      <td>Buy</td>\n",
       "      <td>1.3336</td>\n",
       "      <td>Buy</td>\n",
       "      <td>1.1148</td>\n",
       "      <td>Hold or Sell</td>\n",
       "      <td>1.2050</td>\n",
       "      <td>2.2063</td>\n",
       "    </tr>\n",
       "    <tr>\n",
       "      <th>10</th>\n",
       "      <td>bac</td>\n",
       "      <td>Hold or Sell</td>\n",
       "      <td>4.2183</td>\n",
       "      <td>Hold or Sell</td>\n",
       "      <td>4.2371</td>\n",
       "      <td>Hold or Sell</td>\n",
       "      <td>5.5900</td>\n",
       "      <td>6.5524</td>\n",
       "    </tr>\n",
       "    <tr>\n",
       "      <th>11</th>\n",
       "      <td>bpmc</td>\n",
       "      <td>Hold or Sell</td>\n",
       "      <td>2.9593</td>\n",
       "      <td>Hold or Sell</td>\n",
       "      <td>1.6582</td>\n",
       "      <td>Hold or Sell</td>\n",
       "      <td>1.4374</td>\n",
       "      <td>2.3720</td>\n",
       "    </tr>\n",
       "    <tr>\n",
       "      <th>12</th>\n",
       "      <td>crm</td>\n",
       "      <td>Buy</td>\n",
       "      <td>2.5144</td>\n",
       "      <td>Hold or Sell</td>\n",
       "      <td>2.2686</td>\n",
       "      <td>Buy</td>\n",
       "      <td>2.5521</td>\n",
       "      <td>15.5332</td>\n",
       "    </tr>\n",
       "    <tr>\n",
       "      <th>13</th>\n",
       "      <td>crsp</td>\n",
       "      <td>Hold or Sell</td>\n",
       "      <td>1.0901</td>\n",
       "      <td>Hold or Sell</td>\n",
       "      <td>0.5881</td>\n",
       "      <td>Buy</td>\n",
       "      <td>0.7385</td>\n",
       "      <td>5.7582</td>\n",
       "    </tr>\n",
       "    <tr>\n",
       "      <th>14</th>\n",
       "      <td>dq</td>\n",
       "      <td>Hold or Sell</td>\n",
       "      <td>8.1722</td>\n",
       "      <td>Buy</td>\n",
       "      <td>5.8899</td>\n",
       "      <td>Hold or Sell</td>\n",
       "      <td>6.0220</td>\n",
       "      <td>47.2570</td>\n",
       "    </tr>\n",
       "    <tr>\n",
       "      <th>15</th>\n",
       "      <td>esgv</td>\n",
       "      <td>Hold or Sell</td>\n",
       "      <td>1.1334</td>\n",
       "      <td>Hold or Sell</td>\n",
       "      <td>1.0741</td>\n",
       "      <td>Hold or Sell</td>\n",
       "      <td>1.1208</td>\n",
       "      <td>0.4532</td>\n",
       "    </tr>\n",
       "    <tr>\n",
       "      <th>16</th>\n",
       "      <td>fslr</td>\n",
       "      <td>Hold or Sell</td>\n",
       "      <td>2.1107</td>\n",
       "      <td>Hold or Sell</td>\n",
       "      <td>1.9851</td>\n",
       "      <td>Hold or Sell</td>\n",
       "      <td>1.8564</td>\n",
       "      <td>-0.2898</td>\n",
       "    </tr>\n",
       "    <tr>\n",
       "      <th>17</th>\n",
       "      <td>goog</td>\n",
       "      <td>Hold or Sell</td>\n",
       "      <td>2.3353</td>\n",
       "      <td>Hold or Sell</td>\n",
       "      <td>2.0357</td>\n",
       "      <td>Hold or Sell</td>\n",
       "      <td>3.0054</td>\n",
       "      <td>11.6368</td>\n",
       "    </tr>\n",
       "    <tr>\n",
       "      <th>18</th>\n",
       "      <td>ibm</td>\n",
       "      <td>Buy</td>\n",
       "      <td>2.4345</td>\n",
       "      <td>Buy</td>\n",
       "      <td>4.3136</td>\n",
       "      <td>Buy</td>\n",
       "      <td>3.0906</td>\n",
       "      <td>6.1268</td>\n",
       "    </tr>\n",
       "    <tr>\n",
       "      <th>19</th>\n",
       "      <td>intc</td>\n",
       "      <td>Hold or Sell</td>\n",
       "      <td>5.7943</td>\n",
       "      <td>Hold or Sell</td>\n",
       "      <td>6.0028</td>\n",
       "      <td>Hold or Sell</td>\n",
       "      <td>5.0829</td>\n",
       "      <td>40.7246</td>\n",
       "    </tr>\n",
       "    <tr>\n",
       "      <th>20</th>\n",
       "      <td>iyw</td>\n",
       "      <td>Hold or Sell</td>\n",
       "      <td>2.7822</td>\n",
       "      <td>Hold or Sell</td>\n",
       "      <td>3.9808</td>\n",
       "      <td>Hold or Sell</td>\n",
       "      <td>3.4169</td>\n",
       "      <td>6.3141</td>\n",
       "    </tr>\n",
       "    <tr>\n",
       "      <th>21</th>\n",
       "      <td>lng</td>\n",
       "      <td>Hold or Sell</td>\n",
       "      <td>1.2112</td>\n",
       "      <td>Hold or Sell</td>\n",
       "      <td>0.8063</td>\n",
       "      <td>Hold or Sell</td>\n",
       "      <td>0.9525</td>\n",
       "      <td>54.5920</td>\n",
       "    </tr>\n",
       "    <tr>\n",
       "      <th>22</th>\n",
       "      <td>ma</td>\n",
       "      <td>Hold or Sell</td>\n",
       "      <td>2.3918</td>\n",
       "      <td>Hold or Sell</td>\n",
       "      <td>3.1176</td>\n",
       "      <td>Hold or Sell</td>\n",
       "      <td>2.1526</td>\n",
       "      <td>14.4779</td>\n",
       "    </tr>\n",
       "    <tr>\n",
       "      <th>23</th>\n",
       "      <td>mdb</td>\n",
       "      <td>Buy</td>\n",
       "      <td>1.0437</td>\n",
       "      <td>Buy</td>\n",
       "      <td>0.9145</td>\n",
       "      <td>Buy</td>\n",
       "      <td>0.8713</td>\n",
       "      <td>4.3755</td>\n",
       "    </tr>\n",
       "    <tr>\n",
       "      <th>24</th>\n",
       "      <td>msft</td>\n",
       "      <td>Hold or Sell</td>\n",
       "      <td>8.9389</td>\n",
       "      <td>Hold or Sell</td>\n",
       "      <td>9.2083</td>\n",
       "      <td>Hold or Sell</td>\n",
       "      <td>12.2464</td>\n",
       "      <td>58.6575</td>\n",
       "    </tr>\n",
       "    <tr>\n",
       "      <th>25</th>\n",
       "      <td>mu</td>\n",
       "      <td>Hold or Sell</td>\n",
       "      <td>3.3027</td>\n",
       "      <td>Hold or Sell</td>\n",
       "      <td>3.5367</td>\n",
       "      <td>Hold or Sell</td>\n",
       "      <td>3.0992</td>\n",
       "      <td>17.9742</td>\n",
       "    </tr>\n",
       "    <tr>\n",
       "      <th>26</th>\n",
       "      <td>nee</td>\n",
       "      <td>Buy</td>\n",
       "      <td>3.8445</td>\n",
       "      <td>Buy</td>\n",
       "      <td>5.1280</td>\n",
       "      <td>Buy</td>\n",
       "      <td>3.9486</td>\n",
       "      <td>25.7120</td>\n",
       "    </tr>\n",
       "    <tr>\n",
       "      <th>27</th>\n",
       "      <td>nio</td>\n",
       "      <td>Hold or Sell</td>\n",
       "      <td>1.8399</td>\n",
       "      <td>Buy</td>\n",
       "      <td>1.6314</td>\n",
       "      <td>Hold or Sell</td>\n",
       "      <td>1.3458</td>\n",
       "      <td>9.4936</td>\n",
       "    </tr>\n",
       "    <tr>\n",
       "      <th>28</th>\n",
       "      <td>nvda</td>\n",
       "      <td>Hold or Sell</td>\n",
       "      <td>9.9466</td>\n",
       "      <td>Buy</td>\n",
       "      <td>11.9268</td>\n",
       "      <td>Hold or Sell</td>\n",
       "      <td>13.8030</td>\n",
       "      <td>158.6463</td>\n",
       "    </tr>\n",
       "    <tr>\n",
       "      <th>29</th>\n",
       "      <td>pacb</td>\n",
       "      <td>Hold or Sell</td>\n",
       "      <td>1.4267</td>\n",
       "      <td>Hold or Sell</td>\n",
       "      <td>1.8508</td>\n",
       "      <td>Hold or Sell</td>\n",
       "      <td>2.7006</td>\n",
       "      <td>12.9026</td>\n",
       "    </tr>\n",
       "    <tr>\n",
       "      <th>30</th>\n",
       "      <td>pypl</td>\n",
       "      <td>Hold or Sell</td>\n",
       "      <td>2.8847</td>\n",
       "      <td>Hold or Sell</td>\n",
       "      <td>2.5340</td>\n",
       "      <td>Buy</td>\n",
       "      <td>2.9151</td>\n",
       "      <td>5.7966</td>\n",
       "    </tr>\n",
       "    <tr>\n",
       "      <th>31</th>\n",
       "      <td>qgen</td>\n",
       "      <td>Hold or Sell</td>\n",
       "      <td>2.3103</td>\n",
       "      <td>Hold or Sell</td>\n",
       "      <td>2.2822</td>\n",
       "      <td>Buy</td>\n",
       "      <td>3.0419</td>\n",
       "      <td>7.7729</td>\n",
       "    </tr>\n",
       "    <tr>\n",
       "      <th>32</th>\n",
       "      <td>run</td>\n",
       "      <td>Buy</td>\n",
       "      <td>0.7356</td>\n",
       "      <td>Buy</td>\n",
       "      <td>1.1089</td>\n",
       "      <td>Buy</td>\n",
       "      <td>1.0070</td>\n",
       "      <td>10.3189</td>\n",
       "    </tr>\n",
       "    <tr>\n",
       "      <th>33</th>\n",
       "      <td>okta</td>\n",
       "      <td>Buy</td>\n",
       "      <td>1.2052</td>\n",
       "      <td>Hold or Sell</td>\n",
       "      <td>1.1386</td>\n",
       "      <td>Hold or Sell</td>\n",
       "      <td>1.1281</td>\n",
       "      <td>5.8397</td>\n",
       "    </tr>\n",
       "    <tr>\n",
       "      <th>34</th>\n",
       "      <td>orcl</td>\n",
       "      <td>Hold or Sell</td>\n",
       "      <td>3.3715</td>\n",
       "      <td>Hold or Sell</td>\n",
       "      <td>3.5991</td>\n",
       "      <td>Hold or Sell</td>\n",
       "      <td>3.7349</td>\n",
       "      <td>31.0521</td>\n",
       "    </tr>\n",
       "    <tr>\n",
       "      <th>35</th>\n",
       "      <td>qqq</td>\n",
       "      <td>Hold or Sell</td>\n",
       "      <td>2.8981</td>\n",
       "      <td>Hold or Sell</td>\n",
       "      <td>2.9759</td>\n",
       "      <td>Hold or Sell</td>\n",
       "      <td>3.0508</td>\n",
       "      <td>8.0227</td>\n",
       "    </tr>\n",
       "    <tr>\n",
       "      <th>36</th>\n",
       "      <td>srpt</td>\n",
       "      <td>Hold or Sell</td>\n",
       "      <td>1.4061</td>\n",
       "      <td>Hold or Sell</td>\n",
       "      <td>1.6232</td>\n",
       "      <td>Hold or Sell</td>\n",
       "      <td>1.7175</td>\n",
       "      <td>1.3759</td>\n",
       "    </tr>\n",
       "    <tr>\n",
       "      <th>37</th>\n",
       "      <td>tpic</td>\n",
       "      <td>Buy</td>\n",
       "      <td>0.9424</td>\n",
       "      <td>Hold or Sell</td>\n",
       "      <td>2.0850</td>\n",
       "      <td>Hold or Sell</td>\n",
       "      <td>1.4995</td>\n",
       "      <td>1.9456</td>\n",
       "    </tr>\n",
       "    <tr>\n",
       "      <th>38</th>\n",
       "      <td>tsla</td>\n",
       "      <td>Hold or Sell</td>\n",
       "      <td>2.4360</td>\n",
       "      <td>Hold or Sell</td>\n",
       "      <td>1.5545</td>\n",
       "      <td>Hold or Sell</td>\n",
       "      <td>1.9501</td>\n",
       "      <td>91.7089</td>\n",
       "    </tr>\n",
       "    <tr>\n",
       "      <th>39</th>\n",
       "      <td>v</td>\n",
       "      <td>Hold or Sell</td>\n",
       "      <td>2.5688</td>\n",
       "      <td>Hold or Sell</td>\n",
       "      <td>2.5590</td>\n",
       "      <td>Hold or Sell</td>\n",
       "      <td>2.9230</td>\n",
       "      <td>10.3307</td>\n",
       "    </tr>\n",
       "    <tr>\n",
       "      <th>40</th>\n",
       "      <td>vbiv</td>\n",
       "      <td>Buy</td>\n",
       "      <td>0.6385</td>\n",
       "      <td>Buy</td>\n",
       "      <td>0.9868</td>\n",
       "      <td>Buy</td>\n",
       "      <td>1.2851</td>\n",
       "      <td>-0.8380</td>\n",
       "    </tr>\n",
       "    <tr>\n",
       "      <th>41</th>\n",
       "      <td>vbr</td>\n",
       "      <td>Hold or Sell</td>\n",
       "      <td>1.4082</td>\n",
       "      <td>Hold or Sell</td>\n",
       "      <td>1.1373</td>\n",
       "      <td>Hold or Sell</td>\n",
       "      <td>1.5359</td>\n",
       "      <td>1.4650</td>\n",
       "    </tr>\n",
       "    <tr>\n",
       "      <th>42</th>\n",
       "      <td>viov</td>\n",
       "      <td>Hold or Sell</td>\n",
       "      <td>1.3197</td>\n",
       "      <td>Hold or Sell</td>\n",
       "      <td>1.2380</td>\n",
       "      <td>Hold or Sell</td>\n",
       "      <td>1.2809</td>\n",
       "      <td>1.1847</td>\n",
       "    </tr>\n",
       "    <tr>\n",
       "      <th>43</th>\n",
       "      <td>vgt</td>\n",
       "      <td>Hold or Sell</td>\n",
       "      <td>2.8408</td>\n",
       "      <td>Hold or Sell</td>\n",
       "      <td>2.6165</td>\n",
       "      <td>Hold or Sell</td>\n",
       "      <td>3.1415</td>\n",
       "      <td>5.4046</td>\n",
       "    </tr>\n",
       "    <tr>\n",
       "      <th>44</th>\n",
       "      <td>xlk</td>\n",
       "      <td>Hold or Sell</td>\n",
       "      <td>4.2212</td>\n",
       "      <td>Buy</td>\n",
       "      <td>5.2068</td>\n",
       "      <td>Hold or Sell</td>\n",
       "      <td>3.8423</td>\n",
       "      <td>5.8853</td>\n",
       "    </tr>\n",
       "  </tbody>\n",
       "</table>\n",
       "</div>"
      ],
      "text/plain": [
       "   stock    1_Day_Pred  1_Day_Model_Return    3_Day_Pred  3_Day_Model_Return  \\\n",
       "0      a           Buy              3.1098           Buy              3.9780   \n",
       "1   aapl  Hold or Sell              2.8164           Buy              3.1428   \n",
       "2    acy           Buy              0.4484           Buy              0.7398   \n",
       "3   adbe  Hold or Sell              7.3805  Hold or Sell              6.1013   \n",
       "4    alb  Hold or Sell              1.7204  Hold or Sell              1.8852   \n",
       "5   amat  Hold or Sell              6.7334  Hold or Sell              8.3124   \n",
       "6    amd           Buy              8.5808  Hold or Sell              6.4711   \n",
       "7   amgn           Buy              4.0797  Hold or Sell              4.1127   \n",
       "8   amzn  Hold or Sell              3.5089  Hold or Sell              3.9632   \n",
       "9   baba           Buy              1.3336           Buy              1.1148   \n",
       "10   bac  Hold or Sell              4.2183  Hold or Sell              4.2371   \n",
       "11  bpmc  Hold or Sell              2.9593  Hold or Sell              1.6582   \n",
       "12   crm           Buy              2.5144  Hold or Sell              2.2686   \n",
       "13  crsp  Hold or Sell              1.0901  Hold or Sell              0.5881   \n",
       "14    dq  Hold or Sell              8.1722           Buy              5.8899   \n",
       "15  esgv  Hold or Sell              1.1334  Hold or Sell              1.0741   \n",
       "16  fslr  Hold or Sell              2.1107  Hold or Sell              1.9851   \n",
       "17  goog  Hold or Sell              2.3353  Hold or Sell              2.0357   \n",
       "18   ibm           Buy              2.4345           Buy              4.3136   \n",
       "19  intc  Hold or Sell              5.7943  Hold or Sell              6.0028   \n",
       "20   iyw  Hold or Sell              2.7822  Hold or Sell              3.9808   \n",
       "21   lng  Hold or Sell              1.2112  Hold or Sell              0.8063   \n",
       "22    ma  Hold or Sell              2.3918  Hold or Sell              3.1176   \n",
       "23   mdb           Buy              1.0437           Buy              0.9145   \n",
       "24  msft  Hold or Sell              8.9389  Hold or Sell              9.2083   \n",
       "25    mu  Hold or Sell              3.3027  Hold or Sell              3.5367   \n",
       "26   nee           Buy              3.8445           Buy              5.1280   \n",
       "27   nio  Hold or Sell              1.8399           Buy              1.6314   \n",
       "28  nvda  Hold or Sell              9.9466           Buy             11.9268   \n",
       "29  pacb  Hold or Sell              1.4267  Hold or Sell              1.8508   \n",
       "30  pypl  Hold or Sell              2.8847  Hold or Sell              2.5340   \n",
       "31  qgen  Hold or Sell              2.3103  Hold or Sell              2.2822   \n",
       "32   run           Buy              0.7356           Buy              1.1089   \n",
       "33  okta           Buy              1.2052  Hold or Sell              1.1386   \n",
       "34  orcl  Hold or Sell              3.3715  Hold or Sell              3.5991   \n",
       "35   qqq  Hold or Sell              2.8981  Hold or Sell              2.9759   \n",
       "36  srpt  Hold or Sell              1.4061  Hold or Sell              1.6232   \n",
       "37  tpic           Buy              0.9424  Hold or Sell              2.0850   \n",
       "38  tsla  Hold or Sell              2.4360  Hold or Sell              1.5545   \n",
       "39     v  Hold or Sell              2.5688  Hold or Sell              2.5590   \n",
       "40  vbiv           Buy              0.6385           Buy              0.9868   \n",
       "41   vbr  Hold or Sell              1.4082  Hold or Sell              1.1373   \n",
       "42  viov  Hold or Sell              1.3197  Hold or Sell              1.2380   \n",
       "43   vgt  Hold or Sell              2.8408  Hold or Sell              2.6165   \n",
       "44   xlk  Hold or Sell              4.2212           Buy              5.2068   \n",
       "\n",
       "      5_Day_Pred  5_Day_Model_Return  Actual_Returns  \n",
       "0            Buy              4.0053          6.5962  \n",
       "1   Hold or Sell              3.4627        326.8210  \n",
       "2            Buy              0.5751          2.2353  \n",
       "3   Hold or Sell              6.7376         73.4756  \n",
       "4   Hold or Sell              2.0963         13.2179  \n",
       "5   Hold or Sell              9.1476        209.8642  \n",
       "6   Hold or Sell              9.7029         16.3826  \n",
       "7   Hold or Sell              5.3535         24.6066  \n",
       "8   Hold or Sell              4.3933        105.6255  \n",
       "9   Hold or Sell              1.2050          2.2063  \n",
       "10  Hold or Sell              5.5900          6.5524  \n",
       "11  Hold or Sell              1.4374          2.3720  \n",
       "12           Buy              2.5521         15.5332  \n",
       "13           Buy              0.7385          5.7582  \n",
       "14  Hold or Sell              6.0220         47.2570  \n",
       "15  Hold or Sell              1.1208          0.4532  \n",
       "16  Hold or Sell              1.8564         -0.2898  \n",
       "17  Hold or Sell              3.0054         11.6368  \n",
       "18           Buy              3.0906          6.1268  \n",
       "19  Hold or Sell              5.0829         40.7246  \n",
       "20  Hold or Sell              3.4169          6.3141  \n",
       "21  Hold or Sell              0.9525         54.5920  \n",
       "22  Hold or Sell              2.1526         14.4779  \n",
       "23           Buy              0.8713          4.3755  \n",
       "24  Hold or Sell             12.2464         58.6575  \n",
       "25  Hold or Sell              3.0992         17.9742  \n",
       "26           Buy              3.9486         25.7120  \n",
       "27  Hold or Sell              1.3458          9.4936  \n",
       "28  Hold or Sell             13.8030        158.6463  \n",
       "29  Hold or Sell              2.7006         12.9026  \n",
       "30           Buy              2.9151          5.7966  \n",
       "31           Buy              3.0419          7.7729  \n",
       "32           Buy              1.0070         10.3189  \n",
       "33  Hold or Sell              1.1281          5.8397  \n",
       "34  Hold or Sell              3.7349         31.0521  \n",
       "35  Hold or Sell              3.0508          8.0227  \n",
       "36  Hold or Sell              1.7175          1.3759  \n",
       "37  Hold or Sell              1.4995          1.9456  \n",
       "38  Hold or Sell              1.9501         91.7089  \n",
       "39  Hold or Sell              2.9230         10.3307  \n",
       "40           Buy              1.2851         -0.8380  \n",
       "41  Hold or Sell              1.5359          1.4650  \n",
       "42  Hold or Sell              1.2809          1.1847  \n",
       "43  Hold or Sell              3.1415          5.4046  \n",
       "44  Hold or Sell              3.8423          5.8853  "
      ]
     },
     "execution_count": 29,
     "metadata": {},
     "output_type": "execute_result"
    }
   ],
   "source": [
    "summary_df = a.pred_summary_df(start_dates, stocks = [x for x in start_dates], days_back = 1)\n",
    "summary_df"
   ]
  },
  {
   "cell_type": "code",
   "execution_count": 30,
   "metadata": {},
   "outputs": [
    {
     "data": {
      "text/plain": [
       "(2.5144, 2.534, 2.923, 9.4936)"
      ]
     },
     "execution_count": 30,
     "metadata": {},
     "output_type": "execute_result"
    }
   ],
   "source": [
    "summary_df['1_Day_Model_Return'].median(), summary_df['3_Day_Model_Return'].median(), summary_df['5_Day_Model_Return'].median(), summary_df['Actual_Returns'].median()"
   ]
  },
  {
   "cell_type": "code",
   "execution_count": null,
   "metadata": {},
   "outputs": [],
   "source": []
  },
  {
   "cell_type": "code",
   "execution_count": null,
   "metadata": {},
   "outputs": [],
   "source": []
  },
  {
   "cell_type": "code",
   "execution_count": null,
   "metadata": {},
   "outputs": [],
   "source": []
  },
  {
   "cell_type": "code",
   "execution_count": null,
   "metadata": {},
   "outputs": [],
   "source": []
  }
 ],
 "metadata": {
  "kernelspec": {
   "display_name": "Python 3",
   "language": "python",
   "name": "python3"
  },
  "language_info": {
   "codemirror_mode": {
    "name": "ipython",
    "version": 3
   },
   "file_extension": ".py",
   "mimetype": "text/x-python",
   "name": "python",
   "nbconvert_exporter": "python",
   "pygments_lexer": "ipython3",
   "version": "3.8.5"
  }
 },
 "nbformat": 4,
 "nbformat_minor": 4
}
