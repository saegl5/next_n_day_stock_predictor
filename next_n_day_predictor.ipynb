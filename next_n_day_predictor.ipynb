{
 "cells": [
  {
   "cell_type": "code",
   "execution_count": 1,
   "metadata": {
    "scrolled": true
   },
   "outputs": [],
   "source": [
    "from src import attributes as a\n",
    "%load_ext autoreload\n",
    "%autoreload 2"
   ]
  },
  {
   "cell_type": "code",
   "execution_count": 2,
   "metadata": {},
   "outputs": [],
   "source": [
    "# Global Variables\n",
    "stock_name = 'msft' # ticker symbol\n",
    "train = 0 # 1 for train, 0 for pass\n",
    "days_ahead = 1 # for predicting 1, 3, or 5 days ahead\n",
    "days_back = -1 # -1 for current data point, -2 for two days ago, etc...\n",
    "cv = 5 # number of cross validation folds\n",
    "model_name = 'Random Forest Classifier' # for display on charts, not a tuning parameter"
   ]
  },
  {
   "cell_type": "code",
   "execution_count": 3,
   "metadata": {},
   "outputs": [],
   "source": [
    "# Extract, Transform, Load, and Train Test Split\n",
    "# Dictionary of IPO Dates\n",
    "start_dates = {'a': '11/15/1999' # Updated 1/17/21 1D, 3D, 5D ahead\n",
    "               , 'aapl':'12/12/1980' # Updated 1/17/21 1D, 3D, 5D ahead\n",
    "               , 'acy': '01/18/1998' # Updated 1/17/21 1D, 3D, 5D ahead\n",
    "               , 'adbe': '08/11/1986' # Updated 1/17/21 1D, 3D, 5D ahead\n",
    "               , 'alb': '02/21/1994' # Updated 1/17/21 1D, 3D, 5D ahead\n",
    "               , 'amat': '03/16/1980' # Updated 1/17/21 1D, 3D, 5D ahead\n",
    "               , 'amd': '03/17/1980' # Updated 1/17/21 1D, 3D, 5D ahead\n",
    "               , 'amzn': '05/12/1997' # Updated 1/17/21 1D, 3D, 5D ahead\n",
    "               , 'baba': '09/15/2014' # Updated 1/17/21 1D, 3D, 5D ahead\n",
    "               , 'bac': '02/19/1973' # Updated 1/17/21 1D, 3D, 5D ahead\n",
    "               , 'bpmc': '04/27/2015' # Updated 1/17/21 1D, 3D, 5D ahead\n",
    "               , 'crm': '06/23/2004' # Updated 1/17/21 1D, 3D, 5D ahead\n",
    "               , 'crsp': '10/16/2016' # Updated 1/17/21 1D, 3D, 5D ahead\n",
    "               , 'dq': '10/04/2010' # Updated 1/17/21 1D, 3D, 5D ahead\n",
    "               , 'esgv': '09/16/2018' # Updated 1/17/21 1D, 3D, 5D ahead\n",
    "               , 'fslr': '11/12/2006' # Updated 1/17/21 1D, 3D, 5D ahead\n",
    "               , 'goog': '08/16/2004' # Updated 1/17/21 1D, 3D, 5D ahead\n",
    "               , 'ibm': '01/02/1962' # Updated 1/17/21 1D, 3D, 5D ahead\n",
    "               , 'idex': '05/23/2007' # Updated 1/17/21 1D, 3D, 5D ahead\n",
    "               , 'intc': '03/16/1980' # Updated 1/17/21 1D, 3D, 5D ahead\n",
    "               , 'iyw': '05/15/2000' # Updated 1/17/21 1D, 3D, 5D ahead\n",
    "               , 'lng': '04/04/1994' # Updated 1/17/21 1D, 3D, 5D ahead\n",
    "               , 'ma': '05/21/2006' # Updated 1/17/21 1D, 3D, 5D ahead\n",
    "               , 'mdb': '10/15/2017' # Updated 1/17/21 1D, 3D, 5D ahead\n",
    "               , 'msft': '03/10/1986' # Updated 1/17/21 1D, 3D, 5D ahead\n",
    "               , 'mu': '05/28/1984' # Updated 1/17/21 1D, 3D, 5D ahead\n",
    "               , 'nee': '02/19/1973' # Updated 1/17/21 1D, 3D, 5D ahead\n",
    "               , 'nga': '10/08/2020' # Updated 1/17/21 1D, 3D, 5D ahead\n",
    "               , 'nio': '09/10/2018' # Updated 1/17/21 1D, 3D, 5D ahead\n",
    "               , 'nvda': '01/22/1999' # Updated 1/17/21 1D, 3D, 5D ahead\n",
    "               , 'pacb': '10/25/2010' # Updated 1/17/21 1D, 3D, 5D ahead\n",
    "               , 'pypl': '07/05/2015' # Updated 1/17/21 1D, 3D, 5D ahead\n",
    "               , 'qgen': '06/24/1996' # Updated 1/17/21 1D, 3D, 5D ahead\n",
    "               , 'run': '08/02/2015' # Updated 1/17/21 1D, 3D, 5D ahead\n",
    "               , 'orcl': '03/10/1986' # Updated 1/17/21 1D, 3D, 5D ahead\n",
    "               , 'qqq': '03/08/1999' # Updated 1/17/21 1D, 3D, 5D ahead\n",
    "               , 'srpt': '06/02/1997' # Updated 1/17/21 1D, 3D, 5D ahead\n",
    "               , 'tpic': '07/17/2016' # Updated 1/17/21 1D, 3D, 5D ahead\n",
    "               , 'tsla': '06/29/2010' # Updated 1/17/21 1D, 3D, 5D ahead\n",
    "               , 'v': '03/16/2008' # Updated 1/17/21 1D, 3D, 5D ahead\n",
    "               , 'vbiv': '09/04/2002' # Updated 1/17/21 1D, 3D, 5D ahead\n",
    "               , 'vbr': '01/26/2004' # Updated 1/17/21 1D, 3D, 5D ahead\n",
    "               , 'viov': '09/06/2010' # Updated 1/17/21 1D, 3D, 5D ahead\n",
    "               , 'vgt': '01/26/2004' # Updated 1/17/21 1D, 3D, 5D ahead\n",
    "               , 'xlk': '12/21/1998' # Updated 1/17/21 1D, 3D, 5D ahead\n",
    "              }"
   ]
  },
  {
   "cell_type": "code",
   "execution_count": null,
   "metadata": {},
   "outputs": [],
   "source": []
  },
  {
   "cell_type": "code",
   "execution_count": null,
   "metadata": {},
   "outputs": [],
   "source": []
  },
  {
   "cell_type": "code",
   "execution_count": null,
   "metadata": {},
   "outputs": [],
   "source": []
  },
  {
   "cell_type": "code",
   "execution_count": 4,
   "metadata": {},
   "outputs": [],
   "source": [
    "# X_train, X_test, y_train, y_test, stock_df = a.data(stock_name, start_dates[stock_name], days_ahead)\n",
    "# stock_df.tail(10)"
   ]
  },
  {
   "cell_type": "code",
   "execution_count": 5,
   "metadata": {
    "scrolled": false
   },
   "outputs": [],
   "source": [
    "# GridSerach to find best hyperparameters to prevent overfitting, can be commented out once trained\n",
    "# if train == 1:\n",
    "#     a.rfc_GridSearch(X_train, y_train, stock_name, days_ahead, cv)\n",
    "# elif train == 0:\n",
    "#     pass"
   ]
  },
  {
   "cell_type": "code",
   "execution_count": 6,
   "metadata": {},
   "outputs": [],
   "source": [
    "# Load RandomForextClassifier Model\n",
    "# rfc_model, y_pred, y_probs = a.rfc(X_train, X_test, y_train, stock_name, days_ahead)"
   ]
  },
  {
   "cell_type": "code",
   "execution_count": 7,
   "metadata": {
    "scrolled": false
   },
   "outputs": [],
   "source": [
    "# ROC Curve\n",
    "# a.roc_plot(y_test, y_probs, stock_name, model_name)"
   ]
  },
  {
   "cell_type": "code",
   "execution_count": 8,
   "metadata": {
    "scrolled": false
   },
   "outputs": [],
   "source": [
    "# Precision Recall Curve\n",
    "# a.prec_recall(y_test, y_probs, stock_name, model_name)"
   ]
  },
  {
   "cell_type": "code",
   "execution_count": 9,
   "metadata": {
    "scrolled": false
   },
   "outputs": [],
   "source": [
    "# Confusion Matrix\n",
    "# a.confusion_matrix(rfc_model, X_test, y_test, stock_name)"
   ]
  },
  {
   "cell_type": "code",
   "execution_count": 10,
   "metadata": {},
   "outputs": [],
   "source": [
    "# Cross Validation\n",
    "# a.cross_validation(rfc_model\n",
    "#                    , stock_df[['oc', 'hl', '5stdev_adj', '5sma_adj']]\n",
    "#                    , stock_df['direction']\n",
    "#                    , cv = 5\n",
    "#                   )"
   ]
  },
  {
   "cell_type": "markdown",
   "metadata": {},
   "source": [
    "### Prediction..."
   ]
  },
  {
   "cell_type": "code",
   "execution_count": 11,
   "metadata": {
    "scrolled": true
   },
   "outputs": [],
   "source": [
    "# Prediction, use last day of data\n",
    "# stock_df.iloc[-1]"
   ]
  },
  {
   "cell_type": "code",
   "execution_count": 12,
   "metadata": {},
   "outputs": [],
   "source": [
    "# import numpy as np\n",
    "# last = stock_df[['oc', 'hl', '5stdev_adj', '5sma_adj']].iloc[-days_back]\n",
    "# last"
   ]
  },
  {
   "cell_type": "code",
   "execution_count": 13,
   "metadata": {},
   "outputs": [],
   "source": [
    "# stock_df['adj'].describe()"
   ]
  },
  {
   "cell_type": "code",
   "execution_count": 14,
   "metadata": {
    "scrolled": true
   },
   "outputs": [],
   "source": [
    "# if rfc_model.predict(np.array(last).reshape(1, -1))[0] == 1:\n",
    "#     print(f'Buy {stock_name} {days_ahead} day(s) ahead')\n",
    "# else:\n",
    "#     print(f'Sell or hold {stock_name} {days_ahead} day(s) ahead')"
   ]
  },
  {
   "cell_type": "markdown",
   "metadata": {},
   "source": [
    "### Strategy Returns..."
   ]
  },
  {
   "cell_type": "code",
   "execution_count": 15,
   "metadata": {},
   "outputs": [],
   "source": [
    "# returns on strategy column\n",
    "# stock_df['prediction'] = rfc_model.predict(stock_df[['oc', 'hl', '5stdev_adj', '5sma_adj']])\n",
    "# stock_df['returns'] = stock_df['adj'].shift(-1, fill_value = stock_df['adj'].median()) * stock_df['prediction']"
   ]
  },
  {
   "cell_type": "code",
   "execution_count": 16,
   "metadata": {},
   "outputs": [],
   "source": [
    "# stock_df.tail(5)"
   ]
  },
  {
   "cell_type": "code",
   "execution_count": 17,
   "metadata": {},
   "outputs": [],
   "source": [
    "# Don't trade every day!\n",
    "# import matplotlib.pyplot as plt\n",
    "# test_length = len(y_test)\n",
    "# (stock_df['returns'][-test_length:] + 1).cumprod().plot()\n",
    "# plt.title(f'{stock_name} Expected Returns %');"
   ]
  },
  {
   "cell_type": "code",
   "execution_count": 18,
   "metadata": {},
   "outputs": [],
   "source": [
    "# Model returns if bought on predictions of 1\n",
    "# returns_on_ones = []\n",
    "# for idx in range(-test_length, 0):\n",
    "#     if stock_df['prediction'][idx] == 1:\n",
    "#         returns_on_ones.append(1 + stock_df['returns'][idx])\n",
    "\n",
    "# returns = 1\n",
    "# for x in returns_on_ones:\n",
    "#     returns *= x\n",
    "# returns"
   ]
  },
  {
   "cell_type": "code",
   "execution_count": 19,
   "metadata": {},
   "outputs": [],
   "source": [
    "# multiple times original investment, not bad but..."
   ]
  },
  {
   "cell_type": "code",
   "execution_count": 20,
   "metadata": {},
   "outputs": [],
   "source": [
    "# If purchased in 2012 and left it until now\n",
    "# test_idx = int(len(stock_df)*0.75)\n",
    "# (stock_df['Close'][-1] - stock_df['Close'][-test_idx]) / stock_df['Close'][-test_idx]"
   ]
  },
  {
   "cell_type": "code",
   "execution_count": 21,
   "metadata": {},
   "outputs": [],
   "source": [
    "# Buy and hold strategy beats RandomForestClassifier in this study\n",
    "\n",
    "# Special thanks to Shagufta Tahsildar at https://blog.quantinsti.com/random-forest-algorithm-in-python/"
   ]
  },
  {
   "cell_type": "code",
   "execution_count": null,
   "metadata": {},
   "outputs": [],
   "source": []
  },
  {
   "cell_type": "code",
   "execution_count": null,
   "metadata": {},
   "outputs": [],
   "source": []
  },
  {
   "cell_type": "code",
   "execution_count": null,
   "metadata": {},
   "outputs": [],
   "source": []
  },
  {
   "cell_type": "markdown",
   "metadata": {},
   "source": [
    "### Training"
   ]
  },
  {
   "cell_type": "markdown",
   "metadata": {},
   "source": [
    "Training is done once a week on Saturday and Sunday"
   ]
  },
  {
   "cell_type": "code",
   "execution_count": 22,
   "metadata": {},
   "outputs": [
    {
     "data": {
      "text/plain": [
       "45"
      ]
     },
     "execution_count": 22,
     "metadata": {},
     "output_type": "execute_result"
    }
   ],
   "source": [
    "len(start_dates)"
   ]
  },
  {
   "cell_type": "code",
   "execution_count": 23,
   "metadata": {},
   "outputs": [
    {
     "data": {
      "text/plain": [
       "{'a': '11/15/1999',\n",
       " 'aapl': '12/12/1980',\n",
       " 'acy': '01/18/1998',\n",
       " 'adbe': '08/11/1986',\n",
       " 'alb': '02/21/1994',\n",
       " 'amat': '03/16/1980',\n",
       " 'amd': '03/17/1980',\n",
       " 'amzn': '05/12/1997',\n",
       " 'baba': '09/15/2014',\n",
       " 'bac': '02/19/1973',\n",
       " 'bpmc': '04/27/2015',\n",
       " 'crm': '06/23/2004',\n",
       " 'crsp': '10/16/2016',\n",
       " 'dq': '10/04/2010',\n",
       " 'esgv': '09/16/2018'}"
      ]
     },
     "execution_count": 23,
     "metadata": {},
     "output_type": "execute_result"
    }
   ],
   "source": [
    "import itertools as itr\n",
    "start_dates1 = dict(itr.islice(start_dates.items(), 0, 15))\n",
    "start_dates1"
   ]
  },
  {
   "cell_type": "code",
   "execution_count": 24,
   "metadata": {},
   "outputs": [
    {
     "data": {
      "text/plain": [
       "{'fslr': '11/12/2006',\n",
       " 'goog': '08/16/2004',\n",
       " 'ibm': '01/02/1962',\n",
       " 'idex': '05/23/2007',\n",
       " 'intc': '03/16/1980',\n",
       " 'iyw': '05/15/2000',\n",
       " 'lng': '04/04/1994',\n",
       " 'ma': '05/21/2006',\n",
       " 'mdb': '10/15/2017',\n",
       " 'msft': '03/10/1986',\n",
       " 'mu': '05/28/1984',\n",
       " 'nee': '02/19/1973',\n",
       " 'nga': '10/08/2020',\n",
       " 'nio': '09/10/2018',\n",
       " 'nvda': '01/22/1999'}"
      ]
     },
     "execution_count": 24,
     "metadata": {},
     "output_type": "execute_result"
    }
   ],
   "source": [
    "start_dates2 = dict(itr.islice(start_dates.items(), 15, 30))\n",
    "start_dates2"
   ]
  },
  {
   "cell_type": "code",
   "execution_count": 25,
   "metadata": {},
   "outputs": [
    {
     "data": {
      "text/plain": [
       "{'pacb': '10/25/2010',\n",
       " 'pypl': '07/05/2015',\n",
       " 'qgen': '06/24/1996',\n",
       " 'run': '08/02/2015',\n",
       " 'orcl': '03/10/1986',\n",
       " 'qqq': '03/08/1999',\n",
       " 'srpt': '06/02/1997',\n",
       " 'tpic': '07/17/2016',\n",
       " 'tsla': '06/29/2010',\n",
       " 'v': '03/16/2008',\n",
       " 'vbiv': '09/04/2002',\n",
       " 'vbr': '01/26/2004',\n",
       " 'viov': '09/06/2010',\n",
       " 'vgt': '01/26/2004',\n",
       " 'xlk': '12/21/1998'}"
      ]
     },
     "execution_count": 25,
     "metadata": {},
     "output_type": "execute_result"
    }
   ],
   "source": [
    "start_dates3 = dict(itr.islice(start_dates.items(), 30, 45+1))\n",
    "start_dates3"
   ]
  },
  {
   "cell_type": "code",
   "execution_count": 26,
   "metadata": {},
   "outputs": [],
   "source": [
    "#Train 15 at a time!\n",
    "# stocks = [x for x in start_dates1]\n",
    "# days_ahead = [1, 3, 5]\n",
    "# cv = 5\n",
    "# for stock in stocks:\n",
    "#     for days in days_ahead:\n",
    "#         X_train, X_test, y_train, y_test, stock_df = a.data(stock, start_dates[stock], days)\n",
    "#         a.rfc_GridSearch(X_train, y_train, stock, days, cv)\n",
    "# len(stocks)\n",
    "\n",
    "# stocks = [x for x in start_dates2]\n",
    "# days_ahead = [1, 3, 5]\n",
    "# cv = 5\n",
    "# for stock in stocks:\n",
    "#     for days in days_ahead:\n",
    "#         X_train, X_test, y_train, y_test, stock_df = a.data(stock, start_dates[stock], days)\n",
    "#         a.rfc_GridSearch(X_train, y_train, stock, days, cv)\n",
    "# len(stocks)\n",
    "\n",
    "# stocks = [x for x in start_dates3]\n",
    "# days_ahead = [1, 3, 5]\n",
    "# cv = 5\n",
    "# for stock in stocks:\n",
    "#     for days in days_ahead:\n",
    "#         X_train, X_test, y_train, y_test, stock_df = a.data(stock, start_dates[stock], days)\n",
    "#         a.rfc_GridSearch(X_train, y_train, stock, days, cv)\n",
    "# len(stocks)\n",
    "\n",
    "# Train all, takes 15+ hours\n",
    "# stocks = [x for x in start_dates]\n",
    "# days_ahead = [1, 3, 5]\n",
    "# cv = 5\n",
    "# for stock in stocks:\n",
    "#     for days in days_ahead:\n",
    "#         X_train, X_test, y_train, y_test, stock_df = a.data(stock, start_dates[stock], days)\n",
    "#         a.rfc_GridSearch(X_train, y_train, stock, days, cv)\n",
    "# len(stocks)\n",
    "\n",
    "# Train desired stocks...takes less time\n",
    "# stocks = ['nga']\n",
    "# days_ahead = [1, 3, 5]\n",
    "# cv = 5\n",
    "# for stock in stocks:\n",
    "#     for days in days_ahead:\n",
    "#         X_train, X_test, y_train, y_test, stock_df = a.data(stock, start_dates[stock], days)\n",
    "#         a.rfc_GridSearch(X_train, y_train, stock, days, cv)"
   ]
  },
  {
   "cell_type": "code",
   "execution_count": null,
   "metadata": {},
   "outputs": [],
   "source": []
  },
  {
   "cell_type": "code",
   "execution_count": null,
   "metadata": {},
   "outputs": [],
   "source": []
  },
  {
   "cell_type": "code",
   "execution_count": null,
   "metadata": {},
   "outputs": [],
   "source": []
  },
  {
   "cell_type": "markdown",
   "metadata": {},
   "source": [
    "### Display All Results"
   ]
  },
  {
   "cell_type": "code",
   "execution_count": 27,
   "metadata": {
    "scrolled": false
   },
   "outputs": [
    {
     "name": "stdout",
     "output_type": "stream",
     "text": [
      "Buy vbiv 5 day(s) ahead\n",
      "Model Returns (x 100 for %): 0.9249\n",
      "Stock Returns (x 100 for %): -0.8337\n"
     ]
    },
    {
     "data": {
      "image/png": "[encoded data removed]",
      "text/plain": [
       "<Figure size 432x288 with 1 Axes>"
      ]
     },
     "metadata": {},
     "output_type": "display_data"
    },
    {
     "data": {
      "image/png": "[encoded data removed]",
      "text/plain": [
       "<Figure size 648x504 with 1 Axes>"
      ]
     },
     "metadata": {},
     "output_type": "display_data"
    },
    {
     "data": {
      "image/png": "[encoded data removed]",
      "text/plain": [
       "<Figure size 648x504 with 1 Axes>"
      ]
     },
     "metadata": {},
     "output_type": "display_data"
    },
    {
     "data": {
      "image/png": "[encoded data removed]",
      "text/plain": [
       "<Figure size 684x612 with 2 Axes>"
      ]
     },
     "metadata": {},
     "output_type": "display_data"
    }
   ],
   "source": [
    "stock_name = 'vbiv'\n",
    "a.all_func(stock_name\n",
    "           , start_dates[stock_name]\n",
    "           , days_ahead = 5\n",
    "           , model_name = model_name\n",
    "           , days_back = 1\n",
    "          )"
   ]
  },
  {
   "cell_type": "code",
   "execution_count": null,
   "metadata": {},
   "outputs": [],
   "source": []
  },
  {
   "cell_type": "code",
   "execution_count": null,
   "metadata": {},
   "outputs": [],
   "source": []
  },
  {
   "cell_type": "code",
   "execution_count": null,
   "metadata": {},
   "outputs": [],
   "source": []
  },
  {
   "cell_type": "markdown",
   "metadata": {},
   "source": [
    "### Data Frame of Predictions 1 3 5 Days"
   ]
  },
  {
   "cell_type": "code",
   "execution_count": 28,
   "metadata": {},
   "outputs": [
    {
     "name": "stdout",
     "output_type": "stream",
     "text": [
      "Today's date: 2021-01-29\n"
     ]
    }
   ],
   "source": [
    "from datetime import date\n",
    "\n",
    "today = date.today()\n",
    "print(\"Today's date:\", today)"
   ]
  },
  {
   "cell_type": "code",
   "execution_count": 29,
   "metadata": {
    "scrolled": false
   },
   "outputs": [
    {
     "data": {
      "text/html": [
       "<div>\n",
       "<style scoped>\n",
       "    .dataframe tbody tr th:only-of-type {\n",
       "        vertical-align: middle;\n",
       "    }\n",
       "\n",
       "    .dataframe tbody tr th {\n",
       "        vertical-align: top;\n",
       "    }\n",
       "\n",
       "    .dataframe thead th {\n",
       "        text-align: right;\n",
       "    }\n",
       "</style>\n",
       "<table border=\"1\" class=\"dataframe\">\n",
       "  <thead>\n",
       "    <tr style=\"text-align: right;\">\n",
       "      <th></th>\n",
       "      <th>stock</th>\n",
       "      <th>1_Day_Pred</th>\n",
       "      <th>1_Day_Model_Return</th>\n",
       "      <th>3_Day_Pred</th>\n",
       "      <th>3_Day_Model_Return</th>\n",
       "      <th>5_Day_Pred</th>\n",
       "      <th>5_Day_Model_Return</th>\n",
       "      <th>Actual_Returns</th>\n",
       "    </tr>\n",
       "  </thead>\n",
       "  <tbody>\n",
       "    <tr>\n",
       "      <th>0</th>\n",
       "      <td>a</td>\n",
       "      <td>Buy</td>\n",
       "      <td>3.9043</td>\n",
       "      <td>Buy</td>\n",
       "      <td>3.9420</td>\n",
       "      <td>Buy</td>\n",
       "      <td>4.0051</td>\n",
       "      <td>6.4138</td>\n",
       "    </tr>\n",
       "    <tr>\n",
       "      <th>1</th>\n",
       "      <td>aapl</td>\n",
       "      <td>Buy</td>\n",
       "      <td>3.1856</td>\n",
       "      <td>Buy</td>\n",
       "      <td>3.9948</td>\n",
       "      <td>Buy</td>\n",
       "      <td>3.8227</td>\n",
       "      <td>327.4336</td>\n",
       "    </tr>\n",
       "    <tr>\n",
       "      <th>2</th>\n",
       "      <td>acy</td>\n",
       "      <td>Buy</td>\n",
       "      <td>0.4260</td>\n",
       "      <td>Buy</td>\n",
       "      <td>0.5632</td>\n",
       "      <td>Buy</td>\n",
       "      <td>0.4413</td>\n",
       "      <td>2.2800</td>\n",
       "    </tr>\n",
       "    <tr>\n",
       "      <th>3</th>\n",
       "      <td>adbe</td>\n",
       "      <td>Buy</td>\n",
       "      <td>7.8349</td>\n",
       "      <td>Buy</td>\n",
       "      <td>6.2467</td>\n",
       "      <td>Buy</td>\n",
       "      <td>7.7443</td>\n",
       "      <td>96.8709</td>\n",
       "    </tr>\n",
       "    <tr>\n",
       "      <th>4</th>\n",
       "      <td>alb</td>\n",
       "      <td>Buy</td>\n",
       "      <td>1.9279</td>\n",
       "      <td>Buy</td>\n",
       "      <td>1.3590</td>\n",
       "      <td>Buy</td>\n",
       "      <td>2.0069</td>\n",
       "      <td>13.9572</td>\n",
       "    </tr>\n",
       "    <tr>\n",
       "      <th>5</th>\n",
       "      <td>amat</td>\n",
       "      <td>Buy</td>\n",
       "      <td>5.9416</td>\n",
       "      <td>Buy</td>\n",
       "      <td>7.2148</td>\n",
       "      <td>Buy</td>\n",
       "      <td>8.8375</td>\n",
       "      <td>167.3678</td>\n",
       "    </tr>\n",
       "    <tr>\n",
       "      <th>6</th>\n",
       "      <td>amd</td>\n",
       "      <td>Buy</td>\n",
       "      <td>6.8783</td>\n",
       "      <td>Buy</td>\n",
       "      <td>4.2765</td>\n",
       "      <td>Buy</td>\n",
       "      <td>10.4095</td>\n",
       "      <td>15.3124</td>\n",
       "    </tr>\n",
       "    <tr>\n",
       "      <th>7</th>\n",
       "      <td>amzn</td>\n",
       "      <td>Buy</td>\n",
       "      <td>3.9430</td>\n",
       "      <td>Buy</td>\n",
       "      <td>4.0420</td>\n",
       "      <td>Buy</td>\n",
       "      <td>4.6509</td>\n",
       "      <td>109.9796</td>\n",
       "    </tr>\n",
       "    <tr>\n",
       "      <th>8</th>\n",
       "      <td>baba</td>\n",
       "      <td>Buy</td>\n",
       "      <td>1.2380</td>\n",
       "      <td>Buy</td>\n",
       "      <td>1.2033</td>\n",
       "      <td>Buy</td>\n",
       "      <td>1.0232</td>\n",
       "      <td>2.2991</td>\n",
       "    </tr>\n",
       "    <tr>\n",
       "      <th>9</th>\n",
       "      <td>bac</td>\n",
       "      <td>Buy</td>\n",
       "      <td>2.5153</td>\n",
       "      <td>Buy</td>\n",
       "      <td>2.1338</td>\n",
       "      <td>Buy</td>\n",
       "      <td>3.8281</td>\n",
       "      <td>5.5889</td>\n",
       "    </tr>\n",
       "    <tr>\n",
       "      <th>10</th>\n",
       "      <td>bpmc</td>\n",
       "      <td>Buy</td>\n",
       "      <td>2.4259</td>\n",
       "      <td>Hold or Sell</td>\n",
       "      <td>1.7230</td>\n",
       "      <td>Buy</td>\n",
       "      <td>1.5698</td>\n",
       "      <td>2.4715</td>\n",
       "    </tr>\n",
       "    <tr>\n",
       "      <th>11</th>\n",
       "      <td>crm</td>\n",
       "      <td>Hold or Sell</td>\n",
       "      <td>2.4763</td>\n",
       "      <td>Hold or Sell</td>\n",
       "      <td>2.4062</td>\n",
       "      <td>Hold or Sell</td>\n",
       "      <td>2.3901</td>\n",
       "      <td>15.9435</td>\n",
       "    </tr>\n",
       "    <tr>\n",
       "      <th>12</th>\n",
       "      <td>crsp</td>\n",
       "      <td>Buy</td>\n",
       "      <td>1.1814</td>\n",
       "      <td>Hold or Sell</td>\n",
       "      <td>0.8356</td>\n",
       "      <td>Buy</td>\n",
       "      <td>0.9423</td>\n",
       "      <td>7.9134</td>\n",
       "    </tr>\n",
       "    <tr>\n",
       "      <th>13</th>\n",
       "      <td>dq</td>\n",
       "      <td>Buy</td>\n",
       "      <td>4.5633</td>\n",
       "      <td>Buy</td>\n",
       "      <td>6.0950</td>\n",
       "      <td>Buy</td>\n",
       "      <td>11.1927</td>\n",
       "      <td>78.6203</td>\n",
       "    </tr>\n",
       "    <tr>\n",
       "      <th>14</th>\n",
       "      <td>esgv</td>\n",
       "      <td>Buy</td>\n",
       "      <td>1.1169</td>\n",
       "      <td>Buy</td>\n",
       "      <td>1.1321</td>\n",
       "      <td>Buy</td>\n",
       "      <td>1.0940</td>\n",
       "      <td>0.3741</td>\n",
       "    </tr>\n",
       "    <tr>\n",
       "      <th>15</th>\n",
       "      <td>fslr</td>\n",
       "      <td>Buy</td>\n",
       "      <td>2.5624</td>\n",
       "      <td>Buy</td>\n",
       "      <td>2.5622</td>\n",
       "      <td>Buy</td>\n",
       "      <td>2.0820</td>\n",
       "      <td>-0.1545</td>\n",
       "    </tr>\n",
       "    <tr>\n",
       "      <th>16</th>\n",
       "      <td>goog</td>\n",
       "      <td>Buy</td>\n",
       "      <td>2.4621</td>\n",
       "      <td>Buy</td>\n",
       "      <td>2.2673</td>\n",
       "      <td>Buy</td>\n",
       "      <td>2.8345</td>\n",
       "      <td>8.5248</td>\n",
       "    </tr>\n",
       "    <tr>\n",
       "      <th>17</th>\n",
       "      <td>ibm</td>\n",
       "      <td>Buy</td>\n",
       "      <td>2.8469</td>\n",
       "      <td>Buy</td>\n",
       "      <td>3.9263</td>\n",
       "      <td>Buy</td>\n",
       "      <td>3.2075</td>\n",
       "      <td>6.2739</td>\n",
       "    </tr>\n",
       "    <tr>\n",
       "      <th>18</th>\n",
       "      <td>idex</td>\n",
       "      <td>Buy</td>\n",
       "      <td>0.3157</td>\n",
       "      <td>Buy</td>\n",
       "      <td>0.1071</td>\n",
       "      <td>Buy</td>\n",
       "      <td>0.1407</td>\n",
       "      <td>0.0320</td>\n",
       "    </tr>\n",
       "    <tr>\n",
       "      <th>19</th>\n",
       "      <td>intc</td>\n",
       "      <td>Buy</td>\n",
       "      <td>5.5104</td>\n",
       "      <td>Buy</td>\n",
       "      <td>5.8378</td>\n",
       "      <td>Buy</td>\n",
       "      <td>4.2220</td>\n",
       "      <td>36.3962</td>\n",
       "    </tr>\n",
       "    <tr>\n",
       "      <th>20</th>\n",
       "      <td>iyw</td>\n",
       "      <td>Buy</td>\n",
       "      <td>2.8240</td>\n",
       "      <td>Buy</td>\n",
       "      <td>3.9732</td>\n",
       "      <td>Buy</td>\n",
       "      <td>3.1723</td>\n",
       "      <td>5.9683</td>\n",
       "    </tr>\n",
       "    <tr>\n",
       "      <th>21</th>\n",
       "      <td>lng</td>\n",
       "      <td>Hold or Sell</td>\n",
       "      <td>1.3816</td>\n",
       "      <td>Hold or Sell</td>\n",
       "      <td>0.8249</td>\n",
       "      <td>Hold or Sell</td>\n",
       "      <td>0.9057</td>\n",
       "      <td>44.5612</td>\n",
       "    </tr>\n",
       "    <tr>\n",
       "      <th>22</th>\n",
       "      <td>ma</td>\n",
       "      <td>Buy</td>\n",
       "      <td>2.2578</td>\n",
       "      <td>Buy</td>\n",
       "      <td>2.6789</td>\n",
       "      <td>Buy</td>\n",
       "      <td>2.7365</td>\n",
       "      <td>11.5234</td>\n",
       "    </tr>\n",
       "    <tr>\n",
       "      <th>23</th>\n",
       "      <td>mdb</td>\n",
       "      <td>Buy</td>\n",
       "      <td>0.8145</td>\n",
       "      <td>Buy</td>\n",
       "      <td>0.9392</td>\n",
       "      <td>Buy</td>\n",
       "      <td>0.9049</td>\n",
       "      <td>4.6872</td>\n",
       "    </tr>\n",
       "    <tr>\n",
       "      <th>24</th>\n",
       "      <td>msft</td>\n",
       "      <td>Buy</td>\n",
       "      <td>7.2879</td>\n",
       "      <td>Buy</td>\n",
       "      <td>9.6132</td>\n",
       "      <td>Buy</td>\n",
       "      <td>8.4576</td>\n",
       "      <td>58.6202</td>\n",
       "    </tr>\n",
       "    <tr>\n",
       "      <th>25</th>\n",
       "      <td>mu</td>\n",
       "      <td>Buy</td>\n",
       "      <td>2.9416</td>\n",
       "      <td>Buy</td>\n",
       "      <td>3.0159</td>\n",
       "      <td>Buy</td>\n",
       "      <td>3.1966</td>\n",
       "      <td>16.5395</td>\n",
       "    </tr>\n",
       "    <tr>\n",
       "      <th>26</th>\n",
       "      <td>nee</td>\n",
       "      <td>Buy</td>\n",
       "      <td>4.3993</td>\n",
       "      <td>Buy</td>\n",
       "      <td>4.6548</td>\n",
       "      <td>Buy</td>\n",
       "      <td>4.6040</td>\n",
       "      <td>28.5753</td>\n",
       "    </tr>\n",
       "    <tr>\n",
       "      <th>27</th>\n",
       "      <td>nga</td>\n",
       "      <td>Hold or Sell</td>\n",
       "      <td>1.2563</td>\n",
       "      <td>Buy</td>\n",
       "      <td>0.9691</td>\n",
       "      <td>Hold or Sell</td>\n",
       "      <td>0.9444</td>\n",
       "      <td>1.5697</td>\n",
       "    </tr>\n",
       "    <tr>\n",
       "      <th>28</th>\n",
       "      <td>nio</td>\n",
       "      <td>Buy</td>\n",
       "      <td>1.9472</td>\n",
       "      <td>Buy</td>\n",
       "      <td>1.7743</td>\n",
       "      <td>Buy</td>\n",
       "      <td>2.1112</td>\n",
       "      <td>10.6327</td>\n",
       "    </tr>\n",
       "    <tr>\n",
       "      <th>29</th>\n",
       "      <td>nvda</td>\n",
       "      <td>Buy</td>\n",
       "      <td>11.2985</td>\n",
       "      <td>Buy</td>\n",
       "      <td>8.0918</td>\n",
       "      <td>Buy</td>\n",
       "      <td>12.6955</td>\n",
       "      <td>103.1263</td>\n",
       "    </tr>\n",
       "    <tr>\n",
       "      <th>30</th>\n",
       "      <td>pacb</td>\n",
       "      <td>Buy</td>\n",
       "      <td>2.0906</td>\n",
       "      <td>Buy</td>\n",
       "      <td>2.0104</td>\n",
       "      <td>Buy</td>\n",
       "      <td>1.5621</td>\n",
       "      <td>11.0260</td>\n",
       "    </tr>\n",
       "    <tr>\n",
       "      <th>31</th>\n",
       "      <td>pypl</td>\n",
       "      <td>Buy</td>\n",
       "      <td>3.3092</td>\n",
       "      <td>Buy</td>\n",
       "      <td>2.7713</td>\n",
       "      <td>Buy</td>\n",
       "      <td>2.3343</td>\n",
       "      <td>4.8739</td>\n",
       "    </tr>\n",
       "    <tr>\n",
       "      <th>32</th>\n",
       "      <td>qgen</td>\n",
       "      <td>Hold or Sell</td>\n",
       "      <td>2.0261</td>\n",
       "      <td>Hold or Sell</td>\n",
       "      <td>2.1017</td>\n",
       "      <td>Hold or Sell</td>\n",
       "      <td>2.5928</td>\n",
       "      <td>7.3215</td>\n",
       "    </tr>\n",
       "    <tr>\n",
       "      <th>33</th>\n",
       "      <td>run</td>\n",
       "      <td>Buy</td>\n",
       "      <td>1.2371</td>\n",
       "      <td>Buy</td>\n",
       "      <td>0.9590</td>\n",
       "      <td>Buy</td>\n",
       "      <td>1.2066</td>\n",
       "      <td>11.7335</td>\n",
       "    </tr>\n",
       "    <tr>\n",
       "      <th>34</th>\n",
       "      <td>orcl</td>\n",
       "      <td>Buy</td>\n",
       "      <td>3.2122</td>\n",
       "      <td>Buy</td>\n",
       "      <td>3.2099</td>\n",
       "      <td>Buy</td>\n",
       "      <td>2.9775</td>\n",
       "      <td>29.0296</td>\n",
       "    </tr>\n",
       "    <tr>\n",
       "      <th>35</th>\n",
       "      <td>qqq</td>\n",
       "      <td>Buy</td>\n",
       "      <td>2.6087</td>\n",
       "      <td>Buy</td>\n",
       "      <td>3.9037</td>\n",
       "      <td>Buy</td>\n",
       "      <td>2.3252</td>\n",
       "      <td>8.1708</td>\n",
       "    </tr>\n",
       "    <tr>\n",
       "      <th>36</th>\n",
       "      <td>srpt</td>\n",
       "      <td>Buy</td>\n",
       "      <td>1.8722</td>\n",
       "      <td>Buy</td>\n",
       "      <td>1.9251</td>\n",
       "      <td>Buy</td>\n",
       "      <td>2.4692</td>\n",
       "      <td>1.4507</td>\n",
       "    </tr>\n",
       "    <tr>\n",
       "      <th>37</th>\n",
       "      <td>tpic</td>\n",
       "      <td>Buy</td>\n",
       "      <td>1.1463</td>\n",
       "      <td>Buy</td>\n",
       "      <td>1.5139</td>\n",
       "      <td>Buy</td>\n",
       "      <td>1.4043</td>\n",
       "      <td>1.9483</td>\n",
       "    </tr>\n",
       "    <tr>\n",
       "      <th>38</th>\n",
       "      <td>tsla</td>\n",
       "      <td>Buy</td>\n",
       "      <td>3.5215</td>\n",
       "      <td>Buy</td>\n",
       "      <td>1.9992</td>\n",
       "      <td>Buy</td>\n",
       "      <td>2.1200</td>\n",
       "      <td>112.9147</td>\n",
       "    </tr>\n",
       "    <tr>\n",
       "      <th>39</th>\n",
       "      <td>v</td>\n",
       "      <td>Buy</td>\n",
       "      <td>2.7680</td>\n",
       "      <td>Buy</td>\n",
       "      <td>2.4007</td>\n",
       "      <td>Buy</td>\n",
       "      <td>2.6945</td>\n",
       "      <td>9.3494</td>\n",
       "    </tr>\n",
       "    <tr>\n",
       "      <th>40</th>\n",
       "      <td>vbiv</td>\n",
       "      <td>Buy</td>\n",
       "      <td>1.4230</td>\n",
       "      <td>Buy</td>\n",
       "      <td>1.3080</td>\n",
       "      <td>Hold or Sell</td>\n",
       "      <td>0.9951</td>\n",
       "      <td>-0.8337</td>\n",
       "    </tr>\n",
       "    <tr>\n",
       "      <th>41</th>\n",
       "      <td>vbr</td>\n",
       "      <td>Buy</td>\n",
       "      <td>1.2878</td>\n",
       "      <td>Buy</td>\n",
       "      <td>1.1077</td>\n",
       "      <td>Buy</td>\n",
       "      <td>1.5717</td>\n",
       "      <td>1.2852</td>\n",
       "    </tr>\n",
       "    <tr>\n",
       "      <th>42</th>\n",
       "      <td>viov</td>\n",
       "      <td>Buy</td>\n",
       "      <td>1.1945</td>\n",
       "      <td>Buy</td>\n",
       "      <td>1.0094</td>\n",
       "      <td>Buy</td>\n",
       "      <td>1.2797</td>\n",
       "      <td>0.9809</td>\n",
       "    </tr>\n",
       "    <tr>\n",
       "      <th>43</th>\n",
       "      <td>vgt</td>\n",
       "      <td>Buy</td>\n",
       "      <td>2.8588</td>\n",
       "      <td>Buy</td>\n",
       "      <td>3.5244</td>\n",
       "      <td>Buy</td>\n",
       "      <td>2.9098</td>\n",
       "      <td>5.3081</td>\n",
       "    </tr>\n",
       "    <tr>\n",
       "      <th>44</th>\n",
       "      <td>xlk</td>\n",
       "      <td>Buy</td>\n",
       "      <td>3.9193</td>\n",
       "      <td>Buy</td>\n",
       "      <td>4.6259</td>\n",
       "      <td>Buy</td>\n",
       "      <td>4.4807</td>\n",
       "      <td>5.7151</td>\n",
       "    </tr>\n",
       "  </tbody>\n",
       "</table>\n",
       "</div>"
      ],
      "text/plain": [
       "   stock    1_Day_Pred  1_Day_Model_Return    3_Day_Pred  3_Day_Model_Return  \\\n",
       "0      a           Buy              3.9043           Buy              3.9420   \n",
       "1   aapl           Buy              3.1856           Buy              3.9948   \n",
       "2    acy           Buy              0.4260           Buy              0.5632   \n",
       "3   adbe           Buy              7.8349           Buy              6.2467   \n",
       "4    alb           Buy              1.9279           Buy              1.3590   \n",
       "5   amat           Buy              5.9416           Buy              7.2148   \n",
       "6    amd           Buy              6.8783           Buy              4.2765   \n",
       "7   amzn           Buy              3.9430           Buy              4.0420   \n",
       "8   baba           Buy              1.2380           Buy              1.2033   \n",
       "9    bac           Buy              2.5153           Buy              2.1338   \n",
       "10  bpmc           Buy              2.4259  Hold or Sell              1.7230   \n",
       "11   crm  Hold or Sell              2.4763  Hold or Sell              2.4062   \n",
       "12  crsp           Buy              1.1814  Hold or Sell              0.8356   \n",
       "13    dq           Buy              4.5633           Buy              6.0950   \n",
       "14  esgv           Buy              1.1169           Buy              1.1321   \n",
       "15  fslr           Buy              2.5624           Buy              2.5622   \n",
       "16  goog           Buy              2.4621           Buy              2.2673   \n",
       "17   ibm           Buy              2.8469           Buy              3.9263   \n",
       "18  idex           Buy              0.3157           Buy              0.1071   \n",
       "19  intc           Buy              5.5104           Buy              5.8378   \n",
       "20   iyw           Buy              2.8240           Buy              3.9732   \n",
       "21   lng  Hold or Sell              1.3816  Hold or Sell              0.8249   \n",
       "22    ma           Buy              2.2578           Buy              2.6789   \n",
       "23   mdb           Buy              0.8145           Buy              0.9392   \n",
       "24  msft           Buy              7.2879           Buy              9.6132   \n",
       "25    mu           Buy              2.9416           Buy              3.0159   \n",
       "26   nee           Buy              4.3993           Buy              4.6548   \n",
       "27   nga  Hold or Sell              1.2563           Buy              0.9691   \n",
       "28   nio           Buy              1.9472           Buy              1.7743   \n",
       "29  nvda           Buy             11.2985           Buy              8.0918   \n",
       "30  pacb           Buy              2.0906           Buy              2.0104   \n",
       "31  pypl           Buy              3.3092           Buy              2.7713   \n",
       "32  qgen  Hold or Sell              2.0261  Hold or Sell              2.1017   \n",
       "33   run           Buy              1.2371           Buy              0.9590   \n",
       "34  orcl           Buy              3.2122           Buy              3.2099   \n",
       "35   qqq           Buy              2.6087           Buy              3.9037   \n",
       "36  srpt           Buy              1.8722           Buy              1.9251   \n",
       "37  tpic           Buy              1.1463           Buy              1.5139   \n",
       "38  tsla           Buy              3.5215           Buy              1.9992   \n",
       "39     v           Buy              2.7680           Buy              2.4007   \n",
       "40  vbiv           Buy              1.4230           Buy              1.3080   \n",
       "41   vbr           Buy              1.2878           Buy              1.1077   \n",
       "42  viov           Buy              1.1945           Buy              1.0094   \n",
       "43   vgt           Buy              2.8588           Buy              3.5244   \n",
       "44   xlk           Buy              3.9193           Buy              4.6259   \n",
       "\n",
       "      5_Day_Pred  5_Day_Model_Return  Actual_Returns  \n",
       "0            Buy              4.0051          6.4138  \n",
       "1            Buy              3.8227        327.4336  \n",
       "2            Buy              0.4413          2.2800  \n",
       "3            Buy              7.7443         96.8709  \n",
       "4            Buy              2.0069         13.9572  \n",
       "5            Buy              8.8375        167.3678  \n",
       "6            Buy             10.4095         15.3124  \n",
       "7            Buy              4.6509        109.9796  \n",
       "8            Buy              1.0232          2.2991  \n",
       "9            Buy              3.8281          5.5889  \n",
       "10           Buy              1.5698          2.4715  \n",
       "11  Hold or Sell              2.3901         15.9435  \n",
       "12           Buy              0.9423          7.9134  \n",
       "13           Buy             11.1927         78.6203  \n",
       "14           Buy              1.0940          0.3741  \n",
       "15           Buy              2.0820         -0.1545  \n",
       "16           Buy              2.8345          8.5248  \n",
       "17           Buy              3.2075          6.2739  \n",
       "18           Buy              0.1407          0.0320  \n",
       "19           Buy              4.2220         36.3962  \n",
       "20           Buy              3.1723          5.9683  \n",
       "21  Hold or Sell              0.9057         44.5612  \n",
       "22           Buy              2.7365         11.5234  \n",
       "23           Buy              0.9049          4.6872  \n",
       "24           Buy              8.4576         58.6202  \n",
       "25           Buy              3.1966         16.5395  \n",
       "26           Buy              4.6040         28.5753  \n",
       "27  Hold or Sell              0.9444          1.5697  \n",
       "28           Buy              2.1112         10.6327  \n",
       "29           Buy             12.6955        103.1263  \n",
       "30           Buy              1.5621         11.0260  \n",
       "31           Buy              2.3343          4.8739  \n",
       "32  Hold or Sell              2.5928          7.3215  \n",
       "33           Buy              1.2066         11.7335  \n",
       "34           Buy              2.9775         29.0296  \n",
       "35           Buy              2.3252          8.1708  \n",
       "36           Buy              2.4692          1.4507  \n",
       "37           Buy              1.4043          1.9483  \n",
       "38           Buy              2.1200        112.9147  \n",
       "39           Buy              2.6945          9.3494  \n",
       "40  Hold or Sell              0.9951         -0.8337  \n",
       "41           Buy              1.5717          1.2852  \n",
       "42           Buy              1.2797          0.9809  \n",
       "43           Buy              2.9098          5.3081  \n",
       "44           Buy              4.4807          5.7151  "
      ]
     },
     "execution_count": 29,
     "metadata": {},
     "output_type": "execute_result"
    }
   ],
   "source": [
    "summary_df = a.pred_summary_df(start_dates, stocks = [x for x in start_dates], days_back = 1)\n",
    "summary_df"
   ]
  },
  {
   "cell_type": "code",
   "execution_count": 30,
   "metadata": {},
   "outputs": [
    {
     "data": {
      "text/plain": [
       "(2.5153, 2.4007, 2.4692, 8.1708)"
      ]
     },
     "execution_count": 30,
     "metadata": {},
     "output_type": "execute_result"
    }
   ],
   "source": [
    "summary_df['1_Day_Model_Return'].median(), summary_df['3_Day_Model_Return'].median(), summary_df['5_Day_Model_Return'].median(), summary_df['Actual_Returns'].median()"
   ]
  },
  {
   "cell_type": "code",
   "execution_count": null,
   "metadata": {},
   "outputs": [],
   "source": []
  },
  {
   "cell_type": "code",
   "execution_count": null,
   "metadata": {},
   "outputs": [],
   "source": []
  },
  {
   "cell_type": "code",
   "execution_count": null,
   "metadata": {},
   "outputs": [],
   "source": []
  },
  {
   "cell_type": "code",
   "execution_count": null,
   "metadata": {},
   "outputs": [],
   "source": []
  }
 ],
 "metadata": {
  "kernelspec": {
   "display_name": "Python 3",
   "language": "python",
   "name": "python3"
  },
  "language_info": {
   "codemirror_mode": {
    "name": "ipython",
    "version": 3
   },
   "file_extension": ".py",
   "mimetype": "text/x-python",
   "name": "python",
   "nbconvert_exporter": "python",
   "pygments_lexer": "ipython3",
   "version": "3.8.5"
  }
 },
 "nbformat": 4,
 "nbformat_minor": 4
}
