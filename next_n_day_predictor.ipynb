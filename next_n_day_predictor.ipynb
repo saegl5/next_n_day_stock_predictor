{
 "cells": [
  {
   "cell_type": "code",
   "execution_count": 1,
   "metadata": {
    "scrolled": true
   },
   "outputs": [],
   "source": [
    "from src import attributes as a\n",
    "%load_ext autoreload\n",
    "%autoreload 2"
   ]
  },
  {
   "cell_type": "code",
   "execution_count": 2,
   "metadata": {},
   "outputs": [],
   "source": [
    "# Global Variables\n",
    "stock_name = 'msft' # ticker symbol\n",
    "train = 0 # 1 for train, 0 for pass\n",
    "days_ahead = 1 # for predicting 1, 3, or 5 days ahead\n",
    "days_back = -1 # -1 for current data point, -2 for two days ago, etc...\n",
    "cv = 5 # number of cross validation folds\n",
    "model_name = 'Random Forest Classifier' # for display on charts, not a tuning parameter"
   ]
  },
  {
   "cell_type": "code",
   "execution_count": 3,
   "metadata": {},
   "outputs": [],
   "source": [
    "# Extract, Transform, Load, and Train Test Split\n",
    "# Dictionary of IPO Dates\n",
    "start_dates = {'a': '11/15/1999' # Updated 1/10/21 1D, 3D, 5D ahead\n",
    "               , 'aapl':'12/12/1980' # Updated 1/10/21 1D, 3D, 5D ahead\n",
    "               , 'acy': '01/18/1998' # Updated 1/10/21 1D, 3D, 5D ahead\n",
    "               , 'adbe': '08/11/1986' # Updated 1/10/21 1D, 3D, 5D ahead\n",
    "               , 'amat': '03/16/1980' # Updated 1/10/21 1D, 3D, 5D ahead\n",
    "               , 'amd': '03/17/1980' # Updated 1/10/21 1D, 3D, 5D ahead\n",
    "               , 'amzn': '05/12/1997' # Updated 1/10/21 1D, 3D, 5D ahead\n",
    "               , 'baba': '09/15/2014' # Updated 1/10/21 1D, 3D, 5D ahead\n",
    "               , 'bac': '02/19/1973' # Updated 1/10/21 1D, 3D, 5D ahead\n",
    "               , 'crm': '06/23/2004' # Updated 1/10/21 1D, 3D, 5D ahead\n",
    "               , 'esgv': '09/16/2018' # Updated 1/10/21 1D, 3D, 5D ahead\n",
    "               , 'fslr': '11/12/2006' # Updated 1/10/21 1D, 3D, 5D ahead \n",
    "               , 'goog': '08/16/2004' # Updated 1/10/21 1D, 3D, 5D ahead\n",
    "               , 'ibm': '01/02/1962' # Updated 1/10/21 1D, 3D, 5D ahead\n",
    "               , 'idex': '05/23/2007' # Updated 1/10/21 1D, 3D, 5D ahead\n",
    "               , 'intc': '03/16/1980' # Updated 1/10/21 1D, 3D, 5D ahead\n",
    "               , 'iyw': '05/15/2000' # Updated 1/10/21 1D, 3D, 5D ahead\n",
    "               , 'ma': '05/21/2006' # Updated 1/10/21 1D, 3D, 5D ahead\n",
    "               , 'mdb': '10/15/2017' # Updated 1/10/21 1D, 3D, 5D ahead\n",
    "               , 'msft': '03/10/1986' # Updated 1/10/21 1D, 3D, 5D ahead\n",
    "               , 'mu': '05/28/1984' # Updated 1/10/21 1D, 3D, 5D ahead\n",
    "               , 'nio': '09/10/2018' # Updated 1/10/21 1D, 3D, 5D ahead\n",
    "               , 'nvda': '01/22/1999' # Updated 1/10/21 1D, 3D, 5D ahead\n",
    "               , 'pypl': '07/05/2015' # Updated 1/10/21 1D, 3D, 5D ahead\n",
    "               , 'orcl': '03/10/1986' # Updated 1/10/21 1D, 3D, 5D ahead\n",
    "               , 'qqq': '03/08/1999' # Updated 1/10/21 1D, 3D, 5D ahead\n",
    "               , 'tsla': '06/29/2010' # Updated 1/10/21 1D, 3D, 5D ahead\n",
    "               , 'v': '03/16/2008' # Updated 1/10/21 1D, 3D, 5D ahead\n",
    "               , 'vbiv': '09/04/2002' # Updated 1/10/21 1D, 3D, 5D ahead\n",
    "               , 'vbr': '01/26/2004' # Updated 1/10/21 1D, 3D, 5D ahead\n",
    "               , 'viov': '09/06/2010' # Updated 1/10/21 1D, 3D, 5D ahead\n",
    "               , 'vgt': '01/26/2004' # Updated 1/10/21 1D, 3D, 5D ahead\n",
    "               , 'xlk': '12/21/1998' # Updated 1/10/21 1D, 3D, 5D ahead\n",
    "              }"
   ]
  },
  {
   "cell_type": "code",
   "execution_count": null,
   "metadata": {},
   "outputs": [],
   "source": []
  },
  {
   "cell_type": "code",
   "execution_count": null,
   "metadata": {},
   "outputs": [],
   "source": []
  },
  {
   "cell_type": "code",
   "execution_count": null,
   "metadata": {},
   "outputs": [],
   "source": []
  },
  {
   "cell_type": "code",
   "execution_count": 4,
   "metadata": {},
   "outputs": [],
   "source": [
    "# X_train, X_test, y_train, y_test, stock_df = a.data(stock_name, start_dates[stock_name], days_ahead)\n",
    "# stock_df.tail(10)"
   ]
  },
  {
   "cell_type": "code",
   "execution_count": 5,
   "metadata": {
    "scrolled": false
   },
   "outputs": [],
   "source": [
    "# GridSerach to find best hyperparameters to prevent overfitting, can be commented out once trained\n",
    "# if train == 1:\n",
    "#     a.rfc_GridSearch(X_train, y_train, stock_name, days_ahead, cv)\n",
    "# elif train == 0:\n",
    "#     pass"
   ]
  },
  {
   "cell_type": "code",
   "execution_count": 6,
   "metadata": {},
   "outputs": [],
   "source": [
    "# Load RandomForextClassifier Model\n",
    "# rfc_model, y_pred, y_probs = a.rfc(X_train, X_test, y_train, stock_name, days_ahead)"
   ]
  },
  {
   "cell_type": "code",
   "execution_count": 7,
   "metadata": {
    "scrolled": false
   },
   "outputs": [],
   "source": [
    "# ROC Curve\n",
    "# a.roc_plot(y_test, y_probs, stock_name, model_name)"
   ]
  },
  {
   "cell_type": "code",
   "execution_count": 8,
   "metadata": {
    "scrolled": false
   },
   "outputs": [],
   "source": [
    "# Precision Recall Curve\n",
    "# a.prec_recall(y_test, y_probs, stock_name, model_name)"
   ]
  },
  {
   "cell_type": "code",
   "execution_count": 9,
   "metadata": {
    "scrolled": false
   },
   "outputs": [],
   "source": [
    "# Confusion Matrix\n",
    "# a.confusion_matrix(rfc_model, X_test, y_test, stock_name)"
   ]
  },
  {
   "cell_type": "code",
   "execution_count": 10,
   "metadata": {},
   "outputs": [],
   "source": [
    "# Cross Validation\n",
    "# a.cross_validation(rfc_model\n",
    "#                    , stock_df[['oc', 'hl', '5stdev_adj', '5sma_adj']]\n",
    "#                    , stock_df['direction']\n",
    "#                    , cv = 5\n",
    "#                   )"
   ]
  },
  {
   "cell_type": "markdown",
   "metadata": {},
   "source": [
    "### Prediction..."
   ]
  },
  {
   "cell_type": "code",
   "execution_count": 11,
   "metadata": {
    "scrolled": true
   },
   "outputs": [],
   "source": [
    "# Prediction, use last day of data\n",
    "# stock_df.iloc[-1]"
   ]
  },
  {
   "cell_type": "code",
   "execution_count": 12,
   "metadata": {},
   "outputs": [],
   "source": [
    "# import numpy as np\n",
    "# last = stock_df[['oc', 'hl', '5stdev_adj', '5sma_adj']].iloc[-days_back]\n",
    "# last"
   ]
  },
  {
   "cell_type": "code",
   "execution_count": 13,
   "metadata": {},
   "outputs": [],
   "source": [
    "# stock_df['adj'].describe()"
   ]
  },
  {
   "cell_type": "code",
   "execution_count": 14,
   "metadata": {
    "scrolled": true
   },
   "outputs": [],
   "source": [
    "# if rfc_model.predict(np.array(last).reshape(1, -1))[0] == 1:\n",
    "#     print(f'Buy {stock_name} {days_ahead} day(s) ahead')\n",
    "# else:\n",
    "#     print(f'Sell or hold {stock_name} {days_ahead} day(s) ahead')"
   ]
  },
  {
   "cell_type": "markdown",
   "metadata": {},
   "source": [
    "### Strategy Returns..."
   ]
  },
  {
   "cell_type": "code",
   "execution_count": 15,
   "metadata": {},
   "outputs": [],
   "source": [
    "# returns on strategy column\n",
    "# stock_df['prediction'] = rfc_model.predict(stock_df[['oc', 'hl', '5stdev_adj', '5sma_adj']])\n",
    "# stock_df['returns'] = stock_df['adj'].shift(-1, fill_value = stock_df['adj'].median()) * stock_df['prediction']"
   ]
  },
  {
   "cell_type": "code",
   "execution_count": 16,
   "metadata": {},
   "outputs": [],
   "source": [
    "# stock_df.tail(5)"
   ]
  },
  {
   "cell_type": "code",
   "execution_count": 17,
   "metadata": {},
   "outputs": [],
   "source": [
    "# Don't trade every day!\n",
    "# import matplotlib.pyplot as plt\n",
    "# test_length = len(y_test)\n",
    "# (stock_df['returns'][-test_length:] + 1).cumprod().plot()\n",
    "# plt.title(f'{stock_name} Expected Returns %');"
   ]
  },
  {
   "cell_type": "code",
   "execution_count": 18,
   "metadata": {},
   "outputs": [],
   "source": [
    "# Model returns if bought on predictions of 1\n",
    "# returns_on_ones = []\n",
    "# for idx in range(-test_length, 0):\n",
    "#     if stock_df['prediction'][idx] == 1:\n",
    "#         returns_on_ones.append(1 + stock_df['returns'][idx])\n",
    "\n",
    "# returns = 1\n",
    "# for x in returns_on_ones:\n",
    "#     returns *= x\n",
    "# returns"
   ]
  },
  {
   "cell_type": "code",
   "execution_count": 19,
   "metadata": {},
   "outputs": [],
   "source": [
    "# multiple times original investment, not bad but..."
   ]
  },
  {
   "cell_type": "code",
   "execution_count": 20,
   "metadata": {},
   "outputs": [],
   "source": [
    "# If purchased in 2012 and left it until now\n",
    "# test_idx = int(len(stock_df)*0.75)\n",
    "# (stock_df['Close'][-1] - stock_df['Close'][-test_idx]) / stock_df['Close'][-test_idx]"
   ]
  },
  {
   "cell_type": "code",
   "execution_count": 21,
   "metadata": {},
   "outputs": [],
   "source": [
    "# Buy and hold strategy beats RandomForestClassifier in this study\n",
    "\n",
    "# Special thanks to Shagufta Tahsildar at https://blog.quantinsti.com/random-forest-algorithm-in-python/"
   ]
  },
  {
   "cell_type": "code",
   "execution_count": null,
   "metadata": {},
   "outputs": [],
   "source": []
  },
  {
   "cell_type": "code",
   "execution_count": null,
   "metadata": {},
   "outputs": [],
   "source": []
  },
  {
   "cell_type": "code",
   "execution_count": null,
   "metadata": {},
   "outputs": [],
   "source": []
  },
  {
   "cell_type": "markdown",
   "metadata": {},
   "source": [
    "### Training"
   ]
  },
  {
   "cell_type": "code",
   "execution_count": 22,
   "metadata": {},
   "outputs": [],
   "source": [
    "# Train all...this takes a while, 12+ hours!\n",
    "# stocks = [x for x in start_dates]\n",
    "# days_ahead = [1, 3, 5]\n",
    "# cv = 5\n",
    "# for stock in stocks:\n",
    "#     for days in days_ahead:\n",
    "#         X_train, X_test, y_train, y_test, stock_df = a.data(stock, start_dates[stock], days)\n",
    "#         a.rfc_GridSearch(X_train, y_train, stock, days, cv)\n",
    "# len(stocks)\n",
    "#\n",
    "#\n",
    "# Train desired stocks...takes less time\n",
    "# stocks = ['mdb', 'qqq', 'xlk']\n",
    "# days_ahead = [1, 3, 5]\n",
    "# cv = 5\n",
    "# for stock in stocks:\n",
    "#     for days in days_ahead:\n",
    "#         X_train, X_test, y_train, y_test, stock_df = a.data(stock, start_dates[stock], days)\n",
    "#         a.rfc_GridSearch(X_train, y_train, stock, days, cv)"
   ]
  },
  {
   "cell_type": "markdown",
   "metadata": {},
   "source": [
    "### Display All Results"
   ]
  },
  {
   "cell_type": "code",
   "execution_count": 23,
   "metadata": {
    "scrolled": false
   },
   "outputs": [],
   "source": [
    "# stock_name = 'a'\n",
    "# a.all_func(stock_name\n",
    "#            , start_dates[stock_name]\n",
    "#            , days_ahead = 1\n",
    "#            , model_name = model_name\n",
    "#            , days_back = 1\n",
    "#           )"
   ]
  },
  {
   "cell_type": "code",
   "execution_count": null,
   "metadata": {},
   "outputs": [],
   "source": []
  },
  {
   "cell_type": "code",
   "execution_count": null,
   "metadata": {},
   "outputs": [],
   "source": []
  },
  {
   "cell_type": "code",
   "execution_count": null,
   "metadata": {},
   "outputs": [],
   "source": []
  },
  {
   "cell_type": "markdown",
   "metadata": {},
   "source": [
    "### Data Frame of Predictions 1 3 5 Days"
   ]
  },
  {
   "cell_type": "code",
   "execution_count": 24,
   "metadata": {},
   "outputs": [
    {
     "name": "stdout",
     "output_type": "stream",
     "text": [
      "Today's date: 2021-01-11\n"
     ]
    }
   ],
   "source": [
    "from datetime import date\n",
    "\n",
    "today = date.today()\n",
    "print(\"Today's date:\", today)"
   ]
  },
  {
   "cell_type": "code",
   "execution_count": 25,
   "metadata": {
    "scrolled": false
   },
   "outputs": [
    {
     "data": {
      "text/html": [
       "<div>\n",
       "<style scoped>\n",
       "    .dataframe tbody tr th:only-of-type {\n",
       "        vertical-align: middle;\n",
       "    }\n",
       "\n",
       "    .dataframe tbody tr th {\n",
       "        vertical-align: top;\n",
       "    }\n",
       "\n",
       "    .dataframe thead th {\n",
       "        text-align: right;\n",
       "    }\n",
       "</style>\n",
       "<table border=\"1\" class=\"dataframe\">\n",
       "  <thead>\n",
       "    <tr style=\"text-align: right;\">\n",
       "      <th></th>\n",
       "      <th>stock</th>\n",
       "      <th>1_Day_Pred</th>\n",
       "      <th>1_Day_Model_Return</th>\n",
       "      <th>3_Day_Pred</th>\n",
       "      <th>3_Day_Model_Return</th>\n",
       "      <th>5_Day_Pred</th>\n",
       "      <th>5_Day_Model_Return</th>\n",
       "      <th>Actual_Returns</th>\n",
       "    </tr>\n",
       "  </thead>\n",
       "  <tbody>\n",
       "    <tr>\n",
       "      <th>0</th>\n",
       "      <td>a</td>\n",
       "      <td>Hold or Sell</td>\n",
       "      <td>3.7956</td>\n",
       "      <td>Hold or Sell</td>\n",
       "      <td>4.0589</td>\n",
       "      <td>Hold or Sell</td>\n",
       "      <td>4.2910</td>\n",
       "      <td>6.5688</td>\n",
       "    </tr>\n",
       "    <tr>\n",
       "      <th>1</th>\n",
       "      <td>aapl</td>\n",
       "      <td>Buy</td>\n",
       "      <td>3.9342</td>\n",
       "      <td>Buy</td>\n",
       "      <td>3.3838</td>\n",
       "      <td>Buy</td>\n",
       "      <td>4.9872</td>\n",
       "      <td>359.0189</td>\n",
       "    </tr>\n",
       "    <tr>\n",
       "      <th>2</th>\n",
       "      <td>acy</td>\n",
       "      <td>Buy</td>\n",
       "      <td>0.4568</td>\n",
       "      <td>Buy</td>\n",
       "      <td>0.5990</td>\n",
       "      <td>Buy</td>\n",
       "      <td>0.5338</td>\n",
       "      <td>1.4815</td>\n",
       "    </tr>\n",
       "    <tr>\n",
       "      <th>3</th>\n",
       "      <td>adbe</td>\n",
       "      <td>Hold or Sell</td>\n",
       "      <td>6.9178</td>\n",
       "      <td>Hold or Sell</td>\n",
       "      <td>6.5865</td>\n",
       "      <td>Hold or Sell</td>\n",
       "      <td>6.8564</td>\n",
       "      <td>98.8400</td>\n",
       "    </tr>\n",
       "    <tr>\n",
       "      <th>4</th>\n",
       "      <td>amat</td>\n",
       "      <td>Buy</td>\n",
       "      <td>4.8396</td>\n",
       "      <td>Buy</td>\n",
       "      <td>7.7182</td>\n",
       "      <td>Hold or Sell</td>\n",
       "      <td>5.4248</td>\n",
       "      <td>166.1849</td>\n",
       "    </tr>\n",
       "    <tr>\n",
       "      <th>5</th>\n",
       "      <td>amd</td>\n",
       "      <td>Buy</td>\n",
       "      <td>8.9141</td>\n",
       "      <td>Buy</td>\n",
       "      <td>9.2853</td>\n",
       "      <td>Buy</td>\n",
       "      <td>8.7276</td>\n",
       "      <td>16.6818</td>\n",
       "    </tr>\n",
       "    <tr>\n",
       "      <th>6</th>\n",
       "      <td>amzn</td>\n",
       "      <td>Buy</td>\n",
       "      <td>3.7686</td>\n",
       "      <td>Buy</td>\n",
       "      <td>4.4429</td>\n",
       "      <td>Buy</td>\n",
       "      <td>4.7176</td>\n",
       "      <td>122.9733</td>\n",
       "    </tr>\n",
       "    <tr>\n",
       "      <th>7</th>\n",
       "      <td>baba</td>\n",
       "      <td>Hold or Sell</td>\n",
       "      <td>1.2874</td>\n",
       "      <td>Hold or Sell</td>\n",
       "      <td>1.2236</td>\n",
       "      <td>Hold or Sell</td>\n",
       "      <td>1.1391</td>\n",
       "      <td>1.8839</td>\n",
       "    </tr>\n",
       "    <tr>\n",
       "      <th>8</th>\n",
       "      <td>bac</td>\n",
       "      <td>Buy</td>\n",
       "      <td>2.1840</td>\n",
       "      <td>Buy</td>\n",
       "      <td>2.7086</td>\n",
       "      <td>Buy</td>\n",
       "      <td>3.5631</td>\n",
       "      <td>6.3489</td>\n",
       "    </tr>\n",
       "    <tr>\n",
       "      <th>9</th>\n",
       "      <td>crm</td>\n",
       "      <td>Hold or Sell</td>\n",
       "      <td>2.2105</td>\n",
       "      <td>Hold or Sell</td>\n",
       "      <td>1.9086</td>\n",
       "      <td>Hold or Sell</td>\n",
       "      <td>2.0577</td>\n",
       "      <td>12.5093</td>\n",
       "    </tr>\n",
       "    <tr>\n",
       "      <th>10</th>\n",
       "      <td>esgv</td>\n",
       "      <td>Hold or Sell</td>\n",
       "      <td>1.1900</td>\n",
       "      <td>Hold or Sell</td>\n",
       "      <td>1.2672</td>\n",
       "      <td>Buy</td>\n",
       "      <td>1.1627</td>\n",
       "      <td>0.3945</td>\n",
       "    </tr>\n",
       "    <tr>\n",
       "      <th>11</th>\n",
       "      <td>fslr</td>\n",
       "      <td>Buy</td>\n",
       "      <td>2.3538</td>\n",
       "      <td>Buy</td>\n",
       "      <td>2.2757</td>\n",
       "      <td>Buy</td>\n",
       "      <td>2.1040</td>\n",
       "      <td>-0.0512</td>\n",
       "    </tr>\n",
       "    <tr>\n",
       "      <th>12</th>\n",
       "      <td>goog</td>\n",
       "      <td>Hold or Sell</td>\n",
       "      <td>2.1998</td>\n",
       "      <td>Hold or Sell</td>\n",
       "      <td>2.1219</td>\n",
       "      <td>Hold or Sell</td>\n",
       "      <td>2.6828</td>\n",
       "      <td>7.8552</td>\n",
       "    </tr>\n",
       "    <tr>\n",
       "      <th>13</th>\n",
       "      <td>ibm</td>\n",
       "      <td>Hold or Sell</td>\n",
       "      <td>2.3628</td>\n",
       "      <td>Hold or Sell</td>\n",
       "      <td>4.0462</td>\n",
       "      <td>Hold or Sell</td>\n",
       "      <td>3.9841</td>\n",
       "      <td>6.9050</td>\n",
       "    </tr>\n",
       "    <tr>\n",
       "      <th>14</th>\n",
       "      <td>idex</td>\n",
       "      <td>Buy</td>\n",
       "      <td>0.1875</td>\n",
       "      <td>Buy</td>\n",
       "      <td>0.1296</td>\n",
       "      <td>Buy</td>\n",
       "      <td>0.2384</td>\n",
       "      <td>-0.2320</td>\n",
       "    </tr>\n",
       "    <tr>\n",
       "      <th>15</th>\n",
       "      <td>intc</td>\n",
       "      <td>Buy</td>\n",
       "      <td>5.2577</td>\n",
       "      <td>Buy</td>\n",
       "      <td>5.2931</td>\n",
       "      <td>Buy</td>\n",
       "      <td>4.3240</td>\n",
       "      <td>32.9184</td>\n",
       "    </tr>\n",
       "    <tr>\n",
       "      <th>16</th>\n",
       "      <td>iyw</td>\n",
       "      <td>Hold or Sell</td>\n",
       "      <td>3.5914</td>\n",
       "      <td>Hold or Sell</td>\n",
       "      <td>5.1098</td>\n",
       "      <td>Hold or Sell</td>\n",
       "      <td>3.4819</td>\n",
       "      <td>5.9718</td>\n",
       "    </tr>\n",
       "    <tr>\n",
       "      <th>17</th>\n",
       "      <td>ma</td>\n",
       "      <td>Hold or Sell</td>\n",
       "      <td>2.6138</td>\n",
       "      <td>Hold or Sell</td>\n",
       "      <td>3.0955</td>\n",
       "      <td>Buy</td>\n",
       "      <td>2.8799</td>\n",
       "      <td>12.9587</td>\n",
       "    </tr>\n",
       "    <tr>\n",
       "      <th>18</th>\n",
       "      <td>mdb</td>\n",
       "      <td>Hold or Sell</td>\n",
       "      <td>0.9040</td>\n",
       "      <td>Hold or Sell</td>\n",
       "      <td>1.0904</td>\n",
       "      <td>Hold or Sell</td>\n",
       "      <td>0.8997</td>\n",
       "      <td>4.6416</td>\n",
       "    </tr>\n",
       "    <tr>\n",
       "      <th>19</th>\n",
       "      <td>msft</td>\n",
       "      <td>Hold or Sell</td>\n",
       "      <td>6.3989</td>\n",
       "      <td>Hold or Sell</td>\n",
       "      <td>6.7910</td>\n",
       "      <td>Hold or Sell</td>\n",
       "      <td>7.7067</td>\n",
       "      <td>53.8006</td>\n",
       "    </tr>\n",
       "    <tr>\n",
       "      <th>20</th>\n",
       "      <td>mu</td>\n",
       "      <td>Buy</td>\n",
       "      <td>2.1836</td>\n",
       "      <td>Buy</td>\n",
       "      <td>2.8646</td>\n",
       "      <td>Buy</td>\n",
       "      <td>3.1398</td>\n",
       "      <td>17.4023</td>\n",
       "    </tr>\n",
       "    <tr>\n",
       "      <th>21</th>\n",
       "      <td>nio</td>\n",
       "      <td>Hold or Sell</td>\n",
       "      <td>2.6513</td>\n",
       "      <td>Hold or Sell</td>\n",
       "      <td>2.0756</td>\n",
       "      <td>Hold or Sell</td>\n",
       "      <td>2.2885</td>\n",
       "      <td>12.1172</td>\n",
       "    </tr>\n",
       "    <tr>\n",
       "      <th>22</th>\n",
       "      <td>nvda</td>\n",
       "      <td>Buy</td>\n",
       "      <td>12.5264</td>\n",
       "      <td>Buy</td>\n",
       "      <td>9.7765</td>\n",
       "      <td>Buy</td>\n",
       "      <td>15.6250</td>\n",
       "      <td>106.1856</td>\n",
       "    </tr>\n",
       "    <tr>\n",
       "      <th>23</th>\n",
       "      <td>pypl</td>\n",
       "      <td>Hold or Sell</td>\n",
       "      <td>2.7591</td>\n",
       "      <td>Hold or Sell</td>\n",
       "      <td>2.3841</td>\n",
       "      <td>Hold or Sell</td>\n",
       "      <td>2.6078</td>\n",
       "      <td>4.9301</td>\n",
       "    </tr>\n",
       "    <tr>\n",
       "      <th>24</th>\n",
       "      <td>orcl</td>\n",
       "      <td>Hold or Sell</td>\n",
       "      <td>3.1395</td>\n",
       "      <td>Hold or Sell</td>\n",
       "      <td>3.0166</td>\n",
       "      <td>Hold or Sell</td>\n",
       "      <td>2.6676</td>\n",
       "      <td>28.3416</td>\n",
       "    </tr>\n",
       "    <tr>\n",
       "      <th>25</th>\n",
       "      <td>qqq</td>\n",
       "      <td>Hold or Sell</td>\n",
       "      <td>2.6747</td>\n",
       "      <td>Hold or Sell</td>\n",
       "      <td>2.8510</td>\n",
       "      <td>Hold or Sell</td>\n",
       "      <td>2.7620</td>\n",
       "      <td>8.1748</td>\n",
       "    </tr>\n",
       "    <tr>\n",
       "      <th>26</th>\n",
       "      <td>tsla</td>\n",
       "      <td>Hold or Sell</td>\n",
       "      <td>2.0452</td>\n",
       "      <td>Hold or Sell</td>\n",
       "      <td>2.1215</td>\n",
       "      <td>Hold or Sell</td>\n",
       "      <td>2.8716</td>\n",
       "      <td>111.3221</td>\n",
       "    </tr>\n",
       "    <tr>\n",
       "      <th>27</th>\n",
       "      <td>v</td>\n",
       "      <td>Hold or Sell</td>\n",
       "      <td>2.7000</td>\n",
       "      <td>Hold or Sell</td>\n",
       "      <td>2.4983</td>\n",
       "      <td>Hold or Sell</td>\n",
       "      <td>3.1894</td>\n",
       "      <td>9.6685</td>\n",
       "    </tr>\n",
       "    <tr>\n",
       "      <th>28</th>\n",
       "      <td>vbiv</td>\n",
       "      <td>Buy</td>\n",
       "      <td>0.5336</td>\n",
       "      <td>Buy</td>\n",
       "      <td>0.9978</td>\n",
       "      <td>Buy</td>\n",
       "      <td>1.2475</td>\n",
       "      <td>-0.8480</td>\n",
       "    </tr>\n",
       "    <tr>\n",
       "      <th>29</th>\n",
       "      <td>vbr</td>\n",
       "      <td>Buy</td>\n",
       "      <td>1.3626</td>\n",
       "      <td>Buy</td>\n",
       "      <td>1.1334</td>\n",
       "      <td>Buy</td>\n",
       "      <td>1.5791</td>\n",
       "      <td>1.3212</td>\n",
       "    </tr>\n",
       "    <tr>\n",
       "      <th>30</th>\n",
       "      <td>viov</td>\n",
       "      <td>Buy</td>\n",
       "      <td>1.1995</td>\n",
       "      <td>Hold or Sell</td>\n",
       "      <td>1.1965</td>\n",
       "      <td>Buy</td>\n",
       "      <td>0.9557</td>\n",
       "      <td>1.0428</td>\n",
       "    </tr>\n",
       "    <tr>\n",
       "      <th>31</th>\n",
       "      <td>vgt</td>\n",
       "      <td>Hold or Sell</td>\n",
       "      <td>3.0761</td>\n",
       "      <td>Hold or Sell</td>\n",
       "      <td>3.6693</td>\n",
       "      <td>Hold or Sell</td>\n",
       "      <td>3.3724</td>\n",
       "      <td>5.3101</td>\n",
       "    </tr>\n",
       "    <tr>\n",
       "      <th>32</th>\n",
       "      <td>xlk</td>\n",
       "      <td>Hold or Sell</td>\n",
       "      <td>3.7424</td>\n",
       "      <td>Buy</td>\n",
       "      <td>4.3756</td>\n",
       "      <td>Hold or Sell</td>\n",
       "      <td>4.0543</td>\n",
       "      <td>5.6605</td>\n",
       "    </tr>\n",
       "  </tbody>\n",
       "</table>\n",
       "</div>"
      ],
      "text/plain": [
       "   stock    1_Day_Pred  1_Day_Model_Return    3_Day_Pred  3_Day_Model_Return  \\\n",
       "0      a  Hold or Sell              3.7956  Hold or Sell              4.0589   \n",
       "1   aapl           Buy              3.9342           Buy              3.3838   \n",
       "2    acy           Buy              0.4568           Buy              0.5990   \n",
       "3   adbe  Hold or Sell              6.9178  Hold or Sell              6.5865   \n",
       "4   amat           Buy              4.8396           Buy              7.7182   \n",
       "5    amd           Buy              8.9141           Buy              9.2853   \n",
       "6   amzn           Buy              3.7686           Buy              4.4429   \n",
       "7   baba  Hold or Sell              1.2874  Hold or Sell              1.2236   \n",
       "8    bac           Buy              2.1840           Buy              2.7086   \n",
       "9    crm  Hold or Sell              2.2105  Hold or Sell              1.9086   \n",
       "10  esgv  Hold or Sell              1.1900  Hold or Sell              1.2672   \n",
       "11  fslr           Buy              2.3538           Buy              2.2757   \n",
       "12  goog  Hold or Sell              2.1998  Hold or Sell              2.1219   \n",
       "13   ibm  Hold or Sell              2.3628  Hold or Sell              4.0462   \n",
       "14  idex           Buy              0.1875           Buy              0.1296   \n",
       "15  intc           Buy              5.2577           Buy              5.2931   \n",
       "16   iyw  Hold or Sell              3.5914  Hold or Sell              5.1098   \n",
       "17    ma  Hold or Sell              2.6138  Hold or Sell              3.0955   \n",
       "18   mdb  Hold or Sell              0.9040  Hold or Sell              1.0904   \n",
       "19  msft  Hold or Sell              6.3989  Hold or Sell              6.7910   \n",
       "20    mu           Buy              2.1836           Buy              2.8646   \n",
       "21   nio  Hold or Sell              2.6513  Hold or Sell              2.0756   \n",
       "22  nvda           Buy             12.5264           Buy              9.7765   \n",
       "23  pypl  Hold or Sell              2.7591  Hold or Sell              2.3841   \n",
       "24  orcl  Hold or Sell              3.1395  Hold or Sell              3.0166   \n",
       "25   qqq  Hold or Sell              2.6747  Hold or Sell              2.8510   \n",
       "26  tsla  Hold or Sell              2.0452  Hold or Sell              2.1215   \n",
       "27     v  Hold or Sell              2.7000  Hold or Sell              2.4983   \n",
       "28  vbiv           Buy              0.5336           Buy              0.9978   \n",
       "29   vbr           Buy              1.3626           Buy              1.1334   \n",
       "30  viov           Buy              1.1995  Hold or Sell              1.1965   \n",
       "31   vgt  Hold or Sell              3.0761  Hold or Sell              3.6693   \n",
       "32   xlk  Hold or Sell              3.7424           Buy              4.3756   \n",
       "\n",
       "      5_Day_Pred  5_Day_Model_Return  Actual_Returns  \n",
       "0   Hold or Sell              4.2910          6.5688  \n",
       "1            Buy              4.9872        359.0189  \n",
       "2            Buy              0.5338          1.4815  \n",
       "3   Hold or Sell              6.8564         98.8400  \n",
       "4   Hold or Sell              5.4248        166.1849  \n",
       "5            Buy              8.7276         16.6818  \n",
       "6            Buy              4.7176        122.9733  \n",
       "7   Hold or Sell              1.1391          1.8839  \n",
       "8            Buy              3.5631          6.3489  \n",
       "9   Hold or Sell              2.0577         12.5093  \n",
       "10           Buy              1.1627          0.3945  \n",
       "11           Buy              2.1040         -0.0512  \n",
       "12  Hold or Sell              2.6828          7.8552  \n",
       "13  Hold or Sell              3.9841          6.9050  \n",
       "14           Buy              0.2384         -0.2320  \n",
       "15           Buy              4.3240         32.9184  \n",
       "16  Hold or Sell              3.4819          5.9718  \n",
       "17           Buy              2.8799         12.9587  \n",
       "18  Hold or Sell              0.8997          4.6416  \n",
       "19  Hold or Sell              7.7067         53.8006  \n",
       "20           Buy              3.1398         17.4023  \n",
       "21  Hold or Sell              2.2885         12.1172  \n",
       "22           Buy             15.6250        106.1856  \n",
       "23  Hold or Sell              2.6078          4.9301  \n",
       "24  Hold or Sell              2.6676         28.3416  \n",
       "25  Hold or Sell              2.7620          8.1748  \n",
       "26  Hold or Sell              2.8716        111.3221  \n",
       "27  Hold or Sell              3.1894          9.6685  \n",
       "28           Buy              1.2475         -0.8480  \n",
       "29           Buy              1.5791          1.3212  \n",
       "30           Buy              0.9557          1.0428  \n",
       "31  Hold or Sell              3.3724          5.3101  \n",
       "32  Hold or Sell              4.0543          5.6605  "
      ]
     },
     "execution_count": 25,
     "metadata": {},
     "output_type": "execute_result"
    }
   ],
   "source": [
    "summary_df = a.pred_summary_df(start_dates, stocks = [x for x in start_dates], days_back = 2)\n",
    "summary_df"
   ]
  },
  {
   "cell_type": "code",
   "execution_count": 26,
   "metadata": {},
   "outputs": [
    {
     "data": {
      "text/plain": [
       "(2.6513, 2.851, 2.8799, 7.8552)"
      ]
     },
     "execution_count": 26,
     "metadata": {},
     "output_type": "execute_result"
    }
   ],
   "source": [
    "summary_df['1_Day_Model_Return'].median(), summary_df['3_Day_Model_Return'].median(), summary_df['5_Day_Model_Return'].median(), summary_df['Actual_Returns'].median()"
   ]
  },
  {
   "cell_type": "code",
   "execution_count": null,
   "metadata": {},
   "outputs": [],
   "source": []
  },
  {
   "cell_type": "code",
   "execution_count": null,
   "metadata": {},
   "outputs": [],
   "source": []
  },
  {
   "cell_type": "code",
   "execution_count": null,
   "metadata": {},
   "outputs": [],
   "source": []
  }
 ],
 "metadata": {
  "kernelspec": {
   "display_name": "Python 3",
   "language": "python",
   "name": "python3"
  },
  "language_info": {
   "codemirror_mode": {
    "name": "ipython",
    "version": 3
   },
   "file_extension": ".py",
   "mimetype": "text/x-python",
   "name": "python",
   "nbconvert_exporter": "python",
   "pygments_lexer": "ipython3",
   "version": "3.8.5"
  }
 },
 "nbformat": 4,
 "nbformat_minor": 4
}
