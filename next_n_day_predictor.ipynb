{
 "cells": [
  {
   "cell_type": "code",
   "execution_count": 1,
   "metadata": {
    "scrolled": true
   },
   "outputs": [],
   "source": [
    "from src import attributes as a\n",
    "%load_ext autoreload\n",
    "%autoreload 2"
   ]
  },
  {
   "cell_type": "code",
   "execution_count": 2,
   "metadata": {},
   "outputs": [],
   "source": [
    "# Global Variables\n",
    "stock_name = 'msft' # ticker symbol\n",
    "train = 0 # 1 for train, 0 for pass\n",
    "days_ahead = 1 # for predicting 1, 3, or 5 days ahead\n",
    "days_back = -1 # -1 for current data point, -2 for two days ago, etc...\n",
    "cv = 5 # number of cross validation folds\n",
    "model_name = 'Random Forest Classifier' # for display on charts, not a tuning parameter"
   ]
  },
  {
   "cell_type": "code",
   "execution_count": 3,
   "metadata": {},
   "outputs": [],
   "source": [
    "# Extract, Transform, Load, and Train Test Split\n",
    "# Dictionary of IPO Dates\n",
    "start_dates = {'a': '11/15/1999' # Updated 1/17/21 1D, 3D, 5D ahead\n",
    "               , 'aapl':'12/12/1980' # Updated 1/17/21 1D, 3D, 5D ahead\n",
    "               , 'acy': '01/18/1998' # Updated 1/17/21 1D, 3D, 5D ahead\n",
    "               , 'adbe': '08/11/1986' # Updated 1/17/21 1D, 3D, 5D ahead\n",
    "               , 'alb': '02/21/1994' # Updated 1/17/21 1D, 3D, 5D ahead\n",
    "               , 'amat': '03/16/1980' # Updated 1/17/21 1D, 3D, 5D ahead\n",
    "               , 'amd': '03/17/1980' # Updated 1/17/21 1D, 3D, 5D ahead\n",
    "               , 'amzn': '05/12/1997' # Updated 1/17/21 1D, 3D, 5D ahead\n",
    "               , 'baba': '09/15/2014' # Updated 1/17/21 1D, 3D, 5D ahead\n",
    "               , 'bac': '02/19/1973' # Updated 1/17/21 1D, 3D, 5D ahead\n",
    "               , 'bpmc': '04/27/2015' # Updated 1/17/21 1D, 3D, 5D ahead\n",
    "               , 'crm': '06/23/2004' # Updated 1/17/21 1D, 3D, 5D ahead\n",
    "               , 'crsp': '10/16/2016' # Updated 1/17/21 1D, 3D, 5D ahead\n",
    "               , 'dq': '10/04/2010' # Updated 1/17/21 1D, 3D, 5D ahead\n",
    "               , 'esgv': '09/16/2018' # Updated 1/17/21 1D, 3D, 5D ahead\n",
    "               , 'fslr': '11/12/2006' # Updated 1/17/21 1D, 3D, 5D ahead\n",
    "               , 'goog': '08/16/2004' # Updated 1/17/21 1D, 3D, 5D ahead\n",
    "               , 'ibm': '01/02/1962' # Updated 1/17/21 1D, 3D, 5D ahead\n",
    "               , 'idex': '05/23/2007' # Updated 1/17/21 1D, 3D, 5D ahead\n",
    "               , 'intc': '03/16/1980' # Updated 1/17/21 1D, 3D, 5D ahead\n",
    "               , 'iyw': '05/15/2000' # Updated 1/17/21 1D, 3D, 5D ahead\n",
    "               , 'lng': '04/04/1994' # Updated 1/17/21 1D, 3D, 5D ahead\n",
    "               , 'ma': '05/21/2006' # Updated 1/17/21 1D, 3D, 5D ahead\n",
    "               , 'mdb': '10/15/2017' # Updated 1/17/21 1D, 3D, 5D ahead\n",
    "               , 'msft': '03/10/1986' # Updated 1/17/21 1D, 3D, 5D ahead\n",
    "               , 'mu': '05/28/1984' # Updated 1/17/21 1D, 3D, 5D ahead\n",
    "               , 'nee': '02/19/1973' # Updated 1/17/21 1D, 3D, 5D ahead\n",
    "               , 'nga': '10/08/2020' # Updated 1/17/21 1D, 3D, 5D ahead\n",
    "               , 'nio': '09/10/2018' # Updated 1/17/21 1D, 3D, 5D ahead\n",
    "               , 'nvda': '01/22/1999' # Updated 1/17/21 1D, 3D, 5D ahead\n",
    "               , 'pacb': '10/25/2010' # Updated 1/17/21 1D, 3D, 5D ahead\n",
    "               , 'pypl': '07/05/2015' # Updated 1/17/21 1D, 3D, 5D ahead\n",
    "               , 'qgen': '06/24/1996' # Updated 1/17/21 1D, 3D, 5D ahead\n",
    "               , 'run': '08/02/2015' # Updated 1/17/21 1D, 3D, 5D ahead\n",
    "               , 'orcl': '03/10/1986' # Updated 1/17/21 1D, 3D, 5D ahead\n",
    "               , 'qqq': '03/08/1999' # Updated 1/17/21 1D, 3D, 5D ahead\n",
    "               , 'srpt': '06/02/1997' # Updated 1/17/21 1D, 3D, 5D ahead\n",
    "               , 'tpic': '07/17/2016' # Updated 1/17/21 1D, 3D, 5D ahead\n",
    "               , 'tsla': '06/29/2010' # Updated 1/17/21 1D, 3D, 5D ahead\n",
    "               , 'v': '03/16/2008' # Updated 1/17/21 1D, 3D, 5D ahead\n",
    "               , 'vbiv': '09/04/2002' # Updated 1/17/21 1D, 3D, 5D ahead\n",
    "               , 'vbr': '01/26/2004' # Updated 1/17/21 1D, 3D, 5D ahead\n",
    "               , 'viov': '09/06/2010' # Updated 1/17/21 1D, 3D, 5D ahead\n",
    "               , 'vgt': '01/26/2004' # Updated 1/17/21 1D, 3D, 5D ahead\n",
    "               , 'xlk': '12/21/1998' # Updated 1/17/21 1D, 3D, 5D ahead\n",
    "              }"
   ]
  },
  {
   "cell_type": "code",
   "execution_count": null,
   "metadata": {},
   "outputs": [],
   "source": []
  },
  {
   "cell_type": "code",
   "execution_count": null,
   "metadata": {},
   "outputs": [],
   "source": []
  },
  {
   "cell_type": "code",
   "execution_count": null,
   "metadata": {},
   "outputs": [],
   "source": []
  },
  {
   "cell_type": "code",
   "execution_count": 4,
   "metadata": {},
   "outputs": [],
   "source": [
    "# X_train, X_test, y_train, y_test, stock_df = a.data(stock_name, start_dates[stock_name], days_ahead)\n",
    "# stock_df.tail(10)"
   ]
  },
  {
   "cell_type": "code",
   "execution_count": 5,
   "metadata": {
    "scrolled": false
   },
   "outputs": [],
   "source": [
    "# GridSerach to find best hyperparameters to prevent overfitting, can be commented out once trained\n",
    "# if train == 1:\n",
    "#     a.rfc_GridSearch(X_train, y_train, stock_name, days_ahead, cv)\n",
    "# elif train == 0:\n",
    "#     pass"
   ]
  },
  {
   "cell_type": "code",
   "execution_count": 6,
   "metadata": {},
   "outputs": [],
   "source": [
    "# Load RandomForextClassifier Model\n",
    "# rfc_model, y_pred, y_probs = a.rfc(X_train, X_test, y_train, stock_name, days_ahead)"
   ]
  },
  {
   "cell_type": "code",
   "execution_count": 7,
   "metadata": {
    "scrolled": false
   },
   "outputs": [],
   "source": [
    "# ROC Curve\n",
    "# a.roc_plot(y_test, y_probs, stock_name, model_name)"
   ]
  },
  {
   "cell_type": "code",
   "execution_count": 8,
   "metadata": {
    "scrolled": false
   },
   "outputs": [],
   "source": [
    "# Precision Recall Curve\n",
    "# a.prec_recall(y_test, y_probs, stock_name, model_name)"
   ]
  },
  {
   "cell_type": "code",
   "execution_count": 9,
   "metadata": {
    "scrolled": false
   },
   "outputs": [],
   "source": [
    "# Confusion Matrix\n",
    "# a.confusion_matrix(rfc_model, X_test, y_test, stock_name)"
   ]
  },
  {
   "cell_type": "code",
   "execution_count": 10,
   "metadata": {},
   "outputs": [],
   "source": [
    "# Cross Validation\n",
    "# a.cross_validation(rfc_model\n",
    "#                    , stock_df[['oc', 'hl', '5stdev_adj', '5sma_adj']]\n",
    "#                    , stock_df['direction']\n",
    "#                    , cv = 5\n",
    "#                   )"
   ]
  },
  {
   "cell_type": "markdown",
   "metadata": {},
   "source": [
    "### Prediction..."
   ]
  },
  {
   "cell_type": "code",
   "execution_count": 11,
   "metadata": {
    "scrolled": true
   },
   "outputs": [],
   "source": [
    "# Prediction, use last day of data\n",
    "# stock_df.iloc[-1]"
   ]
  },
  {
   "cell_type": "code",
   "execution_count": 12,
   "metadata": {},
   "outputs": [],
   "source": [
    "# import numpy as np\n",
    "# last = stock_df[['oc', 'hl', '5stdev_adj', '5sma_adj']].iloc[-days_back]\n",
    "# last"
   ]
  },
  {
   "cell_type": "code",
   "execution_count": 13,
   "metadata": {},
   "outputs": [],
   "source": [
    "# stock_df['adj'].describe()"
   ]
  },
  {
   "cell_type": "code",
   "execution_count": 14,
   "metadata": {
    "scrolled": true
   },
   "outputs": [],
   "source": [
    "# if rfc_model.predict(np.array(last).reshape(1, -1))[0] == 1:\n",
    "#     print(f'Buy {stock_name} {days_ahead} day(s) ahead')\n",
    "# else:\n",
    "#     print(f'Sell or hold {stock_name} {days_ahead} day(s) ahead')"
   ]
  },
  {
   "cell_type": "markdown",
   "metadata": {},
   "source": [
    "### Strategy Returns..."
   ]
  },
  {
   "cell_type": "code",
   "execution_count": 15,
   "metadata": {},
   "outputs": [],
   "source": [
    "# returns on strategy column\n",
    "# stock_df['prediction'] = rfc_model.predict(stock_df[['oc', 'hl', '5stdev_adj', '5sma_adj']])\n",
    "# stock_df['returns'] = stock_df['adj'].shift(-1, fill_value = stock_df['adj'].median()) * stock_df['prediction']"
   ]
  },
  {
   "cell_type": "code",
   "execution_count": 16,
   "metadata": {},
   "outputs": [],
   "source": [
    "# stock_df.tail(5)"
   ]
  },
  {
   "cell_type": "code",
   "execution_count": 17,
   "metadata": {},
   "outputs": [],
   "source": [
    "# Don't trade every day!\n",
    "# import matplotlib.pyplot as plt\n",
    "# test_length = len(y_test)\n",
    "# (stock_df['returns'][-test_length:] + 1).cumprod().plot()\n",
    "# plt.title(f'{stock_name} Expected Returns %');"
   ]
  },
  {
   "cell_type": "code",
   "execution_count": 18,
   "metadata": {},
   "outputs": [],
   "source": [
    "# Model returns if bought on predictions of 1\n",
    "# returns_on_ones = []\n",
    "# for idx in range(-test_length, 0):\n",
    "#     if stock_df['prediction'][idx] == 1:\n",
    "#         returns_on_ones.append(1 + stock_df['returns'][idx])\n",
    "\n",
    "# returns = 1\n",
    "# for x in returns_on_ones:\n",
    "#     returns *= x\n",
    "# returns"
   ]
  },
  {
   "cell_type": "code",
   "execution_count": 19,
   "metadata": {},
   "outputs": [],
   "source": [
    "# multiple times original investment, not bad but..."
   ]
  },
  {
   "cell_type": "code",
   "execution_count": 20,
   "metadata": {},
   "outputs": [],
   "source": [
    "# If purchased in 2012 and left it until now\n",
    "# test_idx = int(len(stock_df)*0.75)\n",
    "# (stock_df['Close'][-1] - stock_df['Close'][-test_idx]) / stock_df['Close'][-test_idx]"
   ]
  },
  {
   "cell_type": "code",
   "execution_count": 21,
   "metadata": {},
   "outputs": [],
   "source": [
    "# Buy and hold strategy beats RandomForestClassifier in this study\n",
    "\n",
    "# Special thanks to Shagufta Tahsildar at https://blog.quantinsti.com/random-forest-algorithm-in-python/"
   ]
  },
  {
   "cell_type": "code",
   "execution_count": null,
   "metadata": {},
   "outputs": [],
   "source": []
  },
  {
   "cell_type": "code",
   "execution_count": null,
   "metadata": {},
   "outputs": [],
   "source": []
  },
  {
   "cell_type": "code",
   "execution_count": null,
   "metadata": {},
   "outputs": [],
   "source": []
  },
  {
   "cell_type": "markdown",
   "metadata": {},
   "source": [
    "### Training"
   ]
  },
  {
   "cell_type": "markdown",
   "metadata": {},
   "source": [
    "Training is done once a week on Saturday and Sunday"
   ]
  },
  {
   "cell_type": "code",
   "execution_count": 22,
   "metadata": {},
   "outputs": [
    {
     "data": {
      "text/plain": [
       "45"
      ]
     },
     "execution_count": 22,
     "metadata": {},
     "output_type": "execute_result"
    }
   ],
   "source": [
    "len(start_dates)"
   ]
  },
  {
   "cell_type": "code",
   "execution_count": 23,
   "metadata": {},
   "outputs": [
    {
     "data": {
      "text/plain": [
       "{'a': '11/15/1999',\n",
       " 'aapl': '12/12/1980',\n",
       " 'acy': '01/18/1998',\n",
       " 'adbe': '08/11/1986',\n",
       " 'alb': '02/21/1994',\n",
       " 'amat': '03/16/1980',\n",
       " 'amd': '03/17/1980',\n",
       " 'amzn': '05/12/1997',\n",
       " 'baba': '09/15/2014',\n",
       " 'bac': '02/19/1973',\n",
       " 'bpmc': '04/27/2015',\n",
       " 'crm': '06/23/2004',\n",
       " 'crsp': '10/16/2016',\n",
       " 'dq': '10/04/2010',\n",
       " 'esgv': '09/16/2018'}"
      ]
     },
     "execution_count": 23,
     "metadata": {},
     "output_type": "execute_result"
    }
   ],
   "source": [
    "import itertools as itr\n",
    "start_dates1 = dict(itr.islice(start_dates.items(), 0, 15))\n",
    "start_dates1"
   ]
  },
  {
   "cell_type": "code",
   "execution_count": 24,
   "metadata": {},
   "outputs": [
    {
     "data": {
      "text/plain": [
       "{'fslr': '11/12/2006',\n",
       " 'goog': '08/16/2004',\n",
       " 'ibm': '01/02/1962',\n",
       " 'idex': '05/23/2007',\n",
       " 'intc': '03/16/1980',\n",
       " 'iyw': '05/15/2000',\n",
       " 'lng': '04/04/1994',\n",
       " 'ma': '05/21/2006',\n",
       " 'mdb': '10/15/2017',\n",
       " 'msft': '03/10/1986',\n",
       " 'mu': '05/28/1984',\n",
       " 'nee': '02/19/1973',\n",
       " 'nga': '10/08/2020',\n",
       " 'nio': '09/10/2018',\n",
       " 'nvda': '01/22/1999'}"
      ]
     },
     "execution_count": 24,
     "metadata": {},
     "output_type": "execute_result"
    }
   ],
   "source": [
    "start_dates2 = dict(itr.islice(start_dates.items(), 15, 30))\n",
    "start_dates2"
   ]
  },
  {
   "cell_type": "code",
   "execution_count": 25,
   "metadata": {},
   "outputs": [
    {
     "data": {
      "text/plain": [
       "{'pacb': '10/25/2010',\n",
       " 'pypl': '07/05/2015',\n",
       " 'qgen': '06/24/1996',\n",
       " 'run': '08/02/2015',\n",
       " 'orcl': '03/10/1986',\n",
       " 'qqq': '03/08/1999',\n",
       " 'srpt': '06/02/1997',\n",
       " 'tpic': '07/17/2016',\n",
       " 'tsla': '06/29/2010',\n",
       " 'v': '03/16/2008',\n",
       " 'vbiv': '09/04/2002',\n",
       " 'vbr': '01/26/2004',\n",
       " 'viov': '09/06/2010',\n",
       " 'vgt': '01/26/2004',\n",
       " 'xlk': '12/21/1998'}"
      ]
     },
     "execution_count": 25,
     "metadata": {},
     "output_type": "execute_result"
    }
   ],
   "source": [
    "start_dates3 = dict(itr.islice(start_dates.items(), 30, 45+1))\n",
    "start_dates3"
   ]
  },
  {
   "cell_type": "code",
   "execution_count": 26,
   "metadata": {},
   "outputs": [],
   "source": [
    "#Train 15 at a time!\n",
    "# stocks = [x for x in start_dates1]\n",
    "# days_ahead = [1, 3, 5]\n",
    "# cv = 5\n",
    "# for stock in stocks:\n",
    "#     for days in days_ahead:\n",
    "#         X_train, X_test, y_train, y_test, stock_df = a.data(stock, start_dates[stock], days)\n",
    "#         a.rfc_GridSearch(X_train, y_train, stock, days, cv)\n",
    "# len(stocks)\n",
    "\n",
    "# stocks = [x for x in start_dates2]\n",
    "# days_ahead = [1, 3, 5]\n",
    "# cv = 5\n",
    "# for stock in stocks:\n",
    "#     for days in days_ahead:\n",
    "#         X_train, X_test, y_train, y_test, stock_df = a.data(stock, start_dates[stock], days)\n",
    "#         a.rfc_GridSearch(X_train, y_train, stock, days, cv)\n",
    "# len(stocks)\n",
    "\n",
    "# stocks = [x for x in start_dates3]\n",
    "# days_ahead = [1, 3, 5]\n",
    "# cv = 5\n",
    "# for stock in stocks:\n",
    "#     for days in days_ahead:\n",
    "#         X_train, X_test, y_train, y_test, stock_df = a.data(stock, start_dates[stock], days)\n",
    "#         a.rfc_GridSearch(X_train, y_train, stock, days, cv)\n",
    "# len(stocks)\n",
    "\n",
    "# Train all, takes 15+ hours\n",
    "# stocks = [x for x in start_dates]\n",
    "# days_ahead = [1, 3, 5]\n",
    "# cv = 5\n",
    "# for stock in stocks:\n",
    "#     for days in days_ahead:\n",
    "#         X_train, X_test, y_train, y_test, stock_df = a.data(stock, start_dates[stock], days)\n",
    "#         a.rfc_GridSearch(X_train, y_train, stock, days, cv)\n",
    "# len(stocks)\n",
    "\n",
    "# Train desired stocks...takes less time\n",
    "# stocks = ['nga']\n",
    "# days_ahead = [1, 3, 5]\n",
    "# cv = 5\n",
    "# for stock in stocks:\n",
    "#     for days in days_ahead:\n",
    "#         X_train, X_test, y_train, y_test, stock_df = a.data(stock, start_dates[stock], days)\n",
    "#         a.rfc_GridSearch(X_train, y_train, stock, days, cv)"
   ]
  },
  {
   "cell_type": "code",
   "execution_count": null,
   "metadata": {},
   "outputs": [],
   "source": []
  },
  {
   "cell_type": "code",
   "execution_count": null,
   "metadata": {},
   "outputs": [],
   "source": []
  },
  {
   "cell_type": "code",
   "execution_count": null,
   "metadata": {},
   "outputs": [],
   "source": []
  },
  {
   "cell_type": "markdown",
   "metadata": {},
   "source": [
    "### Display All Results"
   ]
  },
  {
   "cell_type": "code",
   "execution_count": 27,
   "metadata": {
    "scrolled": false
   },
   "outputs": [
    {
     "name": "stdout",
     "output_type": "stream",
     "text": [
      "Buy viov 1 day(s) ahead\n",
      "Model Returns (x 100 for %): 1.2083\n",
      "Stock Returns (x 100 for %): 0.9856\n"
     ]
    },
    {
     "data": {
      "image/png": "[encoded data removed]",
      "text/plain": [
       "<Figure size 432x288 with 1 Axes>"
      ]
     },
     "metadata": {},
     "output_type": "display_data"
    },
    {
     "data": {
      "image/png": "[encoded data removed]",
      "text/plain": [
       "<Figure size 648x504 with 1 Axes>"
      ]
     },
     "metadata": {},
     "output_type": "display_data"
    },
    {
     "data": {
      "image/png": "[encoded data removed]",
      "text/plain": [
       "<Figure size 648x504 with 1 Axes>"
      ]
     },
     "metadata": {},
     "output_type": "display_data"
    },
    {
     "data": {
      "image/png": "[encoded data removed]",
      "text/plain": [
       "<Figure size 684x612 with 2 Axes>"
      ]
     },
     "metadata": {},
     "output_type": "display_data"
    }
   ],
   "source": [
    "stock_name = 'viov'\n",
    "a.all_func(stock_name\n",
    "           , start_dates[stock_name]\n",
    "           , days_ahead = 1\n",
    "           , model_name = model_name\n",
    "           , days_back = 1\n",
    "          )"
   ]
  },
  {
   "cell_type": "code",
   "execution_count": null,
   "metadata": {},
   "outputs": [],
   "source": []
  },
  {
   "cell_type": "code",
   "execution_count": null,
   "metadata": {},
   "outputs": [],
   "source": []
  },
  {
   "cell_type": "code",
   "execution_count": null,
   "metadata": {},
   "outputs": [],
   "source": []
  },
  {
   "cell_type": "markdown",
   "metadata": {},
   "source": [
    "### Data Frame of Predictions 1 3 5 Days"
   ]
  },
  {
   "cell_type": "code",
   "execution_count": 28,
   "metadata": {},
   "outputs": [
    {
     "name": "stdout",
     "output_type": "stream",
     "text": [
      "Today's date: 2021-02-03\n"
     ]
    }
   ],
   "source": [
    "from datetime import date\n",
    "\n",
    "today = date.today()\n",
    "print(\"Today's date:\", today)"
   ]
  },
  {
   "cell_type": "code",
   "execution_count": 29,
   "metadata": {
    "scrolled": false
   },
   "outputs": [
    {
     "data": {
      "text/html": [
       "<div>\n",
       "<style scoped>\n",
       "    .dataframe tbody tr th:only-of-type {\n",
       "        vertical-align: middle;\n",
       "    }\n",
       "\n",
       "    .dataframe tbody tr th {\n",
       "        vertical-align: top;\n",
       "    }\n",
       "\n",
       "    .dataframe thead th {\n",
       "        text-align: right;\n",
       "    }\n",
       "</style>\n",
       "<table border=\"1\" class=\"dataframe\">\n",
       "  <thead>\n",
       "    <tr style=\"text-align: right;\">\n",
       "      <th></th>\n",
       "      <th>stock</th>\n",
       "      <th>1_Day_Pred</th>\n",
       "      <th>1_Day_Model_Return</th>\n",
       "      <th>3_Day_Pred</th>\n",
       "      <th>3_Day_Model_Return</th>\n",
       "      <th>5_Day_Pred</th>\n",
       "      <th>5_Day_Model_Return</th>\n",
       "      <th>Actual_Returns</th>\n",
       "    </tr>\n",
       "  </thead>\n",
       "  <tbody>\n",
       "    <tr>\n",
       "      <th>0</th>\n",
       "      <td>a</td>\n",
       "      <td>Hold or Sell</td>\n",
       "      <td>3.7672</td>\n",
       "      <td>Hold or Sell</td>\n",
       "      <td>3.5945</td>\n",
       "      <td>Hold or Sell</td>\n",
       "      <td>4.4303</td>\n",
       "      <td>6.7056</td>\n",
       "    </tr>\n",
       "    <tr>\n",
       "      <th>1</th>\n",
       "      <td>aapl</td>\n",
       "      <td>Buy</td>\n",
       "      <td>3.1909</td>\n",
       "      <td>Buy</td>\n",
       "      <td>3.7587</td>\n",
       "      <td>Buy</td>\n",
       "      <td>3.8236</td>\n",
       "      <td>334.9749</td>\n",
       "    </tr>\n",
       "    <tr>\n",
       "      <th>2</th>\n",
       "      <td>acy</td>\n",
       "      <td>Buy</td>\n",
       "      <td>0.3046</td>\n",
       "      <td>Buy</td>\n",
       "      <td>0.4847</td>\n",
       "      <td>Buy</td>\n",
       "      <td>0.3893</td>\n",
       "      <td>1.9059</td>\n",
       "    </tr>\n",
       "    <tr>\n",
       "      <th>3</th>\n",
       "      <td>adbe</td>\n",
       "      <td>Hold or Sell</td>\n",
       "      <td>9.2451</td>\n",
       "      <td>Hold or Sell</td>\n",
       "      <td>5.8473</td>\n",
       "      <td>Hold or Sell</td>\n",
       "      <td>7.9814</td>\n",
       "      <td>102.4517</td>\n",
       "    </tr>\n",
       "    <tr>\n",
       "      <th>4</th>\n",
       "      <td>alb</td>\n",
       "      <td>Hold or Sell</td>\n",
       "      <td>1.8579</td>\n",
       "      <td>Hold or Sell</td>\n",
       "      <td>1.8034</td>\n",
       "      <td>Buy</td>\n",
       "      <td>2.0149</td>\n",
       "      <td>14.5632</td>\n",
       "    </tr>\n",
       "    <tr>\n",
       "      <th>5</th>\n",
       "      <td>amat</td>\n",
       "      <td>Hold or Sell</td>\n",
       "      <td>5.9134</td>\n",
       "      <td>Hold or Sell</td>\n",
       "      <td>8.1090</td>\n",
       "      <td>Hold or Sell</td>\n",
       "      <td>9.0935</td>\n",
       "      <td>179.4016</td>\n",
       "    </tr>\n",
       "    <tr>\n",
       "      <th>6</th>\n",
       "      <td>amd</td>\n",
       "      <td>Hold or Sell</td>\n",
       "      <td>6.6760</td>\n",
       "      <td>Buy</td>\n",
       "      <td>7.9144</td>\n",
       "      <td>Hold or Sell</td>\n",
       "      <td>8.4271</td>\n",
       "      <td>15.9257</td>\n",
       "    </tr>\n",
       "    <tr>\n",
       "      <th>7</th>\n",
       "      <td>amzn</td>\n",
       "      <td>Hold or Sell</td>\n",
       "      <td>3.7174</td>\n",
       "      <td>Hold or Sell</td>\n",
       "      <td>4.4689</td>\n",
       "      <td>Buy</td>\n",
       "      <td>4.2848</td>\n",
       "      <td>115.9955</td>\n",
       "    </tr>\n",
       "    <tr>\n",
       "      <th>8</th>\n",
       "      <td>baba</td>\n",
       "      <td>Buy</td>\n",
       "      <td>1.4252</td>\n",
       "      <td>Buy</td>\n",
       "      <td>1.3025</td>\n",
       "      <td>Buy</td>\n",
       "      <td>1.1693</td>\n",
       "      <td>2.3078</td>\n",
       "    </tr>\n",
       "    <tr>\n",
       "      <th>9</th>\n",
       "      <td>bac</td>\n",
       "      <td>Hold or Sell</td>\n",
       "      <td>2.6662</td>\n",
       "      <td>Hold or Sell</td>\n",
       "      <td>3.1245</td>\n",
       "      <td>Hold or Sell</td>\n",
       "      <td>4.5756</td>\n",
       "      <td>5.8717</td>\n",
       "    </tr>\n",
       "    <tr>\n",
       "      <th>10</th>\n",
       "      <td>bpmc</td>\n",
       "      <td>Buy</td>\n",
       "      <td>2.4704</td>\n",
       "      <td>Hold or Sell</td>\n",
       "      <td>1.1371</td>\n",
       "      <td>Hold or Sell</td>\n",
       "      <td>1.4559</td>\n",
       "      <td>2.5801</td>\n",
       "    </tr>\n",
       "    <tr>\n",
       "      <th>11</th>\n",
       "      <td>crm</td>\n",
       "      <td>Hold or Sell</td>\n",
       "      <td>2.4362</td>\n",
       "      <td>Hold or Sell</td>\n",
       "      <td>2.5648</td>\n",
       "      <td>Hold or Sell</td>\n",
       "      <td>2.2524</td>\n",
       "      <td>15.7375</td>\n",
       "    </tr>\n",
       "    <tr>\n",
       "      <th>12</th>\n",
       "      <td>crsp</td>\n",
       "      <td>Buy</td>\n",
       "      <td>1.0133</td>\n",
       "      <td>Buy</td>\n",
       "      <td>0.8341</td>\n",
       "      <td>Buy</td>\n",
       "      <td>1.0672</td>\n",
       "      <td>7.8314</td>\n",
       "    </tr>\n",
       "    <tr>\n",
       "      <th>13</th>\n",
       "      <td>dq</td>\n",
       "      <td>Hold or Sell</td>\n",
       "      <td>9.6802</td>\n",
       "      <td>Hold or Sell</td>\n",
       "      <td>8.2753</td>\n",
       "      <td>Hold or Sell</td>\n",
       "      <td>9.2659</td>\n",
       "      <td>88.9457</td>\n",
       "    </tr>\n",
       "    <tr>\n",
       "      <th>14</th>\n",
       "      <td>esgv</td>\n",
       "      <td>Hold or Sell</td>\n",
       "      <td>1.1435</td>\n",
       "      <td>Hold or Sell</td>\n",
       "      <td>1.1232</td>\n",
       "      <td>Hold or Sell</td>\n",
       "      <td>1.1626</td>\n",
       "      <td>0.4217</td>\n",
       "    </tr>\n",
       "    <tr>\n",
       "      <th>15</th>\n",
       "      <td>fslr</td>\n",
       "      <td>Buy</td>\n",
       "      <td>2.3642</td>\n",
       "      <td>Buy</td>\n",
       "      <td>2.4681</td>\n",
       "      <td>Buy</td>\n",
       "      <td>2.0430</td>\n",
       "      <td>-0.1809</td>\n",
       "    </tr>\n",
       "    <tr>\n",
       "      <th>16</th>\n",
       "      <td>goog</td>\n",
       "      <td>Hold or Sell</td>\n",
       "      <td>2.5117</td>\n",
       "      <td>Hold or Sell</td>\n",
       "      <td>2.3505</td>\n",
       "      <td>Buy</td>\n",
       "      <td>3.0092</td>\n",
       "      <td>9.4239</td>\n",
       "    </tr>\n",
       "    <tr>\n",
       "      <th>17</th>\n",
       "      <td>ibm</td>\n",
       "      <td>Buy</td>\n",
       "      <td>2.5548</td>\n",
       "      <td>Hold or Sell</td>\n",
       "      <td>4.1059</td>\n",
       "      <td>Hold or Sell</td>\n",
       "      <td>3.2814</td>\n",
       "      <td>6.2319</td>\n",
       "    </tr>\n",
       "    <tr>\n",
       "      <th>18</th>\n",
       "      <td>idex</td>\n",
       "      <td>Buy</td>\n",
       "      <td>0.3800</td>\n",
       "      <td>Buy</td>\n",
       "      <td>0.2093</td>\n",
       "      <td>Buy</td>\n",
       "      <td>0.1488</td>\n",
       "      <td>0.1600</td>\n",
       "    </tr>\n",
       "    <tr>\n",
       "      <th>19</th>\n",
       "      <td>intc</td>\n",
       "      <td>Hold or Sell</td>\n",
       "      <td>5.6275</td>\n",
       "      <td>Hold or Sell</td>\n",
       "      <td>5.1834</td>\n",
       "      <td>Hold or Sell</td>\n",
       "      <td>5.4297</td>\n",
       "      <td>38.0737</td>\n",
       "    </tr>\n",
       "    <tr>\n",
       "      <th>20</th>\n",
       "      <td>iyw</td>\n",
       "      <td>Hold or Sell</td>\n",
       "      <td>3.0698</td>\n",
       "      <td>Hold or Sell</td>\n",
       "      <td>4.9052</td>\n",
       "      <td>Hold or Sell</td>\n",
       "      <td>3.7606</td>\n",
       "      <td>6.2583</td>\n",
       "    </tr>\n",
       "    <tr>\n",
       "      <th>21</th>\n",
       "      <td>lng</td>\n",
       "      <td>Hold or Sell</td>\n",
       "      <td>1.4712</td>\n",
       "      <td>Hold or Sell</td>\n",
       "      <td>0.6795</td>\n",
       "      <td>Hold or Sell</td>\n",
       "      <td>0.9198</td>\n",
       "      <td>45.3885</td>\n",
       "    </tr>\n",
       "    <tr>\n",
       "      <th>22</th>\n",
       "      <td>ma</td>\n",
       "      <td>Hold or Sell</td>\n",
       "      <td>2.2921</td>\n",
       "      <td>Hold or Sell</td>\n",
       "      <td>2.8254</td>\n",
       "      <td>Hold or Sell</td>\n",
       "      <td>2.1620</td>\n",
       "      <td>12.5055</td>\n",
       "    </tr>\n",
       "    <tr>\n",
       "      <th>23</th>\n",
       "      <td>mdb</td>\n",
       "      <td>Hold or Sell</td>\n",
       "      <td>0.9051</td>\n",
       "      <td>Hold or Sell</td>\n",
       "      <td>0.9824</td>\n",
       "      <td>Hold or Sell</td>\n",
       "      <td>0.9522</td>\n",
       "      <td>4.9391</td>\n",
       "    </tr>\n",
       "    <tr>\n",
       "      <th>24</th>\n",
       "      <td>msft</td>\n",
       "      <td>Buy</td>\n",
       "      <td>7.4658</td>\n",
       "      <td>Buy</td>\n",
       "      <td>10.2148</td>\n",
       "      <td>Buy</td>\n",
       "      <td>7.5468</td>\n",
       "      <td>59.4680</td>\n",
       "    </tr>\n",
       "    <tr>\n",
       "      <th>25</th>\n",
       "      <td>mu</td>\n",
       "      <td>Hold or Sell</td>\n",
       "      <td>3.2831</td>\n",
       "      <td>Hold or Sell</td>\n",
       "      <td>4.7937</td>\n",
       "      <td>Hold or Sell</td>\n",
       "      <td>3.4885</td>\n",
       "      <td>17.2902</td>\n",
       "    </tr>\n",
       "    <tr>\n",
       "      <th>26</th>\n",
       "      <td>nee</td>\n",
       "      <td>Hold or Sell</td>\n",
       "      <td>5.7133</td>\n",
       "      <td>Hold or Sell</td>\n",
       "      <td>4.3390</td>\n",
       "      <td>Hold or Sell</td>\n",
       "      <td>4.9510</td>\n",
       "      <td>28.8175</td>\n",
       "    </tr>\n",
       "    <tr>\n",
       "      <th>27</th>\n",
       "      <td>nga</td>\n",
       "      <td>Hold or Sell</td>\n",
       "      <td>0.9805</td>\n",
       "      <td>Hold or Sell</td>\n",
       "      <td>0.8987</td>\n",
       "      <td>Hold or Sell</td>\n",
       "      <td>0.8149</td>\n",
       "      <td>1.7859</td>\n",
       "    </tr>\n",
       "    <tr>\n",
       "      <th>28</th>\n",
       "      <td>nio</td>\n",
       "      <td>Buy</td>\n",
       "      <td>1.9052</td>\n",
       "      <td>Buy</td>\n",
       "      <td>1.6258</td>\n",
       "      <td>Buy</td>\n",
       "      <td>2.1872</td>\n",
       "      <td>10.3354</td>\n",
       "    </tr>\n",
       "    <tr>\n",
       "      <th>29</th>\n",
       "      <td>nvda</td>\n",
       "      <td>Hold or Sell</td>\n",
       "      <td>9.2705</td>\n",
       "      <td>Hold or Sell</td>\n",
       "      <td>8.0291</td>\n",
       "      <td>Hold or Sell</td>\n",
       "      <td>12.9425</td>\n",
       "      <td>107.6714</td>\n",
       "    </tr>\n",
       "    <tr>\n",
       "      <th>30</th>\n",
       "      <td>pacb</td>\n",
       "      <td>Hold or Sell</td>\n",
       "      <td>1.9406</td>\n",
       "      <td>Hold or Sell</td>\n",
       "      <td>2.5051</td>\n",
       "      <td>Hold or Sell</td>\n",
       "      <td>1.7391</td>\n",
       "      <td>12.1004</td>\n",
       "    </tr>\n",
       "    <tr>\n",
       "      <th>31</th>\n",
       "      <td>pypl</td>\n",
       "      <td>Hold or Sell</td>\n",
       "      <td>3.0820</td>\n",
       "      <td>Hold or Sell</td>\n",
       "      <td>2.7571</td>\n",
       "      <td>Hold or Sell</td>\n",
       "      <td>2.6235</td>\n",
       "      <td>5.3417</td>\n",
       "    </tr>\n",
       "    <tr>\n",
       "      <th>32</th>\n",
       "      <td>qgen</td>\n",
       "      <td>Hold or Sell</td>\n",
       "      <td>1.9535</td>\n",
       "      <td>Buy</td>\n",
       "      <td>2.4162</td>\n",
       "      <td>Buy</td>\n",
       "      <td>2.8639</td>\n",
       "      <td>7.5850</td>\n",
       "    </tr>\n",
       "    <tr>\n",
       "      <th>33</th>\n",
       "      <td>run</td>\n",
       "      <td>Buy</td>\n",
       "      <td>1.2685</td>\n",
       "      <td>Buy</td>\n",
       "      <td>0.9809</td>\n",
       "      <td>Buy</td>\n",
       "      <td>1.1351</td>\n",
       "      <td>12.0919</td>\n",
       "    </tr>\n",
       "    <tr>\n",
       "      <th>34</th>\n",
       "      <td>orcl</td>\n",
       "      <td>Hold or Sell</td>\n",
       "      <td>2.8505</td>\n",
       "      <td>Hold or Sell</td>\n",
       "      <td>3.1747</td>\n",
       "      <td>Hold or Sell</td>\n",
       "      <td>3.0164</td>\n",
       "      <td>29.9937</td>\n",
       "    </tr>\n",
       "    <tr>\n",
       "      <th>35</th>\n",
       "      <td>qqq</td>\n",
       "      <td>Hold or Sell</td>\n",
       "      <td>2.6624</td>\n",
       "      <td>Hold or Sell</td>\n",
       "      <td>3.1575</td>\n",
       "      <td>Hold or Sell</td>\n",
       "      <td>2.9053</td>\n",
       "      <td>8.5534</td>\n",
       "    </tr>\n",
       "    <tr>\n",
       "      <th>36</th>\n",
       "      <td>srpt</td>\n",
       "      <td>Buy</td>\n",
       "      <td>1.6552</td>\n",
       "      <td>Buy</td>\n",
       "      <td>2.4321</td>\n",
       "      <td>Buy</td>\n",
       "      <td>2.0167</td>\n",
       "      <td>1.4720</td>\n",
       "    </tr>\n",
       "    <tr>\n",
       "      <th>37</th>\n",
       "      <td>tpic</td>\n",
       "      <td>Hold or Sell</td>\n",
       "      <td>1.1585</td>\n",
       "      <td>Hold or Sell</td>\n",
       "      <td>1.4148</td>\n",
       "      <td>Hold or Sell</td>\n",
       "      <td>1.4706</td>\n",
       "      <td>2.3292</td>\n",
       "    </tr>\n",
       "    <tr>\n",
       "      <th>38</th>\n",
       "      <td>tsla</td>\n",
       "      <td>Hold or Sell</td>\n",
       "      <td>3.5312</td>\n",
       "      <td>Hold or Sell</td>\n",
       "      <td>1.9915</td>\n",
       "      <td>Hold or Sell</td>\n",
       "      <td>1.7109</td>\n",
       "      <td>124.2928</td>\n",
       "    </tr>\n",
       "    <tr>\n",
       "      <th>39</th>\n",
       "      <td>v</td>\n",
       "      <td>Hold or Sell</td>\n",
       "      <td>2.8292</td>\n",
       "      <td>Hold or Sell</td>\n",
       "      <td>2.4611</td>\n",
       "      <td>Hold or Sell</td>\n",
       "      <td>2.6530</td>\n",
       "      <td>9.8261</td>\n",
       "    </tr>\n",
       "    <tr>\n",
       "      <th>40</th>\n",
       "      <td>vbiv</td>\n",
       "      <td>Buy</td>\n",
       "      <td>0.8068</td>\n",
       "      <td>Hold or Sell</td>\n",
       "      <td>1.5325</td>\n",
       "      <td>Hold or Sell</td>\n",
       "      <td>2.5123</td>\n",
       "      <td>-0.8051</td>\n",
       "    </tr>\n",
       "    <tr>\n",
       "      <th>41</th>\n",
       "      <td>vbr</td>\n",
       "      <td>Buy</td>\n",
       "      <td>1.3260</td>\n",
       "      <td>Buy</td>\n",
       "      <td>1.1341</td>\n",
       "      <td>Buy</td>\n",
       "      <td>1.6039</td>\n",
       "      <td>1.3494</td>\n",
       "    </tr>\n",
       "    <tr>\n",
       "      <th>42</th>\n",
       "      <td>viov</td>\n",
       "      <td>Buy</td>\n",
       "      <td>1.2634</td>\n",
       "      <td>Buy</td>\n",
       "      <td>1.0220</td>\n",
       "      <td>Buy</td>\n",
       "      <td>1.3433</td>\n",
       "      <td>0.9856</td>\n",
       "    </tr>\n",
       "    <tr>\n",
       "      <th>43</th>\n",
       "      <td>vgt</td>\n",
       "      <td>Hold or Sell</td>\n",
       "      <td>2.8598</td>\n",
       "      <td>Hold or Sell</td>\n",
       "      <td>3.2474</td>\n",
       "      <td>Hold or Sell</td>\n",
       "      <td>3.1420</td>\n",
       "      <td>5.5204</td>\n",
       "    </tr>\n",
       "    <tr>\n",
       "      <th>44</th>\n",
       "      <td>xlk</td>\n",
       "      <td>Hold or Sell</td>\n",
       "      <td>3.5583</td>\n",
       "      <td>Hold or Sell</td>\n",
       "      <td>4.1205</td>\n",
       "      <td>Hold or Sell</td>\n",
       "      <td>4.4673</td>\n",
       "      <td>5.9766</td>\n",
       "    </tr>\n",
       "  </tbody>\n",
       "</table>\n",
       "</div>"
      ],
      "text/plain": [
       "   stock    1_Day_Pred  1_Day_Model_Return    3_Day_Pred  3_Day_Model_Return  \\\n",
       "0      a  Hold or Sell              3.7672  Hold or Sell              3.5945   \n",
       "1   aapl           Buy              3.1909           Buy              3.7587   \n",
       "2    acy           Buy              0.3046           Buy              0.4847   \n",
       "3   adbe  Hold or Sell              9.2451  Hold or Sell              5.8473   \n",
       "4    alb  Hold or Sell              1.8579  Hold or Sell              1.8034   \n",
       "5   amat  Hold or Sell              5.9134  Hold or Sell              8.1090   \n",
       "6    amd  Hold or Sell              6.6760           Buy              7.9144   \n",
       "7   amzn  Hold or Sell              3.7174  Hold or Sell              4.4689   \n",
       "8   baba           Buy              1.4252           Buy              1.3025   \n",
       "9    bac  Hold or Sell              2.6662  Hold or Sell              3.1245   \n",
       "10  bpmc           Buy              2.4704  Hold or Sell              1.1371   \n",
       "11   crm  Hold or Sell              2.4362  Hold or Sell              2.5648   \n",
       "12  crsp           Buy              1.0133           Buy              0.8341   \n",
       "13    dq  Hold or Sell              9.6802  Hold or Sell              8.2753   \n",
       "14  esgv  Hold or Sell              1.1435  Hold or Sell              1.1232   \n",
       "15  fslr           Buy              2.3642           Buy              2.4681   \n",
       "16  goog  Hold or Sell              2.5117  Hold or Sell              2.3505   \n",
       "17   ibm           Buy              2.5548  Hold or Sell              4.1059   \n",
       "18  idex           Buy              0.3800           Buy              0.2093   \n",
       "19  intc  Hold or Sell              5.6275  Hold or Sell              5.1834   \n",
       "20   iyw  Hold or Sell              3.0698  Hold or Sell              4.9052   \n",
       "21   lng  Hold or Sell              1.4712  Hold or Sell              0.6795   \n",
       "22    ma  Hold or Sell              2.2921  Hold or Sell              2.8254   \n",
       "23   mdb  Hold or Sell              0.9051  Hold or Sell              0.9824   \n",
       "24  msft           Buy              7.4658           Buy             10.2148   \n",
       "25    mu  Hold or Sell              3.2831  Hold or Sell              4.7937   \n",
       "26   nee  Hold or Sell              5.7133  Hold or Sell              4.3390   \n",
       "27   nga  Hold or Sell              0.9805  Hold or Sell              0.8987   \n",
       "28   nio           Buy              1.9052           Buy              1.6258   \n",
       "29  nvda  Hold or Sell              9.2705  Hold or Sell              8.0291   \n",
       "30  pacb  Hold or Sell              1.9406  Hold or Sell              2.5051   \n",
       "31  pypl  Hold or Sell              3.0820  Hold or Sell              2.7571   \n",
       "32  qgen  Hold or Sell              1.9535           Buy              2.4162   \n",
       "33   run           Buy              1.2685           Buy              0.9809   \n",
       "34  orcl  Hold or Sell              2.8505  Hold or Sell              3.1747   \n",
       "35   qqq  Hold or Sell              2.6624  Hold or Sell              3.1575   \n",
       "36  srpt           Buy              1.6552           Buy              2.4321   \n",
       "37  tpic  Hold or Sell              1.1585  Hold or Sell              1.4148   \n",
       "38  tsla  Hold or Sell              3.5312  Hold or Sell              1.9915   \n",
       "39     v  Hold or Sell              2.8292  Hold or Sell              2.4611   \n",
       "40  vbiv           Buy              0.8068  Hold or Sell              1.5325   \n",
       "41   vbr           Buy              1.3260           Buy              1.1341   \n",
       "42  viov           Buy              1.2634           Buy              1.0220   \n",
       "43   vgt  Hold or Sell              2.8598  Hold or Sell              3.2474   \n",
       "44   xlk  Hold or Sell              3.5583  Hold or Sell              4.1205   \n",
       "\n",
       "      5_Day_Pred  5_Day_Model_Return  Actual_Returns  \n",
       "0   Hold or Sell              4.4303          6.7056  \n",
       "1            Buy              3.8236        334.9749  \n",
       "2            Buy              0.3893          1.9059  \n",
       "3   Hold or Sell              7.9814        102.4517  \n",
       "4            Buy              2.0149         14.5632  \n",
       "5   Hold or Sell              9.0935        179.4016  \n",
       "6   Hold or Sell              8.4271         15.9257  \n",
       "7            Buy              4.2848        115.9955  \n",
       "8            Buy              1.1693          2.3078  \n",
       "9   Hold or Sell              4.5756          5.8717  \n",
       "10  Hold or Sell              1.4559          2.5801  \n",
       "11  Hold or Sell              2.2524         15.7375  \n",
       "12           Buy              1.0672          7.8314  \n",
       "13  Hold or Sell              9.2659         88.9457  \n",
       "14  Hold or Sell              1.1626          0.4217  \n",
       "15           Buy              2.0430         -0.1809  \n",
       "16           Buy              3.0092          9.4239  \n",
       "17  Hold or Sell              3.2814          6.2319  \n",
       "18           Buy              0.1488          0.1600  \n",
       "19  Hold or Sell              5.4297         38.0737  \n",
       "20  Hold or Sell              3.7606          6.2583  \n",
       "21  Hold or Sell              0.9198         45.3885  \n",
       "22  Hold or Sell              2.1620         12.5055  \n",
       "23  Hold or Sell              0.9522          4.9391  \n",
       "24           Buy              7.5468         59.4680  \n",
       "25  Hold or Sell              3.4885         17.2902  \n",
       "26  Hold or Sell              4.9510         28.8175  \n",
       "27  Hold or Sell              0.8149          1.7859  \n",
       "28           Buy              2.1872         10.3354  \n",
       "29  Hold or Sell             12.9425        107.6714  \n",
       "30  Hold or Sell              1.7391         12.1004  \n",
       "31  Hold or Sell              2.6235          5.3417  \n",
       "32           Buy              2.8639          7.5850  \n",
       "33           Buy              1.1351         12.0919  \n",
       "34  Hold or Sell              3.0164         29.9937  \n",
       "35  Hold or Sell              2.9053          8.5534  \n",
       "36           Buy              2.0167          1.4720  \n",
       "37  Hold or Sell              1.4706          2.3292  \n",
       "38  Hold or Sell              1.7109        124.2928  \n",
       "39  Hold or Sell              2.6530          9.8261  \n",
       "40  Hold or Sell              2.5123         -0.8051  \n",
       "41           Buy              1.6039          1.3494  \n",
       "42           Buy              1.3433          0.9856  \n",
       "43  Hold or Sell              3.1420          5.5204  \n",
       "44  Hold or Sell              4.4673          5.9766  "
      ]
     },
     "execution_count": 29,
     "metadata": {},
     "output_type": "execute_result"
    }
   ],
   "source": [
    "summary_df = a.pred_summary_df(start_dates, stocks = [x for x in start_dates], days_back = 1)\n",
    "summary_df"
   ]
  },
  {
   "cell_type": "code",
   "execution_count": 30,
   "metadata": {},
   "outputs": [
    {
     "data": {
      "text/plain": [
       "(2.5117, 2.5051, 2.6235, 8.5534)"
      ]
     },
     "execution_count": 30,
     "metadata": {},
     "output_type": "execute_result"
    }
   ],
   "source": [
    "summary_df['1_Day_Model_Return'].median(), summary_df['3_Day_Model_Return'].median(), summary_df['5_Day_Model_Return'].median(), summary_df['Actual_Returns'].median()"
   ]
  },
  {
   "cell_type": "code",
   "execution_count": null,
   "metadata": {},
   "outputs": [],
   "source": []
  },
  {
   "cell_type": "code",
   "execution_count": null,
   "metadata": {},
   "outputs": [],
   "source": []
  },
  {
   "cell_type": "code",
   "execution_count": null,
   "metadata": {},
   "outputs": [],
   "source": []
  },
  {
   "cell_type": "code",
   "execution_count": null,
   "metadata": {},
   "outputs": [],
   "source": []
  }
 ],
 "metadata": {
  "kernelspec": {
   "display_name": "Python 3",
   "language": "python",
   "name": "python3"
  },
  "language_info": {
   "codemirror_mode": {
    "name": "ipython",
    "version": 3
   },
   "file_extension": ".py",
   "mimetype": "text/x-python",
   "name": "python",
   "nbconvert_exporter": "python",
   "pygments_lexer": "ipython3",
   "version": "3.8.5"
  }
 },
 "nbformat": 4,
 "nbformat_minor": 4
}
