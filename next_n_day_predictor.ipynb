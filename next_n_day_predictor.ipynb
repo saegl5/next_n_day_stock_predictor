{
 "cells": [
  {
   "cell_type": "code",
   "execution_count": 1,
   "metadata": {
    "scrolled": true
   },
   "outputs": [],
   "source": [
    "from src import attributes as a\n",
    "%load_ext autoreload\n",
    "%autoreload 2"
   ]
  },
  {
   "cell_type": "code",
   "execution_count": 2,
   "metadata": {},
   "outputs": [],
   "source": [
    "# Global Variables\n",
    "stock_name = 'msft' # ticker symbol\n",
    "train = 0 # 1 for train, 0 for pass\n",
    "days_ahead = 1 # for predicting 1, 3, or 5 days ahead\n",
    "days_back = -1 # -1 for current data point, -2 for two days ago, etc...\n",
    "cv = 5 # number of cross validation folds\n",
    "model_name = 'Random Forest Classifier' # for display on charts, not a tuning parameter"
   ]
  },
  {
   "cell_type": "code",
   "execution_count": 3,
   "metadata": {},
   "outputs": [],
   "source": [
    "# Extract, Transform, Load, and Train Test Split\n",
    "# Dictionary of IPO Dates\n",
    "start_dates = {'a': '11/15/1999' # Updated 3/18/21 1D, 3D, 5D ahead\n",
    "               , 'aapl':'12/12/1980' # Updated 4/15/21 1D, 3D, 5D ahead\n",
    "               , 'acy': '01/18/1998' # Updated 3/18/21 1D, 3D, 5D ahead\n",
    "               , 'adbe': '08/11/1986' # Updated 3/18/21 1D, 3D, 5D ahead\n",
    "               , 'alb': '02/21/1994' # Updated 3/18/21 1D, 3D, 5D ahead\n",
    "               , 'amat': '03/16/1980' # Updated 3/18/21 1D, 3D, 5D ahead\n",
    "               , 'amd': '03/17/1980' # Updated 3/18/21 1D, 3D, 5D ahead\n",
    "               , 'amgn': '06/13/1983' # Updated 3/18/21 1D, 3D, 5D ahead\n",
    "               , 'amzn': '05/12/1997' # Updated 3/18/21 1D, 3D, 5D ahead\n",
    "               , 'baba': '09/15/2014' # Updated 3/18/21 1D, 3D, 5D ahead\n",
    "               , 'bac': '02/19/1973' # Updated 3/18/21 1D, 3D, 5D ahead\n",
    "               , 'bpmc': '04/27/2015' # Updated 3/18/21 1D, 3D, 5D ahead\n",
    "               , 'crm': '06/23/2004' # Updated 3/18/21 1D, 3D, 5D ahead\n",
    "               , 'crsp': '10/16/2016' # Updated 3/18/21 1D, 3D, 5D ahead\n",
    "               , 'dq': '10/04/2010' # Updated 3/18/21 1D, 3D, 5D ahead\n",
    "               , 'esgv': '09/16/2018' # Updated 3/18/21 1D, 3D, 5D ahead\n",
    "               , 'fslr': '11/12/2006' # Updated 3/18/21 1D, 3D, 5D ahead\n",
    "               , 'goog': '08/16/2004' # Updated 3/18/21 1D, 3D, 5D ahead\n",
    "               , 'ibm': '01/02/1962' # Updated 3/18/21 1D, 3D, 5D ahead\n",
    "               , 'intc': '03/16/1980' # Updated 3/18/21 1D, 3D, 5D ahead\n",
    "               , 'iyw': '05/15/2000' # Updated 3/18/21 1D, 3D, 5D ahead\n",
    "               , 'lng': '04/04/1994' # Updated 3/18/21 1D, 3D, 5D ahead\n",
    "               , 'ma': '05/21/2006' # Updated 3/18/21 1D, 3D, 5D ahead\n",
    "               , 'mdb': '10/15/2017' # Updated 3/18/21 1D, 3D, 5D ahead\n",
    "               , 'msft': '03/10/1986' # Updated 3/18/21 1D, 3D, 5D ahead\n",
    "               , 'mu': '05/28/1984' # Updated 3/18/21 1D, 3D, 5D ahead\n",
    "               , 'nee': '02/19/1973' # Updated 3/18/21 1D, 3D, 5D ahead\n",
    "               , 'nio': '09/10/2018' # Updated 3/18/21 1D, 3D, 5D ahead\n",
    "               , 'nvda': '01/22/1999' # Updated 3/18/21 1D, 3D, 5D ahead\n",
    "               , 'pacb': '10/25/2010' # Updated 4/15/21 1D, 3D, 5D ahead\n",
    "               , 'pypl': '07/05/2015' # Updated 3/18/21 1D, 3D, 5D ahead\n",
    "               , 'qgen': '06/24/1996' # Updated 3/18/21 1D, 3D, 5D ahead\n",
    "               , 'run': '08/02/2015' # Updated 3/18/21 1D, 3D, 5D ahead\n",
    "               , 'okta': '04/03/2017' # Updated 3/18/21 1D, 3D, 5D ahead\n",
    "               , 'orcl': '03/10/1986' # Updated 3/18/21 1D, 3D, 5D ahead\n",
    "               , 'qqq': '03/08/1999' # Updated 3/18/21 1D, 3D, 5D ahead\n",
    "               , 'srpt': '06/02/1997' # Updated 3/18/21 1D, 3D, 5D ahead\n",
    "               , 'tpic': '07/17/2016' # Updated 3/18/21 1D, 3D, 5D ahead\n",
    "               , 'tsla': '06/29/2010' # Updated 4/15/21 1D, 3D, 5D ahead\n",
    "               , 'v': '03/16/2008' # Updated 3/18/21 1D, 3D, 5D ahead\n",
    "               , 'vbiv': '09/04/2002' # Updated 3/818/21 1D, 3D, 5D ahead\n",
    "               , 'vbr': '01/26/2004' # Updated 3/18/21 1D, 3D, 5D ahead\n",
    "               , 'viov': '09/06/2010' # Updated 3/18/21 1D, 3D, 5D ahead\n",
    "               , 'vgt': '01/26/2004' # Updated 4/15/21 1D, 3D, 5D ahead\n",
    "               , 'xlk': '12/21/1998' # Updated 3/18/21 1D, 3D, 5D ahead\n",
    "              }"
   ]
  },
  {
   "cell_type": "code",
   "execution_count": null,
   "metadata": {},
   "outputs": [],
   "source": []
  },
  {
   "cell_type": "code",
   "execution_count": 4,
   "metadata": {},
   "outputs": [],
   "source": [
    "# X_train, X_test, y_train, y_test, stock_df = a.data(stock_name, start_dates[stock_name], days_ahead)\n",
    "# stock_df.tail(10)"
   ]
  },
  {
   "cell_type": "code",
   "execution_count": 5,
   "metadata": {
    "scrolled": false
   },
   "outputs": [],
   "source": [
    "# GridSerach to find best hyperparameters to prevent overfitting, can be commented out once trained\n",
    "# if train == 1:\n",
    "#     a.rfc_GridSearch(X_train, y_train, stock_name, days_ahead, cv)\n",
    "# elif train == 0:\n",
    "#     pass"
   ]
  },
  {
   "cell_type": "code",
   "execution_count": 6,
   "metadata": {},
   "outputs": [],
   "source": [
    "# Load RandomForextClassifier Model\n",
    "# rfc_model, y_pred, y_probs = a.rfc(X_train, X_test, y_train, stock_name, days_ahead)"
   ]
  },
  {
   "cell_type": "code",
   "execution_count": 7,
   "metadata": {
    "scrolled": false
   },
   "outputs": [],
   "source": [
    "# ROC Curve\n",
    "# a.roc_plot(y_test, y_probs, stock_name, model_name)"
   ]
  },
  {
   "cell_type": "code",
   "execution_count": 8,
   "metadata": {
    "scrolled": false
   },
   "outputs": [],
   "source": [
    "# Precision Recall Curve\n",
    "# a.prec_recall(y_test, y_probs, stock_name, model_name)"
   ]
  },
  {
   "cell_type": "code",
   "execution_count": 9,
   "metadata": {
    "scrolled": false
   },
   "outputs": [],
   "source": [
    "# Confusion Matrix\n",
    "# a.confusion_matrix(rfc_model, X_test, y_test, stock_name)"
   ]
  },
  {
   "cell_type": "code",
   "execution_count": 10,
   "metadata": {},
   "outputs": [],
   "source": [
    "# Cross Validation\n",
    "# a.cross_validation(rfc_model\n",
    "#                    , stock_df[['oc', 'hl', '5stdev_adj', '5sma_adj']]\n",
    "#                    , stock_df['direction']\n",
    "#                    , cv = 5\n",
    "#                   )"
   ]
  },
  {
   "cell_type": "markdown",
   "metadata": {},
   "source": [
    "### Prediction..."
   ]
  },
  {
   "cell_type": "code",
   "execution_count": 11,
   "metadata": {
    "scrolled": true
   },
   "outputs": [],
   "source": [
    "# Prediction, use last day of data\n",
    "# stock_df.iloc[-1]"
   ]
  },
  {
   "cell_type": "code",
   "execution_count": 12,
   "metadata": {},
   "outputs": [],
   "source": [
    "# import numpy as np\n",
    "# last = stock_df[['oc', 'hl', '5stdev_adj', '5sma_adj']].iloc[-days_back]\n",
    "# last"
   ]
  },
  {
   "cell_type": "code",
   "execution_count": 13,
   "metadata": {},
   "outputs": [],
   "source": [
    "# stock_df['adj'].describe()"
   ]
  },
  {
   "cell_type": "code",
   "execution_count": 14,
   "metadata": {
    "scrolled": true
   },
   "outputs": [],
   "source": [
    "# if rfc_model.predict(np.array(last).reshape(1, -1))[0] == 1:\n",
    "#     print(f'Buy {stock_name} {days_ahead} day(s) ahead')\n",
    "# else:\n",
    "#     print(f'Sell or hold {stock_name} {days_ahead} day(s) ahead')"
   ]
  },
  {
   "cell_type": "markdown",
   "metadata": {},
   "source": [
    "### Strategy Returns..."
   ]
  },
  {
   "cell_type": "code",
   "execution_count": 15,
   "metadata": {},
   "outputs": [],
   "source": [
    "# returns on strategy column\n",
    "# stock_df['prediction'] = rfc_model.predict(stock_df[['oc', 'hl', '5stdev_adj', '5sma_adj']])\n",
    "# stock_df['returns'] = stock_df['adj'].shift(-1, fill_value = stock_df['adj'].median()) * stock_df['prediction']"
   ]
  },
  {
   "cell_type": "code",
   "execution_count": 16,
   "metadata": {},
   "outputs": [],
   "source": [
    "# stock_df.tail(5)"
   ]
  },
  {
   "cell_type": "code",
   "execution_count": 17,
   "metadata": {},
   "outputs": [],
   "source": [
    "# Don't trade every day!\n",
    "# import matplotlib.pyplot as plt\n",
    "# test_length = len(y_test)\n",
    "# (stock_df['returns'][-test_length:] + 1).cumprod().plot()\n",
    "# plt.title(f'{stock_name} Expected Returns %');"
   ]
  },
  {
   "cell_type": "code",
   "execution_count": 18,
   "metadata": {},
   "outputs": [],
   "source": [
    "# Model returns if bought on predictions of 1\n",
    "# returns_on_ones = []\n",
    "# for idx in range(-test_length, 0):\n",
    "#     if stock_df['prediction'][idx] == 1:\n",
    "#         returns_on_ones.append(1 + stock_df['returns'][idx])\n",
    "\n",
    "# returns = 1\n",
    "# for x in returns_on_ones:\n",
    "#     returns *= x\n",
    "# returns"
   ]
  },
  {
   "cell_type": "code",
   "execution_count": 19,
   "metadata": {},
   "outputs": [],
   "source": [
    "# multiple times original investment, not bad but..."
   ]
  },
  {
   "cell_type": "code",
   "execution_count": 20,
   "metadata": {},
   "outputs": [],
   "source": [
    "# If purchased in 2012 and left it until now\n",
    "# test_idx = int(len(stock_df)*0.75)\n",
    "# (stock_df['Close'][-1] - stock_df['Close'][-test_idx]) / stock_df['Close'][-test_idx]"
   ]
  },
  {
   "cell_type": "code",
   "execution_count": 21,
   "metadata": {},
   "outputs": [],
   "source": [
    "# Buy and hold strategy beats RandomForestClassifier in this study\n",
    "\n",
    "# Special thanks to Shagufta Tahsildar at https://blog.quantinsti.com/random-forest-algorithm-in-python/"
   ]
  },
  {
   "cell_type": "code",
   "execution_count": null,
   "metadata": {},
   "outputs": [],
   "source": []
  },
  {
   "cell_type": "code",
   "execution_count": null,
   "metadata": {},
   "outputs": [],
   "source": []
  },
  {
   "cell_type": "code",
   "execution_count": null,
   "metadata": {},
   "outputs": [],
   "source": []
  },
  {
   "cell_type": "markdown",
   "metadata": {},
   "source": [
    "### Training"
   ]
  },
  {
   "cell_type": "markdown",
   "metadata": {},
   "source": [
    "Training is done once a week on Saturday and Sunday"
   ]
  },
  {
   "cell_type": "code",
   "execution_count": 22,
   "metadata": {},
   "outputs": [
    {
     "data": {
      "text/plain": [
       "45"
      ]
     },
     "execution_count": 22,
     "metadata": {},
     "output_type": "execute_result"
    }
   ],
   "source": [
    "len(start_dates)"
   ]
  },
  {
   "cell_type": "code",
   "execution_count": 23,
   "metadata": {},
   "outputs": [
    {
     "data": {
      "text/plain": [
       "{'a': '11/15/1999',\n",
       " 'aapl': '12/12/1980',\n",
       " 'acy': '01/18/1998',\n",
       " 'adbe': '08/11/1986',\n",
       " 'alb': '02/21/1994',\n",
       " 'amat': '03/16/1980',\n",
       " 'amd': '03/17/1980',\n",
       " 'amgn': '06/13/1983',\n",
       " 'amzn': '05/12/1997',\n",
       " 'baba': '09/15/2014',\n",
       " 'bac': '02/19/1973',\n",
       " 'bpmc': '04/27/2015',\n",
       " 'crm': '06/23/2004',\n",
       " 'crsp': '10/16/2016',\n",
       " 'dq': '10/04/2010'}"
      ]
     },
     "execution_count": 23,
     "metadata": {},
     "output_type": "execute_result"
    }
   ],
   "source": [
    "import itertools as itr\n",
    "start_dates1 = dict(itr.islice(start_dates.items(), 0, 15))\n",
    "start_dates1"
   ]
  },
  {
   "cell_type": "code",
   "execution_count": 24,
   "metadata": {},
   "outputs": [
    {
     "data": {
      "text/plain": [
       "{'esgv': '09/16/2018',\n",
       " 'fslr': '11/12/2006',\n",
       " 'goog': '08/16/2004',\n",
       " 'ibm': '01/02/1962',\n",
       " 'intc': '03/16/1980',\n",
       " 'iyw': '05/15/2000',\n",
       " 'lng': '04/04/1994',\n",
       " 'ma': '05/21/2006',\n",
       " 'mdb': '10/15/2017',\n",
       " 'msft': '03/10/1986',\n",
       " 'mu': '05/28/1984',\n",
       " 'nee': '02/19/1973',\n",
       " 'nio': '09/10/2018',\n",
       " 'nvda': '01/22/1999',\n",
       " 'pacb': '10/25/2010'}"
      ]
     },
     "execution_count": 24,
     "metadata": {},
     "output_type": "execute_result"
    }
   ],
   "source": [
    "start_dates2 = dict(itr.islice(start_dates.items(), 15, 30))\n",
    "start_dates2"
   ]
  },
  {
   "cell_type": "code",
   "execution_count": 25,
   "metadata": {},
   "outputs": [
    {
     "data": {
      "text/plain": [
       "{'pypl': '07/05/2015',\n",
       " 'qgen': '06/24/1996',\n",
       " 'run': '08/02/2015',\n",
       " 'okta': '04/03/2017',\n",
       " 'orcl': '03/10/1986',\n",
       " 'qqq': '03/08/1999',\n",
       " 'srpt': '06/02/1997',\n",
       " 'tpic': '07/17/2016',\n",
       " 'tsla': '06/29/2010',\n",
       " 'v': '03/16/2008',\n",
       " 'vbiv': '09/04/2002',\n",
       " 'vbr': '01/26/2004',\n",
       " 'viov': '09/06/2010',\n",
       " 'vgt': '01/26/2004',\n",
       " 'xlk': '12/21/1998'}"
      ]
     },
     "execution_count": 25,
     "metadata": {},
     "output_type": "execute_result"
    }
   ],
   "source": [
    "start_dates3 = dict(itr.islice(start_dates.items(), 30, 45+1))\n",
    "start_dates3"
   ]
  },
  {
   "cell_type": "code",
   "execution_count": 4,
   "metadata": {},
   "outputs": [
    {
     "name": "stderr",
     "output_type": "stream",
     "text": [
      "/home/oem/.local/lib/python3.8/site-packages/sklearn/model_selection/_search.py:918: UserWarning: One or more of the test scores are non-finite: [       nan        nan        nan ... 0.71029046 0.71029046 0.71029046]\n",
      "  warnings.warn(\n",
      "/home/oem/.local/lib/python3.8/site-packages/sklearn/model_selection/_search.py:918: UserWarning: One or more of the test scores are non-finite: [       nan        nan        nan ... 0.72684083 0.72684083 0.72684083]\n",
      "  warnings.warn(\n",
      "/home/oem/.local/lib/python3.8/site-packages/sklearn/model_selection/_search.py:918: UserWarning: One or more of the test scores are non-finite: [       nan        nan        nan ... 0.72880977 0.72880977 0.72880977]\n",
      "  warnings.warn(\n",
      "/home/oem/.local/lib/python3.8/site-packages/sklearn/model_selection/_search.py:918: UserWarning: One or more of the test scores are non-finite: [       nan        nan        nan ... 0.74824754 0.74824754 0.74824754]\n",
      "  warnings.warn(\n",
      "/home/oem/.local/lib/python3.8/site-packages/sklearn/model_selection/_search.py:918: UserWarning: One or more of the test scores are non-finite: [       nan        nan        nan ... 0.71015228 0.71015228 0.71015228]\n",
      "  warnings.warn(\n",
      "/home/oem/.local/lib/python3.8/site-packages/sklearn/model_selection/_search.py:918: UserWarning: One or more of the test scores are non-finite: [       nan        nan        nan ... 0.73421681 0.73421681 0.73421681]\n",
      "  warnings.warn(\n",
      "/home/oem/.local/lib/python3.8/site-packages/sklearn/model_selection/_search.py:918: UserWarning: One or more of the test scores are non-finite: [       nan        nan        nan ... 0.69798995 0.69798995 0.69798995]\n",
      "  warnings.warn(\n",
      "/home/oem/.local/lib/python3.8/site-packages/sklearn/model_selection/_search.py:918: UserWarning: One or more of the test scores are non-finite: [       nan        nan        nan ... 0.72243902 0.72243902 0.72243902]\n",
      "  warnings.warn(\n",
      "/home/oem/.local/lib/python3.8/site-packages/sklearn/model_selection/_search.py:918: UserWarning: One or more of the test scores are non-finite: [       nan        nan        nan ... 0.70403863 0.70403863 0.70403863]\n",
      "  warnings.warn(\n",
      "/home/oem/.local/lib/python3.8/site-packages/sklearn/model_selection/_search.py:918: UserWarning: One or more of the test scores are non-finite: [       nan        nan        nan ... 0.70185583 0.70185583 0.70185583]\n",
      "  warnings.warn(\n",
      "/home/oem/.local/lib/python3.8/site-packages/sklearn/model_selection/_search.py:918: UserWarning: One or more of the test scores are non-finite: [       nan        nan        nan ... 0.69172623 0.69172623 0.69172623]\n",
      "  warnings.warn(\n",
      "/home/oem/.local/lib/python3.8/site-packages/sklearn/model_selection/_search.py:918: UserWarning: One or more of the test scores are non-finite: [       nan        nan        nan ... 0.69944487 0.69944487 0.69944487]\n",
      "  warnings.warn(\n"
     ]
    }
   ],
   "source": [
    "#Train 15 at a time!\n",
    "# stocks = [x for x in start_dates1]\n",
    "# days_ahead = [1, 3, 5]\n",
    "# cv = 5\n",
    "# for stock in stocks:\n",
    "#     for days in days_ahead:\n",
    "#         X_train, X_test, y_train, y_test, stock_df = a.data(stock, start_dates[stock], days)\n",
    "#         a.rfc_GridSearch(X_train, y_train, stock, days, cv)\n",
    "# len(stocks)\n",
    "\n",
    "# stocks = [x for x in start_dates2]\n",
    "# days_ahead = [1, 3, 5]\n",
    "# cv = 5\n",
    "# for stock in stocks:\n",
    "#     for days in days_ahead:\n",
    "#         X_train, X_test, y_train, y_test, stock_df = a.data(stock, start_dates[stock], days)\n",
    "#         a.rfc_GridSearch(X_train, y_train, stock, days, cv)\n",
    "# len(stocks)\n",
    "\n",
    "# stocks = [x for x in start_dates3]\n",
    "# days_ahead = [1, 3, 5]\n",
    "# cv = 5\n",
    "# for stock in stocks:\n",
    "#     for days in days_ahead:\n",
    "#         X_train, X_test, y_train, y_test, stock_df = a.data(stock, start_dates[stock], days)\n",
    "#         a.rfc_GridSearch(X_train, y_train, stock, days, cv)\n",
    "# len(stocks)\n",
    "\n",
    "# # Train all, takes 15+ hours\n",
    "# stocks = [x for x in start_dates]\n",
    "# days_ahead = [1, 3, 5]\n",
    "# cv = 5\n",
    "# for stock in stocks:\n",
    "#     for days in days_ahead:\n",
    "#         X_train, X_test, y_train, y_test, stock_df = a.data(stock, start_dates[stock], days)\n",
    "#         a.rfc_GridSearch(X_train, y_train, stock, days, cv)\n",
    "# len(stocks)\n",
    "\n",
    "# Train desired stocks...takes less time\n",
    "stocks = ['aapl', 'pacb', 'tsla', 'vgt']\n",
    "days_ahead = [1, 3, 5]\n",
    "cv = 5\n",
    "for stock in stocks:\n",
    "    for days in days_ahead:\n",
    "        X_train, X_test, y_train, y_test, stock_df = a.data(stock, start_dates[stock], days)\n",
    "        a.rfc_GridSearch(X_train, y_train, stock, days, cv)"
   ]
  },
  {
   "cell_type": "code",
   "execution_count": null,
   "metadata": {},
   "outputs": [],
   "source": []
  },
  {
   "cell_type": "code",
   "execution_count": null,
   "metadata": {},
   "outputs": [],
   "source": []
  },
  {
   "cell_type": "code",
   "execution_count": null,
   "metadata": {},
   "outputs": [],
   "source": []
  },
  {
   "cell_type": "markdown",
   "metadata": {},
   "source": [
    "### Display All Results"
   ]
  },
  {
   "cell_type": "code",
   "execution_count": 8,
   "metadata": {
    "scrolled": false
   },
   "outputs": [
    {
     "name": "stdout",
     "output_type": "stream",
     "text": [
      "Buy pacb 5 day(s) ahead\n",
      "Model Returns (x 100 for %): 1.7374\n",
      "Stock Returns (x 100 for %): 10.3011\n"
     ]
    },
    {
     "data": {
      "image/png": "[encoded data removed]",
      "text/plain": [
       "<Figure size 684x612 with 1 Axes>"
      ]
     },
     "metadata": {},
     "output_type": "display_data"
    },
    {
     "data": {
      "image/png": "[encoded data removed]",
      "text/plain": [
       "<Figure size 648x504 with 1 Axes>"
      ]
     },
     "metadata": {},
     "output_type": "display_data"
    },
    {
     "data": {
      "image/png": "[encoded data removed]",
      "text/plain": [
       "<Figure size 648x504 with 1 Axes>"
      ]
     },
     "metadata": {},
     "output_type": "display_data"
    },
    {
     "data": {
      "image/png": "[encoded data removed]",
      "text/plain": [
       "<Figure size 684x612 with 2 Axes>"
      ]
     },
     "metadata": {},
     "output_type": "display_data"
    }
   ],
   "source": [
    "stock_name = 'pacb'\n",
    "a.all_func(stock_name\n",
    "           , start_dates[stock_name]\n",
    "           , days_ahead = 5\n",
    "           , model_name = model_name\n",
    "           , days_back = 1\n",
    "          )"
   ]
  },
  {
   "cell_type": "code",
   "execution_count": null,
   "metadata": {},
   "outputs": [],
   "source": []
  },
  {
   "cell_type": "code",
   "execution_count": null,
   "metadata": {},
   "outputs": [],
   "source": []
  },
  {
   "cell_type": "code",
   "execution_count": null,
   "metadata": {},
   "outputs": [],
   "source": []
  },
  {
   "cell_type": "markdown",
   "metadata": {},
   "source": [
    "### Data Frame of Predictions 1 3 5 Days"
   ]
  },
  {
   "cell_type": "code",
   "execution_count": 28,
   "metadata": {},
   "outputs": [
    {
     "name": "stdout",
     "output_type": "stream",
     "text": [
      "Today's date: 2021-04-15\n"
     ]
    }
   ],
   "source": [
    "from datetime import date\n",
    "\n",
    "today = date.today()\n",
    "print(\"Today's date:\", today)"
   ]
  },
  {
   "cell_type": "code",
   "execution_count": 29,
   "metadata": {
    "scrolled": false
   },
   "outputs": [
    {
     "data": {
      "text/html": [
       "<div>\n",
       "<style scoped>\n",
       "    .dataframe tbody tr th:only-of-type {\n",
       "        vertical-align: middle;\n",
       "    }\n",
       "\n",
       "    .dataframe tbody tr th {\n",
       "        vertical-align: top;\n",
       "    }\n",
       "\n",
       "    .dataframe thead th {\n",
       "        text-align: right;\n",
       "    }\n",
       "</style>\n",
       "<table border=\"1\" class=\"dataframe\">\n",
       "  <thead>\n",
       "    <tr style=\"text-align: right;\">\n",
       "      <th></th>\n",
       "      <th>stock</th>\n",
       "      <th>1_Day_Pred</th>\n",
       "      <th>1_Day_Model_Return</th>\n",
       "      <th>3_Day_Pred</th>\n",
       "      <th>3_Day_Model_Return</th>\n",
       "      <th>5_Day_Pred</th>\n",
       "      <th>5_Day_Model_Return</th>\n",
       "      <th>Actual_Returns</th>\n",
       "    </tr>\n",
       "  </thead>\n",
       "  <tbody>\n",
       "    <tr>\n",
       "      <th>0</th>\n",
       "      <td>a</td>\n",
       "      <td>Hold or Sell</td>\n",
       "      <td>3.4784</td>\n",
       "      <td>Hold or Sell</td>\n",
       "      <td>4.4275</td>\n",
       "      <td>Hold or Sell</td>\n",
       "      <td>4.3200</td>\n",
       "      <td>7.6023</td>\n",
       "    </tr>\n",
       "    <tr>\n",
       "      <th>1</th>\n",
       "      <td>aapl</td>\n",
       "      <td>Hold or Sell</td>\n",
       "      <td>3.8250</td>\n",
       "      <td>Hold or Sell</td>\n",
       "      <td>4.1782</td>\n",
       "      <td>Hold or Sell</td>\n",
       "      <td>4.5773</td>\n",
       "      <td>319.5105</td>\n",
       "    </tr>\n",
       "    <tr>\n",
       "      <th>2</th>\n",
       "      <td>acy</td>\n",
       "      <td>Buy</td>\n",
       "      <td>1.0376</td>\n",
       "      <td>Buy</td>\n",
       "      <td>0.8461</td>\n",
       "      <td>Buy</td>\n",
       "      <td>0.6609</td>\n",
       "      <td>2.6129</td>\n",
       "    </tr>\n",
       "    <tr>\n",
       "      <th>3</th>\n",
       "      <td>adbe</td>\n",
       "      <td>Hold or Sell</td>\n",
       "      <td>7.5508</td>\n",
       "      <td>Hold or Sell</td>\n",
       "      <td>5.5147</td>\n",
       "      <td>Hold or Sell</td>\n",
       "      <td>6.9017</td>\n",
       "      <td>81.4828</td>\n",
       "    </tr>\n",
       "    <tr>\n",
       "      <th>4</th>\n",
       "      <td>alb</td>\n",
       "      <td>Buy</td>\n",
       "      <td>1.9048</td>\n",
       "      <td>Buy</td>\n",
       "      <td>2.1551</td>\n",
       "      <td>Buy</td>\n",
       "      <td>2.0650</td>\n",
       "      <td>12.0524</td>\n",
       "    </tr>\n",
       "    <tr>\n",
       "      <th>5</th>\n",
       "      <td>amat</td>\n",
       "      <td>Buy</td>\n",
       "      <td>11.1522</td>\n",
       "      <td>Buy</td>\n",
       "      <td>10.6211</td>\n",
       "      <td>Buy</td>\n",
       "      <td>8.4863</td>\n",
       "      <td>235.4879</td>\n",
       "    </tr>\n",
       "    <tr>\n",
       "      <th>6</th>\n",
       "      <td>amd</td>\n",
       "      <td>Hold or Sell</td>\n",
       "      <td>9.0217</td>\n",
       "      <td>Hold or Sell</td>\n",
       "      <td>5.4632</td>\n",
       "      <td>Hold or Sell</td>\n",
       "      <td>9.8957</td>\n",
       "      <td>17.1940</td>\n",
       "    </tr>\n",
       "    <tr>\n",
       "      <th>7</th>\n",
       "      <td>amgn</td>\n",
       "      <td>Hold or Sell</td>\n",
       "      <td>4.7408</td>\n",
       "      <td>Hold or Sell</td>\n",
       "      <td>5.2947</td>\n",
       "      <td>Hold or Sell</td>\n",
       "      <td>4.8285</td>\n",
       "      <td>25.4641</td>\n",
       "    </tr>\n",
       "    <tr>\n",
       "      <th>8</th>\n",
       "      <td>amzn</td>\n",
       "      <td>Hold or Sell</td>\n",
       "      <td>3.3141</td>\n",
       "      <td>Hold or Sell</td>\n",
       "      <td>3.4124</td>\n",
       "      <td>Buy</td>\n",
       "      <td>3.6488</td>\n",
       "      <td>101.2418</td>\n",
       "    </tr>\n",
       "    <tr>\n",
       "      <th>9</th>\n",
       "      <td>baba</td>\n",
       "      <td>Hold or Sell</td>\n",
       "      <td>1.6910</td>\n",
       "      <td>Hold or Sell</td>\n",
       "      <td>1.6273</td>\n",
       "      <td>Hold or Sell</td>\n",
       "      <td>1.5436</td>\n",
       "      <td>2.0253</td>\n",
       "    </tr>\n",
       "    <tr>\n",
       "      <th>10</th>\n",
       "      <td>bac</td>\n",
       "      <td>Buy</td>\n",
       "      <td>6.5029</td>\n",
       "      <td>Buy</td>\n",
       "      <td>3.7714</td>\n",
       "      <td>Buy</td>\n",
       "      <td>4.9184</td>\n",
       "      <td>7.6389</td>\n",
       "    </tr>\n",
       "    <tr>\n",
       "      <th>11</th>\n",
       "      <td>bpmc</td>\n",
       "      <td>Buy</td>\n",
       "      <td>2.4304</td>\n",
       "      <td>Buy</td>\n",
       "      <td>2.0245</td>\n",
       "      <td>Buy</td>\n",
       "      <td>2.0957</td>\n",
       "      <td>2.1315</td>\n",
       "    </tr>\n",
       "    <tr>\n",
       "      <th>12</th>\n",
       "      <td>crm</td>\n",
       "      <td>Hold or Sell</td>\n",
       "      <td>2.2941</td>\n",
       "      <td>Hold or Sell</td>\n",
       "      <td>1.8895</td>\n",
       "      <td>Hold or Sell</td>\n",
       "      <td>2.1493</td>\n",
       "      <td>15.6162</td>\n",
       "    </tr>\n",
       "    <tr>\n",
       "      <th>13</th>\n",
       "      <td>crsp</td>\n",
       "      <td>Buy</td>\n",
       "      <td>1.1880</td>\n",
       "      <td>Buy</td>\n",
       "      <td>0.7311</td>\n",
       "      <td>Buy</td>\n",
       "      <td>1.1161</td>\n",
       "      <td>5.4707</td>\n",
       "    </tr>\n",
       "    <tr>\n",
       "      <th>14</th>\n",
       "      <td>dq</td>\n",
       "      <td>Hold or Sell</td>\n",
       "      <td>6.3812</td>\n",
       "      <td>Hold or Sell</td>\n",
       "      <td>5.0999</td>\n",
       "      <td>Hold or Sell</td>\n",
       "      <td>6.9222</td>\n",
       "      <td>49.7121</td>\n",
       "    </tr>\n",
       "  </tbody>\n",
       "</table>\n",
       "</div>"
      ],
      "text/plain": [
       "   stock    1_Day_Pred  1_Day_Model_Return    3_Day_Pred  3_Day_Model_Return  \\\n",
       "0      a  Hold or Sell              3.4784  Hold or Sell              4.4275   \n",
       "1   aapl  Hold or Sell              3.8250  Hold or Sell              4.1782   \n",
       "2    acy           Buy              1.0376           Buy              0.8461   \n",
       "3   adbe  Hold or Sell              7.5508  Hold or Sell              5.5147   \n",
       "4    alb           Buy              1.9048           Buy              2.1551   \n",
       "5   amat           Buy             11.1522           Buy             10.6211   \n",
       "6    amd  Hold or Sell              9.0217  Hold or Sell              5.4632   \n",
       "7   amgn  Hold or Sell              4.7408  Hold or Sell              5.2947   \n",
       "8   amzn  Hold or Sell              3.3141  Hold or Sell              3.4124   \n",
       "9   baba  Hold or Sell              1.6910  Hold or Sell              1.6273   \n",
       "10   bac           Buy              6.5029           Buy              3.7714   \n",
       "11  bpmc           Buy              2.4304           Buy              2.0245   \n",
       "12   crm  Hold or Sell              2.2941  Hold or Sell              1.8895   \n",
       "13  crsp           Buy              1.1880           Buy              0.7311   \n",
       "14    dq  Hold or Sell              6.3812  Hold or Sell              5.0999   \n",
       "\n",
       "      5_Day_Pred  5_Day_Model_Return  Actual_Returns  \n",
       "0   Hold or Sell              4.3200          7.6023  \n",
       "1   Hold or Sell              4.5773        319.5105  \n",
       "2            Buy              0.6609          2.6129  \n",
       "3   Hold or Sell              6.9017         81.4828  \n",
       "4            Buy              2.0650         12.0524  \n",
       "5            Buy              8.4863        235.4879  \n",
       "6   Hold or Sell              9.8957         17.1940  \n",
       "7   Hold or Sell              4.8285         25.4641  \n",
       "8            Buy              3.6488        101.2418  \n",
       "9   Hold or Sell              1.5436          2.0253  \n",
       "10           Buy              4.9184          7.6389  \n",
       "11           Buy              2.0957          2.1315  \n",
       "12  Hold or Sell              2.1493         15.6162  \n",
       "13           Buy              1.1161          5.4707  \n",
       "14  Hold or Sell              6.9222         49.7121  "
      ]
     },
     "execution_count": 29,
     "metadata": {},
     "output_type": "execute_result"
    }
   ],
   "source": [
    "summary_df = a.pred_summary_df(start_dates1, stocks = [x for x in start_dates1], days_back = 1)\n",
    "summary_df"
   ]
  },
  {
   "cell_type": "code",
   "execution_count": 30,
   "metadata": {},
   "outputs": [
    {
     "data": {
      "text/plain": [
       "(3.4784, 3.7714, 4.32, 15.6162)"
      ]
     },
     "execution_count": 30,
     "metadata": {},
     "output_type": "execute_result"
    }
   ],
   "source": [
    "summary_df['1_Day_Model_Return'].median(), summary_df['3_Day_Model_Return'].median(), summary_df['5_Day_Model_Return'].median(), summary_df['Actual_Returns'].median()"
   ]
  },
  {
   "cell_type": "code",
   "execution_count": 31,
   "metadata": {},
   "outputs": [
    {
     "data": {
      "text/html": [
       "<div>\n",
       "<style scoped>\n",
       "    .dataframe tbody tr th:only-of-type {\n",
       "        vertical-align: middle;\n",
       "    }\n",
       "\n",
       "    .dataframe tbody tr th {\n",
       "        vertical-align: top;\n",
       "    }\n",
       "\n",
       "    .dataframe thead th {\n",
       "        text-align: right;\n",
       "    }\n",
       "</style>\n",
       "<table border=\"1\" class=\"dataframe\">\n",
       "  <thead>\n",
       "    <tr style=\"text-align: right;\">\n",
       "      <th></th>\n",
       "      <th>stock</th>\n",
       "      <th>1_Day_Pred</th>\n",
       "      <th>1_Day_Model_Return</th>\n",
       "      <th>3_Day_Pred</th>\n",
       "      <th>3_Day_Model_Return</th>\n",
       "      <th>5_Day_Pred</th>\n",
       "      <th>5_Day_Model_Return</th>\n",
       "      <th>Actual_Returns</th>\n",
       "    </tr>\n",
       "  </thead>\n",
       "  <tbody>\n",
       "    <tr>\n",
       "      <th>0</th>\n",
       "      <td>esgv</td>\n",
       "      <td>Hold or Sell</td>\n",
       "      <td>1.1214</td>\n",
       "      <td>Hold or Sell</td>\n",
       "      <td>1.1084</td>\n",
       "      <td>Hold or Sell</td>\n",
       "      <td>1.1236</td>\n",
       "      <td>0.5593</td>\n",
       "    </tr>\n",
       "    <tr>\n",
       "      <th>1</th>\n",
       "      <td>fslr</td>\n",
       "      <td>Buy</td>\n",
       "      <td>1.9031</td>\n",
       "      <td>Buy</td>\n",
       "      <td>1.8049</td>\n",
       "      <td>Buy</td>\n",
       "      <td>1.6524</td>\n",
       "      <td>-0.3597</td>\n",
       "    </tr>\n",
       "    <tr>\n",
       "      <th>2</th>\n",
       "      <td>goog</td>\n",
       "      <td>Hold or Sell</td>\n",
       "      <td>2.8313</td>\n",
       "      <td>Hold or Sell</td>\n",
       "      <td>2.4278</td>\n",
       "      <td>Hold or Sell</td>\n",
       "      <td>3.6359</td>\n",
       "      <td>11.9630</td>\n",
       "    </tr>\n",
       "    <tr>\n",
       "      <th>3</th>\n",
       "      <td>ibm</td>\n",
       "      <td>Buy</td>\n",
       "      <td>2.9467</td>\n",
       "      <td>Buy</td>\n",
       "      <td>4.5780</td>\n",
       "      <td>Buy</td>\n",
       "      <td>3.0639</td>\n",
       "      <td>6.8712</td>\n",
       "    </tr>\n",
       "    <tr>\n",
       "      <th>4</th>\n",
       "      <td>intc</td>\n",
       "      <td>Hold or Sell</td>\n",
       "      <td>6.1580</td>\n",
       "      <td>Hold or Sell</td>\n",
       "      <td>6.2237</td>\n",
       "      <td>Hold or Sell</td>\n",
       "      <td>6.5795</td>\n",
       "      <td>42.8029</td>\n",
       "    </tr>\n",
       "    <tr>\n",
       "      <th>5</th>\n",
       "      <td>iyw</td>\n",
       "      <td>Hold or Sell</td>\n",
       "      <td>3.0688</td>\n",
       "      <td>Hold or Sell</td>\n",
       "      <td>4.7289</td>\n",
       "      <td>Hold or Sell</td>\n",
       "      <td>3.8848</td>\n",
       "      <td>6.9473</td>\n",
       "    </tr>\n",
       "    <tr>\n",
       "      <th>6</th>\n",
       "      <td>lng</td>\n",
       "      <td>Buy</td>\n",
       "      <td>1.0536</td>\n",
       "      <td>Buy</td>\n",
       "      <td>0.8061</td>\n",
       "      <td>Buy</td>\n",
       "      <td>1.0315</td>\n",
       "      <td>61.6723</td>\n",
       "    </tr>\n",
       "    <tr>\n",
       "      <th>7</th>\n",
       "      <td>ma</td>\n",
       "      <td>Hold or Sell</td>\n",
       "      <td>2.5544</td>\n",
       "      <td>Hold or Sell</td>\n",
       "      <td>3.0345</td>\n",
       "      <td>Hold or Sell</td>\n",
       "      <td>2.2429</td>\n",
       "      <td>16.2356</td>\n",
       "    </tr>\n",
       "    <tr>\n",
       "      <th>8</th>\n",
       "      <td>mdb</td>\n",
       "      <td>Hold or Sell</td>\n",
       "      <td>0.7640</td>\n",
       "      <td>Hold or Sell</td>\n",
       "      <td>0.9050</td>\n",
       "      <td>Hold or Sell</td>\n",
       "      <td>0.9595</td>\n",
       "      <td>2.8366</td>\n",
       "    </tr>\n",
       "    <tr>\n",
       "      <th>9</th>\n",
       "      <td>msft</td>\n",
       "      <td>Hold or Sell</td>\n",
       "      <td>8.3815</td>\n",
       "      <td>Hold or Sell</td>\n",
       "      <td>8.5272</td>\n",
       "      <td>Hold or Sell</td>\n",
       "      <td>8.0722</td>\n",
       "      <td>64.6443</td>\n",
       "    </tr>\n",
       "    <tr>\n",
       "      <th>10</th>\n",
       "      <td>mu</td>\n",
       "      <td>Buy</td>\n",
       "      <td>2.0439</td>\n",
       "      <td>Buy</td>\n",
       "      <td>2.3914</td>\n",
       "      <td>Buy</td>\n",
       "      <td>2.4906</td>\n",
       "      <td>15.4127</td>\n",
       "    </tr>\n",
       "    <tr>\n",
       "      <th>11</th>\n",
       "      <td>nee</td>\n",
       "      <td>Hold or Sell</td>\n",
       "      <td>4.1922</td>\n",
       "      <td>Hold or Sell</td>\n",
       "      <td>5.3269</td>\n",
       "      <td>Hold or Sell</td>\n",
       "      <td>5.3230</td>\n",
       "      <td>29.3640</td>\n",
       "    </tr>\n",
       "    <tr>\n",
       "      <th>12</th>\n",
       "      <td>nio</td>\n",
       "      <td>Buy</td>\n",
       "      <td>1.3770</td>\n",
       "      <td>Buy</td>\n",
       "      <td>1.2850</td>\n",
       "      <td>Buy</td>\n",
       "      <td>1.2872</td>\n",
       "      <td>6.6360</td>\n",
       "    </tr>\n",
       "    <tr>\n",
       "      <th>13</th>\n",
       "      <td>nvda</td>\n",
       "      <td>Hold or Sell</td>\n",
       "      <td>11.9349</td>\n",
       "      <td>Hold or Sell</td>\n",
       "      <td>8.7209</td>\n",
       "      <td>Hold or Sell</td>\n",
       "      <td>13.6780</td>\n",
       "      <td>152.4445</td>\n",
       "    </tr>\n",
       "    <tr>\n",
       "      <th>14</th>\n",
       "      <td>pacb</td>\n",
       "      <td>Buy</td>\n",
       "      <td>2.2675</td>\n",
       "      <td>Buy</td>\n",
       "      <td>2.0702</td>\n",
       "      <td>Buy</td>\n",
       "      <td>1.8019</td>\n",
       "      <td>10.7321</td>\n",
       "    </tr>\n",
       "  </tbody>\n",
       "</table>\n",
       "</div>"
      ],
      "text/plain": [
       "   stock    1_Day_Pred  1_Day_Model_Return    3_Day_Pred  3_Day_Model_Return  \\\n",
       "0   esgv  Hold or Sell              1.1214  Hold or Sell              1.1084   \n",
       "1   fslr           Buy              1.9031           Buy              1.8049   \n",
       "2   goog  Hold or Sell              2.8313  Hold or Sell              2.4278   \n",
       "3    ibm           Buy              2.9467           Buy              4.5780   \n",
       "4   intc  Hold or Sell              6.1580  Hold or Sell              6.2237   \n",
       "5    iyw  Hold or Sell              3.0688  Hold or Sell              4.7289   \n",
       "6    lng           Buy              1.0536           Buy              0.8061   \n",
       "7     ma  Hold or Sell              2.5544  Hold or Sell              3.0345   \n",
       "8    mdb  Hold or Sell              0.7640  Hold or Sell              0.9050   \n",
       "9   msft  Hold or Sell              8.3815  Hold or Sell              8.5272   \n",
       "10    mu           Buy              2.0439           Buy              2.3914   \n",
       "11   nee  Hold or Sell              4.1922  Hold or Sell              5.3269   \n",
       "12   nio           Buy              1.3770           Buy              1.2850   \n",
       "13  nvda  Hold or Sell             11.9349  Hold or Sell              8.7209   \n",
       "14  pacb           Buy              2.2675           Buy              2.0702   \n",
       "\n",
       "      5_Day_Pred  5_Day_Model_Return  Actual_Returns  \n",
       "0   Hold or Sell              1.1236          0.5593  \n",
       "1            Buy              1.6524         -0.3597  \n",
       "2   Hold or Sell              3.6359         11.9630  \n",
       "3            Buy              3.0639          6.8712  \n",
       "4   Hold or Sell              6.5795         42.8029  \n",
       "5   Hold or Sell              3.8848          6.9473  \n",
       "6            Buy              1.0315         61.6723  \n",
       "7   Hold or Sell              2.2429         16.2356  \n",
       "8   Hold or Sell              0.9595          2.8366  \n",
       "9   Hold or Sell              8.0722         64.6443  \n",
       "10           Buy              2.4906         15.4127  \n",
       "11  Hold or Sell              5.3230         29.3640  \n",
       "12           Buy              1.2872          6.6360  \n",
       "13  Hold or Sell             13.6780        152.4445  \n",
       "14           Buy              1.8019         10.7321  "
      ]
     },
     "execution_count": 31,
     "metadata": {},
     "output_type": "execute_result"
    }
   ],
   "source": [
    "summary_df = a.pred_summary_df(start_dates2, stocks = [x for x in start_dates2], days_back = 1)\n",
    "summary_df"
   ]
  },
  {
   "cell_type": "code",
   "execution_count": 32,
   "metadata": {},
   "outputs": [
    {
     "data": {
      "text/plain": [
       "(2.5544, 2.4278, 2.4906, 11.963)"
      ]
     },
     "execution_count": 32,
     "metadata": {},
     "output_type": "execute_result"
    }
   ],
   "source": [
    "summary_df['1_Day_Model_Return'].median(), summary_df['3_Day_Model_Return'].median(), summary_df['5_Day_Model_Return'].median(), summary_df['Actual_Returns'].median()"
   ]
  },
  {
   "cell_type": "code",
   "execution_count": 33,
   "metadata": {
    "scrolled": true
   },
   "outputs": [
    {
     "data": {
      "text/html": [
       "<div>\n",
       "<style scoped>\n",
       "    .dataframe tbody tr th:only-of-type {\n",
       "        vertical-align: middle;\n",
       "    }\n",
       "\n",
       "    .dataframe tbody tr th {\n",
       "        vertical-align: top;\n",
       "    }\n",
       "\n",
       "    .dataframe thead th {\n",
       "        text-align: right;\n",
       "    }\n",
       "</style>\n",
       "<table border=\"1\" class=\"dataframe\">\n",
       "  <thead>\n",
       "    <tr style=\"text-align: right;\">\n",
       "      <th></th>\n",
       "      <th>stock</th>\n",
       "      <th>1_Day_Pred</th>\n",
       "      <th>1_Day_Model_Return</th>\n",
       "      <th>3_Day_Pred</th>\n",
       "      <th>3_Day_Model_Return</th>\n",
       "      <th>5_Day_Pred</th>\n",
       "      <th>5_Day_Model_Return</th>\n",
       "      <th>Actual_Returns</th>\n",
       "    </tr>\n",
       "  </thead>\n",
       "  <tbody>\n",
       "    <tr>\n",
       "      <th>0</th>\n",
       "      <td>pypl</td>\n",
       "      <td>Hold or Sell</td>\n",
       "      <td>3.4738</td>\n",
       "      <td>Hold or Sell</td>\n",
       "      <td>2.5863</td>\n",
       "      <td>Hold or Sell</td>\n",
       "      <td>2.5591</td>\n",
       "      <td>5.9685</td>\n",
       "    </tr>\n",
       "    <tr>\n",
       "      <th>1</th>\n",
       "      <td>qgen</td>\n",
       "      <td>Hold or Sell</td>\n",
       "      <td>1.9879</td>\n",
       "      <td>Hold or Sell</td>\n",
       "      <td>2.1067</td>\n",
       "      <td>Hold or Sell</td>\n",
       "      <td>2.6302</td>\n",
       "      <td>9.1376</td>\n",
       "    </tr>\n",
       "    <tr>\n",
       "      <th>2</th>\n",
       "      <td>run</td>\n",
       "      <td>Buy</td>\n",
       "      <td>1.1370</td>\n",
       "      <td>Buy</td>\n",
       "      <td>1.1171</td>\n",
       "      <td>Buy</td>\n",
       "      <td>1.1098</td>\n",
       "      <td>6.6499</td>\n",
       "    </tr>\n",
       "    <tr>\n",
       "      <th>3</th>\n",
       "      <td>okta</td>\n",
       "      <td>Hold or Sell</td>\n",
       "      <td>1.1753</td>\n",
       "      <td>Hold or Sell</td>\n",
       "      <td>0.9481</td>\n",
       "      <td>Hold or Sell</td>\n",
       "      <td>1.1320</td>\n",
       "      <td>5.5989</td>\n",
       "    </tr>\n",
       "    <tr>\n",
       "      <th>4</th>\n",
       "      <td>orcl</td>\n",
       "      <td>Hold or Sell</td>\n",
       "      <td>2.8643</td>\n",
       "      <td>Hold or Sell</td>\n",
       "      <td>2.9245</td>\n",
       "      <td>Hold or Sell</td>\n",
       "      <td>2.8861</td>\n",
       "      <td>38.8836</td>\n",
       "    </tr>\n",
       "    <tr>\n",
       "      <th>5</th>\n",
       "      <td>qqq</td>\n",
       "      <td>Hold or Sell</td>\n",
       "      <td>3.2704</td>\n",
       "      <td>Hold or Sell</td>\n",
       "      <td>4.0091</td>\n",
       "      <td>Hold or Sell</td>\n",
       "      <td>2.8605</td>\n",
       "      <td>8.9017</td>\n",
       "    </tr>\n",
       "    <tr>\n",
       "      <th>6</th>\n",
       "      <td>srpt</td>\n",
       "      <td>Buy</td>\n",
       "      <td>2.2484</td>\n",
       "      <td>Buy</td>\n",
       "      <td>1.7601</td>\n",
       "      <td>Buy</td>\n",
       "      <td>1.4534</td>\n",
       "      <td>1.1694</td>\n",
       "    </tr>\n",
       "    <tr>\n",
       "      <th>7</th>\n",
       "      <td>tpic</td>\n",
       "      <td>Buy</td>\n",
       "      <td>1.0653</td>\n",
       "      <td>Buy</td>\n",
       "      <td>1.5242</td>\n",
       "      <td>Buy</td>\n",
       "      <td>1.5096</td>\n",
       "      <td>1.2789</td>\n",
       "    </tr>\n",
       "    <tr>\n",
       "      <th>8</th>\n",
       "      <td>tsla</td>\n",
       "      <td>Buy</td>\n",
       "      <td>4.7456</td>\n",
       "      <td>Buy</td>\n",
       "      <td>1.8396</td>\n",
       "      <td>Hold or Sell</td>\n",
       "      <td>2.8795</td>\n",
       "      <td>104.3093</td>\n",
       "    </tr>\n",
       "    <tr>\n",
       "      <th>9</th>\n",
       "      <td>v</td>\n",
       "      <td>Hold or Sell</td>\n",
       "      <td>2.5205</td>\n",
       "      <td>Hold or Sell</td>\n",
       "      <td>2.4422</td>\n",
       "      <td>Hold or Sell</td>\n",
       "      <td>2.5994</td>\n",
       "      <td>9.4554</td>\n",
       "    </tr>\n",
       "    <tr>\n",
       "      <th>10</th>\n",
       "      <td>vbiv</td>\n",
       "      <td>Buy</td>\n",
       "      <td>5.9853</td>\n",
       "      <td>Buy</td>\n",
       "      <td>2.6700</td>\n",
       "      <td>Hold or Sell</td>\n",
       "      <td>2.5430</td>\n",
       "      <td>-0.7638</td>\n",
       "    </tr>\n",
       "    <tr>\n",
       "      <th>11</th>\n",
       "      <td>vbr</td>\n",
       "      <td>Buy</td>\n",
       "      <td>1.4683</td>\n",
       "      <td>Buy</td>\n",
       "      <td>1.3240</td>\n",
       "      <td>Buy</td>\n",
       "      <td>1.7722</td>\n",
       "      <td>1.6190</td>\n",
       "    </tr>\n",
       "    <tr>\n",
       "      <th>12</th>\n",
       "      <td>viov</td>\n",
       "      <td>Buy</td>\n",
       "      <td>1.2421</td>\n",
       "      <td>Buy</td>\n",
       "      <td>1.0665</td>\n",
       "      <td>Buy</td>\n",
       "      <td>1.4525</td>\n",
       "      <td>1.2181</td>\n",
       "    </tr>\n",
       "    <tr>\n",
       "      <th>13</th>\n",
       "      <td>vgt</td>\n",
       "      <td>Hold or Sell</td>\n",
       "      <td>2.8902</td>\n",
       "      <td>Hold or Sell</td>\n",
       "      <td>3.6642</td>\n",
       "      <td>Hold or Sell</td>\n",
       "      <td>3.2425</td>\n",
       "      <td>5.8078</td>\n",
       "    </tr>\n",
       "    <tr>\n",
       "      <th>14</th>\n",
       "      <td>xlk</td>\n",
       "      <td>Hold or Sell</td>\n",
       "      <td>4.3621</td>\n",
       "      <td>Hold or Sell</td>\n",
       "      <td>4.4965</td>\n",
       "      <td>Hold or Sell</td>\n",
       "      <td>4.0758</td>\n",
       "      <td>6.3540</td>\n",
       "    </tr>\n",
       "  </tbody>\n",
       "</table>\n",
       "</div>"
      ],
      "text/plain": [
       "   stock    1_Day_Pred  1_Day_Model_Return    3_Day_Pred  3_Day_Model_Return  \\\n",
       "0   pypl  Hold or Sell              3.4738  Hold or Sell              2.5863   \n",
       "1   qgen  Hold or Sell              1.9879  Hold or Sell              2.1067   \n",
       "2    run           Buy              1.1370           Buy              1.1171   \n",
       "3   okta  Hold or Sell              1.1753  Hold or Sell              0.9481   \n",
       "4   orcl  Hold or Sell              2.8643  Hold or Sell              2.9245   \n",
       "5    qqq  Hold or Sell              3.2704  Hold or Sell              4.0091   \n",
       "6   srpt           Buy              2.2484           Buy              1.7601   \n",
       "7   tpic           Buy              1.0653           Buy              1.5242   \n",
       "8   tsla           Buy              4.7456           Buy              1.8396   \n",
       "9      v  Hold or Sell              2.5205  Hold or Sell              2.4422   \n",
       "10  vbiv           Buy              5.9853           Buy              2.6700   \n",
       "11   vbr           Buy              1.4683           Buy              1.3240   \n",
       "12  viov           Buy              1.2421           Buy              1.0665   \n",
       "13   vgt  Hold or Sell              2.8902  Hold or Sell              3.6642   \n",
       "14   xlk  Hold or Sell              4.3621  Hold or Sell              4.4965   \n",
       "\n",
       "      5_Day_Pred  5_Day_Model_Return  Actual_Returns  \n",
       "0   Hold or Sell              2.5591          5.9685  \n",
       "1   Hold or Sell              2.6302          9.1376  \n",
       "2            Buy              1.1098          6.6499  \n",
       "3   Hold or Sell              1.1320          5.5989  \n",
       "4   Hold or Sell              2.8861         38.8836  \n",
       "5   Hold or Sell              2.8605          8.9017  \n",
       "6            Buy              1.4534          1.1694  \n",
       "7            Buy              1.5096          1.2789  \n",
       "8   Hold or Sell              2.8795        104.3093  \n",
       "9   Hold or Sell              2.5994          9.4554  \n",
       "10  Hold or Sell              2.5430         -0.7638  \n",
       "11           Buy              1.7722          1.6190  \n",
       "12           Buy              1.4525          1.2181  \n",
       "13  Hold or Sell              3.2425          5.8078  \n",
       "14  Hold or Sell              4.0758          6.3540  "
      ]
     },
     "execution_count": 33,
     "metadata": {},
     "output_type": "execute_result"
    }
   ],
   "source": [
    "summary_df = a.pred_summary_df(start_dates3, stocks = [x for x in start_dates3], days_back = 1)\n",
    "summary_df"
   ]
  },
  {
   "cell_type": "code",
   "execution_count": 34,
   "metadata": {},
   "outputs": [
    {
     "data": {
      "text/plain": [
       "(2.5205, 2.1067, 2.5591, 5.9685)"
      ]
     },
     "execution_count": 34,
     "metadata": {},
     "output_type": "execute_result"
    }
   ],
   "source": [
    "summary_df['1_Day_Model_Return'].median(), summary_df['3_Day_Model_Return'].median(), summary_df['5_Day_Model_Return'].median(), summary_df['Actual_Returns'].median()"
   ]
  },
  {
   "cell_type": "code",
   "execution_count": null,
   "metadata": {},
   "outputs": [],
   "source": []
  }
 ],
 "metadata": {
  "kernelspec": {
   "display_name": "Python 3",
   "language": "python",
   "name": "python3"
  },
  "language_info": {
   "codemirror_mode": {
    "name": "ipython",
    "version": 3
   },
   "file_extension": ".py",
   "mimetype": "text/x-python",
   "name": "python",
   "nbconvert_exporter": "python",
   "pygments_lexer": "ipython3",
   "version": "3.8.5"
  }
 },
 "nbformat": 4,
 "nbformat_minor": 4
}
