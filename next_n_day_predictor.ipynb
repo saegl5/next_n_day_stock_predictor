{
 "cells": [
  {
   "cell_type": "code",
   "execution_count": 1,
   "metadata": {
    "scrolled": true
   },
   "outputs": [],
   "source": [
    "from src import attributes as a\n",
    "%load_ext autoreload\n",
    "%autoreload 2"
   ]
  },
  {
   "cell_type": "code",
   "execution_count": 2,
   "metadata": {},
   "outputs": [],
   "source": [
    "# Global Variables\n",
    "stock_name = 'msft' # ticker symbol\n",
    "train = 0 # 1 for train, 0 for pass\n",
    "days_ahead = 1 # for predicting 1, 3, or 5 days ahead\n",
    "days_back = -1 # -1 for current data point, -2 for two days ago, etc...\n",
    "cv = 5 # number of cross validation folds\n",
    "model_name = 'Random Forest Classifier' # for display on charts, not a tuning parameter"
   ]
  },
  {
   "cell_type": "code",
   "execution_count": 3,
   "metadata": {},
   "outputs": [],
   "source": [
    "# Extract, Transform, Load, and Train Test Split\n",
    "# Dictionary of IPO Dates\n",
    "start_dates = {'a': '11/15/1999' # Updated 1/10/21 1D, 3D, 5D ahead\n",
    "               , 'aapl':'12/12/1980' # Updated 1/10/21 1D, 3D, 5D ahead\n",
    "               , 'acy': '01/18/1998' # Updated 1/10/21 1D, 3D, 5D ahead\n",
    "               , 'adbe': '08/11/1986' # Updated 1/10/21 1D, 3D, 5D ahead\n",
    "               , 'amat': '03/16/1980' # Updated 1/10/21 1D, 3D, 5D ahead\n",
    "               , 'amd': '03/17/1980' # Updated 1/10/21 1D, 3D, 5D ahead\n",
    "               , 'amzn': '05/12/1997' # Updated 1/10/21 1D, 3D, 5D ahead\n",
    "               , 'baba': '09/15/2014' # Updated 1/10/21 1D, 3D, 5D ahead\n",
    "               , 'bac': '02/19/1973' # Updated 1/10/21 1D, 3D, 5D ahead\n",
    "               , 'crm': '06/23/2004' # Updated 1/10/21 1D, 3D, 5D ahead\n",
    "               , 'esgv': '09/16/2018' # Updated 1/10/21 1D, 3D, 5D ahead\n",
    "               , 'fslr': '11/12/2006' # Updated 1/10/21 1D, 3D, 5D ahead \n",
    "               , 'goog': '08/16/2004' # Updated 1/10/21 1D, 3D, 5D ahead\n",
    "               , 'ibm': '01/02/1962' # Updated 1/10/21 1D, 3D, 5D ahead\n",
    "               , 'idex': '05/23/2007' # Updated 1/10/21 1D, 3D, 5D ahead\n",
    "               , 'intc': '03/16/1980' # Updated 1/10/21 1D, 3D, 5D ahead\n",
    "               , 'iyw': '05/15/2000' # Updated 1/10/21 1D, 3D, 5D ahead\n",
    "               , 'ma': '05/21/2006' # Updated 1/10/21 1D, 3D, 5D ahead\n",
    "               , 'mdb': '10/15/2017' # Updated 1/10/21 1D, 3D, 5D ahead\n",
    "               , 'msft': '03/10/1986' # Updated 1/10/21 1D, 3D, 5D ahead\n",
    "               , 'mu': '05/28/1984' # Updated 1/10/21 1D, 3D, 5D ahead\n",
    "               , 'nio': '09/10/2018' # Updated 1/10/21 1D, 3D, 5D ahead\n",
    "               , 'nvda': '01/22/1999' # Updated 1/10/21 1D, 3D, 5D ahead\n",
    "               , 'pypl': '07/05/2015' # Updated 1/10/21 1D, 3D, 5D ahead\n",
    "               , 'orcl': '03/10/1986' # Updated 1/10/21 1D, 3D, 5D ahead\n",
    "               , 'qqq': '03/08/1999' # Updated 1/10/21 1D, 3D, 5D ahead\n",
    "               , 'tsla': '06/29/2010' # Updated 1/10/21 1D, 3D, 5D ahead\n",
    "               , 'v': '03/16/2008' # Updated 1/10/21 1D, 3D, 5D ahead\n",
    "               , 'vbiv': '09/04/2002' # Updated 1/10/21 1D, 3D, 5D ahead\n",
    "               , 'vbr': '01/26/2004' # Updated 1/10/21 1D, 3D, 5D ahead\n",
    "               , 'viov': '09/06/2010' # Updated 1/10/21 1D, 3D, 5D ahead\n",
    "               , 'vgt': '01/26/2004' # Updated 1/10/21 1D, 3D, 5D ahead\n",
    "               , 'xlk': '12/21/1998' # Updated 1/10/21 1D, 3D, 5D ahead\n",
    "              }"
   ]
  },
  {
   "cell_type": "code",
   "execution_count": null,
   "metadata": {},
   "outputs": [],
   "source": []
  },
  {
   "cell_type": "code",
   "execution_count": null,
   "metadata": {},
   "outputs": [],
   "source": []
  },
  {
   "cell_type": "code",
   "execution_count": null,
   "metadata": {},
   "outputs": [],
   "source": []
  },
  {
   "cell_type": "code",
   "execution_count": 4,
   "metadata": {},
   "outputs": [],
   "source": [
    "# X_train, X_test, y_train, y_test, stock_df = a.data(stock_name, start_dates[stock_name], days_ahead)\n",
    "# stock_df.tail(10)"
   ]
  },
  {
   "cell_type": "code",
   "execution_count": 5,
   "metadata": {
    "scrolled": false
   },
   "outputs": [],
   "source": [
    "# GridSerach to find best hyperparameters to prevent overfitting, can be commented out once trained\n",
    "# if train == 1:\n",
    "#     a.rfc_GridSearch(X_train, y_train, stock_name, days_ahead, cv)\n",
    "# elif train == 0:\n",
    "#     pass"
   ]
  },
  {
   "cell_type": "code",
   "execution_count": 6,
   "metadata": {},
   "outputs": [],
   "source": [
    "# Load RandomForextClassifier Model\n",
    "# rfc_model, y_pred, y_probs = a.rfc(X_train, X_test, y_train, stock_name, days_ahead)"
   ]
  },
  {
   "cell_type": "code",
   "execution_count": 7,
   "metadata": {
    "scrolled": false
   },
   "outputs": [],
   "source": [
    "# ROC Curve\n",
    "# a.roc_plot(y_test, y_probs, stock_name, model_name)"
   ]
  },
  {
   "cell_type": "code",
   "execution_count": 8,
   "metadata": {
    "scrolled": false
   },
   "outputs": [],
   "source": [
    "# Precision Recall Curve\n",
    "# a.prec_recall(y_test, y_probs, stock_name, model_name)"
   ]
  },
  {
   "cell_type": "code",
   "execution_count": 9,
   "metadata": {
    "scrolled": false
   },
   "outputs": [],
   "source": [
    "# Confusion Matrix\n",
    "# a.confusion_matrix(rfc_model, X_test, y_test, stock_name)"
   ]
  },
  {
   "cell_type": "code",
   "execution_count": 10,
   "metadata": {},
   "outputs": [],
   "source": [
    "# Cross Validation\n",
    "# a.cross_validation(rfc_model\n",
    "#                    , stock_df[['oc', 'hl', '5stdev_adj', '5sma_adj']]\n",
    "#                    , stock_df['direction']\n",
    "#                    , cv = 5\n",
    "#                   )"
   ]
  },
  {
   "cell_type": "markdown",
   "metadata": {},
   "source": [
    "### Prediction..."
   ]
  },
  {
   "cell_type": "code",
   "execution_count": 11,
   "metadata": {
    "scrolled": true
   },
   "outputs": [],
   "source": [
    "# Prediction, use last day of data\n",
    "# stock_df.iloc[-1]"
   ]
  },
  {
   "cell_type": "code",
   "execution_count": 12,
   "metadata": {},
   "outputs": [],
   "source": [
    "# import numpy as np\n",
    "# last = stock_df[['oc', 'hl', '5stdev_adj', '5sma_adj']].iloc[-days_back]\n",
    "# last"
   ]
  },
  {
   "cell_type": "code",
   "execution_count": 13,
   "metadata": {},
   "outputs": [],
   "source": [
    "# stock_df['adj'].describe()"
   ]
  },
  {
   "cell_type": "code",
   "execution_count": 14,
   "metadata": {
    "scrolled": true
   },
   "outputs": [],
   "source": [
    "# if rfc_model.predict(np.array(last).reshape(1, -1))[0] == 1:\n",
    "#     print(f'Buy {stock_name} {days_ahead} day(s) ahead')\n",
    "# else:\n",
    "#     print(f'Sell or hold {stock_name} {days_ahead} day(s) ahead')"
   ]
  },
  {
   "cell_type": "markdown",
   "metadata": {},
   "source": [
    "### Strategy Returns..."
   ]
  },
  {
   "cell_type": "code",
   "execution_count": 15,
   "metadata": {},
   "outputs": [],
   "source": [
    "# returns on strategy column\n",
    "# stock_df['prediction'] = rfc_model.predict(stock_df[['oc', 'hl', '5stdev_adj', '5sma_adj']])\n",
    "# stock_df['returns'] = stock_df['adj'].shift(-1, fill_value = stock_df['adj'].median()) * stock_df['prediction']"
   ]
  },
  {
   "cell_type": "code",
   "execution_count": 16,
   "metadata": {},
   "outputs": [],
   "source": [
    "# stock_df.tail(5)"
   ]
  },
  {
   "cell_type": "code",
   "execution_count": 17,
   "metadata": {},
   "outputs": [],
   "source": [
    "# Don't trade every day!\n",
    "# import matplotlib.pyplot as plt\n",
    "# test_length = len(y_test)\n",
    "# (stock_df['returns'][-test_length:] + 1).cumprod().plot()\n",
    "# plt.title(f'{stock_name} Expected Returns %');"
   ]
  },
  {
   "cell_type": "code",
   "execution_count": 18,
   "metadata": {},
   "outputs": [],
   "source": [
    "# Model returns if bought on predictions of 1\n",
    "# returns_on_ones = []\n",
    "# for idx in range(-test_length, 0):\n",
    "#     if stock_df['prediction'][idx] == 1:\n",
    "#         returns_on_ones.append(1 + stock_df['returns'][idx])\n",
    "\n",
    "# returns = 1\n",
    "# for x in returns_on_ones:\n",
    "#     returns *= x\n",
    "# returns"
   ]
  },
  {
   "cell_type": "code",
   "execution_count": 19,
   "metadata": {},
   "outputs": [],
   "source": [
    "# multiple times original investment, not bad but..."
   ]
  },
  {
   "cell_type": "code",
   "execution_count": 20,
   "metadata": {},
   "outputs": [],
   "source": [
    "# If purchased in 2012 and left it until now\n",
    "# test_idx = int(len(stock_df)*0.75)\n",
    "# (stock_df['Close'][-1] - stock_df['Close'][-test_idx]) / stock_df['Close'][-test_idx]"
   ]
  },
  {
   "cell_type": "code",
   "execution_count": 21,
   "metadata": {},
   "outputs": [],
   "source": [
    "# Buy and hold strategy beats RandomForestClassifier in this study\n",
    "\n",
    "# Special thanks to Shagufta Tahsildar at https://blog.quantinsti.com/random-forest-algorithm-in-python/"
   ]
  },
  {
   "cell_type": "code",
   "execution_count": null,
   "metadata": {},
   "outputs": [],
   "source": []
  },
  {
   "cell_type": "code",
   "execution_count": null,
   "metadata": {},
   "outputs": [],
   "source": []
  },
  {
   "cell_type": "code",
   "execution_count": null,
   "metadata": {},
   "outputs": [],
   "source": []
  },
  {
   "cell_type": "markdown",
   "metadata": {},
   "source": [
    "### Training"
   ]
  },
  {
   "cell_type": "code",
   "execution_count": 22,
   "metadata": {},
   "outputs": [],
   "source": [
    "# Train all...this takes a while, 12+ hours!\n",
    "# stocks = [x for x in start_dates]\n",
    "# days_ahead = [1, 3, 5]\n",
    "# cv = 5\n",
    "# for stock in stocks:\n",
    "#     for days in days_ahead:\n",
    "#         X_train, X_test, y_train, y_test, stock_df = a.data(stock, start_dates[stock], days)\n",
    "#         a.rfc_GridSearch(X_train, y_train, stock, days, cv)\n",
    "# len(stocks)\n",
    "#\n",
    "#\n",
    "# Train desired stocks...takes less time\n",
    "# stocks = ['mdb', 'qqq', 'xlk']\n",
    "# days_ahead = [1, 3, 5]\n",
    "# cv = 5\n",
    "# for stock in stocks:\n",
    "#     for days in days_ahead:\n",
    "#         X_train, X_test, y_train, y_test, stock_df = a.data(stock, start_dates[stock], days)\n",
    "#         a.rfc_GridSearch(X_train, y_train, stock, days, cv)"
   ]
  },
  {
   "cell_type": "markdown",
   "metadata": {},
   "source": [
    "### Display All Results"
   ]
  },
  {
   "cell_type": "code",
   "execution_count": 23,
   "metadata": {
    "scrolled": false
   },
   "outputs": [],
   "source": [
    "# stock_name = 'a'\n",
    "# a.all_func(stock_name\n",
    "#            , start_dates[stock_name]\n",
    "#            , days_ahead = 1\n",
    "#            , model_name = model_name\n",
    "#            , days_back = 1\n",
    "#           )"
   ]
  },
  {
   "cell_type": "code",
   "execution_count": null,
   "metadata": {},
   "outputs": [],
   "source": []
  },
  {
   "cell_type": "code",
   "execution_count": null,
   "metadata": {},
   "outputs": [],
   "source": []
  },
  {
   "cell_type": "code",
   "execution_count": null,
   "metadata": {},
   "outputs": [],
   "source": []
  },
  {
   "cell_type": "markdown",
   "metadata": {},
   "source": [
    "### Data Frame of Predictions 1 3 5 Days"
   ]
  },
  {
   "cell_type": "code",
   "execution_count": 24,
   "metadata": {},
   "outputs": [
    {
     "name": "stdout",
     "output_type": "stream",
     "text": [
      "Today's date: 2021-01-13\n"
     ]
    }
   ],
   "source": [
    "from datetime import date\n",
    "\n",
    "today = date.today()\n",
    "print(\"Today's date:\", today)"
   ]
  },
  {
   "cell_type": "code",
   "execution_count": 25,
   "metadata": {
    "scrolled": false
   },
   "outputs": [
    {
     "data": {
      "text/html": [
       "<div>\n",
       "<style scoped>\n",
       "    .dataframe tbody tr th:only-of-type {\n",
       "        vertical-align: middle;\n",
       "    }\n",
       "\n",
       "    .dataframe tbody tr th {\n",
       "        vertical-align: top;\n",
       "    }\n",
       "\n",
       "    .dataframe thead th {\n",
       "        text-align: right;\n",
       "    }\n",
       "</style>\n",
       "<table border=\"1\" class=\"dataframe\">\n",
       "  <thead>\n",
       "    <tr style=\"text-align: right;\">\n",
       "      <th></th>\n",
       "      <th>stock</th>\n",
       "      <th>1_Day_Pred</th>\n",
       "      <th>1_Day_Model_Return</th>\n",
       "      <th>3_Day_Pred</th>\n",
       "      <th>3_Day_Model_Return</th>\n",
       "      <th>5_Day_Pred</th>\n",
       "      <th>5_Day_Model_Return</th>\n",
       "      <th>Actual_Returns</th>\n",
       "    </tr>\n",
       "  </thead>\n",
       "  <tbody>\n",
       "    <tr>\n",
       "      <th>0</th>\n",
       "      <td>a</td>\n",
       "      <td>Buy</td>\n",
       "      <td>3.6182</td>\n",
       "      <td>Buy</td>\n",
       "      <td>3.9140</td>\n",
       "      <td>Buy</td>\n",
       "      <td>4.2969</td>\n",
       "      <td>6.6445</td>\n",
       "    </tr>\n",
       "    <tr>\n",
       "      <th>1</th>\n",
       "      <td>aapl</td>\n",
       "      <td>Hold or Sell</td>\n",
       "      <td>3.3264</td>\n",
       "      <td>Hold or Sell</td>\n",
       "      <td>3.8520</td>\n",
       "      <td>Hold or Sell</td>\n",
       "      <td>4.5246</td>\n",
       "      <td>346.0013</td>\n",
       "    </tr>\n",
       "    <tr>\n",
       "      <th>2</th>\n",
       "      <td>acy</td>\n",
       "      <td>Buy</td>\n",
       "      <td>0.4437</td>\n",
       "      <td>Buy</td>\n",
       "      <td>0.4900</td>\n",
       "      <td>Buy</td>\n",
       "      <td>0.8383</td>\n",
       "      <td>1.3860</td>\n",
       "    </tr>\n",
       "    <tr>\n",
       "      <th>3</th>\n",
       "      <td>adbe</td>\n",
       "      <td>Buy</td>\n",
       "      <td>7.4459</td>\n",
       "      <td>Buy</td>\n",
       "      <td>6.0924</td>\n",
       "      <td>Buy</td>\n",
       "      <td>6.9905</td>\n",
       "      <td>98.3768</td>\n",
       "    </tr>\n",
       "    <tr>\n",
       "      <th>4</th>\n",
       "      <td>amat</td>\n",
       "      <td>Hold or Sell</td>\n",
       "      <td>4.5969</td>\n",
       "      <td>Hold or Sell</td>\n",
       "      <td>6.2509</td>\n",
       "      <td>Hold or Sell</td>\n",
       "      <td>7.0940</td>\n",
       "      <td>166.7140</td>\n",
       "    </tr>\n",
       "    <tr>\n",
       "      <th>5</th>\n",
       "      <td>amd</td>\n",
       "      <td>Buy</td>\n",
       "      <td>7.9489</td>\n",
       "      <td>Buy</td>\n",
       "      <td>5.9531</td>\n",
       "      <td>Buy</td>\n",
       "      <td>9.8220</td>\n",
       "      <td>15.7036</td>\n",
       "    </tr>\n",
       "    <tr>\n",
       "      <th>6</th>\n",
       "      <td>amzn</td>\n",
       "      <td>Buy</td>\n",
       "      <td>3.9975</td>\n",
       "      <td>Buy</td>\n",
       "      <td>3.9915</td>\n",
       "      <td>Buy</td>\n",
       "      <td>4.4504</td>\n",
       "      <td>125.2890</td>\n",
       "    </tr>\n",
       "    <tr>\n",
       "      <th>7</th>\n",
       "      <td>baba</td>\n",
       "      <td>Buy</td>\n",
       "      <td>1.3499</td>\n",
       "      <td>Buy</td>\n",
       "      <td>1.2474</td>\n",
       "      <td>Buy</td>\n",
       "      <td>1.1800</td>\n",
       "      <td>2.0001</td>\n",
       "    </tr>\n",
       "    <tr>\n",
       "      <th>8</th>\n",
       "      <td>bac</td>\n",
       "      <td>Hold or Sell</td>\n",
       "      <td>2.5023</td>\n",
       "      <td>Hold or Sell</td>\n",
       "      <td>2.7557</td>\n",
       "      <td>Hold or Sell</td>\n",
       "      <td>2.7092</td>\n",
       "      <td>6.2678</td>\n",
       "    </tr>\n",
       "    <tr>\n",
       "      <th>9</th>\n",
       "      <td>crm</td>\n",
       "      <td>Buy</td>\n",
       "      <td>2.1161</td>\n",
       "      <td>Buy</td>\n",
       "      <td>1.9196</td>\n",
       "      <td>Buy</td>\n",
       "      <td>2.0537</td>\n",
       "      <td>12.3146</td>\n",
       "    </tr>\n",
       "    <tr>\n",
       "      <th>10</th>\n",
       "      <td>esgv</td>\n",
       "      <td>Hold or Sell</td>\n",
       "      <td>1.1925</td>\n",
       "      <td>Hold or Sell</td>\n",
       "      <td>1.1700</td>\n",
       "      <td>Hold or Sell</td>\n",
       "      <td>1.1554</td>\n",
       "      <td>0.3957</td>\n",
       "    </tr>\n",
       "    <tr>\n",
       "      <th>11</th>\n",
       "      <td>fslr</td>\n",
       "      <td>Buy</td>\n",
       "      <td>2.0208</td>\n",
       "      <td>Hold or Sell</td>\n",
       "      <td>2.5672</td>\n",
       "      <td>Hold or Sell</td>\n",
       "      <td>2.1916</td>\n",
       "      <td>-0.0277</td>\n",
       "    </tr>\n",
       "    <tr>\n",
       "      <th>12</th>\n",
       "      <td>goog</td>\n",
       "      <td>Buy</td>\n",
       "      <td>2.2541</td>\n",
       "      <td>Buy</td>\n",
       "      <td>1.9624</td>\n",
       "      <td>Buy</td>\n",
       "      <td>2.6162</td>\n",
       "      <td>7.5600</td>\n",
       "    </tr>\n",
       "    <tr>\n",
       "      <th>13</th>\n",
       "      <td>ibm</td>\n",
       "      <td>Hold or Sell</td>\n",
       "      <td>2.3239</td>\n",
       "      <td>Hold or Sell</td>\n",
       "      <td>3.7574</td>\n",
       "      <td>Buy</td>\n",
       "      <td>4.1206</td>\n",
       "      <td>6.7971</td>\n",
       "    </tr>\n",
       "    <tr>\n",
       "      <th>14</th>\n",
       "      <td>idex</td>\n",
       "      <td>Buy</td>\n",
       "      <td>0.3102</td>\n",
       "      <td>Buy</td>\n",
       "      <td>0.1301</td>\n",
       "      <td>Buy</td>\n",
       "      <td>0.2730</td>\n",
       "      <td>-0.2667</td>\n",
       "    </tr>\n",
       "    <tr>\n",
       "      <th>15</th>\n",
       "      <td>intc</td>\n",
       "      <td>Hold or Sell</td>\n",
       "      <td>5.0756</td>\n",
       "      <td>Hold or Sell</td>\n",
       "      <td>5.2274</td>\n",
       "      <td>Hold or Sell</td>\n",
       "      <td>5.5252</td>\n",
       "      <td>36.6070</td>\n",
       "    </tr>\n",
       "    <tr>\n",
       "      <th>16</th>\n",
       "      <td>iyw</td>\n",
       "      <td>Hold or Sell</td>\n",
       "      <td>3.5413</td>\n",
       "      <td>Buy</td>\n",
       "      <td>3.8388</td>\n",
       "      <td>Buy</td>\n",
       "      <td>3.8819</td>\n",
       "      <td>5.9939</td>\n",
       "    </tr>\n",
       "    <tr>\n",
       "      <th>17</th>\n",
       "      <td>ma</td>\n",
       "      <td>Buy</td>\n",
       "      <td>2.3521</td>\n",
       "      <td>Buy</td>\n",
       "      <td>2.9748</td>\n",
       "      <td>Buy</td>\n",
       "      <td>3.0207</td>\n",
       "      <td>12.9132</td>\n",
       "    </tr>\n",
       "    <tr>\n",
       "      <th>18</th>\n",
       "      <td>mdb</td>\n",
       "      <td>Hold or Sell</td>\n",
       "      <td>0.9201</td>\n",
       "      <td>Hold or Sell</td>\n",
       "      <td>0.9890</td>\n",
       "      <td>Hold or Sell</td>\n",
       "      <td>0.9661</td>\n",
       "      <td>4.8175</td>\n",
       "    </tr>\n",
       "    <tr>\n",
       "      <th>19</th>\n",
       "      <td>msft</td>\n",
       "      <td>Buy</td>\n",
       "      <td>6.9050</td>\n",
       "      <td>Buy</td>\n",
       "      <td>7.6578</td>\n",
       "      <td>Buy</td>\n",
       "      <td>7.3858</td>\n",
       "      <td>54.8426</td>\n",
       "    </tr>\n",
       "    <tr>\n",
       "      <th>20</th>\n",
       "      <td>mu</td>\n",
       "      <td>Hold or Sell</td>\n",
       "      <td>2.0933</td>\n",
       "      <td>Hold or Sell</td>\n",
       "      <td>2.7327</td>\n",
       "      <td>Hold or Sell</td>\n",
       "      <td>3.4572</td>\n",
       "      <td>16.7516</td>\n",
       "    </tr>\n",
       "    <tr>\n",
       "      <th>21</th>\n",
       "      <td>nio</td>\n",
       "      <td>Hold or Sell</td>\n",
       "      <td>2.3361</td>\n",
       "      <td>Hold or Sell</td>\n",
       "      <td>1.9770</td>\n",
       "      <td>Hold or Sell</td>\n",
       "      <td>2.7930</td>\n",
       "      <td>12.0251</td>\n",
       "    </tr>\n",
       "    <tr>\n",
       "      <th>22</th>\n",
       "      <td>nvda</td>\n",
       "      <td>Buy</td>\n",
       "      <td>10.3354</td>\n",
       "      <td>Buy</td>\n",
       "      <td>9.4117</td>\n",
       "      <td>Buy</td>\n",
       "      <td>16.0071</td>\n",
       "      <td>104.3327</td>\n",
       "    </tr>\n",
       "    <tr>\n",
       "      <th>23</th>\n",
       "      <td>pypl</td>\n",
       "      <td>Hold or Sell</td>\n",
       "      <td>2.7586</td>\n",
       "      <td>Buy</td>\n",
       "      <td>2.6001</td>\n",
       "      <td>Hold or Sell</td>\n",
       "      <td>2.5676</td>\n",
       "      <td>5.1216</td>\n",
       "    </tr>\n",
       "    <tr>\n",
       "      <th>24</th>\n",
       "      <td>orcl</td>\n",
       "      <td>Buy</td>\n",
       "      <td>3.0639</td>\n",
       "      <td>Buy</td>\n",
       "      <td>2.9728</td>\n",
       "      <td>Buy</td>\n",
       "      <td>3.0486</td>\n",
       "      <td>28.8594</td>\n",
       "    </tr>\n",
       "    <tr>\n",
       "      <th>25</th>\n",
       "      <td>qqq</td>\n",
       "      <td>Buy</td>\n",
       "      <td>2.6864</td>\n",
       "      <td>Buy</td>\n",
       "      <td>2.4839</td>\n",
       "      <td>Buy</td>\n",
       "      <td>2.7741</td>\n",
       "      <td>8.0906</td>\n",
       "    </tr>\n",
       "    <tr>\n",
       "      <th>26</th>\n",
       "      <td>tsla</td>\n",
       "      <td>Hold or Sell</td>\n",
       "      <td>2.2932</td>\n",
       "      <td>Hold or Sell</td>\n",
       "      <td>1.8279</td>\n",
       "      <td>Hold or Sell</td>\n",
       "      <td>1.9935</td>\n",
       "      <td>122.9648</td>\n",
       "    </tr>\n",
       "    <tr>\n",
       "      <th>27</th>\n",
       "      <td>v</td>\n",
       "      <td>Buy</td>\n",
       "      <td>2.9300</td>\n",
       "      <td>Buy</td>\n",
       "      <td>2.4686</td>\n",
       "      <td>Buy</td>\n",
       "      <td>2.6434</td>\n",
       "      <td>9.5006</td>\n",
       "    </tr>\n",
       "    <tr>\n",
       "      <th>28</th>\n",
       "      <td>vbiv</td>\n",
       "      <td>Hold or Sell</td>\n",
       "      <td>0.4812</td>\n",
       "      <td>Hold or Sell</td>\n",
       "      <td>0.9640</td>\n",
       "      <td>Hold or Sell</td>\n",
       "      <td>1.2706</td>\n",
       "      <td>-0.8470</td>\n",
       "    </tr>\n",
       "    <tr>\n",
       "      <th>29</th>\n",
       "      <td>vbr</td>\n",
       "      <td>Hold or Sell</td>\n",
       "      <td>1.3503</td>\n",
       "      <td>Hold or Sell</td>\n",
       "      <td>1.1216</td>\n",
       "      <td>Hold or Sell</td>\n",
       "      <td>1.4057</td>\n",
       "      <td>1.3385</td>\n",
       "    </tr>\n",
       "    <tr>\n",
       "      <th>30</th>\n",
       "      <td>viov</td>\n",
       "      <td>Hold or Sell</td>\n",
       "      <td>1.3133</td>\n",
       "      <td>Hold or Sell</td>\n",
       "      <td>1.1883</td>\n",
       "      <td>Hold or Sell</td>\n",
       "      <td>1.1226</td>\n",
       "      <td>1.0657</td>\n",
       "    </tr>\n",
       "    <tr>\n",
       "      <th>31</th>\n",
       "      <td>vgt</td>\n",
       "      <td>Buy</td>\n",
       "      <td>2.4741</td>\n",
       "      <td>Buy</td>\n",
       "      <td>3.4919</td>\n",
       "      <td>Buy</td>\n",
       "      <td>3.2184</td>\n",
       "      <td>5.3327</td>\n",
       "    </tr>\n",
       "    <tr>\n",
       "      <th>32</th>\n",
       "      <td>xlk</td>\n",
       "      <td>Buy</td>\n",
       "      <td>3.7038</td>\n",
       "      <td>Buy</td>\n",
       "      <td>4.5186</td>\n",
       "      <td>Buy</td>\n",
       "      <td>3.9639</td>\n",
       "      <td>5.6190</td>\n",
       "    </tr>\n",
       "  </tbody>\n",
       "</table>\n",
       "</div>"
      ],
      "text/plain": [
       "   stock    1_Day_Pred  1_Day_Model_Return    3_Day_Pred  3_Day_Model_Return  \\\n",
       "0      a           Buy              3.6182           Buy              3.9140   \n",
       "1   aapl  Hold or Sell              3.3264  Hold or Sell              3.8520   \n",
       "2    acy           Buy              0.4437           Buy              0.4900   \n",
       "3   adbe           Buy              7.4459           Buy              6.0924   \n",
       "4   amat  Hold or Sell              4.5969  Hold or Sell              6.2509   \n",
       "5    amd           Buy              7.9489           Buy              5.9531   \n",
       "6   amzn           Buy              3.9975           Buy              3.9915   \n",
       "7   baba           Buy              1.3499           Buy              1.2474   \n",
       "8    bac  Hold or Sell              2.5023  Hold or Sell              2.7557   \n",
       "9    crm           Buy              2.1161           Buy              1.9196   \n",
       "10  esgv  Hold or Sell              1.1925  Hold or Sell              1.1700   \n",
       "11  fslr           Buy              2.0208  Hold or Sell              2.5672   \n",
       "12  goog           Buy              2.2541           Buy              1.9624   \n",
       "13   ibm  Hold or Sell              2.3239  Hold or Sell              3.7574   \n",
       "14  idex           Buy              0.3102           Buy              0.1301   \n",
       "15  intc  Hold or Sell              5.0756  Hold or Sell              5.2274   \n",
       "16   iyw  Hold or Sell              3.5413           Buy              3.8388   \n",
       "17    ma           Buy              2.3521           Buy              2.9748   \n",
       "18   mdb  Hold or Sell              0.9201  Hold or Sell              0.9890   \n",
       "19  msft           Buy              6.9050           Buy              7.6578   \n",
       "20    mu  Hold or Sell              2.0933  Hold or Sell              2.7327   \n",
       "21   nio  Hold or Sell              2.3361  Hold or Sell              1.9770   \n",
       "22  nvda           Buy             10.3354           Buy              9.4117   \n",
       "23  pypl  Hold or Sell              2.7586           Buy              2.6001   \n",
       "24  orcl           Buy              3.0639           Buy              2.9728   \n",
       "25   qqq           Buy              2.6864           Buy              2.4839   \n",
       "26  tsla  Hold or Sell              2.2932  Hold or Sell              1.8279   \n",
       "27     v           Buy              2.9300           Buy              2.4686   \n",
       "28  vbiv  Hold or Sell              0.4812  Hold or Sell              0.9640   \n",
       "29   vbr  Hold or Sell              1.3503  Hold or Sell              1.1216   \n",
       "30  viov  Hold or Sell              1.3133  Hold or Sell              1.1883   \n",
       "31   vgt           Buy              2.4741           Buy              3.4919   \n",
       "32   xlk           Buy              3.7038           Buy              4.5186   \n",
       "\n",
       "      5_Day_Pred  5_Day_Model_Return  Actual_Returns  \n",
       "0            Buy              4.2969          6.6445  \n",
       "1   Hold or Sell              4.5246        346.0013  \n",
       "2            Buy              0.8383          1.3860  \n",
       "3            Buy              6.9905         98.3768  \n",
       "4   Hold or Sell              7.0940        166.7140  \n",
       "5            Buy              9.8220         15.7036  \n",
       "6            Buy              4.4504        125.2890  \n",
       "7            Buy              1.1800          2.0001  \n",
       "8   Hold or Sell              2.7092          6.2678  \n",
       "9            Buy              2.0537         12.3146  \n",
       "10  Hold or Sell              1.1554          0.3957  \n",
       "11  Hold or Sell              2.1916         -0.0277  \n",
       "12           Buy              2.6162          7.5600  \n",
       "13           Buy              4.1206          6.7971  \n",
       "14           Buy              0.2730         -0.2667  \n",
       "15  Hold or Sell              5.5252         36.6070  \n",
       "16           Buy              3.8819          5.9939  \n",
       "17           Buy              3.0207         12.9132  \n",
       "18  Hold or Sell              0.9661          4.8175  \n",
       "19           Buy              7.3858         54.8426  \n",
       "20  Hold or Sell              3.4572         16.7516  \n",
       "21  Hold or Sell              2.7930         12.0251  \n",
       "22           Buy             16.0071        104.3327  \n",
       "23  Hold or Sell              2.5676          5.1216  \n",
       "24           Buy              3.0486         28.8594  \n",
       "25           Buy              2.7741          8.0906  \n",
       "26  Hold or Sell              1.9935        122.9648  \n",
       "27           Buy              2.6434          9.5006  \n",
       "28  Hold or Sell              1.2706         -0.8470  \n",
       "29  Hold or Sell              1.4057          1.3385  \n",
       "30  Hold or Sell              1.1226          1.0657  \n",
       "31           Buy              3.2184          5.3327  \n",
       "32           Buy              3.9639          5.6190  "
      ]
     },
     "execution_count": 25,
     "metadata": {},
     "output_type": "execute_result"
    }
   ],
   "source": [
    "summary_df = a.pred_summary_df(start_dates, stocks = [x for x in start_dates], days_back = 2)\n",
    "summary_df"
   ]
  },
  {
   "cell_type": "code",
   "execution_count": 26,
   "metadata": {},
   "outputs": [
    {
     "data": {
      "text/plain": [
       "(2.4741, 2.7327, 2.793, 7.56)"
      ]
     },
     "execution_count": 26,
     "metadata": {},
     "output_type": "execute_result"
    }
   ],
   "source": [
    "summary_df['1_Day_Model_Return'].median(), summary_df['3_Day_Model_Return'].median(), summary_df['5_Day_Model_Return'].median(), summary_df['Actual_Returns'].median()"
   ]
  },
  {
   "cell_type": "code",
   "execution_count": null,
   "metadata": {},
   "outputs": [],
   "source": []
  },
  {
   "cell_type": "code",
   "execution_count": null,
   "metadata": {},
   "outputs": [],
   "source": []
  },
  {
   "cell_type": "code",
   "execution_count": null,
   "metadata": {},
   "outputs": [],
   "source": []
  }
 ],
 "metadata": {
  "kernelspec": {
   "display_name": "Python 3",
   "language": "python",
   "name": "python3"
  },
  "language_info": {
   "codemirror_mode": {
    "name": "ipython",
    "version": 3
   },
   "file_extension": ".py",
   "mimetype": "text/x-python",
   "name": "python",
   "nbconvert_exporter": "python",
   "pygments_lexer": "ipython3",
   "version": "3.8.5"
  }
 },
 "nbformat": 4,
 "nbformat_minor": 4
}
