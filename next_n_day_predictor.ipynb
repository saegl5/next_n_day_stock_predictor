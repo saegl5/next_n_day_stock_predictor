{
 "cells": [
  {
   "cell_type": "code",
   "execution_count": 1,
   "metadata": {
    "scrolled": true
   },
   "outputs": [],
   "source": [
    "from src import attributes as a\n",
    "%load_ext autoreload\n",
    "%autoreload 2"
   ]
  },
  {
   "cell_type": "code",
   "execution_count": 2,
   "metadata": {},
   "outputs": [],
   "source": [
    "# Global Variables\n",
    "stock_name = 'msft' # ticker symbol\n",
    "train = 0 # 1 for train, 0 for pass\n",
    "days_ahead = 1 # for predicting 1, 3, or 5 days ahead\n",
    "days_back = -1 # -1 for current data point, -2 for two days ago, etc...\n",
    "cv = 5 # number of cross validation folds\n",
    "model_name = 'Random Forest Classifier' # for display on charts, not a tuning parameter"
   ]
  },
  {
   "cell_type": "code",
   "execution_count": 3,
   "metadata": {},
   "outputs": [],
   "source": [
    "# Extract, Transform, Load, and Train Test Split\n",
    "# Dictionary of IPO Dates\n",
    "start_dates = {'a': '11/15/1999' # Updated 1/10/21 1D, 3D, 5D ahead\n",
    "               , 'aapl':'12/12/1980' # Updated 1/10/21 1D, 3D, 5D ahead\n",
    "               , 'acy': '01/18/1998' # Updated 1/10/21 1D, 3D, 5D ahead\n",
    "               , 'adbe': '08/11/1986' # Updated 1/10/21 1D, 3D, 5D ahead\n",
    "               , 'amat': '03/16/1980' # Updated 1/10/21 1D, 3D, 5D ahead\n",
    "               , 'amd': '03/17/1980' # Updated 1/10/21 1D, 3D, 5D ahead\n",
    "               , 'amzn': '05/12/1997' # Updated 1/10/21 1D, 3D, 5D ahead\n",
    "               , 'baba': '09/15/2014' # Updated 1/10/21 1D, 3D, 5D ahead\n",
    "               , 'bac': '02/19/1973' # Updated 1/10/21 1D, 3D, 5D ahead\n",
    "               , 'crm': '06/23/2004' # Updated 1/10/21 1D, 3D, 5D ahead\n",
    "               , 'esgv': '09/16/2018' # Updated 1/10/21 1D, 3D, 5D ahead\n",
    "               , 'fslr': '11/12/2006' # Updated 1/10/21 1D, 3D, 5D ahead \n",
    "               , 'goog': '08/16/2004' # Updated 1/10/21 1D, 3D, 5D ahead\n",
    "               , 'ibm': '01/02/1962' # Updated 1/10/21 1D, 3D, 5D ahead\n",
    "               , 'idex': '05/23/2007' # Updated 1/10/21 1D, 3D, 5D ahead\n",
    "               , 'intc': '03/16/1980' # Updated 1/10/21 1D, 3D, 5D ahead\n",
    "               , 'iyw': '05/15/2000' # Updated 1/10/21 1D, 3D, 5D ahead\n",
    "               , 'ma': '05/21/2006' # Updated 1/10/21 1D, 3D, 5D ahead\n",
    "               , 'mdb': '10/15/2017' # Updated 1/10/21 1D, 3D, 5D ahead\n",
    "               , 'msft': '03/10/1986' # Updated 1/10/21 1D, 3D, 5D ahead\n",
    "               , 'mu': '05/28/1984' # Updated 1/10/21 1D, 3D, 5D ahead\n",
    "               , 'nga': '10/08/2020' # Updated 1/14/21 1D, 3D, 5D ahead\n",
    "               , 'nio': '09/10/2018' # Updated 1/10/21 1D, 3D, 5D ahead\n",
    "               , 'nvda': '01/22/1999' # Updated 1/10/21 1D, 3D, 5D ahead\n",
    "               , 'pypl': '07/05/2015' # Updated 1/10/21 1D, 3D, 5D ahead\n",
    "               , 'orcl': '03/10/1986' # Updated 1/10/21 1D, 3D, 5D ahead\n",
    "               , 'qqq': '03/08/1999' # Updated 1/10/21 1D, 3D, 5D ahead\n",
    "               , 'tsla': '06/29/2010' # Updated 1/10/21 1D, 3D, 5D ahead\n",
    "               , 'v': '03/16/2008' # Updated 1/10/21 1D, 3D, 5D ahead\n",
    "               , 'vbiv': '09/04/2002' # Updated 1/10/21 1D, 3D, 5D ahead\n",
    "               , 'vbr': '01/26/2004' # Updated 1/10/21 1D, 3D, 5D ahead\n",
    "               , 'viov': '09/06/2010' # Updated 1/10/21 1D, 3D, 5D ahead\n",
    "               , 'vgt': '01/26/2004' # Updated 1/10/21 1D, 3D, 5D ahead\n",
    "               , 'xlk': '12/21/1998' # Updated 1/10/21 1D, 3D, 5D ahead\n",
    "              }"
   ]
  },
  {
   "cell_type": "code",
   "execution_count": null,
   "metadata": {},
   "outputs": [],
   "source": []
  },
  {
   "cell_type": "code",
   "execution_count": null,
   "metadata": {},
   "outputs": [],
   "source": []
  },
  {
   "cell_type": "code",
   "execution_count": null,
   "metadata": {},
   "outputs": [],
   "source": []
  },
  {
   "cell_type": "code",
   "execution_count": 4,
   "metadata": {},
   "outputs": [],
   "source": [
    "# X_train, X_test, y_train, y_test, stock_df = a.data(stock_name, start_dates[stock_name], days_ahead)\n",
    "# stock_df.tail(10)"
   ]
  },
  {
   "cell_type": "code",
   "execution_count": 5,
   "metadata": {
    "scrolled": false
   },
   "outputs": [],
   "source": [
    "# GridSerach to find best hyperparameters to prevent overfitting, can be commented out once trained\n",
    "# if train == 1:\n",
    "#     a.rfc_GridSearch(X_train, y_train, stock_name, days_ahead, cv)\n",
    "# elif train == 0:\n",
    "#     pass"
   ]
  },
  {
   "cell_type": "code",
   "execution_count": 6,
   "metadata": {},
   "outputs": [],
   "source": [
    "# Load RandomForextClassifier Model\n",
    "# rfc_model, y_pred, y_probs = a.rfc(X_train, X_test, y_train, stock_name, days_ahead)"
   ]
  },
  {
   "cell_type": "code",
   "execution_count": 7,
   "metadata": {
    "scrolled": false
   },
   "outputs": [],
   "source": [
    "# ROC Curve\n",
    "# a.roc_plot(y_test, y_probs, stock_name, model_name)"
   ]
  },
  {
   "cell_type": "code",
   "execution_count": 8,
   "metadata": {
    "scrolled": false
   },
   "outputs": [],
   "source": [
    "# Precision Recall Curve\n",
    "# a.prec_recall(y_test, y_probs, stock_name, model_name)"
   ]
  },
  {
   "cell_type": "code",
   "execution_count": 9,
   "metadata": {
    "scrolled": false
   },
   "outputs": [],
   "source": [
    "# Confusion Matrix\n",
    "# a.confusion_matrix(rfc_model, X_test, y_test, stock_name)"
   ]
  },
  {
   "cell_type": "code",
   "execution_count": 10,
   "metadata": {},
   "outputs": [],
   "source": [
    "# Cross Validation\n",
    "# a.cross_validation(rfc_model\n",
    "#                    , stock_df[['oc', 'hl', '5stdev_adj', '5sma_adj']]\n",
    "#                    , stock_df['direction']\n",
    "#                    , cv = 5\n",
    "#                   )"
   ]
  },
  {
   "cell_type": "markdown",
   "metadata": {},
   "source": [
    "### Prediction..."
   ]
  },
  {
   "cell_type": "code",
   "execution_count": 11,
   "metadata": {
    "scrolled": true
   },
   "outputs": [],
   "source": [
    "# Prediction, use last day of data\n",
    "# stock_df.iloc[-1]"
   ]
  },
  {
   "cell_type": "code",
   "execution_count": 12,
   "metadata": {},
   "outputs": [],
   "source": [
    "# import numpy as np\n",
    "# last = stock_df[['oc', 'hl', '5stdev_adj', '5sma_adj']].iloc[-days_back]\n",
    "# last"
   ]
  },
  {
   "cell_type": "code",
   "execution_count": 13,
   "metadata": {},
   "outputs": [],
   "source": [
    "# stock_df['adj'].describe()"
   ]
  },
  {
   "cell_type": "code",
   "execution_count": 14,
   "metadata": {
    "scrolled": true
   },
   "outputs": [],
   "source": [
    "# if rfc_model.predict(np.array(last).reshape(1, -1))[0] == 1:\n",
    "#     print(f'Buy {stock_name} {days_ahead} day(s) ahead')\n",
    "# else:\n",
    "#     print(f'Sell or hold {stock_name} {days_ahead} day(s) ahead')"
   ]
  },
  {
   "cell_type": "markdown",
   "metadata": {},
   "source": [
    "### Strategy Returns..."
   ]
  },
  {
   "cell_type": "code",
   "execution_count": 15,
   "metadata": {},
   "outputs": [],
   "source": [
    "# returns on strategy column\n",
    "# stock_df['prediction'] = rfc_model.predict(stock_df[['oc', 'hl', '5stdev_adj', '5sma_adj']])\n",
    "# stock_df['returns'] = stock_df['adj'].shift(-1, fill_value = stock_df['adj'].median()) * stock_df['prediction']"
   ]
  },
  {
   "cell_type": "code",
   "execution_count": 16,
   "metadata": {},
   "outputs": [],
   "source": [
    "# stock_df.tail(5)"
   ]
  },
  {
   "cell_type": "code",
   "execution_count": 17,
   "metadata": {},
   "outputs": [],
   "source": [
    "# Don't trade every day!\n",
    "# import matplotlib.pyplot as plt\n",
    "# test_length = len(y_test)\n",
    "# (stock_df['returns'][-test_length:] + 1).cumprod().plot()\n",
    "# plt.title(f'{stock_name} Expected Returns %');"
   ]
  },
  {
   "cell_type": "code",
   "execution_count": 18,
   "metadata": {},
   "outputs": [],
   "source": [
    "# Model returns if bought on predictions of 1\n",
    "# returns_on_ones = []\n",
    "# for idx in range(-test_length, 0):\n",
    "#     if stock_df['prediction'][idx] == 1:\n",
    "#         returns_on_ones.append(1 + stock_df['returns'][idx])\n",
    "\n",
    "# returns = 1\n",
    "# for x in returns_on_ones:\n",
    "#     returns *= x\n",
    "# returns"
   ]
  },
  {
   "cell_type": "code",
   "execution_count": 19,
   "metadata": {},
   "outputs": [],
   "source": [
    "# multiple times original investment, not bad but..."
   ]
  },
  {
   "cell_type": "code",
   "execution_count": 20,
   "metadata": {},
   "outputs": [],
   "source": [
    "# If purchased in 2012 and left it until now\n",
    "# test_idx = int(len(stock_df)*0.75)\n",
    "# (stock_df['Close'][-1] - stock_df['Close'][-test_idx]) / stock_df['Close'][-test_idx]"
   ]
  },
  {
   "cell_type": "code",
   "execution_count": 21,
   "metadata": {},
   "outputs": [],
   "source": [
    "# Buy and hold strategy beats RandomForestClassifier in this study\n",
    "\n",
    "# Special thanks to Shagufta Tahsildar at https://blog.quantinsti.com/random-forest-algorithm-in-python/"
   ]
  },
  {
   "cell_type": "code",
   "execution_count": null,
   "metadata": {},
   "outputs": [],
   "source": []
  },
  {
   "cell_type": "code",
   "execution_count": null,
   "metadata": {},
   "outputs": [],
   "source": []
  },
  {
   "cell_type": "code",
   "execution_count": null,
   "metadata": {},
   "outputs": [],
   "source": []
  },
  {
   "cell_type": "markdown",
   "metadata": {},
   "source": [
    "### Training"
   ]
  },
  {
   "cell_type": "code",
   "execution_count": 6,
   "metadata": {},
   "outputs": [],
   "source": [
    "# Train all...this takes a while, 12+ hours!\n",
    "# stocks = [x for x in start_dates]\n",
    "# days_ahead = [1, 3, 5]\n",
    "# cv = 5\n",
    "# for stock in stocks:\n",
    "#     for days in days_ahead:\n",
    "#         X_train, X_test, y_train, y_test, stock_df = a.data(stock, start_dates[stock], days)\n",
    "#         a.rfc_GridSearch(X_train, y_train, stock, days, cv)\n",
    "# len(stocks)\n",
    "#\n",
    "#\n",
    "# Train desired stocks...takes less time\n",
    "# stocks = ['nga']\n",
    "# days_ahead = [1, 3, 5]\n",
    "# cv = 5\n",
    "# for stock in stocks:\n",
    "#     for days in days_ahead:\n",
    "#         X_train, X_test, y_train, y_test, stock_df = a.data(stock, start_dates[stock], days)\n",
    "#         a.rfc_GridSearch(X_train, y_train, stock, days, cv)"
   ]
  },
  {
   "cell_type": "markdown",
   "metadata": {},
   "source": [
    "### Display All Results"
   ]
  },
  {
   "cell_type": "code",
   "execution_count": 11,
   "metadata": {
    "scrolled": false
   },
   "outputs": [
    {
     "name": "stdout",
     "output_type": "stream",
     "text": [
      "Sell or hold nga 1 day(s) ahead\n",
      "Model Returns (x 100 for %): 1.803\n",
      "Stock Returns (x 100 for %): 2.2458\n"
     ]
    },
    {
     "data": {
      "image/png": "[encoded data removed]",
      "text/plain": [
       "<Figure size 432x288 with 1 Axes>"
      ]
     },
     "metadata": {},
     "output_type": "display_data"
    },
    {
     "data": {
      "image/png": "[encoded data removed]",
      "text/plain": [
       "<Figure size 648x504 with 1 Axes>"
      ]
     },
     "metadata": {},
     "output_type": "display_data"
    },
    {
     "data": {
      "image/png": "[encoded data removed]",
      "text/plain": [
       "<Figure size 648x504 with 1 Axes>"
      ]
     },
     "metadata": {},
     "output_type": "display_data"
    },
    {
     "data": {
      "image/png": "[encoded data removed]",
      "text/plain": [
       "<Figure size 684x612 with 2 Axes>"
      ]
     },
     "metadata": {},
     "output_type": "display_data"
    }
   ],
   "source": [
    "stock_name = 'nga'\n",
    "a.all_func(stock_name\n",
    "           , start_dates[stock_name]\n",
    "           , days_ahead = 1\n",
    "           , model_name = model_name\n",
    "           , days_back = 1\n",
    "          )"
   ]
  },
  {
   "cell_type": "code",
   "execution_count": null,
   "metadata": {},
   "outputs": [],
   "source": []
  },
  {
   "cell_type": "code",
   "execution_count": null,
   "metadata": {},
   "outputs": [],
   "source": []
  },
  {
   "cell_type": "code",
   "execution_count": null,
   "metadata": {},
   "outputs": [],
   "source": []
  },
  {
   "cell_type": "markdown",
   "metadata": {},
   "source": [
    "### Data Frame of Predictions 1 3 5 Days"
   ]
  },
  {
   "cell_type": "code",
   "execution_count": 4,
   "metadata": {},
   "outputs": [
    {
     "name": "stdout",
     "output_type": "stream",
     "text": [
      "Today's date: 2021-01-15\n"
     ]
    }
   ],
   "source": [
    "from datetime import date\n",
    "\n",
    "today = date.today()\n",
    "print(\"Today's date:\", today)"
   ]
  },
  {
   "cell_type": "code",
   "execution_count": 5,
   "metadata": {
    "scrolled": false
   },
   "outputs": [
    {
     "data": {
      "text/html": [
       "<div>\n",
       "<style scoped>\n",
       "    .dataframe tbody tr th:only-of-type {\n",
       "        vertical-align: middle;\n",
       "    }\n",
       "\n",
       "    .dataframe tbody tr th {\n",
       "        vertical-align: top;\n",
       "    }\n",
       "\n",
       "    .dataframe thead th {\n",
       "        text-align: right;\n",
       "    }\n",
       "</style>\n",
       "<table border=\"1\" class=\"dataframe\">\n",
       "  <thead>\n",
       "    <tr style=\"text-align: right;\">\n",
       "      <th></th>\n",
       "      <th>stock</th>\n",
       "      <th>1_Day_Pred</th>\n",
       "      <th>1_Day_Model_Return</th>\n",
       "      <th>3_Day_Pred</th>\n",
       "      <th>3_Day_Model_Return</th>\n",
       "      <th>5_Day_Pred</th>\n",
       "      <th>5_Day_Model_Return</th>\n",
       "      <th>Actual_Returns</th>\n",
       "    </tr>\n",
       "  </thead>\n",
       "  <tbody>\n",
       "    <tr>\n",
       "      <th>0</th>\n",
       "      <td>a</td>\n",
       "      <td>Buy</td>\n",
       "      <td>3.5745</td>\n",
       "      <td>Buy</td>\n",
       "      <td>3.9234</td>\n",
       "      <td>Buy</td>\n",
       "      <td>4.3672</td>\n",
       "      <td>6.5748</td>\n",
       "    </tr>\n",
       "    <tr>\n",
       "      <th>1</th>\n",
       "      <td>aapl</td>\n",
       "      <td>Buy</td>\n",
       "      <td>3.1134</td>\n",
       "      <td>Buy</td>\n",
       "      <td>3.8730</td>\n",
       "      <td>Buy</td>\n",
       "      <td>4.5009</td>\n",
       "      <td>340.7261</td>\n",
       "    </tr>\n",
       "    <tr>\n",
       "      <th>2</th>\n",
       "      <td>acy</td>\n",
       "      <td>Hold or Sell</td>\n",
       "      <td>0.4556</td>\n",
       "      <td>Hold or Sell</td>\n",
       "      <td>0.3213</td>\n",
       "      <td>Hold or Sell</td>\n",
       "      <td>1.0085</td>\n",
       "      <td>1.4501</td>\n",
       "    </tr>\n",
       "    <tr>\n",
       "      <th>3</th>\n",
       "      <td>adbe</td>\n",
       "      <td>Buy</td>\n",
       "      <td>7.3224</td>\n",
       "      <td>Buy</td>\n",
       "      <td>5.4578</td>\n",
       "      <td>Buy</td>\n",
       "      <td>6.9913</td>\n",
       "      <td>96.5305</td>\n",
       "    </tr>\n",
       "    <tr>\n",
       "      <th>4</th>\n",
       "      <td>amat</td>\n",
       "      <td>Hold or Sell</td>\n",
       "      <td>6.8338</td>\n",
       "      <td>Hold or Sell</td>\n",
       "      <td>6.6201</td>\n",
       "      <td>Hold or Sell</td>\n",
       "      <td>4.7607</td>\n",
       "      <td>179.5652</td>\n",
       "    </tr>\n",
       "    <tr>\n",
       "      <th>5</th>\n",
       "      <td>amd</td>\n",
       "      <td>Buy</td>\n",
       "      <td>7.4058</td>\n",
       "      <td>Buy</td>\n",
       "      <td>6.4114</td>\n",
       "      <td>Buy</td>\n",
       "      <td>8.4568</td>\n",
       "      <td>15.5073</td>\n",
       "    </tr>\n",
       "    <tr>\n",
       "      <th>6</th>\n",
       "      <td>amzn</td>\n",
       "      <td>Buy</td>\n",
       "      <td>3.3703</td>\n",
       "      <td>Buy</td>\n",
       "      <td>3.4971</td>\n",
       "      <td>Buy</td>\n",
       "      <td>4.3729</td>\n",
       "      <td>123.5012</td>\n",
       "    </tr>\n",
       "    <tr>\n",
       "      <th>7</th>\n",
       "      <td>baba</td>\n",
       "      <td>Buy</td>\n",
       "      <td>1.3254</td>\n",
       "      <td>Hold or Sell</td>\n",
       "      <td>1.3145</td>\n",
       "      <td>Hold or Sell</td>\n",
       "      <td>1.2208</td>\n",
       "      <td>2.0910</td>\n",
       "    </tr>\n",
       "    <tr>\n",
       "      <th>8</th>\n",
       "      <td>bac</td>\n",
       "      <td>Hold or Sell</td>\n",
       "      <td>3.2321</td>\n",
       "      <td>Hold or Sell</td>\n",
       "      <td>3.4587</td>\n",
       "      <td>Hold or Sell</td>\n",
       "      <td>5.2400</td>\n",
       "      <td>6.3741</td>\n",
       "    </tr>\n",
       "    <tr>\n",
       "      <th>9</th>\n",
       "      <td>crm</td>\n",
       "      <td>Buy</td>\n",
       "      <td>2.1774</td>\n",
       "      <td>Buy</td>\n",
       "      <td>1.9694</td>\n",
       "      <td>Buy</td>\n",
       "      <td>2.2369</td>\n",
       "      <td>12.1704</td>\n",
       "    </tr>\n",
       "    <tr>\n",
       "      <th>10</th>\n",
       "      <td>esgv</td>\n",
       "      <td>Buy</td>\n",
       "      <td>1.1704</td>\n",
       "      <td>Buy</td>\n",
       "      <td>1.1799</td>\n",
       "      <td>Buy</td>\n",
       "      <td>1.1909</td>\n",
       "      <td>0.3902</td>\n",
       "    </tr>\n",
       "    <tr>\n",
       "      <th>11</th>\n",
       "      <td>fslr</td>\n",
       "      <td>Hold or Sell</td>\n",
       "      <td>2.1063</td>\n",
       "      <td>Hold or Sell</td>\n",
       "      <td>1.6566</td>\n",
       "      <td>Hold or Sell</td>\n",
       "      <td>2.1876</td>\n",
       "      <td>-0.0115</td>\n",
       "    </tr>\n",
       "    <tr>\n",
       "      <th>12</th>\n",
       "      <td>goog</td>\n",
       "      <td>Buy</td>\n",
       "      <td>2.2679</td>\n",
       "      <td>Buy</td>\n",
       "      <td>1.8417</td>\n",
       "      <td>Buy</td>\n",
       "      <td>2.5708</td>\n",
       "      <td>7.4849</td>\n",
       "    </tr>\n",
       "    <tr>\n",
       "      <th>13</th>\n",
       "      <td>ibm</td>\n",
       "      <td>Hold or Sell</td>\n",
       "      <td>2.3614</td>\n",
       "      <td>Hold or Sell</td>\n",
       "      <td>4.0836</td>\n",
       "      <td>Hold or Sell</td>\n",
       "      <td>3.9954</td>\n",
       "      <td>6.9062</td>\n",
       "    </tr>\n",
       "    <tr>\n",
       "      <th>14</th>\n",
       "      <td>idex</td>\n",
       "      <td>Hold or Sell</td>\n",
       "      <td>0.3376</td>\n",
       "      <td>Hold or Sell</td>\n",
       "      <td>0.1416</td>\n",
       "      <td>Hold or Sell</td>\n",
       "      <td>0.3003</td>\n",
       "      <td>-0.1200</td>\n",
       "    </tr>\n",
       "    <tr>\n",
       "      <th>15</th>\n",
       "      <td>intc</td>\n",
       "      <td>Hold or Sell</td>\n",
       "      <td>5.3749</td>\n",
       "      <td>Hold or Sell</td>\n",
       "      <td>6.1084</td>\n",
       "      <td>Hold or Sell</td>\n",
       "      <td>4.8902</td>\n",
       "      <td>37.9923</td>\n",
       "    </tr>\n",
       "    <tr>\n",
       "      <th>16</th>\n",
       "      <td>iyw</td>\n",
       "      <td>Buy</td>\n",
       "      <td>3.6091</td>\n",
       "      <td>Buy</td>\n",
       "      <td>4.1364</td>\n",
       "      <td>Buy</td>\n",
       "      <td>3.7635</td>\n",
       "      <td>5.9562</td>\n",
       "    </tr>\n",
       "    <tr>\n",
       "      <th>17</th>\n",
       "      <td>ma</td>\n",
       "      <td>Buy</td>\n",
       "      <td>2.1828</td>\n",
       "      <td>Buy</td>\n",
       "      <td>2.8511</td>\n",
       "      <td>Buy</td>\n",
       "      <td>2.8455</td>\n",
       "      <td>12.0824</td>\n",
       "    </tr>\n",
       "    <tr>\n",
       "      <th>18</th>\n",
       "      <td>mdb</td>\n",
       "      <td>Buy</td>\n",
       "      <td>0.8719</td>\n",
       "      <td>Buy</td>\n",
       "      <td>0.9777</td>\n",
       "      <td>Buy</td>\n",
       "      <td>0.9418</td>\n",
       "      <td>4.6287</td>\n",
       "    </tr>\n",
       "    <tr>\n",
       "      <th>19</th>\n",
       "      <td>msft</td>\n",
       "      <td>Buy</td>\n",
       "      <td>6.4569</td>\n",
       "      <td>Buy</td>\n",
       "      <td>7.5128</td>\n",
       "      <td>Buy</td>\n",
       "      <td>7.4952</td>\n",
       "      <td>53.9729</td>\n",
       "    </tr>\n",
       "    <tr>\n",
       "      <th>20</th>\n",
       "      <td>mu</td>\n",
       "      <td>Hold or Sell</td>\n",
       "      <td>2.1661</td>\n",
       "      <td>Hold or Sell</td>\n",
       "      <td>2.7327</td>\n",
       "      <td>Hold or Sell</td>\n",
       "      <td>3.5455</td>\n",
       "      <td>17.0667</td>\n",
       "    </tr>\n",
       "    <tr>\n",
       "      <th>21</th>\n",
       "      <td>nga</td>\n",
       "      <td>Hold or Sell</td>\n",
       "      <td>1.8460</td>\n",
       "      <td>Hold or Sell</td>\n",
       "      <td>1.3058</td>\n",
       "      <td>Buy</td>\n",
       "      <td>1.4865</td>\n",
       "      <td>2.2458</td>\n",
       "    </tr>\n",
       "    <tr>\n",
       "      <th>22</th>\n",
       "      <td>nio</td>\n",
       "      <td>Buy</td>\n",
       "      <td>2.6809</td>\n",
       "      <td>Hold or Sell</td>\n",
       "      <td>1.6621</td>\n",
       "      <td>Buy</td>\n",
       "      <td>2.1400</td>\n",
       "      <td>11.6025</td>\n",
       "    </tr>\n",
       "    <tr>\n",
       "      <th>23</th>\n",
       "      <td>nvda</td>\n",
       "      <td>Buy</td>\n",
       "      <td>13.0197</td>\n",
       "      <td>Buy</td>\n",
       "      <td>9.7652</td>\n",
       "      <td>Buy</td>\n",
       "      <td>16.5447</td>\n",
       "      <td>101.7257</td>\n",
       "    </tr>\n",
       "    <tr>\n",
       "      <th>24</th>\n",
       "      <td>pypl</td>\n",
       "      <td>Buy</td>\n",
       "      <td>2.7625</td>\n",
       "      <td>Buy</td>\n",
       "      <td>2.6009</td>\n",
       "      <td>Buy</td>\n",
       "      <td>2.8847</td>\n",
       "      <td>5.0124</td>\n",
       "    </tr>\n",
       "    <tr>\n",
       "      <th>25</th>\n",
       "      <td>orcl</td>\n",
       "      <td>Buy</td>\n",
       "      <td>2.9978</td>\n",
       "      <td>Buy</td>\n",
       "      <td>2.9481</td>\n",
       "      <td>Buy</td>\n",
       "      <td>2.7914</td>\n",
       "      <td>28.6119</td>\n",
       "    </tr>\n",
       "    <tr>\n",
       "      <th>26</th>\n",
       "      <td>qqq</td>\n",
       "      <td>Buy</td>\n",
       "      <td>2.7894</td>\n",
       "      <td>Buy</td>\n",
       "      <td>3.4701</td>\n",
       "      <td>Buy</td>\n",
       "      <td>2.8708</td>\n",
       "      <td>8.0382</td>\n",
       "    </tr>\n",
       "    <tr>\n",
       "      <th>27</th>\n",
       "      <td>tsla</td>\n",
       "      <td>Hold or Sell</td>\n",
       "      <td>1.9927</td>\n",
       "      <td>Hold or Sell</td>\n",
       "      <td>2.5509</td>\n",
       "      <td>Hold or Sell</td>\n",
       "      <td>2.1534</td>\n",
       "      <td>121.8912</td>\n",
       "    </tr>\n",
       "    <tr>\n",
       "      <th>28</th>\n",
       "      <td>v</td>\n",
       "      <td>Buy</td>\n",
       "      <td>2.8103</td>\n",
       "      <td>Buy</td>\n",
       "      <td>2.5216</td>\n",
       "      <td>Buy</td>\n",
       "      <td>2.3279</td>\n",
       "      <td>9.5259</td>\n",
       "    </tr>\n",
       "    <tr>\n",
       "      <th>29</th>\n",
       "      <td>vbiv</td>\n",
       "      <td>Hold or Sell</td>\n",
       "      <td>0.4789</td>\n",
       "      <td>Hold or Sell</td>\n",
       "      <td>0.9055</td>\n",
       "      <td>Hold or Sell</td>\n",
       "      <td>1.0033</td>\n",
       "      <td>-0.8390</td>\n",
       "    </tr>\n",
       "    <tr>\n",
       "      <th>30</th>\n",
       "      <td>vbr</td>\n",
       "      <td>Hold or Sell</td>\n",
       "      <td>1.3679</td>\n",
       "      <td>Hold or Sell</td>\n",
       "      <td>1.1362</td>\n",
       "      <td>Hold or Sell</td>\n",
       "      <td>1.3102</td>\n",
       "      <td>1.3810</td>\n",
       "    </tr>\n",
       "    <tr>\n",
       "      <th>31</th>\n",
       "      <td>viov</td>\n",
       "      <td>Hold or Sell</td>\n",
       "      <td>1.2599</td>\n",
       "      <td>Hold or Sell</td>\n",
       "      <td>1.1823</td>\n",
       "      <td>Hold or Sell</td>\n",
       "      <td>1.2090</td>\n",
       "      <td>1.1004</td>\n",
       "    </tr>\n",
       "    <tr>\n",
       "      <th>32</th>\n",
       "      <td>vgt</td>\n",
       "      <td>Buy</td>\n",
       "      <td>2.8769</td>\n",
       "      <td>Buy</td>\n",
       "      <td>3.7165</td>\n",
       "      <td>Buy</td>\n",
       "      <td>3.1837</td>\n",
       "      <td>5.3119</td>\n",
       "    </tr>\n",
       "    <tr>\n",
       "      <th>33</th>\n",
       "      <td>xlk</td>\n",
       "      <td>Buy</td>\n",
       "      <td>3.7029</td>\n",
       "      <td>Buy</td>\n",
       "      <td>5.0554</td>\n",
       "      <td>Buy</td>\n",
       "      <td>3.8919</td>\n",
       "      <td>5.5583</td>\n",
       "    </tr>\n",
       "  </tbody>\n",
       "</table>\n",
       "</div>"
      ],
      "text/plain": [
       "   stock    1_Day_Pred  1_Day_Model_Return    3_Day_Pred  3_Day_Model_Return  \\\n",
       "0      a           Buy              3.5745           Buy              3.9234   \n",
       "1   aapl           Buy              3.1134           Buy              3.8730   \n",
       "2    acy  Hold or Sell              0.4556  Hold or Sell              0.3213   \n",
       "3   adbe           Buy              7.3224           Buy              5.4578   \n",
       "4   amat  Hold or Sell              6.8338  Hold or Sell              6.6201   \n",
       "5    amd           Buy              7.4058           Buy              6.4114   \n",
       "6   amzn           Buy              3.3703           Buy              3.4971   \n",
       "7   baba           Buy              1.3254  Hold or Sell              1.3145   \n",
       "8    bac  Hold or Sell              3.2321  Hold or Sell              3.4587   \n",
       "9    crm           Buy              2.1774           Buy              1.9694   \n",
       "10  esgv           Buy              1.1704           Buy              1.1799   \n",
       "11  fslr  Hold or Sell              2.1063  Hold or Sell              1.6566   \n",
       "12  goog           Buy              2.2679           Buy              1.8417   \n",
       "13   ibm  Hold or Sell              2.3614  Hold or Sell              4.0836   \n",
       "14  idex  Hold or Sell              0.3376  Hold or Sell              0.1416   \n",
       "15  intc  Hold or Sell              5.3749  Hold or Sell              6.1084   \n",
       "16   iyw           Buy              3.6091           Buy              4.1364   \n",
       "17    ma           Buy              2.1828           Buy              2.8511   \n",
       "18   mdb           Buy              0.8719           Buy              0.9777   \n",
       "19  msft           Buy              6.4569           Buy              7.5128   \n",
       "20    mu  Hold or Sell              2.1661  Hold or Sell              2.7327   \n",
       "21   nga  Hold or Sell              1.8460  Hold or Sell              1.3058   \n",
       "22   nio           Buy              2.6809  Hold or Sell              1.6621   \n",
       "23  nvda           Buy             13.0197           Buy              9.7652   \n",
       "24  pypl           Buy              2.7625           Buy              2.6009   \n",
       "25  orcl           Buy              2.9978           Buy              2.9481   \n",
       "26   qqq           Buy              2.7894           Buy              3.4701   \n",
       "27  tsla  Hold or Sell              1.9927  Hold or Sell              2.5509   \n",
       "28     v           Buy              2.8103           Buy              2.5216   \n",
       "29  vbiv  Hold or Sell              0.4789  Hold or Sell              0.9055   \n",
       "30   vbr  Hold or Sell              1.3679  Hold or Sell              1.1362   \n",
       "31  viov  Hold or Sell              1.2599  Hold or Sell              1.1823   \n",
       "32   vgt           Buy              2.8769           Buy              3.7165   \n",
       "33   xlk           Buy              3.7029           Buy              5.0554   \n",
       "\n",
       "      5_Day_Pred  5_Day_Model_Return  Actual_Returns  \n",
       "0            Buy              4.3672          6.5748  \n",
       "1            Buy              4.5009        340.7261  \n",
       "2   Hold or Sell              1.0085          1.4501  \n",
       "3            Buy              6.9913         96.5305  \n",
       "4   Hold or Sell              4.7607        179.5652  \n",
       "5            Buy              8.4568         15.5073  \n",
       "6            Buy              4.3729        123.5012  \n",
       "7   Hold or Sell              1.2208          2.0910  \n",
       "8   Hold or Sell              5.2400          6.3741  \n",
       "9            Buy              2.2369         12.1704  \n",
       "10           Buy              1.1909          0.3902  \n",
       "11  Hold or Sell              2.1876         -0.0115  \n",
       "12           Buy              2.5708          7.4849  \n",
       "13  Hold or Sell              3.9954          6.9062  \n",
       "14  Hold or Sell              0.3003         -0.1200  \n",
       "15  Hold or Sell              4.8902         37.9923  \n",
       "16           Buy              3.7635          5.9562  \n",
       "17           Buy              2.8455         12.0824  \n",
       "18           Buy              0.9418          4.6287  \n",
       "19           Buy              7.4952         53.9729  \n",
       "20  Hold or Sell              3.5455         17.0667  \n",
       "21           Buy              1.4865          2.2458  \n",
       "22           Buy              2.1400         11.6025  \n",
       "23           Buy             16.5447        101.7257  \n",
       "24           Buy              2.8847          5.0124  \n",
       "25           Buy              2.7914         28.6119  \n",
       "26           Buy              2.8708          8.0382  \n",
       "27  Hold or Sell              2.1534        121.8912  \n",
       "28           Buy              2.3279          9.5259  \n",
       "29  Hold or Sell              1.0033         -0.8390  \n",
       "30  Hold or Sell              1.3102          1.3810  \n",
       "31  Hold or Sell              1.2090          1.1004  \n",
       "32           Buy              3.1837          5.3119  \n",
       "33           Buy              3.8919          5.5583  "
      ]
     },
     "execution_count": 5,
     "metadata": {},
     "output_type": "execute_result"
    }
   ],
   "source": [
    "summary_df = a.pred_summary_df(start_dates, stocks = [x for x in start_dates], days_back = 1)\n",
    "summary_df"
   ]
  },
  {
   "cell_type": "code",
   "execution_count": 6,
   "metadata": {},
   "outputs": [
    {
     "data": {
      "text/plain": [
       "(2.7217000000000002, 2.7919, 2.85815, 7.19555)"
      ]
     },
     "execution_count": 6,
     "metadata": {},
     "output_type": "execute_result"
    }
   ],
   "source": [
    "summary_df['1_Day_Model_Return'].median(), summary_df['3_Day_Model_Return'].median(), summary_df['5_Day_Model_Return'].median(), summary_df['Actual_Returns'].median()"
   ]
  },
  {
   "cell_type": "code",
   "execution_count": null,
   "metadata": {},
   "outputs": [],
   "source": []
  },
  {
   "cell_type": "code",
   "execution_count": null,
   "metadata": {},
   "outputs": [],
   "source": []
  },
  {
   "cell_type": "code",
   "execution_count": null,
   "metadata": {},
   "outputs": [],
   "source": []
  }
 ],
 "metadata": {
  "kernelspec": {
   "display_name": "Python 3",
   "language": "python",
   "name": "python3"
  },
  "language_info": {
   "codemirror_mode": {
    "name": "ipython",
    "version": 3
   },
   "file_extension": ".py",
   "mimetype": "text/x-python",
   "name": "python",
   "nbconvert_exporter": "python",
   "pygments_lexer": "ipython3",
   "version": "3.8.5"
  }
 },
 "nbformat": 4,
 "nbformat_minor": 4
}
