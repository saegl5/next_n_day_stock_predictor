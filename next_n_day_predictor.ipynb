{
 "cells": [
  {
   "cell_type": "code",
   "execution_count": 1,
   "metadata": {
    "scrolled": true
   },
   "outputs": [],
   "source": [
    "from src import attributes as a\n",
    "%load_ext autoreload\n",
    "%autoreload 2"
   ]
  },
  {
   "cell_type": "code",
   "execution_count": 2,
   "metadata": {},
   "outputs": [],
   "source": [
    "# Global Variables\n",
    "stock_name = 'msft' # ticker symbol\n",
    "train = 0 # 1 for train, 0 for pass\n",
    "days_ahead = 1 # for predicting 1, 3, or 5 days ahead\n",
    "days_back = -1 # -1 for current data point, -2 for two days ago, etc...\n",
    "cv = 5 # number of cross validation folds\n",
    "model_name = 'Random Forest Classifier' # for display on charts, not a tuning parameter"
   ]
  },
  {
   "cell_type": "code",
   "execution_count": 3,
   "metadata": {},
   "outputs": [],
   "source": [
    "# Extract, Transform, Load, and Train Test Split\n",
    "# Dictionary of IPO Dates\n",
    "start_dates = {'a': '11/15/1999' # Updated 2/14/21 1D, 3D, 5D ahead\n",
    "               , 'aapl':'12/12/1980' # Updated 2/14/21 1D, 3D, 5D ahead\n",
    "               , 'acy': '01/18/1998' # Updated 2/14/21 1D, 3D, 5D ahead\n",
    "               , 'adbe': '08/11/1986' # Updated 2/14/21 1D, 3D, 5D ahead\n",
    "               , 'alb': '02/21/1994' # Updated 2/14/21 1D, 3D, 5D ahead\n",
    "               , 'amat': '03/16/1980' # Updated 2/14/21 1D, 3D, 5D ahead\n",
    "               , 'amd': '03/17/1980' # Updated 2/14/21 1D, 3D, 5D ahead\n",
    "               , 'amgn': '06/13/1983' # Updated 2/14/21 1D, 3D, 5D ahead\n",
    "               , 'amzn': '05/12/1997' # Updated 2/14/21 1D, 3D, 5D ahead\n",
    "               , 'baba': '09/15/2014' # Updated 2/14/21 1D, 3D, 5D ahead\n",
    "               , 'bac': '02/19/1973' # Updated 2/14/21 1D, 3D, 5D ahead\n",
    "               , 'bpmc': '04/27/2015' # Updated 2/14/21 1D, 3D, 5D ahead\n",
    "               , 'crm': '06/23/2004' # Updated 2/14/21 1D, 3D, 5D ahead\n",
    "               , 'crsp': '10/16/2016' # Updated 2/14/21 1D, 3D, 5D ahead\n",
    "               , 'dq': '10/04/2010' # Updated 2/14/21 1D, 3D, 5D ahead\n",
    "               , 'esgv': '09/16/2018' # Updated 2/15/21 1D, 3D, 5D ahead\n",
    "               , 'fslr': '11/12/2006' # Updated 2/15/21 1D, 3D, 5D ahead\n",
    "               , 'goog': '08/16/2004' # Updated 2/15/21 1D, 3D, 5D ahead\n",
    "               , 'ibm': '01/02/1962' # Updated 2/15/21 1D, 3D, 5D ahead\n",
    "               , 'intc': '03/16/1980' # Updated 2/15/21 1D, 3D, 5D ahead\n",
    "               , 'iyw': '05/15/2000' # Updated 2/15/21 1D, 3D, 5D ahead\n",
    "               , 'lng': '04/04/1994' # Updated 2/15/21 1D, 3D, 5D ahead\n",
    "               , 'ma': '05/21/2006' # Updated 2/15/21 1D, 3D, 5D ahead\n",
    "               , 'mdb': '10/15/2017' # Updated 2/15/21 1D, 3D, 5D ahead\n",
    "               , 'msft': '03/10/1986' # Updated 2/15/21 1D, 3D, 5D ahead\n",
    "               , 'mu': '05/28/1984' # Updated 2/15/21 1D, 3D, 5D ahead\n",
    "               , 'nee': '02/19/1973' # Updated 2/15/21 1D, 3D, 5D ahead\n",
    "               , 'nio': '09/10/2018' # Updated 2/15/21 1D, 3D, 5D ahead\n",
    "               , 'nvda': '01/22/1999' # Updated 2/15/21 1D, 3D, 5D ahead\n",
    "               , 'pacb': '10/25/2010' # Updated 2/15/21 1D, 3D, 5D ahead\n",
    "               , 'pypl': '07/05/2015' # Updated 2/16/21 1D, 3D, 5D ahead\n",
    "               , 'qgen': '06/24/1996' # Updated 2/16/21 1D, 3D, 5D ahead\n",
    "               , 'run': '08/02/2015' # Updated 2/16/21 1D, 3D, 5D ahead\n",
    "               , 'okta': '04/03/2017' # Updated 2/16/21 1D, 3D, 5D ahead\n",
    "               , 'orcl': '03/10/1986' # Updated 2/16/21 1D, 3D, 5D ahead\n",
    "               , 'qqq': '03/08/1999' # Updated 2/16/21 1D, 3D, 5D ahead\n",
    "               , 'srpt': '06/02/1997' # Updated 2/16/21 1D, 3D, 5D ahead\n",
    "               , 'tpic': '07/17/2016' # Updated 2/16/21 1D, 3D, 5D ahead\n",
    "               , 'tsla': '06/29/2010' # Updated 2/16/21 1D, 3D, 5D ahead\n",
    "               , 'v': '03/16/2008' # Updated 2/16/21 1D, 3D, 5D ahead\n",
    "               , 'vbiv': '09/04/2002' # Updated 2/16/21 1D, 3D, 5D ahead\n",
    "               , 'vbr': '01/26/2004' # Updated 2/16/21 1D, 3D, 5D ahead\n",
    "               , 'viov': '09/06/2010' # Updated 2/16/21 1D, 3D, 5D ahead\n",
    "               , 'vgt': '01/26/2004' # Updated 2/16/21 1D, 3D, 5D ahead\n",
    "               , 'xlk': '12/21/1998' # Updated 2/16/21 1D, 3D, 5D ahead\n",
    "              }"
   ]
  },
  {
   "cell_type": "code",
   "execution_count": null,
   "metadata": {},
   "outputs": [],
   "source": []
  },
  {
   "cell_type": "code",
   "execution_count": null,
   "metadata": {},
   "outputs": [],
   "source": []
  },
  {
   "cell_type": "code",
   "execution_count": null,
   "metadata": {},
   "outputs": [],
   "source": []
  },
  {
   "cell_type": "code",
   "execution_count": 4,
   "metadata": {},
   "outputs": [],
   "source": [
    "# X_train, X_test, y_train, y_test, stock_df = a.data(stock_name, start_dates[stock_name], days_ahead)\n",
    "# stock_df.tail(10)"
   ]
  },
  {
   "cell_type": "code",
   "execution_count": 5,
   "metadata": {
    "scrolled": false
   },
   "outputs": [],
   "source": [
    "# GridSerach to find best hyperparameters to prevent overfitting, can be commented out once trained\n",
    "# if train == 1:\n",
    "#     a.rfc_GridSearch(X_train, y_train, stock_name, days_ahead, cv)\n",
    "# elif train == 0:\n",
    "#     pass"
   ]
  },
  {
   "cell_type": "code",
   "execution_count": 6,
   "metadata": {},
   "outputs": [],
   "source": [
    "# Load RandomForextClassifier Model\n",
    "# rfc_model, y_pred, y_probs = a.rfc(X_train, X_test, y_train, stock_name, days_ahead)"
   ]
  },
  {
   "cell_type": "code",
   "execution_count": 7,
   "metadata": {
    "scrolled": false
   },
   "outputs": [],
   "source": [
    "# ROC Curve\n",
    "# a.roc_plot(y_test, y_probs, stock_name, model_name)"
   ]
  },
  {
   "cell_type": "code",
   "execution_count": 8,
   "metadata": {
    "scrolled": false
   },
   "outputs": [],
   "source": [
    "# Precision Recall Curve\n",
    "# a.prec_recall(y_test, y_probs, stock_name, model_name)"
   ]
  },
  {
   "cell_type": "code",
   "execution_count": 9,
   "metadata": {
    "scrolled": false
   },
   "outputs": [],
   "source": [
    "# Confusion Matrix\n",
    "# a.confusion_matrix(rfc_model, X_test, y_test, stock_name)"
   ]
  },
  {
   "cell_type": "code",
   "execution_count": 10,
   "metadata": {},
   "outputs": [],
   "source": [
    "# Cross Validation\n",
    "# a.cross_validation(rfc_model\n",
    "#                    , stock_df[['oc', 'hl', '5stdev_adj', '5sma_adj']]\n",
    "#                    , stock_df['direction']\n",
    "#                    , cv = 5\n",
    "#                   )"
   ]
  },
  {
   "cell_type": "markdown",
   "metadata": {},
   "source": [
    "### Prediction..."
   ]
  },
  {
   "cell_type": "code",
   "execution_count": 11,
   "metadata": {
    "scrolled": true
   },
   "outputs": [],
   "source": [
    "# Prediction, use last day of data\n",
    "# stock_df.iloc[-1]"
   ]
  },
  {
   "cell_type": "code",
   "execution_count": 12,
   "metadata": {},
   "outputs": [],
   "source": [
    "# import numpy as np\n",
    "# last = stock_df[['oc', 'hl', '5stdev_adj', '5sma_adj']].iloc[-days_back]\n",
    "# last"
   ]
  },
  {
   "cell_type": "code",
   "execution_count": 13,
   "metadata": {},
   "outputs": [],
   "source": [
    "# stock_df['adj'].describe()"
   ]
  },
  {
   "cell_type": "code",
   "execution_count": 14,
   "metadata": {
    "scrolled": true
   },
   "outputs": [],
   "source": [
    "# if rfc_model.predict(np.array(last).reshape(1, -1))[0] == 1:\n",
    "#     print(f'Buy {stock_name} {days_ahead} day(s) ahead')\n",
    "# else:\n",
    "#     print(f'Sell or hold {stock_name} {days_ahead} day(s) ahead')"
   ]
  },
  {
   "cell_type": "markdown",
   "metadata": {},
   "source": [
    "### Strategy Returns..."
   ]
  },
  {
   "cell_type": "code",
   "execution_count": 15,
   "metadata": {},
   "outputs": [],
   "source": [
    "# returns on strategy column\n",
    "# stock_df['prediction'] = rfc_model.predict(stock_df[['oc', 'hl', '5stdev_adj', '5sma_adj']])\n",
    "# stock_df['returns'] = stock_df['adj'].shift(-1, fill_value = stock_df['adj'].median()) * stock_df['prediction']"
   ]
  },
  {
   "cell_type": "code",
   "execution_count": 16,
   "metadata": {},
   "outputs": [],
   "source": [
    "# stock_df.tail(5)"
   ]
  },
  {
   "cell_type": "code",
   "execution_count": 17,
   "metadata": {},
   "outputs": [],
   "source": [
    "# Don't trade every day!\n",
    "# import matplotlib.pyplot as plt\n",
    "# test_length = len(y_test)\n",
    "# (stock_df['returns'][-test_length:] + 1).cumprod().plot()\n",
    "# plt.title(f'{stock_name} Expected Returns %');"
   ]
  },
  {
   "cell_type": "code",
   "execution_count": 18,
   "metadata": {},
   "outputs": [],
   "source": [
    "# Model returns if bought on predictions of 1\n",
    "# returns_on_ones = []\n",
    "# for idx in range(-test_length, 0):\n",
    "#     if stock_df['prediction'][idx] == 1:\n",
    "#         returns_on_ones.append(1 + stock_df['returns'][idx])\n",
    "\n",
    "# returns = 1\n",
    "# for x in returns_on_ones:\n",
    "#     returns *= x\n",
    "# returns"
   ]
  },
  {
   "cell_type": "code",
   "execution_count": 19,
   "metadata": {},
   "outputs": [],
   "source": [
    "# multiple times original investment, not bad but..."
   ]
  },
  {
   "cell_type": "code",
   "execution_count": 20,
   "metadata": {},
   "outputs": [],
   "source": [
    "# If purchased in 2012 and left it until now\n",
    "# test_idx = int(len(stock_df)*0.75)\n",
    "# (stock_df['Close'][-1] - stock_df['Close'][-test_idx]) / stock_df['Close'][-test_idx]"
   ]
  },
  {
   "cell_type": "code",
   "execution_count": 21,
   "metadata": {},
   "outputs": [],
   "source": [
    "# Buy and hold strategy beats RandomForestClassifier in this study\n",
    "\n",
    "# Special thanks to Shagufta Tahsildar at https://blog.quantinsti.com/random-forest-algorithm-in-python/"
   ]
  },
  {
   "cell_type": "code",
   "execution_count": null,
   "metadata": {},
   "outputs": [],
   "source": []
  },
  {
   "cell_type": "code",
   "execution_count": null,
   "metadata": {},
   "outputs": [],
   "source": []
  },
  {
   "cell_type": "code",
   "execution_count": null,
   "metadata": {},
   "outputs": [],
   "source": []
  },
  {
   "cell_type": "markdown",
   "metadata": {},
   "source": [
    "### Training"
   ]
  },
  {
   "cell_type": "markdown",
   "metadata": {},
   "source": [
    "Training is done once a week on Saturday and Sunday"
   ]
  },
  {
   "cell_type": "code",
   "execution_count": 22,
   "metadata": {},
   "outputs": [
    {
     "data": {
      "text/plain": [
       "45"
      ]
     },
     "execution_count": 22,
     "metadata": {},
     "output_type": "execute_result"
    }
   ],
   "source": [
    "len(start_dates)"
   ]
  },
  {
   "cell_type": "code",
   "execution_count": 23,
   "metadata": {},
   "outputs": [
    {
     "data": {
      "text/plain": [
       "{'a': '11/15/1999',\n",
       " 'aapl': '12/12/1980',\n",
       " 'acy': '01/18/1998',\n",
       " 'adbe': '08/11/1986',\n",
       " 'alb': '02/21/1994',\n",
       " 'amat': '03/16/1980',\n",
       " 'amd': '03/17/1980',\n",
       " 'amgn': '06/13/1983',\n",
       " 'amzn': '05/12/1997',\n",
       " 'baba': '09/15/2014',\n",
       " 'bac': '02/19/1973',\n",
       " 'bpmc': '04/27/2015',\n",
       " 'crm': '06/23/2004',\n",
       " 'crsp': '10/16/2016',\n",
       " 'dq': '10/04/2010'}"
      ]
     },
     "execution_count": 23,
     "metadata": {},
     "output_type": "execute_result"
    }
   ],
   "source": [
    "import itertools as itr\n",
    "start_dates1 = dict(itr.islice(start_dates.items(), 0, 15))\n",
    "start_dates1"
   ]
  },
  {
   "cell_type": "code",
   "execution_count": 24,
   "metadata": {},
   "outputs": [
    {
     "data": {
      "text/plain": [
       "{'esgv': '09/16/2018',\n",
       " 'fslr': '11/12/2006',\n",
       " 'goog': '08/16/2004',\n",
       " 'ibm': '01/02/1962',\n",
       " 'intc': '03/16/1980',\n",
       " 'iyw': '05/15/2000',\n",
       " 'lng': '04/04/1994',\n",
       " 'ma': '05/21/2006',\n",
       " 'mdb': '10/15/2017',\n",
       " 'msft': '03/10/1986',\n",
       " 'mu': '05/28/1984',\n",
       " 'nee': '02/19/1973',\n",
       " 'nio': '09/10/2018',\n",
       " 'nvda': '01/22/1999',\n",
       " 'pacb': '10/25/2010'}"
      ]
     },
     "execution_count": 24,
     "metadata": {},
     "output_type": "execute_result"
    }
   ],
   "source": [
    "start_dates2 = dict(itr.islice(start_dates.items(), 15, 30))\n",
    "start_dates2"
   ]
  },
  {
   "cell_type": "code",
   "execution_count": 25,
   "metadata": {},
   "outputs": [
    {
     "data": {
      "text/plain": [
       "{'pypl': '07/05/2015',\n",
       " 'qgen': '06/24/1996',\n",
       " 'run': '08/02/2015',\n",
       " 'okta': '04/03/2017',\n",
       " 'orcl': '03/10/1986',\n",
       " 'qqq': '03/08/1999',\n",
       " 'srpt': '06/02/1997',\n",
       " 'tpic': '07/17/2016',\n",
       " 'tsla': '06/29/2010',\n",
       " 'v': '03/16/2008',\n",
       " 'vbiv': '09/04/2002',\n",
       " 'vbr': '01/26/2004',\n",
       " 'viov': '09/06/2010',\n",
       " 'vgt': '01/26/2004',\n",
       " 'xlk': '12/21/1998'}"
      ]
     },
     "execution_count": 25,
     "metadata": {},
     "output_type": "execute_result"
    }
   ],
   "source": [
    "start_dates3 = dict(itr.islice(start_dates.items(), 30, 45+1))\n",
    "start_dates3"
   ]
  },
  {
   "cell_type": "code",
   "execution_count": 26,
   "metadata": {},
   "outputs": [],
   "source": [
    "#Train 15 at a time!\n",
    "# stocks = [x for x in start_dates1]\n",
    "# days_ahead = [1, 3, 5]\n",
    "# cv = 5\n",
    "# for stock in stocks:\n",
    "#     for days in days_ahead:\n",
    "#         X_train, X_test, y_train, y_test, stock_df = a.data(stock, start_dates[stock], days)\n",
    "#         a.rfc_GridSearch(X_train, y_train, stock, days, cv)\n",
    "# len(stocks)\n",
    "\n",
    "# stocks = [x for x in start_dates2]\n",
    "# days_ahead = [1, 3, 5]\n",
    "# cv = 5\n",
    "# for stock in stocks:\n",
    "#     for days in days_ahead:\n",
    "#         X_train, X_test, y_train, y_test, stock_df = a.data(stock, start_dates[stock], days)\n",
    "#         a.rfc_GridSearch(X_train, y_train, stock, days, cv)\n",
    "# len(stocks)\n",
    "\n",
    "# stocks = [x for x in start_dates3]\n",
    "# days_ahead = [1, 3, 5]\n",
    "# cv = 5\n",
    "# for stock in stocks:\n",
    "#     for days in days_ahead:\n",
    "#         X_train, X_test, y_train, y_test, stock_df = a.data(stock, start_dates[stock], days)\n",
    "#         a.rfc_GridSearch(X_train, y_train, stock, days, cv)\n",
    "# len(stocks)\n",
    "\n",
    "# Train all, takes 15+ hours\n",
    "# stocks = [x for x in start_dates]\n",
    "# days_ahead = [1, 3, 5]\n",
    "# cv = 5\n",
    "# for stock in stocks:\n",
    "#     for days in days_ahead:\n",
    "#         X_train, X_test, y_train, y_test, stock_df = a.data(stock, start_dates[stock], days)\n",
    "#         a.rfc_GridSearch(X_train, y_train, stock, days, cv)\n",
    "# len(stocks)\n",
    "\n",
    "# Train desired stocks...takes less time\n",
    "# stocks = ['aapl']\n",
    "# days_ahead = [1, 3, 5]\n",
    "# cv = 5\n",
    "# for stock in stocks:\n",
    "#     for days in days_ahead:\n",
    "#         X_train, X_test, y_train, y_test, stock_df = a.data(stock, start_dates[stock], days)\n",
    "#         a.rfc_GridSearch(X_train, y_train, stock, days, cv)"
   ]
  },
  {
   "cell_type": "code",
   "execution_count": null,
   "metadata": {},
   "outputs": [],
   "source": []
  },
  {
   "cell_type": "code",
   "execution_count": null,
   "metadata": {},
   "outputs": [],
   "source": []
  },
  {
   "cell_type": "code",
   "execution_count": null,
   "metadata": {},
   "outputs": [],
   "source": []
  },
  {
   "cell_type": "markdown",
   "metadata": {},
   "source": [
    "### Display All Results"
   ]
  },
  {
   "cell_type": "code",
   "execution_count": 27,
   "metadata": {
    "scrolled": false
   },
   "outputs": [
    {
     "name": "stdout",
     "output_type": "stream",
     "text": [
      "Buy tsla 5 day(s) ahead\n",
      "Model Returns (x 100 for %): 1.8285\n",
      "Stock Returns (x 100 for %): 71.9309\n"
     ]
    },
    {
     "data": {
      "image/png": "[encoded data removed]",
      "text/plain": [
       "<Figure size 432x288 with 1 Axes>"
      ]
     },
     "metadata": {},
     "output_type": "display_data"
    },
    {
     "data": {
      "image/png": "[encoded data removed]",
      "text/plain": [
       "<Figure size 648x504 with 1 Axes>"
      ]
     },
     "metadata": {},
     "output_type": "display_data"
    },
    {
     "data": {
      "image/png": "[encoded data removed]",
      "text/plain": [
       "<Figure size 648x504 with 1 Axes>"
      ]
     },
     "metadata": {},
     "output_type": "display_data"
    },
    {
     "data": {
      "image/png": "[encoded data removed]",
      "text/plain": [
       "<Figure size 684x612 with 2 Axes>"
      ]
     },
     "metadata": {},
     "output_type": "display_data"
    }
   ],
   "source": [
    "stock_name = 'tsla'\n",
    "a.all_func(stock_name\n",
    "           , start_dates[stock_name]\n",
    "           , days_ahead = 5\n",
    "           , model_name = model_name\n",
    "           , days_back = 1\n",
    "          )"
   ]
  },
  {
   "cell_type": "code",
   "execution_count": null,
   "metadata": {},
   "outputs": [],
   "source": []
  },
  {
   "cell_type": "code",
   "execution_count": null,
   "metadata": {},
   "outputs": [],
   "source": []
  },
  {
   "cell_type": "code",
   "execution_count": null,
   "metadata": {},
   "outputs": [],
   "source": []
  },
  {
   "cell_type": "markdown",
   "metadata": {},
   "source": [
    "### Data Frame of Predictions 1 3 5 Days"
   ]
  },
  {
   "cell_type": "code",
   "execution_count": 28,
   "metadata": {},
   "outputs": [
    {
     "name": "stdout",
     "output_type": "stream",
     "text": [
      "Today's date: 2021-03-08\n"
     ]
    }
   ],
   "source": [
    "from datetime import date\n",
    "\n",
    "today = date.today()\n",
    "print(\"Today's date:\", today)"
   ]
  },
  {
   "cell_type": "code",
   "execution_count": 29,
   "metadata": {
    "scrolled": false
   },
   "outputs": [
    {
     "data": {
      "text/html": [
       "<div>\n",
       "<style scoped>\n",
       "    .dataframe tbody tr th:only-of-type {\n",
       "        vertical-align: middle;\n",
       "    }\n",
       "\n",
       "    .dataframe tbody tr th {\n",
       "        vertical-align: top;\n",
       "    }\n",
       "\n",
       "    .dataframe thead th {\n",
       "        text-align: right;\n",
       "    }\n",
       "</style>\n",
       "<table border=\"1\" class=\"dataframe\">\n",
       "  <thead>\n",
       "    <tr style=\"text-align: right;\">\n",
       "      <th></th>\n",
       "      <th>stock</th>\n",
       "      <th>1_Day_Pred</th>\n",
       "      <th>1_Day_Model_Return</th>\n",
       "      <th>3_Day_Pred</th>\n",
       "      <th>3_Day_Model_Return</th>\n",
       "      <th>5_Day_Pred</th>\n",
       "      <th>5_Day_Model_Return</th>\n",
       "      <th>Actual_Returns</th>\n",
       "    </tr>\n",
       "  </thead>\n",
       "  <tbody>\n",
       "    <tr>\n",
       "      <th>0</th>\n",
       "      <td>a</td>\n",
       "      <td>Buy</td>\n",
       "      <td>3.4526</td>\n",
       "      <td>Buy</td>\n",
       "      <td>3.9342</td>\n",
       "      <td>Buy</td>\n",
       "      <td>3.7720</td>\n",
       "      <td>6.2207</td>\n",
       "    </tr>\n",
       "    <tr>\n",
       "      <th>1</th>\n",
       "      <td>aapl</td>\n",
       "      <td>Buy</td>\n",
       "      <td>2.8351</td>\n",
       "      <td>Buy</td>\n",
       "      <td>4.5622</td>\n",
       "      <td>Buy</td>\n",
       "      <td>3.4071</td>\n",
       "      <td>299.7263</td>\n",
       "    </tr>\n",
       "    <tr>\n",
       "      <th>2</th>\n",
       "      <td>acy</td>\n",
       "      <td>Hold or Sell</td>\n",
       "      <td>0.4524</td>\n",
       "      <td>Hold or Sell</td>\n",
       "      <td>1.3032</td>\n",
       "      <td>Hold or Sell</td>\n",
       "      <td>0.3692</td>\n",
       "      <td>1.4472</td>\n",
       "    </tr>\n",
       "    <tr>\n",
       "      <th>3</th>\n",
       "      <td>adbe</td>\n",
       "      <td>Buy</td>\n",
       "      <td>7.2273</td>\n",
       "      <td>Buy</td>\n",
       "      <td>5.4065</td>\n",
       "      <td>Buy</td>\n",
       "      <td>6.5068</td>\n",
       "      <td>66.4695</td>\n",
       "    </tr>\n",
       "    <tr>\n",
       "      <th>4</th>\n",
       "      <td>alb</td>\n",
       "      <td>Buy</td>\n",
       "      <td>1.9314</td>\n",
       "      <td>Buy</td>\n",
       "      <td>1.8768</td>\n",
       "      <td>Buy</td>\n",
       "      <td>1.8104</td>\n",
       "      <td>11.9062</td>\n",
       "    </tr>\n",
       "    <tr>\n",
       "      <th>5</th>\n",
       "      <td>amat</td>\n",
       "      <td>Buy</td>\n",
       "      <td>6.0617</td>\n",
       "      <td>Buy</td>\n",
       "      <td>8.7194</td>\n",
       "      <td>Buy</td>\n",
       "      <td>8.6004</td>\n",
       "      <td>191.1080</td>\n",
       "    </tr>\n",
       "    <tr>\n",
       "      <th>6</th>\n",
       "      <td>amd</td>\n",
       "      <td>Buy</td>\n",
       "      <td>5.8881</td>\n",
       "      <td>Buy</td>\n",
       "      <td>9.4986</td>\n",
       "      <td>Buy</td>\n",
       "      <td>6.3362</td>\n",
       "      <td>14.2205</td>\n",
       "    </tr>\n",
       "    <tr>\n",
       "      <th>7</th>\n",
       "      <td>amgn</td>\n",
       "      <td>Hold or Sell</td>\n",
       "      <td>4.2762</td>\n",
       "      <td>Hold or Sell</td>\n",
       "      <td>4.2281</td>\n",
       "      <td>Hold or Sell</td>\n",
       "      <td>4.5789</td>\n",
       "      <td>23.6147</td>\n",
       "    </tr>\n",
       "    <tr>\n",
       "      <th>8</th>\n",
       "      <td>amzn</td>\n",
       "      <td>Buy</td>\n",
       "      <td>3.6601</td>\n",
       "      <td>Buy</td>\n",
       "      <td>3.4473</td>\n",
       "      <td>Buy</td>\n",
       "      <td>4.5206</td>\n",
       "      <td>96.1772</td>\n",
       "    </tr>\n",
       "    <tr>\n",
       "      <th>9</th>\n",
       "      <td>baba</td>\n",
       "      <td>Buy</td>\n",
       "      <td>1.1640</td>\n",
       "      <td>Buy</td>\n",
       "      <td>1.0780</td>\n",
       "      <td>Buy</td>\n",
       "      <td>1.0886</td>\n",
       "      <td>1.8584</td>\n",
       "    </tr>\n",
       "    <tr>\n",
       "      <th>10</th>\n",
       "      <td>bac</td>\n",
       "      <td>Hold or Sell</td>\n",
       "      <td>7.6597</td>\n",
       "      <td>Buy</td>\n",
       "      <td>4.2000</td>\n",
       "      <td>Buy</td>\n",
       "      <td>6.4803</td>\n",
       "      <td>7.1219</td>\n",
       "    </tr>\n",
       "    <tr>\n",
       "      <th>11</th>\n",
       "      <td>bpmc</td>\n",
       "      <td>Buy</td>\n",
       "      <td>2.0585</td>\n",
       "      <td>Buy</td>\n",
       "      <td>1.6279</td>\n",
       "      <td>Buy</td>\n",
       "      <td>1.6915</td>\n",
       "      <td>1.9396</td>\n",
       "    </tr>\n",
       "    <tr>\n",
       "      <th>12</th>\n",
       "      <td>crm</td>\n",
       "      <td>Buy</td>\n",
       "      <td>1.8776</td>\n",
       "      <td>Buy</td>\n",
       "      <td>2.0489</td>\n",
       "      <td>Buy</td>\n",
       "      <td>1.9015</td>\n",
       "      <td>14.1188</td>\n",
       "    </tr>\n",
       "    <tr>\n",
       "      <th>13</th>\n",
       "      <td>crsp</td>\n",
       "      <td>Buy</td>\n",
       "      <td>0.9579</td>\n",
       "      <td>Buy</td>\n",
       "      <td>0.5706</td>\n",
       "      <td>Buy</td>\n",
       "      <td>0.7137</td>\n",
       "      <td>5.0467</td>\n",
       "    </tr>\n",
       "    <tr>\n",
       "      <th>14</th>\n",
       "      <td>dq</td>\n",
       "      <td>Buy</td>\n",
       "      <td>4.5778</td>\n",
       "      <td>Buy</td>\n",
       "      <td>5.4411</td>\n",
       "      <td>Buy</td>\n",
       "      <td>4.9411</td>\n",
       "      <td>44.2104</td>\n",
       "    </tr>\n",
       "    <tr>\n",
       "      <th>15</th>\n",
       "      <td>esgv</td>\n",
       "      <td>Buy</td>\n",
       "      <td>1.1173</td>\n",
       "      <td>Buy</td>\n",
       "      <td>1.1467</td>\n",
       "      <td>Buy</td>\n",
       "      <td>1.0882</td>\n",
       "      <td>0.4190</td>\n",
       "    </tr>\n",
       "    <tr>\n",
       "      <th>16</th>\n",
       "      <td>fslr</td>\n",
       "      <td>Buy</td>\n",
       "      <td>1.9669</td>\n",
       "      <td>Buy</td>\n",
       "      <td>1.7294</td>\n",
       "      <td>Buy</td>\n",
       "      <td>1.6150</td>\n",
       "      <td>-0.3883</td>\n",
       "    </tr>\n",
       "    <tr>\n",
       "      <th>17</th>\n",
       "      <td>goog</td>\n",
       "      <td>Buy</td>\n",
       "      <td>2.4627</td>\n",
       "      <td>Buy</td>\n",
       "      <td>1.9076</td>\n",
       "      <td>Buy</td>\n",
       "      <td>3.2789</td>\n",
       "      <td>10.2759</td>\n",
       "    </tr>\n",
       "    <tr>\n",
       "      <th>18</th>\n",
       "      <td>ibm</td>\n",
       "      <td>Hold or Sell</td>\n",
       "      <td>2.6432</td>\n",
       "      <td>Hold or Sell</td>\n",
       "      <td>4.4322</td>\n",
       "      <td>Hold or Sell</td>\n",
       "      <td>3.3658</td>\n",
       "      <td>6.4180</td>\n",
       "    </tr>\n",
       "    <tr>\n",
       "      <th>19</th>\n",
       "      <td>intc</td>\n",
       "      <td>Buy</td>\n",
       "      <td>5.7116</td>\n",
       "      <td>Buy</td>\n",
       "      <td>5.8746</td>\n",
       "      <td>Buy</td>\n",
       "      <td>5.3995</td>\n",
       "      <td>39.6366</td>\n",
       "    </tr>\n",
       "    <tr>\n",
       "      <th>20</th>\n",
       "      <td>iyw</td>\n",
       "      <td>Buy</td>\n",
       "      <td>2.9075</td>\n",
       "      <td>Buy</td>\n",
       "      <td>4.9574</td>\n",
       "      <td>Buy</td>\n",
       "      <td>2.7053</td>\n",
       "      <td>5.8600</td>\n",
       "    </tr>\n",
       "    <tr>\n",
       "      <th>21</th>\n",
       "      <td>lng</td>\n",
       "      <td>Buy</td>\n",
       "      <td>1.3451</td>\n",
       "      <td>Hold or Sell</td>\n",
       "      <td>0.7613</td>\n",
       "      <td>Buy</td>\n",
       "      <td>0.9328</td>\n",
       "      <td>69.7087</td>\n",
       "    </tr>\n",
       "    <tr>\n",
       "      <th>22</th>\n",
       "      <td>ma</td>\n",
       "      <td>Hold or Sell</td>\n",
       "      <td>2.4934</td>\n",
       "      <td>Hold or Sell</td>\n",
       "      <td>3.0633</td>\n",
       "      <td>Hold or Sell</td>\n",
       "      <td>2.3877</td>\n",
       "      <td>15.4442</td>\n",
       "    </tr>\n",
       "    <tr>\n",
       "      <th>23</th>\n",
       "      <td>mdb</td>\n",
       "      <td>Hold or Sell</td>\n",
       "      <td>0.7204</td>\n",
       "      <td>Buy</td>\n",
       "      <td>0.6972</td>\n",
       "      <td>Buy</td>\n",
       "      <td>0.7087</td>\n",
       "      <td>3.0784</td>\n",
       "    </tr>\n",
       "    <tr>\n",
       "      <th>24</th>\n",
       "      <td>msft</td>\n",
       "      <td>Buy</td>\n",
       "      <td>9.0820</td>\n",
       "      <td>Buy</td>\n",
       "      <td>10.5398</td>\n",
       "      <td>Buy</td>\n",
       "      <td>7.5978</td>\n",
       "      <td>56.8626</td>\n",
       "    </tr>\n",
       "    <tr>\n",
       "      <th>25</th>\n",
       "      <td>mu</td>\n",
       "      <td>Buy</td>\n",
       "      <td>2.5720</td>\n",
       "      <td>Buy</td>\n",
       "      <td>2.5774</td>\n",
       "      <td>Buy</td>\n",
       "      <td>3.0293</td>\n",
       "      <td>16.3868</td>\n",
       "    </tr>\n",
       "    <tr>\n",
       "      <th>26</th>\n",
       "      <td>nee</td>\n",
       "      <td>Buy</td>\n",
       "      <td>3.5450</td>\n",
       "      <td>Buy</td>\n",
       "      <td>3.9693</td>\n",
       "      <td>Buy</td>\n",
       "      <td>3.5619</td>\n",
       "      <td>24.3068</td>\n",
       "    </tr>\n",
       "    <tr>\n",
       "      <th>27</th>\n",
       "      <td>nio</td>\n",
       "      <td>Buy</td>\n",
       "      <td>1.8124</td>\n",
       "      <td>Buy</td>\n",
       "      <td>1.4611</td>\n",
       "      <td>Buy</td>\n",
       "      <td>1.3048</td>\n",
       "      <td>6.0418</td>\n",
       "    </tr>\n",
       "    <tr>\n",
       "      <th>28</th>\n",
       "      <td>nvda</td>\n",
       "      <td>Buy</td>\n",
       "      <td>9.2787</td>\n",
       "      <td>Buy</td>\n",
       "      <td>11.8152</td>\n",
       "      <td>Buy</td>\n",
       "      <td>13.1558</td>\n",
       "      <td>137.5729</td>\n",
       "    </tr>\n",
       "    <tr>\n",
       "      <th>29</th>\n",
       "      <td>pacb</td>\n",
       "      <td>Buy</td>\n",
       "      <td>1.3127</td>\n",
       "      <td>Buy</td>\n",
       "      <td>1.3347</td>\n",
       "      <td>Buy</td>\n",
       "      <td>1.4604</td>\n",
       "      <td>8.8015</td>\n",
       "    </tr>\n",
       "    <tr>\n",
       "      <th>30</th>\n",
       "      <td>pypl</td>\n",
       "      <td>Buy</td>\n",
       "      <td>3.0808</td>\n",
       "      <td>Buy</td>\n",
       "      <td>1.8501</td>\n",
       "      <td>Buy</td>\n",
       "      <td>2.4853</td>\n",
       "      <td>4.7817</td>\n",
       "    </tr>\n",
       "    <tr>\n",
       "      <th>31</th>\n",
       "      <td>qgen</td>\n",
       "      <td>Buy</td>\n",
       "      <td>1.8115</td>\n",
       "      <td>Buy</td>\n",
       "      <td>2.3109</td>\n",
       "      <td>Buy</td>\n",
       "      <td>2.4267</td>\n",
       "      <td>7.1028</td>\n",
       "    </tr>\n",
       "    <tr>\n",
       "      <th>32</th>\n",
       "      <td>run</td>\n",
       "      <td>Buy</td>\n",
       "      <td>0.6449</td>\n",
       "      <td>Buy</td>\n",
       "      <td>0.9757</td>\n",
       "      <td>Buy</td>\n",
       "      <td>0.7967</td>\n",
       "      <td>7.5993</td>\n",
       "    </tr>\n",
       "    <tr>\n",
       "      <th>33</th>\n",
       "      <td>okta</td>\n",
       "      <td>Buy</td>\n",
       "      <td>1.1039</td>\n",
       "      <td>Buy</td>\n",
       "      <td>0.9272</td>\n",
       "      <td>Buy</td>\n",
       "      <td>0.9723</td>\n",
       "      <td>4.3864</td>\n",
       "    </tr>\n",
       "    <tr>\n",
       "      <th>34</th>\n",
       "      <td>orcl</td>\n",
       "      <td>Hold or Sell</td>\n",
       "      <td>3.4856</td>\n",
       "      <td>Hold or Sell</td>\n",
       "      <td>3.7137</td>\n",
       "      <td>Hold or Sell</td>\n",
       "      <td>3.8888</td>\n",
       "      <td>34.9843</td>\n",
       "    </tr>\n",
       "    <tr>\n",
       "      <th>35</th>\n",
       "      <td>qqq</td>\n",
       "      <td>Buy</td>\n",
       "      <td>2.9563</td>\n",
       "      <td>Buy</td>\n",
       "      <td>3.0746</td>\n",
       "      <td>Buy</td>\n",
       "      <td>3.0267</td>\n",
       "      <td>7.5425</td>\n",
       "    </tr>\n",
       "    <tr>\n",
       "      <th>36</th>\n",
       "      <td>srpt</td>\n",
       "      <td>Buy</td>\n",
       "      <td>1.4202</td>\n",
       "      <td>Buy</td>\n",
       "      <td>1.0154</td>\n",
       "      <td>Buy</td>\n",
       "      <td>1.6320</td>\n",
       "      <td>1.3158</td>\n",
       "    </tr>\n",
       "    <tr>\n",
       "      <th>37</th>\n",
       "      <td>tpic</td>\n",
       "      <td>Buy</td>\n",
       "      <td>1.0750</td>\n",
       "      <td>Buy</td>\n",
       "      <td>1.1818</td>\n",
       "      <td>Buy</td>\n",
       "      <td>1.0629</td>\n",
       "      <td>0.8748</td>\n",
       "    </tr>\n",
       "    <tr>\n",
       "      <th>38</th>\n",
       "      <td>tsla</td>\n",
       "      <td>Hold or Sell</td>\n",
       "      <td>2.8989</td>\n",
       "      <td>Buy</td>\n",
       "      <td>1.4376</td>\n",
       "      <td>Buy</td>\n",
       "      <td>1.8513</td>\n",
       "      <td>72.8163</td>\n",
       "    </tr>\n",
       "    <tr>\n",
       "      <th>39</th>\n",
       "      <td>v</td>\n",
       "      <td>Hold or Sell</td>\n",
       "      <td>2.6431</td>\n",
       "      <td>Hold or Sell</td>\n",
       "      <td>2.5492</td>\n",
       "      <td>Hold or Sell</td>\n",
       "      <td>2.8921</td>\n",
       "      <td>10.9941</td>\n",
       "    </tr>\n",
       "    <tr>\n",
       "      <th>40</th>\n",
       "      <td>vbiv</td>\n",
       "      <td>Buy</td>\n",
       "      <td>0.8534</td>\n",
       "      <td>Buy</td>\n",
       "      <td>1.2009</td>\n",
       "      <td>Buy</td>\n",
       "      <td>1.0965</td>\n",
       "      <td>-0.8462</td>\n",
       "    </tr>\n",
       "    <tr>\n",
       "      <th>41</th>\n",
       "      <td>vbr</td>\n",
       "      <td>Hold or Sell</td>\n",
       "      <td>1.4052</td>\n",
       "      <td>Hold or Sell</td>\n",
       "      <td>1.2913</td>\n",
       "      <td>Hold or Sell</td>\n",
       "      <td>1.3764</td>\n",
       "      <td>1.5162</td>\n",
       "    </tr>\n",
       "    <tr>\n",
       "      <th>42</th>\n",
       "      <td>viov</td>\n",
       "      <td>Hold or Sell</td>\n",
       "      <td>1.3780</td>\n",
       "      <td>Hold or Sell</td>\n",
       "      <td>1.2340</td>\n",
       "      <td>Hold or Sell</td>\n",
       "      <td>1.3180</td>\n",
       "      <td>1.3550</td>\n",
       "    </tr>\n",
       "    <tr>\n",
       "      <th>43</th>\n",
       "      <td>vgt</td>\n",
       "      <td>Buy</td>\n",
       "      <td>2.6975</td>\n",
       "      <td>Buy</td>\n",
       "      <td>2.9943</td>\n",
       "      <td>Buy</td>\n",
       "      <td>2.9883</td>\n",
       "      <td>4.8911</td>\n",
       "    </tr>\n",
       "    <tr>\n",
       "      <th>44</th>\n",
       "      <td>xlk</td>\n",
       "      <td>Buy</td>\n",
       "      <td>4.3777</td>\n",
       "      <td>Buy</td>\n",
       "      <td>4.9224</td>\n",
       "      <td>Buy</td>\n",
       "      <td>3.7353</td>\n",
       "      <td>5.6043</td>\n",
       "    </tr>\n",
       "  </tbody>\n",
       "</table>\n",
       "</div>"
      ],
      "text/plain": [
       "   stock    1_Day_Pred  1_Day_Model_Return    3_Day_Pred  3_Day_Model_Return  \\\n",
       "0      a           Buy              3.4526           Buy              3.9342   \n",
       "1   aapl           Buy              2.8351           Buy              4.5622   \n",
       "2    acy  Hold or Sell              0.4524  Hold or Sell              1.3032   \n",
       "3   adbe           Buy              7.2273           Buy              5.4065   \n",
       "4    alb           Buy              1.9314           Buy              1.8768   \n",
       "5   amat           Buy              6.0617           Buy              8.7194   \n",
       "6    amd           Buy              5.8881           Buy              9.4986   \n",
       "7   amgn  Hold or Sell              4.2762  Hold or Sell              4.2281   \n",
       "8   amzn           Buy              3.6601           Buy              3.4473   \n",
       "9   baba           Buy              1.1640           Buy              1.0780   \n",
       "10   bac  Hold or Sell              7.6597           Buy              4.2000   \n",
       "11  bpmc           Buy              2.0585           Buy              1.6279   \n",
       "12   crm           Buy              1.8776           Buy              2.0489   \n",
       "13  crsp           Buy              0.9579           Buy              0.5706   \n",
       "14    dq           Buy              4.5778           Buy              5.4411   \n",
       "15  esgv           Buy              1.1173           Buy              1.1467   \n",
       "16  fslr           Buy              1.9669           Buy              1.7294   \n",
       "17  goog           Buy              2.4627           Buy              1.9076   \n",
       "18   ibm  Hold or Sell              2.6432  Hold or Sell              4.4322   \n",
       "19  intc           Buy              5.7116           Buy              5.8746   \n",
       "20   iyw           Buy              2.9075           Buy              4.9574   \n",
       "21   lng           Buy              1.3451  Hold or Sell              0.7613   \n",
       "22    ma  Hold or Sell              2.4934  Hold or Sell              3.0633   \n",
       "23   mdb  Hold or Sell              0.7204           Buy              0.6972   \n",
       "24  msft           Buy              9.0820           Buy             10.5398   \n",
       "25    mu           Buy              2.5720           Buy              2.5774   \n",
       "26   nee           Buy              3.5450           Buy              3.9693   \n",
       "27   nio           Buy              1.8124           Buy              1.4611   \n",
       "28  nvda           Buy              9.2787           Buy             11.8152   \n",
       "29  pacb           Buy              1.3127           Buy              1.3347   \n",
       "30  pypl           Buy              3.0808           Buy              1.8501   \n",
       "31  qgen           Buy              1.8115           Buy              2.3109   \n",
       "32   run           Buy              0.6449           Buy              0.9757   \n",
       "33  okta           Buy              1.1039           Buy              0.9272   \n",
       "34  orcl  Hold or Sell              3.4856  Hold or Sell              3.7137   \n",
       "35   qqq           Buy              2.9563           Buy              3.0746   \n",
       "36  srpt           Buy              1.4202           Buy              1.0154   \n",
       "37  tpic           Buy              1.0750           Buy              1.1818   \n",
       "38  tsla  Hold or Sell              2.8989           Buy              1.4376   \n",
       "39     v  Hold or Sell              2.6431  Hold or Sell              2.5492   \n",
       "40  vbiv           Buy              0.8534           Buy              1.2009   \n",
       "41   vbr  Hold or Sell              1.4052  Hold or Sell              1.2913   \n",
       "42  viov  Hold or Sell              1.3780  Hold or Sell              1.2340   \n",
       "43   vgt           Buy              2.6975           Buy              2.9943   \n",
       "44   xlk           Buy              4.3777           Buy              4.9224   \n",
       "\n",
       "      5_Day_Pred  5_Day_Model_Return  Actual_Returns  \n",
       "0            Buy              3.7720          6.2207  \n",
       "1            Buy              3.4071        299.7263  \n",
       "2   Hold or Sell              0.3692          1.4472  \n",
       "3            Buy              6.5068         66.4695  \n",
       "4            Buy              1.8104         11.9062  \n",
       "5            Buy              8.6004        191.1080  \n",
       "6            Buy              6.3362         14.2205  \n",
       "7   Hold or Sell              4.5789         23.6147  \n",
       "8            Buy              4.5206         96.1772  \n",
       "9            Buy              1.0886          1.8584  \n",
       "10           Buy              6.4803          7.1219  \n",
       "11           Buy              1.6915          1.9396  \n",
       "12           Buy              1.9015         14.1188  \n",
       "13           Buy              0.7137          5.0467  \n",
       "14           Buy              4.9411         44.2104  \n",
       "15           Buy              1.0882          0.4190  \n",
       "16           Buy              1.6150         -0.3883  \n",
       "17           Buy              3.2789         10.2759  \n",
       "18  Hold or Sell              3.3658          6.4180  \n",
       "19           Buy              5.3995         39.6366  \n",
       "20           Buy              2.7053          5.8600  \n",
       "21           Buy              0.9328         69.7087  \n",
       "22  Hold or Sell              2.3877         15.4442  \n",
       "23           Buy              0.7087          3.0784  \n",
       "24           Buy              7.5978         56.8626  \n",
       "25           Buy              3.0293         16.3868  \n",
       "26           Buy              3.5619         24.3068  \n",
       "27           Buy              1.3048          6.0418  \n",
       "28           Buy             13.1558        137.5729  \n",
       "29           Buy              1.4604          8.8015  \n",
       "30           Buy              2.4853          4.7817  \n",
       "31           Buy              2.4267          7.1028  \n",
       "32           Buy              0.7967          7.5993  \n",
       "33           Buy              0.9723          4.3864  \n",
       "34  Hold or Sell              3.8888         34.9843  \n",
       "35           Buy              3.0267          7.5425  \n",
       "36           Buy              1.6320          1.3158  \n",
       "37           Buy              1.0629          0.8748  \n",
       "38           Buy              1.8513         72.8163  \n",
       "39  Hold or Sell              2.8921         10.9941  \n",
       "40           Buy              1.0965         -0.8462  \n",
       "41  Hold or Sell              1.3764          1.5162  \n",
       "42  Hold or Sell              1.3180          1.3550  \n",
       "43           Buy              2.9883          4.8911  \n",
       "44           Buy              3.7353          5.6043  "
      ]
     },
     "execution_count": 29,
     "metadata": {},
     "output_type": "execute_result"
    }
   ],
   "source": [
    "summary_df = a.pred_summary_df(start_dates, stocks = [x for x in start_dates], days_back = 1)\n",
    "summary_df"
   ]
  },
  {
   "cell_type": "code",
   "execution_count": 30,
   "metadata": {},
   "outputs": [
    {
     "data": {
      "text/plain": [
       "(2.572, 2.3109, 2.4853, 7.5425)"
      ]
     },
     "execution_count": 30,
     "metadata": {},
     "output_type": "execute_result"
    }
   ],
   "source": [
    "summary_df['1_Day_Model_Return'].median(), summary_df['3_Day_Model_Return'].median(), summary_df['5_Day_Model_Return'].median(), summary_df['Actual_Returns'].median()"
   ]
  },
  {
   "cell_type": "code",
   "execution_count": null,
   "metadata": {},
   "outputs": [],
   "source": []
  },
  {
   "cell_type": "code",
   "execution_count": null,
   "metadata": {},
   "outputs": [],
   "source": []
  },
  {
   "cell_type": "code",
   "execution_count": null,
   "metadata": {},
   "outputs": [],
   "source": []
  },
  {
   "cell_type": "code",
   "execution_count": null,
   "metadata": {},
   "outputs": [],
   "source": []
  }
 ],
 "metadata": {
  "kernelspec": {
   "display_name": "Python 3",
   "language": "python",
   "name": "python3"
  },
  "language_info": {
   "codemirror_mode": {
    "name": "ipython",
    "version": 3
   },
   "file_extension": ".py",
   "mimetype": "text/x-python",
   "name": "python",
   "nbconvert_exporter": "python",
   "pygments_lexer": "ipython3",
   "version": "3.8.5"
  }
 },
 "nbformat": 4,
 "nbformat_minor": 4
}
