{
 "cells": [
  {
   "cell_type": "code",
   "execution_count": 1,
   "metadata": {
    "scrolled": true
   },
   "outputs": [],
   "source": [
    "from src import attributes as a\n",
    "%load_ext autoreload\n",
    "%autoreload 2"
   ]
  },
  {
   "cell_type": "code",
   "execution_count": 2,
   "metadata": {},
   "outputs": [],
   "source": [
    "# Global Variables\n",
    "stock_name = 'msft' # ticker symbol\n",
    "train = 0 # 1 for train, 0 for pass\n",
    "days_ahead = 1 # for predicting 1, 3, or 5 days ahead\n",
    "days_back = -1 # -1 for current data point, -2 for two days ago, etc...\n",
    "cv = 5 # number of cross validation folds\n",
    "model_name = 'Random Forest Classifier' # for display on charts, not a tuning parameter"
   ]
  },
  {
   "cell_type": "code",
   "execution_count": 3,
   "metadata": {},
   "outputs": [],
   "source": [
    "# Extract, Transform, Load, and Train Test Split\n",
    "# Dictionary of IPO Dates\n",
    "start_dates = {'a': '11/15/1999' # Updated 1/17/21 1D, 3D, 5D ahead\n",
    "               , 'aapl':'12/12/1980' # Updated 1/17/21 1D, 3D, 5D ahead\n",
    "               , 'acy': '01/18/1998' # Updated 1/17/21 1D, 3D, 5D ahead\n",
    "               , 'adbe': '08/11/1986' # Updated 1/17/21 1D, 3D, 5D ahead\n",
    "               , 'alb': '02/21/1994' # Updated 1/17/21 1D, 3D, 5D ahead\n",
    "               , 'amat': '03/16/1980' # Updated 1/17/21 1D, 3D, 5D ahead\n",
    "               , 'amd': '03/17/1980' # Updated 1/17/21 1D, 3D, 5D ahead\n",
    "               , 'amgn': '06/13/1983' # Updated 2/5/21 1D, 3D, 5D ahead\n",
    "               , 'amzn': '05/12/1997' # Updated 1/17/21 1D, 3D, 5D ahead\n",
    "               , 'baba': '09/15/2014' # Updated 1/17/21 1D, 3D, 5D ahead\n",
    "               , 'bac': '02/19/1973' # Updated 1/17/21 1D, 3D, 5D ahead\n",
    "               , 'bpmc': '04/27/2015' # Updated 1/17/21 1D, 3D, 5D ahead\n",
    "               , 'crm': '06/23/2004' # Updated 1/17/21 1D, 3D, 5D ahead\n",
    "               , 'crsp': '10/16/2016' # Updated 1/17/21 1D, 3D, 5D ahead\n",
    "               , 'dq': '10/04/2010' # Updated 1/17/21 1D, 3D, 5D ahead\n",
    "               , 'esgv': '09/16/2018' # Updated 1/17/21 1D, 3D, 5D ahead\n",
    "               , 'fslr': '11/12/2006' # Updated 1/17/21 1D, 3D, 5D ahead\n",
    "               , 'goog': '08/16/2004' # Updated 1/17/21 1D, 3D, 5D ahead\n",
    "               , 'ibm': '01/02/1962' # Updated 1/17/21 1D, 3D, 5D ahead\n",
    "               , 'intc': '03/16/1980' # Updated 1/17/21 1D, 3D, 5D ahead\n",
    "               , 'iyw': '05/15/2000' # Updated 1/17/21 1D, 3D, 5D ahead\n",
    "               , 'lng': '04/04/1994' # Updated 1/17/21 1D, 3D, 5D ahead\n",
    "               , 'ma': '05/21/2006' # Updated 1/17/21 1D, 3D, 5D ahead\n",
    "               , 'mdb': '10/15/2017' # Updated 1/17/21 1D, 3D, 5D ahead\n",
    "               , 'msft': '03/10/1986' # Updated 1/17/21 1D, 3D, 5D ahead\n",
    "               , 'mu': '05/28/1984' # Updated 1/17/21 1D, 3D, 5D ahead\n",
    "               , 'nee': '02/19/1973' # Updated 1/17/21 1D, 3D, 5D ahead\n",
    "               , 'nga': '10/08/2020' # Updated 1/17/21 1D, 3D, 5D ahead\n",
    "               , 'nio': '09/10/2018' # Updated 1/17/21 1D, 3D, 5D ahead\n",
    "               , 'nvda': '01/22/1999' # Updated 1/17/21 1D, 3D, 5D ahead\n",
    "               , 'pacb': '10/25/2010' # Updated 1/17/21 1D, 3D, 5D ahead\n",
    "               , 'pypl': '07/05/2015' # Updated 1/17/21 1D, 3D, 5D ahead\n",
    "               , 'qgen': '06/24/1996' # Updated 1/17/21 1D, 3D, 5D ahead\n",
    "               , 'run': '08/02/2015' # Updated 1/17/21 1D, 3D, 5D ahead\n",
    "               , 'orcl': '03/10/1986' # Updated 1/17/21 1D, 3D, 5D ahead\n",
    "               , 'qqq': '03/08/1999' # Updated 1/17/21 1D, 3D, 5D ahead\n",
    "               , 'srpt': '06/02/1997' # Updated 1/17/21 1D, 3D, 5D ahead\n",
    "               , 'tpic': '07/17/2016' # Updated 1/17/21 1D, 3D, 5D ahead\n",
    "               , 'tsla': '06/29/2010' # Updated 1/17/21 1D, 3D, 5D ahead\n",
    "               , 'v': '03/16/2008' # Updated 1/17/21 1D, 3D, 5D ahead\n",
    "               , 'vbiv': '09/04/2002' # Updated 1/17/21 1D, 3D, 5D ahead\n",
    "               , 'vbr': '01/26/2004' # Updated 1/17/21 1D, 3D, 5D ahead\n",
    "               , 'viov': '09/06/2010' # Updated 1/17/21 1D, 3D, 5D ahead\n",
    "               , 'vgt': '01/26/2004' # Updated 1/17/21 1D, 3D, 5D ahead\n",
    "               , 'xlk': '12/21/1998' # Updated 1/17/21 1D, 3D, 5D ahead\n",
    "              }"
   ]
  },
  {
   "cell_type": "code",
   "execution_count": null,
   "metadata": {},
   "outputs": [],
   "source": []
  },
  {
   "cell_type": "code",
   "execution_count": null,
   "metadata": {},
   "outputs": [],
   "source": []
  },
  {
   "cell_type": "code",
   "execution_count": null,
   "metadata": {},
   "outputs": [],
   "source": []
  },
  {
   "cell_type": "code",
   "execution_count": 4,
   "metadata": {},
   "outputs": [],
   "source": [
    "# X_train, X_test, y_train, y_test, stock_df = a.data(stock_name, start_dates[stock_name], days_ahead)\n",
    "# stock_df.tail(10)"
   ]
  },
  {
   "cell_type": "code",
   "execution_count": 5,
   "metadata": {
    "scrolled": false
   },
   "outputs": [],
   "source": [
    "# GridSerach to find best hyperparameters to prevent overfitting, can be commented out once trained\n",
    "# if train == 1:\n",
    "#     a.rfc_GridSearch(X_train, y_train, stock_name, days_ahead, cv)\n",
    "# elif train == 0:\n",
    "#     pass"
   ]
  },
  {
   "cell_type": "code",
   "execution_count": 6,
   "metadata": {},
   "outputs": [],
   "source": [
    "# Load RandomForextClassifier Model\n",
    "# rfc_model, y_pred, y_probs = a.rfc(X_train, X_test, y_train, stock_name, days_ahead)"
   ]
  },
  {
   "cell_type": "code",
   "execution_count": 7,
   "metadata": {
    "scrolled": false
   },
   "outputs": [],
   "source": [
    "# ROC Curve\n",
    "# a.roc_plot(y_test, y_probs, stock_name, model_name)"
   ]
  },
  {
   "cell_type": "code",
   "execution_count": 8,
   "metadata": {
    "scrolled": false
   },
   "outputs": [],
   "source": [
    "# Precision Recall Curve\n",
    "# a.prec_recall(y_test, y_probs, stock_name, model_name)"
   ]
  },
  {
   "cell_type": "code",
   "execution_count": 9,
   "metadata": {
    "scrolled": false
   },
   "outputs": [],
   "source": [
    "# Confusion Matrix\n",
    "# a.confusion_matrix(rfc_model, X_test, y_test, stock_name)"
   ]
  },
  {
   "cell_type": "code",
   "execution_count": 10,
   "metadata": {},
   "outputs": [],
   "source": [
    "# Cross Validation\n",
    "# a.cross_validation(rfc_model\n",
    "#                    , stock_df[['oc', 'hl', '5stdev_adj', '5sma_adj']]\n",
    "#                    , stock_df['direction']\n",
    "#                    , cv = 5\n",
    "#                   )"
   ]
  },
  {
   "cell_type": "markdown",
   "metadata": {},
   "source": [
    "### Prediction..."
   ]
  },
  {
   "cell_type": "code",
   "execution_count": 11,
   "metadata": {
    "scrolled": true
   },
   "outputs": [],
   "source": [
    "# Prediction, use last day of data\n",
    "# stock_df.iloc[-1]"
   ]
  },
  {
   "cell_type": "code",
   "execution_count": 12,
   "metadata": {},
   "outputs": [],
   "source": [
    "# import numpy as np\n",
    "# last = stock_df[['oc', 'hl', '5stdev_adj', '5sma_adj']].iloc[-days_back]\n",
    "# last"
   ]
  },
  {
   "cell_type": "code",
   "execution_count": 13,
   "metadata": {},
   "outputs": [],
   "source": [
    "# stock_df['adj'].describe()"
   ]
  },
  {
   "cell_type": "code",
   "execution_count": 14,
   "metadata": {
    "scrolled": true
   },
   "outputs": [],
   "source": [
    "# if rfc_model.predict(np.array(last).reshape(1, -1))[0] == 1:\n",
    "#     print(f'Buy {stock_name} {days_ahead} day(s) ahead')\n",
    "# else:\n",
    "#     print(f'Sell or hold {stock_name} {days_ahead} day(s) ahead')"
   ]
  },
  {
   "cell_type": "markdown",
   "metadata": {},
   "source": [
    "### Strategy Returns..."
   ]
  },
  {
   "cell_type": "code",
   "execution_count": 15,
   "metadata": {},
   "outputs": [],
   "source": [
    "# returns on strategy column\n",
    "# stock_df['prediction'] = rfc_model.predict(stock_df[['oc', 'hl', '5stdev_adj', '5sma_adj']])\n",
    "# stock_df['returns'] = stock_df['adj'].shift(-1, fill_value = stock_df['adj'].median()) * stock_df['prediction']"
   ]
  },
  {
   "cell_type": "code",
   "execution_count": 16,
   "metadata": {},
   "outputs": [],
   "source": [
    "# stock_df.tail(5)"
   ]
  },
  {
   "cell_type": "code",
   "execution_count": 17,
   "metadata": {},
   "outputs": [],
   "source": [
    "# Don't trade every day!\n",
    "# import matplotlib.pyplot as plt\n",
    "# test_length = len(y_test)\n",
    "# (stock_df['returns'][-test_length:] + 1).cumprod().plot()\n",
    "# plt.title(f'{stock_name} Expected Returns %');"
   ]
  },
  {
   "cell_type": "code",
   "execution_count": 18,
   "metadata": {},
   "outputs": [],
   "source": [
    "# Model returns if bought on predictions of 1\n",
    "# returns_on_ones = []\n",
    "# for idx in range(-test_length, 0):\n",
    "#     if stock_df['prediction'][idx] == 1:\n",
    "#         returns_on_ones.append(1 + stock_df['returns'][idx])\n",
    "\n",
    "# returns = 1\n",
    "# for x in returns_on_ones:\n",
    "#     returns *= x\n",
    "# returns"
   ]
  },
  {
   "cell_type": "code",
   "execution_count": 19,
   "metadata": {},
   "outputs": [],
   "source": [
    "# multiple times original investment, not bad but..."
   ]
  },
  {
   "cell_type": "code",
   "execution_count": 20,
   "metadata": {},
   "outputs": [],
   "source": [
    "# If purchased in 2012 and left it until now\n",
    "# test_idx = int(len(stock_df)*0.75)\n",
    "# (stock_df['Close'][-1] - stock_df['Close'][-test_idx]) / stock_df['Close'][-test_idx]"
   ]
  },
  {
   "cell_type": "code",
   "execution_count": 21,
   "metadata": {},
   "outputs": [],
   "source": [
    "# Buy and hold strategy beats RandomForestClassifier in this study\n",
    "\n",
    "# Special thanks to Shagufta Tahsildar at https://blog.quantinsti.com/random-forest-algorithm-in-python/"
   ]
  },
  {
   "cell_type": "code",
   "execution_count": null,
   "metadata": {},
   "outputs": [],
   "source": []
  },
  {
   "cell_type": "code",
   "execution_count": null,
   "metadata": {},
   "outputs": [],
   "source": []
  },
  {
   "cell_type": "code",
   "execution_count": null,
   "metadata": {},
   "outputs": [],
   "source": []
  },
  {
   "cell_type": "markdown",
   "metadata": {},
   "source": [
    "### Training"
   ]
  },
  {
   "cell_type": "markdown",
   "metadata": {},
   "source": [
    "Training is done once a week on Saturday and Sunday"
   ]
  },
  {
   "cell_type": "code",
   "execution_count": 22,
   "metadata": {},
   "outputs": [
    {
     "data": {
      "text/plain": [
       "45"
      ]
     },
     "execution_count": 22,
     "metadata": {},
     "output_type": "execute_result"
    }
   ],
   "source": [
    "len(start_dates)"
   ]
  },
  {
   "cell_type": "code",
   "execution_count": 23,
   "metadata": {},
   "outputs": [
    {
     "data": {
      "text/plain": [
       "{'a': '11/15/1999',\n",
       " 'aapl': '12/12/1980',\n",
       " 'acy': '01/18/1998',\n",
       " 'adbe': '08/11/1986',\n",
       " 'alb': '02/21/1994',\n",
       " 'amat': '03/16/1980',\n",
       " 'amd': '03/17/1980',\n",
       " 'amgn': '06/13/1983',\n",
       " 'amzn': '05/12/1997',\n",
       " 'baba': '09/15/2014',\n",
       " 'bac': '02/19/1973',\n",
       " 'bpmc': '04/27/2015',\n",
       " 'crm': '06/23/2004',\n",
       " 'crsp': '10/16/2016',\n",
       " 'dq': '10/04/2010'}"
      ]
     },
     "execution_count": 23,
     "metadata": {},
     "output_type": "execute_result"
    }
   ],
   "source": [
    "import itertools as itr\n",
    "start_dates1 = dict(itr.islice(start_dates.items(), 0, 15))\n",
    "start_dates1"
   ]
  },
  {
   "cell_type": "code",
   "execution_count": 24,
   "metadata": {},
   "outputs": [
    {
     "data": {
      "text/plain": [
       "{'esgv': '09/16/2018',\n",
       " 'fslr': '11/12/2006',\n",
       " 'goog': '08/16/2004',\n",
       " 'ibm': '01/02/1962',\n",
       " 'intc': '03/16/1980',\n",
       " 'iyw': '05/15/2000',\n",
       " 'lng': '04/04/1994',\n",
       " 'ma': '05/21/2006',\n",
       " 'mdb': '10/15/2017',\n",
       " 'msft': '03/10/1986',\n",
       " 'mu': '05/28/1984',\n",
       " 'nee': '02/19/1973',\n",
       " 'nga': '10/08/2020',\n",
       " 'nio': '09/10/2018',\n",
       " 'nvda': '01/22/1999'}"
      ]
     },
     "execution_count": 24,
     "metadata": {},
     "output_type": "execute_result"
    }
   ],
   "source": [
    "start_dates2 = dict(itr.islice(start_dates.items(), 15, 30))\n",
    "start_dates2"
   ]
  },
  {
   "cell_type": "code",
   "execution_count": 25,
   "metadata": {},
   "outputs": [
    {
     "data": {
      "text/plain": [
       "{'pacb': '10/25/2010',\n",
       " 'pypl': '07/05/2015',\n",
       " 'qgen': '06/24/1996',\n",
       " 'run': '08/02/2015',\n",
       " 'orcl': '03/10/1986',\n",
       " 'qqq': '03/08/1999',\n",
       " 'srpt': '06/02/1997',\n",
       " 'tpic': '07/17/2016',\n",
       " 'tsla': '06/29/2010',\n",
       " 'v': '03/16/2008',\n",
       " 'vbiv': '09/04/2002',\n",
       " 'vbr': '01/26/2004',\n",
       " 'viov': '09/06/2010',\n",
       " 'vgt': '01/26/2004',\n",
       " 'xlk': '12/21/1998'}"
      ]
     },
     "execution_count": 25,
     "metadata": {},
     "output_type": "execute_result"
    }
   ],
   "source": [
    "start_dates3 = dict(itr.islice(start_dates.items(), 30, 45+1))\n",
    "start_dates3"
   ]
  },
  {
   "cell_type": "code",
   "execution_count": 26,
   "metadata": {},
   "outputs": [],
   "source": [
    "#Train 15 at a time!\n",
    "# stocks = [x for x in start_dates1]\n",
    "# days_ahead = [1, 3, 5]\n",
    "# cv = 5\n",
    "# for stock in stocks:\n",
    "#     for days in days_ahead:\n",
    "#         X_train, X_test, y_train, y_test, stock_df = a.data(stock, start_dates[stock], days)\n",
    "#         a.rfc_GridSearch(X_train, y_train, stock, days, cv)\n",
    "# len(stocks)\n",
    "\n",
    "# stocks = [x for x in start_dates2]\n",
    "# days_ahead = [1, 3, 5]\n",
    "# cv = 5\n",
    "# for stock in stocks:\n",
    "#     for days in days_ahead:\n",
    "#         X_train, X_test, y_train, y_test, stock_df = a.data(stock, start_dates[stock], days)\n",
    "#         a.rfc_GridSearch(X_train, y_train, stock, days, cv)\n",
    "# len(stocks)\n",
    "\n",
    "# stocks = [x for x in start_dates3]\n",
    "# days_ahead = [1, 3, 5]\n",
    "# cv = 5\n",
    "# for stock in stocks:\n",
    "#     for days in days_ahead:\n",
    "#         X_train, X_test, y_train, y_test, stock_df = a.data(stock, start_dates[stock], days)\n",
    "#         a.rfc_GridSearch(X_train, y_train, stock, days, cv)\n",
    "# len(stocks)\n",
    "\n",
    "# Train all, takes 15+ hours\n",
    "# stocks = [x for x in start_dates]\n",
    "# days_ahead = [1, 3, 5]\n",
    "# cv = 5\n",
    "# for stock in stocks:\n",
    "#     for days in days_ahead:\n",
    "#         X_train, X_test, y_train, y_test, stock_df = a.data(stock, start_dates[stock], days)\n",
    "#         a.rfc_GridSearch(X_train, y_train, stock, days, cv)\n",
    "# len(stocks)\n",
    "\n",
    "# Train desired stocks...takes less time\n",
    "# stocks = ['nga']\n",
    "# days_ahead = [1, 3, 5]\n",
    "# cv = 5\n",
    "# for stock in stocks:\n",
    "#     for days in days_ahead:\n",
    "#         X_train, X_test, y_train, y_test, stock_df = a.data(stock, start_dates[stock], days)\n",
    "#         a.rfc_GridSearch(X_train, y_train, stock, days, cv)"
   ]
  },
  {
   "cell_type": "code",
   "execution_count": null,
   "metadata": {},
   "outputs": [],
   "source": []
  },
  {
   "cell_type": "code",
   "execution_count": null,
   "metadata": {},
   "outputs": [],
   "source": []
  },
  {
   "cell_type": "code",
   "execution_count": null,
   "metadata": {},
   "outputs": [],
   "source": []
  },
  {
   "cell_type": "markdown",
   "metadata": {},
   "source": [
    "### Display All Results"
   ]
  },
  {
   "cell_type": "code",
   "execution_count": 31,
   "metadata": {
    "scrolled": false
   },
   "outputs": [
    {
     "name": "stdout",
     "output_type": "stream",
     "text": [
      "Sell or hold aapl 1 day(s) ahead\n",
      "Model Returns (x 100 for %): 3.2727\n",
      "Stock Returns (x 100 for %): 347.4983\n"
     ]
    },
    {
     "data": {
      "image/png": "[encoded data removed]",
      "text/plain": [
       "<Figure size 684x612 with 1 Axes>"
      ]
     },
     "metadata": {},
     "output_type": "display_data"
    },
    {
     "data": {
      "image/png": "[encoded data removed]",
      "text/plain": [
       "<Figure size 648x504 with 1 Axes>"
      ]
     },
     "metadata": {},
     "output_type": "display_data"
    },
    {
     "data": {
      "image/png": "[encoded data removed]",
      "text/plain": [
       "<Figure size 648x504 with 1 Axes>"
      ]
     },
     "metadata": {},
     "output_type": "display_data"
    },
    {
     "data": {
      "image/png": "[encoded data removed]",
      "text/plain": [
       "<Figure size 684x612 with 2 Axes>"
      ]
     },
     "metadata": {},
     "output_type": "display_data"
    }
   ],
   "source": [
    "stock_name = 'aapl'\n",
    "a.all_func(stock_name\n",
    "           , start_dates[stock_name]\n",
    "           , days_ahead = 1\n",
    "           , model_name = model_name\n",
    "           , days_back = 1\n",
    "          )"
   ]
  },
  {
   "cell_type": "code",
   "execution_count": null,
   "metadata": {},
   "outputs": [],
   "source": []
  },
  {
   "cell_type": "code",
   "execution_count": null,
   "metadata": {},
   "outputs": [],
   "source": []
  },
  {
   "cell_type": "code",
   "execution_count": null,
   "metadata": {},
   "outputs": [],
   "source": []
  },
  {
   "cell_type": "markdown",
   "metadata": {},
   "source": [
    "### Data Frame of Predictions 1 3 5 Days"
   ]
  },
  {
   "cell_type": "code",
   "execution_count": 28,
   "metadata": {},
   "outputs": [
    {
     "name": "stdout",
     "output_type": "stream",
     "text": [
      "Today's date: 2021-02-09\n"
     ]
    }
   ],
   "source": [
    "from datetime import date\n",
    "\n",
    "today = date.today()\n",
    "print(\"Today's date:\", today)"
   ]
  },
  {
   "cell_type": "code",
   "execution_count": 29,
   "metadata": {
    "scrolled": false
   },
   "outputs": [
    {
     "data": {
      "text/html": [
       "<div>\n",
       "<style scoped>\n",
       "    .dataframe tbody tr th:only-of-type {\n",
       "        vertical-align: middle;\n",
       "    }\n",
       "\n",
       "    .dataframe tbody tr th {\n",
       "        vertical-align: top;\n",
       "    }\n",
       "\n",
       "    .dataframe thead th {\n",
       "        text-align: right;\n",
       "    }\n",
       "</style>\n",
       "<table border=\"1\" class=\"dataframe\">\n",
       "  <thead>\n",
       "    <tr style=\"text-align: right;\">\n",
       "      <th></th>\n",
       "      <th>stock</th>\n",
       "      <th>1_Day_Pred</th>\n",
       "      <th>1_Day_Model_Return</th>\n",
       "      <th>3_Day_Pred</th>\n",
       "      <th>3_Day_Model_Return</th>\n",
       "      <th>5_Day_Pred</th>\n",
       "      <th>5_Day_Model_Return</th>\n",
       "      <th>Actual_Returns</th>\n",
       "    </tr>\n",
       "  </thead>\n",
       "  <tbody>\n",
       "    <tr>\n",
       "      <th>0</th>\n",
       "      <td>a</td>\n",
       "      <td>Buy</td>\n",
       "      <td>3.9018</td>\n",
       "      <td>Buy</td>\n",
       "      <td>3.6056</td>\n",
       "      <td>Buy</td>\n",
       "      <td>4.1970</td>\n",
       "      <td>6.6407</td>\n",
       "    </tr>\n",
       "    <tr>\n",
       "      <th>1</th>\n",
       "      <td>aapl</td>\n",
       "      <td>Hold or Sell</td>\n",
       "      <td>3.0404</td>\n",
       "      <td>Hold or Sell</td>\n",
       "      <td>3.2888</td>\n",
       "      <td>Hold or Sell</td>\n",
       "      <td>4.7913</td>\n",
       "      <td>347.4983</td>\n",
       "    </tr>\n",
       "    <tr>\n",
       "      <th>2</th>\n",
       "      <td>acy</td>\n",
       "      <td>Buy</td>\n",
       "      <td>0.4851</td>\n",
       "      <td>Buy</td>\n",
       "      <td>1.0646</td>\n",
       "      <td>Buy</td>\n",
       "      <td>0.8775</td>\n",
       "      <td>2.1647</td>\n",
       "    </tr>\n",
       "    <tr>\n",
       "      <th>3</th>\n",
       "      <td>adbe</td>\n",
       "      <td>Hold or Sell</td>\n",
       "      <td>6.6945</td>\n",
       "      <td>Hold or Sell</td>\n",
       "      <td>7.0553</td>\n",
       "      <td>Hold or Sell</td>\n",
       "      <td>7.8176</td>\n",
       "      <td>100.9376</td>\n",
       "    </tr>\n",
       "    <tr>\n",
       "      <th>4</th>\n",
       "      <td>alb</td>\n",
       "      <td>Hold or Sell</td>\n",
       "      <td>1.7951</td>\n",
       "      <td>Hold or Sell</td>\n",
       "      <td>1.8157</td>\n",
       "      <td>Hold or Sell</td>\n",
       "      <td>1.8474</td>\n",
       "      <td>13.6043</td>\n",
       "    </tr>\n",
       "    <tr>\n",
       "      <th>5</th>\n",
       "      <td>amat</td>\n",
       "      <td>Hold or Sell</td>\n",
       "      <td>7.3718</td>\n",
       "      <td>Hold or Sell</td>\n",
       "      <td>7.1105</td>\n",
       "      <td>Hold or Sell</td>\n",
       "      <td>9.0401</td>\n",
       "      <td>186.4804</td>\n",
       "    </tr>\n",
       "    <tr>\n",
       "      <th>6</th>\n",
       "      <td>amd</td>\n",
       "      <td>Hold or Sell</td>\n",
       "      <td>7.1795</td>\n",
       "      <td>Hold or Sell</td>\n",
       "      <td>6.5912</td>\n",
       "      <td>Hold or Sell</td>\n",
       "      <td>7.7746</td>\n",
       "      <td>16.0177</td>\n",
       "    </tr>\n",
       "    <tr>\n",
       "      <th>7</th>\n",
       "      <td>amgn</td>\n",
       "      <td>Buy</td>\n",
       "      <td>4.2202</td>\n",
       "      <td>Buy</td>\n",
       "      <td>4.3584</td>\n",
       "      <td>Buy</td>\n",
       "      <td>4.8682</td>\n",
       "      <td>25.8630</td>\n",
       "    </tr>\n",
       "    <tr>\n",
       "      <th>8</th>\n",
       "      <td>amzn</td>\n",
       "      <td>Buy</td>\n",
       "      <td>3.1231</td>\n",
       "      <td>Buy</td>\n",
       "      <td>3.0785</td>\n",
       "      <td>Buy</td>\n",
       "      <td>3.5553</td>\n",
       "      <td>114.8222</td>\n",
       "    </tr>\n",
       "    <tr>\n",
       "      <th>9</th>\n",
       "      <td>baba</td>\n",
       "      <td>Buy</td>\n",
       "      <td>1.4044</td>\n",
       "      <td>Buy</td>\n",
       "      <td>1.4666</td>\n",
       "      <td>Buy</td>\n",
       "      <td>1.0891</td>\n",
       "      <td>2.4276</td>\n",
       "    </tr>\n",
       "    <tr>\n",
       "      <th>10</th>\n",
       "      <td>bac</td>\n",
       "      <td>Hold or Sell</td>\n",
       "      <td>6.1657</td>\n",
       "      <td>Hold or Sell</td>\n",
       "      <td>7.7383</td>\n",
       "      <td>Hold or Sell</td>\n",
       "      <td>8.2642</td>\n",
       "      <td>6.1788</td>\n",
       "    </tr>\n",
       "    <tr>\n",
       "      <th>11</th>\n",
       "      <td>bpmc</td>\n",
       "      <td>Hold or Sell</td>\n",
       "      <td>2.0833</td>\n",
       "      <td>Hold or Sell</td>\n",
       "      <td>1.7614</td>\n",
       "      <td>Hold or Sell</td>\n",
       "      <td>1.5957</td>\n",
       "      <td>2.4745</td>\n",
       "    </tr>\n",
       "    <tr>\n",
       "      <th>12</th>\n",
       "      <td>crm</td>\n",
       "      <td>Buy</td>\n",
       "      <td>2.4492</td>\n",
       "      <td>Buy</td>\n",
       "      <td>2.1670</td>\n",
       "      <td>Buy</td>\n",
       "      <td>2.3805</td>\n",
       "      <td>15.9064</td>\n",
       "    </tr>\n",
       "    <tr>\n",
       "      <th>13</th>\n",
       "      <td>crsp</td>\n",
       "      <td>Buy</td>\n",
       "      <td>0.9617</td>\n",
       "      <td>Buy</td>\n",
       "      <td>0.7019</td>\n",
       "      <td>Buy</td>\n",
       "      <td>1.0867</td>\n",
       "      <td>7.8649</td>\n",
       "    </tr>\n",
       "    <tr>\n",
       "      <th>14</th>\n",
       "      <td>dq</td>\n",
       "      <td>Hold or Sell</td>\n",
       "      <td>6.2472</td>\n",
       "      <td>Hold or Sell</td>\n",
       "      <td>6.7472</td>\n",
       "      <td>Hold or Sell</td>\n",
       "      <td>9.1256</td>\n",
       "      <td>69.3391</td>\n",
       "    </tr>\n",
       "    <tr>\n",
       "      <th>15</th>\n",
       "      <td>esgv</td>\n",
       "      <td>Hold or Sell</td>\n",
       "      <td>1.1561</td>\n",
       "      <td>Hold or Sell</td>\n",
       "      <td>1.1346</td>\n",
       "      <td>Hold or Sell</td>\n",
       "      <td>1.1545</td>\n",
       "      <td>0.4406</td>\n",
       "    </tr>\n",
       "    <tr>\n",
       "      <th>16</th>\n",
       "      <td>fslr</td>\n",
       "      <td>Hold or Sell</td>\n",
       "      <td>2.2963</td>\n",
       "      <td>Hold or Sell</td>\n",
       "      <td>2.2450</td>\n",
       "      <td>Hold or Sell</td>\n",
       "      <td>2.0141</td>\n",
       "      <td>-0.1873</td>\n",
       "    </tr>\n",
       "    <tr>\n",
       "      <th>17</th>\n",
       "      <td>goog</td>\n",
       "      <td>Buy</td>\n",
       "      <td>2.5051</td>\n",
       "      <td>Buy</td>\n",
       "      <td>2.1340</td>\n",
       "      <td>Buy</td>\n",
       "      <td>3.2595</td>\n",
       "      <td>11.1427</td>\n",
       "    </tr>\n",
       "    <tr>\n",
       "      <th>18</th>\n",
       "      <td>ibm</td>\n",
       "      <td>Hold or Sell</td>\n",
       "      <td>3.0353</td>\n",
       "      <td>Hold or Sell</td>\n",
       "      <td>4.0104</td>\n",
       "      <td>Hold or Sell</td>\n",
       "      <td>4.1729</td>\n",
       "      <td>6.5057</td>\n",
       "    </tr>\n",
       "    <tr>\n",
       "      <th>19</th>\n",
       "      <td>intc</td>\n",
       "      <td>Hold or Sell</td>\n",
       "      <td>5.6799</td>\n",
       "      <td>Hold or Sell</td>\n",
       "      <td>5.7952</td>\n",
       "      <td>Hold or Sell</td>\n",
       "      <td>5.7109</td>\n",
       "      <td>38.0334</td>\n",
       "    </tr>\n",
       "    <tr>\n",
       "      <th>20</th>\n",
       "      <td>iyw</td>\n",
       "      <td>Hold or Sell</td>\n",
       "      <td>2.8487</td>\n",
       "      <td>Hold or Sell</td>\n",
       "      <td>4.8400</td>\n",
       "      <td>Hold or Sell</td>\n",
       "      <td>3.4319</td>\n",
       "      <td>6.4251</td>\n",
       "    </tr>\n",
       "    <tr>\n",
       "      <th>21</th>\n",
       "      <td>lng</td>\n",
       "      <td>Hold or Sell</td>\n",
       "      <td>1.3583</td>\n",
       "      <td>Hold or Sell</td>\n",
       "      <td>1.0229</td>\n",
       "      <td>Hold or Sell</td>\n",
       "      <td>0.8549</td>\n",
       "      <td>52.0672</td>\n",
       "    </tr>\n",
       "    <tr>\n",
       "      <th>22</th>\n",
       "      <td>ma</td>\n",
       "      <td>Buy</td>\n",
       "      <td>2.5736</td>\n",
       "      <td>Buy</td>\n",
       "      <td>2.9090</td>\n",
       "      <td>Buy</td>\n",
       "      <td>2.7375</td>\n",
       "      <td>14.1740</td>\n",
       "    </tr>\n",
       "    <tr>\n",
       "      <th>23</th>\n",
       "      <td>mdb</td>\n",
       "      <td>Buy</td>\n",
       "      <td>0.9375</td>\n",
       "      <td>Buy</td>\n",
       "      <td>1.1040</td>\n",
       "      <td>Buy</td>\n",
       "      <td>1.0805</td>\n",
       "      <td>5.0188</td>\n",
       "    </tr>\n",
       "    <tr>\n",
       "      <th>24</th>\n",
       "      <td>msft</td>\n",
       "      <td>Buy</td>\n",
       "      <td>6.3258</td>\n",
       "      <td>Buy</td>\n",
       "      <td>7.6466</td>\n",
       "      <td>Buy</td>\n",
       "      <td>9.1069</td>\n",
       "      <td>59.4993</td>\n",
       "    </tr>\n",
       "    <tr>\n",
       "      <th>25</th>\n",
       "      <td>mu</td>\n",
       "      <td>Hold or Sell</td>\n",
       "      <td>2.5634</td>\n",
       "      <td>Hold or Sell</td>\n",
       "      <td>3.1461</td>\n",
       "      <td>Hold or Sell</td>\n",
       "      <td>3.0990</td>\n",
       "      <td>17.7209</td>\n",
       "    </tr>\n",
       "    <tr>\n",
       "      <th>26</th>\n",
       "      <td>nee</td>\n",
       "      <td>Buy</td>\n",
       "      <td>4.3529</td>\n",
       "      <td>Buy</td>\n",
       "      <td>6.2799</td>\n",
       "      <td>Buy</td>\n",
       "      <td>4.9481</td>\n",
       "      <td>28.8190</td>\n",
       "    </tr>\n",
       "    <tr>\n",
       "      <th>27</th>\n",
       "      <td>nga</td>\n",
       "      <td>Buy</td>\n",
       "      <td>0.9196</td>\n",
       "      <td>Buy</td>\n",
       "      <td>0.7517</td>\n",
       "      <td>Buy</td>\n",
       "      <td>0.9709</td>\n",
       "      <td>1.4965</td>\n",
       "    </tr>\n",
       "    <tr>\n",
       "      <th>28</th>\n",
       "      <td>nio</td>\n",
       "      <td>Hold or Sell</td>\n",
       "      <td>2.2896</td>\n",
       "      <td>Hold or Sell</td>\n",
       "      <td>2.3962</td>\n",
       "      <td>Hold or Sell</td>\n",
       "      <td>1.8371</td>\n",
       "      <td>10.8614</td>\n",
       "    </tr>\n",
       "    <tr>\n",
       "      <th>29</th>\n",
       "      <td>nvda</td>\n",
       "      <td>Hold or Sell</td>\n",
       "      <td>11.1137</td>\n",
       "      <td>Hold or Sell</td>\n",
       "      <td>9.0804</td>\n",
       "      <td>Hold or Sell</td>\n",
       "      <td>16.5667</td>\n",
       "      <td>118.0007</td>\n",
       "    </tr>\n",
       "    <tr>\n",
       "      <th>30</th>\n",
       "      <td>pacb</td>\n",
       "      <td>Hold or Sell</td>\n",
       "      <td>1.6014</td>\n",
       "      <td>Hold or Sell</td>\n",
       "      <td>1.4640</td>\n",
       "      <td>Hold or Sell</td>\n",
       "      <td>2.6621</td>\n",
       "      <td>13.5849</td>\n",
       "    </tr>\n",
       "    <tr>\n",
       "      <th>31</th>\n",
       "      <td>pypl</td>\n",
       "      <td>Hold or Sell</td>\n",
       "      <td>3.0323</td>\n",
       "      <td>Hold or Sell</td>\n",
       "      <td>3.1341</td>\n",
       "      <td>Hold or Sell</td>\n",
       "      <td>2.2521</td>\n",
       "      <td>6.3597</td>\n",
       "    </tr>\n",
       "    <tr>\n",
       "      <th>32</th>\n",
       "      <td>qgen</td>\n",
       "      <td>Hold or Sell</td>\n",
       "      <td>2.4269</td>\n",
       "      <td>Hold or Sell</td>\n",
       "      <td>2.2689</td>\n",
       "      <td>Hold or Sell</td>\n",
       "      <td>2.9159</td>\n",
       "      <td>7.9883</td>\n",
       "    </tr>\n",
       "    <tr>\n",
       "      <th>33</th>\n",
       "      <td>run</td>\n",
       "      <td>Hold or Sell</td>\n",
       "      <td>1.2996</td>\n",
       "      <td>Buy</td>\n",
       "      <td>1.1503</td>\n",
       "      <td>Buy</td>\n",
       "      <td>1.3300</td>\n",
       "      <td>13.4168</td>\n",
       "    </tr>\n",
       "    <tr>\n",
       "      <th>34</th>\n",
       "      <td>orcl</td>\n",
       "      <td>Buy</td>\n",
       "      <td>2.9485</td>\n",
       "      <td>Buy</td>\n",
       "      <td>3.2188</td>\n",
       "      <td>Buy</td>\n",
       "      <td>3.7704</td>\n",
       "      <td>30.1702</td>\n",
       "    </tr>\n",
       "    <tr>\n",
       "      <th>35</th>\n",
       "      <td>qqq</td>\n",
       "      <td>Hold or Sell</td>\n",
       "      <td>2.7501</td>\n",
       "      <td>Hold or Sell</td>\n",
       "      <td>3.3443</td>\n",
       "      <td>Hold or Sell</td>\n",
       "      <td>2.5116</td>\n",
       "      <td>8.6438</td>\n",
       "    </tr>\n",
       "    <tr>\n",
       "      <th>36</th>\n",
       "      <td>srpt</td>\n",
       "      <td>Buy</td>\n",
       "      <td>1.7684</td>\n",
       "      <td>Hold or Sell</td>\n",
       "      <td>2.0036</td>\n",
       "      <td>Buy</td>\n",
       "      <td>2.5458</td>\n",
       "      <td>1.6734</td>\n",
       "    </tr>\n",
       "    <tr>\n",
       "      <th>37</th>\n",
       "      <td>tpic</td>\n",
       "      <td>Hold or Sell</td>\n",
       "      <td>1.3594</td>\n",
       "      <td>Hold or Sell</td>\n",
       "      <td>1.9039</td>\n",
       "      <td>Hold or Sell</td>\n",
       "      <td>1.6052</td>\n",
       "      <td>2.4874</td>\n",
       "    </tr>\n",
       "    <tr>\n",
       "      <th>38</th>\n",
       "      <td>tsla</td>\n",
       "      <td>Buy</td>\n",
       "      <td>2.8421</td>\n",
       "      <td>Buy</td>\n",
       "      <td>2.1169</td>\n",
       "      <td>Hold or Sell</td>\n",
       "      <td>3.8561</td>\n",
       "      <td>123.5916</td>\n",
       "    </tr>\n",
       "    <tr>\n",
       "      <th>39</th>\n",
       "      <td>v</td>\n",
       "      <td>Buy</td>\n",
       "      <td>2.5027</td>\n",
       "      <td>Buy</td>\n",
       "      <td>2.5222</td>\n",
       "      <td>Buy</td>\n",
       "      <td>2.9679</td>\n",
       "      <td>9.8990</td>\n",
       "    </tr>\n",
       "    <tr>\n",
       "      <th>40</th>\n",
       "      <td>vbiv</td>\n",
       "      <td>Hold or Sell</td>\n",
       "      <td>3.0853</td>\n",
       "      <td>Hold or Sell</td>\n",
       "      <td>1.0126</td>\n",
       "      <td>Hold or Sell</td>\n",
       "      <td>1.9411</td>\n",
       "      <td>-0.8009</td>\n",
       "    </tr>\n",
       "    <tr>\n",
       "      <th>41</th>\n",
       "      <td>vbr</td>\n",
       "      <td>Hold or Sell</td>\n",
       "      <td>1.2292</td>\n",
       "      <td>Hold or Sell</td>\n",
       "      <td>1.0793</td>\n",
       "      <td>Hold or Sell</td>\n",
       "      <td>1.5872</td>\n",
       "      <td>1.4680</td>\n",
       "    </tr>\n",
       "    <tr>\n",
       "      <th>42</th>\n",
       "      <td>viov</td>\n",
       "      <td>Hold or Sell</td>\n",
       "      <td>1.1241</td>\n",
       "      <td>Hold or Sell</td>\n",
       "      <td>1.2917</td>\n",
       "      <td>Hold or Sell</td>\n",
       "      <td>1.1597</td>\n",
       "      <td>1.1055</td>\n",
       "    </tr>\n",
       "    <tr>\n",
       "      <th>43</th>\n",
       "      <td>vgt</td>\n",
       "      <td>Hold or Sell</td>\n",
       "      <td>3.0378</td>\n",
       "      <td>Hold or Sell</td>\n",
       "      <td>3.6718</td>\n",
       "      <td>Hold or Sell</td>\n",
       "      <td>3.2017</td>\n",
       "      <td>5.7123</td>\n",
       "    </tr>\n",
       "    <tr>\n",
       "      <th>44</th>\n",
       "      <td>xlk</td>\n",
       "      <td>Hold or Sell</td>\n",
       "      <td>3.6296</td>\n",
       "      <td>Hold or Sell</td>\n",
       "      <td>4.4995</td>\n",
       "      <td>Hold or Sell</td>\n",
       "      <td>5.2028</td>\n",
       "      <td>6.1592</td>\n",
       "    </tr>\n",
       "  </tbody>\n",
       "</table>\n",
       "</div>"
      ],
      "text/plain": [
       "   stock    1_Day_Pred  1_Day_Model_Return    3_Day_Pred  3_Day_Model_Return  \\\n",
       "0      a           Buy              3.9018           Buy              3.6056   \n",
       "1   aapl  Hold or Sell              3.0404  Hold or Sell              3.2888   \n",
       "2    acy           Buy              0.4851           Buy              1.0646   \n",
       "3   adbe  Hold or Sell              6.6945  Hold or Sell              7.0553   \n",
       "4    alb  Hold or Sell              1.7951  Hold or Sell              1.8157   \n",
       "5   amat  Hold or Sell              7.3718  Hold or Sell              7.1105   \n",
       "6    amd  Hold or Sell              7.1795  Hold or Sell              6.5912   \n",
       "7   amgn           Buy              4.2202           Buy              4.3584   \n",
       "8   amzn           Buy              3.1231           Buy              3.0785   \n",
       "9   baba           Buy              1.4044           Buy              1.4666   \n",
       "10   bac  Hold or Sell              6.1657  Hold or Sell              7.7383   \n",
       "11  bpmc  Hold or Sell              2.0833  Hold or Sell              1.7614   \n",
       "12   crm           Buy              2.4492           Buy              2.1670   \n",
       "13  crsp           Buy              0.9617           Buy              0.7019   \n",
       "14    dq  Hold or Sell              6.2472  Hold or Sell              6.7472   \n",
       "15  esgv  Hold or Sell              1.1561  Hold or Sell              1.1346   \n",
       "16  fslr  Hold or Sell              2.2963  Hold or Sell              2.2450   \n",
       "17  goog           Buy              2.5051           Buy              2.1340   \n",
       "18   ibm  Hold or Sell              3.0353  Hold or Sell              4.0104   \n",
       "19  intc  Hold or Sell              5.6799  Hold or Sell              5.7952   \n",
       "20   iyw  Hold or Sell              2.8487  Hold or Sell              4.8400   \n",
       "21   lng  Hold or Sell              1.3583  Hold or Sell              1.0229   \n",
       "22    ma           Buy              2.5736           Buy              2.9090   \n",
       "23   mdb           Buy              0.9375           Buy              1.1040   \n",
       "24  msft           Buy              6.3258           Buy              7.6466   \n",
       "25    mu  Hold or Sell              2.5634  Hold or Sell              3.1461   \n",
       "26   nee           Buy              4.3529           Buy              6.2799   \n",
       "27   nga           Buy              0.9196           Buy              0.7517   \n",
       "28   nio  Hold or Sell              2.2896  Hold or Sell              2.3962   \n",
       "29  nvda  Hold or Sell             11.1137  Hold or Sell              9.0804   \n",
       "30  pacb  Hold or Sell              1.6014  Hold or Sell              1.4640   \n",
       "31  pypl  Hold or Sell              3.0323  Hold or Sell              3.1341   \n",
       "32  qgen  Hold or Sell              2.4269  Hold or Sell              2.2689   \n",
       "33   run  Hold or Sell              1.2996           Buy              1.1503   \n",
       "34  orcl           Buy              2.9485           Buy              3.2188   \n",
       "35   qqq  Hold or Sell              2.7501  Hold or Sell              3.3443   \n",
       "36  srpt           Buy              1.7684  Hold or Sell              2.0036   \n",
       "37  tpic  Hold or Sell              1.3594  Hold or Sell              1.9039   \n",
       "38  tsla           Buy              2.8421           Buy              2.1169   \n",
       "39     v           Buy              2.5027           Buy              2.5222   \n",
       "40  vbiv  Hold or Sell              3.0853  Hold or Sell              1.0126   \n",
       "41   vbr  Hold or Sell              1.2292  Hold or Sell              1.0793   \n",
       "42  viov  Hold or Sell              1.1241  Hold or Sell              1.2917   \n",
       "43   vgt  Hold or Sell              3.0378  Hold or Sell              3.6718   \n",
       "44   xlk  Hold or Sell              3.6296  Hold or Sell              4.4995   \n",
       "\n",
       "      5_Day_Pred  5_Day_Model_Return  Actual_Returns  \n",
       "0            Buy              4.1970          6.6407  \n",
       "1   Hold or Sell              4.7913        347.4983  \n",
       "2            Buy              0.8775          2.1647  \n",
       "3   Hold or Sell              7.8176        100.9376  \n",
       "4   Hold or Sell              1.8474         13.6043  \n",
       "5   Hold or Sell              9.0401        186.4804  \n",
       "6   Hold or Sell              7.7746         16.0177  \n",
       "7            Buy              4.8682         25.8630  \n",
       "8            Buy              3.5553        114.8222  \n",
       "9            Buy              1.0891          2.4276  \n",
       "10  Hold or Sell              8.2642          6.1788  \n",
       "11  Hold or Sell              1.5957          2.4745  \n",
       "12           Buy              2.3805         15.9064  \n",
       "13           Buy              1.0867          7.8649  \n",
       "14  Hold or Sell              9.1256         69.3391  \n",
       "15  Hold or Sell              1.1545          0.4406  \n",
       "16  Hold or Sell              2.0141         -0.1873  \n",
       "17           Buy              3.2595         11.1427  \n",
       "18  Hold or Sell              4.1729          6.5057  \n",
       "19  Hold or Sell              5.7109         38.0334  \n",
       "20  Hold or Sell              3.4319          6.4251  \n",
       "21  Hold or Sell              0.8549         52.0672  \n",
       "22           Buy              2.7375         14.1740  \n",
       "23           Buy              1.0805          5.0188  \n",
       "24           Buy              9.1069         59.4993  \n",
       "25  Hold or Sell              3.0990         17.7209  \n",
       "26           Buy              4.9481         28.8190  \n",
       "27           Buy              0.9709          1.4965  \n",
       "28  Hold or Sell              1.8371         10.8614  \n",
       "29  Hold or Sell             16.5667        118.0007  \n",
       "30  Hold or Sell              2.6621         13.5849  \n",
       "31  Hold or Sell              2.2521          6.3597  \n",
       "32  Hold or Sell              2.9159          7.9883  \n",
       "33           Buy              1.3300         13.4168  \n",
       "34           Buy              3.7704         30.1702  \n",
       "35  Hold or Sell              2.5116          8.6438  \n",
       "36           Buy              2.5458          1.6734  \n",
       "37  Hold or Sell              1.6052          2.4874  \n",
       "38  Hold or Sell              3.8561        123.5916  \n",
       "39           Buy              2.9679          9.8990  \n",
       "40  Hold or Sell              1.9411         -0.8009  \n",
       "41  Hold or Sell              1.5872          1.4680  \n",
       "42  Hold or Sell              1.1597          1.1055  \n",
       "43  Hold or Sell              3.2017          5.7123  \n",
       "44  Hold or Sell              5.2028          6.1592  "
      ]
     },
     "execution_count": 29,
     "metadata": {},
     "output_type": "execute_result"
    }
   ],
   "source": [
    "summary_df = a.pred_summary_df(start_dates, stocks = [x for x in start_dates], days_back = 1)\n",
    "summary_df"
   ]
  },
  {
   "cell_type": "code",
   "execution_count": 30,
   "metadata": {},
   "outputs": [
    {
     "data": {
      "text/plain": [
       "(2.5736, 2.5222, 2.9159, 9.899)"
      ]
     },
     "execution_count": 30,
     "metadata": {},
     "output_type": "execute_result"
    }
   ],
   "source": [
    "summary_df['1_Day_Model_Return'].median(), summary_df['3_Day_Model_Return'].median(), summary_df['5_Day_Model_Return'].median(), summary_df['Actual_Returns'].median()"
   ]
  },
  {
   "cell_type": "code",
   "execution_count": null,
   "metadata": {},
   "outputs": [],
   "source": []
  },
  {
   "cell_type": "code",
   "execution_count": null,
   "metadata": {},
   "outputs": [],
   "source": []
  },
  {
   "cell_type": "code",
   "execution_count": null,
   "metadata": {},
   "outputs": [],
   "source": []
  },
  {
   "cell_type": "code",
   "execution_count": null,
   "metadata": {},
   "outputs": [],
   "source": []
  }
 ],
 "metadata": {
  "kernelspec": {
   "display_name": "Python 3",
   "language": "python",
   "name": "python3"
  },
  "language_info": {
   "codemirror_mode": {
    "name": "ipython",
    "version": 3
   },
   "file_extension": ".py",
   "mimetype": "text/x-python",
   "name": "python",
   "nbconvert_exporter": "python",
   "pygments_lexer": "ipython3",
   "version": "3.8.5"
  }
 },
 "nbformat": 4,
 "nbformat_minor": 4
}
